{
 "cells": [
  {
   "cell_type": "code",
   "execution_count": null,
   "metadata": {
    "id": "PRA4adyjdWcn"
   },
   "outputs": [],
   "source": [
    "import tensorflow as tf\n",
    "import matplotlib.image as img\n",
    "import numpy as np\n",
    "from collections import defaultdict\n",
    "import collections\n",
    "import matplotlib.pyplot as plt\n",
    "import os\n",
    "import random\n",
    "from tensorflow import keras\n",
    "from tensorflow.keras import models\n",
    "import pandas as pd\n",
    "import math\n",
    "from collections import Counter\n",
    "from sklearn.model_selection import train_test_split\n",
    "from sklearn.model_selection import GridSearchCV"
   ]
  },
  {
   "cell_type": "code",
   "execution_count": null,
   "metadata": {
    "colab": {
     "base_uri": "https://localhost:8080/"
    },
    "id": "y2NbzC-Kd4yP",
    "outputId": "d914636b-9359-4ce8-86e2-39bfe997a03a"
   },
   "outputs": [
    {
     "name": "stdout",
     "output_type": "stream",
     "text": [
      "2.8.2\n",
      "\n"
     ]
    }
   ],
   "source": [
    "# Check if GPU is enabled\n",
    "print(tf.__version__)\n",
    "print(tf.test.gpu_device_name())"
   ]
  },
  {
   "cell_type": "code",
   "execution_count": null,
   "metadata": {
    "colab": {
     "base_uri": "https://localhost:8080/"
    },
    "id": "-miIBab7lnn8",
    "outputId": "71afed83-e868-417a-ed57-6ab0caa0df39"
   },
   "outputs": [
    {
     "name": "stdout",
     "output_type": "stream",
     "text": [
      "Mounted at /content/drive\n"
     ]
    }
   ],
   "source": [
    "from google.colab import drive\n",
    "drive.mount('/content/drive')"
   ]
  },
  {
   "cell_type": "markdown",
   "metadata": {
    "id": "N5I3H70AHjIh"
   },
   "source": [
    "## Concatinate both legitmate & DGA domains"
   ]
  },
  {
   "cell_type": "code",
   "execution_count": null,
   "metadata": {
    "colab": {
     "base_uri": "https://localhost:8080/"
    },
    "id": "IQEdRlesI7gI",
    "outputId": "a6118673-4785-416b-af87-efe7d4f85ec0"
   },
   "outputs": [
    {
     "data": {
      "text/html": [
       "<div>\n",
       "<style scoped>\n",
       "    .dataframe tbody tr th:only-of-type {\n",
       "        vertical-align: middle;\n",
       "    }\n",
       "\n",
       "    .dataframe tbody tr th {\n",
       "        vertical-align: top;\n",
       "    }\n",
       "\n",
       "    .dataframe thead th {\n",
       "        text-align: right;\n",
       "    }\n",
       "</style>\n",
       "<table border=\"1\" class=\"dataframe\">\n",
       "  <thead>\n",
       "    <tr style=\"text-align: right;\">\n",
       "      <th></th>\n",
       "      <th>domain_name</th>\n",
       "      <th>label</th>\n",
       "      <th>domain</th>\n",
       "    </tr>\n",
       "  </thead>\n",
       "  <tbody>\n",
       "    <tr>\n",
       "      <th>0</th>\n",
       "      <td>odqzesdvd.info</td>\n",
       "      <td>dga</td>\n",
       "      <td>odqzesdvd</td>\n",
       "    </tr>\n",
       "    <tr>\n",
       "      <th>1</th>\n",
       "      <td>mcrwnxdzu.info</td>\n",
       "      <td>dga</td>\n",
       "      <td>mcrwnxdzu</td>\n",
       "    </tr>\n",
       "    <tr>\n",
       "      <th>2</th>\n",
       "      <td>poxrscvfoy.biz</td>\n",
       "      <td>dga</td>\n",
       "      <td>poxrscvfoy</td>\n",
       "    </tr>\n",
       "    <tr>\n",
       "      <th>3</th>\n",
       "      <td>dupzwi.info</td>\n",
       "      <td>dga</td>\n",
       "      <td>dupzwi</td>\n",
       "    </tr>\n",
       "    <tr>\n",
       "      <th>4</th>\n",
       "      <td>pgldibr.com</td>\n",
       "      <td>dga</td>\n",
       "      <td>pgldibr</td>\n",
       "    </tr>\n",
       "  </tbody>\n",
       "</table>\n",
       "</div>"
      ],
      "text/plain": [
       "      domain_name label      domain\n",
       "0  odqzesdvd.info   dga   odqzesdvd\n",
       "1  mcrwnxdzu.info   dga   mcrwnxdzu\n",
       "2  poxrscvfoy.biz   dga  poxrscvfoy\n",
       "3     dupzwi.info   dga      dupzwi\n",
       "4     pgldibr.com   dga     pgldibr"
      ]
     },
     "execution_count": 4,
     "metadata": {},
     "output_type": "execute_result"
    }
   ],
   "source": [
    "Domain_data = pd.read_csv('/content/drive/My Drive/Colab Notebooks/ADLDomain_Binary.csv')\n",
    "Domain_data.drop([\"Unnamed: 0\"], axis=1, inplace=True)\n",
    "Domain_data.head()"
   ]
  },
  {
   "cell_type": "code",
   "execution_count": null,
   "metadata": {
    "id": "f0OPfKFfJB3P"
   },
   "outputs": [],
   "source": [
    "Domain_data.domain=Domain_data.domain.astype(str)"
   ]
  },
  {
   "cell_type": "code",
   "execution_count": null,
   "metadata": {
    "id": "i_ei54QWY3gO"
   },
   "outputs": [],
   "source": [
    "from sklearn.preprocessing import LabelEncoder\n",
    "X = Domain_data.domain\n",
    "Y = Domain_data['label']\n",
    "le=LabelEncoder()\n",
    "Y = le.fit_transform(Y)"
   ]
  },
  {
   "cell_type": "code",
   "execution_count": null,
   "metadata": {
    "id": "6fl2GHSlZaKu"
   },
   "outputs": [],
   "source": [
    "from keras.preprocessing.text import Tokenizer\n",
    "from keras.preprocessing import sequence\n",
    "from keras.models import Sequential\n",
    "\n",
    "#max_words = num_words\n",
    "max_len = 50\n",
    "\n",
    "# Tokenizer\n",
    "tok = Tokenizer(num_words=None, char_level=True, oov_token='UNK')\n",
    "tok.fit_on_texts(X)\n",
    "sequences = tok.texts_to_sequences(X)\n",
    "sequences_matrix = sequence.pad_sequences(sequences,padding='post',maxlen=max_len)"
   ]
  },
  {
   "cell_type": "code",
   "execution_count": null,
   "metadata": {
    "id": "suQdaT_jc9ie"
   },
   "outputs": [],
   "source": [
    "X_train, X_test, y_train, y_test = train_test_split(sequences_matrix, Y, test_size=0.20)"
   ]
  },
  {
   "cell_type": "markdown",
   "metadata": {
    "id": "Oa5zMkuRvsSx"
   },
   "source": [
    "### Balancing"
   ]
  },
  {
   "cell_type": "code",
   "execution_count": null,
   "metadata": {
    "id": "idDPtGVEve3q"
   },
   "outputs": [],
   "source": [
    "from imblearn.over_sampling import SMOTE\n",
    "smt = SMOTE()\n",
    "X_train, y_train = smt.fit_resample(X_train, y_train)"
   ]
  },
  {
   "cell_type": "markdown",
   "metadata": {
    "id": "C5tWm423tqJA"
   },
   "source": [
    "## Load Model and extract feature from an intermidiate layer"
   ]
  },
  {
   "cell_type": "code",
   "execution_count": null,
   "metadata": {
    "id": "bl-SEqEgmIwq"
   },
   "outputs": [],
   "source": [
    "import pickle\n",
    "# load the model from disk\n",
    "filename = '/content/drive/My Drive/Colab Notebooks/Bcnnmodel2x32x3_2nd.sav'\n",
    "loaded_cnn_model = pickle.load(open(filename, 'rb'))"
   ]
  },
  {
   "cell_type": "code",
   "execution_count": null,
   "metadata": {
    "id": "et43UEQdkeoV"
   },
   "outputs": [],
   "source": [
    "import pickle\n",
    "filename = '/content/drive/My Drive/Colab Notebooks/BX_train_sm.csv'\n",
    "X_train = pickle.load(open(filename, 'rb'))"
   ]
  },
  {
   "cell_type": "code",
   "execution_count": null,
   "metadata": {
    "id": "vHHQI0uvkvQb"
   },
   "outputs": [],
   "source": [
    "filename = '/content/drive/My Drive/Colab Notebooks/By_train_sm.csv'\n",
    "y_train = pickle.load(open(filename, 'rb'))"
   ]
  },
  {
   "cell_type": "code",
   "execution_count": null,
   "metadata": {
    "id": "QNhL60LxkzYN"
   },
   "outputs": [],
   "source": [
    "filename = '/content/drive/My Drive/Colab Notebooks/BX_test_sm.csv'\n",
    "X_test = pickle.load(open(filename, 'rb'))"
   ]
  },
  {
   "cell_type": "code",
   "execution_count": null,
   "metadata": {
    "id": "FUpaU9quk4iD"
   },
   "outputs": [],
   "source": [
    "filename = '/content/drive/My Drive/Colab Notebooks/By_test_sm.csv'\n",
    "y_test = pickle.load(open(filename, 'rb'))"
   ]
  },
  {
   "cell_type": "code",
   "execution_count": null,
   "metadata": {
    "id": "U_ov4a9VcMgR"
   },
   "outputs": [],
   "source": [
    "from sklearn import metrics\n",
    "import matplotlib.pyplot as plt\n",
    "\n",
    "stppred = loaded_cnn_model.predict(X_test)"
   ]
  },
  {
   "cell_type": "code",
   "execution_count": null,
   "metadata": {
    "id": "UuFE5sGWcMgS"
   },
   "outputs": [],
   "source": [
    "fpr,tpr, _ = metrics.roc_curve(y_test,stppred)\n",
    "auc = metrics.roc_auc_score(y_test,stppred)"
   ]
  },
  {
   "cell_type": "code",
   "execution_count": null,
   "metadata": {
    "colab": {
     "base_uri": "https://localhost:8080/"
    },
    "id": "gvJBQQDvcMgS",
    "outputId": "2e8b115a-4d86-4790-b078-fc538d513497"
   },
   "outputs": [
    {
     "name": "stdout",
     "output_type": "stream",
     "text": [
      "0.9983812480322465\n"
     ]
    }
   ],
   "source": [
    "print(auc)"
   ]
  },
  {
   "cell_type": "markdown",
   "metadata": {
    "id": "8-7rZBltxCqQ"
   },
   "source": [
    "## CNN"
   ]
  },
  {
   "cell_type": "code",
   "execution_count": null,
   "metadata": {
    "colab": {
     "base_uri": "https://localhost:8080/"
    },
    "id": "1puYlNGixHcD",
    "outputId": "2e0459e1-6b7a-4006-cf9c-0ebf990c27a9"
   },
   "outputs": [
    {
     "name": "stdout",
     "output_type": "stream",
     "text": [
      "Model: \"sequential\"\n",
      "_________________________________________________________________\n",
      " Layer (type)                Output Shape              Param #   \n",
      "=================================================================\n",
      " embedding (Embedding)       (None, 50, 100)           7000      \n",
      "                                                                 \n",
      " conv1d (Conv1D)             (None, 48, 32)            9632      \n",
      "                                                                 \n",
      " conv1d_1 (Conv1D)           (None, 46, 32)            3104      \n",
      "                                                                 \n",
      " global_max_pooling1d (Globa  (None, 32)               0         \n",
      " lMaxPooling1D)                                                  \n",
      "                                                                 \n",
      " flatten (Flatten)           (None, 32)                0         \n",
      "                                                                 \n",
      " dense (Dense)               (None, 250)               8250      \n",
      "                                                                 \n",
      " dense_1 (Dense)             (None, 1)                 251       \n",
      "                                                                 \n",
      "=================================================================\n",
      "Total params: 28,237\n",
      "Trainable params: 28,237\n",
      "Non-trainable params: 0\n",
      "_________________________________________________________________\n"
     ]
    }
   ],
   "source": [
    "from keras.models import Sequential\n",
    "from keras import layers \n",
    "\n",
    "embedding_dim = 100\n",
    "vocab_size=70\n",
    "max_len = 50\n",
    "textcnnmodel = Sequential()\n",
    "textcnnmodel.add(layers.Embedding(vocab_size, embedding_dim, input_length=max_len))\n",
    "textcnnmodel.add(layers.Conv1D(32, 3, activation='relu'))\n",
    "textcnnmodel.add(layers.Conv1D(32, 3, activation='relu'))\n",
    "textcnnmodel.add(layers.GlobalMaxPooling1D())\n",
    "textcnnmodel.add(layers.Flatten())\n",
    "textcnnmodel.add(layers.Dense(250, activation='relu'))\n",
    "textcnnmodel.add(layers.Dense(1, activation='sigmoid'))\n",
    "textcnnmodel.compile(optimizer='adam',\n",
    "               loss='binary_crossentropy',\n",
    "               metrics=['accuracy'])\n",
    "textcnnmodel.summary() "
   ]
  },
  {
   "cell_type": "code",
   "execution_count": null,
   "metadata": {
    "colab": {
     "base_uri": "https://localhost:8080/"
    },
    "id": "guVGVuxqHB7T",
    "outputId": "ffa7ad6d-0d8e-457e-d3b7-eb87e56b156d"
   },
   "outputs": [
    {
     "name": "stdout",
     "output_type": "stream",
     "text": [
      "Epoch 1/50\n",
      "2341/2341 [==============================] - 32s 8ms/step - loss: 0.1054 - accuracy: 0.9645 - val_loss: 0.0834 - val_accuracy: 0.9714\n",
      "Epoch 2/50\n",
      "2341/2341 [==============================] - 19s 8ms/step - loss: 0.0750 - accuracy: 0.9752 - val_loss: 0.0688 - val_accuracy: 0.9760\n",
      "Epoch 3/50\n",
      "2341/2341 [==============================] - 20s 8ms/step - loss: 0.0688 - accuracy: 0.9770 - val_loss: 0.0804 - val_accuracy: 0.9724\n",
      "Epoch 4/50\n",
      "2341/2341 [==============================] - 19s 8ms/step - loss: 0.0652 - accuracy: 0.9783 - val_loss: 0.0634 - val_accuracy: 0.9780\n",
      "Epoch 5/50\n",
      "2341/2341 [==============================] - 19s 8ms/step - loss: 0.0629 - accuracy: 0.9790 - val_loss: 0.0626 - val_accuracy: 0.9786\n",
      "Epoch 6/50\n",
      "2341/2341 [==============================] - 19s 8ms/step - loss: 0.0612 - accuracy: 0.9796 - val_loss: 0.0692 - val_accuracy: 0.9762\n",
      "Epoch 7/50\n",
      "2341/2341 [==============================] - 20s 8ms/step - loss: 0.0598 - accuracy: 0.9800 - val_loss: 0.0693 - val_accuracy: 0.9761\n",
      "Epoch 8/50\n",
      "2341/2341 [==============================] - 19s 8ms/step - loss: 0.0586 - accuracy: 0.9804 - val_loss: 0.0699 - val_accuracy: 0.9755\n",
      "Epoch 9/50\n",
      "2341/2341 [==============================] - 21s 9ms/step - loss: 0.0576 - accuracy: 0.9806 - val_loss: 0.0601 - val_accuracy: 0.9788\n",
      "Epoch 10/50\n",
      "2341/2341 [==============================] - 19s 8ms/step - loss: 0.0566 - accuracy: 0.9810 - val_loss: 0.0633 - val_accuracy: 0.9779\n",
      "Epoch 11/50\n",
      "2341/2341 [==============================] - 19s 8ms/step - loss: 0.0555 - accuracy: 0.9814 - val_loss: 0.0615 - val_accuracy: 0.9783\n",
      "Epoch 12/50\n",
      "2341/2341 [==============================] - 19s 8ms/step - loss: 0.0548 - accuracy: 0.9815 - val_loss: 0.0607 - val_accuracy: 0.9790\n",
      "Epoch 13/50\n",
      "2341/2341 [==============================] - 19s 8ms/step - loss: 0.0539 - accuracy: 0.9818 - val_loss: 0.0643 - val_accuracy: 0.9777\n",
      "Epoch 14/50\n",
      "2341/2341 [==============================] - 19s 8ms/step - loss: 0.0529 - accuracy: 0.9822 - val_loss: 0.0588 - val_accuracy: 0.9798\n",
      "Epoch 15/50\n",
      "2341/2341 [==============================] - 19s 8ms/step - loss: 0.0523 - accuracy: 0.9824 - val_loss: 0.0627 - val_accuracy: 0.9780\n",
      "Epoch 16/50\n",
      "2341/2341 [==============================] - 19s 8ms/step - loss: 0.0516 - accuracy: 0.9825 - val_loss: 0.0535 - val_accuracy: 0.9812\n",
      "Epoch 17/50\n",
      "2341/2341 [==============================] - 19s 8ms/step - loss: 0.0511 - accuracy: 0.9827 - val_loss: 0.0565 - val_accuracy: 0.9802\n",
      "Epoch 18/50\n",
      "2341/2341 [==============================] - 19s 8ms/step - loss: 0.0505 - accuracy: 0.9830 - val_loss: 0.0554 - val_accuracy: 0.9809\n",
      "Epoch 19/50\n",
      "2341/2341 [==============================] - 19s 8ms/step - loss: 0.0501 - accuracy: 0.9831 - val_loss: 0.0607 - val_accuracy: 0.9791\n",
      "Epoch 20/50\n",
      "2341/2341 [==============================] - 19s 8ms/step - loss: 0.0495 - accuracy: 0.9833 - val_loss: 0.0563 - val_accuracy: 0.9807\n",
      "Epoch 21/50\n",
      "2341/2341 [==============================] - 19s 8ms/step - loss: 0.0493 - accuracy: 0.9833 - val_loss: 0.0584 - val_accuracy: 0.9796\n",
      "Epoch 22/50\n",
      "2341/2341 [==============================] - 19s 8ms/step - loss: 0.0488 - accuracy: 0.9835 - val_loss: 0.0499 - val_accuracy: 0.9825\n",
      "Epoch 23/50\n",
      "2341/2341 [==============================] - 19s 8ms/step - loss: 0.0486 - accuracy: 0.9835 - val_loss: 0.0563 - val_accuracy: 0.9805\n",
      "Epoch 24/50\n",
      "2341/2341 [==============================] - 19s 8ms/step - loss: 0.0484 - accuracy: 0.9836 - val_loss: 0.0562 - val_accuracy: 0.9803\n",
      "Epoch 25/50\n",
      "2341/2341 [==============================] - 19s 8ms/step - loss: 0.0480 - accuracy: 0.9836 - val_loss: 0.0530 - val_accuracy: 0.9813\n",
      "Epoch 26/50\n",
      "2341/2341 [==============================] - 19s 8ms/step - loss: 0.0478 - accuracy: 0.9837 - val_loss: 0.0500 - val_accuracy: 0.9825\n",
      "Epoch 27/50\n",
      "2341/2341 [==============================] - 19s 8ms/step - loss: 0.0476 - accuracy: 0.9838 - val_loss: 0.0525 - val_accuracy: 0.9816\n",
      "Epoch 28/50\n",
      "2341/2341 [==============================] - 18s 8ms/step - loss: 0.0474 - accuracy: 0.9839 - val_loss: 0.0556 - val_accuracy: 0.9811\n",
      "Epoch 29/50\n",
      "2341/2341 [==============================] - 19s 8ms/step - loss: 0.0472 - accuracy: 0.9840 - val_loss: 0.0504 - val_accuracy: 0.9824\n",
      "Epoch 30/50\n",
      "2341/2341 [==============================] - 19s 8ms/step - loss: 0.0470 - accuracy: 0.9840 - val_loss: 0.0507 - val_accuracy: 0.9825\n",
      "Epoch 31/50\n",
      "2341/2341 [==============================] - 19s 8ms/step - loss: 0.0468 - accuracy: 0.9841 - val_loss: 0.0584 - val_accuracy: 0.9797\n",
      "Epoch 32/50\n",
      "2341/2341 [==============================] - 19s 8ms/step - loss: 0.0467 - accuracy: 0.9841 - val_loss: 0.0537 - val_accuracy: 0.9814\n",
      "Epoch 33/50\n",
      "2341/2341 [==============================] - 19s 8ms/step - loss: 0.0465 - accuracy: 0.9842 - val_loss: 0.0513 - val_accuracy: 0.9819\n",
      "Epoch 34/50\n",
      "2341/2341 [==============================] - 19s 8ms/step - loss: 0.0463 - accuracy: 0.9843 - val_loss: 0.0614 - val_accuracy: 0.9787\n",
      "Epoch 35/50\n",
      "2341/2341 [==============================] - 19s 8ms/step - loss: 0.0461 - accuracy: 0.9843 - val_loss: 0.0515 - val_accuracy: 0.9820\n",
      "Epoch 36/50\n",
      "2341/2341 [==============================] - 19s 8ms/step - loss: 0.0460 - accuracy: 0.9843 - val_loss: 0.0503 - val_accuracy: 0.9825\n",
      "Epoch 37/50\n",
      "2341/2341 [==============================] - 19s 8ms/step - loss: 0.0458 - accuracy: 0.9844 - val_loss: 0.0531 - val_accuracy: 0.9814\n",
      "Epoch 38/50\n",
      "2341/2341 [==============================] - 19s 8ms/step - loss: 0.0456 - accuracy: 0.9844 - val_loss: 0.0498 - val_accuracy: 0.9825\n",
      "Epoch 39/50\n",
      "2341/2341 [==============================] - 19s 8ms/step - loss: 0.0457 - accuracy: 0.9844 - val_loss: 0.0562 - val_accuracy: 0.9807\n",
      "Epoch 40/50\n",
      "2341/2341 [==============================] - 19s 8ms/step - loss: 0.0453 - accuracy: 0.9845 - val_loss: 0.0509 - val_accuracy: 0.9825\n",
      "Epoch 41/50\n",
      "2341/2341 [==============================] - 19s 8ms/step - loss: 0.0453 - accuracy: 0.9845 - val_loss: 0.0559 - val_accuracy: 0.9802\n",
      "Epoch 42/50\n",
      "2341/2341 [==============================] - 19s 8ms/step - loss: 0.0452 - accuracy: 0.9846 - val_loss: 0.0527 - val_accuracy: 0.9817\n",
      "Epoch 43/50\n",
      "2341/2341 [==============================] - 19s 8ms/step - loss: 0.0450 - accuracy: 0.9846 - val_loss: 0.0546 - val_accuracy: 0.9811\n",
      "Epoch 44/50\n",
      "2341/2341 [==============================] - 19s 8ms/step - loss: 0.0450 - accuracy: 0.9846 - val_loss: 0.0552 - val_accuracy: 0.9808\n",
      "Epoch 45/50\n",
      "2341/2341 [==============================] - 19s 8ms/step - loss: 0.0448 - accuracy: 0.9846 - val_loss: 0.0580 - val_accuracy: 0.9804\n",
      "Epoch 46/50\n",
      "2341/2341 [==============================] - 19s 8ms/step - loss: 0.0447 - accuracy: 0.9847 - val_loss: 0.0540 - val_accuracy: 0.9811\n",
      "Epoch 47/50\n",
      "2341/2341 [==============================] - 19s 8ms/step - loss: 0.0446 - accuracy: 0.9848 - val_loss: 0.0527 - val_accuracy: 0.9818\n",
      "Epoch 48/50\n",
      "2341/2341 [==============================] - 19s 8ms/step - loss: 0.0446 - accuracy: 0.9847 - val_loss: 0.0547 - val_accuracy: 0.9812\n",
      "Epoch 49/50\n",
      "2341/2341 [==============================] - 19s 8ms/step - loss: 0.0444 - accuracy: 0.9848 - val_loss: 0.0611 - val_accuracy: 0.9787\n",
      "Epoch 50/50\n",
      "2341/2341 [==============================] - 19s 8ms/step - loss: 0.0443 - accuracy: 0.9849 - val_loss: 0.0529 - val_accuracy: 0.9813\n",
      "LSTM took 983.0725522041321 milliseconds to train data.\n",
      "\n"
     ]
    }
   ],
   "source": [
    "import time\n",
    "start = time.time()\n",
    "history=textcnnmodel.fit(X_train,y_train,\n",
    "                     epochs=50,\n",
    "                     verbose=True,\n",
    "                     validation_data=(X_test, y_test),\n",
    "                     batch_size=1000)\n",
    "end  = time.time()\n",
    "print(\"CNN took {} milliseconds to train data.\\n\".format(end-start))"
   ]
  },
  {
   "cell_type": "code",
   "execution_count": null,
   "metadata": {
    "colab": {
     "base_uri": "https://localhost:8080/"
    },
    "id": "8cDFW4qvCRV5",
    "outputId": "0caa3efc-b3f4-41be-885f-a6d5bfba8952"
   },
   "outputs": [
    {
     "name": "stdout",
     "output_type": "stream",
     "text": [
      "12979/12979 [==============================] - 48s 4ms/step - loss: 0.0529 - accuracy: 0.9813\n",
      "Accuracy on test set: [0.05289815366268158, 0.9813352227210999]\n",
      "Test loss: 0.05289815366268158\n",
      "Test accuracy: 0.9813352227210999\n",
      "CNN took 48.160942792892456 milliseconds to test data.\n",
      "\n"
     ]
    }
   ],
   "source": [
    "start = time.time()\n",
    "results = textcnnmodel.evaluate(X_test, y_test)\n",
    "print (\"Accuracy on test set:\" , results)\n",
    "print('Test loss:', results[0])\n",
    "print('Test accuracy:', results[1])\n",
    "end  = time.time()\n",
    "print(\"CNN took {} milliseconds to test data.\\n\".format(end-start))"
   ]
  },
  {
   "cell_type": "code",
   "execution_count": null,
   "metadata": {
    "colab": {
     "base_uri": "https://localhost:8080/"
    },
    "id": "NqQ18Z6KCyKQ",
    "outputId": "1a0fa406-7e9b-46cc-9eec-b4482d4e9674"
   },
   "outputs": [
    {
     "name": "stdout",
     "output_type": "stream",
     "text": [
      "              precision    recall  f1-score   support\n",
      "\n",
      "           0       1.00      0.98      0.99    293300\n",
      "           1       0.95      0.99      0.97    122028\n",
      "\n",
      "    accuracy                           0.98    415328\n",
      "   macro avg       0.97      0.98      0.98    415328\n",
      "weighted avg       0.98      0.98      0.98    415328\n",
      "\n"
     ]
    }
   ],
   "source": [
    "from sklearn.metrics import classification_report\n",
    "y_cnnpred = textcnnmodel.predict(X_test)\n",
    "y_cnnpred=(y_cnnpred > 0.5)\n",
    "print(classification_report(y_test, y_cnnpred))"
   ]
  },
  {
   "cell_type": "code",
   "execution_count": null,
   "metadata": {
    "colab": {
     "base_uri": "https://localhost:8080/",
     "height": 369
    },
    "id": "rFGSKioqCG8i",
    "outputId": "6d91bca0-36f7-46e4-aa76-cd0f9790cc48"
   },
   "outputs": [
    {
     "data": {
      "text/plain": [
       "(array([279815.,   3132.,   1869.,   1369.,   1283.,   1262.,   1438.,\n",
       "          2016.,   3824., 119320.]),\n",
       " array([5.4284514e-38, 1.0000000e-01, 2.0000000e-01, 3.0000001e-01,\n",
       "        4.0000001e-01, 5.0000000e-01, 6.0000002e-01, 6.9999999e-01,\n",
       "        8.0000001e-01, 8.9999998e-01, 1.0000000e+00], dtype=float32),\n",
       " <a list of 10 Patch objects>)"
      ]
     },
     "execution_count": 12,
     "metadata": {},
     "output_type": "execute_result"
    },
    {
     "data": {
      "image/png": "[encoded data removed]",
      "text/plain": [
       "<Figure size 432x288 with 1 Axes>"
      ]
     },
     "metadata": {},
     "output_type": "display_data"
    }
   ],
   "source": [
    "plt.hist(textcnnmodel.predict(X_test))"
   ]
  },
  {
   "cell_type": "code",
   "execution_count": null,
   "metadata": {
    "colab": {
     "base_uri": "https://localhost:8080/"
    },
    "id": "gu4sKn19Dgrh",
    "outputId": "8ddd024b-91c1-4997-bd9b-46188302da9b"
   },
   "outputs": [
    {
     "data": {
      "text/plain": [
       "dict_keys(['loss', 'accuracy', 'val_loss', 'val_accuracy'])"
      ]
     },
     "execution_count": 13,
     "metadata": {},
     "output_type": "execute_result"
    }
   ],
   "source": [
    "history_dict = history.history\n",
    "history_dict.keys()"
   ]
  },
  {
   "cell_type": "code",
   "execution_count": null,
   "metadata": {
    "colab": {
     "base_uri": "https://localhost:8080/",
     "height": 369
    },
    "id": "8VO1EZY0BF1k",
    "outputId": "ffded9eb-dd55-40f7-e43b-cc3dc9a88ab0"
   },
   "outputs": [
    {
     "data": {
      "image/png": "[encoded data removed]",
      "text/plain": [
       "<Figure size 720x360 with 2 Axes>"
      ]
     },
     "metadata": {},
     "output_type": "display_data"
    }
   ],
   "source": [
    "val_loss = history.history['val_loss']\n",
    "loss = history.history['loss']\n",
    "accuracy = history.history['accuracy']\n",
    "val_accuracy = history.history['val_accuracy']\n",
    "\n",
    "epochs = range(1, len(accuracy) + 1)\n",
    "\n",
    "plt.rcParams['figure.figsize'] = [10, 5]\n",
    "plt.subplot(1, 2, 1)\n",
    "plt.plot(epochs, loss, 'bo', label='Training loss', color='red')\n",
    "plt.plot(epochs,val_loss , 'b', label='Validation loss', color='green')\n",
    "plt.title('Training and validation loss')\n",
    "plt.xlabel('Epochs')\n",
    "plt.ylabel('Loss')\n",
    "plt.legend()\n",
    "\n",
    "plt.subplot(1, 2, 2)\n",
    "plt.plot(epochs, accuracy, 'bo', label='Training acc', color='red')\n",
    "plt.plot(epochs, val_accuracy, 'b', label='Validation acc', color='green')\n",
    "plt.title('Training and validation accuracy')\n",
    "plt.xlabel('Epochs')\n",
    "plt.ylabel('Accuracy')\n",
    "plt.legend()\n",
    "plt.tight_layout()\n",
    "plt.show()"
   ]
  },
  {
   "cell_type": "code",
   "execution_count": null,
   "metadata": {
    "colab": {
     "base_uri": "https://localhost:8080/"
    },
    "id": "0_ycyOJeDuBO",
    "outputId": "f589b2a1-1a93-4cd5-ff14-b0cdc93a9089"
   },
   "outputs": [
    {
     "name": "stdout",
     "output_type": "stream",
     "text": [
      "INFO:tensorflow:Assets written to: ram://18aa0e7d-7087-438b-9ecd-fdb481a77782/assets\n"
     ]
    }
   ],
   "source": [
    "import pickle\n",
    "# save the model to disk\n",
    "filename = '/content/drive/My Drive/Colab Notebooks/Bcnnmodel2x32x3_2nd.sav'\n",
    "pickle.dump(textcnnmodel, open(filename, 'wb'))"
   ]
  },
  {
   "cell_type": "markdown",
   "metadata": {
    "id": "Fn74G7JXJ3h9"
   },
   "source": [
    "## Load Model and extract feature from an intermidiate layer"
   ]
  },
  {
   "cell_type": "code",
   "execution_count": null,
   "metadata": {
    "id": "dxAytl7sIIb_"
   },
   "outputs": [],
   "source": [
    "import pickle\n",
    "# load the model from disk\n",
    "filename = '/content/drive/My Drive/Colab Notebooks/Bcnnmodel2x32x3_2nd.sav'\n",
    "loaded_cnn_model = pickle.load(open(filename, 'rb'))"
   ]
  },
  {
   "cell_type": "code",
   "execution_count": null,
   "metadata": {
    "colab": {
     "base_uri": "https://localhost:8080/"
    },
    "id": "DpHsyvlJcGtA",
    "outputId": "aede9e9f-8588-4449-e47b-5e342bbe0ef3"
   },
   "outputs": [
    {
     "name": "stdout",
     "output_type": "stream",
     "text": [
      "It took 262.5558252334595 milliseconds to extract feature from CNN intermidiate layer.\n",
      "\n"
     ]
    }
   ],
   "source": [
    "from tensorflow import keras\n",
    "import time\n",
    "start = time.time()\n",
    "layer_name = 'flatten'\n",
    "intermediate_layer_model = keras.Model(inputs=loaded_cnn_model.input,\n",
    "                                 outputs=loaded_cnn_model.get_layer(layer_name).output)\n",
    "intermediate_output = intermediate_layer_model.predict(X_train)\n",
    "end = time.time()\n",
    "print(\"It took {} milliseconds to extract feature from CNN intermidiate layer.\\n\".format(end-start))"
   ]
  },
  {
   "cell_type": "markdown",
   "metadata": {
    "id": "vtLIWu9FLur8"
   },
   "source": [
    "### Extra Tree Classifier"
   ]
  },
  {
   "cell_type": "code",
   "execution_count": null,
   "metadata": {
    "colab": {
     "base_uri": "https://localhost:8080/"
    },
    "id": "eLaoUPjuLur-",
    "outputId": "ca12aecf-2285-4236-8898-1f056e15e69e"
   },
   "outputs": [
    {
     "name": "stdout",
     "output_type": "stream",
     "text": [
      "It took 911.9694530963898 milliseconds to train ET with feature from CNN intermidiate layer.\n",
      "\n"
     ]
    }
   ],
   "source": [
    "from sklearn.ensemble import ExtraTreesClassifier\n",
    "import time\n",
    "start = time.time()\n",
    "ETmodel = ExtraTreesClassifier().fit(intermediate_output, y_train)\n",
    "end = time.time()\n",
    "print(\"It took {} milliseconds to train ET with feature from CNN intermidiate layer.\\n\".format(end-start))"
   ]
  },
  {
   "cell_type": "code",
   "execution_count": null,
   "metadata": {
    "colab": {
     "base_uri": "https://localhost:8080/"
    },
    "id": "QNIKEazxLusA",
    "outputId": "eb337710-f931-48d0-961a-25d6decf914c"
   },
   "outputs": [
    {
     "name": "stdout",
     "output_type": "stream",
     "text": [
      "              precision    recall  f1-score   support\n",
      "\n",
      "           0       1.00      0.97      0.98    293300\n",
      "           1       0.94      0.99      0.96    122028\n",
      "\n",
      "    accuracy                           0.98    415328\n",
      "   macro avg       0.97      0.98      0.97    415328\n",
      "weighted avg       0.98      0.98      0.98    415328\n",
      "\n",
      "It took 105.35104656219482 milliseconds to test ET with feature from CNN intermidiate layer.\n",
      "\n"
     ]
    }
   ],
   "source": [
    "from sklearn.metrics import precision_score, accuracy_score,classification_report\n",
    "start = time.time()\n",
    "ETpred = ETmodel.predict(intermediate_layer_model.predict(X_test))\n",
    "end = time.time()\n",
    "print(classification_report(y_test, ETpred))\n",
    "print(\"It took {} milliseconds to test ET with feature from CNN intermidiate layer.\\n\".format(end-start))"
   ]
  },
  {
   "cell_type": "code",
   "execution_count": null,
   "metadata": {
    "colab": {
     "base_uri": "https://localhost:8080/"
    },
    "id": "92U48vXELur_",
    "outputId": "56af7c7b-e899-460f-a6e7-a2e486c4d3ed"
   },
   "outputs": [
    {
     "name": "stdout",
     "output_type": "stream",
     "text": [
      "accuracy on the train set:  0.99998718283936\n",
      "accuracy on the test set:  0.9780871985515063\n"
     ]
    }
   ],
   "source": [
    "print('accuracy on the train set: ', accuracy_score(ETmodel.predict(intermediate_output), y_train))\n",
    "print('accuracy on the test set: ', accuracy_score(ETpred, y_test))"
   ]
  },
  {
   "cell_type": "code",
   "execution_count": null,
   "metadata": {
    "colab": {
     "base_uri": "https://localhost:8080/",
     "height": 351
    },
    "id": "cMy6PzVFVy2O",
    "outputId": "f3f1ff3a-5606-4549-b3f0-0580f484fc19"
   },
   "outputs": [
    {
     "name": "stderr",
     "output_type": "stream",
     "text": [
      "/usr/local/lib/python3.7/dist-packages/sklearn/utils/deprecation.py:87: FutureWarning: Function plot_confusion_matrix is deprecated; Function `plot_confusion_matrix` is deprecated in 1.0 and will be removed in 1.2. Use one of the class methods: ConfusionMatrixDisplay.from_predictions or ConfusionMatrixDisplay.from_estimator.\n",
      "  warnings.warn(msg, category=FutureWarning)\n"
     ]
    },
    {
     "data": {
      "text/plain": [
       "<sklearn.metrics._plot.confusion_matrix.ConfusionMatrixDisplay at 0x7fedee278c10>"
      ]
     },
     "execution_count": 14,
     "metadata": {},
     "output_type": "execute_result"
    },
    {
     "data": {
      "image/png": "[encoded data removed]",
      "text/plain": [
       "<Figure size 432x288 with 2 Axes>"
      ]
     },
     "metadata": {},
     "output_type": "display_data"
    }
   ],
   "source": [
    "# Confusion matrix\n",
    "from sklearn.metrics import plot_confusion_matrix\n",
    "plot_confusion_matrix(ETmodel, intermediate_layer_model.predict(X_test), y_test, display_labels=[\"legit\", \"dga\"])"
   ]
  },
  {
   "cell_type": "code",
   "execution_count": null,
   "metadata": {
    "id": "PsRBPj-PVy2P"
   },
   "outputs": [],
   "source": [
    "from sklearn import metrics\n",
    "import matplotlib.pyplot as plt\n",
    "\n",
    "etpprd = ETmodel.predict_proba(intermediate_layer_model.predict(X_test))[::,1]"
   ]
  },
  {
   "cell_type": "code",
   "execution_count": null,
   "metadata": {
    "id": "jOAtMf2iVy2P"
   },
   "outputs": [],
   "source": [
    "fpr,tpr, _ = metrics.roc_curve(y_test,etpprd)\n",
    "auc = metrics.roc_auc_score(y_test,etpprd)"
   ]
  },
  {
   "cell_type": "code",
   "execution_count": null,
   "metadata": {
    "colab": {
     "base_uri": "https://localhost:8080/"
    },
    "id": "L52bZheRVy2Q",
    "outputId": "531453ef-7120-403e-d839-2752c0a15b30"
   },
   "outputs": [
    {
     "name": "stdout",
     "output_type": "stream",
     "text": [
      "0.9975046605256718\n"
     ]
    }
   ],
   "source": [
    "print(auc)"
   ]
  },
  {
   "cell_type": "code",
   "execution_count": null,
   "metadata": {
    "colab": {
     "base_uri": "https://localhost:8080/",
     "height": 312
    },
    "id": "HHs209NNVy2Q",
    "outputId": "1d2ea604-17f8-4c7d-ec74-5651732abade"
   },
   "outputs": [
    {
     "data": {
      "text/plain": [
       "<function matplotlib.pyplot.show>"
      ]
     },
     "execution_count": 18,
     "metadata": {},
     "output_type": "execute_result"
    },
    {
     "data": {
      "image/png": "[encoded data removed]",
      "text/plain": [
       "<Figure size 432x288 with 1 Axes>"
      ]
     },
     "metadata": {},
     "output_type": "display_data"
    }
   ],
   "source": [
    "plt.title('Receiver Operating Characterstic - CNN+ET')\n",
    "plt.plot(fpr,tpr,label= \"AUC = %0.5f\" % (auc))\n",
    "plt.ylabel('True Posetive Rate')\n",
    "plt.xlabel('False Posetive Rate')\n",
    "plt.show"
   ]
  },
  {
   "cell_type": "code",
   "execution_count": null,
   "metadata": {
    "id": "EIbp4-YBVgxE"
   },
   "outputs": [],
   "source": [
    "import pickle\n",
    "# save the model to disk\n",
    "filename = '/content/drive/My Drive/Colab Notebooks/BCNN+ETmodel.sav'\n",
    "pickle.dump(ETmodel, open(filename, 'wb'))"
   ]
  },
  {
   "cell_type": "markdown",
   "metadata": {
    "id": "Jd_PIFeb_jxf"
   },
   "source": [
    "#### tune CNN+ET"
   ]
  },
  {
   "cell_type": "code",
   "execution_count": null,
   "metadata": {
    "colab": {
     "base_uri": "https://localhost:8080/"
    },
    "id": "6DChZiY9JDHR",
    "outputId": "cabbac85-b1d8-4d55-d8a1-9cea94dfc266"
   },
   "outputs": [
    {
     "name": "stderr",
     "output_type": "stream",
     "text": [
      "/usr/local/lib/python3.7/dist-packages/joblib/externals/loky/process_executor.py:705: UserWarning: A worker stopped while some jobs were given to the executor. This can be caused by a too short worker timeout or by a memory leak.\n",
      "  \"timeout or by a memory leak.\", UserWarning\n",
      "/usr/local/lib/python3.7/dist-packages/joblib/externals/loky/process_executor.py:705: UserWarning: A worker stopped while some jobs were given to the executor. This can be caused by a too short worker timeout or by a memory leak.\n",
      "  \"timeout or by a memory leak.\", UserWarning\n"
     ]
    },
    {
     "name": "stdout",
     "output_type": "stream",
     "text": [
      "It took 11644.33060836792 milliseconds to tune and fit ET with feature from CNN intermidiate layer.\n",
      "\n"
     ]
    }
   ],
   "source": [
    "from sklearn.experimental import enable_halving_search_cv \n",
    "from sklearn.model_selection import HalvingGridSearchCV\n",
    "\n",
    "from sklearn.ensemble import ExtraTreesClassifier\n",
    "etparams = {'max_depth': [10,20,50,100],\n",
    "    'criterion': ['gini','entropy']}\n",
    "etclf = ExtraTreesClassifier()\n",
    "start = time.time()\n",
    "etgrid = HalvingGridSearchCV(etclf, etparams, scoring='accuracy', n_jobs=-1).fit(intermediate_output, y_train)\n",
    "end = time.time()\n",
    "print(\"It took {} milliseconds to tune and fit ET with feature from CNN intermidiate layer.\\n\".format(end-start))"
   ]
  },
  {
   "cell_type": "code",
   "execution_count": null,
   "metadata": {
    "colab": {
     "base_uri": "https://localhost:8080/"
    },
    "id": "-JUbCGGDVeis",
    "outputId": "67d41e0b-7d54-4ed8-9305-b620313feba3"
   },
   "outputs": [
    {
     "name": "stdout",
     "output_type": "stream",
     "text": [
      "Best: 0.981240 using {'criterion': 'entropy', 'max_depth': 50}\n",
      "0.967183 (0.000558) with: {'criterion': 'gini', 'max_depth': 10}\n",
      "0.977543 (0.000842) with: {'criterion': 'gini', 'max_depth': 20}\n",
      "0.979737 (0.000829) with: {'criterion': 'gini', 'max_depth': 50}\n",
      "0.979607 (0.000959) with: {'criterion': 'gini', 'max_depth': 100}\n",
      "0.967551 (0.000398) with: {'criterion': 'entropy', 'max_depth': 10}\n",
      "0.977535 (0.000648) with: {'criterion': 'entropy', 'max_depth': 20}\n",
      "0.979627 (0.000867) with: {'criterion': 'entropy', 'max_depth': 50}\n",
      "0.979695 (0.000934) with: {'criterion': 'entropy', 'max_depth': 100}\n",
      "0.981240 (0.000970) with: {'criterion': 'entropy', 'max_depth': 50}\n",
      "0.981227 (0.001010) with: {'criterion': 'entropy', 'max_depth': 100}\n",
      "0.981228 (0.000936) with: {'criterion': 'gini', 'max_depth': 50}\n"
     ]
    }
   ],
   "source": [
    "# summarize results\n",
    "print(\"Best: %f using %s\" % (etgrid.best_score_, etgrid.best_params_))\n",
    "means = etgrid.cv_results_['mean_test_score']\n",
    "stds = etgrid.cv_results_['std_test_score']\n",
    "params = etgrid.cv_results_['params']\n",
    "for mean, stdev, param in zip(means, stds, params):\n",
    " print(\"%f (%f) with: %r\" % (mean, stdev, param))"
   ]
  },
  {
   "cell_type": "code",
   "execution_count": null,
   "metadata": {
    "colab": {
     "base_uri": "https://localhost:8080/"
    },
    "id": "b_xWFWRbVaVf",
    "outputId": "2f86a3ff-e053-44a2-f2b6-c7332ab0245a"
   },
   "outputs": [
    {
     "name": "stdout",
     "output_type": "stream",
     "text": [
      "              precision    recall  f1-score   support\n",
      "\n",
      "           0       1.00      0.97      0.98    293300\n",
      "           1       0.94      0.99      0.96    122028\n",
      "\n",
      "    accuracy                           0.98    415328\n",
      "   macro avg       0.97      0.98      0.97    415328\n",
      "weighted avg       0.98      0.98      0.98    415328\n",
      "\n",
      "It took 104.33812546730042 milliseconds to test ET with feature from CNN intermidiate layer.\n",
      "\n"
     ]
    }
   ],
   "source": [
    "from sklearn.metrics import precision_score, accuracy_score,classification_report\n",
    "start = time.time()\n",
    "ETpred = etgrid.predict(intermediate_layer_model.predict(X_test))\n",
    "end = time.time()\n",
    "print(classification_report(y_test, ETpred))\n",
    "print(\"It took {} milliseconds to test ET with feature from CNN intermidiate layer.\\n\".format(end-start))"
   ]
  },
  {
   "cell_type": "code",
   "execution_count": null,
   "metadata": {
    "colab": {
     "base_uri": "https://localhost:8080/"
    },
    "id": "JE2u3xDfVaVi",
    "outputId": "8f39b1ff-bf64-408c-858e-2bd02c4ce2e6"
   },
   "outputs": [
    {
     "name": "stdout",
     "output_type": "stream",
     "text": [
      "accuracy on the train set:  0.99998718283936\n",
      "accuracy on the test set:  0.9781257223206719\n"
     ]
    }
   ],
   "source": [
    "print('accuracy on the train set: ', accuracy_score(etgrid.predict(intermediate_output), y_train))\n",
    "print('accuracy on the test set: ', accuracy_score(ETpred, y_test))"
   ]
  },
  {
   "cell_type": "code",
   "execution_count": null,
   "metadata": {
    "colab": {
     "base_uri": "https://localhost:8080/",
     "height": 351
    },
    "id": "BidyzuojVaVj",
    "outputId": "b7bdf846-8366-4594-f44c-30060748ce7d"
   },
   "outputs": [
    {
     "name": "stderr",
     "output_type": "stream",
     "text": [
      "/usr/local/lib/python3.7/dist-packages/sklearn/utils/deprecation.py:87: FutureWarning: Function plot_confusion_matrix is deprecated; Function `plot_confusion_matrix` is deprecated in 1.0 and will be removed in 1.2. Use one of the class methods: ConfusionMatrixDisplay.from_predictions or ConfusionMatrixDisplay.from_estimator.\n",
      "  warnings.warn(msg, category=FutureWarning)\n"
     ]
    },
    {
     "data": {
      "text/plain": [
       "<sklearn.metrics._plot.confusion_matrix.ConfusionMatrixDisplay at 0x7f6b006a6390>"
      ]
     },
     "execution_count": 20,
     "metadata": {},
     "output_type": "execute_result"
    },
    {
     "data": {
      "image/png": "[encoded data removed]",
      "text/plain": [
       "<Figure size 432x288 with 2 Axes>"
      ]
     },
     "metadata": {
      "needs_background": "light"
     },
     "output_type": "display_data"
    }
   ],
   "source": [
    "# Confusion matrix\n",
    "from sklearn.metrics import plot_confusion_matrix\n",
    "plot_confusion_matrix(etgrid, intermediate_layer_model.predict(X_test), y_test, display_labels=[\"legit\", \"dga\"])"
   ]
  },
  {
   "cell_type": "code",
   "execution_count": null,
   "metadata": {
    "id": "H9WcQmTKVaVl"
   },
   "outputs": [],
   "source": [
    "from sklearn import metrics\n",
    "import matplotlib.pyplot as plt\n",
    "\n",
    "etpprd = etgrid.predict_proba(intermediate_layer_model.predict(X_test))[::,1]"
   ]
  },
  {
   "cell_type": "code",
   "execution_count": null,
   "metadata": {
    "id": "uinipDg9VaVl"
   },
   "outputs": [],
   "source": [
    "fpr,tpr, _ = metrics.roc_curve(y_test,etpprd)\n",
    "auc = metrics.roc_auc_score(y_test,etpprd)"
   ]
  },
  {
   "cell_type": "code",
   "execution_count": null,
   "metadata": {
    "colab": {
     "base_uri": "https://localhost:8080/"
    },
    "id": "WU1S6DtLVaVl",
    "outputId": "6af5f321-8197-4ced-d89f-26501a589632"
   },
   "outputs": [
    {
     "name": "stdout",
     "output_type": "stream",
     "text": [
      "0.9975448294797579\n"
     ]
    }
   ],
   "source": [
    "print(auc)"
   ]
  },
  {
   "cell_type": "code",
   "execution_count": null,
   "metadata": {
    "colab": {
     "base_uri": "https://localhost:8080/",
     "height": 312
    },
    "id": "HN8WTgRBVaVm",
    "outputId": "37cd5da4-6a6e-4a3c-e374-14c64f448875"
   },
   "outputs": [
    {
     "data": {
      "text/plain": [
       "<function matplotlib.pyplot.show>"
      ]
     },
     "execution_count": 24,
     "metadata": {},
     "output_type": "execute_result"
    },
    {
     "data": {
      "image/png": "[encoded data removed]",
      "text/plain": [
       "<Figure size 432x288 with 1 Axes>"
      ]
     },
     "metadata": {
      "needs_background": "light"
     },
     "output_type": "display_data"
    }
   ],
   "source": [
    "plt.title('Receiver Operating Characterstic - CNN+ET')\n",
    "plt.plot(fpr,tpr,label= \"AUC = %0.5f\" % (auc))\n",
    "plt.ylabel('True Posetive Rate')\n",
    "plt.xlabel('False Posetive Rate')\n",
    "plt.show"
   ]
  },
  {
   "cell_type": "code",
   "execution_count": null,
   "metadata": {
    "id": "PMooufkIVaVn"
   },
   "outputs": [],
   "source": [
    "import pickle\n",
    "# save the model to disk\n",
    "filename = '/content/drive/My Drive/Colab Notebooks/BCNN+ETmodel_tn.sav'\n",
    "pickle.dump(etgrid, open(filename, 'wb'))"
   ]
  },
  {
   "cell_type": "markdown",
   "metadata": {
    "id": "i8ogsJxBtkKw"
   },
   "source": [
    "## Decision Tree"
   ]
  },
  {
   "cell_type": "code",
   "execution_count": null,
   "metadata": {
    "colab": {
     "base_uri": "https://localhost:8080/"
    },
    "id": "4KRLuASIubsu",
    "outputId": "4476fafd-4b05-468b-d775-d4563dc07844"
   },
   "outputs": [
    {
     "name": "stdout",
     "output_type": "stream",
     "text": [
      "It took 327.1390573978424 milliseconds to train DT with feature from CNN intermidiate layer.\n",
      "\n"
     ]
    }
   ],
   "source": [
    "from sklearn.tree import DecisionTreeClassifier\n",
    "import time\n",
    "start = time.time()\n",
    "DTmodel = DecisionTreeClassifier().fit(intermediate_output, y_train)\n",
    "end = time.time()\n",
    "print(\"It took {} milliseconds to train DT with feature from CNN intermidiate layer.\\n\".format(end-start))"
   ]
  },
  {
   "cell_type": "code",
   "execution_count": null,
   "metadata": {
    "colab": {
     "base_uri": "https://localhost:8080/"
    },
    "id": "hRYMYhZtolV-",
    "outputId": "1646328a-13e3-42c8-e826-5001f7aa0d07"
   },
   "outputs": [
    {
     "name": "stdout",
     "output_type": "stream",
     "text": [
      "              precision    recall  f1-score   support\n",
      "\n",
      "           0       0.99      0.97      0.98    293300\n",
      "           1       0.92      0.97      0.94    122028\n",
      "\n",
      "    accuracy                           0.97    415328\n",
      "   macro avg       0.95      0.97      0.96    415328\n",
      "weighted avg       0.97      0.97      0.97    415328\n",
      "\n",
      "It took 33.02642107009888 milliseconds to test DT with feature from CNN intermidiate layer.\n",
      "\n"
     ]
    }
   ],
   "source": [
    "from sklearn.metrics import precision_score, accuracy_score,classification_report\n",
    "start = time.time()\n",
    "DTpred = DTmodel.predict(intermediate_layer_model.predict(X_test))\n",
    "end = time.time()\n",
    "print(classification_report(y_test, DTpred))\n",
    "print(\"It took {} milliseconds to test DT with feature from CNN intermidiate layer.\\n\".format(end-start))"
   ]
  },
  {
   "cell_type": "code",
   "execution_count": null,
   "metadata": {
    "colab": {
     "base_uri": "https://localhost:8080/"
    },
    "id": "Y56tHsI2om1v",
    "outputId": "3cb6e331-8e53-4bcb-f7f5-dda165082139"
   },
   "outputs": [
    {
     "name": "stdout",
     "output_type": "stream",
     "text": [
      "0.9204010816387139 0.9650981741895303 0.9422198398284676 0.965222667385777\n"
     ]
    }
   ],
   "source": [
    "from sklearn.metrics import precision_score,recall_score,f1_score,accuracy_score\n",
    "average_precision = precision_score(y_test, DTpred)\n",
    "recall_score=recall_score(y_test, DTpred)\n",
    "f1_score = f1_score(y_test, DTpred)\n",
    "accuracy_score = accuracy_score(y_test,DTpred) \n",
    "print(average_precision,recall_score,f1_score,accuracy_score)"
   ]
  },
  {
   "cell_type": "code",
   "execution_count": null,
   "metadata": {
    "colab": {
     "base_uri": "https://localhost:8080/"
    },
    "id": "26i3aRuhubsv",
    "outputId": "914473ed-956c-4e30-90f3-c7d4dbfd8c02"
   },
   "outputs": [
    {
     "name": "stdout",
     "output_type": "stream",
     "text": [
      "              precision    recall  f1-score   support\n",
      "\n",
      "           0       0.99      0.97      0.98    293300\n",
      "           1       0.92      0.96      0.94    122028\n",
      "\n",
      "    accuracy                           0.97    415328\n",
      "   macro avg       0.95      0.97      0.96    415328\n",
      "weighted avg       0.97      0.97      0.97    415328\n",
      "\n",
      "It took 47.78491520881653 milliseconds to test DT with feature from CNN intermidiate layer.\n",
      "\n"
     ]
    }
   ],
   "source": [
    "from sklearn.metrics import precision_score, accuracy_score,classification_report\n",
    "start = time.time()\n",
    "DTpred = DTmodel.predict(intermediate_layer_model.predict(X_test))\n",
    "end = time.time()\n",
    "print(classification_report(y_test, DTpred))\n",
    "print(\"It took {} milliseconds to test DT with feature from CNN intermidiate layer.\\n\".format(end-start))"
   ]
  },
  {
   "cell_type": "code",
   "execution_count": null,
   "metadata": {
    "colab": {
     "base_uri": "https://localhost:8080/"
    },
    "id": "cgWwUB1mubsv",
    "outputId": "5d60237c-5c6b-4f3c-ed81-4d888e60fda1"
   },
   "outputs": [
    {
     "name": "stdout",
     "output_type": "stream",
     "text": [
      "accuracy on the train set:  0.99998718283936\n",
      "accuracy on the test set:  0.965333423222128\n"
     ]
    }
   ],
   "source": [
    "print('accuracy on the train set: ', accuracy_score(DTmodel.predict(intermediate_output), y_train))\n",
    "print('accuracy on the test set: ', accuracy_score(DTpred, y_test))"
   ]
  },
  {
   "cell_type": "code",
   "execution_count": null,
   "metadata": {
    "colab": {
     "base_uri": "https://localhost:8080/",
     "height": 351
    },
    "id": "SJ8fk1wRubsw",
    "outputId": "d52d63b9-3c15-4cdb-95d2-75bc916f70f9"
   },
   "outputs": [
    {
     "name": "stderr",
     "output_type": "stream",
     "text": [
      "/usr/local/lib/python3.7/dist-packages/sklearn/utils/deprecation.py:87: FutureWarning: Function plot_confusion_matrix is deprecated; Function `plot_confusion_matrix` is deprecated in 1.0 and will be removed in 1.2. Use one of the class methods: ConfusionMatrixDisplay.from_predictions or ConfusionMatrixDisplay.from_estimator.\n",
      "  warnings.warn(msg, category=FutureWarning)\n"
     ]
    },
    {
     "data": {
      "text/plain": [
       "<sklearn.metrics._plot.confusion_matrix.ConfusionMatrixDisplay at 0x7fedecb71250>"
      ]
     },
     "execution_count": 23,
     "metadata": {},
     "output_type": "execute_result"
    },
    {
     "data": {
      "image/png": "[encoded data removed]",
      "text/plain": [
       "<Figure size 432x288 with 2 Axes>"
      ]
     },
     "metadata": {},
     "output_type": "display_data"
    }
   ],
   "source": [
    "# Confusion matrix\n",
    "from sklearn.metrics import plot_confusion_matrix\n",
    "plot_confusion_matrix(DTmodel, intermediate_layer_model.predict(X_test), y_test, display_labels=[\"legit\", \"dga\"])"
   ]
  },
  {
   "cell_type": "code",
   "execution_count": null,
   "metadata": {
    "id": "rCojYg-Lubsw"
   },
   "outputs": [],
   "source": [
    "from sklearn import metrics\n",
    "import matplotlib.pyplot as plt\n",
    "\n",
    "dtpprd = DTmodel.predict_proba(intermediate_layer_model.predict(X_test))[::,1]"
   ]
  },
  {
   "cell_type": "code",
   "execution_count": null,
   "metadata": {
    "id": "5xW_V2Knubsx"
   },
   "outputs": [],
   "source": [
    "fpr,tpr, _ = metrics.roc_curve(y_test,dtpprd)\n",
    "auc = metrics.roc_auc_score(y_test,dtpprd)"
   ]
  },
  {
   "cell_type": "code",
   "execution_count": null,
   "metadata": {
    "colab": {
     "base_uri": "https://localhost:8080/"
    },
    "id": "NE1eaB7lubsx",
    "outputId": "2552ea0d-5e67-41bb-cba2-df22d26cdd13"
   },
   "outputs": [
    {
     "name": "stdout",
     "output_type": "stream",
     "text": [
      "0.9652355786844337\n"
     ]
    }
   ],
   "source": [
    "print(auc)"
   ]
  },
  {
   "cell_type": "code",
   "execution_count": null,
   "metadata": {
    "colab": {
     "base_uri": "https://localhost:8080/",
     "height": 312
    },
    "id": "3M2mfbPoubsx",
    "outputId": "e76f4f65-8533-4ee1-8372-3fe12905e2ea"
   },
   "outputs": [
    {
     "data": {
      "text/plain": [
       "<function matplotlib.pyplot.show>"
      ]
     },
     "execution_count": 27,
     "metadata": {},
     "output_type": "execute_result"
    },
    {
     "data": {
      "image/png": "[encoded data removed]",
      "text/plain": [
       "<Figure size 432x288 with 1 Axes>"
      ]
     },
     "metadata": {},
     "output_type": "display_data"
    }
   ],
   "source": [
    "plt.title('Receiver Operating Characterstic - CNN+DT')\n",
    "plt.plot(fpr,tpr,label= \"AUC = %0.5f\" % (auc))\n",
    "plt.ylabel('True Posetive Rate')\n",
    "plt.xlabel('False Posetive Rate')\n",
    "plt.show"
   ]
  },
  {
   "cell_type": "code",
   "execution_count": null,
   "metadata": {
    "id": "OrbzTth-ubsy"
   },
   "outputs": [],
   "source": [
    "import pickle\n",
    "# save the model to disk\n",
    "filename = '/content/drive/My Drive/Colab Notebooks/BCNN+DTmodel.sav'\n",
    "pickle.dump(DTmodel, open(filename, 'wb'))"
   ]
  },
  {
   "cell_type": "markdown",
   "metadata": {
    "id": "dJw52Ka1BSOG"
   },
   "source": [
    "#### tuning CNN+DT"
   ]
  },
  {
   "cell_type": "code",
   "execution_count": null,
   "metadata": {
    "colab": {
     "base_uri": "https://localhost:8080/"
    },
    "id": "DvWpqMl2BcRO",
    "outputId": "74db6607-bb75-46b7-d1d3-2b0adb03dbeb"
   },
   "outputs": [
    {
     "name": "stderr",
     "output_type": "stream",
     "text": [
      "/usr/local/lib/python3.7/dist-packages/joblib/externals/loky/process_executor.py:705: UserWarning: A worker stopped while some jobs were given to the executor. This can be caused by a too short worker timeout or by a memory leak.\n",
      "  \"timeout or by a memory leak.\", UserWarning\n"
     ]
    },
    {
     "name": "stdout",
     "output_type": "stream",
     "text": [
      "It took 2242.411283969879 milliseconds to tune and fit DT with feature from CNN intermidiate layer.\n",
      "\n"
     ]
    }
   ],
   "source": [
    "from sklearn.tree import DecisionTreeClassifier\n",
    "dtparams = {'max_depth': [5,10,20,50,100],\n",
    "    'criterion': ['gini','entropy']}\n",
    "dtclf = DecisionTreeClassifier()\n",
    "start = time.time()\n",
    "dtgrid = HalvingGridSearchCV(dtclf, dtparams, scoring='accuracy', n_jobs=-1).fit(intermediate_output, y_train)\n",
    "end = time.time()\n",
    "print(\"It took {} milliseconds to tune and fit DT with feature from CNN intermidiate layer.\\n\".format(end-start))"
   ]
  },
  {
   "cell_type": "code",
   "execution_count": null,
   "metadata": {
    "colab": {
     "base_uri": "https://localhost:8080/"
    },
    "id": "rzh98UJ1CHlH",
    "outputId": "eb238372-4a26-44ed-ea2b-9f232fe2d412"
   },
   "outputs": [
    {
     "name": "stdout",
     "output_type": "stream",
     "text": [
      "Best: 0.969490 using {'criterion': 'gini', 'max_depth': 20}\n",
      "0.942334 (0.000923) with: {'criterion': 'gini', 'max_depth': 5}\n",
      "0.961790 (0.000877) with: {'criterion': 'gini', 'max_depth': 10}\n",
      "0.960037 (0.001177) with: {'criterion': 'gini', 'max_depth': 20}\n",
      "0.955096 (0.001159) with: {'criterion': 'gini', 'max_depth': 50}\n",
      "0.955450 (0.001035) with: {'criterion': 'gini', 'max_depth': 100}\n",
      "0.939711 (0.002773) with: {'criterion': 'entropy', 'max_depth': 5}\n",
      "0.960768 (0.000703) with: {'criterion': 'entropy', 'max_depth': 10}\n",
      "0.957987 (0.001327) with: {'criterion': 'entropy', 'max_depth': 20}\n",
      "0.957145 (0.001789) with: {'criterion': 'entropy', 'max_depth': 50}\n",
      "0.956592 (0.001846) with: {'criterion': 'entropy', 'max_depth': 100}\n",
      "0.963020 (0.000983) with: {'criterion': 'entropy', 'max_depth': 20}\n",
      "0.965126 (0.000646) with: {'criterion': 'gini', 'max_depth': 20}\n",
      "0.963267 (0.000797) with: {'criterion': 'entropy', 'max_depth': 10}\n",
      "0.963418 (0.000371) with: {'criterion': 'gini', 'max_depth': 10}\n",
      "0.964517 (0.000164) with: {'criterion': 'gini', 'max_depth': 10}\n",
      "0.969490 (0.000630) with: {'criterion': 'gini', 'max_depth': 20}\n"
     ]
    }
   ],
   "source": [
    "# summarize results\n",
    "print(\"Best: %f using %s\" % (dtgrid.best_score_, dtgrid.best_params_))\n",
    "means = dtgrid.cv_results_['mean_test_score']\n",
    "stds = dtgrid.cv_results_['std_test_score']\n",
    "params = dtgrid.cv_results_['params']\n",
    "for mean, stdev, param in zip(means, stds, params):\n",
    " print(\"%f (%f) with: %r\" % (mean, stdev, param))"
   ]
  },
  {
   "cell_type": "code",
   "execution_count": null,
   "metadata": {
    "colab": {
     "base_uri": "https://localhost:8080/"
    },
    "id": "3keuDcdYCHlI",
    "outputId": "cf4575ba-8000-488f-e841-d8a71bfd2d28"
   },
   "outputs": [
    {
     "name": "stdout",
     "output_type": "stream",
     "text": [
      "              precision    recall  f1-score   support\n",
      "\n",
      "           0       0.99      0.97      0.98    293300\n",
      "           1       0.92      0.97      0.95    122028\n",
      "\n",
      "    accuracy                           0.97    415328\n",
      "   macro avg       0.96      0.97      0.96    415328\n",
      "weighted avg       0.97      0.97      0.97    415328\n",
      "\n",
      "It took 41.52342104911804 milliseconds to test DT with feature from CNN intermidiate layer.\n",
      "\n"
     ]
    }
   ],
   "source": [
    "from sklearn.metrics import precision_score, accuracy_score,classification_report\n",
    "start = time.time()\n",
    "DTpred = dtgrid.predict(intermediate_layer_model.predict(X_test))\n",
    "end = time.time()\n",
    "print(classification_report(y_test, DTpred))\n",
    "print(\"It took {} milliseconds to test DT with feature from CNN intermidiate layer.\\n\".format(end-start))"
   ]
  },
  {
   "cell_type": "code",
   "execution_count": null,
   "metadata": {
    "colab": {
     "base_uri": "https://localhost:8080/"
    },
    "id": "-4b_pNeRCHlJ",
    "outputId": "96f6b24f-cb65-4ea0-db0d-c036d2924bf2"
   },
   "outputs": [
    {
     "name": "stdout",
     "output_type": "stream",
     "text": [
      "accuracy on the train set:  0.9905708421558123\n",
      "accuracy on the test set:  0.9682853070344403\n"
     ]
    }
   ],
   "source": [
    "print('accuracy on the train set: ', accuracy_score(dtgrid.predict(intermediate_output), y_train))\n",
    "print('accuracy on the test set: ', accuracy_score(DTpred, y_test))"
   ]
  },
  {
   "cell_type": "code",
   "execution_count": null,
   "metadata": {
    "colab": {
     "base_uri": "https://localhost:8080/",
     "height": 351
    },
    "id": "wtm35A2aCHlJ",
    "outputId": "33a9528a-d7a3-494e-83c8-2c63cddd010e"
   },
   "outputs": [
    {
     "name": "stderr",
     "output_type": "stream",
     "text": [
      "/usr/local/lib/python3.7/dist-packages/sklearn/utils/deprecation.py:87: FutureWarning: Function plot_confusion_matrix is deprecated; Function `plot_confusion_matrix` is deprecated in 1.0 and will be removed in 1.2. Use one of the class methods: ConfusionMatrixDisplay.from_predictions or ConfusionMatrixDisplay.from_estimator.\n",
      "  warnings.warn(msg, category=FutureWarning)\n"
     ]
    },
    {
     "data": {
      "text/plain": [
       "<sklearn.metrics._plot.confusion_matrix.ConfusionMatrixDisplay at 0x7f6b057b7550>"
      ]
     },
     "execution_count": 31,
     "metadata": {},
     "output_type": "execute_result"
    },
    {
     "data": {
      "image/png": "[encoded data removed]",
      "text/plain": [
       "<Figure size 432x288 with 2 Axes>"
      ]
     },
     "metadata": {
      "needs_background": "light"
     },
     "output_type": "display_data"
    }
   ],
   "source": [
    "# Confusion matrix\n",
    "from sklearn.metrics import plot_confusion_matrix\n",
    "plot_confusion_matrix(dtgrid, intermediate_layer_model.predict(X_test), y_test, display_labels=[\"legit\", \"dga\"])"
   ]
  },
  {
   "cell_type": "code",
   "execution_count": null,
   "metadata": {
    "id": "gMvbOEtuCHlK"
   },
   "outputs": [],
   "source": [
    "from sklearn import metrics\n",
    "import matplotlib.pyplot as plt\n",
    "\n",
    "Dtpprd = dtgrid.predict_proba(intermediate_layer_model.predict(X_test))[::,1]"
   ]
  },
  {
   "cell_type": "code",
   "execution_count": null,
   "metadata": {
    "colab": {
     "base_uri": "https://localhost:8080/"
    },
    "id": "xlEGRaPbCHlK",
    "outputId": "8867fda4-586c-4bca-e53f-ce907f7144fb"
   },
   "outputs": [
    {
     "name": "stdout",
     "output_type": "stream",
     "text": [
      "0.9657561797479622\n"
     ]
    }
   ],
   "source": [
    "fpr,tpr, _ = metrics.roc_curve(y_test,Dtpprd)\n",
    "auc = metrics.roc_auc_score(y_test,Dtpprd)\n",
    "print(auc)"
   ]
  },
  {
   "cell_type": "code",
   "execution_count": null,
   "metadata": {
    "colab": {
     "base_uri": "https://localhost:8080/",
     "height": 312
    },
    "id": "_LhUpY86CHlL",
    "outputId": "994631a9-74b6-4e8e-8520-5aa2d82d3718"
   },
   "outputs": [
    {
     "data": {
      "text/plain": [
       "<function matplotlib.pyplot.show>"
      ]
     },
     "execution_count": 34,
     "metadata": {},
     "output_type": "execute_result"
    },
    {
     "data": {
      "image/png": "[encoded data removed]",
      "text/plain": [
       "<Figure size 432x288 with 1 Axes>"
      ]
     },
     "metadata": {
      "needs_background": "light"
     },
     "output_type": "display_data"
    }
   ],
   "source": [
    "plt.title('Receiver Operating Characterstic - CNN+DT')\n",
    "plt.plot(fpr,tpr,label= \"AUC = %0.5f\" % (auc))\n",
    "plt.ylabel('True Posetive Rate')\n",
    "plt.xlabel('False Posetive Rate')\n",
    "plt.show"
   ]
  },
  {
   "cell_type": "code",
   "execution_count": null,
   "metadata": {
    "id": "oTLHucH1CHlL"
   },
   "outputs": [],
   "source": [
    "import pickle\n",
    "# save the model to disk\n",
    "filename = '/content/drive/My Drive/Colab Notebooks/BCNN+DTmodel_tn.sav'\n",
    "pickle.dump(dtgrid, open(filename, 'wb'))"
   ]
  },
  {
   "cell_type": "markdown",
   "metadata": {
    "id": "oHIaB-sZwldL"
   },
   "source": [
    "## Adaboost Classifier"
   ]
  },
  {
   "cell_type": "code",
   "execution_count": null,
   "metadata": {
    "colab": {
     "base_uri": "https://localhost:8080/"
    },
    "id": "cw2W6KYTwlda",
    "outputId": "cee881e7-bef7-47cc-b131-d6a3f17640af"
   },
   "outputs": [
    {
     "name": "stdout",
     "output_type": "stream",
     "text": [
      "It took 1058.3013908863068 milliseconds to train AB with feature from CNN intermidiate layer.\n",
      "\n"
     ]
    }
   ],
   "source": [
    "from sklearn.ensemble import AdaBoostClassifier\n",
    "import time\n",
    "start = time.time()\n",
    "ABmodel = AdaBoostClassifier().fit(intermediate_output, y_train)\n",
    "end = time.time()\n",
    "print(\"It took {} milliseconds to train AB with feature from CNN intermidiate layer.\\n\".format(end-start))"
   ]
  },
  {
   "cell_type": "code",
   "execution_count": null,
   "metadata": {
    "colab": {
     "base_uri": "https://localhost:8080/"
    },
    "id": "8Cxbqi27wldb",
    "outputId": "6b7124fb-6047-4ed1-e452-431ae4bb2055"
   },
   "outputs": [
    {
     "name": "stdout",
     "output_type": "stream",
     "text": [
      "              precision    recall  f1-score   support\n",
      "\n",
      "           0       0.99      0.97      0.98    293300\n",
      "           1       0.92      0.97      0.95    122028\n",
      "\n",
      "    accuracy                           0.97    415328\n",
      "   macro avg       0.96      0.97      0.96    415328\n",
      "weighted avg       0.97      0.97      0.97    415328\n",
      "\n",
      "It took 85.9472393989563 milliseconds to test AB with feature from CNN intermidiate layer.\n",
      "\n"
     ]
    }
   ],
   "source": [
    "from sklearn.metrics import precision_score, accuracy_score,classification_report\n",
    "start = time.time()\n",
    "ABpred = ABmodel.predict(intermediate_layer_model.predict(X_test))\n",
    "end = time.time()\n",
    "print(classification_report(y_test, ABpred))\n",
    "print(\"It took {} milliseconds to test AB with feature from CNN intermidiate layer.\\n\".format(end-start))"
   ]
  },
  {
   "cell_type": "code",
   "execution_count": null,
   "metadata": {
    "colab": {
     "base_uri": "https://localhost:8080/"
    },
    "id": "RiJq7X0jwldc",
    "outputId": "72becada-0569-4ccc-faa5-6e6e01fdb05c"
   },
   "outputs": [
    {
     "name": "stdout",
     "output_type": "stream",
     "text": [
      "accuracy on the train set:  0.9688026037634602\n",
      "accuracy on the test set:  0.9685357115340165\n"
     ]
    }
   ],
   "source": [
    "print('accuracy on the train set: ', accuracy_score(ABmodel.predict(intermediate_output), y_train))\n",
    "print('accuracy on the test set: ', accuracy_score(ABpred, y_test))"
   ]
  },
  {
   "cell_type": "code",
   "execution_count": null,
   "metadata": {
    "colab": {
     "base_uri": "https://localhost:8080/",
     "height": 351
    },
    "id": "rez8hjy7wldd",
    "outputId": "74e2b0ab-77af-4d34-b86b-5b67aea18be5"
   },
   "outputs": [
    {
     "name": "stderr",
     "output_type": "stream",
     "text": [
      "/usr/local/lib/python3.7/dist-packages/sklearn/utils/deprecation.py:87: FutureWarning: Function plot_confusion_matrix is deprecated; Function `plot_confusion_matrix` is deprecated in 1.0 and will be removed in 1.2. Use one of the class methods: ConfusionMatrixDisplay.from_predictions or ConfusionMatrixDisplay.from_estimator.\n",
      "  warnings.warn(msg, category=FutureWarning)\n"
     ]
    },
    {
     "data": {
      "text/plain": [
       "<sklearn.metrics._plot.confusion_matrix.ConfusionMatrixDisplay at 0x7fedecc2af50>"
      ]
     },
     "execution_count": 32,
     "metadata": {},
     "output_type": "execute_result"
    },
    {
     "data": {
      "image/png": "[encoded data removed]",
      "text/plain": [
       "<Figure size 432x288 with 2 Axes>"
      ]
     },
     "metadata": {},
     "output_type": "display_data"
    }
   ],
   "source": [
    "# Confusion matrix\n",
    "from sklearn.metrics import plot_confusion_matrix\n",
    "plot_confusion_matrix(ABmodel, intermediate_layer_model.predict(X_test), y_test, display_labels=[\"legit\", \"dga\"])"
   ]
  },
  {
   "cell_type": "code",
   "execution_count": null,
   "metadata": {
    "id": "c7JSwA_wwldd"
   },
   "outputs": [],
   "source": [
    "from sklearn import metrics\n",
    "import matplotlib.pyplot as plt\n",
    "\n",
    "abpprd = ABmodel.predict_proba(intermediate_layer_model.predict(X_test))[::,1]"
   ]
  },
  {
   "cell_type": "code",
   "execution_count": null,
   "metadata": {
    "id": "zM0GPFomwldd"
   },
   "outputs": [],
   "source": [
    "fpr,tpr, _ = metrics.roc_curve(y_test,abpprd)\n",
    "auc = metrics.roc_auc_score(y_test,abpprd)"
   ]
  },
  {
   "cell_type": "code",
   "execution_count": null,
   "metadata": {
    "colab": {
     "base_uri": "https://localhost:8080/"
    },
    "id": "7ZPM-8CHwldd",
    "outputId": "054cd65e-15ff-41e8-957b-df2e7bd8e4e4"
   },
   "outputs": [
    {
     "name": "stdout",
     "output_type": "stream",
     "text": [
      "0.9939086313810525\n"
     ]
    }
   ],
   "source": [
    "print(auc)"
   ]
  },
  {
   "cell_type": "code",
   "execution_count": null,
   "metadata": {
    "colab": {
     "base_uri": "https://localhost:8080/",
     "height": 312
    },
    "id": "m32hnYE8wldd",
    "outputId": "8f708453-3ef2-462e-c494-eecc1260f064"
   },
   "outputs": [
    {
     "data": {
      "text/plain": [
       "<function matplotlib.pyplot.show>"
      ]
     },
     "execution_count": 36,
     "metadata": {},
     "output_type": "execute_result"
    },
    {
     "data": {
      "image/png": "[encoded data removed]",
      "text/plain": [
       "<Figure size 432x288 with 1 Axes>"
      ]
     },
     "metadata": {},
     "output_type": "display_data"
    }
   ],
   "source": [
    "plt.title('Receiver Operating Characterstic - CNN+AB')\n",
    "plt.plot(fpr,tpr,label= \"AUC = %0.5f\" % (auc))\n",
    "plt.ylabel('True Posetive Rate')\n",
    "plt.xlabel('False Posetive Rate')\n",
    "plt.show"
   ]
  },
  {
   "cell_type": "code",
   "execution_count": null,
   "metadata": {
    "id": "4XWcZez4wlde"
   },
   "outputs": [],
   "source": [
    "import pickle\n",
    "# save the model to disk\n",
    "filename = '/content/drive/My Drive/Colab Notebooks/BCNN+ABmodel.sav'\n",
    "pickle.dump(ABmodel, open(filename, 'wb'))"
   ]
  },
  {
   "cell_type": "markdown",
   "metadata": {
    "id": "m9lcfwzLLbQa"
   },
   "source": [
    "#### tuning AB"
   ]
  },
  {
   "cell_type": "code",
   "execution_count": null,
   "metadata": {
    "colab": {
     "base_uri": "https://localhost:8080/"
    },
    "id": "xWGYjhCkLik7",
    "outputId": "b4b57539-082c-41e5-b8c1-1c7141ec2dd0"
   },
   "outputs": [
    {
     "name": "stderr",
     "output_type": "stream",
     "text": [
      "/usr/local/lib/python3.7/dist-packages/joblib/externals/loky/process_executor.py:705: UserWarning: A worker stopped while some jobs were given to the executor. This can be caused by a too short worker timeout or by a memory leak.\n",
      "  \"timeout or by a memory leak.\", UserWarning\n"
     ]
    },
    {
     "name": "stdout",
     "output_type": "stream",
     "text": [
      "It took 7750.068004369736 milliseconds to tune and fit AB with feature from CNN intermidiate layer.\n",
      "\n"
     ]
    }
   ],
   "source": [
    "from sklearn.ensemble import AdaBoostClassifier\n",
    "abparams = {'learning_rate': [0.001,0.01, 0.1, 1] \n",
    "            }\n",
    "abclf = AdaBoostClassifier()\n",
    "start = time.time()\n",
    "abgrid = HalvingGridSearchCV(abclf, abparams, scoring='accuracy', n_jobs=-1).fit(intermediate_output, y_train)\n",
    "end = time.time()\n",
    "print(\"It took {} milliseconds to tune and fit AB with feature from CNN intermidiate layer.\\n\".format(end-start))"
   ]
  },
  {
   "cell_type": "code",
   "execution_count": null,
   "metadata": {
    "colab": {
     "base_uri": "https://localhost:8080/"
    },
    "id": "JWQobWnuMaed",
    "outputId": "05ee8f97-3233-4d35-e1b6-bf0c55822797"
   },
   "outputs": [
    {
     "name": "stdout",
     "output_type": "stream",
     "text": [
      "Best: 0.967681 using {'learning_rate': 1}\n",
      "0.832233 (0.001591) with: {'learning_rate': 0.001}\n",
      "0.885560 (0.002108) with: {'learning_rate': 0.01}\n",
      "0.947233 (0.000775) with: {'learning_rate': 0.1}\n",
      "0.967735 (0.001459) with: {'learning_rate': 1}\n",
      "0.946969 (0.001180) with: {'learning_rate': 0.1}\n",
      "0.967681 (0.001488) with: {'learning_rate': 1}\n"
     ]
    }
   ],
   "source": [
    "# summarize results\n",
    "print(\"Best: %f using %s\" % (abgrid.best_score_, abgrid.best_params_))\n",
    "means = abgrid.cv_results_['mean_test_score']\n",
    "stds = abgrid.cv_results_['std_test_score']\n",
    "params = abgrid.cv_results_['params']\n",
    "for mean, stdev, param in zip(means, stds, params):\n",
    " print(\"%f (%f) with: %r\" % (mean, stdev, param))"
   ]
  },
  {
   "cell_type": "code",
   "execution_count": null,
   "metadata": {
    "colab": {
     "base_uri": "https://localhost:8080/"
    },
    "id": "05hxl68TMaee",
    "outputId": "1011db0c-a78b-4238-a18a-368c8b0ca2a2"
   },
   "outputs": [
    {
     "name": "stdout",
     "output_type": "stream",
     "text": [
      "              precision    recall  f1-score   support\n",
      "\n",
      "           0       0.99      0.97      0.98    293300\n",
      "           1       0.92      0.97      0.95    122028\n",
      "\n",
      "    accuracy                           0.97    415328\n",
      "   macro avg       0.96      0.97      0.96    415328\n",
      "weighted avg       0.97      0.97      0.97    415328\n",
      "\n",
      "It took 37.932677268981934 milliseconds to test AB with feature from CNN intermidiate layer.\n",
      "\n"
     ]
    }
   ],
   "source": [
    "from sklearn.metrics import precision_score, accuracy_score,classification_report\n",
    "start = time.time()\n",
    "ABpred = abgrid.predict(intermediate_layer_model.predict(X_test))\n",
    "end = time.time()\n",
    "print(classification_report(y_test, ABpred))\n",
    "print(\"It took {} milliseconds to test AB with feature from CNN intermidiate layer.\\n\".format(end-start))"
   ]
  },
  {
   "cell_type": "code",
   "execution_count": null,
   "metadata": {
    "colab": {
     "base_uri": "https://localhost:8080/"
    },
    "id": "sJdLtZXEMaee",
    "outputId": "4c6c0ca6-0417-4a7a-9f5e-d54e3ae1b69a"
   },
   "outputs": [
    {
     "name": "stdout",
     "output_type": "stream",
     "text": [
      "accuracy on the train set:  0.9688026037634602\n",
      "accuracy on the test set:  0.9685357115340165\n"
     ]
    }
   ],
   "source": [
    "print('accuracy on the train set: ', accuracy_score(abgrid.predict(intermediate_output), y_train))\n",
    "print('accuracy on the test set: ', accuracy_score(ABpred, y_test))"
   ]
  },
  {
   "cell_type": "code",
   "execution_count": null,
   "metadata": {
    "colab": {
     "base_uri": "https://localhost:8080/",
     "height": 351
    },
    "id": "j-fUincaMaee",
    "outputId": "7cf5c857-9ff4-4754-a857-f37f94faa186"
   },
   "outputs": [
    {
     "name": "stderr",
     "output_type": "stream",
     "text": [
      "/usr/local/lib/python3.7/dist-packages/sklearn/utils/deprecation.py:87: FutureWarning: Function plot_confusion_matrix is deprecated; Function `plot_confusion_matrix` is deprecated in 1.0 and will be removed in 1.2. Use one of the class methods: ConfusionMatrixDisplay.from_predictions or ConfusionMatrixDisplay.from_estimator.\n",
      "  warnings.warn(msg, category=FutureWarning)\n"
     ]
    },
    {
     "data": {
      "text/plain": [
       "<sklearn.metrics._plot.confusion_matrix.ConfusionMatrixDisplay at 0x7f6b04972410>"
      ]
     },
     "execution_count": 41,
     "metadata": {},
     "output_type": "execute_result"
    },
    {
     "data": {
      "image/png": "[encoded data removed]",
      "text/plain": [
       "<Figure size 432x288 with 2 Axes>"
      ]
     },
     "metadata": {
      "needs_background": "light"
     },
     "output_type": "display_data"
    }
   ],
   "source": [
    "# Confusion matrix\n",
    "from sklearn.metrics import plot_confusion_matrix\n",
    "plot_confusion_matrix(abgrid, intermediate_layer_model.predict(X_test), y_test, display_labels=[\"legit\", \"dga\"])"
   ]
  },
  {
   "cell_type": "code",
   "execution_count": null,
   "metadata": {
    "id": "D8_SZVZTMaee"
   },
   "outputs": [],
   "source": [
    "from sklearn import metrics\n",
    "import matplotlib.pyplot as plt\n",
    "\n",
    "pprd = abgrid.predict_proba(intermediate_layer_model.predict(X_test))[::,1]"
   ]
  },
  {
   "cell_type": "code",
   "execution_count": null,
   "metadata": {
    "colab": {
     "base_uri": "https://localhost:8080/"
    },
    "id": "88MkJTaIMaef",
    "outputId": "09f8ce9a-1564-4f95-8e2f-6f300a8cc27b"
   },
   "outputs": [
    {
     "name": "stdout",
     "output_type": "stream",
     "text": [
      "0.9939086313810525\n"
     ]
    }
   ],
   "source": [
    "fpr,tpr, _ = metrics.roc_curve(y_test,pprd)\n",
    "auc = metrics.roc_auc_score(y_test, pprd)\n",
    "print(auc)"
   ]
  },
  {
   "cell_type": "code",
   "execution_count": null,
   "metadata": {
    "colab": {
     "base_uri": "https://localhost:8080/",
     "height": 312
    },
    "id": "YRIKSPH_Maef",
    "outputId": "9f99e8e8-177e-4bdd-81d6-1398979a1c6e"
   },
   "outputs": [
    {
     "data": {
      "text/plain": [
       "<function matplotlib.pyplot.show>"
      ]
     },
     "execution_count": 44,
     "metadata": {},
     "output_type": "execute_result"
    },
    {
     "data": {
      "image/png": "[encoded data removed]",
      "text/plain": [
       "<Figure size 432x288 with 1 Axes>"
      ]
     },
     "metadata": {
      "needs_background": "light"
     },
     "output_type": "display_data"
    }
   ],
   "source": [
    "plt.title('Receiver Operating Characterstic - CNN+AB')\n",
    "plt.plot(fpr,tpr,label= \"AUC = %0.5f\" % (auc))\n",
    "plt.ylabel('True Posetive Rate')\n",
    "plt.xlabel('False Posetive Rate')\n",
    "plt.show"
   ]
  },
  {
   "cell_type": "code",
   "execution_count": null,
   "metadata": {
    "id": "IeS1xNc9Maef"
   },
   "outputs": [],
   "source": [
    "import pickle\n",
    "# save the model to disk\n",
    "filename = '/content/drive/My Drive/Colab Notebooks/BCNN+ABmodel_tn.sav'\n",
    "pickle.dump(abgrid, open(filename, 'wb'))"
   ]
  },
  {
   "cell_type": "markdown",
   "metadata": {
    "id": "tBMYwuDwyREN"
   },
   "source": [
    "## XGBoost Classifier"
   ]
  },
  {
   "cell_type": "code",
   "execution_count": null,
   "metadata": {
    "colab": {
     "base_uri": "https://localhost:8080/"
    },
    "id": "aQl1tvYLyREe",
    "outputId": "dec4f4da-ce8e-4e2f-fd24-b70140ef23f2"
   },
   "outputs": [
    {
     "name": "stdout",
     "output_type": "stream",
     "text": [
      "It took 1177.1565301418304 milliseconds to train XGB with feature from CNN intermidiate layer.\n",
      "\n"
     ]
    }
   ],
   "source": [
    "from xgboost import XGBClassifier\n",
    "start = time.time()\n",
    "XGBmodel = XGBClassifier().fit(intermediate_output, y_train)\n",
    "end = time.time()\n",
    "print(\"It took {} milliseconds to train XGB with feature from CNN intermidiate layer.\\n\".format(end-start))"
   ]
  },
  {
   "cell_type": "code",
   "execution_count": null,
   "metadata": {
    "colab": {
     "base_uri": "https://localhost:8080/"
    },
    "id": "5aX3EMBZyREf",
    "outputId": "472ef6c9-2cb8-45cb-a69f-bc65c99d60db"
   },
   "outputs": [
    {
     "name": "stdout",
     "output_type": "stream",
     "text": [
      "It took 83.80255794525146 milliseconds to test XGB with feature from CNN intermidiate layer.\n",
      "\n",
      "              precision    recall  f1-score   support\n",
      "\n",
      "           0       0.99      0.97      0.98    293300\n",
      "           1       0.93      0.98      0.95    122028\n",
      "\n",
      "    accuracy                           0.97    415328\n",
      "   macro avg       0.96      0.98      0.97    415328\n",
      "weighted avg       0.97      0.97      0.97    415328\n",
      "\n"
     ]
    }
   ],
   "source": [
    "from sklearn.metrics import precision_score, accuracy_score,classification_report\n",
    "start = time.time()\n",
    "xgbpred = XGBmodel.predict(intermediate_layer_model.predict(X_test))\n",
    "end = time.time()\n",
    "print(\"It took {} milliseconds to test XGB with feature from CNN intermidiate layer.\\n\".format(end-start))\n",
    "print(classification_report(y_test, xgbpred))"
   ]
  },
  {
   "cell_type": "code",
   "execution_count": null,
   "metadata": {
    "colab": {
     "base_uri": "https://localhost:8080/"
    },
    "id": "_RThzUwoyREg",
    "outputId": "8530e37a-770c-4d7c-9d2f-80abc33ebf98"
   },
   "outputs": [
    {
     "name": "stdout",
     "output_type": "stream",
     "text": [
      "accuracy on the train set:  0.9756486764999923\n",
      "accuracy on the test set:  0.9724169812774481\n"
     ]
    }
   ],
   "source": [
    "print('accuracy on the train set: ', accuracy_score(XGBmodel.predict(intermediate_output), y_train))\n",
    "print('accuracy on the test set: ', accuracy_score(xgbpred, y_test))"
   ]
  },
  {
   "cell_type": "code",
   "execution_count": null,
   "metadata": {
    "colab": {
     "base_uri": "https://localhost:8080/",
     "height": 351
    },
    "id": "cUSDk-ityREg",
    "outputId": "ab691b6e-6dae-4b00-b347-8b8d316f50b1"
   },
   "outputs": [
    {
     "name": "stderr",
     "output_type": "stream",
     "text": [
      "/usr/local/lib/python3.7/dist-packages/sklearn/utils/deprecation.py:87: FutureWarning: Function plot_confusion_matrix is deprecated; Function `plot_confusion_matrix` is deprecated in 1.0 and will be removed in 1.2. Use one of the class methods: ConfusionMatrixDisplay.from_predictions or ConfusionMatrixDisplay.from_estimator.\n",
      "  warnings.warn(msg, category=FutureWarning)\n"
     ]
    },
    {
     "data": {
      "text/plain": [
       "<sklearn.metrics._plot.confusion_matrix.ConfusionMatrixDisplay at 0x7fedeca8ce90>"
      ]
     },
     "execution_count": 41,
     "metadata": {},
     "output_type": "execute_result"
    },
    {
     "data": {
      "image/png": "[encoded data removed]",
      "text/plain": [
       "<Figure size 432x288 with 2 Axes>"
      ]
     },
     "metadata": {},
     "output_type": "display_data"
    }
   ],
   "source": [
    "# Confusion matrix\n",
    "from sklearn.metrics import plot_confusion_matrix\n",
    "plot_confusion_matrix(XGBmodel, intermediate_layer_model.predict(X_test), y_test, display_labels=[\"legit\", \"dga\"])"
   ]
  },
  {
   "cell_type": "code",
   "execution_count": null,
   "metadata": {
    "id": "cuOai8oByREh"
   },
   "outputs": [],
   "source": [
    "from sklearn import metrics\n",
    "import matplotlib.pyplot as plt\n",
    "\n",
    "xgbpprd = XGBmodel.predict_proba(intermediate_layer_model.predict(X_test))[::,1]"
   ]
  },
  {
   "cell_type": "code",
   "execution_count": null,
   "metadata": {
    "id": "PAXt8z5ayREh"
   },
   "outputs": [],
   "source": [
    "fpr,tpr, _ = metrics.roc_curve(y_test,xgbpprd)\n",
    "auc = metrics.roc_auc_score(y_test,xgbpprd)"
   ]
  },
  {
   "cell_type": "code",
   "execution_count": null,
   "metadata": {
    "colab": {
     "base_uri": "https://localhost:8080/"
    },
    "id": "Ci0bwaDbyREi",
    "outputId": "51c8bd79-7ade-4c97-b1a7-691fcc7c19ea"
   },
   "outputs": [
    {
     "name": "stdout",
     "output_type": "stream",
     "text": [
      "0.9955376060002482\n"
     ]
    }
   ],
   "source": [
    "print(auc)"
   ]
  },
  {
   "cell_type": "code",
   "execution_count": null,
   "metadata": {
    "colab": {
     "base_uri": "https://localhost:8080/",
     "height": 312
    },
    "id": "dmeT0PqeyREi",
    "outputId": "87316fcd-4545-46f0-fece-68ccaae8ba81"
   },
   "outputs": [
    {
     "data": {
      "text/plain": [
       "<function matplotlib.pyplot.show>"
      ]
     },
     "execution_count": 45,
     "metadata": {},
     "output_type": "execute_result"
    },
    {
     "data": {
      "image/png": "[encoded data removed]",
      "text/plain": [
       "<Figure size 432x288 with 1 Axes>"
      ]
     },
     "metadata": {},
     "output_type": "display_data"
    }
   ],
   "source": [
    "plt.title('Receiver Operating Characterstic - CNN+XGB')\n",
    "plt.plot(fpr,tpr,label= \"AUC = %0.5f\" % (auc))\n",
    "plt.ylabel('True Posetive Rate')\n",
    "plt.xlabel('False Posetive Rate')\n",
    "plt.show"
   ]
  },
  {
   "cell_type": "code",
   "execution_count": null,
   "metadata": {
    "id": "_A2FzgYuyREi"
   },
   "outputs": [],
   "source": [
    "import pickle\n",
    "# save the model to disk\n",
    "filename = '/content/drive/My Drive/Colab Notebooks/BCNN+XGBmodel.sav'\n",
    "pickle.dump(XGBmodel, open(filename, 'wb'))"
   ]
  },
  {
   "cell_type": "markdown",
   "metadata": {
    "id": "rfcXK-bYrFNt"
   },
   "source": [
    "#### tuning XGB"
   ]
  },
  {
   "cell_type": "code",
   "execution_count": null,
   "metadata": {
    "id": "QLc7dXFZrITD"
   },
   "outputs": [],
   "source": [
    "from xgboost import XGBClassifier\n",
    "from sklearn.experimental import enable_halving_search_cv\n",
    "from sklearn.model_selection import HalvingGridSearchCV\n",
    "from sklearn.ensemble import RandomForestClassifier\n",
    "\n",
    "xgbparams = {'learning_rate': [0.001,0.01, 0.1, 1],\n",
    "             'max_depth': [5,10,20,50,100]}\n",
    "xgbclf = XGBClassifier()\n",
    "start = time.time()\n",
    "xgbgrid = HalvingGridSearchCV(xgbclf, xgbparams, scoring='accuracy', n_jobs=-1).fit(intermediate_output, y_train)\n",
    "end = time.time()\n",
    "print(\"It took {} milliseconds to tune and fit AB with feature from CNN intermidiate layer.\\n\".format(end-start))"
   ]
  },
  {
   "cell_type": "code",
   "execution_count": null,
   "metadata": {
    "id": "l2WODRrnyImS"
   },
   "outputs": [],
   "source": [
    "# summarize results\n",
    "print(\"Best: %f using %s\" % (xgbgrid.best_score_, xgbgrid.best_params_))\n",
    "means = xgbgrid.cv_results_['mean_test_score']\n",
    "stds = xgbgrid.cv_results_['std_test_score']\n",
    "params = xgbgrid.cv_results_['params']\n",
    "for mean, stdev, param in zip(means, stds, params):\n",
    " print(\"%f (%f) with: %r\" % (mean, stdev, param))"
   ]
  },
  {
   "cell_type": "code",
   "execution_count": null,
   "metadata": {
    "id": "mCkbIUdmyImU"
   },
   "outputs": [],
   "source": [
    "from sklearn.metrics import precision_score, accuracy_score,classification_report\n",
    "start = time.time()\n",
    "xgbpred = xgbgrid.predict(intermediate_layer_model.predict(X_test))\n",
    "end = time.time()\n",
    "print(classification_report(y_test, xgbpred))\n",
    "print(\"It took {} milliseconds to test AB with feature from CNN intermidiate layer.\\n\".format(end-start))"
   ]
  },
  {
   "cell_type": "code",
   "execution_count": null,
   "metadata": {
    "id": "ZAmzlJdeyImU"
   },
   "outputs": [],
   "source": [
    "print('accuracy on the train set: ', accuracy_score(xgbgrid.predict(intermediate_output), y_train))\n",
    "print('accuracy on the test set: ', accuracy_score(xgbpred, y_test))"
   ]
  },
  {
   "cell_type": "code",
   "execution_count": null,
   "metadata": {
    "id": "0YgZSAqcyImV"
   },
   "outputs": [],
   "source": [
    "# Confusion matrix\n",
    "from sklearn.metrics import plot_confusion_matrix\n",
    "plot_confusion_matrix(xgbgrid, intermediate_layer_model.predict(X_test), y_test, display_labels=[\"legit\", \"dga\"])"
   ]
  },
  {
   "cell_type": "code",
   "execution_count": null,
   "metadata": {
    "id": "4kcojBdfyImV"
   },
   "outputs": [],
   "source": [
    "from sklearn import metrics\n",
    "import matplotlib.pyplot as plt\n",
    "\n",
    "pprd = xgbgrid.predict_proba(intermediate_layer_model.predict(X_test))[::,1]"
   ]
  },
  {
   "cell_type": "code",
   "execution_count": null,
   "metadata": {
    "id": "WFctwpyWyImW"
   },
   "outputs": [],
   "source": [
    "fpr,tpr, _ = metrics.roc_curve(y_test,pprd)\n",
    "auc = metrics.roc_auc_score(y_test, pprd)\n",
    "print(auc)"
   ]
  },
  {
   "cell_type": "code",
   "execution_count": null,
   "metadata": {
    "id": "87ZTysCNyImW"
   },
   "outputs": [],
   "source": [
    "plt.title('Receiver Operating Characterstic - CNN+XGB')\n",
    "plt.plot(fpr,tpr,label= \"AUC = %0.5f\" % (auc))\n",
    "plt.ylabel('True Posetive Rate')\n",
    "plt.xlabel('False Posetive Rate')\n",
    "plt.show"
   ]
  },
  {
   "cell_type": "code",
   "execution_count": null,
   "metadata": {
    "id": "IqABRBYdyImW"
   },
   "outputs": [],
   "source": [
    "import pickle\n",
    "# save the model to disk\n",
    "filename = '/content/drive/My Drive/Colab Notebooks/BCNN+XGBmodel_tn.sav'\n",
    "pickle.dump(xgbgrid, open(filename, 'wb'))"
   ]
  },
  {
   "cell_type": "markdown",
   "metadata": {
    "id": "3VYqXZFhLusC"
   },
   "source": [
    "## Logistic Regression"
   ]
  },
  {
   "cell_type": "code",
   "execution_count": null,
   "metadata": {
    "colab": {
     "base_uri": "https://localhost:8080/"
    },
    "id": "j0jWAfV7LusC",
    "outputId": "182e9700-a29d-4750-d86b-e442a8bf3c69"
   },
   "outputs": [
    {
     "name": "stdout",
     "output_type": "stream",
     "text": [
      "It took 32.57629704475403 milliseconds to train LR with feature from CNN intermidiate layer.\n",
      "\n"
     ]
    }
   ],
   "source": [
    "from sklearn.linear_model import LogisticRegression\n",
    "start = time.time()\n",
    "Lreg = LogisticRegression().fit(intermediate_output, y_train)\n",
    "end = time.time()\n",
    "print(\"It took {} milliseconds to train LR with feature from CNN intermidiate layer.\\n\".format(end-start))"
   ]
  },
  {
   "cell_type": "code",
   "execution_count": null,
   "metadata": {
    "colab": {
     "base_uri": "https://localhost:8080/"
    },
    "id": "PeI00gkDLusE",
    "outputId": "4b666c5e-02fd-4b06-9de6-ec8f58f8c998"
   },
   "outputs": [
    {
     "name": "stdout",
     "output_type": "stream",
     "text": [
      "It took 70.80802059173584 milliseconds to test LR with feature from CNN intermidiate layer.\n",
      "\n",
      "              precision    recall  f1-score   support\n",
      "\n",
      "           0       0.99      0.96      0.98    293300\n",
      "           1       0.92      0.98      0.95    122028\n",
      "\n",
      "    accuracy                           0.97    415328\n",
      "   macro avg       0.95      0.97      0.96    415328\n",
      "weighted avg       0.97      0.97      0.97    415328\n",
      "\n"
     ]
    }
   ],
   "source": [
    "from sklearn.metrics import precision_score, accuracy_score,classification_report\n",
    "start = time.time()\n",
    "Lregy_pred = Lreg.predict(intermediate_layer_model.predict(X_test))\n",
    "end = time.time()\n",
    "print(\"It took {} milliseconds to test LR with feature from CNN intermidiate layer.\\n\".format(end-start))\n",
    "print(classification_report(y_test, Lregy_pred))"
   ]
  },
  {
   "cell_type": "code",
   "execution_count": null,
   "metadata": {
    "colab": {
     "base_uri": "https://localhost:8080/"
    },
    "id": "CxmPUO5byMvG",
    "outputId": "51f227fd-b2da-4622-d36b-c1350c5f7bcd"
   },
   "outputs": [
    {
     "name": "stdout",
     "output_type": "stream",
     "text": [
      "accuracy on the train set:  0.9678383260446413\n",
      "accuracy on the test set:  0.9670381000077047\n"
     ]
    }
   ],
   "source": [
    "print('accuracy on the train set: ', accuracy_score(Lreg.predict(intermediate_output), y_train))\n",
    "print('accuracy on the test set: ', accuracy_score(Lregy_pred, y_test))"
   ]
  },
  {
   "cell_type": "code",
   "execution_count": null,
   "metadata": {
    "colab": {
     "base_uri": "https://localhost:8080/",
     "height": 351
    },
    "id": "JPi1YnnFyMvI",
    "outputId": "34cbc301-3087-4527-9d87-e1cf4d585419"
   },
   "outputs": [
    {
     "name": "stderr",
     "output_type": "stream",
     "text": [
      "/usr/local/lib/python3.7/dist-packages/sklearn/utils/deprecation.py:87: FutureWarning: Function plot_confusion_matrix is deprecated; Function `plot_confusion_matrix` is deprecated in 1.0 and will be removed in 1.2. Use one of the class methods: ConfusionMatrixDisplay.from_predictions or ConfusionMatrixDisplay.from_estimator.\n",
      "  warnings.warn(msg, category=FutureWarning)\n"
     ]
    },
    {
     "data": {
      "text/plain": [
       "<sklearn.metrics._plot.confusion_matrix.ConfusionMatrixDisplay at 0x7feded8ded50>"
      ]
     },
     "execution_count": 69,
     "metadata": {},
     "output_type": "execute_result"
    },
    {
     "data": {
      "image/png": "[encoded data removed]",
      "text/plain": [
       "<Figure size 432x288 with 2 Axes>"
      ]
     },
     "metadata": {},
     "output_type": "display_data"
    }
   ],
   "source": [
    "# Confusion matrix\n",
    "from sklearn.metrics import plot_confusion_matrix\n",
    "plot_confusion_matrix(Lreg, intermediate_layer_model.predict(X_test), y_test, display_labels=[\"legit\", \"dga\"])"
   ]
  },
  {
   "cell_type": "code",
   "execution_count": null,
   "metadata": {
    "id": "fu05DPTgyMvJ"
   },
   "outputs": [],
   "source": [
    "from sklearn import metrics\n",
    "import matplotlib.pyplot as plt\n",
    "\n",
    "lrpprd = Lreg.predict_proba(intermediate_layer_model.predict(X_test))[::,1]"
   ]
  },
  {
   "cell_type": "code",
   "execution_count": null,
   "metadata": {
    "id": "A3T3MTu7yMvK"
   },
   "outputs": [],
   "source": [
    "fpr,tpr, _ = metrics.roc_curve(y_test,lrpprd)\n",
    "auc = metrics.roc_auc_score(y_test,lrpprd)"
   ]
  },
  {
   "cell_type": "code",
   "execution_count": null,
   "metadata": {
    "colab": {
     "base_uri": "https://localhost:8080/"
    },
    "id": "sLIoOxqlyMvK",
    "outputId": "8be6dc89-e3b8-413b-a203-f78f0ec40c29"
   },
   "outputs": [
    {
     "name": "stdout",
     "output_type": "stream",
     "text": [
      "0.9932479858853386\n"
     ]
    }
   ],
   "source": [
    "print(auc)"
   ]
  },
  {
   "cell_type": "code",
   "execution_count": null,
   "metadata": {
    "colab": {
     "base_uri": "https://localhost:8080/",
     "height": 312
    },
    "id": "D6eEHK_2yMvL",
    "outputId": "a55daa89-d9b8-4fed-e044-0215e32137ae"
   },
   "outputs": [
    {
     "data": {
      "text/plain": [
       "<function matplotlib.pyplot.show>"
      ]
     },
     "execution_count": 73,
     "metadata": {},
     "output_type": "execute_result"
    },
    {
     "data": {
      "image/png": "[encoded data removed]",
      "text/plain": [
       "<Figure size 432x288 with 1 Axes>"
      ]
     },
     "metadata": {},
     "output_type": "display_data"
    }
   ],
   "source": [
    "plt.title('Receiver Operating Characterstic - CNN+LR')\n",
    "plt.plot(fpr,tpr,label= \"AUC = %0.5f\" % (auc))\n",
    "plt.ylabel('True Posetive Rate')\n",
    "plt.xlabel('False Posetive Rate')\n",
    "plt.show"
   ]
  },
  {
   "cell_type": "code",
   "execution_count": null,
   "metadata": {
    "id": "_ofui4vtyMvL"
   },
   "outputs": [],
   "source": [
    "import pickle\n",
    "# save the model to disk\n",
    "filename = '/content/drive/My Drive/Colab Notebooks/BCNN+LRmodel.sav'\n",
    "pickle.dump(Lreg, open(filename, 'wb'))"
   ]
  },
  {
   "cell_type": "markdown",
   "metadata": {
    "id": "gIdkTM2TQKk4"
   },
   "source": [
    "## Naive Bayes"
   ]
  },
  {
   "cell_type": "code",
   "execution_count": null,
   "metadata": {
    "colab": {
     "base_uri": "https://localhost:8080/"
    },
    "id": "I89r9btmQKk5",
    "outputId": "63f19fe3-1a15-4aca-b51b-88ac77fbb2a3"
   },
   "outputs": [
    {
     "name": "stdout",
     "output_type": "stream",
     "text": [
      "It took 2.6906628608703613 milliseconds to train NB with feature from CNN intermidiate layer.\n",
      "\n"
     ]
    }
   ],
   "source": [
    "from sklearn.naive_bayes import GaussianNB\n",
    "start = time.time()\n",
    "gnb = GaussianNB().fit(intermediate_output, y_train)\n",
    "end = time.time()\n",
    "print(\"It took {} milliseconds to train NB with feature from CNN intermidiate layer.\\n\".format(end-start))"
   ]
  },
  {
   "cell_type": "code",
   "execution_count": null,
   "metadata": {
    "colab": {
     "base_uri": "https://localhost:8080/"
    },
    "id": "ASoFPFyxQKk5",
    "outputId": "989db982-f176-4343-d4bf-b661c9749509"
   },
   "outputs": [
    {
     "name": "stdout",
     "output_type": "stream",
     "text": [
      "It took 82.31965756416321 milliseconds to test NB with feature from CNN intermidiate layer.\n",
      "\n",
      "              precision    recall  f1-score   support\n",
      "\n",
      "           0       0.96      0.96      0.96    293300\n",
      "           1       0.90      0.90      0.90    122028\n",
      "\n",
      "    accuracy                           0.94    415328\n",
      "   macro avg       0.93      0.93      0.93    415328\n",
      "weighted avg       0.94      0.94      0.94    415328\n",
      "\n"
     ]
    }
   ],
   "source": [
    "from sklearn.metrics import precision_score, accuracy_score,classification_report\n",
    "start = time.time()\n",
    "gnb_pred = gnb.predict(intermediate_layer_model.predict(X_test))\n",
    "end = time.time()\n",
    "print(\"It took {} milliseconds to test NB with feature from CNN intermidiate layer.\\n\".format(end-start))\n",
    "print(classification_report(y_test, gnb_pred))"
   ]
  },
  {
   "cell_type": "code",
   "execution_count": null,
   "metadata": {
    "colab": {
     "base_uri": "https://localhost:8080/"
    },
    "id": "SFG2gLhgyOle",
    "outputId": "414451e3-670a-4899-9625-367dd3813bd3"
   },
   "outputs": [
    {
     "name": "stdout",
     "output_type": "stream",
     "text": [
      "accuracy on the train set:  0.9313547055214619\n",
      "accuracy on the test set:  0.942917405038909\n"
     ]
    }
   ],
   "source": [
    "print('accuracy on the train set: ', accuracy_score(gnb.predict(intermediate_output), y_train))\n",
    "print('accuracy on the test set: ', accuracy_score(gnb_pred, y_test))"
   ]
  },
  {
   "cell_type": "code",
   "execution_count": null,
   "metadata": {
    "colab": {
     "base_uri": "https://localhost:8080/",
     "height": 351
    },
    "id": "LNHiBnX4yOlf",
    "outputId": "9e7ac1d0-18be-4b8b-df77-1e94540a460d"
   },
   "outputs": [
    {
     "name": "stderr",
     "output_type": "stream",
     "text": [
      "/usr/local/lib/python3.7/dist-packages/sklearn/utils/deprecation.py:87: FutureWarning: Function plot_confusion_matrix is deprecated; Function `plot_confusion_matrix` is deprecated in 1.0 and will be removed in 1.2. Use one of the class methods: ConfusionMatrixDisplay.from_predictions or ConfusionMatrixDisplay.from_estimator.\n",
      "  warnings.warn(msg, category=FutureWarning)\n"
     ]
    },
    {
     "data": {
      "text/plain": [
       "<sklearn.metrics._plot.confusion_matrix.ConfusionMatrixDisplay at 0x7feded7cd090>"
      ]
     },
     "execution_count": 77,
     "metadata": {},
     "output_type": "execute_result"
    },
    {
     "data": {
      "image/png": "[encoded data removed]",
      "text/plain": [
       "<Figure size 432x288 with 2 Axes>"
      ]
     },
     "metadata": {},
     "output_type": "display_data"
    }
   ],
   "source": [
    "# Confusion matrix\n",
    "from sklearn.metrics import plot_confusion_matrix\n",
    "plot_confusion_matrix(gnb, intermediate_layer_model.predict(X_test), y_test, display_labels=[\"legit\", \"dga\"])"
   ]
  },
  {
   "cell_type": "code",
   "execution_count": null,
   "metadata": {
    "id": "KfBTH2YqyOlg"
   },
   "outputs": [],
   "source": [
    "from sklearn import metrics\n",
    "import matplotlib.pyplot as plt\n",
    "\n",
    "nbpprd = gnb.predict_proba(intermediate_layer_model.predict(X_test))[::,1]"
   ]
  },
  {
   "cell_type": "code",
   "execution_count": null,
   "metadata": {
    "id": "Lk3E9gSxyOlg"
   },
   "outputs": [],
   "source": [
    "fpr,tpr, _ = metrics.roc_curve(y_test,nbpprd)\n",
    "auc = metrics.roc_auc_score(y_test,nbpprd)"
   ]
  },
  {
   "cell_type": "code",
   "execution_count": null,
   "metadata": {
    "colab": {
     "base_uri": "https://localhost:8080/"
    },
    "id": "-kQKKSC6yOlh",
    "outputId": "cc288462-845f-471f-a67f-6402d64c3ba9"
   },
   "outputs": [
    {
     "name": "stdout",
     "output_type": "stream",
     "text": [
      "0.9816673038553325\n"
     ]
    }
   ],
   "source": [
    "print(auc)"
   ]
  },
  {
   "cell_type": "code",
   "execution_count": null,
   "metadata": {
    "colab": {
     "base_uri": "https://localhost:8080/",
     "height": 312
    },
    "id": "Je5kl6ycyOlh",
    "outputId": "1448d2d3-5575-4615-fe01-4525147887e5"
   },
   "outputs": [
    {
     "data": {
      "text/plain": [
       "<function matplotlib.pyplot.show>"
      ]
     },
     "execution_count": 81,
     "metadata": {},
     "output_type": "execute_result"
    },
    {
     "data": {
      "image/png": "[encoded data removed]",
      "text/plain": [
       "<Figure size 432x288 with 1 Axes>"
      ]
     },
     "metadata": {},
     "output_type": "display_data"
    }
   ],
   "source": [
    "plt.title('Receiver Operating Characterstic - CNN+NB')\n",
    "plt.plot(fpr,tpr,label= \"AUC = %0.5f\" % (auc))\n",
    "plt.ylabel('True Posetive Rate')\n",
    "plt.xlabel('False Posetive Rate')\n",
    "plt.show"
   ]
  },
  {
   "cell_type": "code",
   "execution_count": null,
   "metadata": {
    "id": "VCIi3RXsyOli"
   },
   "outputs": [],
   "source": [
    "import pickle\n",
    "# save the model to disk\n",
    "filename = '/content/drive/My Drive/Colab Notebooks/BCNN+NBmodel.sav'\n",
    "pickle.dump(gnb, open(filename, 'wb'))"
   ]
  },
  {
   "cell_type": "markdown",
   "metadata": {
    "id": "BYftXIGgQizL"
   },
   "source": [
    "## Random Forest Classifier"
   ]
  },
  {
   "cell_type": "code",
   "execution_count": null,
   "metadata": {
    "colab": {
     "base_uri": "https://localhost:8080/"
    },
    "id": "hToX3gJwQizM",
    "outputId": "cfdafe74-65a9-4151-c2c4-b2d89b3db925"
   },
   "outputs": [
    {
     "name": "stdout",
     "output_type": "stream",
     "text": [
      "It took 2808.5327038764954 milliseconds to train RF with feature from CNN intermidiate layer.\n",
      "\n"
     ]
    }
   ],
   "source": [
    "from sklearn.ensemble import RandomForestClassifier\n",
    "start = time.time()\n",
    "RFmodel = RandomForestClassifier().fit(intermediate_output, y_train)\n",
    "end = time.time()\n",
    "print(\"It took {} milliseconds to train RF with feature from CNN intermidiate layer.\\n\".format(end-start))"
   ]
  },
  {
   "cell_type": "code",
   "execution_count": null,
   "metadata": {
    "colab": {
     "base_uri": "https://localhost:8080/"
    },
    "id": "B_a8hwB1QizO",
    "outputId": "7f46af7c-3bdd-4e48-945e-a9c7f951b0cd"
   },
   "outputs": [
    {
     "name": "stdout",
     "output_type": "stream",
     "text": [
      "It took 53.42053484916687 milliseconds to test LR with feature from CNN intermidiate layer.\n",
      "\n",
      "              precision    recall  f1-score   support\n",
      "\n",
      "           0       1.00      0.97      0.99    293300\n",
      "           1       0.94      0.99      0.97    122028\n",
      "\n",
      "    accuracy                           0.98    415328\n",
      "   macro avg       0.97      0.98      0.98    415328\n",
      "weighted avg       0.98      0.98      0.98    415328\n",
      "\n"
     ]
    }
   ],
   "source": [
    "from sklearn.metrics import precision_score, accuracy_score,classification_report\n",
    "start = time.time()\n",
    "RFpred = RFmodel.predict(intermediate_layer_model.predict(X_test))\n",
    "end = time.time()\n",
    "print(\"It took {} milliseconds to test LR with feature from CNN intermidiate layer.\\n\".format(end-start))\n",
    "print(classification_report(y_test, RFpred))"
   ]
  },
  {
   "cell_type": "code",
   "execution_count": null,
   "metadata": {
    "colab": {
     "base_uri": "https://localhost:8080/"
    },
    "id": "eXMH5smPyPsO",
    "outputId": "eb2faf0c-b6ad-456d-f13d-41815a084536"
   },
   "outputs": [
    {
     "name": "stdout",
     "output_type": "stream",
     "text": [
      "accuracy on the train set:  0.99998291045248\n",
      "accuracy on the test set:  0.9790984474921026\n"
     ]
    }
   ],
   "source": [
    "print('accuracy on the train set: ', accuracy_score(RFmodel.predict(intermediate_output), y_train))\n",
    "print('accuracy on the test set: ', accuracy_score(RFpred, y_test))"
   ]
  },
  {
   "cell_type": "code",
   "execution_count": null,
   "metadata": {
    "colab": {
     "base_uri": "https://localhost:8080/",
     "height": 351
    },
    "id": "QNLCN_fmyPsP",
    "outputId": "a1e8853e-78af-4bce-c2b8-a70dd937ec2e"
   },
   "outputs": [
    {
     "name": "stderr",
     "output_type": "stream",
     "text": [
      "/usr/local/lib/python3.7/dist-packages/sklearn/utils/deprecation.py:87: FutureWarning: Function plot_confusion_matrix is deprecated; Function `plot_confusion_matrix` is deprecated in 1.0 and will be removed in 1.2. Use one of the class methods: ConfusionMatrixDisplay.from_predictions or ConfusionMatrixDisplay.from_estimator.\n",
      "  warnings.warn(msg, category=FutureWarning)\n"
     ]
    },
    {
     "data": {
      "text/plain": [
       "<sklearn.metrics._plot.confusion_matrix.ConfusionMatrixDisplay at 0x7f9a18081350>"
      ]
     },
     "execution_count": 13,
     "metadata": {},
     "output_type": "execute_result"
    },
    {
     "data": {
      "image/png": "[encoded data removed]",
      "text/plain": [
       "<Figure size 432x288 with 2 Axes>"
      ]
     },
     "metadata": {
      "needs_background": "light"
     },
     "output_type": "display_data"
    }
   ],
   "source": [
    "# Confusion matrix\n",
    "from sklearn.metrics import plot_confusion_matrix\n",
    "plot_confusion_matrix(RFmodel, intermediate_layer_model.predict(X_test), y_test, display_labels=[\"legit\", \"dga\"])"
   ]
  },
  {
   "cell_type": "code",
   "execution_count": null,
   "metadata": {
    "id": "7c4jLD-4yPsP"
   },
   "outputs": [],
   "source": [
    "from sklearn import metrics\n",
    "import matplotlib.pyplot as plt\n",
    "\n",
    "rfpprd = RFmodel.predict_proba(intermediate_layer_model.predict(X_test))[::,1]"
   ]
  },
  {
   "cell_type": "code",
   "execution_count": null,
   "metadata": {
    "id": "RqmfYqqCyPsQ"
   },
   "outputs": [],
   "source": [
    "fpr,tpr, _ = metrics.roc_curve(y_test,rfpprd)\n",
    "auc = metrics.roc_auc_score(y_test,rfpprd)"
   ]
  },
  {
   "cell_type": "code",
   "execution_count": null,
   "metadata": {
    "colab": {
     "base_uri": "https://localhost:8080/"
    },
    "id": "7otwc0w8yPsQ",
    "outputId": "aebffd12-475f-40bd-a99a-db46ac5da552"
   },
   "outputs": [
    {
     "name": "stdout",
     "output_type": "stream",
     "text": [
      "0.9974969134955985\n"
     ]
    }
   ],
   "source": [
    "print(auc)"
   ]
  },
  {
   "cell_type": "code",
   "execution_count": null,
   "metadata": {
    "colab": {
     "base_uri": "https://localhost:8080/",
     "height": 312
    },
    "id": "4V7fPC9uyPsR",
    "outputId": "395bec61-00bb-434e-9bd4-a821b96a7833"
   },
   "outputs": [
    {
     "data": {
      "text/plain": [
       "<function matplotlib.pyplot.show>"
      ]
     },
     "execution_count": 16,
     "metadata": {},
     "output_type": "execute_result"
    },
    {
     "data": {
      "image/png": "[encoded data removed]",
      "text/plain": [
       "<Figure size 432x288 with 1 Axes>"
      ]
     },
     "metadata": {
      "needs_background": "light"
     },
     "output_type": "display_data"
    }
   ],
   "source": [
    "plt.title('Receiver Operating Characterstic - CNN+RF')\n",
    "plt.plot(fpr,tpr,label= \"AUC = %0.5f\" % (auc))\n",
    "plt.ylabel('True Posetive Rate')\n",
    "plt.xlabel('False Posetive Rate')\n",
    "plt.show"
   ]
  },
  {
   "cell_type": "code",
   "execution_count": null,
   "metadata": {
    "id": "LqMw0arDyPsR"
   },
   "outputs": [],
   "source": [
    "import pickle\n",
    "# save the model to disk\n",
    "filename = '/content/drive/My Drive/Colab Notebooks/BCNN+RFmodel.sav'\n",
    "pickle.dump(RFmodel, open(filename, 'wb'))"
   ]
  }
 ],
 "metadata": {
  "colab": {
   "collapsed_sections": [
    "N5I3H70AHjIh",
    "8-7rZBltxCqQ"
   ],
   "provenance": []
  },
  "gpuClass": "standard",
  "kernelspec": {
   "display_name": "Python 3 (ipykernel)",
   "language": "python",
   "name": "python3"
  },
  "language_info": {
   "codemirror_mode": {
    "name": "ipython",
    "version": 3
   },
   "file_extension": ".py",
   "mimetype": "text/x-python",
   "name": "python",
   "nbconvert_exporter": "python",
   "pygments_lexer": "ipython3",
   "version": "3.10.9"
  }
 },
 "nbformat": 4,
 "nbformat_minor": 1
}
