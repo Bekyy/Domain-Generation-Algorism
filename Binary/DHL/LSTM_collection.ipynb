{
 "cells": [
  {
   "cell_type": "markdown",
   "metadata": {
    "id": "GmZEd3YZw_Qm"
   },
   "source": [
    "## 64"
   ]
  },
  {
   "cell_type": "code",
   "execution_count": null,
   "metadata": {
    "colab": {
     "base_uri": "https://localhost:8080/"
    },
    "id": "mTjFLuO317qQ",
    "outputId": "b00ae0c3-5048-439d-f0f4-891849d35196"
   },
   "outputs": [
    {
     "name": "stdout",
     "output_type": "stream",
     "text": [
      "Model: \"model\"\n",
      "_________________________________________________________________\n",
      " Layer (type)                Output Shape              Param #   \n",
      "=================================================================\n",
      " inputs (InputLayer)         [(None, 50)]              0         \n",
      "                                                                 \n",
      " embedding (Embedding)       (None, 50, 50)            2550      \n",
      "                                                                 \n",
      " lstm (LSTM)                 (None, 64)                29440     \n",
      "                                                                 \n",
      " flatten (Flatten)           (None, 64)                0         \n",
      "                                                                 \n",
      " FC1 (Dense)                 (None, 256)               16640     \n",
      "                                                                 \n",
      " activation (Activation)     (None, 256)               0         \n",
      "                                                                 \n",
      " dropout (Dropout)           (None, 256)               0         \n",
      "                                                                 \n",
      " out_layer (Dense)           (None, 1)                 257       \n",
      "                                                                 \n",
      " activation_1 (Activation)   (None, 1)                 0         \n",
      "                                                                 \n",
      "=================================================================\n",
      "Total params: 48,887\n",
      "Trainable params: 48,887\n",
      "Non-trainable params: 0\n",
      "_________________________________________________________________\n"
     ]
    }
   ],
   "source": [
    "from tensorflow.keras.optimizers import RMSprop\n",
    "from keras.layers import LSTM, Activation, Dense, Dropout, Input, Conv1D, Embedding, Flatten\n",
    "from tensorflow.keras.models import Sequential, Model\n",
    "\n",
    "inputs = Input(name='inputs',shape=[max_len])\n",
    "lstmmodel = Sequential()\n",
    "lstmmodel = Embedding(input_dim = max_len + 1,output_dim = 50,input_length=max_len)(inputs)\n",
    "lstmmodel = LSTM(64)(lstmmodel)\n",
    "lstmmodel = Flatten()(lstmmodel)\n",
    "\n",
    "lstmmodel = Dense(256,name='FC1')(lstmmodel)\n",
    "lstmmodel = Activation('relu')(lstmmodel)\n",
    "lstmmodel = Dropout(0.5)(lstmmodel)\n",
    "\n",
    "lstmmodel = Dense(1,name='out_layer')(lstmmodel)\n",
    "lstmmodel = Activation('sigmoid')(lstmmodel)\n",
    "lstmmodel = Model(inputs=inputs,outputs=lstmmodel)\n",
    "\n",
    "lstmmodel.summary()\n",
    "lstmmodel.compile(loss='binary_crossentropy',optimizer=RMSprop(),metrics=['acc'])"
   ]
  },
  {
   "cell_type": "code",
   "execution_count": null,
   "metadata": {
    "colab": {
     "base_uri": "https://localhost:8080/"
    },
    "id": "dih9TbXyLI_j",
    "outputId": "a9692451-9abc-4270-d2cb-495adb6dc7f3"
   },
   "outputs": [
    {
     "name": "stdout",
     "output_type": "stream",
     "text": [
      "Epoch 1/30\n",
      "2342/2342 - 25s - loss: 0.0341 - acc: 0.9886 - val_loss: 0.0342 - val_acc: 0.9885 - 25s/epoch - 11ms/step\n",
      "Epoch 2/30\n",
      "2342/2342 - 26s - loss: 0.0338 - acc: 0.9887 - val_loss: 0.0394 - val_acc: 0.9872 - 26s/epoch - 11ms/step\n",
      "Epoch 3/30\n",
      "2342/2342 - 27s - loss: 0.0336 - acc: 0.9889 - val_loss: 0.0348 - val_acc: 0.9883 - 27s/epoch - 12ms/step\n",
      "Epoch 4/30\n",
      "2342/2342 - 25s - loss: 0.0335 - acc: 0.9888 - val_loss: 0.0482 - val_acc: 0.9844 - 25s/epoch - 11ms/step\n",
      "Epoch 5/30\n",
      "2342/2342 - 25s - loss: 0.0332 - acc: 0.9888 - val_loss: 0.0413 - val_acc: 0.9861 - 25s/epoch - 11ms/step\n",
      "Epoch 6/30\n",
      "2342/2342 - 24s - loss: 0.0331 - acc: 0.9889 - val_loss: 0.0341 - val_acc: 0.9888 - 24s/epoch - 10ms/step\n",
      "Epoch 7/30\n",
      "2342/2342 - 23s - loss: 0.0328 - acc: 0.9890 - val_loss: 0.0327 - val_acc: 0.9890 - 23s/epoch - 10ms/step\n",
      "Epoch 8/30\n",
      "2342/2342 - 23s - loss: 0.0326 - acc: 0.9891 - val_loss: 0.0437 - val_acc: 0.9853 - 23s/epoch - 10ms/step\n",
      "Epoch 9/30\n",
      "2342/2342 - 23s - loss: 0.0324 - acc: 0.9892 - val_loss: 0.0545 - val_acc: 0.9806 - 23s/epoch - 10ms/step\n",
      "Epoch 10/30\n",
      "2342/2342 - 24s - loss: 0.0322 - acc: 0.9892 - val_loss: 0.0437 - val_acc: 0.9855 - 24s/epoch - 10ms/step\n",
      "Epoch 11/30\n",
      "2342/2342 - 23s - loss: 0.0320 - acc: 0.9893 - val_loss: 0.0420 - val_acc: 0.9864 - 23s/epoch - 10ms/step\n",
      "Epoch 12/30\n",
      "2342/2342 - 23s - loss: 0.0316 - acc: 0.9893 - val_loss: 0.0347 - val_acc: 0.9884 - 23s/epoch - 10ms/step\n",
      "Epoch 13/30\n",
      "2342/2342 - 23s - loss: 0.0315 - acc: 0.9894 - val_loss: 0.0431 - val_acc: 0.9868 - 23s/epoch - 10ms/step\n",
      "Epoch 14/30\n",
      "2342/2342 - 23s - loss: 0.0315 - acc: 0.9894 - val_loss: 0.0433 - val_acc: 0.9840 - 23s/epoch - 10ms/step\n",
      "Epoch 15/30\n",
      "2342/2342 - 23s - loss: 0.0313 - acc: 0.9894 - val_loss: 0.0341 - val_acc: 0.9885 - 23s/epoch - 10ms/step\n",
      "Epoch 16/30\n",
      "2342/2342 - 24s - loss: 0.0313 - acc: 0.9895 - val_loss: 0.0333 - val_acc: 0.9891 - 24s/epoch - 10ms/step\n",
      "Epoch 17/30\n",
      "2342/2342 - 23s - loss: 0.0310 - acc: 0.9895 - val_loss: 0.0434 - val_acc: 0.9876 - 23s/epoch - 10ms/step\n",
      "Epoch 18/30\n",
      "2342/2342 - 24s - loss: 0.0310 - acc: 0.9896 - val_loss: 0.0340 - val_acc: 0.9884 - 24s/epoch - 10ms/step\n",
      "Epoch 19/30\n",
      "2342/2342 - 23s - loss: 0.0306 - acc: 0.9897 - val_loss: 0.0525 - val_acc: 0.9828 - 23s/epoch - 10ms/step\n",
      "Epoch 20/30\n",
      "2342/2342 - 24s - loss: 0.0306 - acc: 0.9897 - val_loss: 0.0379 - val_acc: 0.9871 - 24s/epoch - 10ms/step\n",
      "Epoch 21/30\n",
      "2342/2342 - 24s - loss: 0.0303 - acc: 0.9898 - val_loss: 0.0458 - val_acc: 0.9865 - 24s/epoch - 10ms/step\n",
      "Epoch 22/30\n",
      "2342/2342 - 24s - loss: 0.0303 - acc: 0.9898 - val_loss: 0.0364 - val_acc: 0.9883 - 24s/epoch - 10ms/step\n",
      "Epoch 23/30\n",
      "2342/2342 - 24s - loss: 0.0302 - acc: 0.9898 - val_loss: 0.0350 - val_acc: 0.9890 - 24s/epoch - 10ms/step\n",
      "Epoch 24/30\n",
      "2342/2342 - 23s - loss: 0.0300 - acc: 0.9899 - val_loss: 0.0358 - val_acc: 0.9882 - 23s/epoch - 10ms/step\n",
      "Epoch 25/30\n",
      "2342/2342 - 23s - loss: 0.0299 - acc: 0.9899 - val_loss: 0.0451 - val_acc: 0.9857 - 23s/epoch - 10ms/step\n",
      "Epoch 26/30\n",
      "2342/2342 - 23s - loss: 0.0300 - acc: 0.9899 - val_loss: 0.0344 - val_acc: 0.9886 - 23s/epoch - 10ms/step\n",
      "Epoch 27/30\n",
      "2342/2342 - 24s - loss: 0.0298 - acc: 0.9900 - val_loss: 0.0354 - val_acc: 0.9885 - 24s/epoch - 10ms/step\n",
      "Epoch 28/30\n",
      "2342/2342 - 24s - loss: 0.0298 - acc: 0.9900 - val_loss: 0.0334 - val_acc: 0.9892 - 24s/epoch - 10ms/step\n",
      "Epoch 29/30\n",
      "2342/2342 - 24s - loss: 0.0298 - acc: 0.9900 - val_loss: 0.0378 - val_acc: 0.9883 - 24s/epoch - 10ms/step\n",
      "Epoch 30/30\n",
      "2342/2342 - 23s - loss: 0.0297 - acc: 0.9901 - val_loss: 0.0372 - val_acc: 0.9884 - 23s/epoch - 10ms/step\n",
      "LSTM took 741.9746651649475 milliseconds to train data.\n",
      "\n"
     ]
    }
   ],
   "source": [
    "# Fitting the data onto model\n",
    "import time\n",
    "start = time.time()\n",
    "history = lstmmodel.fit(X_train, y_train, validation_data=(X_test, y_test), epochs=30, batch_size=1000, verbose=2)\n",
    "end  = time.time()\n",
    "print(\"LSTM took {} milliseconds to train data.\\n\".format(end-start))"
   ]
  },
  {
   "cell_type": "code",
   "execution_count": null,
   "metadata": {
    "colab": {
     "base_uri": "https://localhost:8080/"
    },
    "id": "jBAOiIUhk30v",
    "outputId": "70bdea8c-5eb2-483f-f84b-db90587ef6e1"
   },
   "outputs": [
    {
     "name": "stdout",
     "output_type": "stream",
     "text": [
      "Training Accuracy: 0.9903\n",
      "Testing Accuracy:  0.9884\n"
     ]
    }
   ],
   "source": [
    "loss, accuracy = lstmmodel.evaluate(X_train, y_train, verbose=False)\n",
    "print(\"Training Accuracy: {:.4f}\".format(accuracy))\n",
    "loss, accuracy = lstmmodel.evaluate(X_test, y_test, verbose=False)\n",
    "print(\"Testing Accuracy:  {:.4f}\".format(accuracy)) "
   ]
  },
  {
   "cell_type": "code",
   "execution_count": null,
   "metadata": {
    "colab": {
     "base_uri": "https://localhost:8080/"
    },
    "id": "Xxa0sLn6ms9w",
    "outputId": "8795fc4a-a322-44b9-b0b7-52bc23ef1ec2"
   },
   "outputs": [
    {
     "name": "stdout",
     "output_type": "stream",
     "text": [
      "LSTM took 26.399731159210205 milliseconds to train data.\n",
      "\n"
     ]
    }
   ],
   "source": [
    "start=time.time()\n",
    "y_pred1 = lstmmodel.predict(X_test)\n",
    "y_pred1=(y_pred1 > 0.5)\n",
    "end  = time.time()\n",
    "print(\"LSTM took {} milliseconds to train data.\\n\".format(end-start))"
   ]
  },
  {
   "cell_type": "code",
   "execution_count": null,
   "metadata": {
    "colab": {
     "base_uri": "https://localhost:8080/"
    },
    "id": "vWExVt57m8xR",
    "outputId": "2388480a-7fd8-4586-e72a-4b9026741579"
   },
   "outputs": [
    {
     "name": "stdout",
     "output_type": "stream",
     "text": [
      "\n",
      "\n",
      "Precision, Recall, F1\n",
      "\n",
      "\n",
      "              precision    recall  f1-score   support\n",
      "\n",
      "           0       1.00      0.99      0.99    293019\n",
      "           1       0.97      0.99      0.98    122309\n",
      "\n",
      "    accuracy                           0.99    415328\n",
      "   macro avg       0.98      0.99      0.99    415328\n",
      "weighted avg       0.99      0.99      0.99    415328\n",
      "\n",
      "\n",
      "\n"
     ]
    }
   ],
   "source": [
    "from sklearn.metrics import classification_report, confusion_matrix\n",
    "print('\\n')\n",
    "print(\"Precision, Recall, F1\")\n",
    "print('\\n')\n",
    "CR=classification_report(y_test, y_pred1)\n",
    "print(CR)\n",
    "print('\\n')"
   ]
  },
  {
   "cell_type": "code",
   "execution_count": null,
   "metadata": {
    "colab": {
     "base_uri": "https://localhost:8080/",
     "height": 573
    },
    "id": "-TOTVTQemaQY",
    "outputId": "5c8b1b1d-b1eb-4e2b-d95c-09b3bc57dff9"
   },
   "outputs": [
    {
     "data": {
      "image/png": "[encoded data removed]",
      "text/plain": [
       "<Figure size 432x288 with 1 Axes>"
      ]
     },
     "metadata": {
      "needs_background": "light"
     },
     "output_type": "display_data"
    },
    {
     "data": {
      "image/png": "[encoded data removed]",
      "text/plain": [
       "<Figure size 432x288 with 1 Axes>"
      ]
     },
     "metadata": {
      "needs_background": "light"
     },
     "output_type": "display_data"
    }
   ],
   "source": [
    "def Training_and_validation_plot(history):\n",
    "    acc = history.history['acc']\n",
    "    val_acc = history.history['val_acc']\n",
    "    loss = history.history['loss']\n",
    "    val_loss = history.history['val_loss']\n",
    "    epochs = range(1, len(acc) + 1)\n",
    "\n",
    "    plt.plot(epochs, acc, 'bo', label = 'Training Accuracy')\n",
    "    plt.plot(epochs, val_acc, 'r', label = 'Validation Accuracy')\n",
    "    plt.title('Training and Validation Accuracy')\n",
    "    plt.xlabel('Epochs')\n",
    "    plt.ylabel('Loss')\n",
    "    plt.legend()\n",
    "\n",
    "    plt.figure()\n",
    "    plt.plot(epochs, loss, 'bo', label = 'Training Loss')\n",
    "    plt.plot(epochs, val_loss, 'r', label = 'Validation Loss')\n",
    "    plt.title('Training and Validation Loss')\n",
    "    plt.xlabel('Epochs')\n",
    "    plt.ylabel('Loss')\n",
    "    plt.legend()\n",
    "    plt.show()\n",
    "Training_and_validation_plot(history)"
   ]
  },
  {
   "cell_type": "code",
   "execution_count": null,
   "metadata": {
    "colab": {
     "base_uri": "https://localhost:8080/",
     "height": 194
    },
    "id": "1-5N7PThvQdp",
    "outputId": "21fa7e0c-a869-4317-ee16-2a7a898905d8"
   },
   "outputs": [
    {
     "data": {
      "text/plain": [
       "<matplotlib.legend.Legend at 0x7f2a04113590>"
      ]
     },
     "execution_count": 18,
     "metadata": {},
     "output_type": "execute_result"
    },
    {
     "data": {
      "image/png": "[encoded data removed]",
      "text/plain": [
       "<Figure size 432x288 with 1 Axes>"
      ]
     },
     "metadata": {
      "needs_background": "light"
     },
     "output_type": "display_data"
    }
   ],
   "source": [
    "import matplotlib.pyplot as plot\n",
    "plot.subplot(2,1,1)\n",
    "plot.plot(history.history['acc'])\n",
    "plot.plot(history.history['val_acc'])\n",
    "plot.title('model accuracy')\n",
    "plot.ylabel('accuracy')\n",
    "plot.xlabel('epoch')\n",
    "plot.legend(['train', 'test'], loc='lower right')"
   ]
  },
  {
   "cell_type": "code",
   "execution_count": null,
   "metadata": {
    "colab": {
     "base_uri": "https://localhost:8080/",
     "height": 194
    },
    "id": "fYoTjzKcvRWP",
    "outputId": "9d5643ea-66b0-4494-9341-92a3a43160ef"
   },
   "outputs": [
    {
     "data": {
      "text/plain": [
       "<matplotlib.legend.Legend at 0x7f2a040fb310>"
      ]
     },
     "execution_count": 19,
     "metadata": {},
     "output_type": "execute_result"
    },
    {
     "data": {
      "image/png": "[encoded data removed]",
      "text/plain": [
       "<Figure size 432x288 with 1 Axes>"
      ]
     },
     "metadata": {
      "needs_background": "light"
     },
     "output_type": "display_data"
    }
   ],
   "source": [
    "plot.subplot(2,1,2)\n",
    "plot.plot(history.history['loss'])\n",
    "plot.plot(history.history['val_loss'])\n",
    "plot.title('model loss')\n",
    "plot.ylabel('loss')\n",
    "plot.xlabel('epoch')\n",
    "plot.legend(['train', 'test'], loc='upper right')"
   ]
  },
  {
   "cell_type": "code",
   "execution_count": null,
   "metadata": {
    "colab": {
     "base_uri": "https://localhost:8080/"
    },
    "id": "JnBBdPhdeZ1j",
    "outputId": "4b548812-14f0-470c-fea7-59014b7b2fb4"
   },
   "outputs": [
    {
     "name": "stderr",
     "output_type": "stream",
     "text": [
      "WARNING:absl:Found untraced functions such as lstm_cell_layer_call_fn, lstm_cell_layer_call_and_return_conditional_losses while saving (showing 2 of 2). These functions will not be directly callable after loading.\n"
     ]
    },
    {
     "name": "stdout",
     "output_type": "stream",
     "text": [
      "INFO:tensorflow:Assets written to: ram://a2729d5f-b183-43df-b98f-a7d5235df4a3/assets\n"
     ]
    },
    {
     "name": "stderr",
     "output_type": "stream",
     "text": [
      "INFO:tensorflow:Assets written to: ram://a2729d5f-b183-43df-b98f-a7d5235df4a3/assets\n",
      "WARNING:absl:<keras.layers.recurrent.LSTMCell object at 0x7f29e6793f10> has the same name 'LSTMCell' as a built-in Keras object. Consider renaming <class 'keras.layers.recurrent.LSTMCell'> to avoid naming conflicts when loading with `tf.keras.models.load_model`. If renaming is not possible, pass the object in the `custom_objects` parameter of the load function.\n"
     ]
    }
   ],
   "source": [
    "import pickle\n",
    "# save the model to disk\n",
    "filename = '/content/drive/My Drive/Colab Notebooks/Blstmmodel64.sav'\n",
    "pickle.dump(lstmmodel, open(filename, 'wb'))"
   ]
  },
  {
   "cell_type": "markdown",
   "metadata": {
    "id": "SHPYdklzrQvV"
   },
   "source": [
    "### 32"
   ]
  },
  {
   "cell_type": "code",
   "execution_count": null,
   "metadata": {
    "colab": {
     "base_uri": "https://localhost:8080/"
    },
    "id": "_qLG9hsBu2WJ",
    "outputId": "b9956c28-8722-40c8-8b7b-fc85a796f4a5"
   },
   "outputs": [
    {
     "name": "stdout",
     "output_type": "stream",
     "text": [
      "Model: \"model_1\"\n",
      "_________________________________________________________________\n",
      " Layer (type)                Output Shape              Param #   \n",
      "=================================================================\n",
      " inputs (InputLayer)         [(None, 50)]              0         \n",
      "                                                                 \n",
      " embedding_1 (Embedding)     (None, 50, 50)            2550      \n",
      "                                                                 \n",
      " lstm_1 (LSTM)               (None, 32)                10624     \n",
      "                                                                 \n",
      " flatten_1 (Flatten)         (None, 32)                0         \n",
      "                                                                 \n",
      " FC1 (Dense)                 (None, 256)               8448      \n",
      "                                                                 \n",
      " activation_2 (Activation)   (None, 256)               0         \n",
      "                                                                 \n",
      " dropout_1 (Dropout)         (None, 256)               0         \n",
      "                                                                 \n",
      " out_layer (Dense)           (None, 1)                 257       \n",
      "                                                                 \n",
      " activation_3 (Activation)   (None, 1)                 0         \n",
      "                                                                 \n",
      "=================================================================\n",
      "Total params: 21,879\n",
      "Trainable params: 21,879\n",
      "Non-trainable params: 0\n",
      "_________________________________________________________________\n"
     ]
    }
   ],
   "source": [
    "from tensorflow.keras.optimizers import RMSprop\n",
    "from keras.layers import LSTM, Activation, Dense, Dropout, Input, Conv1D, Embedding, Flatten\n",
    "from tensorflow.keras.models import Sequential, Model\n",
    "\n",
    "inputs = Input(name='inputs',shape=[max_len])\n",
    "lstmmodel = Sequential()\n",
    "lstmmodel = Embedding(input_dim = max_len + 1,output_dim = 50,input_length=max_len)(inputs)\n",
    "lstmmodel = LSTM(32)(lstmmodel)\n",
    "lstmmodel = Flatten()(lstmmodel)\n",
    "\n",
    "lstmmodel = Dense(256,name='FC1')(lstmmodel)\n",
    "lstmmodel = Activation('relu')(lstmmodel)\n",
    "lstmmodel = Dropout(0.5)(lstmmodel)\n",
    "\n",
    "lstmmodel = Dense(1,name='out_layer')(lstmmodel)\n",
    "lstmmodel = Activation('sigmoid')(lstmmodel)\n",
    "lstmmodel = Model(inputs=inputs,outputs=lstmmodel)\n",
    "\n",
    "lstmmodel.summary()\n",
    "lstmmodel.compile(loss='binary_crossentropy',optimizer=RMSprop(),metrics=['acc'])"
   ]
  },
  {
   "cell_type": "code",
   "execution_count": null,
   "metadata": {
    "colab": {
     "base_uri": "https://localhost:8080/"
    },
    "id": "nAS9-7dsu2WL",
    "outputId": "4b20947d-d33d-42cf-8fd4-07b64858a2ac"
   },
   "outputs": [
    {
     "name": "stdout",
     "output_type": "stream",
     "text": [
      "Epoch 1/30\n",
      "2342/2342 - 23s - loss: 0.1938 - acc: 0.9247 - val_loss: 0.1859 - val_acc: 0.9310 - 23s/epoch - 10ms/step\n",
      "Epoch 2/30\n",
      "2342/2342 - 17s - loss: 0.1180 - acc: 0.9603 - val_loss: 0.1088 - val_acc: 0.9624 - 17s/epoch - 7ms/step\n",
      "Epoch 3/30\n",
      "2342/2342 - 20s - loss: 0.0915 - acc: 0.9695 - val_loss: 0.1207 - val_acc: 0.9559 - 20s/epoch - 8ms/step\n",
      "Epoch 4/30\n",
      "2342/2342 - 17s - loss: 0.0775 - acc: 0.9742 - val_loss: 0.1022 - val_acc: 0.9632 - 17s/epoch - 7ms/step\n",
      "Epoch 5/30\n",
      "2342/2342 - 17s - loss: 0.0680 - acc: 0.9776 - val_loss: 0.0643 - val_acc: 0.9774 - 17s/epoch - 7ms/step\n",
      "Epoch 6/30\n",
      "2342/2342 - 18s - loss: 0.0628 - acc: 0.9793 - val_loss: 0.0609 - val_acc: 0.9790 - 18s/epoch - 8ms/step\n",
      "Epoch 7/30\n",
      "2342/2342 - 17s - loss: 0.0592 - acc: 0.9806 - val_loss: 0.0564 - val_acc: 0.9810 - 17s/epoch - 7ms/step\n",
      "Epoch 8/30\n",
      "2342/2342 - 17s - loss: 0.0567 - acc: 0.9814 - val_loss: 0.0542 - val_acc: 0.9812 - 17s/epoch - 7ms/step\n",
      "Epoch 9/30\n",
      "2342/2342 - 18s - loss: 0.0548 - acc: 0.9821 - val_loss: 0.0614 - val_acc: 0.9776 - 18s/epoch - 8ms/step\n",
      "Epoch 10/30\n",
      "2342/2342 - 17s - loss: 0.0532 - acc: 0.9825 - val_loss: 0.0532 - val_acc: 0.9817 - 17s/epoch - 7ms/step\n",
      "Epoch 11/30\n",
      "2342/2342 - 18s - loss: 0.0520 - acc: 0.9830 - val_loss: 0.0492 - val_acc: 0.9831 - 18s/epoch - 8ms/step\n",
      "Epoch 12/30\n",
      "2342/2342 - 17s - loss: 0.0509 - acc: 0.9834 - val_loss: 0.0601 - val_acc: 0.9797 - 17s/epoch - 7ms/step\n",
      "Epoch 13/30\n",
      "2342/2342 - 17s - loss: 0.0499 - acc: 0.9837 - val_loss: 0.0512 - val_acc: 0.9820 - 17s/epoch - 7ms/step\n",
      "Epoch 14/30\n",
      "2342/2342 - 17s - loss: 0.0490 - acc: 0.9840 - val_loss: 0.0483 - val_acc: 0.9834 - 17s/epoch - 7ms/step\n",
      "Epoch 15/30\n",
      "2342/2342 - 18s - loss: 0.0482 - acc: 0.9843 - val_loss: 0.0693 - val_acc: 0.9759 - 18s/epoch - 8ms/step\n",
      "Epoch 16/30\n",
      "2342/2342 - 18s - loss: 0.0475 - acc: 0.9845 - val_loss: 0.0503 - val_acc: 0.9821 - 18s/epoch - 8ms/step\n",
      "Epoch 17/30\n",
      "2342/2342 - 17s - loss: 0.0469 - acc: 0.9847 - val_loss: 0.0605 - val_acc: 0.9776 - 17s/epoch - 7ms/step\n",
      "Epoch 18/30\n",
      "2342/2342 - 17s - loss: 0.0461 - acc: 0.9850 - val_loss: 0.0462 - val_acc: 0.9844 - 17s/epoch - 7ms/step\n",
      "Epoch 19/30\n",
      "2342/2342 - 17s - loss: 0.0456 - acc: 0.9851 - val_loss: 0.0612 - val_acc: 0.9807 - 17s/epoch - 7ms/step\n",
      "Epoch 20/30\n",
      "2342/2342 - 17s - loss: 0.0451 - acc: 0.9853 - val_loss: 0.0488 - val_acc: 0.9832 - 17s/epoch - 7ms/step\n",
      "Epoch 21/30\n",
      "2342/2342 - 18s - loss: 0.0447 - acc: 0.9854 - val_loss: 0.0538 - val_acc: 0.9819 - 18s/epoch - 8ms/step\n",
      "Epoch 22/30\n",
      "2342/2342 - 17s - loss: 0.0443 - acc: 0.9855 - val_loss: 0.0500 - val_acc: 0.9831 - 17s/epoch - 7ms/step\n",
      "Epoch 23/30\n",
      "2342/2342 - 17s - loss: 0.0439 - acc: 0.9856 - val_loss: 0.0431 - val_acc: 0.9855 - 17s/epoch - 7ms/step\n",
      "Epoch 24/30\n",
      "2342/2342 - 17s - loss: 0.0435 - acc: 0.9858 - val_loss: 0.0460 - val_acc: 0.9849 - 17s/epoch - 7ms/step\n",
      "Epoch 25/30\n",
      "2342/2342 - 17s - loss: 0.0433 - acc: 0.9858 - val_loss: 0.0419 - val_acc: 0.9855 - 17s/epoch - 7ms/step\n",
      "Epoch 26/30\n",
      "2342/2342 - 18s - loss: 0.0428 - acc: 0.9860 - val_loss: 0.0586 - val_acc: 0.9803 - 18s/epoch - 8ms/step\n",
      "Epoch 27/30\n",
      "2342/2342 - 17s - loss: 0.0427 - acc: 0.9859 - val_loss: 0.0448 - val_acc: 0.9854 - 17s/epoch - 7ms/step\n",
      "Epoch 28/30\n",
      "2342/2342 - 17s - loss: 0.0425 - acc: 0.9861 - val_loss: 0.0567 - val_acc: 0.9821 - 17s/epoch - 7ms/step\n",
      "Epoch 29/30\n",
      "2342/2342 - 17s - loss: 0.0423 - acc: 0.9861 - val_loss: 0.0429 - val_acc: 0.9853 - 17s/epoch - 7ms/step\n",
      "Epoch 30/30\n",
      "2342/2342 - 17s - loss: 0.0421 - acc: 0.9862 - val_loss: 0.0461 - val_acc: 0.9843 - 17s/epoch - 7ms/step\n",
      "LSTM took 563.5665106773376 milliseconds to train data.\n",
      "\n"
     ]
    }
   ],
   "source": [
    "# Fitting the data onto model\n",
    "import time\n",
    "start = time.time()\n",
    "history = lstmmodel.fit(X_train, y_train, validation_data=(X_test, y_test), epochs=30, batch_size=1000, verbose=2)\n",
    "end  = time.time()\n",
    "print(\"LSTM took {} milliseconds to train data.\\n\".format(end-start))"
   ]
  },
  {
   "cell_type": "code",
   "execution_count": null,
   "metadata": {
    "colab": {
     "base_uri": "https://localhost:8080/"
    },
    "id": "NoQqlnxEu2WM",
    "outputId": "67e97d4b-dfd5-47a9-983e-ee519f00e696"
   },
   "outputs": [
    {
     "name": "stdout",
     "output_type": "stream",
     "text": [
      "Training Accuracy: 0.9864\n",
      "Testing Accuracy:  0.9843\n"
     ]
    }
   ],
   "source": [
    "loss, accuracy = lstmmodel.evaluate(X_train, y_train, verbose=False)\n",
    "print(\"Training Accuracy: {:.4f}\".format(accuracy))\n",
    "loss, accuracy = lstmmodel.evaluate(X_test, y_test, verbose=False)\n",
    "print(\"Testing Accuracy:  {:.4f}\".format(accuracy)) "
   ]
  },
  {
   "cell_type": "code",
   "execution_count": null,
   "metadata": {
    "colab": {
     "base_uri": "https://localhost:8080/"
    },
    "id": "RNOkrlM9u2WN",
    "outputId": "08b87d57-b58e-41f9-eb23-564bfed9ca49"
   },
   "outputs": [
    {
     "name": "stdout",
     "output_type": "stream",
     "text": [
      "LSTM took 27.36300230026245 milliseconds to train data.\n",
      "\n"
     ]
    }
   ],
   "source": [
    "start=time.time()\n",
    "y_pred1 = lstmmodel.predict(X_test)\n",
    "y_pred1=(y_pred1 > 0.5)\n",
    "end  = time.time()\n",
    "print(\"LSTM took {} milliseconds to train data.\\n\".format(end-start))"
   ]
  },
  {
   "cell_type": "code",
   "execution_count": null,
   "metadata": {
    "colab": {
     "base_uri": "https://localhost:8080/"
    },
    "id": "xQzyWHMTu2WN",
    "outputId": "95adbd38-cb66-45f0-f1d7-013b61832e0d"
   },
   "outputs": [
    {
     "name": "stdout",
     "output_type": "stream",
     "text": [
      "\n",
      "\n",
      "Precision, Recall, F1\n",
      "\n",
      "\n",
      "              precision    recall  f1-score   support\n",
      "\n",
      "           0       1.00      0.98      0.99    293019\n",
      "           1       0.96      0.99      0.97    122309\n",
      "\n",
      "    accuracy                           0.98    415328\n",
      "   macro avg       0.98      0.99      0.98    415328\n",
      "weighted avg       0.98      0.98      0.98    415328\n",
      "\n",
      "\n",
      "\n"
     ]
    }
   ],
   "source": [
    "from sklearn.metrics import classification_report, confusion_matrix\n",
    "print('\\n')\n",
    "print(\"Precision, Recall, F1\")\n",
    "print('\\n')\n",
    "CR=classification_report(y_test, y_pred1)\n",
    "print(CR)\n",
    "print('\\n')"
   ]
  },
  {
   "cell_type": "code",
   "execution_count": null,
   "metadata": {
    "colab": {
     "base_uri": "https://localhost:8080/",
     "height": 573
    },
    "id": "Kxz19Z6Qu2WO",
    "outputId": "2b669d3d-c391-4a19-c72f-029cd0b662b2"
   },
   "outputs": [
    {
     "data": {
      "image/png": "[encoded data removed]",
      "text/plain": [
       "<Figure size 432x288 with 1 Axes>"
      ]
     },
     "metadata": {
      "needs_background": "light"
     },
     "output_type": "display_data"
    },
    {
     "data": {
      "image/png": "[encoded data removed]",
      "text/plain": [
       "<Figure size 432x288 with 1 Axes>"
      ]
     },
     "metadata": {
      "needs_background": "light"
     },
     "output_type": "display_data"
    }
   ],
   "source": [
    "def Training_and_validation_plot(history):\n",
    "    acc = history.history['acc']\n",
    "    val_acc = history.history['val_acc']\n",
    "    loss = history.history['loss']\n",
    "    val_loss = history.history['val_loss']\n",
    "    epochs = range(1, len(acc) + 1)\n",
    "\n",
    "    plt.plot(epochs, acc, 'bo', label = 'Training Accuracy')\n",
    "    plt.plot(epochs, val_acc, 'r', label = 'Validation Accuracy')\n",
    "    plt.title('Training and Validation Accuracy')\n",
    "    plt.xlabel('Epochs')\n",
    "    plt.ylabel('Loss')\n",
    "    plt.legend()\n",
    "\n",
    "    plt.figure()\n",
    "    plt.plot(epochs, loss, 'bo', label = 'Training Loss')\n",
    "    plt.plot(epochs, val_loss, 'r', label = 'Validation Loss')\n",
    "    plt.title('Training and Validation Loss')\n",
    "    plt.xlabel('Epochs')\n",
    "    plt.ylabel('Loss')\n",
    "    plt.legend()\n",
    "    plt.show()\n",
    "Training_and_validation_plot(history)"
   ]
  },
  {
   "cell_type": "code",
   "execution_count": null,
   "metadata": {
    "colab": {
     "base_uri": "https://localhost:8080/",
     "height": 194
    },
    "id": "TKuN-HFbu2WP",
    "outputId": "8fed32ce-e43b-4b1d-c9cd-8d39731abd0e"
   },
   "outputs": [
    {
     "data": {
      "text/plain": [
       "<matplotlib.legend.Legend at 0x7f29bf61f390>"
      ]
     },
     "execution_count": 27,
     "metadata": {},
     "output_type": "execute_result"
    },
    {
     "data": {
      "image/png": "[encoded data removed]",
      "text/plain": [
       "<Figure size 432x288 with 1 Axes>"
      ]
     },
     "metadata": {
      "needs_background": "light"
     },
     "output_type": "display_data"
    }
   ],
   "source": [
    "import matplotlib.pyplot as plot\n",
    "plot.subplot(2,1,1)\n",
    "plot.plot(history.history['acc'])\n",
    "plot.plot(history.history['val_acc'])\n",
    "plot.title('model accuracy')\n",
    "plot.ylabel('accuracy')\n",
    "plot.xlabel('epoch')\n",
    "plot.legend(['train', 'test'], loc='lower right')"
   ]
  },
  {
   "cell_type": "code",
   "execution_count": null,
   "metadata": {
    "colab": {
     "base_uri": "https://localhost:8080/",
     "height": 194
    },
    "id": "S3Z_asIgu2WQ",
    "outputId": "de61f870-92a2-4e06-bc1a-1716548ff30f"
   },
   "outputs": [
    {
     "data": {
      "text/plain": [
       "<matplotlib.legend.Legend at 0x7f29bf59b910>"
      ]
     },
     "execution_count": 28,
     "metadata": {},
     "output_type": "execute_result"
    },
    {
     "data": {
      "image/png": "[encoded data removed]",
      "text/plain": [
       "<Figure size 432x288 with 1 Axes>"
      ]
     },
     "metadata": {
      "needs_background": "light"
     },
     "output_type": "display_data"
    }
   ],
   "source": [
    "plot.subplot(2,1,2)\n",
    "plot.plot(history.history['loss'])\n",
    "plot.plot(history.history['val_loss'])\n",
    "plot.title('model loss')\n",
    "plot.ylabel('loss')\n",
    "plot.xlabel('epoch')\n",
    "plot.legend(['train', 'test'], loc='upper right')"
   ]
  },
  {
   "cell_type": "markdown",
   "metadata": {
    "id": "MRYztcKc1WMY"
   },
   "source": [
    "## 128"
   ]
  },
  {
   "cell_type": "code",
   "execution_count": null,
   "metadata": {
    "colab": {
     "base_uri": "https://localhost:8080/"
    },
    "id": "v2Xwe0J21WMb",
    "outputId": "32adc428-a691-41a2-9b76-676cb2919214"
   },
   "outputs": [
    {
     "name": "stdout",
     "output_type": "stream",
     "text": [
      "Model: \"model_2\"\n",
      "_________________________________________________________________\n",
      " Layer (type)                Output Shape              Param #   \n",
      "=================================================================\n",
      " inputs (InputLayer)         [(None, 50)]              0         \n",
      "                                                                 \n",
      " embedding_2 (Embedding)     (None, 50, 50)            2550      \n",
      "                                                                 \n",
      " lstm_2 (LSTM)               (None, 128)               91648     \n",
      "                                                                 \n",
      " flatten_2 (Flatten)         (None, 128)               0         \n",
      "                                                                 \n",
      " FC1 (Dense)                 (None, 256)               33024     \n",
      "                                                                 \n",
      " activation_4 (Activation)   (None, 256)               0         \n",
      "                                                                 \n",
      " dropout_2 (Dropout)         (None, 256)               0         \n",
      "                                                                 \n",
      " out_layer (Dense)           (None, 1)                 257       \n",
      "                                                                 \n",
      " activation_5 (Activation)   (None, 1)                 0         \n",
      "                                                                 \n",
      "=================================================================\n",
      "Total params: 127,479\n",
      "Trainable params: 127,479\n",
      "Non-trainable params: 0\n",
      "_________________________________________________________________\n"
     ]
    }
   ],
   "source": [
    "from tensorflow.keras.optimizers import RMSprop\n",
    "from keras.layers import LSTM, Activation, Dense, Dropout, Input, Conv1D, Embedding, Flatten\n",
    "from tensorflow.keras.models import Sequential, Model\n",
    "\n",
    "inputs = Input(name='inputs',shape=[max_len])\n",
    "lstmmodel = Sequential()\n",
    "lstmmodel = Embedding(input_dim = max_len + 1,output_dim = 50,input_length=max_len)(inputs)\n",
    "lstmmodel = LSTM(128)(lstmmodel)\n",
    "lstmmodel = Flatten()(lstmmodel)\n",
    "\n",
    "lstmmodel = Dense(256,name='FC1')(lstmmodel)\n",
    "lstmmodel = Activation('relu')(lstmmodel)\n",
    "lstmmodel = Dropout(0.5)(lstmmodel)\n",
    "\n",
    "lstmmodel = Dense(1,name='out_layer')(lstmmodel)\n",
    "lstmmodel = Activation('sigmoid')(lstmmodel)\n",
    "lstmmodel = Model(inputs=inputs,outputs=lstmmodel)\n",
    "\n",
    "lstmmodel.summary()\n",
    "lstmmodel.compile(loss='binary_crossentropy',optimizer=RMSprop(),metrics=['acc'])"
   ]
  },
  {
   "cell_type": "code",
   "execution_count": null,
   "metadata": {
    "colab": {
     "base_uri": "https://localhost:8080/"
    },
    "id": "gF70W5c61WMc",
    "outputId": "921ec0ac-8092-4419-bd9f-c2b37bd105ae"
   },
   "outputs": [
    {
     "name": "stdout",
     "output_type": "stream",
     "text": [
      "Epoch 1/30\n",
      "2342/2342 - 44s - loss: 0.1810 - acc: 0.9311 - val_loss: 0.1132 - val_acc: 0.9580 - 44s/epoch - 19ms/step\n",
      "Epoch 2/30\n",
      "2342/2342 - 42s - loss: 0.0885 - acc: 0.9702 - val_loss: 0.0728 - val_acc: 0.9742 - 42s/epoch - 18ms/step\n",
      "Epoch 3/30\n",
      "2342/2342 - 42s - loss: 0.0619 - acc: 0.9794 - val_loss: 0.0561 - val_acc: 0.9805 - 42s/epoch - 18ms/step\n",
      "Epoch 4/30\n",
      "2342/2342 - 42s - loss: 0.0524 - acc: 0.9827 - val_loss: 0.0489 - val_acc: 0.9828 - 42s/epoch - 18ms/step\n",
      "Epoch 5/30\n",
      "2342/2342 - 42s - loss: 0.0471 - acc: 0.9845 - val_loss: 0.0541 - val_acc: 0.9831 - 42s/epoch - 18ms/step\n",
      "Epoch 6/30\n",
      "2342/2342 - 42s - loss: 0.0436 - acc: 0.9856 - val_loss: 0.0470 - val_acc: 0.9842 - 42s/epoch - 18ms/step\n",
      "Epoch 7/30\n",
      "2342/2342 - 41s - loss: 0.0406 - acc: 0.9865 - val_loss: 0.0398 - val_acc: 0.9861 - 41s/epoch - 18ms/step\n",
      "Epoch 8/30\n",
      "2342/2342 - 42s - loss: 0.0382 - acc: 0.9872 - val_loss: 0.0487 - val_acc: 0.9836 - 42s/epoch - 18ms/step\n",
      "Epoch 9/30\n",
      "2342/2342 - 42s - loss: 0.0363 - acc: 0.9878 - val_loss: 0.0376 - val_acc: 0.9876 - 42s/epoch - 18ms/step\n",
      "Epoch 10/30\n",
      "2342/2342 - 42s - loss: 0.0345 - acc: 0.9884 - val_loss: 0.0404 - val_acc: 0.9872 - 42s/epoch - 18ms/step\n",
      "Epoch 11/30\n",
      "2342/2342 - 42s - loss: 0.0330 - acc: 0.9888 - val_loss: 0.0402 - val_acc: 0.9862 - 42s/epoch - 18ms/step\n",
      "Epoch 12/30\n",
      "2342/2342 - 41s - loss: 0.0318 - acc: 0.9892 - val_loss: 0.0364 - val_acc: 0.9879 - 41s/epoch - 18ms/step\n",
      "Epoch 13/30\n",
      "2342/2342 - 42s - loss: 0.0306 - acc: 0.9897 - val_loss: 0.0400 - val_acc: 0.9862 - 42s/epoch - 18ms/step\n",
      "Epoch 14/30\n",
      "2342/2342 - 42s - loss: 0.0296 - acc: 0.9900 - val_loss: 0.0423 - val_acc: 0.9869 - 42s/epoch - 18ms/step\n",
      "Epoch 15/30\n",
      "2342/2342 - 42s - loss: 0.0285 - acc: 0.9903 - val_loss: 0.0352 - val_acc: 0.9875 - 42s/epoch - 18ms/step\n",
      "Epoch 16/30\n",
      "2342/2342 - 42s - loss: 0.0276 - acc: 0.9906 - val_loss: 0.0351 - val_acc: 0.9884 - 42s/epoch - 18ms/step\n",
      "Epoch 17/30\n",
      "2342/2342 - 42s - loss: 0.0267 - acc: 0.9909 - val_loss: 0.0427 - val_acc: 0.9870 - 42s/epoch - 18ms/step\n",
      "Epoch 18/30\n",
      "2342/2342 - 41s - loss: 0.0259 - acc: 0.9912 - val_loss: 0.0426 - val_acc: 0.9872 - 41s/epoch - 18ms/step\n",
      "Epoch 19/30\n",
      "2342/2342 - 42s - loss: 0.0252 - acc: 0.9915 - val_loss: 0.0398 - val_acc: 0.9859 - 42s/epoch - 18ms/step\n",
      "Epoch 20/30\n",
      "2342/2342 - 42s - loss: 0.0245 - acc: 0.9917 - val_loss: 0.0425 - val_acc: 0.9860 - 42s/epoch - 18ms/step\n",
      "Epoch 21/30\n",
      "2342/2342 - 42s - loss: 0.0238 - acc: 0.9919 - val_loss: 0.0511 - val_acc: 0.9842 - 42s/epoch - 18ms/step\n",
      "Epoch 22/30\n",
      "2342/2342 - 41s - loss: 0.0231 - acc: 0.9922 - val_loss: 0.0436 - val_acc: 0.9863 - 41s/epoch - 18ms/step\n",
      "Epoch 23/30\n",
      "2342/2342 - 42s - loss: 0.0226 - acc: 0.9924 - val_loss: 0.0477 - val_acc: 0.9871 - 42s/epoch - 18ms/step\n",
      "Epoch 24/30\n",
      "2342/2342 - 42s - loss: 0.0220 - acc: 0.9925 - val_loss: 0.0425 - val_acc: 0.9885 - 42s/epoch - 18ms/step\n",
      "Epoch 25/30\n",
      "2342/2342 - 42s - loss: 0.0217 - acc: 0.9927 - val_loss: 0.0398 - val_acc: 0.9879 - 42s/epoch - 18ms/step\n",
      "Epoch 26/30\n",
      "2342/2342 - 42s - loss: 0.0211 - acc: 0.9929 - val_loss: 0.0473 - val_acc: 0.9856 - 42s/epoch - 18ms/step\n",
      "Epoch 27/30\n",
      "2342/2342 - 42s - loss: 0.0208 - acc: 0.9931 - val_loss: 0.0428 - val_acc: 0.9884 - 42s/epoch - 18ms/step\n",
      "Epoch 28/30\n",
      "2342/2342 - 42s - loss: 0.0204 - acc: 0.9932 - val_loss: 0.0425 - val_acc: 0.9876 - 42s/epoch - 18ms/step\n",
      "Epoch 29/30\n",
      "2342/2342 - 42s - loss: 0.0199 - acc: 0.9932 - val_loss: 0.0540 - val_acc: 0.9843 - 42s/epoch - 18ms/step\n",
      "Epoch 30/30\n",
      "2342/2342 - 41s - loss: 0.0195 - acc: 0.9935 - val_loss: 0.0459 - val_acc: 0.9881 - 41s/epoch - 18ms/step\n",
      "LSTM took 1283.5467703342438 milliseconds to train data.\n",
      "\n"
     ]
    }
   ],
   "source": [
    "# Fitting the data onto model\n",
    "import time\n",
    "start = time.time()\n",
    "history = lstmmodel.fit(X_train, y_train, validation_data=(X_test, y_test), epochs=30, batch_size=1000, verbose=2)\n",
    "end  = time.time()\n",
    "print(\"LSTM took {} milliseconds to train data.\\n\".format(end-start))"
   ]
  },
  {
   "cell_type": "code",
   "execution_count": null,
   "metadata": {
    "colab": {
     "base_uri": "https://localhost:8080/"
    },
    "id": "2Gw6ZxC61WMd",
    "outputId": "167248a2-306c-4da3-bfa7-5fb11bc72705"
   },
   "outputs": [
    {
     "name": "stdout",
     "output_type": "stream",
     "text": [
      "Training Accuracy: 0.9945\n",
      "Testing Accuracy:  0.9881\n"
     ]
    }
   ],
   "source": [
    "loss, accuracy = lstmmodel.evaluate(X_train, y_train, verbose=False)\n",
    "print(\"Training Accuracy: {:.4f}\".format(accuracy))\n",
    "loss, accuracy = lstmmodel.evaluate(X_test, y_test, verbose=False)\n",
    "print(\"Testing Accuracy:  {:.4f}\".format(accuracy)) "
   ]
  },
  {
   "cell_type": "code",
   "execution_count": null,
   "metadata": {
    "colab": {
     "base_uri": "https://localhost:8080/"
    },
    "id": "xmRbOHEt1WMe",
    "outputId": "2dcb8574-a27a-42ef-be2c-b11c9bfc6c9d"
   },
   "outputs": [
    {
     "name": "stdout",
     "output_type": "stream",
     "text": [
      "LSTM took 41.273197174072266 milliseconds to train data.\n",
      "\n"
     ]
    }
   ],
   "source": [
    "start=time.time()\n",
    "y_pred1 = lstmmodel.predict(X_test)\n",
    "y_pred1=(y_pred1 > 0.5)\n",
    "end  = time.time()\n",
    "print(\"LSTM took {} milliseconds to train data.\\n\".format(end-start))"
   ]
  },
  {
   "cell_type": "code",
   "execution_count": null,
   "metadata": {
    "colab": {
     "base_uri": "https://localhost:8080/"
    },
    "id": "kDR-Zjkm1WMf",
    "outputId": "4017537a-3c6d-4ff2-8cec-8339a7f478ae"
   },
   "outputs": [
    {
     "name": "stdout",
     "output_type": "stream",
     "text": [
      "\n",
      "\n",
      "Precision, Recall, F1\n",
      "\n",
      "\n",
      "              precision    recall  f1-score   support\n",
      "\n",
      "           0       1.00      0.99      0.99    293019\n",
      "           1       0.97      0.99      0.98    122309\n",
      "\n",
      "    accuracy                           0.99    415328\n",
      "   macro avg       0.98      0.99      0.99    415328\n",
      "weighted avg       0.99      0.99      0.99    415328\n",
      "\n",
      "\n",
      "\n"
     ]
    }
   ],
   "source": [
    "from sklearn.metrics import classification_report, confusion_matrix\n",
    "print('\\n')\n",
    "print(\"Precision, Recall, F1\")\n",
    "print('\\n')\n",
    "CR=classification_report(y_test, y_pred1)\n",
    "print(CR)\n",
    "print('\\n')"
   ]
  },
  {
   "cell_type": "code",
   "execution_count": null,
   "metadata": {
    "colab": {
     "base_uri": "https://localhost:8080/",
     "height": 573
    },
    "id": "GaJeY1mZ1WMf",
    "outputId": "a2ebeb6a-37b1-440f-d825-0b53e795872d"
   },
   "outputs": [
    {
     "data": {
      "image/png": "[encoded data removed]",
      "text/plain": [
       "<Figure size 432x288 with 1 Axes>"
      ]
     },
     "metadata": {
      "needs_background": "light"
     },
     "output_type": "display_data"
    },
    {
     "data": {
      "image/png": "[encoded data removed]",
      "text/plain": [
       "<Figure size 432x288 with 1 Axes>"
      ]
     },
     "metadata": {
      "needs_background": "light"
     },
     "output_type": "display_data"
    }
   ],
   "source": [
    "def Training_and_validation_plot(history):\n",
    "    acc = history.history['acc']\n",
    "    val_acc = history.history['val_acc']\n",
    "    loss = history.history['loss']\n",
    "    val_loss = history.history['val_loss']\n",
    "    epochs = range(1, len(acc) + 1)\n",
    "\n",
    "    plt.plot(epochs, acc, 'bo', label = 'Training Accuracy')\n",
    "    plt.plot(epochs, val_acc, 'r', label = 'Validation Accuracy')\n",
    "    plt.title('Training and Validation Accuracy')\n",
    "    plt.xlabel('Epochs')\n",
    "    plt.ylabel('Loss')\n",
    "    plt.legend()\n",
    "\n",
    "    plt.figure()\n",
    "    plt.plot(epochs, loss, 'bo', label = 'Training Loss')\n",
    "    plt.plot(epochs, val_loss, 'r', label = 'Validation Loss')\n",
    "    plt.title('Training and Validation Loss')\n",
    "    plt.xlabel('Epochs')\n",
    "    plt.ylabel('Loss')\n",
    "    plt.legend()\n",
    "    plt.show()\n",
    "Training_and_validation_plot(history)"
   ]
  },
  {
   "cell_type": "code",
   "execution_count": null,
   "metadata": {
    "colab": {
     "base_uri": "https://localhost:8080/",
     "height": 194
    },
    "id": "n8RvFIxu1WMg",
    "outputId": "b598cf20-faee-4743-899b-45412c4ef887"
   },
   "outputs": [
    {
     "data": {
      "text/plain": [
       "<matplotlib.legend.Legend at 0x7f2956c7f450>"
      ]
     },
     "execution_count": 37,
     "metadata": {},
     "output_type": "execute_result"
    },
    {
     "data": {
      "image/png": "[encoded data removed]",
      "text/plain": [
       "<Figure size 432x288 with 1 Axes>"
      ]
     },
     "metadata": {
      "needs_background": "light"
     },
     "output_type": "display_data"
    }
   ],
   "source": [
    "import matplotlib.pyplot as plot\n",
    "plot.subplot(2,1,1)\n",
    "plot.plot(history.history['acc'])\n",
    "plot.plot(history.history['val_acc'])\n",
    "plot.title('model accuracy')\n",
    "plot.ylabel('accuracy')\n",
    "plot.xlabel('epoch')\n",
    "plot.legend(['train', 'test'], loc='lower right')"
   ]
  },
  {
   "cell_type": "code",
   "execution_count": null,
   "metadata": {
    "colab": {
     "base_uri": "https://localhost:8080/",
     "height": 194
    },
    "id": "kWuicItC1WMh",
    "outputId": "d160f778-bebe-4e6a-b370-592ef24735e3"
   },
   "outputs": [
    {
     "data": {
      "text/plain": [
       "<matplotlib.legend.Legend at 0x7f2956c1a310>"
      ]
     },
     "execution_count": 38,
     "metadata": {},
     "output_type": "execute_result"
    },
    {
     "data": {
      "image/png": "[encoded data removed]",
      "text/plain": [
       "<Figure size 432x288 with 1 Axes>"
      ]
     },
     "metadata": {
      "needs_background": "light"
     },
     "output_type": "display_data"
    }
   ],
   "source": [
    "plot.subplot(2,1,2)\n",
    "plot.plot(history.history['loss'])\n",
    "plot.plot(history.history['val_loss'])\n",
    "plot.title('model loss')\n",
    "plot.ylabel('loss')\n",
    "plot.xlabel('epoch')\n",
    "plot.legend(['train', 'test'], loc='upper right')"
   ]
  },
  {
   "cell_type": "code",
   "execution_count": null,
   "metadata": {
    "colab": {
     "base_uri": "https://localhost:8080/"
    },
    "id": "aIt8gzn-1WMh",
    "outputId": "373f4894-4a3e-4405-cef9-2eb12b142e1c"
   },
   "outputs": [
    {
     "name": "stderr",
     "output_type": "stream",
     "text": [
      "WARNING:absl:Found untraced functions such as lstm_cell_2_layer_call_fn, lstm_cell_2_layer_call_and_return_conditional_losses while saving (showing 2 of 2). These functions will not be directly callable after loading.\n"
     ]
    },
    {
     "name": "stdout",
     "output_type": "stream",
     "text": [
      "INFO:tensorflow:Assets written to: ram://4c4c975d-9c9a-4558-b0c1-22322f06f536/assets\n"
     ]
    },
    {
     "name": "stderr",
     "output_type": "stream",
     "text": [
      "INFO:tensorflow:Assets written to: ram://4c4c975d-9c9a-4558-b0c1-22322f06f536/assets\n",
      "WARNING:absl:<keras.layers.recurrent.LSTMCell object at 0x7f2990285dd0> has the same name 'LSTMCell' as a built-in Keras object. Consider renaming <class 'keras.layers.recurrent.LSTMCell'> to avoid naming conflicts when loading with `tf.keras.models.load_model`. If renaming is not possible, pass the object in the `custom_objects` parameter of the load function.\n"
     ]
    }
   ],
   "source": [
    "import pickle\n",
    "filename = '/content/drive/My Drive/Colab Notebooks/Blstmmodel128.sav'\n",
    "pickle.dump(lstmmodel, open(filename, 'wb'))"
   ]
  }
 ],
 "metadata": {
  "colab": {
   "provenance": []
  },
  "kernelspec": {
   "display_name": "Python 3 (ipykernel)",
   "language": "python",
   "name": "python3"
  },
  "language_info": {
   "codemirror_mode": {
    "name": "ipython",
    "version": 3
   },
   "file_extension": ".py",
   "mimetype": "text/x-python",
   "name": "python",
   "nbconvert_exporter": "python",
   "pygments_lexer": "ipython3",
   "version": "3.10.9"
  }
 },
 "nbformat": 4,
 "nbformat_minor": 1
}
