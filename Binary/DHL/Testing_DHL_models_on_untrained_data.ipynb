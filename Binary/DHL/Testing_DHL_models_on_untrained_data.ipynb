{
  "nbformat": 4,
  "nbformat_minor": 0,
  "metadata": {
    "colab": {
      "provenance": []
    },
    "kernelspec": {
      "name": "python3",
      "display_name": "Python 3"
    },
    "language_info": {
      "name": "python"
    }
  },
  "cells": [
    {
      "cell_type": "code",
      "execution_count": null,
      "metadata": {
        "id": "blwR7ARVeBNY"
      },
      "outputs": [],
      "source": [
        "import pandas as pd\n",
        "import numpy as np\n",
        "import math\n",
        "from collections import Counter\n",
        "from sklearn.model_selection import train_test_split\n",
        "from sklearn.model_selection import GridSearchCV"
      ]
    },
    {
      "cell_type": "code",
      "execution_count": null,
      "metadata": {
        "colab": {
          "base_uri": "https://localhost:8080/"
        },
        "id": "-miIBab7lnn8",
        "outputId": "f992f585-fe64-4e33-a433-43ffee7bb8a3"
      },
      "outputs": [
        {
          "output_type": "stream",
          "name": "stdout",
          "text": [
            "Mounted at /content/drive\n"
          ]
        }
      ],
      "source": [
        "from google.colab import drive\n",
        "drive.mount('/content/drive')"
      ]
    },
    {
      "cell_type": "markdown",
      "metadata": {
        "id": "kDw7lOEfGFz8"
      },
      "source": [
        "## Binary Experiment of DHL on untrained data"
      ]
    },
    {
      "cell_type": "code",
      "execution_count": null,
      "metadata": {
        "colab": {
          "base_uri": "https://localhost:8080/",
          "height": 206
        },
        "id": "58m9ivLbGLri",
        "outputId": "a426a7bc-021e-4fca-d668-f9746693a517"
      },
      "outputs": [
        {
          "output_type": "execute_result",
          "data": {
            "text/plain": [
              "            domain_name  label\n",
              "0               s.w.org  legit\n",
              "1     fonts.gstatic.com  legit\n",
              "2       plus.google.com  legit\n",
              "3       maps.google.com  legit\n",
              "4  cdnjs.cloudflare.com  legit"
            ],
            "text/html": [
              "\n",
              "  <div id=\"df-99ba2f71-d405-4a46-9fee-dcdeb951b8d5\">\n",
              "    <div class=\"colab-df-container\">\n",
              "      <div>\n",
              "<style scoped>\n",
              "    .dataframe tbody tr th:only-of-type {\n",
              "        vertical-align: middle;\n",
              "    }\n",
              "\n",
              "    .dataframe tbody tr th {\n",
              "        vertical-align: top;\n",
              "    }\n",
              "\n",
              "    .dataframe thead th {\n",
              "        text-align: right;\n",
              "    }\n",
              "</style>\n",
              "<table border=\"1\" class=\"dataframe\">\n",
              "  <thead>\n",
              "    <tr style=\"text-align: right;\">\n",
              "      <th></th>\n",
              "      <th>domain_name</th>\n",
              "      <th>label</th>\n",
              "    </tr>\n",
              "  </thead>\n",
              "  <tbody>\n",
              "    <tr>\n",
              "      <th>0</th>\n",
              "      <td>s.w.org</td>\n",
              "      <td>legit</td>\n",
              "    </tr>\n",
              "    <tr>\n",
              "      <th>1</th>\n",
              "      <td>fonts.gstatic.com</td>\n",
              "      <td>legit</td>\n",
              "    </tr>\n",
              "    <tr>\n",
              "      <th>2</th>\n",
              "      <td>plus.google.com</td>\n",
              "      <td>legit</td>\n",
              "    </tr>\n",
              "    <tr>\n",
              "      <th>3</th>\n",
              "      <td>maps.google.com</td>\n",
              "      <td>legit</td>\n",
              "    </tr>\n",
              "    <tr>\n",
              "      <th>4</th>\n",
              "      <td>cdnjs.cloudflare.com</td>\n",
              "      <td>legit</td>\n",
              "    </tr>\n",
              "  </tbody>\n",
              "</table>\n",
              "</div>\n",
              "      <button class=\"colab-df-convert\" onclick=\"convertToInteractive('df-99ba2f71-d405-4a46-9fee-dcdeb951b8d5')\"\n",
              "              title=\"Convert this dataframe to an interactive table.\"\n",
              "              style=\"display:none;\">\n",
              "        \n",
              "  <svg xmlns=\"http://www.w3.org/2000/svg\" height=\"24px\"viewBox=\"0 0 24 24\"\n",
              "       width=\"24px\">\n",
              "    <path d=\"M0 0h24v24H0V0z\" fill=\"none\"/>\n",
              "    <path d=\"M18.56 5.44l.94 2.06.94-2.06 2.06-.94-2.06-.94-.94-2.06-.94 2.06-2.06.94zm-11 1L8.5 8.5l.94-2.06 2.06-.94-2.06-.94L8.5 2.5l-.94 2.06-2.06.94zm10 10l.94 2.06.94-2.06 2.06-.94-2.06-.94-.94-2.06-.94 2.06-2.06.94z\"/><path d=\"M17.41 7.96l-1.37-1.37c-.4-.4-.92-.59-1.43-.59-.52 0-1.04.2-1.43.59L10.3 9.45l-7.72 7.72c-.78.78-.78 2.05 0 2.83L4 21.41c.39.39.9.59 1.41.59.51 0 1.02-.2 1.41-.59l7.78-7.78 2.81-2.81c.8-.78.8-2.07 0-2.86zM5.41 20L4 18.59l7.72-7.72 1.47 1.35L5.41 20z\"/>\n",
              "  </svg>\n",
              "      </button>\n",
              "      \n",
              "  <style>\n",
              "    .colab-df-container {\n",
              "      display:flex;\n",
              "      flex-wrap:wrap;\n",
              "      gap: 12px;\n",
              "    }\n",
              "\n",
              "    .colab-df-convert {\n",
              "      background-color: #E8F0FE;\n",
              "      border: none;\n",
              "      border-radius: 50%;\n",
              "      cursor: pointer;\n",
              "      display: none;\n",
              "      fill: #1967D2;\n",
              "      height: 32px;\n",
              "      padding: 0 0 0 0;\n",
              "      width: 32px;\n",
              "    }\n",
              "\n",
              "    .colab-df-convert:hover {\n",
              "      background-color: #E2EBFA;\n",
              "      box-shadow: 0px 1px 2px rgba(60, 64, 67, 0.3), 0px 1px 3px 1px rgba(60, 64, 67, 0.15);\n",
              "      fill: #174EA6;\n",
              "    }\n",
              "\n",
              "    [theme=dark] .colab-df-convert {\n",
              "      background-color: #3B4455;\n",
              "      fill: #D2E3FC;\n",
              "    }\n",
              "\n",
              "    [theme=dark] .colab-df-convert:hover {\n",
              "      background-color: #434B5C;\n",
              "      box-shadow: 0px 1px 3px 1px rgba(0, 0, 0, 0.15);\n",
              "      filter: drop-shadow(0px 1px 2px rgba(0, 0, 0, 0.3));\n",
              "      fill: #FFFFFF;\n",
              "    }\n",
              "  </style>\n",
              "\n",
              "      <script>\n",
              "        const buttonEl =\n",
              "          document.querySelector('#df-99ba2f71-d405-4a46-9fee-dcdeb951b8d5 button.colab-df-convert');\n",
              "        buttonEl.style.display =\n",
              "          google.colab.kernel.accessAllowed ? 'block' : 'none';\n",
              "\n",
              "        async function convertToInteractive(key) {\n",
              "          const element = document.querySelector('#df-99ba2f71-d405-4a46-9fee-dcdeb951b8d5');\n",
              "          const dataTable =\n",
              "            await google.colab.kernel.invokeFunction('convertToInteractive',\n",
              "                                                     [key], {});\n",
              "          if (!dataTable) return;\n",
              "\n",
              "          const docLinkHtml = 'Like what you see? Visit the ' +\n",
              "            '<a target=\"_blank\" href=https://colab.research.google.com/notebooks/data_table.ipynb>data table notebook</a>'\n",
              "            + ' to learn more about interactive tables.';\n",
              "          element.innerHTML = '';\n",
              "          dataTable['output_type'] = 'display_data';\n",
              "          await google.colab.output.renderOutput(dataTable, element);\n",
              "          const docLink = document.createElement('div');\n",
              "          docLink.innerHTML = docLinkHtml;\n",
              "          element.appendChild(docLink);\n",
              "        }\n",
              "      </script>\n",
              "    </div>\n",
              "  </div>\n",
              "  "
            ]
          },
          "metadata": {},
          "execution_count": 3
        }
      ],
      "source": [
        "Domain_data = pd.read_csv('/content/drive/My Drive/Colab Notebooks/untrained_domain_data.csv')\n",
        "Domain_data.drop([\"Unnamed: 0\"], axis=1, inplace=True)\n",
        "Domain_data.head()"
      ]
    },
    {
      "cell_type": "code",
      "execution_count": null,
      "metadata": {
        "colab": {
          "base_uri": "https://localhost:8080/"
        },
        "id": "urBik4YRReqA",
        "outputId": "0eb5920f-b2bc-4323-ade3-68ef75367671"
      },
      "outputs": [
        {
          "output_type": "stream",
          "name": "stdout",
          "text": [
            "Looking in indexes: https://pypi.org/simple, https://us-python.pkg.dev/colab-wheels/public/simple/\n",
            "Collecting tldextract\n",
            "  Downloading tldextract-3.3.1-py3-none-any.whl (93 kB)\n",
            "\u001b[K     |████████████████████████████████| 93 kB 1.6 MB/s \n",
            "\u001b[?25hCollecting requests-file>=1.4\n",
            "  Downloading requests_file-1.5.1-py2.py3-none-any.whl (3.7 kB)\n",
            "Requirement already satisfied: filelock>=3.0.8 in /usr/local/lib/python3.7/dist-packages (from tldextract) (3.7.1)\n",
            "Requirement already satisfied: idna in /usr/local/lib/python3.7/dist-packages (from tldextract) (2.10)\n",
            "Requirement already satisfied: requests>=2.1.0 in /usr/local/lib/python3.7/dist-packages (from tldextract) (2.23.0)\n",
            "Requirement already satisfied: urllib3!=1.25.0,!=1.25.1,<1.26,>=1.21.1 in /usr/local/lib/python3.7/dist-packages (from requests>=2.1.0->tldextract) (1.24.3)\n",
            "Requirement already satisfied: certifi>=2017.4.17 in /usr/local/lib/python3.7/dist-packages (from requests>=2.1.0->tldextract) (2022.6.15)\n",
            "Requirement already satisfied: chardet<4,>=3.0.2 in /usr/local/lib/python3.7/dist-packages (from requests>=2.1.0->tldextract) (3.0.4)\n",
            "Requirement already satisfied: six in /usr/local/lib/python3.7/dist-packages (from requests-file>=1.4->tldextract) (1.15.0)\n",
            "Installing collected packages: requests-file, tldextract\n",
            "Successfully installed requests-file-1.5.1 tldextract-3.3.1\n"
          ]
        }
      ],
      "source": [
        "! pip install tldextract"
      ]
    },
    {
      "cell_type": "code",
      "execution_count": null,
      "metadata": {
        "id": "UApUvXCZXCdM"
      },
      "outputs": [],
      "source": [
        "def entropy(domain_name):\n",
        "    \"\"\" Function which computes the entropy of a given domain name based on it's chars \"\"\"\n",
        "    elements, length = Counter(domain_name), len(domain_name)    \n",
        "    \n",
        "    return -sum(element/length * math.log(element/length, 2) for element in elements.values())"
      ]
    },
    {
      "cell_type": "code",
      "execution_count": null,
      "metadata": {
        "id": "rTRFV6SvXJZd"
      },
      "outputs": [],
      "source": [
        "import tldextract\n",
        "def get_domain_name(domain):\n",
        "    \"\"\" Function which extracts domain name from subdomain name \"\"\"\n",
        "    res = tldextract.extract(domain)\n",
        "    return res.domain if len(res.domain) > len(res.subdomain) or entropy(res.domain) > entropy(res.subdomain) else res.subdomain\n",
        "\n",
        "Domain_data[\"domain\"] = Domain_data[\"domain_name\"].apply(lambda domain: get_domain_name(domain))"
      ]
    },
    {
      "cell_type": "code",
      "source": [
        "Domain_data.head()"
      ],
      "metadata": {
        "colab": {
          "base_uri": "https://localhost:8080/",
          "height": 206
        },
        "id": "AhJH6xZbnyEx",
        "outputId": "d4befc04-1d15-4bbd-8616-75faffc3391f"
      },
      "execution_count": null,
      "outputs": [
        {
          "output_type": "execute_result",
          "data": {
            "text/plain": [
              "            domain_name  label      domain\n",
              "0               s.w.org  legit           s\n",
              "1     fonts.gstatic.com  legit     gstatic\n",
              "2       plus.google.com  legit      google\n",
              "3       maps.google.com  legit      google\n",
              "4  cdnjs.cloudflare.com  legit  cloudflare"
            ],
            "text/html": [
              "\n",
              "  <div id=\"df-3872cd8d-d46f-4813-b040-071d7ce83b08\">\n",
              "    <div class=\"colab-df-container\">\n",
              "      <div>\n",
              "<style scoped>\n",
              "    .dataframe tbody tr th:only-of-type {\n",
              "        vertical-align: middle;\n",
              "    }\n",
              "\n",
              "    .dataframe tbody tr th {\n",
              "        vertical-align: top;\n",
              "    }\n",
              "\n",
              "    .dataframe thead th {\n",
              "        text-align: right;\n",
              "    }\n",
              "</style>\n",
              "<table border=\"1\" class=\"dataframe\">\n",
              "  <thead>\n",
              "    <tr style=\"text-align: right;\">\n",
              "      <th></th>\n",
              "      <th>domain_name</th>\n",
              "      <th>label</th>\n",
              "      <th>domain</th>\n",
              "    </tr>\n",
              "  </thead>\n",
              "  <tbody>\n",
              "    <tr>\n",
              "      <th>0</th>\n",
              "      <td>s.w.org</td>\n",
              "      <td>legit</td>\n",
              "      <td>s</td>\n",
              "    </tr>\n",
              "    <tr>\n",
              "      <th>1</th>\n",
              "      <td>fonts.gstatic.com</td>\n",
              "      <td>legit</td>\n",
              "      <td>gstatic</td>\n",
              "    </tr>\n",
              "    <tr>\n",
              "      <th>2</th>\n",
              "      <td>plus.google.com</td>\n",
              "      <td>legit</td>\n",
              "      <td>google</td>\n",
              "    </tr>\n",
              "    <tr>\n",
              "      <th>3</th>\n",
              "      <td>maps.google.com</td>\n",
              "      <td>legit</td>\n",
              "      <td>google</td>\n",
              "    </tr>\n",
              "    <tr>\n",
              "      <th>4</th>\n",
              "      <td>cdnjs.cloudflare.com</td>\n",
              "      <td>legit</td>\n",
              "      <td>cloudflare</td>\n",
              "    </tr>\n",
              "  </tbody>\n",
              "</table>\n",
              "</div>\n",
              "      <button class=\"colab-df-convert\" onclick=\"convertToInteractive('df-3872cd8d-d46f-4813-b040-071d7ce83b08')\"\n",
              "              title=\"Convert this dataframe to an interactive table.\"\n",
              "              style=\"display:none;\">\n",
              "        \n",
              "  <svg xmlns=\"http://www.w3.org/2000/svg\" height=\"24px\"viewBox=\"0 0 24 24\"\n",
              "       width=\"24px\">\n",
              "    <path d=\"M0 0h24v24H0V0z\" fill=\"none\"/>\n",
              "    <path d=\"M18.56 5.44l.94 2.06.94-2.06 2.06-.94-2.06-.94-.94-2.06-.94 2.06-2.06.94zm-11 1L8.5 8.5l.94-2.06 2.06-.94-2.06-.94L8.5 2.5l-.94 2.06-2.06.94zm10 10l.94 2.06.94-2.06 2.06-.94-2.06-.94-.94-2.06-.94 2.06-2.06.94z\"/><path d=\"M17.41 7.96l-1.37-1.37c-.4-.4-.92-.59-1.43-.59-.52 0-1.04.2-1.43.59L10.3 9.45l-7.72 7.72c-.78.78-.78 2.05 0 2.83L4 21.41c.39.39.9.59 1.41.59.51 0 1.02-.2 1.41-.59l7.78-7.78 2.81-2.81c.8-.78.8-2.07 0-2.86zM5.41 20L4 18.59l7.72-7.72 1.47 1.35L5.41 20z\"/>\n",
              "  </svg>\n",
              "      </button>\n",
              "      \n",
              "  <style>\n",
              "    .colab-df-container {\n",
              "      display:flex;\n",
              "      flex-wrap:wrap;\n",
              "      gap: 12px;\n",
              "    }\n",
              "\n",
              "    .colab-df-convert {\n",
              "      background-color: #E8F0FE;\n",
              "      border: none;\n",
              "      border-radius: 50%;\n",
              "      cursor: pointer;\n",
              "      display: none;\n",
              "      fill: #1967D2;\n",
              "      height: 32px;\n",
              "      padding: 0 0 0 0;\n",
              "      width: 32px;\n",
              "    }\n",
              "\n",
              "    .colab-df-convert:hover {\n",
              "      background-color: #E2EBFA;\n",
              "      box-shadow: 0px 1px 2px rgba(60, 64, 67, 0.3), 0px 1px 3px 1px rgba(60, 64, 67, 0.15);\n",
              "      fill: #174EA6;\n",
              "    }\n",
              "\n",
              "    [theme=dark] .colab-df-convert {\n",
              "      background-color: #3B4455;\n",
              "      fill: #D2E3FC;\n",
              "    }\n",
              "\n",
              "    [theme=dark] .colab-df-convert:hover {\n",
              "      background-color: #434B5C;\n",
              "      box-shadow: 0px 1px 3px 1px rgba(0, 0, 0, 0.15);\n",
              "      filter: drop-shadow(0px 1px 2px rgba(0, 0, 0, 0.3));\n",
              "      fill: #FFFFFF;\n",
              "    }\n",
              "  </style>\n",
              "\n",
              "      <script>\n",
              "        const buttonEl =\n",
              "          document.querySelector('#df-3872cd8d-d46f-4813-b040-071d7ce83b08 button.colab-df-convert');\n",
              "        buttonEl.style.display =\n",
              "          google.colab.kernel.accessAllowed ? 'block' : 'none';\n",
              "\n",
              "        async function convertToInteractive(key) {\n",
              "          const element = document.querySelector('#df-3872cd8d-d46f-4813-b040-071d7ce83b08');\n",
              "          const dataTable =\n",
              "            await google.colab.kernel.invokeFunction('convertToInteractive',\n",
              "                                                     [key], {});\n",
              "          if (!dataTable) return;\n",
              "\n",
              "          const docLinkHtml = 'Like what you see? Visit the ' +\n",
              "            '<a target=\"_blank\" href=https://colab.research.google.com/notebooks/data_table.ipynb>data table notebook</a>'\n",
              "            + ' to learn more about interactive tables.';\n",
              "          element.innerHTML = '';\n",
              "          dataTable['output_type'] = 'display_data';\n",
              "          await google.colab.output.renderOutput(dataTable, element);\n",
              "          const docLink = document.createElement('div');\n",
              "          docLink.innerHTML = docLinkHtml;\n",
              "          element.appendChild(docLink);\n",
              "        }\n",
              "      </script>\n",
              "    </div>\n",
              "  </div>\n",
              "  "
            ]
          },
          "metadata": {},
          "execution_count": 7
        }
      ]
    },
    {
      "cell_type": "code",
      "execution_count": null,
      "metadata": {
        "id": "i_ei54QWY3gO"
      },
      "outputs": [],
      "source": [
        "from sklearn.preprocessing import LabelEncoder\n",
        "X = Domain_data.domain\n",
        "Y = Domain_data['label']"
      ]
    },
    {
      "cell_type": "code",
      "execution_count": null,
      "metadata": {
        "id": "bFlYDW419nku"
      },
      "outputs": [],
      "source": [
        "le=LabelEncoder()\n",
        "Y = le.fit_transform(Y)"
      ]
    },
    {
      "cell_type": "code",
      "execution_count": null,
      "metadata": {
        "id": "6fl2GHSlZaKu"
      },
      "outputs": [],
      "source": [
        "from keras.preprocessing.text import Tokenizer\n",
        "from keras.preprocessing import sequence\n",
        "from keras.models import Sequential\n",
        "\n",
        "#max_words = num_words\n",
        "max_len = 50\n",
        "\n",
        "# Tokenizer\n",
        "tok = Tokenizer(num_words=None, char_level=True, oov_token='UNK')\n",
        "tok.fit_on_texts(X)\n",
        "sequences = tok.texts_to_sequences(X)\n",
        "sequences_matrix = sequence.pad_sequences(sequences,padding='post',maxlen=max_len)"
      ]
    },
    {
      "cell_type": "markdown",
      "source": [
        "## import models and test"
      ],
      "metadata": {
        "id": "8jXsfa0jn7_v"
      }
    },
    {
      "cell_type": "markdown",
      "source": [
        "### CNN"
      ],
      "metadata": {
        "id": "AVq361-5n_4_"
      }
    },
    {
      "cell_type": "code",
      "execution_count": null,
      "metadata": {
        "id": "et43UEQdkeoV"
      },
      "outputs": [],
      "source": [
        "import pickle\n",
        "filename = '/content/drive/My Drive/Colab Notebooks/BX_train_sm.csv'\n",
        "X_train = pickle.load(open(filename, 'rb'))"
      ]
    },
    {
      "cell_type": "code",
      "execution_count": null,
      "metadata": {
        "id": "vHHQI0uvkvQb"
      },
      "outputs": [],
      "source": [
        "filename = '/content/drive/My Drive/Colab Notebooks/By_train_sm.csv'\n",
        "y_train = pickle.load(open(filename, 'rb'))"
      ]
    },
    {
      "cell_type": "code",
      "execution_count": null,
      "metadata": {
        "id": "QNhL60LxkzYN"
      },
      "outputs": [],
      "source": [
        "filename = '/content/drive/My Drive/Colab Notebooks/BX_test_sm.csv'\n",
        "X_test = pickle.load(open(filename, 'rb'))"
      ]
    },
    {
      "cell_type": "code",
      "execution_count": null,
      "metadata": {
        "id": "FUpaU9quk4iD"
      },
      "outputs": [],
      "source": [
        "filename = '/content/drive/My Drive/Colab Notebooks/By_test_sm.csv'\n",
        "y_test = pickle.load(open(filename, 'rb'))"
      ]
    },
    {
      "cell_type": "code",
      "execution_count": null,
      "metadata": {
        "id": "dxAytl7sIIb_"
      },
      "outputs": [],
      "source": [
        "import pickle\n",
        "# load the model from disk\n",
        "filename = '/content/drive/My Drive/Colab Notebooks/Bcnnmodel2x32x3_2nd.sav'\n",
        "loaded_cnn_model = pickle.load(open(filename, 'rb'))"
      ]
    },
    {
      "cell_type": "code",
      "execution_count": null,
      "metadata": {
        "id": "DpHsyvlJcGtA"
      },
      "outputs": [],
      "source": [
        "from tensorflow import keras\n",
        "layer_name = 'flatten'\n",
        "intermediate_layer_model = keras.Model(inputs=loaded_cnn_model.input,\n",
        "                                 outputs=loaded_cnn_model.get_layer(layer_name).output)\n",
        "intermediate_output = intermediate_layer_model.predict(sequences_matrix)"
      ]
    },
    {
      "cell_type": "markdown",
      "source": [
        "#### CNN+XGB"
      ],
      "metadata": {
        "id": "epf__LxDpoB-"
      }
    },
    {
      "cell_type": "code",
      "source": [
        "import pickle\n",
        "# load the model from disk\n",
        "filename = '/content/drive/My Drive/Colab Notebooks/BCNN+XGBmodel.sav'\n",
        "BCNNXGBmodel = pickle.load(open(filename, 'rb'))"
      ],
      "metadata": {
        "id": "m_0-uajxoB_P"
      },
      "execution_count": null,
      "outputs": []
    },
    {
      "cell_type": "code",
      "execution_count": null,
      "metadata": {
        "id": "zJ8OIbmDPqdn"
      },
      "outputs": [],
      "source": [
        "from sklearn import metrics\n",
        "import matplotlib.pyplot as plt\n",
        "\n",
        "ppred = BCNNXGBmodel.predict_proba(intermediate_output)[::,1]"
      ]
    },
    {
      "cell_type": "code",
      "execution_count": null,
      "metadata": {
        "id": "NMc-K_krPqdo"
      },
      "outputs": [],
      "source": [
        "fpr,tpr, _ = metrics.roc_curve(Y,ppred)\n",
        "auc = metrics.roc_auc_score(Y,ppred)"
      ]
    },
    {
      "cell_type": "code",
      "execution_count": null,
      "metadata": {
        "colab": {
          "base_uri": "https://localhost:8080/"
        },
        "outputId": "86469d2b-b921-4f74-c0b1-4091f6a0ef51",
        "id": "z94OnVmuPqdo"
      },
      "outputs": [
        {
          "output_type": "stream",
          "name": "stdout",
          "text": [
            "0.7643026721457709\n"
          ]
        }
      ],
      "source": [
        "print(auc)"
      ]
    },
    {
      "cell_type": "code",
      "source": [
        "from sklearn.metrics import plot_confusion_matrix,accuracy_score,classification_report\n",
        "CNNXGBpred=BCNNXGBmodel.predict(intermediate_output)\n",
        "print(classification_report(Y,CNNXGBpred))"
      ],
      "metadata": {
        "colab": {
          "base_uri": "https://localhost:8080/"
        },
        "id": "1nOXhyGSoM6x",
        "outputId": "4474874b-c8ba-4dc6-fd67-b92090a9757d"
      },
      "execution_count": null,
      "outputs": [
        {
          "output_type": "stream",
          "name": "stdout",
          "text": [
            "              precision    recall  f1-score   support\n",
            "\n",
            "           0       0.66      0.44      0.53    381671\n",
            "           1       0.80      0.91      0.85    957416\n",
            "\n",
            "    accuracy                           0.77   1339087\n",
            "   macro avg       0.73      0.67      0.69   1339087\n",
            "weighted avg       0.76      0.77      0.76   1339087\n",
            "\n"
          ]
        }
      ]
    },
    {
      "cell_type": "code",
      "source": [
        "# Confusion matrix\n",
        "from sklearn.metrics import plot_confusion_matrix\n",
        "plot_confusion_matrix(BCNNXGBmodel, intermediate_output, Y, display_labels=[\"legit\", \"dga\"])"
      ],
      "metadata": {
        "colab": {
          "base_uri": "https://localhost:8080/",
          "height": 351
        },
        "id": "djEmcTJ1E2G0",
        "outputId": "2cdf7cc5-aca5-4167-a351-b37ea22878e4"
      },
      "execution_count": null,
      "outputs": [
        {
          "output_type": "stream",
          "name": "stderr",
          "text": [
            "/usr/local/lib/python3.7/dist-packages/sklearn/utils/deprecation.py:87: FutureWarning: Function plot_confusion_matrix is deprecated; Function `plot_confusion_matrix` is deprecated in 1.0 and will be removed in 1.2. Use one of the class methods: ConfusionMatrixDisplay.from_predictions or ConfusionMatrixDisplay.from_estimator.\n",
            "  warnings.warn(msg, category=FutureWarning)\n"
          ]
        },
        {
          "output_type": "execute_result",
          "data": {
            "text/plain": [
              "<sklearn.metrics._plot.confusion_matrix.ConfusionMatrixDisplay at 0x7fbb9c980750>"
            ]
          },
          "metadata": {},
          "execution_count": 16
        },
        {
          "output_type": "display_data",
          "data": {
            "text/plain": [
              "<Figure size 432x288 with 2 Axes>"
            ],
            "image/png": "[encoded data removed]"
          },
          "metadata": {
            "needs_background": "light"
          }
        }
      ]
    },
    {
      "cell_type": "code",
      "source": [
        "from sklearn.metrics import accuracy_score, precision_score, recall_score, f1_score\n",
        "precision=precision_score(CNNXGBpred,Y)\n",
        "recall=recall_score(CNNXGBpred,Y)\n",
        "f1=f1_score(CNNXGBpred,Y)\n",
        "accuracy=accuracy_score(CNNXGBpred,Y)\n",
        "print(precision,recall,f1,accuracy)"
      ],
      "metadata": {
        "colab": {
          "base_uri": "https://localhost:8080/"
        },
        "id": "Z5aih1udtuCV",
        "outputId": "5edb6ccf-f8b4-44fc-a197-246d8440c076"
      },
      "execution_count": null,
      "outputs": [
        {
          "output_type": "stream",
          "name": "stdout",
          "text": [
            "0.9078697243413522 0.8024270119319624 0.8518980065577434 0.774306673128781\n"
          ]
        }
      ]
    },
    {
      "cell_type": "code",
      "source": [
        "from sklearn.metrics import accuracy_score, precision_score, recall_score, f1_score\n",
        "precision=precision_score(BCNNXGBmodel.predict(intermediate_layer_model.predict(X_test)),y_test)\n",
        "recall=recall_score(BCNNXGBmodel.predict(intermediate_layer_model.predict(X_test)),y_test)\n",
        "f1=f1_score(BCNNXGBmodel.predict(intermediate_layer_model.predict(X_test)),y_test)"
      ],
      "metadata": {
        "id": "nKNlSPSEaioG"
      },
      "execution_count": null,
      "outputs": []
    },
    {
      "cell_type": "code",
      "source": [
        "accuracy=accuracy_score(BCNNXGBmodel.predict(intermediate_layer_model.predict(X_test)),y_test)\n",
        "print(accuracy,precision,recall,f1)"
      ],
      "metadata": {
        "colab": {
          "base_uri": "https://localhost:8080/"
        },
        "id": "fdVtUGsDjrWb",
        "outputId": "cb2f8e4b-c42a-47f1-cd1b-11ba0fdf0029"
      },
      "execution_count": null,
      "outputs": [
        {
          "output_type": "stream",
          "name": "stdout",
          "text": [
            "0.9724169812774481 0.9845199462418461 0.9262408832282238 0.9544916459437343\n"
          ]
        }
      ]
    },
    {
      "cell_type": "markdown",
      "source": [
        "#### CNN+RF"
      ],
      "metadata": {
        "id": "xv0HUbB2psvc"
      }
    },
    {
      "cell_type": "code",
      "source": [
        "import pickle\n",
        "# load the model from disk\n",
        "filename = '/content/drive/My Drive/Colab Notebooks/BCNN+RFmodel.sav'\n",
        "CNNRFmodel = pickle.load(open(filename, 'rb'))"
      ],
      "metadata": {
        "id": "xq1lZT7KpyNU"
      },
      "execution_count": null,
      "outputs": []
    },
    {
      "cell_type": "code",
      "source": [
        "from sklearn.metrics import plot_confusion_matrix,accuracy_score,classification_report\n",
        "CNNRFpred=CNNRFmodel.predict(intermediate_output)\n",
        "print(classification_report(Y,CNNRFpred))"
      ],
      "metadata": {
        "colab": {
          "base_uri": "https://localhost:8080/"
        },
        "outputId": "0fedc1f6-f765-43db-b007-0ca7d6bb0a42",
        "id": "x_mV76zopyNW"
      },
      "execution_count": null,
      "outputs": [
        {
          "output_type": "stream",
          "name": "stdout",
          "text": [
            "              precision    recall  f1-score   support\n",
            "\n",
            "           0       0.65      0.37      0.47    381671\n",
            "           1       0.79      0.92      0.85    957416\n",
            "\n",
            "    accuracy                           0.76   1339087\n",
            "   macro avg       0.72      0.64      0.66   1339087\n",
            "weighted avg       0.75      0.76      0.74   1339087\n",
            "\n"
          ]
        }
      ]
    },
    {
      "cell_type": "code",
      "source": [
        "# Confusion matrix\n",
        "from sklearn.metrics import plot_confusion_matrix\n",
        "plot_confusion_matrix(CNNRFmodel, intermediate_output, Y, display_labels=[\"legit\", \"dga\"])"
      ],
      "metadata": {
        "colab": {
          "base_uri": "https://localhost:8080/",
          "height": 351
        },
        "id": "PxfqZ7rqHn-q",
        "outputId": "c2c449d8-cbf0-4138-e81b-d2f047774902"
      },
      "execution_count": null,
      "outputs": [
        {
          "output_type": "stream",
          "name": "stderr",
          "text": [
            "/usr/local/lib/python3.7/dist-packages/sklearn/utils/deprecation.py:87: FutureWarning: Function plot_confusion_matrix is deprecated; Function `plot_confusion_matrix` is deprecated in 1.0 and will be removed in 1.2. Use one of the class methods: ConfusionMatrixDisplay.from_predictions or ConfusionMatrixDisplay.from_estimator.\n",
            "  warnings.warn(msg, category=FutureWarning)\n"
          ]
        },
        {
          "output_type": "execute_result",
          "data": {
            "text/plain": [
              "<sklearn.metrics._plot.confusion_matrix.ConfusionMatrixDisplay at 0x7fbb9dba1090>"
            ]
          },
          "metadata": {},
          "execution_count": 18
        },
        {
          "output_type": "display_data",
          "data": {
            "text/plain": [
              "<Figure size 432x288 with 2 Axes>"
            ],
            "image/png": "[encoded data removed]"
          },
          "metadata": {
            "needs_background": "light"
          }
        }
      ]
    },
    {
      "cell_type": "code",
      "source": [
        "from sklearn.metrics import accuracy_score, precision_score, recall_score, f1_score\n",
        "precision=precision_score(CNNRFpred,Y)\n",
        "recall=recall_score(CNNRFpred,Y)\n",
        "f1=f1_score(CNNRFpred,Y)\n",
        "accuracy=accuracy_score(CNNRFpred,Y)\n",
        "print(precision,recall,f1,accuracy)"
      ],
      "metadata": {
        "colab": {
          "base_uri": "https://localhost:8080/"
        },
        "id": "N-2fuv6IuYRc",
        "outputId": "357c3efb-9e46-4cae-a2ab-6da9dc70c976"
      },
      "execution_count": null,
      "outputs": [
        {
          "output_type": "stream",
          "name": "stdout",
          "text": [
            "0.9197757296723681 0.7852384362073132 0.8471991260632584 0.7627838967893796\n"
          ]
        }
      ]
    },
    {
      "cell_type": "code",
      "source": [
        "from sklearn.metrics import accuracy_score, precision_score, recall_score, f1_score\n",
        "precision=precision_score(CNNRFmodel.predict(intermediate_layer_model.predict(X_test)),y_test)\n",
        "recall=recall_score(CNNRFmodel.predict(intermediate_layer_model.predict(X_test)),y_test)\n",
        "f1=f1_score(CNNRFmodel.predict(intermediate_layer_model.predict(X_test)),y_test)\n",
        "accuracy=accuracy_score(CNNRFmodel.predict(intermediate_layer_model.predict(X_test)),y_test)\n",
        "print(accuracy,precision,recall,f1)"
      ],
      "metadata": {
        "colab": {
          "base_uri": "https://localhost:8080/"
        },
        "id": "esI8WZ5IlFAg",
        "outputId": "efd523bf-c5a5-4146-b022-f933cf203c56"
      },
      "execution_count": null,
      "outputs": [
        {
          "output_type": "stream",
          "name": "stdout",
          "text": [
            "0.9790984474921026 0.9904939849870521 0.9414202151274642 0.9653338231829308\n"
          ]
        }
      ]
    },
    {
      "cell_type": "markdown",
      "source": [
        "#### CNN+NB"
      ],
      "metadata": {
        "id": "VoRL4v-_qFor"
      }
    },
    {
      "cell_type": "code",
      "source": [
        "import pickle\n",
        "# load the model from disk\n",
        "filename = '/content/drive/My Drive/Colab Notebooks/BCNN+NBmodel.sav'\n",
        "CNNNBmodel = pickle.load(open(filename, 'rb'))"
      ],
      "metadata": {
        "id": "7udOD1YTqD-c"
      },
      "execution_count": null,
      "outputs": []
    },
    {
      "cell_type": "code",
      "source": [
        "from sklearn.metrics import plot_confusion_matrix,accuracy_score,classification_report\n",
        "CNNNBpred=CNNNBmodel.predict(intermediate_output)\n",
        "print(classification_report(Y,CNNNBpred))"
      ],
      "metadata": {
        "colab": {
          "base_uri": "https://localhost:8080/"
        },
        "id": "pcTayzPBqD-d",
        "outputId": "41c74a02-47a3-436d-d3b1-f6ebd1424f85"
      },
      "execution_count": null,
      "outputs": [
        {
          "output_type": "stream",
          "name": "stdout",
          "text": [
            "              precision    recall  f1-score   support\n",
            "\n",
            "           0       0.42      0.57      0.48    381671\n",
            "           1       0.80      0.69      0.74    957416\n",
            "\n",
            "    accuracy                           0.65   1339087\n",
            "   macro avg       0.61      0.63      0.61   1339087\n",
            "weighted avg       0.69      0.65      0.66   1339087\n",
            "\n"
          ]
        }
      ]
    },
    {
      "cell_type": "code",
      "source": [
        "# Confusion matrix\n",
        "from sklearn.metrics import plot_confusion_matrix\n",
        "plot_confusion_matrix(CNNNBmodel, intermediate_output, Y, display_labels=[\"legit\", \"dga\"])"
      ],
      "metadata": {
        "colab": {
          "base_uri": "https://localhost:8080/",
          "height": 351
        },
        "id": "9Kmp_sGIHucD",
        "outputId": "221e4bda-a310-4bc5-c94b-0799657a39ee"
      },
      "execution_count": null,
      "outputs": [
        {
          "output_type": "stream",
          "name": "stderr",
          "text": [
            "/usr/local/lib/python3.7/dist-packages/sklearn/utils/deprecation.py:87: FutureWarning: Function plot_confusion_matrix is deprecated; Function `plot_confusion_matrix` is deprecated in 1.0 and will be removed in 1.2. Use one of the class methods: ConfusionMatrixDisplay.from_predictions or ConfusionMatrixDisplay.from_estimator.\n",
            "  warnings.warn(msg, category=FutureWarning)\n"
          ]
        },
        {
          "output_type": "execute_result",
          "data": {
            "text/plain": [
              "<sklearn.metrics._plot.confusion_matrix.ConfusionMatrixDisplay at 0x7fbb91758c50>"
            ]
          },
          "metadata": {},
          "execution_count": 20
        },
        {
          "output_type": "display_data",
          "data": {
            "text/plain": [
              "<Figure size 432x288 with 2 Axes>"
            ],
            "image/png": "[encoded data removed]"
          },
          "metadata": {
            "needs_background": "light"
          }
        }
      ]
    },
    {
      "cell_type": "code",
      "source": [
        "from sklearn.metrics import accuracy_score, precision_score, recall_score, f1_score\n",
        "precision=precision_score(CNNNBpred,Y)\n",
        "recall=recall_score(CNNNBpred,Y)\n",
        "f1=f1_score(CNNNBpred,Y)\n",
        "accuracy=accuracy_score(CNNNBpred,Y)\n",
        "print(precision,recall,f1,accuracy)"
      ],
      "metadata": {
        "colab": {
          "base_uri": "https://localhost:8080/"
        },
        "id": "6LRRjH_qwYDY",
        "outputId": "e97602b1-cf78-494f-ef56-ca4ba86fc659"
      },
      "execution_count": null,
      "outputs": [
        {
          "output_type": "stream",
          "name": "stdout",
          "text": [
            "0.685640306825873 0.7983748954056316 0.7377256074262211 0.6514386294542476\n"
          ]
        }
      ]
    },
    {
      "cell_type": "code",
      "source": [
        "from sklearn.metrics import accuracy_score, precision_score, recall_score, f1_score\n",
        "precision=precision_score(CNNNBmodel.predict(intermediate_layer_model.predict(X_test)),y_test)\n",
        "recall=recall_score(CNNNBmodel.predict(intermediate_layer_model.predict(X_test)),y_test)\n",
        "f1=f1_score(CNNNBmodel.predict(intermediate_layer_model.predict(X_test)),y_test)\n",
        "accuracy=accuracy_score(CNNNBmodel.predict(intermediate_layer_model.predict(X_test)),y_test)\n",
        "print(accuracy,precision,recall,f1)"
      ],
      "metadata": {
        "colab": {
          "base_uri": "https://localhost:8080/"
        },
        "id": "1wdlX9wElmYe",
        "outputId": "863aee6f-b3ae-4ca4-a57d-b64bf3d10fe0"
      },
      "execution_count": null,
      "outputs": [
        {
          "output_type": "stream",
          "name": "stdout",
          "text": [
            "0.942917405038909 0.9019159537155407 0.9036191070460927 0.9027667270922707\n"
          ]
        }
      ]
    },
    {
      "cell_type": "markdown",
      "source": [
        "#### CNN+LR"
      ],
      "metadata": {
        "id": "bJwAtoNBqiwi"
      }
    },
    {
      "cell_type": "code",
      "source": [
        "import pickle\n",
        "# load the model from disk\n",
        "filename = '/content/drive/My Drive/Colab Notebooks/BCNN+LRmodel.sav'\n",
        "CNNLRmodel = pickle.load(open(filename, 'rb'))"
      ],
      "metadata": {
        "id": "eeWyFjpnqwot"
      },
      "execution_count": null,
      "outputs": []
    },
    {
      "cell_type": "code",
      "execution_count": null,
      "metadata": {
        "id": "O46XOgBEP2Qt"
      },
      "outputs": [],
      "source": [
        "from sklearn import metrics\n",
        "import matplotlib.pyplot as plt\n",
        "\n",
        "ppred = CNNLRmodel.predict_proba(intermediate_output)[::,1]"
      ]
    },
    {
      "cell_type": "code",
      "execution_count": null,
      "metadata": {
        "id": "Qv_HylXNP2Qu"
      },
      "outputs": [],
      "source": [
        "fpr,tpr, _ = metrics.roc_curve(Y,ppred)\n",
        "auc = metrics.roc_auc_score(Y,ppred)"
      ]
    },
    {
      "cell_type": "code",
      "execution_count": null,
      "metadata": {
        "colab": {
          "base_uri": "https://localhost:8080/"
        },
        "outputId": "10a0dd79-4eb9-4d65-f020-7d25867d5ca1",
        "id": "HAWNo4Z9P2Qv"
      },
      "outputs": [
        {
          "output_type": "stream",
          "name": "stdout",
          "text": [
            "0.7848327632484393\n"
          ]
        }
      ],
      "source": [
        "print(auc)"
      ]
    },
    {
      "cell_type": "code",
      "source": [
        "from sklearn.metrics import plot_confusion_matrix,accuracy_score,classification_report\n",
        "CNNLRpred=CNNLRmodel.predict(intermediate_output)\n",
        "print(classification_report(Y,CNNLRpred))"
      ],
      "metadata": {
        "colab": {
          "base_uri": "https://localhost:8080/"
        },
        "outputId": "01bca2a6-ce4b-460d-d063-c4661dba1277",
        "id": "8Vx-FKXzqwou"
      },
      "execution_count": null,
      "outputs": [
        {
          "output_type": "stream",
          "name": "stdout",
          "text": [
            "              precision    recall  f1-score   support\n",
            "\n",
            "           0       0.62      0.53      0.57    381671\n",
            "           1       0.82      0.87      0.85    957416\n",
            "\n",
            "    accuracy                           0.77   1339087\n",
            "   macro avg       0.72      0.70      0.71   1339087\n",
            "weighted avg       0.76      0.77      0.77   1339087\n",
            "\n"
          ]
        }
      ]
    },
    {
      "cell_type": "code",
      "source": [
        "# Confusion matrix\n",
        "from sklearn.metrics import plot_confusion_matrix\n",
        "plot_confusion_matrix(CNNLRmodel, intermediate_output, Y, display_labels=[\"legit\", \"dga\"])"
      ],
      "metadata": {
        "colab": {
          "base_uri": "https://localhost:8080/",
          "height": 351
        },
        "id": "56suTffBHyer",
        "outputId": "18f3d257-1ee4-4816-bf3b-d0768430f80f"
      },
      "execution_count": null,
      "outputs": [
        {
          "output_type": "stream",
          "name": "stderr",
          "text": [
            "/usr/local/lib/python3.7/dist-packages/sklearn/utils/deprecation.py:87: FutureWarning: Function plot_confusion_matrix is deprecated; Function `plot_confusion_matrix` is deprecated in 1.0 and will be removed in 1.2. Use one of the class methods: ConfusionMatrixDisplay.from_predictions or ConfusionMatrixDisplay.from_estimator.\n",
            "  warnings.warn(msg, category=FutureWarning)\n"
          ]
        },
        {
          "output_type": "execute_result",
          "data": {
            "text/plain": [
              "<sklearn.metrics._plot.confusion_matrix.ConfusionMatrixDisplay at 0x7fbb914dde10>"
            ]
          },
          "metadata": {},
          "execution_count": 22
        },
        {
          "output_type": "display_data",
          "data": {
            "text/plain": [
              "<Figure size 432x288 with 2 Axes>"
            ],
            "image/png": "[encoded data removed]"
          },
          "metadata": {
            "needs_background": "light"
          }
        }
      ]
    },
    {
      "cell_type": "code",
      "source": [
        "from sklearn.metrics import accuracy_score, precision_score, recall_score, f1_score\n",
        "precision=precision_score(CNNLRpred,Y)\n",
        "recall=recall_score(CNNLRpred,Y)\n",
        "f1=f1_score(CNNLRpred,Y)\n",
        "accuracy=accuracy_score(CNNLRpred,Y)\n",
        "print(precision,recall,f1,accuracy)"
      ],
      "metadata": {
        "colab": {
          "base_uri": "https://localhost:8080/"
        },
        "id": "wbn039rqwegW",
        "outputId": "b71788e8-747e-4368-d423-9ae20379e1a9"
      },
      "execution_count": null,
      "outputs": [
        {
          "output_type": "stream",
          "name": "stdout",
          "text": [
            "0.8699071250114893 0.8229668239420963 0.8457861900915031 0.7731924811457359\n"
          ]
        }
      ]
    },
    {
      "cell_type": "code",
      "source": [
        "from sklearn.metrics import accuracy_score, precision_score, recall_score, f1_score\n",
        "precision=precision_score(CNNLRmodel.predict(intermediate_layer_model.predict(X_test)),y_test)\n",
        "recall=recall_score(CNNLRmodel.predict(intermediate_layer_model.predict(X_test)),y_test)\n",
        "f1=f1_score(CNNLRmodel.predict(intermediate_layer_model.predict(X_test)),y_test)\n",
        "accuracy=accuracy_score(CNNLRmodel.predict(intermediate_layer_model.predict(X_test)),y_test)\n",
        "print(accuracy,precision,recall,f1)"
      ],
      "metadata": {
        "colab": {
          "base_uri": "https://localhost:8080/"
        },
        "id": "3fm8JfyJmFen",
        "outputId": "90126f24-320d-4c10-bcfd-4cfa175d26b2"
      },
      "execution_count": null,
      "outputs": [
        {
          "output_type": "stream",
          "name": "stdout",
          "text": [
            "0.9670381000077047 0.9784803487724129 0.9151962963530729 0.945780889842927\n"
          ]
        }
      ]
    },
    {
      "cell_type": "markdown",
      "source": [
        "#### CNN+ET"
      ],
      "metadata": {
        "id": "eNa4y0ZTq6tV"
      }
    },
    {
      "cell_type": "code",
      "source": [
        "import pickle\n",
        "# load the model from disk\n",
        "filename = '/content/drive/My Drive/Colab Notebooks/BCNN+ETmodel.sav'\n",
        "CNNETmodel = pickle.load(open(filename, 'rb'))"
      ],
      "metadata": {
        "id": "dak7vpAtrD9s"
      },
      "execution_count": null,
      "outputs": []
    },
    {
      "cell_type": "code",
      "source": [
        "from sklearn.metrics import plot_confusion_matrix,accuracy_score,classification_report\n",
        "CNNETpred=CNNETmodel.predict(intermediate_output)\n",
        "print(classification_report(Y,CNNETpred))"
      ],
      "metadata": {
        "colab": {
          "base_uri": "https://localhost:8080/"
        },
        "outputId": "340346e0-7ec9-43f0-92ce-d5457fefe11a",
        "id": "gHgoBmF2rD9t"
      },
      "execution_count": null,
      "outputs": [
        {
          "output_type": "stream",
          "name": "stdout",
          "text": [
            "              precision    recall  f1-score   support\n",
            "\n",
            "           0       0.65      0.37      0.47    381671\n",
            "           1       0.79      0.92      0.85    957416\n",
            "\n",
            "    accuracy                           0.76   1339087\n",
            "   macro avg       0.72      0.65      0.66   1339087\n",
            "weighted avg       0.75      0.76      0.74   1339087\n",
            "\n"
          ]
        }
      ]
    },
    {
      "cell_type": "code",
      "source": [
        "# Confusion matrix\n",
        "from sklearn.metrics import plot_confusion_matrix\n",
        "plot_confusion_matrix(CNNETmodel, intermediate_output, Y, display_labels=[\"legit\", \"dga\"])"
      ],
      "metadata": {
        "colab": {
          "base_uri": "https://localhost:8080/",
          "height": 351
        },
        "id": "U8f9Vm4WH3QT",
        "outputId": "87fac5e0-c1f3-482a-d9ce-ec80a3dffdc6"
      },
      "execution_count": null,
      "outputs": [
        {
          "output_type": "stream",
          "name": "stderr",
          "text": [
            "/usr/local/lib/python3.7/dist-packages/sklearn/utils/deprecation.py:87: FutureWarning: Function plot_confusion_matrix is deprecated; Function `plot_confusion_matrix` is deprecated in 1.0 and will be removed in 1.2. Use one of the class methods: ConfusionMatrixDisplay.from_predictions or ConfusionMatrixDisplay.from_estimator.\n",
            "  warnings.warn(msg, category=FutureWarning)\n"
          ]
        },
        {
          "output_type": "execute_result",
          "data": {
            "text/plain": [
              "<sklearn.metrics._plot.confusion_matrix.ConfusionMatrixDisplay at 0x7fbb8f42c5d0>"
            ]
          },
          "metadata": {},
          "execution_count": 24
        },
        {
          "output_type": "display_data",
          "data": {
            "text/plain": [
              "<Figure size 432x288 with 2 Axes>"
            ],
            "image/png": "[encoded data removed]"
          },
          "metadata": {
            "needs_background": "light"
          }
        }
      ]
    },
    {
      "cell_type": "code",
      "source": [
        "from sklearn.metrics import accuracy_score, precision_score, recall_score, f1_score\n",
        "precision=precision_score(CNNETpred,Y)\n",
        "recall=recall_score(CNNETpred,Y)\n",
        "f1=f1_score(CNNETpred,Y)\n",
        "accuracy=accuracy_score(CNNETpred,Y)\n",
        "print(precision,recall,f1,accuracy)"
      ],
      "metadata": {
        "colab": {
          "base_uri": "https://localhost:8080/"
        },
        "id": "TcTVkYLhwkDv",
        "outputId": "68e37a2d-ebd0-45d4-a16a-0f5873873182"
      },
      "execution_count": null,
      "outputs": [
        {
          "output_type": "stream",
          "name": "stdout",
          "text": [
            "0.9186644050235216 0.7863265590748005 0.8473595881238789 0.7633641428824266\n"
          ]
        }
      ]
    },
    {
      "cell_type": "code",
      "source": [
        "from sklearn.metrics import accuracy_score, precision_score, recall_score, f1_score\n",
        "precision=precision_score(CNNETmodel.predict(intermediate_layer_model.predict(X_test)),y_test)\n",
        "recall=recall_score(CNNETmodel.predict(intermediate_layer_model.predict(X_test)),y_test)\n",
        "f1=f1_score(CNNETmodel.predict(intermediate_layer_model.predict(X_test)),y_test)\n",
        "accuracy=accuracy_score(CNNETmodel.predict(intermediate_layer_model.predict(X_test)),y_test)\n",
        "print(accuracy,precision,recall,f1)"
      ],
      "metadata": {
        "colab": {
          "base_uri": "https://localhost:8080/"
        },
        "id": "XpWv6Rj8nPOy",
        "outputId": "33d30e3c-90a0-4e15-b8fb-08f000f75ab9"
      },
      "execution_count": null,
      "outputs": [
        {
          "output_type": "stream",
          "name": "stdout",
          "text": [
            "0.9780871985515063 0.9909447012161143 0.9379765589245961 0.9637333779642714\n"
          ]
        }
      ]
    },
    {
      "cell_type": "markdown",
      "source": [
        "#### CNN+DT"
      ],
      "metadata": {
        "id": "_s0M38qMrPm8"
      }
    },
    {
      "cell_type": "code",
      "source": [
        "import pickle\n",
        "# load the model from disk\n",
        "filename = '/content/drive/My Drive/Colab Notebooks/BCNN+DTmodel.sav'\n",
        "CNNDTmodel = pickle.load(open(filename, 'rb'))"
      ],
      "metadata": {
        "id": "oiyx5EIerXwE"
      },
      "execution_count": null,
      "outputs": []
    },
    {
      "cell_type": "code",
      "source": [
        "from sklearn.metrics import plot_confusion_matrix,accuracy_score,classification_report\n",
        "CNNDTpred=CNNDTmodel.predict(intermediate_output)\n",
        "print(classification_report(Y,CNNDTpred))"
      ],
      "metadata": {
        "colab": {
          "base_uri": "https://localhost:8080/"
        },
        "outputId": "de137940-97df-490b-9ec9-60091a05f401",
        "id": "lw-8jBjHrXwF"
      },
      "execution_count": null,
      "outputs": [
        {
          "output_type": "stream",
          "name": "stdout",
          "text": [
            "              precision    recall  f1-score   support\n",
            "\n",
            "           0       0.53      0.40      0.45    381671\n",
            "           1       0.78      0.86      0.82    957416\n",
            "\n",
            "    accuracy                           0.73   1339087\n",
            "   macro avg       0.66      0.63      0.64   1339087\n",
            "weighted avg       0.71      0.73      0.72   1339087\n",
            "\n"
          ]
        }
      ]
    },
    {
      "cell_type": "code",
      "source": [
        "# Confusion matrix\n",
        "from sklearn.metrics import plot_confusion_matrix\n",
        "plot_confusion_matrix(CNNDTmodel, intermediate_output, Y, display_labels=[\"legit\", \"dga\"])"
      ],
      "metadata": {
        "colab": {
          "base_uri": "https://localhost:8080/",
          "height": 351
        },
        "id": "oW_rsDFaH6-b",
        "outputId": "d1651aa6-1f69-497a-cf12-24d9aba9d867"
      },
      "execution_count": null,
      "outputs": [
        {
          "output_type": "stream",
          "name": "stderr",
          "text": [
            "/usr/local/lib/python3.7/dist-packages/sklearn/utils/deprecation.py:87: FutureWarning: Function plot_confusion_matrix is deprecated; Function `plot_confusion_matrix` is deprecated in 1.0 and will be removed in 1.2. Use one of the class methods: ConfusionMatrixDisplay.from_predictions or ConfusionMatrixDisplay.from_estimator.\n",
            "  warnings.warn(msg, category=FutureWarning)\n"
          ]
        },
        {
          "output_type": "execute_result",
          "data": {
            "text/plain": [
              "<sklearn.metrics._plot.confusion_matrix.ConfusionMatrixDisplay at 0x7fbb8f356210>"
            ]
          },
          "metadata": {},
          "execution_count": 26
        },
        {
          "output_type": "display_data",
          "data": {
            "text/plain": [
              "<Figure size 432x288 with 2 Axes>"
            ],
            "image/png": "[encoded data removed]"
          },
          "metadata": {
            "needs_background": "light"
          }
        }
      ]
    },
    {
      "cell_type": "code",
      "source": [
        "from sklearn.metrics import accuracy_score, precision_score, recall_score, f1_score\n",
        "precision=precision_score(CNNDTpred,Y)\n",
        "recall=recall_score(CNNDTpred,Y)\n",
        "f1=f1_score(CNNDTpred,Y)\n",
        "accuracy=accuracy_score(CNNDTpred,Y)\n",
        "print(precision,recall,f1,accuracy)"
      ],
      "metadata": {
        "colab": {
          "base_uri": "https://localhost:8080/"
        },
        "id": "g8kNSU8Mwr9O",
        "outputId": "5528e752-673d-4bf6-f0c8-ca28349f55c9"
      },
      "execution_count": null,
      "outputs": [
        {
          "output_type": "stream",
          "name": "stdout",
          "text": [
            "0.860421175330264 0.7816767628460598 0.8191609323415933 0.7283835927015945\n"
          ]
        }
      ]
    },
    {
      "cell_type": "code",
      "source": [
        "from sklearn.metrics import accuracy_score, precision_score, recall_score, f1_score\n",
        "precision=precision_score(CNNDTmodel.predict(intermediate_layer_model.predict(X_test)),y_test)\n",
        "recall=recall_score(CNNDTmodel.predict(intermediate_layer_model.predict(X_test)),y_test)\n",
        "f1=f1_score(CNNDTmodel.predict(intermediate_layer_model.predict(X_test)),y_test)\n",
        "accuracy=accuracy_score(CNNDTmodel.predict(intermediate_layer_model.predict(X_test)),y_test)\n",
        "print(accuracy,precision,recall,f1)"
      ],
      "metadata": {
        "colab": {
          "base_uri": "https://localhost:8080/"
        },
        "id": "YvlsDc44nV35",
        "outputId": "0c8c7ce5-3faf-4cac-805d-11977ac420c1"
      },
      "execution_count": null,
      "outputs": [
        {
          "output_type": "stream",
          "name": "stdout",
          "text": [
            "0.965333423222128 0.9649342773789622 0.9208637031939187 0.9423840317572111\n"
          ]
        }
      ]
    },
    {
      "cell_type": "markdown",
      "source": [
        "#### CNN+AB"
      ],
      "metadata": {
        "id": "6Rl1IVczrjGi"
      }
    },
    {
      "cell_type": "code",
      "source": [
        "import pickle\n",
        "# load the model from disk\n",
        "filename = '/content/drive/My Drive/Colab Notebooks/BCNN+ABmodel.sav'\n",
        "CNNABmodel = pickle.load(open(filename, 'rb'))"
      ],
      "metadata": {
        "id": "SnbO5hKZroEr"
      },
      "execution_count": null,
      "outputs": []
    },
    {
      "cell_type": "code",
      "source": [
        "from sklearn.metrics import plot_confusion_matrix,accuracy_score,classification_report\n",
        "CNNABpred=CNNABmodel.predict(intermediate_output)\n",
        "print(classification_report(Y,CNNABpred))"
      ],
      "metadata": {
        "colab": {
          "base_uri": "https://localhost:8080/"
        },
        "outputId": "74c07ded-ee76-405e-c92d-e1c2fc2d796a",
        "id": "5TUMSRgEroEs"
      },
      "execution_count": null,
      "outputs": [
        {
          "output_type": "stream",
          "name": "stdout",
          "text": [
            "              precision    recall  f1-score   support\n",
            "\n",
            "           0       0.63      0.54      0.58    381671\n",
            "           1       0.83      0.88      0.85    957416\n",
            "\n",
            "    accuracy                           0.78   1339087\n",
            "   macro avg       0.73      0.71      0.72   1339087\n",
            "weighted avg       0.77      0.78      0.77   1339087\n",
            "\n"
          ]
        }
      ]
    },
    {
      "cell_type": "code",
      "source": [
        "# Confusion matrix\n",
        "from sklearn.metrics import plot_confusion_matrix\n",
        "plot_confusion_matrix(CNNABmodel, intermediate_output, Y, display_labels=[\"legit\", \"dga\"])"
      ],
      "metadata": {
        "id": "W_caOCgxH-kD",
        "colab": {
          "base_uri": "https://localhost:8080/",
          "height": 351
        },
        "outputId": "67c9fbd7-7561-44a7-abe4-768f8826e42e"
      },
      "execution_count": null,
      "outputs": [
        {
          "output_type": "stream",
          "name": "stderr",
          "text": [
            "/usr/local/lib/python3.7/dist-packages/sklearn/utils/deprecation.py:87: FutureWarning: Function plot_confusion_matrix is deprecated; Function `plot_confusion_matrix` is deprecated in 1.0 and will be removed in 1.2. Use one of the class methods: ConfusionMatrixDisplay.from_predictions or ConfusionMatrixDisplay.from_estimator.\n",
            "  warnings.warn(msg, category=FutureWarning)\n"
          ]
        },
        {
          "output_type": "execute_result",
          "data": {
            "text/plain": [
              "<sklearn.metrics._plot.confusion_matrix.ConfusionMatrixDisplay at 0x7f21d3f42e10>"
            ]
          },
          "metadata": {},
          "execution_count": 14
        },
        {
          "output_type": "display_data",
          "data": {
            "text/plain": [
              "<Figure size 432x288 with 2 Axes>"
            ],
            "image/png": "[encoded data removed]"
          },
          "metadata": {
            "needs_background": "light"
          }
        }
      ]
    },
    {
      "cell_type": "code",
      "source": [
        "from sklearn.metrics import accuracy_score, precision_score, recall_score, f1_score\n",
        "precision=precision_score(CNNABpred,Y)\n",
        "recall=recall_score(CNNABpred,Y)\n",
        "f1=f1_score(CNNABpred,Y)\n",
        "accuracy=accuracy_score(CNNABpred,Y)\n",
        "print(precision,recall,f1,accuracy)"
      ],
      "metadata": {
        "colab": {
          "base_uri": "https://localhost:8080/"
        },
        "id": "LyBUjiJLwz1-",
        "outputId": "8227dcd6-654c-4ee3-edbe-8431815e1310"
      },
      "execution_count": null,
      "outputs": [
        {
          "output_type": "stream",
          "name": "stdout",
          "text": [
            "0.8767056326612466 0.8259226751577315 0.8505568222120891 0.7797335049925808\n"
          ]
        }
      ]
    },
    {
      "cell_type": "code",
      "source": [
        "from sklearn.metrics import accuracy_score, precision_score, recall_score, f1_score\n",
        "precision=precision_score(CNNABmodel.predict(intermediate_layer_model.predict(X_test)),y_test)\n",
        "recall=recall_score(CNNABmodel.predict(intermediate_layer_model.predict(X_test)),y_test)\n",
        "f1=f1_score(CNNABmodel.predict(intermediate_layer_model.predict(X_test)),y_test)\n",
        "accuracy=accuracy_score(CNNABmodel.predict(intermediate_layer_model.predict(X_test)),y_test)\n",
        "print(accuracy,precision,recall,f1)"
      ],
      "metadata": {
        "colab": {
          "base_uri": "https://localhost:8080/"
        },
        "id": "t8qC4f-cnbsB",
        "outputId": "884e820f-cd71-4023-8e01-250b96081fa6"
      },
      "execution_count": null,
      "outputs": [
        {
          "output_type": "stream",
          "name": "stdout",
          "text": [
            "0.9685357115340165 0.9722686596518831 0.9245371236207219 0.9478023294828164\n"
          ]
        }
      ]
    },
    {
      "cell_type": "markdown",
      "source": [
        "### LSTM"
      ],
      "metadata": {
        "id": "roWP4Q0uA0-2"
      }
    },
    {
      "cell_type": "code",
      "execution_count": null,
      "metadata": {
        "id": "Rr5FLObhA0--"
      },
      "outputs": [],
      "source": [
        "import pickle\n",
        "# load the model from disk\n",
        "filename = '/content/drive/My Drive/Colab Notebooks/Blstmmodel32.sav'\n",
        "loaded_model = pickle.load(open(filename, 'rb'))"
      ]
    },
    {
      "cell_type": "code",
      "execution_count": null,
      "metadata": {
        "id": "98yljosTA0--"
      },
      "outputs": [],
      "source": [
        "from tensorflow import keras\n",
        "layer_name = 'flatten_1'\n",
        "intermediate_layer_model = keras.Model(inputs=loaded_model.input,\n",
        "                                 outputs=loaded_model.get_layer(layer_name).output)\n",
        "intermediate_output = intermediate_layer_model.predict(X_train)"
      ]
    },
    {
      "cell_type": "markdown",
      "source": [
        "#### LSTM+XGB"
      ],
      "metadata": {
        "id": "D58aL5L1A0--"
      }
    },
    {
      "cell_type": "code",
      "source": [
        "import pickle\n",
        "# load the model from disk\n",
        "filename = '/content/drive/My Drive/Colab Notebooks/BLSTM+XGBmodel.sav'\n",
        "LSTMXGBmodel = pickle.load(open(filename, 'rb'))"
      ],
      "metadata": {
        "id": "RGiAQgXHA0--"
      },
      "execution_count": null,
      "outputs": []
    },
    {
      "cell_type": "code",
      "source": [
        "from sklearn.metrics import plot_confusion_matrix,accuracy_score,classification_report\n",
        "LSTMXGBpred=LSTMXGBmodel.predict(intermediate_output)\n",
        "print(classification_report(Y,LSTMXGBpred))"
      ],
      "metadata": {
        "colab": {
          "base_uri": "https://localhost:8080/"
        },
        "outputId": "45ceff94-bc8a-4be8-d09f-97e27f9ffd69",
        "id": "Ejmc8YOgA0-_"
      },
      "execution_count": null,
      "outputs": [
        {
          "output_type": "stream",
          "name": "stdout",
          "text": [
            "              precision    recall  f1-score   support\n",
            "\n",
            "           0       0.71      0.36      0.48    381671\n",
            "           1       0.79      0.94      0.86    957416\n",
            "\n",
            "    accuracy                           0.78   1339087\n",
            "   macro avg       0.75      0.65      0.67   1339087\n",
            "weighted avg       0.77      0.78      0.75   1339087\n",
            "\n"
          ]
        }
      ]
    },
    {
      "cell_type": "code",
      "execution_count": null,
      "metadata": {
        "id": "gqKVaWbyiUWK"
      },
      "outputs": [],
      "source": [
        "from sklearn import metrics\n",
        "import matplotlib.pyplot as plt\n",
        "lxgbppred = LSTMXGBmodel.predict_proba(intermediate_output)[::,1]"
      ]
    },
    {
      "cell_type": "code",
      "execution_count": null,
      "metadata": {
        "id": "JD0J2KHXiUWM"
      },
      "outputs": [],
      "source": [
        "fpr,tpr, _ = metrics.roc_curve(Y,lxgbppred)\n",
        "auc = metrics.roc_auc_score(Y,lxgbppred)"
      ]
    },
    {
      "cell_type": "code",
      "execution_count": null,
      "metadata": {
        "id": "TQdLln0eiUWM",
        "colab": {
          "base_uri": "https://localhost:8080/"
        },
        "outputId": "d8947cb0-0336-44c5-d96f-70f098328b7b"
      },
      "outputs": [
        {
          "output_type": "stream",
          "name": "stdout",
          "text": [
            "0.6417319364421444\n"
          ]
        }
      ],
      "source": [
        "print(auc)"
      ]
    },
    {
      "cell_type": "code",
      "source": [
        "from sklearn.metrics import accuracy_score, precision_score, recall_score, f1_score\n",
        "precision=precision_score(LSTMXGBmodel.predict(intermediate_layer_model.predict(X_test)),y_test)\n",
        "recall=recall_score(LSTMXGBmodel.predict(intermediate_layer_model.predict(X_test)),y_test)\n",
        "f1=f1_score(LSTMXGBmodel.predict(intermediate_layer_model.predict(X_test)),y_test)\n",
        "accuracy=accuracy_score(LSTMXGBmodel.predict(intermediate_layer_model.predict(X_test)),y_test)\n",
        "print(precision,recall,f1,accuracy)"
      ],
      "metadata": {
        "id": "1XOGSmreuyrw"
      },
      "execution_count": null,
      "outputs": []
    },
    {
      "cell_type": "markdown",
      "source": [
        "#### LSTM+RF"
      ],
      "metadata": {
        "id": "4IY8cuWUA0-_"
      }
    },
    {
      "cell_type": "code",
      "source": [
        "import pickle\n",
        "# load the model from disk\n",
        "filename = '/content/drive/My Drive/Colab Notebooks/BLSTM+RFmodel.sav'\n",
        "LSTMRFmodel = pickle.load(open(filename, 'rb'))"
      ],
      "metadata": {
        "id": "mpN3VE1RA0-_"
      },
      "execution_count": null,
      "outputs": []
    },
    {
      "cell_type": "code",
      "source": [
        "from sklearn.metrics import plot_confusion_matrix,accuracy_score,classification_report\n",
        "LSTMRFpred=LSTMRFmodel.predict(intermediate_output)\n",
        "print(classification_report(Y,LSTMRFpred))"
      ],
      "metadata": {
        "colab": {
          "base_uri": "https://localhost:8080/"
        },
        "outputId": "71a154bd-5878-4107-86a0-cb3c81bd0cea",
        "id": "ma_Lu9vvA0-_"
      },
      "execution_count": null,
      "outputs": [
        {
          "output_type": "stream",
          "name": "stdout",
          "text": [
            "              precision    recall  f1-score   support\n",
            "\n",
            "           0       0.72      0.35      0.47    381671\n",
            "           1       0.79      0.95      0.86    957416\n",
            "\n",
            "    accuracy                           0.78   1339087\n",
            "   macro avg       0.75      0.65      0.67   1339087\n",
            "weighted avg       0.77      0.78      0.75   1339087\n",
            "\n"
          ]
        }
      ]
    },
    {
      "cell_type": "code",
      "execution_count": null,
      "metadata": {
        "id": "LMSob6MosZlG"
      },
      "outputs": [],
      "source": [
        "from sklearn import metrics\n",
        "import matplotlib.pyplot as plt\n",
        "\n",
        "lrfppred = LSTMRFmodel.predict_proba(intermediate_output)[::,1]"
      ]
    },
    {
      "cell_type": "code",
      "execution_count": null,
      "metadata": {
        "id": "tZ0QoRjOsZlH"
      },
      "outputs": [],
      "source": [
        "fpr,tpr, _ = metrics.roc_curve(Y,lrfppred)\n",
        "auc = metrics.roc_auc_score(Y,lrfppred)"
      ]
    },
    {
      "cell_type": "code",
      "execution_count": null,
      "metadata": {
        "colab": {
          "base_uri": "https://localhost:8080/"
        },
        "id": "fWhVWqfbsZlH",
        "outputId": "40de3743-99e2-463f-fa69-338799878452"
      },
      "outputs": [
        {
          "output_type": "stream",
          "name": "stdout",
          "text": [
            "0.624930141442295\n"
          ]
        }
      ],
      "source": [
        "print(auc)"
      ]
    },
    {
      "cell_type": "code",
      "source": [
        "from sklearn.metrics import accuracy_score, precision_score, recall_score, f1_score\n",
        "precision=precision_score(LSTMRFmodel.predict(intermediate_layer_model.predict(X_test)),y_test)\n",
        "recall=recall_score(LSTMRFmodel.predict(intermediate_layer_model.predict(X_test)),y_test)\n",
        "f1=f1_score(LSTMRFmodel.predict(intermediate_layer_model.predict(X_test)),y_test)\n",
        "accuracy=accuracy_score(LSTMRFmodel.predict(intermediate_layer_model.predict(X_test)),y_test)\n",
        "print(precision,recall,f1,accuracy)"
      ],
      "metadata": {
        "id": "ZORjM3L4u9CI"
      },
      "execution_count": null,
      "outputs": []
    },
    {
      "cell_type": "markdown",
      "source": [
        "#### LSTM+NB"
      ],
      "metadata": {
        "id": "m0tb3_NKA0-_"
      }
    },
    {
      "cell_type": "code",
      "source": [
        "import pickle\n",
        "# load the model from disk\n",
        "filename = '/content/drive/My Drive/Colab Notebooks/BLSTM+NBmodel.sav'\n",
        "LSTMNBmodel = pickle.load(open(filename, 'rb'))"
      ],
      "metadata": {
        "id": "pI6xXAASA0_A"
      },
      "execution_count": null,
      "outputs": []
    },
    {
      "cell_type": "code",
      "source": [
        "from sklearn.metrics import plot_confusion_matrix,accuracy_score,classification_report\n",
        "LSTMNBpred=LSTMNBmodel.predict(intermediate_output)\n",
        "print(classification_report(Y,LSTMNBpred))"
      ],
      "metadata": {
        "colab": {
          "base_uri": "https://localhost:8080/"
        },
        "outputId": "fa1eb75d-19e3-4ebe-a932-0945b79584d2",
        "id": "QhxZmnGsA0_A"
      },
      "execution_count": null,
      "outputs": [
        {
          "output_type": "stream",
          "name": "stdout",
          "text": [
            "              precision    recall  f1-score   support\n",
            "\n",
            "           0       0.67      0.55      0.60    381671\n",
            "           1       0.83      0.89      0.86    957416\n",
            "\n",
            "    accuracy                           0.79   1339087\n",
            "   macro avg       0.75      0.72      0.73   1339087\n",
            "weighted avg       0.79      0.79      0.79   1339087\n",
            "\n"
          ]
        }
      ]
    },
    {
      "cell_type": "code",
      "execution_count": null,
      "metadata": {
        "id": "8Sly3Ngxsn2h"
      },
      "outputs": [],
      "source": [
        "from sklearn import metrics\n",
        "import matplotlib.pyplot as plt\n",
        "\n",
        "lnbppred = LSTMNBmodel.predict_proba(intermediate_output)[::,1]"
      ]
    },
    {
      "cell_type": "code",
      "execution_count": null,
      "metadata": {
        "id": "0CszRQq0sn2h"
      },
      "outputs": [],
      "source": [
        "fpr,tpr, _ = metrics.roc_curve(Y,lnbppred)\n",
        "auc = metrics.roc_auc_score(Y,lnbppred)"
      ]
    },
    {
      "cell_type": "code",
      "execution_count": null,
      "metadata": {
        "colab": {
          "base_uri": "https://localhost:8080/"
        },
        "id": "O60hR-CJsn2i",
        "outputId": "18671390-93f2-4d5c-9539-9a03fdddee2d"
      },
      "outputs": [
        {
          "output_type": "stream",
          "name": "stdout",
          "text": [
            "0.8027170975451786\n"
          ]
        }
      ],
      "source": [
        "print(auc)"
      ]
    },
    {
      "cell_type": "code",
      "source": [
        "from sklearn.metrics import accuracy_score, precision_score, recall_score, f1_score\n",
        "precision=precision_score(LSTMNBmodel.predict(intermediate_layer_model.predict(X_test)),y_test)\n",
        "recall=recall_score(LSTMNBmodel.predict(intermediate_layer_model.predict(X_test)),y_test)\n",
        "f1=f1_score(LSTMNBmodel.predict(intermediate_layer_model.predict(X_test)),y_test)\n",
        "accuracy=accuracy_score(LSTMNBmodel.predict(intermediate_layer_model.predict(X_test)),y_test)\n",
        "print(precision,recall,f1,accuracy)"
      ],
      "metadata": {
        "id": "FmZ19GkjvJZ4"
      },
      "execution_count": null,
      "outputs": []
    },
    {
      "cell_type": "markdown",
      "source": [
        "#### LSTM+LR"
      ],
      "metadata": {
        "id": "JOEKjN6CA0_A"
      }
    },
    {
      "cell_type": "code",
      "source": [
        "import pickle\n",
        "# load the model from disk\n",
        "filename = '/content/drive/My Drive/Colab Notebooks/BLSTM+LRmodel.sav'\n",
        "LSTMLRmodel = pickle.load(open(filename, 'rb'))"
      ],
      "metadata": {
        "id": "4N-k_Xp-A0_A"
      },
      "execution_count": null,
      "outputs": []
    },
    {
      "cell_type": "code",
      "source": [
        "from sklearn.metrics import plot_confusion_matrix,accuracy_score,classification_report\n",
        "LSTMLRpred=LSTMLRmodel.predict(intermediate_output)\n",
        "print(classification_report(Y,LSTMLRpred))"
      ],
      "metadata": {
        "colab": {
          "base_uri": "https://localhost:8080/"
        },
        "outputId": "9aaee4b4-0900-4ef6-f198-000e5dc3254b",
        "id": "hurQurDsA0_A"
      },
      "execution_count": null,
      "outputs": [
        {
          "output_type": "stream",
          "name": "stdout",
          "text": [
            "              precision    recall  f1-score   support\n",
            "\n",
            "           0       0.71      0.36      0.48    381671\n",
            "           1       0.79      0.94      0.86    957416\n",
            "\n",
            "    accuracy                           0.77   1339087\n",
            "   macro avg       0.75      0.65      0.67   1339087\n",
            "weighted avg       0.76      0.77      0.75   1339087\n",
            "\n"
          ]
        }
      ]
    },
    {
      "cell_type": "code",
      "execution_count": null,
      "metadata": {
        "id": "2jOazITmswvN"
      },
      "outputs": [],
      "source": [
        "from sklearn import metrics\n",
        "import matplotlib.pyplot as plt\n",
        "\n",
        "llrppred = LSTMLRmodel.predict_proba(intermediate_output)[::,1]"
      ]
    },
    {
      "cell_type": "code",
      "execution_count": null,
      "metadata": {
        "id": "xOjhQjtjswvO"
      },
      "outputs": [],
      "source": [
        "fpr,tpr, _ = metrics.roc_curve(Y,llrppred)\n",
        "auc = metrics.roc_auc_score(Y,llrppred)"
      ]
    },
    {
      "cell_type": "code",
      "execution_count": null,
      "metadata": {
        "colab": {
          "base_uri": "https://localhost:8080/"
        },
        "id": "DbGnrXBeswvO",
        "outputId": "ba058a65-97d2-42e9-ea28-720a670d945a"
      },
      "outputs": [
        {
          "output_type": "stream",
          "name": "stdout",
          "text": [
            "0.6034633863905804\n"
          ]
        }
      ],
      "source": [
        "print(auc)"
      ]
    },
    {
      "cell_type": "code",
      "source": [
        "from sklearn.metrics import accuracy_score, precision_score, recall_score, f1_score\n",
        "precision=precision_score(LSTMLRmodel.predict(intermediate_layer_model.predict(X_test)),y_test)\n",
        "recall=recall_score(LSTMLRmodel.predict(intermediate_layer_model.predict(X_test)),y_test)\n",
        "f1=f1_score(LSTMLRmodel.predict(intermediate_layer_model.predict(X_test)),y_test)\n",
        "accuracy=accuracy_score(LSTMLRmodel.predict(intermediate_layer_model.predict(X_test)),y_test)\n",
        "print(precision,recall,f1,accuracy)"
      ],
      "metadata": {
        "id": "-GqGmwpvvLEi"
      },
      "execution_count": null,
      "outputs": []
    },
    {
      "cell_type": "markdown",
      "source": [
        "#### LSTM+ET"
      ],
      "metadata": {
        "id": "L188WFJSA0_B"
      }
    },
    {
      "cell_type": "code",
      "source": [
        "import pickle\n",
        "# load the model from disk\n",
        "filename = '/content/drive/My Drive/Colab Notebooks/BLSTM+ETmodel.sav'\n",
        "LSTMETmodel = pickle.load(open(filename, 'rb'))"
      ],
      "metadata": {
        "id": "6vT57SA9A0_B"
      },
      "execution_count": null,
      "outputs": []
    },
    {
      "cell_type": "code",
      "source": [
        "from sklearn.metrics import plot_confusion_matrix,accuracy_score,classification_report\n",
        "LSTMETpred=LSTMETmodel.predict(intermediate_output)\n",
        "print(classification_report(Y,LSTMETpred))"
      ],
      "metadata": {
        "colab": {
          "base_uri": "https://localhost:8080/"
        },
        "outputId": "54b46ce7-2b27-4570-cb6c-257388f8af73",
        "id": "QyCP6yljA0_B"
      },
      "execution_count": null,
      "outputs": [
        {
          "output_type": "stream",
          "name": "stdout",
          "text": [
            "              precision    recall  f1-score   support\n",
            "\n",
            "           0       0.72      0.35      0.47    381671\n",
            "           1       0.79      0.95      0.86    957416\n",
            "\n",
            "    accuracy                           0.78   1339087\n",
            "   macro avg       0.75      0.65      0.67   1339087\n",
            "weighted avg       0.77      0.78      0.75   1339087\n",
            "\n"
          ]
        }
      ]
    },
    {
      "cell_type": "code",
      "execution_count": null,
      "metadata": {
        "id": "THEfu05ns75R"
      },
      "outputs": [],
      "source": [
        "from sklearn import metrics\n",
        "import matplotlib.pyplot as plt\n",
        "\n",
        "letppred = LSTMETmodel.predict_proba(intermediate_output)[::,1]"
      ]
    },
    {
      "cell_type": "code",
      "execution_count": null,
      "metadata": {
        "id": "_VMc_psQs75R"
      },
      "outputs": [],
      "source": [
        "fpr,tpr, _ = metrics.roc_curve(Y,letppred)\n",
        "auc = metrics.roc_auc_score(Y,letppred)"
      ]
    },
    {
      "cell_type": "code",
      "execution_count": null,
      "metadata": {
        "colab": {
          "base_uri": "https://localhost:8080/"
        },
        "id": "_c-52PJOs75S",
        "outputId": "03d4b860-ab3b-4fe0-b1da-0725108dcad8"
      },
      "outputs": [
        {
          "output_type": "stream",
          "name": "stdout",
          "text": [
            "0.6187121456671606\n"
          ]
        }
      ],
      "source": [
        "print(auc)"
      ]
    },
    {
      "cell_type": "code",
      "source": [
        "from sklearn.metrics import accuracy_score, precision_score, recall_score, f1_score\n",
        "precision=precision_score(LSTMETmodel.predict(intermediate_layer_model.predict(X_test)),y_test)\n",
        "recall=recall_score(LSTMETmodel.predict(intermediate_layer_model.predict(X_test)),y_test)\n",
        "f1=f1_score(LSTMETmodel.predict(intermediate_layer_model.predict(X_test)),y_test)\n",
        "accuracy=accuracy_score(LSTMETmodel.predict(intermediate_layer_model.predict(X_test)),y_test)\n",
        "print(precision,recall,f1,accuracy)"
      ],
      "metadata": {
        "id": "jJjSH0iXvMoY"
      },
      "execution_count": null,
      "outputs": []
    },
    {
      "cell_type": "markdown",
      "source": [
        "#### LSTM+DT"
      ],
      "metadata": {
        "id": "Z5CzKX8vA0_B"
      }
    },
    {
      "cell_type": "code",
      "source": [
        "import pickle\n",
        "# load the model from disk\n",
        "filename = '/content/drive/My Drive/Colab Notebooks/BLSTM+DTmodel.sav'\n",
        "LSTMDTmodel = pickle.load(open(filename, 'rb'))"
      ],
      "metadata": {
        "id": "1x4RzVeNA0_B"
      },
      "execution_count": null,
      "outputs": []
    },
    {
      "cell_type": "code",
      "source": [
        "from sklearn.metrics import plot_confusion_matrix,accuracy_score,classification_report\n",
        "LSTMDTpred=LSTMDTmodel.predict(intermediate_output)\n",
        "print(classification_report(Y,LSTMDTpred))"
      ],
      "metadata": {
        "colab": {
          "base_uri": "https://localhost:8080/"
        },
        "outputId": "8d1819ec-b640-4b79-c37e-9ad6af484c56",
        "id": "RymJrufQA0_B"
      },
      "execution_count": null,
      "outputs": [
        {
          "output_type": "stream",
          "name": "stdout",
          "text": [
            "              precision    recall  f1-score   support\n",
            "\n",
            "           0       0.64      0.36      0.46    381671\n",
            "           1       0.78      0.92      0.85    957416\n",
            "\n",
            "    accuracy                           0.76   1339087\n",
            "   macro avg       0.71      0.64      0.65   1339087\n",
            "weighted avg       0.74      0.76      0.74   1339087\n",
            "\n"
          ]
        }
      ]
    },
    {
      "cell_type": "code",
      "execution_count": null,
      "metadata": {
        "id": "haxJT8S0tDiY"
      },
      "outputs": [],
      "source": [
        "from sklearn import metrics\n",
        "import matplotlib.pyplot as plt\n",
        "\n",
        "ldtppred = LSTMDTmodel.predict_proba(intermediate_output)[::,1]"
      ]
    },
    {
      "cell_type": "code",
      "execution_count": null,
      "metadata": {
        "id": "skwdF8YotDiZ"
      },
      "outputs": [],
      "source": [
        "fpr,tpr, _ = metrics.roc_curve(Y,ldtppred)\n",
        "auc = metrics.roc_auc_score(Y,ldtppred)"
      ]
    },
    {
      "cell_type": "code",
      "execution_count": null,
      "metadata": {
        "colab": {
          "base_uri": "https://localhost:8080/"
        },
        "id": "gSIXmyactDia",
        "outputId": "dcc93659-79db-4906-eefc-85be7f22eabd"
      },
      "outputs": [
        {
          "output_type": "stream",
          "name": "stdout",
          "text": [
            "0.6392616292902034\n"
          ]
        }
      ],
      "source": [
        "print(auc)"
      ]
    },
    {
      "cell_type": "code",
      "source": [
        "from sklearn.metrics import accuracy_score, precision_score, recall_score, f1_score\n",
        "precision=precision_score(LSTMDTmodel.predict(intermediate_layer_model.predict(X_test)),y_test)\n",
        "recall=recall_score(LSTMDTmodel.predict(intermediate_layer_model.predict(X_test)),y_test)\n",
        "f1=f1_score(LSTMDTmodel.predict(intermediate_layer_model.predict(X_test)),y_test)\n",
        "accuracy=accuracy_score(LSTMDTmodel.predict(intermediate_layer_model.predict(X_test)),y_test)\n",
        "print(precision,recall,f1,accuracy)"
      ],
      "metadata": {
        "id": "QeYKqu_CvOHA"
      },
      "execution_count": null,
      "outputs": []
    },
    {
      "cell_type": "markdown",
      "source": [
        "#### LSTM+AB"
      ],
      "metadata": {
        "id": "8X9W9w6KA0_C"
      }
    },
    {
      "cell_type": "code",
      "source": [
        "import pickle\n",
        "# load the model from disk\n",
        "filename = '/content/drive/My Drive/Colab Notebooks/BLSTM+ABmodel.sav'\n",
        "LSTMABmodel = pickle.load(open(filename, 'rb'))"
      ],
      "metadata": {
        "id": "_TRg2nazA0_C"
      },
      "execution_count": null,
      "outputs": []
    },
    {
      "cell_type": "code",
      "source": [
        "from sklearn.metrics import plot_confusion_matrix,accuracy_score,classification_report\n",
        "LSTMABpred=LSTMABmodel.predict(intermediate_output)\n",
        "print(classification_report(Y,LSTMABpred))"
      ],
      "metadata": {
        "colab": {
          "base_uri": "https://localhost:8080/"
        },
        "outputId": "c734927c-3a81-4f99-8957-039f99a43ad7",
        "id": "f9lcoi5MA0_C"
      },
      "execution_count": null,
      "outputs": [
        {
          "output_type": "stream",
          "name": "stdout",
          "text": [
            "              precision    recall  f1-score   support\n",
            "\n",
            "           0       0.72      0.36      0.48    381671\n",
            "           1       0.79      0.94      0.86    957416\n",
            "\n",
            "    accuracy                           0.78   1339087\n",
            "   macro avg       0.75      0.65      0.67   1339087\n",
            "weighted avg       0.77      0.78      0.75   1339087\n",
            "\n"
          ]
        }
      ]
    },
    {
      "cell_type": "code",
      "execution_count": null,
      "metadata": {
        "id": "MhVamU6DtMP3"
      },
      "outputs": [],
      "source": [
        "from sklearn import metrics\n",
        "import matplotlib.pyplot as plt\n",
        "\n",
        "labppred = LSTMABmodel.predict_proba(intermediate_output)[::,1]"
      ]
    },
    {
      "cell_type": "code",
      "execution_count": null,
      "metadata": {
        "id": "_d4nRQ4ztMP4"
      },
      "outputs": [],
      "source": [
        "fpr,tpr, _ = metrics.roc_curve(Y,labppred)\n",
        "auc = metrics.roc_auc_score(Y,labppred)"
      ]
    },
    {
      "cell_type": "code",
      "execution_count": null,
      "metadata": {
        "colab": {
          "base_uri": "https://localhost:8080/"
        },
        "id": "5AK6RODwtMP4",
        "outputId": "73ae96b4-4bcb-4970-af6e-5aff2ea4e6fa"
      },
      "outputs": [
        {
          "output_type": "stream",
          "name": "stdout",
          "text": [
            "0.6116070536308327\n"
          ]
        }
      ],
      "source": [
        "print(auc)"
      ]
    },
    {
      "cell_type": "code",
      "source": [
        "from sklearn.metrics import accuracy_score, precision_score, recall_score, f1_score\n",
        "precision=precision_score(LSTMABmodel.predict(intermediate_layer_model.predict(X_test)),y_test)\n",
        "recall=recall_score(LSTMABmodel.predict(intermediate_layer_model.predict(X_test)),y_test)\n",
        "f1=f1_score(LSTMABmodel.predict(intermediate_layer_model.predict(X_test)),y_test)\n",
        "accuracy=accuracy_score(LSTMABmodel.predict(intermediate_layer_model.predict(X_test)),y_test)\n",
        "print(precision,recall,f1,accuracy)"
      ],
      "metadata": {
        "id": "qSiEB2stvPzv"
      },
      "execution_count": null,
      "outputs": []
    }
  ]
}