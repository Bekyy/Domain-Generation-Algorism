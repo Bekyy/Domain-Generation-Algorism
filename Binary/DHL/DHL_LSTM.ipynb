{
  "cells": [
    {
      "cell_type": "code",
      "execution_count": null,
      "metadata": {
        "id": "PRA4adyjdWcn"
      },
      "outputs": [],
      "source": [
        "import tensorflow as tf\n",
        "%matplotlib inline\n",
        "import numpy as np\n",
        "from collections import defaultdict\n",
        "import collections\n",
        "import matplotlib.pyplot as plt\n",
        "import numpy as np\n",
        "import os\n",
        "import random\n",
        "import tensorflow as tf\n",
        "import seaborn as sns\n",
        "import cv2"
      ]
    },
    {
      "cell_type": "code",
      "execution_count": null,
      "metadata": {
        "id": "blwR7ARVeBNY"
      },
      "outputs": [],
      "source": [
        "import pandas as pd\n",
        "import numpy as np\n",
        "import math\n",
        "from collections import Counter\n",
        "from sklearn.model_selection import train_test_split\n",
        "from sklearn.model_selection import GridSearchCV"
      ]
    },
    {
      "cell_type": "code",
      "execution_count": null,
      "metadata": {
        "colab": {
          "base_uri": "https://localhost:8080/"
        },
        "id": "-miIBab7lnn8",
        "outputId": "7e5c9f0d-8d05-4086-f10b-a6a41b8a7fe8"
      },
      "outputs": [
        {
          "output_type": "stream",
          "name": "stdout",
          "text": [
            "Mounted at /content/drive\n"
          ]
        }
      ],
      "source": [
        "from google.colab import drive\n",
        "drive.mount('/content/drive')"
      ]
    },
    {
      "cell_type": "markdown",
      "metadata": {
        "id": "Fn74G7JXJ3h9"
      },
      "source": [
        "## Load Model and extract feature from an intermidiate layer"
      ]
    },
    {
      "cell_type": "code",
      "execution_count": null,
      "metadata": {
        "id": "EBflGVQ1mQcV"
      },
      "outputs": [],
      "source": [
        "import pickle\n",
        "# load the model from disk\n",
        "filename = '/content/drive/My Drive/Colab Notebooks/Blstmmodel32.sav'\n",
        "loaded_model = pickle.load(open(filename, 'rb'))"
      ]
    },
    {
      "cell_type": "code",
      "execution_count": null,
      "metadata": {
        "id": "et43UEQdkeoV"
      },
      "outputs": [],
      "source": [
        "import pickle\n",
        "filename = '/content/drive/My Drive/Colab Notebooks/BX_train_sm.csv'\n",
        "X_train = pickle.load(open(filename, 'rb'))"
      ]
    },
    {
      "cell_type": "code",
      "execution_count": null,
      "metadata": {
        "id": "vHHQI0uvkvQb"
      },
      "outputs": [],
      "source": [
        "filename = '/content/drive/My Drive/Colab Notebooks/By_train_sm.csv'\n",
        "y_train = pickle.load(open(filename, 'rb'))"
      ]
    },
    {
      "cell_type": "code",
      "execution_count": null,
      "metadata": {
        "id": "QNhL60LxkzYN"
      },
      "outputs": [],
      "source": [
        "filename = '/content/drive/My Drive/Colab Notebooks/BX_test_sm.csv'\n",
        "X_test = pickle.load(open(filename, 'rb'))"
      ]
    },
    {
      "cell_type": "code",
      "execution_count": null,
      "metadata": {
        "id": "FUpaU9quk4iD"
      },
      "outputs": [],
      "source": [
        "filename = '/content/drive/My Drive/Colab Notebooks/By_test_sm.csv'\n",
        "y_test = pickle.load(open(filename, 'rb'))"
      ]
    },
    {
      "cell_type": "code",
      "execution_count": null,
      "metadata": {
        "id": "bEcDZmSPoU_6"
      },
      "outputs": [],
      "source": [
        "from tensorflow import keras\n",
        "layer_name = 'flatten_1'\n",
        "intermediate_layer_model = keras.Model(inputs=loaded_model.input,\n",
        "                                 outputs=loaded_model.get_layer(layer_name).output)\n",
        "intermediate_output = intermediate_layer_model.predict(X_train)"
      ]
    },
    {
      "cell_type": "markdown",
      "metadata": {
        "id": "vtLIWu9FLur8"
      },
      "source": [
        "### Extra Tree Classifier"
      ]
    },
    {
      "cell_type": "code",
      "execution_count": null,
      "metadata": {
        "colab": {
          "base_uri": "https://localhost:8080/"
        },
        "id": "eLaoUPjuLur-",
        "outputId": "463a589a-7990-446f-ff9b-5b3fbc4dfefa"
      },
      "outputs": [
        {
          "name": "stdout",
          "output_type": "stream",
          "text": [
            "It took 576.3876037597656 milliseconds to train ET with feature from LSTM intermidiate layer.\n",
            "\n"
          ]
        }
      ],
      "source": [
        "from sklearn.ensemble import ExtraTreesClassifier\n",
        "import time\n",
        "start = time.time()\n",
        "ETmodel = ExtraTreesClassifier().fit(intermediate_output, y_train)\n",
        "end = time.time()\n",
        "print(\"It took {} milliseconds to train ET with feature from LSTM intermidiate layer.\\n\".format(end-start))"
      ]
    },
    {
      "cell_type": "code",
      "execution_count": null,
      "metadata": {
        "colab": {
          "base_uri": "https://localhost:8080/"
        },
        "id": "QNIKEazxLusA",
        "outputId": "b9af39be-2511-4341-adae-2bae4f79ee75"
      },
      "outputs": [
        {
          "name": "stdout",
          "output_type": "stream",
          "text": [
            "              precision    recall  f1-score   support\n",
            "\n",
            "           0       1.00      0.98      0.99    293300\n",
            "           1       0.96      0.99      0.98    122028\n",
            "\n",
            "    accuracy                           0.99    415328\n",
            "   macro avg       0.98      0.99      0.98    415328\n",
            "weighted avg       0.99      0.99      0.99    415328\n",
            "\n",
            "It took 93.69631099700928 milliseconds to test ET with feature from LSTM intermidiate layer.\n",
            "\n"
          ]
        }
      ],
      "source": [
        "from sklearn.metrics import precision_score, accuracy_score,classification_report\n",
        "start = time.time()\n",
        "ETpred = ETmodel.predict(intermediate_layer_model.predict(X_test))\n",
        "end = time.time()\n",
        "print(classification_report(y_test, ETpred))\n",
        "print(\"It took {} milliseconds to test ET with feature from LSTM intermidiate layer.\\n\".format(end-start))"
      ]
    },
    {
      "cell_type": "code",
      "execution_count": null,
      "metadata": {
        "colab": {
          "base_uri": "https://localhost:8080/"
        },
        "id": "92U48vXELur_",
        "outputId": "7f34ed26-9f3d-4c46-d3af-a803b761931e"
      },
      "outputs": [
        {
          "name": "stdout",
          "output_type": "stream",
          "text": [
            "accuracy on the train set:  0.999988464555424\n",
            "accuracy on the test set:  0.9861314431003929\n"
          ]
        }
      ],
      "source": [
        "print('accuracy on the train set: ', accuracy_score(ETmodel.predict(intermediate_output), y_train))\n",
        "print('accuracy on the test set: ', accuracy_score(ETpred, y_test))"
      ]
    },
    {
      "cell_type": "code",
      "execution_count": null,
      "metadata": {
        "colab": {
          "base_uri": "https://localhost:8080/",
          "height": 351
        },
        "id": "cMy6PzVFVy2O",
        "outputId": "f175b3b3-bc9c-496e-8253-4b3a6f5b8487"
      },
      "outputs": [
        {
          "name": "stderr",
          "output_type": "stream",
          "text": [
            "/usr/local/lib/python3.7/dist-packages/sklearn/utils/deprecation.py:87: FutureWarning: Function plot_confusion_matrix is deprecated; Function `plot_confusion_matrix` is deprecated in 1.0 and will be removed in 1.2. Use one of the class methods: ConfusionMatrixDisplay.from_predictions or ConfusionMatrixDisplay.from_estimator.\n",
            "  warnings.warn(msg, category=FutureWarning)\n"
          ]
        },
        {
          "data": {
            "text/plain": [
              "<sklearn.metrics._plot.confusion_matrix.ConfusionMatrixDisplay at 0x7f26406cb690>"
            ]
          },
          "execution_count": 16,
          "metadata": {},
          "output_type": "execute_result"
        },
        {
          "data": {
            "image/png": "[encoded data removed]",
            "text/plain": [
              "<Figure size 432x288 with 2 Axes>"
            ]
          },
          "metadata": {},
          "output_type": "display_data"
        }
      ],
      "source": [
        "# Confusion matrix\n",
        "from sklearn.metrics import plot_confusion_matrix\n",
        "plot_confusion_matrix(ETmodel, intermediate_layer_model.predict(X_test), y_test, display_labels=[\"legit\", \"dga\"])"
      ]
    },
    {
      "cell_type": "code",
      "execution_count": null,
      "metadata": {
        "id": "PsRBPj-PVy2P"
      },
      "outputs": [],
      "source": [
        "from sklearn import metrics\n",
        "import matplotlib.pyplot as plt\n",
        "\n",
        "etpprd = ETmodel.predict_proba(intermediate_layer_model.predict(X_test))[::,1]"
      ]
    },
    {
      "cell_type": "code",
      "execution_count": null,
      "metadata": {
        "id": "jOAtMf2iVy2P"
      },
      "outputs": [],
      "source": [
        "fpr,tpr, _ = metrics.roc_curve(y_test,etpprd)\n",
        "auc = metrics.roc_auc_score(y_test,etpprd)"
      ]
    },
    {
      "cell_type": "code",
      "execution_count": null,
      "metadata": {
        "colab": {
          "base_uri": "https://localhost:8080/"
        },
        "id": "L52bZheRVy2Q",
        "outputId": "264a589e-617f-40c1-c831-1bdaf93295d7"
      },
      "outputs": [
        {
          "name": "stdout",
          "output_type": "stream",
          "text": [
            "0.9979613099813293\n"
          ]
        }
      ],
      "source": [
        "print(auc)"
      ]
    },
    {
      "cell_type": "code",
      "execution_count": null,
      "metadata": {
        "colab": {
          "base_uri": "https://localhost:8080/",
          "height": 312
        },
        "id": "HHs209NNVy2Q",
        "outputId": "691aa702-523b-4988-853d-e4b8a385e506"
      },
      "outputs": [
        {
          "data": {
            "text/plain": [
              "<function matplotlib.pyplot.show>"
            ]
          },
          "execution_count": 20,
          "metadata": {},
          "output_type": "execute_result"
        },
        {
          "data": {
            "image/png": "[encoded data removed]",
            "text/plain": [
              "<Figure size 432x288 with 1 Axes>"
            ]
          },
          "metadata": {},
          "output_type": "display_data"
        }
      ],
      "source": [
        "plt.title('Receiver Operating Characterstic - LSTM+ET')\n",
        "plt.plot(fpr,tpr,label= \"AUC = %0.5f\" % (auc))\n",
        "plt.ylabel('True Posetive Rate')\n",
        "plt.xlabel('False Posetive Rate')\n",
        "plt.show"
      ]
    },
    {
      "cell_type": "code",
      "execution_count": null,
      "metadata": {
        "id": "EIbp4-YBVgxE"
      },
      "outputs": [],
      "source": [
        "import pickle\n",
        "# save the model to disk\n",
        "filename = '/content/drive/My Drive/Colab Notebooks/BLSTM+ETmodel.sav'\n",
        "pickle.dump(ETmodel, open(filename, 'wb'))"
      ]
    },
    {
      "cell_type": "markdown",
      "metadata": {
        "id": "i8ogsJxBtkKw"
      },
      "source": [
        "## Decision Tree"
      ]
    },
    {
      "cell_type": "code",
      "execution_count": null,
      "metadata": {
        "colab": {
          "base_uri": "https://localhost:8080/"
        },
        "id": "4KRLuASIubsu",
        "outputId": "3c449309-c26b-4d85-eb9b-5b9d10785afc"
      },
      "outputs": [
        {
          "output_type": "stream",
          "name": "stdout",
          "text": [
            "It took 462.0049135684967 milliseconds to train DT with feature from LSTM intermidiate layer.\n",
            "\n"
          ]
        }
      ],
      "source": [
        "from sklearn.tree import DecisionTreeClassifier\n",
        "import time\n",
        "start = time.time()\n",
        "DTmodel = DecisionTreeClassifier().fit(intermediate_output, y_train)\n",
        "end = time.time()\n",
        "print(\"It took {} milliseconds to train DT with feature from LSTM intermidiate layer.\\n\".format(end-start))"
      ]
    },
    {
      "cell_type": "code",
      "source": [
        "from sklearn.metrics import precision_score, accuracy_score,classification_report\n",
        "start = time.time()\n",
        "DTpred = DTmodel.predict(intermediate_layer_model.predict(X_test))\n",
        "end = time.time()\n",
        "print(classification_report(y_test, DTpred))\n",
        "print(\"It took {} milliseconds to test DT with feature from LSTM intermidiate layer.\\n\".format(end-start))"
      ],
      "metadata": {
        "colab": {
          "base_uri": "https://localhost:8080/"
        },
        "id": "QijxUdDkpeZb",
        "outputId": "50b45031-3cdb-42fc-d483-7c13913d2765"
      },
      "execution_count": null,
      "outputs": [
        {
          "output_type": "stream",
          "name": "stdout",
          "text": [
            "              precision    recall  f1-score   support\n",
            "\n",
            "           0       0.99      0.98      0.99    293300\n",
            "           1       0.95      0.98      0.97    122028\n",
            "\n",
            "    accuracy                           0.98    415328\n",
            "   macro avg       0.97      0.98      0.98    415328\n",
            "weighted avg       0.98      0.98      0.98    415328\n",
            "\n",
            "It took 82.99525952339172 milliseconds to test DT with feature from LSTM intermidiate layer.\n",
            "\n"
          ]
        }
      ]
    },
    {
      "cell_type": "code",
      "source": [
        "from sklearn.metrics import precision_score,recall_score,f1_score,accuracy_score\n",
        "average_precision = precision_score(y_test, DTpred)\n",
        "recall_score=recall_score(y_test, DTpred)\n",
        "f1_score = f1_score(y_test, DTpred)\n",
        "accuracy_score = accuracy_score(y_test,DTpred) \n",
        "print(average_precision,recall_score,f1_score,accuracy_score)"
      ],
      "metadata": {
        "colab": {
          "base_uri": "https://localhost:8080/"
        },
        "id": "KFiWtVPupfgq",
        "outputId": "4ba47b4e-7f4f-40ea-8875-8e866fa66ac7"
      },
      "execution_count": null,
      "outputs": [
        {
          "output_type": "stream",
          "name": "stdout",
          "text": [
            "0.9539340202891605 0.9786524404235094 0.9661351519711349 0.9798424377841128\n"
          ]
        }
      ]
    },
    {
      "cell_type": "code",
      "execution_count": null,
      "metadata": {
        "colab": {
          "base_uri": "https://localhost:8080/"
        },
        "id": "26i3aRuhubsv",
        "outputId": "059cd67b-b5b3-4ab5-fcbd-b3d240619039"
      },
      "outputs": [
        {
          "name": "stdout",
          "output_type": "stream",
          "text": [
            "              precision    recall  f1-score   support\n",
            "\n",
            "           0       0.99      0.98      0.99    293300\n",
            "           1       0.95      0.98      0.97    122028\n",
            "\n",
            "    accuracy                           0.98    415328\n",
            "   macro avg       0.97      0.98      0.98    415328\n",
            "weighted avg       0.98      0.98      0.98    415328\n",
            "\n",
            "It took 78.41634058952332 milliseconds to test DT with feature from LSTM intermidiate layer.\n",
            "\n"
          ]
        }
      ],
      "source": [
        "from sklearn.metrics import precision_score, accuracy_score,classification_report\n",
        "start = time.time()\n",
        "DTpred = DTmodel.predict(intermediate_layer_model.predict(X_test))\n",
        "end = time.time()\n",
        "print(classification_report(y_test, DTpred))\n",
        "print(\"It took {} milliseconds to test DT with feature from LSTM intermidiate layer.\\n\".format(end-start))"
      ]
    },
    {
      "cell_type": "code",
      "execution_count": null,
      "metadata": {
        "colab": {
          "base_uri": "https://localhost:8080/"
        },
        "id": "cgWwUB1mubsv",
        "outputId": "5bd8738b-5126-48fd-9f82-bbeaf978e8a7"
      },
      "outputs": [
        {
          "name": "stdout",
          "output_type": "stream",
          "text": [
            "accuracy on the train set:  0.999988464555424\n",
            "accuracy on the test set:  0.9800398721010863\n"
          ]
        }
      ],
      "source": [
        "print('accuracy on the train set: ', accuracy_score(DTmodel.predict(intermediate_output), y_train))\n",
        "print('accuracy on the test set: ', accuracy_score(DTpred, y_test))"
      ]
    },
    {
      "cell_type": "code",
      "execution_count": null,
      "metadata": {
        "colab": {
          "base_uri": "https://localhost:8080/",
          "height": 351
        },
        "id": "SJ8fk1wRubsw",
        "outputId": "9b65215c-ca2a-475d-b06f-2bcfbfc8e06f"
      },
      "outputs": [
        {
          "name": "stderr",
          "output_type": "stream",
          "text": [
            "/usr/local/lib/python3.7/dist-packages/sklearn/utils/deprecation.py:87: FutureWarning: Function plot_confusion_matrix is deprecated; Function `plot_confusion_matrix` is deprecated in 1.0 and will be removed in 1.2. Use one of the class methods: ConfusionMatrixDisplay.from_predictions or ConfusionMatrixDisplay.from_estimator.\n",
            "  warnings.warn(msg, category=FutureWarning)\n"
          ]
        },
        {
          "data": {
            "text/plain": [
              "<sklearn.metrics._plot.confusion_matrix.ConfusionMatrixDisplay at 0x7f263f905c10>"
            ]
          },
          "execution_count": 25,
          "metadata": {},
          "output_type": "execute_result"
        },
        {
          "data": {
            "image/png": "[encoded data removed]",
            "text/plain": [
              "<Figure size 432x288 with 2 Axes>"
            ]
          },
          "metadata": {},
          "output_type": "display_data"
        }
      ],
      "source": [
        "# Confusion matrix\n",
        "from sklearn.metrics import plot_confusion_matrix\n",
        "plot_confusion_matrix(DTmodel, intermediate_layer_model.predict(X_test), y_test, display_labels=[\"legit\", \"dga\"])"
      ]
    },
    {
      "cell_type": "code",
      "execution_count": null,
      "metadata": {
        "id": "rCojYg-Lubsw"
      },
      "outputs": [],
      "source": [
        "from sklearn import metrics\n",
        "import matplotlib.pyplot as plt\n",
        "\n",
        "dtpprd = DTmodel.predict_proba(intermediate_layer_model.predict(X_test))[::,1]"
      ]
    },
    {
      "cell_type": "code",
      "execution_count": null,
      "metadata": {
        "id": "5xW_V2Knubsx"
      },
      "outputs": [],
      "source": [
        "fpr,tpr, _ = metrics.roc_curve(y_test,dtpprd)\n",
        "auc = metrics.roc_auc_score(y_test,dtpprd)"
      ]
    },
    {
      "cell_type": "code",
      "execution_count": null,
      "metadata": {
        "colab": {
          "base_uri": "https://localhost:8080/"
        },
        "id": "NE1eaB7lubsx",
        "outputId": "8e3aa960-f0c2-41dc-9a13-386b60c56ad5"
      },
      "outputs": [
        {
          "name": "stdout",
          "output_type": "stream",
          "text": [
            "0.9798738766544456\n"
          ]
        }
      ],
      "source": [
        "print(auc)"
      ]
    },
    {
      "cell_type": "code",
      "execution_count": null,
      "metadata": {
        "colab": {
          "base_uri": "https://localhost:8080/",
          "height": 312
        },
        "id": "3M2mfbPoubsx",
        "outputId": "d0cc0836-8d5c-4cbc-edbd-39f192d67f81"
      },
      "outputs": [
        {
          "data": {
            "text/plain": [
              "<function matplotlib.pyplot.show>"
            ]
          },
          "execution_count": 29,
          "metadata": {},
          "output_type": "execute_result"
        },
        {
          "data": {
            "image/png": "[encoded data removed]",
            "text/plain": [
              "<Figure size 432x288 with 1 Axes>"
            ]
          },
          "metadata": {},
          "output_type": "display_data"
        }
      ],
      "source": [
        "plt.title('Receiver Operating Characterstic - LSTM+DT')\n",
        "plt.plot(fpr,tpr,label= \"AUC = %0.5f\" % (auc))\n",
        "plt.ylabel('True Posetive Rate')\n",
        "plt.xlabel('False Posetive Rate')\n",
        "plt.show"
      ]
    },
    {
      "cell_type": "code",
      "execution_count": null,
      "metadata": {
        "id": "OrbzTth-ubsy"
      },
      "outputs": [],
      "source": [
        "import pickle\n",
        "# save the model to disk\n",
        "filename = '/content/drive/My Drive/Colab Notebooks/BLSTM+DTmodel.sav'\n",
        "pickle.dump(DTmodel, open(filename, 'wb'))"
      ]
    },
    {
      "cell_type": "markdown",
      "metadata": {
        "id": "oHIaB-sZwldL"
      },
      "source": [
        "## Adaboost Classifier"
      ]
    },
    {
      "cell_type": "code",
      "execution_count": null,
      "metadata": {
        "colab": {
          "base_uri": "https://localhost:8080/"
        },
        "id": "cw2W6KYTwlda",
        "outputId": "6d0125fb-044f-4892-95b5-28d5d9c30510"
      },
      "outputs": [
        {
          "name": "stdout",
          "output_type": "stream",
          "text": [
            "It took 1118.532565355301 milliseconds to train AB with feature from LSTM intermidiate layer.\n",
            "\n"
          ]
        }
      ],
      "source": [
        "from sklearn.ensemble import AdaBoostClassifier\n",
        "import time\n",
        "start = time.time()\n",
        "ABmodel = AdaBoostClassifier().fit(intermediate_output, y_train)\n",
        "end = time.time()\n",
        "print(\"It took {} milliseconds to train AB with feature from LSTM intermidiate layer.\\n\".format(end-start))"
      ]
    },
    {
      "cell_type": "code",
      "execution_count": null,
      "metadata": {
        "colab": {
          "base_uri": "https://localhost:8080/"
        },
        "id": "8Cxbqi27wldb",
        "outputId": "c20389a6-5c7a-4e19-bcf4-3c31e1369e68"
      },
      "outputs": [
        {
          "name": "stdout",
          "output_type": "stream",
          "text": [
            "              precision    recall  f1-score   support\n",
            "\n",
            "           0       1.00      0.98      0.99    293300\n",
            "           1       0.95      0.99      0.97    122028\n",
            "\n",
            "    accuracy                           0.98    415328\n",
            "   macro avg       0.98      0.99      0.98    415328\n",
            "weighted avg       0.98      0.98      0.98    415328\n",
            "\n",
            "It took 80.12366890907288 milliseconds to test AB with feature from LSTM intermidiate layer.\n",
            "\n"
          ]
        }
      ],
      "source": [
        "from sklearn.metrics import precision_score, accuracy_score,classification_report\n",
        "start = time.time()\n",
        "ABpred = ABmodel.predict(intermediate_layer_model.predict(X_test))\n",
        "end = time.time()\n",
        "print(classification_report(y_test, ABpred))\n",
        "print(\"It took {} milliseconds to test AB with feature from LSTM intermidiate layer.\\n\".format(end-start))"
      ]
    },
    {
      "cell_type": "code",
      "execution_count": null,
      "metadata": {
        "colab": {
          "base_uri": "https://localhost:8080/"
        },
        "id": "RiJq7X0jwldc",
        "outputId": "c8f7faee-7cac-4230-b945-5ec5dcd5455a"
      },
      "outputs": [
        {
          "name": "stdout",
          "output_type": "stream",
          "text": [
            "accuracy on the train set:  0.9857819237020061\n",
            "accuracy on the test set:  0.9839813352338392\n"
          ]
        }
      ],
      "source": [
        "print('accuracy on the train set: ', accuracy_score(ABmodel.predict(intermediate_output), y_train))\n",
        "print('accuracy on the test set: ', accuracy_score(ABpred, y_test))"
      ]
    },
    {
      "cell_type": "code",
      "execution_count": null,
      "metadata": {
        "colab": {
          "base_uri": "https://localhost:8080/",
          "height": 351
        },
        "id": "rez8hjy7wldd",
        "outputId": "2a6cf3ac-4d45-4adb-e6e7-9328c1b60f91"
      },
      "outputs": [
        {
          "name": "stderr",
          "output_type": "stream",
          "text": [
            "/usr/local/lib/python3.7/dist-packages/sklearn/utils/deprecation.py:87: FutureWarning: Function plot_confusion_matrix is deprecated; Function `plot_confusion_matrix` is deprecated in 1.0 and will be removed in 1.2. Use one of the class methods: ConfusionMatrixDisplay.from_predictions or ConfusionMatrixDisplay.from_estimator.\n",
            "  warnings.warn(msg, category=FutureWarning)\n"
          ]
        },
        {
          "data": {
            "text/plain": [
              "<sklearn.metrics._plot.confusion_matrix.ConfusionMatrixDisplay at 0x7f263d697810>"
            ]
          },
          "execution_count": 34,
          "metadata": {},
          "output_type": "execute_result"
        },
        {
          "data": {
            "image/png": "[encoded data removed]",
            "text/plain": [
              "<Figure size 432x288 with 2 Axes>"
            ]
          },
          "metadata": {},
          "output_type": "display_data"
        }
      ],
      "source": [
        "# Confusion matrix\n",
        "from sklearn.metrics import plot_confusion_matrix\n",
        "plot_confusion_matrix(ABmodel, intermediate_layer_model.predict(X_test), y_test, display_labels=[\"legit\", \"dga\"])"
      ]
    },
    {
      "cell_type": "code",
      "execution_count": null,
      "metadata": {
        "id": "c7JSwA_wwldd"
      },
      "outputs": [],
      "source": [
        "from sklearn import metrics\n",
        "import matplotlib.pyplot as plt\n",
        "\n",
        "abpprd = ABmodel.predict_proba(intermediate_layer_model.predict(X_test))[::,1]"
      ]
    },
    {
      "cell_type": "code",
      "execution_count": null,
      "metadata": {
        "id": "zM0GPFomwldd"
      },
      "outputs": [],
      "source": [
        "fpr,tpr, _ = metrics.roc_curve(y_test,abpprd)\n",
        "auc = metrics.roc_auc_score(y_test,abpprd)"
      ]
    },
    {
      "cell_type": "code",
      "execution_count": null,
      "metadata": {
        "colab": {
          "base_uri": "https://localhost:8080/"
        },
        "id": "7ZPM-8CHwldd",
        "outputId": "16c18228-92c6-4335-9ead-447eaa2d6515"
      },
      "outputs": [
        {
          "name": "stdout",
          "output_type": "stream",
          "text": [
            "0.9983136618184167\n"
          ]
        }
      ],
      "source": [
        "print(auc)"
      ]
    },
    {
      "cell_type": "code",
      "execution_count": null,
      "metadata": {
        "colab": {
          "base_uri": "https://localhost:8080/",
          "height": 312
        },
        "id": "m32hnYE8wldd",
        "outputId": "d718b83f-d31d-4e71-cd54-728785bb065a"
      },
      "outputs": [
        {
          "data": {
            "text/plain": [
              "<function matplotlib.pyplot.show>"
            ]
          },
          "execution_count": 38,
          "metadata": {},
          "output_type": "execute_result"
        },
        {
          "data": {
            "image/png": "[encoded data removed]",
            "text/plain": [
              "<Figure size 432x288 with 1 Axes>"
            ]
          },
          "metadata": {},
          "output_type": "display_data"
        }
      ],
      "source": [
        "plt.title('Receiver Operating Characterstic - LSTM+AB')\n",
        "plt.plot(fpr,tpr,label= \"AUC = %0.5f\" % (auc))\n",
        "plt.ylabel('True Posetive Rate')\n",
        "plt.xlabel('False Posetive Rate')\n",
        "plt.show"
      ]
    },
    {
      "cell_type": "code",
      "execution_count": null,
      "metadata": {
        "id": "4XWcZez4wlde"
      },
      "outputs": [],
      "source": [
        "import pickle\n",
        "# save the model to disk\n",
        "filename = '/content/drive/My Drive/Colab Notebooks/BLSTM+ABmodel.sav'\n",
        "pickle.dump(ABmodel, open(filename, 'wb'))"
      ]
    },
    {
      "cell_type": "markdown",
      "metadata": {
        "id": "tBMYwuDwyREN"
      },
      "source": [
        "## XGBoost Classifier"
      ]
    },
    {
      "cell_type": "code",
      "execution_count": null,
      "metadata": {
        "colab": {
          "base_uri": "https://localhost:8080/"
        },
        "id": "aQl1tvYLyREe",
        "outputId": "e998ff31-8510-4398-ec7d-d59435f9db45"
      },
      "outputs": [
        {
          "name": "stdout",
          "output_type": "stream",
          "text": [
            "It took 1042.4351859092712 milliseconds to train XGB with feature from LSTM intermidiate layer.\n",
            "\n"
          ]
        }
      ],
      "source": [
        "from xgboost import XGBClassifier\n",
        "start = time.time()\n",
        "XGBmodel = XGBClassifier().fit(intermediate_output, y_train)\n",
        "end = time.time()\n",
        "print(\"It took {} milliseconds to train XGB with feature from LSTM intermidiate layer.\\n\".format(end-start))"
      ]
    },
    {
      "cell_type": "code",
      "execution_count": null,
      "metadata": {
        "colab": {
          "base_uri": "https://localhost:8080/"
        },
        "id": "5aX3EMBZyREf",
        "outputId": "3995de82-45e2-4dd7-cee0-577cd15b3bad"
      },
      "outputs": [
        {
          "name": "stdout",
          "output_type": "stream",
          "text": [
            "It took 83.55082297325134 milliseconds to test XGB with feature from LSTM intermidiate layer.\n",
            "\n",
            "              precision    recall  f1-score   support\n",
            "\n",
            "           0       1.00      0.98      0.99    293300\n",
            "           1       0.96      0.99      0.98    122028\n",
            "\n",
            "    accuracy                           0.99    415328\n",
            "   macro avg       0.98      0.99      0.98    415328\n",
            "weighted avg       0.99      0.99      0.99    415328\n",
            "\n"
          ]
        }
      ],
      "source": [
        "from sklearn.metrics import precision_score, accuracy_score,classification_report\n",
        "start = time.time()\n",
        "xgbpred = XGBmodel.predict(intermediate_layer_model.predict(X_test))\n",
        "end = time.time()\n",
        "print(\"It took {} milliseconds to test XGB with feature from LSTM intermidiate layer.\\n\".format(end-start))\n",
        "print(classification_report(y_test, xgbpred))"
      ]
    },
    {
      "cell_type": "code",
      "execution_count": null,
      "metadata": {
        "colab": {
          "base_uri": "https://localhost:8080/"
        },
        "id": "_RThzUwoyREg",
        "outputId": "3f68bbb0-3449-4b4b-cd52-86a30c13a00d"
      },
      "outputs": [
        {
          "name": "stdout",
          "output_type": "stream",
          "text": [
            "accuracy on the train set:  0.9865082294716083\n",
            "accuracy on the test set:  0.9852165035827105\n"
          ]
        }
      ],
      "source": [
        "print('accuracy on the train set: ', accuracy_score(XGBmodel.predict(intermediate_output), y_train))\n",
        "print('accuracy on the test set: ', accuracy_score(xgbpred, y_test))"
      ]
    },
    {
      "cell_type": "code",
      "execution_count": null,
      "metadata": {
        "colab": {
          "base_uri": "https://localhost:8080/"
        },
        "id": "cUSDk-ityREg",
        "outputId": "b5142970-d5c7-4370-c2f4-07615c873ada"
      },
      "outputs": [
        {
          "name": "stderr",
          "output_type": "stream",
          "text": [
            "/usr/local/lib/python3.7/dist-packages/sklearn/utils/deprecation.py:87: FutureWarning: Function plot_confusion_matrix is deprecated; Function `plot_confusion_matrix` is deprecated in 1.0 and will be removed in 1.2. Use one of the class methods: ConfusionMatrixDisplay.from_predictions or ConfusionMatrixDisplay.from_estimator.\n",
            "  warnings.warn(msg, category=FutureWarning)\n"
          ]
        },
        {
          "data": {
            "text/plain": [
              "<sklearn.metrics._plot.confusion_matrix.ConfusionMatrixDisplay at 0x7f2640642790>"
            ]
          },
          "execution_count": 43,
          "metadata": {},
          "output_type": "execute_result"
        },
        {
          "data": {
            "image/png": "[encoded data removed]",
            "text/plain": [
              "<Figure size 432x288 with 2 Axes>"
            ]
          },
          "metadata": {},
          "output_type": "display_data"
        }
      ],
      "source": [
        "# Confusion matrix\n",
        "from sklearn.metrics import plot_confusion_matrix\n",
        "plot_confusion_matrix(XGBmodel, intermediate_layer_model.predict(X_test), y_test, display_labels=[\"legit\", \"dga\"])"
      ]
    },
    {
      "cell_type": "code",
      "execution_count": null,
      "metadata": {
        "id": "cuOai8oByREh"
      },
      "outputs": [],
      "source": [
        "from sklearn import metrics\n",
        "import matplotlib.pyplot as plt\n",
        "\n",
        "xgbpprd = XGBmodel.predict_proba(intermediate_layer_model.predict(X_test))[::,1]"
      ]
    },
    {
      "cell_type": "code",
      "execution_count": null,
      "metadata": {
        "id": "PAXt8z5ayREh"
      },
      "outputs": [],
      "source": [
        "fpr,tpr, _ = metrics.roc_curve(y_test,xgbpprd)\n",
        "auc = metrics.roc_auc_score(y_test,xgbpprd)"
      ]
    },
    {
      "cell_type": "code",
      "execution_count": null,
      "metadata": {
        "colab": {
          "base_uri": "https://localhost:8080/"
        },
        "id": "Ci0bwaDbyREi",
        "outputId": "578daa45-5cf9-431f-8e50-e86a7138b762"
      },
      "outputs": [
        {
          "name": "stdout",
          "output_type": "stream",
          "text": [
            "0.9984580275411686\n"
          ]
        }
      ],
      "source": [
        "print(auc)"
      ]
    },
    {
      "cell_type": "code",
      "execution_count": null,
      "metadata": {
        "colab": {
          "base_uri": "https://localhost:8080/"
        },
        "id": "dmeT0PqeyREi",
        "outputId": "cfbb922a-46d3-4072-8dc2-51e49d2d5893"
      },
      "outputs": [
        {
          "data": {
            "text/plain": [
              "<function matplotlib.pyplot.show>"
            ]
          },
          "execution_count": 47,
          "metadata": {},
          "output_type": "execute_result"
        },
        {
          "data": {
            "image/png": "[encoded data removed]",
            "text/plain": [
              "<Figure size 432x288 with 1 Axes>"
            ]
          },
          "metadata": {},
          "output_type": "display_data"
        }
      ],
      "source": [
        "plt.title('Receiver Operating Characterstic - LSTM+XGB')\n",
        "plt.plot(fpr,tpr,label= \"AUC = %0.5f\" % (auc))\n",
        "plt.ylabel('True Posetive Rate')\n",
        "plt.xlabel('False Posetive Rate')\n",
        "plt.show"
      ]
    },
    {
      "cell_type": "code",
      "execution_count": null,
      "metadata": {
        "id": "_A2FzgYuyREi"
      },
      "outputs": [],
      "source": [
        "import pickle\n",
        "# save the model to disk\n",
        "filename = '/content/drive/My Drive/Colab Notebooks/BLSTM+XGBmodel.sav'\n",
        "pickle.dump(XGBmodel, open(filename, 'wb'))"
      ]
    },
    {
      "cell_type": "markdown",
      "metadata": {
        "id": "3VYqXZFhLusC"
      },
      "source": [
        "## Logistic Regression"
      ]
    },
    {
      "cell_type": "code",
      "execution_count": null,
      "metadata": {
        "colab": {
          "base_uri": "https://localhost:8080/"
        },
        "id": "j0jWAfV7LusC",
        "outputId": "c50e515a-4c3e-4ea2-d84b-338d486af5dd"
      },
      "outputs": [
        {
          "name": "stdout",
          "output_type": "stream",
          "text": [
            "It took 34.19720220565796 milliseconds to train LR with feature from LSTM intermidiate layer.\n",
            "\n"
          ]
        },
        {
          "name": "stderr",
          "output_type": "stream",
          "text": [
            "/usr/local/lib/python3.7/dist-packages/sklearn/linear_model/_logistic.py:818: ConvergenceWarning: lbfgs failed to converge (status=1):\n",
            "STOP: TOTAL NO. of ITERATIONS REACHED LIMIT.\n",
            "\n",
            "Increase the number of iterations (max_iter) or scale the data as shown in:\n",
            "    https://scikit-learn.org/stable/modules/preprocessing.html\n",
            "Please also refer to the documentation for alternative solver options:\n",
            "    https://scikit-learn.org/stable/modules/linear_model.html#logistic-regression\n",
            "  extra_warning_msg=_LOGISTIC_SOLVER_CONVERGENCE_MSG,\n"
          ]
        }
      ],
      "source": [
        "from sklearn.linear_model import LogisticRegression\n",
        "start = time.time()\n",
        "Lreg = LogisticRegression().fit(intermediate_output, y_train)\n",
        "end = time.time()\n",
        "print(\"It took {} milliseconds to train LR with feature from LSTM intermidiate layer.\\n\".format(end-start))"
      ]
    },
    {
      "cell_type": "code",
      "execution_count": null,
      "metadata": {
        "colab": {
          "base_uri": "https://localhost:8080/"
        },
        "id": "PeI00gkDLusE",
        "outputId": "317bd34d-0ba9-4253-9589-f1dc17c30b26"
      },
      "outputs": [
        {
          "name": "stdout",
          "output_type": "stream",
          "text": [
            "It took 74.13133192062378 milliseconds to test LR with feature from LSTM intermidiate layer.\n",
            "\n",
            "              precision    recall  f1-score   support\n",
            "\n",
            "           0       1.00      0.98      0.99    293300\n",
            "           1       0.96      0.99      0.98    122028\n",
            "\n",
            "    accuracy                           0.99    415328\n",
            "   macro avg       0.98      0.99      0.98    415328\n",
            "weighted avg       0.99      0.99      0.99    415328\n",
            "\n"
          ]
        }
      ],
      "source": [
        "from sklearn.metrics import precision_score, accuracy_score,classification_report\n",
        "start = time.time()\n",
        "Lregy_pred = Lreg.predict(intermediate_layer_model.predict(X_test))\n",
        "end = time.time()\n",
        "print(\"It took {} milliseconds to test LR with feature from LSTM intermidiate layer.\\n\".format(end-start))\n",
        "print(classification_report(y_test, Lregy_pred))"
      ]
    },
    {
      "cell_type": "code",
      "execution_count": null,
      "metadata": {
        "colab": {
          "base_uri": "https://localhost:8080/"
        },
        "id": "CxmPUO5byMvG",
        "outputId": "5152fd57-11ec-40e2-d5fe-6ac4650c0b24"
      },
      "outputs": [
        {
          "name": "stdout",
          "output_type": "stream",
          "text": [
            "accuracy on the train set:  0.986399710844856\n",
            "accuracy on the test set:  0.9852116881115648\n"
          ]
        }
      ],
      "source": [
        "print('accuracy on the train set: ', accuracy_score(Lreg.predict(intermediate_output), y_train))\n",
        "print('accuracy on the test set: ', accuracy_score(Lregy_pred, y_test))"
      ]
    },
    {
      "cell_type": "code",
      "execution_count": null,
      "metadata": {
        "colab": {
          "base_uri": "https://localhost:8080/"
        },
        "id": "JPi1YnnFyMvI",
        "outputId": "1f30448f-a4a0-4c94-ab80-bde84813eca9"
      },
      "outputs": [
        {
          "name": "stderr",
          "output_type": "stream",
          "text": [
            "/usr/local/lib/python3.7/dist-packages/sklearn/utils/deprecation.py:87: FutureWarning: Function plot_confusion_matrix is deprecated; Function `plot_confusion_matrix` is deprecated in 1.0 and will be removed in 1.2. Use one of the class methods: ConfusionMatrixDisplay.from_predictions or ConfusionMatrixDisplay.from_estimator.\n",
            "  warnings.warn(msg, category=FutureWarning)\n"
          ]
        },
        {
          "data": {
            "text/plain": [
              "<sklearn.metrics._plot.confusion_matrix.ConfusionMatrixDisplay at 0x7f264072d810>"
            ]
          },
          "execution_count": 52,
          "metadata": {},
          "output_type": "execute_result"
        },
        {
          "data": {
            "image/png": "[encoded data removed]",
            "text/plain": [
              "<Figure size 432x288 with 2 Axes>"
            ]
          },
          "metadata": {},
          "output_type": "display_data"
        }
      ],
      "source": [
        "# Confusion matrix\n",
        "from sklearn.metrics import plot_confusion_matrix\n",
        "plot_confusion_matrix(Lreg, intermediate_layer_model.predict(X_test), y_test, display_labels=[\"legit\", \"dga\"])"
      ]
    },
    {
      "cell_type": "code",
      "execution_count": null,
      "metadata": {
        "id": "fu05DPTgyMvJ"
      },
      "outputs": [],
      "source": [
        "from sklearn import metrics\n",
        "import matplotlib.pyplot as plt\n",
        "\n",
        "lrpprd = Lreg.predict_proba(intermediate_layer_model.predict(X_test))[::,1]"
      ]
    },
    {
      "cell_type": "code",
      "execution_count": null,
      "metadata": {
        "id": "A3T3MTu7yMvK"
      },
      "outputs": [],
      "source": [
        "fpr,tpr, _ = metrics.roc_curve(y_test,lrpprd)\n",
        "auc = metrics.roc_auc_score(y_test,lrpprd)"
      ]
    },
    {
      "cell_type": "code",
      "execution_count": null,
      "metadata": {
        "colab": {
          "base_uri": "https://localhost:8080/"
        },
        "id": "sLIoOxqlyMvK",
        "outputId": "048c549b-90ca-4a86-dd37-b6e7003295fc"
      },
      "outputs": [
        {
          "name": "stdout",
          "output_type": "stream",
          "text": [
            "0.998478933283448\n"
          ]
        }
      ],
      "source": [
        "print(auc)"
      ]
    },
    {
      "cell_type": "code",
      "execution_count": null,
      "metadata": {
        "colab": {
          "base_uri": "https://localhost:8080/"
        },
        "id": "D6eEHK_2yMvL",
        "outputId": "4ded8173-b348-493c-a1e4-91cd9fd6f0a8"
      },
      "outputs": [
        {
          "data": {
            "text/plain": [
              "<function matplotlib.pyplot.show>"
            ]
          },
          "execution_count": 56,
          "metadata": {},
          "output_type": "execute_result"
        },
        {
          "data": {
            "image/png": "[encoded data removed]",
            "text/plain": [
              "<Figure size 432x288 with 1 Axes>"
            ]
          },
          "metadata": {},
          "output_type": "display_data"
        }
      ],
      "source": [
        "plt.title('Receiver Operating Characterstic - LSTM+LR')\n",
        "plt.plot(fpr,tpr,label= \"AUC = %0.5f\" % (auc))\n",
        "plt.ylabel('True Posetive Rate')\n",
        "plt.xlabel('False Posetive Rate')\n",
        "plt.show"
      ]
    },
    {
      "cell_type": "code",
      "execution_count": null,
      "metadata": {
        "id": "_ofui4vtyMvL"
      },
      "outputs": [],
      "source": [
        "import pickle\n",
        "# save the model to disk\n",
        "filename = '/content/drive/My Drive/Colab Notebooks/BLSTM+LRmodel.sav'\n",
        "pickle.dump(Lreg, open(filename, 'wb'))"
      ]
    },
    {
      "cell_type": "markdown",
      "metadata": {
        "id": "gIdkTM2TQKk4"
      },
      "source": [
        "## Naive Bayes"
      ]
    },
    {
      "cell_type": "code",
      "execution_count": null,
      "metadata": {
        "colab": {
          "base_uri": "https://localhost:8080/"
        },
        "id": "I89r9btmQKk5",
        "outputId": "4bfe3b34-2fdb-4c9a-9d65-4ecbd5bc2094"
      },
      "outputs": [
        {
          "output_type": "stream",
          "name": "stdout",
          "text": [
            "It took 1.0908937454223633 milliseconds to train NB with feature from LSTM intermidiate layer.\n",
            "\n"
          ]
        }
      ],
      "source": [
        "import time\n",
        "from sklearn.naive_bayes import GaussianNB\n",
        "start = time.time()\n",
        "gnb = GaussianNB().fit(intermediate_output, y_train)\n",
        "end = time.time()\n",
        "print(\"It took {} milliseconds to train NB with feature from LSTM intermidiate layer.\\n\".format(end-start))"
      ]
    },
    {
      "cell_type": "code",
      "source": [
        "from sklearn.metrics import precision_score, accuracy_score,classification_report\n",
        "start = time.time()\n",
        "gnb_pred = gnb.predict(intermediate_layer_model.predict(X_test))\n",
        "end = time.time()\n",
        "print(\"It took {} milliseconds to test NB with feature from LSTM intermidiate layer.\\n\".format(end-start))\n",
        "print(classification_report(y_test, gnb_pred,labels=['DGA', 'Non-DGA']))"
      ],
      "metadata": {
        "colab": {
          "base_uri": "https://localhost:8080/",
          "height": 435
        },
        "id": "8Ro6BZpVAENR",
        "outputId": "e1622767-05cf-41ae-dffc-2e196b06a4be"
      },
      "execution_count": null,
      "outputs": [
        {
          "output_type": "stream",
          "name": "stdout",
          "text": [
            "It took 86.34828090667725 milliseconds to test NB with feature from LSTM intermidiate layer.\n",
            "\n"
          ]
        },
        {
          "output_type": "stream",
          "name": "stderr",
          "text": [
            "/usr/local/lib/python3.7/dist-packages/numpy/lib/arraysetops.py:604: FutureWarning: elementwise comparison failed; returning scalar instead, but in the future will perform elementwise comparison\n",
            "  mask &= (ar1 != a)\n"
          ]
        },
        {
          "output_type": "error",
          "ename": "TypeError",
          "evalue": "ignored",
          "traceback": [
            "\u001b[0;31m---------------------------------------------------------------------------\u001b[0m",
            "\u001b[0;31mTypeError\u001b[0m                                 Traceback (most recent call last)",
            "\u001b[0;32m<ipython-input-12-66d05fc4a318>\u001b[0m in \u001b[0;36m<module>\u001b[0;34m()\u001b[0m\n\u001b[1;32m      4\u001b[0m \u001b[0mend\u001b[0m \u001b[0;34m=\u001b[0m \u001b[0mtime\u001b[0m\u001b[0;34m.\u001b[0m\u001b[0mtime\u001b[0m\u001b[0;34m(\u001b[0m\u001b[0;34m)\u001b[0m\u001b[0;34m\u001b[0m\u001b[0;34m\u001b[0m\u001b[0m\n\u001b[1;32m      5\u001b[0m \u001b[0mprint\u001b[0m\u001b[0;34m(\u001b[0m\u001b[0;34m\"It took {} milliseconds to test NB with feature from LSTM intermidiate layer.\\n\"\u001b[0m\u001b[0;34m.\u001b[0m\u001b[0mformat\u001b[0m\u001b[0;34m(\u001b[0m\u001b[0mend\u001b[0m\u001b[0;34m-\u001b[0m\u001b[0mstart\u001b[0m\u001b[0;34m)\u001b[0m\u001b[0;34m)\u001b[0m\u001b[0;34m\u001b[0m\u001b[0;34m\u001b[0m\u001b[0m\n\u001b[0;32m----> 6\u001b[0;31m \u001b[0mprint\u001b[0m\u001b[0;34m(\u001b[0m\u001b[0mclassification_report\u001b[0m\u001b[0;34m(\u001b[0m\u001b[0my_test\u001b[0m\u001b[0;34m,\u001b[0m \u001b[0mgnb_pred\u001b[0m\u001b[0;34m,\u001b[0m\u001b[0mlabels\u001b[0m\u001b[0;34m=\u001b[0m\u001b[0;34m[\u001b[0m\u001b[0;34m'DGA'\u001b[0m\u001b[0;34m,\u001b[0m \u001b[0;34m'Non-DGA'\u001b[0m\u001b[0;34m]\u001b[0m\u001b[0;34m)\u001b[0m\u001b[0;34m)\u001b[0m\u001b[0;34m\u001b[0m\u001b[0;34m\u001b[0m\u001b[0m\n\u001b[0m",
            "\u001b[0;32m/usr/local/lib/python3.7/dist-packages/sklearn/metrics/_classification.py\u001b[0m in \u001b[0;36mclassification_report\u001b[0;34m(y_true, y_pred, labels, target_names, sample_weight, digits, output_dict, zero_division)\u001b[0m\n\u001b[1;32m   2146\u001b[0m         \u001b[0maverage\u001b[0m\u001b[0;34m=\u001b[0m\u001b[0;32mNone\u001b[0m\u001b[0;34m,\u001b[0m\u001b[0;34m\u001b[0m\u001b[0;34m\u001b[0m\u001b[0m\n\u001b[1;32m   2147\u001b[0m         \u001b[0msample_weight\u001b[0m\u001b[0;34m=\u001b[0m\u001b[0msample_weight\u001b[0m\u001b[0;34m,\u001b[0m\u001b[0;34m\u001b[0m\u001b[0;34m\u001b[0m\u001b[0m\n\u001b[0;32m-> 2148\u001b[0;31m         \u001b[0mzero_division\u001b[0m\u001b[0;34m=\u001b[0m\u001b[0mzero_division\u001b[0m\u001b[0;34m,\u001b[0m\u001b[0;34m\u001b[0m\u001b[0;34m\u001b[0m\u001b[0m\n\u001b[0m\u001b[1;32m   2149\u001b[0m     )\n\u001b[1;32m   2150\u001b[0m     \u001b[0mrows\u001b[0m \u001b[0;34m=\u001b[0m \u001b[0mzip\u001b[0m\u001b[0;34m(\u001b[0m\u001b[0mtarget_names\u001b[0m\u001b[0;34m,\u001b[0m \u001b[0mp\u001b[0m\u001b[0;34m,\u001b[0m \u001b[0mr\u001b[0m\u001b[0;34m,\u001b[0m \u001b[0mf1\u001b[0m\u001b[0;34m,\u001b[0m \u001b[0ms\u001b[0m\u001b[0;34m)\u001b[0m\u001b[0;34m\u001b[0m\u001b[0;34m\u001b[0m\u001b[0m\n",
            "\u001b[0;32m/usr/local/lib/python3.7/dist-packages/sklearn/metrics/_classification.py\u001b[0m in \u001b[0;36mprecision_recall_fscore_support\u001b[0;34m(y_true, y_pred, beta, labels, pos_label, average, warn_for, sample_weight, zero_division)\u001b[0m\n\u001b[1;32m   1551\u001b[0m         \u001b[0msample_weight\u001b[0m\u001b[0;34m=\u001b[0m\u001b[0msample_weight\u001b[0m\u001b[0;34m,\u001b[0m\u001b[0;34m\u001b[0m\u001b[0;34m\u001b[0m\u001b[0m\n\u001b[1;32m   1552\u001b[0m         \u001b[0mlabels\u001b[0m\u001b[0;34m=\u001b[0m\u001b[0mlabels\u001b[0m\u001b[0;34m,\u001b[0m\u001b[0;34m\u001b[0m\u001b[0;34m\u001b[0m\u001b[0m\n\u001b[0;32m-> 1553\u001b[0;31m         \u001b[0msamplewise\u001b[0m\u001b[0;34m=\u001b[0m\u001b[0msamplewise\u001b[0m\u001b[0;34m,\u001b[0m\u001b[0;34m\u001b[0m\u001b[0;34m\u001b[0m\u001b[0m\n\u001b[0m\u001b[1;32m   1554\u001b[0m     )\n\u001b[1;32m   1555\u001b[0m     \u001b[0mtp_sum\u001b[0m \u001b[0;34m=\u001b[0m \u001b[0mMCM\u001b[0m\u001b[0;34m[\u001b[0m\u001b[0;34m:\u001b[0m\u001b[0;34m,\u001b[0m \u001b[0;36m1\u001b[0m\u001b[0;34m,\u001b[0m \u001b[0;36m1\u001b[0m\u001b[0;34m]\u001b[0m\u001b[0;34m\u001b[0m\u001b[0;34m\u001b[0m\u001b[0m\n",
            "\u001b[0;32m/usr/local/lib/python3.7/dist-packages/sklearn/metrics/_classification.py\u001b[0m in \u001b[0;36mmultilabel_confusion_matrix\u001b[0;34m(y_true, y_pred, sample_weight, labels, samplewise)\u001b[0m\n\u001b[1;32m    504\u001b[0m         \u001b[0mle\u001b[0m \u001b[0;34m=\u001b[0m \u001b[0mLabelEncoder\u001b[0m\u001b[0;34m(\u001b[0m\u001b[0;34m)\u001b[0m\u001b[0;34m\u001b[0m\u001b[0;34m\u001b[0m\u001b[0m\n\u001b[1;32m    505\u001b[0m         \u001b[0mle\u001b[0m\u001b[0;34m.\u001b[0m\u001b[0mfit\u001b[0m\u001b[0;34m(\u001b[0m\u001b[0mlabels\u001b[0m\u001b[0;34m)\u001b[0m\u001b[0;34m\u001b[0m\u001b[0;34m\u001b[0m\u001b[0m\n\u001b[0;32m--> 506\u001b[0;31m         \u001b[0my_true\u001b[0m \u001b[0;34m=\u001b[0m \u001b[0mle\u001b[0m\u001b[0;34m.\u001b[0m\u001b[0mtransform\u001b[0m\u001b[0;34m(\u001b[0m\u001b[0my_true\u001b[0m\u001b[0;34m)\u001b[0m\u001b[0;34m\u001b[0m\u001b[0;34m\u001b[0m\u001b[0m\n\u001b[0m\u001b[1;32m    507\u001b[0m         \u001b[0my_pred\u001b[0m \u001b[0;34m=\u001b[0m \u001b[0mle\u001b[0m\u001b[0;34m.\u001b[0m\u001b[0mtransform\u001b[0m\u001b[0;34m(\u001b[0m\u001b[0my_pred\u001b[0m\u001b[0;34m)\u001b[0m\u001b[0;34m\u001b[0m\u001b[0;34m\u001b[0m\u001b[0m\n\u001b[1;32m    508\u001b[0m         \u001b[0msorted_labels\u001b[0m \u001b[0;34m=\u001b[0m \u001b[0mle\u001b[0m\u001b[0;34m.\u001b[0m\u001b[0mclasses_\u001b[0m\u001b[0;34m\u001b[0m\u001b[0;34m\u001b[0m\u001b[0m\n",
            "\u001b[0;32m/usr/local/lib/python3.7/dist-packages/sklearn/preprocessing/_label.py\u001b[0m in \u001b[0;36mtransform\u001b[0;34m(self, y)\u001b[0m\n\u001b[1;32m    136\u001b[0m             \u001b[0;32mreturn\u001b[0m \u001b[0mnp\u001b[0m\u001b[0;34m.\u001b[0m\u001b[0marray\u001b[0m\u001b[0;34m(\u001b[0m\u001b[0;34m[\u001b[0m\u001b[0;34m]\u001b[0m\u001b[0;34m)\u001b[0m\u001b[0;34m\u001b[0m\u001b[0;34m\u001b[0m\u001b[0m\n\u001b[1;32m    137\u001b[0m \u001b[0;34m\u001b[0m\u001b[0m\n\u001b[0;32m--> 138\u001b[0;31m         \u001b[0;32mreturn\u001b[0m \u001b[0m_encode\u001b[0m\u001b[0;34m(\u001b[0m\u001b[0my\u001b[0m\u001b[0;34m,\u001b[0m \u001b[0muniques\u001b[0m\u001b[0;34m=\u001b[0m\u001b[0mself\u001b[0m\u001b[0;34m.\u001b[0m\u001b[0mclasses_\u001b[0m\u001b[0;34m)\u001b[0m\u001b[0;34m\u001b[0m\u001b[0;34m\u001b[0m\u001b[0m\n\u001b[0m\u001b[1;32m    139\u001b[0m \u001b[0;34m\u001b[0m\u001b[0m\n\u001b[1;32m    140\u001b[0m     \u001b[0;32mdef\u001b[0m \u001b[0minverse_transform\u001b[0m\u001b[0;34m(\u001b[0m\u001b[0mself\u001b[0m\u001b[0;34m,\u001b[0m \u001b[0my\u001b[0m\u001b[0;34m)\u001b[0m\u001b[0;34m:\u001b[0m\u001b[0;34m\u001b[0m\u001b[0;34m\u001b[0m\u001b[0m\n",
            "\u001b[0;32m/usr/local/lib/python3.7/dist-packages/sklearn/utils/_encode.py\u001b[0m in \u001b[0;36m_encode\u001b[0;34m(values, uniques, check_unknown)\u001b[0m\n\u001b[1;32m    185\u001b[0m     \u001b[0;32melse\u001b[0m\u001b[0;34m:\u001b[0m\u001b[0;34m\u001b[0m\u001b[0;34m\u001b[0m\u001b[0m\n\u001b[1;32m    186\u001b[0m         \u001b[0;32mif\u001b[0m \u001b[0mcheck_unknown\u001b[0m\u001b[0;34m:\u001b[0m\u001b[0;34m\u001b[0m\u001b[0;34m\u001b[0m\u001b[0m\n\u001b[0;32m--> 187\u001b[0;31m             \u001b[0mdiff\u001b[0m \u001b[0;34m=\u001b[0m \u001b[0m_check_unknown\u001b[0m\u001b[0;34m(\u001b[0m\u001b[0mvalues\u001b[0m\u001b[0;34m,\u001b[0m \u001b[0muniques\u001b[0m\u001b[0;34m)\u001b[0m\u001b[0;34m\u001b[0m\u001b[0;34m\u001b[0m\u001b[0m\n\u001b[0m\u001b[1;32m    188\u001b[0m             \u001b[0;32mif\u001b[0m \u001b[0mdiff\u001b[0m\u001b[0;34m:\u001b[0m\u001b[0;34m\u001b[0m\u001b[0;34m\u001b[0m\u001b[0m\n\u001b[1;32m    189\u001b[0m                 \u001b[0;32mraise\u001b[0m \u001b[0mValueError\u001b[0m\u001b[0;34m(\u001b[0m\u001b[0;34mf\"y contains previously unseen labels: {str(diff)}\"\u001b[0m\u001b[0;34m)\u001b[0m\u001b[0;34m\u001b[0m\u001b[0;34m\u001b[0m\u001b[0m\n",
            "\u001b[0;32m/usr/local/lib/python3.7/dist-packages/sklearn/utils/_encode.py\u001b[0m in \u001b[0;36m_check_unknown\u001b[0;34m(values, known_values, return_mask)\u001b[0m\n\u001b[1;32m    259\u001b[0m \u001b[0;34m\u001b[0m\u001b[0m\n\u001b[1;32m    260\u001b[0m         \u001b[0;31m# check for nans in the known_values\u001b[0m\u001b[0;34m\u001b[0m\u001b[0;34m\u001b[0m\u001b[0;34m\u001b[0m\u001b[0m\n\u001b[0;32m--> 261\u001b[0;31m         \u001b[0;32mif\u001b[0m \u001b[0mnp\u001b[0m\u001b[0;34m.\u001b[0m\u001b[0misnan\u001b[0m\u001b[0;34m(\u001b[0m\u001b[0mknown_values\u001b[0m\u001b[0;34m)\u001b[0m\u001b[0;34m.\u001b[0m\u001b[0many\u001b[0m\u001b[0;34m(\u001b[0m\u001b[0;34m)\u001b[0m\u001b[0;34m:\u001b[0m\u001b[0;34m\u001b[0m\u001b[0;34m\u001b[0m\u001b[0m\n\u001b[0m\u001b[1;32m    262\u001b[0m             \u001b[0mdiff_is_nan\u001b[0m \u001b[0;34m=\u001b[0m \u001b[0mnp\u001b[0m\u001b[0;34m.\u001b[0m\u001b[0misnan\u001b[0m\u001b[0;34m(\u001b[0m\u001b[0mdiff\u001b[0m\u001b[0;34m)\u001b[0m\u001b[0;34m\u001b[0m\u001b[0;34m\u001b[0m\u001b[0m\n\u001b[1;32m    263\u001b[0m             \u001b[0;32mif\u001b[0m \u001b[0mdiff_is_nan\u001b[0m\u001b[0;34m.\u001b[0m\u001b[0many\u001b[0m\u001b[0;34m(\u001b[0m\u001b[0;34m)\u001b[0m\u001b[0;34m:\u001b[0m\u001b[0;34m\u001b[0m\u001b[0;34m\u001b[0m\u001b[0m\n",
            "\u001b[0;31mTypeError\u001b[0m: ufunc 'isnan' not supported for the input types, and the inputs could not be safely coerced to any supported types according to the casting rule ''safe''"
          ]
        }
      ]
    },
    {
      "cell_type": "code",
      "execution_count": null,
      "metadata": {
        "colab": {
          "background_save": true
        },
        "id": "ASoFPFyxQKk5",
        "outputId": "fe35aef9-d2fc-4a22-9a42-81d4283c0c7e"
      },
      "outputs": [
        {
          "name": "stdout",
          "output_type": "stream",
          "text": [
            "It took 74.3577835559845 milliseconds to test NB with feature from LSTM intermidiate layer.\n",
            "\n",
            "              precision    recall  f1-score   support\n",
            "\n",
            "           0       0.99      0.98      0.99    293300\n",
            "           1       0.95      0.98      0.97    122028\n",
            "\n",
            "    accuracy                           0.98    415328\n",
            "   macro avg       0.97      0.98      0.98    415328\n",
            "weighted avg       0.98      0.98      0.98    415328\n",
            "\n"
          ]
        }
      ],
      "source": [
        "from sklearn.metrics import precision_score, accuracy_score,classification_report\n",
        "start = time.time()\n",
        "gnb_pred = gnb.predict(intermediate_layer_model.predict(X_test))\n",
        "end = time.time()\n",
        "print(\"It took {} milliseconds to test NB with feature from LSTM intermidiate layer.\\n\".format(end-start))\n",
        "print(classification_report(y_test, gnb_pred))"
      ]
    },
    {
      "cell_type": "code",
      "execution_count": null,
      "metadata": {
        "colab": {
          "background_save": true
        },
        "id": "SFG2gLhgyOle",
        "outputId": "d9e0642d-c582-41f2-8221-5297a60c4671"
      },
      "outputs": [
        {
          "name": "stdout",
          "output_type": "stream",
          "text": [
            "accuracy on the train set:  0.9790781214485784\n",
            "accuracy on the test set:  0.9801843362354573\n"
          ]
        }
      ],
      "source": [
        "print('accuracy on the train set: ', accuracy_score(gnb.predict(intermediate_output), y_train))\n",
        "print('accuracy on the test set: ', accuracy_score(gnb_pred, y_test))"
      ]
    },
    {
      "cell_type": "code",
      "execution_count": null,
      "metadata": {
        "colab": {
          "background_save": true
        },
        "id": "LNHiBnX4yOlf",
        "outputId": "260d659d-bd36-4d72-c9cd-7cb2745a0199"
      },
      "outputs": [
        {
          "name": "stderr",
          "output_type": "stream",
          "text": [
            "/usr/local/lib/python3.7/dist-packages/sklearn/utils/deprecation.py:87: FutureWarning: Function plot_confusion_matrix is deprecated; Function `plot_confusion_matrix` is deprecated in 1.0 and will be removed in 1.2. Use one of the class methods: ConfusionMatrixDisplay.from_predictions or ConfusionMatrixDisplay.from_estimator.\n",
            "  warnings.warn(msg, category=FutureWarning)\n"
          ]
        },
        {
          "data": {
            "text/plain": [
              "<sklearn.metrics._plot.confusion_matrix.ConfusionMatrixDisplay at 0x7f263d9fe590>"
            ]
          },
          "execution_count": null,
          "metadata": {},
          "output_type": "execute_result"
        },
        {
          "data": {
            "image/png": "[encoded data removed]",
            "text/plain": [
              "<Figure size 432x288 with 2 Axes>"
            ]
          },
          "metadata": {},
          "output_type": "display_data"
        }
      ],
      "source": [
        "# Confusion matrix\n",
        "from sklearn.metrics import plot_confusion_matrix\n",
        "plot_confusion_matrix(gnb, intermediate_layer_model.predict(X_test), y_test, display_labels=[\"legit\", \"dga\"])"
      ]
    },
    {
      "cell_type": "code",
      "execution_count": null,
      "metadata": {
        "colab": {
          "background_save": true
        },
        "id": "KfBTH2YqyOlg"
      },
      "outputs": [],
      "source": [
        "from sklearn import metrics\n",
        "import matplotlib.pyplot as plt\n",
        "\n",
        "nbpprd = gnb.predict_proba(intermediate_layer_model.predict(X_test))[::,1]"
      ]
    },
    {
      "cell_type": "code",
      "execution_count": null,
      "metadata": {
        "colab": {
          "background_save": true
        },
        "id": "Lk3E9gSxyOlg"
      },
      "outputs": [],
      "source": [
        "fpr,tpr, _ = metrics.roc_curve(y_test,nbpprd)\n",
        "auc = metrics.roc_auc_score(y_test,nbpprd)"
      ]
    },
    {
      "cell_type": "code",
      "execution_count": null,
      "metadata": {
        "colab": {
          "background_save": true
        },
        "id": "-kQKKSC6yOlh",
        "outputId": "d9ba3468-97cf-4ec6-bd91-cfe3ce918801"
      },
      "outputs": [
        {
          "name": "stdout",
          "output_type": "stream",
          "text": [
            "0.9930897349231448\n"
          ]
        }
      ],
      "source": [
        "print(auc)"
      ]
    },
    {
      "cell_type": "code",
      "execution_count": null,
      "metadata": {
        "colab": {
          "background_save": true
        },
        "id": "Je5kl6ycyOlh",
        "outputId": "91159170-d9bb-4288-b7ec-b8d959169c05"
      },
      "outputs": [
        {
          "data": {
            "text/plain": [
              "<function matplotlib.pyplot.show>"
            ]
          },
          "execution_count": null,
          "metadata": {},
          "output_type": "execute_result"
        },
        {
          "data": {
            "image/png": "[encoded data removed]",
            "text/plain": [
              "<Figure size 432x288 with 1 Axes>"
            ]
          },
          "metadata": {},
          "output_type": "display_data"
        }
      ],
      "source": [
        "plt.title('Receiver Operating Characterstic - LSTM+NB')\n",
        "plt.plot(fpr,tpr,label= \"AUC = %0.5f\" % (auc))\n",
        "plt.ylabel('True Posetive Rate')\n",
        "plt.xlabel('False Posetive Rate')\n",
        "plt.show"
      ]
    },
    {
      "cell_type": "code",
      "execution_count": null,
      "metadata": {
        "colab": {
          "background_save": true
        },
        "id": "VCIi3RXsyOli"
      },
      "outputs": [],
      "source": [
        "import pickle\n",
        "# save the model to disk\n",
        "filename = '/content/drive/My Drive/Colab Notebooks/BLSTM+NBmodel.sav'\n",
        "pickle.dump(gnb, open(filename, 'wb'))"
      ]
    },
    {
      "cell_type": "markdown",
      "metadata": {
        "id": "BYftXIGgQizL"
      },
      "source": [
        "## Random Forest Classifier"
      ]
    },
    {
      "cell_type": "code",
      "execution_count": null,
      "metadata": {
        "colab": {
          "base_uri": "https://localhost:8080/"
        },
        "id": "hToX3gJwQizM",
        "outputId": "a9608d6d-8dd5-45fe-e7c9-4f7eb0c4660a"
      },
      "outputs": [
        {
          "output_type": "stream",
          "name": "stdout",
          "text": [
            "It took 3868.60627245903 milliseconds to train RF with feature from LSTM intermidiate layer.\n",
            "\n"
          ]
        }
      ],
      "source": [
        "import time\n",
        "from sklearn.ensemble import RandomForestClassifier\n",
        "start = time.time()\n",
        "RFmodel = RandomForestClassifier().fit(intermediate_output, y_train)\n",
        "end = time.time()\n",
        "print(\"It took {} milliseconds to train RF with feature from LSTM intermidiate layer.\\n\".format(end-start))"
      ]
    },
    {
      "cell_type": "code",
      "execution_count": null,
      "metadata": {
        "colab": {
          "base_uri": "https://localhost:8080/"
        },
        "id": "B_a8hwB1QizO",
        "outputId": "9acb23b7-c835-42fc-af36-c4ee8e9b3e56"
      },
      "outputs": [
        {
          "output_type": "stream",
          "name": "stdout",
          "text": [
            "It took 90.11142206192017 milliseconds to test LR with feature from LSTM intermidiate layer.\n",
            "\n",
            "              precision    recall  f1-score   support\n",
            "\n",
            "           0       1.00      0.98      0.99    293300\n",
            "           1       0.96      0.99      0.98    122028\n",
            "\n",
            "    accuracy                           0.99    415328\n",
            "   macro avg       0.98      0.99      0.98    415328\n",
            "weighted avg       0.99      0.99      0.99    415328\n",
            "\n"
          ]
        }
      ],
      "source": [
        "from sklearn.metrics import precision_score, accuracy_score,classification_report\n",
        "start = time.time()\n",
        "RFpred = RFmodel.predict(intermediate_layer_model.predict(X_test))\n",
        "end = time.time()\n",
        "print(\"It took {} milliseconds to test LR with feature from LSTM intermidiate layer.\\n\".format(end-start))\n",
        "print(classification_report(y_test, RFpred))"
      ]
    },
    {
      "cell_type": "code",
      "execution_count": null,
      "metadata": {
        "colab": {
          "base_uri": "https://localhost:8080/"
        },
        "id": "eXMH5smPyPsO",
        "outputId": "47221037-03ec-44d7-baa4-3e54a8ab3e46"
      },
      "outputs": [
        {
          "output_type": "stream",
          "name": "stdout",
          "text": [
            "accuracy on the train set:  0.9999850466459199\n",
            "accuracy on the test set:  0.9862927613837738\n"
          ]
        }
      ],
      "source": [
        "print('accuracy on the train set: ', accuracy_score(RFmodel.predict(intermediate_output), y_train))\n",
        "print('accuracy on the test set: ', accuracy_score(RFpred, y_test))"
      ]
    },
    {
      "cell_type": "code",
      "execution_count": null,
      "metadata": {
        "colab": {
          "base_uri": "https://localhost:8080/",
          "height": 351
        },
        "id": "QNLCN_fmyPsP",
        "outputId": "1f301169-30d1-4200-e7ab-1881eef512b5"
      },
      "outputs": [
        {
          "output_type": "stream",
          "name": "stderr",
          "text": [
            "/usr/local/lib/python3.7/dist-packages/sklearn/utils/deprecation.py:87: FutureWarning: Function plot_confusion_matrix is deprecated; Function `plot_confusion_matrix` is deprecated in 1.0 and will be removed in 1.2. Use one of the class methods: ConfusionMatrixDisplay.from_predictions or ConfusionMatrixDisplay.from_estimator.\n",
            "  warnings.warn(msg, category=FutureWarning)\n"
          ]
        },
        {
          "output_type": "execute_result",
          "data": {
            "text/plain": [
              "<sklearn.metrics._plot.confusion_matrix.ConfusionMatrixDisplay at 0x7f615e3d4750>"
            ]
          },
          "metadata": {},
          "execution_count": 14
        },
        {
          "output_type": "display_data",
          "data": {
            "text/plain": [
              "<Figure size 432x288 with 2 Axes>"
            ],
            "image/png": "[encoded data removed]"
          },
          "metadata": {
            "needs_background": "light"
          }
        }
      ],
      "source": [
        "# Confusion matrix\n",
        "from sklearn.metrics import plot_confusion_matrix\n",
        "plot_confusion_matrix(RFmodel, intermediate_layer_model.predict(X_test), y_test, display_labels=[\"legit\", \"dga\"])"
      ]
    },
    {
      "cell_type": "code",
      "execution_count": null,
      "metadata": {
        "id": "7c4jLD-4yPsP"
      },
      "outputs": [],
      "source": [
        "from sklearn import metrics\n",
        "import matplotlib.pyplot as plt\n",
        "\n",
        "rfpprd = RFmodel.predict_proba(intermediate_layer_model.predict(X_test))[::,1]"
      ]
    },
    {
      "cell_type": "code",
      "execution_count": null,
      "metadata": {
        "id": "RqmfYqqCyPsQ"
      },
      "outputs": [],
      "source": [
        "fpr,tpr, _ = metrics.roc_curve(y_test,rfpprd)\n",
        "auc = metrics.roc_auc_score(y_test,rfpprd)"
      ]
    },
    {
      "cell_type": "code",
      "execution_count": null,
      "metadata": {
        "id": "7otwc0w8yPsQ",
        "colab": {
          "base_uri": "https://localhost:8080/"
        },
        "outputId": "8784d5da-20f6-44e1-b908-f251faef9c9f"
      },
      "outputs": [
        {
          "output_type": "stream",
          "name": "stdout",
          "text": [
            "0.9980344476617693\n"
          ]
        }
      ],
      "source": [
        "print(auc)"
      ]
    },
    {
      "cell_type": "code",
      "execution_count": null,
      "metadata": {
        "id": "4V7fPC9uyPsR",
        "colab": {
          "base_uri": "https://localhost:8080/",
          "height": 312
        },
        "outputId": "5d864da7-6346-401f-8747-fd0d7dc71843"
      },
      "outputs": [
        {
          "output_type": "execute_result",
          "data": {
            "text/plain": [
              "<function matplotlib.pyplot.show>"
            ]
          },
          "metadata": {},
          "execution_count": 18
        },
        {
          "output_type": "display_data",
          "data": {
            "text/plain": [
              "<Figure size 432x288 with 1 Axes>"
            ],
            "image/png": "[encoded data removed]"
          },
          "metadata": {
            "needs_background": "light"
          }
        }
      ],
      "source": [
        "plt.title('Receiver Operating Characterstic - LSTM+RF')\n",
        "plt.plot(fpr,tpr,label= \"AUC = %0.5f\" % (auc))\n",
        "plt.ylabel('True Posetive Rate')\n",
        "plt.xlabel('False Posetive Rate')\n",
        "plt.show"
      ]
    },
    {
      "cell_type": "code",
      "execution_count": null,
      "metadata": {
        "id": "LqMw0arDyPsR"
      },
      "outputs": [],
      "source": [
        "import pickle\n",
        "# save the model to disk\n",
        "filename = '/content/drive/My Drive/Colab Notebooks/BLSTM+RFmodel.sav'\n",
        "pickle.dump(RFmodel, open(filename, 'wb'))"
      ]
    },
    {
      "cell_type": "markdown",
      "metadata": {
        "id": "z1RCSPo66AN0"
      },
      "source": [
        "## Random Forest Classifier"
      ]
    },
    {
      "cell_type": "code",
      "execution_count": null,
      "metadata": {
        "id": "eYH1upkL6AN3"
      },
      "outputs": [],
      "source": [
        "import time\n",
        "from sklearn.ensemble import RandomForestClassifier\n",
        "start = time.time()\n",
        "RFmodel = RandomForestClassifier(n_estimators=1000).fit(intermediate_output, y_train)\n",
        "end = time.time()\n",
        "print(\"It took {} milliseconds to train RF with feature from LSTM intermidiate layer.\\n\".format(end-start))"
      ]
    },
    {
      "cell_type": "code",
      "execution_count": null,
      "metadata": {
        "colab": {
          "base_uri": "https://localhost:8080/"
        },
        "outputId": "9acb23b7-c835-42fc-af36-c4ee8e9b3e56",
        "id": "S0dTd4Zx6AN5"
      },
      "outputs": [
        {
          "output_type": "stream",
          "name": "stdout",
          "text": [
            "It took 90.11142206192017 milliseconds to test LR with feature from LSTM intermidiate layer.\n",
            "\n",
            "              precision    recall  f1-score   support\n",
            "\n",
            "           0       1.00      0.98      0.99    293300\n",
            "           1       0.96      0.99      0.98    122028\n",
            "\n",
            "    accuracy                           0.99    415328\n",
            "   macro avg       0.98      0.99      0.98    415328\n",
            "weighted avg       0.99      0.99      0.99    415328\n",
            "\n"
          ]
        }
      ],
      "source": [
        "from sklearn.metrics import precision_score, accuracy_score,classification_report\n",
        "start = time.time()\n",
        "RFpred = RFmodel.predict(intermediate_layer_model.predict(X_test))\n",
        "end = time.time()\n",
        "print(\"It took {} milliseconds to test LR with feature from LSTM intermidiate layer.\\n\".format(end-start))\n",
        "print(classification_report(y_test, RFpred))"
      ]
    },
    {
      "cell_type": "code",
      "source": [
        "from sklearn.metrics import accuracy_score, precision_score, recall_score, f1_score\n",
        "precision=precision_score(RFpred,y_test)\n",
        "recall=recall_score(RFpred,y_test)\n",
        "f1=f1_score(RFpred,y_test)\n",
        "accuracy=accuracy_score(RFpred,y_test)\n",
        "print(accuracy,precision,recall,f1)"
      ],
      "metadata": {
        "id": "pp4yAcH-64MD"
      },
      "execution_count": null,
      "outputs": []
    },
    {
      "cell_type": "code",
      "execution_count": null,
      "metadata": {
        "colab": {
          "base_uri": "https://localhost:8080/"
        },
        "outputId": "47221037-03ec-44d7-baa4-3e54a8ab3e46",
        "id": "OaU4juJq6AN6"
      },
      "outputs": [
        {
          "output_type": "stream",
          "name": "stdout",
          "text": [
            "accuracy on the train set:  0.9999850466459199\n",
            "accuracy on the test set:  0.9862927613837738\n"
          ]
        }
      ],
      "source": [
        "print('accuracy on the train set: ', accuracy_score(RFmodel.predict(intermediate_output), y_train))\n",
        "print('accuracy on the test set: ', accuracy_score(RFpred, y_test))"
      ]
    },
    {
      "cell_type": "code",
      "execution_count": null,
      "metadata": {
        "colab": {
          "base_uri": "https://localhost:8080/",
          "height": 351
        },
        "outputId": "1f301169-30d1-4200-e7ab-1881eef512b5",
        "id": "BTXQ0vMo6AN7"
      },
      "outputs": [
        {
          "output_type": "stream",
          "name": "stderr",
          "text": [
            "/usr/local/lib/python3.7/dist-packages/sklearn/utils/deprecation.py:87: FutureWarning: Function plot_confusion_matrix is deprecated; Function `plot_confusion_matrix` is deprecated in 1.0 and will be removed in 1.2. Use one of the class methods: ConfusionMatrixDisplay.from_predictions or ConfusionMatrixDisplay.from_estimator.\n",
            "  warnings.warn(msg, category=FutureWarning)\n"
          ]
        },
        {
          "output_type": "execute_result",
          "data": {
            "text/plain": [
              "<sklearn.metrics._plot.confusion_matrix.ConfusionMatrixDisplay at 0x7f615e3d4750>"
            ]
          },
          "metadata": {},
          "execution_count": 14
        },
        {
          "output_type": "display_data",
          "data": {
            "text/plain": [
              "<Figure size 432x288 with 2 Axes>"
            ],
            "image/png": "[encoded data removed]"
          },
          "metadata": {
            "needs_background": "light"
          }
        }
      ],
      "source": [
        "# Confusion matrix\n",
        "from sklearn.metrics import plot_confusion_matrix\n",
        "plot_confusion_matrix(RFmodel, intermediate_layer_model.predict(X_test), y_test, display_labels=[\"legit\", \"dga\"])"
      ]
    },
    {
      "cell_type": "code",
      "execution_count": null,
      "metadata": {
        "id": "CruerMwy6AN8"
      },
      "outputs": [],
      "source": [
        "from sklearn import metrics\n",
        "import matplotlib.pyplot as plt\n",
        "\n",
        "rfpprd = RFmodel.predict_proba(intermediate_layer_model.predict(X_test))[::,1]"
      ]
    },
    {
      "cell_type": "code",
      "execution_count": null,
      "metadata": {
        "id": "5b86ZS1P6AN9"
      },
      "outputs": [],
      "source": [
        "fpr,tpr, _ = metrics.roc_curve(y_test,rfpprd)\n",
        "auc = metrics.roc_auc_score(y_test,rfpprd)"
      ]
    },
    {
      "cell_type": "code",
      "execution_count": null,
      "metadata": {
        "colab": {
          "base_uri": "https://localhost:8080/"
        },
        "outputId": "8784d5da-20f6-44e1-b908-f251faef9c9f",
        "id": "txss3BZL6AN9"
      },
      "outputs": [
        {
          "output_type": "stream",
          "name": "stdout",
          "text": [
            "0.9980344476617693\n"
          ]
        }
      ],
      "source": [
        "print(auc)"
      ]
    },
    {
      "cell_type": "code",
      "execution_count": null,
      "metadata": {
        "colab": {
          "base_uri": "https://localhost:8080/",
          "height": 312
        },
        "outputId": "5d864da7-6346-401f-8747-fd0d7dc71843",
        "id": "pdZYy-AW6AN-"
      },
      "outputs": [
        {
          "output_type": "execute_result",
          "data": {
            "text/plain": [
              "<function matplotlib.pyplot.show>"
            ]
          },
          "metadata": {},
          "execution_count": 18
        },
        {
          "output_type": "display_data",
          "data": {
            "text/plain": [
              "<Figure size 432x288 with 1 Axes>"
            ],
            "image/png": "[encoded data removed]"
          },
          "metadata": {
            "needs_background": "light"
          }
        }
      ],
      "source": [
        "plt.title('Receiver Operating Characterstic - LSTM+RF')\n",
        "plt.plot(fpr,tpr,label= \"AUC = %0.5f\" % (auc))\n",
        "plt.ylabel('True Posetive Rate')\n",
        "plt.xlabel('False Posetive Rate')\n",
        "plt.show"
      ]
    },
    {
      "cell_type": "code",
      "execution_count": null,
      "metadata": {
        "id": "8XnnR7sA6AN_"
      },
      "outputs": [],
      "source": [
        "import pickle\n",
        "# save the model to disk\n",
        "filename = '/content/drive/My Drive/Colab Notebooks/BLSTM+RFmodel.sav'\n",
        "pickle.dump(RFmodel, open(filename, 'wb'))"
      ]
    }
  ],
  "metadata": {
    "colab": {
      "collapsed_sections": [],
      "machine_shape": "hm",
      "provenance": []
    },
    "gpuClass": "standard",
    "kernelspec": {
      "display_name": "Python 3",
      "name": "python3"
    }
  },
  "nbformat": 4,
  "nbformat_minor": 0
}