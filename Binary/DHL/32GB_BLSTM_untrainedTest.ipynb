{
 "cells": [
  {
   "cell_type": "code",
   "execution_count": null,
   "metadata": {
    "id": "blwR7ARVeBNY"
   },
   "outputs": [],
   "source": [
    "import pandas as pd\n",
    "import numpy as np\n",
    "import math\n",
    "import collections\n",
    "import matplotlib.pyplot as plt\n",
    "from collections import Counter\n",
    "from sklearn.model_selection import train_test_split\n",
    "from sklearn.model_selection import GridSearchCV"
   ]
  },
  {
   "cell_type": "code",
   "execution_count": null,
   "metadata": {
    "colab": {
     "base_uri": "https://localhost:8080/"
    },
    "id": "-miIBab7lnn8",
    "outputId": "a8010950-5717-495c-b060-c6e95b7cd0e7"
   },
   "outputs": [
    {
     "name": "stdout",
     "output_type": "stream",
     "text": [
      "Mounted at /content/drive\n"
     ]
    }
   ],
   "source": [
    "from google.colab import drive\n",
    "drive.mount('/content/drive')"
   ]
  },
  {
   "cell_type": "markdown",
   "metadata": {
    "id": "kDw7lOEfGFz8"
   },
   "source": [
    "## Binary Experiment of DHL on untrained data"
   ]
  },
  {
   "cell_type": "code",
   "execution_count": null,
   "metadata": {
    "colab": {
     "base_uri": "https://localhost:8080/",
     "height": 206
    },
    "id": "58m9ivLbGLri",
    "outputId": "3f1a84c6-a6dc-4b5d-c49c-d0ae1c112c92"
   },
   "outputs": [
    {
     "data": {
      "text/html": [
       "\n",
       "  <div id=\"df-e23fd5f7-f1d6-4162-900a-859afed42058\">\n",
       "    <div class=\"colab-df-container\">\n",
       "      <div>\n",
       "<style scoped>\n",
       "    .dataframe tbody tr th:only-of-type {\n",
       "        vertical-align: middle;\n",
       "    }\n",
       "\n",
       "    .dataframe tbody tr th {\n",
       "        vertical-align: top;\n",
       "    }\n",
       "\n",
       "    .dataframe thead th {\n",
       "        text-align: right;\n",
       "    }\n",
       "</style>\n",
       "<table border=\"1\" class=\"dataframe\">\n",
       "  <thead>\n",
       "    <tr style=\"text-align: right;\">\n",
       "      <th></th>\n",
       "      <th>domain_name</th>\n",
       "      <th>label</th>\n",
       "    </tr>\n",
       "  </thead>\n",
       "  <tbody>\n",
       "    <tr>\n",
       "      <th>0</th>\n",
       "      <td>s.w.org</td>\n",
       "      <td>legit</td>\n",
       "    </tr>\n",
       "    <tr>\n",
       "      <th>1</th>\n",
       "      <td>fonts.gstatic.com</td>\n",
       "      <td>legit</td>\n",
       "    </tr>\n",
       "    <tr>\n",
       "      <th>2</th>\n",
       "      <td>plus.google.com</td>\n",
       "      <td>legit</td>\n",
       "    </tr>\n",
       "    <tr>\n",
       "      <th>3</th>\n",
       "      <td>maps.google.com</td>\n",
       "      <td>legit</td>\n",
       "    </tr>\n",
       "    <tr>\n",
       "      <th>4</th>\n",
       "      <td>cdnjs.cloudflare.com</td>\n",
       "      <td>legit</td>\n",
       "    </tr>\n",
       "  </tbody>\n",
       "</table>\n",
       "</div>\n",
       "      <button class=\"colab-df-convert\" onclick=\"convertToInteractive('df-e23fd5f7-f1d6-4162-900a-859afed42058')\"\n",
       "              title=\"Convert this dataframe to an interactive table.\"\n",
       "              style=\"display:none;\">\n",
       "        \n",
       "  <svg xmlns=\"http://www.w3.org/2000/svg\" height=\"24px\"viewBox=\"0 0 24 24\"\n",
       "       width=\"24px\">\n",
       "    <path d=\"M0 0h24v24H0V0z\" fill=\"none\"/>\n",
       "    <path d=\"M18.56 5.44l.94 2.06.94-2.06 2.06-.94-2.06-.94-.94-2.06-.94 2.06-2.06.94zm-11 1L8.5 8.5l.94-2.06 2.06-.94-2.06-.94L8.5 2.5l-.94 2.06-2.06.94zm10 10l.94 2.06.94-2.06 2.06-.94-2.06-.94-.94-2.06-.94 2.06-2.06.94z\"/><path d=\"M17.41 7.96l-1.37-1.37c-.4-.4-.92-.59-1.43-.59-.52 0-1.04.2-1.43.59L10.3 9.45l-7.72 7.72c-.78.78-.78 2.05 0 2.83L4 21.41c.39.39.9.59 1.41.59.51 0 1.02-.2 1.41-.59l7.78-7.78 2.81-2.81c.8-.78.8-2.07 0-2.86zM5.41 20L4 18.59l7.72-7.72 1.47 1.35L5.41 20z\"/>\n",
       "  </svg>\n",
       "      </button>\n",
       "      \n",
       "  <style>\n",
       "    .colab-df-container {\n",
       "      display:flex;\n",
       "      flex-wrap:wrap;\n",
       "      gap: 12px;\n",
       "    }\n",
       "\n",
       "    .colab-df-convert {\n",
       "      background-color: #E8F0FE;\n",
       "      border: none;\n",
       "      border-radius: 50%;\n",
       "      cursor: pointer;\n",
       "      display: none;\n",
       "      fill: #1967D2;\n",
       "      height: 32px;\n",
       "      padding: 0 0 0 0;\n",
       "      width: 32px;\n",
       "    }\n",
       "\n",
       "    .colab-df-convert:hover {\n",
       "      background-color: #E2EBFA;\n",
       "      box-shadow: 0px 1px 2px rgba(60, 64, 67, 0.3), 0px 1px 3px 1px rgba(60, 64, 67, 0.15);\n",
       "      fill: #174EA6;\n",
       "    }\n",
       "\n",
       "    [theme=dark] .colab-df-convert {\n",
       "      background-color: #3B4455;\n",
       "      fill: #D2E3FC;\n",
       "    }\n",
       "\n",
       "    [theme=dark] .colab-df-convert:hover {\n",
       "      background-color: #434B5C;\n",
       "      box-shadow: 0px 1px 3px 1px rgba(0, 0, 0, 0.15);\n",
       "      filter: drop-shadow(0px 1px 2px rgba(0, 0, 0, 0.3));\n",
       "      fill: #FFFFFF;\n",
       "    }\n",
       "  </style>\n",
       "\n",
       "      <script>\n",
       "        const buttonEl =\n",
       "          document.querySelector('#df-e23fd5f7-f1d6-4162-900a-859afed42058 button.colab-df-convert');\n",
       "        buttonEl.style.display =\n",
       "          google.colab.kernel.accessAllowed ? 'block' : 'none';\n",
       "\n",
       "        async function convertToInteractive(key) {\n",
       "          const element = document.querySelector('#df-e23fd5f7-f1d6-4162-900a-859afed42058');\n",
       "          const dataTable =\n",
       "            await google.colab.kernel.invokeFunction('convertToInteractive',\n",
       "                                                     [key], {});\n",
       "          if (!dataTable) return;\n",
       "\n",
       "          const docLinkHtml = 'Like what you see? Visit the ' +\n",
       "            '<a target=\"_blank\" href=https://colab.research.google.com/notebooks/data_table.ipynb>data table notebook</a>'\n",
       "            + ' to learn more about interactive tables.';\n",
       "          element.innerHTML = '';\n",
       "          dataTable['output_type'] = 'display_data';\n",
       "          await google.colab.output.renderOutput(dataTable, element);\n",
       "          const docLink = document.createElement('div');\n",
       "          docLink.innerHTML = docLinkHtml;\n",
       "          element.appendChild(docLink);\n",
       "        }\n",
       "      </script>\n",
       "    </div>\n",
       "  </div>\n",
       "  "
      ],
      "text/plain": [
       "            domain_name  label\n",
       "0               s.w.org  legit\n",
       "1     fonts.gstatic.com  legit\n",
       "2       plus.google.com  legit\n",
       "3       maps.google.com  legit\n",
       "4  cdnjs.cloudflare.com  legit"
      ]
     },
     "execution_count": 3,
     "metadata": {},
     "output_type": "execute_result"
    }
   ],
   "source": [
    "Domain_data = pd.read_csv('/content/drive/My Drive/Colab Notebooks/untrained_domain_data.csv')\n",
    "Domain_data.drop([\"Unnamed: 0\"], axis=1, inplace=True)\n",
    "Domain_data.head()"
   ]
  },
  {
   "cell_type": "code",
   "execution_count": null,
   "metadata": {
    "colab": {
     "base_uri": "https://localhost:8080/"
    },
    "id": "urBik4YRReqA",
    "outputId": "893ccd7b-49a8-4d67-ed4b-1705f29d32d8"
   },
   "outputs": [
    {
     "name": "stdout",
     "output_type": "stream",
     "text": [
      "Looking in indexes: https://pypi.org/simple, https://us-python.pkg.dev/colab-wheels/public/simple/\n",
      "Collecting tldextract\n",
      "  Downloading tldextract-3.3.1-py3-none-any.whl (93 kB)\n",
      "\u001b[K     |████████████████████████████████| 93 kB 1.4 MB/s \n",
      "\u001b[?25hCollecting requests-file>=1.4\n",
      "  Downloading requests_file-1.5.1-py2.py3-none-any.whl (3.7 kB)\n",
      "Requirement already satisfied: requests>=2.1.0 in /usr/local/lib/python3.7/dist-packages (from tldextract) (2.23.0)\n",
      "Requirement already satisfied: idna in /usr/local/lib/python3.7/dist-packages (from tldextract) (2.10)\n",
      "Requirement already satisfied: filelock>=3.0.8 in /usr/local/lib/python3.7/dist-packages (from tldextract) (3.7.1)\n",
      "Requirement already satisfied: chardet<4,>=3.0.2 in /usr/local/lib/python3.7/dist-packages (from requests>=2.1.0->tldextract) (3.0.4)\n",
      "Requirement already satisfied: urllib3!=1.25.0,!=1.25.1,<1.26,>=1.21.1 in /usr/local/lib/python3.7/dist-packages (from requests>=2.1.0->tldextract) (1.24.3)\n",
      "Requirement already satisfied: certifi>=2017.4.17 in /usr/local/lib/python3.7/dist-packages (from requests>=2.1.0->tldextract) (2022.6.15)\n",
      "Requirement already satisfied: six in /usr/local/lib/python3.7/dist-packages (from requests-file>=1.4->tldextract) (1.15.0)\n",
      "Installing collected packages: requests-file, tldextract\n",
      "Successfully installed requests-file-1.5.1 tldextract-3.3.1\n"
     ]
    }
   ],
   "source": [
    "! pip install tldextract"
   ]
  },
  {
   "cell_type": "code",
   "execution_count": null,
   "metadata": {
    "id": "UApUvXCZXCdM"
   },
   "outputs": [],
   "source": [
    "def entropy(domain_name):\n",
    "    \"\"\" Function which computes the entropy of a given domain name based on it's chars \"\"\"\n",
    "    elements, length = Counter(domain_name), len(domain_name)    \n",
    "    \n",
    "    return -sum(element/length * math.log(element/length, 2) for element in elements.values())"
   ]
  },
  {
   "cell_type": "code",
   "execution_count": null,
   "metadata": {
    "id": "rTRFV6SvXJZd"
   },
   "outputs": [],
   "source": [
    "import tldextract\n",
    "def get_domain_name(domain):\n",
    "    \"\"\" Function which extracts domain name from subdomain name \"\"\"\n",
    "    res = tldextract.extract(domain)\n",
    "    return res.domain if len(res.domain) > len(res.subdomain) or entropy(res.domain) > entropy(res.subdomain) else res.subdomain\n",
    "\n",
    "Domain_data[\"domain\"] = Domain_data[\"domain_name\"].apply(lambda domain: get_domain_name(domain))"
   ]
  },
  {
   "cell_type": "code",
   "execution_count": null,
   "metadata": {
    "colab": {
     "base_uri": "https://localhost:8080/",
     "height": 206
    },
    "id": "AhJH6xZbnyEx",
    "outputId": "9e21980e-9b23-4991-9421-67af5031e55f"
   },
   "outputs": [
    {
     "data": {
      "text/html": [
       "\n",
       "  <div id=\"df-ba04f890-1eb9-432e-a9c7-59d6d20d6e80\">\n",
       "    <div class=\"colab-df-container\">\n",
       "      <div>\n",
       "<style scoped>\n",
       "    .dataframe tbody tr th:only-of-type {\n",
       "        vertical-align: middle;\n",
       "    }\n",
       "\n",
       "    .dataframe tbody tr th {\n",
       "        vertical-align: top;\n",
       "    }\n",
       "\n",
       "    .dataframe thead th {\n",
       "        text-align: right;\n",
       "    }\n",
       "</style>\n",
       "<table border=\"1\" class=\"dataframe\">\n",
       "  <thead>\n",
       "    <tr style=\"text-align: right;\">\n",
       "      <th></th>\n",
       "      <th>domain_name</th>\n",
       "      <th>label</th>\n",
       "      <th>domain</th>\n",
       "    </tr>\n",
       "  </thead>\n",
       "  <tbody>\n",
       "    <tr>\n",
       "      <th>0</th>\n",
       "      <td>s.w.org</td>\n",
       "      <td>legit</td>\n",
       "      <td>s</td>\n",
       "    </tr>\n",
       "    <tr>\n",
       "      <th>1</th>\n",
       "      <td>fonts.gstatic.com</td>\n",
       "      <td>legit</td>\n",
       "      <td>gstatic</td>\n",
       "    </tr>\n",
       "    <tr>\n",
       "      <th>2</th>\n",
       "      <td>plus.google.com</td>\n",
       "      <td>legit</td>\n",
       "      <td>google</td>\n",
       "    </tr>\n",
       "    <tr>\n",
       "      <th>3</th>\n",
       "      <td>maps.google.com</td>\n",
       "      <td>legit</td>\n",
       "      <td>google</td>\n",
       "    </tr>\n",
       "    <tr>\n",
       "      <th>4</th>\n",
       "      <td>cdnjs.cloudflare.com</td>\n",
       "      <td>legit</td>\n",
       "      <td>cloudflare</td>\n",
       "    </tr>\n",
       "  </tbody>\n",
       "</table>\n",
       "</div>\n",
       "      <button class=\"colab-df-convert\" onclick=\"convertToInteractive('df-ba04f890-1eb9-432e-a9c7-59d6d20d6e80')\"\n",
       "              title=\"Convert this dataframe to an interactive table.\"\n",
       "              style=\"display:none;\">\n",
       "        \n",
       "  <svg xmlns=\"http://www.w3.org/2000/svg\" height=\"24px\"viewBox=\"0 0 24 24\"\n",
       "       width=\"24px\">\n",
       "    <path d=\"M0 0h24v24H0V0z\" fill=\"none\"/>\n",
       "    <path d=\"M18.56 5.44l.94 2.06.94-2.06 2.06-.94-2.06-.94-.94-2.06-.94 2.06-2.06.94zm-11 1L8.5 8.5l.94-2.06 2.06-.94-2.06-.94L8.5 2.5l-.94 2.06-2.06.94zm10 10l.94 2.06.94-2.06 2.06-.94-2.06-.94-.94-2.06-.94 2.06-2.06.94z\"/><path d=\"M17.41 7.96l-1.37-1.37c-.4-.4-.92-.59-1.43-.59-.52 0-1.04.2-1.43.59L10.3 9.45l-7.72 7.72c-.78.78-.78 2.05 0 2.83L4 21.41c.39.39.9.59 1.41.59.51 0 1.02-.2 1.41-.59l7.78-7.78 2.81-2.81c.8-.78.8-2.07 0-2.86zM5.41 20L4 18.59l7.72-7.72 1.47 1.35L5.41 20z\"/>\n",
       "  </svg>\n",
       "      </button>\n",
       "      \n",
       "  <style>\n",
       "    .colab-df-container {\n",
       "      display:flex;\n",
       "      flex-wrap:wrap;\n",
       "      gap: 12px;\n",
       "    }\n",
       "\n",
       "    .colab-df-convert {\n",
       "      background-color: #E8F0FE;\n",
       "      border: none;\n",
       "      border-radius: 50%;\n",
       "      cursor: pointer;\n",
       "      display: none;\n",
       "      fill: #1967D2;\n",
       "      height: 32px;\n",
       "      padding: 0 0 0 0;\n",
       "      width: 32px;\n",
       "    }\n",
       "\n",
       "    .colab-df-convert:hover {\n",
       "      background-color: #E2EBFA;\n",
       "      box-shadow: 0px 1px 2px rgba(60, 64, 67, 0.3), 0px 1px 3px 1px rgba(60, 64, 67, 0.15);\n",
       "      fill: #174EA6;\n",
       "    }\n",
       "\n",
       "    [theme=dark] .colab-df-convert {\n",
       "      background-color: #3B4455;\n",
       "      fill: #D2E3FC;\n",
       "    }\n",
       "\n",
       "    [theme=dark] .colab-df-convert:hover {\n",
       "      background-color: #434B5C;\n",
       "      box-shadow: 0px 1px 3px 1px rgba(0, 0, 0, 0.15);\n",
       "      filter: drop-shadow(0px 1px 2px rgba(0, 0, 0, 0.3));\n",
       "      fill: #FFFFFF;\n",
       "    }\n",
       "  </style>\n",
       "\n",
       "      <script>\n",
       "        const buttonEl =\n",
       "          document.querySelector('#df-ba04f890-1eb9-432e-a9c7-59d6d20d6e80 button.colab-df-convert');\n",
       "        buttonEl.style.display =\n",
       "          google.colab.kernel.accessAllowed ? 'block' : 'none';\n",
       "\n",
       "        async function convertToInteractive(key) {\n",
       "          const element = document.querySelector('#df-ba04f890-1eb9-432e-a9c7-59d6d20d6e80');\n",
       "          const dataTable =\n",
       "            await google.colab.kernel.invokeFunction('convertToInteractive',\n",
       "                                                     [key], {});\n",
       "          if (!dataTable) return;\n",
       "\n",
       "          const docLinkHtml = 'Like what you see? Visit the ' +\n",
       "            '<a target=\"_blank\" href=https://colab.research.google.com/notebooks/data_table.ipynb>data table notebook</a>'\n",
       "            + ' to learn more about interactive tables.';\n",
       "          element.innerHTML = '';\n",
       "          dataTable['output_type'] = 'display_data';\n",
       "          await google.colab.output.renderOutput(dataTable, element);\n",
       "          const docLink = document.createElement('div');\n",
       "          docLink.innerHTML = docLinkHtml;\n",
       "          element.appendChild(docLink);\n",
       "        }\n",
       "      </script>\n",
       "    </div>\n",
       "  </div>\n",
       "  "
      ],
      "text/plain": [
       "            domain_name  label      domain\n",
       "0               s.w.org  legit           s\n",
       "1     fonts.gstatic.com  legit     gstatic\n",
       "2       plus.google.com  legit      google\n",
       "3       maps.google.com  legit      google\n",
       "4  cdnjs.cloudflare.com  legit  cloudflare"
      ]
     },
     "execution_count": 7,
     "metadata": {},
     "output_type": "execute_result"
    }
   ],
   "source": [
    "Domain_data.head()"
   ]
  },
  {
   "cell_type": "code",
   "execution_count": null,
   "metadata": {
    "id": "i_ei54QWY3gO"
   },
   "outputs": [],
   "source": [
    "from sklearn.preprocessing import LabelEncoder\n",
    "X = Domain_data.domain\n",
    "Y = Domain_data['label']"
   ]
  },
  {
   "cell_type": "code",
   "execution_count": null,
   "metadata": {
    "id": "bFlYDW419nku"
   },
   "outputs": [],
   "source": [
    "le=LabelEncoder()\n",
    "Y = le.fit_transform(Y)"
   ]
  },
  {
   "cell_type": "code",
   "execution_count": null,
   "metadata": {
    "id": "6fl2GHSlZaKu"
   },
   "outputs": [],
   "source": [
    "from keras.preprocessing.text import Tokenizer\n",
    "from keras.preprocessing import sequence\n",
    "from keras.models import Sequential\n",
    "\n",
    "#max_words = num_words\n",
    "max_len = 50\n",
    "\n",
    "# Tokenizer\n",
    "tok = Tokenizer(num_words=None, char_level=True, oov_token='UNK')\n",
    "tok.fit_on_texts(X)\n",
    "sequences = tok.texts_to_sequences(X)\n",
    "sequences_matrix = sequence.pad_sequences(sequences,padding='post',maxlen=max_len)"
   ]
  },
  {
   "cell_type": "markdown",
   "metadata": {
    "id": "CraJEpwrr3_C"
   },
   "source": [
    "### load for scores"
   ]
  },
  {
   "cell_type": "code",
   "execution_count": null,
   "metadata": {
    "id": "et43UEQdkeoV"
   },
   "outputs": [],
   "source": [
    "import pickle\n",
    "filename = '/content/drive/My Drive/Colab Notebooks/BX_train_sm.csv'\n",
    "X_train = pickle.load(open(filename, 'rb'))"
   ]
  },
  {
   "cell_type": "code",
   "execution_count": null,
   "metadata": {
    "id": "vHHQI0uvkvQb"
   },
   "outputs": [],
   "source": [
    "filename = '/content/drive/My Drive/Colab Notebooks/By_train_sm.csv'\n",
    "y_train = pickle.load(open(filename, 'rb'))"
   ]
  },
  {
   "cell_type": "code",
   "execution_count": null,
   "metadata": {
    "id": "QNhL60LxkzYN"
   },
   "outputs": [],
   "source": [
    "filename = '/content/drive/My Drive/Colab Notebooks/BX_test_sm.csv'\n",
    "X_test = pickle.load(open(filename, 'rb'))"
   ]
  },
  {
   "cell_type": "code",
   "execution_count": null,
   "metadata": {
    "id": "FUpaU9quk4iD"
   },
   "outputs": [],
   "source": [
    "filename = '/content/drive/My Drive/Colab Notebooks/By_test_sm.csv'\n",
    "y_test = pickle.load(open(filename, 'rb'))"
   ]
  },
  {
   "cell_type": "markdown",
   "metadata": {
    "id": "roWP4Q0uA0-2"
   },
   "source": [
    "### LSTM"
   ]
  },
  {
   "cell_type": "code",
   "execution_count": null,
   "metadata": {
    "id": "Rr5FLObhA0--"
   },
   "outputs": [],
   "source": [
    "import pickle\n",
    "# load the model from disk\n",
    "filename = '/content/drive/My Drive/Colab Notebooks/Blstmmodel32.sav'\n",
    "loaded_model = pickle.load(open(filename, 'rb'))"
   ]
  },
  {
   "cell_type": "code",
   "execution_count": null,
   "metadata": {
    "id": "98yljosTA0--"
   },
   "outputs": [],
   "source": [
    "from tensorflow import keras\n",
    "layer_name = 'flatten_1'\n",
    "intermediate_layer_model = keras.Model(inputs=loaded_model.input,\n",
    "                                 outputs=loaded_model.get_layer(layer_name).output)\n",
    "intermediate_output = intermediate_layer_model.predict(sequences_matrix)"
   ]
  },
  {
   "cell_type": "markdown",
   "metadata": {
    "id": "D58aL5L1A0--"
   },
   "source": [
    "#### LSTM+XGB"
   ]
  },
  {
   "cell_type": "code",
   "execution_count": null,
   "metadata": {
    "id": "RGiAQgXHA0--"
   },
   "outputs": [],
   "source": [
    "import pickle\n",
    "# load the model from disk\n",
    "filename = '/content/drive/My Drive/Colab Notebooks/BLSTM+XGBmodel.sav'\n",
    "LSTMXGBmodel = pickle.load(open(filename, 'rb'))"
   ]
  },
  {
   "cell_type": "code",
   "execution_count": null,
   "metadata": {
    "colab": {
     "base_uri": "https://localhost:8080/",
     "height": 355
    },
    "id": "C10CFEbhBnEN",
    "outputId": "e0111312-a205-42b5-a265-394f8c13f800"
   },
   "outputs": [
    {
     "name": "stderr",
     "output_type": "stream",
     "text": [
      "/usr/local/lib/python3.7/dist-packages/sklearn/utils/deprecation.py:87: FutureWarning: Function plot_confusion_matrix is deprecated; Function `plot_confusion_matrix` is deprecated in 1.0 and will be removed in 1.2. Use one of the class methods: ConfusionMatrixDisplay.from_predictions or ConfusionMatrixDisplay.from_estimator.\n",
      "  warnings.warn(msg, category=FutureWarning)\n"
     ]
    },
    {
     "data": {
      "text/plain": [
       "<sklearn.metrics._plot.confusion_matrix.ConfusionMatrixDisplay at 0x7f9b44ca2990>"
      ]
     },
     "execution_count": 14,
     "metadata": {},
     "output_type": "execute_result"
    },
    {
     "data": {
      "image/png": "[encoded data removed]",
      "text/plain": [
       "<Figure size 432x288 with 2 Axes>"
      ]
     },
     "metadata": {
      "needs_background": "light"
     },
     "output_type": "display_data"
    }
   ],
   "source": [
    "# Confusion matrix\n",
    "from sklearn.metrics import plot_confusion_matrix\n",
    "plot_confusion_matrix(LSTMXGBmodel, intermediate_output, Y, display_labels=[\"legit\", \"dga\"])"
   ]
  },
  {
   "cell_type": "code",
   "execution_count": null,
   "metadata": {
    "colab": {
     "base_uri": "https://localhost:8080/"
    },
    "id": "Ejmc8YOgA0-_",
    "outputId": "98309840-d182-4430-ce3d-3bdbd05ff532"
   },
   "outputs": [
    {
     "name": "stdout",
     "output_type": "stream",
     "text": [
      "              precision    recall  f1-score   support\n",
      "\n",
      "           0       0.71      0.36      0.48    381671\n",
      "           1       0.79      0.94      0.86    957416\n",
      "\n",
      "    accuracy                           0.78   1339087\n",
      "   macro avg       0.75      0.65      0.67   1339087\n",
      "weighted avg       0.77      0.78      0.75   1339087\n",
      "\n"
     ]
    }
   ],
   "source": [
    "from sklearn.metrics import plot_confusion_matrix,accuracy_score,classification_report\n",
    "LSTMXGBpred=LSTMXGBmodel.predict(intermediate_output)\n",
    "print(classification_report(Y,LSTMXGBpred))"
   ]
  },
  {
   "cell_type": "code",
   "execution_count": null,
   "metadata": {
    "colab": {
     "base_uri": "https://localhost:8080/"
    },
    "id": "nN9uMjW41Bne",
    "outputId": "6f0d737b-5d6e-491b-af79-07ce283e5feb"
   },
   "outputs": [
    {
     "name": "stdout",
     "output_type": "stream",
     "text": [
      "0.9431584598544416 0.7862632176541886 0.8575939749653352 0.776048904962859\n"
     ]
    }
   ],
   "source": [
    "from sklearn.metrics import accuracy_score, precision_score, recall_score, f1_score\n",
    "precision=precision_score(LSTMXGBpred,Y)\n",
    "recall=recall_score(LSTMXGBpred,Y)\n",
    "f1=f1_score(LSTMXGBpred,Y)\n",
    "accuracy=accuracy_score(LSTMXGBpred,Y)\n",
    "print(precision,recall,f1,accuracy)"
   ]
  },
  {
   "cell_type": "code",
   "execution_count": null,
   "metadata": {
    "id": "gqKVaWbyiUWK"
   },
   "outputs": [],
   "source": [
    "from sklearn import metrics\n",
    "import matplotlib.pyplot as plt\n",
    "lxgbppred = LSTMXGBmodel.predict_proba(intermediate_output)[::,1]"
   ]
  },
  {
   "cell_type": "code",
   "execution_count": null,
   "metadata": {
    "id": "JD0J2KHXiUWM"
   },
   "outputs": [],
   "source": [
    "fpr,tpr, _ = metrics.roc_curve(Y,lxgbppred)\n",
    "auc = metrics.roc_auc_score(Y,lxgbppred)"
   ]
  },
  {
   "cell_type": "code",
   "execution_count": null,
   "metadata": {
    "colab": {
     "base_uri": "https://localhost:8080/"
    },
    "id": "TQdLln0eiUWM",
    "outputId": "d8947cb0-0336-44c5-d96f-70f098328b7b"
   },
   "outputs": [
    {
     "name": "stdout",
     "output_type": "stream",
     "text": [
      "0.6417319364421444\n"
     ]
    }
   ],
   "source": [
    "print(auc)"
   ]
  },
  {
   "cell_type": "code",
   "execution_count": null,
   "metadata": {
    "colab": {
     "base_uri": "https://localhost:8080/"
    },
    "id": "1XOGSmreuyrw",
    "outputId": "28cbff3f-44b1-4008-bddd-ba37acaee916"
   },
   "outputs": [
    {
     "name": "stdout",
     "output_type": "stream",
     "text": [
      "0.9930671649129708 0.9581422562383377 0.975292148214918 0.9852165035827105\n"
     ]
    }
   ],
   "source": [
    "from sklearn.metrics import accuracy_score, precision_score, recall_score, f1_score\n",
    "precision=precision_score(LSTMXGBmodel.predict(intermediate_layer_model.predict(X_test)),y_test)\n",
    "recall=recall_score(LSTMXGBmodel.predict(intermediate_layer_model.predict(X_test)),y_test)\n",
    "f1=f1_score(LSTMXGBmodel.predict(intermediate_layer_model.predict(X_test)),y_test)\n",
    "accuracy=accuracy_score(LSTMXGBmodel.predict(intermediate_layer_model.predict(X_test)),y_test)\n",
    "print(precision,recall,f1,accuracy)"
   ]
  },
  {
   "cell_type": "markdown",
   "metadata": {
    "id": "4IY8cuWUA0-_"
   },
   "source": [
    "#### LSTM+RF"
   ]
  },
  {
   "cell_type": "code",
   "execution_count": null,
   "metadata": {
    "id": "mpN3VE1RA0-_"
   },
   "outputs": [],
   "source": [
    "import pickle\n",
    "# load the model from disk\n",
    "filename = '/content/drive/My Drive/Colab Notebooks/BLSTM+RFmodel.sav'\n",
    "LSTMRFmodel = pickle.load(open(filename, 'rb'))"
   ]
  },
  {
   "cell_type": "code",
   "execution_count": null,
   "metadata": {
    "colab": {
     "base_uri": "https://localhost:8080/",
     "height": 354
    },
    "id": "HbmvtdFaBsK-",
    "outputId": "e49fc493-70a6-4e1f-89d7-4f9cd5b9e576"
   },
   "outputs": [
    {
     "name": "stderr",
     "output_type": "stream",
     "text": [
      "/usr/local/lib/python3.7/dist-packages/sklearn/utils/deprecation.py:87: FutureWarning: Function plot_confusion_matrix is deprecated; Function `plot_confusion_matrix` is deprecated in 1.0 and will be removed in 1.2. Use one of the class methods: ConfusionMatrixDisplay.from_predictions or ConfusionMatrixDisplay.from_estimator.\n",
      "  warnings.warn(msg, category=FutureWarning)\n"
     ]
    },
    {
     "data": {
      "text/plain": [
       "<sklearn.metrics._plot.confusion_matrix.ConfusionMatrixDisplay at 0x7f9b46888ad0>"
      ]
     },
     "execution_count": 16,
     "metadata": {},
     "output_type": "execute_result"
    },
    {
     "data": {
      "image/png": "[encoded data removed]",
      "text/plain": [
       "<Figure size 432x288 with 2 Axes>"
      ]
     },
     "metadata": {
      "needs_background": "light"
     },
     "output_type": "display_data"
    }
   ],
   "source": [
    "# Confusion matrix\n",
    "from sklearn.metrics import plot_confusion_matrix\n",
    "plot_confusion_matrix(LSTMRFmodel, intermediate_output, Y, display_labels=[\"legit\", \"dga\"])"
   ]
  },
  {
   "cell_type": "code",
   "execution_count": null,
   "metadata": {
    "colab": {
     "base_uri": "https://localhost:8080/"
    },
    "id": "ma_Lu9vvA0-_",
    "outputId": "7ebba8af-de27-4802-984a-7fc7f7460bc2"
   },
   "outputs": [
    {
     "name": "stdout",
     "output_type": "stream",
     "text": [
      "              precision    recall  f1-score   support\n",
      "\n",
      "           0       0.72      0.35      0.47    381671\n",
      "           1       0.79      0.95      0.86    957416\n",
      "\n",
      "    accuracy                           0.78   1339087\n",
      "   macro avg       0.75      0.65      0.67   1339087\n",
      "weighted avg       0.77      0.78      0.75   1339087\n",
      "\n"
     ]
    }
   ],
   "source": [
    "from sklearn.metrics import plot_confusion_matrix,accuracy_score,classification_report\n",
    "LSTMRFpred=LSTMRFmodel.predict(intermediate_output)\n",
    "print(classification_report(Y,LSTMRFpred))"
   ]
  },
  {
   "cell_type": "code",
   "execution_count": null,
   "metadata": {
    "colab": {
     "base_uri": "https://localhost:8080/"
    },
    "id": "gn3nB3NB1Hau",
    "outputId": "a0df7fd0-e639-460d-9df4-90d063e50053"
   },
   "outputs": [
    {
     "name": "stdout",
     "output_type": "stream",
     "text": [
      "0.94551689129908 0.7857689703661268 0.8582728601794948 0.7767359402339057\n"
     ]
    }
   ],
   "source": [
    "from sklearn.metrics import accuracy_score, precision_score, recall_score, f1_score\n",
    "precision=precision_score(LSTMRFpred,Y)\n",
    "recall=recall_score(LSTMRFpred,Y)\n",
    "f1=f1_score(LSTMRFpred,Y)\n",
    "accuracy=accuracy_score(LSTMRFpred,Y)\n",
    "print(precision,recall,f1,accuracy)"
   ]
  },
  {
   "cell_type": "code",
   "execution_count": null,
   "metadata": {
    "id": "LMSob6MosZlG"
   },
   "outputs": [],
   "source": [
    "from sklearn import metrics\n",
    "import matplotlib.pyplot as plt\n",
    "\n",
    "lrfppred = LSTMRFmodel.predict_proba(intermediate_output)[::,1]"
   ]
  },
  {
   "cell_type": "code",
   "execution_count": null,
   "metadata": {
    "id": "tZ0QoRjOsZlH"
   },
   "outputs": [],
   "source": [
    "fpr,tpr, _ = metrics.roc_curve(Y,lrfppred)\n",
    "auc = metrics.roc_auc_score(Y,lrfppred)"
   ]
  },
  {
   "cell_type": "code",
   "execution_count": null,
   "metadata": {
    "colab": {
     "base_uri": "https://localhost:8080/"
    },
    "id": "fWhVWqfbsZlH",
    "outputId": "40de3743-99e2-463f-fa69-338799878452"
   },
   "outputs": [
    {
     "name": "stdout",
     "output_type": "stream",
     "text": [
      "0.624930141442295\n"
     ]
    }
   ],
   "source": [
    "print(auc)"
   ]
  },
  {
   "cell_type": "code",
   "execution_count": null,
   "metadata": {
    "colab": {
     "base_uri": "https://localhost:8080/"
    },
    "id": "ZORjM3L4u9CI",
    "outputId": "58ab480f-bbb8-4f39-cd09-83f855408986"
   },
   "outputs": [
    {
     "name": "stdout",
     "output_type": "stream",
     "text": [
      "0.9927557609728914 0.9618190912483228 0.9770425960053392 0.9862927613837738\n"
     ]
    }
   ],
   "source": [
    "from sklearn.metrics import accuracy_score, precision_score, recall_score, f1_score\n",
    "precision=precision_score(LSTMRFmodel.predict(intermediate_layer_model.predict(X_test)),y_test)\n",
    "recall=recall_score(LSTMRFmodel.predict(intermediate_layer_model.predict(X_test)),y_test)\n",
    "f1=f1_score(LSTMRFmodel.predict(intermediate_layer_model.predict(X_test)),y_test)\n",
    "accuracy=accuracy_score(LSTMRFmodel.predict(intermediate_layer_model.predict(X_test)),y_test)\n",
    "print(precision,recall,f1,accuracy)"
   ]
  },
  {
   "cell_type": "markdown",
   "metadata": {
    "id": "m0tb3_NKA0-_"
   },
   "source": [
    "#### LSTM+NB"
   ]
  },
  {
   "cell_type": "code",
   "execution_count": null,
   "metadata": {
    "id": "pI6xXAASA0_A"
   },
   "outputs": [],
   "source": [
    "import pickle\n",
    "# load the model from disk\n",
    "filename = '/content/drive/My Drive/Colab Notebooks/BLSTM+NBmodel.sav'\n",
    "LSTMNBmodel = pickle.load(open(filename, 'rb'))"
   ]
  },
  {
   "cell_type": "code",
   "execution_count": null,
   "metadata": {
    "colab": {
     "base_uri": "https://localhost:8080/",
     "height": 351
    },
    "id": "gQ7hIyvnBtO9",
    "outputId": "e4c334cb-500b-413a-eeea-7974f3d42244"
   },
   "outputs": [
    {
     "name": "stderr",
     "output_type": "stream",
     "text": [
      "/usr/local/lib/python3.7/dist-packages/sklearn/utils/deprecation.py:87: FutureWarning: Function plot_confusion_matrix is deprecated; Function `plot_confusion_matrix` is deprecated in 1.0 and will be removed in 1.2. Use one of the class methods: ConfusionMatrixDisplay.from_predictions or ConfusionMatrixDisplay.from_estimator.\n",
      "  warnings.warn(msg, category=FutureWarning)\n"
     ]
    },
    {
     "data": {
      "text/plain": [
       "<sklearn.metrics._plot.confusion_matrix.ConfusionMatrixDisplay at 0x7f9b463d1e90>"
      ]
     },
     "execution_count": 18,
     "metadata": {},
     "output_type": "execute_result"
    },
    {
     "data": {
      "image/png": "[encoded data removed]",
      "text/plain": [
       "<Figure size 432x288 with 2 Axes>"
      ]
     },
     "metadata": {
      "needs_background": "light"
     },
     "output_type": "display_data"
    }
   ],
   "source": [
    "# Confusion matrix\n",
    "from sklearn.metrics import plot_confusion_matrix\n",
    "plot_confusion_matrix(LSTMNBmodel, intermediate_output, Y, display_labels=[\"legit\", \"dga\"])"
   ]
  },
  {
   "cell_type": "code",
   "execution_count": null,
   "metadata": {
    "colab": {
     "base_uri": "https://localhost:8080/"
    },
    "id": "QhxZmnGsA0_A",
    "outputId": "d8c0e046-0e0f-4593-c173-bba4acfef536"
   },
   "outputs": [
    {
     "name": "stdout",
     "output_type": "stream",
     "text": [
      "              precision    recall  f1-score   support\n",
      "\n",
      "           0       0.67      0.55      0.60    381671\n",
      "           1       0.83      0.89      0.86    957416\n",
      "\n",
      "    accuracy                           0.79   1339087\n",
      "   macro avg       0.75      0.72      0.73   1339087\n",
      "weighted avg       0.79      0.79      0.79   1339087\n",
      "\n"
     ]
    }
   ],
   "source": [
    "from sklearn.metrics import plot_confusion_matrix,accuracy_score,classification_report\n",
    "LSTMNBpred=LSTMNBmodel.predict(intermediate_output)\n",
    "print(classification_report(Y,LSTMNBpred))"
   ]
  },
  {
   "cell_type": "code",
   "execution_count": null,
   "metadata": {
    "colab": {
     "base_uri": "https://localhost:8080/"
    },
    "id": "RwA4JopJ1M-W",
    "outputId": "546d2b4f-b231-45a5-df97-119c19d5c496"
   },
   "outputs": [
    {
     "name": "stdout",
     "output_type": "stream",
     "text": [
      "0.8935697753118812 0.8314047675274028 0.8613671133834302 0.7943501803840975\n"
     ]
    }
   ],
   "source": [
    "from sklearn.metrics import accuracy_score, precision_score, recall_score, f1_score\n",
    "precision=precision_score(LSTMNBpred,Y)\n",
    "recall=recall_score(LSTMNBpred,Y)\n",
    "f1=f1_score(LSTMNBpred,Y)\n",
    "accuracy=accuracy_score(LSTMNBpred,Y)\n",
    "print(precision,recall,f1,accuracy)"
   ]
  },
  {
   "cell_type": "code",
   "execution_count": null,
   "metadata": {
    "id": "8Sly3Ngxsn2h"
   },
   "outputs": [],
   "source": [
    "from sklearn import metrics\n",
    "import matplotlib.pyplot as plt\n",
    "\n",
    "lnbppred = LSTMNBmodel.predict_proba(intermediate_output)[::,1]"
   ]
  },
  {
   "cell_type": "code",
   "execution_count": null,
   "metadata": {
    "id": "0CszRQq0sn2h"
   },
   "outputs": [],
   "source": [
    "fpr,tpr, _ = metrics.roc_curve(Y,lnbppred)\n",
    "auc = metrics.roc_auc_score(Y,lnbppred)"
   ]
  },
  {
   "cell_type": "code",
   "execution_count": null,
   "metadata": {
    "colab": {
     "base_uri": "https://localhost:8080/"
    },
    "id": "O60hR-CJsn2i",
    "outputId": "18671390-93f2-4d5c-9539-9a03fdddee2d"
   },
   "outputs": [
    {
     "name": "stdout",
     "output_type": "stream",
     "text": [
      "0.8027170975451786\n"
     ]
    }
   ],
   "source": [
    "print(auc)"
   ]
  },
  {
   "cell_type": "code",
   "execution_count": null,
   "metadata": {
    "colab": {
     "base_uri": "https://localhost:8080/"
    },
    "id": "FmZ19GkjvJZ4",
    "outputId": "e2e4644a-55c5-441f-ddee-25cfa27da2da"
   },
   "outputs": [
    {
     "name": "stdout",
     "output_type": "stream",
     "text": [
      "0.9796358212869177 0.9541456484260264 0.9667227352860307 0.9801843362354573\n"
     ]
    }
   ],
   "source": [
    "from sklearn.metrics import accuracy_score, precision_score, recall_score, f1_score\n",
    "precision=precision_score(LSTMNBmodel.predict(intermediate_layer_model.predict(X_test)),y_test)\n",
    "recall=recall_score(LSTMNBmodel.predict(intermediate_layer_model.predict(X_test)),y_test)\n",
    "f1=f1_score(LSTMNBmodel.predict(intermediate_layer_model.predict(X_test)),y_test)\n",
    "accuracy=accuracy_score(LSTMNBmodel.predict(intermediate_layer_model.predict(X_test)),y_test)\n",
    "print(precision,recall,f1,accuracy)"
   ]
  },
  {
   "cell_type": "markdown",
   "metadata": {
    "id": "JOEKjN6CA0_A"
   },
   "source": [
    "#### LSTM+LR"
   ]
  },
  {
   "cell_type": "code",
   "execution_count": null,
   "metadata": {
    "id": "4N-k_Xp-A0_A"
   },
   "outputs": [],
   "source": [
    "import pickle\n",
    "# load the model from disk\n",
    "filename = '/content/drive/My Drive/Colab Notebooks/BLSTM+LRmodel.sav'\n",
    "LSTMLRmodel = pickle.load(open(filename, 'rb'))"
   ]
  },
  {
   "cell_type": "code",
   "execution_count": null,
   "metadata": {
    "colab": {
     "base_uri": "https://localhost:8080/",
     "height": 355
    },
    "id": "LCH4N75OBuKb",
    "outputId": "c748e71a-11e9-4a33-efb3-74572e980f38"
   },
   "outputs": [
    {
     "name": "stderr",
     "output_type": "stream",
     "text": [
      "/usr/local/lib/python3.7/dist-packages/sklearn/utils/deprecation.py:87: FutureWarning: Function plot_confusion_matrix is deprecated; Function `plot_confusion_matrix` is deprecated in 1.0 and will be removed in 1.2. Use one of the class methods: ConfusionMatrixDisplay.from_predictions or ConfusionMatrixDisplay.from_estimator.\n",
      "  warnings.warn(msg, category=FutureWarning)\n"
     ]
    },
    {
     "data": {
      "text/plain": [
       "<sklearn.metrics._plot.confusion_matrix.ConfusionMatrixDisplay at 0x7f9b4621e890>"
      ]
     },
     "execution_count": 20,
     "metadata": {},
     "output_type": "execute_result"
    },
    {
     "data": {
      "image/png": "[encoded data removed]",
      "text/plain": [
       "<Figure size 432x288 with 2 Axes>"
      ]
     },
     "metadata": {
      "needs_background": "light"
     },
     "output_type": "display_data"
    }
   ],
   "source": [
    "# Confusion matrix\n",
    "from sklearn.metrics import plot_confusion_matrix\n",
    "plot_confusion_matrix(LSTMLRmodel, intermediate_output, Y, display_labels=[\"legit\", \"dga\"])"
   ]
  },
  {
   "cell_type": "code",
   "execution_count": null,
   "metadata": {
    "colab": {
     "base_uri": "https://localhost:8080/"
    },
    "id": "hurQurDsA0_A",
    "outputId": "ac82ece7-4d21-4702-b835-3c4ea3bf6e31"
   },
   "outputs": [
    {
     "name": "stdout",
     "output_type": "stream",
     "text": [
      "              precision    recall  f1-score   support\n",
      "\n",
      "           0       0.71      0.36      0.48    381671\n",
      "           1       0.79      0.94      0.86    957416\n",
      "\n",
      "    accuracy                           0.77   1339087\n",
      "   macro avg       0.75      0.65      0.67   1339087\n",
      "weighted avg       0.76      0.77      0.75   1339087\n",
      "\n"
     ]
    }
   ],
   "source": [
    "from sklearn.metrics import plot_confusion_matrix,accuracy_score,classification_report\n",
    "LSTMLRpred=LSTMLRmodel.predict(intermediate_output)\n",
    "print(classification_report(Y,LSTMLRpred))"
   ]
  },
  {
   "cell_type": "code",
   "execution_count": null,
   "metadata": {
    "colab": {
     "base_uri": "https://localhost:8080/"
    },
    "id": "0FtRD0mz1ZEN",
    "outputId": "685c8a72-1942-47a1-8035-047068b3e7d8"
   },
   "outputs": [
    {
     "name": "stdout",
     "output_type": "stream",
     "text": [
      "0.9408010728878565 0.7862546110966597 0.8566130073770033 0.7748122414749751\n"
     ]
    }
   ],
   "source": [
    "from sklearn.metrics import accuracy_score, precision_score, recall_score, f1_score\n",
    "precision=precision_score(LSTMLRpred,Y)\n",
    "recall=recall_score(LSTMLRpred,Y)\n",
    "f1=f1_score(LSTMLRpred,Y)\n",
    "accuracy=accuracy_score(LSTMLRpred,Y)\n",
    "print(precision,recall,f1,accuracy)"
   ]
  },
  {
   "cell_type": "code",
   "execution_count": null,
   "metadata": {
    "id": "2jOazITmswvN"
   },
   "outputs": [],
   "source": [
    "from sklearn import metrics\n",
    "import matplotlib.pyplot as plt\n",
    "\n",
    "llrppred = LSTMLRmodel.predict_proba(intermediate_output)[::,1]"
   ]
  },
  {
   "cell_type": "code",
   "execution_count": null,
   "metadata": {
    "id": "xOjhQjtjswvO"
   },
   "outputs": [],
   "source": [
    "fpr,tpr, _ = metrics.roc_curve(Y,llrppred)\n",
    "auc = metrics.roc_auc_score(Y,llrppred)"
   ]
  },
  {
   "cell_type": "code",
   "execution_count": null,
   "metadata": {
    "colab": {
     "base_uri": "https://localhost:8080/"
    },
    "id": "DbGnrXBeswvO",
    "outputId": "ba058a65-97d2-42e9-ea28-720a670d945a"
   },
   "outputs": [
    {
     "name": "stdout",
     "output_type": "stream",
     "text": [
      "0.6034633863905804\n"
     ]
    }
   ],
   "source": [
    "print(auc)"
   ]
  },
  {
   "cell_type": "code",
   "execution_count": null,
   "metadata": {
    "colab": {
     "base_uri": "https://localhost:8080/"
    },
    "id": "-GqGmwpvvLEi",
    "outputId": "1c077586-44b0-4879-dc50-f3f28884e46f"
   },
   "outputs": [
    {
     "name": "stdout",
     "output_type": "stream",
     "text": [
      "0.9930179958698003 0.9581705754906457 0.9752831054270927 0.9852116881115648\n"
     ]
    }
   ],
   "source": [
    "from sklearn.metrics import accuracy_score, precision_score, recall_score, f1_score\n",
    "precision=precision_score(LSTMLRmodel.predict(intermediate_layer_model.predict(X_test)),y_test)\n",
    "recall=recall_score(LSTMLRmodel.predict(intermediate_layer_model.predict(X_test)),y_test)\n",
    "f1=f1_score(LSTMLRmodel.predict(intermediate_layer_model.predict(X_test)),y_test)\n",
    "accuracy=accuracy_score(LSTMLRmodel.predict(intermediate_layer_model.predict(X_test)),y_test)\n",
    "print(precision,recall,f1,accuracy)"
   ]
  },
  {
   "cell_type": "markdown",
   "metadata": {
    "id": "L188WFJSA0_B"
   },
   "source": [
    "#### LSTM+ET"
   ]
  },
  {
   "cell_type": "code",
   "execution_count": null,
   "metadata": {
    "id": "6vT57SA9A0_B"
   },
   "outputs": [],
   "source": [
    "import pickle\n",
    "# load the model from disk\n",
    "filename = '/content/drive/My Drive/Colab Notebooks/BLSTM+ETmodel.sav'\n",
    "LSTMETmodel = pickle.load(open(filename, 'rb'))"
   ]
  },
  {
   "cell_type": "code",
   "execution_count": null,
   "metadata": {
    "colab": {
     "base_uri": "https://localhost:8080/",
     "height": 354
    },
    "id": "5YeYrKBVBveA",
    "outputId": "2f288b07-37bc-41a1-b630-a8cad5123625"
   },
   "outputs": [
    {
     "name": "stderr",
     "output_type": "stream",
     "text": [
      "/usr/local/lib/python3.7/dist-packages/sklearn/utils/deprecation.py:87: FutureWarning: Function plot_confusion_matrix is deprecated; Function `plot_confusion_matrix` is deprecated in 1.0 and will be removed in 1.2. Use one of the class methods: ConfusionMatrixDisplay.from_predictions or ConfusionMatrixDisplay.from_estimator.\n",
      "  warnings.warn(msg, category=FutureWarning)\n"
     ]
    },
    {
     "data": {
      "text/plain": [
       "<sklearn.metrics._plot.confusion_matrix.ConfusionMatrixDisplay at 0x7f9b46138450>"
      ]
     },
     "execution_count": 22,
     "metadata": {},
     "output_type": "execute_result"
    },
    {
     "data": {
      "image/png": "[encoded data removed]",
      "text/plain": [
       "<Figure size 432x288 with 2 Axes>"
      ]
     },
     "metadata": {
      "needs_background": "light"
     },
     "output_type": "display_data"
    }
   ],
   "source": [
    "# Confusion matrix\n",
    "from sklearn.metrics import plot_confusion_matrix\n",
    "plot_confusion_matrix(LSTMETmodel, intermediate_output, Y, display_labels=[\"legit\", \"dga\"])"
   ]
  },
  {
   "cell_type": "code",
   "execution_count": null,
   "metadata": {
    "colab": {
     "base_uri": "https://localhost:8080/"
    },
    "id": "QyCP6yljA0_B",
    "outputId": "11e9ac42-ebf1-4032-8250-0acc497393dc"
   },
   "outputs": [
    {
     "name": "stdout",
     "output_type": "stream",
     "text": [
      "              precision    recall  f1-score   support\n",
      "\n",
      "           0       0.72      0.35      0.47    381671\n",
      "           1       0.79      0.95      0.86    957416\n",
      "\n",
      "    accuracy                           0.78   1339087\n",
      "   macro avg       0.75      0.65      0.67   1339087\n",
      "weighted avg       0.77      0.78      0.75   1339087\n",
      "\n"
     ]
    }
   ],
   "source": [
    "from sklearn.metrics import plot_confusion_matrix,accuracy_score,classification_report\n",
    "LSTMETpred=LSTMETmodel.predict(intermediate_output)\n",
    "print(classification_report(Y,LSTMETpred))"
   ]
  },
  {
   "cell_type": "code",
   "execution_count": null,
   "metadata": {
    "colab": {
     "base_uri": "https://localhost:8080/"
    },
    "id": "6FHOs5nl1dHP",
    "outputId": "a19cd6c6-d1c0-4149-f98f-df6dfafc87d3"
   },
   "outputs": [
    {
     "name": "stdout",
     "output_type": "stream",
     "text": [
      "0.9450729881263735 0.7857451756496004 0.8580757431352747 0.7764790487847317\n"
     ]
    }
   ],
   "source": [
    "from sklearn.metrics import accuracy_score, precision_score, recall_score, f1_score\n",
    "precision=precision_score(LSTMETpred,Y)\n",
    "recall=recall_score(LSTMETpred,Y)\n",
    "f1=f1_score(LSTMETpred,Y)\n",
    "accuracy=accuracy_score(LSTMETpred,Y)\n",
    "print(precision,recall,f1,accuracy)"
   ]
  },
  {
   "cell_type": "code",
   "execution_count": null,
   "metadata": {
    "id": "THEfu05ns75R"
   },
   "outputs": [],
   "source": [
    "from sklearn import metrics\n",
    "import matplotlib.pyplot as plt\n",
    "\n",
    "letppred = LSTMETmodel.predict_proba(intermediate_output)[::,1]"
   ]
  },
  {
   "cell_type": "code",
   "execution_count": null,
   "metadata": {
    "id": "_VMc_psQs75R"
   },
   "outputs": [],
   "source": [
    "fpr,tpr, _ = metrics.roc_curve(Y,letppred)\n",
    "auc = metrics.roc_auc_score(Y,letppred)"
   ]
  },
  {
   "cell_type": "code",
   "execution_count": null,
   "metadata": {
    "colab": {
     "base_uri": "https://localhost:8080/"
    },
    "id": "_c-52PJOs75S",
    "outputId": "03d4b860-ab3b-4fe0-b1da-0725108dcad8"
   },
   "outputs": [
    {
     "name": "stdout",
     "output_type": "stream",
     "text": [
      "0.6187121456671606\n"
     ]
    }
   ],
   "source": [
    "print(auc)"
   ]
  },
  {
   "cell_type": "code",
   "execution_count": null,
   "metadata": {
    "colab": {
     "base_uri": "https://localhost:8080/"
    },
    "id": "jJjSH0iXvMoY",
    "outputId": "3b3697f0-4c91-4abf-c438-aebfa82495bf"
   },
   "outputs": [
    {
     "name": "stdout",
     "output_type": "stream",
     "text": [
      "0.9924689415543974 0.961564112743152 0.9767721330117993 0.9861314431003929\n"
     ]
    }
   ],
   "source": [
    "from sklearn.metrics import accuracy_score, precision_score, recall_score, f1_score\n",
    "precision=precision_score(LSTMETmodel.predict(intermediate_layer_model.predict(X_test)),y_test)\n",
    "recall=recall_score(LSTMETmodel.predict(intermediate_layer_model.predict(X_test)),y_test)\n",
    "f1=f1_score(LSTMETmodel.predict(intermediate_layer_model.predict(X_test)),y_test)\n",
    "accuracy=accuracy_score(LSTMETmodel.predict(intermediate_layer_model.predict(X_test)),y_test)\n",
    "print(precision,recall,f1,accuracy)"
   ]
  },
  {
   "cell_type": "markdown",
   "metadata": {
    "id": "Z5CzKX8vA0_B"
   },
   "source": [
    "#### LSTM+DT"
   ]
  },
  {
   "cell_type": "code",
   "execution_count": null,
   "metadata": {
    "id": "1x4RzVeNA0_B"
   },
   "outputs": [],
   "source": [
    "import pickle\n",
    "# load the model from disk\n",
    "filename = '/content/drive/My Drive/Colab Notebooks/BLSTM+DTmodel.sav'\n",
    "LSTMDTmodel = pickle.load(open(filename, 'rb'))"
   ]
  },
  {
   "cell_type": "code",
   "execution_count": null,
   "metadata": {
    "colab": {
     "base_uri": "https://localhost:8080/",
     "height": 351
    },
    "id": "vWVAnMWEBwdU",
    "outputId": "7ac1b5c2-22fd-4732-e136-ef565dafad98"
   },
   "outputs": [
    {
     "name": "stderr",
     "output_type": "stream",
     "text": [
      "/usr/local/lib/python3.7/dist-packages/sklearn/utils/deprecation.py:87: FutureWarning: Function plot_confusion_matrix is deprecated; Function `plot_confusion_matrix` is deprecated in 1.0 and will be removed in 1.2. Use one of the class methods: ConfusionMatrixDisplay.from_predictions or ConfusionMatrixDisplay.from_estimator.\n",
      "  warnings.warn(msg, category=FutureWarning)\n"
     ]
    },
    {
     "data": {
      "text/plain": [
       "<sklearn.metrics._plot.confusion_matrix.ConfusionMatrixDisplay at 0x7f9b46077890>"
      ]
     },
     "execution_count": 24,
     "metadata": {},
     "output_type": "execute_result"
    },
    {
     "data": {
      "image/png": "[encoded data removed]",
      "text/plain": [
       "<Figure size 432x288 with 2 Axes>"
      ]
     },
     "metadata": {
      "needs_background": "light"
     },
     "output_type": "display_data"
    }
   ],
   "source": [
    "# Confusion matrix\n",
    "from sklearn.metrics import plot_confusion_matrix\n",
    "plot_confusion_matrix(LSTMDTmodel, intermediate_output, Y, display_labels=[\"legit\", \"dga\"])"
   ]
  },
  {
   "cell_type": "code",
   "execution_count": null,
   "metadata": {
    "colab": {
     "base_uri": "https://localhost:8080/"
    },
    "id": "RymJrufQA0_B",
    "outputId": "0b331dba-73e9-45fb-ad1d-e04ba096b242"
   },
   "outputs": [
    {
     "name": "stdout",
     "output_type": "stream",
     "text": [
      "              precision    recall  f1-score   support\n",
      "\n",
      "           0       0.64      0.36      0.46    381671\n",
      "           1       0.78      0.92      0.85    957416\n",
      "\n",
      "    accuracy                           0.76   1339087\n",
      "   macro avg       0.71      0.64      0.65   1339087\n",
      "weighted avg       0.74      0.76      0.74   1339087\n",
      "\n"
     ]
    }
   ],
   "source": [
    "from sklearn.metrics import plot_confusion_matrix,accuracy_score,classification_report\n",
    "LSTMDTpred=LSTMDTmodel.predict(intermediate_output)\n",
    "print(classification_report(Y,LSTMDTpred))"
   ]
  },
  {
   "cell_type": "code",
   "execution_count": null,
   "metadata": {
    "colab": {
     "base_uri": "https://localhost:8080/"
    },
    "id": "V6NXCznd1g4l",
    "outputId": "4db0f907-315b-4b27-c26d-d0ddf4189a97"
   },
   "outputs": [
    {
     "name": "stdout",
     "output_type": "stream",
     "text": [
      "0.9204922416170191 0.7824557540588004 0.8458795604429357 0.7601754030918081\n"
     ]
    }
   ],
   "source": [
    "from sklearn.metrics import accuracy_score, precision_score, recall_score, f1_score\n",
    "precision=precision_score(LSTMDTpred,Y)\n",
    "recall=recall_score(LSTMDTpred,Y)\n",
    "f1=f1_score(LSTMDTpred,Y)\n",
    "accuracy=accuracy_score(LSTMDTpred,Y)\n",
    "print(precision,recall,f1,accuracy)"
   ]
  },
  {
   "cell_type": "code",
   "execution_count": null,
   "metadata": {
    "id": "haxJT8S0tDiY"
   },
   "outputs": [],
   "source": [
    "from sklearn import metrics\n",
    "import matplotlib.pyplot as plt\n",
    "\n",
    "ldtppred = LSTMDTmodel.predict_proba(intermediate_output)[::,1]"
   ]
  },
  {
   "cell_type": "code",
   "execution_count": null,
   "metadata": {
    "id": "skwdF8YotDiZ"
   },
   "outputs": [],
   "source": [
    "fpr,tpr, _ = metrics.roc_curve(Y,ldtppred)\n",
    "auc = metrics.roc_auc_score(Y,ldtppred)"
   ]
  },
  {
   "cell_type": "code",
   "execution_count": null,
   "metadata": {
    "colab": {
     "base_uri": "https://localhost:8080/"
    },
    "id": "gSIXmyactDia",
    "outputId": "dcc93659-79db-4906-eefc-85be7f22eabd"
   },
   "outputs": [
    {
     "name": "stdout",
     "output_type": "stream",
     "text": [
      "0.6392616292902034\n"
     ]
    }
   ],
   "source": [
    "print(auc)"
   ]
  },
  {
   "cell_type": "code",
   "execution_count": null,
   "metadata": {
    "colab": {
     "base_uri": "https://localhost:8080/"
    },
    "id": "QeYKqu_CvOHA",
    "outputId": "337ec22d-bc13-4e3b-b574-ee25043622bb"
   },
   "outputs": [
    {
     "name": "stdout",
     "output_type": "stream",
     "text": [
      "0.9794309502737076 0.9538699739820269 0.9664814859739776 0.9800398721010863\n"
     ]
    }
   ],
   "source": [
    "from sklearn.metrics import accuracy_score, precision_score, recall_score, f1_score\n",
    "precision=precision_score(LSTMDTmodel.predict(intermediate_layer_model.predict(X_test)),y_test)\n",
    "recall=recall_score(LSTMDTmodel.predict(intermediate_layer_model.predict(X_test)),y_test)\n",
    "f1=f1_score(LSTMDTmodel.predict(intermediate_layer_model.predict(X_test)),y_test)\n",
    "accuracy=accuracy_score(LSTMDTmodel.predict(intermediate_layer_model.predict(X_test)),y_test)\n",
    "print(precision,recall,f1,accuracy)"
   ]
  },
  {
   "cell_type": "markdown",
   "metadata": {
    "id": "8X9W9w6KA0_C"
   },
   "source": [
    "#### LSTM+AB"
   ]
  },
  {
   "cell_type": "code",
   "execution_count": null,
   "metadata": {
    "id": "_TRg2nazA0_C"
   },
   "outputs": [],
   "source": [
    "import pickle\n",
    "# load the model from disk\n",
    "filename = '/content/drive/My Drive/Colab Notebooks/BLSTM+ABmodel.sav'\n",
    "LSTMABmodel = pickle.load(open(filename, 'rb'))"
   ]
  },
  {
   "cell_type": "code",
   "execution_count": null,
   "metadata": {
    "colab": {
     "base_uri": "https://localhost:8080/",
     "height": 354
    },
    "id": "FZibClAsBxiV",
    "outputId": "33af8d40-7518-4afe-8132-207cbe0e8cdc"
   },
   "outputs": [
    {
     "name": "stderr",
     "output_type": "stream",
     "text": [
      "/usr/local/lib/python3.7/dist-packages/sklearn/utils/deprecation.py:87: FutureWarning: Function plot_confusion_matrix is deprecated; Function `plot_confusion_matrix` is deprecated in 1.0 and will be removed in 1.2. Use one of the class methods: ConfusionMatrixDisplay.from_predictions or ConfusionMatrixDisplay.from_estimator.\n",
      "  warnings.warn(msg, category=FutureWarning)\n"
     ]
    },
    {
     "data": {
      "text/plain": [
       "<sklearn.metrics._plot.confusion_matrix.ConfusionMatrixDisplay at 0x7f9b4602cd50>"
      ]
     },
     "execution_count": 26,
     "metadata": {},
     "output_type": "execute_result"
    },
    {
     "data": {
      "image/png": "[encoded data removed]",
      "text/plain": [
       "<Figure size 432x288 with 2 Axes>"
      ]
     },
     "metadata": {
      "needs_background": "light"
     },
     "output_type": "display_data"
    }
   ],
   "source": [
    "# Confusion matrix\n",
    "from sklearn.metrics import plot_confusion_matrix\n",
    "plot_confusion_matrix(LSTMABmodel, intermediate_output, Y, display_labels=[\"legit\", \"dga\"])"
   ]
  },
  {
   "cell_type": "code",
   "execution_count": null,
   "metadata": {
    "colab": {
     "base_uri": "https://localhost:8080/"
    },
    "id": "f9lcoi5MA0_C",
    "outputId": "e67ffe71-b502-4ad8-f200-4dbbc7ef6f5a"
   },
   "outputs": [
    {
     "name": "stdout",
     "output_type": "stream",
     "text": [
      "              precision    recall  f1-score   support\n",
      "\n",
      "           0       0.72      0.36      0.48    381671\n",
      "           1       0.79      0.94      0.86    957416\n",
      "\n",
      "    accuracy                           0.78   1339087\n",
      "   macro avg       0.75      0.65      0.67   1339087\n",
      "weighted avg       0.77      0.78      0.75   1339087\n",
      "\n"
     ]
    }
   ],
   "source": [
    "from sklearn.metrics import plot_confusion_matrix,accuracy_score,classification_report\n",
    "LSTMABpred=LSTMABmodel.predict(intermediate_output)\n",
    "print(classification_report(Y,LSTMABpred))"
   ]
  },
  {
   "cell_type": "code",
   "execution_count": null,
   "metadata": {
    "colab": {
     "base_uri": "https://localhost:8080/"
    },
    "id": "knK20Tii1kyt",
    "outputId": "35293b20-753e-411b-aeb5-d38d26427b9b"
   },
   "outputs": [
    {
     "name": "stdout",
     "output_type": "stream",
     "text": [
      "0.9436671206664605 0.7868475828013551 0.858151845086971 0.776951012144842\n"
     ]
    }
   ],
   "source": [
    "from sklearn.metrics import accuracy_score, precision_score, recall_score, f1_score\n",
    "precision=precision_score(LSTMABpred,Y)\n",
    "recall=recall_score(LSTMABpred,Y)\n",
    "f1=f1_score(LSTMABpred,Y)\n",
    "accuracy=accuracy_score(LSTMABpred,Y)\n",
    "print(precision,recall,f1,accuracy)"
   ]
  },
  {
   "cell_type": "code",
   "execution_count": null,
   "metadata": {
    "id": "MhVamU6DtMP3"
   },
   "outputs": [],
   "source": [
    "from sklearn import metrics\n",
    "import matplotlib.pyplot as plt\n",
    "\n",
    "labppred = LSTMABmodel.predict_proba(intermediate_output)[::,1]"
   ]
  },
  {
   "cell_type": "code",
   "execution_count": null,
   "metadata": {
    "id": "_d4nRQ4ztMP4"
   },
   "outputs": [],
   "source": [
    "fpr,tpr, _ = metrics.roc_curve(Y,labppred)\n",
    "auc = metrics.roc_auc_score(Y,labppred)"
   ]
  },
  {
   "cell_type": "code",
   "execution_count": null,
   "metadata": {
    "colab": {
     "base_uri": "https://localhost:8080/"
    },
    "id": "5AK6RODwtMP4",
    "outputId": "73ae96b4-4bcb-4970-af6e-5aff2ea4e6fa"
   },
   "outputs": [
    {
     "name": "stdout",
     "output_type": "stream",
     "text": [
      "0.6116070536308327\n"
     ]
    }
   ],
   "source": [
    "print(auc)"
   ]
  },
  {
   "cell_type": "code",
   "execution_count": null,
   "metadata": {
    "colab": {
     "base_uri": "https://localhost:8080/"
    },
    "id": "qSiEB2stvPzv",
    "outputId": "e9ef4fdf-17d4-442c-a746-0420d936d0da"
   },
   "outputs": [
    {
     "name": "stdout",
     "output_type": "stream",
     "text": [
      "0.9933048152882945 0.9540642439412186 0.9732891699287364 0.9839813352338392\n"
     ]
    }
   ],
   "source": [
    "from sklearn.metrics import accuracy_score, precision_score, recall_score, f1_score\n",
    "precision=precision_score(LSTMABmodel.predict(intermediate_layer_model.predict(X_test)),y_test)\n",
    "recall=recall_score(LSTMABmodel.predict(intermediate_layer_model.predict(X_test)),y_test)\n",
    "f1=f1_score(LSTMABmodel.predict(intermediate_layer_model.predict(X_test)),y_test)\n",
    "accuracy=accuracy_score(LSTMABmodel.predict(intermediate_layer_model.predict(X_test)),y_test)\n",
    "print(precision,recall,f1,accuracy)"
   ]
  }
 ],
 "metadata": {
  "colab": {
   "collapsed_sections": [],
   "machine_shape": "hm",
   "provenance": []
  },
  "kernelspec": {
   "display_name": "Python 3 (ipykernel)",
   "language": "python",
   "name": "python3"
  },
  "language_info": {
   "codemirror_mode": {
    "name": "ipython",
    "version": 3
   },
   "file_extension": ".py",
   "mimetype": "text/x-python",
   "name": "python",
   "nbconvert_exporter": "python",
   "pygments_lexer": "ipython3",
   "version": "3.10.9"
  }
 },
 "nbformat": 4,
 "nbformat_minor": 1
}
