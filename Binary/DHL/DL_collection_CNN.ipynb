{
 "cells": [
  {
   "cell_type": "markdown",
   "metadata": {
    "id": "8-7rZBltxCqQ"
   },
   "source": [
    "## CNN"
   ]
  },
  {
   "cell_type": "markdown",
   "metadata": {
    "id": "5MRvoSgAOXGU"
   },
   "source": [
    "### 32x3, 30,1000"
   ]
  },
  {
   "cell_type": "code",
   "execution_count": null,
   "metadata": {
    "colab": {
     "base_uri": "https://localhost:8080/"
    },
    "id": "1puYlNGixHcD",
    "outputId": "4e54df15-893d-4c89-dde9-a2d3bf00aed2"
   },
   "outputs": [
    {
     "name": "stdout",
     "output_type": "stream",
     "text": [
      "Model: \"sequential\"\n",
      "_________________________________________________________________\n",
      " Layer (type)                Output Shape              Param #   \n",
      "=================================================================\n",
      " embedding (Embedding)       (None, 50, 100)           7000      \n",
      "                                                                 \n",
      " conv1d (Conv1D)             (None, 48, 32)            9632      \n",
      "                                                                 \n",
      " global_max_pooling1d (Globa  (None, 32)               0         \n",
      " lMaxPooling1D)                                                  \n",
      "                                                                 \n",
      " flatten (Flatten)           (None, 32)                0         \n",
      "                                                                 \n",
      " dense (Dense)               (None, 250)               8250      \n",
      "                                                                 \n",
      " dense_1 (Dense)             (None, 1)                 251       \n",
      "                                                                 \n",
      "=================================================================\n",
      "Total params: 25,133\n",
      "Trainable params: 25,133\n",
      "Non-trainable params: 0\n",
      "_________________________________________________________________\n"
     ]
    }
   ],
   "source": [
    "from keras.models import Sequential\n",
    "from keras import layers \n",
    "\n",
    "embedding_dim = 100\n",
    "vocab_size=70\n",
    "textcnnmodel = Sequential()\n",
    "textcnnmodel.add(layers.Embedding(vocab_size, embedding_dim, input_length=max_len))\n",
    "textcnnmodel.add(layers.Conv1D(32, 3, activation='relu'))\n",
    "textcnnmodel.add(layers.GlobalMaxPooling1D())\n",
    "textcnnmodel.add(layers.Flatten())\n",
    "textcnnmodel.add(layers.Dense(250, activation='relu'))\n",
    "textcnnmodel.add(layers.Dense(1, activation='sigmoid'))\n",
    "textcnnmodel.compile(optimizer='adam',\n",
    "               loss='binary_crossentropy',\n",
    "               metrics=['accuracy'])\n",
    "textcnnmodel.summary() "
   ]
  },
  {
   "cell_type": "code",
   "execution_count": null,
   "metadata": {
    "colab": {
     "base_uri": "https://localhost:8080/"
    },
    "id": "qpGLg9aP0ZSf",
    "outputId": "f708256a-940e-4474-fb1a-652f6054c935"
   },
   "outputs": [
    {
     "name": "stdout",
     "output_type": "stream",
     "text": [
      "Epoch 1/30\n",
      "2342/2342 [==============================] - 29s 7ms/step - loss: 0.1075 - accuracy: 0.9637 - val_loss: 0.0834 - val_accuracy: 0.9706\n",
      "Epoch 2/30\n",
      "2342/2342 [==============================] - 16s 7ms/step - loss: 0.0793 - accuracy: 0.9734 - val_loss: 0.0764 - val_accuracy: 0.9731\n",
      "Epoch 3/30\n",
      "2342/2342 [==============================] - 16s 7ms/step - loss: 0.0744 - accuracy: 0.9751 - val_loss: 0.0776 - val_accuracy: 0.9727\n",
      "Epoch 4/30\n",
      "2342/2342 [==============================] - 16s 7ms/step - loss: 0.0715 - accuracy: 0.9761 - val_loss: 0.0740 - val_accuracy: 0.9740\n",
      "Epoch 5/30\n",
      "2342/2342 [==============================] - 16s 7ms/step - loss: 0.0694 - accuracy: 0.9768 - val_loss: 0.0753 - val_accuracy: 0.9739\n",
      "Epoch 6/30\n",
      "2342/2342 [==============================] - 16s 7ms/step - loss: 0.0678 - accuracy: 0.9773 - val_loss: 0.0804 - val_accuracy: 0.9722\n",
      "Epoch 7/30\n",
      "2342/2342 [==============================] - 17s 7ms/step - loss: 0.0665 - accuracy: 0.9777 - val_loss: 0.0681 - val_accuracy: 0.9761\n",
      "Epoch 8/30\n",
      "2342/2342 [==============================] - 16s 7ms/step - loss: 0.0658 - accuracy: 0.9780 - val_loss: 0.0792 - val_accuracy: 0.9726\n",
      "Epoch 9/30\n",
      "2342/2342 [==============================] - 16s 7ms/step - loss: 0.0649 - accuracy: 0.9783 - val_loss: 0.0714 - val_accuracy: 0.9753\n",
      "Epoch 10/30\n",
      "2342/2342 [==============================] - 16s 7ms/step - loss: 0.0644 - accuracy: 0.9784 - val_loss: 0.0649 - val_accuracy: 0.9773\n",
      "Epoch 11/30\n",
      "2342/2342 [==============================] - 16s 7ms/step - loss: 0.0639 - accuracy: 0.9786 - val_loss: 0.0655 - val_accuracy: 0.9771\n",
      "Epoch 12/30\n",
      "2342/2342 [==============================] - 16s 7ms/step - loss: 0.0633 - accuracy: 0.9788 - val_loss: 0.0695 - val_accuracy: 0.9760\n",
      "Epoch 13/30\n",
      "2342/2342 [==============================] - 16s 7ms/step - loss: 0.0629 - accuracy: 0.9789 - val_loss: 0.0688 - val_accuracy: 0.9763\n",
      "Epoch 14/30\n",
      "2342/2342 [==============================] - 17s 7ms/step - loss: 0.0625 - accuracy: 0.9790 - val_loss: 0.0680 - val_accuracy: 0.9766\n",
      "Epoch 15/30\n",
      "2342/2342 [==============================] - 16s 7ms/step - loss: 0.0621 - accuracy: 0.9792 - val_loss: 0.0650 - val_accuracy: 0.9773\n",
      "Epoch 16/30\n",
      "2342/2342 [==============================] - 16s 7ms/step - loss: 0.0616 - accuracy: 0.9794 - val_loss: 0.0655 - val_accuracy: 0.9771\n",
      "Epoch 17/30\n",
      "2342/2342 [==============================] - 16s 7ms/step - loss: 0.0611 - accuracy: 0.9796 - val_loss: 0.0632 - val_accuracy: 0.9780\n",
      "Epoch 18/30\n",
      "2342/2342 [==============================] - 16s 7ms/step - loss: 0.0607 - accuracy: 0.9797 - val_loss: 0.0618 - val_accuracy: 0.9785\n",
      "Epoch 19/30\n",
      "2342/2342 [==============================] - 16s 7ms/step - loss: 0.0604 - accuracy: 0.9797 - val_loss: 0.0665 - val_accuracy: 0.9775\n",
      "Epoch 20/30\n",
      "2342/2342 [==============================] - 16s 7ms/step - loss: 0.0599 - accuracy: 0.9799 - val_loss: 0.0649 - val_accuracy: 0.9773\n",
      "Epoch 21/30\n",
      "2342/2342 [==============================] - 16s 7ms/step - loss: 0.0596 - accuracy: 0.9801 - val_loss: 0.0641 - val_accuracy: 0.9777\n",
      "Epoch 22/30\n",
      "2342/2342 [==============================] - 17s 7ms/step - loss: 0.0594 - accuracy: 0.9801 - val_loss: 0.0595 - val_accuracy: 0.9794\n",
      "Epoch 23/30\n",
      "2342/2342 [==============================] - 16s 7ms/step - loss: 0.0592 - accuracy: 0.9802 - val_loss: 0.0674 - val_accuracy: 0.9771\n",
      "Epoch 24/30\n",
      "2342/2342 [==============================] - 16s 7ms/step - loss: 0.0590 - accuracy: 0.9803 - val_loss: 0.0608 - val_accuracy: 0.9790\n",
      "Epoch 25/30\n",
      "2342/2342 [==============================] - 16s 7ms/step - loss: 0.0587 - accuracy: 0.9804 - val_loss: 0.0679 - val_accuracy: 0.9763\n",
      "Epoch 26/30\n",
      "2342/2342 [==============================] - 16s 7ms/step - loss: 0.0584 - accuracy: 0.9805 - val_loss: 0.0627 - val_accuracy: 0.9783\n",
      "Epoch 27/30\n",
      "2342/2342 [==============================] - 16s 7ms/step - loss: 0.0583 - accuracy: 0.9804 - val_loss: 0.0642 - val_accuracy: 0.9780\n",
      "Epoch 28/30\n",
      "2342/2342 [==============================] - 16s 7ms/step - loss: 0.0581 - accuracy: 0.9805 - val_loss: 0.0650 - val_accuracy: 0.9776\n",
      "Epoch 29/30\n",
      "2342/2342 [==============================] - 17s 7ms/step - loss: 0.0578 - accuracy: 0.9807 - val_loss: 0.0634 - val_accuracy: 0.9778\n",
      "Epoch 30/30\n",
      "2342/2342 [==============================] - 16s 7ms/step - loss: 0.0576 - accuracy: 0.9807 - val_loss: 0.0587 - val_accuracy: 0.9794\n",
      "LSTM took 502.6007306575775 milliseconds to train data.\n",
      "\n"
     ]
    }
   ],
   "source": [
    "import time\n",
    "start = time.time()\n",
    "history=textcnnmodel.fit(X_train,y_train,\n",
    "                     epochs=30,\n",
    "                     verbose=True,\n",
    "                     validation_data=(X_test, y_test),\n",
    "                     batch_size=1000)\n",
    "end  = time.time()\n",
    "print(\"LSTM took {} milliseconds to train data.\\n\".format(end-start))"
   ]
  },
  {
   "cell_type": "code",
   "execution_count": null,
   "metadata": {
    "colab": {
     "base_uri": "https://localhost:8080/"
    },
    "id": "GIho4RTU05Ev",
    "outputId": "07d7a5d0-92ec-4d3d-f537-9d600cd7ea81"
   },
   "outputs": [
    {
     "name": "stdout",
     "output_type": "stream",
     "text": [
      "Training Accuracy: 0.9808\n",
      "Testing Accuracy:  0.9794\n"
     ]
    }
   ],
   "source": [
    "loss, accuracy = textcnnmodel.evaluate(X_train, y_train, verbose=False)\n",
    "print(\"Training Accuracy: {:.4f}\".format(accuracy))\n",
    "loss, accuracy = textcnnmodel.evaluate(X_test, y_test, verbose=False)\n",
    "print(\"Testing Accuracy:  {:.4f}\".format(accuracy)) "
   ]
  },
  {
   "cell_type": "code",
   "execution_count": null,
   "metadata": {
    "colab": {
     "base_uri": "https://localhost:8080/"
    },
    "id": "mQuDovCvm7z3",
    "outputId": "8ca8f94e-7758-4658-b1e6-9e2a7140dd85"
   },
   "outputs": [
    {
     "name": "stdout",
     "output_type": "stream",
     "text": [
      "LSTM took 23.954699277877808 milliseconds to test data.\n",
      "\n"
     ]
    }
   ],
   "source": [
    "start = time.time()\n",
    "y_lstmpred = textcnnmodel.predict(X_test)\n",
    "end  = time.time()\n",
    "print(\"LSTM took {} milliseconds to test data.\\n\".format(end-start))"
   ]
  },
  {
   "cell_type": "code",
   "execution_count": null,
   "metadata": {
    "colab": {
     "base_uri": "https://localhost:8080/"
    },
    "id": "73FZXDwxpaVm",
    "outputId": "6f36b004-93c8-4255-e09f-fb535dc3876c"
   },
   "outputs": [
    {
     "name": "stdout",
     "output_type": "stream",
     "text": [
      "              precision    recall  f1-score   support\n",
      "\n",
      "           0       0.99      0.98      0.99    292751\n",
      "           1       0.95      0.99      0.97    122577\n",
      "\n",
      "    accuracy                           0.98    415328\n",
      "   macro avg       0.97      0.98      0.98    415328\n",
      "weighted avg       0.98      0.98      0.98    415328\n",
      "\n"
     ]
    }
   ],
   "source": [
    "from sklearn.metrics import classification_report\n",
    "y_lstmpred=(y_lstmpred > 0.5)\n",
    "print(classification_report(y_test, y_lstmpred))"
   ]
  },
  {
   "cell_type": "code",
   "execution_count": null,
   "metadata": {
    "colab": {
     "base_uri": "https://localhost:8080/",
     "height": 573
    },
    "id": "HYS463uWmrqX",
    "outputId": "021462bf-9d20-40c9-9b38-52e1876a9cce"
   },
   "outputs": [
    {
     "data": {
      "image/png": "[encoded data removed]",
      "text/plain": [
       "<Figure size 432x288 with 1 Axes>"
      ]
     },
     "metadata": {
      "needs_background": "light"
     },
     "output_type": "display_data"
    },
    {
     "data": {
      "image/png": "[encoded data removed]",
      "text/plain": [
       "<Figure size 432x288 with 1 Axes>"
      ]
     },
     "metadata": {
      "needs_background": "light"
     },
     "output_type": "display_data"
    }
   ],
   "source": [
    "def Training_and_validation_plot(history):\n",
    "    acc = history.history['accuracy']\n",
    "    val_acc = history.history['val_accuracy']\n",
    "    loss = history.history['loss']\n",
    "    val_loss = history.history['val_loss']\n",
    "    epochs = range(1, len(acc) + 1)\n",
    "\n",
    "    plt.plot(epochs, acc, 'bo', label = 'Training Accuracy')\n",
    "    plt.plot(epochs, val_acc, 'r', label = 'Validation Accuracy')\n",
    "    plt.title('Training and Validation Accuracy')\n",
    "    plt.xlabel('Epochs')\n",
    "    plt.ylabel('Loss')\n",
    "    plt.legend()\n",
    "\n",
    "    plt.figure()\n",
    "    plt.plot(epochs, loss, 'bo', label = 'Training Loss')\n",
    "    plt.plot(epochs, val_loss, 'r', label = 'Validation Loss')\n",
    "    plt.title('Training and Validation Loss')\n",
    "    plt.xlabel('Epochs')\n",
    "    plt.ylabel('Loss')\n",
    "    plt.legend()\n",
    "    plt.show()\n",
    "Training_and_validation_plot(history)"
   ]
  },
  {
   "cell_type": "code",
   "execution_count": null,
   "metadata": {
    "colab": {
     "base_uri": "https://localhost:8080/"
    },
    "id": "XSDc79kLKtfA",
    "outputId": "66c6af97-1ba0-4c5f-9a81-351cc666f3fe"
   },
   "outputs": [
    {
     "name": "stdout",
     "output_type": "stream",
     "text": [
      "Model: \"sequential_4\"\n",
      "_________________________________________________________________\n",
      " Layer (type)                Output Shape              Param #   \n",
      "=================================================================\n",
      " embedding_4 (Embedding)     (None, 50, 100)           7000      \n",
      "                                                                 \n",
      " conv1d_7 (Conv1D)           (None, 48, 32)            9632      \n",
      "                                                                 \n",
      " conv1d_8 (Conv1D)           (None, 46, 32)            3104      \n",
      "                                                                 \n",
      " global_max_pooling1d_5 (Glo  (None, 32)               0         \n",
      " balMaxPooling1D)                                                \n",
      "                                                                 \n",
      " flatten_1 (Flatten)         (None, 32)                0         \n",
      "                                                                 \n",
      " dense_2 (Dense)             (None, 250)               8250      \n",
      "                                                                 \n",
      " dense_3 (Dense)             (None, 1)                 251       \n",
      "                                                                 \n",
      "=================================================================\n",
      "Total params: 28,237\n",
      "Trainable params: 28,237\n",
      "Non-trainable params: 0\n",
      "_________________________________________________________________\n"
     ]
    }
   ],
   "source": [
    "from keras.models import Sequential\n",
    "from keras import layers \n",
    "\n",
    "embedding_dim = 100\n",
    "vocab_size=70\n",
    "max_len = 50\n",
    "textcnnmodel = Sequential()\n",
    "textcnnmodel.add(layers.Embedding(vocab_size, embedding_dim, input_length=max_len))\n",
    "textcnnmodel.add(layers.Conv1D(32, 3, activation='relu'))\n",
    "textcnnmodel.add(layers.Conv1D(32, 3, activation='relu'))\n",
    "textcnnmodel.add(layers.GlobalMaxPooling1D())\n",
    "textcnnmodel.add(layers.Flatten())\n",
    "textcnnmodel.add(layers.Dense(250, activation='relu'))\n",
    "textcnnmodel.add(layers.Dense(1, activation='sigmoid'))\n",
    "textcnnmodel.compile(optimizer='adam',\n",
    "               loss='binary_crossentropy',\n",
    "               metrics=['accuracy'])\n",
    "textcnnmodel.summary() "
   ]
  },
  {
   "cell_type": "code",
   "execution_count": null,
   "metadata": {
    "colab": {
     "base_uri": "https://localhost:8080/"
    },
    "id": "6ZUo-mbYKtfD",
    "outputId": "bea38d8e-8577-45e5-d316-49418446a6dd"
   },
   "outputs": [
    {
     "name": "stdout",
     "output_type": "stream",
     "text": [
      "Epoch 1/30\n",
      "2341/2341 [==============================] - 33s 8ms/step - loss: 0.1020 - accuracy: 0.9650 - val_loss: 0.0852 - val_accuracy: 0.9704\n",
      "Epoch 2/30\n",
      "2341/2341 [==============================] - 19s 8ms/step - loss: 0.0734 - accuracy: 0.9755 - val_loss: 0.0744 - val_accuracy: 0.9743\n",
      "Epoch 3/30\n",
      "2341/2341 [==============================] - 19s 8ms/step - loss: 0.0675 - accuracy: 0.9775 - val_loss: 0.0681 - val_accuracy: 0.9761\n",
      "Epoch 4/30\n",
      "2341/2341 [==============================] - 19s 8ms/step - loss: 0.0638 - accuracy: 0.9787 - val_loss: 0.0610 - val_accuracy: 0.9785\n",
      "Epoch 5/30\n",
      "2341/2341 [==============================] - 19s 8ms/step - loss: 0.0614 - accuracy: 0.9795 - val_loss: 0.0804 - val_accuracy: 0.9727\n",
      "Epoch 6/30\n",
      "2341/2341 [==============================] - 19s 8ms/step - loss: 0.0590 - accuracy: 0.9802 - val_loss: 0.0594 - val_accuracy: 0.9793\n",
      "Epoch 7/30\n",
      "2341/2341 [==============================] - 20s 8ms/step - loss: 0.0573 - accuracy: 0.9808 - val_loss: 0.0621 - val_accuracy: 0.9786\n",
      "Epoch 8/30\n",
      "2341/2341 [==============================] - 21s 9ms/step - loss: 0.0557 - accuracy: 0.9813 - val_loss: 0.0552 - val_accuracy: 0.9808\n",
      "Epoch 9/30\n",
      "2341/2341 [==============================] - 28s 12ms/step - loss: 0.0543 - accuracy: 0.9818 - val_loss: 0.0602 - val_accuracy: 0.9791\n",
      "Epoch 10/30\n",
      "2341/2341 [==============================] - 19s 8ms/step - loss: 0.0532 - accuracy: 0.9821 - val_loss: 0.0519 - val_accuracy: 0.9820\n",
      "Epoch 11/30\n",
      "2341/2341 [==============================] - 19s 8ms/step - loss: 0.0523 - accuracy: 0.9824 - val_loss: 0.0615 - val_accuracy: 0.9785\n",
      "Epoch 12/30\n",
      "2341/2341 [==============================] - 19s 8ms/step - loss: 0.0514 - accuracy: 0.9827 - val_loss: 0.0543 - val_accuracy: 0.9810\n",
      "Epoch 13/30\n",
      "2341/2341 [==============================] - 18s 8ms/step - loss: 0.0509 - accuracy: 0.9828 - val_loss: 0.0525 - val_accuracy: 0.9816\n",
      "Epoch 14/30\n",
      "2341/2341 [==============================] - 19s 8ms/step - loss: 0.0503 - accuracy: 0.9830 - val_loss: 0.0538 - val_accuracy: 0.9815\n",
      "Epoch 15/30\n",
      "2341/2341 [==============================] - 20s 8ms/step - loss: 0.0498 - accuracy: 0.9832 - val_loss: 0.0530 - val_accuracy: 0.9815\n",
      "Epoch 16/30\n",
      "2341/2341 [==============================] - 19s 8ms/step - loss: 0.0495 - accuracy: 0.9832 - val_loss: 0.0511 - val_accuracy: 0.9822\n",
      "Epoch 17/30\n",
      "2341/2341 [==============================] - 19s 8ms/step - loss: 0.0490 - accuracy: 0.9834 - val_loss: 0.0517 - val_accuracy: 0.9821\n",
      "Epoch 18/30\n",
      "2341/2341 [==============================] - 19s 8ms/step - loss: 0.0487 - accuracy: 0.9835 - val_loss: 0.0489 - val_accuracy: 0.9829\n",
      "Epoch 19/30\n",
      "2341/2341 [==============================] - 19s 8ms/step - loss: 0.0483 - accuracy: 0.9837 - val_loss: 0.0531 - val_accuracy: 0.9819\n",
      "Epoch 20/30\n",
      "2341/2341 [==============================] - 18s 8ms/step - loss: 0.0480 - accuracy: 0.9837 - val_loss: 0.0485 - val_accuracy: 0.9833\n",
      "Epoch 21/30\n",
      "2341/2341 [==============================] - 19s 8ms/step - loss: 0.0478 - accuracy: 0.9838 - val_loss: 0.0585 - val_accuracy: 0.9800\n",
      "Epoch 22/30\n",
      "2341/2341 [==============================] - 19s 8ms/step - loss: 0.0475 - accuracy: 0.9839 - val_loss: 0.0468 - val_accuracy: 0.9838\n",
      "Epoch 23/30\n",
      "2341/2341 [==============================] - 28s 12ms/step - loss: 0.0472 - accuracy: 0.9840 - val_loss: 0.0525 - val_accuracy: 0.9817\n",
      "Epoch 24/30\n",
      "2341/2341 [==============================] - 21s 9ms/step - loss: 0.0470 - accuracy: 0.9840 - val_loss: 0.0502 - val_accuracy: 0.9826\n",
      "Epoch 25/30\n",
      "2341/2341 [==============================] - 24s 10ms/step - loss: 0.0467 - accuracy: 0.9841 - val_loss: 0.0546 - val_accuracy: 0.9808\n",
      "Epoch 26/30\n",
      "2341/2341 [==============================] - 20s 8ms/step - loss: 0.0464 - accuracy: 0.9842 - val_loss: 0.0561 - val_accuracy: 0.9802\n",
      "Epoch 27/30\n",
      "2341/2341 [==============================] - 21s 9ms/step - loss: 0.0464 - accuracy: 0.9842 - val_loss: 0.0522 - val_accuracy: 0.9815\n",
      "Epoch 28/30\n",
      "2341/2341 [==============================] - 23s 10ms/step - loss: 0.0462 - accuracy: 0.9843 - val_loss: 0.0544 - val_accuracy: 0.9812\n",
      "Epoch 29/30\n",
      "2341/2341 [==============================] - 20s 8ms/step - loss: 0.0459 - accuracy: 0.9843 - val_loss: 0.0512 - val_accuracy: 0.9824\n",
      "Epoch 30/30\n",
      "2341/2341 [==============================] - 18s 8ms/step - loss: 0.0457 - accuracy: 0.9844 - val_loss: 0.0511 - val_accuracy: 0.9823\n",
      "LSTM took 622.9919924736023 milliseconds to train data.\n",
      "\n"
     ]
    }
   ],
   "source": [
    "import time\n",
    "start = time.time()\n",
    "history=textcnnmodel.fit(X_train,y_train,\n",
    "                     epochs=30,\n",
    "                     verbose=True,\n",
    "                     validation_data=(X_test, y_test),\n",
    "                     batch_size=1000)\n",
    "end  = time.time()\n",
    "print(\"LSTM took {} milliseconds to train data.\\n\".format(end-start))"
   ]
  },
  {
   "cell_type": "code",
   "execution_count": null,
   "metadata": {
    "colab": {
     "base_uri": "https://localhost:8080/"
    },
    "id": "8cDFW4qvCRV5",
    "outputId": "52120b37-e69d-4fb3-8c0a-c4ad37bfcabe"
   },
   "outputs": [
    {
     "name": "stdout",
     "output_type": "stream",
     "text": [
      "12979/12979 [==============================] - 46s 3ms/step - loss: 0.0511 - accuracy: 0.9823\n",
      "Accuracy on test set: [0.05113103613257408, 0.9823489189147949]\n",
      "Test loss: 0.05113103613257408\n",
      "Test accuracy: 0.9823489189147949\n",
      "CNN took 82.11718440055847 milliseconds to test data.\n",
      "\n"
     ]
    }
   ],
   "source": [
    "start = time.time()\n",
    "results = textcnnmodel.evaluate(X_test, y_test)\n",
    "print (\"Accuracy on test set:\" , results)\n",
    "print('Test loss:', results[0])\n",
    "print('Test accuracy:', results[1])\n",
    "end  = time.time()\n",
    "print(\"CNN took {} milliseconds to test data.\\n\".format(end-start))"
   ]
  },
  {
   "cell_type": "code",
   "execution_count": null,
   "metadata": {
    "colab": {
     "base_uri": "https://localhost:8080/"
    },
    "id": "NqQ18Z6KCyKQ",
    "outputId": "c3320dfe-ac32-4cb4-bbfb-d20539697659"
   },
   "outputs": [
    {
     "name": "stdout",
     "output_type": "stream",
     "text": [
      "              precision    recall  f1-score   support\n",
      "\n",
      "           0       1.00      0.98      0.99    293300\n",
      "           1       0.95      0.99      0.97    122028\n",
      "\n",
      "    accuracy                           0.98    415328\n",
      "   macro avg       0.97      0.98      0.98    415328\n",
      "weighted avg       0.98      0.98      0.98    415328\n",
      "\n"
     ]
    }
   ],
   "source": [
    "from sklearn.metrics import classification_report\n",
    "y_cnnpred = textcnnmodel.predict(X_test)\n",
    "y_cnnpred=(y_cnnpred > 0.5)\n",
    "print(classification_report(y_test, y_cnnpred))"
   ]
  },
  {
   "cell_type": "code",
   "execution_count": null,
   "metadata": {
    "colab": {
     "base_uri": "https://localhost:8080/",
     "height": 369
    },
    "id": "rFGSKioqCG8i",
    "outputId": "8cd2a190-6221-4450-830e-e951f98286f1"
   },
   "outputs": [
    {
     "data": {
      "text/plain": [
       "(array([281133.,   2806.,   1795.,   1290.,   1149.,   1181.,   1319.,\n",
       "          1833.,   3518., 119304.]),\n",
       " array([1.4413043e-35, 1.0000000e-01, 2.0000000e-01, 3.0000001e-01,\n",
       "        4.0000001e-01, 5.0000000e-01, 6.0000002e-01, 6.9999999e-01,\n",
       "        8.0000001e-01, 8.9999998e-01, 1.0000000e+00], dtype=float32),\n",
       " <a list of 10 Patch objects>)"
      ]
     },
     "execution_count": 15,
     "metadata": {},
     "output_type": "execute_result"
    },
    {
     "data": {
      "image/png": "[encoded data removed]",
      "text/plain": [
       "<Figure size 432x288 with 1 Axes>"
      ]
     },
     "metadata": {
      "needs_background": "light"
     },
     "output_type": "display_data"
    }
   ],
   "source": [
    "plt.hist(textcnnmodel.predict(X_test))"
   ]
  },
  {
   "cell_type": "code",
   "execution_count": null,
   "metadata": {
    "colab": {
     "base_uri": "https://localhost:8080/"
    },
    "id": "gu4sKn19Dgrh",
    "outputId": "285b8287-99e4-416e-d9b3-afebd0e8950e"
   },
   "outputs": [
    {
     "data": {
      "text/plain": [
       "dict_keys(['loss', 'accuracy', 'val_loss', 'val_accuracy'])"
      ]
     },
     "execution_count": 17,
     "metadata": {},
     "output_type": "execute_result"
    }
   ],
   "source": [
    "history_dict = history.history\n",
    "history_dict.keys()"
   ]
  },
  {
   "cell_type": "code",
   "execution_count": null,
   "metadata": {
    "colab": {
     "base_uri": "https://localhost:8080/",
     "height": 369
    },
    "id": "8VO1EZY0BF1k",
    "outputId": "f8776977-7315-49bb-a6a9-718e39e0f851"
   },
   "outputs": [
    {
     "data": {
      "image/png": "[encoded data removed]",
      "text/plain": [
       "<Figure size 720x360 with 2 Axes>"
      ]
     },
     "metadata": {
      "needs_background": "light"
     },
     "output_type": "display_data"
    }
   ],
   "source": [
    "val_loss = history.history['val_loss']\n",
    "loss = history.history['loss']\n",
    "accuracy = history.history['accuracy']\n",
    "val_accuracy = history.history['val_accuracy']\n",
    "\n",
    "epochs = range(1, len(accuracy) + 1)\n",
    "\n",
    "plt.rcParams['figure.figsize'] = [10, 5]\n",
    "plt.subplot(1, 2, 1)\n",
    "plt.plot(epochs, loss, 'bo', label='Training loss', color='red')\n",
    "plt.plot(epochs,val_loss , 'b', label='Validation loss', color='green')\n",
    "plt.title('Training and validation loss')\n",
    "plt.xlabel('Epochs')\n",
    "plt.ylabel('Loss')\n",
    "plt.legend()\n",
    "\n",
    "plt.subplot(1, 2, 2)\n",
    "plt.plot(epochs, accuracy, 'bo', label='Training acc', color='red')\n",
    "plt.plot(epochs, val_accuracy, 'b', label='Validation acc', color='green')\n",
    "plt.title('Training and validation accuracy')\n",
    "plt.xlabel('Epochs')\n",
    "plt.ylabel('Accuracy')\n",
    "plt.legend()\n",
    "plt.tight_layout()\n",
    "plt.show()"
   ]
  },
  {
   "cell_type": "code",
   "execution_count": null,
   "metadata": {
    "colab": {
     "base_uri": "https://localhost:8080/"
    },
    "id": "0_ycyOJeDuBO",
    "outputId": "ea9b8863-1f6c-495c-fb1c-7f735446d6e2"
   },
   "outputs": [
    {
     "name": "stdout",
     "output_type": "stream",
     "text": [
      "INFO:tensorflow:Assets written to: ram://42d8c157-00fc-4b03-94f8-b177bd5e9740/assets\n"
     ]
    }
   ],
   "source": [
    "import pickle\n",
    "# save the model to disk\n",
    "filename = '/content/drive/My Drive/Colab Notebooks/Bcnnmodel2x32x3.sav'\n",
    "pickle.dump(textcnnmodel, open(filename, 'wb'))"
   ]
  },
  {
   "cell_type": "markdown",
   "metadata": {
    "id": "TgoU1Uq9OmiL"
   },
   "source": [
    "### 32x3, 20,128"
   ]
  },
  {
   "cell_type": "code",
   "execution_count": null,
   "metadata": {
    "colab": {
     "base_uri": "https://localhost:8080/"
    },
    "id": "VT5Q6TGtMhOk",
    "outputId": "ea4fef63-e615-4612-9bb3-332957ef1669"
   },
   "outputs": [
    {
     "name": "stdout",
     "output_type": "stream",
     "text": [
      "Model: \"sequential_2\"\n",
      "_________________________________________________________________\n",
      " Layer (type)                Output Shape              Param #   \n",
      "=================================================================\n",
      " embedding_2 (Embedding)     (None, 50, 100)           7000      \n",
      "                                                                 \n",
      " conv1d_2 (Conv1D)           (None, 48, 32)            9632      \n",
      "                                                                 \n",
      " global_max_pooling1d_2 (Glo  (None, 32)               0         \n",
      " balMaxPooling1D)                                                \n",
      "                                                                 \n",
      " flatten_2 (Flatten)         (None, 32)                0         \n",
      "                                                                 \n",
      " dense_4 (Dense)             (None, 250)               8250      \n",
      "                                                                 \n",
      " dense_5 (Dense)             (None, 1)                 251       \n",
      "                                                                 \n",
      "=================================================================\n",
      "Total params: 25,133\n",
      "Trainable params: 25,133\n",
      "Non-trainable params: 0\n",
      "_________________________________________________________________\n"
     ]
    }
   ],
   "source": [
    "from keras.models import Sequential\n",
    "from keras import layers \n",
    "\n",
    "embedding_dim = 100\n",
    "vocab_size=70\n",
    "textcnnmodel = Sequential()\n",
    "textcnnmodel.add(layers.Embedding(vocab_size, embedding_dim, input_length=max_len))\n",
    "textcnnmodel.add(layers.Conv1D(32, 3, activation='relu'))\n",
    "textcnnmodel.add(layers.GlobalMaxPooling1D())\n",
    "textcnnmodel.add(layers.Flatten())\n",
    "textcnnmodel.add(layers.Dense(250, activation='relu'))\n",
    "textcnnmodel.add(layers.Dense(1, activation='sigmoid'))\n",
    "textcnnmodel.compile(optimizer='adam',\n",
    "               loss='binary_crossentropy',\n",
    "               metrics=['accuracy'])\n",
    "textcnnmodel.summary() "
   ]
  },
  {
   "cell_type": "code",
   "execution_count": null,
   "metadata": {
    "colab": {
     "base_uri": "https://localhost:8080/"
    },
    "id": "pqiorvTfMhOu",
    "outputId": "a29bf580-8408-4df5-dc1f-b2668e5361d5"
   },
   "outputs": [
    {
     "name": "stdout",
     "output_type": "stream",
     "text": [
      "Epoch 1/20\n",
      "18295/18295 [==============================] - 91s 5ms/step - loss: 0.0905 - accuracy: 0.9694 - val_loss: 0.0761 - val_accuracy: 0.9734\n",
      "Epoch 2/20\n",
      "18295/18295 [==============================] - 89s 5ms/step - loss: 0.0730 - accuracy: 0.9756 - val_loss: 0.0815 - val_accuracy: 0.9718\n",
      "Epoch 3/20\n",
      "18295/18295 [==============================] - 86s 5ms/step - loss: 0.0693 - accuracy: 0.9769 - val_loss: 0.0672 - val_accuracy: 0.9766\n",
      "Epoch 4/20\n",
      "18295/18295 [==============================] - 90s 5ms/step - loss: 0.0673 - accuracy: 0.9776 - val_loss: 0.0673 - val_accuracy: 0.9767\n",
      "Epoch 5/20\n",
      "18295/18295 [==============================] - 85s 5ms/step - loss: 0.0659 - accuracy: 0.9781 - val_loss: 0.0661 - val_accuracy: 0.9773\n",
      "Epoch 6/20\n",
      "18295/18295 [==============================] - 90s 5ms/step - loss: 0.0649 - accuracy: 0.9784 - val_loss: 0.0723 - val_accuracy: 0.9753\n",
      "Epoch 7/20\n",
      "18295/18295 [==============================] - 84s 5ms/step - loss: 0.0640 - accuracy: 0.9788 - val_loss: 0.0741 - val_accuracy: 0.9742\n",
      "Epoch 8/20\n",
      "18295/18295 [==============================] - 90s 5ms/step - loss: 0.0634 - accuracy: 0.9789 - val_loss: 0.0652 - val_accuracy: 0.9777\n",
      "Epoch 9/20\n",
      "18295/18295 [==============================] - 85s 5ms/step - loss: 0.0627 - accuracy: 0.9791 - val_loss: 0.0626 - val_accuracy: 0.9781\n",
      "Epoch 10/20\n",
      "18295/18295 [==============================] - 90s 5ms/step - loss: 0.0622 - accuracy: 0.9793 - val_loss: 0.0698 - val_accuracy: 0.9755\n",
      "Epoch 11/20\n",
      "18295/18295 [==============================] - 90s 5ms/step - loss: 0.0617 - accuracy: 0.9795 - val_loss: 0.0601 - val_accuracy: 0.9792\n",
      "Epoch 12/20\n",
      "18295/18295 [==============================] - 86s 5ms/step - loss: 0.0612 - accuracy: 0.9797 - val_loss: 0.0660 - val_accuracy: 0.9769\n",
      "Epoch 13/20\n",
      "18295/18295 [==============================] - 88s 5ms/step - loss: 0.0609 - accuracy: 0.9797 - val_loss: 0.0665 - val_accuracy: 0.9770\n",
      "Epoch 14/20\n",
      "18295/18295 [==============================] - 88s 5ms/step - loss: 0.0605 - accuracy: 0.9798 - val_loss: 0.0656 - val_accuracy: 0.9773\n",
      "Epoch 15/20\n",
      "18295/18295 [==============================] - 89s 5ms/step - loss: 0.0603 - accuracy: 0.9798 - val_loss: 0.0599 - val_accuracy: 0.9791\n",
      "Epoch 16/20\n",
      "18295/18295 [==============================] - 84s 5ms/step - loss: 0.0600 - accuracy: 0.9799 - val_loss: 0.0695 - val_accuracy: 0.9760\n",
      "Epoch 17/20\n",
      "18295/18295 [==============================] - 89s 5ms/step - loss: 0.0599 - accuracy: 0.9801 - val_loss: 0.0655 - val_accuracy: 0.9775\n",
      "Epoch 18/20\n",
      "18295/18295 [==============================] - 86s 5ms/step - loss: 0.0596 - accuracy: 0.9802 - val_loss: 0.0667 - val_accuracy: 0.9767\n",
      "Epoch 19/20\n",
      "18295/18295 [==============================] - 88s 5ms/step - loss: 0.0594 - accuracy: 0.9802 - val_loss: 0.0629 - val_accuracy: 0.9783\n",
      "Epoch 20/20\n",
      "18295/18295 [==============================] - 88s 5ms/step - loss: 0.0593 - accuracy: 0.9802 - val_loss: 0.0665 - val_accuracy: 0.9769\n",
      "LSTM took 1762.8692083358765 milliseconds to train data.\n",
      "\n"
     ]
    }
   ],
   "source": [
    "import time\n",
    "start = time.time()\n",
    "history=textcnnmodel.fit(X_train,y_train,\n",
    "                     epochs=20,\n",
    "                     verbose=True,\n",
    "                     validation_data=(X_test, y_test),\n",
    "                     batch_size=128)\n",
    "end  = time.time()\n",
    "print(\"LSTM took {} milliseconds to train data.\\n\".format(end-start))"
   ]
  },
  {
   "cell_type": "code",
   "execution_count": null,
   "metadata": {
    "colab": {
     "base_uri": "https://localhost:8080/"
    },
    "id": "g9CXx5CXMhOv",
    "outputId": "6baa9fc0-4a5e-4ada-fd56-c5bdd02cb9c3"
   },
   "outputs": [
    {
     "name": "stdout",
     "output_type": "stream",
     "text": [
      "Training Accuracy: 0.9807\n",
      "Testing Accuracy:  0.9769\n"
     ]
    }
   ],
   "source": [
    "loss, accuracy = textcnnmodel.evaluate(X_train, y_train, verbose=False)\n",
    "print(\"Training Accuracy: {:.4f}\".format(accuracy))\n",
    "loss, accuracy = textcnnmodel.evaluate(X_test, y_test, verbose=False)\n",
    "print(\"Testing Accuracy:  {:.4f}\".format(accuracy)) "
   ]
  },
  {
   "cell_type": "code",
   "execution_count": null,
   "metadata": {
    "colab": {
     "base_uri": "https://localhost:8080/"
    },
    "id": "u8_403NHMhOw",
    "outputId": "800c6b85-49ee-4516-97cd-c6f4ed2ab013"
   },
   "outputs": [
    {
     "name": "stdout",
     "output_type": "stream",
     "text": [
      "LSTM took 16.43698787689209 milliseconds to test data.\n",
      "\n"
     ]
    }
   ],
   "source": [
    "start = time.time()\n",
    "y_lstmpred = textcnnmodel.predict(X_test)\n",
    "end  = time.time()\n",
    "print(\"LSTM took {} milliseconds to test data.\\n\".format(end-start))"
   ]
  },
  {
   "cell_type": "code",
   "execution_count": null,
   "metadata": {
    "colab": {
     "base_uri": "https://localhost:8080/"
    },
    "id": "7w2w6R19MhOx",
    "outputId": "66f20f29-afac-4d48-a86f-d7e76573a698"
   },
   "outputs": [
    {
     "name": "stdout",
     "output_type": "stream",
     "text": [
      "              precision    recall  f1-score   support\n",
      "\n",
      "           0       1.00      0.97      0.98    292751\n",
      "           1       0.93      0.99      0.96    122577\n",
      "\n",
      "    accuracy                           0.98    415328\n",
      "   macro avg       0.97      0.98      0.97    415328\n",
      "weighted avg       0.98      0.98      0.98    415328\n",
      "\n"
     ]
    }
   ],
   "source": [
    "from sklearn.metrics import classification_report\n",
    "y_lstmpred=(y_lstmpred > 0.5)\n",
    "print(classification_report(y_test, y_lstmpred))"
   ]
  },
  {
   "cell_type": "code",
   "execution_count": null,
   "metadata": {
    "colab": {
     "base_uri": "https://localhost:8080/",
     "height": 573
    },
    "id": "eocZgt7oMhOy",
    "outputId": "6cb57a7f-58fb-45ac-be93-d69ecf6f12ba"
   },
   "outputs": [
    {
     "data": {
      "image/png": "[encoded data removed]",
      "text/plain": [
       "<Figure size 432x288 with 1 Axes>"
      ]
     },
     "metadata": {
      "needs_background": "light"
     },
     "output_type": "display_data"
    },
    {
     "data": {
      "image/png": "[encoded data removed]",
      "text/plain": [
       "<Figure size 432x288 with 1 Axes>"
      ]
     },
     "metadata": {
      "needs_background": "light"
     },
     "output_type": "display_data"
    }
   ],
   "source": [
    "def Training_and_validation_plot(history):\n",
    "    acc = history.history['accuracy']\n",
    "    val_acc = history.history['val_accuracy']\n",
    "    loss = history.history['loss']\n",
    "    val_loss = history.history['val_loss']\n",
    "    epochs = range(1, len(acc) + 1)\n",
    "\n",
    "    plt.plot(epochs, acc, 'bo', label = 'Training Accuracy')\n",
    "    plt.plot(epochs, val_acc, 'r', label = 'Validation Accuracy')\n",
    "    plt.title('Training and Validation Accuracy')\n",
    "    plt.xlabel('Epochs')\n",
    "    plt.ylabel('Loss')\n",
    "    plt.legend()\n",
    "\n",
    "    plt.figure()\n",
    "    plt.plot(epochs, loss, 'bo', label = 'Training Loss')\n",
    "    plt.plot(epochs, val_loss, 'r', label = 'Validation Loss')\n",
    "    plt.title('Training and Validation Loss')\n",
    "    plt.xlabel('Epochs')\n",
    "    plt.ylabel('Loss')\n",
    "    plt.legend()\n",
    "    plt.show()\n",
    "Training_and_validation_plot(history)"
   ]
  },
  {
   "cell_type": "markdown",
   "metadata": {
    "id": "1_fnXXgVmGtY"
   },
   "source": [
    "### 64x3, 30,1000"
   ]
  },
  {
   "cell_type": "code",
   "execution_count": null,
   "metadata": {
    "colab": {
     "base_uri": "https://localhost:8080/"
    },
    "id": "GVQ6hMSQmGtf",
    "outputId": "49514392-6d10-49dc-983d-3eb042be0d03"
   },
   "outputs": [
    {
     "name": "stdout",
     "output_type": "stream",
     "text": [
      "Model: \"sequential\"\n",
      "_________________________________________________________________\n",
      " Layer (type)                Output Shape              Param #   \n",
      "=================================================================\n",
      " embedding (Embedding)       (None, 50, 100)           7000      \n",
      "                                                                 \n",
      " conv1d (Conv1D)             (None, 48, 64)            19264     \n",
      "                                                                 \n",
      " global_max_pooling1d (Globa  (None, 64)               0         \n",
      " lMaxPooling1D)                                                  \n",
      "                                                                 \n",
      " flatten (Flatten)           (None, 64)                0         \n",
      "                                                                 \n",
      " dense (Dense)               (None, 250)               16250     \n",
      "                                                                 \n",
      " dense_1 (Dense)             (None, 1)                 251       \n",
      "                                                                 \n",
      "=================================================================\n",
      "Total params: 42,765\n",
      "Trainable params: 42,765\n",
      "Non-trainable params: 0\n",
      "_________________________________________________________________\n"
     ]
    }
   ],
   "source": [
    "from keras.models import Sequential\n",
    "from keras import layers \n",
    "\n",
    "embedding_dim = 100\n",
    "vocab_size=70\n",
    "textcnnmodel = Sequential()\n",
    "textcnnmodel.add(layers.Embedding(vocab_size, embedding_dim, input_length=max_len))\n",
    "textcnnmodel.add(layers.Conv1D(64, 3, activation='relu'))\n",
    "textcnnmodel.add(layers.GlobalMaxPooling1D())\n",
    "textcnnmodel.add(layers.Flatten())\n",
    "textcnnmodel.add(layers.Dense(250, activation='relu'))\n",
    "textcnnmodel.add(layers.Dense(1, activation='sigmoid'))\n",
    "textcnnmodel.compile(optimizer='adam',\n",
    "               loss='binary_crossentropy',\n",
    "               metrics=['accuracy'])\n",
    "textcnnmodel.summary() "
   ]
  },
  {
   "cell_type": "code",
   "execution_count": null,
   "metadata": {
    "colab": {
     "base_uri": "https://localhost:8080/"
    },
    "id": "Pek8oiBnmGti",
    "outputId": "771c2870-327f-4a10-f696-0af84cbf51df"
   },
   "outputs": [
    {
     "name": "stdout",
     "output_type": "stream",
     "text": [
      "Epoch 1/30\n",
      "2342/2342 [==============================] - 36s 10ms/step - loss: 0.0969 - accuracy: 0.9672 - val_loss: 0.0789 - val_accuracy: 0.9726\n",
      "Epoch 2/30\n",
      "2342/2342 [==============================] - 20s 9ms/step - loss: 0.0711 - accuracy: 0.9765 - val_loss: 0.0754 - val_accuracy: 0.9742\n",
      "Epoch 3/30\n",
      "2342/2342 [==============================] - 19s 8ms/step - loss: 0.0656 - accuracy: 0.9783 - val_loss: 0.0625 - val_accuracy: 0.9783\n",
      "Epoch 4/30\n",
      "2342/2342 [==============================] - 21s 9ms/step - loss: 0.0619 - accuracy: 0.9795 - val_loss: 0.0670 - val_accuracy: 0.9768\n",
      "Epoch 5/30\n",
      "2342/2342 [==============================] - 21s 9ms/step - loss: 0.0594 - accuracy: 0.9803 - val_loss: 0.0641 - val_accuracy: 0.9779\n",
      "Epoch 6/30\n",
      "2342/2342 [==============================] - 20s 8ms/step - loss: 0.0578 - accuracy: 0.9807 - val_loss: 0.0604 - val_accuracy: 0.9789\n",
      "Epoch 7/30\n",
      "2342/2342 [==============================] - 20s 8ms/step - loss: 0.0565 - accuracy: 0.9810 - val_loss: 0.0594 - val_accuracy: 0.9792\n",
      "Epoch 8/30\n",
      "2342/2342 [==============================] - 19s 8ms/step - loss: 0.0552 - accuracy: 0.9815 - val_loss: 0.0639 - val_accuracy: 0.9780\n",
      "Epoch 9/30\n",
      "2342/2342 [==============================] - 21s 9ms/step - loss: 0.0544 - accuracy: 0.9817 - val_loss: 0.0608 - val_accuracy: 0.9786\n",
      "Epoch 10/30\n",
      "2342/2342 [==============================] - 20s 8ms/step - loss: 0.0534 - accuracy: 0.9820 - val_loss: 0.0541 - val_accuracy: 0.9812\n",
      "Epoch 11/30\n",
      "2342/2342 [==============================] - 20s 8ms/step - loss: 0.0526 - accuracy: 0.9822 - val_loss: 0.0547 - val_accuracy: 0.9807\n",
      "Epoch 12/30\n",
      "2342/2342 [==============================] - 19s 8ms/step - loss: 0.0520 - accuracy: 0.9825 - val_loss: 0.0610 - val_accuracy: 0.9790\n",
      "Epoch 13/30\n",
      "2342/2342 [==============================] - 20s 9ms/step - loss: 0.0514 - accuracy: 0.9826 - val_loss: 0.0583 - val_accuracy: 0.9793\n",
      "Epoch 14/30\n",
      "2342/2342 [==============================] - 21s 9ms/step - loss: 0.0507 - accuracy: 0.9828 - val_loss: 0.0531 - val_accuracy: 0.9816\n",
      "Epoch 15/30\n",
      "2342/2342 [==============================] - 19s 8ms/step - loss: 0.0502 - accuracy: 0.9830 - val_loss: 0.0579 - val_accuracy: 0.9793\n",
      "Epoch 16/30\n",
      "2342/2342 [==============================] - 21s 9ms/step - loss: 0.0496 - accuracy: 0.9832 - val_loss: 0.0529 - val_accuracy: 0.9814\n",
      "Epoch 17/30\n",
      "2342/2342 [==============================] - 21s 9ms/step - loss: 0.0492 - accuracy: 0.9833 - val_loss: 0.0589 - val_accuracy: 0.9797\n",
      "Epoch 18/30\n",
      "2342/2342 [==============================] - 21s 9ms/step - loss: 0.0487 - accuracy: 0.9834 - val_loss: 0.0552 - val_accuracy: 0.9810\n",
      "Epoch 19/30\n",
      "2342/2342 [==============================] - 20s 8ms/step - loss: 0.0483 - accuracy: 0.9836 - val_loss: 0.0548 - val_accuracy: 0.9811\n",
      "Epoch 20/30\n",
      "2342/2342 [==============================] - 21s 9ms/step - loss: 0.0479 - accuracy: 0.9838 - val_loss: 0.0543 - val_accuracy: 0.9814\n",
      "Epoch 21/30\n",
      "2342/2342 [==============================] - 21s 9ms/step - loss: 0.0474 - accuracy: 0.9839 - val_loss: 0.0524 - val_accuracy: 0.9817\n",
      "Epoch 22/30\n",
      "2342/2342 [==============================] - 21s 9ms/step - loss: 0.0471 - accuracy: 0.9840 - val_loss: 0.0512 - val_accuracy: 0.9822\n",
      "Epoch 23/30\n",
      "2342/2342 [==============================] - 20s 8ms/step - loss: 0.0467 - accuracy: 0.9841 - val_loss: 0.0582 - val_accuracy: 0.9799\n",
      "Epoch 24/30\n",
      "2342/2342 [==============================] - 21s 9ms/step - loss: 0.0464 - accuracy: 0.9842 - val_loss: 0.0563 - val_accuracy: 0.9806\n",
      "Epoch 25/30\n",
      "2342/2342 [==============================] - 21s 9ms/step - loss: 0.0461 - accuracy: 0.9843 - val_loss: 0.0566 - val_accuracy: 0.9803\n",
      "Epoch 26/30\n",
      "2342/2342 [==============================] - 21s 9ms/step - loss: 0.0459 - accuracy: 0.9843 - val_loss: 0.0600 - val_accuracy: 0.9797\n",
      "Epoch 27/30\n",
      "2342/2342 [==============================] - 21s 9ms/step - loss: 0.0455 - accuracy: 0.9844 - val_loss: 0.0482 - val_accuracy: 0.9830\n",
      "Epoch 28/30\n",
      "2342/2342 [==============================] - 20s 8ms/step - loss: 0.0454 - accuracy: 0.9844 - val_loss: 0.0543 - val_accuracy: 0.9811\n",
      "Epoch 29/30\n",
      "2342/2342 [==============================] - 21s 9ms/step - loss: 0.0451 - accuracy: 0.9846 - val_loss: 0.0535 - val_accuracy: 0.9818\n",
      "Epoch 30/30\n",
      "2342/2342 [==============================] - 21s 9ms/step - loss: 0.0449 - accuracy: 0.9847 - val_loss: 0.0535 - val_accuracy: 0.9812\n",
      "LSTM took 627.5274538993835 milliseconds to train data.\n",
      "\n"
     ]
    }
   ],
   "source": [
    "import time\n",
    "start = time.time()\n",
    "history=textcnnmodel.fit(X_train,y_train,\n",
    "                     epochs=30,\n",
    "                     verbose=True,\n",
    "                     validation_data=(X_test, y_test),\n",
    "                     batch_size=1000)\n",
    "end  = time.time()\n",
    "print(\"LSTM took {} milliseconds to train data.\\n\".format(end-start))"
   ]
  },
  {
   "cell_type": "code",
   "execution_count": null,
   "metadata": {
    "colab": {
     "base_uri": "https://localhost:8080/"
    },
    "id": "8Hokg2OGmGtj",
    "outputId": "d8e3695a-0cbf-4022-b500-28011f568022"
   },
   "outputs": [
    {
     "name": "stdout",
     "output_type": "stream",
     "text": [
      "Training Accuracy: 0.9851\n",
      "Testing Accuracy:  0.9812\n"
     ]
    }
   ],
   "source": [
    "loss, accuracy = textcnnmodel.evaluate(X_train, y_train, verbose=False)\n",
    "print(\"Training Accuracy: {:.4f}\".format(accuracy))\n",
    "loss, accuracy = textcnnmodel.evaluate(X_test, y_test, verbose=False)\n",
    "print(\"Testing Accuracy:  {:.4f}\".format(accuracy)) "
   ]
  },
  {
   "cell_type": "code",
   "execution_count": null,
   "metadata": {
    "colab": {
     "base_uri": "https://localhost:8080/"
    },
    "id": "v_yNo5VjmGtk",
    "outputId": "04800b68-1480-49ca-c285-3b3cc53e4cbf"
   },
   "outputs": [
    {
     "name": "stdout",
     "output_type": "stream",
     "text": [
      "LSTM took 20.564823627471924 milliseconds to test data.\n",
      "\n"
     ]
    }
   ],
   "source": [
    "start = time.time()\n",
    "y_lstmpred = textcnnmodel.predict(X_test)\n",
    "end  = time.time()\n",
    "print(\"LSTM took {} milliseconds to test data.\\n\".format(end-start))"
   ]
  },
  {
   "cell_type": "code",
   "execution_count": null,
   "metadata": {
    "colab": {
     "base_uri": "https://localhost:8080/"
    },
    "id": "9nzRnbSFmGtl",
    "outputId": "31a5748e-1d4a-416b-b67f-9a54ed2e33ad"
   },
   "outputs": [
    {
     "name": "stdout",
     "output_type": "stream",
     "text": [
      "              precision    recall  f1-score   support\n",
      "\n",
      "           0       1.00      0.98      0.99    292751\n",
      "           1       0.95      0.99      0.97    122577\n",
      "\n",
      "    accuracy                           0.98    415328\n",
      "   macro avg       0.97      0.98      0.98    415328\n",
      "weighted avg       0.98      0.98      0.98    415328\n",
      "\n"
     ]
    }
   ],
   "source": [
    "from sklearn.metrics import classification_report\n",
    "y_lstmpred=(y_lstmpred > 0.5)\n",
    "print(classification_report(y_test, y_lstmpred))"
   ]
  },
  {
   "cell_type": "code",
   "execution_count": null,
   "metadata": {
    "colab": {
     "base_uri": "https://localhost:8080/",
     "height": 573
    },
    "id": "TUK_MidvmGtl",
    "outputId": "8412fbc9-5e76-408a-b33a-fb0dc5ba72c9"
   },
   "outputs": [
    {
     "data": {
      "image/png": "[encoded data removed]",
      "text/plain": [
       "<Figure size 432x288 with 1 Axes>"
      ]
     },
     "metadata": {
      "needs_background": "light"
     },
     "output_type": "display_data"
    },
    {
     "data": {
      "image/png": "[encoded data removed]",
      "text/plain": [
       "<Figure size 432x288 with 1 Axes>"
      ]
     },
     "metadata": {
      "needs_background": "light"
     },
     "output_type": "display_data"
    }
   ],
   "source": [
    "def Training_and_validation_plot(history):\n",
    "    acc = history.history['accuracy']\n",
    "    val_acc = history.history['val_accuracy']\n",
    "    loss = history.history['loss']\n",
    "    val_loss = history.history['val_loss']\n",
    "    epochs = range(1, len(acc) + 1)\n",
    "\n",
    "    plt.plot(epochs, acc, 'bo', label = 'Training Accuracy')\n",
    "    plt.plot(epochs, val_acc, 'r', label = 'Validation Accuracy')\n",
    "    plt.title('Training and Validation Accuracy')\n",
    "    plt.xlabel('Epochs')\n",
    "    plt.ylabel('Loss')\n",
    "    plt.legend()\n",
    "\n",
    "    plt.figure()\n",
    "    plt.plot(epochs, loss, 'bo', label = 'Training Loss')\n",
    "    plt.plot(epochs, val_loss, 'r', label = 'Validation Loss')\n",
    "    plt.title('Training and Validation Loss')\n",
    "    plt.xlabel('Epochs')\n",
    "    plt.ylabel('Loss')\n",
    "    plt.legend()\n",
    "    plt.show()\n",
    "Training_and_validation_plot(history)"
   ]
  },
  {
   "cell_type": "code",
   "execution_count": null,
   "metadata": {
    "colab": {
     "base_uri": "https://localhost:8080/"
    },
    "id": "06zVvzuapzhk",
    "outputId": "98183091-ca32-4fa4-d108-b1464934e938"
   },
   "outputs": [
    {
     "name": "stdout",
     "output_type": "stream",
     "text": [
      "INFO:tensorflow:Assets written to: ram://30f27df9-9c48-4b1b-aaaf-4acf7d1cb624/assets\n"
     ]
    }
   ],
   "source": [
    "import pickle\n",
    "# save the model to disk\n",
    "filename = '/content/drive/My Drive/Colab Notebooks/Blstmmodel_ftn64x3.sav'\n",
    "pickle.dump(textcnnmodel, open(filename, 'wb'))"
   ]
  },
  {
   "cell_type": "markdown",
   "metadata": {
    "id": "fZ7YGVRTnSdT"
   },
   "source": [
    "### 128x3, 1000,30"
   ]
  },
  {
   "cell_type": "code",
   "execution_count": null,
   "metadata": {
    "colab": {
     "base_uri": "https://localhost:8080/"
    },
    "id": "7JjqsowlqB95",
    "outputId": "392867ad-3de2-49d1-efa9-f5295ff50fb6"
   },
   "outputs": [
    {
     "name": "stdout",
     "output_type": "stream",
     "text": [
      "Model: \"sequential_1\"\n",
      "_________________________________________________________________\n",
      " Layer (type)                Output Shape              Param #   \n",
      "=================================================================\n",
      " embedding_1 (Embedding)     (None, 50, 100)           7000      \n",
      "                                                                 \n",
      " conv1d_1 (Conv1D)           (None, 48, 128)           38528     \n",
      "                                                                 \n",
      " global_max_pooling1d_1 (Glo  (None, 128)              0         \n",
      " balMaxPooling1D)                                                \n",
      "                                                                 \n",
      " flatten_1 (Flatten)         (None, 128)               0         \n",
      "                                                                 \n",
      " dense_2 (Dense)             (None, 250)               32250     \n",
      "                                                                 \n",
      " dense_3 (Dense)             (None, 1)                 251       \n",
      "                                                                 \n",
      "=================================================================\n",
      "Total params: 78,029\n",
      "Trainable params: 78,029\n",
      "Non-trainable params: 0\n",
      "_________________________________________________________________\n"
     ]
    }
   ],
   "source": [
    "from keras.models import Sequential\n",
    "from keras import layers \n",
    "\n",
    "embedding_dim = 100\n",
    "vocab_size=70\n",
    "textcnnmodel = Sequential()\n",
    "textcnnmodel.add(layers.Embedding(vocab_size, embedding_dim, input_length=max_len))\n",
    "textcnnmodel.add(layers.Conv1D(128, 3, activation='relu'))\n",
    "textcnnmodel.add(layers.GlobalMaxPooling1D())\n",
    "textcnnmodel.add(layers.Flatten())\n",
    "textcnnmodel.add(layers.Dense(250, activation='relu'))\n",
    "textcnnmodel.add(layers.Dense(1, activation='sigmoid'))\n",
    "textcnnmodel.compile(optimizer='adam',\n",
    "               loss='binary_crossentropy',\n",
    "               metrics=['accuracy'])\n",
    "textcnnmodel.summary() "
   ]
  },
  {
   "cell_type": "code",
   "execution_count": null,
   "metadata": {
    "colab": {
     "base_uri": "https://localhost:8080/"
    },
    "id": "sVMksOqIqB96",
    "outputId": "a26142d8-e01e-44c7-f73d-ad9429aa105e"
   },
   "outputs": [
    {
     "name": "stdout",
     "output_type": "stream",
     "text": [
      "Epoch 1/30\n",
      "2342/2342 [==============================] - 25s 11ms/step - loss: 0.0896 - accuracy: 0.9698 - val_loss: 0.0632 - val_accuracy: 0.9777\n",
      "Epoch 2/30\n",
      "2342/2342 [==============================] - 25s 11ms/step - loss: 0.0644 - accuracy: 0.9787 - val_loss: 0.0692 - val_accuracy: 0.9765\n",
      "Epoch 3/30\n",
      "2342/2342 [==============================] - 26s 11ms/step - loss: 0.0595 - accuracy: 0.9803 - val_loss: 0.0536 - val_accuracy: 0.9814\n",
      "Epoch 4/30\n",
      "2342/2342 [==============================] - 24s 10ms/step - loss: 0.0559 - accuracy: 0.9814 - val_loss: 0.0537 - val_accuracy: 0.9811\n",
      "Epoch 5/30\n",
      "2342/2342 [==============================] - 25s 11ms/step - loss: 0.0532 - accuracy: 0.9823 - val_loss: 0.0606 - val_accuracy: 0.9792\n",
      "Epoch 6/30\n",
      "2342/2342 [==============================] - 25s 11ms/step - loss: 0.0511 - accuracy: 0.9829 - val_loss: 0.0525 - val_accuracy: 0.9816\n",
      "Epoch 7/30\n",
      "2342/2342 [==============================] - 24s 10ms/step - loss: 0.0495 - accuracy: 0.9834 - val_loss: 0.0562 - val_accuracy: 0.9806\n",
      "Epoch 8/30\n",
      "2342/2342 [==============================] - 26s 11ms/step - loss: 0.0482 - accuracy: 0.9838 - val_loss: 0.0476 - val_accuracy: 0.9832\n",
      "Epoch 9/30\n",
      "2342/2342 [==============================] - 24s 10ms/step - loss: 0.0472 - accuracy: 0.9840 - val_loss: 0.0511 - val_accuracy: 0.9820\n",
      "Epoch 10/30\n",
      "2342/2342 [==============================] - 24s 10ms/step - loss: 0.0461 - accuracy: 0.9844 - val_loss: 0.0519 - val_accuracy: 0.9818\n",
      "Epoch 11/30\n",
      "2342/2342 [==============================] - 24s 10ms/step - loss: 0.0451 - accuracy: 0.9847 - val_loss: 0.0490 - val_accuracy: 0.9828\n",
      "Epoch 12/30\n",
      "2342/2342 [==============================] - 25s 11ms/step - loss: 0.0443 - accuracy: 0.9850 - val_loss: 0.0468 - val_accuracy: 0.9838\n",
      "Epoch 13/30\n",
      "2342/2342 [==============================] - 25s 11ms/step - loss: 0.0435 - accuracy: 0.9852 - val_loss: 0.0545 - val_accuracy: 0.9814\n",
      "Epoch 14/30\n",
      "2342/2342 [==============================] - 25s 11ms/step - loss: 0.0428 - accuracy: 0.9854 - val_loss: 0.0442 - val_accuracy: 0.9843\n",
      "Epoch 15/30\n",
      "2342/2342 [==============================] - 24s 10ms/step - loss: 0.0420 - accuracy: 0.9857 - val_loss: 0.0456 - val_accuracy: 0.9838\n",
      "Epoch 16/30\n",
      "2342/2342 [==============================] - 24s 10ms/step - loss: 0.0417 - accuracy: 0.9857 - val_loss: 0.0468 - val_accuracy: 0.9840\n",
      "Epoch 17/30\n",
      "2342/2342 [==============================] - 25s 11ms/step - loss: 0.0410 - accuracy: 0.9860 - val_loss: 0.0434 - val_accuracy: 0.9849\n",
      "Epoch 18/30\n",
      "2342/2342 [==============================] - 25s 11ms/step - loss: 0.0405 - accuracy: 0.9861 - val_loss: 0.0474 - val_accuracy: 0.9834\n",
      "Epoch 19/30\n",
      "2342/2342 [==============================] - 24s 10ms/step - loss: 0.0402 - accuracy: 0.9863 - val_loss: 0.0504 - val_accuracy: 0.9827\n",
      "Epoch 20/30\n",
      "2342/2342 [==============================] - 24s 10ms/step - loss: 0.0396 - accuracy: 0.9865 - val_loss: 0.0465 - val_accuracy: 0.9838\n",
      "Epoch 21/30\n",
      "2342/2342 [==============================] - 25s 11ms/step - loss: 0.0393 - accuracy: 0.9865 - val_loss: 0.0526 - val_accuracy: 0.9820\n",
      "Epoch 22/30\n",
      "2342/2342 [==============================] - 24s 10ms/step - loss: 0.0388 - accuracy: 0.9867 - val_loss: 0.0502 - val_accuracy: 0.9826\n",
      "Epoch 23/30\n",
      "2342/2342 [==============================] - 25s 11ms/step - loss: 0.0384 - accuracy: 0.9868 - val_loss: 0.0494 - val_accuracy: 0.9830\n",
      "Epoch 24/30\n",
      "2342/2342 [==============================] - 25s 11ms/step - loss: 0.0381 - accuracy: 0.9868 - val_loss: 0.0511 - val_accuracy: 0.9824\n",
      "Epoch 25/30\n",
      "2342/2342 [==============================] - 25s 11ms/step - loss: 0.0378 - accuracy: 0.9870 - val_loss: 0.0472 - val_accuracy: 0.9838\n",
      "Epoch 26/30\n",
      "2342/2342 [==============================] - 24s 10ms/step - loss: 0.0375 - accuracy: 0.9871 - val_loss: 0.0436 - val_accuracy: 0.9849\n",
      "Epoch 27/30\n",
      "2342/2342 [==============================] - 25s 11ms/step - loss: 0.0371 - accuracy: 0.9872 - val_loss: 0.0495 - val_accuracy: 0.9833\n",
      "Epoch 28/30\n",
      "2342/2342 [==============================] - 24s 10ms/step - loss: 0.0368 - accuracy: 0.9873 - val_loss: 0.0430 - val_accuracy: 0.9852\n",
      "Epoch 29/30\n",
      "2342/2342 [==============================] - 24s 10ms/step - loss: 0.0366 - accuracy: 0.9874 - val_loss: 0.0548 - val_accuracy: 0.9814\n",
      "Epoch 30/30\n",
      "2342/2342 [==============================] - 24s 10ms/step - loss: 0.0363 - accuracy: 0.9875 - val_loss: 0.0466 - val_accuracy: 0.9842\n",
      "LSTM took 742.4767844676971 milliseconds to train data.\n",
      "\n"
     ]
    }
   ],
   "source": [
    "import time\n",
    "start = time.time()\n",
    "history=textcnnmodel.fit(X_train,y_train,\n",
    "                     epochs=30,\n",
    "                     verbose=True,\n",
    "                     validation_data=(X_test, y_test),\n",
    "                     batch_size=1000)\n",
    "end  = time.time()\n",
    "print(\"LSTM took {} milliseconds to train data.\\n\".format(end-start))"
   ]
  },
  {
   "cell_type": "code",
   "execution_count": null,
   "metadata": {
    "colab": {
     "base_uri": "https://localhost:8080/"
    },
    "id": "k1nqK9TnqB97",
    "outputId": "9856dff4-f922-442f-e9f2-9dcb853e4ad4"
   },
   "outputs": [
    {
     "name": "stdout",
     "output_type": "stream",
     "text": [
      "Training Accuracy: 0.9882\n",
      "Testing Accuracy:  0.9842\n"
     ]
    }
   ],
   "source": [
    "loss, accuracy = textcnnmodel.evaluate(X_train, y_train, verbose=False)\n",
    "print(\"Training Accuracy: {:.4f}\".format(accuracy))\n",
    "loss, accuracy = textcnnmodel.evaluate(X_test, y_test, verbose=False)\n",
    "print(\"Testing Accuracy:  {:.4f}\".format(accuracy)) "
   ]
  },
  {
   "cell_type": "code",
   "execution_count": null,
   "metadata": {
    "colab": {
     "base_uri": "https://localhost:8080/"
    },
    "id": "mmhmnObcqB97",
    "outputId": "fe8ca733-36af-43ce-ee65-694eb80e884f"
   },
   "outputs": [
    {
     "name": "stdout",
     "output_type": "stream",
     "text": [
      "LSTM took 16.6719651222229 milliseconds to test data.\n",
      "\n"
     ]
    }
   ],
   "source": [
    "start = time.time()\n",
    "y_lstmpred = textcnnmodel.predict(X_test)\n",
    "end  = time.time()\n",
    "print(\"LSTM took {} milliseconds to test data.\\n\".format(end-start))"
   ]
  },
  {
   "cell_type": "code",
   "execution_count": null,
   "metadata": {
    "colab": {
     "base_uri": "https://localhost:8080/"
    },
    "id": "TPZXfE2EqB98",
    "outputId": "a281d375-29db-4dba-c7f8-5d51a7517312"
   },
   "outputs": [
    {
     "name": "stdout",
     "output_type": "stream",
     "text": [
      "              precision    recall  f1-score   support\n",
      "\n",
      "           0       1.00      0.98      0.99    292751\n",
      "           1       0.96      0.99      0.97    122577\n",
      "\n",
      "    accuracy                           0.98    415328\n",
      "   macro avg       0.98      0.99      0.98    415328\n",
      "weighted avg       0.98      0.98      0.98    415328\n",
      "\n"
     ]
    }
   ],
   "source": [
    "from sklearn.metrics import classification_report\n",
    "y_lstmpred=(y_lstmpred > 0.5)\n",
    "print(classification_report(y_test, y_lstmpred))"
   ]
  },
  {
   "cell_type": "code",
   "execution_count": null,
   "metadata": {
    "colab": {
     "base_uri": "https://localhost:8080/",
     "height": 573
    },
    "id": "pMDjK9hOqB98",
    "outputId": "3f6fece2-f291-4185-ea8a-830d2f2e62ec"
   },
   "outputs": [
    {
     "data": {
      "image/png": "[encoded data removed]",
      "text/plain": [
       "<Figure size 432x288 with 1 Axes>"
      ]
     },
     "metadata": {
      "needs_background": "light"
     },
     "output_type": "display_data"
    },
    {
     "data": {
      "image/png": "[encoded data removed]",
      "text/plain": [
       "<Figure size 432x288 with 1 Axes>"
      ]
     },
     "metadata": {
      "needs_background": "light"
     },
     "output_type": "display_data"
    }
   ],
   "source": [
    "def Training_and_validation_plot(history):\n",
    "    acc = history.history['accuracy']\n",
    "    val_acc = history.history['val_accuracy']\n",
    "    loss = history.history['loss']\n",
    "    val_loss = history.history['val_loss']\n",
    "    epochs = range(1, len(acc) + 1)\n",
    "\n",
    "    plt.plot(epochs, acc, 'bo', label = 'Training Accuracy')\n",
    "    plt.plot(epochs, val_acc, 'r', label = 'Validation Accuracy')\n",
    "    plt.title('Training and Validation Accuracy')\n",
    "    plt.xlabel('Epochs')\n",
    "    plt.ylabel('Loss')\n",
    "    plt.legend()\n",
    "\n",
    "    plt.figure()\n",
    "    plt.plot(epochs, loss, 'bo', label = 'Training Loss')\n",
    "    plt.plot(epochs, val_loss, 'r', label = 'Validation Loss')\n",
    "    plt.title('Training and Validation Loss')\n",
    "    plt.xlabel('Epochs')\n",
    "    plt.ylabel('Loss')\n",
    "    plt.legend()\n",
    "    plt.show()\n",
    "Training_and_validation_plot(history)"
   ]
  },
  {
   "cell_type": "code",
   "execution_count": null,
   "metadata": {
    "colab": {
     "base_uri": "https://localhost:8080/"
    },
    "id": "BbPq4P8KqB99",
    "outputId": "712f0d95-5fe8-4d98-c5ab-19226bdfdbb5"
   },
   "outputs": [
    {
     "name": "stdout",
     "output_type": "stream",
     "text": [
      "INFO:tensorflow:Assets written to: ram://16669202-9286-4c2b-881b-3539b84db00c/assets\n"
     ]
    }
   ],
   "source": [
    "import pickle\n",
    "# save the model to disk\n",
    "filename = '/content/drive/My Drive/Colab Notebooks/Blstmmodel_ftn128x3.sav'\n",
    "pickle.dump(textcnnmodel, open(filename, 'wb'))"
   ]
  },
  {
   "cell_type": "markdown",
   "metadata": {
    "id": "EqDR1VhYzbPM"
   },
   "source": [
    "### 512x3"
   ]
  },
  {
   "cell_type": "code",
   "execution_count": null,
   "metadata": {
    "colab": {
     "base_uri": "https://localhost:8080/"
    },
    "id": "ts20YKdKzbPQ",
    "outputId": "9d192ed7-f9fd-40a9-e77a-f02daf461947"
   },
   "outputs": [
    {
     "name": "stdout",
     "output_type": "stream",
     "text": [
      "Model: \"sequential_2\"\n",
      "_________________________________________________________________\n",
      " Layer (type)                Output Shape              Param #   \n",
      "=================================================================\n",
      " embedding_2 (Embedding)     (None, 50, 100)           7000      \n",
      "                                                                 \n",
      " conv1d_2 (Conv1D)           (None, 48, 512)           154112    \n",
      "                                                                 \n",
      " global_max_pooling1d_2 (Glo  (None, 512)              0         \n",
      " balMaxPooling1D)                                                \n",
      "                                                                 \n",
      " flatten_2 (Flatten)         (None, 512)               0         \n",
      "                                                                 \n",
      " dense_4 (Dense)             (None, 250)               128250    \n",
      "                                                                 \n",
      " dense_5 (Dense)             (None, 1)                 251       \n",
      "                                                                 \n",
      "=================================================================\n",
      "Total params: 289,613\n",
      "Trainable params: 289,613\n",
      "Non-trainable params: 0\n",
      "_________________________________________________________________\n"
     ]
    }
   ],
   "source": [
    "from keras.models import Sequential\n",
    "from keras import layers \n",
    "\n",
    "embedding_dim = 100\n",
    "vocab_size=70\n",
    "textcnnmodel = Sequential()\n",
    "textcnnmodel.add(layers.Embedding(vocab_size, embedding_dim, input_length=max_len))\n",
    "textcnnmodel.add(layers.Conv1D(512, 3, activation='relu'))\n",
    "textcnnmodel.add(layers.GlobalMaxPooling1D())\n",
    "textcnnmodel.add(layers.Flatten())\n",
    "textcnnmodel.add(layers.Dense(250, activation='relu'))\n",
    "textcnnmodel.add(layers.Dense(1, activation='sigmoid'))\n",
    "textcnnmodel.compile(optimizer='adam',\n",
    "               loss='binary_crossentropy',\n",
    "               metrics=['accuracy'])\n",
    "textcnnmodel.summary() "
   ]
  },
  {
   "cell_type": "code",
   "execution_count": null,
   "metadata": {
    "colab": {
     "base_uri": "https://localhost:8080/"
    },
    "id": "Z_6WEb8DzbPR",
    "outputId": "008f5670-fadc-453c-e62b-95811e29bbbf"
   },
   "outputs": [
    {
     "name": "stdout",
     "output_type": "stream",
     "text": [
      "Epoch 1/30\n",
      "2342/2342 [==============================] - 70s 29ms/step - loss: 0.0804 - accuracy: 0.9731 - val_loss: 0.0608 - val_accuracy: 0.9786\n",
      "Epoch 2/30\n",
      "2342/2342 [==============================] - 69s 29ms/step - loss: 0.0574 - accuracy: 0.9810 - val_loss: 0.0535 - val_accuracy: 0.9813\n",
      "Epoch 3/30\n",
      "2342/2342 [==============================] - 67s 29ms/step - loss: 0.0511 - accuracy: 0.9828 - val_loss: 0.0566 - val_accuracy: 0.9806\n",
      "Epoch 4/30\n",
      "2342/2342 [==============================] - 68s 29ms/step - loss: 0.0464 - accuracy: 0.9843 - val_loss: 0.0457 - val_accuracy: 0.9836\n",
      "Epoch 5/30\n",
      "2342/2342 [==============================] - 69s 29ms/step - loss: 0.0432 - accuracy: 0.9852 - val_loss: 0.0489 - val_accuracy: 0.9828\n",
      "Epoch 6/30\n",
      "2342/2342 [==============================] - 69s 29ms/step - loss: 0.0409 - accuracy: 0.9860 - val_loss: 0.0417 - val_accuracy: 0.9849\n",
      "Epoch 7/30\n",
      "2342/2342 [==============================] - 67s 29ms/step - loss: 0.0392 - accuracy: 0.9866 - val_loss: 0.0512 - val_accuracy: 0.9817\n",
      "Epoch 8/30\n",
      "2342/2342 [==============================] - 68s 29ms/step - loss: 0.0376 - accuracy: 0.9870 - val_loss: 0.0415 - val_accuracy: 0.9854\n",
      "Epoch 9/30\n",
      "2342/2342 [==============================] - 69s 29ms/step - loss: 0.0363 - accuracy: 0.9875 - val_loss: 0.0514 - val_accuracy: 0.9824\n",
      "Epoch 10/30\n",
      "2342/2342 [==============================] - 69s 29ms/step - loss: 0.0351 - accuracy: 0.9879 - val_loss: 0.0441 - val_accuracy: 0.9848\n",
      "Epoch 11/30\n",
      "2342/2342 [==============================] - 67s 29ms/step - loss: 0.0339 - accuracy: 0.9883 - val_loss: 0.0394 - val_accuracy: 0.9863\n",
      "Epoch 12/30\n",
      "2342/2342 [==============================] - 67s 29ms/step - loss: 0.0329 - accuracy: 0.9886 - val_loss: 0.0512 - val_accuracy: 0.9825\n",
      "Epoch 13/30\n",
      "2342/2342 [==============================] - 69s 29ms/step - loss: 0.0318 - accuracy: 0.9890 - val_loss: 0.0471 - val_accuracy: 0.9836\n",
      "Epoch 14/30\n",
      "2342/2342 [==============================] - 68s 29ms/step - loss: 0.0308 - accuracy: 0.9894 - val_loss: 0.0452 - val_accuracy: 0.9849\n",
      "Epoch 15/30\n",
      "2342/2342 [==============================] - 68s 29ms/step - loss: 0.0299 - accuracy: 0.9896 - val_loss: 0.0394 - val_accuracy: 0.9868\n",
      "Epoch 16/30\n",
      "2342/2342 [==============================] - 67s 28ms/step - loss: 0.0292 - accuracy: 0.9899 - val_loss: 0.0437 - val_accuracy: 0.9850\n",
      "Epoch 17/30\n",
      "2342/2342 [==============================] - 68s 29ms/step - loss: 0.0282 - accuracy: 0.9903 - val_loss: 0.0398 - val_accuracy: 0.9867\n",
      "Epoch 18/30\n",
      "2342/2342 [==============================] - 67s 29ms/step - loss: 0.0274 - accuracy: 0.9905 - val_loss: 0.0395 - val_accuracy: 0.9869\n",
      "Epoch 19/30\n",
      "2342/2342 [==============================] - 69s 29ms/step - loss: 0.0266 - accuracy: 0.9908 - val_loss: 0.0443 - val_accuracy: 0.9856\n",
      "Epoch 20/30\n",
      "2342/2342 [==============================] - 67s 29ms/step - loss: 0.0260 - accuracy: 0.9909 - val_loss: 0.0436 - val_accuracy: 0.9861\n",
      "Epoch 21/30\n",
      "2342/2342 [==============================] - 68s 29ms/step - loss: 0.0253 - accuracy: 0.9912 - val_loss: 0.0466 - val_accuracy: 0.9846\n",
      "Epoch 22/30\n",
      "2342/2342 [==============================] - 67s 29ms/step - loss: 0.0248 - accuracy: 0.9914 - val_loss: 0.0433 - val_accuracy: 0.9861\n",
      "Epoch 23/30\n",
      "2342/2342 [==============================] - 69s 29ms/step - loss: 0.0241 - accuracy: 0.9916 - val_loss: 0.0463 - val_accuracy: 0.9854\n",
      "Epoch 24/30\n",
      "2342/2342 [==============================] - 69s 29ms/step - loss: 0.0237 - accuracy: 0.9918 - val_loss: 0.0567 - val_accuracy: 0.9830\n",
      "Epoch 25/30\n",
      "2342/2342 [==============================] - 69s 29ms/step - loss: 0.0231 - accuracy: 0.9920 - val_loss: 0.0495 - val_accuracy: 0.9854\n",
      "Epoch 26/30\n",
      "2342/2342 [==============================] - 69s 29ms/step - loss: 0.0224 - accuracy: 0.9922 - val_loss: 0.0468 - val_accuracy: 0.9856\n",
      "Epoch 27/30\n",
      "2342/2342 [==============================] - 66s 28ms/step - loss: 0.0220 - accuracy: 0.9924 - val_loss: 0.0469 - val_accuracy: 0.9861\n",
      "Epoch 28/30\n",
      "2342/2342 [==============================] - 68s 29ms/step - loss: 0.0213 - accuracy: 0.9926 - val_loss: 0.0474 - val_accuracy: 0.9853\n",
      "Epoch 29/30\n",
      "2342/2342 [==============================] - 68s 29ms/step - loss: 0.0210 - accuracy: 0.9927 - val_loss: 0.0438 - val_accuracy: 0.9867\n",
      "Epoch 30/30\n",
      "2342/2342 [==============================] - 69s 29ms/step - loss: 0.0205 - accuracy: 0.9928 - val_loss: 0.0509 - val_accuracy: 0.9849\n",
      "LSTM took 2063.489777803421 milliseconds to train data.\n",
      "\n"
     ]
    }
   ],
   "source": [
    "import time\n",
    "start = time.time()\n",
    "history=textcnnmodel.fit(X_train,y_train,\n",
    "                     epochs=30,\n",
    "                     verbose=True,\n",
    "                     validation_data=(X_test, y_test),\n",
    "                     batch_size=1000)\n",
    "end  = time.time()\n",
    "print(\"LSTM took {} milliseconds to train data.\\n\".format(end-start))"
   ]
  },
  {
   "cell_type": "code",
   "execution_count": null,
   "metadata": {
    "colab": {
     "base_uri": "https://localhost:8080/"
    },
    "id": "NTlAHcofzbPS",
    "outputId": "60486d50-a592-4b14-9e0f-5ea80d64afc8"
   },
   "outputs": [
    {
     "name": "stdout",
     "output_type": "stream",
     "text": [
      "Training Accuracy: 0.9934\n",
      "Testing Accuracy:  0.9849\n"
     ]
    }
   ],
   "source": [
    "loss, accuracy = textcnnmodel.evaluate(X_train, y_train, verbose=False)\n",
    "print(\"Training Accuracy: {:.4f}\".format(accuracy))\n",
    "loss, accuracy = textcnnmodel.evaluate(X_test, y_test, verbose=False)\n",
    "print(\"Testing Accuracy:  {:.4f}\".format(accuracy)) "
   ]
  },
  {
   "cell_type": "code",
   "execution_count": null,
   "metadata": {
    "colab": {
     "base_uri": "https://localhost:8080/"
    },
    "id": "SLEuxFMDzbPT",
    "outputId": "bd7b81f3-1dbe-4f7c-ed3e-6bd84936d1ad"
   },
   "outputs": [
    {
     "name": "stdout",
     "output_type": "stream",
     "text": [
      "LSTM took 18.004701852798462 milliseconds to test data.\n",
      "\n"
     ]
    }
   ],
   "source": [
    "start = time.time()\n",
    "y_lstmpred = textcnnmodel.predict(X_test)\n",
    "end  = time.time()\n",
    "print(\"LSTM took {} milliseconds to test data.\\n\".format(end-start))"
   ]
  },
  {
   "cell_type": "code",
   "execution_count": null,
   "metadata": {
    "colab": {
     "base_uri": "https://localhost:8080/"
    },
    "id": "atqzjyZAzbPT",
    "outputId": "b5ef9bf9-2a39-459c-b1dd-a7eb222a104b"
   },
   "outputs": [
    {
     "name": "stdout",
     "output_type": "stream",
     "text": [
      "              precision    recall  f1-score   support\n",
      "\n",
      "           0       1.00      0.98      0.99    292751\n",
      "           1       0.96      0.99      0.97    122577\n",
      "\n",
      "    accuracy                           0.98    415328\n",
      "   macro avg       0.98      0.99      0.98    415328\n",
      "weighted avg       0.99      0.98      0.98    415328\n",
      "\n"
     ]
    }
   ],
   "source": [
    "from sklearn.metrics import classification_report\n",
    "y_lstmpred=(y_lstmpred > 0.5)\n",
    "print(classification_report(y_test, y_lstmpred))"
   ]
  },
  {
   "cell_type": "code",
   "execution_count": null,
   "metadata": {
    "colab": {
     "base_uri": "https://localhost:8080/",
     "height": 573
    },
    "id": "KY3HOxFnzbPU",
    "outputId": "09303e3d-260a-4910-afa7-95995caa654b"
   },
   "outputs": [
    {
     "data": {
      "image/png": "[encoded data removed]",
      "text/plain": [
       "<Figure size 432x288 with 1 Axes>"
      ]
     },
     "metadata": {
      "needs_background": "light"
     },
     "output_type": "display_data"
    },
    {
     "data": {
      "image/png": "[encoded data removed]",
      "text/plain": [
       "<Figure size 432x288 with 1 Axes>"
      ]
     },
     "metadata": {
      "needs_background": "light"
     },
     "output_type": "display_data"
    }
   ],
   "source": [
    "def Training_and_validation_plot(history):\n",
    "    acc = history.history['accuracy']\n",
    "    val_acc = history.history['val_accuracy']\n",
    "    loss = history.history['loss']\n",
    "    val_loss = history.history['val_loss']\n",
    "    epochs = range(1, len(acc) + 1)\n",
    "\n",
    "    plt.plot(epochs, acc, 'bo', label = 'Training Accuracy')\n",
    "    plt.plot(epochs, val_acc, 'r', label = 'Validation Accuracy')\n",
    "    plt.title('Training and Validation Accuracy')\n",
    "    plt.xlabel('Epochs')\n",
    "    plt.ylabel('Loss')\n",
    "    plt.legend()\n",
    "\n",
    "    plt.figure()\n",
    "    plt.plot(epochs, loss, 'bo', label = 'Training Loss')\n",
    "    plt.plot(epochs, val_loss, 'r', label = 'Validation Loss')\n",
    "    plt.title('Training and Validation Loss')\n",
    "    plt.xlabel('Epochs')\n",
    "    plt.ylabel('Loss')\n",
    "    plt.legend()\n",
    "    plt.show()\n",
    "Training_and_validation_plot(history)"
   ]
  },
  {
   "cell_type": "code",
   "execution_count": null,
   "metadata": {
    "colab": {
     "base_uri": "https://localhost:8080/"
    },
    "id": "SgFDFpWgzbPV",
    "outputId": "8eacb7d0-2681-48d9-ba65-116d9a27fd5d"
   },
   "outputs": [
    {
     "name": "stdout",
     "output_type": "stream",
     "text": [
      "INFO:tensorflow:Assets written to: ram://3ab8fecb-3cb6-43c5-98c1-bbde96808504/assets\n"
     ]
    }
   ],
   "source": [
    "import pickle\n",
    "# save the model to disk\n",
    "filename = '/content/drive/My Drive/Colab Notebooks/Blstmmodel_ftn512x3.sav'\n",
    "pickle.dump(textcnnmodel, open(filename, 'wb'))"
   ]
  }
 ],
 "metadata": {
  "colab": {
   "provenance": []
  },
  "kernelspec": {
   "display_name": "Python 3 (ipykernel)",
   "language": "python",
   "name": "python3"
  },
  "language_info": {
   "codemirror_mode": {
    "name": "ipython",
    "version": 3
   },
   "file_extension": ".py",
   "mimetype": "text/x-python",
   "name": "python",
   "nbconvert_exporter": "python",
   "pygments_lexer": "ipython3",
   "version": "3.10.9"
  }
 },
 "nbformat": 4,
 "nbformat_minor": 1
}
