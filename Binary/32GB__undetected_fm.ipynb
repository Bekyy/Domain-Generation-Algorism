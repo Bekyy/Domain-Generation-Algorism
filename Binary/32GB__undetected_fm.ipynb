{
  "nbformat": 4,
  "nbformat_minor": 0,
  "metadata": {
    "colab": {
      "provenance": [],
      "collapsed_sections": [],
      "machine_shape": "hm"
    },
    "kernelspec": {
      "name": "python3",
      "display_name": "Python 3"
    }
  },
  "cells": [
    {
      "cell_type": "code",
      "execution_count": null,
      "metadata": {
        "id": "blwR7ARVeBNY"
      },
      "outputs": [],
      "source": [
        "import pandas as pd\n",
        "import numpy as np\n",
        "import math\n",
        "from collections import Counter\n",
        "from sklearn.model_selection import train_test_split\n",
        "from sklearn.model_selection import GridSearchCV"
      ]
    },
    {
      "cell_type": "code",
      "execution_count": null,
      "metadata": {
        "colab": {
          "base_uri": "https://localhost:8080/"
        },
        "id": "-miIBab7lnn8",
        "outputId": "73eb5001-d167-4ad0-ee58-f2396c5bc3bb"
      },
      "outputs": [
        {
          "output_type": "stream",
          "name": "stdout",
          "text": [
            "Mounted at /content/drive\n"
          ]
        }
      ],
      "source": [
        "from google.colab import drive\n",
        "drive.mount('/content/drive')"
      ]
    },
    {
      "cell_type": "markdown",
      "metadata": {
        "id": "kDw7lOEfGFz8"
      },
      "source": [
        "## Binary Experiment of DHL on untrained data"
      ]
    },
    {
      "cell_type": "code",
      "execution_count": null,
      "metadata": {
        "colab": {
          "base_uri": "https://localhost:8080/",
          "height": 206
        },
        "id": "58m9ivLbGLri",
        "outputId": "cf7eee49-4e3a-4834-9b80-2eaf8659518c"
      },
      "outputs": [
        {
          "output_type": "execute_result",
          "data": {
            "text/plain": [
              "            domain_name  label family\n",
              "0               s.w.org  legit  legit\n",
              "1     fonts.gstatic.com  legit  legit\n",
              "2       plus.google.com  legit  legit\n",
              "3       maps.google.com  legit  legit\n",
              "4  cdnjs.cloudflare.com  legit  legit"
            ],
            "text/html": [
              "\n",
              "  <div id=\"df-2cb1f22d-5b2e-4bf4-823b-c9b534d41ec8\">\n",
              "    <div class=\"colab-df-container\">\n",
              "      <div>\n",
              "<style scoped>\n",
              "    .dataframe tbody tr th:only-of-type {\n",
              "        vertical-align: middle;\n",
              "    }\n",
              "\n",
              "    .dataframe tbody tr th {\n",
              "        vertical-align: top;\n",
              "    }\n",
              "\n",
              "    .dataframe thead th {\n",
              "        text-align: right;\n",
              "    }\n",
              "</style>\n",
              "<table border=\"1\" class=\"dataframe\">\n",
              "  <thead>\n",
              "    <tr style=\"text-align: right;\">\n",
              "      <th></th>\n",
              "      <th>domain_name</th>\n",
              "      <th>label</th>\n",
              "      <th>family</th>\n",
              "    </tr>\n",
              "  </thead>\n",
              "  <tbody>\n",
              "    <tr>\n",
              "      <th>0</th>\n",
              "      <td>s.w.org</td>\n",
              "      <td>legit</td>\n",
              "      <td>legit</td>\n",
              "    </tr>\n",
              "    <tr>\n",
              "      <th>1</th>\n",
              "      <td>fonts.gstatic.com</td>\n",
              "      <td>legit</td>\n",
              "      <td>legit</td>\n",
              "    </tr>\n",
              "    <tr>\n",
              "      <th>2</th>\n",
              "      <td>plus.google.com</td>\n",
              "      <td>legit</td>\n",
              "      <td>legit</td>\n",
              "    </tr>\n",
              "    <tr>\n",
              "      <th>3</th>\n",
              "      <td>maps.google.com</td>\n",
              "      <td>legit</td>\n",
              "      <td>legit</td>\n",
              "    </tr>\n",
              "    <tr>\n",
              "      <th>4</th>\n",
              "      <td>cdnjs.cloudflare.com</td>\n",
              "      <td>legit</td>\n",
              "      <td>legit</td>\n",
              "    </tr>\n",
              "  </tbody>\n",
              "</table>\n",
              "</div>\n",
              "      <button class=\"colab-df-convert\" onclick=\"convertToInteractive('df-2cb1f22d-5b2e-4bf4-823b-c9b534d41ec8')\"\n",
              "              title=\"Convert this dataframe to an interactive table.\"\n",
              "              style=\"display:none;\">\n",
              "        \n",
              "  <svg xmlns=\"http://www.w3.org/2000/svg\" height=\"24px\"viewBox=\"0 0 24 24\"\n",
              "       width=\"24px\">\n",
              "    <path d=\"M0 0h24v24H0V0z\" fill=\"none\"/>\n",
              "    <path d=\"M18.56 5.44l.94 2.06.94-2.06 2.06-.94-2.06-.94-.94-2.06-.94 2.06-2.06.94zm-11 1L8.5 8.5l.94-2.06 2.06-.94-2.06-.94L8.5 2.5l-.94 2.06-2.06.94zm10 10l.94 2.06.94-2.06 2.06-.94-2.06-.94-.94-2.06-.94 2.06-2.06.94z\"/><path d=\"M17.41 7.96l-1.37-1.37c-.4-.4-.92-.59-1.43-.59-.52 0-1.04.2-1.43.59L10.3 9.45l-7.72 7.72c-.78.78-.78 2.05 0 2.83L4 21.41c.39.39.9.59 1.41.59.51 0 1.02-.2 1.41-.59l7.78-7.78 2.81-2.81c.8-.78.8-2.07 0-2.86zM5.41 20L4 18.59l7.72-7.72 1.47 1.35L5.41 20z\"/>\n",
              "  </svg>\n",
              "      </button>\n",
              "      \n",
              "  <style>\n",
              "    .colab-df-container {\n",
              "      display:flex;\n",
              "      flex-wrap:wrap;\n",
              "      gap: 12px;\n",
              "    }\n",
              "\n",
              "    .colab-df-convert {\n",
              "      background-color: #E8F0FE;\n",
              "      border: none;\n",
              "      border-radius: 50%;\n",
              "      cursor: pointer;\n",
              "      display: none;\n",
              "      fill: #1967D2;\n",
              "      height: 32px;\n",
              "      padding: 0 0 0 0;\n",
              "      width: 32px;\n",
              "    }\n",
              "\n",
              "    .colab-df-convert:hover {\n",
              "      background-color: #E2EBFA;\n",
              "      box-shadow: 0px 1px 2px rgba(60, 64, 67, 0.3), 0px 1px 3px 1px rgba(60, 64, 67, 0.15);\n",
              "      fill: #174EA6;\n",
              "    }\n",
              "\n",
              "    [theme=dark] .colab-df-convert {\n",
              "      background-color: #3B4455;\n",
              "      fill: #D2E3FC;\n",
              "    }\n",
              "\n",
              "    [theme=dark] .colab-df-convert:hover {\n",
              "      background-color: #434B5C;\n",
              "      box-shadow: 0px 1px 3px 1px rgba(0, 0, 0, 0.15);\n",
              "      filter: drop-shadow(0px 1px 2px rgba(0, 0, 0, 0.3));\n",
              "      fill: #FFFFFF;\n",
              "    }\n",
              "  </style>\n",
              "\n",
              "      <script>\n",
              "        const buttonEl =\n",
              "          document.querySelector('#df-2cb1f22d-5b2e-4bf4-823b-c9b534d41ec8 button.colab-df-convert');\n",
              "        buttonEl.style.display =\n",
              "          google.colab.kernel.accessAllowed ? 'block' : 'none';\n",
              "\n",
              "        async function convertToInteractive(key) {\n",
              "          const element = document.querySelector('#df-2cb1f22d-5b2e-4bf4-823b-c9b534d41ec8');\n",
              "          const dataTable =\n",
              "            await google.colab.kernel.invokeFunction('convertToInteractive',\n",
              "                                                     [key], {});\n",
              "          if (!dataTable) return;\n",
              "\n",
              "          const docLinkHtml = 'Like what you see? Visit the ' +\n",
              "            '<a target=\"_blank\" href=https://colab.research.google.com/notebooks/data_table.ipynb>data table notebook</a>'\n",
              "            + ' to learn more about interactive tables.';\n",
              "          element.innerHTML = '';\n",
              "          dataTable['output_type'] = 'display_data';\n",
              "          await google.colab.output.renderOutput(dataTable, element);\n",
              "          const docLink = document.createElement('div');\n",
              "          docLink.innerHTML = docLinkHtml;\n",
              "          element.appendChild(docLink);\n",
              "        }\n",
              "      </script>\n",
              "    </div>\n",
              "  </div>\n",
              "  "
            ]
          },
          "metadata": {},
          "execution_count": 3
        }
      ],
      "source": [
        "Domain_data = pd.read_csv('/content/drive/My Drive/Colab Notebooks/untrained_domain_data2.csv')\n",
        "Domain_data.drop([\"Unnamed: 0\"], axis=1, inplace=True)\n",
        "Domain_data.head()"
      ]
    },
    {
      "cell_type": "code",
      "execution_count": null,
      "metadata": {
        "colab": {
          "base_uri": "https://localhost:8080/"
        },
        "id": "urBik4YRReqA",
        "outputId": "42a3c4d1-3a09-408d-b6a8-bca656d7f3b2"
      },
      "outputs": [
        {
          "output_type": "stream",
          "name": "stdout",
          "text": [
            "Looking in indexes: https://pypi.org/simple, https://us-python.pkg.dev/colab-wheels/public/simple/\n",
            "Collecting tldextract\n",
            "  Downloading tldextract-3.3.1-py3-none-any.whl (93 kB)\n",
            "\u001b[K     |████████████████████████████████| 93 kB 1.5 MB/s \n",
            "\u001b[?25hRequirement already satisfied: filelock>=3.0.8 in /usr/local/lib/python3.7/dist-packages (from tldextract) (3.7.1)\n",
            "Collecting requests-file>=1.4\n",
            "  Downloading requests_file-1.5.1-py2.py3-none-any.whl (3.7 kB)\n",
            "Requirement already satisfied: requests>=2.1.0 in /usr/local/lib/python3.7/dist-packages (from tldextract) (2.23.0)\n",
            "Requirement already satisfied: idna in /usr/local/lib/python3.7/dist-packages (from tldextract) (2.10)\n",
            "Requirement already satisfied: chardet<4,>=3.0.2 in /usr/local/lib/python3.7/dist-packages (from requests>=2.1.0->tldextract) (3.0.4)\n",
            "Requirement already satisfied: certifi>=2017.4.17 in /usr/local/lib/python3.7/dist-packages (from requests>=2.1.0->tldextract) (2022.6.15)\n",
            "Requirement already satisfied: urllib3!=1.25.0,!=1.25.1,<1.26,>=1.21.1 in /usr/local/lib/python3.7/dist-packages (from requests>=2.1.0->tldextract) (1.24.3)\n",
            "Requirement already satisfied: six in /usr/local/lib/python3.7/dist-packages (from requests-file>=1.4->tldextract) (1.15.0)\n",
            "Installing collected packages: requests-file, tldextract\n",
            "Successfully installed requests-file-1.5.1 tldextract-3.3.1\n"
          ]
        }
      ],
      "source": [
        "! pip install tldextract"
      ]
    },
    {
      "cell_type": "code",
      "execution_count": null,
      "metadata": {
        "id": "UApUvXCZXCdM"
      },
      "outputs": [],
      "source": [
        "def entropy(domain_name):\n",
        "    \"\"\" Function which computes the entropy of a given domain name based on it's chars \"\"\"\n",
        "    elements, length = Counter(domain_name), len(domain_name)    \n",
        "    \n",
        "    return -sum(element/length * math.log(element/length, 2) for element in elements.values())"
      ]
    },
    {
      "cell_type": "code",
      "execution_count": null,
      "metadata": {
        "id": "rTRFV6SvXJZd"
      },
      "outputs": [],
      "source": [
        "import tldextract\n",
        "def get_domain_name(domain):\n",
        "    \"\"\" Function which extracts domain name from subdomain name \"\"\"\n",
        "    res = tldextract.extract(domain)\n",
        "    return res.domain if len(res.domain) > len(res.subdomain) or entropy(res.domain) > entropy(res.subdomain) else res.subdomain\n",
        "\n",
        "Domain_data[\"domain\"] = Domain_data[\"domain_name\"].apply(lambda domain: get_domain_name(domain))"
      ]
    },
    {
      "cell_type": "code",
      "source": [
        "Domain_data.head()"
      ],
      "metadata": {
        "colab": {
          "base_uri": "https://localhost:8080/",
          "height": 206
        },
        "id": "AhJH6xZbnyEx",
        "outputId": "dd51d16d-6973-43f4-b696-399c8866ef2d"
      },
      "execution_count": null,
      "outputs": [
        {
          "output_type": "execute_result",
          "data": {
            "text/plain": [
              "            domain_name  label family      domain\n",
              "0               s.w.org  legit  legit           s\n",
              "1     fonts.gstatic.com  legit  legit     gstatic\n",
              "2       plus.google.com  legit  legit      google\n",
              "3       maps.google.com  legit  legit      google\n",
              "4  cdnjs.cloudflare.com  legit  legit  cloudflare"
            ],
            "text/html": [
              "\n",
              "  <div id=\"df-5dd01785-07bb-4fb8-a3ba-decfe21d0d01\">\n",
              "    <div class=\"colab-df-container\">\n",
              "      <div>\n",
              "<style scoped>\n",
              "    .dataframe tbody tr th:only-of-type {\n",
              "        vertical-align: middle;\n",
              "    }\n",
              "\n",
              "    .dataframe tbody tr th {\n",
              "        vertical-align: top;\n",
              "    }\n",
              "\n",
              "    .dataframe thead th {\n",
              "        text-align: right;\n",
              "    }\n",
              "</style>\n",
              "<table border=\"1\" class=\"dataframe\">\n",
              "  <thead>\n",
              "    <tr style=\"text-align: right;\">\n",
              "      <th></th>\n",
              "      <th>domain_name</th>\n",
              "      <th>label</th>\n",
              "      <th>family</th>\n",
              "      <th>domain</th>\n",
              "    </tr>\n",
              "  </thead>\n",
              "  <tbody>\n",
              "    <tr>\n",
              "      <th>0</th>\n",
              "      <td>s.w.org</td>\n",
              "      <td>legit</td>\n",
              "      <td>legit</td>\n",
              "      <td>s</td>\n",
              "    </tr>\n",
              "    <tr>\n",
              "      <th>1</th>\n",
              "      <td>fonts.gstatic.com</td>\n",
              "      <td>legit</td>\n",
              "      <td>legit</td>\n",
              "      <td>gstatic</td>\n",
              "    </tr>\n",
              "    <tr>\n",
              "      <th>2</th>\n",
              "      <td>plus.google.com</td>\n",
              "      <td>legit</td>\n",
              "      <td>legit</td>\n",
              "      <td>google</td>\n",
              "    </tr>\n",
              "    <tr>\n",
              "      <th>3</th>\n",
              "      <td>maps.google.com</td>\n",
              "      <td>legit</td>\n",
              "      <td>legit</td>\n",
              "      <td>google</td>\n",
              "    </tr>\n",
              "    <tr>\n",
              "      <th>4</th>\n",
              "      <td>cdnjs.cloudflare.com</td>\n",
              "      <td>legit</td>\n",
              "      <td>legit</td>\n",
              "      <td>cloudflare</td>\n",
              "    </tr>\n",
              "  </tbody>\n",
              "</table>\n",
              "</div>\n",
              "      <button class=\"colab-df-convert\" onclick=\"convertToInteractive('df-5dd01785-07bb-4fb8-a3ba-decfe21d0d01')\"\n",
              "              title=\"Convert this dataframe to an interactive table.\"\n",
              "              style=\"display:none;\">\n",
              "        \n",
              "  <svg xmlns=\"http://www.w3.org/2000/svg\" height=\"24px\"viewBox=\"0 0 24 24\"\n",
              "       width=\"24px\">\n",
              "    <path d=\"M0 0h24v24H0V0z\" fill=\"none\"/>\n",
              "    <path d=\"M18.56 5.44l.94 2.06.94-2.06 2.06-.94-2.06-.94-.94-2.06-.94 2.06-2.06.94zm-11 1L8.5 8.5l.94-2.06 2.06-.94-2.06-.94L8.5 2.5l-.94 2.06-2.06.94zm10 10l.94 2.06.94-2.06 2.06-.94-2.06-.94-.94-2.06-.94 2.06-2.06.94z\"/><path d=\"M17.41 7.96l-1.37-1.37c-.4-.4-.92-.59-1.43-.59-.52 0-1.04.2-1.43.59L10.3 9.45l-7.72 7.72c-.78.78-.78 2.05 0 2.83L4 21.41c.39.39.9.59 1.41.59.51 0 1.02-.2 1.41-.59l7.78-7.78 2.81-2.81c.8-.78.8-2.07 0-2.86zM5.41 20L4 18.59l7.72-7.72 1.47 1.35L5.41 20z\"/>\n",
              "  </svg>\n",
              "      </button>\n",
              "      \n",
              "  <style>\n",
              "    .colab-df-container {\n",
              "      display:flex;\n",
              "      flex-wrap:wrap;\n",
              "      gap: 12px;\n",
              "    }\n",
              "\n",
              "    .colab-df-convert {\n",
              "      background-color: #E8F0FE;\n",
              "      border: none;\n",
              "      border-radius: 50%;\n",
              "      cursor: pointer;\n",
              "      display: none;\n",
              "      fill: #1967D2;\n",
              "      height: 32px;\n",
              "      padding: 0 0 0 0;\n",
              "      width: 32px;\n",
              "    }\n",
              "\n",
              "    .colab-df-convert:hover {\n",
              "      background-color: #E2EBFA;\n",
              "      box-shadow: 0px 1px 2px rgba(60, 64, 67, 0.3), 0px 1px 3px 1px rgba(60, 64, 67, 0.15);\n",
              "      fill: #174EA6;\n",
              "    }\n",
              "\n",
              "    [theme=dark] .colab-df-convert {\n",
              "      background-color: #3B4455;\n",
              "      fill: #D2E3FC;\n",
              "    }\n",
              "\n",
              "    [theme=dark] .colab-df-convert:hover {\n",
              "      background-color: #434B5C;\n",
              "      box-shadow: 0px 1px 3px 1px rgba(0, 0, 0, 0.15);\n",
              "      filter: drop-shadow(0px 1px 2px rgba(0, 0, 0, 0.3));\n",
              "      fill: #FFFFFF;\n",
              "    }\n",
              "  </style>\n",
              "\n",
              "      <script>\n",
              "        const buttonEl =\n",
              "          document.querySelector('#df-5dd01785-07bb-4fb8-a3ba-decfe21d0d01 button.colab-df-convert');\n",
              "        buttonEl.style.display =\n",
              "          google.colab.kernel.accessAllowed ? 'block' : 'none';\n",
              "\n",
              "        async function convertToInteractive(key) {\n",
              "          const element = document.querySelector('#df-5dd01785-07bb-4fb8-a3ba-decfe21d0d01');\n",
              "          const dataTable =\n",
              "            await google.colab.kernel.invokeFunction('convertToInteractive',\n",
              "                                                     [key], {});\n",
              "          if (!dataTable) return;\n",
              "\n",
              "          const docLinkHtml = 'Like what you see? Visit the ' +\n",
              "            '<a target=\"_blank\" href=https://colab.research.google.com/notebooks/data_table.ipynb>data table notebook</a>'\n",
              "            + ' to learn more about interactive tables.';\n",
              "          element.innerHTML = '';\n",
              "          dataTable['output_type'] = 'display_data';\n",
              "          await google.colab.output.renderOutput(dataTable, element);\n",
              "          const docLink = document.createElement('div');\n",
              "          docLink.innerHTML = docLinkHtml;\n",
              "          element.appendChild(docLink);\n",
              "        }\n",
              "      </script>\n",
              "    </div>\n",
              "  </div>\n",
              "  "
            ]
          },
          "metadata": {},
          "execution_count": 7
        }
      ]
    },
    {
      "cell_type": "code",
      "execution_count": null,
      "metadata": {
        "id": "i_ei54QWY3gO"
      },
      "outputs": [],
      "source": [
        "from sklearn.preprocessing import LabelEncoder\n",
        "X = Domain_data.domain\n",
        "Y = Domain_data['label']"
      ]
    },
    {
      "cell_type": "code",
      "execution_count": null,
      "metadata": {
        "id": "bFlYDW419nku"
      },
      "outputs": [],
      "source": [
        "le=LabelEncoder()\n",
        "Y = le.fit_transform(Y)"
      ]
    },
    {
      "cell_type": "code",
      "source": [
        "Domain_data['actual'] = np.hstack([Y])"
      ],
      "metadata": {
        "id": "Dwx3mSNVEDgE"
      },
      "execution_count": null,
      "outputs": []
    },
    {
      "cell_type": "code",
      "execution_count": null,
      "metadata": {
        "id": "6fl2GHSlZaKu"
      },
      "outputs": [],
      "source": [
        "from keras.preprocessing.text import Tokenizer\n",
        "from keras.preprocessing import sequence\n",
        "from keras.models import Sequential\n",
        "\n",
        "#max_words = num_words\n",
        "max_len = 50\n",
        "\n",
        "# Tokenizer\n",
        "tok = Tokenizer(num_words=None, char_level=True, oov_token='UNK')\n",
        "tok.fit_on_texts(X)\n",
        "sequences = tok.texts_to_sequences(X)\n",
        "sequences_matrix = sequence.pad_sequences(sequences,padding='post',maxlen=max_len)"
      ]
    },
    {
      "cell_type": "markdown",
      "source": [
        "### LSTM"
      ],
      "metadata": {
        "id": "roWP4Q0uA0-2"
      }
    },
    {
      "cell_type": "code",
      "execution_count": null,
      "metadata": {
        "id": "Rr5FLObhA0--"
      },
      "outputs": [],
      "source": [
        "import pickle\n",
        "# load the model from disk\n",
        "filename = '/content/drive/My Drive/Colab Notebooks/Blstmmodel32.sav'\n",
        "loaded_model = pickle.load(open(filename, 'rb'))"
      ]
    },
    {
      "cell_type": "code",
      "execution_count": null,
      "metadata": {
        "id": "98yljosTA0--"
      },
      "outputs": [],
      "source": [
        "from tensorflow import keras\n",
        "layer_name = 'flatten_1'\n",
        "intermediate_layer_model = keras.Model(inputs=loaded_model.input,\n",
        "                                 outputs=loaded_model.get_layer(layer_name).output)\n",
        "intermediate_output = intermediate_layer_model.predict(sequences_matrix)"
      ]
    },
    {
      "cell_type": "markdown",
      "source": [
        "#### LSTM+XGB"
      ],
      "metadata": {
        "id": "D58aL5L1A0--"
      }
    },
    {
      "cell_type": "code",
      "source": [
        "import pickle\n",
        "# load the model from disk\n",
        "filename = '/content/drive/My Drive/Colab Notebooks/BLSTM+XGBmodel.sav'\n",
        "LSTMXGBmodel = pickle.load(open(filename, 'rb'))"
      ],
      "metadata": {
        "id": "RGiAQgXHA0--"
      },
      "execution_count": null,
      "outputs": []
    },
    {
      "cell_type": "code",
      "source": [
        "from sklearn.metrics import plot_confusion_matrix,accuracy_score,classification_report\n",
        "LSTMXGBpred=LSTMXGBmodel.predict(intermediate_output)\n",
        "print(classification_report(Y,LSTMXGBpred))"
      ],
      "metadata": {
        "id": "Ejmc8YOgA0-_",
        "colab": {
          "base_uri": "https://localhost:8080/"
        },
        "outputId": "010e1b70-5b63-4359-e4d9-dd03f7881029"
      },
      "execution_count": null,
      "outputs": [
        {
          "output_type": "stream",
          "name": "stdout",
          "text": [
            "              precision    recall  f1-score   support\n",
            "\n",
            "           0       0.71      0.36      0.48    381671\n",
            "           1       0.79      0.94      0.86    957416\n",
            "\n",
            "    accuracy                           0.78   1339087\n",
            "   macro avg       0.75      0.65      0.67   1339087\n",
            "weighted avg       0.77      0.78      0.75   1339087\n",
            "\n"
          ]
        }
      ]
    },
    {
      "cell_type": "code",
      "source": [
        "Domain_data['preds'] = np.hstack([LSTMXGBpred])\n",
        "#Domain_data['preds'] = np.nan"
      ],
      "metadata": {
        "id": "cNig-_iwA8nr"
      },
      "execution_count": null,
      "outputs": []
    },
    {
      "cell_type": "code",
      "source": [
        "Domain_data.head()"
      ],
      "metadata": {
        "id": "NwNyaRwgBvUx",
        "colab": {
          "base_uri": "https://localhost:8080/",
          "height": 395
        },
        "outputId": "8457ec10-065d-4e13-e457-704c1335734b"
      },
      "execution_count": null,
      "outputs": [
        {
          "data": {
            "text/html": [
              "\n",
              "  <div id=\"df-cd2bfb1f-ce22-47fc-8c6f-0ae9370ce1ad\">\n",
              "    <div class=\"colab-df-container\">\n",
              "      <div>\n",
              "<style scoped>\n",
              "    .dataframe tbody tr th:only-of-type {\n",
              "        vertical-align: middle;\n",
              "    }\n",
              "\n",
              "    .dataframe tbody tr th {\n",
              "        vertical-align: top;\n",
              "    }\n",
              "\n",
              "    .dataframe thead th {\n",
              "        text-align: right;\n",
              "    }\n",
              "</style>\n",
              "<table border=\"1\" class=\"dataframe\">\n",
              "  <thead>\n",
              "    <tr style=\"text-align: right;\">\n",
              "      <th></th>\n",
              "      <th>domain_name</th>\n",
              "      <th>label</th>\n",
              "      <th>family</th>\n",
              "      <th>domain</th>\n",
              "      <th>actual</th>\n",
              "      <th>preds</th>\n",
              "    </tr>\n",
              "  </thead>\n",
              "  <tbody>\n",
              "    <tr>\n",
              "      <th>0</th>\n",
              "      <td>s.w.org</td>\n",
              "      <td>legit</td>\n",
              "      <td>legit</td>\n",
              "      <td>s</td>\n",
              "      <td>1</td>\n",
              "      <td>1</td>\n",
              "    </tr>\n",
              "    <tr>\n",
              "      <th>1</th>\n",
              "      <td>fonts.gstatic.com</td>\n",
              "      <td>legit</td>\n",
              "      <td>legit</td>\n",
              "      <td>gstatic</td>\n",
              "      <td>1</td>\n",
              "      <td>1</td>\n",
              "    </tr>\n",
              "    <tr>\n",
              "      <th>2</th>\n",
              "      <td>plus.google.com</td>\n",
              "      <td>legit</td>\n",
              "      <td>legit</td>\n",
              "      <td>google</td>\n",
              "      <td>1</td>\n",
              "      <td>1</td>\n",
              "    </tr>\n",
              "    <tr>\n",
              "      <th>3</th>\n",
              "      <td>maps.google.com</td>\n",
              "      <td>legit</td>\n",
              "      <td>legit</td>\n",
              "      <td>google</td>\n",
              "      <td>1</td>\n",
              "      <td>1</td>\n",
              "    </tr>\n",
              "    <tr>\n",
              "      <th>4</th>\n",
              "      <td>cdnjs.cloudflare.com</td>\n",
              "      <td>legit</td>\n",
              "      <td>legit</td>\n",
              "      <td>cloudflare</td>\n",
              "      <td>1</td>\n",
              "      <td>1</td>\n",
              "    </tr>\n",
              "  </tbody>\n",
              "</table>\n",
              "</div>\n",
              "      <button class=\"colab-df-convert\" onclick=\"convertToInteractive('df-cd2bfb1f-ce22-47fc-8c6f-0ae9370ce1ad')\"\n",
              "              title=\"Convert this dataframe to an interactive table.\"\n",
              "              style=\"display:none;\">\n",
              "        \n",
              "  <svg xmlns=\"http://www.w3.org/2000/svg\" height=\"24px\"viewBox=\"0 0 24 24\"\n",
              "       width=\"24px\">\n",
              "    <path d=\"M0 0h24v24H0V0z\" fill=\"none\"/>\n",
              "    <path d=\"M18.56 5.44l.94 2.06.94-2.06 2.06-.94-2.06-.94-.94-2.06-.94 2.06-2.06.94zm-11 1L8.5 8.5l.94-2.06 2.06-.94-2.06-.94L8.5 2.5l-.94 2.06-2.06.94zm10 10l.94 2.06.94-2.06 2.06-.94-2.06-.94-.94-2.06-.94 2.06-2.06.94z\"/><path d=\"M17.41 7.96l-1.37-1.37c-.4-.4-.92-.59-1.43-.59-.52 0-1.04.2-1.43.59L10.3 9.45l-7.72 7.72c-.78.78-.78 2.05 0 2.83L4 21.41c.39.39.9.59 1.41.59.51 0 1.02-.2 1.41-.59l7.78-7.78 2.81-2.81c.8-.78.8-2.07 0-2.86zM5.41 20L4 18.59l7.72-7.72 1.47 1.35L5.41 20z\"/>\n",
              "  </svg>\n",
              "      </button>\n",
              "      \n",
              "  <style>\n",
              "    .colab-df-container {\n",
              "      display:flex;\n",
              "      flex-wrap:wrap;\n",
              "      gap: 12px;\n",
              "    }\n",
              "\n",
              "    .colab-df-convert {\n",
              "      background-color: #E8F0FE;\n",
              "      border: none;\n",
              "      border-radius: 50%;\n",
              "      cursor: pointer;\n",
              "      display: none;\n",
              "      fill: #1967D2;\n",
              "      height: 32px;\n",
              "      padding: 0 0 0 0;\n",
              "      width: 32px;\n",
              "    }\n",
              "\n",
              "    .colab-df-convert:hover {\n",
              "      background-color: #E2EBFA;\n",
              "      box-shadow: 0px 1px 2px rgba(60, 64, 67, 0.3), 0px 1px 3px 1px rgba(60, 64, 67, 0.15);\n",
              "      fill: #174EA6;\n",
              "    }\n",
              "\n",
              "    [theme=dark] .colab-df-convert {\n",
              "      background-color: #3B4455;\n",
              "      fill: #D2E3FC;\n",
              "    }\n",
              "\n",
              "    [theme=dark] .colab-df-convert:hover {\n",
              "      background-color: #434B5C;\n",
              "      box-shadow: 0px 1px 3px 1px rgba(0, 0, 0, 0.15);\n",
              "      filter: drop-shadow(0px 1px 2px rgba(0, 0, 0, 0.3));\n",
              "      fill: #FFFFFF;\n",
              "    }\n",
              "  </style>\n",
              "\n",
              "      <script>\n",
              "        const buttonEl =\n",
              "          document.querySelector('#df-cd2bfb1f-ce22-47fc-8c6f-0ae9370ce1ad button.colab-df-convert');\n",
              "        buttonEl.style.display =\n",
              "          google.colab.kernel.accessAllowed ? 'block' : 'none';\n",
              "\n",
              "        async function convertToInteractive(key) {\n",
              "          const element = document.querySelector('#df-cd2bfb1f-ce22-47fc-8c6f-0ae9370ce1ad');\n",
              "          const dataTable =\n",
              "            await google.colab.kernel.invokeFunction('convertToInteractive',\n",
              "                                                     [key], {});\n",
              "          if (!dataTable) return;\n",
              "\n",
              "          const docLinkHtml = 'Like what you see? Visit the ' +\n",
              "            '<a target=\"_blank\" href=https://colab.research.google.com/notebooks/data_table.ipynb>data table notebook</a>'\n",
              "            + ' to learn more about interactive tables.';\n",
              "          element.innerHTML = '';\n",
              "          dataTable['output_type'] = 'display_data';\n",
              "          await google.colab.output.renderOutput(dataTable, element);\n",
              "          const docLink = document.createElement('div');\n",
              "          docLink.innerHTML = docLinkHtml;\n",
              "          element.appendChild(docLink);\n",
              "        }\n",
              "      </script>\n",
              "    </div>\n",
              "  </div>\n",
              "  "
            ],
            "text/plain": [
              "            domain_name  label family      domain  actual  preds\n",
              "0               s.w.org  legit  legit           s       1      1\n",
              "1     fonts.gstatic.com  legit  legit     gstatic       1      1\n",
              "2       plus.google.com  legit  legit      google       1      1\n",
              "3       maps.google.com  legit  legit      google       1      1\n",
              "4  cdnjs.cloudflare.com  legit  legit  cloudflare       1      1"
            ]
          },
          "execution_count": 17,
          "metadata": {},
          "output_type": "execute_result"
        },
        {
          "output_type": "execute_result",
          "data": {
            "text/plain": [
              "            domain_name  label family      domain  actual  preds\n",
              "0               s.w.org  legit  legit           s       1      1\n",
              "1     fonts.gstatic.com  legit  legit     gstatic       1      1\n",
              "2       plus.google.com  legit  legit      google       1      1\n",
              "3       maps.google.com  legit  legit      google       1      1\n",
              "4  cdnjs.cloudflare.com  legit  legit  cloudflare       1      1"
            ],
            "text/html": [
              "\n",
              "  <div id=\"df-cd2bfb1f-ce22-47fc-8c6f-0ae9370ce1ad\">\n",
              "    <div class=\"colab-df-container\">\n",
              "      <div>\n",
              "<style scoped>\n",
              "    .dataframe tbody tr th:only-of-type {\n",
              "        vertical-align: middle;\n",
              "    }\n",
              "\n",
              "    .dataframe tbody tr th {\n",
              "        vertical-align: top;\n",
              "    }\n",
              "\n",
              "    .dataframe thead th {\n",
              "        text-align: right;\n",
              "    }\n",
              "</style>\n",
              "<table border=\"1\" class=\"dataframe\">\n",
              "  <thead>\n",
              "    <tr style=\"text-align: right;\">\n",
              "      <th></th>\n",
              "      <th>domain_name</th>\n",
              "      <th>label</th>\n",
              "      <th>family</th>\n",
              "      <th>domain</th>\n",
              "      <th>actual</th>\n",
              "      <th>preds</th>\n",
              "    </tr>\n",
              "  </thead>\n",
              "  <tbody>\n",
              "    <tr>\n",
              "      <th>0</th>\n",
              "      <td>s.w.org</td>\n",
              "      <td>legit</td>\n",
              "      <td>legit</td>\n",
              "      <td>s</td>\n",
              "      <td>1</td>\n",
              "      <td>1</td>\n",
              "    </tr>\n",
              "    <tr>\n",
              "      <th>1</th>\n",
              "      <td>fonts.gstatic.com</td>\n",
              "      <td>legit</td>\n",
              "      <td>legit</td>\n",
              "      <td>gstatic</td>\n",
              "      <td>1</td>\n",
              "      <td>1</td>\n",
              "    </tr>\n",
              "    <tr>\n",
              "      <th>2</th>\n",
              "      <td>plus.google.com</td>\n",
              "      <td>legit</td>\n",
              "      <td>legit</td>\n",
              "      <td>google</td>\n",
              "      <td>1</td>\n",
              "      <td>1</td>\n",
              "    </tr>\n",
              "    <tr>\n",
              "      <th>3</th>\n",
              "      <td>maps.google.com</td>\n",
              "      <td>legit</td>\n",
              "      <td>legit</td>\n",
              "      <td>google</td>\n",
              "      <td>1</td>\n",
              "      <td>1</td>\n",
              "    </tr>\n",
              "    <tr>\n",
              "      <th>4</th>\n",
              "      <td>cdnjs.cloudflare.com</td>\n",
              "      <td>legit</td>\n",
              "      <td>legit</td>\n",
              "      <td>cloudflare</td>\n",
              "      <td>1</td>\n",
              "      <td>1</td>\n",
              "    </tr>\n",
              "  </tbody>\n",
              "</table>\n",
              "</div>\n",
              "      <button class=\"colab-df-convert\" onclick=\"convertToInteractive('df-cd2bfb1f-ce22-47fc-8c6f-0ae9370ce1ad')\"\n",
              "              title=\"Convert this dataframe to an interactive table.\"\n",
              "              style=\"display:none;\">\n",
              "        \n",
              "  <svg xmlns=\"http://www.w3.org/2000/svg\" height=\"24px\"viewBox=\"0 0 24 24\"\n",
              "       width=\"24px\">\n",
              "    <path d=\"M0 0h24v24H0V0z\" fill=\"none\"/>\n",
              "    <path d=\"M18.56 5.44l.94 2.06.94-2.06 2.06-.94-2.06-.94-.94-2.06-.94 2.06-2.06.94zm-11 1L8.5 8.5l.94-2.06 2.06-.94-2.06-.94L8.5 2.5l-.94 2.06-2.06.94zm10 10l.94 2.06.94-2.06 2.06-.94-2.06-.94-.94-2.06-.94 2.06-2.06.94z\"/><path d=\"M17.41 7.96l-1.37-1.37c-.4-.4-.92-.59-1.43-.59-.52 0-1.04.2-1.43.59L10.3 9.45l-7.72 7.72c-.78.78-.78 2.05 0 2.83L4 21.41c.39.39.9.59 1.41.59.51 0 1.02-.2 1.41-.59l7.78-7.78 2.81-2.81c.8-.78.8-2.07 0-2.86zM5.41 20L4 18.59l7.72-7.72 1.47 1.35L5.41 20z\"/>\n",
              "  </svg>\n",
              "      </button>\n",
              "      \n",
              "  <style>\n",
              "    .colab-df-container {\n",
              "      display:flex;\n",
              "      flex-wrap:wrap;\n",
              "      gap: 12px;\n",
              "    }\n",
              "\n",
              "    .colab-df-convert {\n",
              "      background-color: #E8F0FE;\n",
              "      border: none;\n",
              "      border-radius: 50%;\n",
              "      cursor: pointer;\n",
              "      display: none;\n",
              "      fill: #1967D2;\n",
              "      height: 32px;\n",
              "      padding: 0 0 0 0;\n",
              "      width: 32px;\n",
              "    }\n",
              "\n",
              "    .colab-df-convert:hover {\n",
              "      background-color: #E2EBFA;\n",
              "      box-shadow: 0px 1px 2px rgba(60, 64, 67, 0.3), 0px 1px 3px 1px rgba(60, 64, 67, 0.15);\n",
              "      fill: #174EA6;\n",
              "    }\n",
              "\n",
              "    [theme=dark] .colab-df-convert {\n",
              "      background-color: #3B4455;\n",
              "      fill: #D2E3FC;\n",
              "    }\n",
              "\n",
              "    [theme=dark] .colab-df-convert:hover {\n",
              "      background-color: #434B5C;\n",
              "      box-shadow: 0px 1px 3px 1px rgba(0, 0, 0, 0.15);\n",
              "      filter: drop-shadow(0px 1px 2px rgba(0, 0, 0, 0.3));\n",
              "      fill: #FFFFFF;\n",
              "    }\n",
              "  </style>\n",
              "\n",
              "      <script>\n",
              "        const buttonEl =\n",
              "          document.querySelector('#df-cd2bfb1f-ce22-47fc-8c6f-0ae9370ce1ad button.colab-df-convert');\n",
              "        buttonEl.style.display =\n",
              "          google.colab.kernel.accessAllowed ? 'block' : 'none';\n",
              "\n",
              "        async function convertToInteractive(key) {\n",
              "          const element = document.querySelector('#df-cd2bfb1f-ce22-47fc-8c6f-0ae9370ce1ad');\n",
              "          const dataTable =\n",
              "            await google.colab.kernel.invokeFunction('convertToInteractive',\n",
              "                                                     [key], {});\n",
              "          if (!dataTable) return;\n",
              "\n",
              "          const docLinkHtml = 'Like what you see? Visit the ' +\n",
              "            '<a target=\"_blank\" href=https://colab.research.google.com/notebooks/data_table.ipynb>data table notebook</a>'\n",
              "            + ' to learn more about interactive tables.';\n",
              "          element.innerHTML = '';\n",
              "          dataTable['output_type'] = 'display_data';\n",
              "          await google.colab.output.renderOutput(dataTable, element);\n",
              "          const docLink = document.createElement('div');\n",
              "          docLink.innerHTML = docLinkHtml;\n",
              "          element.appendChild(docLink);\n",
              "        }\n",
              "      </script>\n",
              "    </div>\n",
              "  </div>\n",
              "  "
            ]
          },
          "metadata": {},
          "execution_count": 17
        }
      ]
    },
    {
      "cell_type": "code",
      "source": [
        "Domain_data.to_csv(\"/content/drive/My Drive/Colab Notebooks/BLSTMXGB.csv\")"
      ],
      "metadata": {
        "id": "3Zmg8eBTCBq4"
      },
      "execution_count": null,
      "outputs": []
    },
    {
      "cell_type": "code",
      "source": [
        "incorrect = Domain_data[Domain_data[\"actual\"] != Domain_data[\"preds\"]]"
      ],
      "metadata": {
        "id": "69e2TgeRDJfY"
      },
      "execution_count": null,
      "outputs": []
    },
    {
      "cell_type": "code",
      "source": [
        "incorrect"
      ],
      "metadata": {
        "colab": {
          "base_uri": "https://localhost:8080/",
          "height": 424
        },
        "id": "ThRtnZMqEURb",
        "outputId": "53769677-d91f-451d-e401-07377bc8ed70"
      },
      "execution_count": null,
      "outputs": [
        {
          "output_type": "execute_result",
          "data": {
            "text/plain": [
              "                        domain_name  label              domain  preds  actual\n",
              "54              thinkwithgoogle.com  legit     thinkwithgoogle      0       1\n",
              "75                photos.app.goo.gl  legit          photos.app      0       1\n",
              "151      s3-us-west-2.amazonaws.com  legit        s3-us-west-2      0       1\n",
              "207                  dl.dropbox.com  legit             dropbox      0       1\n",
              "229         pubmed.ncbi.nlm.nih.gov  legit     pubmed.ncbi.nlm      0       1\n",
              "...                             ...    ...                 ...    ...     ...\n",
              "1339068          cclynsfugryse3.com    dga      cclynsfugryse3      1       0\n",
              "1339073        wprntxvwzeonqwi6.com    dga    wprntxvwzeonqwi6      1       0\n",
              "1339074      uheinhgchrbqhqii68.com    dga  uheinhgchrbqhqii68      1       0\n",
              "1339076      muhhqiiszpneuellp9.com    dga  muhhqiiszpneuellp9      1       0\n",
              "1339081           vlwubjgmatx6j.com    dga       vlwubjgmatx6j      1       0\n",
              "\n",
              "[299890 rows x 5 columns]"
            ],
            "text/html": [
              "\n",
              "  <div id=\"df-419733e8-eac4-46c7-a35d-5a4b0951bbf4\">\n",
              "    <div class=\"colab-df-container\">\n",
              "      <div>\n",
              "<style scoped>\n",
              "    .dataframe tbody tr th:only-of-type {\n",
              "        vertical-align: middle;\n",
              "    }\n",
              "\n",
              "    .dataframe tbody tr th {\n",
              "        vertical-align: top;\n",
              "    }\n",
              "\n",
              "    .dataframe thead th {\n",
              "        text-align: right;\n",
              "    }\n",
              "</style>\n",
              "<table border=\"1\" class=\"dataframe\">\n",
              "  <thead>\n",
              "    <tr style=\"text-align: right;\">\n",
              "      <th></th>\n",
              "      <th>domain_name</th>\n",
              "      <th>label</th>\n",
              "      <th>domain</th>\n",
              "      <th>preds</th>\n",
              "      <th>actual</th>\n",
              "    </tr>\n",
              "  </thead>\n",
              "  <tbody>\n",
              "    <tr>\n",
              "      <th>54</th>\n",
              "      <td>thinkwithgoogle.com</td>\n",
              "      <td>legit</td>\n",
              "      <td>thinkwithgoogle</td>\n",
              "      <td>0</td>\n",
              "      <td>1</td>\n",
              "    </tr>\n",
              "    <tr>\n",
              "      <th>75</th>\n",
              "      <td>photos.app.goo.gl</td>\n",
              "      <td>legit</td>\n",
              "      <td>photos.app</td>\n",
              "      <td>0</td>\n",
              "      <td>1</td>\n",
              "    </tr>\n",
              "    <tr>\n",
              "      <th>151</th>\n",
              "      <td>s3-us-west-2.amazonaws.com</td>\n",
              "      <td>legit</td>\n",
              "      <td>s3-us-west-2</td>\n",
              "      <td>0</td>\n",
              "      <td>1</td>\n",
              "    </tr>\n",
              "    <tr>\n",
              "      <th>207</th>\n",
              "      <td>dl.dropbox.com</td>\n",
              "      <td>legit</td>\n",
              "      <td>dropbox</td>\n",
              "      <td>0</td>\n",
              "      <td>1</td>\n",
              "    </tr>\n",
              "    <tr>\n",
              "      <th>229</th>\n",
              "      <td>pubmed.ncbi.nlm.nih.gov</td>\n",
              "      <td>legit</td>\n",
              "      <td>pubmed.ncbi.nlm</td>\n",
              "      <td>0</td>\n",
              "      <td>1</td>\n",
              "    </tr>\n",
              "    <tr>\n",
              "      <th>...</th>\n",
              "      <td>...</td>\n",
              "      <td>...</td>\n",
              "      <td>...</td>\n",
              "      <td>...</td>\n",
              "      <td>...</td>\n",
              "    </tr>\n",
              "    <tr>\n",
              "      <th>1339068</th>\n",
              "      <td>cclynsfugryse3.com</td>\n",
              "      <td>dga</td>\n",
              "      <td>cclynsfugryse3</td>\n",
              "      <td>1</td>\n",
              "      <td>0</td>\n",
              "    </tr>\n",
              "    <tr>\n",
              "      <th>1339073</th>\n",
              "      <td>wprntxvwzeonqwi6.com</td>\n",
              "      <td>dga</td>\n",
              "      <td>wprntxvwzeonqwi6</td>\n",
              "      <td>1</td>\n",
              "      <td>0</td>\n",
              "    </tr>\n",
              "    <tr>\n",
              "      <th>1339074</th>\n",
              "      <td>uheinhgchrbqhqii68.com</td>\n",
              "      <td>dga</td>\n",
              "      <td>uheinhgchrbqhqii68</td>\n",
              "      <td>1</td>\n",
              "      <td>0</td>\n",
              "    </tr>\n",
              "    <tr>\n",
              "      <th>1339076</th>\n",
              "      <td>muhhqiiszpneuellp9.com</td>\n",
              "      <td>dga</td>\n",
              "      <td>muhhqiiszpneuellp9</td>\n",
              "      <td>1</td>\n",
              "      <td>0</td>\n",
              "    </tr>\n",
              "    <tr>\n",
              "      <th>1339081</th>\n",
              "      <td>vlwubjgmatx6j.com</td>\n",
              "      <td>dga</td>\n",
              "      <td>vlwubjgmatx6j</td>\n",
              "      <td>1</td>\n",
              "      <td>0</td>\n",
              "    </tr>\n",
              "  </tbody>\n",
              "</table>\n",
              "<p>299890 rows × 5 columns</p>\n",
              "</div>\n",
              "      <button class=\"colab-df-convert\" onclick=\"convertToInteractive('df-419733e8-eac4-46c7-a35d-5a4b0951bbf4')\"\n",
              "              title=\"Convert this dataframe to an interactive table.\"\n",
              "              style=\"display:none;\">\n",
              "        \n",
              "  <svg xmlns=\"http://www.w3.org/2000/svg\" height=\"24px\"viewBox=\"0 0 24 24\"\n",
              "       width=\"24px\">\n",
              "    <path d=\"M0 0h24v24H0V0z\" fill=\"none\"/>\n",
              "    <path d=\"M18.56 5.44l.94 2.06.94-2.06 2.06-.94-2.06-.94-.94-2.06-.94 2.06-2.06.94zm-11 1L8.5 8.5l.94-2.06 2.06-.94-2.06-.94L8.5 2.5l-.94 2.06-2.06.94zm10 10l.94 2.06.94-2.06 2.06-.94-2.06-.94-.94-2.06-.94 2.06-2.06.94z\"/><path d=\"M17.41 7.96l-1.37-1.37c-.4-.4-.92-.59-1.43-.59-.52 0-1.04.2-1.43.59L10.3 9.45l-7.72 7.72c-.78.78-.78 2.05 0 2.83L4 21.41c.39.39.9.59 1.41.59.51 0 1.02-.2 1.41-.59l7.78-7.78 2.81-2.81c.8-.78.8-2.07 0-2.86zM5.41 20L4 18.59l7.72-7.72 1.47 1.35L5.41 20z\"/>\n",
              "  </svg>\n",
              "      </button>\n",
              "      \n",
              "  <style>\n",
              "    .colab-df-container {\n",
              "      display:flex;\n",
              "      flex-wrap:wrap;\n",
              "      gap: 12px;\n",
              "    }\n",
              "\n",
              "    .colab-df-convert {\n",
              "      background-color: #E8F0FE;\n",
              "      border: none;\n",
              "      border-radius: 50%;\n",
              "      cursor: pointer;\n",
              "      display: none;\n",
              "      fill: #1967D2;\n",
              "      height: 32px;\n",
              "      padding: 0 0 0 0;\n",
              "      width: 32px;\n",
              "    }\n",
              "\n",
              "    .colab-df-convert:hover {\n",
              "      background-color: #E2EBFA;\n",
              "      box-shadow: 0px 1px 2px rgba(60, 64, 67, 0.3), 0px 1px 3px 1px rgba(60, 64, 67, 0.15);\n",
              "      fill: #174EA6;\n",
              "    }\n",
              "\n",
              "    [theme=dark] .colab-df-convert {\n",
              "      background-color: #3B4455;\n",
              "      fill: #D2E3FC;\n",
              "    }\n",
              "\n",
              "    [theme=dark] .colab-df-convert:hover {\n",
              "      background-color: #434B5C;\n",
              "      box-shadow: 0px 1px 3px 1px rgba(0, 0, 0, 0.15);\n",
              "      filter: drop-shadow(0px 1px 2px rgba(0, 0, 0, 0.3));\n",
              "      fill: #FFFFFF;\n",
              "    }\n",
              "  </style>\n",
              "\n",
              "      <script>\n",
              "        const buttonEl =\n",
              "          document.querySelector('#df-419733e8-eac4-46c7-a35d-5a4b0951bbf4 button.colab-df-convert');\n",
              "        buttonEl.style.display =\n",
              "          google.colab.kernel.accessAllowed ? 'block' : 'none';\n",
              "\n",
              "        async function convertToInteractive(key) {\n",
              "          const element = document.querySelector('#df-419733e8-eac4-46c7-a35d-5a4b0951bbf4');\n",
              "          const dataTable =\n",
              "            await google.colab.kernel.invokeFunction('convertToInteractive',\n",
              "                                                     [key], {});\n",
              "          if (!dataTable) return;\n",
              "\n",
              "          const docLinkHtml = 'Like what you see? Visit the ' +\n",
              "            '<a target=\"_blank\" href=https://colab.research.google.com/notebooks/data_table.ipynb>data table notebook</a>'\n",
              "            + ' to learn more about interactive tables.';\n",
              "          element.innerHTML = '';\n",
              "          dataTable['output_type'] = 'display_data';\n",
              "          await google.colab.output.renderOutput(dataTable, element);\n",
              "          const docLink = document.createElement('div');\n",
              "          docLink.innerHTML = docLinkHtml;\n",
              "          element.appendChild(docLink);\n",
              "        }\n",
              "      </script>\n",
              "    </div>\n",
              "  </div>\n",
              "  "
            ]
          },
          "metadata": {},
          "execution_count": 25
        }
      ]
    },
    {
      "cell_type": "code",
      "source": [
        "# Confusion matrix\n",
        "from sklearn.metrics import plot_confusion_matrix\n",
        "plot_confusion_matrix(LSTMXGBmodel, intermediate_output, Y, display_labels=[\"legit\", \"dga\"])"
      ],
      "metadata": {
        "id": "3EZzQaO-Iccr",
        "colab": {
          "base_uri": "https://localhost:8080/",
          "height": 355
        },
        "outputId": "7662ff7d-fa01-4657-9e63-399f46eca1e5"
      },
      "execution_count": null,
      "outputs": [
        {
          "output_type": "stream",
          "name": "stderr",
          "text": [
            "/usr/local/lib/python3.7/dist-packages/sklearn/utils/deprecation.py:87: FutureWarning: Function plot_confusion_matrix is deprecated; Function `plot_confusion_matrix` is deprecated in 1.0 and will be removed in 1.2. Use one of the class methods: ConfusionMatrixDisplay.from_predictions or ConfusionMatrixDisplay.from_estimator.\n",
            "  warnings.warn(msg, category=FutureWarning)\n"
          ]
        },
        {
          "output_type": "execute_result",
          "data": {
            "text/plain": [
              "<sklearn.metrics._plot.confusion_matrix.ConfusionMatrixDisplay at 0x7f3622d45b50>"
            ]
          },
          "metadata": {},
          "execution_count": 14
        },
        {
          "output_type": "display_data",
          "data": {
            "text/plain": [
              "<Figure size 432x288 with 2 Axes>"
            ],
            "image/png": "[encoded data removed]"
          },
          "metadata": {
            "needs_background": "light"
          }
        }
      ]
    },
    {
      "cell_type": "code",
      "execution_count": null,
      "metadata": {
        "id": "gqKVaWbyiUWK"
      },
      "outputs": [],
      "source": [
        "from sklearn import metrics\n",
        "import matplotlib.pyplot as plt\n",
        "lxgbppred = LSTMXGBmodel.predict_proba(intermediate_output)[::,1]"
      ]
    },
    {
      "cell_type": "code",
      "execution_count": null,
      "metadata": {
        "id": "JD0J2KHXiUWM"
      },
      "outputs": [],
      "source": [
        "fpr,tpr, _ = metrics.roc_curve(Y,lxgbppred)\n",
        "auc = metrics.roc_auc_score(Y,lxgbppred)"
      ]
    },
    {
      "cell_type": "code",
      "execution_count": null,
      "metadata": {
        "id": "TQdLln0eiUWM",
        "colab": {
          "base_uri": "https://localhost:8080/"
        },
        "outputId": "d8947cb0-0336-44c5-d96f-70f098328b7b"
      },
      "outputs": [
        {
          "output_type": "stream",
          "name": "stdout",
          "text": [
            "0.6417319364421444\n"
          ]
        }
      ],
      "source": [
        "print(auc)"
      ]
    },
    {
      "cell_type": "code",
      "source": [
        "from sklearn.metrics import accuracy_score, precision_score, recall_score, f1_score\n",
        "precision=precision_score(LSTMXGBmodel.predict(intermediate_layer_model.predict(X_test)),y_test)\n",
        "recall=recall_score(LSTMXGBmodel.predict(intermediate_layer_model.predict(X_test)),y_test)\n",
        "f1=f1_score(LSTMXGBmodel.predict(intermediate_layer_model.predict(X_test)),y_test)\n",
        "accuracy=accuracy_score(LSTMXGBmodel.predict(intermediate_layer_model.predict(X_test)),y_test)\n",
        "print(precision,recall,f1,accuracy)"
      ],
      "metadata": {
        "id": "1XOGSmreuyrw"
      },
      "execution_count": null,
      "outputs": []
    },
    {
      "cell_type": "markdown",
      "source": [
        "#### LSTM+RF"
      ],
      "metadata": {
        "id": "4IY8cuWUA0-_"
      }
    },
    {
      "cell_type": "code",
      "source": [
        "import pickle\n",
        "# load the model from disk\n",
        "filename = '/content/drive/My Drive/Colab Notebooks/BLSTM+RFmodel.sav'\n",
        "LSTMRFmodel = pickle.load(open(filename, 'rb'))"
      ],
      "metadata": {
        "id": "mpN3VE1RA0-_"
      },
      "execution_count": null,
      "outputs": []
    },
    {
      "cell_type": "code",
      "source": [
        "from sklearn.metrics import plot_confusion_matrix,accuracy_score,classification_report\n",
        "LSTMRFpred=LSTMRFmodel.predict(intermediate_output)\n",
        "print(classification_report(Y,LSTMRFpred))"
      ],
      "metadata": {
        "colab": {
          "base_uri": "https://localhost:8080/"
        },
        "outputId": "71a154bd-5878-4107-86a0-cb3c81bd0cea",
        "id": "ma_Lu9vvA0-_"
      },
      "execution_count": null,
      "outputs": [
        {
          "output_type": "stream",
          "name": "stdout",
          "text": [
            "              precision    recall  f1-score   support\n",
            "\n",
            "           0       0.72      0.35      0.47    381671\n",
            "           1       0.79      0.95      0.86    957416\n",
            "\n",
            "    accuracy                           0.78   1339087\n",
            "   macro avg       0.75      0.65      0.67   1339087\n",
            "weighted avg       0.77      0.78      0.75   1339087\n",
            "\n"
          ]
        }
      ]
    },
    {
      "cell_type": "code",
      "source": [
        "# Confusion matrix\n",
        "from sklearn.metrics import plot_confusion_matrix\n",
        "plot_confusion_matrix(LSTMRFmodel, intermediate_output, Y, display_labels=[\"legit\", \"dga\"])"
      ],
      "metadata": {
        "colab": {
          "base_uri": "https://localhost:8080/",
          "height": 354
        },
        "id": "v_SDT9iGL6Vz",
        "outputId": "2a87b4b8-5039-40d5-8768-605343b1cf49"
      },
      "execution_count": null,
      "outputs": [
        {
          "output_type": "stream",
          "name": "stderr",
          "text": [
            "/usr/local/lib/python3.7/dist-packages/sklearn/utils/deprecation.py:87: FutureWarning: Function plot_confusion_matrix is deprecated; Function `plot_confusion_matrix` is deprecated in 1.0 and will be removed in 1.2. Use one of the class methods: ConfusionMatrixDisplay.from_predictions or ConfusionMatrixDisplay.from_estimator.\n",
            "  warnings.warn(msg, category=FutureWarning)\n"
          ]
        },
        {
          "output_type": "execute_result",
          "data": {
            "text/plain": [
              "<sklearn.metrics._plot.confusion_matrix.ConfusionMatrixDisplay at 0x7f3624875310>"
            ]
          },
          "metadata": {},
          "execution_count": 16
        },
        {
          "output_type": "display_data",
          "data": {
            "text/plain": [
              "<Figure size 432x288 with 2 Axes>"
            ],
            "image/png": "[encoded data removed]"
          },
          "metadata": {
            "needs_background": "light"
          }
        }
      ]
    },
    {
      "cell_type": "code",
      "execution_count": null,
      "metadata": {
        "id": "LMSob6MosZlG"
      },
      "outputs": [],
      "source": [
        "from sklearn import metrics\n",
        "import matplotlib.pyplot as plt\n",
        "\n",
        "lrfppred = LSTMRFmodel.predict_proba(intermediate_output)[::,1]"
      ]
    },
    {
      "cell_type": "code",
      "execution_count": null,
      "metadata": {
        "id": "tZ0QoRjOsZlH"
      },
      "outputs": [],
      "source": [
        "fpr,tpr, _ = metrics.roc_curve(Y,lrfppred)\n",
        "auc = metrics.roc_auc_score(Y,lrfppred)"
      ]
    },
    {
      "cell_type": "code",
      "execution_count": null,
      "metadata": {
        "colab": {
          "base_uri": "https://localhost:8080/"
        },
        "id": "fWhVWqfbsZlH",
        "outputId": "40de3743-99e2-463f-fa69-338799878452"
      },
      "outputs": [
        {
          "output_type": "stream",
          "name": "stdout",
          "text": [
            "0.624930141442295\n"
          ]
        }
      ],
      "source": [
        "print(auc)"
      ]
    },
    {
      "cell_type": "code",
      "source": [
        "from sklearn.metrics import accuracy_score, precision_score, recall_score, f1_score\n",
        "precision=precision_score(LSTMRFmodel.predict(intermediate_layer_model.predict(X_test)),y_test)\n",
        "recall=recall_score(LSTMRFmodel.predict(intermediate_layer_model.predict(X_test)),y_test)\n",
        "f1=f1_score(LSTMRFmodel.predict(intermediate_layer_model.predict(X_test)),y_test)\n",
        "accuracy=accuracy_score(LSTMRFmodel.predict(intermediate_layer_model.predict(X_test)),y_test)\n",
        "print(precision,recall,f1,accuracy)"
      ],
      "metadata": {
        "id": "ZORjM3L4u9CI"
      },
      "execution_count": null,
      "outputs": []
    },
    {
      "cell_type": "markdown",
      "source": [
        "#### LSTM+NB"
      ],
      "metadata": {
        "id": "m0tb3_NKA0-_"
      }
    },
    {
      "cell_type": "code",
      "source": [
        "import pickle\n",
        "# load the model from disk\n",
        "filename = '/content/drive/My Drive/Colab Notebooks/BLSTM+NBmodel.sav'\n",
        "LSTMNBmodel = pickle.load(open(filename, 'rb'))"
      ],
      "metadata": {
        "id": "pI6xXAASA0_A"
      },
      "execution_count": null,
      "outputs": []
    },
    {
      "cell_type": "code",
      "source": [
        "from sklearn.metrics import plot_confusion_matrix,accuracy_score,classification_report\n",
        "LSTMNBpred=LSTMNBmodel.predict(intermediate_output)\n",
        "print(classification_report(Y,LSTMNBpred))"
      ],
      "metadata": {
        "colab": {
          "base_uri": "https://localhost:8080/"
        },
        "outputId": "fa1eb75d-19e3-4ebe-a932-0945b79584d2",
        "id": "QhxZmnGsA0_A"
      },
      "execution_count": null,
      "outputs": [
        {
          "output_type": "stream",
          "name": "stdout",
          "text": [
            "              precision    recall  f1-score   support\n",
            "\n",
            "           0       0.67      0.55      0.60    381671\n",
            "           1       0.83      0.89      0.86    957416\n",
            "\n",
            "    accuracy                           0.79   1339087\n",
            "   macro avg       0.75      0.72      0.73   1339087\n",
            "weighted avg       0.79      0.79      0.79   1339087\n",
            "\n"
          ]
        }
      ]
    },
    {
      "cell_type": "code",
      "execution_count": null,
      "metadata": {
        "id": "8Sly3Ngxsn2h"
      },
      "outputs": [],
      "source": [
        "from sklearn import metrics\n",
        "import matplotlib.pyplot as plt\n",
        "\n",
        "lnbppred = LSTMNBmodel.predict_proba(intermediate_output)[::,1]"
      ]
    },
    {
      "cell_type": "code",
      "execution_count": null,
      "metadata": {
        "id": "0CszRQq0sn2h"
      },
      "outputs": [],
      "source": [
        "fpr,tpr, _ = metrics.roc_curve(Y,lnbppred)\n",
        "auc = metrics.roc_auc_score(Y,lnbppred)"
      ]
    },
    {
      "cell_type": "code",
      "execution_count": null,
      "metadata": {
        "colab": {
          "base_uri": "https://localhost:8080/"
        },
        "id": "O60hR-CJsn2i",
        "outputId": "18671390-93f2-4d5c-9539-9a03fdddee2d"
      },
      "outputs": [
        {
          "output_type": "stream",
          "name": "stdout",
          "text": [
            "0.8027170975451786\n"
          ]
        }
      ],
      "source": [
        "print(auc)"
      ]
    },
    {
      "cell_type": "code",
      "source": [
        "from sklearn.metrics import accuracy_score, precision_score, recall_score, f1_score\n",
        "precision=precision_score(LSTMNBmodel.predict(intermediate_layer_model.predict(X_test)),y_test)\n",
        "recall=recall_score(LSTMNBmodel.predict(intermediate_layer_model.predict(X_test)),y_test)\n",
        "f1=f1_score(LSTMNBmodel.predict(intermediate_layer_model.predict(X_test)),y_test)\n",
        "accuracy=accuracy_score(LSTMNBmodel.predict(intermediate_layer_model.predict(X_test)),y_test)\n",
        "print(precision,recall,f1,accuracy)"
      ],
      "metadata": {
        "id": "FmZ19GkjvJZ4"
      },
      "execution_count": null,
      "outputs": []
    },
    {
      "cell_type": "markdown",
      "source": [
        "#### LSTM+LR"
      ],
      "metadata": {
        "id": "JOEKjN6CA0_A"
      }
    },
    {
      "cell_type": "code",
      "source": [
        "import pickle\n",
        "# load the model from disk\n",
        "filename = '/content/drive/My Drive/Colab Notebooks/BLSTM+LRmodel.sav'\n",
        "LSTMLRmodel = pickle.load(open(filename, 'rb'))"
      ],
      "metadata": {
        "id": "4N-k_Xp-A0_A"
      },
      "execution_count": null,
      "outputs": []
    },
    {
      "cell_type": "code",
      "source": [
        "from sklearn.metrics import plot_confusion_matrix,accuracy_score,classification_report\n",
        "LSTMLRpred=LSTMLRmodel.predict(intermediate_output)\n",
        "print(classification_report(Y,LSTMLRpred))"
      ],
      "metadata": {
        "colab": {
          "base_uri": "https://localhost:8080/"
        },
        "outputId": "9aaee4b4-0900-4ef6-f198-000e5dc3254b",
        "id": "hurQurDsA0_A"
      },
      "execution_count": null,
      "outputs": [
        {
          "output_type": "stream",
          "name": "stdout",
          "text": [
            "              precision    recall  f1-score   support\n",
            "\n",
            "           0       0.71      0.36      0.48    381671\n",
            "           1       0.79      0.94      0.86    957416\n",
            "\n",
            "    accuracy                           0.77   1339087\n",
            "   macro avg       0.75      0.65      0.67   1339087\n",
            "weighted avg       0.76      0.77      0.75   1339087\n",
            "\n"
          ]
        }
      ]
    },
    {
      "cell_type": "code",
      "source": [
        "# Confusion matrix\n",
        "from sklearn.metrics import plot_confusion_matrix\n",
        "plot_confusion_matrix(LSTMLRmodel, intermediate_output, Y, display_labels=[\"legit\", \"dga\"])"
      ],
      "metadata": {
        "id": "VRsLlDr9MNsP",
        "outputId": "1914911b-3655-42dd-b9a7-faf2c677848a",
        "colab": {
          "base_uri": "https://localhost:8080/",
          "height": 355
        }
      },
      "execution_count": null,
      "outputs": [
        {
          "output_type": "stream",
          "name": "stderr",
          "text": [
            "/usr/local/lib/python3.7/dist-packages/sklearn/utils/deprecation.py:87: FutureWarning: Function plot_confusion_matrix is deprecated; Function `plot_confusion_matrix` is deprecated in 1.0 and will be removed in 1.2. Use one of the class methods: ConfusionMatrixDisplay.from_predictions or ConfusionMatrixDisplay.from_estimator.\n",
            "  warnings.warn(msg, category=FutureWarning)\n"
          ]
        },
        {
          "output_type": "execute_result",
          "data": {
            "text/plain": [
              "<sklearn.metrics._plot.confusion_matrix.ConfusionMatrixDisplay at 0x7f36244a29d0>"
            ]
          },
          "metadata": {},
          "execution_count": 18
        },
        {
          "output_type": "display_data",
          "data": {
            "text/plain": [
              "<Figure size 432x288 with 2 Axes>"
            ],
            "image/png": "[encoded data removed]"
          },
          "metadata": {
            "needs_background": "light"
          }
        }
      ]
    },
    {
      "cell_type": "code",
      "execution_count": null,
      "metadata": {
        "id": "2jOazITmswvN"
      },
      "outputs": [],
      "source": [
        "from sklearn import metrics\n",
        "import matplotlib.pyplot as plt\n",
        "\n",
        "llrppred = LSTMLRmodel.predict_proba(intermediate_output)[::,1]"
      ]
    },
    {
      "cell_type": "code",
      "execution_count": null,
      "metadata": {
        "id": "xOjhQjtjswvO"
      },
      "outputs": [],
      "source": [
        "fpr,tpr, _ = metrics.roc_curve(Y,llrppred)\n",
        "auc = metrics.roc_auc_score(Y,llrppred)"
      ]
    },
    {
      "cell_type": "code",
      "execution_count": null,
      "metadata": {
        "colab": {
          "base_uri": "https://localhost:8080/"
        },
        "id": "DbGnrXBeswvO",
        "outputId": "ba058a65-97d2-42e9-ea28-720a670d945a"
      },
      "outputs": [
        {
          "output_type": "stream",
          "name": "stdout",
          "text": [
            "0.6034633863905804\n"
          ]
        }
      ],
      "source": [
        "print(auc)"
      ]
    },
    {
      "cell_type": "code",
      "source": [
        "from sklearn.metrics import accuracy_score, precision_score, recall_score, f1_score\n",
        "precision=precision_score(LSTMLRmodel.predict(intermediate_layer_model.predict(X_test)),y_test)\n",
        "recall=recall_score(LSTMLRmodel.predict(intermediate_layer_model.predict(X_test)),y_test)\n",
        "f1=f1_score(LSTMLRmodel.predict(intermediate_layer_model.predict(X_test)),y_test)\n",
        "accuracy=accuracy_score(LSTMLRmodel.predict(intermediate_layer_model.predict(X_test)),y_test)\n",
        "print(precision,recall,f1,accuracy)"
      ],
      "metadata": {
        "id": "-GqGmwpvvLEi"
      },
      "execution_count": null,
      "outputs": []
    },
    {
      "cell_type": "markdown",
      "source": [
        "#### LSTM+ET"
      ],
      "metadata": {
        "id": "L188WFJSA0_B"
      }
    },
    {
      "cell_type": "code",
      "source": [
        "import pickle\n",
        "# load the model from disk\n",
        "filename = '/content/drive/My Drive/Colab Notebooks/BLSTM+ETmodel.sav'\n",
        "LSTMETmodel = pickle.load(open(filename, 'rb'))"
      ],
      "metadata": {
        "id": "6vT57SA9A0_B"
      },
      "execution_count": null,
      "outputs": []
    },
    {
      "cell_type": "code",
      "source": [
        "from sklearn.metrics import plot_confusion_matrix,accuracy_score,classification_report\n",
        "LSTMETpred=LSTMETmodel.predict(intermediate_output)\n",
        "print(classification_report(Y,LSTMETpred))"
      ],
      "metadata": {
        "colab": {
          "base_uri": "https://localhost:8080/"
        },
        "outputId": "54b46ce7-2b27-4570-cb6c-257388f8af73",
        "id": "QyCP6yljA0_B"
      },
      "execution_count": null,
      "outputs": [
        {
          "output_type": "stream",
          "name": "stdout",
          "text": [
            "              precision    recall  f1-score   support\n",
            "\n",
            "           0       0.72      0.35      0.47    381671\n",
            "           1       0.79      0.95      0.86    957416\n",
            "\n",
            "    accuracy                           0.78   1339087\n",
            "   macro avg       0.75      0.65      0.67   1339087\n",
            "weighted avg       0.77      0.78      0.75   1339087\n",
            "\n"
          ]
        }
      ]
    },
    {
      "cell_type": "code",
      "execution_count": null,
      "metadata": {
        "id": "THEfu05ns75R"
      },
      "outputs": [],
      "source": [
        "from sklearn import metrics\n",
        "import matplotlib.pyplot as plt\n",
        "\n",
        "letppred = LSTMETmodel.predict_proba(intermediate_output)[::,1]"
      ]
    },
    {
      "cell_type": "code",
      "execution_count": null,
      "metadata": {
        "id": "_VMc_psQs75R"
      },
      "outputs": [],
      "source": [
        "fpr,tpr, _ = metrics.roc_curve(Y,letppred)\n",
        "auc = metrics.roc_auc_score(Y,letppred)"
      ]
    },
    {
      "cell_type": "code",
      "execution_count": null,
      "metadata": {
        "colab": {
          "base_uri": "https://localhost:8080/"
        },
        "id": "_c-52PJOs75S",
        "outputId": "03d4b860-ab3b-4fe0-b1da-0725108dcad8"
      },
      "outputs": [
        {
          "output_type": "stream",
          "name": "stdout",
          "text": [
            "0.6187121456671606\n"
          ]
        }
      ],
      "source": [
        "print(auc)"
      ]
    },
    {
      "cell_type": "code",
      "source": [
        "from sklearn.metrics import accuracy_score, precision_score, recall_score, f1_score\n",
        "precision=precision_score(LSTMETmodel.predict(intermediate_layer_model.predict(X_test)),y_test)\n",
        "recall=recall_score(LSTMETmodel.predict(intermediate_layer_model.predict(X_test)),y_test)\n",
        "f1=f1_score(LSTMETmodel.predict(intermediate_layer_model.predict(X_test)),y_test)\n",
        "accuracy=accuracy_score(LSTMETmodel.predict(intermediate_layer_model.predict(X_test)),y_test)\n",
        "print(precision,recall,f1,accuracy)"
      ],
      "metadata": {
        "id": "jJjSH0iXvMoY"
      },
      "execution_count": null,
      "outputs": []
    },
    {
      "cell_type": "markdown",
      "source": [
        "#### LSTM+DT"
      ],
      "metadata": {
        "id": "Z5CzKX8vA0_B"
      }
    },
    {
      "cell_type": "code",
      "source": [
        "import pickle\n",
        "# load the model from disk\n",
        "filename = '/content/drive/My Drive/Colab Notebooks/BLSTM+DTmodel.sav'\n",
        "LSTMDTmodel = pickle.load(open(filename, 'rb'))"
      ],
      "metadata": {
        "id": "1x4RzVeNA0_B"
      },
      "execution_count": null,
      "outputs": []
    },
    {
      "cell_type": "code",
      "source": [
        "from sklearn.metrics import plot_confusion_matrix,accuracy_score,classification_report\n",
        "LSTMDTpred=LSTMDTmodel.predict(intermediate_output)\n",
        "print(classification_report(Y,LSTMDTpred))"
      ],
      "metadata": {
        "colab": {
          "base_uri": "https://localhost:8080/"
        },
        "outputId": "8d1819ec-b640-4b79-c37e-9ad6af484c56",
        "id": "RymJrufQA0_B"
      },
      "execution_count": null,
      "outputs": [
        {
          "output_type": "stream",
          "name": "stdout",
          "text": [
            "              precision    recall  f1-score   support\n",
            "\n",
            "           0       0.64      0.36      0.46    381671\n",
            "           1       0.78      0.92      0.85    957416\n",
            "\n",
            "    accuracy                           0.76   1339087\n",
            "   macro avg       0.71      0.64      0.65   1339087\n",
            "weighted avg       0.74      0.76      0.74   1339087\n",
            "\n"
          ]
        }
      ]
    },
    {
      "cell_type": "code",
      "execution_count": null,
      "metadata": {
        "id": "haxJT8S0tDiY"
      },
      "outputs": [],
      "source": [
        "from sklearn import metrics\n",
        "import matplotlib.pyplot as plt\n",
        "\n",
        "ldtppred = LSTMDTmodel.predict_proba(intermediate_output)[::,1]"
      ]
    },
    {
      "cell_type": "code",
      "execution_count": null,
      "metadata": {
        "id": "skwdF8YotDiZ"
      },
      "outputs": [],
      "source": [
        "fpr,tpr, _ = metrics.roc_curve(Y,ldtppred)\n",
        "auc = metrics.roc_auc_score(Y,ldtppred)"
      ]
    },
    {
      "cell_type": "code",
      "execution_count": null,
      "metadata": {
        "colab": {
          "base_uri": "https://localhost:8080/"
        },
        "id": "gSIXmyactDia",
        "outputId": "dcc93659-79db-4906-eefc-85be7f22eabd"
      },
      "outputs": [
        {
          "output_type": "stream",
          "name": "stdout",
          "text": [
            "0.6392616292902034\n"
          ]
        }
      ],
      "source": [
        "print(auc)"
      ]
    },
    {
      "cell_type": "code",
      "source": [
        "from sklearn.metrics import accuracy_score, precision_score, recall_score, f1_score\n",
        "precision=precision_score(LSTMDTmodel.predict(intermediate_layer_model.predict(X_test)),y_test)\n",
        "recall=recall_score(LSTMDTmodel.predict(intermediate_layer_model.predict(X_test)),y_test)\n",
        "f1=f1_score(LSTMDTmodel.predict(intermediate_layer_model.predict(X_test)),y_test)\n",
        "accuracy=accuracy_score(LSTMDTmodel.predict(intermediate_layer_model.predict(X_test)),y_test)\n",
        "print(precision,recall,f1,accuracy)"
      ],
      "metadata": {
        "id": "QeYKqu_CvOHA"
      },
      "execution_count": null,
      "outputs": []
    },
    {
      "cell_type": "markdown",
      "source": [
        "#### LSTM+AB"
      ],
      "metadata": {
        "id": "8X9W9w6KA0_C"
      }
    },
    {
      "cell_type": "code",
      "source": [
        "import pickle\n",
        "# load the model from disk\n",
        "filename = '/content/drive/My Drive/Colab Notebooks/BLSTM+ABmodel.sav'\n",
        "LSTMABmodel = pickle.load(open(filename, 'rb'))"
      ],
      "metadata": {
        "id": "_TRg2nazA0_C"
      },
      "execution_count": null,
      "outputs": []
    },
    {
      "cell_type": "code",
      "source": [
        "from sklearn.metrics import plot_confusion_matrix,accuracy_score,classification_report\n",
        "LSTMABpred=LSTMABmodel.predict(intermediate_output)\n",
        "print(classification_report(Y,LSTMABpred))"
      ],
      "metadata": {
        "colab": {
          "base_uri": "https://localhost:8080/"
        },
        "outputId": "c734927c-3a81-4f99-8957-039f99a43ad7",
        "id": "f9lcoi5MA0_C"
      },
      "execution_count": null,
      "outputs": [
        {
          "output_type": "stream",
          "name": "stdout",
          "text": [
            "              precision    recall  f1-score   support\n",
            "\n",
            "           0       0.72      0.36      0.48    381671\n",
            "           1       0.79      0.94      0.86    957416\n",
            "\n",
            "    accuracy                           0.78   1339087\n",
            "   macro avg       0.75      0.65      0.67   1339087\n",
            "weighted avg       0.77      0.78      0.75   1339087\n",
            "\n"
          ]
        }
      ]
    },
    {
      "cell_type": "code",
      "execution_count": null,
      "metadata": {
        "id": "MhVamU6DtMP3"
      },
      "outputs": [],
      "source": [
        "from sklearn import metrics\n",
        "import matplotlib.pyplot as plt\n",
        "\n",
        "labppred = LSTMABmodel.predict_proba(intermediate_output)[::,1]"
      ]
    },
    {
      "cell_type": "code",
      "execution_count": null,
      "metadata": {
        "id": "_d4nRQ4ztMP4"
      },
      "outputs": [],
      "source": [
        "fpr,tpr, _ = metrics.roc_curve(Y,labppred)\n",
        "auc = metrics.roc_auc_score(Y,labppred)"
      ]
    },
    {
      "cell_type": "code",
      "execution_count": null,
      "metadata": {
        "colab": {
          "base_uri": "https://localhost:8080/"
        },
        "id": "5AK6RODwtMP4",
        "outputId": "73ae96b4-4bcb-4970-af6e-5aff2ea4e6fa"
      },
      "outputs": [
        {
          "output_type": "stream",
          "name": "stdout",
          "text": [
            "0.6116070536308327\n"
          ]
        }
      ],
      "source": [
        "print(auc)"
      ]
    },
    {
      "cell_type": "code",
      "source": [
        "from sklearn.metrics import accuracy_score, precision_score, recall_score, f1_score\n",
        "precision=precision_score(LSTMABmodel.predict(intermediate_layer_model.predict(X_test)),y_test)\n",
        "recall=recall_score(LSTMABmodel.predict(intermediate_layer_model.predict(X_test)),y_test)\n",
        "f1=f1_score(LSTMABmodel.predict(intermediate_layer_model.predict(X_test)),y_test)\n",
        "accuracy=accuracy_score(LSTMABmodel.predict(intermediate_layer_model.predict(X_test)),y_test)\n",
        "print(precision,recall,f1,accuracy)"
      ],
      "metadata": {
        "id": "qSiEB2stvPzv"
      },
      "execution_count": null,
      "outputs": []
    }
  ]
}