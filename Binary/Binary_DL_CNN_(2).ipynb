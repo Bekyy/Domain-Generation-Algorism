{
 "cells": [
  {
   "cell_type": "code",
   "execution_count": 1,
   "metadata": {
    "id": "PRA4adyjdWcn"
   },
   "outputs": [],
   "source": [
    "import tensorflow as tf\n",
    "import matplotlib.image as img\n",
    "%matplotlib inline\n",
    "import numpy as np\n",
    "from collections import defaultdict\n",
    "import collections\n",
    "import matplotlib.pyplot as plt\n",
    "import os\n",
    "import random\n",
    "from tensorflow import keras\n",
    "import pandas as pd\n",
    "import math\n",
    "from collections import Counter\n",
    "from sklearn.model_selection import train_test_split\n",
    "from sklearn.model_selection import GridSearchCV"
   ]
  },
  {
   "cell_type": "code",
   "execution_count": null,
   "metadata": {
    "colab": {
     "base_uri": "https://localhost:8080/"
    },
    "id": "y2NbzC-Kd4yP",
    "outputId": "d45dded2-9e96-468e-b39b-4925b9f173ee"
   },
   "outputs": [
    {
     "name": "stdout",
     "output_type": "stream",
     "text": [
      "2.8.2\n",
      "/device:GPU:0\n"
     ]
    }
   ],
   "source": [
    "# Check if GPU is enabled\n",
    "print(tf.__version__)\n",
    "print(tf.test.gpu_device_name())"
   ]
  },
  {
   "cell_type": "code",
   "execution_count": null,
   "metadata": {
    "colab": {
     "base_uri": "https://localhost:8080/"
    },
    "id": "-miIBab7lnn8",
    "outputId": "0c836d7d-1ce9-4be1-a895-bb37e7b3fe80"
   },
   "outputs": [
    {
     "name": "stdout",
     "output_type": "stream",
     "text": [
      "Mounted at /content/drive\n"
     ]
    }
   ],
   "source": [
    "from google.colab import drive\n",
    "drive.mount('/content/drive')"
   ]
  },
  {
   "cell_type": "markdown",
   "metadata": {
    "id": "4bQWraKyuG0V"
   },
   "source": [
    "## Loading DGA domain name data "
   ]
  },
  {
   "cell_type": "code",
   "execution_count": 24,
   "metadata": {},
   "outputs": [],
   "source": [
    "Domain_data = pd.read_csv('C:/Users/AII/DGA/ADLDomain_Binary.csv')"
   ]
  },
  {
   "cell_type": "code",
   "execution_count": 25,
   "metadata": {
    "colab": {
     "base_uri": "https://localhost:8080/",
     "height": 206
    },
    "id": "UdfeSwzBuWga",
    "outputId": "65782ca2-a28f-4094-c649-66cf35ca4cdd"
   },
   "outputs": [
    {
     "data": {
      "text/html": [
       "<div>\n",
       "<style scoped>\n",
       "    .dataframe tbody tr th:only-of-type {\n",
       "        vertical-align: middle;\n",
       "    }\n",
       "\n",
       "    .dataframe tbody tr th {\n",
       "        vertical-align: top;\n",
       "    }\n",
       "\n",
       "    .dataframe thead th {\n",
       "        text-align: right;\n",
       "    }\n",
       "</style>\n",
       "<table border=\"1\" class=\"dataframe\">\n",
       "  <thead>\n",
       "    <tr style=\"text-align: right;\">\n",
       "      <th></th>\n",
       "      <th>domain_name</th>\n",
       "      <th>label</th>\n",
       "      <th>domain</th>\n",
       "    </tr>\n",
       "  </thead>\n",
       "  <tbody>\n",
       "    <tr>\n",
       "      <th>0</th>\n",
       "      <td>odqzesdvd.info</td>\n",
       "      <td>dga</td>\n",
       "      <td>odqzesdvd</td>\n",
       "    </tr>\n",
       "    <tr>\n",
       "      <th>1</th>\n",
       "      <td>mcrwnxdzu.info</td>\n",
       "      <td>dga</td>\n",
       "      <td>mcrwnxdzu</td>\n",
       "    </tr>\n",
       "    <tr>\n",
       "      <th>2</th>\n",
       "      <td>poxrscvfoy.biz</td>\n",
       "      <td>dga</td>\n",
       "      <td>poxrscvfoy</td>\n",
       "    </tr>\n",
       "    <tr>\n",
       "      <th>3</th>\n",
       "      <td>dupzwi.info</td>\n",
       "      <td>dga</td>\n",
       "      <td>dupzwi</td>\n",
       "    </tr>\n",
       "    <tr>\n",
       "      <th>4</th>\n",
       "      <td>pgldibr.com</td>\n",
       "      <td>dga</td>\n",
       "      <td>pgldibr</td>\n",
       "    </tr>\n",
       "  </tbody>\n",
       "</table>\n",
       "</div>"
      ],
      "text/plain": [
       "      domain_name label      domain\n",
       "0  odqzesdvd.info   dga   odqzesdvd\n",
       "1  mcrwnxdzu.info   dga   mcrwnxdzu\n",
       "2  poxrscvfoy.biz   dga  poxrscvfoy\n",
       "3     dupzwi.info   dga      dupzwi\n",
       "4     pgldibr.com   dga     pgldibr"
      ]
     },
     "execution_count": 25,
     "metadata": {},
     "output_type": "execute_result"
    }
   ],
   "source": [
    "#Domain_data = pd.read_csv('/content/drive/My Drive/Colab Notebooks/ADLDomain_Binary.csv')\n",
    "Domain_data.drop([\"Unnamed: 0\"], axis=1, inplace=True)\n",
    "Domain_data.head()"
   ]
  },
  {
   "cell_type": "code",
   "execution_count": 26,
   "metadata": {
    "id": "pR0ZVb_nu9sd"
   },
   "outputs": [],
   "source": [
    "Domain_data.domain=Domain_data.domain.astype(str)"
   ]
  },
  {
   "cell_type": "code",
   "execution_count": 27,
   "metadata": {},
   "outputs": [
    {
     "data": {
      "text/plain": [
       "array(['dga', 'legit'], dtype=object)"
      ]
     },
     "execution_count": 27,
     "metadata": {},
     "output_type": "execute_result"
    }
   ],
   "source": [
    "Domain_data.label.unique()"
   ]
  },
  {
   "cell_type": "code",
   "execution_count": 28,
   "metadata": {
    "id": "i_ei54QWY3gO"
   },
   "outputs": [],
   "source": [
    "from sklearn.preprocessing import LabelEncoder\n",
    "\n",
    "X = Domain_data.domain\n",
    "Y = Domain_data['label']\n",
    "\n",
    "le=LabelEncoder()\n",
    "Y = le.fit_transform(Y)"
   ]
  },
  {
   "cell_type": "code",
   "execution_count": 29,
   "metadata": {},
   "outputs": [
    {
     "data": {
      "text/plain": [
       "array([0, 0, 0, ..., 1, 1, 1])"
      ]
     },
     "execution_count": 29,
     "metadata": {},
     "output_type": "execute_result"
    }
   ],
   "source": [
    "Y"
   ]
  },
  {
   "cell_type": "code",
   "execution_count": 30,
   "metadata": {
    "colab": {
     "base_uri": "https://localhost:8080/",
     "height": 348
    },
    "id": "vXN2K35v_75f",
    "outputId": "c1f019eb-4785-423b-b6bf-af305468af5a"
   },
   "outputs": [
    {
     "data": {
      "text/plain": [
       "<Axes: ylabel='count'>"
      ]
     },
     "execution_count": 30,
     "metadata": {},
     "output_type": "execute_result"
    },
    {
     "data": {
      "image/png": "[encoded data removed]",
      "text/plain": [
       "<Figure size 640x480 with 1 Axes>"
      ]
     },
     "metadata": {},
     "output_type": "display_data"
    }
   ],
   "source": [
    "import seaborn as sns\n",
    "sns.countplot(Y)"
   ]
  },
  {
   "cell_type": "code",
   "execution_count": 31,
   "metadata": {},
   "outputs": [
    {
     "data": {
      "text/plain": [
       "<Axes: xlabel='label', ylabel='count'>"
      ]
     },
     "execution_count": 31,
     "metadata": {},
     "output_type": "execute_result"
    },
    {
     "data": {
      "image/png": "[encoded data removed]",
      "text/plain": [
       "<Figure size 640x480 with 1 Axes>"
      ]
     },
     "metadata": {},
     "output_type": "display_data"
    }
   ],
   "source": [
    "sns.countplot(Domain_data, x=\"label\")"
   ]
  },
  {
   "cell_type": "code",
   "execution_count": 32,
   "metadata": {
    "id": "6fl2GHSlZaKu"
   },
   "outputs": [],
   "source": [
    "from keras.preprocessing.text import Tokenizer\n",
    "from keras.preprocessing import sequence\n",
    "from keras.models import Sequential\n",
    "from keras.utils import pad_sequences\n",
    "\n",
    "#max_words = num_words\n",
    "max_len = 50\n",
    "\n",
    "# Tokenizer\n",
    "tok = Tokenizer(num_words=None, char_level=True, oov_token='UNK')\n",
    "tok.fit_on_texts(X)\n",
    "sequences = tok.texts_to_sequences(X)\n",
    "sequences_matrix = pad_sequences(sequences,padding='post',maxlen=max_len)"
   ]
  },
  {
   "cell_type": "code",
   "execution_count": 33,
   "metadata": {
    "id": "suQdaT_jc9ie"
   },
   "outputs": [],
   "source": [
    "X_train, X_test, y_train, y_test = train_test_split(sequences_matrix, Y, test_size=0.20, random_state=200)"
   ]
  },
  {
   "cell_type": "code",
   "execution_count": 36,
   "metadata": {},
   "outputs": [
    {
     "name": "stdout",
     "output_type": "stream",
     "text": [
      "Counter({0: 1170817, 1: 490493})\n"
     ]
    }
   ],
   "source": [
    "print(Counter(y_train))"
   ]
  },
  {
   "cell_type": "code",
   "execution_count": 35,
   "metadata": {},
   "outputs": [
    {
     "ename": "IndexError",
     "evalue": "too many indices for array: array is 1-dimensional, but 2 were indexed",
     "output_type": "error",
     "traceback": [
      "\u001b[1;31m---------------------------------------------------------------------------\u001b[0m",
      "\u001b[1;31mIndexError\u001b[0m                                Traceback (most recent call last)",
      "Cell \u001b[1;32mIn[35], line 1\u001b[0m\n\u001b[1;32m----> 1\u001b[0m sns\u001b[38;5;241m.\u001b[39mcountplot(\u001b[43my_train\u001b[49m\u001b[43m[\u001b[49m\u001b[38;5;241;43m0\u001b[39;49m\u001b[43m,\u001b[49m\u001b[38;5;241;43m1\u001b[39;49m\u001b[43m]\u001b[49m)\n",
      "\u001b[1;31mIndexError\u001b[0m: too many indices for array: array is 1-dimensional, but 2 were indexed"
     ]
    }
   ],
   "source": [
    "sns.countplot(y_train[0,1])"
   ]
  },
  {
   "cell_type": "markdown",
   "metadata": {
    "id": "tJ27JbZ0omYi"
   },
   "source": [
    "## Balancing Data"
   ]
  },
  {
   "cell_type": "code",
   "execution_count": null,
   "metadata": {
    "id": "-kFnZZ0gy-El"
   },
   "outputs": [],
   "source": [
    "from imblearn.over_sampling import SMOTE\n",
    "smt = SMOTE()\n",
    "X_train, y_train = smt.fit_resample(X_train, y_train)"
   ]
  },
  {
   "cell_type": "code",
   "execution_count": null,
   "metadata": {
    "id": "OcK4s_LtOMV8"
   },
   "outputs": [],
   "source": [
    "X_train.to_csv('/content/drive/My Drive/Colab Notebooks/BDL_X_train_sm.csv') \n",
    "y_train.to_csv('/content/drive/My Drive/Colab Notebooks/BDL_y_train_sm.csv')\n",
    "X_test.to_csv('/content/drive/My Drive/Colab Notebooks/BDL_X_test_sm.csv')\n",
    "y_test.to_csv('/content/drive/My Drive/Colab Notebooks/BDL_y_test_sm.csv')"
   ]
  },
  {
   "cell_type": "markdown",
   "metadata": {
    "id": "DRvVcAJCvVvc"
   },
   "source": [
    "## CNN"
   ]
  },
  {
   "cell_type": "code",
   "execution_count": null,
   "metadata": {
    "id": "FukbIB65vVvk"
   },
   "outputs": [],
   "source": [
    "from keras.models import Sequential\n",
    "from keras import layers \n",
    "\n",
    "embedding_dim = 100\n",
    "vocab_size=70\n",
    "def create_my_model():\n",
    "  textcnnmodel = Sequential()\n",
    "  textcnnmodel.add(layers.Embedding(vocab_size, embedding_dim, input_length=max_len))\n",
    "  textcnnmodel.add(layers.Conv1D(32, 3, activation='relu'))\n",
    "  textcnnmodel.add(layers.GlobalMaxPooling1D())\n",
    "  textcnnmodel.add(layers.Flatten())\n",
    "  \n",
    "  textcnnmodel.add(layers.Dense(250, activation='relu'))\n",
    "  textcnnmodel.add(layers.Dense(1, activation='sigmoid'))\n",
    "  textcnnmodel.compile(optimizer= 'adam', loss='binary_crossentropy', metrics=['accuracy'])\n",
    "  return textcnnmodel "
   ]
  },
  {
   "cell_type": "code",
   "execution_count": null,
   "metadata": {
    "id": "ie0FAwg4nOOZ"
   },
   "outputs": [],
   "source": [
    "# define the grid search parameters\n",
    "batchSize = [200, 500, 1000]\n",
    "epochs = [20]\n",
    "#dropout_rate = [0.0, 0.1, 0.2, 0.3, 0.4, 0.5, 0.6, 0.7, 0.8, 0.9]"
   ]
  },
  {
   "cell_type": "code",
   "execution_count": null,
   "metadata": {
    "colab": {
     "base_uri": "https://localhost:8080/"
    },
    "id": "p0zUr_Hv0N33",
    "outputId": "2cc2caa6-fc0e-4d11-c435-df29725b3cdd"
   },
   "outputs": [
    {
     "name": "stderr",
     "output_type": "stream",
     "text": [
      "/usr/local/lib/python3.7/dist-packages/ipykernel_launcher.py:5: DeprecationWarning: KerasClassifier is deprecated, use Sci-Keras (https://github.com/adriangb/scikeras) instead. See https://www.adriangb.com/scikeras/stable/migration.html for help migrating.\n",
      "  \"\"\"\n"
     ]
    }
   ],
   "source": [
    "# create model\n",
    "from keras.wrappers.scikit_learn import KerasClassifier\n",
    "from sklearn.experimental import enable_halving_search_cv \n",
    "from sklearn.model_selection import HalvingGridSearchCV\n",
    "model = KerasClassifier(build_fn=create_my_model)"
   ]
  },
  {
   "cell_type": "code",
   "execution_count": null,
   "metadata": {
    "id": "rh2qP2rbwPr8"
   },
   "outputs": [],
   "source": [
    "from sklearn.model_selection import RandomizedSearchCV\n",
    "parameter_grid = dict(batch_size=batchSize, epochs=epochs)"
   ]
  },
  {
   "cell_type": "code",
   "execution_count": null,
   "metadata": {
    "colab": {
     "base_uri": "https://localhost:8080/"
    },
    "id": "B74viOehwZSm",
    "outputId": "de409188-6b5d-4b2e-8de9-cc31b5bd4caa"
   },
   "outputs": [
    {
     "name": "stderr",
     "output_type": "stream",
     "text": [
      "/usr/local/lib/python3.7/dist-packages/joblib/externals/loky/process_executor.py:705: UserWarning: A worker stopped while some jobs were given to the executor. This can be caused by a too short worker timeout or by a memory leak.\n",
      "  \"timeout or by a memory leak.\", UserWarning\n"
     ]
    },
    {
     "name": "stdout",
     "output_type": "stream",
     "text": [
      "Epoch 1/20\n",
      "2050/2050 [==============================] - 16s 6ms/step - loss: 0.1120 - accuracy: 0.9630\n",
      "Epoch 2/20\n",
      "2050/2050 [==============================] - 13s 6ms/step - loss: 0.0831 - accuracy: 0.9722\n",
      "Epoch 3/20\n",
      "2050/2050 [==============================] - 13s 6ms/step - loss: 0.0779 - accuracy: 0.9740\n",
      "Epoch 4/20\n",
      "2050/2050 [==============================] - 13s 6ms/step - loss: 0.0742 - accuracy: 0.9753\n",
      "Epoch 5/20\n",
      "2050/2050 [==============================] - 13s 6ms/step - loss: 0.0717 - accuracy: 0.9762\n",
      "Epoch 6/20\n",
      "2050/2050 [==============================] - 13s 6ms/step - loss: 0.0696 - accuracy: 0.9769\n",
      "Epoch 7/20\n",
      "2050/2050 [==============================] - 13s 7ms/step - loss: 0.0681 - accuracy: 0.9774\n",
      "Epoch 8/20\n",
      "2050/2050 [==============================] - 13s 6ms/step - loss: 0.0672 - accuracy: 0.9777\n",
      "Epoch 9/20\n",
      "2050/2050 [==============================] - 13s 6ms/step - loss: 0.0661 - accuracy: 0.9781\n",
      "Epoch 10/20\n",
      "2050/2050 [==============================] - 13s 6ms/step - loss: 0.0652 - accuracy: 0.9783\n",
      "Epoch 11/20\n",
      "2050/2050 [==============================] - 13s 6ms/step - loss: 0.0645 - accuracy: 0.9785\n",
      "Epoch 12/20\n",
      "2050/2050 [==============================] - 13s 6ms/step - loss: 0.0638 - accuracy: 0.9787\n",
      "Epoch 13/20\n",
      "2050/2050 [==============================] - 13s 6ms/step - loss: 0.0632 - accuracy: 0.9789\n",
      "Epoch 14/20\n",
      "2050/2050 [==============================] - 13s 6ms/step - loss: 0.0625 - accuracy: 0.9791\n",
      "Epoch 15/20\n",
      "2050/2050 [==============================] - 14s 7ms/step - loss: 0.0620 - accuracy: 0.9792\n",
      "Epoch 16/20\n",
      " 446/2050 [=====>........................] - ETA: 11s - loss: 0.0613 - accuracy: 0.9795"
     ]
    }
   ],
   "source": [
    "grid = HalvingGridSearchCV(estimator=model, param_grid=parameter_grid, n_jobs=-1)\n",
    "grid_result = grid.fit(X_train, y_train)"
   ]
  },
  {
   "cell_type": "code",
   "execution_count": null,
   "metadata": {
    "colab": {
     "base_uri": "https://localhost:8080/"
    },
    "id": "hqYInd3TeZSX",
    "outputId": "b1ac87eb-c148-4a2e-d5c7-5b42010bf591"
   },
   "outputs": [
    {
     "name": "stdout",
     "output_type": "stream",
     "text": [
      "Best: 0.980059 using {'batch_size': 1000, 'epochs': 30}\n",
      "0.968781 (0.011925) with: {'batch_size': 200, 'epochs': 20}\n",
      "0.968953 (0.008293) with: {'batch_size': 200, 'epochs': 30}\n",
      "0.966212 (0.010241) with: {'batch_size': 200, 'epochs': 50}\n",
      "0.971790 (0.002002) with: {'batch_size': 500, 'epochs': 20}\n",
      "0.963963 (0.011173) with: {'batch_size': 500, 'epochs': 30}\n",
      "0.963959 (0.011713) with: {'batch_size': 500, 'epochs': 50}\n",
      "0.968083 (0.006344) with: {'batch_size': 1000, 'epochs': 20}\n",
      "0.969594 (0.004338) with: {'batch_size': 1000, 'epochs': 30}\n",
      "0.961824 (0.012262) with: {'batch_size': 1000, 'epochs': 50}\n",
      "0.974471 (0.007306) with: {'batch_size': 200, 'epochs': 30}\n",
      "0.976861 (0.002293) with: {'batch_size': 1000, 'epochs': 30}\n",
      "0.974930 (0.006896) with: {'batch_size': 500, 'epochs': 20}\n",
      "0.980059 (0.006868) with: {'batch_size': 1000, 'epochs': 30}\n"
     ]
    }
   ],
   "source": [
    "# summarize results\n",
    "print(\"Best: %f using %s\" % (grid_result.best_score_, grid_result.best_params_))\n",
    "means = grid_result.cv_results_['mean_test_score']\n",
    "stds = grid_result.cv_results_['std_test_score']\n",
    "params = grid_result.cv_results_['params']\n",
    "for mean, stdev, param in zip(means, stds, params):\n",
    " print(\"%f (%f) with: %r\" % (mean, stdev, param))"
   ]
  },
  {
   "cell_type": "code",
   "execution_count": null,
   "metadata": {
    "colab": {
     "base_uri": "https://localhost:8080/"
    },
    "id": "v41GkH0baUUz",
    "outputId": "0c77bb5c-95f5-4922-d15f-0baf33b84185"
   },
   "outputs": [
    {
     "name": "stdout",
     "output_type": "stream",
     "text": [
      "              precision    recall  f1-score   support\n",
      "\n",
      "           0       1.00      0.98      0.99    439016\n",
      "           1       0.95      0.99      0.97    183976\n",
      "\n",
      "    accuracy                           0.98    622992\n",
      "   macro avg       0.97      0.99      0.98    622992\n",
      "weighted avg       0.98      0.98      0.98    622992\n",
      "\n"
     ]
    }
   ],
   "source": [
    "from sklearn.metrics import plot_confusion_matrix,accuracy_score,classification_report\n",
    "cnnpred = grid.predict(X_test)\n",
    "print(classification_report(y_test, cnnpred))"
   ]
  },
  {
   "cell_type": "code",
   "execution_count": null,
   "metadata": {
    "id": "E19U4LUA7ZRR"
   },
   "outputs": [],
   "source": [
    "def create_my_model(optimizer='adam'):\n",
    "  textcnnmodel = Sequential()\n",
    "  textcnnmodel.add(layers.Embedding(vocab_size, embedding_dim, input_length=max_len))\n",
    "  textcnnmodel.add(layers.Conv1D(128, 5, activation='relu'))\n",
    "  textcnnmodel.add(layers.GlobalMaxPooling1D())\n",
    "  textcnnmodel.add(layers.Flatten())\n",
    "  \n",
    "  textcnnmodel.add(layers.Dense(250, activation='relu'))\n",
    "  textcnnmodel.add(layers.Dense(1, activation='sigmoid'))\n",
    "  textcnnmodel.compile(optimizer=optimizer, loss='binary_crossentropy', metrics=['accuracy'])\n",
    "  return textcnnmodel "
   ]
  },
  {
   "cell_type": "code",
   "execution_count": null,
   "metadata": {
    "colab": {
     "base_uri": "https://localhost:8080/"
    },
    "id": "jn9gQ7W47-A4",
    "outputId": "570a5ad8-1f33-4f28-ab4d-f3dbd7b7d143"
   },
   "outputs": [
    {
     "name": "stderr",
     "output_type": "stream",
     "text": [
      "/usr/local/lib/python3.7/dist-packages/ipykernel_launcher.py:2: DeprecationWarning: KerasClassifier is deprecated, use Sci-Keras (https://github.com/adriangb/scikeras) instead. See https://www.adriangb.com/scikeras/stable/migration.html for help migrating.\n",
      "  \n"
     ]
    }
   ],
   "source": [
    "# create model\n",
    "model = KerasClassifier(build_fn=create_my_model, epochs=30, batch_size=1000)"
   ]
  },
  {
   "cell_type": "code",
   "execution_count": null,
   "metadata": {
    "id": "Vb-llsBG8IrM"
   },
   "outputs": [],
   "source": [
    "# define the grid search parameters\n",
    "optimizer = ['SGD','Adadelta', 'RMSprop', 'Adagrad','Adam']\n",
    "parameter_grid = dict(optimizer=optimizer)"
   ]
  },
  {
   "cell_type": "code",
   "execution_count": null,
   "metadata": {
    "id": "Fc70mDzs8UuQ"
   },
   "outputs": [],
   "source": [
    "grid = HalvingGridSearchCV(estimator=model, param_grid=parameter_grid, n_jobs=-1, cv=10)\n",
    "grid_result = grid.fit(X_train, y_train)"
   ]
  },
  {
   "cell_type": "code",
   "execution_count": null,
   "metadata": {
    "id": "D4gNCGPw8rbe"
   },
   "outputs": [],
   "source": [
    "# summarize results\n",
    "print(\"Best: %f using %s\" % (grid_result.best_score_, grid_result.best_params_))\n",
    "means = grid_result.cv_results_['mean_test_score']\n",
    "stds = grid_result.cv_results_['std_test_score']\n",
    "params = grid_result.cv_results_['params']\n",
    "for mean, stdev, param in zip(means, stds, params):\n",
    " print(\"%f (%f) with: %r\" % (mean, stdev, param))"
   ]
  },
  {
   "cell_type": "code",
   "execution_count": null,
   "metadata": {
    "id": "oYtw5xnmZ1n0"
   },
   "outputs": [],
   "source": [
    "from sklearn.metrics import plot_confusion_matrix\n",
    "plot_confusion_matrix(grid, X_test, y_test, display_labels=[\"legit\", \"dga\"])"
   ]
  },
  {
   "cell_type": "code",
   "execution_count": null,
   "metadata": {
    "id": "ySlbFCmcffG-"
   },
   "outputs": [],
   "source": [
    "import pickle\n",
    "# save the model to disk\n",
    "filename = '/content/drive/My Drive/Colab Notebooks/BCNNmodel2.sav'\n",
    "pickle.dump(grid, open(filename, 'wb'))"
   ]
  },
  {
   "cell_type": "code",
   "execution_count": null,
   "metadata": {
    "id": "BR6z5taDJbCo"
   },
   "outputs": [],
   "source": [
    "import pickle\n",
    "\n",
    "#load the model\n",
    "grid_result = pickle.load(open('/content/drive/My Drive/Colab Notebooks/BCNNmodel.sav', 'rb'))"
   ]
  },
  {
   "cell_type": "markdown",
   "metadata": {
    "id": "8-7rZBltxCqQ"
   },
   "source": [
    "## CNN"
   ]
  },
  {
   "cell_type": "code",
   "execution_count": null,
   "metadata": {
    "colab": {
     "base_uri": "https://localhost:8080/"
    },
    "id": "1puYlNGixHcD",
    "outputId": "4b70561a-6f83-4752-bacd-485f22c9c684"
   },
   "outputs": [
    {
     "name": "stdout",
     "output_type": "stream",
     "text": [
      "Model: \"sequential_1\"\n",
      "_________________________________________________________________\n",
      " Layer (type)                Output Shape              Param #   \n",
      "=================================================================\n",
      " embedding (Embedding)       (None, 50, 200)           14000     \n",
      "                                                                 \n",
      " conv1d (Conv1D)             (None, 46, 128)           128128    \n",
      "                                                                 \n",
      " intermediate_layer (GlobalM  (None, 128)              0         \n",
      " axPooling1D)                                                    \n",
      "                                                                 \n",
      " intermediate (Flatten)      (None, 128)               0         \n",
      "                                                                 \n",
      " dense (Dense)               (None, 250)               32250     \n",
      "                                                                 \n",
      " dense_1 (Dense)             (None, 1)                 251       \n",
      "                                                                 \n",
      "=================================================================\n",
      "Total params: 174,629\n",
      "Trainable params: 174,629\n",
      "Non-trainable params: 0\n",
      "_________________________________________________________________\n"
     ]
    }
   ],
   "source": [
    "from keras.models import Sequential\n",
    "from keras import layers \n",
    "\n",
    "embedding_dim = 200\n",
    "vocab_size=70\n",
    "textcnnmodel = Sequential()\n",
    "textcnnmodel.add(layers.Embedding(vocab_size, embedding_dim, input_length=max_len))\n",
    "textcnnmodel.add(layers.Conv1D(128, 5, activation='relu'))\n",
    "textcnnmodel.add(layers.GlobalMaxPooling1D())\n",
    "textcnnmodel.add(layers.Flatten())\n",
    "textcnnmodel.add(layers.Dense(250, activation='relu'))\n",
    "textcnnmodel.add(layers.Dense(1, activation='sigmoid'))\n",
    "textcnnmodel.compile(optimizer='adam',\n",
    "               loss='binary_crossentropy',\n",
    "               metrics=['accuracy'])\n",
    "textcnnmodel.summary() "
   ]
  },
  {
   "cell_type": "code",
   "execution_count": null,
   "metadata": {
    "colab": {
     "background_save": true,
     "base_uri": "https://localhost:8080/"
    },
    "id": "qpGLg9aP0ZSf",
    "outputId": "790a6d56-2335-4852-dd88-0724a18e4db9"
   },
   "outputs": [
    {
     "name": "stdout",
     "output_type": "stream",
     "text": [
      "Epoch 1/10\n",
      "3518/3518 [==============================] - 100s 28ms/step - loss: 0.0638 - accuracy: 0.9784 - val_loss: 0.0461 - val_accuracy: 0.9851\n",
      "Epoch 2/10\n",
      "3518/3518 [==============================] - 89s 25ms/step - loss: 0.0422 - accuracy: 0.9861 - val_loss: 0.0416 - val_accuracy: 0.9863\n",
      "Epoch 3/10\n",
      "3518/3518 [==============================] - 99s 28ms/step - loss: 0.0379 - accuracy: 0.9875 - val_loss: 0.0406 - val_accuracy: 0.9865\n",
      "Epoch 4/10\n",
      "3518/3518 [==============================] - 89s 25ms/step - loss: 0.0351 - accuracy: 0.9884 - val_loss: 0.0384 - val_accuracy: 0.9874\n",
      "Epoch 5/10\n",
      "3518/3518 [==============================] - 89s 25ms/step - loss: 0.0334 - accuracy: 0.9889 - val_loss: 0.0368 - val_accuracy: 0.9877\n",
      "Epoch 6/10\n",
      "3518/3518 [==============================] - 99s 28ms/step - loss: 0.0319 - accuracy: 0.9893 - val_loss: 0.0363 - val_accuracy: 0.9880\n",
      "Epoch 7/10\n",
      "3518/3518 [==============================] - 99s 28ms/step - loss: 0.0307 - accuracy: 0.9897 - val_loss: 0.0364 - val_accuracy: 0.9882\n",
      "Epoch 8/10\n",
      "3518/3518 [==============================] - 99s 28ms/step - loss: 0.0297 - accuracy: 0.9900 - val_loss: 0.0379 - val_accuracy: 0.9877\n",
      "Epoch 9/10\n",
      "3518/3518 [==============================] - 99s 28ms/step - loss: 0.0289 - accuracy: 0.9902 - val_loss: 0.0363 - val_accuracy: 0.9881\n",
      "Epoch 10/10\n",
      "3518/3518 [==============================] - 100s 28ms/step - loss: 0.0281 - accuracy: 0.9905 - val_loss: 0.0354 - val_accuracy: 0.9884\n"
     ]
    },
    {
     "data": {
      "text/plain": [
       "<keras.callbacks.History at 0x7fd85c142ad0>"
      ]
     },
     "execution_count": null,
     "metadata": {},
     "output_type": "execute_result"
    }
   ],
   "source": [
    "textcnnmodel.fit(X_train,y_train,\n",
    "                     epochs=10,\n",
    "                     verbose=True,\n",
    "                     validation_data=(X_test, y_test),\n",
    "                     batch_size=500)"
   ]
  },
  {
   "cell_type": "code",
   "execution_count": null,
   "metadata": {
    "id": "GIho4RTU05Ev"
   },
   "outputs": [],
   "source": [
    "loss, accuracy = textcnnmodel.evaluate(X_train, y_train, verbose=False)\n",
    "print(\"Training Accuracy: {:.4f}\".format(accuracy))\n",
    "loss, accuracy = textcnnmodel.evaluate(X_test, y_test, verbose=False)\n",
    "print(\"Testing Accuracy:  {:.4f}\".format(accuracy)) "
   ]
  },
  {
   "cell_type": "code",
   "execution_count": null,
   "metadata": {
    "id": "8Mqyg3UlE3B2"
   },
   "outputs": [],
   "source": [
    "feature_extractor = keras.Model(\n",
    "   inputs=textcnnmodel.inputs,\n",
    "   outputs=textcnnmodel.get_layer(name=\"intermediate\").output,\n",
    ")"
   ]
  },
  {
   "cell_type": "code",
   "execution_count": null,
   "metadata": {
    "id": "RziwTZJyxFnN"
   },
   "outputs": [],
   "source": [
    "# Building the CNN Model\n",
    "model = Sequential()      # initilaizing the Sequential nature for CNN model\n",
    "\n",
    "# Adding the embedding layer which will take in maximum of 450 words as input and provide a 32 dimensional output of those words which belong in the top_words dictionary\n",
    "model.add(layers.Embedding(vocab_size, embedding_dim, input_length=max_len))\n",
    "\n",
    "\n",
    "model.add(layers.Conv1D(32, 3, padding='same', activation='relu'))\n",
    "model.add(layers.MaxPooling1D())\n",
    "model.add(layers.Flatten(name=\"intermediate\"))\n",
    "model.add(layers.Dense(250, activation='relu'))\n",
    "model.add(layers.Dense(1, activation='sigmoid'))"
   ]
  },
  {
   "cell_type": "code",
   "execution_count": null,
   "metadata": {
    "colab": {
     "base_uri": "https://localhost:8080/"
    },
    "id": "w0ccfrhwSsYA",
    "outputId": "1ef09177-caa3-4e55-f4e0-21832c4df395"
   },
   "outputs": [
    {
     "name": "stdout",
     "output_type": "stream",
     "text": [
      "Model: \"sequential_2\"\n",
      "_________________________________________________________________\n",
      " Layer (type)                Output Shape              Param #   \n",
      "=================================================================\n",
      " embedding_1 (Embedding)     (None, 50, 200)           14000     \n",
      "                                                                 \n",
      " conv1d_1 (Conv1D)           (None, 50, 32)            19232     \n",
      "                                                                 \n",
      " max_pooling1d (MaxPooling1D  (None, 25, 32)           0         \n",
      " )                                                               \n",
      "                                                                 \n",
      " intermediate (Flatten)      (None, 800)               0         \n",
      "                                                                 \n",
      " dense_2 (Dense)             (None, 250)               200250    \n",
      "                                                                 \n",
      " dense_3 (Dense)             (None, 1)                 251       \n",
      "                                                                 \n",
      "=================================================================\n",
      "Total params: 233,733\n",
      "Trainable params: 233,733\n",
      "Non-trainable params: 0\n",
      "_________________________________________________________________\n"
     ]
    }
   ],
   "source": [
    "model.compile(loss='binary_crossentropy', optimizer='adam', metrics=['accuracy'])\n",
    "model.summary()"
   ]
  },
  {
   "cell_type": "code",
   "execution_count": null,
   "metadata": {
    "colab": {
     "base_uri": "https://localhost:8080/"
    },
    "id": "R3MrmjliSxO_",
    "outputId": "28ad4606-81d1-4529-add5-2edcd4a6b631"
   },
   "outputs": [
    {
     "name": "stdout",
     "output_type": "stream",
     "text": [
      "Epoch 1/20\n",
      "13739/13739 - 76s - loss: 0.0506 - accuracy: 0.9832 - val_loss: 0.0364 - val_accuracy: 0.9883 - 76s/epoch - 6ms/step\n",
      "Epoch 2/20\n",
      "13739/13739 - 72s - loss: 0.0336 - accuracy: 0.9890 - val_loss: 0.0331 - val_accuracy: 0.9892 - 72s/epoch - 5ms/step\n",
      "Epoch 3/20\n",
      "13739/13739 - 65s - loss: 0.0296 - accuracy: 0.9903 - val_loss: 0.0305 - val_accuracy: 0.9901 - 65s/epoch - 5ms/step\n",
      "Epoch 4/20\n",
      "13739/13739 - 72s - loss: 0.0273 - accuracy: 0.9909 - val_loss: 0.0296 - val_accuracy: 0.9904 - 72s/epoch - 5ms/step\n",
      "Epoch 5/20\n",
      "13739/13739 - 64s - loss: 0.0255 - accuracy: 0.9914 - val_loss: 0.0301 - val_accuracy: 0.9901 - 64s/epoch - 5ms/step\n",
      "Epoch 6/20\n",
      "13739/13739 - 64s - loss: 0.0240 - accuracy: 0.9919 - val_loss: 0.0282 - val_accuracy: 0.9910 - 64s/epoch - 5ms/step\n",
      "Epoch 7/20\n",
      "13739/13739 - 73s - loss: 0.0228 - accuracy: 0.9923 - val_loss: 0.0287 - val_accuracy: 0.9907 - 73s/epoch - 5ms/step\n",
      "Epoch 8/20\n",
      "13739/13739 - 73s - loss: 0.0217 - accuracy: 0.9926 - val_loss: 0.0296 - val_accuracy: 0.9909 - 73s/epoch - 5ms/step\n",
      "Epoch 9/20\n",
      "13739/13739 - 73s - loss: 0.0209 - accuracy: 0.9928 - val_loss: 0.0302 - val_accuracy: 0.9908 - 73s/epoch - 5ms/step\n",
      "Epoch 10/20\n",
      "13739/13739 - 73s - loss: 0.0200 - accuracy: 0.9932 - val_loss: 0.0318 - val_accuracy: 0.9905 - 73s/epoch - 5ms/step\n",
      "Epoch 11/20\n",
      "13739/13739 - 63s - loss: 0.0194 - accuracy: 0.9934 - val_loss: 0.0323 - val_accuracy: 0.9905 - 63s/epoch - 5ms/step\n",
      "Epoch 12/20\n",
      "13739/13739 - 73s - loss: 0.0188 - accuracy: 0.9935 - val_loss: 0.0326 - val_accuracy: 0.9909 - 73s/epoch - 5ms/step\n",
      "Epoch 13/20\n",
      "13739/13739 - 64s - loss: 0.0183 - accuracy: 0.9937 - val_loss: 0.0326 - val_accuracy: 0.9906 - 64s/epoch - 5ms/step\n",
      "Epoch 14/20\n",
      "13739/13739 - 72s - loss: 0.0177 - accuracy: 0.9939 - val_loss: 0.0342 - val_accuracy: 0.9907 - 72s/epoch - 5ms/step\n",
      "Epoch 15/20\n",
      "13739/13739 - 64s - loss: 0.0173 - accuracy: 0.9940 - val_loss: 0.0341 - val_accuracy: 0.9908 - 64s/epoch - 5ms/step\n",
      "Epoch 16/20\n",
      "13739/13739 - 64s - loss: 0.0169 - accuracy: 0.9942 - val_loss: 0.0359 - val_accuracy: 0.9904 - 64s/epoch - 5ms/step\n",
      "Epoch 17/20\n",
      "13739/13739 - 64s - loss: 0.0164 - accuracy: 0.9943 - val_loss: 0.0342 - val_accuracy: 0.9907 - 64s/epoch - 5ms/step\n",
      "Epoch 18/20\n",
      "13739/13739 - 64s - loss: 0.0160 - accuracy: 0.9944 - val_loss: 0.0360 - val_accuracy: 0.9907 - 64s/epoch - 5ms/step\n",
      "Epoch 19/20\n",
      "13739/13739 - 64s - loss: 0.0157 - accuracy: 0.9946 - val_loss: 0.0368 - val_accuracy: 0.9906 - 64s/epoch - 5ms/step\n",
      "Epoch 20/20\n",
      "13739/13739 - 79s - loss: 0.0154 - accuracy: 0.9947 - val_loss: 0.0394 - val_accuracy: 0.9907 - 79s/epoch - 6ms/step\n"
     ]
    },
    {
     "data": {
      "text/plain": [
       "<keras.callbacks.History at 0x7f6f96e97950>"
      ]
     },
     "execution_count": 40,
     "metadata": {},
     "output_type": "execute_result"
    }
   ],
   "source": [
    "# Fitting the data onto model\n",
    "model.fit(X_train, y_train, validation_data=(X_test, y_test), epochs=20, batch_size=128, verbose=2)"
   ]
  },
  {
   "cell_type": "code",
   "execution_count": null,
   "metadata": {
    "colab": {
     "base_uri": "https://localhost:8080/"
    },
    "id": "fJgTBYvQVnRu",
    "outputId": "f5bb04bc-db88-477f-dc87-478910df9a3a"
   },
   "outputs": [
    {
     "name": "stdout",
     "output_type": "stream",
     "text": [
      "Training Accuracy: 0.9954\n",
      "Testing Accuracy:  0.9905\n"
     ]
    }
   ],
   "source": [
    "loss, accuracy = model.evaluate(X_train, y_train, verbose=False)\n",
    "print(\"Training Accuracy: {:.4f}\".format(accuracy))\n",
    "loss, accuracy = model.evaluate(X_test, y_test, verbose=False)\n",
    "print(\"Testing Accuracy:  {:.4f}\".format(accuracy)) "
   ]
  },
  {
   "cell_type": "code",
   "execution_count": null,
   "metadata": {
    "colab": {
     "base_uri": "https://localhost:8080/"
    },
    "id": "8koqxZkwQB0f",
    "outputId": "dbdc1b34-8c5e-4bf2-fee2-06d0f206aef2"
   },
   "outputs": [
    {
     "name": "stdout",
     "output_type": "stream",
     "text": [
      "Model: \"sequential_2\"\n",
      "_________________________________________________________________\n",
      " Layer (type)                Output Shape              Param #   \n",
      "=================================================================\n",
      " embedding_1 (Embedding)     (None, 50, 200)           14000     \n",
      "                                                                 \n",
      " conv1d_1 (Conv1D)           (None, 50, 32)            19232     \n",
      "                                                                 \n",
      " max_pooling1d (MaxPooling1D  (None, 25, 32)           0         \n",
      " )                                                               \n",
      "                                                                 \n",
      " intermediate (Flatten)      (None, 800)               0         \n",
      "                                                                 \n",
      " dense_2 (Dense)             (None, 250)               200250    \n",
      "                                                                 \n",
      "=================================================================\n",
      "Total params: 233,482\n",
      "Trainable params: 233,482\n",
      "Non-trainable params: 0\n",
      "_________________________________________________________________\n"
     ]
    }
   ],
   "source": [
    "model.pop() # this will remove the last layer\n",
    "model.summary() # check the network "
   ]
  },
  {
   "cell_type": "code",
   "execution_count": null,
   "metadata": {
    "colab": {
     "base_uri": "https://localhost:8080/"
    },
    "id": "Xmj4dnfWQB0h",
    "outputId": "438e218a-223e-4036-ecbd-c40b4e4b1486"
   },
   "outputs": [
    {
     "name": "stdout",
     "output_type": "stream",
     "text": [
      "Model: \"sequential_2\"\n",
      "_________________________________________________________________\n",
      " Layer (type)                Output Shape              Param #   \n",
      "=================================================================\n",
      " embedding_1 (Embedding)     (None, 50, 200)           14000     \n",
      "                                                                 \n",
      " conv1d_1 (Conv1D)           (None, 50, 32)            19232     \n",
      "                                                                 \n",
      " max_pooling1d (MaxPooling1D  (None, 25, 32)           0         \n",
      " )                                                               \n",
      "                                                                 \n",
      " intermediate (Flatten)      (None, 800)               0         \n",
      "                                                                 \n",
      "=================================================================\n",
      "Total params: 33,232\n",
      "Trainable params: 33,232\n",
      "Non-trainable params: 0\n",
      "_________________________________________________________________\n"
     ]
    }
   ],
   "source": [
    "model.pop() # this will remove the last layer\n",
    "model.summary() # check the network "
   ]
  },
  {
   "cell_type": "code",
   "execution_count": null,
   "metadata": {
    "id": "XhawQXjJQB0j"
   },
   "outputs": [],
   "source": [
    "feature_mapping = model.predict(X_train) "
   ]
  },
  {
   "cell_type": "code",
   "execution_count": null,
   "metadata": {
    "id": "dDziChzzQB0j"
   },
   "outputs": [],
   "source": [
    "feature_mapping.shape"
   ]
  },
  {
   "cell_type": "code",
   "execution_count": null,
   "metadata": {
    "id": "yiNKUypJQB0j"
   },
   "outputs": [],
   "source": [
    "feature_mapping"
   ]
  },
  {
   "cell_type": "markdown",
   "metadata": {
    "id": "9qvRbDkeCbTt"
   },
   "source": [
    "### Random Forest Classifier"
   ]
  },
  {
   "cell_type": "code",
   "execution_count": null,
   "metadata": {
    "id": "cOYviBA9CbTv"
   },
   "outputs": [],
   "source": [
    "from sklearn.ensemble import RandomForestClassifier\n",
    "RFmodel = RandomForestClassifier().fit(feature_mapping, y_train)"
   ]
  },
  {
   "cell_type": "code",
   "execution_count": null,
   "metadata": {
    "id": "9k_VDLmHCbTv"
   },
   "outputs": [],
   "source": [
    "from sklearn.metrics import precision_score, accuracy_score,classification_report\n",
    "print('accuracy on the train set: ', accuracy_score(RFmodel.predict(feature_mapping), y_train))"
   ]
  },
  {
   "cell_type": "code",
   "execution_count": null,
   "metadata": {
    "id": "ak18qBICCbTw"
   },
   "outputs": [],
   "source": [
    "RFpred = RFmodel.predict(model.predict(X_test))\n",
    "print(classification_report(y_test, RFpred))"
   ]
  },
  {
   "cell_type": "markdown",
   "metadata": {
    "id": "2F5l70UvKQSf"
   },
   "source": [
    "## Feature Extraction from Flatten Layer"
   ]
  },
  {
   "cell_type": "code",
   "execution_count": null,
   "metadata": {
    "id": "_ME6wNolK2nd"
   },
   "outputs": [],
   "source": [
    "from tensorflow import keras\n",
    "layer_name = 'intermediate'\n",
    "intermediate_layer_model = keras.Model(inputs=model.input,\n",
    "                                 outputs=model.get_layer(layer_name).output)\n",
    "intermediate_output = intermediate_layer_model.predict(X_train)"
   ]
  },
  {
   "cell_type": "code",
   "execution_count": null,
   "metadata": {
    "colab": {
     "base_uri": "https://localhost:8080/"
    },
    "id": "3fBN4JJGK2nf",
    "outputId": "8294098f-43ba-4764-ef40-8e711ada5135"
   },
   "outputs": [
    {
     "data": {
      "text/plain": [
       "array([[1.3518333e-03, 1.5811089e+00, 1.8729873e+00, ..., 1.3680780e-01,\n",
       "        1.3801426e-01, 1.8193164e+00],\n",
       "       [6.2689817e-01, 2.7986262e+00, 8.1701422e-01, ..., 3.1541281e+00,\n",
       "        9.0137744e-01, 3.6327264e+00],\n",
       "       [0.0000000e+00, 1.5811089e+00, 1.8258429e+00, ..., 1.1521776e+00,\n",
       "        2.7779346e+00, 1.1661419e+00],\n",
       "       ...,\n",
       "       [2.3673993e-01, 1.5811087e+00, 3.4376115e-01, ..., 1.5428569e+00,\n",
       "        1.0857649e+00, 2.1839268e+00],\n",
       "       [0.0000000e+00, 5.8344617e+00, 4.3522916e+00, ..., 1.7896113e+00,\n",
       "        7.3660302e-01, 2.5254295e+00],\n",
       "       [0.0000000e+00, 2.0971241e+00, 0.0000000e+00, ..., 0.0000000e+00,\n",
       "        1.2456490e+00, 6.8616223e-01]], dtype=float32)"
      ]
     },
     "execution_count": 43,
     "metadata": {},
     "output_type": "execute_result"
    }
   ],
   "source": [
    "intermediate_output"
   ]
  },
  {
   "cell_type": "markdown",
   "metadata": {
    "id": "fuwNWIudW9yL"
   },
   "source": [
    "### Random Forest Classifier"
   ]
  },
  {
   "cell_type": "code",
   "execution_count": null,
   "metadata": {
    "id": "3x7530QJW9yO"
   },
   "outputs": [],
   "source": [
    "from sklearn.ensemble import RandomForestClassifier\n",
    "RFmodel = RandomForestClassifier().fit(intermediate_output, y_train)"
   ]
  },
  {
   "cell_type": "code",
   "execution_count": null,
   "metadata": {
    "colab": {
     "base_uri": "https://localhost:8080/"
    },
    "id": "oPjl70NRW9yP",
    "outputId": "8e90e7d5-aff3-4afc-9cbf-2f24cb665ced"
   },
   "outputs": [
    {
     "name": "stdout",
     "output_type": "stream",
     "text": [
      "accuracy on the train set:  0.9999948820773762\n"
     ]
    }
   ],
   "source": [
    "from sklearn.metrics import precision_score, accuracy_score,classification_report\n",
    "print('accuracy on the train set: ', accuracy_score(RFmodel.predict(intermediate_output), y_train))"
   ]
  },
  {
   "cell_type": "code",
   "execution_count": null,
   "metadata": {
    "colab": {
     "base_uri": "https://localhost:8080/"
    },
    "id": "oRaSZ07fW9yQ",
    "outputId": "be8fd2e1-2d52-4e92-9e16-e44ee6b61ba9"
   },
   "outputs": [
    {
     "name": "stdout",
     "output_type": "stream",
     "text": [
      "              precision    recall  f1-score   support\n",
      "\n",
      "           0       0.93      0.95      0.94    184080\n",
      "           1       0.95      0.92      0.94    183740\n",
      "\n",
      "    accuracy                           0.94    367820\n",
      "   macro avg       0.94      0.94      0.94    367820\n",
      "weighted avg       0.94      0.94      0.94    367820\n",
      "\n"
     ]
    }
   ],
   "source": [
    "RFpred = RFmodel.predict(intermediate_layer_model.predict(X_test))\n",
    "print(classification_report(y_test, RFpred))"
   ]
  },
  {
   "cell_type": "code",
   "execution_count": null,
   "metadata": {
    "id": "zMESfNrwX-K-"
   },
   "outputs": [],
   "source": []
  }
 ],
 "metadata": {
  "accelerator": "GPU",
  "colab": {
   "collapsed_sections": [
    "4bQWraKyuG0V",
    "GmZEd3YZw_Qm"
   ],
   "provenance": []
  },
  "kernelspec": {
   "display_name": "Python 3 (ipykernel)",
   "language": "python",
   "name": "python3"
  },
  "language_info": {
   "codemirror_mode": {
    "name": "ipython",
    "version": 3
   },
   "file_extension": ".py",
   "mimetype": "text/x-python",
   "name": "python",
   "nbconvert_exporter": "python",
   "pygments_lexer": "ipython3",
   "version": "3.10.9"
  }
 },
 "nbformat": 4,
 "nbformat_minor": 1
}
