{
 "cells": [
  {
   "cell_type": "code",
   "execution_count": null,
   "metadata": {
    "id": "blwR7ARVeBNY"
   },
   "outputs": [],
   "source": [
    "import pandas as pd\n",
    "import numpy as np\n",
    "import math\n",
    "from collections import Counter\n",
    "from sklearn.model_selection import train_test_split\n",
    "from sklearn.model_selection import GridSearchCV"
   ]
  },
  {
   "cell_type": "code",
   "execution_count": null,
   "metadata": {
    "colab": {
     "base_uri": "https://localhost:8080/"
    },
    "id": "-miIBab7lnn8",
    "outputId": "a0982a55-9061-427f-c6e5-538aa82a6438"
   },
   "outputs": [
    {
     "name": "stdout",
     "output_type": "stream",
     "text": [
      "Mounted at /content/drive\n"
     ]
    }
   ],
   "source": [
    "from google.colab import drive\n",
    "drive.mount('/content/drive')"
   ]
  },
  {
   "cell_type": "markdown",
   "metadata": {
    "id": "kDw7lOEfGFz8"
   },
   "source": [
    "# Binary Experiment of ML"
   ]
  },
  {
   "cell_type": "code",
   "execution_count": null,
   "metadata": {
    "colab": {
     "base_uri": "https://localhost:8080/",
     "height": 270
    },
    "id": "58m9ivLbGLri",
    "outputId": "17a2e205-da4e-4e11-ea7c-4627941a32e2"
   },
   "outputs": [
    {
     "data": {
      "text/html": [
       "\n",
       "  <div id=\"df-67f0709f-7797-46ea-8bda-5f00e13496ec\">\n",
       "    <div class=\"colab-df-container\">\n",
       "      <div>\n",
       "<style scoped>\n",
       "    .dataframe tbody tr th:only-of-type {\n",
       "        vertical-align: middle;\n",
       "    }\n",
       "\n",
       "    .dataframe tbody tr th {\n",
       "        vertical-align: top;\n",
       "    }\n",
       "\n",
       "    .dataframe thead th {\n",
       "        text-align: right;\n",
       "    }\n",
       "</style>\n",
       "<table border=\"1\" class=\"dataframe\">\n",
       "  <thead>\n",
       "    <tr style=\"text-align: right;\">\n",
       "      <th></th>\n",
       "      <th>domain_name</th>\n",
       "      <th>label</th>\n",
       "      <th>domain</th>\n",
       "      <th>length</th>\n",
       "      <th>entropy</th>\n",
       "      <th>first_Digit_Index</th>\n",
       "      <th>H_entropy</th>\n",
       "      <th>vowel_consonant_ratio</th>\n",
       "      <th>vowel_character_ratio</th>\n",
       "      <th>consonant_character_ratio</th>\n",
       "      <th>level_no</th>\n",
       "      <th>alexa_grams</th>\n",
       "      <th>words_grams</th>\n",
       "    </tr>\n",
       "  </thead>\n",
       "  <tbody>\n",
       "    <tr>\n",
       "      <th>0</th>\n",
       "      <td>s.w.org</td>\n",
       "      <td>legit</td>\n",
       "      <td>s</td>\n",
       "      <td>1</td>\n",
       "      <td>-0.000000</td>\n",
       "      <td>0</td>\n",
       "      <td>2.521641</td>\n",
       "      <td>0.250000</td>\n",
       "      <td>0.142857</td>\n",
       "      <td>0.571429</td>\n",
       "      <td>3</td>\n",
       "      <td>0.000000</td>\n",
       "      <td>0.000000</td>\n",
       "    </tr>\n",
       "    <tr>\n",
       "      <th>1</th>\n",
       "      <td>fonts.gstatic.com</td>\n",
       "      <td>legit</td>\n",
       "      <td>gstatic</td>\n",
       "      <td>7</td>\n",
       "      <td>2.521641</td>\n",
       "      <td>0</td>\n",
       "      <td>3.337175</td>\n",
       "      <td>0.363636</td>\n",
       "      <td>0.235294</td>\n",
       "      <td>0.647059</td>\n",
       "      <td>3</td>\n",
       "      <td>39.390695</td>\n",
       "      <td>77.789990</td>\n",
       "    </tr>\n",
       "    <tr>\n",
       "      <th>2</th>\n",
       "      <td>plus.google.com</td>\n",
       "      <td>legit</td>\n",
       "      <td>google</td>\n",
       "      <td>6</td>\n",
       "      <td>1.918296</td>\n",
       "      <td>0</td>\n",
       "      <td>3.189898</td>\n",
       "      <td>0.625000</td>\n",
       "      <td>0.333333</td>\n",
       "      <td>0.533333</td>\n",
       "      <td>3</td>\n",
       "      <td>29.359641</td>\n",
       "      <td>34.232630</td>\n",
       "    </tr>\n",
       "    <tr>\n",
       "      <th>3</th>\n",
       "      <td>maps.google.com</td>\n",
       "      <td>legit</td>\n",
       "      <td>google</td>\n",
       "      <td>6</td>\n",
       "      <td>1.918296</td>\n",
       "      <td>0</td>\n",
       "      <td>3.189898</td>\n",
       "      <td>0.625000</td>\n",
       "      <td>0.333333</td>\n",
       "      <td>0.533333</td>\n",
       "      <td>3</td>\n",
       "      <td>29.359641</td>\n",
       "      <td>34.232630</td>\n",
       "    </tr>\n",
       "    <tr>\n",
       "      <th>4</th>\n",
       "      <td>cdnjs.cloudflare.com</td>\n",
       "      <td>legit</td>\n",
       "      <td>cloudflare</td>\n",
       "      <td>10</td>\n",
       "      <td>3.121928</td>\n",
       "      <td>0</td>\n",
       "      <td>3.684184</td>\n",
       "      <td>0.384615</td>\n",
       "      <td>0.250000</td>\n",
       "      <td>0.650000</td>\n",
       "      <td>3</td>\n",
       "      <td>53.352822</td>\n",
       "      <td>73.802767</td>\n",
       "    </tr>\n",
       "  </tbody>\n",
       "</table>\n",
       "</div>\n",
       "      <button class=\"colab-df-convert\" onclick=\"convertToInteractive('df-67f0709f-7797-46ea-8bda-5f00e13496ec')\"\n",
       "              title=\"Convert this dataframe to an interactive table.\"\n",
       "              style=\"display:none;\">\n",
       "        \n",
       "  <svg xmlns=\"http://www.w3.org/2000/svg\" height=\"24px\"viewBox=\"0 0 24 24\"\n",
       "       width=\"24px\">\n",
       "    <path d=\"M0 0h24v24H0V0z\" fill=\"none\"/>\n",
       "    <path d=\"M18.56 5.44l.94 2.06.94-2.06 2.06-.94-2.06-.94-.94-2.06-.94 2.06-2.06.94zm-11 1L8.5 8.5l.94-2.06 2.06-.94-2.06-.94L8.5 2.5l-.94 2.06-2.06.94zm10 10l.94 2.06.94-2.06 2.06-.94-2.06-.94-.94-2.06-.94 2.06-2.06.94z\"/><path d=\"M17.41 7.96l-1.37-1.37c-.4-.4-.92-.59-1.43-.59-.52 0-1.04.2-1.43.59L10.3 9.45l-7.72 7.72c-.78.78-.78 2.05 0 2.83L4 21.41c.39.39.9.59 1.41.59.51 0 1.02-.2 1.41-.59l7.78-7.78 2.81-2.81c.8-.78.8-2.07 0-2.86zM5.41 20L4 18.59l7.72-7.72 1.47 1.35L5.41 20z\"/>\n",
       "  </svg>\n",
       "      </button>\n",
       "      \n",
       "  <style>\n",
       "    .colab-df-container {\n",
       "      display:flex;\n",
       "      flex-wrap:wrap;\n",
       "      gap: 12px;\n",
       "    }\n",
       "\n",
       "    .colab-df-convert {\n",
       "      background-color: #E8F0FE;\n",
       "      border: none;\n",
       "      border-radius: 50%;\n",
       "      cursor: pointer;\n",
       "      display: none;\n",
       "      fill: #1967D2;\n",
       "      height: 32px;\n",
       "      padding: 0 0 0 0;\n",
       "      width: 32px;\n",
       "    }\n",
       "\n",
       "    .colab-df-convert:hover {\n",
       "      background-color: #E2EBFA;\n",
       "      box-shadow: 0px 1px 2px rgba(60, 64, 67, 0.3), 0px 1px 3px 1px rgba(60, 64, 67, 0.15);\n",
       "      fill: #174EA6;\n",
       "    }\n",
       "\n",
       "    [theme=dark] .colab-df-convert {\n",
       "      background-color: #3B4455;\n",
       "      fill: #D2E3FC;\n",
       "    }\n",
       "\n",
       "    [theme=dark] .colab-df-convert:hover {\n",
       "      background-color: #434B5C;\n",
       "      box-shadow: 0px 1px 3px 1px rgba(0, 0, 0, 0.15);\n",
       "      filter: drop-shadow(0px 1px 2px rgba(0, 0, 0, 0.3));\n",
       "      fill: #FFFFFF;\n",
       "    }\n",
       "  </style>\n",
       "\n",
       "      <script>\n",
       "        const buttonEl =\n",
       "          document.querySelector('#df-67f0709f-7797-46ea-8bda-5f00e13496ec button.colab-df-convert');\n",
       "        buttonEl.style.display =\n",
       "          google.colab.kernel.accessAllowed ? 'block' : 'none';\n",
       "\n",
       "        async function convertToInteractive(key) {\n",
       "          const element = document.querySelector('#df-67f0709f-7797-46ea-8bda-5f00e13496ec');\n",
       "          const dataTable =\n",
       "            await google.colab.kernel.invokeFunction('convertToInteractive',\n",
       "                                                     [key], {});\n",
       "          if (!dataTable) return;\n",
       "\n",
       "          const docLinkHtml = 'Like what you see? Visit the ' +\n",
       "            '<a target=\"_blank\" href=https://colab.research.google.com/notebooks/data_table.ipynb>data table notebook</a>'\n",
       "            + ' to learn more about interactive tables.';\n",
       "          element.innerHTML = '';\n",
       "          dataTable['output_type'] = 'display_data';\n",
       "          await google.colab.output.renderOutput(dataTable, element);\n",
       "          const docLink = document.createElement('div');\n",
       "          docLink.innerHTML = docLinkHtml;\n",
       "          element.appendChild(docLink);\n",
       "        }\n",
       "      </script>\n",
       "    </div>\n",
       "  </div>\n",
       "  "
      ],
      "text/plain": [
       "            domain_name  label      domain  length   entropy  \\\n",
       "0               s.w.org  legit           s       1 -0.000000   \n",
       "1     fonts.gstatic.com  legit     gstatic       7  2.521641   \n",
       "2       plus.google.com  legit      google       6  1.918296   \n",
       "3       maps.google.com  legit      google       6  1.918296   \n",
       "4  cdnjs.cloudflare.com  legit  cloudflare      10  3.121928   \n",
       "\n",
       "   first_Digit_Index  H_entropy  vowel_consonant_ratio  vowel_character_ratio  \\\n",
       "0                  0   2.521641               0.250000               0.142857   \n",
       "1                  0   3.337175               0.363636               0.235294   \n",
       "2                  0   3.189898               0.625000               0.333333   \n",
       "3                  0   3.189898               0.625000               0.333333   \n",
       "4                  0   3.684184               0.384615               0.250000   \n",
       "\n",
       "   consonant_character_ratio  level_no  alexa_grams  words_grams  \n",
       "0                   0.571429         3     0.000000     0.000000  \n",
       "1                   0.647059         3    39.390695    77.789990  \n",
       "2                   0.533333         3    29.359641    34.232630  \n",
       "3                   0.533333         3    29.359641    34.232630  \n",
       "4                   0.650000         3    53.352822    73.802767  "
      ]
     },
     "execution_count": 3,
     "metadata": {},
     "output_type": "execute_result"
    }
   ],
   "source": [
    "Domain_data = pd.read_csv('/content/drive/My Drive/Colab Notebooks/MLunseen_domain_data.csv')\n",
    "Domain_data.drop([\"Unnamed: 0\"], axis=1, inplace=True)\n",
    "Domain_data.head()"
   ]
  },
  {
   "cell_type": "code",
   "execution_count": null,
   "metadata": {
    "colab": {
     "base_uri": "https://localhost:8080/"
    },
    "id": "uF_CoGpwuupE",
    "outputId": "207418d3-7034-4ffa-ca30-dd079f693593"
   },
   "outputs": [
    {
     "data": {
      "text/plain": [
       "(1339087, 13)"
      ]
     },
     "execution_count": 4,
     "metadata": {},
     "output_type": "execute_result"
    }
   ],
   "source": [
    "Domain_data.shape"
   ]
  },
  {
   "cell_type": "code",
   "execution_count": null,
   "metadata": {
    "colab": {
     "base_uri": "https://localhost:8080/"
    },
    "id": "DgMW9FVDvCrj",
    "outputId": "6a3652dc-fb01-46d1-8be0-b1b4af416a5d"
   },
   "outputs": [
    {
     "data": {
      "text/plain": [
       "(381671, 13)"
      ]
     },
     "execution_count": 5,
     "metadata": {},
     "output_type": "execute_result"
    }
   ],
   "source": [
    "Domain_data[Domain_data[\"label\"] == \"dga\"].shape "
   ]
  },
  {
   "cell_type": "code",
   "execution_count": null,
   "metadata": {
    "id": "SXaXuOUWsnpf"
   },
   "outputs": [],
   "source": [
    "X= Domain_data.drop([\"label\", \"domain_name\", \"domain\"], axis=1)\n",
    "y = Domain_data[\"label\"]"
   ]
  },
  {
   "cell_type": "code",
   "execution_count": null,
   "metadata": {
    "id": "bnT1CNJBUSff"
   },
   "outputs": [],
   "source": [
    "from sklearn.preprocessing import LabelEncoder\n",
    "lb = LabelEncoder()\n",
    "\n",
    "y = lb.fit_transform(y)"
   ]
  },
  {
   "cell_type": "code",
   "execution_count": null,
   "metadata": {
    "colab": {
     "base_uri": "https://localhost:8080/",
     "height": 348
    },
    "id": "r8qVQSYLMms-",
    "outputId": "d282a2fa-e72d-43ff-9825-bcd6ca7d216e"
   },
   "outputs": [
    {
     "name": "stderr",
     "output_type": "stream",
     "text": [
      "/usr/local/lib/python3.7/dist-packages/seaborn/_decorators.py:43: FutureWarning: Pass the following variable as a keyword arg: x. From version 0.12, the only valid positional argument will be `data`, and passing other arguments without an explicit keyword will result in an error or misinterpretation.\n",
      "  FutureWarning\n"
     ]
    },
    {
     "data": {
      "text/plain": [
       "<matplotlib.axes._subplots.AxesSubplot at 0x7f738a1d44d0>"
      ]
     },
     "execution_count": 8,
     "metadata": {},
     "output_type": "execute_result"
    },
    {
     "data": {
      "image/png": "[encoded data removed]",
      "text/plain": [
       "<Figure size 432x288 with 1 Axes>"
      ]
     },
     "metadata": {
      "needs_background": "light"
     },
     "output_type": "display_data"
    }
   ],
   "source": [
    "import seaborn as sns\n",
    "sns.countplot(y)"
   ]
  },
  {
   "cell_type": "markdown",
   "metadata": {
    "id": "xdZfj8Rlc_Ae"
   },
   "source": [
    "## Load models and test"
   ]
  },
  {
   "cell_type": "markdown",
   "metadata": {
    "id": "tCBt8-AjdMwt"
   },
   "source": [
    "### BDT"
   ]
  },
  {
   "cell_type": "code",
   "execution_count": null,
   "metadata": {
    "id": "8vXym435c-XB"
   },
   "outputs": [],
   "source": [
    "import pickle\n",
    "# load the model from disk\n",
    "filename = '/content/drive/My Drive/Colab Notebooks/Bbdtmodel.sav'\n",
    "bdt = pickle.load(open(filename, 'rb'))"
   ]
  },
  {
   "cell_type": "code",
   "execution_count": null,
   "metadata": {
    "colab": {
     "base_uri": "https://localhost:8080/"
    },
    "id": "uTDWBXckddXV",
    "outputId": "e18e98e1-a643-4a1f-af3e-4aad1f7d3baa"
   },
   "outputs": [
    {
     "name": "stdout",
     "output_type": "stream",
     "text": [
      "              precision    recall  f1-score   support\n",
      "\n",
      "           0       0.92      0.45      0.61    381671\n",
      "           1       0.82      0.99      0.89    957416\n",
      "\n",
      "    accuracy                           0.83   1339087\n",
      "   macro avg       0.87      0.72      0.75   1339087\n",
      "weighted avg       0.85      0.83      0.81   1339087\n",
      "\n"
     ]
    }
   ],
   "source": [
    "from sklearn.metrics import plot_confusion_matrix,accuracy_score,classification_report\n",
    "bdtpred=bdt.predict(X)\n",
    "print(classification_report(y,bdtpred))"
   ]
  },
  {
   "cell_type": "code",
   "execution_count": null,
   "metadata": {
    "id": "yBEGv4-Mdsrl"
   },
   "outputs": [],
   "source": [
    "import pickle\n",
    "# load the model from disk\n",
    "filename = '/content/drive/My Drive/Colab Notebooks/Bbdtmodel2.sav'\n",
    "bdt2 = pickle.load(open(filename, 'rb'))"
   ]
  },
  {
   "cell_type": "code",
   "execution_count": null,
   "metadata": {
    "colab": {
     "base_uri": "https://localhost:8080/"
    },
    "id": "o--Nk-nwdwtc",
    "outputId": "8aeb8f49-2b59-4703-f7b3-d41f9e1f334a"
   },
   "outputs": [
    {
     "name": "stdout",
     "output_type": "stream",
     "text": [
      "              precision    recall  f1-score   support\n",
      "\n",
      "           0       0.93      0.43      0.59    381671\n",
      "           1       0.81      0.99      0.89    957416\n",
      "\n",
      "    accuracy                           0.83   1339087\n",
      "   macro avg       0.87      0.71      0.74   1339087\n",
      "weighted avg       0.85      0.83      0.81   1339087\n",
      "\n"
     ]
    }
   ],
   "source": [
    "from sklearn.metrics import plot_confusion_matrix,accuracy_score,classification_report\n",
    "bdtpred2=bdt2.predict(X)\n",
    "print(classification_report(y,bdtpred2))"
   ]
  },
  {
   "cell_type": "markdown",
   "metadata": {
    "id": "iSMu3EP8gl5n"
   },
   "source": [
    "### RF"
   ]
  },
  {
   "cell_type": "code",
   "execution_count": null,
   "metadata": {
    "id": "_yjds2PSgpIY"
   },
   "outputs": [],
   "source": [
    "import pickle\n",
    "# load the model from disk\n",
    "filename = '/content/drive/My Drive/Colab Notebooks/Brfmodel.sav'\n",
    "rf = pickle.load(open(filename, 'rb'))"
   ]
  },
  {
   "cell_type": "code",
   "execution_count": null,
   "metadata": {
    "colab": {
     "base_uri": "https://localhost:8080/"
    },
    "id": "dKKEvsKbgpIZ",
    "outputId": "74007e3d-0a60-4cb8-c61a-fd3448274ef1"
   },
   "outputs": [
    {
     "name": "stdout",
     "output_type": "stream",
     "text": [
      "              precision    recall  f1-score   support\n",
      "\n",
      "           0       0.95      0.48      0.64    381671\n",
      "           1       0.83      0.99      0.90    957416\n",
      "\n",
      "    accuracy                           0.84   1339087\n",
      "   macro avg       0.89      0.74      0.77   1339087\n",
      "weighted avg       0.86      0.84      0.83   1339087\n",
      "\n"
     ]
    }
   ],
   "source": [
    "from sklearn.metrics import plot_confusion_matrix,accuracy_score,classification_report\n",
    "rfpred=rf.predict(X)\n",
    "print(classification_report(y,rfpred))"
   ]
  },
  {
   "cell_type": "code",
   "execution_count": null,
   "metadata": {
    "id": "aFyVZYUtgpIa"
   },
   "outputs": [],
   "source": [
    "import pickle\n",
    "# load the model from disk\n",
    "filename = '/content/drive/My Drive/Colab Notebooks/Brfmodel2.sav'\n",
    "rf2 = pickle.load(open(filename, 'rb'))"
   ]
  },
  {
   "cell_type": "code",
   "execution_count": null,
   "metadata": {
    "colab": {
     "base_uri": "https://localhost:8080/"
    },
    "id": "XRh_xLmwgpIa",
    "outputId": "035df17f-61f4-4380-b70d-932518f5ae42"
   },
   "outputs": [
    {
     "name": "stdout",
     "output_type": "stream",
     "text": [
      "              precision    recall  f1-score   support\n",
      "\n",
      "           0       0.95      0.47      0.63    381671\n",
      "           1       0.82      0.99      0.90    957416\n",
      "\n",
      "    accuracy                           0.84   1339087\n",
      "   macro avg       0.89      0.73      0.76   1339087\n",
      "weighted avg       0.86      0.84      0.82   1339087\n",
      "\n"
     ]
    }
   ],
   "source": [
    "from sklearn.metrics import plot_confusion_matrix,accuracy_score,classification_report\n",
    "rfpred2=rf2.predict(X)\n",
    "print(classification_report(y,rfpred2))"
   ]
  },
  {
   "cell_type": "markdown",
   "metadata": {
    "id": "m_5sVx5ShSE9"
   },
   "source": [
    "### GB"
   ]
  },
  {
   "cell_type": "code",
   "execution_count": null,
   "metadata": {
    "id": "Fg3sGzQJhVuf"
   },
   "outputs": [],
   "source": [
    "import pickle\n",
    "# load the model from disk\n",
    "filename = '/content/drive/My Drive/Colab Notebooks/Bgbmodel.sav'\n",
    "gb = pickle.load(open(filename, 'rb'))"
   ]
  },
  {
   "cell_type": "code",
   "execution_count": null,
   "metadata": {
    "colab": {
     "base_uri": "https://localhost:8080/"
    },
    "id": "97v-_RGEhVug",
    "outputId": "04c2a1f0-f2b2-444c-d6aa-18d7e646494c"
   },
   "outputs": [
    {
     "name": "stdout",
     "output_type": "stream",
     "text": [
      "              precision    recall  f1-score   support\n",
      "\n",
      "           0       0.90      0.63      0.74    381671\n",
      "           1       0.87      0.97      0.92    957416\n",
      "\n",
      "    accuracy                           0.88   1339087\n",
      "   macro avg       0.88      0.80      0.83   1339087\n",
      "weighted avg       0.88      0.88      0.87   1339087\n",
      "\n"
     ]
    }
   ],
   "source": [
    "from sklearn.metrics import plot_confusion_matrix,accuracy_score,classification_report\n",
    "gbpred=gb.predict(X)\n",
    "print(classification_report(y,gbpred))"
   ]
  },
  {
   "cell_type": "markdown",
   "metadata": {
    "id": "ij0yF7Yphvsc"
   },
   "source": [
    "### ET"
   ]
  },
  {
   "cell_type": "code",
   "execution_count": null,
   "metadata": {
    "id": "D4vto-Rnh9nM"
   },
   "outputs": [],
   "source": [
    "import pickle\n",
    "# load the model from disk\n",
    "filename = '/content/drive/My Drive/Colab Notebooks/Betmodel.sav'\n",
    "et = pickle.load(open(filename, 'rb'))"
   ]
  },
  {
   "cell_type": "code",
   "execution_count": null,
   "metadata": {
    "colab": {
     "base_uri": "https://localhost:8080/"
    },
    "id": "StQWro3hh9nN",
    "outputId": "be5b192f-5b28-4e88-fa87-24667cbe459f"
   },
   "outputs": [
    {
     "name": "stdout",
     "output_type": "stream",
     "text": [
      "              precision    recall  f1-score   support\n",
      "\n",
      "           0       0.94      0.48      0.64    381671\n",
      "           1       0.83      0.99      0.90    957416\n",
      "\n",
      "    accuracy                           0.84   1339087\n",
      "   macro avg       0.88      0.74      0.77   1339087\n",
      "weighted avg       0.86      0.84      0.83   1339087\n",
      "\n"
     ]
    }
   ],
   "source": [
    "from sklearn.metrics import plot_confusion_matrix,accuracy_score,classification_report\n",
    "etpred=et.predict(X)\n",
    "print(classification_report(y,etpred))"
   ]
  },
  {
   "cell_type": "code",
   "execution_count": null,
   "metadata": {
    "id": "gvuV6hoziG_9"
   },
   "outputs": [],
   "source": [
    "import pickle\n",
    "# load the model from disk\n",
    "filename = '/content/drive/My Drive/Colab Notebooks/Betmodel2.sav'\n",
    "et2 = pickle.load(open(filename, 'rb'))"
   ]
  },
  {
   "cell_type": "code",
   "execution_count": null,
   "metadata": {
    "colab": {
     "base_uri": "https://localhost:8080/"
    },
    "id": "IE0PK0ptiG_-",
    "outputId": "358906c8-334d-4367-d9a3-99ec5d7a4c56"
   },
   "outputs": [
    {
     "name": "stdout",
     "output_type": "stream",
     "text": [
      "              precision    recall  f1-score   support\n",
      "\n",
      "           0       0.95      0.48      0.64    381671\n",
      "           1       0.83      0.99      0.90    957416\n",
      "\n",
      "    accuracy                           0.84   1339087\n",
      "   macro avg       0.89      0.74      0.77   1339087\n",
      "weighted avg       0.86      0.84      0.83   1339087\n",
      "\n"
     ]
    }
   ],
   "source": [
    "from sklearn.metrics import plot_confusion_matrix,accuracy_score,classification_report\n",
    "etpred2=et2.predict(X)\n",
    "print(classification_report(y,etpred2))"
   ]
  },
  {
   "cell_type": "markdown",
   "metadata": {
    "id": "ZR2T8Z6ciWQ0"
   },
   "source": [
    "### DT"
   ]
  },
  {
   "cell_type": "code",
   "execution_count": null,
   "metadata": {
    "id": "OblF_cQyiZaN"
   },
   "outputs": [],
   "source": [
    "import pickle\n",
    "# load the model from disk\n",
    "filename = '/content/drive/My Drive/Colab Notebooks/Bdtmodel.sav'\n",
    "dt = pickle.load(open(filename, 'rb'))"
   ]
  },
  {
   "cell_type": "code",
   "execution_count": null,
   "metadata": {
    "colab": {
     "base_uri": "https://localhost:8080/"
    },
    "id": "xyo95XLbiZaO",
    "outputId": "156672fa-50be-474f-be79-773eb3de99ef"
   },
   "outputs": [
    {
     "name": "stdout",
     "output_type": "stream",
     "text": [
      "              precision    recall  f1-score   support\n",
      "\n",
      "           0       0.89      0.47      0.61    381671\n",
      "           1       0.82      0.98      0.89    957416\n",
      "\n",
      "    accuracy                           0.83   1339087\n",
      "   macro avg       0.85      0.72      0.75   1339087\n",
      "weighted avg       0.84      0.83      0.81   1339087\n",
      "\n"
     ]
    }
   ],
   "source": [
    "from sklearn.metrics import plot_confusion_matrix,accuracy_score,classification_report\n",
    "dtpred=dt.predict(X)\n",
    "print(classification_report(y,dtpred))"
   ]
  },
  {
   "cell_type": "code",
   "execution_count": null,
   "metadata": {
    "id": "MiR3cCOaiZaP"
   },
   "outputs": [],
   "source": [
    "import pickle\n",
    "# load the model from disk\n",
    "filename = '/content/drive/My Drive/Colab Notebooks/Bdtmodel2.sav'\n",
    "dt2 = pickle.load(open(filename, 'rb'))"
   ]
  },
  {
   "cell_type": "code",
   "execution_count": null,
   "metadata": {
    "colab": {
     "base_uri": "https://localhost:8080/"
    },
    "id": "92DedKBgiZaP",
    "outputId": "ffb4edd2-d40b-4009-eb74-006a22db0d50"
   },
   "outputs": [
    {
     "name": "stdout",
     "output_type": "stream",
     "text": [
      "              precision    recall  f1-score   support\n",
      "\n",
      "           0       0.88      0.37      0.52    381671\n",
      "           1       0.79      0.98      0.88    957416\n",
      "\n",
      "    accuracy                           0.80   1339087\n",
      "   macro avg       0.84      0.67      0.70   1339087\n",
      "weighted avg       0.82      0.80      0.77   1339087\n",
      "\n"
     ]
    }
   ],
   "source": [
    "from sklearn.metrics import plot_confusion_matrix,accuracy_score,classification_report\n",
    "dtpred2=dt2.predict(X)\n",
    "print(classification_report(y,dtpred2))"
   ]
  },
  {
   "cell_type": "markdown",
   "metadata": {
    "id": "be0RtZtRi14K"
   },
   "source": [
    "### AB"
   ]
  },
  {
   "cell_type": "code",
   "execution_count": null,
   "metadata": {
    "id": "h8SCme_ei5FS"
   },
   "outputs": [],
   "source": [
    "import pickle\n",
    "# load the model from disk\n",
    "filename = '/content/drive/My Drive/Colab Notebooks/Babmodel.sav'\n",
    "ab = pickle.load(open(filename, 'rb'))"
   ]
  },
  {
   "cell_type": "code",
   "execution_count": null,
   "metadata": {
    "colab": {
     "base_uri": "https://localhost:8080/"
    },
    "id": "AJZiPeJ6i5FT",
    "outputId": "ccfbd4a8-06c9-4428-d469-30eff49e127b"
   },
   "outputs": [
    {
     "name": "stdout",
     "output_type": "stream",
     "text": [
      "              precision    recall  f1-score   support\n",
      "\n",
      "           0       0.86      0.66      0.75    381671\n",
      "           1       0.88      0.96      0.91    957416\n",
      "\n",
      "    accuracy                           0.87   1339087\n",
      "   macro avg       0.87      0.81      0.83   1339087\n",
      "weighted avg       0.87      0.87      0.87   1339087\n",
      "\n"
     ]
    }
   ],
   "source": [
    "from sklearn.metrics import plot_confusion_matrix,accuracy_score,classification_report\n",
    "abpred=ab.predict(X)\n",
    "print(classification_report(y,abpred))"
   ]
  },
  {
   "cell_type": "code",
   "execution_count": null,
   "metadata": {
    "id": "xjhAh8v6i5FU"
   },
   "outputs": [],
   "source": [
    "import pickle\n",
    "# load the model from disk\n",
    "filename = '/content/drive/My Drive/Colab Notebooks/Babmodel2.sav'\n",
    "ab2 = pickle.load(open(filename, 'rb'))"
   ]
  },
  {
   "cell_type": "code",
   "execution_count": null,
   "metadata": {
    "colab": {
     "base_uri": "https://localhost:8080/"
    },
    "id": "1cLCk-3qi5FU",
    "outputId": "708b0312-36c4-4031-d3de-1a9031ef1ed1"
   },
   "outputs": [
    {
     "name": "stdout",
     "output_type": "stream",
     "text": [
      "              precision    recall  f1-score   support\n",
      "\n",
      "           0       0.91      0.60      0.72    381671\n",
      "           1       0.86      0.98      0.91    957416\n",
      "\n",
      "    accuracy                           0.87   1339087\n",
      "   macro avg       0.89      0.79      0.82   1339087\n",
      "weighted avg       0.87      0.87      0.86   1339087\n",
      "\n"
     ]
    }
   ],
   "source": [
    "from sklearn.metrics import plot_confusion_matrix,accuracy_score,classification_report\n",
    "abpred2=ab2.predict(X)\n",
    "print(classification_report(y,abpred2))"
   ]
  },
  {
   "cell_type": "markdown",
   "metadata": {
    "id": "t0ZqYTYfklAH"
   },
   "source": [
    "### XGB"
   ]
  },
  {
   "cell_type": "code",
   "execution_count": null,
   "metadata": {
    "colab": {
     "base_uri": "https://localhost:8080/",
     "height": 200
    },
    "id": "x0YArtqJkoos",
    "outputId": "1f65da23-bd65-4e5e-8746-781b6b82eeb4"
   },
   "outputs": [
    {
     "ename": "FileNotFoundError",
     "evalue": "ignored",
     "output_type": "error",
     "traceback": [
      "\u001b[0;31m---------------------------------------------------------------------------\u001b[0m",
      "\u001b[0;31mFileNotFoundError\u001b[0m                         Traceback (most recent call last)",
      "\u001b[0;32m<ipython-input-9-f546dd6679d3>\u001b[0m in \u001b[0;36m<module>\u001b[0;34m()\u001b[0m\n\u001b[1;32m      2\u001b[0m \u001b[0;31m# load the model from disk\u001b[0m\u001b[0;34m\u001b[0m\u001b[0;34m\u001b[0m\u001b[0;34m\u001b[0m\u001b[0m\n\u001b[1;32m      3\u001b[0m \u001b[0mfilename\u001b[0m \u001b[0;34m=\u001b[0m \u001b[0;34m'/content/drive/My Drive/Colab Notebooks/BXGBmodel.sav'\u001b[0m\u001b[0;34m\u001b[0m\u001b[0;34m\u001b[0m\u001b[0m\n\u001b[0;32m----> 4\u001b[0;31m \u001b[0mXGB\u001b[0m \u001b[0;34m=\u001b[0m \u001b[0mpickle\u001b[0m\u001b[0;34m.\u001b[0m\u001b[0mload\u001b[0m\u001b[0;34m(\u001b[0m\u001b[0mopen\u001b[0m\u001b[0;34m(\u001b[0m\u001b[0mfilename\u001b[0m\u001b[0;34m,\u001b[0m \u001b[0;34m'rb'\u001b[0m\u001b[0;34m)\u001b[0m\u001b[0;34m)\u001b[0m\u001b[0;34m\u001b[0m\u001b[0;34m\u001b[0m\u001b[0m\n\u001b[0m",
      "\u001b[0;31mFileNotFoundError\u001b[0m: [Errno 2] No such file or directory: '/content/drive/My Drive/Colab Notebooks/BXGBmodel.sav'"
     ]
    }
   ],
   "source": [
    "import pickle\n",
    "# load the model from disk\n",
    "filename = '/content/drive/My Drive/Colab Notebooks/BXGBmodel.sav'\n",
    "XGB = pickle.load(open(filename, 'rb'))"
   ]
  },
  {
   "cell_type": "code",
   "execution_count": null,
   "metadata": {
    "colab": {
     "base_uri": "https://localhost:8080/"
    },
    "id": "nqrXPgwJkoot",
    "outputId": "4e53434f-1918-4290-d7b1-e33f19b93181"
   },
   "outputs": [
    {
     "name": "stdout",
     "output_type": "stream",
     "text": [
      "              precision    recall  f1-score   support\n",
      "\n",
      "           0       0.95      0.50      0.65    381671\n",
      "           1       0.83      0.99      0.90    957416\n",
      "\n",
      "    accuracy                           0.85   1339087\n",
      "   macro avg       0.89      0.74      0.78   1339087\n",
      "weighted avg       0.87      0.85      0.83   1339087\n",
      "\n"
     ]
    }
   ],
   "source": [
    "from sklearn.metrics import plot_confusion_matrix,accuracy_score,classification_report\n",
    "XGBpred=XGB.predict(X)\n",
    "print(classification_report(y,XGBpred))"
   ]
  },
  {
   "cell_type": "code",
   "execution_count": null,
   "metadata": {
    "id": "3vA7VChokoou"
   },
   "outputs": [],
   "source": [
    "import pickle\n",
    "# load the model from disk\n",
    "filename = '/content/drive/My Drive/Colab Notebooks/Bxgbmodel.sav'\n",
    "xgb = pickle.load(open(filename, 'rb'))"
   ]
  },
  {
   "cell_type": "code",
   "execution_count": null,
   "metadata": {
    "colab": {
     "base_uri": "https://localhost:8080/"
    },
    "id": "vh19orQQkoou",
    "outputId": "22d2e480-47ea-45ef-a94d-a794c2cfb570"
   },
   "outputs": [
    {
     "name": "stdout",
     "output_type": "stream",
     "text": [
      "              precision    recall  f1-score   support\n",
      "\n",
      "           0       0.89      0.64      0.74    381671\n",
      "           1       0.87      0.97      0.92    957416\n",
      "\n",
      "    accuracy                           0.87   1339087\n",
      "   macro avg       0.88      0.80      0.83   1339087\n",
      "weighted avg       0.88      0.87      0.87   1339087\n",
      "\n"
     ]
    }
   ],
   "source": [
    "from sklearn.metrics import plot_confusion_matrix,accuracy_score,classification_report\n",
    "xgbpred=xgb.predict(X)\n",
    "print(classification_report(y,xgbpred))"
   ]
  },
  {
   "cell_type": "code",
   "execution_count": null,
   "metadata": {
    "id": "uS5EJw4ilHCP"
   },
   "outputs": [],
   "source": [
    "import pickle\n",
    "# load the model from disk\n",
    "filename = '/content/drive/My Drive/Colab Notebooks/Bxgbmodel2.sav'\n",
    "xgb2 = pickle.load(open(filename, 'rb'))"
   ]
  },
  {
   "cell_type": "code",
   "execution_count": null,
   "metadata": {
    "colab": {
     "base_uri": "https://localhost:8080/"
    },
    "id": "tEsqdLkqlHCQ",
    "outputId": "8fa2ab69-e53f-4486-b20a-cc361fd1f429"
   },
   "outputs": [
    {
     "name": "stdout",
     "output_type": "stream",
     "text": [
      "              precision    recall  f1-score   support\n",
      "\n",
      "           0       0.94      0.58      0.72    381671\n",
      "           1       0.86      0.98      0.92    957416\n",
      "\n",
      "    accuracy                           0.87   1339087\n",
      "   macro avg       0.90      0.78      0.82   1339087\n",
      "weighted avg       0.88      0.87      0.86   1339087\n",
      "\n"
     ]
    }
   ],
   "source": [
    "from sklearn.metrics import plot_confusion_matrix,accuracy_score,classification_report\n",
    "xgbpred2=xgb2.predict(X)\n",
    "print(classification_report(y,xgbpred2))"
   ]
  },
  {
   "cell_type": "markdown",
   "metadata": {
    "id": "YA9s1PJ0eCKD"
   },
   "source": [
    "### VT"
   ]
  },
  {
   "cell_type": "code",
   "execution_count": null,
   "metadata": {
    "id": "KYQ_Mx0WeTUb"
   },
   "outputs": [],
   "source": [
    "import pickle\n",
    "# load the model from disk\n",
    "filename = '/content/drive/My Drive/Colab Notebooks/BVTmodel.sav'\n",
    "vt = pickle.load(open(filename, 'rb'))"
   ]
  },
  {
   "cell_type": "code",
   "execution_count": null,
   "metadata": {
    "colab": {
     "base_uri": "https://localhost:8080/"
    },
    "id": "O4oEyMpHecUk",
    "outputId": "7968cced-35d4-49ea-e402-fbd6f5a29532"
   },
   "outputs": [
    {
     "name": "stdout",
     "output_type": "stream",
     "text": [
      "              precision    recall  f1-score   support\n",
      "\n",
      "           0       0.95      0.48      0.64    381671\n",
      "           1       0.83      0.99      0.90    957416\n",
      "\n",
      "    accuracy                           0.85   1339087\n",
      "   macro avg       0.89      0.74      0.77   1339087\n",
      "weighted avg       0.86      0.85      0.83   1339087\n",
      "\n"
     ]
    }
   ],
   "source": [
    "from sklearn.metrics import plot_confusion_matrix,accuracy_score,classification_report\n",
    "vtpred=vt.predict(X)\n",
    "print(classification_report(y,vtpred))"
   ]
  },
  {
   "cell_type": "code",
   "execution_count": null,
   "metadata": {
    "id": "7fZ9RKMXemSq"
   },
   "outputs": [],
   "source": [
    "import pickle\n",
    "# load the model from disk\n",
    "filename = '/content/drive/My Drive/Colab Notebooks/Bvtmodel.sav'\n",
    "vt2 = pickle.load(open(filename, 'rb'))"
   ]
  },
  {
   "cell_type": "code",
   "execution_count": null,
   "metadata": {
    "colab": {
     "base_uri": "https://localhost:8080/"
    },
    "id": "RyBW-WMZewmS",
    "outputId": "3104370d-9cb9-4be1-8f1c-453c979eb0a4"
   },
   "outputs": [
    {
     "name": "stdout",
     "output_type": "stream",
     "text": [
      "              precision    recall  f1-score   support\n",
      "\n",
      "           0       0.94      0.49      0.65    381671\n",
      "           1       0.83      0.99      0.90    957416\n",
      "\n",
      "    accuracy                           0.85   1339087\n",
      "   macro avg       0.89      0.74      0.78   1339087\n",
      "weighted avg       0.86      0.85      0.83   1339087\n",
      "\n"
     ]
    }
   ],
   "source": [
    "from sklearn.metrics import plot_confusion_matrix,accuracy_score,classification_report\n",
    "vtpred2=vt2.predict(X)\n",
    "print(classification_report(y,vtpred2))"
   ]
  },
  {
   "cell_type": "markdown",
   "metadata": {
    "id": "OYFeXYvEf2EJ"
   },
   "source": [
    "### ST"
   ]
  },
  {
   "cell_type": "code",
   "execution_count": null,
   "metadata": {
    "id": "yUGhBzZGf3Wo"
   },
   "outputs": [],
   "source": [
    "import pickle\n",
    "# load the model from disk\n",
    "filename = '/content/drive/My Drive/Colab Notebooks/BSTmodel_tn.sav'\n",
    "st = pickle.load(open(filename, 'rb'))"
   ]
  },
  {
   "cell_type": "code",
   "execution_count": null,
   "metadata": {
    "id": "1rwDeIK7KgT9"
   },
   "outputs": [],
   "source": [
    "from sklearn.metrics import plot_confusion_matrix,accuracy_score,classification_report\n",
    "stpred=st.predict_proba(X)\n",
    "print(classification_report(y,stpred))"
   ]
  },
  {
   "cell_type": "code",
   "execution_count": null,
   "metadata": {
    "colab": {
     "base_uri": "https://localhost:8080/"
    },
    "id": "1lYt9YqAf-L3",
    "outputId": "88e02737-913f-481a-a330-aee4857613cf"
   },
   "outputs": [
    {
     "name": "stdout",
     "output_type": "stream",
     "text": [
      "              precision    recall  f1-score   support\n",
      "\n",
      "           0       0.95      0.49      0.65    381671\n",
      "           1       0.83      0.99      0.90    957416\n",
      "\n",
      "    accuracy                           0.85   1339087\n",
      "   macro avg       0.89      0.74      0.77   1339087\n",
      "weighted avg       0.86      0.85      0.83   1339087\n",
      "\n"
     ]
    }
   ],
   "source": [
    "from sklearn.metrics import plot_confusion_matrix,accuracy_score,classification_report\n",
    "stpred=st.predict(X)\n",
    "print(classification_report(y,stpred))"
   ]
  },
  {
   "cell_type": "code",
   "execution_count": null,
   "metadata": {
    "id": "5VEeo2MggHJC"
   },
   "outputs": [],
   "source": [
    "import pickle\n",
    "# load the model from disk\n",
    "filename = '/content/drive/My Drive/Colab Notebooks/Bstmodel.sav'\n",
    "st2 = pickle.load(open(filename, 'rb'))"
   ]
  },
  {
   "cell_type": "code",
   "execution_count": null,
   "metadata": {
    "colab": {
     "base_uri": "https://localhost:8080/"
    },
    "id": "EAFgBbTWgHJD",
    "outputId": "0abae566-d3d7-486d-e79b-af6e5fb942e3"
   },
   "outputs": [
    {
     "name": "stdout",
     "output_type": "stream",
     "text": [
      "              precision    recall  f1-score   support\n",
      "\n",
      "           0       0.95      0.50      0.65    381671\n",
      "           1       0.83      0.99      0.90    957416\n",
      "\n",
      "    accuracy                           0.85   1339087\n",
      "   macro avg       0.89      0.74      0.78   1339087\n",
      "weighted avg       0.86      0.85      0.83   1339087\n",
      "\n"
     ]
    }
   ],
   "source": [
    "from sklearn.metrics import plot_confusion_matrix,accuracy_score,classification_report\n",
    "stpred2=st2.predict(X)\n",
    "print(classification_report(y,stpred2))"
   ]
  }
 ],
 "metadata": {
  "colab": {
   "collapsed_sections": [],
   "provenance": []
  },
  "kernelspec": {
   "display_name": "Python 3 (ipykernel)",
   "language": "python",
   "name": "python3"
  },
  "language_info": {
   "codemirror_mode": {
    "name": "ipython",
    "version": 3
   },
   "file_extension": ".py",
   "mimetype": "text/x-python",
   "name": "python",
   "nbconvert_exporter": "python",
   "pygments_lexer": "ipython3",
   "version": "3.10.9"
  }
 },
 "nbformat": 4,
 "nbformat_minor": 1
}
