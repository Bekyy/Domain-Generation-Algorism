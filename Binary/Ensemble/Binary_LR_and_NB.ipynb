{
  "cells": [
    {
      "cell_type": "code",
      "execution_count": null,
      "metadata": {
        "id": "PRA4adyjdWcn"
      },
      "outputs": [],
      "source": [
        "import tensorflow as tf\n",
        "import matplotlib.image as img\n",
        "%matplotlib inline\n",
        "import numpy as np\n",
        "from collections import defaultdict\n",
        "import collections\n",
        "from shutil import copy  \n",
        "from shutil import copytree, rmtree\n",
        "import tensorflow.keras.backend as K\n",
        "from tensorflow.keras.models import load_model\n",
        "from tensorflow.keras.preprocessing import image\n",
        "import matplotlib.pyplot as plt\n",
        "import os"
      ]
    },
    {
      "cell_type": "code",
      "execution_count": null,
      "metadata": {
        "id": "blwR7ARVeBNY"
      },
      "outputs": [],
      "source": [
        "import pandas as pd\n",
        "import math\n",
        "from collections import Counter\n",
        "from sklearn.model_selection import train_test_split\n",
        "from sklearn.model_selection import GridSearchCV"
      ]
    },
    {
      "cell_type": "code",
      "execution_count": null,
      "metadata": {
        "colab": {
          "base_uri": "https://localhost:8080/"
        },
        "id": "-miIBab7lnn8",
        "outputId": "cb0936d2-c856-42bf-e3f0-013963e23c0a"
      },
      "outputs": [
        {
          "output_type": "stream",
          "name": "stdout",
          "text": [
            "Mounted at /content/drive\n"
          ]
        }
      ],
      "source": [
        "from google.colab import drive\n",
        "drive.mount('/content/drive')"
      ]
    },
    {
      "cell_type": "code",
      "execution_count": null,
      "metadata": {
        "colab": {
          "base_uri": "https://localhost:8080/",
          "height": 270
        },
        "id": "8lghLE9ZsmpH",
        "outputId": "33fe32f0-38cc-43f6-8246-07058792cac5"
      },
      "outputs": [
        {
          "output_type": "execute_result",
          "data": {
            "text/plain": [
              "      domain_name label      domain  length   entropy  first_Digit_Index  \\\n",
              "0  odqzesdvd.info   dga   odqzesdvd       9  2.641604                  0   \n",
              "1  mcrwnxdzu.info   dga   mcrwnxdzu       9  3.169925                  0   \n",
              "2  poxrscvfoy.biz   dga  poxrscvfoy      10  3.121928                  0   \n",
              "3     dupzwi.info   dga      dupzwi       6  2.584963                  0   \n",
              "4     pgldibr.com   dga     pgldibr       7  2.807355                  0   \n",
              "\n",
              "   H_entropy  vowel_consonant_ratio  vowel_character_ratio  \\\n",
              "0   3.324863               0.444444               0.285714   \n",
              "1   3.664498               0.300000               0.214286   \n",
              "2   3.664498               0.300000               0.214286   \n",
              "3   3.277613               0.666667               0.363636   \n",
              "4   3.459432               0.250000               0.181818   \n",
              "\n",
              "   consonant_character_ratio  level_no  alexa_grams  words_grams  \n",
              "0                   0.642857         2     8.618689    10.200253  \n",
              "1                   0.714286         2     5.331953     4.442651  \n",
              "2                   0.714286         2     9.758886    11.231941  \n",
              "3                   0.545455         2     3.861893     7.928046  \n",
              "4                   0.727273         2    12.146719    20.785039  "
            ],
            "text/html": [
              "\n",
              "  <div id=\"df-ec610c1d-7db8-449e-b91f-39b1f6751cf0\">\n",
              "    <div class=\"colab-df-container\">\n",
              "      <div>\n",
              "<style scoped>\n",
              "    .dataframe tbody tr th:only-of-type {\n",
              "        vertical-align: middle;\n",
              "    }\n",
              "\n",
              "    .dataframe tbody tr th {\n",
              "        vertical-align: top;\n",
              "    }\n",
              "\n",
              "    .dataframe thead th {\n",
              "        text-align: right;\n",
              "    }\n",
              "</style>\n",
              "<table border=\"1\" class=\"dataframe\">\n",
              "  <thead>\n",
              "    <tr style=\"text-align: right;\">\n",
              "      <th></th>\n",
              "      <th>domain_name</th>\n",
              "      <th>label</th>\n",
              "      <th>domain</th>\n",
              "      <th>length</th>\n",
              "      <th>entropy</th>\n",
              "      <th>first_Digit_Index</th>\n",
              "      <th>H_entropy</th>\n",
              "      <th>vowel_consonant_ratio</th>\n",
              "      <th>vowel_character_ratio</th>\n",
              "      <th>consonant_character_ratio</th>\n",
              "      <th>level_no</th>\n",
              "      <th>alexa_grams</th>\n",
              "      <th>words_grams</th>\n",
              "    </tr>\n",
              "  </thead>\n",
              "  <tbody>\n",
              "    <tr>\n",
              "      <th>0</th>\n",
              "      <td>odqzesdvd.info</td>\n",
              "      <td>dga</td>\n",
              "      <td>odqzesdvd</td>\n",
              "      <td>9</td>\n",
              "      <td>2.641604</td>\n",
              "      <td>0</td>\n",
              "      <td>3.324863</td>\n",
              "      <td>0.444444</td>\n",
              "      <td>0.285714</td>\n",
              "      <td>0.642857</td>\n",
              "      <td>2</td>\n",
              "      <td>8.618689</td>\n",
              "      <td>10.200253</td>\n",
              "    </tr>\n",
              "    <tr>\n",
              "      <th>1</th>\n",
              "      <td>mcrwnxdzu.info</td>\n",
              "      <td>dga</td>\n",
              "      <td>mcrwnxdzu</td>\n",
              "      <td>9</td>\n",
              "      <td>3.169925</td>\n",
              "      <td>0</td>\n",
              "      <td>3.664498</td>\n",
              "      <td>0.300000</td>\n",
              "      <td>0.214286</td>\n",
              "      <td>0.714286</td>\n",
              "      <td>2</td>\n",
              "      <td>5.331953</td>\n",
              "      <td>4.442651</td>\n",
              "    </tr>\n",
              "    <tr>\n",
              "      <th>2</th>\n",
              "      <td>poxrscvfoy.biz</td>\n",
              "      <td>dga</td>\n",
              "      <td>poxrscvfoy</td>\n",
              "      <td>10</td>\n",
              "      <td>3.121928</td>\n",
              "      <td>0</td>\n",
              "      <td>3.664498</td>\n",
              "      <td>0.300000</td>\n",
              "      <td>0.214286</td>\n",
              "      <td>0.714286</td>\n",
              "      <td>2</td>\n",
              "      <td>9.758886</td>\n",
              "      <td>11.231941</td>\n",
              "    </tr>\n",
              "    <tr>\n",
              "      <th>3</th>\n",
              "      <td>dupzwi.info</td>\n",
              "      <td>dga</td>\n",
              "      <td>dupzwi</td>\n",
              "      <td>6</td>\n",
              "      <td>2.584963</td>\n",
              "      <td>0</td>\n",
              "      <td>3.277613</td>\n",
              "      <td>0.666667</td>\n",
              "      <td>0.363636</td>\n",
              "      <td>0.545455</td>\n",
              "      <td>2</td>\n",
              "      <td>3.861893</td>\n",
              "      <td>7.928046</td>\n",
              "    </tr>\n",
              "    <tr>\n",
              "      <th>4</th>\n",
              "      <td>pgldibr.com</td>\n",
              "      <td>dga</td>\n",
              "      <td>pgldibr</td>\n",
              "      <td>7</td>\n",
              "      <td>2.807355</td>\n",
              "      <td>0</td>\n",
              "      <td>3.459432</td>\n",
              "      <td>0.250000</td>\n",
              "      <td>0.181818</td>\n",
              "      <td>0.727273</td>\n",
              "      <td>2</td>\n",
              "      <td>12.146719</td>\n",
              "      <td>20.785039</td>\n",
              "    </tr>\n",
              "  </tbody>\n",
              "</table>\n",
              "</div>\n",
              "      <button class=\"colab-df-convert\" onclick=\"convertToInteractive('df-ec610c1d-7db8-449e-b91f-39b1f6751cf0')\"\n",
              "              title=\"Convert this dataframe to an interactive table.\"\n",
              "              style=\"display:none;\">\n",
              "        \n",
              "  <svg xmlns=\"http://www.w3.org/2000/svg\" height=\"24px\"viewBox=\"0 0 24 24\"\n",
              "       width=\"24px\">\n",
              "    <path d=\"M0 0h24v24H0V0z\" fill=\"none\"/>\n",
              "    <path d=\"M18.56 5.44l.94 2.06.94-2.06 2.06-.94-2.06-.94-.94-2.06-.94 2.06-2.06.94zm-11 1L8.5 8.5l.94-2.06 2.06-.94-2.06-.94L8.5 2.5l-.94 2.06-2.06.94zm10 10l.94 2.06.94-2.06 2.06-.94-2.06-.94-.94-2.06-.94 2.06-2.06.94z\"/><path d=\"M17.41 7.96l-1.37-1.37c-.4-.4-.92-.59-1.43-.59-.52 0-1.04.2-1.43.59L10.3 9.45l-7.72 7.72c-.78.78-.78 2.05 0 2.83L4 21.41c.39.39.9.59 1.41.59.51 0 1.02-.2 1.41-.59l7.78-7.78 2.81-2.81c.8-.78.8-2.07 0-2.86zM5.41 20L4 18.59l7.72-7.72 1.47 1.35L5.41 20z\"/>\n",
              "  </svg>\n",
              "      </button>\n",
              "      \n",
              "  <style>\n",
              "    .colab-df-container {\n",
              "      display:flex;\n",
              "      flex-wrap:wrap;\n",
              "      gap: 12px;\n",
              "    }\n",
              "\n",
              "    .colab-df-convert {\n",
              "      background-color: #E8F0FE;\n",
              "      border: none;\n",
              "      border-radius: 50%;\n",
              "      cursor: pointer;\n",
              "      display: none;\n",
              "      fill: #1967D2;\n",
              "      height: 32px;\n",
              "      padding: 0 0 0 0;\n",
              "      width: 32px;\n",
              "    }\n",
              "\n",
              "    .colab-df-convert:hover {\n",
              "      background-color: #E2EBFA;\n",
              "      box-shadow: 0px 1px 2px rgba(60, 64, 67, 0.3), 0px 1px 3px 1px rgba(60, 64, 67, 0.15);\n",
              "      fill: #174EA6;\n",
              "    }\n",
              "\n",
              "    [theme=dark] .colab-df-convert {\n",
              "      background-color: #3B4455;\n",
              "      fill: #D2E3FC;\n",
              "    }\n",
              "\n",
              "    [theme=dark] .colab-df-convert:hover {\n",
              "      background-color: #434B5C;\n",
              "      box-shadow: 0px 1px 3px 1px rgba(0, 0, 0, 0.15);\n",
              "      filter: drop-shadow(0px 1px 2px rgba(0, 0, 0, 0.3));\n",
              "      fill: #FFFFFF;\n",
              "    }\n",
              "  </style>\n",
              "\n",
              "      <script>\n",
              "        const buttonEl =\n",
              "          document.querySelector('#df-ec610c1d-7db8-449e-b91f-39b1f6751cf0 button.colab-df-convert');\n",
              "        buttonEl.style.display =\n",
              "          google.colab.kernel.accessAllowed ? 'block' : 'none';\n",
              "\n",
              "        async function convertToInteractive(key) {\n",
              "          const element = document.querySelector('#df-ec610c1d-7db8-449e-b91f-39b1f6751cf0');\n",
              "          const dataTable =\n",
              "            await google.colab.kernel.invokeFunction('convertToInteractive',\n",
              "                                                     [key], {});\n",
              "          if (!dataTable) return;\n",
              "\n",
              "          const docLinkHtml = 'Like what you see? Visit the ' +\n",
              "            '<a target=\"_blank\" href=https://colab.research.google.com/notebooks/data_table.ipynb>data table notebook</a>'\n",
              "            + ' to learn more about interactive tables.';\n",
              "          element.innerHTML = '';\n",
              "          dataTable['output_type'] = 'display_data';\n",
              "          await google.colab.output.renderOutput(dataTable, element);\n",
              "          const docLink = document.createElement('div');\n",
              "          docLink.innerHTML = docLinkHtml;\n",
              "          element.appendChild(docLink);\n",
              "        }\n",
              "      </script>\n",
              "    </div>\n",
              "  </div>\n",
              "  "
            ]
          },
          "metadata": {},
          "execution_count": 4
        }
      ],
      "source": [
        "Domain_data = pd.read_csv(\"/content/drive/My Drive/Colab Notebooks/MLDOMAIN_BRY.csv\")\n",
        "Domain_data.drop([\"Unnamed: 0\"], axis=1, inplace=True)\n",
        "Domain_data.head()"
      ]
    },
    {
      "cell_type": "code",
      "execution_count": null,
      "metadata": {
        "id": "SXaXuOUWsnpf"
      },
      "outputs": [],
      "source": [
        "X= Domain_data.drop([\"label\", \"domain_name\", \"domain\"], axis=1)\n",
        "y = Domain_data[\"label\"]"
      ]
    },
    {
      "cell_type": "code",
      "execution_count": null,
      "metadata": {
        "id": "bnT1CNJBUSff"
      },
      "outputs": [],
      "source": [
        "from sklearn.preprocessing import LabelEncoder\n",
        "lb = LabelEncoder()\n",
        "\n",
        "y = lb.fit_transform(y)"
      ]
    },
    {
      "cell_type": "code",
      "execution_count": null,
      "metadata": {
        "id": "Z_IP9rDEcZ8r"
      },
      "outputs": [],
      "source": [
        "X_train, X_test, y_train, y_test = train_test_split(X, y, train_size=0.8, test_size=0.2, shuffle=True, stratify=y)"
      ]
    },
    {
      "cell_type": "code",
      "execution_count": null,
      "metadata": {
        "colab": {
          "base_uri": "https://localhost:8080/",
          "height": 348
        },
        "id": "dsypbUUycZ8q",
        "outputId": "a9654dfa-6346-4cfc-8f04-c14011ce71d4"
      },
      "outputs": [
        {
          "output_type": "stream",
          "name": "stderr",
          "text": [
            "/usr/local/lib/python3.7/dist-packages/seaborn/_decorators.py:43: FutureWarning: Pass the following variable as a keyword arg: x. From version 0.12, the only valid positional argument will be `data`, and passing other arguments without an explicit keyword will result in an error or misinterpretation.\n",
            "  FutureWarning\n"
          ]
        },
        {
          "output_type": "execute_result",
          "data": {
            "text/plain": [
              "<matplotlib.axes._subplots.AxesSubplot at 0x7ff00e6bef50>"
            ]
          },
          "metadata": {},
          "execution_count": 8
        },
        {
          "output_type": "display_data",
          "data": {
            "text/plain": [
              "<Figure size 432x288 with 1 Axes>"
            ],
            "image/png": "[encoded data removed]"
          },
          "metadata": {
            "needs_background": "light"
          }
        }
      ],
      "source": [
        "import seaborn as sns\n",
        "sns.countplot(y_train)"
      ]
    },
    {
      "cell_type": "code",
      "execution_count": null,
      "metadata": {
        "colab": {
          "base_uri": "https://localhost:8080/"
        },
        "id": "X-HmMOoRUkFz",
        "outputId": "363991df-6007-4e22-d77e-efa259a669f7"
      },
      "outputs": [
        {
          "output_type": "stream",
          "name": "stdout",
          "text": [
            "X train size:  (1661310, 10)\n",
            "y train size:  (1661310,)\n",
            "X test size:  (415328, 10)\n",
            "y test size:  (415328,)\n"
          ]
        }
      ],
      "source": [
        "print('X train size: ', X_train.shape)\n",
        "print('y train size: ', y_train.shape)\n",
        "print('X test size: ', X_test.shape)\n",
        "print('y test size: ', y_test.shape)"
      ]
    },
    {
      "cell_type": "markdown",
      "metadata": {
        "id": "mjLwlzX8If2U"
      },
      "source": [
        "## before smote"
      ]
    },
    {
      "cell_type": "markdown",
      "metadata": {
        "id": "g2I4ELKFJQZv"
      },
      "source": [
        "### LR"
      ]
    },
    {
      "cell_type": "code",
      "execution_count": null,
      "metadata": {
        "colab": {
          "base_uri": "https://localhost:8080/"
        },
        "id": "huYByM4NIpXT",
        "outputId": "1e68b1ce-2806-4112-d2c6-4d20f932a4f5"
      },
      "outputs": [
        {
          "name": "stderr",
          "output_type": "stream",
          "text": [
            "/usr/local/lib/python3.7/dist-packages/sklearn/linear_model/_logistic.py:818: ConvergenceWarning: lbfgs failed to converge (status=1):\n",
            "STOP: TOTAL NO. of ITERATIONS REACHED LIMIT.\n",
            "\n",
            "Increase the number of iterations (max_iter) or scale the data as shown in:\n",
            "    https://scikit-learn.org/stable/modules/preprocessing.html\n",
            "Please also refer to the documentation for alternative solver options:\n",
            "    https://scikit-learn.org/stable/modules/linear_model.html#logistic-regression\n",
            "  extra_warning_msg=_LOGISTIC_SOLVER_CONVERGENCE_MSG,\n"
          ]
        }
      ],
      "source": [
        "from sklearn.linear_model import LogisticRegression\n",
        "lrclf = LogisticRegression(random_state=0).fit(X_train, y_train)"
      ]
    },
    {
      "cell_type": "code",
      "execution_count": null,
      "metadata": {
        "colab": {
          "base_uri": "https://localhost:8080/"
        },
        "id": "5vV1F1UFIzK6",
        "outputId": "75e73098-dab0-44cd-d01c-2c0588985d9d"
      },
      "outputs": [
        {
          "name": "stdout",
          "output_type": "stream",
          "text": [
            "              precision    recall  f1-score   support\n",
            "\n",
            "           0       0.98      0.97      0.97    292721\n",
            "           1       0.92      0.94      0.93    122607\n",
            "\n",
            "    accuracy                           0.96    415328\n",
            "   macro avg       0.95      0.95      0.95    415328\n",
            "weighted avg       0.96      0.96      0.96    415328\n",
            "\n"
          ]
        }
      ],
      "source": [
        "from sklearn.metrics import plot_confusion_matrix,accuracy_score,classification_report\n",
        "ensemblepred = lrclf.predict(X_test)\n",
        "print(classification_report(y_test,ensemblepred))"
      ]
    },
    {
      "cell_type": "code",
      "execution_count": null,
      "metadata": {
        "id": "ykbh02GJIpXd"
      },
      "outputs": [],
      "source": [
        "from sklearn import metrics\n",
        "import matplotlib.pyplot as plt\n",
        "\n",
        "stppred = lrclf.predict_proba(X_test)[::,1]"
      ]
    },
    {
      "cell_type": "code",
      "execution_count": null,
      "metadata": {
        "id": "QTRImwtrIpXe"
      },
      "outputs": [],
      "source": [
        "fpr,tpr, _ = metrics.roc_curve(y_test,stppred)\n",
        "auc = metrics.roc_auc_score(y_test,stppred)"
      ]
    },
    {
      "cell_type": "code",
      "execution_count": null,
      "metadata": {
        "colab": {
          "base_uri": "https://localhost:8080/"
        },
        "id": "kE0l-cDqIpXe",
        "outputId": "21d5120d-9aa7-4ce2-a347-fd47d3ee90a0"
      },
      "outputs": [
        {
          "name": "stdout",
          "output_type": "stream",
          "text": [
            "0.9910674229687761\n"
          ]
        }
      ],
      "source": [
        "print(auc)"
      ]
    },
    {
      "cell_type": "code",
      "execution_count": null,
      "metadata": {
        "colab": {
          "base_uri": "https://localhost:8080/",
          "height": 312
        },
        "id": "T__mYju8IpXf",
        "outputId": "efcdbfc3-a3c9-4ce3-cf39-f5398df82ce9"
      },
      "outputs": [
        {
          "data": {
            "text/plain": [
              "<function matplotlib.pyplot.show>"
            ]
          },
          "execution_count": 45,
          "metadata": {},
          "output_type": "execute_result"
        },
        {
          "data": {
            "image/png": "[encoded data removed]",
            "text/plain": [
              "<Figure size 432x288 with 1 Axes>"
            ]
          },
          "metadata": {},
          "output_type": "display_data"
        }
      ],
      "source": [
        "plt.title('Receiver Operating Characterstic - staking')\n",
        "plt.plot(fpr,tpr, label = \"AUC = %0.5f\" % (auc))\n",
        "plt.ylabel('True Posetive Rate')\n",
        "plt.xlabel('False Posetive Rate')\n",
        "plt.show"
      ]
    },
    {
      "cell_type": "code",
      "execution_count": null,
      "metadata": {
        "id": "JuyrNnEPIpXf"
      },
      "outputs": [],
      "source": [
        "import pickle\n",
        "# save the model to disk\n",
        "filename = '/content/drive/My Drive/Colab Notebooks/BLRmodel.sav'\n",
        "pickle.dump(lrclf, open(filename, 'wb'))"
      ]
    },
    {
      "cell_type": "markdown",
      "metadata": {
        "id": "HdpEYkaMdhHr"
      },
      "source": [
        "### NB"
      ]
    },
    {
      "cell_type": "code",
      "execution_count": null,
      "metadata": {
        "id": "d-NBj1trIpXf"
      },
      "outputs": [],
      "source": [
        "from sklearn.naive_bayes import GaussianNB\n",
        "gnb = GaussianNB().fit(X_train, y_train)"
      ]
    },
    {
      "cell_type": "code",
      "execution_count": null,
      "metadata": {
        "colab": {
          "base_uri": "https://localhost:8080/"
        },
        "id": "frZ6QDUNIpXf",
        "outputId": "bb571bc0-a134-4f0a-ce6c-a84879887fe3"
      },
      "outputs": [
        {
          "name": "stdout",
          "output_type": "stream",
          "text": [
            "              precision    recall  f1-score   support\n",
            "\n",
            "           0       0.88      0.92      0.90    292721\n",
            "           1       0.78      0.69      0.73    122607\n",
            "\n",
            "    accuracy                           0.85    415328\n",
            "   macro avg       0.83      0.80      0.81    415328\n",
            "weighted avg       0.85      0.85      0.85    415328\n",
            "\n"
          ]
        }
      ],
      "source": [
        "from sklearn.metrics import plot_confusion_matrix,accuracy_score,classification_report\n",
        "ensemblepred = gnb.predict(X_test)\n",
        "print(classification_report(y_test,ensemblepred))"
      ]
    },
    {
      "cell_type": "code",
      "execution_count": null,
      "metadata": {
        "id": "FZd0i8CnIpXg"
      },
      "outputs": [],
      "source": [
        "from sklearn import metrics\n",
        "import matplotlib.pyplot as plt\n",
        "\n",
        "stppred = gnb.predict_proba(X_test)[::,1]"
      ]
    },
    {
      "cell_type": "code",
      "execution_count": null,
      "metadata": {
        "id": "0EUwtBD0IpXg"
      },
      "outputs": [],
      "source": [
        "fpr,tpr, _ = metrics.roc_curve(y_test,stppred)\n",
        "auc = metrics.roc_auc_score(y_test,stppred)"
      ]
    },
    {
      "cell_type": "code",
      "execution_count": null,
      "metadata": {
        "colab": {
          "base_uri": "https://localhost:8080/"
        },
        "id": "ojnnEFC5IpXg",
        "outputId": "f7be0d77-4115-4507-9646-d7c11ee09ada"
      },
      "outputs": [
        {
          "name": "stdout",
          "output_type": "stream",
          "text": [
            "0.9204801760482635\n"
          ]
        }
      ],
      "source": [
        "print(auc)"
      ]
    },
    {
      "cell_type": "code",
      "execution_count": null,
      "metadata": {
        "colab": {
          "base_uri": "https://localhost:8080/",
          "height": 312
        },
        "id": "NTkivWGAIpXg",
        "outputId": "30f128a8-f81e-4fab-bb30-31892b55b4c8"
      },
      "outputs": [
        {
          "data": {
            "text/plain": [
              "<function matplotlib.pyplot.show>"
            ]
          },
          "execution_count": 52,
          "metadata": {},
          "output_type": "execute_result"
        },
        {
          "data": {
            "image/png": "[encoded data removed]",
            "text/plain": [
              "<Figure size 432x288 with 1 Axes>"
            ]
          },
          "metadata": {},
          "output_type": "display_data"
        }
      ],
      "source": [
        "plt.title('Receiver Operating Characterstic - staking')\n",
        "plt.plot(fpr,tpr, label = \"AUC = %0.5f\" % (auc))\n",
        "plt.ylabel('True Posetive Rate')\n",
        "plt.xlabel('False Posetive Rate')\n",
        "plt.show"
      ]
    },
    {
      "cell_type": "code",
      "execution_count": null,
      "metadata": {
        "id": "ukwciFvAIpXh"
      },
      "outputs": [],
      "source": [
        "import pickle\n",
        "# save the model to disk\n",
        "filename = '/content/drive/My Drive/Colab Notebooks/BNBmodel.sav'\n",
        "pickle.dump(gnb, open(filename, 'wb'))"
      ]
    },
    {
      "cell_type": "markdown",
      "metadata": {
        "id": "69JhSK9YXEbI"
      },
      "source": [
        "### ST"
      ]
    },
    {
      "cell_type": "code",
      "execution_count": null,
      "metadata": {
        "colab": {
          "base_uri": "https://localhost:8080/"
        },
        "id": "6tb65GyuXI3O",
        "outputId": "c6780492-0df3-4b2d-8ad8-a9155e29d094"
      },
      "outputs": [
        {
          "name": "stderr",
          "output_type": "stream",
          "text": [
            "/usr/local/lib/python3.7/dist-packages/sklearn/linear_model/_logistic.py:818: ConvergenceWarning: lbfgs failed to converge (status=1):\n",
            "STOP: TOTAL NO. of ITERATIONS REACHED LIMIT.\n",
            "\n",
            "Increase the number of iterations (max_iter) or scale the data as shown in:\n",
            "    https://scikit-learn.org/stable/modules/preprocessing.html\n",
            "Please also refer to the documentation for alternative solver options:\n",
            "    https://scikit-learn.org/stable/modules/linear_model.html#logistic-regression\n",
            "  extra_warning_msg=_LOGISTIC_SOLVER_CONVERGENCE_MSG,\n",
            "/usr/local/lib/python3.7/dist-packages/sklearn/linear_model/_logistic.py:818: ConvergenceWarning: lbfgs failed to converge (status=1):\n",
            "STOP: TOTAL NO. of ITERATIONS REACHED LIMIT.\n",
            "\n",
            "Increase the number of iterations (max_iter) or scale the data as shown in:\n",
            "    https://scikit-learn.org/stable/modules/preprocessing.html\n",
            "Please also refer to the documentation for alternative solver options:\n",
            "    https://scikit-learn.org/stable/modules/linear_model.html#logistic-regression\n",
            "  extra_warning_msg=_LOGISTIC_SOLVER_CONVERGENCE_MSG,\n",
            "/usr/local/lib/python3.7/dist-packages/sklearn/linear_model/_logistic.py:818: ConvergenceWarning: lbfgs failed to converge (status=1):\n",
            "STOP: TOTAL NO. of ITERATIONS REACHED LIMIT.\n",
            "\n",
            "Increase the number of iterations (max_iter) or scale the data as shown in:\n",
            "    https://scikit-learn.org/stable/modules/preprocessing.html\n",
            "Please also refer to the documentation for alternative solver options:\n",
            "    https://scikit-learn.org/stable/modules/linear_model.html#logistic-regression\n",
            "  extra_warning_msg=_LOGISTIC_SOLVER_CONVERGENCE_MSG,\n",
            "/usr/local/lib/python3.7/dist-packages/sklearn/linear_model/_logistic.py:818: ConvergenceWarning: lbfgs failed to converge (status=1):\n",
            "STOP: TOTAL NO. of ITERATIONS REACHED LIMIT.\n",
            "\n",
            "Increase the number of iterations (max_iter) or scale the data as shown in:\n",
            "    https://scikit-learn.org/stable/modules/preprocessing.html\n",
            "Please also refer to the documentation for alternative solver options:\n",
            "    https://scikit-learn.org/stable/modules/linear_model.html#logistic-regression\n",
            "  extra_warning_msg=_LOGISTIC_SOLVER_CONVERGENCE_MSG,\n",
            "/usr/local/lib/python3.7/dist-packages/sklearn/linear_model/_logistic.py:818: ConvergenceWarning: lbfgs failed to converge (status=1):\n",
            "STOP: TOTAL NO. of ITERATIONS REACHED LIMIT.\n",
            "\n",
            "Increase the number of iterations (max_iter) or scale the data as shown in:\n",
            "    https://scikit-learn.org/stable/modules/preprocessing.html\n",
            "Please also refer to the documentation for alternative solver options:\n",
            "    https://scikit-learn.org/stable/modules/linear_model.html#logistic-regression\n",
            "  extra_warning_msg=_LOGISTIC_SOLVER_CONVERGENCE_MSG,\n",
            "/usr/local/lib/python3.7/dist-packages/sklearn/linear_model/_logistic.py:818: ConvergenceWarning: lbfgs failed to converge (status=1):\n",
            "STOP: TOTAL NO. of ITERATIONS REACHED LIMIT.\n",
            "\n",
            "Increase the number of iterations (max_iter) or scale the data as shown in:\n",
            "    https://scikit-learn.org/stable/modules/preprocessing.html\n",
            "Please also refer to the documentation for alternative solver options:\n",
            "    https://scikit-learn.org/stable/modules/linear_model.html#logistic-regression\n",
            "  extra_warning_msg=_LOGISTIC_SOLVER_CONVERGENCE_MSG,\n"
          ]
        }
      ],
      "source": [
        "# make a prediction with a stacking ensemble\n",
        "from sklearn.datasets import make_regression\n",
        "from sklearn.linear_model import LogisticRegression\n",
        "from sklearn.ensemble import StackingClassifier\n",
        "from sklearn.tree import DecisionTreeClassifier\n",
        "from sklearn.ensemble import ExtraTreesClassifier\n",
        "from sklearn.experimental import enable_halving_search_cv\n",
        "from sklearn.model_selection import HalvingGridSearchCV\n",
        "from sklearn import model_selection\n",
        "from xgboost import XGBClassifier\n",
        "from sklearn.naive_bayes import GaussianNB\n",
        "\n",
        "# define the base models\n",
        "estimators = []\n",
        "model1 = LogisticRegression()\n",
        "estimators.append(('lr', model1))\n",
        "model2 = DecisionTreeClassifier()\n",
        "estimators.append(('cart', model2))\n",
        "model4 = GaussianNB()\n",
        "estimators.append(('nb', model4))\n",
        "\n",
        "# define meta learner model\n",
        "level1 = LogisticRegression()\n",
        "\n",
        "# define the stacking ensemble\n",
        "ensemble = StackingClassifier(estimators=estimators,  final_estimator=level1).fit(X_train, y_train)"
      ]
    },
    {
      "cell_type": "code",
      "execution_count": null,
      "metadata": {
        "colab": {
          "base_uri": "https://localhost:8080/"
        },
        "id": "wwR2szAoXw4w",
        "outputId": "83d67447-2cdb-48e1-da6d-13080b44b2aa"
      },
      "outputs": [
        {
          "name": "stdout",
          "output_type": "stream",
          "text": [
            "              precision    recall  f1-score   support\n",
            "\n",
            "           0       0.98      0.98      0.98    292721\n",
            "           1       0.96      0.95      0.96    122607\n",
            "\n",
            "    accuracy                           0.98    415328\n",
            "   macro avg       0.97      0.97      0.97    415328\n",
            "weighted avg       0.98      0.98      0.98    415328\n",
            "\n"
          ]
        }
      ],
      "source": [
        "from sklearn.metrics import plot_confusion_matrix,accuracy_score,classification_report\n",
        "ensemblepred = ensemble.predict(X_test)\n",
        "print(classification_report(y_test,ensemblepred))"
      ]
    },
    {
      "cell_type": "code",
      "execution_count": null,
      "metadata": {
        "id": "NVfMZzljXw4w"
      },
      "outputs": [],
      "source": [
        "from sklearn import metrics\n",
        "import matplotlib.pyplot as plt\n",
        "\n",
        "stppred = ensemble.predict_proba(X_test)[::,1]"
      ]
    },
    {
      "cell_type": "code",
      "execution_count": null,
      "metadata": {
        "id": "ct4XdiH0Xw4w"
      },
      "outputs": [],
      "source": [
        "fpr,tpr, _ = metrics.roc_curve(y_test,stppred)\n",
        "auc = metrics.roc_auc_score(y_test,stppred)"
      ]
    },
    {
      "cell_type": "code",
      "execution_count": null,
      "metadata": {
        "colab": {
          "base_uri": "https://localhost:8080/"
        },
        "id": "zvkXjyf6Xw4x",
        "outputId": "f11db432-547b-4f8f-ba64-1d6c4ea860fa"
      },
      "outputs": [
        {
          "name": "stdout",
          "output_type": "stream",
          "text": [
            "0.9951587790976987\n"
          ]
        }
      ],
      "source": [
        "print(auc)"
      ]
    },
    {
      "cell_type": "code",
      "execution_count": null,
      "metadata": {
        "colab": {
          "base_uri": "https://localhost:8080/",
          "height": 312
        },
        "id": "MSb6kTIjXw4x",
        "outputId": "d0cca1c8-b931-448e-850f-58b77f0ef335"
      },
      "outputs": [
        {
          "data": {
            "text/plain": [
              "<function matplotlib.pyplot.show>"
            ]
          },
          "execution_count": 107,
          "metadata": {},
          "output_type": "execute_result"
        },
        {
          "data": {
            "image/png": "[encoded data removed]",
            "text/plain": [
              "<Figure size 432x288 with 1 Axes>"
            ]
          },
          "metadata": {},
          "output_type": "display_data"
        }
      ],
      "source": [
        "plt.title('Receiver Operating Characterstic - staking')\n",
        "plt.plot(fpr,tpr, label = \"AUC = %0.5f\" % (auc))\n",
        "plt.ylabel('True Posetive Rate')\n",
        "plt.xlabel('False Posetive Rate')\n",
        "plt.show"
      ]
    },
    {
      "cell_type": "code",
      "execution_count": null,
      "metadata": {
        "id": "dkjJOWyMXw4y"
      },
      "outputs": [],
      "source": [
        "import pickle\n",
        "# save the model to disk\n",
        "filename = '/content/drive/My Drive/Colab Notebooks/BSTmodel_untn.sav'\n",
        "pickle.dump(ensemble, open(filename, 'wb'))"
      ]
    },
    {
      "cell_type": "markdown",
      "metadata": {
        "id": "7_Q7RDmmYCBF"
      },
      "source": [
        "### VT"
      ]
    },
    {
      "cell_type": "code",
      "execution_count": null,
      "metadata": {
        "colab": {
          "base_uri": "https://localhost:8080/"
        },
        "id": "PG50yAV9Z2Jq",
        "outputId": "3da32708-99b2-49bf-86b1-a83c697c7749"
      },
      "outputs": [
        {
          "name": "stderr",
          "output_type": "stream",
          "text": [
            "/usr/local/lib/python3.7/dist-packages/sklearn/linear_model/_logistic.py:818: ConvergenceWarning: lbfgs failed to converge (status=1):\n",
            "STOP: TOTAL NO. of ITERATIONS REACHED LIMIT.\n",
            "\n",
            "Increase the number of iterations (max_iter) or scale the data as shown in:\n",
            "    https://scikit-learn.org/stable/modules/preprocessing.html\n",
            "Please also refer to the documentation for alternative solver options:\n",
            "    https://scikit-learn.org/stable/modules/linear_model.html#logistic-regression\n",
            "  extra_warning_msg=_LOGISTIC_SOLVER_CONVERGENCE_MSG,\n"
          ]
        }
      ],
      "source": [
        "from sklearn.ensemble import VotingClassifier, StackingClassifier\n",
        "# create the sub models\n",
        "\n",
        "# define the base models\n",
        "estimators = []\n",
        "model1 = LogisticRegression()\n",
        "estimators.append(('lr', model1))\n",
        "model2 = DecisionTreeClassifier()\n",
        "estimators.append(('cart', model2))\n",
        "model4 = GaussianNB()\n",
        "estimators.append(('nb', model4))\n",
        "\n",
        "\n",
        "# create the ensemble model\n",
        "VTensemble = VotingClassifier(estimators,voting='soft').fit(X_train, y_train)"
      ]
    },
    {
      "cell_type": "code",
      "execution_count": null,
      "metadata": {
        "colab": {
          "base_uri": "https://localhost:8080/"
        },
        "id": "v9pjXSFfa9CQ",
        "outputId": "f66a3b67-b053-466a-e67e-a854fb771484"
      },
      "outputs": [
        {
          "name": "stdout",
          "output_type": "stream",
          "text": [
            "              precision    recall  f1-score   support\n",
            "\n",
            "           0       0.98      0.97      0.98    292721\n",
            "           1       0.94      0.96      0.95    122607\n",
            "\n",
            "    accuracy                           0.97    415328\n",
            "   macro avg       0.96      0.97      0.96    415328\n",
            "weighted avg       0.97      0.97      0.97    415328\n",
            "\n"
          ]
        }
      ],
      "source": [
        "from sklearn.metrics import plot_confusion_matrix,accuracy_score,classification_report\n",
        "ensemblepred = VTensemble.predict(X_test)\n",
        "print(classification_report(y_test,ensemblepred))"
      ]
    },
    {
      "cell_type": "code",
      "execution_count": null,
      "metadata": {
        "id": "KnEhvNLZaDTI"
      },
      "outputs": [],
      "source": [
        "from sklearn import metrics\n",
        "import matplotlib.pyplot as plt\n",
        "\n",
        "stppred = VTensemble.predict_proba(X_test)[::,1]"
      ]
    },
    {
      "cell_type": "code",
      "execution_count": null,
      "metadata": {
        "id": "qKoi-RCWaDTI"
      },
      "outputs": [],
      "source": [
        "fpr,tpr, _ = metrics.roc_curve(y_test,stppred)\n",
        "auc = metrics.roc_auc_score(y_test,stppred)"
      ]
    },
    {
      "cell_type": "code",
      "execution_count": null,
      "metadata": {
        "colab": {
          "base_uri": "https://localhost:8080/"
        },
        "id": "kqdc7IHeaDTI",
        "outputId": "bc229094-db6d-4095-c69a-36478885da05"
      },
      "outputs": [
        {
          "name": "stdout",
          "output_type": "stream",
          "text": [
            "0.9919460657691941\n"
          ]
        }
      ],
      "source": [
        "print(auc)"
      ]
    },
    {
      "cell_type": "code",
      "execution_count": null,
      "metadata": {
        "colab": {
          "base_uri": "https://localhost:8080/",
          "height": 312
        },
        "id": "u27ng81CaDTJ",
        "outputId": "c7a613a0-ec61-4027-deaa-abcecc64100b"
      },
      "outputs": [
        {
          "data": {
            "text/plain": [
              "<function matplotlib.pyplot.show>"
            ]
          },
          "execution_count": 117,
          "metadata": {},
          "output_type": "execute_result"
        },
        {
          "data": {
            "image/png": "[encoded data removed]",
            "text/plain": [
              "<Figure size 432x288 with 1 Axes>"
            ]
          },
          "metadata": {},
          "output_type": "display_data"
        }
      ],
      "source": [
        "plt.title('Receiver Operating Characterstic - voting')\n",
        "plt.plot(fpr,tpr, label = \"AUC = %0.5f\" % (auc))\n",
        "plt.ylabel('True Posetive Rate')\n",
        "plt.xlabel('False Posetive Rate')\n",
        "plt.show"
      ]
    },
    {
      "cell_type": "code",
      "execution_count": null,
      "metadata": {
        "id": "sGeSzljtaDTJ"
      },
      "outputs": [],
      "source": [
        "import pickle\n",
        "# save the model to disk\n",
        "filename = '/content/drive/My Drive/Colab Notebooks/BVTmodel_untn.sav'\n",
        "pickle.dump(VTensemble, open(filename, 'wb'))"
      ]
    },
    {
      "cell_type": "markdown",
      "metadata": {
        "id": "4eYDGGixJk9I"
      },
      "source": [
        "## After smote"
      ]
    },
    {
      "cell_type": "code",
      "execution_count": null,
      "metadata": {
        "id": "at7YFiSdUoFC"
      },
      "outputs": [],
      "source": [
        "from imblearn.over_sampling import SMOTE\n",
        "smote = SMOTE()\n",
        "X_train, y_train = smote.fit_resample(X_train, y_train)"
      ]
    },
    {
      "cell_type": "markdown",
      "metadata": {
        "id": "YCq4d5zRdRgV"
      },
      "source": [
        "#### ST"
      ]
    },
    {
      "cell_type": "code",
      "execution_count": null,
      "metadata": {
        "colab": {
          "base_uri": "https://localhost:8080/"
        },
        "id": "iLAojGqAdRgW",
        "outputId": "86468ee9-0f92-4335-a24b-a64fe62610fd"
      },
      "outputs": [
        {
          "output_type": "stream",
          "name": "stderr",
          "text": [
            "/usr/local/lib/python3.7/dist-packages/sklearn/linear_model/_logistic.py:818: ConvergenceWarning: lbfgs failed to converge (status=1):\n",
            "STOP: TOTAL NO. of ITERATIONS REACHED LIMIT.\n",
            "\n",
            "Increase the number of iterations (max_iter) or scale the data as shown in:\n",
            "    https://scikit-learn.org/stable/modules/preprocessing.html\n",
            "Please also refer to the documentation for alternative solver options:\n",
            "    https://scikit-learn.org/stable/modules/linear_model.html#logistic-regression\n",
            "  extra_warning_msg=_LOGISTIC_SOLVER_CONVERGENCE_MSG,\n",
            "/usr/local/lib/python3.7/dist-packages/sklearn/linear_model/_logistic.py:818: ConvergenceWarning: lbfgs failed to converge (status=1):\n",
            "STOP: TOTAL NO. of ITERATIONS REACHED LIMIT.\n",
            "\n",
            "Increase the number of iterations (max_iter) or scale the data as shown in:\n",
            "    https://scikit-learn.org/stable/modules/preprocessing.html\n",
            "Please also refer to the documentation for alternative solver options:\n",
            "    https://scikit-learn.org/stable/modules/linear_model.html#logistic-regression\n",
            "  extra_warning_msg=_LOGISTIC_SOLVER_CONVERGENCE_MSG,\n",
            "/usr/local/lib/python3.7/dist-packages/sklearn/linear_model/_logistic.py:818: ConvergenceWarning: lbfgs failed to converge (status=1):\n",
            "STOP: TOTAL NO. of ITERATIONS REACHED LIMIT.\n",
            "\n",
            "Increase the number of iterations (max_iter) or scale the data as shown in:\n",
            "    https://scikit-learn.org/stable/modules/preprocessing.html\n",
            "Please also refer to the documentation for alternative solver options:\n",
            "    https://scikit-learn.org/stable/modules/linear_model.html#logistic-regression\n",
            "  extra_warning_msg=_LOGISTIC_SOLVER_CONVERGENCE_MSG,\n",
            "/usr/local/lib/python3.7/dist-packages/sklearn/linear_model/_logistic.py:818: ConvergenceWarning: lbfgs failed to converge (status=1):\n",
            "STOP: TOTAL NO. of ITERATIONS REACHED LIMIT.\n",
            "\n",
            "Increase the number of iterations (max_iter) or scale the data as shown in:\n",
            "    https://scikit-learn.org/stable/modules/preprocessing.html\n",
            "Please also refer to the documentation for alternative solver options:\n",
            "    https://scikit-learn.org/stable/modules/linear_model.html#logistic-regression\n",
            "  extra_warning_msg=_LOGISTIC_SOLVER_CONVERGENCE_MSG,\n",
            "/usr/local/lib/python3.7/dist-packages/sklearn/linear_model/_logistic.py:818: ConvergenceWarning: lbfgs failed to converge (status=1):\n",
            "STOP: TOTAL NO. of ITERATIONS REACHED LIMIT.\n",
            "\n",
            "Increase the number of iterations (max_iter) or scale the data as shown in:\n",
            "    https://scikit-learn.org/stable/modules/preprocessing.html\n",
            "Please also refer to the documentation for alternative solver options:\n",
            "    https://scikit-learn.org/stable/modules/linear_model.html#logistic-regression\n",
            "  extra_warning_msg=_LOGISTIC_SOLVER_CONVERGENCE_MSG,\n",
            "/usr/local/lib/python3.7/dist-packages/sklearn/linear_model/_logistic.py:818: ConvergenceWarning: lbfgs failed to converge (status=1):\n",
            "STOP: TOTAL NO. of ITERATIONS REACHED LIMIT.\n",
            "\n",
            "Increase the number of iterations (max_iter) or scale the data as shown in:\n",
            "    https://scikit-learn.org/stable/modules/preprocessing.html\n",
            "Please also refer to the documentation for alternative solver options:\n",
            "    https://scikit-learn.org/stable/modules/linear_model.html#logistic-regression\n",
            "  extra_warning_msg=_LOGISTIC_SOLVER_CONVERGENCE_MSG,\n"
          ]
        }
      ],
      "source": [
        "# make a prediction with a stacking ensemble\n",
        "from sklearn.datasets import make_regression\n",
        "from sklearn.linear_model import LogisticRegression\n",
        "from sklearn.ensemble import StackingClassifier\n",
        "from sklearn.tree import DecisionTreeClassifier\n",
        "from sklearn.ensemble import ExtraTreesClassifier\n",
        "from sklearn.experimental import enable_halving_search_cv\n",
        "from sklearn.model_selection import HalvingGridSearchCV\n",
        "from sklearn import model_selection\n",
        "from xgboost import XGBClassifier\n",
        "from sklearn.naive_bayes import GaussianNB\n",
        "\n",
        "# define the base models\n",
        "estimators = []\n",
        "model1 = LogisticRegression()\n",
        "estimators.append(('lr', model1))\n",
        "model2 = DecisionTreeClassifier()\n",
        "estimators.append(('cart', model2))\n",
        "model4 = GaussianNB()\n",
        "estimators.append(('nb', model4))\n",
        "\n",
        "# define meta learner model\n",
        "level1 = LogisticRegression()\n",
        "\n",
        "# define the stacking ensemble\n",
        "ensemble = StackingClassifier(estimators=estimators,  final_estimator=level1).fit(X_train, y_train)"
      ]
    },
    {
      "cell_type": "code",
      "execution_count": null,
      "metadata": {
        "colab": {
          "base_uri": "https://localhost:8080/"
        },
        "id": "vjzFyNM3dRgX",
        "outputId": "7038ece4-6369-42ec-f86f-aa6a51defab7"
      },
      "outputs": [
        {
          "name": "stdout",
          "output_type": "stream",
          "text": [
            "              precision    recall  f1-score   support\n",
            "\n",
            "           0       0.98      0.98      0.98    292721\n",
            "           1       0.96      0.96      0.96    122607\n",
            "\n",
            "    accuracy                           0.98    415328\n",
            "   macro avg       0.97      0.97      0.97    415328\n",
            "weighted avg       0.98      0.98      0.98    415328\n",
            "\n"
          ]
        }
      ],
      "source": [
        "from sklearn.metrics import plot_confusion_matrix,accuracy_score,classification_report\n",
        "ensemblepred = ensemble.predict(X_test)\n",
        "print(classification_report(y_test,ensemblepred))"
      ]
    },
    {
      "cell_type": "code",
      "execution_count": null,
      "metadata": {
        "id": "yy9JbcA-dRgX"
      },
      "outputs": [],
      "source": [
        "from sklearn import metrics\n",
        "import matplotlib.pyplot as plt\n",
        "\n",
        "stppred = ensemble.predict_proba(X_test)[::,1]"
      ]
    },
    {
      "cell_type": "code",
      "execution_count": null,
      "metadata": {
        "id": "_PgpszcHdRgY"
      },
      "outputs": [],
      "source": [
        "fpr,tpr, _ = metrics.roc_curve(y_test,stppred)\n",
        "auc = metrics.roc_auc_score(y_test,stppred)"
      ]
    },
    {
      "cell_type": "code",
      "execution_count": null,
      "metadata": {
        "colab": {
          "base_uri": "https://localhost:8080/"
        },
        "id": "LPdieZa6dRgY",
        "outputId": "fd41e3dd-c640-4588-d904-d98c8c0a57ed"
      },
      "outputs": [
        {
          "name": "stdout",
          "output_type": "stream",
          "text": [
            "0.9951399344692413\n"
          ]
        }
      ],
      "source": [
        "print(auc)"
      ]
    },
    {
      "cell_type": "code",
      "execution_count": null,
      "metadata": {
        "colab": {
          "base_uri": "https://localhost:8080/",
          "height": 312
        },
        "id": "3Snp0wUxdRgY",
        "outputId": "278899d3-e9bf-4c74-faf5-1d83e7ba39b3"
      },
      "outputs": [
        {
          "data": {
            "text/plain": [
              "<function matplotlib.pyplot.show>"
            ]
          },
          "execution_count": 140,
          "metadata": {},
          "output_type": "execute_result"
        },
        {
          "data": {
            "image/png": "[encoded data removed]",
            "text/plain": [
              "<Figure size 432x288 with 1 Axes>"
            ]
          },
          "metadata": {},
          "output_type": "display_data"
        }
      ],
      "source": [
        "plt.title('Receiver Operating Characterstic - staking')\n",
        "plt.plot(fpr,tpr, label = \"AUC = %0.5f\" % (auc))\n",
        "plt.ylabel('True Posetive Rate')\n",
        "plt.xlabel('False Posetive Rate')\n",
        "plt.show"
      ]
    },
    {
      "cell_type": "code",
      "execution_count": null,
      "metadata": {
        "id": "O1TybODGdRgZ"
      },
      "outputs": [],
      "source": [
        "import pickle\n",
        "# save the model to disk\n",
        "filename = '/content/drive/My Drive/Colab Notebooks/BSTmodel_untn_sm.sav'\n",
        "pickle.dump(ensemble, open(filename, 'wb'))"
      ]
    },
    {
      "cell_type": "markdown",
      "metadata": {
        "id": "EJzarINcDGux"
      },
      "source": [
        "#### tuning ST"
      ]
    },
    {
      "cell_type": "code",
      "execution_count": null,
      "metadata": {
        "id": "IHelvPyCDJTJ",
        "colab": {
          "base_uri": "https://localhost:8080/",
          "height": 345
        },
        "outputId": "7c0181c2-6562-4e0e-e553-b5a96b4b5879"
      },
      "outputs": [
        {
          "output_type": "error",
          "ename": "KeyboardInterrupt",
          "evalue": "ignored",
          "traceback": [
            "\u001b[0;31m---------------------------------------------------------------------------\u001b[0m",
            "\u001b[0;31mKeyboardInterrupt\u001b[0m                         Traceback (most recent call last)",
            "\u001b[0;32m<ipython-input-14-3bd2cd3ebd8e>\u001b[0m in \u001b[0;36m<module>\u001b[0;34m()\u001b[0m\n\u001b[1;32m     32\u001b[0m       }\n\u001b[1;32m     33\u001b[0m \u001b[0;34m\u001b[0m\u001b[0m\n\u001b[0;32m---> 34\u001b[0;31m \u001b[0mgrid\u001b[0m\u001b[0;34m=\u001b[0m\u001b[0mHalvingGridSearchCV\u001b[0m\u001b[0;34m(\u001b[0m\u001b[0mensemble\u001b[0m\u001b[0;34m,\u001b[0m \u001b[0mparams\u001b[0m\u001b[0;34m,\u001b[0m\u001b[0mcv\u001b[0m\u001b[0;34m=\u001b[0m\u001b[0;36m10\u001b[0m\u001b[0;34m)\u001b[0m\u001b[0;34m.\u001b[0m\u001b[0mfit\u001b[0m\u001b[0;34m(\u001b[0m\u001b[0mX_train\u001b[0m\u001b[0;34m,\u001b[0m \u001b[0my_train\u001b[0m\u001b[0;34m)\u001b[0m\u001b[0;34m\u001b[0m\u001b[0;34m\u001b[0m\u001b[0m\n\u001b[0m",
            "\u001b[0;32m/usr/local/lib/python3.7/dist-packages/sklearn/model_selection/_search_successive_halving.py\u001b[0m in \u001b[0;36mfit\u001b[0;34m(self, X, y, groups, **fit_params)\u001b[0m\n\u001b[1;32m    260\u001b[0m         \u001b[0mself\u001b[0m\u001b[0;34m.\u001b[0m\u001b[0m_n_samples_orig\u001b[0m \u001b[0;34m=\u001b[0m \u001b[0m_num_samples\u001b[0m\u001b[0;34m(\u001b[0m\u001b[0mX\u001b[0m\u001b[0;34m)\u001b[0m\u001b[0;34m\u001b[0m\u001b[0;34m\u001b[0m\u001b[0m\n\u001b[1;32m    261\u001b[0m \u001b[0;34m\u001b[0m\u001b[0m\n\u001b[0;32m--> 262\u001b[0;31m         \u001b[0msuper\u001b[0m\u001b[0;34m(\u001b[0m\u001b[0;34m)\u001b[0m\u001b[0;34m.\u001b[0m\u001b[0mfit\u001b[0m\u001b[0;34m(\u001b[0m\u001b[0mX\u001b[0m\u001b[0;34m,\u001b[0m \u001b[0my\u001b[0m\u001b[0;34m=\u001b[0m\u001b[0my\u001b[0m\u001b[0;34m,\u001b[0m \u001b[0mgroups\u001b[0m\u001b[0;34m=\u001b[0m\u001b[0mgroups\u001b[0m\u001b[0;34m,\u001b[0m \u001b[0;34m**\u001b[0m\u001b[0mfit_params\u001b[0m\u001b[0;34m)\u001b[0m\u001b[0;34m\u001b[0m\u001b[0;34m\u001b[0m\u001b[0m\n\u001b[0m\u001b[1;32m    263\u001b[0m \u001b[0;34m\u001b[0m\u001b[0m\n\u001b[1;32m    264\u001b[0m         \u001b[0;31m# Set best_score_: BaseSearchCV does not set it, as refit is a callable\u001b[0m\u001b[0;34m\u001b[0m\u001b[0;34m\u001b[0m\u001b[0;34m\u001b[0m\u001b[0m\n",
            "\u001b[0;32m/usr/local/lib/python3.7/dist-packages/sklearn/model_selection/_search.py\u001b[0m in \u001b[0;36mfit\u001b[0;34m(self, X, y, groups, **fit_params)\u001b[0m\n\u001b[1;32m    889\u001b[0m                 \u001b[0;32mreturn\u001b[0m \u001b[0mresults\u001b[0m\u001b[0;34m\u001b[0m\u001b[0;34m\u001b[0m\u001b[0m\n\u001b[1;32m    890\u001b[0m \u001b[0;34m\u001b[0m\u001b[0m\n\u001b[0;32m--> 891\u001b[0;31m             \u001b[0mself\u001b[0m\u001b[0;34m.\u001b[0m\u001b[0m_run_search\u001b[0m\u001b[0;34m(\u001b[0m\u001b[0mevaluate_candidates\u001b[0m\u001b[0;34m)\u001b[0m\u001b[0;34m\u001b[0m\u001b[0;34m\u001b[0m\u001b[0m\n\u001b[0m\u001b[1;32m    892\u001b[0m \u001b[0;34m\u001b[0m\u001b[0m\n\u001b[1;32m    893\u001b[0m             \u001b[0;31m# multimetric is determined here because in the case of a callable\u001b[0m\u001b[0;34m\u001b[0m\u001b[0;34m\u001b[0m\u001b[0;34m\u001b[0m\u001b[0m\n",
            "\u001b[0;32m/usr/local/lib/python3.7/dist-packages/sklearn/model_selection/_search_successive_halving.py\u001b[0m in \u001b[0;36m_run_search\u001b[0;34m(self, evaluate_candidates)\u001b[0m\n\u001b[1;32m    366\u001b[0m \u001b[0;34m\u001b[0m\u001b[0m\n\u001b[1;32m    367\u001b[0m             results = evaluate_candidates(\n\u001b[0;32m--> 368\u001b[0;31m                 \u001b[0mcandidate_params\u001b[0m\u001b[0;34m,\u001b[0m \u001b[0mcv\u001b[0m\u001b[0;34m,\u001b[0m \u001b[0mmore_results\u001b[0m\u001b[0;34m=\u001b[0m\u001b[0mmore_results\u001b[0m\u001b[0;34m\u001b[0m\u001b[0;34m\u001b[0m\u001b[0m\n\u001b[0m\u001b[1;32m    369\u001b[0m             )\n\u001b[1;32m    370\u001b[0m \u001b[0;34m\u001b[0m\u001b[0m\n",
            "\u001b[0;32m/usr/local/lib/python3.7/dist-packages/sklearn/model_selection/_search.py\u001b[0m in \u001b[0;36mevaluate_candidates\u001b[0;34m(candidate_params, cv, more_results)\u001b[0m\n\u001b[1;32m    849\u001b[0m                     )\n\u001b[1;32m    850\u001b[0m                     for (cand_idx, parameters), (split_idx, (train, test)) in product(\n\u001b[0;32m--> 851\u001b[0;31m                         \u001b[0menumerate\u001b[0m\u001b[0;34m(\u001b[0m\u001b[0mcandidate_params\u001b[0m\u001b[0;34m)\u001b[0m\u001b[0;34m,\u001b[0m \u001b[0menumerate\u001b[0m\u001b[0;34m(\u001b[0m\u001b[0mcv\u001b[0m\u001b[0;34m.\u001b[0m\u001b[0msplit\u001b[0m\u001b[0;34m(\u001b[0m\u001b[0mX\u001b[0m\u001b[0;34m,\u001b[0m \u001b[0my\u001b[0m\u001b[0;34m,\u001b[0m \u001b[0mgroups\u001b[0m\u001b[0;34m)\u001b[0m\u001b[0;34m)\u001b[0m\u001b[0;34m\u001b[0m\u001b[0;34m\u001b[0m\u001b[0m\n\u001b[0m\u001b[1;32m    852\u001b[0m                     )\n\u001b[1;32m    853\u001b[0m                 )\n",
            "\u001b[0;32m/usr/local/lib/python3.7/dist-packages/joblib/parallel.py\u001b[0m in \u001b[0;36m__call__\u001b[0;34m(self, iterable)\u001b[0m\n\u001b[1;32m   1044\u001b[0m                 \u001b[0mself\u001b[0m\u001b[0;34m.\u001b[0m\u001b[0m_iterating\u001b[0m \u001b[0;34m=\u001b[0m \u001b[0mself\u001b[0m\u001b[0;34m.\u001b[0m\u001b[0m_original_iterator\u001b[0m \u001b[0;32mis\u001b[0m \u001b[0;32mnot\u001b[0m \u001b[0;32mNone\u001b[0m\u001b[0;34m\u001b[0m\u001b[0;34m\u001b[0m\u001b[0m\n\u001b[1;32m   1045\u001b[0m \u001b[0;34m\u001b[0m\u001b[0m\n\u001b[0;32m-> 1046\u001b[0;31m             \u001b[0;32mwhile\u001b[0m \u001b[0mself\u001b[0m\u001b[0;34m.\u001b[0m\u001b[0mdispatch_one_batch\u001b[0m\u001b[0;34m(\u001b[0m\u001b[0miterator\u001b[0m\u001b[0;34m)\u001b[0m\u001b[0;34m:\u001b[0m\u001b[0;34m\u001b[0m\u001b[0;34m\u001b[0m\u001b[0m\n\u001b[0m\u001b[1;32m   1047\u001b[0m                 \u001b[0;32mpass\u001b[0m\u001b[0;34m\u001b[0m\u001b[0;34m\u001b[0m\u001b[0m\n\u001b[1;32m   1048\u001b[0m \u001b[0;34m\u001b[0m\u001b[0m\n",
            "\u001b[0;32m/usr/local/lib/python3.7/dist-packages/joblib/parallel.py\u001b[0m in \u001b[0;36mdispatch_one_batch\u001b[0;34m(self, iterator)\u001b[0m\n\u001b[1;32m    859\u001b[0m                 \u001b[0;32mreturn\u001b[0m \u001b[0;32mFalse\u001b[0m\u001b[0;34m\u001b[0m\u001b[0;34m\u001b[0m\u001b[0m\n\u001b[1;32m    860\u001b[0m             \u001b[0;32melse\u001b[0m\u001b[0;34m:\u001b[0m\u001b[0;34m\u001b[0m\u001b[0;34m\u001b[0m\u001b[0m\n\u001b[0;32m--> 861\u001b[0;31m                 \u001b[0mself\u001b[0m\u001b[0;34m.\u001b[0m\u001b[0m_dispatch\u001b[0m\u001b[0;34m(\u001b[0m\u001b[0mtasks\u001b[0m\u001b[0;34m)\u001b[0m\u001b[0;34m\u001b[0m\u001b[0;34m\u001b[0m\u001b[0m\n\u001b[0m\u001b[1;32m    862\u001b[0m                 \u001b[0;32mreturn\u001b[0m \u001b[0;32mTrue\u001b[0m\u001b[0;34m\u001b[0m\u001b[0;34m\u001b[0m\u001b[0m\n\u001b[1;32m    863\u001b[0m \u001b[0;34m\u001b[0m\u001b[0m\n",
            "\u001b[0;32m/usr/local/lib/python3.7/dist-packages/joblib/parallel.py\u001b[0m in \u001b[0;36m_dispatch\u001b[0;34m(self, batch)\u001b[0m\n\u001b[1;32m    777\u001b[0m         \u001b[0;32mwith\u001b[0m \u001b[0mself\u001b[0m\u001b[0;34m.\u001b[0m\u001b[0m_lock\u001b[0m\u001b[0;34m:\u001b[0m\u001b[0;34m\u001b[0m\u001b[0;34m\u001b[0m\u001b[0m\n\u001b[1;32m    778\u001b[0m             \u001b[0mjob_idx\u001b[0m \u001b[0;34m=\u001b[0m \u001b[0mlen\u001b[0m\u001b[0;34m(\u001b[0m\u001b[0mself\u001b[0m\u001b[0;34m.\u001b[0m\u001b[0m_jobs\u001b[0m\u001b[0;34m)\u001b[0m\u001b[0;34m\u001b[0m\u001b[0;34m\u001b[0m\u001b[0m\n\u001b[0;32m--> 779\u001b[0;31m             \u001b[0mjob\u001b[0m \u001b[0;34m=\u001b[0m \u001b[0mself\u001b[0m\u001b[0;34m.\u001b[0m\u001b[0m_backend\u001b[0m\u001b[0;34m.\u001b[0m\u001b[0mapply_async\u001b[0m\u001b[0;34m(\u001b[0m\u001b[0mbatch\u001b[0m\u001b[0;34m,\u001b[0m \u001b[0mcallback\u001b[0m\u001b[0;34m=\u001b[0m\u001b[0mcb\u001b[0m\u001b[0;34m)\u001b[0m\u001b[0;34m\u001b[0m\u001b[0;34m\u001b[0m\u001b[0m\n\u001b[0m\u001b[1;32m    780\u001b[0m             \u001b[0;31m# A job can complete so quickly than its callback is\u001b[0m\u001b[0;34m\u001b[0m\u001b[0;34m\u001b[0m\u001b[0;34m\u001b[0m\u001b[0m\n\u001b[1;32m    781\u001b[0m             \u001b[0;31m# called before we get here, causing self._jobs to\u001b[0m\u001b[0;34m\u001b[0m\u001b[0;34m\u001b[0m\u001b[0;34m\u001b[0m\u001b[0m\n",
            "\u001b[0;32m/usr/local/lib/python3.7/dist-packages/joblib/_parallel_backends.py\u001b[0m in \u001b[0;36mapply_async\u001b[0;34m(self, func, callback)\u001b[0m\n\u001b[1;32m    206\u001b[0m     \u001b[0;32mdef\u001b[0m \u001b[0mapply_async\u001b[0m\u001b[0;34m(\u001b[0m\u001b[0mself\u001b[0m\u001b[0;34m,\u001b[0m \u001b[0mfunc\u001b[0m\u001b[0;34m,\u001b[0m \u001b[0mcallback\u001b[0m\u001b[0;34m=\u001b[0m\u001b[0;32mNone\u001b[0m\u001b[0;34m)\u001b[0m\u001b[0;34m:\u001b[0m\u001b[0;34m\u001b[0m\u001b[0;34m\u001b[0m\u001b[0m\n\u001b[1;32m    207\u001b[0m         \u001b[0;34m\"\"\"Schedule a func to be run\"\"\"\u001b[0m\u001b[0;34m\u001b[0m\u001b[0;34m\u001b[0m\u001b[0m\n\u001b[0;32m--> 208\u001b[0;31m         \u001b[0mresult\u001b[0m \u001b[0;34m=\u001b[0m \u001b[0mImmediateResult\u001b[0m\u001b[0;34m(\u001b[0m\u001b[0mfunc\u001b[0m\u001b[0;34m)\u001b[0m\u001b[0;34m\u001b[0m\u001b[0;34m\u001b[0m\u001b[0m\n\u001b[0m\u001b[1;32m    209\u001b[0m         \u001b[0;32mif\u001b[0m \u001b[0mcallback\u001b[0m\u001b[0;34m:\u001b[0m\u001b[0;34m\u001b[0m\u001b[0;34m\u001b[0m\u001b[0m\n\u001b[1;32m    210\u001b[0m             \u001b[0mcallback\u001b[0m\u001b[0;34m(\u001b[0m\u001b[0mresult\u001b[0m\u001b[0;34m)\u001b[0m\u001b[0;34m\u001b[0m\u001b[0;34m\u001b[0m\u001b[0m\n",
            "\u001b[0;32m/usr/local/lib/python3.7/dist-packages/joblib/_parallel_backends.py\u001b[0m in \u001b[0;36m__init__\u001b[0;34m(self, batch)\u001b[0m\n\u001b[1;32m    570\u001b[0m         \u001b[0;31m# Don't delay the application, to avoid keeping the input\u001b[0m\u001b[0;34m\u001b[0m\u001b[0;34m\u001b[0m\u001b[0;34m\u001b[0m\u001b[0m\n\u001b[1;32m    571\u001b[0m         \u001b[0;31m# arguments in memory\u001b[0m\u001b[0;34m\u001b[0m\u001b[0;34m\u001b[0m\u001b[0;34m\u001b[0m\u001b[0m\n\u001b[0;32m--> 572\u001b[0;31m         \u001b[0mself\u001b[0m\u001b[0;34m.\u001b[0m\u001b[0mresults\u001b[0m \u001b[0;34m=\u001b[0m \u001b[0mbatch\u001b[0m\u001b[0;34m(\u001b[0m\u001b[0;34m)\u001b[0m\u001b[0;34m\u001b[0m\u001b[0;34m\u001b[0m\u001b[0m\n\u001b[0m\u001b[1;32m    573\u001b[0m \u001b[0;34m\u001b[0m\u001b[0m\n\u001b[1;32m    574\u001b[0m     \u001b[0;32mdef\u001b[0m \u001b[0mget\u001b[0m\u001b[0;34m(\u001b[0m\u001b[0mself\u001b[0m\u001b[0;34m)\u001b[0m\u001b[0;34m:\u001b[0m\u001b[0;34m\u001b[0m\u001b[0;34m\u001b[0m\u001b[0m\n",
            "\u001b[0;32m/usr/local/lib/python3.7/dist-packages/joblib/parallel.py\u001b[0m in \u001b[0;36m__call__\u001b[0;34m(self)\u001b[0m\n\u001b[1;32m    261\u001b[0m         \u001b[0;32mwith\u001b[0m \u001b[0mparallel_backend\u001b[0m\u001b[0;34m(\u001b[0m\u001b[0mself\u001b[0m\u001b[0;34m.\u001b[0m\u001b[0m_backend\u001b[0m\u001b[0;34m,\u001b[0m \u001b[0mn_jobs\u001b[0m\u001b[0;34m=\u001b[0m\u001b[0mself\u001b[0m\u001b[0;34m.\u001b[0m\u001b[0m_n_jobs\u001b[0m\u001b[0;34m)\u001b[0m\u001b[0;34m:\u001b[0m\u001b[0;34m\u001b[0m\u001b[0;34m\u001b[0m\u001b[0m\n\u001b[1;32m    262\u001b[0m             return [func(*args, **kwargs)\n\u001b[0;32m--> 263\u001b[0;31m                     for func, args, kwargs in self.items]\n\u001b[0m\u001b[1;32m    264\u001b[0m \u001b[0;34m\u001b[0m\u001b[0m\n\u001b[1;32m    265\u001b[0m     \u001b[0;32mdef\u001b[0m \u001b[0m__reduce__\u001b[0m\u001b[0;34m(\u001b[0m\u001b[0mself\u001b[0m\u001b[0;34m)\u001b[0m\u001b[0;34m:\u001b[0m\u001b[0;34m\u001b[0m\u001b[0;34m\u001b[0m\u001b[0m\n",
            "\u001b[0;32m/usr/local/lib/python3.7/dist-packages/joblib/parallel.py\u001b[0m in \u001b[0;36m<listcomp>\u001b[0;34m(.0)\u001b[0m\n\u001b[1;32m    261\u001b[0m         \u001b[0;32mwith\u001b[0m \u001b[0mparallel_backend\u001b[0m\u001b[0;34m(\u001b[0m\u001b[0mself\u001b[0m\u001b[0;34m.\u001b[0m\u001b[0m_backend\u001b[0m\u001b[0;34m,\u001b[0m \u001b[0mn_jobs\u001b[0m\u001b[0;34m=\u001b[0m\u001b[0mself\u001b[0m\u001b[0;34m.\u001b[0m\u001b[0m_n_jobs\u001b[0m\u001b[0;34m)\u001b[0m\u001b[0;34m:\u001b[0m\u001b[0;34m\u001b[0m\u001b[0;34m\u001b[0m\u001b[0m\n\u001b[1;32m    262\u001b[0m             return [func(*args, **kwargs)\n\u001b[0;32m--> 263\u001b[0;31m                     for func, args, kwargs in self.items]\n\u001b[0m\u001b[1;32m    264\u001b[0m \u001b[0;34m\u001b[0m\u001b[0m\n\u001b[1;32m    265\u001b[0m     \u001b[0;32mdef\u001b[0m \u001b[0m__reduce__\u001b[0m\u001b[0;34m(\u001b[0m\u001b[0mself\u001b[0m\u001b[0;34m)\u001b[0m\u001b[0;34m:\u001b[0m\u001b[0;34m\u001b[0m\u001b[0;34m\u001b[0m\u001b[0m\n",
            "\u001b[0;32m/usr/local/lib/python3.7/dist-packages/sklearn/utils/fixes.py\u001b[0m in \u001b[0;36m__call__\u001b[0;34m(self, *args, **kwargs)\u001b[0m\n\u001b[1;32m    214\u001b[0m     \u001b[0;32mdef\u001b[0m \u001b[0m__call__\u001b[0m\u001b[0;34m(\u001b[0m\u001b[0mself\u001b[0m\u001b[0;34m,\u001b[0m \u001b[0;34m*\u001b[0m\u001b[0margs\u001b[0m\u001b[0;34m,\u001b[0m \u001b[0;34m**\u001b[0m\u001b[0mkwargs\u001b[0m\u001b[0;34m)\u001b[0m\u001b[0;34m:\u001b[0m\u001b[0;34m\u001b[0m\u001b[0;34m\u001b[0m\u001b[0m\n\u001b[1;32m    215\u001b[0m         \u001b[0;32mwith\u001b[0m \u001b[0mconfig_context\u001b[0m\u001b[0;34m(\u001b[0m\u001b[0;34m**\u001b[0m\u001b[0mself\u001b[0m\u001b[0;34m.\u001b[0m\u001b[0mconfig\u001b[0m\u001b[0;34m)\u001b[0m\u001b[0;34m:\u001b[0m\u001b[0;34m\u001b[0m\u001b[0;34m\u001b[0m\u001b[0m\n\u001b[0;32m--> 216\u001b[0;31m             \u001b[0;32mreturn\u001b[0m \u001b[0mself\u001b[0m\u001b[0;34m.\u001b[0m\u001b[0mfunction\u001b[0m\u001b[0;34m(\u001b[0m\u001b[0;34m*\u001b[0m\u001b[0margs\u001b[0m\u001b[0;34m,\u001b[0m \u001b[0;34m**\u001b[0m\u001b[0mkwargs\u001b[0m\u001b[0;34m)\u001b[0m\u001b[0;34m\u001b[0m\u001b[0;34m\u001b[0m\u001b[0m\n\u001b[0m\u001b[1;32m    217\u001b[0m \u001b[0;34m\u001b[0m\u001b[0m\n\u001b[1;32m    218\u001b[0m \u001b[0;34m\u001b[0m\u001b[0m\n",
            "\u001b[0;32m/usr/local/lib/python3.7/dist-packages/sklearn/model_selection/_validation.py\u001b[0m in \u001b[0;36m_fit_and_score\u001b[0;34m(estimator, X, y, scorer, train, test, verbose, parameters, fit_params, return_train_score, return_parameters, return_n_test_samples, return_times, return_estimator, split_progress, candidate_progress, error_score)\u001b[0m\n\u001b[1;32m    678\u001b[0m             \u001b[0mestimator\u001b[0m\u001b[0;34m.\u001b[0m\u001b[0mfit\u001b[0m\u001b[0;34m(\u001b[0m\u001b[0mX_train\u001b[0m\u001b[0;34m,\u001b[0m \u001b[0;34m**\u001b[0m\u001b[0mfit_params\u001b[0m\u001b[0;34m)\u001b[0m\u001b[0;34m\u001b[0m\u001b[0;34m\u001b[0m\u001b[0m\n\u001b[1;32m    679\u001b[0m         \u001b[0;32melse\u001b[0m\u001b[0;34m:\u001b[0m\u001b[0;34m\u001b[0m\u001b[0;34m\u001b[0m\u001b[0m\n\u001b[0;32m--> 680\u001b[0;31m             \u001b[0mestimator\u001b[0m\u001b[0;34m.\u001b[0m\u001b[0mfit\u001b[0m\u001b[0;34m(\u001b[0m\u001b[0mX_train\u001b[0m\u001b[0;34m,\u001b[0m \u001b[0my_train\u001b[0m\u001b[0;34m,\u001b[0m \u001b[0;34m**\u001b[0m\u001b[0mfit_params\u001b[0m\u001b[0;34m)\u001b[0m\u001b[0;34m\u001b[0m\u001b[0;34m\u001b[0m\u001b[0m\n\u001b[0m\u001b[1;32m    681\u001b[0m \u001b[0;34m\u001b[0m\u001b[0m\n\u001b[1;32m    682\u001b[0m     \u001b[0;32mexcept\u001b[0m \u001b[0mException\u001b[0m\u001b[0;34m:\u001b[0m\u001b[0;34m\u001b[0m\u001b[0;34m\u001b[0m\u001b[0m\n",
            "\u001b[0;32m/usr/local/lib/python3.7/dist-packages/sklearn/ensemble/_stacking.py\u001b[0m in \u001b[0;36mfit\u001b[0;34m(self, X, y, sample_weight)\u001b[0m\n\u001b[1;32m    486\u001b[0m         \u001b[0mself\u001b[0m\u001b[0;34m.\u001b[0m\u001b[0m_le\u001b[0m \u001b[0;34m=\u001b[0m \u001b[0mLabelEncoder\u001b[0m\u001b[0;34m(\u001b[0m\u001b[0;34m)\u001b[0m\u001b[0;34m.\u001b[0m\u001b[0mfit\u001b[0m\u001b[0;34m(\u001b[0m\u001b[0my\u001b[0m\u001b[0;34m)\u001b[0m\u001b[0;34m\u001b[0m\u001b[0;34m\u001b[0m\u001b[0m\n\u001b[1;32m    487\u001b[0m         \u001b[0mself\u001b[0m\u001b[0;34m.\u001b[0m\u001b[0mclasses_\u001b[0m \u001b[0;34m=\u001b[0m \u001b[0mself\u001b[0m\u001b[0;34m.\u001b[0m\u001b[0m_le\u001b[0m\u001b[0;34m.\u001b[0m\u001b[0mclasses_\u001b[0m\u001b[0;34m\u001b[0m\u001b[0;34m\u001b[0m\u001b[0m\n\u001b[0;32m--> 488\u001b[0;31m         \u001b[0;32mreturn\u001b[0m \u001b[0msuper\u001b[0m\u001b[0;34m(\u001b[0m\u001b[0;34m)\u001b[0m\u001b[0;34m.\u001b[0m\u001b[0mfit\u001b[0m\u001b[0;34m(\u001b[0m\u001b[0mX\u001b[0m\u001b[0;34m,\u001b[0m \u001b[0mself\u001b[0m\u001b[0;34m.\u001b[0m\u001b[0m_le\u001b[0m\u001b[0;34m.\u001b[0m\u001b[0mtransform\u001b[0m\u001b[0;34m(\u001b[0m\u001b[0my\u001b[0m\u001b[0;34m)\u001b[0m\u001b[0;34m,\u001b[0m \u001b[0msample_weight\u001b[0m\u001b[0;34m)\u001b[0m\u001b[0;34m\u001b[0m\u001b[0;34m\u001b[0m\u001b[0m\n\u001b[0m\u001b[1;32m    489\u001b[0m \u001b[0;34m\u001b[0m\u001b[0m\n\u001b[1;32m    490\u001b[0m     \u001b[0;34m@\u001b[0m\u001b[0mif_delegate_has_method\u001b[0m\u001b[0;34m(\u001b[0m\u001b[0mdelegate\u001b[0m\u001b[0;34m=\u001b[0m\u001b[0;34m\"final_estimator_\"\u001b[0m\u001b[0;34m)\u001b[0m\u001b[0;34m\u001b[0m\u001b[0;34m\u001b[0m\u001b[0m\n",
            "\u001b[0;32m/usr/local/lib/python3.7/dist-packages/sklearn/ensemble/_stacking.py\u001b[0m in \u001b[0;36mfit\u001b[0;34m(self, X, y, sample_weight)\u001b[0m\n\u001b[1;32m    202\u001b[0m                 \u001b[0mverbose\u001b[0m\u001b[0;34m=\u001b[0m\u001b[0mself\u001b[0m\u001b[0;34m.\u001b[0m\u001b[0mverbose\u001b[0m\u001b[0;34m,\u001b[0m\u001b[0;34m\u001b[0m\u001b[0;34m\u001b[0m\u001b[0m\n\u001b[1;32m    203\u001b[0m             )\n\u001b[0;32m--> 204\u001b[0;31m             \u001b[0;32mfor\u001b[0m \u001b[0mest\u001b[0m\u001b[0;34m,\u001b[0m \u001b[0mmeth\u001b[0m \u001b[0;32min\u001b[0m \u001b[0mzip\u001b[0m\u001b[0;34m(\u001b[0m\u001b[0mall_estimators\u001b[0m\u001b[0;34m,\u001b[0m \u001b[0mself\u001b[0m\u001b[0;34m.\u001b[0m\u001b[0mstack_method_\u001b[0m\u001b[0;34m)\u001b[0m\u001b[0;34m\u001b[0m\u001b[0;34m\u001b[0m\u001b[0m\n\u001b[0m\u001b[1;32m    205\u001b[0m             \u001b[0;32mif\u001b[0m \u001b[0mest\u001b[0m \u001b[0;34m!=\u001b[0m \u001b[0;34m\"drop\"\u001b[0m\u001b[0;34m\u001b[0m\u001b[0;34m\u001b[0m\u001b[0m\n\u001b[1;32m    206\u001b[0m         )\n",
            "\u001b[0;32m/usr/local/lib/python3.7/dist-packages/joblib/parallel.py\u001b[0m in \u001b[0;36m__call__\u001b[0;34m(self, iterable)\u001b[0m\n\u001b[1;32m   1054\u001b[0m \u001b[0;34m\u001b[0m\u001b[0m\n\u001b[1;32m   1055\u001b[0m             \u001b[0;32mwith\u001b[0m \u001b[0mself\u001b[0m\u001b[0;34m.\u001b[0m\u001b[0m_backend\u001b[0m\u001b[0;34m.\u001b[0m\u001b[0mretrieval_context\u001b[0m\u001b[0;34m(\u001b[0m\u001b[0;34m)\u001b[0m\u001b[0;34m:\u001b[0m\u001b[0;34m\u001b[0m\u001b[0;34m\u001b[0m\u001b[0m\n\u001b[0;32m-> 1056\u001b[0;31m                 \u001b[0mself\u001b[0m\u001b[0;34m.\u001b[0m\u001b[0mretrieve\u001b[0m\u001b[0;34m(\u001b[0m\u001b[0;34m)\u001b[0m\u001b[0;34m\u001b[0m\u001b[0;34m\u001b[0m\u001b[0m\n\u001b[0m\u001b[1;32m   1057\u001b[0m             \u001b[0;31m# Make sure that we get a last message telling us we are done\u001b[0m\u001b[0;34m\u001b[0m\u001b[0;34m\u001b[0m\u001b[0;34m\u001b[0m\u001b[0m\n\u001b[1;32m   1058\u001b[0m             \u001b[0melapsed_time\u001b[0m \u001b[0;34m=\u001b[0m \u001b[0mtime\u001b[0m\u001b[0;34m.\u001b[0m\u001b[0mtime\u001b[0m\u001b[0;34m(\u001b[0m\u001b[0;34m)\u001b[0m \u001b[0;34m-\u001b[0m \u001b[0mself\u001b[0m\u001b[0;34m.\u001b[0m\u001b[0m_start_time\u001b[0m\u001b[0;34m\u001b[0m\u001b[0;34m\u001b[0m\u001b[0m\n",
            "\u001b[0;32m/usr/local/lib/python3.7/dist-packages/joblib/parallel.py\u001b[0m in \u001b[0;36mretrieve\u001b[0;34m(self)\u001b[0m\n\u001b[1;32m    933\u001b[0m             \u001b[0;32mtry\u001b[0m\u001b[0;34m:\u001b[0m\u001b[0;34m\u001b[0m\u001b[0;34m\u001b[0m\u001b[0m\n\u001b[1;32m    934\u001b[0m                 \u001b[0;32mif\u001b[0m \u001b[0mgetattr\u001b[0m\u001b[0;34m(\u001b[0m\u001b[0mself\u001b[0m\u001b[0;34m.\u001b[0m\u001b[0m_backend\u001b[0m\u001b[0;34m,\u001b[0m \u001b[0;34m'supports_timeout'\u001b[0m\u001b[0;34m,\u001b[0m \u001b[0;32mFalse\u001b[0m\u001b[0;34m)\u001b[0m\u001b[0;34m:\u001b[0m\u001b[0;34m\u001b[0m\u001b[0;34m\u001b[0m\u001b[0m\n\u001b[0;32m--> 935\u001b[0;31m                     \u001b[0mself\u001b[0m\u001b[0;34m.\u001b[0m\u001b[0m_output\u001b[0m\u001b[0;34m.\u001b[0m\u001b[0mextend\u001b[0m\u001b[0;34m(\u001b[0m\u001b[0mjob\u001b[0m\u001b[0;34m.\u001b[0m\u001b[0mget\u001b[0m\u001b[0;34m(\u001b[0m\u001b[0mtimeout\u001b[0m\u001b[0;34m=\u001b[0m\u001b[0mself\u001b[0m\u001b[0;34m.\u001b[0m\u001b[0mtimeout\u001b[0m\u001b[0;34m)\u001b[0m\u001b[0;34m)\u001b[0m\u001b[0;34m\u001b[0m\u001b[0;34m\u001b[0m\u001b[0m\n\u001b[0m\u001b[1;32m    936\u001b[0m                 \u001b[0;32melse\u001b[0m\u001b[0;34m:\u001b[0m\u001b[0;34m\u001b[0m\u001b[0;34m\u001b[0m\u001b[0m\n\u001b[1;32m    937\u001b[0m                     \u001b[0mself\u001b[0m\u001b[0;34m.\u001b[0m\u001b[0m_output\u001b[0m\u001b[0;34m.\u001b[0m\u001b[0mextend\u001b[0m\u001b[0;34m(\u001b[0m\u001b[0mjob\u001b[0m\u001b[0;34m.\u001b[0m\u001b[0mget\u001b[0m\u001b[0;34m(\u001b[0m\u001b[0;34m)\u001b[0m\u001b[0;34m)\u001b[0m\u001b[0;34m\u001b[0m\u001b[0;34m\u001b[0m\u001b[0m\n",
            "\u001b[0;32m/usr/local/lib/python3.7/dist-packages/joblib/_parallel_backends.py\u001b[0m in \u001b[0;36mwrap_future_result\u001b[0;34m(future, timeout)\u001b[0m\n\u001b[1;32m    540\u001b[0m         AsyncResults.get from multiprocessing.\"\"\"\n\u001b[1;32m    541\u001b[0m         \u001b[0;32mtry\u001b[0m\u001b[0;34m:\u001b[0m\u001b[0;34m\u001b[0m\u001b[0;34m\u001b[0m\u001b[0m\n\u001b[0;32m--> 542\u001b[0;31m             \u001b[0;32mreturn\u001b[0m \u001b[0mfuture\u001b[0m\u001b[0;34m.\u001b[0m\u001b[0mresult\u001b[0m\u001b[0;34m(\u001b[0m\u001b[0mtimeout\u001b[0m\u001b[0;34m=\u001b[0m\u001b[0mtimeout\u001b[0m\u001b[0;34m)\u001b[0m\u001b[0;34m\u001b[0m\u001b[0;34m\u001b[0m\u001b[0m\n\u001b[0m\u001b[1;32m    543\u001b[0m         \u001b[0;32mexcept\u001b[0m \u001b[0mCfTimeoutError\u001b[0m \u001b[0;32mas\u001b[0m \u001b[0me\u001b[0m\u001b[0;34m:\u001b[0m\u001b[0;34m\u001b[0m\u001b[0;34m\u001b[0m\u001b[0m\n\u001b[1;32m    544\u001b[0m             \u001b[0;32mraise\u001b[0m \u001b[0mTimeoutError\u001b[0m \u001b[0;32mfrom\u001b[0m \u001b[0me\u001b[0m\u001b[0;34m\u001b[0m\u001b[0;34m\u001b[0m\u001b[0m\n",
            "\u001b[0;32m/usr/lib/python3.7/concurrent/futures/_base.py\u001b[0m in \u001b[0;36mresult\u001b[0;34m(self, timeout)\u001b[0m\n\u001b[1;32m    428\u001b[0m                 \u001b[0;32mreturn\u001b[0m \u001b[0mself\u001b[0m\u001b[0;34m.\u001b[0m\u001b[0m__get_result\u001b[0m\u001b[0;34m(\u001b[0m\u001b[0;34m)\u001b[0m\u001b[0;34m\u001b[0m\u001b[0;34m\u001b[0m\u001b[0m\n\u001b[1;32m    429\u001b[0m \u001b[0;34m\u001b[0m\u001b[0m\n\u001b[0;32m--> 430\u001b[0;31m             \u001b[0mself\u001b[0m\u001b[0;34m.\u001b[0m\u001b[0m_condition\u001b[0m\u001b[0;34m.\u001b[0m\u001b[0mwait\u001b[0m\u001b[0;34m(\u001b[0m\u001b[0mtimeout\u001b[0m\u001b[0;34m)\u001b[0m\u001b[0;34m\u001b[0m\u001b[0;34m\u001b[0m\u001b[0m\n\u001b[0m\u001b[1;32m    431\u001b[0m \u001b[0;34m\u001b[0m\u001b[0m\n\u001b[1;32m    432\u001b[0m             \u001b[0;32mif\u001b[0m \u001b[0mself\u001b[0m\u001b[0;34m.\u001b[0m\u001b[0m_state\u001b[0m \u001b[0;32min\u001b[0m \u001b[0;34m[\u001b[0m\u001b[0mCANCELLED\u001b[0m\u001b[0;34m,\u001b[0m \u001b[0mCANCELLED_AND_NOTIFIED\u001b[0m\u001b[0;34m]\u001b[0m\u001b[0;34m:\u001b[0m\u001b[0;34m\u001b[0m\u001b[0;34m\u001b[0m\u001b[0m\n",
            "\u001b[0;32m/usr/lib/python3.7/threading.py\u001b[0m in \u001b[0;36mwait\u001b[0;34m(self, timeout)\u001b[0m\n\u001b[1;32m    294\u001b[0m         \u001b[0;32mtry\u001b[0m\u001b[0;34m:\u001b[0m    \u001b[0;31m# restore state no matter what (e.g., KeyboardInterrupt)\u001b[0m\u001b[0;34m\u001b[0m\u001b[0;34m\u001b[0m\u001b[0m\n\u001b[1;32m    295\u001b[0m             \u001b[0;32mif\u001b[0m \u001b[0mtimeout\u001b[0m \u001b[0;32mis\u001b[0m \u001b[0;32mNone\u001b[0m\u001b[0;34m:\u001b[0m\u001b[0;34m\u001b[0m\u001b[0;34m\u001b[0m\u001b[0m\n\u001b[0;32m--> 296\u001b[0;31m                 \u001b[0mwaiter\u001b[0m\u001b[0;34m.\u001b[0m\u001b[0macquire\u001b[0m\u001b[0;34m(\u001b[0m\u001b[0;34m)\u001b[0m\u001b[0;34m\u001b[0m\u001b[0;34m\u001b[0m\u001b[0m\n\u001b[0m\u001b[1;32m    297\u001b[0m                 \u001b[0mgotit\u001b[0m \u001b[0;34m=\u001b[0m \u001b[0;32mTrue\u001b[0m\u001b[0;34m\u001b[0m\u001b[0;34m\u001b[0m\u001b[0m\n\u001b[1;32m    298\u001b[0m             \u001b[0;32melse\u001b[0m\u001b[0;34m:\u001b[0m\u001b[0;34m\u001b[0m\u001b[0;34m\u001b[0m\u001b[0m\n",
            "\u001b[0;31mKeyboardInterrupt\u001b[0m: "
          ]
        }
      ],
      "source": [
        "# make a prediction with a stacking ensemble\n",
        "from sklearn.datasets import make_regression\n",
        "from sklearn.linear_model import LogisticRegression\n",
        "from sklearn.ensemble import StackingClassifier\n",
        "from sklearn.tree import DecisionTreeClassifier\n",
        "from sklearn.ensemble import ExtraTreesClassifier\n",
        "from sklearn.experimental import enable_halving_search_cv\n",
        "from sklearn.model_selection import HalvingGridSearchCV\n",
        "from sklearn import model_selection\n",
        "from xgboost import XGBClassifier\n",
        "from sklearn.naive_bayes import GaussianNB\n",
        "\n",
        "# define the base models\n",
        "estimators = []\n",
        "model1 = LogisticRegression()\n",
        "estimators.append(('lr', model1))\n",
        "model2 = DecisionTreeClassifier()\n",
        "estimators.append(('dt', model2))\n",
        "model4 = GaussianNB()\n",
        "estimators.append(('nb', model4))\n",
        "\n",
        "# define meta learner model\n",
        "level1 = LogisticRegression()\n",
        "\n",
        "# define the stacking ensemble\n",
        "ensemble = StackingClassifier(estimators=estimators,  final_estimator=level1, stack_method='predict', n_jobs=-1)\n",
        "\n",
        "params = {'dt__criterion': ['gini','entropy'],\n",
        "          'dt__max_depth':[10,20,50],\n",
        "      'lr__C':[0.05,0.1,0.5,1],\n",
        "      'nb__var_smoothing': np.logspace(0,-9, num=100)\n",
        "      }\n",
        "\n",
        "grid=HalvingGridSearchCV(ensemble, params,cv=10).fit(X_train, y_train)"
      ]
    },
    {
      "cell_type": "markdown",
      "metadata": {
        "id": "g5qr-i3idRgZ"
      },
      "source": [
        "#### VT"
      ]
    },
    {
      "cell_type": "code",
      "execution_count": null,
      "metadata": {
        "id": "qIO-_pNvdRga"
      },
      "outputs": [],
      "source": [
        "from sklearn.ensemble import VotingClassifier, StackingClassifier\n",
        "# create the sub models\n",
        "\n",
        "# define the base models\n",
        "estimators = []\n",
        "model1 = LogisticRegression()\n",
        "estimators.append(('lr', model1))\n",
        "model2 = DecisionTreeClassifier()\n",
        "estimators.append(('cart', model2))\n",
        "model4 = GaussianNB()\n",
        "estimators.append(('nb', model4))\n",
        "\n",
        "\n",
        "# create the ensemble model\n",
        "VTensemble = VotingClassifier(estimators,voting='soft').fit(X_train, y_train)"
      ]
    },
    {
      "cell_type": "code",
      "execution_count": null,
      "metadata": {
        "colab": {
          "base_uri": "https://localhost:8080/"
        },
        "id": "iSsGC4mcdRga",
        "outputId": "3554bdc2-b5b3-4cbc-8730-a836c68cd7d6"
      },
      "outputs": [
        {
          "name": "stdout",
          "output_type": "stream",
          "text": [
            "              precision    recall  f1-score   support\n",
            "\n",
            "           0       0.99      0.96      0.98    292721\n",
            "           1       0.91      0.98      0.94    122607\n",
            "\n",
            "    accuracy                           0.97    415328\n",
            "   macro avg       0.95      0.97      0.96    415328\n",
            "weighted avg       0.97      0.97      0.97    415328\n",
            "\n"
          ]
        }
      ],
      "source": [
        "from sklearn.metrics import plot_confusion_matrix,accuracy_score,classification_report\n",
        "ensemblepred = VTensemble.predict(X_test)\n",
        "print(classification_report(y_test,ensemblepred))"
      ]
    },
    {
      "cell_type": "code",
      "execution_count": null,
      "metadata": {
        "id": "g0k4hPuDdRgb"
      },
      "outputs": [],
      "source": [
        "from sklearn import metrics\n",
        "import matplotlib.pyplot as plt\n",
        "\n",
        "stppred = VTensemble.predict_proba(X_test)[::,1]"
      ]
    },
    {
      "cell_type": "code",
      "execution_count": null,
      "metadata": {
        "id": "kO88l-4NdRgb"
      },
      "outputs": [],
      "source": [
        "fpr,tpr, _ = metrics.roc_curve(y_test,stppred)\n",
        "auc = metrics.roc_auc_score(y_test,stppred)"
      ]
    },
    {
      "cell_type": "code",
      "execution_count": null,
      "metadata": {
        "colab": {
          "base_uri": "https://localhost:8080/"
        },
        "id": "O6lTVCOhdRgc",
        "outputId": "af3a62e4-2936-4b40-f817-caf5f656ecc6"
      },
      "outputs": [
        {
          "name": "stdout",
          "output_type": "stream",
          "text": [
            "0.9920570543746865\n"
          ]
        }
      ],
      "source": [
        "print(auc)"
      ]
    },
    {
      "cell_type": "code",
      "execution_count": null,
      "metadata": {
        "colab": {
          "base_uri": "https://localhost:8080/",
          "height": 312
        },
        "id": "BPQIYB3_dRgc",
        "outputId": "ac77a7d5-71b9-408c-8391-1663eba98466"
      },
      "outputs": [
        {
          "data": {
            "text/plain": [
              "<function matplotlib.pyplot.show>"
            ]
          },
          "execution_count": 147,
          "metadata": {},
          "output_type": "execute_result"
        },
        {
          "data": {
            "image/png": "[encoded data removed]",
            "text/plain": [
              "<Figure size 432x288 with 1 Axes>"
            ]
          },
          "metadata": {},
          "output_type": "display_data"
        }
      ],
      "source": [
        "plt.title('Receiver Operating Characterstic - voting')\n",
        "plt.plot(fpr,tpr, label = \"AUC = %0.5f\" % (auc))\n",
        "plt.ylabel('True Posetive Rate')\n",
        "plt.xlabel('False Posetive Rate')\n",
        "plt.show"
      ]
    },
    {
      "cell_type": "code",
      "execution_count": null,
      "metadata": {
        "id": "JjA3jkw3dRgd"
      },
      "outputs": [],
      "source": [
        "import pickle\n",
        "# save the model to disk\n",
        "filename = '/content/drive/My Drive/Colab Notebooks/BVTmodel_untn_sm.sav'\n",
        "pickle.dump(VTensemble, open(filename, 'wb'))"
      ]
    },
    {
      "cell_type": "markdown",
      "metadata": {
        "id": "9yahE73i7lPY"
      },
      "source": [
        "#### tuning VT"
      ]
    },
    {
      "cell_type": "code",
      "execution_count": null,
      "metadata": {
        "id": "4Xwkdz5D7rNI"
      },
      "outputs": [],
      "source": [
        "from sklearn.ensemble import VotingClassifier, StackingClassifier\n",
        "from sklearn.tree import DecisionTreeClassifier\n",
        "from sklearn.naive_bayes import GaussianNB\n",
        "from sklearn.linear_model import LogisticRegression\n",
        "from sklearn.experimental import enable_halving_search_cv\n",
        "from sklearn.model_selection import HalvingGridSearchCV\n",
        "\n",
        "# define the base models\n",
        "estimators = []\n",
        "model1 = LogisticRegression()\n",
        "estimators.append(('lr', model1))\n",
        "model2 = DecisionTreeClassifier()\n",
        "estimators.append(('dt', model2))\n",
        "model4 = GaussianNB()\n",
        "estimators.append(('nb', model4))\n",
        "\n",
        "\n",
        "# create the ensemble model\n",
        "VTensemble = VotingClassifier(estimators,voting='soft')\n",
        "\n",
        "params = {'dt__criterion': ['gini','entropy'],\n",
        "          'dt__max_depth':[10,20,50],\n",
        "          'lr__max_iter' : [1000,2000, 2500],\n",
        "      'lr__C':[0.05,0.1,0.5,1],\n",
        "      'nb__var_smoothing': np.logspace(0,-9, num=100)\n",
        "      }\n",
        "\n",
        "grid=HalvingGridSearchCV(VTensemble, params,cv=10).fit(X_train, y_train)"
      ]
    },
    {
      "cell_type": "code",
      "execution_count": null,
      "metadata": {
        "id": "YfqQgXvAxutD"
      },
      "outputs": [],
      "source": [
        "# summarize results\n",
        "print(\"Best: %f using %s\" % (grid.best_score_, grid.best_params_))\n",
        "means = grid.cv_results_['mean_test_score']\n",
        "stds = grid.cv_results_['std_test_score']\n",
        "params = grid.cv_results_['params']\n",
        "for mean, stdev, param in zip(means, stds, params):\n",
        " print(\"%f (%f) with: %r\" % (mean, stdev, param))"
      ]
    },
    {
      "cell_type": "code",
      "execution_count": null,
      "metadata": {
        "id": "vd08TVmG8rTu"
      },
      "outputs": [],
      "source": [
        "from sklearn.metrics import plot_confusion_matrix,accuracy_score,classification_report\n",
        "ensemblepred = grid.predict(X_test)\n",
        "print(classification_report(y_test,ensemblepred))"
      ]
    },
    {
      "cell_type": "code",
      "execution_count": null,
      "metadata": {
        "id": "vU2BTb8C8rTw"
      },
      "outputs": [],
      "source": [
        "from sklearn import metrics\n",
        "import matplotlib.pyplot as plt\n",
        "\n",
        "stppred = grid.predict_proba(X_test)[::,1]"
      ]
    },
    {
      "cell_type": "code",
      "execution_count": null,
      "metadata": {
        "id": "hOcyKyuV8rTw"
      },
      "outputs": [],
      "source": [
        "fpr,tpr, _ = metrics.roc_curve(y_test,stppred)\n",
        "auc = metrics.roc_auc_score(y_test,stppred)\n",
        "print(auc)"
      ]
    },
    {
      "cell_type": "code",
      "execution_count": null,
      "metadata": {
        "id": "Ef6IJJrh8rTx"
      },
      "outputs": [],
      "source": [
        "plt.title('Receiver Operating Characterstic - voting')\n",
        "plt.plot(fpr,tpr, label = \"AUC = %0.5f\" % (auc))\n",
        "plt.ylabel('True Posetive Rate')\n",
        "plt.xlabel('False Posetive Rate')\n",
        "plt.show"
      ]
    },
    {
      "cell_type": "code",
      "execution_count": null,
      "metadata": {
        "id": "x6ZblPa88rTy"
      },
      "outputs": [],
      "source": [
        "import pickle\n",
        "# save the model to disk\n",
        "filename = '/content/drive/My Drive/Colab Notebooks/BVTmodel_tn_sm.sav'\n",
        "pickle.dump(VTensemble, open(filename, 'wb'))"
      ]
    },
    {
      "cell_type": "markdown",
      "metadata": {
        "id": "l9Ezy-ffKD3-"
      },
      "source": [
        "#### LR"
      ]
    },
    {
      "cell_type": "code",
      "execution_count": null,
      "metadata": {
        "colab": {
          "base_uri": "https://localhost:8080/"
        },
        "id": "Xee8v5pVKD3_",
        "outputId": "e888baaa-ae8c-4280-f073-07e7abd98baa"
      },
      "outputs": [
        {
          "name": "stderr",
          "output_type": "stream",
          "text": [
            "/usr/local/lib/python3.7/dist-packages/sklearn/linear_model/_logistic.py:818: ConvergenceWarning: lbfgs failed to converge (status=1):\n",
            "STOP: TOTAL NO. of ITERATIONS REACHED LIMIT.\n",
            "\n",
            "Increase the number of iterations (max_iter) or scale the data as shown in:\n",
            "    https://scikit-learn.org/stable/modules/preprocessing.html\n",
            "Please also refer to the documentation for alternative solver options:\n",
            "    https://scikit-learn.org/stable/modules/linear_model.html#logistic-regression\n",
            "  extra_warning_msg=_LOGISTIC_SOLVER_CONVERGENCE_MSG,\n"
          ]
        }
      ],
      "source": [
        "from sklearn.linear_model import LogisticRegression\n",
        "lrclf = LogisticRegression(random_state=0).fit(X_train, y_train)"
      ]
    },
    {
      "cell_type": "code",
      "execution_count": null,
      "metadata": {
        "colab": {
          "base_uri": "https://localhost:8080/"
        },
        "id": "glkqHET3KD4A",
        "outputId": "6a70d2d4-e2dc-4b0a-bd84-6e11ddb74a73"
      },
      "outputs": [
        {
          "name": "stdout",
          "output_type": "stream",
          "text": [
            "              precision    recall  f1-score   support\n",
            "\n",
            "           0       0.99      0.95      0.97    292721\n",
            "           1       0.88      0.97      0.92    122607\n",
            "\n",
            "    accuracy                           0.95    415328\n",
            "   macro avg       0.93      0.96      0.94    415328\n",
            "weighted avg       0.96      0.95      0.95    415328\n",
            "\n"
          ]
        }
      ],
      "source": [
        "from sklearn.metrics import plot_confusion_matrix,accuracy_score,classification_report\n",
        "ensemblepred = lrclf.predict(X_test)\n",
        "print(classification_report(y_test,ensemblepred))"
      ]
    },
    {
      "cell_type": "code",
      "execution_count": null,
      "metadata": {
        "id": "DtxUqtykKD4A"
      },
      "outputs": [],
      "source": [
        "from sklearn import metrics\n",
        "import matplotlib.pyplot as plt\n",
        "stppred = lrclf.predict_proba(X_test)[::,1]"
      ]
    },
    {
      "cell_type": "code",
      "execution_count": null,
      "metadata": {
        "id": "hMv5NEWSKD4A"
      },
      "outputs": [],
      "source": [
        "fpr,tpr, _ = metrics.roc_curve(y_test,stppred)\n",
        "auc = metrics.roc_auc_score(y_test,stppred)"
      ]
    },
    {
      "cell_type": "code",
      "execution_count": null,
      "metadata": {
        "colab": {
          "base_uri": "https://localhost:8080/"
        },
        "id": "HEujYFSqKD4B",
        "outputId": "ad2db645-0df6-4842-d2aa-d8f203908482"
      },
      "outputs": [
        {
          "name": "stdout",
          "output_type": "stream",
          "text": [
            "0.9909382562084261\n"
          ]
        }
      ],
      "source": [
        "print(auc)"
      ]
    },
    {
      "cell_type": "code",
      "execution_count": null,
      "metadata": {
        "colab": {
          "base_uri": "https://localhost:8080/",
          "height": 312
        },
        "id": "dUOMlL7IKD4B",
        "outputId": "13ec08a1-675f-43ba-95ef-10989020fa9d"
      },
      "outputs": [
        {
          "data": {
            "text/plain": [
              "<function matplotlib.pyplot.show>"
            ]
          },
          "execution_count": 153,
          "metadata": {},
          "output_type": "execute_result"
        },
        {
          "data": {
            "image/png": "[encoded data removed]",
            "text/plain": [
              "<Figure size 432x288 with 1 Axes>"
            ]
          },
          "metadata": {},
          "output_type": "display_data"
        }
      ],
      "source": [
        "plt.title('Receiver Operating Characterstic - staking')\n",
        "plt.plot(fpr,tpr, label = \"AUC = %0.5f\" % (auc))\n",
        "plt.ylabel('True Posetive Rate')\n",
        "plt.xlabel('False Posetive Rate')\n",
        "plt.show"
      ]
    },
    {
      "cell_type": "code",
      "execution_count": null,
      "metadata": {
        "id": "qovaMRyCKD4B"
      },
      "outputs": [],
      "source": [
        "import pickle\n",
        "filename = '/content/drive/My Drive/Colab Notebooks/BLRmodel_sm.sav'\n",
        "pickle.dump(lrclf, open(filename, 'wb'))"
      ]
    },
    {
      "cell_type": "markdown",
      "metadata": {
        "id": "apQKjLs4B7EH"
      },
      "source": [
        "##### tuning LR"
      ]
    },
    {
      "cell_type": "code",
      "execution_count": null,
      "metadata": {
        "id": "OuAFyZyaHO8C"
      },
      "outputs": [],
      "source": [
        "param_grid=  {'C' : [0.001,0.01,0.1,1,10,100,1000],\n",
        "    'solver' : ['lbfgs','newton-cg','liblinear','sag','saga'],\n",
        "    'max_iter' : [100, 1000,2500, 5000]\n",
        "}"
      ]
    },
    {
      "cell_type": "code",
      "execution_count": null,
      "metadata": {
        "colab": {
          "base_uri": "https://localhost:8080/"
        },
        "id": "ES5uuqs1CSRH",
        "outputId": "c51d2c5f-ed24-42ea-92ed-24a3e74bc164"
      },
      "outputs": [
        {
          "name": "stdout",
          "output_type": "stream",
          "text": [
            "n_iterations: 5\n",
            "n_required_iterations: 5\n",
            "n_possible_iterations: 5\n",
            "min_resources_: 28910\n",
            "max_resources_: 2341770\n",
            "aggressive_elimination: False\n",
            "factor: 3\n",
            "----------\n",
            "iter: 0\n",
            "n_candidates: 140\n",
            "n_resources: 28910\n",
            "Fitting 10 folds for each of 140 candidates, totalling 1400 fits\n",
            "----------\n",
            "iter: 1\n",
            "n_candidates: 47\n",
            "n_resources: 86730\n",
            "Fitting 10 folds for each of 47 candidates, totalling 470 fits\n",
            "----------\n",
            "iter: 2\n",
            "n_candidates: 16\n",
            "n_resources: 260190\n",
            "Fitting 10 folds for each of 16 candidates, totalling 160 fits\n"
          ]
        },
        {
          "name": "stderr",
          "output_type": "stream",
          "text": [
            "/usr/local/lib/python3.7/dist-packages/joblib/externals/loky/process_executor.py:705: UserWarning: A worker stopped while some jobs were given to the executor. This can be caused by a too short worker timeout or by a memory leak.\n",
            "  \"timeout or by a memory leak.\", UserWarning\n"
          ]
        },
        {
          "name": "stdout",
          "output_type": "stream",
          "text": [
            "----------\n",
            "iter: 3\n",
            "n_candidates: 6\n",
            "n_resources: 780570\n",
            "Fitting 10 folds for each of 6 candidates, totalling 60 fits\n"
          ]
        },
        {
          "name": "stderr",
          "output_type": "stream",
          "text": [
            "/usr/local/lib/python3.7/dist-packages/joblib/externals/loky/process_executor.py:705: UserWarning: A worker stopped while some jobs were given to the executor. This can be caused by a too short worker timeout or by a memory leak.\n",
            "  \"timeout or by a memory leak.\", UserWarning\n"
          ]
        },
        {
          "name": "stdout",
          "output_type": "stream",
          "text": [
            "----------\n",
            "iter: 4\n",
            "n_candidates: 2\n",
            "n_resources: 2341710\n",
            "Fitting 10 folds for each of 2 candidates, totalling 20 fits\n"
          ]
        },
        {
          "name": "stderr",
          "output_type": "stream",
          "text": [
            "/usr/local/lib/python3.7/dist-packages/joblib/externals/loky/process_executor.py:705: UserWarning: A worker stopped while some jobs were given to the executor. This can be caused by a too short worker timeout or by a memory leak.\n",
            "  \"timeout or by a memory leak.\", UserWarning\n"
          ]
        },
        {
          "name": "stdout",
          "output_type": "stream",
          "text": [
            "Minimum loss of -0.109573 is achieved using {'C': 100, 'max_iter': 2500, 'solver': 'newton-cg'}\n"
          ]
        }
      ],
      "source": [
        "# grid search\n",
        "from sklearn.linear_model import LogisticRegression\n",
        "from sklearn.model_selection import StratifiedKFold\n",
        "from sklearn.experimental import enable_halving_search_cv \n",
        "# now import normally from model_selection\n",
        "from sklearn.model_selection import HalvingGridSearchCV\n",
        "\n",
        "lr_model = LogisticRegression()\n",
        "C = [0.001,0.01,0.1,1,10,100,1000]\n",
        "\n",
        "#param_grid = dict(C=C)\n",
        "kfold = StratifiedKFold(n_splits=10, shuffle=True, random_state=7)\n",
        "grid_search = HalvingGridSearchCV(lr_model, param_grid, scoring=\"neg_log_loss\", cv=kfold, n_jobs=-1,verbose=1)\n",
        "grid_result = grid_search.fit(X_train, y_train)\n",
        "# summarize results\n",
        "print(\"Minimum loss of %f is achieved using %s\" % (grid_result.best_score_, grid_result.best_params_))"
      ]
    },
    {
      "cell_type": "code",
      "execution_count": null,
      "metadata": {
        "colab": {
          "base_uri": "https://localhost:8080/"
        },
        "id": "r-wEMwBpHFvk",
        "outputId": "bfe3d182-9342-4141-a656-8372906ec5d4"
      },
      "outputs": [
        {
          "name": "stdout",
          "output_type": "stream",
          "text": [
            "Best: -0.109573 using {'C': 100, 'max_iter': 2500, 'solver': 'newton-cg'}\n",
            "-0.128552 (0.005329) with: {'C': 0.001, 'max_iter': 100, 'solver': 'lbfgs'}\n",
            "-0.128536 (0.005310) with: {'C': 0.001, 'max_iter': 100, 'solver': 'newton-cg'}\n",
            "-0.148914 (0.005633) with: {'C': 0.001, 'max_iter': 100, 'solver': 'liblinear'}\n",
            "-0.148569 (0.004816) with: {'C': 0.001, 'max_iter': 100, 'solver': 'sag'}\n",
            "-0.157223 (0.005071) with: {'C': 0.001, 'max_iter': 100, 'solver': 'saga'}\n",
            "-0.128536 (0.005309) with: {'C': 0.001, 'max_iter': 1000, 'solver': 'lbfgs'}\n",
            "-0.128536 (0.005310) with: {'C': 0.001, 'max_iter': 1000, 'solver': 'newton-cg'}\n",
            "-0.148914 (0.005633) with: {'C': 0.001, 'max_iter': 1000, 'solver': 'liblinear'}\n",
            "-0.138058 (0.004658) with: {'C': 0.001, 'max_iter': 1000, 'solver': 'sag'}\n",
            "-0.142140 (0.004871) with: {'C': 0.001, 'max_iter': 1000, 'solver': 'saga'}\n",
            "-0.128536 (0.005309) with: {'C': 0.001, 'max_iter': 2500, 'solver': 'lbfgs'}\n",
            "-0.128536 (0.005310) with: {'C': 0.001, 'max_iter': 2500, 'solver': 'newton-cg'}\n",
            "-0.148914 (0.005633) with: {'C': 0.001, 'max_iter': 2500, 'solver': 'liblinear'}\n",
            "-0.132606 (0.004707) with: {'C': 0.001, 'max_iter': 2500, 'solver': 'sag'}\n",
            "-0.137043 (0.004524) with: {'C': 0.001, 'max_iter': 2500, 'solver': 'saga'}\n",
            "-0.128536 (0.005309) with: {'C': 0.001, 'max_iter': 5000, 'solver': 'lbfgs'}\n",
            "-0.128536 (0.005310) with: {'C': 0.001, 'max_iter': 5000, 'solver': 'newton-cg'}\n",
            "-0.148914 (0.005633) with: {'C': 0.001, 'max_iter': 5000, 'solver': 'liblinear'}\n",
            "-0.132471 (0.004783) with: {'C': 0.001, 'max_iter': 5000, 'solver': 'sag'}\n",
            "-0.136777 (0.004511) with: {'C': 0.001, 'max_iter': 5000, 'solver': 'saga'}\n",
            "-0.115076 (0.006641) with: {'C': 0.01, 'max_iter': 100, 'solver': 'lbfgs'}\n",
            "-0.114966 (0.006501) with: {'C': 0.01, 'max_iter': 100, 'solver': 'newton-cg'}\n",
            "-0.117663 (0.006953) with: {'C': 0.01, 'max_iter': 100, 'solver': 'liblinear'}\n",
            "-0.127715 (0.005676) with: {'C': 0.01, 'max_iter': 100, 'solver': 'sag'}\n",
            "-0.141195 (0.006642) with: {'C': 0.01, 'max_iter': 100, 'solver': 'saga'}\n",
            "-0.114968 (0.006500) with: {'C': 0.01, 'max_iter': 1000, 'solver': 'lbfgs'}\n",
            "-0.114966 (0.006501) with: {'C': 0.01, 'max_iter': 1000, 'solver': 'newton-cg'}\n",
            "-0.117663 (0.006953) with: {'C': 0.01, 'max_iter': 1000, 'solver': 'liblinear'}\n",
            "-0.117406 (0.006777) with: {'C': 0.01, 'max_iter': 1000, 'solver': 'sag'}\n",
            "-0.118466 (0.006757) with: {'C': 0.01, 'max_iter': 1000, 'solver': 'saga'}\n",
            "-0.114968 (0.006500) with: {'C': 0.01, 'max_iter': 2500, 'solver': 'lbfgs'}\n",
            "-0.114966 (0.006501) with: {'C': 0.01, 'max_iter': 2500, 'solver': 'newton-cg'}\n",
            "-0.117663 (0.006953) with: {'C': 0.01, 'max_iter': 2500, 'solver': 'liblinear'}\n",
            "-0.117203 (0.006728) with: {'C': 0.01, 'max_iter': 2500, 'solver': 'sag'}\n",
            "-0.118268 (0.006807) with: {'C': 0.01, 'max_iter': 2500, 'solver': 'saga'}\n",
            "-0.114968 (0.006500) with: {'C': 0.01, 'max_iter': 5000, 'solver': 'lbfgs'}\n",
            "-0.114966 (0.006501) with: {'C': 0.01, 'max_iter': 5000, 'solver': 'newton-cg'}\n",
            "-0.117663 (0.006953) with: {'C': 0.01, 'max_iter': 5000, 'solver': 'liblinear'}\n",
            "-0.117203 (0.006728) with: {'C': 0.01, 'max_iter': 5000, 'solver': 'sag'}\n",
            "-0.118267 (0.006807) with: {'C': 0.01, 'max_iter': 5000, 'solver': 'saga'}\n",
            "-0.112483 (0.007059) with: {'C': 0.1, 'max_iter': 100, 'solver': 'lbfgs'}\n",
            "-0.112050 (0.006859) with: {'C': 0.1, 'max_iter': 100, 'solver': 'newton-cg'}\n",
            "-0.112821 (0.007324) with: {'C': 0.1, 'max_iter': 100, 'solver': 'liblinear'}\n",
            "-0.125800 (0.005886) with: {'C': 0.1, 'max_iter': 100, 'solver': 'sag'}\n",
            "-0.139639 (0.006806) with: {'C': 0.1, 'max_iter': 100, 'solver': 'saga'}\n",
            "-0.112029 (0.006857) with: {'C': 0.1, 'max_iter': 1000, 'solver': 'lbfgs'}\n",
            "-0.112050 (0.006859) with: {'C': 0.1, 'max_iter': 1000, 'solver': 'newton-cg'}\n",
            "-0.112821 (0.007324) with: {'C': 0.1, 'max_iter': 1000, 'solver': 'liblinear'}\n",
            "-0.114550 (0.007344) with: {'C': 0.1, 'max_iter': 1000, 'solver': 'sag'}\n",
            "-0.115960 (0.007326) with: {'C': 0.1, 'max_iter': 1000, 'solver': 'saga'}\n",
            "-0.112029 (0.006857) with: {'C': 0.1, 'max_iter': 2500, 'solver': 'lbfgs'}\n",
            "-0.112050 (0.006859) with: {'C': 0.1, 'max_iter': 2500, 'solver': 'newton-cg'}\n",
            "-0.112821 (0.007324) with: {'C': 0.1, 'max_iter': 2500, 'solver': 'liblinear'}\n",
            "-0.113628 (0.007343) with: {'C': 0.1, 'max_iter': 2500, 'solver': 'sag'}\n",
            "-0.114392 (0.007351) with: {'C': 0.1, 'max_iter': 2500, 'solver': 'saga'}\n",
            "-0.112029 (0.006857) with: {'C': 0.1, 'max_iter': 5000, 'solver': 'lbfgs'}\n",
            "-0.112050 (0.006859) with: {'C': 0.1, 'max_iter': 5000, 'solver': 'newton-cg'}\n",
            "-0.112821 (0.007324) with: {'C': 0.1, 'max_iter': 5000, 'solver': 'liblinear'}\n",
            "-0.113628 (0.007344) with: {'C': 0.1, 'max_iter': 5000, 'solver': 'sag'}\n",
            "-0.114392 (0.007352) with: {'C': 0.1, 'max_iter': 5000, 'solver': 'saga'}\n",
            "-0.112217 (0.007786) with: {'C': 1, 'max_iter': 100, 'solver': 'lbfgs'}\n",
            "-0.109598 (0.007128) with: {'C': 1, 'max_iter': 100, 'solver': 'newton-cg'}\n",
            "-0.110651 (0.007395) with: {'C': 1, 'max_iter': 100, 'solver': 'liblinear'}\n",
            "-0.125612 (0.005912) with: {'C': 1, 'max_iter': 100, 'solver': 'sag'}\n",
            "-0.139483 (0.006823) with: {'C': 1, 'max_iter': 100, 'solver': 'saga'}\n",
            "-0.109615 (0.007138) with: {'C': 1, 'max_iter': 1000, 'solver': 'lbfgs'}\n",
            "-0.109598 (0.007128) with: {'C': 1, 'max_iter': 1000, 'solver': 'newton-cg'}\n",
            "-0.110651 (0.007395) with: {'C': 1, 'max_iter': 1000, 'solver': 'liblinear'}\n",
            "-0.114356 (0.007436) with: {'C': 1, 'max_iter': 1000, 'solver': 'sag'}\n",
            "-0.115788 (0.007415) with: {'C': 1, 'max_iter': 1000, 'solver': 'saga'}\n",
            "-0.109615 (0.007138) with: {'C': 1, 'max_iter': 2500, 'solver': 'lbfgs'}\n",
            "-0.109598 (0.007128) with: {'C': 1, 'max_iter': 2500, 'solver': 'newton-cg'}\n",
            "-0.110651 (0.007395) with: {'C': 1, 'max_iter': 2500, 'solver': 'liblinear'}\n",
            "-0.113230 (0.007393) with: {'C': 1, 'max_iter': 2500, 'solver': 'sag'}\n",
            "-0.114015 (0.007407) with: {'C': 1, 'max_iter': 2500, 'solver': 'saga'}\n",
            "-0.109615 (0.007138) with: {'C': 1, 'max_iter': 5000, 'solver': 'lbfgs'}\n",
            "-0.109598 (0.007128) with: {'C': 1, 'max_iter': 5000, 'solver': 'newton-cg'}\n",
            "-0.110651 (0.007395) with: {'C': 1, 'max_iter': 5000, 'solver': 'liblinear'}\n",
            "-0.113219 (0.007409) with: {'C': 1, 'max_iter': 5000, 'solver': 'sag'}\n",
            "-0.113979 (0.007399) with: {'C': 1, 'max_iter': 5000, 'solver': 'saga'}\n",
            "-0.112539 (0.007367) with: {'C': 10, 'max_iter': 100, 'solver': 'lbfgs'}\n",
            "-0.108815 (0.007221) with: {'C': 10, 'max_iter': 100, 'solver': 'newton-cg'}\n",
            "-0.108691 (0.007279) with: {'C': 10, 'max_iter': 100, 'solver': 'liblinear'}\n",
            "-0.125595 (0.005916) with: {'C': 10, 'max_iter': 100, 'solver': 'sag'}\n",
            "-0.139468 (0.006829) with: {'C': 10, 'max_iter': 100, 'solver': 'saga'}\n",
            "-0.108815 (0.007222) with: {'C': 10, 'max_iter': 1000, 'solver': 'lbfgs'}\n",
            "-0.108815 (0.007221) with: {'C': 10, 'max_iter': 1000, 'solver': 'newton-cg'}\n",
            "-0.108691 (0.007279) with: {'C': 10, 'max_iter': 1000, 'solver': 'liblinear'}\n",
            "-0.114339 (0.007446) with: {'C': 10, 'max_iter': 1000, 'solver': 'sag'}\n",
            "-0.115772 (0.007424) with: {'C': 10, 'max_iter': 1000, 'solver': 'saga'}\n",
            "-0.108818 (0.007223) with: {'C': 10, 'max_iter': 2500, 'solver': 'lbfgs'}\n",
            "-0.108815 (0.007221) with: {'C': 10, 'max_iter': 2500, 'solver': 'newton-cg'}\n",
            "-0.108691 (0.007279) with: {'C': 10, 'max_iter': 2500, 'solver': 'liblinear'}\n",
            "-0.113197 (0.007396) with: {'C': 10, 'max_iter': 2500, 'solver': 'sag'}\n",
            "-0.113990 (0.007417) with: {'C': 10, 'max_iter': 2500, 'solver': 'saga'}\n",
            "-0.108818 (0.007223) with: {'C': 10, 'max_iter': 5000, 'solver': 'lbfgs'}\n",
            "-0.108815 (0.007221) with: {'C': 10, 'max_iter': 5000, 'solver': 'newton-cg'}\n",
            "-0.108691 (0.007279) with: {'C': 10, 'max_iter': 5000, 'solver': 'liblinear'}\n",
            "-0.113182 (0.007417) with: {'C': 10, 'max_iter': 5000, 'solver': 'sag'}\n",
            "-0.113938 (0.007404) with: {'C': 10, 'max_iter': 5000, 'solver': 'saga'}\n",
            "-0.112574 (0.007240) with: {'C': 100, 'max_iter': 100, 'solver': 'lbfgs'}\n",
            "-0.109633 (0.007311) with: {'C': 100, 'max_iter': 100, 'solver': 'newton-cg'}\n",
            "-0.109250 (0.007135) with: {'C': 100, 'max_iter': 100, 'solver': 'liblinear'}\n",
            "-0.125593 (0.005913) with: {'C': 100, 'max_iter': 100, 'solver': 'sag'}\n",
            "-0.139467 (0.006827) with: {'C': 100, 'max_iter': 100, 'solver': 'saga'}\n",
            "-0.109642 (0.007291) with: {'C': 100, 'max_iter': 1000, 'solver': 'lbfgs'}\n",
            "-0.109633 (0.007311) with: {'C': 100, 'max_iter': 1000, 'solver': 'newton-cg'}\n",
            "-0.109250 (0.007135) with: {'C': 100, 'max_iter': 1000, 'solver': 'liblinear'}\n",
            "-0.114338 (0.007447) with: {'C': 100, 'max_iter': 1000, 'solver': 'sag'}\n",
            "-0.115770 (0.007426) with: {'C': 100, 'max_iter': 1000, 'solver': 'saga'}\n",
            "-0.109616 (0.007292) with: {'C': 100, 'max_iter': 2500, 'solver': 'lbfgs'}\n",
            "-0.109633 (0.007311) with: {'C': 100, 'max_iter': 2500, 'solver': 'newton-cg'}\n",
            "-0.109250 (0.007135) with: {'C': 100, 'max_iter': 2500, 'solver': 'liblinear'}\n",
            "-0.113194 (0.007396) with: {'C': 100, 'max_iter': 2500, 'solver': 'sag'}\n",
            "-0.113988 (0.007418) with: {'C': 100, 'max_iter': 2500, 'solver': 'saga'}\n",
            "-0.109616 (0.007292) with: {'C': 100, 'max_iter': 5000, 'solver': 'lbfgs'}\n",
            "-0.109633 (0.007311) with: {'C': 100, 'max_iter': 5000, 'solver': 'newton-cg'}\n",
            "-0.109250 (0.007135) with: {'C': 100, 'max_iter': 5000, 'solver': 'liblinear'}\n",
            "-0.113178 (0.007418) with: {'C': 100, 'max_iter': 5000, 'solver': 'sag'}\n",
            "-0.113934 (0.007404) with: {'C': 100, 'max_iter': 5000, 'solver': 'saga'}\n",
            "-0.112744 (0.007228) with: {'C': 1000, 'max_iter': 100, 'solver': 'lbfgs'}\n",
            "-0.109813 (0.007332) with: {'C': 1000, 'max_iter': 100, 'solver': 'newton-cg'}\n",
            "-0.109549 (0.007265) with: {'C': 1000, 'max_iter': 100, 'solver': 'liblinear'}\n",
            "-0.125595 (0.005913) with: {'C': 1000, 'max_iter': 100, 'solver': 'sag'}\n",
            "-0.139460 (0.006823) with: {'C': 1000, 'max_iter': 100, 'solver': 'saga'}\n",
            "-0.109743 (0.007381) with: {'C': 1000, 'max_iter': 1000, 'solver': 'lbfgs'}\n",
            "-0.109813 (0.007332) with: {'C': 1000, 'max_iter': 1000, 'solver': 'newton-cg'}\n",
            "-0.109549 (0.007265) with: {'C': 1000, 'max_iter': 1000, 'solver': 'liblinear'}\n",
            "-0.114337 (0.007448) with: {'C': 1000, 'max_iter': 1000, 'solver': 'sag'}\n",
            "-0.115770 (0.007425) with: {'C': 1000, 'max_iter': 1000, 'solver': 'saga'}\n",
            "-0.109799 (0.007331) with: {'C': 1000, 'max_iter': 2500, 'solver': 'lbfgs'}\n",
            "-0.109813 (0.007332) with: {'C': 1000, 'max_iter': 2500, 'solver': 'newton-cg'}\n",
            "-0.109549 (0.007265) with: {'C': 1000, 'max_iter': 2500, 'solver': 'liblinear'}\n",
            "-0.113193 (0.007396) with: {'C': 1000, 'max_iter': 2500, 'solver': 'sag'}\n",
            "-0.113988 (0.007418) with: {'C': 1000, 'max_iter': 2500, 'solver': 'saga'}\n",
            "-0.109799 (0.007331) with: {'C': 1000, 'max_iter': 5000, 'solver': 'lbfgs'}\n",
            "-0.109813 (0.007332) with: {'C': 1000, 'max_iter': 5000, 'solver': 'newton-cg'}\n",
            "-0.109549 (0.007265) with: {'C': 1000, 'max_iter': 5000, 'solver': 'liblinear'}\n",
            "-0.113178 (0.007418) with: {'C': 1000, 'max_iter': 5000, 'solver': 'sag'}\n",
            "-0.113933 (0.007404) with: {'C': 1000, 'max_iter': 5000, 'solver': 'saga'}\n",
            "-0.113523 (0.003788) with: {'C': 0.1, 'max_iter': 2500, 'solver': 'lbfgs'}\n",
            "-0.113523 (0.003788) with: {'C': 0.1, 'max_iter': 1000, 'solver': 'lbfgs'}\n",
            "-0.113523 (0.003788) with: {'C': 0.1, 'max_iter': 5000, 'solver': 'lbfgs'}\n",
            "-0.111729 (0.003883) with: {'C': 1, 'max_iter': 100, 'solver': 'liblinear'}\n",
            "-0.111729 (0.003883) with: {'C': 1, 'max_iter': 2500, 'solver': 'liblinear'}\n",
            "-0.111729 (0.003883) with: {'C': 1, 'max_iter': 1000, 'solver': 'liblinear'}\n",
            "-0.111729 (0.003883) with: {'C': 1, 'max_iter': 5000, 'solver': 'liblinear'}\n",
            "-0.109955 (0.003997) with: {'C': 1000, 'max_iter': 5000, 'solver': 'newton-cg'}\n",
            "-0.109955 (0.003997) with: {'C': 1000, 'max_iter': 100, 'solver': 'newton-cg'}\n",
            "-0.109955 (0.003997) with: {'C': 1000, 'max_iter': 2500, 'solver': 'newton-cg'}\n",
            "-0.109955 (0.003997) with: {'C': 1000, 'max_iter': 1000, 'solver': 'newton-cg'}\n",
            "-0.109961 (0.004012) with: {'C': 1000, 'max_iter': 2500, 'solver': 'lbfgs'}\n",
            "-0.109961 (0.004012) with: {'C': 1000, 'max_iter': 5000, 'solver': 'lbfgs'}\n",
            "-0.110006 (0.004003) with: {'C': 1000, 'max_iter': 1000, 'solver': 'lbfgs'}\n",
            "-0.109939 (0.003991) with: {'C': 100, 'max_iter': 1000, 'solver': 'lbfgs'}\n",
            "-0.109951 (0.003985) with: {'C': 100, 'max_iter': 1000, 'solver': 'newton-cg'}\n",
            "-0.109951 (0.003985) with: {'C': 100, 'max_iter': 5000, 'solver': 'newton-cg'}\n",
            "-0.109951 (0.003985) with: {'C': 100, 'max_iter': 2500, 'solver': 'newton-cg'}\n",
            "-0.109951 (0.003985) with: {'C': 100, 'max_iter': 100, 'solver': 'newton-cg'}\n",
            "-0.109968 (0.003961) with: {'C': 100, 'max_iter': 2500, 'solver': 'lbfgs'}\n",
            "-0.109968 (0.003961) with: {'C': 100, 'max_iter': 5000, 'solver': 'lbfgs'}\n",
            "-0.110817 (0.003835) with: {'C': 1, 'max_iter': 1000, 'solver': 'lbfgs'}\n",
            "-0.110813 (0.003835) with: {'C': 1, 'max_iter': 2500, 'solver': 'lbfgs'}\n",
            "-0.110813 (0.003835) with: {'C': 1, 'max_iter': 5000, 'solver': 'lbfgs'}\n",
            "-0.110793 (0.003814) with: {'C': 1, 'max_iter': 2500, 'solver': 'newton-cg'}\n",
            "-0.110793 (0.003814) with: {'C': 1, 'max_iter': 100, 'solver': 'newton-cg'}\n",
            "-0.110793 (0.003814) with: {'C': 1, 'max_iter': 5000, 'solver': 'newton-cg'}\n",
            "-0.110793 (0.003814) with: {'C': 1, 'max_iter': 1000, 'solver': 'newton-cg'}\n",
            "-0.110078 (0.003924) with: {'C': 1000, 'max_iter': 1000, 'solver': 'liblinear'}\n",
            "-0.110078 (0.003924) with: {'C': 1000, 'max_iter': 100, 'solver': 'liblinear'}\n",
            "-0.110078 (0.003924) with: {'C': 1000, 'max_iter': 2500, 'solver': 'liblinear'}\n",
            "-0.110078 (0.003924) with: {'C': 1000, 'max_iter': 5000, 'solver': 'liblinear'}\n",
            "-0.110153 (0.003797) with: {'C': 100, 'max_iter': 5000, 'solver': 'liblinear'}\n",
            "-0.110153 (0.003797) with: {'C': 100, 'max_iter': 1000, 'solver': 'liblinear'}\n",
            "-0.110153 (0.003797) with: {'C': 100, 'max_iter': 100, 'solver': 'liblinear'}\n",
            "-0.110153 (0.003797) with: {'C': 100, 'max_iter': 2500, 'solver': 'liblinear'}\n",
            "-0.109987 (0.003907) with: {'C': 10, 'max_iter': 2500, 'solver': 'lbfgs'}\n",
            "-0.109987 (0.003907) with: {'C': 10, 'max_iter': 5000, 'solver': 'lbfgs'}\n",
            "-0.109962 (0.003903) with: {'C': 10, 'max_iter': 100, 'solver': 'newton-cg'}\n",
            "-0.109962 (0.003903) with: {'C': 10, 'max_iter': 5000, 'solver': 'newton-cg'}\n",
            "-0.109962 (0.003903) with: {'C': 10, 'max_iter': 1000, 'solver': 'newton-cg'}\n",
            "-0.109962 (0.003903) with: {'C': 10, 'max_iter': 2500, 'solver': 'newton-cg'}\n",
            "-0.110145 (0.003723) with: {'C': 10, 'max_iter': 1000, 'solver': 'lbfgs'}\n",
            "-0.110229 (0.003863) with: {'C': 10, 'max_iter': 5000, 'solver': 'liblinear'}\n",
            "-0.110229 (0.003863) with: {'C': 10, 'max_iter': 100, 'solver': 'liblinear'}\n",
            "-0.110229 (0.003863) with: {'C': 10, 'max_iter': 2500, 'solver': 'liblinear'}\n",
            "-0.110229 (0.003863) with: {'C': 10, 'max_iter': 1000, 'solver': 'liblinear'}\n",
            "-0.110601 (0.002350) with: {'C': 100, 'max_iter': 2500, 'solver': 'lbfgs'}\n",
            "-0.110640 (0.002345) with: {'C': 10, 'max_iter': 2500, 'solver': 'newton-cg'}\n",
            "-0.110640 (0.002345) with: {'C': 10, 'max_iter': 1000, 'solver': 'newton-cg'}\n",
            "-0.110640 (0.002345) with: {'C': 10, 'max_iter': 5000, 'solver': 'newton-cg'}\n",
            "-0.110640 (0.002345) with: {'C': 10, 'max_iter': 100, 'solver': 'newton-cg'}\n",
            "-0.110600 (0.002336) with: {'C': 1000, 'max_iter': 2500, 'solver': 'lbfgs'}\n",
            "-0.110600 (0.002336) with: {'C': 1000, 'max_iter': 5000, 'solver': 'lbfgs'}\n",
            "-0.110596 (0.002347) with: {'C': 1000, 'max_iter': 100, 'solver': 'newton-cg'}\n",
            "-0.110596 (0.002347) with: {'C': 1000, 'max_iter': 2500, 'solver': 'newton-cg'}\n",
            "-0.110596 (0.002347) with: {'C': 1000, 'max_iter': 5000, 'solver': 'newton-cg'}\n",
            "-0.110596 (0.002347) with: {'C': 1000, 'max_iter': 1000, 'solver': 'newton-cg'}\n",
            "-0.110600 (0.002347) with: {'C': 100, 'max_iter': 1000, 'solver': 'newton-cg'}\n",
            "-0.110600 (0.002347) with: {'C': 100, 'max_iter': 5000, 'solver': 'newton-cg'}\n",
            "-0.110600 (0.002347) with: {'C': 100, 'max_iter': 2500, 'solver': 'newton-cg'}\n",
            "-0.110600 (0.002347) with: {'C': 100, 'max_iter': 100, 'solver': 'newton-cg'}\n",
            "-0.110689 (0.002319) with: {'C': 100, 'max_iter': 1000, 'solver': 'lbfgs'}\n",
            "-0.109867 (0.001760) with: {'C': 100, 'max_iter': 2500, 'solver': 'newton-cg'}\n",
            "-0.109867 (0.001760) with: {'C': 100, 'max_iter': 100, 'solver': 'newton-cg'}\n",
            "-0.109867 (0.001760) with: {'C': 1000, 'max_iter': 100, 'solver': 'newton-cg'}\n",
            "-0.109867 (0.001760) with: {'C': 1000, 'max_iter': 2500, 'solver': 'newton-cg'}\n",
            "-0.109867 (0.001760) with: {'C': 1000, 'max_iter': 5000, 'solver': 'newton-cg'}\n",
            "-0.109867 (0.001760) with: {'C': 1000, 'max_iter': 1000, 'solver': 'newton-cg'}\n",
            "-0.109573 (0.001062) with: {'C': 100, 'max_iter': 2500, 'solver': 'newton-cg'}\n",
            "-0.109573 (0.001062) with: {'C': 100, 'max_iter': 100, 'solver': 'newton-cg'}\n"
          ]
        }
      ],
      "source": [
        "# summarize results\n",
        "print(\"Best: %f using %s\" % (grid_search.best_score_, grid_search.best_params_))\n",
        "means = grid_search.cv_results_['mean_test_score']\n",
        "stds = grid_search.cv_results_['std_test_score']\n",
        "params = grid_search.cv_results_['params']\n",
        "for mean, stdev, param in zip(means, stds, params):\n",
        " print(\"%f (%f) with: %r\" % (mean, stdev, param))"
      ]
    },
    {
      "cell_type": "code",
      "execution_count": null,
      "metadata": {
        "colab": {
          "base_uri": "https://localhost:8080/"
        },
        "id": "PTa0Mr6uHIbh",
        "outputId": "ca1751f6-2307-4ec7-e9a1-58ac398a6cbd"
      },
      "outputs": [
        {
          "name": "stdout",
          "output_type": "stream",
          "text": [
            "              precision    recall  f1-score   support\n",
            "\n",
            "           0       0.99      0.95      0.97    292721\n",
            "           1       0.89      0.97      0.93    122607\n",
            "\n",
            "    accuracy                           0.95    415328\n",
            "   macro avg       0.94      0.96      0.95    415328\n",
            "weighted avg       0.96      0.95      0.96    415328\n",
            "\n"
          ]
        }
      ],
      "source": [
        "from sklearn.metrics import plot_confusion_matrix,accuracy_score,classification_report\n",
        "lrpred = grid_search.predict(X_test)\n",
        "print(classification_report(y_test,lrpred))"
      ]
    },
    {
      "cell_type": "code",
      "execution_count": null,
      "metadata": {
        "colab": {
          "base_uri": "https://localhost:8080/"
        },
        "id": "ssEXgTcu2kaM",
        "outputId": "19c88b18-1cd7-4fe6-bff9-57fed850e51b"
      },
      "outputs": [
        {
          "name": "stdout",
          "output_type": "stream",
          "text": [
            "Best: -0.109573 using {'C': 100, 'max_iter': 2500, 'solver': 'newton-cg'}\n",
            "-0.128552 (0.005329) with: {'C': 0.001, 'max_iter': 100, 'solver': 'lbfgs'}\n",
            "-0.128536 (0.005310) with: {'C': 0.001, 'max_iter': 100, 'solver': 'newton-cg'}\n",
            "-0.148914 (0.005633) with: {'C': 0.001, 'max_iter': 100, 'solver': 'liblinear'}\n",
            "-0.148569 (0.004816) with: {'C': 0.001, 'max_iter': 100, 'solver': 'sag'}\n",
            "-0.157223 (0.005071) with: {'C': 0.001, 'max_iter': 100, 'solver': 'saga'}\n",
            "-0.128536 (0.005309) with: {'C': 0.001, 'max_iter': 1000, 'solver': 'lbfgs'}\n",
            "-0.128536 (0.005310) with: {'C': 0.001, 'max_iter': 1000, 'solver': 'newton-cg'}\n",
            "-0.148914 (0.005633) with: {'C': 0.001, 'max_iter': 1000, 'solver': 'liblinear'}\n",
            "-0.138058 (0.004658) with: {'C': 0.001, 'max_iter': 1000, 'solver': 'sag'}\n",
            "-0.142140 (0.004871) with: {'C': 0.001, 'max_iter': 1000, 'solver': 'saga'}\n",
            "-0.128536 (0.005309) with: {'C': 0.001, 'max_iter': 2500, 'solver': 'lbfgs'}\n",
            "-0.128536 (0.005310) with: {'C': 0.001, 'max_iter': 2500, 'solver': 'newton-cg'}\n",
            "-0.148914 (0.005633) with: {'C': 0.001, 'max_iter': 2500, 'solver': 'liblinear'}\n",
            "-0.132606 (0.004707) with: {'C': 0.001, 'max_iter': 2500, 'solver': 'sag'}\n",
            "-0.137043 (0.004524) with: {'C': 0.001, 'max_iter': 2500, 'solver': 'saga'}\n",
            "-0.128536 (0.005309) with: {'C': 0.001, 'max_iter': 5000, 'solver': 'lbfgs'}\n",
            "-0.128536 (0.005310) with: {'C': 0.001, 'max_iter': 5000, 'solver': 'newton-cg'}\n",
            "-0.148914 (0.005633) with: {'C': 0.001, 'max_iter': 5000, 'solver': 'liblinear'}\n",
            "-0.132471 (0.004783) with: {'C': 0.001, 'max_iter': 5000, 'solver': 'sag'}\n",
            "-0.136777 (0.004511) with: {'C': 0.001, 'max_iter': 5000, 'solver': 'saga'}\n",
            "-0.115076 (0.006641) with: {'C': 0.01, 'max_iter': 100, 'solver': 'lbfgs'}\n",
            "-0.114966 (0.006501) with: {'C': 0.01, 'max_iter': 100, 'solver': 'newton-cg'}\n",
            "-0.117663 (0.006953) with: {'C': 0.01, 'max_iter': 100, 'solver': 'liblinear'}\n",
            "-0.127715 (0.005676) with: {'C': 0.01, 'max_iter': 100, 'solver': 'sag'}\n",
            "-0.141195 (0.006642) with: {'C': 0.01, 'max_iter': 100, 'solver': 'saga'}\n",
            "-0.114968 (0.006500) with: {'C': 0.01, 'max_iter': 1000, 'solver': 'lbfgs'}\n",
            "-0.114966 (0.006501) with: {'C': 0.01, 'max_iter': 1000, 'solver': 'newton-cg'}\n",
            "-0.117663 (0.006953) with: {'C': 0.01, 'max_iter': 1000, 'solver': 'liblinear'}\n",
            "-0.117406 (0.006777) with: {'C': 0.01, 'max_iter': 1000, 'solver': 'sag'}\n",
            "-0.118466 (0.006757) with: {'C': 0.01, 'max_iter': 1000, 'solver': 'saga'}\n",
            "-0.114968 (0.006500) with: {'C': 0.01, 'max_iter': 2500, 'solver': 'lbfgs'}\n",
            "-0.114966 (0.006501) with: {'C': 0.01, 'max_iter': 2500, 'solver': 'newton-cg'}\n",
            "-0.117663 (0.006953) with: {'C': 0.01, 'max_iter': 2500, 'solver': 'liblinear'}\n",
            "-0.117203 (0.006728) with: {'C': 0.01, 'max_iter': 2500, 'solver': 'sag'}\n",
            "-0.118268 (0.006807) with: {'C': 0.01, 'max_iter': 2500, 'solver': 'saga'}\n",
            "-0.114968 (0.006500) with: {'C': 0.01, 'max_iter': 5000, 'solver': 'lbfgs'}\n",
            "-0.114966 (0.006501) with: {'C': 0.01, 'max_iter': 5000, 'solver': 'newton-cg'}\n",
            "-0.117663 (0.006953) with: {'C': 0.01, 'max_iter': 5000, 'solver': 'liblinear'}\n",
            "-0.117203 (0.006728) with: {'C': 0.01, 'max_iter': 5000, 'solver': 'sag'}\n",
            "-0.118267 (0.006807) with: {'C': 0.01, 'max_iter': 5000, 'solver': 'saga'}\n",
            "-0.112483 (0.007059) with: {'C': 0.1, 'max_iter': 100, 'solver': 'lbfgs'}\n",
            "-0.112050 (0.006859) with: {'C': 0.1, 'max_iter': 100, 'solver': 'newton-cg'}\n",
            "-0.112821 (0.007324) with: {'C': 0.1, 'max_iter': 100, 'solver': 'liblinear'}\n",
            "-0.125800 (0.005886) with: {'C': 0.1, 'max_iter': 100, 'solver': 'sag'}\n",
            "-0.139639 (0.006806) with: {'C': 0.1, 'max_iter': 100, 'solver': 'saga'}\n",
            "-0.112029 (0.006857) with: {'C': 0.1, 'max_iter': 1000, 'solver': 'lbfgs'}\n",
            "-0.112050 (0.006859) with: {'C': 0.1, 'max_iter': 1000, 'solver': 'newton-cg'}\n",
            "-0.112821 (0.007324) with: {'C': 0.1, 'max_iter': 1000, 'solver': 'liblinear'}\n",
            "-0.114550 (0.007344) with: {'C': 0.1, 'max_iter': 1000, 'solver': 'sag'}\n",
            "-0.115960 (0.007326) with: {'C': 0.1, 'max_iter': 1000, 'solver': 'saga'}\n",
            "-0.112029 (0.006857) with: {'C': 0.1, 'max_iter': 2500, 'solver': 'lbfgs'}\n",
            "-0.112050 (0.006859) with: {'C': 0.1, 'max_iter': 2500, 'solver': 'newton-cg'}\n",
            "-0.112821 (0.007324) with: {'C': 0.1, 'max_iter': 2500, 'solver': 'liblinear'}\n",
            "-0.113628 (0.007343) with: {'C': 0.1, 'max_iter': 2500, 'solver': 'sag'}\n",
            "-0.114392 (0.007351) with: {'C': 0.1, 'max_iter': 2500, 'solver': 'saga'}\n",
            "-0.112029 (0.006857) with: {'C': 0.1, 'max_iter': 5000, 'solver': 'lbfgs'}\n",
            "-0.112050 (0.006859) with: {'C': 0.1, 'max_iter': 5000, 'solver': 'newton-cg'}\n",
            "-0.112821 (0.007324) with: {'C': 0.1, 'max_iter': 5000, 'solver': 'liblinear'}\n",
            "-0.113628 (0.007344) with: {'C': 0.1, 'max_iter': 5000, 'solver': 'sag'}\n",
            "-0.114392 (0.007352) with: {'C': 0.1, 'max_iter': 5000, 'solver': 'saga'}\n",
            "-0.112217 (0.007786) with: {'C': 1, 'max_iter': 100, 'solver': 'lbfgs'}\n",
            "-0.109598 (0.007128) with: {'C': 1, 'max_iter': 100, 'solver': 'newton-cg'}\n",
            "-0.110651 (0.007395) with: {'C': 1, 'max_iter': 100, 'solver': 'liblinear'}\n",
            "-0.125612 (0.005912) with: {'C': 1, 'max_iter': 100, 'solver': 'sag'}\n",
            "-0.139483 (0.006823) with: {'C': 1, 'max_iter': 100, 'solver': 'saga'}\n",
            "-0.109615 (0.007138) with: {'C': 1, 'max_iter': 1000, 'solver': 'lbfgs'}\n",
            "-0.109598 (0.007128) with: {'C': 1, 'max_iter': 1000, 'solver': 'newton-cg'}\n",
            "-0.110651 (0.007395) with: {'C': 1, 'max_iter': 1000, 'solver': 'liblinear'}\n",
            "-0.114356 (0.007436) with: {'C': 1, 'max_iter': 1000, 'solver': 'sag'}\n",
            "-0.115788 (0.007415) with: {'C': 1, 'max_iter': 1000, 'solver': 'saga'}\n",
            "-0.109615 (0.007138) with: {'C': 1, 'max_iter': 2500, 'solver': 'lbfgs'}\n",
            "-0.109598 (0.007128) with: {'C': 1, 'max_iter': 2500, 'solver': 'newton-cg'}\n",
            "-0.110651 (0.007395) with: {'C': 1, 'max_iter': 2500, 'solver': 'liblinear'}\n",
            "-0.113230 (0.007393) with: {'C': 1, 'max_iter': 2500, 'solver': 'sag'}\n",
            "-0.114015 (0.007407) with: {'C': 1, 'max_iter': 2500, 'solver': 'saga'}\n",
            "-0.109615 (0.007138) with: {'C': 1, 'max_iter': 5000, 'solver': 'lbfgs'}\n",
            "-0.109598 (0.007128) with: {'C': 1, 'max_iter': 5000, 'solver': 'newton-cg'}\n",
            "-0.110651 (0.007395) with: {'C': 1, 'max_iter': 5000, 'solver': 'liblinear'}\n",
            "-0.113219 (0.007409) with: {'C': 1, 'max_iter': 5000, 'solver': 'sag'}\n",
            "-0.113979 (0.007399) with: {'C': 1, 'max_iter': 5000, 'solver': 'saga'}\n",
            "-0.112539 (0.007367) with: {'C': 10, 'max_iter': 100, 'solver': 'lbfgs'}\n",
            "-0.108815 (0.007221) with: {'C': 10, 'max_iter': 100, 'solver': 'newton-cg'}\n",
            "-0.108691 (0.007279) with: {'C': 10, 'max_iter': 100, 'solver': 'liblinear'}\n",
            "-0.125595 (0.005916) with: {'C': 10, 'max_iter': 100, 'solver': 'sag'}\n",
            "-0.139468 (0.006829) with: {'C': 10, 'max_iter': 100, 'solver': 'saga'}\n",
            "-0.108815 (0.007222) with: {'C': 10, 'max_iter': 1000, 'solver': 'lbfgs'}\n",
            "-0.108815 (0.007221) with: {'C': 10, 'max_iter': 1000, 'solver': 'newton-cg'}\n",
            "-0.108691 (0.007279) with: {'C': 10, 'max_iter': 1000, 'solver': 'liblinear'}\n",
            "-0.114339 (0.007446) with: {'C': 10, 'max_iter': 1000, 'solver': 'sag'}\n",
            "-0.115772 (0.007424) with: {'C': 10, 'max_iter': 1000, 'solver': 'saga'}\n",
            "-0.108818 (0.007223) with: {'C': 10, 'max_iter': 2500, 'solver': 'lbfgs'}\n",
            "-0.108815 (0.007221) with: {'C': 10, 'max_iter': 2500, 'solver': 'newton-cg'}\n",
            "-0.108691 (0.007279) with: {'C': 10, 'max_iter': 2500, 'solver': 'liblinear'}\n",
            "-0.113197 (0.007396) with: {'C': 10, 'max_iter': 2500, 'solver': 'sag'}\n",
            "-0.113990 (0.007417) with: {'C': 10, 'max_iter': 2500, 'solver': 'saga'}\n",
            "-0.108818 (0.007223) with: {'C': 10, 'max_iter': 5000, 'solver': 'lbfgs'}\n",
            "-0.108815 (0.007221) with: {'C': 10, 'max_iter': 5000, 'solver': 'newton-cg'}\n",
            "-0.108691 (0.007279) with: {'C': 10, 'max_iter': 5000, 'solver': 'liblinear'}\n",
            "-0.113182 (0.007417) with: {'C': 10, 'max_iter': 5000, 'solver': 'sag'}\n",
            "-0.113938 (0.007404) with: {'C': 10, 'max_iter': 5000, 'solver': 'saga'}\n",
            "-0.112574 (0.007240) with: {'C': 100, 'max_iter': 100, 'solver': 'lbfgs'}\n",
            "-0.109633 (0.007311) with: {'C': 100, 'max_iter': 100, 'solver': 'newton-cg'}\n",
            "-0.109250 (0.007135) with: {'C': 100, 'max_iter': 100, 'solver': 'liblinear'}\n",
            "-0.125593 (0.005913) with: {'C': 100, 'max_iter': 100, 'solver': 'sag'}\n",
            "-0.139467 (0.006827) with: {'C': 100, 'max_iter': 100, 'solver': 'saga'}\n",
            "-0.109642 (0.007291) with: {'C': 100, 'max_iter': 1000, 'solver': 'lbfgs'}\n",
            "-0.109633 (0.007311) with: {'C': 100, 'max_iter': 1000, 'solver': 'newton-cg'}\n",
            "-0.109250 (0.007135) with: {'C': 100, 'max_iter': 1000, 'solver': 'liblinear'}\n",
            "-0.114338 (0.007447) with: {'C': 100, 'max_iter': 1000, 'solver': 'sag'}\n",
            "-0.115770 (0.007426) with: {'C': 100, 'max_iter': 1000, 'solver': 'saga'}\n",
            "-0.109616 (0.007292) with: {'C': 100, 'max_iter': 2500, 'solver': 'lbfgs'}\n",
            "-0.109633 (0.007311) with: {'C': 100, 'max_iter': 2500, 'solver': 'newton-cg'}\n",
            "-0.109250 (0.007135) with: {'C': 100, 'max_iter': 2500, 'solver': 'liblinear'}\n",
            "-0.113194 (0.007396) with: {'C': 100, 'max_iter': 2500, 'solver': 'sag'}\n",
            "-0.113988 (0.007418) with: {'C': 100, 'max_iter': 2500, 'solver': 'saga'}\n",
            "-0.109616 (0.007292) with: {'C': 100, 'max_iter': 5000, 'solver': 'lbfgs'}\n",
            "-0.109633 (0.007311) with: {'C': 100, 'max_iter': 5000, 'solver': 'newton-cg'}\n",
            "-0.109250 (0.007135) with: {'C': 100, 'max_iter': 5000, 'solver': 'liblinear'}\n",
            "-0.113178 (0.007418) with: {'C': 100, 'max_iter': 5000, 'solver': 'sag'}\n",
            "-0.113934 (0.007404) with: {'C': 100, 'max_iter': 5000, 'solver': 'saga'}\n",
            "-0.112744 (0.007228) with: {'C': 1000, 'max_iter': 100, 'solver': 'lbfgs'}\n",
            "-0.109813 (0.007332) with: {'C': 1000, 'max_iter': 100, 'solver': 'newton-cg'}\n",
            "-0.109549 (0.007265) with: {'C': 1000, 'max_iter': 100, 'solver': 'liblinear'}\n",
            "-0.125595 (0.005913) with: {'C': 1000, 'max_iter': 100, 'solver': 'sag'}\n",
            "-0.139460 (0.006823) with: {'C': 1000, 'max_iter': 100, 'solver': 'saga'}\n",
            "-0.109743 (0.007381) with: {'C': 1000, 'max_iter': 1000, 'solver': 'lbfgs'}\n",
            "-0.109813 (0.007332) with: {'C': 1000, 'max_iter': 1000, 'solver': 'newton-cg'}\n",
            "-0.109549 (0.007265) with: {'C': 1000, 'max_iter': 1000, 'solver': 'liblinear'}\n",
            "-0.114337 (0.007448) with: {'C': 1000, 'max_iter': 1000, 'solver': 'sag'}\n",
            "-0.115770 (0.007425) with: {'C': 1000, 'max_iter': 1000, 'solver': 'saga'}\n",
            "-0.109799 (0.007331) with: {'C': 1000, 'max_iter': 2500, 'solver': 'lbfgs'}\n",
            "-0.109813 (0.007332) with: {'C': 1000, 'max_iter': 2500, 'solver': 'newton-cg'}\n",
            "-0.109549 (0.007265) with: {'C': 1000, 'max_iter': 2500, 'solver': 'liblinear'}\n",
            "-0.113193 (0.007396) with: {'C': 1000, 'max_iter': 2500, 'solver': 'sag'}\n",
            "-0.113988 (0.007418) with: {'C': 1000, 'max_iter': 2500, 'solver': 'saga'}\n",
            "-0.109799 (0.007331) with: {'C': 1000, 'max_iter': 5000, 'solver': 'lbfgs'}\n",
            "-0.109813 (0.007332) with: {'C': 1000, 'max_iter': 5000, 'solver': 'newton-cg'}\n",
            "-0.109549 (0.007265) with: {'C': 1000, 'max_iter': 5000, 'solver': 'liblinear'}\n",
            "-0.113178 (0.007418) with: {'C': 1000, 'max_iter': 5000, 'solver': 'sag'}\n",
            "-0.113933 (0.007404) with: {'C': 1000, 'max_iter': 5000, 'solver': 'saga'}\n",
            "-0.113523 (0.003788) with: {'C': 0.1, 'max_iter': 2500, 'solver': 'lbfgs'}\n",
            "-0.113523 (0.003788) with: {'C': 0.1, 'max_iter': 1000, 'solver': 'lbfgs'}\n",
            "-0.113523 (0.003788) with: {'C': 0.1, 'max_iter': 5000, 'solver': 'lbfgs'}\n",
            "-0.111729 (0.003883) with: {'C': 1, 'max_iter': 100, 'solver': 'liblinear'}\n",
            "-0.111729 (0.003883) with: {'C': 1, 'max_iter': 2500, 'solver': 'liblinear'}\n",
            "-0.111729 (0.003883) with: {'C': 1, 'max_iter': 1000, 'solver': 'liblinear'}\n",
            "-0.111729 (0.003883) with: {'C': 1, 'max_iter': 5000, 'solver': 'liblinear'}\n",
            "-0.109955 (0.003997) with: {'C': 1000, 'max_iter': 5000, 'solver': 'newton-cg'}\n",
            "-0.109955 (0.003997) with: {'C': 1000, 'max_iter': 100, 'solver': 'newton-cg'}\n",
            "-0.109955 (0.003997) with: {'C': 1000, 'max_iter': 2500, 'solver': 'newton-cg'}\n",
            "-0.109955 (0.003997) with: {'C': 1000, 'max_iter': 1000, 'solver': 'newton-cg'}\n",
            "-0.109961 (0.004012) with: {'C': 1000, 'max_iter': 2500, 'solver': 'lbfgs'}\n",
            "-0.109961 (0.004012) with: {'C': 1000, 'max_iter': 5000, 'solver': 'lbfgs'}\n",
            "-0.110006 (0.004003) with: {'C': 1000, 'max_iter': 1000, 'solver': 'lbfgs'}\n",
            "-0.109939 (0.003991) with: {'C': 100, 'max_iter': 1000, 'solver': 'lbfgs'}\n",
            "-0.109951 (0.003985) with: {'C': 100, 'max_iter': 1000, 'solver': 'newton-cg'}\n",
            "-0.109951 (0.003985) with: {'C': 100, 'max_iter': 5000, 'solver': 'newton-cg'}\n",
            "-0.109951 (0.003985) with: {'C': 100, 'max_iter': 2500, 'solver': 'newton-cg'}\n",
            "-0.109951 (0.003985) with: {'C': 100, 'max_iter': 100, 'solver': 'newton-cg'}\n",
            "-0.109968 (0.003961) with: {'C': 100, 'max_iter': 2500, 'solver': 'lbfgs'}\n",
            "-0.109968 (0.003961) with: {'C': 100, 'max_iter': 5000, 'solver': 'lbfgs'}\n",
            "-0.110817 (0.003835) with: {'C': 1, 'max_iter': 1000, 'solver': 'lbfgs'}\n",
            "-0.110813 (0.003835) with: {'C': 1, 'max_iter': 2500, 'solver': 'lbfgs'}\n",
            "-0.110813 (0.003835) with: {'C': 1, 'max_iter': 5000, 'solver': 'lbfgs'}\n",
            "-0.110793 (0.003814) with: {'C': 1, 'max_iter': 2500, 'solver': 'newton-cg'}\n",
            "-0.110793 (0.003814) with: {'C': 1, 'max_iter': 100, 'solver': 'newton-cg'}\n",
            "-0.110793 (0.003814) with: {'C': 1, 'max_iter': 5000, 'solver': 'newton-cg'}\n",
            "-0.110793 (0.003814) with: {'C': 1, 'max_iter': 1000, 'solver': 'newton-cg'}\n",
            "-0.110078 (0.003924) with: {'C': 1000, 'max_iter': 1000, 'solver': 'liblinear'}\n",
            "-0.110078 (0.003924) with: {'C': 1000, 'max_iter': 100, 'solver': 'liblinear'}\n",
            "-0.110078 (0.003924) with: {'C': 1000, 'max_iter': 2500, 'solver': 'liblinear'}\n",
            "-0.110078 (0.003924) with: {'C': 1000, 'max_iter': 5000, 'solver': 'liblinear'}\n",
            "-0.110153 (0.003797) with: {'C': 100, 'max_iter': 5000, 'solver': 'liblinear'}\n",
            "-0.110153 (0.003797) with: {'C': 100, 'max_iter': 1000, 'solver': 'liblinear'}\n",
            "-0.110153 (0.003797) with: {'C': 100, 'max_iter': 100, 'solver': 'liblinear'}\n",
            "-0.110153 (0.003797) with: {'C': 100, 'max_iter': 2500, 'solver': 'liblinear'}\n",
            "-0.109987 (0.003907) with: {'C': 10, 'max_iter': 2500, 'solver': 'lbfgs'}\n",
            "-0.109987 (0.003907) with: {'C': 10, 'max_iter': 5000, 'solver': 'lbfgs'}\n",
            "-0.109962 (0.003903) with: {'C': 10, 'max_iter': 100, 'solver': 'newton-cg'}\n",
            "-0.109962 (0.003903) with: {'C': 10, 'max_iter': 5000, 'solver': 'newton-cg'}\n",
            "-0.109962 (0.003903) with: {'C': 10, 'max_iter': 1000, 'solver': 'newton-cg'}\n",
            "-0.109962 (0.003903) with: {'C': 10, 'max_iter': 2500, 'solver': 'newton-cg'}\n",
            "-0.110145 (0.003723) with: {'C': 10, 'max_iter': 1000, 'solver': 'lbfgs'}\n",
            "-0.110229 (0.003863) with: {'C': 10, 'max_iter': 5000, 'solver': 'liblinear'}\n",
            "-0.110229 (0.003863) with: {'C': 10, 'max_iter': 100, 'solver': 'liblinear'}\n",
            "-0.110229 (0.003863) with: {'C': 10, 'max_iter': 2500, 'solver': 'liblinear'}\n",
            "-0.110229 (0.003863) with: {'C': 10, 'max_iter': 1000, 'solver': 'liblinear'}\n",
            "-0.110601 (0.002350) with: {'C': 100, 'max_iter': 2500, 'solver': 'lbfgs'}\n",
            "-0.110640 (0.002345) with: {'C': 10, 'max_iter': 2500, 'solver': 'newton-cg'}\n",
            "-0.110640 (0.002345) with: {'C': 10, 'max_iter': 1000, 'solver': 'newton-cg'}\n",
            "-0.110640 (0.002345) with: {'C': 10, 'max_iter': 5000, 'solver': 'newton-cg'}\n",
            "-0.110640 (0.002345) with: {'C': 10, 'max_iter': 100, 'solver': 'newton-cg'}\n",
            "-0.110600 (0.002336) with: {'C': 1000, 'max_iter': 2500, 'solver': 'lbfgs'}\n",
            "-0.110600 (0.002336) with: {'C': 1000, 'max_iter': 5000, 'solver': 'lbfgs'}\n",
            "-0.110596 (0.002347) with: {'C': 1000, 'max_iter': 100, 'solver': 'newton-cg'}\n",
            "-0.110596 (0.002347) with: {'C': 1000, 'max_iter': 2500, 'solver': 'newton-cg'}\n",
            "-0.110596 (0.002347) with: {'C': 1000, 'max_iter': 5000, 'solver': 'newton-cg'}\n",
            "-0.110596 (0.002347) with: {'C': 1000, 'max_iter': 1000, 'solver': 'newton-cg'}\n",
            "-0.110600 (0.002347) with: {'C': 100, 'max_iter': 1000, 'solver': 'newton-cg'}\n",
            "-0.110600 (0.002347) with: {'C': 100, 'max_iter': 5000, 'solver': 'newton-cg'}\n",
            "-0.110600 (0.002347) with: {'C': 100, 'max_iter': 2500, 'solver': 'newton-cg'}\n",
            "-0.110600 (0.002347) with: {'C': 100, 'max_iter': 100, 'solver': 'newton-cg'}\n",
            "-0.110689 (0.002319) with: {'C': 100, 'max_iter': 1000, 'solver': 'lbfgs'}\n",
            "-0.109867 (0.001760) with: {'C': 100, 'max_iter': 2500, 'solver': 'newton-cg'}\n",
            "-0.109867 (0.001760) with: {'C': 100, 'max_iter': 100, 'solver': 'newton-cg'}\n",
            "-0.109867 (0.001760) with: {'C': 1000, 'max_iter': 100, 'solver': 'newton-cg'}\n",
            "-0.109867 (0.001760) with: {'C': 1000, 'max_iter': 2500, 'solver': 'newton-cg'}\n",
            "-0.109867 (0.001760) with: {'C': 1000, 'max_iter': 5000, 'solver': 'newton-cg'}\n",
            "-0.109867 (0.001760) with: {'C': 1000, 'max_iter': 1000, 'solver': 'newton-cg'}\n",
            "-0.109573 (0.001062) with: {'C': 100, 'max_iter': 2500, 'solver': 'newton-cg'}\n",
            "-0.109573 (0.001062) with: {'C': 100, 'max_iter': 100, 'solver': 'newton-cg'}\n"
          ]
        }
      ],
      "source": [
        "# summarize results\n",
        "print(\"Best: %f using %s\" % (grid_search.best_score_, grid_search.best_params_))\n",
        "means = grid_search.cv_results_['mean_test_score']\n",
        "stds = grid_search.cv_results_['std_test_score']\n",
        "params = grid_search.cv_results_['params']\n",
        "for mean, stdev, param in zip(means, stds, params):\n",
        " print(\"%f (%f) with: %r\" % (mean, stdev, param))"
      ]
    },
    {
      "cell_type": "code",
      "execution_count": null,
      "metadata": {
        "colab": {
          "base_uri": "https://localhost:8080/"
        },
        "id": "7M4g7ZXuh77-",
        "outputId": "8b5a10da-7a0c-44df-d084-b689fde92116"
      },
      "outputs": [
        {
          "name": "stdout",
          "output_type": "stream",
          "text": [
            "              precision    recall  f1-score   support\n",
            "\n",
            "           0       0.99      0.94      0.97    292721\n",
            "           1       0.88      0.97      0.92    122607\n",
            "\n",
            "    accuracy                           0.95    415328\n",
            "   macro avg       0.93      0.96      0.94    415328\n",
            "weighted avg       0.96      0.95      0.95    415328\n",
            "\n"
          ]
        }
      ],
      "source": [
        "from sklearn.metrics import plot_confusion_matrix,accuracy_score,classification_report\n",
        "lrpred = grid_search.predict(X_test)\n",
        "print(classification_report(y_test,lrpred))"
      ]
    },
    {
      "cell_type": "code",
      "execution_count": null,
      "metadata": {
        "id": "gqKVaWbyiUWK"
      },
      "outputs": [],
      "source": [
        "from sklearn import metrics\n",
        "import matplotlib.pyplot as plt\n",
        "\n",
        "stppred = grid_search.predict_proba(X_test)[::,1]"
      ]
    },
    {
      "cell_type": "code",
      "execution_count": null,
      "metadata": {
        "id": "JD0J2KHXiUWM"
      },
      "outputs": [],
      "source": [
        "fpr,tpr, _ = metrics.roc_curve(y_test,stppred)\n",
        "auc = metrics.roc_auc_score(y_test,stppred)"
      ]
    },
    {
      "cell_type": "code",
      "execution_count": null,
      "metadata": {
        "colab": {
          "base_uri": "https://localhost:8080/"
        },
        "id": "Ai6jZd1PMuIu",
        "outputId": "64f3c302-a427-4f40-fd11-fa55e8165fb5"
      },
      "outputs": [
        {
          "name": "stdout",
          "output_type": "stream",
          "text": [
            "0.9915740292945128\n"
          ]
        }
      ],
      "source": [
        "print(auc)"
      ]
    },
    {
      "cell_type": "code",
      "execution_count": null,
      "metadata": {
        "colab": {
          "base_uri": "https://localhost:8080/",
          "height": 312
        },
        "id": "8V_I8XsHiUWN",
        "outputId": "16f85ecc-c1a7-46a5-d5f6-f252ec98fe48"
      },
      "outputs": [
        {
          "data": {
            "text/plain": [
              "<function matplotlib.pyplot.show>"
            ]
          },
          "execution_count": 21,
          "metadata": {},
          "output_type": "execute_result"
        },
        {
          "data": {
            "image/png": "[encoded data removed]",
            "text/plain": [
              "<Figure size 432x288 with 1 Axes>"
            ]
          },
          "metadata": {},
          "output_type": "display_data"
        }
      ],
      "source": [
        "plt.title('Receiver Operating Characterstic - staking')\n",
        "plt.plot(fpr,tpr, label = \"AUC = %0.5f\" % (auc))\n",
        "plt.ylabel('True Posetive Rate')\n",
        "plt.xlabel('False Posetive Rate')\n",
        "plt.show"
      ]
    },
    {
      "cell_type": "code",
      "execution_count": null,
      "metadata": {
        "colab": {
          "base_uri": "https://localhost:8080/",
          "height": 351
        },
        "id": "UQ1ZTEJZ-3sX",
        "outputId": "5beef885-86d9-4642-852d-52551303068f"
      },
      "outputs": [
        {
          "name": "stderr",
          "output_type": "stream",
          "text": [
            "/usr/local/lib/python3.7/dist-packages/sklearn/utils/deprecation.py:87: FutureWarning: Function plot_confusion_matrix is deprecated; Function `plot_confusion_matrix` is deprecated in 1.0 and will be removed in 1.2. Use one of the class methods: ConfusionMatrixDisplay.from_predictions or ConfusionMatrixDisplay.from_estimator.\n",
            "  warnings.warn(msg, category=FutureWarning)\n"
          ]
        },
        {
          "data": {
            "text/plain": [
              "<sklearn.metrics._plot.confusion_matrix.ConfusionMatrixDisplay at 0x7f7822259d50>"
            ]
          },
          "execution_count": 22,
          "metadata": {},
          "output_type": "execute_result"
        },
        {
          "data": {
            "image/png": "[encoded data removed]",
            "text/plain": [
              "<Figure size 432x288 with 2 Axes>"
            ]
          },
          "metadata": {},
          "output_type": "display_data"
        }
      ],
      "source": [
        "# Confusion matrix\n",
        "from sklearn.metrics import plot_confusion_matrix\n",
        "plot_confusion_matrix(grid_search, X_test, y_test, display_labels=[\"legit\", \"dga\"])"
      ]
    },
    {
      "cell_type": "code",
      "execution_count": null,
      "metadata": {
        "id": "B8zVOu3IQiT7"
      },
      "outputs": [],
      "source": [
        "import pickle\n",
        "# save the model to disk\n",
        "filename = '/content/drive/My Drive/Colab Notebooks/BLRmodel_sm_tn3.sav'\n",
        "pickle.dump(grid_search, open(filename, 'wb'))"
      ]
    },
    {
      "cell_type": "markdown",
      "metadata": {
        "id": "9KxmjoXWKD4B"
      },
      "source": [
        "#### NB"
      ]
    },
    {
      "cell_type": "code",
      "execution_count": null,
      "metadata": {
        "id": "kBTn75-qKD4B"
      },
      "outputs": [],
      "source": [
        "from sklearn.naive_bayes import GaussianNB\n",
        "gnb = GaussianNB().fit(X_train, y_train)"
      ]
    },
    {
      "cell_type": "code",
      "execution_count": null,
      "metadata": {
        "colab": {
          "base_uri": "https://localhost:8080/"
        },
        "id": "Ov7fRDN9KD4C",
        "outputId": "38d58c44-5393-47f4-e91a-326384e3b108"
      },
      "outputs": [
        {
          "name": "stdout",
          "output_type": "stream",
          "text": [
            "              precision    recall  f1-score   support\n",
            "\n",
            "           0       0.90      0.90      0.90    292721\n",
            "           1       0.76      0.76      0.76    122607\n",
            "\n",
            "    accuracy                           0.86    415328\n",
            "   macro avg       0.83      0.83      0.83    415328\n",
            "weighted avg       0.86      0.86      0.86    415328\n",
            "\n"
          ]
        }
      ],
      "source": [
        "from sklearn.metrics import plot_confusion_matrix,accuracy_score,classification_report\n",
        "ensemblepred = gnb.predict(X_test)\n",
        "print(classification_report(y_test,ensemblepred))"
      ]
    },
    {
      "cell_type": "code",
      "execution_count": null,
      "metadata": {
        "id": "05AGX6L0KD4C"
      },
      "outputs": [],
      "source": [
        "from sklearn import metrics\n",
        "import matplotlib.pyplot as plt\n",
        "\n",
        "stppred = gnb.predict_proba(X_test)[::,1]"
      ]
    },
    {
      "cell_type": "code",
      "execution_count": null,
      "metadata": {
        "id": "SF1ZD09bKD4C"
      },
      "outputs": [],
      "source": [
        "fpr,tpr, _ = metrics.roc_curve(y_test,stppred)\n",
        "auc = metrics.roc_auc_score(y_test,stppred)"
      ]
    },
    {
      "cell_type": "code",
      "execution_count": null,
      "metadata": {
        "colab": {
          "base_uri": "https://localhost:8080/"
        },
        "id": "EBAp9k8JKD4C",
        "outputId": "02bf9701-75ab-47b1-a805-aea9d2571161"
      },
      "outputs": [
        {
          "name": "stdout",
          "output_type": "stream",
          "text": [
            "0.9208826805602081\n"
          ]
        }
      ],
      "source": [
        "print(auc)"
      ]
    },
    {
      "cell_type": "code",
      "execution_count": null,
      "metadata": {
        "colab": {
          "base_uri": "https://localhost:8080/",
          "height": 312
        },
        "id": "8gxk_V9qKD4C",
        "outputId": "c33eabef-2618-4926-f3a2-db58e4378a52"
      },
      "outputs": [
        {
          "data": {
            "text/plain": [
              "<function matplotlib.pyplot.show>"
            ]
          },
          "execution_count": 87,
          "metadata": {},
          "output_type": "execute_result"
        },
        {
          "data": {
            "image/png": "[encoded data removed]",
            "text/plain": [
              "<Figure size 432x288 with 1 Axes>"
            ]
          },
          "metadata": {},
          "output_type": "display_data"
        }
      ],
      "source": [
        "plt.title('Receiver Operating Characterstic - staking')\n",
        "plt.plot(fpr,tpr, label = \"AUC = %0.5f\" % (auc))\n",
        "plt.ylabel('True Posetive Rate')\n",
        "plt.xlabel('False Posetive Rate')\n",
        "plt.show"
      ]
    },
    {
      "cell_type": "code",
      "execution_count": null,
      "metadata": {
        "id": "bDpgTcX6KD4D"
      },
      "outputs": [],
      "source": [
        "import pickle\n",
        "# save the model to disk\n",
        "filename = '/content/drive/My Drive/Colab Notebooks/BNBmodel_sm.sav'\n",
        "pickle.dump(gnb, open(filename, 'wb'))"
      ]
    },
    {
      "cell_type": "markdown",
      "metadata": {
        "id": "0T467AJvEJcT"
      },
      "source": [
        "##### tuning NB"
      ]
    },
    {
      "cell_type": "code",
      "execution_count": null,
      "metadata": {
        "colab": {
          "base_uri": "https://localhost:8080/"
        },
        "id": "6lP5fk9fGboX",
        "outputId": "e6d1d328-c216-47d8-f314-c5838af089d5"
      },
      "outputs": [
        {
          "name": "stdout",
          "output_type": "stream",
          "text": [
            "n_iterations: 5\n",
            "n_required_iterations: 5\n",
            "n_possible_iterations: 5\n",
            "min_resources_: 28910\n",
            "max_resources_: 2341770\n",
            "aggressive_elimination: False\n",
            "factor: 3\n",
            "----------\n",
            "iter: 0\n",
            "n_candidates: 100\n",
            "n_resources: 28910\n",
            "Fitting 10 folds for each of 100 candidates, totalling 1000 fits\n",
            "----------\n",
            "iter: 1\n",
            "n_candidates: 34\n",
            "n_resources: 86730\n",
            "Fitting 10 folds for each of 34 candidates, totalling 340 fits\n",
            "----------\n",
            "iter: 2\n",
            "n_candidates: 12\n",
            "n_resources: 260190\n",
            "Fitting 10 folds for each of 12 candidates, totalling 120 fits\n",
            "----------\n",
            "iter: 3\n",
            "n_candidates: 4\n",
            "n_resources: 780570\n",
            "Fitting 10 folds for each of 4 candidates, totalling 40 fits\n",
            "----------\n",
            "iter: 4\n",
            "n_candidates: 2\n",
            "n_resources: 2341710\n",
            "Fitting 10 folds for each of 2 candidates, totalling 20 fits\n",
            "GaussianNB(var_smoothing=0.005336699231206307)\n"
          ]
        }
      ],
      "source": [
        "from sklearn.naive_bayes import GaussianNB\n",
        "from sklearn.experimental import enable_halving_search_cv \n",
        "# now import normally from model_selection\n",
        "from sklearn.model_selection import HalvingGridSearchCV\n",
        "\n",
        "param_grid_nb = {\n",
        "    'var_smoothing': np.logspace(0,-9, num=100)\n",
        "}\n",
        "\n",
        "nbModel_grid = HalvingGridSearchCV(estimator=GaussianNB(), param_grid=param_grid_nb, verbose=1, cv=10, n_jobs=-1)\n",
        "nbModel_grid.fit(X_train, y_train)\n",
        "print(nbModel_grid.best_estimator_)"
      ]
    },
    {
      "cell_type": "code",
      "execution_count": null,
      "metadata": {
        "colab": {
          "base_uri": "https://localhost:8080/"
        },
        "id": "4fOr61k-Ujlj",
        "outputId": "2852b700-11e7-4b42-87f3-3a0ea979fed4"
      },
      "outputs": [
        {
          "name": "stdout",
          "output_type": "stream",
          "text": [
            "Best: 0.903660 using {'var_smoothing': 0.005336699231206307}\n",
            "0.644898 (0.004848) with: {'var_smoothing': 1.0}\n",
            "0.643999 (0.005213) with: {'var_smoothing': 0.8111308307896871}\n",
            "0.643238 (0.005258) with: {'var_smoothing': 0.657933224657568}\n",
            "0.642823 (0.006008) with: {'var_smoothing': 0.533669923120631}\n",
            "0.641785 (0.006053) with: {'var_smoothing': 0.43287612810830584}\n",
            "0.641646 (0.005580) with: {'var_smoothing': 0.3511191734215131}\n",
            "0.642442 (0.005586) with: {'var_smoothing': 0.2848035868435802}\n",
            "0.643756 (0.005701) with: {'var_smoothing': 0.23101297000831597}\n",
            "0.645071 (0.005739) with: {'var_smoothing': 0.1873817422860384}\n",
            "0.647112 (0.005556) with: {'var_smoothing': 0.15199110829529336}\n",
            "0.649914 (0.005640) with: {'var_smoothing': 0.12328467394420659}\n",
            "0.653615 (0.005494) with: {'var_smoothing': 0.1}\n",
            "0.657835 (0.006185) with: {'var_smoothing': 0.08111308307896872}\n",
            "0.664856 (0.007098) with: {'var_smoothing': 0.0657933224657568}\n",
            "0.673400 (0.007586) with: {'var_smoothing': 0.0533669923120631}\n",
            "0.683362 (0.008157) with: {'var_smoothing': 0.04328761281083057}\n",
            "0.696506 (0.010126) with: {'var_smoothing': 0.03511191734215131}\n",
            "0.713525 (0.012468) with: {'var_smoothing': 0.02848035868435802}\n",
            "0.735489 (0.014433) with: {'var_smoothing': 0.02310129700083159}\n",
            "0.765444 (0.015338) with: {'var_smoothing': 0.01873817422860384}\n",
            "0.800657 (0.020915) with: {'var_smoothing': 0.01519911082952933}\n",
            "0.852058 (0.017292) with: {'var_smoothing': 0.012328467394420659}\n",
            "0.882463 (0.008633) with: {'var_smoothing': 0.01}\n",
            "0.896368 (0.007323) with: {'var_smoothing': 0.008111308307896872}\n",
            "0.905189 (0.007419) with: {'var_smoothing': 0.006579332246575682}\n",
            "0.906572 (0.008408) with: {'var_smoothing': 0.005336699231206307}\n",
            "0.906053 (0.008411) with: {'var_smoothing': 0.004328761281083057}\n",
            "0.903424 (0.008137) with: {'var_smoothing': 0.003511191734215131}\n",
            "0.902283 (0.007253) with: {'var_smoothing': 0.002848035868435802}\n",
            "0.900346 (0.006496) with: {'var_smoothing': 0.0023101297000831605}\n",
            "0.896264 (0.006514) with: {'var_smoothing': 0.001873817422860383}\n",
            "0.893324 (0.006496) with: {'var_smoothing': 0.0015199110829529332}\n",
            "0.889623 (0.006262) with: {'var_smoothing': 0.0012328467394420659}\n",
            "0.886199 (0.005500) with: {'var_smoothing': 0.001}\n",
            "0.882532 (0.005308) with: {'var_smoothing': 0.0008111308307896872}\n",
            "0.879453 (0.005196) with: {'var_smoothing': 0.0006579332246575676}\n",
            "0.876721 (0.005053) with: {'var_smoothing': 0.0005336699231206307}\n",
            "0.873573 (0.005233) with: {'var_smoothing': 0.0004328761281083057}\n",
            "0.870668 (0.004954) with: {'var_smoothing': 0.0003511191734215131}\n",
            "0.868592 (0.004816) with: {'var_smoothing': 0.0002848035868435802}\n",
            "0.865825 (0.005106) with: {'var_smoothing': 0.0002310129700083158}\n",
            "0.863127 (0.005528) with: {'var_smoothing': 0.0001873817422860383}\n",
            "0.859910 (0.005015) with: {'var_smoothing': 0.0001519911082952933}\n",
            "0.856382 (0.004714) with: {'var_smoothing': 0.0001232846739442066}\n",
            "0.853373 (0.004143) with: {'var_smoothing': 0.0001}\n",
            "0.850744 (0.004430) with: {'var_smoothing': 8.111308307896872e-05}\n",
            "0.848426 (0.004469) with: {'var_smoothing': 6.579332246575683e-05}\n",
            "0.845970 (0.004568) with: {'var_smoothing': 5.3366992312063123e-05}\n",
            "0.844275 (0.004601) with: {'var_smoothing': 4.328761281083062e-05}\n",
            "0.842235 (0.004949) with: {'var_smoothing': 3.511191734215127e-05}\n",
            "0.840851 (0.005018) with: {'var_smoothing': 2.848035868435799e-05}\n",
            "0.839398 (0.005625) with: {'var_smoothing': 2.310129700083158e-05}\n",
            "0.838015 (0.005811) with: {'var_smoothing': 1.873817422860383e-05}\n",
            "0.836493 (0.005749) with: {'var_smoothing': 1.5199110829529332e-05}\n",
            "0.835628 (0.006773) with: {'var_smoothing': 1.2328467394420658e-05}\n",
            "0.833967 (0.006862) with: {'var_smoothing': 1e-05}\n",
            "0.833103 (0.007216) with: {'var_smoothing': 8.111308307896873e-06}\n",
            "0.831408 (0.007276) with: {'var_smoothing': 6.579332246575683e-06}\n",
            "0.830854 (0.007611) with: {'var_smoothing': 5.336699231206313e-06}\n",
            "0.830197 (0.007495) with: {'var_smoothing': 4.328761281083053e-06}\n",
            "0.830301 (0.008098) with: {'var_smoothing': 3.5111917342151275e-06}\n",
            "0.829886 (0.007790) with: {'var_smoothing': 2.848035868435799e-06}\n",
            "0.829332 (0.007528) with: {'var_smoothing': 2.310129700083158e-06}\n",
            "0.829021 (0.007176) with: {'var_smoothing': 1.873817422860383e-06}\n",
            "0.828398 (0.007407) with: {'var_smoothing': 1.519911082952933e-06}\n",
            "0.828122 (0.007463) with: {'var_smoothing': 1.232846739442066e-06}\n",
            "0.827465 (0.007671) with: {'var_smoothing': 1e-06}\n",
            "0.827949 (0.007873) with: {'var_smoothing': 8.111308307896872e-07}\n",
            "0.828122 (0.007706) with: {'var_smoothing': 6.579332246575682e-07}\n",
            "0.827637 (0.007448) with: {'var_smoothing': 5.336699231206313e-07}\n",
            "0.827326 (0.007513) with: {'var_smoothing': 4.3287612810830526e-07}\n",
            "0.827395 (0.007298) with: {'var_smoothing': 3.5111917342151277e-07}\n",
            "0.827361 (0.007253) with: {'var_smoothing': 2.848035868435799e-07}\n",
            "0.827119 (0.006906) with: {'var_smoothing': 2.310129700083158e-07}\n",
            "0.827084 (0.006884) with: {'var_smoothing': 1.873817422860383e-07}\n",
            "0.826946 (0.006796) with: {'var_smoothing': 1.519911082952933e-07}\n",
            "0.827222 (0.006859) with: {'var_smoothing': 1.232846739442066e-07}\n",
            "0.827292 (0.007059) with: {'var_smoothing': 1e-07}\n",
            "0.827084 (0.006933) with: {'var_smoothing': 8.111308307896873e-08}\n",
            "0.827084 (0.006800) with: {'var_smoothing': 6.579332246575682e-08}\n",
            "0.826946 (0.006901) with: {'var_smoothing': 5.336699231206302e-08}\n",
            "0.826911 (0.006870) with: {'var_smoothing': 4.3287612810830526e-08}\n",
            "0.826946 (0.006838) with: {'var_smoothing': 3.5111917342151277e-08}\n",
            "0.826946 (0.006838) with: {'var_smoothing': 2.848035868435799e-08}\n",
            "0.826980 (0.006832) with: {'var_smoothing': 2.310129700083158e-08}\n",
            "0.827015 (0.006912) with: {'var_smoothing': 1.873817422860383e-08}\n",
            "0.827015 (0.006912) with: {'var_smoothing': 1.519911082952933e-08}\n",
            "0.827119 (0.006893) with: {'var_smoothing': 1.232846739442066e-08}\n",
            "0.827084 (0.006924) with: {'var_smoothing': 1e-08}\n",
            "0.827188 (0.006936) with: {'var_smoothing': 8.111308307896856e-09}\n",
            "0.827222 (0.006906) with: {'var_smoothing': 6.579332246575682e-09}\n",
            "0.827188 (0.006939) with: {'var_smoothing': 5.336699231206302e-09}\n",
            "0.827188 (0.006870) with: {'var_smoothing': 4.328761281083061e-09}\n",
            "0.827222 (0.006924) with: {'var_smoothing': 3.5111917342151273e-09}\n",
            "0.827222 (0.006924) with: {'var_smoothing': 2.848035868435805e-09}\n",
            "0.827222 (0.006924) with: {'var_smoothing': 2.310129700083158e-09}\n",
            "0.827222 (0.006924) with: {'var_smoothing': 1.873817422860387e-09}\n",
            "0.827222 (0.006924) with: {'var_smoothing': 1.519911082952933e-09}\n",
            "0.827222 (0.006924) with: {'var_smoothing': 1.2328467394420635e-09}\n",
            "0.827222 (0.006924) with: {'var_smoothing': 1e-09}\n",
            "0.832895 (0.006591) with: {'var_smoothing': 1.2328467394420658e-05}\n",
            "0.834152 (0.006481) with: {'var_smoothing': 1.5199110829529332e-05}\n",
            "0.835316 (0.005989) with: {'var_smoothing': 1.873817422860383e-05}\n",
            "0.836412 (0.005586) with: {'var_smoothing': 2.310129700083158e-05}\n",
            "0.838084 (0.004959) with: {'var_smoothing': 2.848035868435799e-05}\n",
            "0.840055 (0.004800) with: {'var_smoothing': 3.511191734215127e-05}\n",
            "0.842108 (0.004594) with: {'var_smoothing': 4.328761281083062e-05}\n",
            "0.844125 (0.004679) with: {'var_smoothing': 5.3366992312063123e-05}\n",
            "0.846754 (0.004102) with: {'var_smoothing': 6.579332246575683e-05}\n",
            "0.849914 (0.003772) with: {'var_smoothing': 8.111308307896872e-05}\n",
            "0.856866 (0.008213) with: {'var_smoothing': 0.012328467394420659}\n",
            "0.852519 (0.003213) with: {'var_smoothing': 0.0001}\n",
            "0.855356 (0.003443) with: {'var_smoothing': 0.0001232846739442066}\n",
            "0.858204 (0.003381) with: {'var_smoothing': 0.0001519911082952933}\n",
            "0.860613 (0.003307) with: {'var_smoothing': 0.0001873817422860383}\n",
            "0.863231 (0.003233) with: {'var_smoothing': 0.0002310129700083158}\n",
            "0.865929 (0.003014) with: {'var_smoothing': 0.0002848035868435802}\n",
            "0.868315 (0.002731) with: {'var_smoothing': 0.0003511191734215131}\n",
            "0.870114 (0.002734) with: {'var_smoothing': 0.0004328761281083057}\n",
            "0.872478 (0.002871) with: {'var_smoothing': 0.0005336699231206307}\n",
            "0.875176 (0.002995) with: {'var_smoothing': 0.0006579332246575676}\n",
            "0.883731 (0.003709) with: {'var_smoothing': 0.01}\n",
            "0.878174 (0.003235) with: {'var_smoothing': 0.0008111308307896872}\n",
            "0.881310 (0.003488) with: {'var_smoothing': 0.001}\n",
            "0.885115 (0.003510) with: {'var_smoothing': 0.0012328467394420659}\n",
            "0.889000 (0.003607) with: {'var_smoothing': 0.0015199110829529332}\n",
            "0.892494 (0.003156) with: {'var_smoothing': 0.001873817422860383}\n",
            "0.893370 (0.002874) with: {'var_smoothing': 0.008111308307896872}\n",
            "0.895227 (0.003109) with: {'var_smoothing': 0.0023101297000831605}\n",
            "0.897175 (0.002901) with: {'var_smoothing': 0.002848035868435802}\n",
            "0.898305 (0.003415) with: {'var_smoothing': 0.003511191734215131}\n",
            "0.900231 (0.003187) with: {'var_smoothing': 0.006579332246575682}\n",
            "0.900807 (0.003709) with: {'var_smoothing': 0.004328761281083057}\n",
            "0.902537 (0.003547) with: {'var_smoothing': 0.005336699231206307}\n",
            "0.882432 (0.003421) with: {'var_smoothing': 0.001}\n",
            "0.884127 (0.002543) with: {'var_smoothing': 0.01}\n",
            "0.885818 (0.003397) with: {'var_smoothing': 0.0012328467394420659}\n",
            "0.889362 (0.003338) with: {'var_smoothing': 0.0015199110829529332}\n",
            "0.893024 (0.003544) with: {'var_smoothing': 0.001873817422860383}\n",
            "0.895284 (0.003183) with: {'var_smoothing': 0.008111308307896872}\n",
            "0.896226 (0.003686) with: {'var_smoothing': 0.0023101297000831605}\n",
            "0.897759 (0.003531) with: {'var_smoothing': 0.002848035868435802}\n",
            "0.899543 (0.003920) with: {'var_smoothing': 0.003511191734215131}\n",
            "0.901449 (0.003577) with: {'var_smoothing': 0.006579332246575682}\n",
            "0.902025 (0.004158) with: {'var_smoothing': 0.004328761281083057}\n",
            "0.903390 (0.004029) with: {'var_smoothing': 0.005336699231206307}\n",
            "0.899330 (0.002100) with: {'var_smoothing': 0.003511191734215131}\n",
            "0.901236 (0.001862) with: {'var_smoothing': 0.006579332246575682}\n",
            "0.901911 (0.002201) with: {'var_smoothing': 0.004328761281083057}\n",
            "0.903327 (0.002156) with: {'var_smoothing': 0.005336699231206307}\n",
            "0.902280 (0.001760) with: {'var_smoothing': 0.004328761281083057}\n",
            "0.903660 (0.001653) with: {'var_smoothing': 0.005336699231206307}\n"
          ]
        }
      ],
      "source": [
        "# summarize results\n",
        "print(\"Best: %f using %s\" % (nbModel_grid.best_score_, nbModel_grid.best_params_))\n",
        "means = nbModel_grid.cv_results_['mean_test_score']\n",
        "stds = nbModel_grid.cv_results_['std_test_score']\n",
        "params = nbModel_grid.cv_results_['params']\n",
        "for mean, stdev, param in zip(means, stds, params):\n",
        " print(\"%f (%f) with: %r\" % (mean, stdev, param))"
      ]
    },
    {
      "cell_type": "code",
      "execution_count": null,
      "metadata": {
        "colab": {
          "base_uri": "https://localhost:8080/"
        },
        "id": "0vcpD9t0UdI9",
        "outputId": "7396f00b-f4af-4b8e-a622-4b84075a5b90"
      },
      "outputs": [
        {
          "name": "stdout",
          "output_type": "stream",
          "text": [
            "              precision    recall  f1-score   support\n",
            "\n",
            "           0       0.98      0.85      0.91    292721\n",
            "           1       0.72      0.96      0.82    122607\n",
            "\n",
            "    accuracy                           0.88    415328\n",
            "   macro avg       0.85      0.90      0.87    415328\n",
            "weighted avg       0.90      0.88      0.88    415328\n",
            "\n"
          ]
        }
      ],
      "source": [
        "from sklearn.metrics import plot_confusion_matrix,accuracy_score,classification_report\n",
        "ensemblepred = nbModel_grid.predict(X_test)\n",
        "print(classification_report(y_test,ensemblepred))"
      ]
    },
    {
      "cell_type": "code",
      "execution_count": null,
      "metadata": {
        "id": "e21yJH8OUdI-"
      },
      "outputs": [],
      "source": [
        "from sklearn import metrics\n",
        "import matplotlib.pyplot as plt\n",
        "\n",
        "stppred = nbModel_grid.predict_proba(X_test)[::,1]"
      ]
    },
    {
      "cell_type": "code",
      "execution_count": null,
      "metadata": {
        "id": "PhaV7vc_UdI-"
      },
      "outputs": [],
      "source": [
        "fpr,tpr, _ = metrics.roc_curve(y_test,stppred)\n",
        "auc = metrics.roc_auc_score(y_test,stppred)"
      ]
    },
    {
      "cell_type": "code",
      "execution_count": null,
      "metadata": {
        "colab": {
          "base_uri": "https://localhost:8080/"
        },
        "id": "UFhRcMLIUdI_",
        "outputId": "04e96a61-5e94-4794-8464-b758e66431c4"
      },
      "outputs": [
        {
          "name": "stdout",
          "output_type": "stream",
          "text": [
            "0.966960558394981\n"
          ]
        }
      ],
      "source": [
        "print(auc)"
      ]
    },
    {
      "cell_type": "code",
      "execution_count": null,
      "metadata": {
        "id": "MX69aHqBUdJA"
      },
      "outputs": [],
      "source": [
        "import pickle\n",
        "# save the model to disk\n",
        "filename = '/content/drive/My Drive/Colab Notebooks/BNBmodel_sm_tn.sav'\n",
        "pickle.dump(gnb, open(filename, 'wb'))"
      ]
    },
    {
      "cell_type": "markdown",
      "metadata": {
        "id": "Rivc51HfjpVX"
      },
      "source": [
        "### Bar Graph"
      ]
    },
    {
      "cell_type": "code",
      "execution_count": null,
      "metadata": {
        "colab": {
          "base_uri": "https://localhost:8080/",
          "height": 295
        },
        "id": "fdec722e",
        "outputId": "f453d3d6-b6e1-462e-93d0-88ce0d9c00e2"
      },
      "outputs": [
        {
          "data": {
            "image/png": "[encoded data removed]",
            "text/plain": [
              "<Figure size 432x288 with 1 Axes>"
            ]
          },
          "metadata": {},
          "output_type": "display_data"
        }
      ],
      "source": [
        "AUC=[0.994,0.991,0.967,0.990,0.998,0.998,0.998,0.997,0.995,0.997]\n",
        "X = ['DT','LR','NB','ST','VT','BDT','RF','ET','AB','XGB']\n",
        "#Plot On the x-axis the size of the file and on y-axis plot the time taken by the Spark to compute the result.\n",
        "x_pos = [i for i, _ in enumerate(AUC)]\n",
        "plt.bar(x_pos, AUC, color='brown')\n",
        "plt.xlabel(\"Models\")\n",
        "plt.ylabel(\"AUC Score\")\n",
        "plt.title(\"AUC score of hybrid of single and ensemble learning algorithms\")\n",
        "plt.xticks(x_pos, X)\n",
        "plt.show()        "
      ]
    },
    {
      "cell_type": "code",
      "execution_count": null,
      "metadata": {
        "id": "43KGuvhF6AZa",
        "colab": {
          "base_uri": "https://localhost:8080/",
          "height": 312
        },
        "outputId": "87c1b6af-c52d-47d5-ca07-2fd3a4c0c35b"
      },
      "outputs": [
        {
          "output_type": "stream",
          "name": "stderr",
          "text": [
            "No handles with labels found to put in legend.\n"
          ]
        },
        {
          "output_type": "display_data",
          "data": {
            "text/plain": [
              "<Figure size 432x288 with 1 Axes>"
            ],
            "image/png": "[encoded data removed]"
          },
          "metadata": {
            "needs_background": "light"
          }
        }
      ],
      "source": [
        "import numpy as np \n",
        "import matplotlib.pyplot as plt \n",
        "AUC=[0.994,0.991,0.967,0.990,0.998,0.998,0.998,0.997,0.995,0.997]\n",
        "X = ['DT','LR','NB','ST','VT','BDT','RF','ET','AB','XGB']\n",
        "#Plot On the x-axis the size of the file and on y-axis plot the time taken by the Spark to compute the result.\n",
        "x_pos = [i for i, _ in enumerate(AUC)]\n",
        "#plt.bar(x_pos, computeTimes, color='blue')\n",
        "X_axis = np.arange(len(X))\n",
        "plt.xticks(X_axis, X)\n",
        "plt.xlabel(\"Models\")\n",
        "plt.ylabel(\"AUC Score\")\n",
        "plt.title(\"AUC score of hybrid of single and ensemble learning algorithms\")\n",
        "plt.legend()\n",
        "plt.show()"
      ]
    },
    {
      "cell_type": "code",
      "execution_count": null,
      "metadata": {
        "id": "smgkXT2Sstlp"
      },
      "outputs": [],
      "source": [
        "import numpy as np \n",
        "import matplotlib.pyplot as plt \n",
        "  \n",
        "X = ['LR','RF','ET','AB', 'NB', 'DT','XGB']\n",
        "CNN = [0.993, 0.997, 0.998, 0.994, 0.982, 0.965, 0.996]\n",
        "LSTM = [0.998, 0.998, 0.998, 0.998, 0.993, 0.980, 0.998]\n",
        "  \n",
        "X_axis = np.arange(len(X))\n",
        "  \n",
        "plt.bar(X_axis - 0.2, CNN, 0.4, label = 'CNN')\n",
        "plt.bar(X_axis + 0.2, LSTM, 0.4, label = 'LSTM')\n",
        "  \n",
        "plt.xticks(X_axis, X)\n",
        "plt.xlabel(\"Models\")\n",
        "plt.ylabel(\"AUC Score\")\n",
        "plt.title(\"AUC score of hybrid of CNN and LSTM with machine learning algorithms\")\n",
        "plt.legend()\n",
        "plt.show()"
      ]
    },
    {
      "cell_type": "code",
      "execution_count": null,
      "metadata": {
        "colab": {
          "base_uri": "https://localhost:8080/",
          "height": 295
        },
        "id": "0zsZC8r8dqi9",
        "outputId": "972a104e-1c55-4752-98cf-13d873b3fd15"
      },
      "outputs": [
        {
          "data": {
            "image/png": "[encoded data removed]",
            "text/plain": [
              "<Figure size 432x288 with 1 Axes>"
            ]
          },
          "metadata": {},
          "output_type": "display_data"
        }
      ],
      "source": [
        "\n",
        "import numpy as np \n",
        "import matplotlib.pyplot as plt \n",
        "  \n",
        "X = ['LR','RF','ET','AB', 'NB', 'DT','XGB']\n",
        "CNN = [0.993, 0.997, 0.998, 0.994, 0.982, 0.965, 0.996]\n",
        "LSTM = [0.998, 0.998, 0.998, 0.998, 0.993, 0.980, 0.998]\n",
        "  \n",
        "X_axis = np.arange(len(X))\n",
        "  \n",
        "plt.bar(X_axis - 0.2, CNN, 0.4, label = 'CNN')\n",
        "plt.bar(X_axis + 0.2, LSTM, 0.4, label = 'LSTM')\n",
        "  \n",
        "plt.xticks(X_axis, X)\n",
        "plt.xlabel(\"Models\")\n",
        "plt.ylabel(\"AUC Score\")\n",
        "plt.title(\"AUC score of hybrid of CNN and LSTM with machine learning algorithms\")\n",
        "plt.legend()\n",
        "plt.show()"
      ]
    },
    {
      "cell_type": "code",
      "execution_count": null,
      "metadata": {
        "colab": {
          "base_uri": "https://localhost:8080/",
          "height": 295
        },
        "id": "xG4bp7GxfVPz",
        "outputId": "421ec7d1-bbbf-4c78-c267-fc87e8f478b4"
      },
      "outputs": [
        {
          "data": {
            "image/png": "[encoded data removed]",
            "text/plain": [
              "<Figure size 432x288 with 1 Axes>"
            ]
          },
          "metadata": {},
          "output_type": "display_data"
        }
      ],
      "source": [
        "X = ['LR','RF','ET','AB', 'NB', 'DT','XGB']\n",
        "CNN = [0.97, 0.98, 0.98, 0.97, 0.94,0.97, 0.97]\n",
        "LSTM = [0.99, 0.99, 0.99, 0.98, 0.98, 0.98, 0.99]\n",
        "  \n",
        "X_axis = np.arange(len(X))\n",
        "  \n",
        "plt.bar(X_axis - 0.2, CNN, 0.4, label = 'CNN')\n",
        "plt.bar(X_axis + 0.2, LSTM, 0.4, label = 'LSTM')\n",
        "  \n",
        "plt.xticks(X_axis, X)\n",
        "plt.xlabel(\"Models\")\n",
        "plt.ylabel(\"Accuracy\")\n",
        "plt.title(\"Accuracy of hybrid of CNN and LSTM with machine learning algorithms\")\n",
        "plt.legend()\n",
        "plt.show()"
      ]
    },
    {
      "cell_type": "code",
      "source": [],
      "metadata": {
        "id": "PETY6cBwYbd3"
      },
      "execution_count": null,
      "outputs": []
    },
    {
      "cell_type": "code",
      "execution_count": null,
      "metadata": {
        "colab": {
          "base_uri": "https://localhost:8080/",
          "height": 295
        },
        "id": "1N1-g-6sf966",
        "outputId": "c19498ff-b692-46c7-b034-5d16ce43ffaa"
      },
      "outputs": [
        {
          "output_type": "display_data",
          "data": {
            "text/plain": [
              "<Figure size 432x288 with 1 Axes>"
            ],
            "image/png": "[encoded data removed]"
          },
          "metadata": {
            "needs_background": "light"
          }
        }
      ],
      "source": [
        "X = ['LR','RF','ET','AB', 'NB', 'DT','XGB']\n",
        "LSTM = [0.603, 0.625, 0.619, 0.612, 0.803, 0.639, 0.642]\n",
        "CNN = [0.785, 0.698, 0.729, 0.782, 0.649, 0.629, 0.764]\n",
        "  \n",
        "X_axis = np.arange(len(X))\n",
        "  \n",
        "plt.bar(X_axis - 0.2, CNN, 0.4, label = 'CNN')\n",
        "plt.bar(X_axis + 0.2, LSTM, 0.4, label = 'LSTM')\n",
        "  \n",
        "plt.xticks(X_axis, X)\n",
        "plt.xlabel(\"Models\")\n",
        "plt.ylabel(\"AUC\")\n",
        "plt.title(\"AUC of hybrid CNN and LSTM with machine learning algorithms on previousely unseen data\")\n",
        "plt.legend()\n",
        "plt.show()"
      ]
    },
    {
      "cell_type": "code",
      "source": [
        "import numpy as np\n",
        "import matplotlib.pyplot as plt\n",
        "  \n",
        "N = 7\n",
        "ind = np.arange(N) \n",
        "width = 0.25\n",
        "fig, ax = plt.subplots()\n",
        "\n",
        "Ensemble= [84.6,82.6,80.9,91.7,93.3,86.5,92.9]\n",
        "bar1 = ax.bar(ind, Ensemble, width)\n",
        " \n",
        "CNN = [78.5, 69.8, 72.9, 78.2, 64.9, 62.9,76.4]\n",
        "bar2 = ax.bar(ind+width, CNN, width)\n",
        "\n",
        "LSTM = [60.3, 62.5, 61.9,61.2, 80.3, 63.9, 64.2] \n",
        "bar3 = ax.bar(ind+width*2, LSTM, width)\n",
        "\n",
        "for p in bar1:\n",
        "   height = p.get_height()\n",
        "   ax.text(x=p.get_x() + p.get_width() / 2, y=height,\n",
        "      s=\"{}\".format(height),\n",
        "      ha='center')\n",
        "for p in bar2:\n",
        "   height = p.get_height()\n",
        "   ax.text(x=p.get_x() + p.get_width() / 2, y=height,\n",
        "      s=\"{}\".format(height),\n",
        "      ha='center')\n",
        "for p in bar3:\n",
        "   height = p.get_height()\n",
        "   ax.text(x=p.get_x() + p.get_width() / 2, y=height,\n",
        "      s=\"{}\".format(height),\n",
        "      ha='center')\n",
        "   \n",
        "plt.xlabel(\"Models\")\n",
        "plt.ylabel(\"AUC\")\n",
        "plt.title(\"AUC of  ensemble and hybrid models on previousely unseen data\")\n",
        "  \n",
        "plt.xticks(ind+width,['VT/LR','ST/NB','BDT/DT','AB', 'XGB', 'RF','ET'])\n",
        "plt.legend( (bar1, bar2, bar3), ('Ensemble', 'CNN', 'LSTM'), loc='lower right' )\n",
        "plt.show()"
      ],
      "metadata": {
        "colab": {
          "base_uri": "https://localhost:8080/",
          "height": 261
        },
        "id": "nEtlzh4UkP0O",
        "outputId": "94a9548a-7378-408d-b5eb-bd35abaea0e8"
      },
      "execution_count": null,
      "outputs": [
        {
          "output_type": "display_data",
          "data": {
            "text/plain": [
              "<Figure size 540x252 with 1 Axes>"
            ],
            "image/png": "[encoded data removed]"
          },
          "metadata": {
            "needs_background": "light"
          }
        }
      ]
    },
    {
      "cell_type": "code",
      "source": [
        "import numpy as np \n",
        "import matplotlib.pyplot as plt\n",
        "X = ['LR','NB','DT','AB', 'XGB', 'RF','ET']\n",
        "LSTM= [0.69,2,2.05,0.66,0.69,0.7,0.7]\n",
        "CNN= [2.1,2,3.5,2.7,1.5,0.9,0.9]\n",
        "  \n",
        "X_axis = np.arange(len(X))\n",
        "  \n",
        "plt.bar(X_axis + 0.2, LSTM, 0.4, label = 'LSTM')\n",
        "plt.bar(X_axis - 0.2, CNN, 0.4, label = 'CNN')\n",
        "\n",
        "plt.xticks(X_axis, X)\n",
        "plt.xlabel(\"Models\")\n",
        "plt.ylabel(\"FPR\")\n",
        "plt.title(\"FPR of hybrid models\")\n",
        "plt.legend()\n",
        "plt.show()"
      ],
      "metadata": {
        "colab": {
          "base_uri": "https://localhost:8080/",
          "height": 295
        },
        "id": "aq76g-fQozVi",
        "outputId": "7e299899-6ebd-4890-b145-6837b37498d6"
      },
      "execution_count": null,
      "outputs": [
        {
          "output_type": "display_data",
          "data": {
            "text/plain": [
              "<Figure size 432x288 with 1 Axes>"
            ],
            "image/png": "[encoded data removed]"
          },
          "metadata": {
            "needs_background": "light"
          }
        }
      ]
    },
    {
      "cell_type": "code",
      "source": [
        "import numpy as np\n",
        "import matplotlib.pyplot as plt\n",
        "  \n",
        "N = 7\n",
        "ind = np.arange(N) \n",
        "width = 0.25\n",
        "  \n",
        "LSTM= [0.69,2,2.05,0.66,0.69,0.7,0.7]\n",
        "bar1 = plt.bar(ind, LSTM, width)\n",
        "  \n",
        "CNN= [2.1,2,3.5,2.7,1.5,0.9,0.9]\n",
        "bar2 = plt.bar(ind+width, CNN, width)\n",
        "  \n",
        "Ensemble= [3.8,3.4,2.2,3.2,2.6,2.1,2.3]\n",
        "bar3 = plt.bar(ind+width*2, Ensemble, width)\n",
        "  \n",
        "plt.xlabel(\"Models\")\n",
        "plt.ylabel(\"FPR\")\n",
        "plt.title(\"FPR of ensemble & hybrid models\")\n",
        "  \n",
        "plt.xticks(ind+width,['VT/LR','ST/NB','BDT/DT','AB', 'XGB', 'RF','ET'])\n",
        "plt.legend( (bar1, bar2, bar3), ('LSTM', 'CNN', 'Ensemble') )\n",
        "plt.show()"
      ],
      "metadata": {
        "colab": {
          "base_uri": "https://localhost:8080/",
          "height": 295
        },
        "id": "GuZ9T6XtjhU8",
        "outputId": "97ad1bb9-5205-4414-b2a6-8be5307fe7da"
      },
      "execution_count": null,
      "outputs": [
        {
          "output_type": "display_data",
          "data": {
            "text/plain": [
              "<Figure size 432x288 with 1 Axes>"
            ],
            "image/png": "[encoded data removed]"
          },
          "metadata": {
            "needs_background": "light"
          }
        }
      ]
    },
    {
      "cell_type": "code",
      "source": [
        "import numpy as np \n",
        "import matplotlib.pyplot as plt\n",
        "X = ['VT','RF','ET','AB', 'ST', 'BDT','XGB']\n",
        "f1_score= [96.01,97.32,97.21,94.99,96.51,97.18,96.53]\n",
        "#AUC= [0.995,0.998,0.997,0.995,0.989,0.997,0.997]\n",
        "  \n",
        "X_axis = np.arange(len(X))\n",
        "  \n",
        "plt.bar(X_axis + 0.2, f1_score, 0.4, label = 'f1_score')\n",
        "#plt.bar(X_axis - 0.2, AUC, 0.4, label = 'AUC')\n",
        "\n",
        "plt.xticks(X_axis, X)\n",
        "plt.xlabel(\"Models\")\n",
        "plt.ylabel(\"AUC\")\n",
        "plt.title(\"ensemble models\")\n",
        "plt.legend()\n",
        "plt.show()"
      ],
      "metadata": {
        "colab": {
          "base_uri": "https://localhost:8080/",
          "height": 295
        },
        "id": "gNzIrYgJmuDe",
        "outputId": "fd3f4872-29c4-4a5f-b756-0ff0301e2998"
      },
      "execution_count": null,
      "outputs": [
        {
          "output_type": "display_data",
          "data": {
            "text/plain": [
              "<Figure size 432x288 with 1 Axes>"
            ],
            "image/png": "[encoded data removed]"
          },
          "metadata": {
            "needs_background": "light"
          }
        }
      ]
    },
    {
      "cell_type": "code",
      "source": [
        "X = ['VT','RF','ET','AB', 'ST', 'BDT','XGB']\n",
        "TPR= [98.27, 98.62,98.61,96.82,98.52,98.56,98.57]\n",
        "  \n",
        "X_axis = np.arange(len(X))\n",
        "  \n",
        "plt.bar(X_axis - 0.2, TPR, 0.4, label = 'TPR')\n",
        "\n",
        "plt.xticks(X_axis, X)\n",
        "plt.xlabel(\"Models\")\n",
        "plt.ylabel(\"AUC\")\n",
        "plt.title(\"ensemble models\")\n",
        "plt.legend()\n",
        "plt.show()"
      ],
      "metadata": {
        "colab": {
          "base_uri": "https://localhost:8080/",
          "height": 295
        },
        "id": "4jE3jBDdnaHp",
        "outputId": "d586677d-c294-41ec-f699-f4a096a3bf6a"
      },
      "execution_count": null,
      "outputs": [
        {
          "output_type": "display_data",
          "data": {
            "text/plain": [
              "<Figure size 432x288 with 1 Axes>"
            ],
            "image/png": "[encoded data removed]"
          },
          "metadata": {
            "needs_background": "light"
          }
        }
      ]
    },
    {
      "cell_type": "code",
      "source": [
        "import numpy as np \n",
        "import matplotlib.pyplot as plt\n",
        "X = ['VT','RF','ET','AB', 'ST', 'BDT','XGB']\n",
        "FPR= [3.8,2.1,2.3,3.2,3.4,2.2,2.6]\n",
        "  \n",
        "X_axis = np.arange(len(X))\n",
        "  \n",
        "plt.bar(X_axis - 0.2, FPR, 0.4, label = 'FPR')\n",
        "\n",
        "plt.xticks(X_axis, X)\n",
        "plt.xlabel(\"Models\")\n",
        "plt.ylabel(\"FPR\")\n",
        "plt.title(\"ensemble models\")\n",
        "plt.legend()\n",
        "plt.show()"
      ],
      "metadata": {
        "colab": {
          "base_uri": "https://localhost:8080/",
          "height": 295
        },
        "id": "dAMVPvwslVfU",
        "outputId": "8ec1d342-33d0-4723-f733-25ba0ec79c5f"
      },
      "execution_count": null,
      "outputs": [
        {
          "output_type": "display_data",
          "data": {
            "text/plain": [
              "<Figure size 432x288 with 1 Axes>"
            ],
            "image/png": "[encoded data removed]"
          },
          "metadata": {
            "needs_background": "light"
          }
        }
      ]
    },
    {
      "cell_type": "code",
      "source": [
        "import numpy as np\n",
        "import matplotlib.pyplot as plt\n",
        "  \n",
        "N = 7\n",
        "ind = np.arange(N) \n",
        "width = 0.25\n",
        "  \n",
        "LSTM = [0.69, 0.7, 0.7, 2, 0.803, 2.05, 0.69]\n",
        "bar1 = plt.bar(ind, LSTM, width)\n",
        "  \n",
        "CNN = [2.1, 0.9, 0.9, 2.7, 2, 3.5, 1.5]\n",
        "bar2 = plt.bar(ind+width, CNN, width)\n",
        "  \n",
        "Ensemble= [3.8,2.1,2.3,3.2,3.4,2.2,2.6]\n",
        "bar3 = plt.bar(ind+width*2, Ensemble, width)\n",
        "  \n",
        "plt.xlabel(\"Models\")\n",
        "plt.ylabel(\"FPR\")\n",
        "plt.title(\"FPR of ensemble and hybrid models\")\n",
        "  \n",
        "plt.xticks(ind+width,['LR/VT','RF','ET','AB', 'NB/ST', 'DT/BDT','XGB'])\n",
        "plt.legend( (bar1, bar2, bar3), ('LSTM', 'CNN', 'Ensemble') )\n",
        "plt.show()"
      ],
      "metadata": {
        "colab": {
          "base_uri": "https://localhost:8080/",
          "height": 295
        },
        "id": "8-DSlCWurL3I",
        "outputId": "50e06f7c-a5af-4eba-e244-c0f80d46fe9d"
      },
      "execution_count": null,
      "outputs": [
        {
          "output_type": "display_data",
          "data": {
            "text/plain": [
              "<Figure size 432x288 with 1 Axes>"
            ],
            "image/png": "[encoded data removed]"
          },
          "metadata": {
            "needs_background": "light"
          }
        }
      ]
    },
    {
      "cell_type": "code",
      "source": [
        "import numpy as np\n",
        "import matplotlib.pyplot as plt\n",
        "  \n",
        "N = 7\n",
        "ind = np.arange(N) \n",
        "width = 0.25\n",
        "fig, ax = plt.subplots()\n",
        "  \n",
        "Ensemble= [3.8,2.1,2.3,3.2,3.4,2.2,2.6]\n",
        "bar1 = plt.bar(ind, Ensemble, width)\n",
        "  \n",
        "CNN = [2.1, 0.9, 0.9, 2.7, 2, 3.5, 1.5]\n",
        "bar2 = plt.bar(ind+width, CNN, width)\n",
        "  \n",
        "LSTM = [0.69, 0.7, 0.7, 0.66, 2, 2.05, 0.69]\n",
        "bar3 = plt.bar(ind+width*2, LSTM, width)\n",
        "\n",
        "for p in bar1:\n",
        "   height = p.get_height()\n",
        "   ax.text(x=p.get_x() + p.get_width() / 2, y=height,\n",
        "      s=\"{}\".format(height),\n",
        "      ha='center')\n",
        "for p in bar2:\n",
        "   height = p.get_height()\n",
        "   ax.text(x=p.get_x() + p.get_width() / 2, y=height,\n",
        "      s=\"{}\".format(height),\n",
        "      ha='center')\n",
        "for p in bar3:\n",
        "   height = p.get_height()\n",
        "   ax.text(x=p.get_x() + p.get_width() / 2, y=height,\n",
        "      s=\"{}\".format(height),\n",
        "      ha='center')\n",
        "    \n",
        "plt.xlabel(\"Models\")\n",
        "plt.ylabel(\"FPR\")\n",
        "plt.title(\"% FPR of ensemble and hybrid models\")\n",
        "  \n",
        "plt.xticks(ind+width,['LR/VT','RF','ET','AB', 'NB/ST', 'DT/BDT','XGB'])\n",
        "plt.legend( (bar1, bar2, bar3), ('Ensemble', 'CNN', 'LSTM'), loc='upper right')\n",
        "plt.show()"
      ],
      "metadata": {
        "colab": {
          "base_uri": "https://localhost:8080/",
          "height": 295
        },
        "id": "1F4I2paeyEhq",
        "outputId": "9c1fb4c0-9f95-4d85-fe39-2cacd82fb64c"
      },
      "execution_count": null,
      "outputs": [
        {
          "output_type": "display_data",
          "data": {
            "text/plain": [
              "<Figure size 432x288 with 1 Axes>"
            ],
            "image/png": "[encoded data removed]"
          },
          "metadata": {
            "needs_background": "light"
          }
        }
      ]
    },
    {
      "cell_type": "code",
      "source": [
        "import numpy as np\n",
        "import matplotlib.pyplot as plt\n",
        "  \n",
        "N = 7\n",
        "ind = np.arange(N) \n",
        "width = 0.25\n",
        "  \n",
        "LSTM = [5.9, 5.4, 5.5, 5.6,10.4, 7.9, 5.7]\n",
        "bar1 = plt.bar(ind, LSTM, width)\n",
        "  \n",
        "CNN = [13, 8, 8.1, 12.3, 31, 14, 9.2]\n",
        "bar2 = plt.bar(ind+width, CNN, width)\n",
        "  \n",
        "Ensemble= [1.7,0.9,4.6,1.1,1.7,1,1.6]\n",
        "bar3 = plt.bar(ind+width*2, Ensemble, width)\n",
        "  \n",
        "plt.xlabel(\"Models\")\n",
        "plt.ylabel(\"FPR\")\n",
        "plt.title(\"FPR of ensemble and hybrid models on untrained family\")\n",
        "  \n",
        "plt.xticks(ind+width,['LR/VT','RF','ET','AB', 'NB/ST', 'DT/BDT','XGB'])\n",
        "plt.legend( (bar1, bar2, bar3), ('LSTM', 'CNN', 'Ensemble') )\n",
        "plt.show()"
      ],
      "metadata": {
        "colab": {
          "base_uri": "https://localhost:8080/",
          "height": 295
        },
        "id": "ffcAwWcwfOvI",
        "outputId": "b13ea300-2b6d-4b0b-f1af-4b959e94843d"
      },
      "execution_count": null,
      "outputs": [
        {
          "output_type": "display_data",
          "data": {
            "text/plain": [
              "<Figure size 432x288 with 1 Axes>"
            ],
            "image/png": "[encoded data removed]"
          },
          "metadata": {
            "needs_background": "light"
          }
        }
      ]
    },
    {
      "cell_type": "code",
      "source": [
        "import numpy as np\n",
        "import matplotlib.pyplot as plt\n",
        "  \n",
        "N = 7\n",
        "ind = np.arange(N) \n",
        "width = 0.25\n",
        "fig, ax = plt.subplots()\n",
        "  \n",
        "Ensemble= [1.7,0.9,4.6,1.1,1.7,1,1.6]\n",
        "bar1 = plt.bar(ind, Ensemble, width)\n",
        "  \n",
        "CNN = [13, 8, 8.1, 12.3, 31, 14, 9.2]\n",
        "bar2 = plt.bar(ind+width, CNN, width)\n",
        "  \n",
        "LSTM = [5.9, 5.4, 5.5, 5.6,10.4, 7.9, 5.7]\n",
        "bar3 = plt.bar(ind+width*2, LSTM, width)\n",
        "\n",
        "for p in bar1:\n",
        "   height = p.get_height()\n",
        "   ax.text(x=p.get_x() + p.get_width() / 2, y=height,\n",
        "      s=\"{}%\".format(height),\n",
        "      ha='center')\n",
        "for p in bar2:\n",
        "   height = p.get_height()\n",
        "   ax.text(x=p.get_x() + p.get_width() / 2, y=height,\n",
        "      s=\"{}%\".format(height),\n",
        "      ha='center')\n",
        "for p in bar3:\n",
        "   height = p.get_height()\n",
        "   ax.text(x=p.get_x() + p.get_width() / 2, y=height,\n",
        "      s=\"{}%\".format(height),\n",
        "      ha='center')\n",
        "    \n",
        "plt.xlabel(\"Models\")\n",
        "plt.ylabel(\"FPR\")\n",
        "plt.title(\"FPR of ensemble and hybrid models on untrained family\")\n",
        "  \n",
        "plt.xticks(ind+width,['LR/VT','RF','ET','AB', 'NB/ST', 'DT/BDT','XGB'])\n",
        "plt.legend( (bar1, bar2, bar3), ('Ensemble', 'CNN', 'LSTM'))\n",
        "plt.show()"
      ],
      "metadata": {
        "colab": {
          "base_uri": "https://localhost:8080/",
          "height": 261
        },
        "id": "AFARGWw6xhZ5",
        "outputId": "a7ae85d9-2da0-4345-9350-5ee275ddb790"
      },
      "execution_count": null,
      "outputs": [
        {
          "output_type": "display_data",
          "data": {
            "text/plain": [
              "<Figure size 540x252 with 1 Axes>"
            ],
            "image/png": "[encoded data removed]"
          },
          "metadata": {
            "needs_background": "light"
          }
        }
      ]
    },
    {
      "cell_type": "code",
      "source": [
        "import numpy as np \n",
        "import matplotlib.pyplot as plt \n",
        "X = ['AB','RF']\n",
        "CNN = [0.69, 0.71]\n",
        "LSTM = [0.84, 0.84]\n",
        "Ensembe= [0.56,0.57]\n",
        "  \n",
        "X_axis = np.arange(len(X))\n",
        "  \n",
        "plt.bar(X_axis - 0.2, CNN, 0.2, label = 'CNN')\n",
        "plt.bar(X_axis + 0.01, LSTM, 0.2, label = 'LSTM')\n",
        "plt.bar(X_axis + 0.2, Ensembe, 0.2, label = 'Ensembe')\n",
        "\n",
        "plt.xticks(X_axis, X)\n",
        "plt.xlabel(\"Models\")\n",
        "plt.ylabel(\"f1_score\")\n",
        "plt.title(\"f1_score of  ensemble and hybrid models on dictionary based super-group\")\n",
        "plt.legend()\n",
        "plt.show()"
      ],
      "metadata": {
        "colab": {
          "base_uri": "https://localhost:8080/",
          "height": 295
        },
        "id": "Mm6v5jnNyt4g",
        "outputId": "8781713f-0396-4314-a7cf-614541f7ab8b"
      },
      "execution_count": null,
      "outputs": [
        {
          "output_type": "display_data",
          "data": {
            "text/plain": [
              "<Figure size 432x288 with 1 Axes>"
            ],
            "image/png": "[encoded data removed]"
          },
          "metadata": {
            "needs_background": "light"
          }
        }
      ]
    },
    {
      "cell_type": "code",
      "source": [
        "import numpy as np\n",
        "import matplotlib.pyplot as plt\n",
        "  \n",
        "N = 2\n",
        "ind = np.arange(N) \n",
        "width = 0.25\n",
        "fig, ax = plt.subplots()\n",
        "  \n",
        "Ensemble= [56,57]\n",
        "bar1 = plt.bar(ind, Ensemble, width)\n",
        "  \n",
        "CNN = [69, 71]\n",
        "bar2 = plt.bar(ind+width, CNN, width)\n",
        "  \n",
        "LSTM = [84, 84]\n",
        "bar3 = plt.bar(ind+width*2, LSTM, width)\n",
        "\n",
        "for p in bar1:\n",
        "   height = p.get_height()\n",
        "   ax.text(x=p.get_x() + p.get_width() / 2, y=height,\n",
        "      s=\"{}%\".format(height),\n",
        "      ha='center')\n",
        "for p in bar2:\n",
        "   height = p.get_height()\n",
        "   ax.text(x=p.get_x() + p.get_width() / 2, y=height,\n",
        "      s=\"{}%\".format(height),\n",
        "      ha='center')\n",
        "for p in bar3:\n",
        "   height = p.get_height()\n",
        "   ax.text(x=p.get_x() + p.get_width() / 2, y=height,\n",
        "      s=\"{}%\".format(height),\n",
        "      ha='center')\n",
        "    \n",
        "plt.xlabel(\"Models\")\n",
        "plt.ylabel('f1_score')\n",
        "plt.title(\"f1_score of  ensemble and hybrid models on Group5 (dictionary-based)\")\n",
        "  \n",
        "plt.xticks(ind+width,['AB','RF'])\n",
        "plt.legend( (bar1, bar2, bar3), ('Ensemble', 'CNN', 'LSTM'), loc =\"lower right\")\n",
        "plt.show()"
      ],
      "metadata": {
        "colab": {
          "base_uri": "https://localhost:8080/",
          "height": 261
        },
        "id": "-6FnDLI9YYsC",
        "outputId": "ed789ff3-a8e4-4ab3-a4ec-058ac7c23b8b"
      },
      "execution_count": null,
      "outputs": [
        {
          "output_type": "display_data",
          "data": {
            "text/plain": [
              "<Figure size 540x252 with 1 Axes>"
            ],
            "image/png": "[encoded data removed]"
          },
          "metadata": {
            "needs_background": "light"
          }
        }
      ]
    },
    {
      "cell_type": "code",
      "source": [
        "import numpy as np\n",
        "import matplotlib.pyplot as plt\n",
        "  \n",
        "N = 2\n",
        "ind = np.arange(N) \n",
        "width = 0.25\n",
        "fig, ax = plt.subplots()\n",
        "\n",
        "Ensembe= [91,90]\n",
        "bar1 = ax.bar(ind, Ensembe, width)\n",
        "  \n",
        "CNN =  [91,90]\n",
        "bar2 = ax.bar(ind+width, CNN, width)\n",
        "  \n",
        "LSTM = [95, 95]\n",
        "bar3 = ax.bar(ind+width*2, LSTM, width)\n",
        "  \n",
        "\n",
        "for p in bar1:\n",
        "   height = p.get_height()\n",
        "   ax.text(x=p.get_x() + p.get_width() / 2, y=height,\n",
        "      s=\"{}%\".format(height),\n",
        "      ha='center')\n",
        "for p in bar2:\n",
        "   height = p.get_height()\n",
        "   ax.text(x=p.get_x() + p.get_width() / 2, y=height,\n",
        "      s=\"{}%\".format(height),\n",
        "      ha='center')\n",
        "for p in bar3:\n",
        "   height = p.get_height()\n",
        "   ax.text(x=p.get_x() + p.get_width() / 2, y=height,\n",
        "      s=\"{}%\".format(height),\n",
        "      ha='center')\n",
        "   \n",
        "plt.xlabel(\"Models\")\n",
        "plt.ylabel(\"f1_score\")\n",
        "plt.title(\"f1_score of  ensemble and hybrid models on Group4 (hexadecimal based)\")\n",
        "  \n",
        "plt.xticks(ind+width,['AB','RF'])\n",
        "plt.legend( (bar1, bar2, bar3), ('Ensembe', 'CNN', 'LSTM'), loc =\"lower right\")\n",
        "plt.show()"
      ],
      "metadata": {
        "id": "86XsDQVPuyFl"
      },
      "execution_count": null,
      "outputs": []
    },
    {
      "cell_type": "code",
      "source": [
        "import numpy as np \n",
        "import matplotlib.pyplot as plt \n",
        "X = ['AB','RF']\n",
        "CNN = [0.91,0.90]\n",
        "LSTM = [0.95, 0.95]\n",
        "Ensembe= [0.91,0.90]\n",
        "  \n",
        "X_axis = np.arange(len(X))\n",
        "  \n",
        "plt.bar(X_axis - 0.2, CNN, 0.2, label = 'CNN')\n",
        "plt.bar(X_axis + 0.01, LSTM, 0.2, label = 'LSTM')\n",
        "plt.bar(X_axis + 0.2, Ensembe, 0.2, label = 'Ensembe')\n",
        "\n",
        "plt.xticks(X_axis, X)\n",
        "plt.xlabel(\"Models\")\n",
        "plt.ylabel(\"f1_score\")\n",
        "plt.title(\"f1_score of  ensemble and hybrid models on hexadecimal based super-group\")\n",
        "plt.legend()\n",
        "plt.show()"
      ],
      "metadata": {
        "colab": {
          "base_uri": "https://localhost:8080/",
          "height": 295
        },
        "id": "FRRzoRRcXTp_",
        "outputId": "907d5406-365f-468c-d634-280795e4da59"
      },
      "execution_count": null,
      "outputs": [
        {
          "output_type": "display_data",
          "data": {
            "text/plain": [
              "<Figure size 432x288 with 1 Axes>"
            ],
            "image/png": "[encoded data removed]"
          },
          "metadata": {
            "needs_background": "light"
          }
        }
      ]
    },
    {
      "cell_type": "code",
      "source": [
        "import numpy as np\n",
        "import matplotlib.pyplot as plt\n",
        "  \n",
        "N = 2\n",
        "ind = np.arange(N) \n",
        "width = 0.25\n",
        "fig, ax = plt.subplots()\n",
        "\n",
        "Ensembe= [91,90]\n",
        "bar1 = ax.bar(ind, Ensembe, width)\n",
        "  \n",
        "CNN =  [91,90]\n",
        "bar2 = ax.bar(ind+width, CNN, width)\n",
        "  \n",
        "LSTM = [95, 95]\n",
        "bar3 = ax.bar(ind+width*2, LSTM, width)\n",
        "  \n",
        "\n",
        "for p in bar1:\n",
        "   height = p.get_height()\n",
        "   ax.text(x=p.get_x() + p.get_width() / 2, y=height,\n",
        "      s=\"{}%\".format(height),\n",
        "      ha='center')\n",
        "for p in bar2:\n",
        "   height = p.get_height()\n",
        "   ax.text(x=p.get_x() + p.get_width() / 2, y=height,\n",
        "      s=\"{}%\".format(height),\n",
        "      ha='center')\n",
        "for p in bar3:\n",
        "   height = p.get_height()\n",
        "   ax.text(x=p.get_x() + p.get_width() / 2, y=height,\n",
        "      s=\"{}%\".format(height),\n",
        "      ha='center')\n",
        "   \n",
        "plt.xlabel(\"Models\")\n",
        "plt.ylabel(\"f1_score\")\n",
        "plt.title(\"f1_score of  ensemble and hybrid models on Group4 (hexadecimal based)\")\n",
        "  \n",
        "plt.xticks(ind+width,['AB','RF'])\n",
        "plt.legend( (bar1, bar2, bar3), ('Ensembe', 'CNN', 'LSTM'), loc =\"lower right\")\n",
        "plt.show()"
      ],
      "metadata": {
        "colab": {
          "base_uri": "https://localhost:8080/",
          "height": 261
        },
        "id": "b0k73tG-pABD",
        "outputId": "85d55c6a-528a-4e2e-ace5-a529835d3b07"
      },
      "execution_count": null,
      "outputs": [
        {
          "output_type": "display_data",
          "data": {
            "text/plain": [
              "<Figure size 540x252 with 1 Axes>"
            ],
            "image/png": "[encoded data removed]"
          },
          "metadata": {
            "needs_background": "light"
          }
        }
      ]
    },
    {
      "cell_type": "code",
      "source": [
        "import numpy as np\n",
        "import matplotlib.pyplot as plt\n",
        "  \n",
        "N = 2\n",
        "ind = np.arange(N) \n",
        "width = 0.25\n",
        "fig, ax = plt.subplots()\n",
        "\n",
        "Ensembe= [0.97,0.97]\n",
        "bar1 = ax.bar(ind, Ensembe, width)\n",
        "  \n",
        "CNN = [0.98, 0.97]\n",
        "bar2 = ax.bar(ind+width, CNN, width)\n",
        "  \n",
        "LSTM = [0.98, 0.98]\n",
        "bar3 = ax.bar(ind+width*2, LSTM, width)\n",
        "  \n",
        "\n",
        "for p in bar1:\n",
        "   height = p.get_height()\n",
        "   ax.text(x=p.get_x() + p.get_width() / 2, y=height,\n",
        "      s=\"{}%\".format(height),\n",
        "      ha='center')\n",
        "for p in bar2:\n",
        "   height = p.get_height()\n",
        "   ax.text(x=p.get_x() + p.get_width() / 2, y=height,\n",
        "      s=\"{}%\".format(height),\n",
        "      ha='center')\n",
        "for p in bar3:\n",
        "   height = p.get_height()\n",
        "   ax.text(x=p.get_x() + p.get_width() / 2, y=height,\n",
        "      s=\"{}%\".format(height),\n",
        "      ha='center')\n",
        "   \n",
        "plt.xlabel(\"Models\")\n",
        "plt.ylabel(\"f1_score\")\n",
        "plt.title(\"f1_score of ensemble and hybrid models on Group1 (legit domain)\")\n",
        "  \n",
        "plt.xticks(ind+width,['AB','RF'])\n",
        "plt.legend( (bar1, bar2, bar3), ('Ensembe', 'CNN', 'LSTM'), loc =\"lower right\")\n",
        "plt.show()"
      ],
      "metadata": {
        "colab": {
          "base_uri": "https://localhost:8080/",
          "height": 261
        },
        "id": "lkrLkKwlro4_",
        "outputId": "fa458135-5197-46eb-987a-20e3966d8442"
      },
      "execution_count": null,
      "outputs": [
        {
          "output_type": "display_data",
          "data": {
            "text/plain": [
              "<Figure size 540x252 with 1 Axes>"
            ],
            "image/png": "[encoded data removed]"
          },
          "metadata": {
            "needs_background": "light"
          }
        }
      ]
    },
    {
      "cell_type": "code",
      "source": [
        "import numpy as np \n",
        "import matplotlib.pyplot as plt \n",
        "X = ['AB','RF']\n",
        "CNN = [0.98, 0.97]\n",
        "LSTM = [0.98, 0.98]\n",
        "Ensembe= [0.97,0.97]\n",
        "\n",
        "X_axis = np.arange(len(X))\n",
        "\n",
        "plt.bar(X_axis - 0.2, CNN, 0.2, label = 'CNN')\n",
        "plt.bar(X_axis + 0.01, LSTM, 0.2, label = 'LSTM')\n",
        "plt.bar(X_axis + 0.2, Ensembe, 0.2, label = 'Ensembe')\n",
        "  \n",
        "plt.xlabel(\"Models\")\n",
        "plt.ylabel(\"f1_score\")\n",
        "plt.title(\"f1_score of  ensemble and hybrid models on legit domain\")\n",
        "plt.xticks(X_axis, X)\n",
        "plt.legend()\n",
        "plt.show()"
      ],
      "metadata": {
        "colab": {
          "base_uri": "https://localhost:8080/",
          "height": 261
        },
        "id": "3-Fh8Uaw0ync",
        "outputId": "a6d7e615-5936-4dab-bf9a-335173ea5cb1"
      },
      "execution_count": null,
      "outputs": [
        {
          "output_type": "display_data",
          "data": {
            "text/plain": [
              "<Figure size 540x252 with 1 Axes>"
            ],
            "image/png": "[encoded data removed]"
          },
          "metadata": {
            "needs_background": "light"
          }
        }
      ]
    },
    {
      "cell_type": "code",
      "source": [
        "import numpy as np \n",
        "import matplotlib.pyplot as plt \n",
        "X = ['simda','flubot','pykspa_v1','tinba','rovnix']\n",
        "before_SMOTE = [0.84, 0.92,0.81,0.97,0.99]\n",
        "after_SMOTE = [0.82, 0.92,0.80,0.97,0.99]\n",
        "  \n",
        "X_axis = np.arange(len(X))\n",
        "  \n",
        "plt.bar(X_axis - 0.2, before_SMOTE, 0.2, label = 'before resampling')\n",
        "plt.bar(X_axis + 0.2, after_SMOTE, 0.2, label = 'after resampling')\n",
        "\n",
        "plt.xticks(X_axis, X)\n",
        "plt.xlabel(\"unsampled family\")\n",
        "plt.ylabel(\"f1_score\")\n",
        "plt.title(\"f1_score of  RF models\")\n",
        "plt.legend()\n",
        "plt.show()"
      ],
      "metadata": {
        "colab": {
          "base_uri": "https://localhost:8080/",
          "height": 261
        },
        "id": "1c4Tr_1rmYEx",
        "outputId": "4bdc0574-88c8-4f97-b8d6-7a5bf7efee1c"
      },
      "execution_count": null,
      "outputs": [
        {
          "output_type": "display_data",
          "data": {
            "text/plain": [
              "<Figure size 540x252 with 1 Axes>"
            ],
            "image/png": "[encoded data removed]"
          },
          "metadata": {
            "needs_background": "light"
          }
        }
      ]
    },
    {
      "cell_type": "code",
      "source": [
        "import numpy as np \n",
        "import matplotlib.pyplot as plt \n",
        "X = ['banjori','legit','emotet']\n",
        "before_SMOTE = [0.99,0.97,1.00]\n",
        "after_SMOTE = [0.99,0.97,1.00]\n",
        "  \n",
        "X_axis = np.arange(len(X))\n",
        "  \n",
        "plt.bar(X_axis - 0.2, before_SMOTE, 0.2, label = 'before resampling')\n",
        "plt.bar(X_axis + 0.2, after_SMOTE, 0.2, label = 'after resampling')\n",
        "\n",
        "plt.xticks(X_axis, X)\n",
        "plt.xlabel(\"undersampled family\")\n",
        "plt.ylabel(\"f1_score\")\n",
        "plt.title(\"f1_score of  RF model\")\n",
        "plt.legend()\n",
        "plt.show()"
      ],
      "metadata": {
        "colab": {
          "base_uri": "https://localhost:8080/",
          "height": 261
        },
        "id": "G7OCU9Wxn0jH",
        "outputId": "b20c9bff-da74-43c4-a97b-e7eb3d4e3cff"
      },
      "execution_count": null,
      "outputs": [
        {
          "output_type": "display_data",
          "data": {
            "text/plain": [
              "<Figure size 540x252 with 1 Axes>"
            ],
            "image/png": "[encoded data removed]"
          },
          "metadata": {
            "needs_background": "light"
          }
        }
      ]
    },
    {
      "cell_type": "code",
      "source": [
        "import numpy as np \n",
        "import matplotlib.pyplot as plt \n",
        "X = [\"abcbot\",'antavmu','bamital','kfos ','necro','shifu','tinynuke','tofsee']\n",
        "before_SMOTE = [0.50, 0.50,0.89,0.39,0.54,0.59,0.50, 0.40]\n",
        "after_SMOTE = [\t0.71,0.73,0.92,0.64,0.55,0.61,0.55,0.86]\n",
        "  \n",
        "X_axis = np.arange(len(X))\n",
        "  \n",
        "plt.bar(X_axis - 0.2, before_SMOTE, 0.2, label = 'before resampling')\n",
        "plt.bar(X_axis + 0.2, after_SMOTE, 0.2, label = 'after resampling')\n",
        "\n",
        "plt.xticks(X_axis, X)\n",
        "plt.xlabel(\"oversampled family\")\n",
        "plt.ylabel(\"f1_score\")\n",
        "plt.title(\"f1_score of  RF model\")\n",
        "plt.legend()\n",
        "plt.show()"
      ],
      "metadata": {
        "colab": {
          "base_uri": "https://localhost:8080/",
          "height": 261
        },
        "id": "XCxYbvj8ovPY",
        "outputId": "40de4a22-8328-4b3f-df76-f0151f084a02"
      },
      "execution_count": null,
      "outputs": [
        {
          "output_type": "display_data",
          "data": {
            "text/plain": [
              "<Figure size 540x252 with 1 Axes>"
            ],
            "image/png": "[encoded data removed]"
          },
          "metadata": {
            "needs_background": "light"
          }
        }
      ]
    },
    {
      "cell_type": "code",
      "source": [
        "import numpy as np\n",
        "import matplotlib.pyplot as plt\n",
        "  \n",
        "N = 5\n",
        "ind = np.arange(N) \n",
        "width = 0.25\n",
        "fig, ax = plt.subplots()\n",
        "\n",
        "RF = [78,44,80,76,99]\n",
        "bar1 = ax.bar(ind, RF, width)\n",
        "    \n",
        "CNNRF = [87,32,97,68,98]\n",
        "bar2 = ax.bar(ind+width, CNNRF, width)\n",
        "\n",
        "LSTMRF = [90,81,95,83,100]\n",
        "bar3 = ax.bar(ind+width*2, LSTMRF, width)\n",
        "\n",
        "for p in bar1:\n",
        "   height = p.get_height()\n",
        "   ax.text(x=p.get_x() + p.get_width() / 2, y=height,\n",
        "      s=\"{}\".format(height),\n",
        "      ha='center')\n",
        "for p in bar2:\n",
        "   height = p.get_height()\n",
        "   ax.text(x=p.get_x() + p.get_width() / 2, y=height,\n",
        "      s=\"{}\".format(height),\n",
        "      ha='center')\n",
        "for p in bar3:\n",
        "   height = p.get_height()\n",
        "   ax.text(x=p.get_x() + p.get_width() / 2, y=height,\n",
        "      s=\"{}\".format(height),\n",
        "      ha='center')\n",
        "   \n",
        "plt.xlabel(\"imroved family\")\n",
        "plt.ylabel('f1_score')\n",
        "plt.title(\"f1_score of  ensemble RF & hybrid model\")\n",
        "  \n",
        "plt.xticks(ind+width,['mydoom','ngioweb','padcrypt','pykspa_v1','qadars'])\n",
        "plt.legend( (bar1, bar2, bar3), ('RF', 'CNNRF', 'LSTMRF'),loc='lower right' )\n",
        "plt.show()"
      ],
      "metadata": {
        "colab": {
          "base_uri": "https://localhost:8080/",
          "height": 261
        },
        "id": "9-W36jiV7qQE",
        "outputId": "37de0188-de8d-4a9f-ccba-70f4849a4429"
      },
      "execution_count": null,
      "outputs": [
        {
          "output_type": "display_data",
          "data": {
            "text/plain": [
              "<Figure size 540x252 with 1 Axes>"
            ],
            "image/png": "[encoded data removed]"
          },
          "metadata": {
            "needs_background": "light"
          }
        }
      ]
    },
    {
      "cell_type": "code",
      "source": [
        "import numpy as np\n",
        "import matplotlib.pyplot as plt\n",
        "  \n",
        "N = 5\n",
        "ind = np.arange(N) \n",
        "width = 0.25\n",
        "fig, ax = plt.subplots()\n",
        "\n",
        "RF = [84,82,21,86,64]\n",
        "bar1 = ax.bar(ind, RF, width)\n",
        "  \n",
        "CNNRF = [72,88,73,100,65]\n",
        "bar2 = ax.bar(ind+width, CNNRF, width)\n",
        "    \n",
        "LSTMRF = [87,94,77,92,57]\n",
        "bar3 = ax.bar(ind+width*2, LSTMRF, width)\n",
        "\n",
        "for p in bar1:\n",
        "   height = p.get_height()\n",
        "   ax.text(x=p.get_x() + p.get_width() / 2, y=height,\n",
        "      s=\"{}\".format(height),\n",
        "      ha='center')\n",
        "for p in bar2:\n",
        "   height = p.get_height()\n",
        "   ax.text(x=p.get_x() + p.get_width() / 2, y=height,\n",
        "      s=\"{}\".format(height),\n",
        "      ha='center')\n",
        "for p in bar3:\n",
        "   height = p.get_height()\n",
        "   ax.text(x=p.get_x() + p.get_width() / 2, y=height,\n",
        "      s=\"{}\".format(height),\n",
        "      ha='center')\n",
        "   \n",
        "plt.xlabel(\"imroved family\")\n",
        "plt.ylabel('f1_score')\n",
        "plt.title(\"f1_score of  ensemble RF & hybrid model\")\n",
        "  \n",
        "plt.xticks(ind+width,['rovnix','shiotob','simda','suppobox','tofsee','virut'])\n",
        "plt.legend( (bar1, bar2, bar3), ('RF', 'CNNRF', 'LSTMRF'), loc='lower right' )\n",
        "plt.show()"
      ],
      "metadata": {
        "colab": {
          "base_uri": "https://localhost:8080/",
          "height": 261
        },
        "id": "vxQJaeVC4Cw8",
        "outputId": "9dc3488f-6448-4549-b462-8254f15afbab"
      },
      "execution_count": null,
      "outputs": [
        {
          "output_type": "display_data",
          "data": {
            "text/plain": [
              "<Figure size 540x252 with 1 Axes>"
            ],
            "image/png": "[encoded data removed]"
          },
          "metadata": {
            "needs_background": "light"
          }
        }
      ]
    },
    {
      "cell_type": "code",
      "source": [
        "import numpy as np\n",
        "import matplotlib.pyplot as plt\n",
        "  \n",
        "N = 5\n",
        "ind = np.arange(N) \n",
        "width = 0.25\n",
        "fig, ax = plt.subplots()\n",
        "\n",
        "RF = [71,73,92,99,25]\n",
        "bar1 = ax.bar(ind, RF, width)\n",
        "\n",
        "CNNRF = [100,100,100,100,78]\n",
        "bar2 = ax.bar(ind+width, CNNRF, width)\n",
        "\n",
        "LSTMRF = [100,100,93,100,42]\n",
        "bar3 = ax.bar(ind+width*2, LSTMRF, width)\n",
        "\n",
        "for p in bar1:\n",
        "   height = p.get_height()\n",
        "   ax.text(x=p.get_x() + p.get_width() / 2, y=height,\n",
        "      s=\"{}\".format(height),\n",
        "      ha='center')\n",
        "for p in bar2:\n",
        "   height = p.get_height()\n",
        "   ax.text(x=p.get_x() + p.get_width() / 2, y=height,\n",
        "      s=\"{}\".format(height),\n",
        "      ha='center')\n",
        "for p in bar3:\n",
        "   height = p.get_height()\n",
        "   ax.text(x=p.get_x() + p.get_width() / 2, y=height,\n",
        "      s=\"{}\".format(height),\n",
        "      ha='center')\n",
        "   \n",
        "plt.xlabel(\"imroved family\")\n",
        "plt.ylabel('f1_score')\n",
        "plt.title(\"f1_score of  ensemble RF & hybrid model\")\n",
        "  \n",
        "plt.xticks(ind+width,[\"abcbot\",'antavmu','bamital','banjori','fedo '])\n",
        "plt.legend( (bar1, bar2, bar3), ('RF', 'CNNRF', 'LSTMRF'),loc =\"lower left\" )\n",
        "plt.show()"
      ],
      "metadata": {
        "colab": {
          "base_uri": "https://localhost:8080/",
          "height": 261
        },
        "id": "ORMoKlsL8isa",
        "outputId": "a552e3c5-ec01-4d9f-e229-f0cc18ce3a36"
      },
      "execution_count": null,
      "outputs": [
        {
          "output_type": "display_data",
          "data": {
            "text/plain": [
              "<Figure size 540x252 with 1 Axes>"
            ],
            "image/png": "[encoded data removed]"
          },
          "metadata": {
            "needs_background": "light"
          }
        }
      ]
    },
    {
      "cell_type": "code",
      "source": [
        "import numpy as np\n",
        "import matplotlib.pyplot as plt\n",
        "  \n",
        "N = 5\n",
        "ind = np.arange(N) \n",
        "width = 0.25\n",
        "fig, ax = plt.subplots()\n",
        "\n",
        "RF = [92,78,64,63,86]\n",
        "bar1 = ax.bar(ind, RF, width)\n",
        "\n",
        "  \n",
        "CNNRF = [0,17,100,86,92]\n",
        "bar2 = ax.bar(ind+width, CNNRF, width)\n",
        "\n",
        "LSTMRF = [93,93,98,88,99]\n",
        "bar3 = ax.bar(ind+width*2, LSTMRF, width)\n",
        "\n",
        "for p in bar1:\n",
        "   height = p.get_height()\n",
        "   ax.text(x=p.get_x() + p.get_width() / 2, y=height,\n",
        "      s=\"{}\".format(height),\n",
        "      ha='center')\n",
        "for p in bar2:\n",
        "   height = p.get_height()\n",
        "   ax.text(x=p.get_x() + p.get_width() / 2, y=height,\n",
        "      s=\"{}\".format(height),\n",
        "      ha='center')\n",
        "for p in bar3:\n",
        "   height = p.get_height()\n",
        "   ax.text(x=p.get_x() + p.get_width() / 2, y=height,\n",
        "      s=\"{}\".format(height),\n",
        "      ha='center')\n",
        "   \n",
        "plt.xlabel(\"imroved family\")\n",
        "plt.ylabel('f1_score')\n",
        "plt.title(\"f1_score of  ensemble RF & hybrid model\")\n",
        "  \n",
        "plt.xticks(ind+width,['flubot','gspy','kfos','tofsee','murofet'])\n",
        "plt.legend( (bar1, bar2, bar3), ('RF', 'CNNRF', 'LSTMRF'),loc =\"lower right\")\n",
        "plt.show()"
      ],
      "metadata": {
        "colab": {
          "base_uri": "https://localhost:8080/",
          "height": 261
        },
        "id": "HzFxuBXo50eT",
        "outputId": "da30b455-7c5a-4d2d-9e81-a821928b1402"
      },
      "execution_count": null,
      "outputs": [
        {
          "output_type": "display_data",
          "data": {
            "text/plain": [
              "<Figure size 540x252 with 1 Axes>"
            ],
            "image/png": "[encoded data removed]"
          },
          "metadata": {
            "needs_background": "light"
          }
        }
      ]
    },
    {
      "cell_type": "code",
      "source": [
        "import numpy as np\n",
        "import matplotlib.pyplot as plt\n",
        "  \n",
        "N = 7\n",
        "ind = np.arange(N) \n",
        "width = 0.25\n",
        "fig, ax = plt.subplots()\n",
        "  \n",
        "Ensemble= [1.7,0.9,4.6,1.1,1.7,1,1.6]\n",
        "bar1 = plt.bar(ind, Ensemble, width)\n",
        "  \n",
        "CNN = [13, 8, 8.1, 12.3, 31, 14, 9.2]\n",
        "bar2 = plt.bar(ind+width, CNN, width)\n",
        "  \n",
        "LSTM = [5.9, 5.4, 5.5, 5.6,10.4, 7.9, 5.7]\n",
        "bar3 = plt.bar(ind+width*2, LSTM, width)\n",
        "\n",
        "for p in bar1:\n",
        "   height = p.get_height()\n",
        "   ax.text(x=p.get_x() + p.get_width() / 2, y=height,\n",
        "      s=\"{}%\".format(height),\n",
        "      ha='center')\n",
        "for p in bar2:\n",
        "   height = p.get_height()\n",
        "   ax.text(x=p.get_x() + p.get_width() / 2, y=height,\n",
        "      s=\"{}%\".format(height),\n",
        "      ha='center')\n",
        "for p in bar3:\n",
        "   height = p.get_height()\n",
        "   ax.text(x=p.get_x() + p.get_width() / 2, y=height,\n",
        "      s=\"{}%\".format(height),\n",
        "      ha='center')\n",
        "    \n",
        "plt.xlabel(\"Models\")\n",
        "plt.ylabel(\"FPR\")\n",
        "plt.title(\"FPR of ensemble and hybrid models on untrained family\")\n",
        "  \n",
        "plt.xticks(ind+width,['LR/VT','RF','ET','AB', 'NB/ST', 'DT/BDT','XGB'])\n",
        "plt.legend( (bar1, bar2, bar3), ('Ensemble', 'CNN', 'LSTM'))\n",
        "plt.show()"
      ],
      "metadata": {
        "id": "T48DIRw09XtD"
      },
      "execution_count": null,
      "outputs": []
    },
    {
      "cell_type": "code",
      "source": [
        "import numpy as np\n",
        "import matplotlib.pyplot as plt\n",
        "  \n",
        "N = 6\n",
        "ind = np.arange(N) \n",
        "width = 0.25\n",
        "  \n",
        "RF = [97,99,99,90,57,78]\n",
        "bar1 = plt.bar(ind, RF, width)\n",
        "  \n",
        "CNNRF = [97,99,99,90,71,100]\n",
        "bar2 = plt.bar(ind+width, CNNRF, width)\n",
        "  \n",
        "LSTMRF = [98,99,99,95,84,100]\n",
        "bar3 = plt.bar(ind+width*2, LSTMRF, width)\n",
        "  \n",
        "plt.xlabel(\"supergrouped family\")\n",
        "plt.ylabel('f1_score')\n",
        "plt.title(\"ensemble RF & hybrid model\")\n",
        "  \n",
        "plt.xticks(ind+width,[\"group1\",'group2','group3','group4','group5 ','group6'])\n",
        "plt.legend( (bar1, bar2, bar3), ('RF', 'CNNRF', 'LSTMRF') )\n",
        "plt.show()"
      ],
      "metadata": {
        "colab": {
          "base_uri": "https://localhost:8080/",
          "height": 295
        },
        "id": "pTLwXz__a3Mc",
        "outputId": "6cfc5a9f-b351-4a51-8059-6dce0b6cbeb4"
      },
      "execution_count": null,
      "outputs": [
        {
          "output_type": "display_data",
          "data": {
            "text/plain": [
              "<Figure size 432x288 with 1 Axes>"
            ],
            "image/png": "[encoded data removed]"
          },
          "metadata": {
            "needs_background": "light"
          }
        }
      ]
    },
    {
      "cell_type": "code",
      "source": [
        "from matplotlib import pyplot as plt\n",
        "import numpy as np\n",
        "\n",
        "plt.rcParams[\"figure.figsize\"] = [7.50, 3.50]\n",
        "plt.rcParams[\"figure.autolayout\"] = True\n",
        "\n",
        "x = [\"group1\",'group2','group3','group4','group5 ','group6']\n",
        "RF = [97,99,99,90,57,78]\n",
        "\n",
        "width = 0.35\n",
        "fig, ax = plt.subplots()\n",
        "\n",
        "pps = ax.bar(x, RF, width, align='center')\n",
        "\n",
        "for p in pps:\n",
        "   height = p.get_height()\n",
        "   ax.text(x=p.get_x() + p.get_width() / 2, y=height+.10,\n",
        "      s=\"{}%\".format(height),\n",
        "      ha='center')\n",
        "\n",
        "plt.show()"
      ],
      "metadata": {
        "colab": {
          "base_uri": "https://localhost:8080/",
          "height": 261
        },
        "id": "jxhmwHClhF3L",
        "outputId": "1d7410dc-5217-4ed3-9ca8-898fa4839bb4"
      },
      "execution_count": null,
      "outputs": [
        {
          "output_type": "display_data",
          "data": {
            "text/plain": [
              "<Figure size 540x252 with 1 Axes>"
            ],
            "image/png": "[encoded data removed]"
          },
          "metadata": {
            "needs_background": "light"
          }
        }
      ]
    },
    {
      "cell_type": "code",
      "source": [
        "import numpy as np\n",
        "import matplotlib.pyplot as plt\n",
        "  \n",
        "N = 5\n",
        "ind = np.arange(N) \n",
        "width = 0.25\n",
        "fig, ax = plt.subplots()\n",
        "\n",
        "RF = [97.32,99.78,98.62,2.1,98.40]\n",
        "bar1 = ax.bar(ind, RF, width)\n",
        "  \n",
        "CNNRF = [96.53,99.74,97.43,0.9,98.3]\n",
        "bar2 = ax.bar(ind+width, CNNRF, width)\n",
        "  \n",
        "LSTMRF = [97.70,99.80,98.36,0.7,98.63]\n",
        "bar3 = ax.bar(ind+width*2, LSTMRF, width)\n",
        "  \n",
        "\n",
        "for p in bar1:\n",
        "   height = p.get_height()\n",
        "   ax.text(x=p.get_x() + p.get_width() / 2, y=height+.10,\n",
        "      s=\"{}\".format(height),\n",
        "      ha='center')\n",
        "for p in bar2:\n",
        "   height = p.get_height()\n",
        "   ax.text(x=p.get_x() + p.get_width() / 2, y=height+.10,\n",
        "      s=\"{}\".format(height),\n",
        "      ha='center')\n",
        "for p in bar3:\n",
        "   height = p.get_height()\n",
        "   ax.text(x=p.get_x() + p.get_width() / 2, y=height+.10,\n",
        "      s=\"{}\".format(height),\n",
        "      ha='center')\n",
        "   \n",
        "plt.xlabel(\"supergrouped family\")\n",
        "plt.ylabel('f1_score')\n",
        "plt.title(\"ensemble RF & hybrid model\")\n",
        "  \n",
        "plt.xticks(ind+width,[\"f1_score\",'AUC','TPR','FPR','accuracy '])\n",
        "plt.legend( (bar1, bar2, bar3), ('RF', 'CNNRF', 'LSTMRF'), loc =\"lower right\")\n",
        "plt.show()"
      ],
      "metadata": {
        "colab": {
          "base_uri": "https://localhost:8080/",
          "height": 261
        },
        "id": "cq8W0_sIm0kO",
        "outputId": "d82e61b6-cf62-4200-da57-52594fdc239a"
      },
      "execution_count": null,
      "outputs": [
        {
          "output_type": "display_data",
          "data": {
            "text/plain": [
              "<Figure size 540x252 with 1 Axes>"
            ],
            "image/png": "[encoded data removed]"
          },
          "metadata": {
            "needs_background": "light"
          }
        }
      ]
    },
    {
      "cell_type": "code",
      "source": [
        "import numpy as np\n",
        "import matplotlib.pyplot as plt\n",
        "  \n",
        "N = 6\n",
        "ind = np.arange(N) \n",
        "width = 0.25\n",
        "fig, ax = plt.subplots()\n",
        "\n",
        "RF = [97,99,99,90,57,78]\n",
        "bar1 = ax.bar(ind, RF, width)\n",
        "  \n",
        "CNNRF = [97,99,99,90,71,100]\n",
        "bar2 = ax.bar(ind+width, CNNRF, width)\n",
        "  \n",
        "LSTMRF = [98,99,99,95,84,100]\n",
        "bar3 = ax.bar(ind+width*2, LSTMRF, width)\n",
        "  \n",
        "\n",
        "for p in bar1:\n",
        "   height = p.get_height()\n",
        "   ax.text(x=p.get_x() + p.get_width() / 2, y=height+.10,\n",
        "      s=\"{}\".format(height),\n",
        "      ha='center')\n",
        "for p in bar2:\n",
        "   height = p.get_height()\n",
        "   ax.text(x=p.get_x() + p.get_width() / 2, y=height+.10,\n",
        "      s=\"{}\".format(height),\n",
        "      ha='center')\n",
        "for p in bar3:\n",
        "   height = p.get_height()\n",
        "   ax.text(x=p.get_x() + p.get_width() / 2, y=height+.10,\n",
        "      s=\"{}\".format(height),\n",
        "      ha='center')\n",
        "   \n",
        "plt.xlabel(\"supergrouped family\")\n",
        "plt.ylabel('f1_score')\n",
        "plt.title(\"ensemble RF & hybrid model\")\n",
        "  \n",
        "plt.xticks(ind+width,[\"group1\",'group2','group3','group4','group5 ','group6'])\n",
        "plt.legend( (bar1, bar2, bar3), ('RF', 'CNNRF', 'LSTMRF'), loc =\"lower right\")\n",
        "plt.show()"
      ],
      "metadata": {
        "colab": {
          "base_uri": "https://localhost:8080/",
          "height": 261
        },
        "id": "KD1tzYuqYnzc",
        "outputId": "22063b2b-fc5e-42d3-c305-9f6212e3b857"
      },
      "execution_count": null,
      "outputs": [
        {
          "output_type": "display_data",
          "data": {
            "text/plain": [
              "<Figure size 540x252 with 1 Axes>"
            ],
            "image/png": "[encoded data removed]"
          },
          "metadata": {
            "needs_background": "light"
          }
        }
      ]
    }
  ],
  "metadata": {
    "colab": {
      "collapsed_sections": [
        "mjLwlzX8If2U",
        "g2I4ELKFJQZv",
        "YCq4d5zRdRgV",
        "EJzarINcDGux",
        "g5qr-i3idRgZ"
      ],
      "provenance": []
    },
    "kernelspec": {
      "display_name": "Python 3",
      "name": "python3"
    },
    "language_info": {
      "name": "python"
    }
  },
  "nbformat": 4,
  "nbformat_minor": 0
}