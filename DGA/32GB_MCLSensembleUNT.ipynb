{
 "cells": [
  {
   "cell_type": "code",
   "execution_count": null,
   "metadata": {
    "id": "PRA4adyjdWcn"
   },
   "outputs": [],
   "source": [
    "import tensorflow as tf\n",
    "%matplotlib inline\n",
    "import numpy as np\n",
    "from collections import defaultdict\n",
    "import collections\n",
    "import matplotlib.pyplot as plt\n",
    "import numpy as np\n",
    "import os\n",
    "import random\n",
    "import tensorflow as tf\n",
    "import seaborn as sns\n",
    "import cv2"
   ]
  },
  {
   "cell_type": "code",
   "execution_count": null,
   "metadata": {
    "id": "blwR7ARVeBNY"
   },
   "outputs": [],
   "source": [
    "import pandas as pd\n",
    "import numpy as np\n",
    "import math\n",
    "from collections import Counter\n",
    "from sklearn.model_selection import train_test_split\n",
    "from sklearn.model_selection import GridSearchCV"
   ]
  },
  {
   "cell_type": "code",
   "execution_count": null,
   "metadata": {
    "colab": {
     "base_uri": "https://localhost:8080/"
    },
    "id": "-miIBab7lnn8",
    "outputId": "1a625ed8-df4c-4dda-b59d-8893a4a19283"
   },
   "outputs": [
    {
     "name": "stdout",
     "output_type": "stream",
     "text": [
      "Mounted at /content/drive\n"
     ]
    }
   ],
   "source": [
    "from google.colab import drive\n",
    "drive.mount('/content/drive')"
   ]
  },
  {
   "cell_type": "markdown",
   "metadata": {
    "id": "3LdwlZ485K_f"
   },
   "source": [
    "## Feature engineering"
   ]
  },
  {
   "cell_type": "code",
   "execution_count": null,
   "metadata": {
    "colab": {
     "base_uri": "https://localhost:8080/",
     "height": 270
    },
    "id": "TEXSNkUHYSl7",
    "outputId": "d9602dd8-9d19-462e-e969-18e39e6cfb2e"
   },
   "outputs": [
    {
     "data": {
      "text/html": [
       "\n",
       "  <div id=\"df-f5352344-765a-4955-8ca7-2d325dc647a3\">\n",
       "    <div class=\"colab-df-container\">\n",
       "      <div>\n",
       "<style scoped>\n",
       "    .dataframe tbody tr th:only-of-type {\n",
       "        vertical-align: middle;\n",
       "    }\n",
       "\n",
       "    .dataframe tbody tr th {\n",
       "        vertical-align: top;\n",
       "    }\n",
       "\n",
       "    .dataframe thead th {\n",
       "        text-align: right;\n",
       "    }\n",
       "</style>\n",
       "<table border=\"1\" class=\"dataframe\">\n",
       "  <thead>\n",
       "    <tr style=\"text-align: right;\">\n",
       "      <th></th>\n",
       "      <th>domain_name</th>\n",
       "      <th>dga_family</th>\n",
       "      <th>domain</th>\n",
       "      <th>length</th>\n",
       "      <th>entropy</th>\n",
       "      <th>first_Digit_Index</th>\n",
       "      <th>H_entropy</th>\n",
       "      <th>vowel_consonant_ratio</th>\n",
       "      <th>vowel_character_ratio</th>\n",
       "      <th>consonant_character_ratio</th>\n",
       "      <th>level_no</th>\n",
       "      <th>alexa_grams</th>\n",
       "      <th>words_grams</th>\n",
       "    </tr>\n",
       "  </thead>\n",
       "  <tbody>\n",
       "    <tr>\n",
       "      <th>0</th>\n",
       "      <td>odqzesdvd.info</td>\n",
       "      <td>nymaim</td>\n",
       "      <td>odqzesdvd</td>\n",
       "      <td>9</td>\n",
       "      <td>2.641604</td>\n",
       "      <td>0</td>\n",
       "      <td>3.324863</td>\n",
       "      <td>0.444444</td>\n",
       "      <td>0.285714</td>\n",
       "      <td>0.642857</td>\n",
       "      <td>2</td>\n",
       "      <td>8.618689</td>\n",
       "      <td>10.200253</td>\n",
       "    </tr>\n",
       "    <tr>\n",
       "      <th>1</th>\n",
       "      <td>mcrwnxdzu.info</td>\n",
       "      <td>nymaim</td>\n",
       "      <td>mcrwnxdzu</td>\n",
       "      <td>9</td>\n",
       "      <td>3.169925</td>\n",
       "      <td>0</td>\n",
       "      <td>3.664498</td>\n",
       "      <td>0.300000</td>\n",
       "      <td>0.214286</td>\n",
       "      <td>0.714286</td>\n",
       "      <td>2</td>\n",
       "      <td>5.331953</td>\n",
       "      <td>4.442651</td>\n",
       "    </tr>\n",
       "    <tr>\n",
       "      <th>2</th>\n",
       "      <td>poxrscvfoy.biz</td>\n",
       "      <td>nymaim</td>\n",
       "      <td>poxrscvfoy</td>\n",
       "      <td>10</td>\n",
       "      <td>3.121928</td>\n",
       "      <td>0</td>\n",
       "      <td>3.664498</td>\n",
       "      <td>0.300000</td>\n",
       "      <td>0.214286</td>\n",
       "      <td>0.714286</td>\n",
       "      <td>2</td>\n",
       "      <td>9.758886</td>\n",
       "      <td>11.231941</td>\n",
       "    </tr>\n",
       "    <tr>\n",
       "      <th>3</th>\n",
       "      <td>dupzwi.info</td>\n",
       "      <td>nymaim</td>\n",
       "      <td>dupzwi</td>\n",
       "      <td>6</td>\n",
       "      <td>2.584963</td>\n",
       "      <td>0</td>\n",
       "      <td>3.277613</td>\n",
       "      <td>0.666667</td>\n",
       "      <td>0.363636</td>\n",
       "      <td>0.545455</td>\n",
       "      <td>2</td>\n",
       "      <td>3.861893</td>\n",
       "      <td>7.928046</td>\n",
       "    </tr>\n",
       "    <tr>\n",
       "      <th>4</th>\n",
       "      <td>pgldibr.com</td>\n",
       "      <td>nymaim</td>\n",
       "      <td>pgldibr</td>\n",
       "      <td>7</td>\n",
       "      <td>2.807355</td>\n",
       "      <td>0</td>\n",
       "      <td>3.459432</td>\n",
       "      <td>0.250000</td>\n",
       "      <td>0.181818</td>\n",
       "      <td>0.727273</td>\n",
       "      <td>2</td>\n",
       "      <td>12.146719</td>\n",
       "      <td>20.785039</td>\n",
       "    </tr>\n",
       "  </tbody>\n",
       "</table>\n",
       "</div>\n",
       "      <button class=\"colab-df-convert\" onclick=\"convertToInteractive('df-f5352344-765a-4955-8ca7-2d325dc647a3')\"\n",
       "              title=\"Convert this dataframe to an interactive table.\"\n",
       "              style=\"display:none;\">\n",
       "        \n",
       "  <svg xmlns=\"http://www.w3.org/2000/svg\" height=\"24px\"viewBox=\"0 0 24 24\"\n",
       "       width=\"24px\">\n",
       "    <path d=\"M0 0h24v24H0V0z\" fill=\"none\"/>\n",
       "    <path d=\"M18.56 5.44l.94 2.06.94-2.06 2.06-.94-2.06-.94-.94-2.06-.94 2.06-2.06.94zm-11 1L8.5 8.5l.94-2.06 2.06-.94-2.06-.94L8.5 2.5l-.94 2.06-2.06.94zm10 10l.94 2.06.94-2.06 2.06-.94-2.06-.94-.94-2.06-.94 2.06-2.06.94z\"/><path d=\"M17.41 7.96l-1.37-1.37c-.4-.4-.92-.59-1.43-.59-.52 0-1.04.2-1.43.59L10.3 9.45l-7.72 7.72c-.78.78-.78 2.05 0 2.83L4 21.41c.39.39.9.59 1.41.59.51 0 1.02-.2 1.41-.59l7.78-7.78 2.81-2.81c.8-.78.8-2.07 0-2.86zM5.41 20L4 18.59l7.72-7.72 1.47 1.35L5.41 20z\"/>\n",
       "  </svg>\n",
       "      </button>\n",
       "      \n",
       "  <style>\n",
       "    .colab-df-container {\n",
       "      display:flex;\n",
       "      flex-wrap:wrap;\n",
       "      gap: 12px;\n",
       "    }\n",
       "\n",
       "    .colab-df-convert {\n",
       "      background-color: #E8F0FE;\n",
       "      border: none;\n",
       "      border-radius: 50%;\n",
       "      cursor: pointer;\n",
       "      display: none;\n",
       "      fill: #1967D2;\n",
       "      height: 32px;\n",
       "      padding: 0 0 0 0;\n",
       "      width: 32px;\n",
       "    }\n",
       "\n",
       "    .colab-df-convert:hover {\n",
       "      background-color: #E2EBFA;\n",
       "      box-shadow: 0px 1px 2px rgba(60, 64, 67, 0.3), 0px 1px 3px 1px rgba(60, 64, 67, 0.15);\n",
       "      fill: #174EA6;\n",
       "    }\n",
       "\n",
       "    [theme=dark] .colab-df-convert {\n",
       "      background-color: #3B4455;\n",
       "      fill: #D2E3FC;\n",
       "    }\n",
       "\n",
       "    [theme=dark] .colab-df-convert:hover {\n",
       "      background-color: #434B5C;\n",
       "      box-shadow: 0px 1px 3px 1px rgba(0, 0, 0, 0.15);\n",
       "      filter: drop-shadow(0px 1px 2px rgba(0, 0, 0, 0.3));\n",
       "      fill: #FFFFFF;\n",
       "    }\n",
       "  </style>\n",
       "\n",
       "      <script>\n",
       "        const buttonEl =\n",
       "          document.querySelector('#df-f5352344-765a-4955-8ca7-2d325dc647a3 button.colab-df-convert');\n",
       "        buttonEl.style.display =\n",
       "          google.colab.kernel.accessAllowed ? 'block' : 'none';\n",
       "\n",
       "        async function convertToInteractive(key) {\n",
       "          const element = document.querySelector('#df-f5352344-765a-4955-8ca7-2d325dc647a3');\n",
       "          const dataTable =\n",
       "            await google.colab.kernel.invokeFunction('convertToInteractive',\n",
       "                                                     [key], {});\n",
       "          if (!dataTable) return;\n",
       "\n",
       "          const docLinkHtml = 'Like what you see? Visit the ' +\n",
       "            '<a target=\"_blank\" href=https://colab.research.google.com/notebooks/data_table.ipynb>data table notebook</a>'\n",
       "            + ' to learn more about interactive tables.';\n",
       "          element.innerHTML = '';\n",
       "          dataTable['output_type'] = 'display_data';\n",
       "          await google.colab.output.renderOutput(dataTable, element);\n",
       "          const docLink = document.createElement('div');\n",
       "          docLink.innerHTML = docLinkHtml;\n",
       "          element.appendChild(docLink);\n",
       "        }\n",
       "      </script>\n",
       "    </div>\n",
       "  </div>\n",
       "  "
      ],
      "text/plain": [
       "      domain_name dga_family      domain  length   entropy  first_Digit_Index  \\\n",
       "0  odqzesdvd.info     nymaim   odqzesdvd       9  2.641604                  0   \n",
       "1  mcrwnxdzu.info     nymaim   mcrwnxdzu       9  3.169925                  0   \n",
       "2  poxrscvfoy.biz     nymaim  poxrscvfoy      10  3.121928                  0   \n",
       "3     dupzwi.info     nymaim      dupzwi       6  2.584963                  0   \n",
       "4     pgldibr.com     nymaim     pgldibr       7  2.807355                  0   \n",
       "\n",
       "   H_entropy  vowel_consonant_ratio  vowel_character_ratio  \\\n",
       "0   3.324863               0.444444               0.285714   \n",
       "1   3.664498               0.300000               0.214286   \n",
       "2   3.664498               0.300000               0.214286   \n",
       "3   3.277613               0.666667               0.363636   \n",
       "4   3.459432               0.250000               0.181818   \n",
       "\n",
       "   consonant_character_ratio  level_no  alexa_grams  words_grams  \n",
       "0                   0.642857         2     8.618689    10.200253  \n",
       "1                   0.714286         2     5.331953     4.442651  \n",
       "2                   0.714286         2     9.758886    11.231941  \n",
       "3                   0.545455         2     3.861893     7.928046  \n",
       "4                   0.727273         2    12.146719    20.785039  "
      ]
     },
     "execution_count": 4,
     "metadata": {},
     "output_type": "execute_result"
    }
   ],
   "source": [
    "Domain_data = pd.read_csv('/content/drive/My Drive/Colab Notebooks/MLDOMAIN_MCLS2.csv')\n",
    "Domain_data.drop([\"Unnamed: 0\"], axis=1, inplace=True)\n",
    "Domain_data.head()"
   ]
  },
  {
   "cell_type": "code",
   "execution_count": null,
   "metadata": {
    "id": "caPzkrCWsDXe"
   },
   "outputs": [],
   "source": [
    "from sklearn.preprocessing import LabelEncoder\n",
    "# Create label encoder object\n",
    "labels = LabelEncoder()\n",
    "\n",
    "# Convert continous y values to categorical\n",
    "Domain_data['family_label'] = labels.fit_transform(Domain_data['dga_family'])"
   ]
  },
  {
   "cell_type": "code",
   "execution_count": null,
   "metadata": {
    "colab": {
     "base_uri": "https://localhost:8080/",
     "height": 270
    },
    "id": "0K27UolAiMld",
    "outputId": "f54e5103-7e5d-4da8-c524-5470e99ef305"
   },
   "outputs": [
    {
     "data": {
      "text/html": [
       "\n",
       "  <div id=\"df-31168045-243a-4ea3-b0aa-f07b0410955f\">\n",
       "    <div class=\"colab-df-container\">\n",
       "      <div>\n",
       "<style scoped>\n",
       "    .dataframe tbody tr th:only-of-type {\n",
       "        vertical-align: middle;\n",
       "    }\n",
       "\n",
       "    .dataframe tbody tr th {\n",
       "        vertical-align: top;\n",
       "    }\n",
       "\n",
       "    .dataframe thead th {\n",
       "        text-align: right;\n",
       "    }\n",
       "</style>\n",
       "<table border=\"1\" class=\"dataframe\">\n",
       "  <thead>\n",
       "    <tr style=\"text-align: right;\">\n",
       "      <th></th>\n",
       "      <th>domain_name</th>\n",
       "      <th>dga_family</th>\n",
       "      <th>domain</th>\n",
       "      <th>length</th>\n",
       "      <th>entropy</th>\n",
       "      <th>first_Digit_Index</th>\n",
       "      <th>H_entropy</th>\n",
       "      <th>vowel_consonant_ratio</th>\n",
       "      <th>vowel_character_ratio</th>\n",
       "      <th>consonant_character_ratio</th>\n",
       "      <th>level_no</th>\n",
       "      <th>alexa_grams</th>\n",
       "      <th>words_grams</th>\n",
       "      <th>family_label</th>\n",
       "    </tr>\n",
       "  </thead>\n",
       "  <tbody>\n",
       "    <tr>\n",
       "      <th>0</th>\n",
       "      <td>odqzesdvd.info</td>\n",
       "      <td>nymaim</td>\n",
       "      <td>odqzesdvd</td>\n",
       "      <td>9</td>\n",
       "      <td>2.641604</td>\n",
       "      <td>0</td>\n",
       "      <td>3.324863</td>\n",
       "      <td>0.444444</td>\n",
       "      <td>0.285714</td>\n",
       "      <td>0.642857</td>\n",
       "      <td>2</td>\n",
       "      <td>8.618689</td>\n",
       "      <td>10.200253</td>\n",
       "      <td>32</td>\n",
       "    </tr>\n",
       "    <tr>\n",
       "      <th>1</th>\n",
       "      <td>mcrwnxdzu.info</td>\n",
       "      <td>nymaim</td>\n",
       "      <td>mcrwnxdzu</td>\n",
       "      <td>9</td>\n",
       "      <td>3.169925</td>\n",
       "      <td>0</td>\n",
       "      <td>3.664498</td>\n",
       "      <td>0.300000</td>\n",
       "      <td>0.214286</td>\n",
       "      <td>0.714286</td>\n",
       "      <td>2</td>\n",
       "      <td>5.331953</td>\n",
       "      <td>4.442651</td>\n",
       "      <td>32</td>\n",
       "    </tr>\n",
       "    <tr>\n",
       "      <th>2</th>\n",
       "      <td>poxrscvfoy.biz</td>\n",
       "      <td>nymaim</td>\n",
       "      <td>poxrscvfoy</td>\n",
       "      <td>10</td>\n",
       "      <td>3.121928</td>\n",
       "      <td>0</td>\n",
       "      <td>3.664498</td>\n",
       "      <td>0.300000</td>\n",
       "      <td>0.214286</td>\n",
       "      <td>0.714286</td>\n",
       "      <td>2</td>\n",
       "      <td>9.758886</td>\n",
       "      <td>11.231941</td>\n",
       "      <td>32</td>\n",
       "    </tr>\n",
       "    <tr>\n",
       "      <th>3</th>\n",
       "      <td>dupzwi.info</td>\n",
       "      <td>nymaim</td>\n",
       "      <td>dupzwi</td>\n",
       "      <td>6</td>\n",
       "      <td>2.584963</td>\n",
       "      <td>0</td>\n",
       "      <td>3.277613</td>\n",
       "      <td>0.666667</td>\n",
       "      <td>0.363636</td>\n",
       "      <td>0.545455</td>\n",
       "      <td>2</td>\n",
       "      <td>3.861893</td>\n",
       "      <td>7.928046</td>\n",
       "      <td>32</td>\n",
       "    </tr>\n",
       "    <tr>\n",
       "      <th>4</th>\n",
       "      <td>pgldibr.com</td>\n",
       "      <td>nymaim</td>\n",
       "      <td>pgldibr</td>\n",
       "      <td>7</td>\n",
       "      <td>2.807355</td>\n",
       "      <td>0</td>\n",
       "      <td>3.459432</td>\n",
       "      <td>0.250000</td>\n",
       "      <td>0.181818</td>\n",
       "      <td>0.727273</td>\n",
       "      <td>2</td>\n",
       "      <td>12.146719</td>\n",
       "      <td>20.785039</td>\n",
       "      <td>32</td>\n",
       "    </tr>\n",
       "  </tbody>\n",
       "</table>\n",
       "</div>\n",
       "      <button class=\"colab-df-convert\" onclick=\"convertToInteractive('df-31168045-243a-4ea3-b0aa-f07b0410955f')\"\n",
       "              title=\"Convert this dataframe to an interactive table.\"\n",
       "              style=\"display:none;\">\n",
       "        \n",
       "  <svg xmlns=\"http://www.w3.org/2000/svg\" height=\"24px\"viewBox=\"0 0 24 24\"\n",
       "       width=\"24px\">\n",
       "    <path d=\"M0 0h24v24H0V0z\" fill=\"none\"/>\n",
       "    <path d=\"M18.56 5.44l.94 2.06.94-2.06 2.06-.94-2.06-.94-.94-2.06-.94 2.06-2.06.94zm-11 1L8.5 8.5l.94-2.06 2.06-.94-2.06-.94L8.5 2.5l-.94 2.06-2.06.94zm10 10l.94 2.06.94-2.06 2.06-.94-2.06-.94-.94-2.06-.94 2.06-2.06.94z\"/><path d=\"M17.41 7.96l-1.37-1.37c-.4-.4-.92-.59-1.43-.59-.52 0-1.04.2-1.43.59L10.3 9.45l-7.72 7.72c-.78.78-.78 2.05 0 2.83L4 21.41c.39.39.9.59 1.41.59.51 0 1.02-.2 1.41-.59l7.78-7.78 2.81-2.81c.8-.78.8-2.07 0-2.86zM5.41 20L4 18.59l7.72-7.72 1.47 1.35L5.41 20z\"/>\n",
       "  </svg>\n",
       "      </button>\n",
       "      \n",
       "  <style>\n",
       "    .colab-df-container {\n",
       "      display:flex;\n",
       "      flex-wrap:wrap;\n",
       "      gap: 12px;\n",
       "    }\n",
       "\n",
       "    .colab-df-convert {\n",
       "      background-color: #E8F0FE;\n",
       "      border: none;\n",
       "      border-radius: 50%;\n",
       "      cursor: pointer;\n",
       "      display: none;\n",
       "      fill: #1967D2;\n",
       "      height: 32px;\n",
       "      padding: 0 0 0 0;\n",
       "      width: 32px;\n",
       "    }\n",
       "\n",
       "    .colab-df-convert:hover {\n",
       "      background-color: #E2EBFA;\n",
       "      box-shadow: 0px 1px 2px rgba(60, 64, 67, 0.3), 0px 1px 3px 1px rgba(60, 64, 67, 0.15);\n",
       "      fill: #174EA6;\n",
       "    }\n",
       "\n",
       "    [theme=dark] .colab-df-convert {\n",
       "      background-color: #3B4455;\n",
       "      fill: #D2E3FC;\n",
       "    }\n",
       "\n",
       "    [theme=dark] .colab-df-convert:hover {\n",
       "      background-color: #434B5C;\n",
       "      box-shadow: 0px 1px 3px 1px rgba(0, 0, 0, 0.15);\n",
       "      filter: drop-shadow(0px 1px 2px rgba(0, 0, 0, 0.3));\n",
       "      fill: #FFFFFF;\n",
       "    }\n",
       "  </style>\n",
       "\n",
       "      <script>\n",
       "        const buttonEl =\n",
       "          document.querySelector('#df-31168045-243a-4ea3-b0aa-f07b0410955f button.colab-df-convert');\n",
       "        buttonEl.style.display =\n",
       "          google.colab.kernel.accessAllowed ? 'block' : 'none';\n",
       "\n",
       "        async function convertToInteractive(key) {\n",
       "          const element = document.querySelector('#df-31168045-243a-4ea3-b0aa-f07b0410955f');\n",
       "          const dataTable =\n",
       "            await google.colab.kernel.invokeFunction('convertToInteractive',\n",
       "                                                     [key], {});\n",
       "          if (!dataTable) return;\n",
       "\n",
       "          const docLinkHtml = 'Like what you see? Visit the ' +\n",
       "            '<a target=\"_blank\" href=https://colab.research.google.com/notebooks/data_table.ipynb>data table notebook</a>'\n",
       "            + ' to learn more about interactive tables.';\n",
       "          element.innerHTML = '';\n",
       "          dataTable['output_type'] = 'display_data';\n",
       "          await google.colab.output.renderOutput(dataTable, element);\n",
       "          const docLink = document.createElement('div');\n",
       "          docLink.innerHTML = docLinkHtml;\n",
       "          element.appendChild(docLink);\n",
       "        }\n",
       "      </script>\n",
       "    </div>\n",
       "  </div>\n",
       "  "
      ],
      "text/plain": [
       "      domain_name dga_family      domain  length   entropy  first_Digit_Index  \\\n",
       "0  odqzesdvd.info     nymaim   odqzesdvd       9  2.641604                  0   \n",
       "1  mcrwnxdzu.info     nymaim   mcrwnxdzu       9  3.169925                  0   \n",
       "2  poxrscvfoy.biz     nymaim  poxrscvfoy      10  3.121928                  0   \n",
       "3     dupzwi.info     nymaim      dupzwi       6  2.584963                  0   \n",
       "4     pgldibr.com     nymaim     pgldibr       7  2.807355                  0   \n",
       "\n",
       "   H_entropy  vowel_consonant_ratio  vowel_character_ratio  \\\n",
       "0   3.324863               0.444444               0.285714   \n",
       "1   3.664498               0.300000               0.214286   \n",
       "2   3.664498               0.300000               0.214286   \n",
       "3   3.277613               0.666667               0.363636   \n",
       "4   3.459432               0.250000               0.181818   \n",
       "\n",
       "   consonant_character_ratio  level_no  alexa_grams  words_grams  family_label  \n",
       "0                   0.642857         2     8.618689    10.200253            32  \n",
       "1                   0.714286         2     5.331953     4.442651            32  \n",
       "2                   0.714286         2     9.758886    11.231941            32  \n",
       "3                   0.545455         2     3.861893     7.928046            32  \n",
       "4                   0.727273         2    12.146719    20.785039            32  "
      ]
     },
     "execution_count": 6,
     "metadata": {},
     "output_type": "execute_result"
    }
   ],
   "source": [
    "Domain_data.head()"
   ]
  },
  {
   "cell_type": "code",
   "execution_count": null,
   "metadata": {
    "id": "-3K1kDcDclM0"
   },
   "outputs": [],
   "source": [
    "grouped = Domain_data.groupby('family_label')\n",
    "Domain = grouped.filter(lambda x: x['family_label'].count() > 5.)"
   ]
  },
  {
   "cell_type": "code",
   "execution_count": null,
   "metadata": {
    "colab": {
     "base_uri": "https://localhost:8080/",
     "height": 270
    },
    "id": "TbaV1rMUdYY8",
    "outputId": "d3710e21-f05d-49e8-e5b5-094da45148df"
   },
   "outputs": [
    {
     "data": {
      "text/html": [
       "\n",
       "  <div id=\"df-8c0f27cd-2d8a-45f0-a861-d5cfe6442637\">\n",
       "    <div class=\"colab-df-container\">\n",
       "      <div>\n",
       "<style scoped>\n",
       "    .dataframe tbody tr th:only-of-type {\n",
       "        vertical-align: middle;\n",
       "    }\n",
       "\n",
       "    .dataframe tbody tr th {\n",
       "        vertical-align: top;\n",
       "    }\n",
       "\n",
       "    .dataframe thead th {\n",
       "        text-align: right;\n",
       "    }\n",
       "</style>\n",
       "<table border=\"1\" class=\"dataframe\">\n",
       "  <thead>\n",
       "    <tr style=\"text-align: right;\">\n",
       "      <th></th>\n",
       "      <th>domain_name</th>\n",
       "      <th>dga_family</th>\n",
       "      <th>domain</th>\n",
       "      <th>length</th>\n",
       "      <th>entropy</th>\n",
       "      <th>first_Digit_Index</th>\n",
       "      <th>H_entropy</th>\n",
       "      <th>vowel_consonant_ratio</th>\n",
       "      <th>vowel_character_ratio</th>\n",
       "      <th>consonant_character_ratio</th>\n",
       "      <th>level_no</th>\n",
       "      <th>alexa_grams</th>\n",
       "      <th>words_grams</th>\n",
       "      <th>family_label</th>\n",
       "    </tr>\n",
       "  </thead>\n",
       "  <tbody>\n",
       "    <tr>\n",
       "      <th>0</th>\n",
       "      <td>odqzesdvd.info</td>\n",
       "      <td>nymaim</td>\n",
       "      <td>odqzesdvd</td>\n",
       "      <td>9</td>\n",
       "      <td>2.641604</td>\n",
       "      <td>0</td>\n",
       "      <td>3.324863</td>\n",
       "      <td>0.444444</td>\n",
       "      <td>0.285714</td>\n",
       "      <td>0.642857</td>\n",
       "      <td>2</td>\n",
       "      <td>8.618689</td>\n",
       "      <td>10.200253</td>\n",
       "      <td>32</td>\n",
       "    </tr>\n",
       "    <tr>\n",
       "      <th>1</th>\n",
       "      <td>mcrwnxdzu.info</td>\n",
       "      <td>nymaim</td>\n",
       "      <td>mcrwnxdzu</td>\n",
       "      <td>9</td>\n",
       "      <td>3.169925</td>\n",
       "      <td>0</td>\n",
       "      <td>3.664498</td>\n",
       "      <td>0.300000</td>\n",
       "      <td>0.214286</td>\n",
       "      <td>0.714286</td>\n",
       "      <td>2</td>\n",
       "      <td>5.331953</td>\n",
       "      <td>4.442651</td>\n",
       "      <td>32</td>\n",
       "    </tr>\n",
       "    <tr>\n",
       "      <th>2</th>\n",
       "      <td>poxrscvfoy.biz</td>\n",
       "      <td>nymaim</td>\n",
       "      <td>poxrscvfoy</td>\n",
       "      <td>10</td>\n",
       "      <td>3.121928</td>\n",
       "      <td>0</td>\n",
       "      <td>3.664498</td>\n",
       "      <td>0.300000</td>\n",
       "      <td>0.214286</td>\n",
       "      <td>0.714286</td>\n",
       "      <td>2</td>\n",
       "      <td>9.758886</td>\n",
       "      <td>11.231941</td>\n",
       "      <td>32</td>\n",
       "    </tr>\n",
       "    <tr>\n",
       "      <th>3</th>\n",
       "      <td>dupzwi.info</td>\n",
       "      <td>nymaim</td>\n",
       "      <td>dupzwi</td>\n",
       "      <td>6</td>\n",
       "      <td>2.584963</td>\n",
       "      <td>0</td>\n",
       "      <td>3.277613</td>\n",
       "      <td>0.666667</td>\n",
       "      <td>0.363636</td>\n",
       "      <td>0.545455</td>\n",
       "      <td>2</td>\n",
       "      <td>3.861893</td>\n",
       "      <td>7.928046</td>\n",
       "      <td>32</td>\n",
       "    </tr>\n",
       "    <tr>\n",
       "      <th>4</th>\n",
       "      <td>pgldibr.com</td>\n",
       "      <td>nymaim</td>\n",
       "      <td>pgldibr</td>\n",
       "      <td>7</td>\n",
       "      <td>2.807355</td>\n",
       "      <td>0</td>\n",
       "      <td>3.459432</td>\n",
       "      <td>0.250000</td>\n",
       "      <td>0.181818</td>\n",
       "      <td>0.727273</td>\n",
       "      <td>2</td>\n",
       "      <td>12.146719</td>\n",
       "      <td>20.785039</td>\n",
       "      <td>32</td>\n",
       "    </tr>\n",
       "  </tbody>\n",
       "</table>\n",
       "</div>\n",
       "      <button class=\"colab-df-convert\" onclick=\"convertToInteractive('df-8c0f27cd-2d8a-45f0-a861-d5cfe6442637')\"\n",
       "              title=\"Convert this dataframe to an interactive table.\"\n",
       "              style=\"display:none;\">\n",
       "        \n",
       "  <svg xmlns=\"http://www.w3.org/2000/svg\" height=\"24px\"viewBox=\"0 0 24 24\"\n",
       "       width=\"24px\">\n",
       "    <path d=\"M0 0h24v24H0V0z\" fill=\"none\"/>\n",
       "    <path d=\"M18.56 5.44l.94 2.06.94-2.06 2.06-.94-2.06-.94-.94-2.06-.94 2.06-2.06.94zm-11 1L8.5 8.5l.94-2.06 2.06-.94-2.06-.94L8.5 2.5l-.94 2.06-2.06.94zm10 10l.94 2.06.94-2.06 2.06-.94-2.06-.94-.94-2.06-.94 2.06-2.06.94z\"/><path d=\"M17.41 7.96l-1.37-1.37c-.4-.4-.92-.59-1.43-.59-.52 0-1.04.2-1.43.59L10.3 9.45l-7.72 7.72c-.78.78-.78 2.05 0 2.83L4 21.41c.39.39.9.59 1.41.59.51 0 1.02-.2 1.41-.59l7.78-7.78 2.81-2.81c.8-.78.8-2.07 0-2.86zM5.41 20L4 18.59l7.72-7.72 1.47 1.35L5.41 20z\"/>\n",
       "  </svg>\n",
       "      </button>\n",
       "      \n",
       "  <style>\n",
       "    .colab-df-container {\n",
       "      display:flex;\n",
       "      flex-wrap:wrap;\n",
       "      gap: 12px;\n",
       "    }\n",
       "\n",
       "    .colab-df-convert {\n",
       "      background-color: #E8F0FE;\n",
       "      border: none;\n",
       "      border-radius: 50%;\n",
       "      cursor: pointer;\n",
       "      display: none;\n",
       "      fill: #1967D2;\n",
       "      height: 32px;\n",
       "      padding: 0 0 0 0;\n",
       "      width: 32px;\n",
       "    }\n",
       "\n",
       "    .colab-df-convert:hover {\n",
       "      background-color: #E2EBFA;\n",
       "      box-shadow: 0px 1px 2px rgba(60, 64, 67, 0.3), 0px 1px 3px 1px rgba(60, 64, 67, 0.15);\n",
       "      fill: #174EA6;\n",
       "    }\n",
       "\n",
       "    [theme=dark] .colab-df-convert {\n",
       "      background-color: #3B4455;\n",
       "      fill: #D2E3FC;\n",
       "    }\n",
       "\n",
       "    [theme=dark] .colab-df-convert:hover {\n",
       "      background-color: #434B5C;\n",
       "      box-shadow: 0px 1px 3px 1px rgba(0, 0, 0, 0.15);\n",
       "      filter: drop-shadow(0px 1px 2px rgba(0, 0, 0, 0.3));\n",
       "      fill: #FFFFFF;\n",
       "    }\n",
       "  </style>\n",
       "\n",
       "      <script>\n",
       "        const buttonEl =\n",
       "          document.querySelector('#df-8c0f27cd-2d8a-45f0-a861-d5cfe6442637 button.colab-df-convert');\n",
       "        buttonEl.style.display =\n",
       "          google.colab.kernel.accessAllowed ? 'block' : 'none';\n",
       "\n",
       "        async function convertToInteractive(key) {\n",
       "          const element = document.querySelector('#df-8c0f27cd-2d8a-45f0-a861-d5cfe6442637');\n",
       "          const dataTable =\n",
       "            await google.colab.kernel.invokeFunction('convertToInteractive',\n",
       "                                                     [key], {});\n",
       "          if (!dataTable) return;\n",
       "\n",
       "          const docLinkHtml = 'Like what you see? Visit the ' +\n",
       "            '<a target=\"_blank\" href=https://colab.research.google.com/notebooks/data_table.ipynb>data table notebook</a>'\n",
       "            + ' to learn more about interactive tables.';\n",
       "          element.innerHTML = '';\n",
       "          dataTable['output_type'] = 'display_data';\n",
       "          await google.colab.output.renderOutput(dataTable, element);\n",
       "          const docLink = document.createElement('div');\n",
       "          docLink.innerHTML = docLinkHtml;\n",
       "          element.appendChild(docLink);\n",
       "        }\n",
       "      </script>\n",
       "    </div>\n",
       "  </div>\n",
       "  "
      ],
      "text/plain": [
       "      domain_name dga_family      domain  length   entropy  first_Digit_Index  \\\n",
       "0  odqzesdvd.info     nymaim   odqzesdvd       9  2.641604                  0   \n",
       "1  mcrwnxdzu.info     nymaim   mcrwnxdzu       9  3.169925                  0   \n",
       "2  poxrscvfoy.biz     nymaim  poxrscvfoy      10  3.121928                  0   \n",
       "3     dupzwi.info     nymaim      dupzwi       6  2.584963                  0   \n",
       "4     pgldibr.com     nymaim     pgldibr       7  2.807355                  0   \n",
       "\n",
       "   H_entropy  vowel_consonant_ratio  vowel_character_ratio  \\\n",
       "0   3.324863               0.444444               0.285714   \n",
       "1   3.664498               0.300000               0.214286   \n",
       "2   3.664498               0.300000               0.214286   \n",
       "3   3.277613               0.666667               0.363636   \n",
       "4   3.459432               0.250000               0.181818   \n",
       "\n",
       "   consonant_character_ratio  level_no  alexa_grams  words_grams  family_label  \n",
       "0                   0.642857         2     8.618689    10.200253            32  \n",
       "1                   0.714286         2     5.331953     4.442651            32  \n",
       "2                   0.714286         2     9.758886    11.231941            32  \n",
       "3                   0.545455         2     3.861893     7.928046            32  \n",
       "4                   0.727273         2    12.146719    20.785039            32  "
      ]
     },
     "execution_count": 8,
     "metadata": {},
     "output_type": "execute_result"
    }
   ],
   "source": [
    "Domain.head()"
   ]
  },
  {
   "cell_type": "code",
   "execution_count": null,
   "metadata": {
    "id": "ww2FnURIde-i"
   },
   "outputs": [],
   "source": [
    "X= Domain.drop([\"dga_family\", \"domain_name\", \"domain\",\"family_label\"], axis=1)\n",
    "#y = Domain[\"family_label\"]"
   ]
  },
  {
   "cell_type": "code",
   "execution_count": null,
   "metadata": {
    "id": "m6Q4dfAg5Zb9"
   },
   "outputs": [],
   "source": [
    "y = Domain.drop([\"length\", \"domain_name\", \"domain\",\"entropy\",\"first_Digit_Index\",\"H_entropy\",\"vowel_consonant_ratio\",\"vowel_character_ratio\",\"consonant_character_ratio\",\"level_no\",\"alexa_grams\",\"words_grams\"], axis=1)"
   ]
  },
  {
   "cell_type": "code",
   "execution_count": null,
   "metadata": {
    "colab": {
     "base_uri": "https://localhost:8080/"
    },
    "id": "M9COoOB4dXOC",
    "outputId": "1a633852-b82e-4250-e1c9-06ab9f9018d7"
   },
   "outputs": [
    {
     "data": {
      "text/plain": [
       "family_label\n",
       "0         27\n",
       "1         16\n",
       "2        104\n",
       "3     469896\n",
       "4       1000\n",
       "7       1000\n",
       "8        492\n",
       "9         11\n",
       "10      1000\n",
       "11       736\n",
       "12      1000\n",
       "13    500540\n",
       "14       492\n",
       "15       247\n",
       "16     29999\n",
       "17       298\n",
       "18       299\n",
       "19     12000\n",
       "20       100\n",
       "21       124\n",
       "22    613032\n",
       "23      1158\n",
       "25       908\n",
       "27      8560\n",
       "28     10047\n",
       "29      2708\n",
       "30      8190\n",
       "31      5274\n",
       "32       333\n",
       "33        40\n",
       "34       168\n",
       "35       100\n",
       "36     44675\n",
       "37       800\n",
       "38       199\n",
       "39      2000\n",
       "40     19532\n",
       "41     11160\n",
       "42    179995\n",
       "43      2545\n",
       "44      6015\n",
       "45     28121\n",
       "46      2298\n",
       "47      4256\n",
       "48       193\n",
       "49     93707\n",
       "50        32\n",
       "51        20\n",
       "52       510\n",
       "53       842\n",
       "54       100\n",
       "55      9733\n",
       "Name: family_label, dtype: int64"
      ]
     },
     "execution_count": 12,
     "metadata": {},
     "output_type": "execute_result"
    }
   ],
   "source": [
    "grouped=y.groupby(y)\n",
    "grouped.count()"
   ]
  },
  {
   "cell_type": "code",
   "execution_count": null,
   "metadata": {
    "colab": {
     "base_uri": "https://localhost:8080/",
     "height": 1000
    },
    "id": "dSKgocPU5hHF",
    "outputId": "5b4731f1-7acf-4bce-b183-f569acc7f1a1"
   },
   "outputs": [
    {
     "name": "stdout",
     "output_type": "stream",
     "text": [
      "Class=nymaim, n=333 (0.016%)\n",
      "Class=gameover, n=12000 (0.578%)\n",
      "Class=locky, n=1158 (0.056%)\n",
      "Class=symmi, n=4256 (0.205%)\n",
      "Class=conficker, n=492 (0.024%)\n",
      "Class=pykspa_v2_real, n=199 (0.010%)\n",
      "Class=pykspa_v2_fake, n=800 (0.039%)\n",
      "Class=bamital, n=104 (0.005%)\n",
      "Class=qadars, n=2000 (0.096%)\n",
      "Class=necurs, n=8190 (0.394%)\n",
      "Class=cryptolocker, n=1000 (0.048%)\n",
      "Class=proslikefan, n=100 (0.005%)\n",
      "Class=ranbyus, n=11160 (0.537%)\n",
      "Class=murofet, n=8560 (0.412%)\n",
      "Class=suppobox, n=2298 (0.111%)\n",
      "Class=vidro, n=100 (0.005%)\n",
      "Class=tofsee, n=20 (0.001%)\n",
      "Class=chinad, n=1000 (0.048%)\n",
      "Class=virut, n=9733 (0.469%)\n",
      "Class=emotet, n=500540 (24.103%)\n",
      "Class=matsnu, n=908 (0.044%)\n",
      "Class=padcrypt, n=168 (0.008%)\n",
      "Class=tinynuke, n=32 (0.002%)\n",
      "Class=dyre, n=1000 (0.048%)\n",
      "Class=mydoom, n=10047 (0.484%)\n",
      "Class=bigviktor, n=1000 (0.048%)\n",
      "Class=antavmu, n=16 (0.001%)\n",
      "Class=flubot, n=29999 (1.445%)\n",
      "Class=copperstealer, n=11 (0.001%)\n",
      "Class=abcbot, n=27 (0.001%)\n",
      "Class=tordwm, n=510 (0.025%)\n",
      "Class=fobber_v1, n=298 (0.014%)\n",
      "Class=fobber_v2, n=299 (0.014%)\n",
      "Class=banjori, n=469896 (22.628%)\n",
      "Class=tinba, n=93707 (4.512%)\n",
      "Class=ramnit, n=19532 (0.941%)\n",
      "Class=simda, n=28121 (1.354%)\n",
      "Class=dircrypt, n=736 (0.035%)\n",
      "Class=tempedreve, n=193 (0.009%)\n",
      "Class=vawtrak, n=842 (0.041%)\n",
      "Class=rovnix, n=179995 (8.668%)\n",
      "Class=gspy, n=100 (0.005%)\n",
      "Class=pykspa_v1, n=44675 (2.151%)\n",
      "Class=shifu, n=2545 (0.123%)\n",
      "Class=omexo, n=40 (0.002%)\n",
      "Class=feodo, n=247 (0.012%)\n",
      "Class=shiotob, n=6015 (0.290%)\n",
      "Class=enviserv, n=492 (0.024%)\n",
      "Class=ngioweb, n=5274 (0.254%)\n",
      "Class=necro, n=2708 (0.130%)\n",
      "Class=kfos, n=124 (0.006%)\n",
      "Class=legit, n=613032 (29.520%)\n"
     ]
    },
    {
     "data": {
      "image/png": "[encoded data removed]",
      "text/plain": [
       "<Figure size 432x288 with 1 Axes>"
      ]
     },
     "metadata": {
      "needs_background": "light"
     },
     "output_type": "display_data"
    }
   ],
   "source": [
    "from matplotlib import pyplot\n",
    "from collections import Counter\n",
    "counter = Counter(y)\n",
    "for k,v in counter.items():\n",
    "\tper = v / len(y) * 100\n",
    "\tprint('Class=%s, n=%s (%.3f%%)' % (k, v, per))\n",
    "# plot the distribution\n",
    "pyplot.bar(counter.keys(), counter.values())\n",
    "pyplot.show()"
   ]
  },
  {
   "cell_type": "code",
   "execution_count": null,
   "metadata": {
    "colab": {
     "base_uri": "https://localhost:8080/"
    },
    "id": "ePogM6szcHFb",
    "outputId": "bec7b9a1-2caa-455b-b033-719ec184c2c9"
   },
   "outputs": [
    {
     "name": "stdout",
     "output_type": "stream",
     "text": [
      "Class=32, n=333 (0.016%)\n",
      "Class=19, n=12000 (0.578%)\n",
      "Class=23, n=1158 (0.056%)\n",
      "Class=47, n=4256 (0.205%)\n",
      "Class=8, n=492 (0.024%)\n",
      "Class=38, n=199 (0.010%)\n",
      "Class=37, n=800 (0.039%)\n",
      "Class=2, n=104 (0.005%)\n",
      "Class=39, n=2000 (0.096%)\n",
      "Class=30, n=8190 (0.394%)\n",
      "Class=10, n=1000 (0.048%)\n",
      "Class=35, n=100 (0.005%)\n",
      "Class=41, n=11160 (0.537%)\n",
      "Class=27, n=8560 (0.412%)\n",
      "Class=46, n=2298 (0.111%)\n",
      "Class=54, n=100 (0.005%)\n",
      "Class=51, n=20 (0.001%)\n",
      "Class=7, n=1000 (0.048%)\n",
      "Class=55, n=9733 (0.469%)\n",
      "Class=13, n=500540 (24.103%)\n",
      "Class=25, n=908 (0.044%)\n",
      "Class=34, n=168 (0.008%)\n",
      "Class=50, n=32 (0.002%)\n",
      "Class=12, n=1000 (0.048%)\n",
      "Class=28, n=10047 (0.484%)\n",
      "Class=4, n=1000 (0.048%)\n",
      "Class=1, n=16 (0.001%)\n",
      "Class=16, n=29999 (1.445%)\n",
      "Class=9, n=11 (0.001%)\n",
      "Class=0, n=27 (0.001%)\n",
      "Class=52, n=510 (0.025%)\n",
      "Class=17, n=298 (0.014%)\n",
      "Class=18, n=299 (0.014%)\n",
      "Class=3, n=469896 (22.628%)\n",
      "Class=49, n=93707 (4.512%)\n",
      "Class=40, n=19532 (0.941%)\n",
      "Class=45, n=28121 (1.354%)\n",
      "Class=11, n=736 (0.035%)\n",
      "Class=48, n=193 (0.009%)\n",
      "Class=53, n=842 (0.041%)\n",
      "Class=42, n=179995 (8.668%)\n",
      "Class=20, n=100 (0.005%)\n",
      "Class=36, n=44675 (2.151%)\n",
      "Class=43, n=2545 (0.123%)\n",
      "Class=33, n=40 (0.002%)\n",
      "Class=15, n=247 (0.012%)\n",
      "Class=44, n=6015 (0.290%)\n",
      "Class=14, n=492 (0.024%)\n",
      "Class=31, n=5274 (0.254%)\n",
      "Class=29, n=2708 (0.130%)\n",
      "Class=21, n=124 (0.006%)\n",
      "Class=22, n=613032 (29.520%)\n"
     ]
    },
    {
     "data": {
      "image/png": "[encoded data removed]",
      "text/plain": [
       "<Figure size 432x288 with 1 Axes>"
      ]
     },
     "metadata": {
      "needs_background": "light"
     },
     "output_type": "display_data"
    }
   ],
   "source": [
    "from matplotlib import pyplot\n",
    "from collections import Counter\n",
    "counter = Counter(y)\n",
    "for k,v in counter.items():\n",
    "\tper = v / len(y) * 100\n",
    "\tprint('Class=%d, n=%d (%.3f%%)' % (k, v, per))\n",
    "# plot the distribution\n",
    "pyplot.bar(counter.keys(), counter.values())\n",
    "pyplot.show()"
   ]
  },
  {
   "cell_type": "code",
   "execution_count": null,
   "metadata": {
    "id": "Uw04szrQsHRr"
   },
   "outputs": [],
   "source": [
    "X_train, X_test, y_train, y_test = train_test_split(X, y, test_size=0.2, train_size=0.8,  random_state=42)"
   ]
  },
  {
   "cell_type": "code",
   "execution_count": null,
   "metadata": {
    "colab": {
     "base_uri": "https://localhost:8080/",
     "height": 1000
    },
    "id": "-RyGPWQH8AjB",
    "outputId": "f7178631-f182-4e99-823c-dfe360711b1f"
   },
   "outputs": [
    {
     "name": "stdout",
     "output_type": "stream",
     "text": [
      "Class=emotet, n=400469 (24.106%)\n",
      "Class=banjori, n=375759 (22.618%)\n",
      "Class=legit, n=490589 (29.530%)\n",
      "Class=pykspa_v1, n=35841 (2.157%)\n",
      "Class=symmi, n=3430 (0.206%)\n",
      "Class=flubot, n=24017 (1.446%)\n",
      "Class=tinba, n=74975 (4.513%)\n",
      "Class=murofet, n=6861 (0.413%)\n",
      "Class=rovnix, n=143993 (8.667%)\n",
      "Class=gameover, n=9586 (0.577%)\n",
      "Class=shiotob, n=4793 (0.289%)\n",
      "Class=mydoom, n=7980 (0.480%)\n",
      "Class=virut, n=7803 (0.470%)\n",
      "Class=ngioweb, n=4178 (0.251%)\n",
      "Class=ramnit, n=15574 (0.937%)\n",
      "Class=ranbyus, n=8963 (0.540%)\n",
      "Class=simda, n=22430 (1.350%)\n",
      "Class=vawtrak, n=677 (0.041%)\n",
      "Class=suppobox, n=1825 (0.110%)\n",
      "Class=necurs, n=6547 (0.394%)\n",
      "Class=necro, n=2168 (0.130%)\n",
      "Class=pykspa_v2_fake, n=650 (0.039%)\n",
      "Class=feodo, n=203 (0.012%)\n",
      "Class=shifu, n=2061 (0.124%)\n",
      "Class=conficker, n=403 (0.024%)\n",
      "Class=fobber_v1, n=247 (0.015%)\n",
      "Class=fobber_v2, n=236 (0.014%)\n",
      "Class=proslikefan, n=83 (0.005%)\n",
      "Class=matsnu, n=718 (0.043%)\n",
      "Class=cryptolocker, n=786 (0.047%)\n",
      "Class=bigviktor, n=790 (0.048%)\n",
      "Class=enviserv, n=398 (0.024%)\n",
      "Class=qadars, n=1625 (0.098%)\n",
      "Class=dyre, n=782 (0.047%)\n",
      "Class=dircrypt, n=585 (0.035%)\n",
      "Class=nymaim, n=264 (0.016%)\n",
      "Class=chinad, n=803 (0.048%)\n",
      "Class=tordwm, n=401 (0.024%)\n",
      "Class=padcrypt, n=136 (0.008%)\n",
      "Class=tempedreve, n=154 (0.009%)\n",
      "Class=omexo, n=29 (0.002%)\n",
      "Class=locky, n=917 (0.055%)\n",
      "Class=pykspa_v2_real, n=164 (0.010%)\n",
      "Class=tinynuke, n=26 (0.002%)\n",
      "Class=bamital, n=76 (0.005%)\n",
      "Class=kfos, n=95 (0.006%)\n",
      "Class=copperstealer, n=10 (0.001%)\n",
      "Class=gspy, n=78 (0.005%)\n",
      "Class=vidro, n=85 (0.005%)\n",
      "Class=antavmu, n=11 (0.001%)\n",
      "Class=tofsee, n=14 (0.001%)\n",
      "Class=abcbot, n=17 (0.001%)\n"
     ]
    },
    {
     "data": {
      "image/png": "[encoded data removed]",
      "text/plain": [
       "<Figure size 432x288 with 1 Axes>"
      ]
     },
     "metadata": {
      "needs_background": "light"
     },
     "output_type": "display_data"
    }
   ],
   "source": [
    "from matplotlib import pyplot\n",
    "from collections import Counter\n",
    "counter = Counter(y_train)\n",
    "for k,v in counter.items():\n",
    "\tper = v / len(y_train) * 100\n",
    "\tprint('Class=%s, n=%s (%.3f%%)' % (k, v, per))\n",
    "# plot the distribution\n",
    "pyplot.bar(counter.keys(), counter.values())\n",
    "pyplot.show()"
   ]
  },
  {
   "cell_type": "code",
   "execution_count": null,
   "metadata": {
    "colab": {
     "base_uri": "https://localhost:8080/"
    },
    "id": "_cyhEig6k-B7",
    "outputId": "f88f0f34-77a8-4131-e155-3dd9d93091a4"
   },
   "outputs": [
    {
     "name": "stdout",
     "output_type": "stream",
     "text": [
      "Class=13, n=400469 (24.106%)\n",
      "Class=3, n=375759 (22.618%)\n",
      "Class=22, n=490589 (29.530%)\n",
      "Class=36, n=35841 (2.157%)\n",
      "Class=47, n=3430 (0.206%)\n",
      "Class=16, n=24017 (1.446%)\n",
      "Class=49, n=74975 (4.513%)\n",
      "Class=27, n=6861 (0.413%)\n",
      "Class=42, n=143993 (8.667%)\n",
      "Class=19, n=9586 (0.577%)\n",
      "Class=44, n=4793 (0.289%)\n",
      "Class=28, n=7980 (0.480%)\n",
      "Class=55, n=7803 (0.470%)\n",
      "Class=31, n=4178 (0.251%)\n",
      "Class=40, n=15574 (0.937%)\n",
      "Class=41, n=8963 (0.540%)\n",
      "Class=45, n=22430 (1.350%)\n",
      "Class=53, n=677 (0.041%)\n",
      "Class=46, n=1825 (0.110%)\n",
      "Class=30, n=6547 (0.394%)\n",
      "Class=29, n=2168 (0.130%)\n",
      "Class=37, n=650 (0.039%)\n",
      "Class=15, n=203 (0.012%)\n",
      "Class=43, n=2061 (0.124%)\n",
      "Class=8, n=403 (0.024%)\n",
      "Class=17, n=247 (0.015%)\n",
      "Class=18, n=236 (0.014%)\n",
      "Class=35, n=83 (0.005%)\n",
      "Class=25, n=718 (0.043%)\n",
      "Class=10, n=786 (0.047%)\n",
      "Class=4, n=790 (0.048%)\n",
      "Class=14, n=398 (0.024%)\n",
      "Class=39, n=1625 (0.098%)\n",
      "Class=12, n=782 (0.047%)\n",
      "Class=11, n=585 (0.035%)\n",
      "Class=32, n=264 (0.016%)\n",
      "Class=7, n=803 (0.048%)\n",
      "Class=52, n=401 (0.024%)\n",
      "Class=34, n=136 (0.008%)\n",
      "Class=48, n=154 (0.009%)\n",
      "Class=33, n=29 (0.002%)\n",
      "Class=23, n=917 (0.055%)\n",
      "Class=38, n=164 (0.010%)\n",
      "Class=50, n=26 (0.002%)\n",
      "Class=2, n=76 (0.005%)\n",
      "Class=21, n=95 (0.006%)\n",
      "Class=9, n=10 (0.001%)\n",
      "Class=20, n=78 (0.005%)\n",
      "Class=54, n=85 (0.005%)\n",
      "Class=1, n=11 (0.001%)\n",
      "Class=51, n=14 (0.001%)\n",
      "Class=0, n=17 (0.001%)\n"
     ]
    },
    {
     "data": {
      "image/png": "[encoded data removed]",
      "text/plain": [
       "<Figure size 432x288 with 1 Axes>"
      ]
     },
     "metadata": {
      "needs_background": "light"
     },
     "output_type": "display_data"
    }
   ],
   "source": [
    "from matplotlib import pyplot\n",
    "from collections import Counter\n",
    "counter = Counter(y_train)\n",
    "for k,v in counter.items():\n",
    "\tper = v / len(y_train) * 100\n",
    "\tprint('Class=%d, n=%d (%.3f%%)' % (k, v, per))\n",
    "# plot the distribution\n",
    "pyplot.bar(counter.keys(), counter.values())\n",
    "pyplot.show()"
   ]
  },
  {
   "cell_type": "code",
   "execution_count": null,
   "metadata": {
    "colab": {
     "base_uri": "https://localhost:8080/"
    },
    "id": "99iXworaltQT",
    "outputId": "5c33718c-2515-412d-9e3e-f3acb24ab25c"
   },
   "outputs": [
    {
     "data": {
      "text/plain": [
       "family_label\n",
       "0         17\n",
       "1         11\n",
       "2         76\n",
       "3     375759\n",
       "4        790\n",
       "7        803\n",
       "8        403\n",
       "9         10\n",
       "10       786\n",
       "11       585\n",
       "12       782\n",
       "13    400469\n",
       "14       398\n",
       "15       203\n",
       "16     24017\n",
       "17       247\n",
       "18       236\n",
       "19      9586\n",
       "20        78\n",
       "21        95\n",
       "22    490589\n",
       "23       917\n",
       "25       718\n",
       "27      6861\n",
       "28      7980\n",
       "29      2168\n",
       "30      6547\n",
       "31      4178\n",
       "32       264\n",
       "33        29\n",
       "34       136\n",
       "35        83\n",
       "36     35841\n",
       "37       650\n",
       "38       164\n",
       "39      1625\n",
       "40     15574\n",
       "41      8963\n",
       "42    143993\n",
       "43      2061\n",
       "44      4793\n",
       "45     22430\n",
       "46      1825\n",
       "47      3430\n",
       "48       154\n",
       "49     74975\n",
       "50        26\n",
       "51        14\n",
       "52       401\n",
       "53       677\n",
       "54        85\n",
       "55      7803\n",
       "Name: family_label, dtype: int64"
      ]
     },
     "execution_count": 16,
     "metadata": {},
     "output_type": "execute_result"
    }
   ],
   "source": [
    "grouped=y_train.groupby(y_train)\n",
    "grouped.count()"
   ]
  },
  {
   "cell_type": "code",
   "execution_count": null,
   "metadata": {
    "id": "v5pphpq2G75l"
   },
   "outputs": [],
   "source": [
    "from imblearn.over_sampling import RandomOverSampler\n",
    "strategy = {0:16613,1:16613,2:16613, 4:16613, 7:16613, 8:16613, 9:16613, 10:16613, 11:16613, 12:16613, 14:16613, 15:16613, 18:16613, 17:16613,19:16613, 20:16613,21:16613,23:16613,25:16613,27:16613,28:16613,29:16613,30:16613,31:16613,32:16613,33:16613,34:16613,35:16613,37:16613,38:16613,39:16613,41:16613,43:16613,44:16613,46:16613,47:16613, 48:16613,50:16613,51:16613, 52:16613, 53:16613, 54:16613,55:16613}\n",
    "#for i in minmum_classes:\n",
    "ovrsmt = RandomOverSampler(sampling_strategy=strategy)"
   ]
  },
  {
   "cell_type": "code",
   "execution_count": null,
   "metadata": {
    "id": "SCJxx09rJaIs"
   },
   "outputs": [],
   "source": [
    "from imblearn.under_sampling import RandomUnderSampler\n",
    "udrsmt = RandomUnderSampler(sampling_strategy={42:143527,22:203528,13:193527,3:193529})"
   ]
  },
  {
   "cell_type": "code",
   "execution_count": null,
   "metadata": {
    "id": "NyWrOJPiJ5uQ"
   },
   "outputs": [],
   "source": [
    "from imblearn.pipeline import Pipeline\n",
    "steps = [('o', ovrsmt), ('u', udrsmt)]\n",
    "pipeline = Pipeline(steps=steps)"
   ]
  },
  {
   "cell_type": "code",
   "execution_count": null,
   "metadata": {
    "id": "XykMUS8uJ8VP"
   },
   "outputs": [],
   "source": [
    "X_train, y_train = pipeline.fit_resample(X_train, y_train.family_label)"
   ]
  },
  {
   "cell_type": "code",
   "execution_count": null,
   "metadata": {
    "colab": {
     "base_uri": "https://localhost:8080/"
    },
    "id": "SQJk8KKSmI6T",
    "outputId": "3997f54c-2f80-41f8-9306-bdb160ca9147"
   },
   "outputs": [
    {
     "data": {
      "text/plain": [
       "family_label\n",
       "0      16613\n",
       "1      16613\n",
       "2      16613\n",
       "3     193529\n",
       "4      16613\n",
       "7      16613\n",
       "8      16613\n",
       "9      16613\n",
       "10     16613\n",
       "11     16613\n",
       "12     16613\n",
       "13    193527\n",
       "14     16613\n",
       "15     16613\n",
       "16     24017\n",
       "17     16613\n",
       "18     16613\n",
       "19     16613\n",
       "20     16613\n",
       "21     16613\n",
       "22    203528\n",
       "23     16613\n",
       "25     16613\n",
       "27     16613\n",
       "28     16613\n",
       "29     16613\n",
       "30     16613\n",
       "31     16613\n",
       "32     16613\n",
       "33     16613\n",
       "34     16613\n",
       "35     16613\n",
       "36     35841\n",
       "37     16613\n",
       "38     16613\n",
       "39     16613\n",
       "40     15574\n",
       "41     16613\n",
       "42    143527\n",
       "43     16613\n",
       "44     16613\n",
       "45     22430\n",
       "46     16613\n",
       "47     16613\n",
       "48     16613\n",
       "49     74975\n",
       "50     16613\n",
       "51     16613\n",
       "52     16613\n",
       "53     16613\n",
       "54     16613\n",
       "55     16613\n",
       "Name: family_label, dtype: int64"
      ]
     },
     "execution_count": 30,
     "metadata": {},
     "output_type": "execute_result"
    }
   ],
   "source": [
    "grouped=y_train.groupby(y_train)\n",
    "grouped.count()"
   ]
  },
  {
   "cell_type": "code",
   "execution_count": null,
   "metadata": {
    "colab": {
     "base_uri": "https://localhost:8080/"
    },
    "id": "cJx7R8gTcKXT",
    "outputId": "7fdb5389-77eb-4297-ca90-aaf6929ba768"
   },
   "outputs": [
    {
     "name": "stdout",
     "output_type": "stream",
     "text": [
      "Class=0, n=16613 (1.025%)\n",
      "Class=1, n=16613 (1.025%)\n",
      "Class=2, n=16613 (1.025%)\n",
      "Class=3, n=193529 (11.937%)\n",
      "Class=4, n=16613 (1.025%)\n",
      "Class=7, n=16613 (1.025%)\n",
      "Class=8, n=16613 (1.025%)\n",
      "Class=9, n=16613 (1.025%)\n",
      "Class=10, n=16613 (1.025%)\n",
      "Class=11, n=16613 (1.025%)\n",
      "Class=12, n=16613 (1.025%)\n",
      "Class=13, n=193527 (11.936%)\n",
      "Class=14, n=16613 (1.025%)\n",
      "Class=15, n=16613 (1.025%)\n",
      "Class=16, n=24017 (1.481%)\n",
      "Class=17, n=16613 (1.025%)\n",
      "Class=18, n=16613 (1.025%)\n",
      "Class=19, n=16613 (1.025%)\n",
      "Class=20, n=16613 (1.025%)\n",
      "Class=21, n=16613 (1.025%)\n",
      "Class=22, n=203528 (12.553%)\n",
      "Class=23, n=16613 (1.025%)\n",
      "Class=25, n=16613 (1.025%)\n",
      "Class=27, n=16613 (1.025%)\n",
      "Class=28, n=16613 (1.025%)\n",
      "Class=29, n=16613 (1.025%)\n",
      "Class=30, n=16613 (1.025%)\n",
      "Class=31, n=16613 (1.025%)\n",
      "Class=32, n=16613 (1.025%)\n",
      "Class=33, n=16613 (1.025%)\n",
      "Class=34, n=16613 (1.025%)\n",
      "Class=35, n=16613 (1.025%)\n",
      "Class=36, n=35841 (2.211%)\n",
      "Class=37, n=16613 (1.025%)\n",
      "Class=38, n=16613 (1.025%)\n",
      "Class=39, n=16613 (1.025%)\n",
      "Class=40, n=15574 (0.961%)\n",
      "Class=41, n=16613 (1.025%)\n",
      "Class=42, n=143527 (8.853%)\n",
      "Class=43, n=16613 (1.025%)\n",
      "Class=44, n=16613 (1.025%)\n",
      "Class=45, n=22430 (1.383%)\n",
      "Class=46, n=16613 (1.025%)\n",
      "Class=47, n=16613 (1.025%)\n",
      "Class=48, n=16613 (1.025%)\n",
      "Class=49, n=74975 (4.624%)\n",
      "Class=50, n=16613 (1.025%)\n",
      "Class=51, n=16613 (1.025%)\n",
      "Class=52, n=16613 (1.025%)\n",
      "Class=53, n=16613 (1.025%)\n",
      "Class=54, n=16613 (1.025%)\n",
      "Class=55, n=16613 (1.025%)\n"
     ]
    },
    {
     "data": {
      "image/png": "[encoded data removed]",
      "text/plain": [
       "<Figure size 432x288 with 1 Axes>"
      ]
     },
     "metadata": {
      "needs_background": "light"
     },
     "output_type": "display_data"
    }
   ],
   "source": [
    "from matplotlib import pyplot\n",
    "from collections import Counter\n",
    "counter = Counter(y_train)\n",
    "for k,v in counter.items():\n",
    "\tper = v / len(y_train) * 100\n",
    "\tprint('Class=%d, n=%d (%.3f%%)' % (k, v, per))\n",
    "# plot the distribution\n",
    "pyplot.bar(counter.keys(), counter.values())\n",
    "pyplot.show()"
   ]
  },
  {
   "cell_type": "markdown",
   "metadata": {
    "id": "to5TZQZeQhLJ"
   },
   "source": [
    "## AdaBoost Classification\n"
   ]
  },
  {
   "cell_type": "code",
   "execution_count": null,
   "metadata": {
    "id": "IjN_XFaZPZgn"
   },
   "outputs": [],
   "source": [
    "from sklearn.tree import DecisionTreeClassifier\n",
    "from sklearn.ensemble import AdaBoostClassifier\n",
    "ABmodel = AdaBoostClassifier(DecisionTreeClassifier())\n"
   ]
  },
  {
   "cell_type": "code",
   "execution_count": null,
   "metadata": {
    "colab": {
     "base_uri": "https://localhost:8080/"
    },
    "id": "miDYLXCxcZ8z",
    "outputId": "056f8eb0-405d-44b5-c335-909e036eadf2"
   },
   "outputs": [
    {
     "data": {
      "text/plain": [
       "AdaBoostClassifier(base_estimator=DecisionTreeClassifier())"
      ]
     },
     "execution_count": 22,
     "metadata": {},
     "output_type": "execute_result"
    }
   ],
   "source": [
    "ABmodel.fit(X_train, y_train)"
   ]
  },
  {
   "cell_type": "code",
   "execution_count": null,
   "metadata": {
    "colab": {
     "base_uri": "https://localhost:8080/"
    },
    "id": "wgGsAV-bcZ8z",
    "outputId": "e8f4d2b8-140e-4523-85d8-59004e7a81d9"
   },
   "outputs": [
    {
     "name": "stdout",
     "output_type": "stream",
     "text": [
      "              precision    recall  f1-score   support\n",
      "\n",
      "           0       1.00      0.60      0.75        10\n",
      "           1       0.71      1.00      0.83         5\n",
      "           2       0.82      1.00      0.90        28\n",
      "           3       0.98      0.99      0.98     94137\n",
      "           4       0.20      0.02      0.03       210\n",
      "           7       0.94      0.97      0.96       197\n",
      "           8       0.05      0.02      0.03        89\n",
      "           9       0.00      0.00      0.00         1\n",
      "          10       0.31      0.12      0.17       214\n",
      "          11       0.06      0.02      0.03       151\n",
      "          12       1.00      1.00      1.00       218\n",
      "          13       1.00      1.00      1.00    100071\n",
      "          14       0.92      0.95      0.93        94\n",
      "          15       0.37      0.16      0.22        44\n",
      "          16       0.90      0.95      0.92      5982\n",
      "          17       0.05      0.02      0.03        51\n",
      "          18       0.11      0.05      0.07        63\n",
      "          19       1.00      0.99      1.00      2414\n",
      "          20       0.88      0.64      0.74        22\n",
      "          21       0.87      0.45      0.59        29\n",
      "          22       0.97      0.97      0.97    122443\n",
      "          23       0.05      0.01      0.02       241\n",
      "          25       0.12      0.04      0.06       190\n",
      "          27       0.65      0.67      0.66      1699\n",
      "          28       0.83      0.90      0.86      2067\n",
      "          29       0.56      0.51      0.53       540\n",
      "          30       0.58      0.38      0.46      1643\n",
      "          31       0.83      0.75      0.79      1096\n",
      "          32       0.03      0.01      0.02        69\n",
      "          33       0.57      0.36      0.44        11\n",
      "          34       0.56      0.28      0.38        32\n",
      "          35       0.00      0.00      0.00        17\n",
      "          36       0.76      0.81      0.78      8834\n",
      "          37       0.04      0.01      0.02       150\n",
      "          38       0.00      0.00      0.00        35\n",
      "          39       0.73      0.78      0.75       375\n",
      "          40       0.54      0.47      0.50      3958\n",
      "          41       0.77      0.86      0.81      2197\n",
      "          42       1.00      0.99      1.00     36002\n",
      "          43       0.66      0.57      0.61       484\n",
      "          44       0.89      0.83      0.86      1222\n",
      "          45       0.77      0.85      0.81      5691\n",
      "          46       0.34      0.15      0.21       473\n",
      "          47       0.97      0.99      0.98       826\n",
      "          48       0.08      0.03      0.04        39\n",
      "          49       0.96      0.99      0.97     18732\n",
      "          50       0.60      0.50      0.55         6\n",
      "          51       1.00      1.00      1.00         6\n",
      "          52       0.94      0.92      0.93       109\n",
      "          53       0.02      0.01      0.02       165\n",
      "          54       0.29      0.13      0.18        15\n",
      "          55       0.57      0.70      0.63      1930\n",
      "\n",
      "    accuracy                           0.96    415327\n",
      "   macro avg       0.57      0.53      0.54    415327\n",
      "weighted avg       0.96      0.96      0.96    415327\n",
      "\n"
     ]
    }
   ],
   "source": [
    " from sklearn.metrics import plot_confusion_matrix,accuracy_score,classification_report\n",
    " y_true, y_pred = y_test, ABmodel.predict(X_test)\n",
    " print(classification_report(y_test,y_pred))"
   ]
  },
  {
   "cell_type": "code",
   "execution_count": null,
   "metadata": {
    "colab": {
     "base_uri": "https://localhost:8080/"
    },
    "id": "xqbI3Q6wV1Pq",
    "outputId": "f2ad02c7-6ad6-4fbc-d5bc-ddd447d74dc9"
   },
   "outputs": [
    {
     "name": "stdout",
     "output_type": "stream",
     "text": [
      "accuracy on the train set:  0.9994109690515122\n",
      "accuracy on the test set:  0.9596149540001011\n"
     ]
    }
   ],
   "source": [
    "print('accuracy on the train set: ', accuracy_score(ABmodel.predict(X_train), y_train))\n",
    "print('accuracy on the test set: ', accuracy_score(y_test, y_pred))"
   ]
  },
  {
   "cell_type": "code",
   "execution_count": null,
   "metadata": {
    "id": "PsRBPj-PVy2P"
   },
   "outputs": [],
   "source": [
    "from sklearn import metrics\n",
    "import matplotlib.pyplot as plt\n",
    "\n",
    "etpprd = ABmodel.predict_proba(X_test)"
   ]
  },
  {
   "cell_type": "code",
   "execution_count": null,
   "metadata": {
    "colab": {
     "base_uri": "https://localhost:8080/"
    },
    "id": "jOAtMf2iVy2P",
    "outputId": "c3966bc3-5823-42e1-e053-2b3c547561ad"
   },
   "outputs": [
    {
     "name": "stdout",
     "output_type": "stream",
     "text": [
      "0.9726640750414914\n"
     ]
    }
   ],
   "source": [
    "auc = metrics.roc_auc_score(y_test, etpprd, multi_class='ovo', average='weighted')\n",
    "print(auc)"
   ]
  },
  {
   "cell_type": "code",
   "execution_count": null,
   "metadata": {
    "id": "i8WryBWJPPhg"
   },
   "outputs": [],
   "source": [
    "import pickle\n",
    "# save the model to disk\n",
    "filename = '/content/drive/My Drive/Colab Notebooks/MCL_ABmodel_m.sav'\n",
    "pickle.dump(ABmodel, open(filename, 'wb'))"
   ]
  },
  {
   "cell_type": "markdown",
   "metadata": {
    "id": "FrzbRdzml9OU"
   },
   "source": [
    "#### tuning AB"
   ]
  },
  {
   "cell_type": "code",
   "execution_count": null,
   "metadata": {
    "id": "aQ5LFRWHmApE"
   },
   "outputs": [],
   "source": [
    "from sklearn.experimental import enable_halving_search_cv\n",
    "from sklearn.model_selection import HalvingGridSearchCV\n",
    "from sklearn.tree import DecisionTreeClassifier\n",
    "from sklearn.ensemble import AdaBoostClassifier\n",
    "clf = AdaBoostClassifier(DecisionTreeClassifier())\n",
    "abparam = {'n_estimators': [50,100],\n",
    "           'learning_rate': [0.001,0.01, 0.1, 1]\n",
    "           }"
   ]
  },
  {
   "cell_type": "code",
   "execution_count": null,
   "metadata": {
    "id": "fqUQ74ArrURw"
   },
   "outputs": [],
   "source": [
    "abclf = HalvingGridSearchCV(clf, abparam, scoring='accuracy').fit(X_train, y_train)"
   ]
  },
  {
   "cell_type": "code",
   "execution_count": null,
   "metadata": {
    "id": "g67oMEbJGOV9"
   },
   "outputs": [],
   "source": [
    "\n",
    "# summarize results\n",
    "print(\"Best: %f using %s\" % (abclf.best_score_, abclf.best_params_))\n",
    "means = abclf.cv_results_['mean_test_score']\n",
    "stds = abclf.cv_results_['std_test_score']\n",
    "params = abclf.cv_results_['params']\n",
    "for mean, stdev, param in zip(means, stds, params):\n",
    "  print(\"%f (%f) with: %r\" % (mean, stdev, param))"
   ]
  },
  {
   "cell_type": "code",
   "execution_count": null,
   "metadata": {
    "id": "qXoXeH05Dv5y"
   },
   "outputs": [],
   "source": [
    " from sklearn.metrics import plot_confusion_matrix,accuracy_score,classification_report\n",
    " y_true, y_pred = y_test, abclf.predict(X_test)\n",
    " print(classification_report(y_test,y_pred))"
   ]
  },
  {
   "cell_type": "code",
   "execution_count": null,
   "metadata": {
    "id": "YXrbO-nSDv5z"
   },
   "outputs": [],
   "source": [
    "print('accuracy on the train set: ', accuracy_score(abclf.predict(X_train), y_train))\n",
    "print('accuracy on the test set: ', accuracy_score(y_test, y_pred))"
   ]
  },
  {
   "cell_type": "code",
   "execution_count": null,
   "metadata": {
    "id": "BHsVTpAhDv50"
   },
   "outputs": [],
   "source": [
    "from sklearn import metrics\n",
    "import matplotlib.pyplot as plt\n",
    "\n",
    "pprd = abclf.predict_proba(X_test)"
   ]
  },
  {
   "cell_type": "code",
   "execution_count": null,
   "metadata": {
    "id": "PFotE7fzDv50"
   },
   "outputs": [],
   "source": [
    "auc = metrics.roc_auc_score(y_test, pprd, multi_class='ovo', average='weighted')\n",
    "print(auc)"
   ]
  },
  {
   "cell_type": "code",
   "execution_count": null,
   "metadata": {
    "id": "d8dwjp89Dv51"
   },
   "outputs": [],
   "source": [
    "import pickle\n",
    "# save the model to disk\n",
    "filename = '/content/drive/My Drive/Colab Notebooks/MCL_ABmodel_m_TN.sav'\n",
    "pickle.dump(abclf, open(filename, 'wb'))"
   ]
  },
  {
   "cell_type": "markdown",
   "metadata": {
    "id": "Oer5tTif2Qjb"
   },
   "source": [
    "## XGBoost Classifier"
   ]
  },
  {
   "cell_type": "code",
   "execution_count": null,
   "metadata": {
    "id": "Vyr9n2fu2aqp"
   },
   "outputs": [],
   "source": [
    "from xgboost import XGBClassifier\n",
    "xgb_classifier = XGBClassifier()\n",
    "XGBmodel=xgb_classifier.fit(X_train, y_train)\n"
   ]
  },
  {
   "cell_type": "code",
   "execution_count": null,
   "metadata": {
    "colab": {
     "base_uri": "https://localhost:8080/"
    },
    "id": "1ySLFEkR2spD",
    "outputId": "4bb6a944-a390-471f-dbf0-38b0113bbf14"
   },
   "outputs": [
    {
     "name": "stderr",
     "output_type": "stream",
     "text": [
      "/usr/local/lib/python3.7/dist-packages/sklearn/metrics/_classification.py:1318: UndefinedMetricWarning: Precision and F-score are ill-defined and being set to 0.0 in labels with no predicted samples. Use `zero_division` parameter to control this behavior.\n",
      "  _warn_prf(average, modifier, msg_start, len(result))\n",
      "/usr/local/lib/python3.7/dist-packages/sklearn/metrics/_classification.py:1318: UndefinedMetricWarning: Precision and F-score are ill-defined and being set to 0.0 in labels with no predicted samples. Use `zero_division` parameter to control this behavior.\n",
      "  _warn_prf(average, modifier, msg_start, len(result))\n"
     ]
    },
    {
     "name": "stdout",
     "output_type": "stream",
     "text": [
      "              precision    recall  f1-score   support\n",
      "\n",
      "           0       0.78      1.00      0.88       456\n",
      "           1       0.98      1.00      0.99       436\n",
      "           2       0.99      0.94      0.97       407\n",
      "           3       0.94      0.97      0.95     93904\n",
      "           4       0.00      0.00      0.00       420\n",
      "           5       1.00      1.00      1.00       416\n",
      "           6       1.00      1.00      1.00       393\n",
      "           7       0.94      0.97      0.96       407\n",
      "           8       0.00      0.00      0.00       381\n",
      "           9       0.95      1.00      0.98       420\n",
      "          10       0.95      0.05      0.09       427\n",
      "          11       0.00      0.00      0.00       427\n",
      "          12       1.00      1.00      1.00       418\n",
      "          13       0.98      1.00      0.99     95424\n",
      "          14       0.95      0.93      0.94       411\n",
      "          15       0.67      0.37      0.48       407\n",
      "          16       0.83      0.97      0.89      6065\n",
      "          17       0.39      0.05      0.09       410\n",
      "          18       0.34      0.58      0.43       433\n",
      "          19       0.99      0.99      0.99      2463\n",
      "          20       0.98      0.95      0.96       415\n",
      "          21       0.70      0.11      0.19       414\n",
      "          22       0.92      0.96      0.94    116249\n",
      "          23       0.00      0.00      0.00       405\n",
      "          24       1.00      1.00      1.00       410\n",
      "          25       0.54      0.02      0.03       414\n",
      "          26       1.00      1.00      1.00       481\n",
      "          27       0.59      0.23      0.34      1737\n",
      "          28       0.76      0.88      0.82      1995\n",
      "          29       0.45      0.25      0.32       560\n",
      "          30       0.76      0.13      0.21      1646\n",
      "          31       0.91      0.48      0.63      1117\n",
      "          32       0.00      0.00      0.00       404\n",
      "          33       0.96      1.00      0.98       407\n",
      "          34       0.83      0.40      0.54       433\n",
      "          35       0.00      0.00      0.00       419\n",
      "          36       0.59      0.54      0.56      8791\n",
      "          37       0.00      0.00      0.00       440\n",
      "          38       1.00      0.01      0.01       435\n",
      "          39       0.77      0.86      0.81       444\n",
      "          40       0.37      0.21      0.27      3894\n",
      "          41       0.68      0.83      0.74      2260\n",
      "          42       0.99      1.00      0.99     33149\n",
      "          43       0.65      0.49      0.56       556\n",
      "          44       0.88      0.81      0.85      1202\n",
      "          45       0.81      0.62      0.71      5596\n",
      "          46       0.00      0.00      0.00       440\n",
      "          47       0.91      0.85      0.88       845\n",
      "          48       0.00      0.00      0.00       415\n",
      "          49       0.93      0.99      0.96     18827\n",
      "          50       0.98      1.00      0.99       411\n",
      "          51       0.98      1.00      0.99       404\n",
      "          52       0.95      0.97      0.96       437\n",
      "          53       0.00      0.00      0.00       388\n",
      "          54       0.96      0.28      0.44       397\n",
      "          55       0.56      0.79      0.65      2008\n",
      "          56       1.00      1.00      1.00       413\n",
      "\n",
      "    accuracy                           0.93    413783\n",
      "   macro avg       0.69      0.59      0.60    413783\n",
      "weighted avg       0.91      0.93      0.92    413783\n",
      "\n"
     ]
    },
    {
     "name": "stderr",
     "output_type": "stream",
     "text": [
      "/usr/local/lib/python3.7/dist-packages/sklearn/metrics/_classification.py:1318: UndefinedMetricWarning: Precision and F-score are ill-defined and being set to 0.0 in labels with no predicted samples. Use `zero_division` parameter to control this behavior.\n",
      "  _warn_prf(average, modifier, msg_start, len(result))\n"
     ]
    }
   ],
   "source": [
    "XGBpred = XGBmodel.predict(X_test)\n",
    "print(classification_report(y_test,XGBpred))"
   ]
  },
  {
   "cell_type": "code",
   "execution_count": null,
   "metadata": {
    "colab": {
     "base_uri": "https://localhost:8080/"
    },
    "id": "lDBkRJkG_uCe",
    "outputId": "2df3f346-26a6-4b5e-ba70-1ab6d96b957a"
   },
   "outputs": [
    {
     "name": "stdout",
     "output_type": "stream",
     "text": [
      "accuracy on the train set:  0.927141630652354\n",
      "accuracy on the test set:  0.9261521135474391\n"
     ]
    }
   ],
   "source": [
    "print('accuracy on the train set: ', accuracy_score(XGBmodel.predict(X_train), y_train))\n",
    "print('accuracy on the test set: ', accuracy_score(y_test, XGBpred))"
   ]
  },
  {
   "cell_type": "code",
   "execution_count": null,
   "metadata": {
    "id": "Qoy0A5hRPfrG"
   },
   "outputs": [],
   "source": [
    "import pickle\n",
    "# save the model to disk\n",
    "filename = '/content/drive/My Drive/Colab Notebooks/MCL_UNTSM_XGBmodel.sav'\n",
    "pickle.dump(XGBmodel, open(filename, 'wb'))"
   ]
  },
  {
   "cell_type": "markdown",
   "metadata": {
    "id": "vUA1ys8r28i6"
   },
   "source": [
    "## Decision Tree Classifier"
   ]
  },
  {
   "cell_type": "code",
   "execution_count": null,
   "metadata": {
    "id": "kkXjQ0X726-R"
   },
   "outputs": [],
   "source": [
    "from sklearn.tree import DecisionTreeClassifier\n",
    "dt_classifier = DecisionTreeClassifier()\n",
    "DTmodel=dt_classifier.fit(X_train, y_train)"
   ]
  },
  {
   "cell_type": "code",
   "execution_count": null,
   "metadata": {
    "colab": {
     "base_uri": "https://localhost:8080/"
    },
    "id": "IgbhwE9E5G9p",
    "outputId": "40497b59-79ff-40ac-d4b0-d8ee0712380c"
   },
   "outputs": [
    {
     "name": "stdout",
     "output_type": "stream",
     "text": [
      "              precision    recall  f1-score   support\n",
      "\n",
      "           0       0.98      1.00      0.99       456\n",
      "           1       1.00      1.00      1.00       436\n",
      "           2       1.00      1.00      1.00       407\n",
      "           3       0.98      0.98      0.98     93904\n",
      "           4       0.58      0.75      0.65       420\n",
      "           5       1.00      1.00      1.00       416\n",
      "           6       1.00      1.00      1.00       393\n",
      "           7       0.96      0.99      0.98       407\n",
      "           8       0.74      0.96      0.84       381\n",
      "           9       1.00      1.00      1.00       420\n",
      "          10       0.61      0.77      0.68       427\n",
      "          11       0.66      0.90      0.76       427\n",
      "          12       1.00      1.00      1.00       418\n",
      "          13       1.00      1.00      1.00     95424\n",
      "          14       0.98      1.00      0.99       411\n",
      "          15       0.90      1.00      0.95       407\n",
      "          16       0.90      0.89      0.90      6065\n",
      "          17       0.85      1.00      0.92       410\n",
      "          18       0.87      1.00      0.93       433\n",
      "          19       0.99      0.99      0.99      2463\n",
      "          20       0.99      1.00      1.00       415\n",
      "          21       0.99      1.00      1.00       414\n",
      "          22       0.96      0.95      0.96    116249\n",
      "          23       0.54      0.68      0.60       405\n",
      "          24       1.00      1.00      1.00       410\n",
      "          25       0.57      0.83      0.68       414\n",
      "          26       1.00      1.00      1.00       481\n",
      "          27       0.62      0.66      0.64      1737\n",
      "          28       0.84      0.82      0.83      1995\n",
      "          29       0.55      0.48      0.51       560\n",
      "          30       0.39      0.37      0.38      1646\n",
      "          31       0.65      0.66      0.66      1117\n",
      "          32       0.82      0.98      0.90       404\n",
      "          33       1.00      1.00      1.00       407\n",
      "          34       0.95      1.00      0.98       433\n",
      "          35       0.94      1.00      0.97       419\n",
      "          36       0.75      0.74      0.74      8791\n",
      "          37       0.71      0.84      0.77       440\n",
      "          38       0.88      1.00      0.94       435\n",
      "          39       0.79      0.72      0.75       444\n",
      "          40       0.44      0.41      0.43      3894\n",
      "          41       0.79      0.75      0.77      2260\n",
      "          42       1.00      0.99      1.00     33149\n",
      "          43       0.52      0.50      0.51       556\n",
      "          44       0.82      0.83      0.82      1202\n",
      "          45       0.78      0.76      0.77      5596\n",
      "          46       0.12      0.15      0.13       440\n",
      "          47       0.92      0.92      0.92       845\n",
      "          48       0.89      1.00      0.94       415\n",
      "          49       0.96      0.95      0.96     18827\n",
      "          50       1.00      1.00      1.00       411\n",
      "          51       0.99      1.00      1.00       404\n",
      "          52       0.98      1.00      0.99       437\n",
      "          53       0.59      0.82      0.69       388\n",
      "          54       0.94      1.00      0.97       397\n",
      "          55       0.57      0.58      0.57      2008\n",
      "          56       1.00      1.00      1.00       413\n",
      "\n",
      "    accuracy                           0.95    413783\n",
      "   macro avg       0.83      0.87      0.85    413783\n",
      "weighted avg       0.95      0.95      0.95    413783\n",
      "\n"
     ]
    }
   ],
   "source": [
    "from sklearn.metrics import classification_report\n",
    "DTpred = DTmodel.predict(X_test)\n",
    "print(classification_report(y_test,DTpred))"
   ]
  },
  {
   "cell_type": "code",
   "execution_count": null,
   "metadata": {
    "colab": {
     "base_uri": "https://localhost:8080/"
    },
    "id": "TL-YG1IrEnGt",
    "outputId": "a78e33a3-1182-4737-c5ed-55b21c4b78fb"
   },
   "outputs": [
    {
     "name": "stdout",
     "output_type": "stream",
     "text": [
      "accuracy on the train set:  0.9998676840294624\n",
      "accuracy on the test set:  0.9497272725075704\n"
     ]
    }
   ],
   "source": [
    "print('accuracy on the train set: ', accuracy_score(DTmodel.predict(X_train), y_train))\n",
    "print('accuracy on the test set: ', accuracy_score(y_test, DTpred))"
   ]
  },
  {
   "cell_type": "code",
   "execution_count": null,
   "metadata": {
    "id": "FN4rqnk0PpG-"
   },
   "outputs": [],
   "source": [
    "import pickle\n",
    "# save the model to disk\n",
    "filename = '/content/drive/My Drive/Colab Notebooks/MCL_UNTSM_DTmodel.sav'\n",
    "pickle.dump(DTmodel, open(filename, 'wb'))"
   ]
  },
  {
   "cell_type": "markdown",
   "metadata": {
    "id": "rB0BVptr6S2J"
   },
   "source": [
    "## Extra Trees Classifier"
   ]
  },
  {
   "cell_type": "code",
   "execution_count": null,
   "metadata": {
    "id": "inCzNs-k6ZAj"
   },
   "outputs": [],
   "source": [
    "from sklearn.ensemble import ExtraTreesClassifier\n",
    "et_classifier = ExtraTreesClassifier(n_estimators=100)\n",
    "ETmodel=et_classifier.fit(X_train, y_train)\n"
   ]
  },
  {
   "cell_type": "code",
   "execution_count": null,
   "metadata": {
    "colab": {
     "base_uri": "https://localhost:8080/"
    },
    "id": "vEFDUyeU6pQ0",
    "outputId": "091cf98d-0190-4b14-811c-64c8c2245236"
   },
   "outputs": [
    {
     "name": "stderr",
     "output_type": "stream",
     "text": [
      "/usr/local/lib/python3.7/dist-packages/sklearn/metrics/_classification.py:1318: UndefinedMetricWarning: Precision and F-score are ill-defined and being set to 0.0 in labels with no predicted samples. Use `zero_division` parameter to control this behavior.\n",
      "  _warn_prf(average, modifier, msg_start, len(result))\n"
     ]
    },
    {
     "name": "stdout",
     "output_type": "stream",
     "text": [
      "              precision    recall  f1-score   support\n",
      "\n",
      "           0       0.80      0.80      0.80         5\n",
      "           1       0.50      1.00      0.67         1\n",
      "           2       0.90      0.95      0.92        19\n",
      "           3       1.00      1.00      1.00      3090\n",
      "           4       0.00      0.00      0.00       218\n",
      "           7       0.99      0.97      0.98       192\n",
      "           8       0.15      0.09      0.11        96\n",
      "          10       0.25      0.12      0.16       196\n",
      "          11       1.00      1.00      1.00       222\n",
      "          12       1.00      1.00      1.00    100444\n",
      "          13       0.91      0.98      0.94      5907\n",
      "          14       0.17      0.02      0.03        58\n",
      "          15       0.53      0.46      0.49        57\n",
      "          16       1.00      0.99      1.00      2379\n",
      "          17       0.99      1.00      0.99    122358\n",
      "          18       0.12      0.03      0.04       236\n",
      "          20       0.00      0.00      0.00         9\n",
      "          22       0.80      0.69      0.74      1695\n",
      "          23       0.50      0.10      0.17        10\n",
      "          24       0.73      0.59      0.66      1672\n",
      "          25       0.12      0.05      0.07        63\n",
      "          26       0.00      0.00      0.00        32\n",
      "          27       0.00      0.00      0.00        23\n",
      "          28       0.28      0.13      0.18       165\n",
      "          29       0.00      0.00      0.00        39\n",
      "          30       0.95      0.96      0.96       408\n",
      "          31       0.85      0.93      0.89      2196\n",
      "          32       0.46      0.06      0.10       451\n",
      "          33       0.95      0.79      0.87       865\n",
      "          34       0.80      0.57      0.67         7\n",
      "          35       0.67      0.40      0.50         5\n",
      "          36       1.00      0.71      0.83         7\n",
      "          37       0.98      0.94      0.96       102\n",
      "          38       0.00      0.00      0.00        24\n",
      "          39       0.76      0.71      0.74      1933\n",
      "\n",
      "    accuracy                           0.98    245184\n",
      "   macro avg       0.58      0.52      0.53    245184\n",
      "weighted avg       0.98      0.98      0.98    245184\n",
      "\n"
     ]
    },
    {
     "name": "stderr",
     "output_type": "stream",
     "text": [
      "/usr/local/lib/python3.7/dist-packages/sklearn/metrics/_classification.py:1318: UndefinedMetricWarning: Precision and F-score are ill-defined and being set to 0.0 in labels with no predicted samples. Use `zero_division` parameter to control this behavior.\n",
      "  _warn_prf(average, modifier, msg_start, len(result))\n",
      "/usr/local/lib/python3.7/dist-packages/sklearn/metrics/_classification.py:1318: UndefinedMetricWarning: Precision and F-score are ill-defined and being set to 0.0 in labels with no predicted samples. Use `zero_division` parameter to control this behavior.\n",
      "  _warn_prf(average, modifier, msg_start, len(result))\n"
     ]
    }
   ],
   "source": [
    "from sklearn.metrics import classification_report\n",
    "ETpred = ETmodel.predict(X_test)\n",
    "print(classification_report(y_test,ETpred))"
   ]
  },
  {
   "cell_type": "code",
   "execution_count": null,
   "metadata": {
    "id": "uMMKMZPYPvae"
   },
   "outputs": [],
   "source": [
    "import pickle\n",
    "# save the model to disk\n",
    "filename = '/content/drive/My Drive/Colab Notebooks/MCL_UNTSM_DTmodel.sav'\n",
    "pickle.dump(ETmodel, open(filename, 'wb'))"
   ]
  },
  {
   "cell_type": "markdown",
   "metadata": {
    "id": "YgMemp_YFZjx"
   },
   "source": [
    "## Bagged Decision Tree Classifier"
   ]
  },
  {
   "cell_type": "code",
   "execution_count": null,
   "metadata": {
    "id": "WQBYfUgIR_0Q"
   },
   "outputs": [],
   "source": [
    "from sklearn import model_selection\n",
    "from sklearn.ensemble import BaggingClassifier\n",
    "from sklearn.tree import DecisionTreeClassifier\n",
    "\n",
    "cart = DecisionTreeClassifier()\n",
    "num_trees = 100\n",
    "BDTmodel = BaggingClassifier(base_estimator=cart, n_estimators=num_trees).fit(X_train, y_train)"
   ]
  },
  {
   "cell_type": "code",
   "execution_count": null,
   "metadata": {
    "colab": {
     "base_uri": "https://localhost:8080/"
    },
    "id": "NQBOSkszV_Fu",
    "outputId": "38a025f0-8870-4433-c11f-2dd57dcd4949"
   },
   "outputs": [
    {
     "name": "stdout",
     "output_type": "stream",
     "text": [
      "              precision    recall  f1-score   support\n",
      "\n",
      "           0       0.99      1.00      0.99       442\n",
      "           1       1.00      1.00      1.00       421\n",
      "           2       1.00      1.00      1.00       441\n",
      "           3       0.98      0.99      0.99     94084\n",
      "           4       0.94      0.80      0.87       398\n",
      "           5       1.00      1.00      1.00       398\n",
      "           6       1.00      1.00      1.00       399\n",
      "           7       0.98      1.00      0.99       436\n",
      "           8       0.85      0.93      0.88       389\n",
      "           9       1.00      1.00      1.00       410\n",
      "          10       0.83      0.81      0.82       422\n",
      "          11       0.87      0.90      0.88       431\n",
      "          12       1.00      1.00      1.00       405\n",
      "          13       1.00      1.00      1.00     95583\n",
      "          14       0.98      1.00      0.99       410\n",
      "          15       0.92      1.00      0.96       381\n",
      "          16       0.90      0.95      0.92      5995\n",
      "          17       0.83      1.00      0.91       399\n",
      "          18       0.88      1.00      0.94       426\n",
      "          19       1.00      0.99      1.00      2413\n",
      "          20       1.00      1.00      1.00       408\n",
      "          21       0.98      1.00      0.99       420\n",
      "          22       0.97      0.98      0.97    116134\n",
      "          23       0.79      0.67      0.73       414\n",
      "          24       1.00      1.00      1.00       425\n",
      "          25       0.90      0.82      0.86       377\n",
      "          26       1.00      1.00      1.00       468\n",
      "          27       0.66      0.69      0.67      1672\n",
      "          28       0.87      0.89      0.88      1999\n",
      "          29       0.59      0.53      0.56       524\n",
      "          30       0.68      0.37      0.48      1608\n",
      "          31       0.89      0.66      0.76      1070\n",
      "          32       0.85      0.99      0.92       443\n",
      "          33       1.00      1.00      1.00       439\n",
      "          34       0.97      1.00      0.99       429\n",
      "          35       0.95      1.00      0.98       417\n",
      "          36       0.83      0.79      0.81      9072\n",
      "          37       0.83      0.84      0.84       399\n",
      "          38       0.95      0.99      0.97       405\n",
      "          39       0.72      0.81      0.76       388\n",
      "          40       0.59      0.44      0.50      3930\n",
      "          41       0.81      0.84      0.82      2236\n",
      "          42       1.00      0.99      1.00     33149\n",
      "          43       0.68      0.50      0.58       524\n",
      "          44       0.90      0.79      0.84      1133\n",
      "          45       0.83      0.83      0.83      5699\n",
      "          46       0.46      0.08      0.14       502\n",
      "          47       0.98      0.94      0.96       884\n",
      "          48       0.93      1.00      0.96       412\n",
      "          49       0.96      0.99      0.98     18760\n",
      "          50       1.00      1.00      1.00       440\n",
      "          51       1.00      1.00      1.00       420\n",
      "          52       0.98      1.00      0.99       426\n",
      "          53       0.82      0.84      0.83       385\n",
      "          54       0.98      1.00      0.99       383\n",
      "          55       0.64      0.67      0.65      1883\n",
      "          56       1.00      1.00      1.00       423\n",
      "\n",
      "    accuracy                           0.96    413783\n",
      "   macro avg       0.89      0.88      0.88    413783\n",
      "weighted avg       0.96      0.96      0.96    413783\n",
      "\n"
     ]
    }
   ],
   "source": [
    "from sklearn.metrics import classification_report\n",
    "BDTpred = BDTmodel.predict(X_test)\n",
    "print(classification_report(y_test,BDTpred))"
   ]
  },
  {
   "cell_type": "code",
   "execution_count": null,
   "metadata": {
    "colab": {
     "base_uri": "https://localhost:8080/"
    },
    "id": "PpJXQXKLQpSk",
    "outputId": "39725ece-bc95-40a7-ca24-2c2e3a035e89"
   },
   "outputs": [
    {
     "name": "stdout",
     "output_type": "stream",
     "text": [
      "accuracy on the train set:  0.9998404958163382\n",
      "accuracy on the test set:  0.9645538845240138\n"
     ]
    }
   ],
   "source": [
    "from sklearn.metrics import plot_confusion_matrix,accuracy_score,classification_report\n",
    "print('accuracy on the train set: ', accuracy_score(BDTmodel.predict(X_train), y_train))\n",
    "print('accuracy on the test set: ', accuracy_score(y_test, BDTpred))"
   ]
  },
  {
   "cell_type": "code",
   "execution_count": null,
   "metadata": {
    "id": "o6jK9EE-QLqN"
   },
   "outputs": [],
   "source": [
    "import pickle\n",
    "# save the model to disk\n",
    "filename = '/content/drive/My Drive/Colab Notebooks/MCL_UNTSM_BDTmodel.sav'\n",
    "pickle.dump(BDTmodel, open(filename, 'wb'))"
   ]
  },
  {
   "cell_type": "markdown",
   "metadata": {
    "id": "fDxEy-muPehx"
   },
   "source": [
    "## Voting ensemble"
   ]
  },
  {
   "cell_type": "code",
   "execution_count": null,
   "metadata": {
    "id": "5OrKGTr8Ofr0"
   },
   "outputs": [],
   "source": [
    "from sklearn.ensemble import VotingClassifier, StackingClassifier\n",
    "from sklearn.tree import DecisionTreeClassifier\n",
    "from sklearn.ensemble import RandomForestClassifier\n",
    "from xgboost import XGBClassifier\n",
    "# create the sub models\n",
    "estimators = []\n",
    "model1 = RandomForestClassifier()\n",
    "estimators.append(('rf', model1))\n",
    "model2 = DecisionTreeClassifier()\n",
    "estimators.append(('cart', model2))\n",
    "model3 = XGBClassifier()\n",
    "estimators.append(('et', model3))\n",
    "\n",
    "# create the ensemble model\n",
    "VTensemble = VotingClassifier(estimators,voting='soft').fit(X_train, y_train)"
   ]
  },
  {
   "cell_type": "code",
   "execution_count": null,
   "metadata": {
    "id": "_rZEjgP30fTC"
   },
   "outputs": [],
   "source": [
    "from sklearn.metrics import plot_confusion_matrix,accuracy_score,classification_report\n",
    "VTpred = VTensemble.predict(X_test)\n",
    "print(classification_report(y_test, VTpred))"
   ]
  },
  {
   "cell_type": "code",
   "execution_count": null,
   "metadata": {
    "colab": {
     "base_uri": "https://localhost:8080/"
    },
    "id": "SvnE9mHo0j7v",
    "outputId": "8144a6aa-b9d9-4b77-de4a-0ac39d6b0ead"
   },
   "outputs": [
    {
     "name": "stdout",
     "output_type": "stream",
     "text": [
      "precision on the test set:  0.9865676231166352\n",
      "accuracy on the test set:  0.9904357543722265\n"
     ]
    }
   ],
   "source": [
    "print('accuracy on the train set: ', accuracy_score(y_train, VTensemble.predict(X_train)))\n",
    "print('accuracy on the test set: ', accuracy_score(y_test, VTpred))"
   ]
  },
  {
   "cell_type": "code",
   "execution_count": null,
   "metadata": {
    "id": "GG1dxag2QoEs"
   },
   "outputs": [],
   "source": [
    "import pickle\n",
    "# save the model to disk\n",
    "filename = '/content/drive/My Drive/Colab Notebooks/MCL_UNTSM_VTensemble.sav'\n",
    "pickle.dump(VTensemble, open(filename, 'wb'))"
   ]
  },
  {
   "cell_type": "markdown",
   "metadata": {
    "id": "gMd8Zs2nzvzZ"
   },
   "source": [
    "### Stacking ensemble"
   ]
  },
  {
   "cell_type": "code",
   "execution_count": null,
   "metadata": {
    "id": "6ENE2m7c0SJS"
   },
   "outputs": [],
   "source": [
    "# create the sub models\n",
    "estimators = []\n",
    "model1 = RandomForestClassifier()\n",
    "estimators.append(('rf', model1))\n",
    "model2 = DecisionTreeClassifier()\n",
    "estimators.append(('cart', model2))\n",
    "model3 = ExtraTreesClassifier()\n",
    "estimators.append(('et', model3))\n",
    "\n",
    "# define meta learner model\n",
    "level1 = LogisticRegression()\n",
    "\n",
    "# define the stacking ensemble\n",
    "STensemble = StackingClassifier(estimators=estimators,  final_estimator=level1).fit(X_train, y_train)"
   ]
  },
  {
   "cell_type": "code",
   "execution_count": null,
   "metadata": {
    "id": "H9H0qe_704TQ"
   },
   "outputs": [],
   "source": [
    "print('accuracy on the train set: ', accuracy_score(STensemble.predict(X_train), y_train))"
   ]
  },
  {
   "cell_type": "code",
   "execution_count": null,
   "metadata": {
    "id": "GUePHImG06ew"
   },
   "outputs": [],
   "source": [
    "STpred = STensemble.predict(X_test)\n",
    "print(classification_report(y_test, STpred))"
   ]
  },
  {
   "cell_type": "code",
   "execution_count": null,
   "metadata": {
    "colab": {
     "base_uri": "https://localhost:8080/"
    },
    "id": "l2P_xVPl073H",
    "outputId": "440c9f8b-1bb2-4787-ee72-58939c68cf55"
   },
   "outputs": [
    {
     "name": "stdout",
     "output_type": "stream",
     "text": [
      "precision on the test set:  0.9874852075802033\n",
      "accuracy on the test set:  0.9905336400417646\n"
     ]
    }
   ],
   "source": [
    "print('accuracy on the train set: ', accuracy_score(STensemble.predict(X_train), y_train))\n",
    "print('accuracy on the test set: ', accuracy_score(y_test, STpred))"
   ]
  },
  {
   "cell_type": "code",
   "execution_count": null,
   "metadata": {
    "id": "IQR8Zo9xRKaM"
   },
   "outputs": [],
   "source": [
    "import pickle\n",
    "# save the model to disk\n",
    "filename = '/content/drive/My Drive/Colab Notebooks/MCL_UNTSM_STensemble.sav'\n",
    "pickle.dump(STensemble, open(filename, 'wb'))"
   ]
  }
 ],
 "metadata": {
  "colab": {
   "machine_shape": "hm",
   "provenance": []
  },
  "kernelspec": {
   "display_name": "Python 3 (ipykernel)",
   "language": "python",
   "name": "python3"
  },
  "language_info": {
   "codemirror_mode": {
    "name": "ipython",
    "version": 3
   },
   "file_extension": ".py",
   "mimetype": "text/x-python",
   "name": "python",
   "nbconvert_exporter": "python",
   "pygments_lexer": "ipython3",
   "version": "3.10.9"
  }
 },
 "nbformat": 4,
 "nbformat_minor": 1
}
