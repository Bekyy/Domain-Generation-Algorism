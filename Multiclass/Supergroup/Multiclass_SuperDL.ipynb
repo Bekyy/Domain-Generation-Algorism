{
 "cells": [
  {
   "cell_type": "code",
   "execution_count": null,
   "metadata": {
    "id": "PRA4adyjdWcn"
   },
   "outputs": [],
   "source": [
    "import tensorflow as tf\n",
    "import matplotlib.image as img\n",
    "%matplotlib inline\n",
    "import numpy as np\n",
    "from collections import defaultdict\n",
    "import collections\n",
    "from shutil import copy  \n",
    "from shutil import copytree, rmtree\n",
    "import tensorflow.keras.backend as K\n",
    "from tensorflow.keras.models import load_model\n",
    "from tensorflow.keras.preprocessing import image\n",
    "import matplotlib.pyplot as plt\n",
    "import numpy as np\n",
    "import os\n",
    "import random\n",
    "from tensorflow.keras import models\n",
    "import cv2"
   ]
  },
  {
   "cell_type": "code",
   "execution_count": null,
   "metadata": {
    "id": "blwR7ARVeBNY"
   },
   "outputs": [],
   "source": [
    "import pandas as pd\n",
    "import numpy as np\n",
    "import math\n",
    "from collections import Counter\n",
    "from sklearn.model_selection import train_test_split\n",
    "from sklearn.model_selection import GridSearchCV"
   ]
  },
  {
   "cell_type": "code",
   "execution_count": null,
   "metadata": {
    "colab": {
     "base_uri": "https://localhost:8080/"
    },
    "id": "-miIBab7lnn8",
    "outputId": "e229a9f4-cc77-49fb-99dd-a0740b30b421"
   },
   "outputs": [
    {
     "name": "stdout",
     "output_type": "stream",
     "text": [
      "Mounted at /content/drive\n"
     ]
    }
   ],
   "source": [
    "from google.colab import drive\n",
    "drive.mount('/content/drive')"
   ]
  },
  {
   "cell_type": "code",
   "execution_count": null,
   "metadata": {
    "id": "B1h6jsbS4zca"
   },
   "outputs": [],
   "source": [
    "physical_devices = tf.config.list_physical_devices('GPU')\n",
    "try:\n",
    "\ttf.config.experimental.set_memory_growth(physical_devices[0], True)\n",
    "except:\n",
    "\tprint('Could not set GPU memory growth')\n",
    "\tpass"
   ]
  },
  {
   "cell_type": "markdown",
   "metadata": {
    "id": "N5I3H70AHjIh"
   },
   "source": [
    "## Load both legitmate & DGA domains"
   ]
  },
  {
   "cell_type": "code",
   "execution_count": null,
   "metadata": {
    "colab": {
     "base_uri": "https://localhost:8080/",
     "height": 206
    },
    "id": "dcNuKohwKnIO",
    "outputId": "988f1eb3-7a12-4f28-df13-bdb15076007a"
   },
   "outputs": [
    {
     "data": {
      "text/html": [
       "\n",
       "  <div id=\"df-4755cb80-d712-491e-b3dc-c954d3a0cd5e\">\n",
       "    <div class=\"colab-df-container\">\n",
       "      <div>\n",
       "<style scoped>\n",
       "    .dataframe tbody tr th:only-of-type {\n",
       "        vertical-align: middle;\n",
       "    }\n",
       "\n",
       "    .dataframe tbody tr th {\n",
       "        vertical-align: top;\n",
       "    }\n",
       "\n",
       "    .dataframe thead th {\n",
       "        text-align: right;\n",
       "    }\n",
       "</style>\n",
       "<table border=\"1\" class=\"dataframe\">\n",
       "  <thead>\n",
       "    <tr style=\"text-align: right;\">\n",
       "      <th></th>\n",
       "      <th>domain_name</th>\n",
       "      <th>label</th>\n",
       "      <th>domain</th>\n",
       "    </tr>\n",
       "  </thead>\n",
       "  <tbody>\n",
       "    <tr>\n",
       "      <th>0</th>\n",
       "      <td>odqzesdvd.info</td>\n",
       "      <td>nymaim</td>\n",
       "      <td>odqzesdvd</td>\n",
       "    </tr>\n",
       "    <tr>\n",
       "      <th>1</th>\n",
       "      <td>mcrwnxdzu.info</td>\n",
       "      <td>nymaim</td>\n",
       "      <td>mcrwnxdzu</td>\n",
       "    </tr>\n",
       "    <tr>\n",
       "      <th>2</th>\n",
       "      <td>poxrscvfoy.biz</td>\n",
       "      <td>nymaim</td>\n",
       "      <td>poxrscvfoy</td>\n",
       "    </tr>\n",
       "    <tr>\n",
       "      <th>3</th>\n",
       "      <td>dupzwi.info</td>\n",
       "      <td>nymaim</td>\n",
       "      <td>dupzwi</td>\n",
       "    </tr>\n",
       "    <tr>\n",
       "      <th>4</th>\n",
       "      <td>pgldibr.com</td>\n",
       "      <td>nymaim</td>\n",
       "      <td>pgldibr</td>\n",
       "    </tr>\n",
       "  </tbody>\n",
       "</table>\n",
       "</div>\n",
       "      <button class=\"colab-df-convert\" onclick=\"convertToInteractive('df-4755cb80-d712-491e-b3dc-c954d3a0cd5e')\"\n",
       "              title=\"Convert this dataframe to an interactive table.\"\n",
       "              style=\"display:none;\">\n",
       "        \n",
       "  <svg xmlns=\"http://www.w3.org/2000/svg\" height=\"24px\"viewBox=\"0 0 24 24\"\n",
       "       width=\"24px\">\n",
       "    <path d=\"M0 0h24v24H0V0z\" fill=\"none\"/>\n",
       "    <path d=\"M18.56 5.44l.94 2.06.94-2.06 2.06-.94-2.06-.94-.94-2.06-.94 2.06-2.06.94zm-11 1L8.5 8.5l.94-2.06 2.06-.94-2.06-.94L8.5 2.5l-.94 2.06-2.06.94zm10 10l.94 2.06.94-2.06 2.06-.94-2.06-.94-.94-2.06-.94 2.06-2.06.94z\"/><path d=\"M17.41 7.96l-1.37-1.37c-.4-.4-.92-.59-1.43-.59-.52 0-1.04.2-1.43.59L10.3 9.45l-7.72 7.72c-.78.78-.78 2.05 0 2.83L4 21.41c.39.39.9.59 1.41.59.51 0 1.02-.2 1.41-.59l7.78-7.78 2.81-2.81c.8-.78.8-2.07 0-2.86zM5.41 20L4 18.59l7.72-7.72 1.47 1.35L5.41 20z\"/>\n",
       "  </svg>\n",
       "      </button>\n",
       "      \n",
       "  <style>\n",
       "    .colab-df-container {\n",
       "      display:flex;\n",
       "      flex-wrap:wrap;\n",
       "      gap: 12px;\n",
       "    }\n",
       "\n",
       "    .colab-df-convert {\n",
       "      background-color: #E8F0FE;\n",
       "      border: none;\n",
       "      border-radius: 50%;\n",
       "      cursor: pointer;\n",
       "      display: none;\n",
       "      fill: #1967D2;\n",
       "      height: 32px;\n",
       "      padding: 0 0 0 0;\n",
       "      width: 32px;\n",
       "    }\n",
       "\n",
       "    .colab-df-convert:hover {\n",
       "      background-color: #E2EBFA;\n",
       "      box-shadow: 0px 1px 2px rgba(60, 64, 67, 0.3), 0px 1px 3px 1px rgba(60, 64, 67, 0.15);\n",
       "      fill: #174EA6;\n",
       "    }\n",
       "\n",
       "    [theme=dark] .colab-df-convert {\n",
       "      background-color: #3B4455;\n",
       "      fill: #D2E3FC;\n",
       "    }\n",
       "\n",
       "    [theme=dark] .colab-df-convert:hover {\n",
       "      background-color: #434B5C;\n",
       "      box-shadow: 0px 1px 3px 1px rgba(0, 0, 0, 0.15);\n",
       "      filter: drop-shadow(0px 1px 2px rgba(0, 0, 0, 0.3));\n",
       "      fill: #FFFFFF;\n",
       "    }\n",
       "  </style>\n",
       "\n",
       "      <script>\n",
       "        const buttonEl =\n",
       "          document.querySelector('#df-4755cb80-d712-491e-b3dc-c954d3a0cd5e button.colab-df-convert');\n",
       "        buttonEl.style.display =\n",
       "          google.colab.kernel.accessAllowed ? 'block' : 'none';\n",
       "\n",
       "        async function convertToInteractive(key) {\n",
       "          const element = document.querySelector('#df-4755cb80-d712-491e-b3dc-c954d3a0cd5e');\n",
       "          const dataTable =\n",
       "            await google.colab.kernel.invokeFunction('convertToInteractive',\n",
       "                                                     [key], {});\n",
       "          if (!dataTable) return;\n",
       "\n",
       "          const docLinkHtml = 'Like what you see? Visit the ' +\n",
       "            '<a target=\"_blank\" href=https://colab.research.google.com/notebooks/data_table.ipynb>data table notebook</a>'\n",
       "            + ' to learn more about interactive tables.';\n",
       "          element.innerHTML = '';\n",
       "          dataTable['output_type'] = 'display_data';\n",
       "          await google.colab.output.renderOutput(dataTable, element);\n",
       "          const docLink = document.createElement('div');\n",
       "          docLink.innerHTML = docLinkHtml;\n",
       "          element.appendChild(docLink);\n",
       "        }\n",
       "      </script>\n",
       "    </div>\n",
       "  </div>\n",
       "  "
      ],
      "text/plain": [
       "      domain_name   label      domain\n",
       "0  odqzesdvd.info  nymaim   odqzesdvd\n",
       "1  mcrwnxdzu.info  nymaim   mcrwnxdzu\n",
       "2  poxrscvfoy.biz  nymaim  poxrscvfoy\n",
       "3     dupzwi.info  nymaim      dupzwi\n",
       "4     pgldibr.com  nymaim     pgldibr"
      ]
     },
     "execution_count": 5,
     "metadata": {},
     "output_type": "execute_result"
    }
   ],
   "source": [
    "Domain_data = pd.read_csv('/content/drive/My Drive/Colab Notebooks/DLDomain_MCLS2.csv')\n",
    "Domain_data.drop([\"Unnamed: 0\"], axis=1, inplace=True)\n",
    "Domain_data.head()"
   ]
  },
  {
   "cell_type": "code",
   "execution_count": null,
   "metadata": {
    "id": "5vIF-CmQtbEe"
   },
   "outputs": [],
   "source": [
    "grouped = Domain_data.groupby('label')\n",
    "Domain_data = grouped.filter(lambda x: x['label'].count() > 5.)"
   ]
  },
  {
   "cell_type": "code",
   "execution_count": null,
   "metadata": {
    "id": "ByvYS93UKzJW"
   },
   "outputs": [],
   "source": [
    "Domain_data.domain=Domain_data.domain.astype(str)"
   ]
  },
  {
   "cell_type": "code",
   "execution_count": null,
   "metadata": {
    "id": "i_ei54QWY3gO"
   },
   "outputs": [],
   "source": [
    "from sklearn.preprocessing import LabelEncoder\n",
    "X = Domain_data.domain\n",
    "Y = Domain_data['label']"
   ]
  },
  {
   "cell_type": "code",
   "execution_count": null,
   "metadata": {
    "id": "2N1bHJUvMWZX"
   },
   "outputs": [],
   "source": [
    "from sklearn.preprocessing import LabelBinarizer\n",
    "Y = LabelBinarizer().fit_transform(Y)"
   ]
  },
  {
   "cell_type": "code",
   "execution_count": null,
   "metadata": {
    "id": "6fl2GHSlZaKu"
   },
   "outputs": [],
   "source": [
    "from keras.preprocessing.text import Tokenizer\n",
    "from keras.preprocessing import sequence\n",
    "from keras.models import Sequential\n",
    "\n",
    "#max_words = num_words\n",
    "max_len = 50\n",
    "\n",
    "# Tokenizer\n",
    "tok = Tokenizer(num_words=None, char_level=True, oov_token='UNK')\n",
    "tok.fit_on_texts(X)\n",
    "sequences = tok.texts_to_sequences(X)\n",
    "sequences_matrix = sequence.pad_sequences(sequences,padding='post',maxlen=max_len)"
   ]
  },
  {
   "cell_type": "code",
   "execution_count": null,
   "metadata": {
    "id": "suQdaT_jc9ie"
   },
   "outputs": [],
   "source": [
    "X_train, X_test, y_train, y_test = train_test_split(sequences_matrix, Y, test_size=0.20,random_state=42)"
   ]
  },
  {
   "cell_type": "code",
   "execution_count": null,
   "metadata": {
    "id": "v5pphpq2G75l"
   },
   "outputs": [],
   "source": [
    "from imblearn.over_sampling import RandomOverSampler\n",
    "strategy = {0:16613,1:16613,2:16613, 4:16613, 5:16613,  6:16613,7:16613, 8:16613, 9:16613, 10:16613, 12:16613, 13:16613, 15:16613, 16:16613, 18:16613, 17:16613,19:16613,21:16613, 22:16613,23:16613, 24:16613,25:16613, 26:16613,27:16613,28:16613,29:16613,30:16613,31:16613,33:16613,34:16613,35:16613,37:16613,42:16613,39:16613,40:16613,43:16613,44:16613,46:16613,47:16613, 48:16613, 49:16613,50:16613,51:16613}\n",
    "#for i in minmum_classes:\n",
    "ovrsmt = RandomOverSampler(sampling_strategy=strategy)"
   ]
  },
  {
   "cell_type": "code",
   "execution_count": null,
   "metadata": {
    "id": "SCJxx09rJaIs"
   },
   "outputs": [],
   "source": [
    "from imblearn.under_sampling import RandomUnderSampler\n",
    "udrsmt = RandomUnderSampler(sampling_strategy={38:143527,20:203528,11:193527,3:193529})"
   ]
  },
  {
   "cell_type": "code",
   "execution_count": null,
   "metadata": {
    "id": "NyWrOJPiJ5uQ"
   },
   "outputs": [],
   "source": [
    "from imblearn.pipeline import Pipeline\n",
    "steps = [('o', ovrsmt), ('u', udrsmt)]\n",
    "pipeline = Pipeline(steps=steps)"
   ]
  },
  {
   "cell_type": "code",
   "execution_count": null,
   "metadata": {
    "id": "XykMUS8uJ8VP"
   },
   "outputs": [],
   "source": [
    "X_train, y_train = pipeline.fit_resample(X_train, y_train)"
   ]
  },
  {
   "cell_type": "code",
   "execution_count": null,
   "metadata": {
    "id": "Ww-Nh62NVFl5"
   },
   "outputs": [],
   "source": [
    "import pickle\n",
    "# save the model to disk\n",
    "filename = '/content/drive/My Drive/Colab Notebooks/MX_train_sm.csv'\n",
    "pickle.dump(X_train, open(filename, 'wb'))"
   ]
  },
  {
   "cell_type": "code",
   "execution_count": null,
   "metadata": {
    "id": "MYki7OWLZIwD"
   },
   "outputs": [],
   "source": [
    "filename = '/content/drive/My Drive/Colab Notebooks/MX_test_sm.csv'\n",
    "pickle.dump(X_test, open(filename, 'wb'))\n"
   ]
  },
  {
   "cell_type": "code",
   "execution_count": null,
   "metadata": {
    "id": "3zDZp0RVZLkS"
   },
   "outputs": [],
   "source": [
    "filename = '/content/drive/My Drive/Colab Notebooks/My_train_sm.csv'\n",
    "pickle.dump(y_train, open(filename, 'wb'))"
   ]
  },
  {
   "cell_type": "code",
   "execution_count": null,
   "metadata": {
    "id": "GzFJeY4WZOMi"
   },
   "outputs": [],
   "source": [
    "filename = '/content/drive/My Drive/Colab Notebooks/My_test_sm.csv'\n",
    "pickle.dump(y_test, open(filename, 'wb'))"
   ]
  },
  {
   "cell_type": "markdown",
   "metadata": {
    "id": "CdUwcrq45o3l"
   },
   "source": [
    "## Load both legitmate & DGA domains"
   ]
  },
  {
   "cell_type": "code",
   "execution_count": null,
   "metadata": {
    "colab": {
     "base_uri": "https://localhost:8080/",
     "height": 270
    },
    "id": "ocCT1RTy5o3m",
    "outputId": "7c5c5fd3-654f-4474-e9fe-dff60745a4c0"
   },
   "outputs": [
    {
     "data": {
      "text/html": [
       "\n",
       "  <div id=\"df-334393b4-4f4a-4a78-8791-f06a5eea3240\">\n",
       "    <div class=\"colab-df-container\">\n",
       "      <div>\n",
       "<style scoped>\n",
       "    .dataframe tbody tr th:only-of-type {\n",
       "        vertical-align: middle;\n",
       "    }\n",
       "\n",
       "    .dataframe tbody tr th {\n",
       "        vertical-align: top;\n",
       "    }\n",
       "\n",
       "    .dataframe thead th {\n",
       "        text-align: right;\n",
       "    }\n",
       "</style>\n",
       "<table border=\"1\" class=\"dataframe\">\n",
       "  <thead>\n",
       "    <tr style=\"text-align: right;\">\n",
       "      <th></th>\n",
       "      <th>domain_name</th>\n",
       "      <th>dga_family</th>\n",
       "      <th>domain</th>\n",
       "      <th>length</th>\n",
       "      <th>entropy</th>\n",
       "      <th>first_Digit_Index</th>\n",
       "      <th>H_entropy</th>\n",
       "      <th>vowel_consonant_ratio</th>\n",
       "      <th>vowel_character_ratio</th>\n",
       "      <th>consonant_character_ratio</th>\n",
       "      <th>level_no</th>\n",
       "      <th>alexa_grams</th>\n",
       "      <th>words_grams</th>\n",
       "    </tr>\n",
       "  </thead>\n",
       "  <tbody>\n",
       "    <tr>\n",
       "      <th>0</th>\n",
       "      <td>odqzesdvd.info</td>\n",
       "      <td>Super_family_2</td>\n",
       "      <td>odqzesdvd</td>\n",
       "      <td>9</td>\n",
       "      <td>2.641604</td>\n",
       "      <td>0</td>\n",
       "      <td>3.324863</td>\n",
       "      <td>0.444444</td>\n",
       "      <td>0.285714</td>\n",
       "      <td>0.642857</td>\n",
       "      <td>2</td>\n",
       "      <td>8.618689</td>\n",
       "      <td>10.200253</td>\n",
       "    </tr>\n",
       "    <tr>\n",
       "      <th>1</th>\n",
       "      <td>mcrwnxdzu.info</td>\n",
       "      <td>Super_family_2</td>\n",
       "      <td>mcrwnxdzu</td>\n",
       "      <td>9</td>\n",
       "      <td>3.169925</td>\n",
       "      <td>0</td>\n",
       "      <td>3.664498</td>\n",
       "      <td>0.300000</td>\n",
       "      <td>0.214286</td>\n",
       "      <td>0.714286</td>\n",
       "      <td>2</td>\n",
       "      <td>5.331953</td>\n",
       "      <td>4.442651</td>\n",
       "    </tr>\n",
       "    <tr>\n",
       "      <th>2</th>\n",
       "      <td>poxrscvfoy.biz</td>\n",
       "      <td>Super_family_2</td>\n",
       "      <td>poxrscvfoy</td>\n",
       "      <td>10</td>\n",
       "      <td>3.121928</td>\n",
       "      <td>0</td>\n",
       "      <td>3.664498</td>\n",
       "      <td>0.300000</td>\n",
       "      <td>0.214286</td>\n",
       "      <td>0.714286</td>\n",
       "      <td>2</td>\n",
       "      <td>9.758886</td>\n",
       "      <td>11.231941</td>\n",
       "    </tr>\n",
       "    <tr>\n",
       "      <th>3</th>\n",
       "      <td>dupzwi.info</td>\n",
       "      <td>Super_family_2</td>\n",
       "      <td>dupzwi</td>\n",
       "      <td>6</td>\n",
       "      <td>2.584963</td>\n",
       "      <td>0</td>\n",
       "      <td>3.277613</td>\n",
       "      <td>0.666667</td>\n",
       "      <td>0.363636</td>\n",
       "      <td>0.545455</td>\n",
       "      <td>2</td>\n",
       "      <td>3.861893</td>\n",
       "      <td>7.928046</td>\n",
       "    </tr>\n",
       "    <tr>\n",
       "      <th>4</th>\n",
       "      <td>pgldibr.com</td>\n",
       "      <td>Super_family_2</td>\n",
       "      <td>pgldibr</td>\n",
       "      <td>7</td>\n",
       "      <td>2.807355</td>\n",
       "      <td>0</td>\n",
       "      <td>3.459432</td>\n",
       "      <td>0.250000</td>\n",
       "      <td>0.181818</td>\n",
       "      <td>0.727273</td>\n",
       "      <td>2</td>\n",
       "      <td>12.146719</td>\n",
       "      <td>20.785039</td>\n",
       "    </tr>\n",
       "  </tbody>\n",
       "</table>\n",
       "</div>\n",
       "      <button class=\"colab-df-convert\" onclick=\"convertToInteractive('df-334393b4-4f4a-4a78-8791-f06a5eea3240')\"\n",
       "              title=\"Convert this dataframe to an interactive table.\"\n",
       "              style=\"display:none;\">\n",
       "        \n",
       "  <svg xmlns=\"http://www.w3.org/2000/svg\" height=\"24px\"viewBox=\"0 0 24 24\"\n",
       "       width=\"24px\">\n",
       "    <path d=\"M0 0h24v24H0V0z\" fill=\"none\"/>\n",
       "    <path d=\"M18.56 5.44l.94 2.06.94-2.06 2.06-.94-2.06-.94-.94-2.06-.94 2.06-2.06.94zm-11 1L8.5 8.5l.94-2.06 2.06-.94-2.06-.94L8.5 2.5l-.94 2.06-2.06.94zm10 10l.94 2.06.94-2.06 2.06-.94-2.06-.94-.94-2.06-.94 2.06-2.06.94z\"/><path d=\"M17.41 7.96l-1.37-1.37c-.4-.4-.92-.59-1.43-.59-.52 0-1.04.2-1.43.59L10.3 9.45l-7.72 7.72c-.78.78-.78 2.05 0 2.83L4 21.41c.39.39.9.59 1.41.59.51 0 1.02-.2 1.41-.59l7.78-7.78 2.81-2.81c.8-.78.8-2.07 0-2.86zM5.41 20L4 18.59l7.72-7.72 1.47 1.35L5.41 20z\"/>\n",
       "  </svg>\n",
       "      </button>\n",
       "      \n",
       "  <style>\n",
       "    .colab-df-container {\n",
       "      display:flex;\n",
       "      flex-wrap:wrap;\n",
       "      gap: 12px;\n",
       "    }\n",
       "\n",
       "    .colab-df-convert {\n",
       "      background-color: #E8F0FE;\n",
       "      border: none;\n",
       "      border-radius: 50%;\n",
       "      cursor: pointer;\n",
       "      display: none;\n",
       "      fill: #1967D2;\n",
       "      height: 32px;\n",
       "      padding: 0 0 0 0;\n",
       "      width: 32px;\n",
       "    }\n",
       "\n",
       "    .colab-df-convert:hover {\n",
       "      background-color: #E2EBFA;\n",
       "      box-shadow: 0px 1px 2px rgba(60, 64, 67, 0.3), 0px 1px 3px 1px rgba(60, 64, 67, 0.15);\n",
       "      fill: #174EA6;\n",
       "    }\n",
       "\n",
       "    [theme=dark] .colab-df-convert {\n",
       "      background-color: #3B4455;\n",
       "      fill: #D2E3FC;\n",
       "    }\n",
       "\n",
       "    [theme=dark] .colab-df-convert:hover {\n",
       "      background-color: #434B5C;\n",
       "      box-shadow: 0px 1px 3px 1px rgba(0, 0, 0, 0.15);\n",
       "      filter: drop-shadow(0px 1px 2px rgba(0, 0, 0, 0.3));\n",
       "      fill: #FFFFFF;\n",
       "    }\n",
       "  </style>\n",
       "\n",
       "      <script>\n",
       "        const buttonEl =\n",
       "          document.querySelector('#df-334393b4-4f4a-4a78-8791-f06a5eea3240 button.colab-df-convert');\n",
       "        buttonEl.style.display =\n",
       "          google.colab.kernel.accessAllowed ? 'block' : 'none';\n",
       "\n",
       "        async function convertToInteractive(key) {\n",
       "          const element = document.querySelector('#df-334393b4-4f4a-4a78-8791-f06a5eea3240');\n",
       "          const dataTable =\n",
       "            await google.colab.kernel.invokeFunction('convertToInteractive',\n",
       "                                                     [key], {});\n",
       "          if (!dataTable) return;\n",
       "\n",
       "          const docLinkHtml = 'Like what you see? Visit the ' +\n",
       "            '<a target=\"_blank\" href=https://colab.research.google.com/notebooks/data_table.ipynb>data table notebook</a>'\n",
       "            + ' to learn more about interactive tables.';\n",
       "          element.innerHTML = '';\n",
       "          dataTable['output_type'] = 'display_data';\n",
       "          await google.colab.output.renderOutput(dataTable, element);\n",
       "          const docLink = document.createElement('div');\n",
       "          docLink.innerHTML = docLinkHtml;\n",
       "          element.appendChild(docLink);\n",
       "        }\n",
       "      </script>\n",
       "    </div>\n",
       "  </div>\n",
       "  "
      ],
      "text/plain": [
       "      domain_name      dga_family      domain  length   entropy  \\\n",
       "0  odqzesdvd.info  Super_family_2   odqzesdvd       9  2.641604   \n",
       "1  mcrwnxdzu.info  Super_family_2   mcrwnxdzu       9  3.169925   \n",
       "2  poxrscvfoy.biz  Super_family_2  poxrscvfoy      10  3.121928   \n",
       "3     dupzwi.info  Super_family_2      dupzwi       6  2.584963   \n",
       "4     pgldibr.com  Super_family_2     pgldibr       7  2.807355   \n",
       "\n",
       "   first_Digit_Index  H_entropy  vowel_consonant_ratio  vowel_character_ratio  \\\n",
       "0                  0   3.324863               0.444444               0.285714   \n",
       "1                  0   3.664498               0.300000               0.214286   \n",
       "2                  0   3.664498               0.300000               0.214286   \n",
       "3                  0   3.277613               0.666667               0.363636   \n",
       "4                  0   3.459432               0.250000               0.181818   \n",
       "\n",
       "   consonant_character_ratio  level_no  alexa_grams  words_grams  \n",
       "0                   0.642857         2     8.618689    10.200253  \n",
       "1                   0.714286         2     5.331953     4.442651  \n",
       "2                   0.714286         2     9.758886    11.231941  \n",
       "3                   0.545455         2     3.861893     7.928046  \n",
       "4                   0.727273         2    12.146719    20.785039  "
      ]
     },
     "execution_count": 11,
     "metadata": {},
     "output_type": "execute_result"
    }
   ],
   "source": [
    "Domain_data = pd.read_csv('/content/drive/My Drive/Colab Notebooks/Super_MLDOMAIN_MCLS2.csv')\n",
    "Domain_data.drop([\"Unnamed: 0\"], axis=1, inplace=True)\n",
    "Domain_data.head()"
   ]
  },
  {
   "cell_type": "code",
   "execution_count": null,
   "metadata": {
    "id": "stbrCz3E5o3n"
   },
   "outputs": [],
   "source": [
    "Domain_data.domain=Domain_data.domain.astype(str)"
   ]
  },
  {
   "cell_type": "code",
   "execution_count": null,
   "metadata": {
    "id": "yVroWJLw5o3n"
   },
   "outputs": [],
   "source": [
    "from sklearn.preprocessing import LabelEncoder\n",
    "X = Domain_data.domain\n",
    "Y = Domain_data['dga_family']"
   ]
  },
  {
   "cell_type": "code",
   "execution_count": null,
   "metadata": {
    "id": "FW6ySSPN5o3n"
   },
   "outputs": [],
   "source": [
    "from sklearn.preprocessing import LabelBinarizer\n",
    "Y = LabelBinarizer().fit_transform(Y)"
   ]
  },
  {
   "cell_type": "code",
   "execution_count": null,
   "metadata": {
    "id": "_CjmqWlr5o3n"
   },
   "outputs": [],
   "source": [
    "from keras.preprocessing.text import Tokenizer\n",
    "from keras.preprocessing import sequence\n",
    "from keras.models import Sequential\n",
    "\n",
    "#max_words = num_words\n",
    "max_len = 50\n",
    "\n",
    "# Tokenizer\n",
    "tok = Tokenizer(num_words=None, char_level=True, oov_token='UNK')\n",
    "tok.fit_on_texts(X)\n",
    "sequences = tok.texts_to_sequences(X)\n",
    "sequences_matrix = sequence.pad_sequences(sequences,padding='post',maxlen=max_len)"
   ]
  },
  {
   "cell_type": "code",
   "execution_count": null,
   "metadata": {
    "id": "VMjRWmyQ5o3o"
   },
   "outputs": [],
   "source": [
    "X_train, X_test, y_train, y_test = train_test_split(sequences_matrix, Y, test_size=0.20,random_state=42)"
   ]
  },
  {
   "cell_type": "code",
   "execution_count": null,
   "metadata": {
    "id": "aNzxqJ-b1tFb"
   },
   "outputs": [],
   "source": [
    "from imblearn.over_sampling import RandomOverSampler\n",
    "strategy = {2:166131,3:166131,4:249197, 5:166131} \n",
    "ovrsmt = RandomOverSampler(sampling_strategy=strategy)"
   ]
  },
  {
   "cell_type": "code",
   "execution_count": null,
   "metadata": {
    "id": "frzo-eCr1tFb"
   },
   "outputs": [],
   "source": [
    "from imblearn.under_sampling import RandomUnderSampler\n",
    "udrsmt = RandomUnderSampler(sampling_strategy={0:332262,1:581459})"
   ]
  },
  {
   "cell_type": "code",
   "execution_count": null,
   "metadata": {
    "id": "IBIrGhUn1tFc"
   },
   "outputs": [],
   "source": [
    "from imblearn.pipeline import Pipeline\n",
    "steps = [('o', ovrsmt), ('u', udrsmt)]\n",
    "pipeline = Pipeline(steps=steps)"
   ]
  },
  {
   "cell_type": "code",
   "execution_count": null,
   "metadata": {
    "id": "nedTlrur1tFc"
   },
   "outputs": [],
   "source": [
    "X_train, y_train = pipeline.fit_resample(X_train, y_train)"
   ]
  },
  {
   "cell_type": "code",
   "execution_count": null,
   "metadata": {
    "id": "BZILyL_p5o3p"
   },
   "outputs": [],
   "source": [
    "import pickle\n",
    "# save the model to disk\n",
    "filename = '/content/drive/My Drive/Colab Notebooks/SMX_train_sm.csv'\n",
    "pickle.dump(X_train, open(filename, 'wb'))"
   ]
  },
  {
   "cell_type": "code",
   "execution_count": null,
   "metadata": {
    "id": "YGAdzwOS5o3p"
   },
   "outputs": [],
   "source": [
    "filename = '/content/drive/My Drive/Colab Notebooks/SMX_test_sm.csv'\n",
    "pickle.dump(X_test, open(filename, 'wb'))\n"
   ]
  },
  {
   "cell_type": "code",
   "execution_count": null,
   "metadata": {
    "id": "_sh5CQHs5o3p"
   },
   "outputs": [],
   "source": [
    "filename = '/content/drive/My Drive/Colab Notebooks/SMy_train_sm.csv'\n",
    "pickle.dump(y_train, open(filename, 'wb'))"
   ]
  },
  {
   "cell_type": "code",
   "execution_count": null,
   "metadata": {
    "id": "RvuInXqM5o3p"
   },
   "outputs": [],
   "source": [
    "filename = '/content/drive/My Drive/Colab Notebooks/SMy_test_sm.csv'\n",
    "pickle.dump(y_test, open(filename, 'wb'))"
   ]
  },
  {
   "cell_type": "markdown",
   "metadata": {
    "id": "PEuMbnt2D0gv"
   },
   "source": [
    "## CNN"
   ]
  },
  {
   "cell_type": "code",
   "execution_count": null,
   "metadata": {
    "colab": {
     "base_uri": "https://localhost:8080/"
    },
    "id": "zpjQKLPhJUD9",
    "outputId": "9c158674-b5ac-461f-db14-38ad6024b820"
   },
   "outputs": [
    {
     "name": "stdout",
     "output_type": "stream",
     "text": [
      "Model: \"sequential_4\"\n",
      "_________________________________________________________________\n",
      " Layer (type)                Output Shape              Param #   \n",
      "=================================================================\n",
      " embedding_5 (Embedding)     (None, 50, 100)           7000      \n",
      "                                                                 \n",
      " conv1d_4 (Conv1D)           (None, 46, 128)           64128     \n",
      "                                                                 \n",
      " global_max_pooling1d (Globa  (None, 128)              0         \n",
      " lMaxPooling1D)                                                  \n",
      "                                                                 \n",
      " flatten (Flatten)           (None, 128)               0         \n",
      "                                                                 \n",
      " dense_8 (Dense)             (None, 250)               32250     \n",
      "                                                                 \n",
      " dense_9 (Dense)             (None, 57)                14307     \n",
      "                                                                 \n",
      "=================================================================\n",
      "Total params: 117,685\n",
      "Trainable params: 117,685\n",
      "Non-trainable params: 0\n",
      "_________________________________________________________________\n"
     ]
    }
   ],
   "source": [
    "from keras.models import Sequential\n",
    "from keras import layers \n",
    "\n",
    "embedding_dim = 100\n",
    "vocab_size=70\n",
    "textcnnmodel = Sequential()\n",
    "textcnnmodel.add(layers.Embedding(vocab_size, embedding_dim, input_length=max_len))\n",
    "textcnnmodel.add(layers.Conv1D(128, 5, activation='relu'))\n",
    "textcnnmodel.add(layers.GlobalMaxPooling1D())\n",
    "textcnnmodel.add(layers.Flatten())\n",
    "textcnnmodel.add(layers.Dense(250, activation='relu'))\n",
    "textcnnmodel.add(layers.Dense(Domain_data['label'].nunique(), activation='softmax'))\n",
    "textcnnmodel.compile(optimizer='adam',\n",
    "               loss='categorical_crossentropy',\n",
    "               metrics=['accuracy'])\n",
    "textcnnmodel.summary()"
   ]
  },
  {
   "cell_type": "code",
   "execution_count": null,
   "metadata": {
    "colab": {
     "base_uri": "https://localhost:8080/"
    },
    "id": "c_zDnnZYIOH2",
    "outputId": "71fa9060-12ea-4468-cc63-592f09b8bfc2"
   },
   "outputs": [
    {
     "name": "stdout",
     "output_type": "stream",
     "text": [
      "Epoch 1/20\n",
      "3518/3518 [==============================] - 65s 18ms/step - loss: 0.3076 - accuracy: 0.9257 - val_loss: 0.2223 - val_accuracy: 0.9453\n",
      "Epoch 2/20\n",
      "3518/3518 [==============================] - 66s 19ms/step - loss: 0.1986 - accuracy: 0.9510 - val_loss: 0.2028 - val_accuracy: 0.9502\n",
      "Epoch 3/20\n",
      "3518/3518 [==============================] - 62s 18ms/step - loss: 0.1854 - accuracy: 0.9535 - val_loss: 0.1962 - val_accuracy: 0.9518\n",
      "Epoch 4/20\n",
      "3518/3518 [==============================] - 63s 18ms/step - loss: 0.1779 - accuracy: 0.9549 - val_loss: 0.1902 - val_accuracy: 0.9510\n",
      "Epoch 5/20\n",
      "3518/3518 [==============================] - 63s 18ms/step - loss: 0.1728 - accuracy: 0.9558 - val_loss: 0.1779 - val_accuracy: 0.9547\n",
      "Epoch 6/20\n",
      "3518/3518 [==============================] - 66s 19ms/step - loss: 0.1692 - accuracy: 0.9566 - val_loss: 0.1790 - val_accuracy: 0.9548\n",
      "Epoch 7/20\n",
      "3518/3518 [==============================] - 63s 18ms/step - loss: 0.1660 - accuracy: 0.9571 - val_loss: 0.1795 - val_accuracy: 0.9544\n",
      "Epoch 8/20\n",
      "3518/3518 [==============================] - 66s 19ms/step - loss: 0.1636 - accuracy: 0.9575 - val_loss: 0.2059 - val_accuracy: 0.9499\n",
      "Epoch 9/20\n",
      "3518/3518 [==============================] - 66s 19ms/step - loss: 0.1611 - accuracy: 0.9581 - val_loss: 0.1747 - val_accuracy: 0.9562\n",
      "Epoch 10/20\n",
      "3518/3518 [==============================] - 66s 19ms/step - loss: 0.1594 - accuracy: 0.9584 - val_loss: 0.1698 - val_accuracy: 0.9563\n",
      "Epoch 11/20\n",
      "3518/3518 [==============================] - 66s 19ms/step - loss: 0.1578 - accuracy: 0.9587 - val_loss: 0.1715 - val_accuracy: 0.9565\n",
      "Epoch 12/20\n",
      "3518/3518 [==============================] - 63s 18ms/step - loss: 0.1561 - accuracy: 0.9590 - val_loss: 0.1714 - val_accuracy: 0.9568\n",
      "Epoch 13/20\n",
      "3518/3518 [==============================] - 66s 19ms/step - loss: 0.1548 - accuracy: 0.9593 - val_loss: 0.1731 - val_accuracy: 0.9564\n",
      "Epoch 14/20\n",
      "3518/3518 [==============================] - 63s 18ms/step - loss: 0.1535 - accuracy: 0.9595 - val_loss: 0.1722 - val_accuracy: 0.9562\n",
      "Epoch 15/20\n",
      "3518/3518 [==============================] - 65s 19ms/step - loss: 0.1520 - accuracy: 0.9598 - val_loss: 0.1688 - val_accuracy: 0.9569\n",
      "Epoch 16/20\n",
      "3518/3518 [==============================] - 63s 18ms/step - loss: 0.1509 - accuracy: 0.9599 - val_loss: 0.1682 - val_accuracy: 0.9572\n",
      "Epoch 17/20\n",
      "3518/3518 [==============================] - 65s 19ms/step - loss: 0.1494 - accuracy: 0.9603 - val_loss: 0.1714 - val_accuracy: 0.9568\n",
      "Epoch 18/20\n",
      "3518/3518 [==============================] - 65s 19ms/step - loss: 0.1477 - accuracy: 0.9605 - val_loss: 0.1708 - val_accuracy: 0.9572\n",
      "Epoch 19/20\n",
      "3518/3518 [==============================] - 63s 18ms/step - loss: 0.1463 - accuracy: 0.9608 - val_loss: 0.1696 - val_accuracy: 0.9571\n",
      "Epoch 20/20\n",
      "3518/3518 [==============================] - 65s 19ms/step - loss: 0.1439 - accuracy: 0.9612 - val_loss: 0.1640 - val_accuracy: 0.9583\n"
     ]
    },
    {
     "data": {
      "text/plain": [
       "<keras.callbacks.History at 0x7fbf94c59410>"
      ]
     },
     "execution_count": 60,
     "metadata": {},
     "output_type": "execute_result"
    }
   ],
   "source": [
    "history=textcnnmodel.fit(X_train,y_train,\n",
    "                     epochs=20,\n",
    "                     verbose=True,\n",
    "                     validation_data=(X_test, y_test),\n",
    "                     batch_size=500)"
   ]
  },
  {
   "cell_type": "code",
   "execution_count": null,
   "metadata": {
    "colab": {
     "base_uri": "https://localhost:8080/"
    },
    "id": "SHo4KKwbIO8j",
    "outputId": "c50d7f59-c942-4b6f-d980-1054b2ff7ef6"
   },
   "outputs": [
    {
     "name": "stdout",
     "output_type": "stream",
     "text": [
      "Training Accuracy: 0.9629\n",
      "Testing Accuracy:  0.9583\n"
     ]
    }
   ],
   "source": [
    "loss, accuracy = textcnnmodel.evaluate(X_train, y_train, verbose=False)\n",
    "print(\"Training Accuracy: {:.4f}\".format(accuracy))\n",
    "loss, accuracy = textcnnmodel.evaluate(X_test, y_test, verbose=False)\n",
    "print(\"Testing Accuracy:  {:.4f}\".format(accuracy))"
   ]
  },
  {
   "cell_type": "markdown",
   "metadata": {
    "id": "Hgx-A1UoSPz1"
   },
   "source": [
    "## LSTM"
   ]
  },
  {
   "cell_type": "code",
   "execution_count": null,
   "metadata": {
    "id": "P-gCZIwlSPz2"
   },
   "outputs": [],
   "source": [
    "from tensorflow.keras.optimizers import RMSprop\n",
    "from keras.layers import LSTM, Activation, Dense, Dropout, Input, Conv1D, Embedding, Flatten\n",
    "def RNN_model():\n",
    "    inputs = Input(name='inputs',shape=[max_len])\n",
    "    layer = Embedding(input_dim = max_len + 1,output_dim = 32,input_length=max_len)(inputs)\n",
    "    layer = LSTM(32)(layer)\n",
    "    layer = Flatten()(layer)\n",
    "\n",
    "    layer = Dense(256,name='FC1')(layer)\n",
    "    layer = Activation('relu')(layer)\n",
    "    layer = Dropout(0.5)(layer)\n",
    "\n",
    "    layer = Dense(Domain_data['dga_family'].nunique(),name='out_layer')(layer)\n",
    "    layer = Activation('softmax')(layer)\n",
    "    model = Model(inputs=inputs,outputs=layer)\n",
    "    return model"
   ]
  },
  {
   "cell_type": "code",
   "execution_count": null,
   "metadata": {
    "colab": {
     "base_uri": "https://localhost:8080/"
    },
    "id": "LfQmnIBMSPz3",
    "outputId": "a87b7b84-4205-4f8b-8d7b-f1f70c62459c"
   },
   "outputs": [
    {
     "name": "stdout",
     "output_type": "stream",
     "text": [
      "Model: \"model_4\"\n",
      "_________________________________________________________________\n",
      " Layer (type)                Output Shape              Param #   \n",
      "=================================================================\n",
      " inputs (InputLayer)         [(None, 50)]              0         \n",
      "                                                                 \n",
      " embedding_4 (Embedding)     (None, 50, 32)            1632      \n",
      "                                                                 \n",
      " lstm_4 (LSTM)               (None, 32)                8320      \n",
      "                                                                 \n",
      " flatten_4 (Flatten)         (None, 32)                0         \n",
      "                                                                 \n",
      " FC1 (Dense)                 (None, 256)               8448      \n",
      "                                                                 \n",
      " activation_8 (Activation)   (None, 256)               0         \n",
      "                                                                 \n",
      " dropout_4 (Dropout)         (None, 256)               0         \n",
      "                                                                 \n",
      " out_layer (Dense)           (None, 6)                 1542      \n",
      "                                                                 \n",
      " activation_9 (Activation)   (None, 6)                 0         \n",
      "                                                                 \n",
      "=================================================================\n",
      "Total params: 19,942\n",
      "Trainable params: 19,942\n",
      "Non-trainable params: 0\n",
      "_________________________________________________________________\n"
     ]
    }
   ],
   "source": [
    "from tensorflow.keras.models import Sequential, Model\n",
    "model = RNN_model()\n",
    "model.summary()\n",
    "model.compile(loss='categorical_crossentropy',optimizer='adam',metrics=['acc'])"
   ]
  },
  {
   "cell_type": "code",
   "execution_count": null,
   "metadata": {
    "colab": {
     "base_uri": "https://localhost:8080/"
    },
    "id": "EkOB-WSDSPz3",
    "outputId": "bbc27380-3cb6-4389-9aa8-e75f84b25da2"
   },
   "outputs": [
    {
     "name": "stdout",
     "output_type": "stream",
     "text": [
      "Epoch 1/100\n",
      "1662/1662 [==============================] - 16s 8ms/step - loss: 0.4798 - acc: 0.8059 - val_loss: 0.2890 - val_acc: 0.8876\n",
      "Epoch 2/100\n",
      "1662/1662 [==============================] - 14s 9ms/step - loss: 0.2718 - acc: 0.8819 - val_loss: 0.2776 - val_acc: 0.8786\n",
      "Epoch 3/100\n",
      "1662/1662 [==============================] - 13s 8ms/step - loss: 0.2505 - acc: 0.8913 - val_loss: 0.2424 - val_acc: 0.8881\n",
      "Epoch 4/100\n",
      "1662/1662 [==============================] - 13s 8ms/step - loss: 0.2160 - acc: 0.9092 - val_loss: 0.2361 - val_acc: 0.8935\n",
      "Epoch 5/100\n",
      "1662/1662 [==============================] - 13s 8ms/step - loss: 0.1968 - acc: 0.9213 - val_loss: 0.1905 - val_acc: 0.9251\n",
      "Epoch 6/100\n",
      "1662/1662 [==============================] - 13s 8ms/step - loss: 0.1732 - acc: 0.9318 - val_loss: 0.1602 - val_acc: 0.9396\n",
      "Epoch 7/100\n",
      "1662/1662 [==============================] - 13s 8ms/step - loss: 0.1620 - acc: 0.9373 - val_loss: 0.1631 - val_acc: 0.9359\n",
      "Epoch 8/100\n",
      "1662/1662 [==============================] - 13s 8ms/step - loss: 0.1460 - acc: 0.9442 - val_loss: 0.2133 - val_acc: 0.9109\n",
      "Epoch 9/100\n",
      "1662/1662 [==============================] - 13s 8ms/step - loss: 0.1371 - acc: 0.9484 - val_loss: 0.2186 - val_acc: 0.9125\n",
      "Epoch 10/100\n",
      "1662/1662 [==============================] - 14s 9ms/step - loss: 0.1239 - acc: 0.9537 - val_loss: 0.1356 - val_acc: 0.9484\n",
      "Epoch 11/100\n",
      "1662/1662 [==============================] - 14s 9ms/step - loss: 0.1149 - acc: 0.9575 - val_loss: 0.1200 - val_acc: 0.9542\n",
      "Epoch 12/100\n",
      "1662/1662 [==============================] - 13s 8ms/step - loss: 0.1070 - acc: 0.9608 - val_loss: 0.1504 - val_acc: 0.9412\n",
      "Epoch 13/100\n",
      "1662/1662 [==============================] - 13s 8ms/step - loss: 0.1004 - acc: 0.9635 - val_loss: 0.1033 - val_acc: 0.9633\n",
      "Epoch 14/100\n",
      "1662/1662 [==============================] - 13s 8ms/step - loss: 0.0934 - acc: 0.9663 - val_loss: 0.0950 - val_acc: 0.9653\n",
      "Epoch 15/100\n",
      "1662/1662 [==============================] - 13s 8ms/step - loss: 0.0891 - acc: 0.9680 - val_loss: 0.1049 - val_acc: 0.9591\n",
      "Epoch 16/100\n",
      "1662/1662 [==============================] - 13s 8ms/step - loss: 0.0834 - acc: 0.9703 - val_loss: 0.0900 - val_acc: 0.9668\n",
      "Epoch 17/100\n",
      "1662/1662 [==============================] - 13s 8ms/step - loss: 0.0804 - acc: 0.9717 - val_loss: 0.0936 - val_acc: 0.9652\n",
      "Epoch 18/100\n",
      "1662/1662 [==============================] - 14s 8ms/step - loss: 0.0877 - acc: 0.9691 - val_loss: 0.0977 - val_acc: 0.9639\n",
      "Epoch 19/100\n",
      "1662/1662 [==============================] - 13s 8ms/step - loss: 0.0737 - acc: 0.9739 - val_loss: 0.1136 - val_acc: 0.9564\n",
      "Epoch 20/100\n",
      "1662/1662 [==============================] - 13s 8ms/step - loss: 0.0708 - acc: 0.9749 - val_loss: 0.0836 - val_acc: 0.9702\n",
      "Epoch 21/100\n",
      "1662/1662 [==============================] - 13s 8ms/step - loss: 0.0713 - acc: 0.9754 - val_loss: 0.0832 - val_acc: 0.9708\n",
      "Epoch 22/100\n",
      "1662/1662 [==============================] - 13s 8ms/step - loss: 0.0673 - acc: 0.9765 - val_loss: 0.0769 - val_acc: 0.9713\n",
      "Epoch 23/100\n",
      "1662/1662 [==============================] - 13s 8ms/step - loss: 0.0640 - acc: 0.9779 - val_loss: 0.0882 - val_acc: 0.9684\n",
      "Epoch 24/100\n",
      "1662/1662 [==============================] - 15s 9ms/step - loss: 0.0631 - acc: 0.9784 - val_loss: 0.0765 - val_acc: 0.9718\n",
      "Epoch 25/100\n",
      "1662/1662 [==============================] - 13s 8ms/step - loss: 0.0630 - acc: 0.9784 - val_loss: 0.0919 - val_acc: 0.9659\n",
      "Epoch 26/100\n",
      "1662/1662 [==============================] - 14s 8ms/step - loss: 0.0583 - acc: 0.9800 - val_loss: 0.0670 - val_acc: 0.9759\n",
      "Epoch 27/100\n",
      "1662/1662 [==============================] - 13s 8ms/step - loss: 0.0588 - acc: 0.9799 - val_loss: 0.0849 - val_acc: 0.9689\n",
      "Epoch 28/100\n",
      "1662/1662 [==============================] - 13s 8ms/step - loss: 0.0556 - acc: 0.9812 - val_loss: 0.0785 - val_acc: 0.9719\n",
      "Epoch 29/100\n",
      "1662/1662 [==============================] - 13s 8ms/step - loss: 0.0542 - acc: 0.9816 - val_loss: 0.0686 - val_acc: 0.9757\n",
      "Epoch 30/100\n",
      "1662/1662 [==============================] - 13s 8ms/step - loss: 0.0533 - acc: 0.9819 - val_loss: 0.0664 - val_acc: 0.9778\n",
      "Epoch 31/100\n",
      "1662/1662 [==============================] - 14s 9ms/step - loss: 0.0624 - acc: 0.9791 - val_loss: 0.0837 - val_acc: 0.9695\n",
      "Epoch 32/100\n",
      "1662/1662 [==============================] - 13s 8ms/step - loss: 0.0539 - acc: 0.9820 - val_loss: 0.0722 - val_acc: 0.9744\n",
      "Epoch 33/100\n",
      "1662/1662 [==============================] - 14s 9ms/step - loss: 0.0501 - acc: 0.9833 - val_loss: 0.0671 - val_acc: 0.9761\n",
      "Epoch 34/100\n",
      "1662/1662 [==============================] - 13s 8ms/step - loss: 0.0601 - acc: 0.9801 - val_loss: 0.0661 - val_acc: 0.9771\n",
      "Epoch 35/100\n",
      "1662/1662 [==============================] - 14s 9ms/step - loss: 0.0488 - acc: 0.9839 - val_loss: 0.0610 - val_acc: 0.9792\n",
      "Epoch 36/100\n",
      "1662/1662 [==============================] - 13s 8ms/step - loss: 0.0488 - acc: 0.9839 - val_loss: 0.0710 - val_acc: 0.9755\n",
      "Epoch 37/100\n",
      "1662/1662 [==============================] - 13s 8ms/step - loss: 0.0485 - acc: 0.9839 - val_loss: 0.0650 - val_acc: 0.9778\n",
      "Epoch 38/100\n",
      "1662/1662 [==============================] - 13s 8ms/step - loss: 0.0468 - acc: 0.9846 - val_loss: 0.0654 - val_acc: 0.9773\n",
      "Epoch 39/100\n",
      "1662/1662 [==============================] - 13s 8ms/step - loss: 0.0465 - acc: 0.9847 - val_loss: 0.0689 - val_acc: 0.9756\n",
      "Epoch 40/100\n",
      "1662/1662 [==============================] - 13s 8ms/step - loss: 0.0469 - acc: 0.9847 - val_loss: 0.0670 - val_acc: 0.9774\n",
      "Epoch 41/100\n",
      "1662/1662 [==============================] - 14s 9ms/step - loss: 0.0443 - acc: 0.9856 - val_loss: 0.0638 - val_acc: 0.9785\n",
      "Epoch 42/100\n",
      "1662/1662 [==============================] - 13s 8ms/step - loss: 0.0472 - acc: 0.9846 - val_loss: 0.0621 - val_acc: 0.9789\n",
      "Epoch 43/100\n",
      "1662/1662 [==============================] - 14s 9ms/step - loss: 0.0432 - acc: 0.9860 - val_loss: 0.0588 - val_acc: 0.9797\n",
      "Epoch 44/100\n",
      "1662/1662 [==============================] - 13s 8ms/step - loss: 0.0462 - acc: 0.9851 - val_loss: 0.0628 - val_acc: 0.9787\n",
      "Epoch 45/100\n",
      "1662/1662 [==============================] - 13s 8ms/step - loss: 0.0419 - acc: 0.9864 - val_loss: 0.0632 - val_acc: 0.9792\n",
      "Epoch 46/100\n",
      "1662/1662 [==============================] - 13s 8ms/step - loss: 0.0457 - acc: 0.9854 - val_loss: 0.0849 - val_acc: 0.9693\n",
      "Epoch 47/100\n",
      "1662/1662 [==============================] - 15s 9ms/step - loss: 0.0480 - acc: 0.9845 - val_loss: 0.0622 - val_acc: 0.9791\n",
      "Epoch 48/100\n",
      "1662/1662 [==============================] - 15s 9ms/step - loss: 0.0403 - acc: 0.9870 - val_loss: 0.0584 - val_acc: 0.9808\n",
      "Epoch 49/100\n",
      "1662/1662 [==============================] - 14s 9ms/step - loss: 0.0402 - acc: 0.9871 - val_loss: 0.0628 - val_acc: 0.9795\n",
      "Epoch 50/100\n",
      "1662/1662 [==============================] - 14s 9ms/step - loss: 0.0406 - acc: 0.9869 - val_loss: 0.0604 - val_acc: 0.9804\n",
      "Epoch 51/100\n",
      "1662/1662 [==============================] - 13s 8ms/step - loss: 0.0401 - acc: 0.9871 - val_loss: 0.0680 - val_acc: 0.9790\n",
      "Epoch 52/100\n",
      "1662/1662 [==============================] - 13s 8ms/step - loss: 0.0423 - acc: 0.9864 - val_loss: 0.0617 - val_acc: 0.9795\n",
      "Epoch 53/100\n",
      "1662/1662 [==============================] - 13s 8ms/step - loss: 0.0393 - acc: 0.9873 - val_loss: 0.0593 - val_acc: 0.9809\n",
      "Epoch 54/100\n",
      "1662/1662 [==============================] - 13s 8ms/step - loss: 0.0389 - acc: 0.9875 - val_loss: 0.0616 - val_acc: 0.9802\n",
      "Epoch 55/100\n",
      "1662/1662 [==============================] - 13s 8ms/step - loss: 0.0382 - acc: 0.9876 - val_loss: 0.0562 - val_acc: 0.9815\n",
      "Epoch 56/100\n",
      "1662/1662 [==============================] - 14s 9ms/step - loss: 0.0381 - acc: 0.9877 - val_loss: 0.0579 - val_acc: 0.9810\n",
      "Epoch 57/100\n",
      "1662/1662 [==============================] - 15s 9ms/step - loss: 0.0377 - acc: 0.9880 - val_loss: 0.0657 - val_acc: 0.9796\n",
      "Epoch 58/100\n",
      "1662/1662 [==============================] - 15s 9ms/step - loss: 0.0369 - acc: 0.9881 - val_loss: 0.0570 - val_acc: 0.9813\n",
      "Epoch 59/100\n",
      "1662/1662 [==============================] - 13s 8ms/step - loss: 0.0369 - acc: 0.9881 - val_loss: 0.0552 - val_acc: 0.9820\n",
      "Epoch 60/100\n",
      "1662/1662 [==============================] - 13s 8ms/step - loss: 0.0363 - acc: 0.9883 - val_loss: 0.0623 - val_acc: 0.9802\n",
      "Epoch 61/100\n",
      "1662/1662 [==============================] - 13s 8ms/step - loss: 0.0376 - acc: 0.9879 - val_loss: 0.0586 - val_acc: 0.9811\n",
      "Epoch 62/100\n",
      "1662/1662 [==============================] - 13s 8ms/step - loss: 0.0357 - acc: 0.9886 - val_loss: 0.0572 - val_acc: 0.9816\n",
      "Epoch 63/100\n",
      "1662/1662 [==============================] - 16s 9ms/step - loss: 0.0386 - acc: 0.9882 - val_loss: 0.0584 - val_acc: 0.9814\n",
      "Epoch 64/100\n",
      "1662/1662 [==============================] - 13s 8ms/step - loss: 0.0353 - acc: 0.9886 - val_loss: 0.0534 - val_acc: 0.9826\n",
      "Epoch 65/100\n",
      "1662/1662 [==============================] - 13s 8ms/step - loss: 0.0351 - acc: 0.9887 - val_loss: 0.0583 - val_acc: 0.9813\n",
      "Epoch 66/100\n",
      "1662/1662 [==============================] - 13s 8ms/step - loss: 0.0347 - acc: 0.9889 - val_loss: 0.0607 - val_acc: 0.9803\n",
      "Epoch 67/100\n",
      "1662/1662 [==============================] - 13s 8ms/step - loss: 0.0346 - acc: 0.9889 - val_loss: 0.0523 - val_acc: 0.9834\n",
      "Epoch 68/100\n",
      "1662/1662 [==============================] - 13s 8ms/step - loss: 0.0341 - acc: 0.9890 - val_loss: 0.0574 - val_acc: 0.9821\n",
      "Epoch 69/100\n",
      "1662/1662 [==============================] - 13s 8ms/step - loss: 0.0358 - acc: 0.9885 - val_loss: 0.0548 - val_acc: 0.9825\n",
      "Epoch 70/100\n",
      "1662/1662 [==============================] - 13s 8ms/step - loss: 0.0336 - acc: 0.9891 - val_loss: 0.0599 - val_acc: 0.9805\n",
      "Epoch 71/100\n",
      "1662/1662 [==============================] - 14s 8ms/step - loss: 0.0366 - acc: 0.9881 - val_loss: 0.0539 - val_acc: 0.9827\n",
      "Epoch 72/100\n",
      "1662/1662 [==============================] - 13s 8ms/step - loss: 0.0333 - acc: 0.9893 - val_loss: 0.0570 - val_acc: 0.9823\n",
      "Epoch 73/100\n",
      "1662/1662 [==============================] - 13s 8ms/step - loss: 0.0329 - acc: 0.9894 - val_loss: 0.0530 - val_acc: 0.9834\n",
      "Epoch 74/100\n",
      "1662/1662 [==============================] - 13s 8ms/step - loss: 0.0330 - acc: 0.9894 - val_loss: 0.0553 - val_acc: 0.9823\n",
      "Epoch 75/100\n",
      "1662/1662 [==============================] - 13s 8ms/step - loss: 0.0326 - acc: 0.9896 - val_loss: 0.0548 - val_acc: 0.9829\n",
      "Epoch 76/100\n",
      "1662/1662 [==============================] - 13s 8ms/step - loss: 0.0330 - acc: 0.9895 - val_loss: 0.0593 - val_acc: 0.9808\n",
      "Epoch 77/100\n",
      "1662/1662 [==============================] - 14s 9ms/step - loss: 0.0331 - acc: 0.9894 - val_loss: 0.0544 - val_acc: 0.9829\n",
      "Epoch 78/100\n",
      "1662/1662 [==============================] - 14s 9ms/step - loss: 0.0321 - acc: 0.9897 - val_loss: 0.0550 - val_acc: 0.9823\n",
      "Epoch 79/100\n",
      "1662/1662 [==============================] - 14s 9ms/step - loss: 0.0320 - acc: 0.9897 - val_loss: 0.0556 - val_acc: 0.9827\n",
      "Epoch 80/100\n",
      "1662/1662 [==============================] - 13s 8ms/step - loss: 0.0317 - acc: 0.9898 - val_loss: 0.0534 - val_acc: 0.9832\n",
      "Epoch 81/100\n",
      "1662/1662 [==============================] - 13s 8ms/step - loss: 0.0317 - acc: 0.9899 - val_loss: 0.0544 - val_acc: 0.9826\n",
      "Epoch 82/100\n",
      "1662/1662 [==============================] - 13s 8ms/step - loss: 0.0315 - acc: 0.9900 - val_loss: 0.0559 - val_acc: 0.9822\n",
      "Epoch 83/100\n",
      "1662/1662 [==============================] - 13s 8ms/step - loss: 0.0310 - acc: 0.9901 - val_loss: 0.0537 - val_acc: 0.9830\n",
      "Epoch 84/100\n",
      "1662/1662 [==============================] - 14s 9ms/step - loss: 0.0308 - acc: 0.9902 - val_loss: 0.0546 - val_acc: 0.9827\n",
      "Epoch 85/100\n",
      "1662/1662 [==============================] - 13s 8ms/step - loss: 0.0323 - acc: 0.9897 - val_loss: 0.0543 - val_acc: 0.9831\n",
      "Epoch 86/100\n",
      "1662/1662 [==============================] - 14s 9ms/step - loss: 0.0304 - acc: 0.9902 - val_loss: 0.0535 - val_acc: 0.9833\n",
      "Epoch 87/100\n",
      "1662/1662 [==============================] - 15s 9ms/step - loss: 0.0325 - acc: 0.9897 - val_loss: 0.0515 - val_acc: 0.9839\n",
      "Epoch 88/100\n",
      "1662/1662 [==============================] - 13s 8ms/step - loss: 0.0297 - acc: 0.9905 - val_loss: 0.0575 - val_acc: 0.9817\n",
      "Epoch 89/100\n",
      "1662/1662 [==============================] - 14s 9ms/step - loss: 0.0299 - acc: 0.9904 - val_loss: 0.0531 - val_acc: 0.9833\n",
      "Epoch 90/100\n",
      "1662/1662 [==============================] - 13s 8ms/step - loss: 0.0300 - acc: 0.9904 - val_loss: 0.0532 - val_acc: 0.9833\n",
      "Epoch 91/100\n",
      "1662/1662 [==============================] - 13s 8ms/step - loss: 0.0316 - acc: 0.9899 - val_loss: 0.0548 - val_acc: 0.9830\n",
      "Epoch 92/100\n",
      "1662/1662 [==============================] - 14s 8ms/step - loss: 0.0302 - acc: 0.9904 - val_loss: 0.0525 - val_acc: 0.9838\n",
      "Epoch 93/100\n",
      "1662/1662 [==============================] - 14s 9ms/step - loss: 0.0302 - acc: 0.9903 - val_loss: 0.0533 - val_acc: 0.9830\n",
      "Epoch 94/100\n",
      "1662/1662 [==============================] - 13s 8ms/step - loss: 0.0298 - acc: 0.9904 - val_loss: 0.0525 - val_acc: 0.9835\n",
      "Epoch 95/100\n",
      "1662/1662 [==============================] - 15s 9ms/step - loss: 0.0302 - acc: 0.9902 - val_loss: 0.0510 - val_acc: 0.9838\n",
      "Epoch 96/100\n",
      "1662/1662 [==============================] - 14s 8ms/step - loss: 0.0294 - acc: 0.9906 - val_loss: 0.0533 - val_acc: 0.9828\n",
      "Epoch 97/100\n",
      "1662/1662 [==============================] - 14s 8ms/step - loss: 0.0294 - acc: 0.9905 - val_loss: 0.0515 - val_acc: 0.9835\n",
      "Epoch 98/100\n",
      "1662/1662 [==============================] - 13s 8ms/step - loss: 0.0298 - acc: 0.9904 - val_loss: 0.0599 - val_acc: 0.9818\n",
      "Epoch 99/100\n",
      "1662/1662 [==============================] - 13s 8ms/step - loss: 0.0301 - acc: 0.9903 - val_loss: 0.0512 - val_acc: 0.9843\n",
      "Epoch 100/100\n",
      "1662/1662 [==============================] - 14s 9ms/step - loss: 0.0294 - acc: 0.9906 - val_loss: 0.0498 - val_acc: 0.9844\n",
      "LSTM multiclass Training finished in 1360.3365609645844 milisecond!!\n",
      "\n"
     ]
    }
   ],
   "source": [
    "import time\n",
    "start=time.time()\n",
    "history=model.fit(X_train,y_train,batch_size=1000,epochs=100,\n",
    "          validation_data=(X_test, y_test))\n",
    "end=time.time()\n",
    "print('LSTM multiclass Training finished in {} milisecond!!\\n'.format(end-start))"
   ]
  },
  {
   "cell_type": "code",
   "execution_count": null,
   "metadata": {
    "colab": {
     "base_uri": "https://localhost:8080/"
    },
    "id": "bAZbITytSPz4",
    "outputId": "a2aceca1-a226-46ef-a36f-4b92e71de9b5"
   },
   "outputs": [
    {
     "name": "stdout",
     "output_type": "stream",
     "text": [
      "12979/12979 [==============================] - 45s 3ms/step - loss: 0.0498 - acc: 0.9844\n",
      "LSTM multiclass Testing finished in 45.508588552474976 milisecond!!\n",
      "\n",
      "Accuracy on test set: [0.04975096881389618, 0.9843665957450867]\n",
      "Test loss: 0.04975096881389618\n",
      "Test accuracy: 0.9843665957450867\n"
     ]
    }
   ],
   "source": [
    "start=time.time()\n",
    "results = model.evaluate(X_test, y_test)\n",
    "end=time.time()\n",
    "print('LSTM multiclass Testing finished in {} milisecond!!\\n'.format(end-start))\n",
    "print (\"Accuracy on test set:\" , results)\n",
    "print('Test loss:', results[0])\n",
    "print('Test accuracy:', results[1])"
   ]
  },
  {
   "cell_type": "code",
   "execution_count": null,
   "metadata": {
    "colab": {
     "base_uri": "https://localhost:8080/"
    },
    "id": "1kfLtyfRSPz4",
    "outputId": "2545a6e6-89a2-4a6b-c275-de4ac23de221"
   },
   "outputs": [
    {
     "name": "stdout",
     "output_type": "stream",
     "text": [
      "12979/12979 [==============================] - 47s 4ms/step - loss: 0.0498 - acc: 0.9844\n",
      "Test set\n",
      "   Accuracy: 0.984\n"
     ]
    }
   ],
   "source": [
    "y_pred1 = model.predict(X_test)\n",
    "y_pred1=(y_pred1 > 0.5)\n",
    "accr = model.evaluate(X_test,y_test)\n",
    "rnn_acc=accr[1]\n",
    "print('Test set\\n   Accuracy: {:0.3f}'.format(accr[1]))\n",
    "\n"
   ]
  },
  {
   "cell_type": "code",
   "execution_count": null,
   "metadata": {
    "colab": {
     "base_uri": "https://localhost:8080/"
    },
    "id": "MDkiyqBRSPz5",
    "outputId": "c6752882-5b61-4a24-e6fd-a9baa85f8799"
   },
   "outputs": [
    {
     "name": "stdout",
     "output_type": "stream",
     "text": [
      "\n",
      "\n",
      "Precision, Recall, F1\n",
      "\n",
      "\n",
      "              precision    recall  f1-score   support\n",
      "\n",
      "           0       0.97      0.98      0.98    122348\n",
      "           1       0.99      0.99      0.99    250598\n",
      "           2       0.99      0.99      0.99     40114\n",
      "           3       0.91      0.99      0.95       257\n",
      "           4       0.67      0.88      0.76      1983\n",
      "           5       1.00      1.00      1.00        28\n",
      "\n",
      "   micro avg       0.98      0.98      0.98    415328\n",
      "   macro avg       0.92      0.97      0.94    415328\n",
      "weighted avg       0.98      0.98      0.98    415328\n",
      " samples avg       0.98      0.98      0.98    415328\n",
      "\n",
      "\n",
      "\n"
     ]
    },
    {
     "name": "stderr",
     "output_type": "stream",
     "text": [
      "/usr/local/lib/python3.7/dist-packages/sklearn/metrics/_classification.py:1318: UndefinedMetricWarning: Precision and F-score are ill-defined and being set to 0.0 in samples with no predicted labels. Use `zero_division` parameter to control this behavior.\n",
      "  _warn_prf(average, modifier, msg_start, len(result))\n"
     ]
    }
   ],
   "source": [
    "from sklearn.metrics import classification_report, confusion_matrix\n",
    "print('\\n')\n",
    "print(\"Precision, Recall, F1\")\n",
    "print('\\n')\n",
    "CR=classification_report(y_test, y_pred1)\n",
    "print(CR)\n",
    "print('\\n')"
   ]
  },
  {
   "cell_type": "code",
   "execution_count": null,
   "metadata": {
    "colab": {
     "base_uri": "https://localhost:8080/",
     "height": 573
    },
    "id": "5XLp_m9ASPz5",
    "outputId": "936fda81-676f-417f-e006-52504df54022"
   },
   "outputs": [
    {
     "data": {
      "image/png": "[encoded data removed]",
      "text/plain": [
       "<Figure size 432x288 with 1 Axes>"
      ]
     },
     "metadata": {
      "needs_background": "light"
     },
     "output_type": "display_data"
    },
    {
     "data": {
      "image/png": "[encoded data removed]",
      "text/plain": [
       "<Figure size 432x288 with 1 Axes>"
      ]
     },
     "metadata": {
      "needs_background": "light"
     },
     "output_type": "display_data"
    }
   ],
   "source": [
    "def Training_and_validation_plot(history):\n",
    "    acc = history.history['acc']\n",
    "    val_acc = history.history['val_acc']\n",
    "    loss = history.history['loss']\n",
    "    val_loss = history.history['val_loss']\n",
    "    epochs = range(1, len(acc) + 1)\n",
    "\n",
    "    plt.plot(epochs, acc, 'bo', label = 'Training Accuracy')\n",
    "    plt.plot(epochs, val_acc, 'r', label = 'Validation Accuracy')\n",
    "    plt.title('Training and Validation Accuracy')\n",
    "    plt.xlabel('Epochs')\n",
    "    plt.ylabel('Loss')\n",
    "    plt.legend()\n",
    "\n",
    "    plt.figure()\n",
    "    plt.plot(epochs, loss, 'bo', label = 'Training Loss')\n",
    "    plt.plot(epochs, val_loss, 'r', label = 'Validation Loss')\n",
    "    plt.title('Training and Validation Loss')\n",
    "    plt.xlabel('Epochs')\n",
    "    plt.ylabel('Loss')\n",
    "    plt.legend()\n",
    "    plt.show()\n",
    "Training_and_validation_plot(history)"
   ]
  },
  {
   "cell_type": "code",
   "execution_count": null,
   "metadata": {
    "colab": {
     "base_uri": "https://localhost:8080/"
    },
    "id": "x3PJtd4XSPz6",
    "outputId": "9da1d184-5dd0-4ebe-f873-7b66f149d337"
   },
   "outputs": [
    {
     "name": "stderr",
     "output_type": "stream",
     "text": [
      "WARNING:absl:Found untraced functions such as lstm_cell_4_layer_call_fn, lstm_cell_4_layer_call_and_return_conditional_losses while saving (showing 2 of 2). These functions will not be directly callable after loading.\n"
     ]
    },
    {
     "name": "stdout",
     "output_type": "stream",
     "text": [
      "INFO:tensorflow:Assets written to: ram://b8a8225c-f17d-4b81-955d-8743f36846c1/assets\n"
     ]
    },
    {
     "name": "stderr",
     "output_type": "stream",
     "text": [
      "INFO:tensorflow:Assets written to: ram://b8a8225c-f17d-4b81-955d-8743f36846c1/assets\n",
      "WARNING:absl:<keras.layers.recurrent.LSTMCell object at 0x7fa09b0db210> has the same name 'LSTMCell' as a built-in Keras object. Consider renaming <class 'keras.layers.recurrent.LSTMCell'> to avoid naming conflicts when loading with `tf.keras.models.load_model`. If renaming is not possible, pass the object in the `custom_objects` parameter of the load function.\n"
     ]
    }
   ],
   "source": [
    "import pickle\n",
    "# save the model to disk\n",
    "filename = '/content/drive/My Drive/Colab Notebooks/SMCLS_lstmmodel32,1000x100_2.sav'\n",
    "pickle.dump(model, open(filename, 'wb'))"
   ]
  },
  {
   "cell_type": "markdown",
   "metadata": {
    "id": "SXYdy7UCJkt-"
   },
   "source": [
    "## LSTM"
   ]
  },
  {
   "cell_type": "code",
   "execution_count": null,
   "metadata": {
    "id": "YPBrS81uJkuN"
   },
   "outputs": [],
   "source": [
    "from tensorflow.keras.optimizers import RMSprop\n",
    "from keras.layers import LSTM, Activation, Dense, Dropout, Input, Conv1D, Embedding, Flatten\n",
    "def RNN_model():\n",
    "    inputs = Input(name='inputs',shape=[max_len])\n",
    "    layer = Embedding(input_dim = max_len + 1,output_dim = 64,input_length=max_len)(inputs)\n",
    "    layer = LSTM(64)(layer)\n",
    "    layer = Flatten()(layer)\n",
    "\n",
    "    layer = Dense(256,name='FC1')(layer)\n",
    "    layer = Activation('relu')(layer)\n",
    "    layer = Dropout(0.5)(layer)\n",
    "\n",
    "    layer = Dense(Domain_data['dga_family'].nunique(),name='out_layer')(layer)\n",
    "    layer = Activation('softmax')(layer)\n",
    "    model = Model(inputs=inputs,outputs=layer)\n",
    "    return model"
   ]
  },
  {
   "cell_type": "code",
   "execution_count": null,
   "metadata": {
    "colab": {
     "base_uri": "https://localhost:8080/"
    },
    "id": "SxYVo-QAJkuN",
    "outputId": "d5c1bc9b-1a86-497f-c4bc-5a3175e4e571"
   },
   "outputs": [
    {
     "name": "stdout",
     "output_type": "stream",
     "text": [
      "Model: \"model_3\"\n",
      "_________________________________________________________________\n",
      " Layer (type)                Output Shape              Param #   \n",
      "=================================================================\n",
      " inputs (InputLayer)         [(None, 50)]              0         \n",
      "                                                                 \n",
      " embedding_3 (Embedding)     (None, 50, 64)            3264      \n",
      "                                                                 \n",
      " lstm_3 (LSTM)               (None, 64)                33024     \n",
      "                                                                 \n",
      " flatten_3 (Flatten)         (None, 64)                0         \n",
      "                                                                 \n",
      " FC1 (Dense)                 (None, 256)               16640     \n",
      "                                                                 \n",
      " activation_6 (Activation)   (None, 256)               0         \n",
      "                                                                 \n",
      " dropout_3 (Dropout)         (None, 256)               0         \n",
      "                                                                 \n",
      " out_layer (Dense)           (None, 6)                 1542      \n",
      "                                                                 \n",
      " activation_7 (Activation)   (None, 6)                 0         \n",
      "                                                                 \n",
      "=================================================================\n",
      "Total params: 54,470\n",
      "Trainable params: 54,470\n",
      "Non-trainable params: 0\n",
      "_________________________________________________________________\n"
     ]
    }
   ],
   "source": [
    "from tensorflow.keras.models import Sequential, Model\n",
    "model = RNN_model()\n",
    "model.summary()\n",
    "model.compile(loss='categorical_crossentropy',optimizer='adam',metrics=['acc'])"
   ]
  },
  {
   "cell_type": "code",
   "execution_count": null,
   "metadata": {
    "colab": {
     "base_uri": "https://localhost:8080/"
    },
    "id": "127TbVzSJkuO",
    "outputId": "5dc662c9-b046-432b-a7e0-c5a274857964"
   },
   "outputs": [
    {
     "name": "stdout",
     "output_type": "stream",
     "text": [
      "Epoch 1/100\n",
      "1662/1662 [==============================] - 24s 13ms/step - loss: 0.4423 - acc: 0.8221 - val_loss: 0.3147 - val_acc: 0.8525\n",
      "Epoch 2/100\n",
      "1662/1662 [==============================] - 19s 11ms/step - loss: 0.2553 - acc: 0.8890 - val_loss: 0.2079 - val_acc: 0.9178\n",
      "Epoch 3/100\n",
      "1662/1662 [==============================] - 19s 11ms/step - loss: 0.2047 - acc: 0.9112 - val_loss: 0.1766 - val_acc: 0.9266\n",
      "Epoch 4/100\n",
      "1662/1662 [==============================] - 19s 11ms/step - loss: 0.1710 - acc: 0.9309 - val_loss: 0.1344 - val_acc: 0.9449\n",
      "Epoch 5/100\n",
      "1662/1662 [==============================] - 19s 12ms/step - loss: 0.1362 - acc: 0.9470 - val_loss: 0.1389 - val_acc: 0.9415\n",
      "Epoch 6/100\n",
      "1662/1662 [==============================] - 19s 11ms/step - loss: 0.1282 - acc: 0.9518 - val_loss: 0.1242 - val_acc: 0.9507\n",
      "Epoch 7/100\n",
      "1662/1662 [==============================] - 19s 11ms/step - loss: 0.1003 - acc: 0.9631 - val_loss: 0.1221 - val_acc: 0.9512\n",
      "Epoch 8/100\n",
      "1662/1662 [==============================] - 20s 12ms/step - loss: 0.0881 - acc: 0.9681 - val_loss: 0.1107 - val_acc: 0.9568\n",
      "Epoch 9/100\n",
      "1662/1662 [==============================] - 19s 11ms/step - loss: 0.0758 - acc: 0.9727 - val_loss: 0.0862 - val_acc: 0.9673\n",
      "Epoch 10/100\n",
      "1662/1662 [==============================] - 19s 11ms/step - loss: 0.0669 - acc: 0.9763 - val_loss: 0.0743 - val_acc: 0.9714\n",
      "Epoch 11/100\n",
      "1662/1662 [==============================] - 20s 12ms/step - loss: 0.0578 - acc: 0.9799 - val_loss: 0.0691 - val_acc: 0.9743\n",
      "Epoch 12/100\n",
      "1662/1662 [==============================] - 20s 12ms/step - loss: 0.0521 - acc: 0.9822 - val_loss: 0.0593 - val_acc: 0.9790\n",
      "Epoch 13/100\n",
      "1662/1662 [==============================] - 20s 12ms/step - loss: 0.0456 - acc: 0.9847 - val_loss: 0.0708 - val_acc: 0.9755\n",
      "Epoch 14/100\n",
      "1662/1662 [==============================] - 19s 11ms/step - loss: 0.0427 - acc: 0.9859 - val_loss: 0.0603 - val_acc: 0.9790\n",
      "Epoch 15/100\n",
      "1662/1662 [==============================] - 19s 11ms/step - loss: 0.0391 - acc: 0.9872 - val_loss: 0.0512 - val_acc: 0.9829\n",
      "Epoch 16/100\n",
      "1662/1662 [==============================] - 19s 11ms/step - loss: 0.0370 - acc: 0.9879 - val_loss: 0.0543 - val_acc: 0.9817\n",
      "Epoch 17/100\n",
      "1662/1662 [==============================] - 20s 12ms/step - loss: 0.0345 - acc: 0.9889 - val_loss: 0.0576 - val_acc: 0.9804\n",
      "Epoch 18/100\n",
      "1662/1662 [==============================] - 20s 12ms/step - loss: 0.0325 - acc: 0.9896 - val_loss: 0.0571 - val_acc: 0.9814\n",
      "Epoch 19/100\n",
      "1662/1662 [==============================] - 19s 11ms/step - loss: 0.0306 - acc: 0.9902 - val_loss: 0.0498 - val_acc: 0.9837\n",
      "Epoch 20/100\n",
      "1662/1662 [==============================] - 19s 11ms/step - loss: 0.0298 - acc: 0.9905 - val_loss: 0.0499 - val_acc: 0.9838\n",
      "Epoch 21/100\n",
      "1662/1662 [==============================] - 19s 11ms/step - loss: 0.0292 - acc: 0.9907 - val_loss: 0.0489 - val_acc: 0.9845\n",
      "Epoch 22/100\n",
      "1662/1662 [==============================] - 19s 12ms/step - loss: 0.0270 - acc: 0.9914 - val_loss: 0.0494 - val_acc: 0.9845\n",
      "Epoch 23/100\n",
      "1662/1662 [==============================] - 20s 12ms/step - loss: 0.0265 - acc: 0.9916 - val_loss: 0.0456 - val_acc: 0.9856\n",
      "Epoch 24/100\n",
      "1662/1662 [==============================] - 20s 12ms/step - loss: 0.0256 - acc: 0.9918 - val_loss: 0.0517 - val_acc: 0.9844\n",
      "Epoch 25/100\n",
      "1662/1662 [==============================] - 20s 12ms/step - loss: 0.0247 - acc: 0.9920 - val_loss: 0.0473 - val_acc: 0.9861\n",
      "Epoch 26/100\n",
      "1662/1662 [==============================] - 19s 11ms/step - loss: 0.0237 - acc: 0.9924 - val_loss: 0.0448 - val_acc: 0.9867\n",
      "Epoch 27/100\n",
      "1662/1662 [==============================] - 19s 11ms/step - loss: 0.0233 - acc: 0.9925 - val_loss: 0.0461 - val_acc: 0.9860\n",
      "Epoch 28/100\n",
      "1662/1662 [==============================] - 19s 12ms/step - loss: 0.0225 - acc: 0.9927 - val_loss: 0.0434 - val_acc: 0.9873\n",
      "Epoch 29/100\n",
      "1662/1662 [==============================] - 19s 11ms/step - loss: 0.0221 - acc: 0.9929 - val_loss: 0.0454 - val_acc: 0.9868\n",
      "Epoch 30/100\n",
      "1662/1662 [==============================] - 19s 11ms/step - loss: 0.0214 - acc: 0.9931 - val_loss: 0.0441 - val_acc: 0.9874\n",
      "Epoch 31/100\n",
      "1662/1662 [==============================] - 20s 12ms/step - loss: 0.0210 - acc: 0.9932 - val_loss: 0.0441 - val_acc: 0.9870\n",
      "Epoch 32/100\n",
      "1662/1662 [==============================] - 20s 12ms/step - loss: 0.0208 - acc: 0.9933 - val_loss: 0.0429 - val_acc: 0.9878\n",
      "Epoch 33/100\n",
      "1662/1662 [==============================] - 19s 12ms/step - loss: 0.0200 - acc: 0.9935 - val_loss: 0.0438 - val_acc: 0.9876\n",
      "Epoch 34/100\n",
      "1662/1662 [==============================] - 20s 12ms/step - loss: 0.0206 - acc: 0.9933 - val_loss: 0.0436 - val_acc: 0.9873\n",
      "Epoch 35/100\n",
      "1662/1662 [==============================] - 20s 12ms/step - loss: 0.0194 - acc: 0.9937 - val_loss: 0.0441 - val_acc: 0.9872\n",
      "Epoch 36/100\n",
      "1662/1662 [==============================] - 20s 12ms/step - loss: 0.0193 - acc: 0.9937 - val_loss: 0.0440 - val_acc: 0.9878\n",
      "Epoch 37/100\n",
      "1662/1662 [==============================] - 20s 12ms/step - loss: 0.0188 - acc: 0.9938 - val_loss: 0.0463 - val_acc: 0.9875\n",
      "Epoch 38/100\n",
      "1662/1662 [==============================] - 19s 11ms/step - loss: 0.0189 - acc: 0.9938 - val_loss: 0.0440 - val_acc: 0.9879\n",
      "Epoch 39/100\n",
      "1662/1662 [==============================] - 19s 12ms/step - loss: 0.0184 - acc: 0.9940 - val_loss: 0.0414 - val_acc: 0.9879\n",
      "Epoch 40/100\n",
      "1662/1662 [==============================] - 20s 12ms/step - loss: 0.0183 - acc: 0.9940 - val_loss: 0.0466 - val_acc: 0.9866\n",
      "Epoch 41/100\n",
      "1662/1662 [==============================] - 19s 11ms/step - loss: 0.0179 - acc: 0.9941 - val_loss: 0.0434 - val_acc: 0.9878\n",
      "Epoch 42/100\n",
      "1662/1662 [==============================] - 19s 11ms/step - loss: 0.0178 - acc: 0.9941 - val_loss: 0.0419 - val_acc: 0.9884\n",
      "Epoch 43/100\n",
      "1662/1662 [==============================] - 19s 11ms/step - loss: 0.0175 - acc: 0.9942 - val_loss: 0.0525 - val_acc: 0.9866\n",
      "Epoch 44/100\n",
      "1662/1662 [==============================] - 20s 12ms/step - loss: 0.0174 - acc: 0.9943 - val_loss: 0.0435 - val_acc: 0.9882\n",
      "Epoch 45/100\n",
      "1662/1662 [==============================] - 19s 12ms/step - loss: 0.0176 - acc: 0.9942 - val_loss: 0.0433 - val_acc: 0.9879\n",
      "Epoch 46/100\n",
      "1662/1662 [==============================] - 20s 12ms/step - loss: 0.0171 - acc: 0.9943 - val_loss: 0.0446 - val_acc: 0.9881\n",
      "Epoch 47/100\n",
      "1662/1662 [==============================] - 19s 11ms/step - loss: 0.0166 - acc: 0.9945 - val_loss: 0.0444 - val_acc: 0.9886\n",
      "Epoch 48/100\n",
      "1662/1662 [==============================] - 20s 12ms/step - loss: 0.0173 - acc: 0.9943 - val_loss: 0.0455 - val_acc: 0.9881\n",
      "Epoch 49/100\n",
      "1662/1662 [==============================] - 20s 12ms/step - loss: 0.0161 - acc: 0.9947 - val_loss: 0.0430 - val_acc: 0.9884\n",
      "Epoch 50/100\n",
      "1662/1662 [==============================] - 19s 12ms/step - loss: 0.0165 - acc: 0.9945 - val_loss: 0.0426 - val_acc: 0.9879\n",
      "Epoch 51/100\n",
      "1662/1662 [==============================] - 19s 11ms/step - loss: 0.0161 - acc: 0.9946 - val_loss: 0.0487 - val_acc: 0.9878\n",
      "Epoch 52/100\n",
      "1662/1662 [==============================] - 19s 11ms/step - loss: 0.0160 - acc: 0.9947 - val_loss: 0.0464 - val_acc: 0.9882\n",
      "Epoch 53/100\n",
      "1662/1662 [==============================] - 19s 11ms/step - loss: 0.0159 - acc: 0.9948 - val_loss: 0.0446 - val_acc: 0.9876\n",
      "Epoch 54/100\n",
      "1662/1662 [==============================] - 19s 11ms/step - loss: 0.0157 - acc: 0.9948 - val_loss: 0.0471 - val_acc: 0.9872\n",
      "Epoch 55/100\n",
      "1662/1662 [==============================] - 19s 11ms/step - loss: 0.0156 - acc: 0.9948 - val_loss: 0.0425 - val_acc: 0.9880\n",
      "Epoch 56/100\n",
      "1662/1662 [==============================] - 19s 12ms/step - loss: 0.0155 - acc: 0.9949 - val_loss: 0.0492 - val_acc: 0.9878\n",
      "Epoch 57/100\n",
      "1662/1662 [==============================] - 20s 12ms/step - loss: 0.0153 - acc: 0.9949 - val_loss: 0.0460 - val_acc: 0.9882\n",
      "Epoch 58/100\n",
      "1662/1662 [==============================] - 20s 12ms/step - loss: 0.0150 - acc: 0.9950 - val_loss: 0.0456 - val_acc: 0.9886\n",
      "Epoch 59/100\n",
      "1662/1662 [==============================] - 19s 11ms/step - loss: 0.0151 - acc: 0.9950 - val_loss: 0.0486 - val_acc: 0.9876\n",
      "Epoch 60/100\n",
      "1662/1662 [==============================] - 20s 12ms/step - loss: 0.0151 - acc: 0.9950 - val_loss: 0.0471 - val_acc: 0.9876\n",
      "Epoch 61/100\n",
      "1662/1662 [==============================] - 19s 12ms/step - loss: 0.0159 - acc: 0.9949 - val_loss: 0.0468 - val_acc: 0.9877\n",
      "Epoch 62/100\n",
      "1662/1662 [==============================] - 19s 11ms/step - loss: 0.0144 - acc: 0.9953 - val_loss: 0.0431 - val_acc: 0.9880\n",
      "Epoch 63/100\n",
      "1662/1662 [==============================] - 20s 12ms/step - loss: 0.0148 - acc: 0.9951 - val_loss: 0.0442 - val_acc: 0.9882\n",
      "Epoch 64/100\n",
      "1662/1662 [==============================] - 19s 11ms/step - loss: 0.0146 - acc: 0.9952 - val_loss: 0.0458 - val_acc: 0.9880\n",
      "Epoch 65/100\n",
      "1662/1662 [==============================] - 19s 11ms/step - loss: 0.0144 - acc: 0.9953 - val_loss: 0.0431 - val_acc: 0.9885\n",
      "Epoch 66/100\n",
      "1662/1662 [==============================] - 19s 11ms/step - loss: 0.0142 - acc: 0.9953 - val_loss: 0.0469 - val_acc: 0.9885\n",
      "Epoch 67/100\n",
      "1662/1662 [==============================] - 19s 12ms/step - loss: 0.0143 - acc: 0.9952 - val_loss: 0.0444 - val_acc: 0.9884\n",
      "Epoch 68/100\n",
      "1662/1662 [==============================] - 19s 11ms/step - loss: 0.0145 - acc: 0.9952 - val_loss: 0.0459 - val_acc: 0.9881\n",
      "Epoch 69/100\n",
      "1662/1662 [==============================] - 20s 12ms/step - loss: 0.0139 - acc: 0.9953 - val_loss: 0.0474 - val_acc: 0.9884\n",
      "Epoch 70/100\n",
      "1662/1662 [==============================] - 20s 12ms/step - loss: 0.0143 - acc: 0.9953 - val_loss: 0.0443 - val_acc: 0.9884\n",
      "Epoch 71/100\n",
      "1662/1662 [==============================] - 19s 11ms/step - loss: 0.0183 - acc: 0.9947 - val_loss: 0.0469 - val_acc: 0.9885\n",
      "Epoch 72/100\n",
      "1662/1662 [==============================] - 20s 12ms/step - loss: 0.0133 - acc: 0.9956 - val_loss: 0.0475 - val_acc: 0.9888\n",
      "Epoch 73/100\n",
      "1662/1662 [==============================] - 19s 11ms/step - loss: 0.0136 - acc: 0.9955 - val_loss: 0.0471 - val_acc: 0.9881\n",
      "Epoch 74/100\n",
      "1662/1662 [==============================] - 19s 11ms/step - loss: 0.0136 - acc: 0.9955 - val_loss: 0.0473 - val_acc: 0.9885\n",
      "Epoch 75/100\n",
      "1662/1662 [==============================] - 19s 11ms/step - loss: 0.0142 - acc: 0.9953 - val_loss: 0.0469 - val_acc: 0.9884\n",
      "Epoch 76/100\n",
      "1662/1662 [==============================] - 19s 11ms/step - loss: 0.0134 - acc: 0.9955 - val_loss: 0.0468 - val_acc: 0.9882\n",
      "Epoch 77/100\n",
      "1662/1662 [==============================] - 19s 11ms/step - loss: 0.0137 - acc: 0.9954 - val_loss: 0.0481 - val_acc: 0.9882\n",
      "Epoch 78/100\n",
      "1662/1662 [==============================] - 19s 12ms/step - loss: 0.0135 - acc: 0.9955 - val_loss: 0.0484 - val_acc: 0.9883\n",
      "Epoch 79/100\n",
      "1662/1662 [==============================] - 19s 11ms/step - loss: 0.0133 - acc: 0.9956 - val_loss: 0.0478 - val_acc: 0.9882\n",
      "Epoch 80/100\n",
      "1662/1662 [==============================] - 19s 11ms/step - loss: 0.0133 - acc: 0.9956 - val_loss: 0.0488 - val_acc: 0.9880\n",
      "Epoch 81/100\n",
      "1662/1662 [==============================] - 20s 12ms/step - loss: 0.0133 - acc: 0.9956 - val_loss: 0.0478 - val_acc: 0.9882\n",
      "Epoch 82/100\n",
      "1662/1662 [==============================] - 19s 11ms/step - loss: 0.0133 - acc: 0.9956 - val_loss: 0.0475 - val_acc: 0.9882\n",
      "Epoch 83/100\n",
      "1662/1662 [==============================] - 19s 12ms/step - loss: 0.0129 - acc: 0.9957 - val_loss: 0.0476 - val_acc: 0.9882\n",
      "Epoch 84/100\n",
      "1662/1662 [==============================] - 19s 12ms/step - loss: 0.0129 - acc: 0.9958 - val_loss: 0.0524 - val_acc: 0.9876\n",
      "Epoch 85/100\n",
      "1662/1662 [==============================] - 19s 11ms/step - loss: 0.0128 - acc: 0.9958 - val_loss: 0.0489 - val_acc: 0.9886\n",
      "Epoch 86/100\n",
      "1662/1662 [==============================] - 20s 12ms/step - loss: 0.0130 - acc: 0.9957 - val_loss: 0.0491 - val_acc: 0.9877\n",
      "Epoch 87/100\n",
      "1662/1662 [==============================] - 19s 11ms/step - loss: 0.0127 - acc: 0.9958 - val_loss: 0.0487 - val_acc: 0.9883\n",
      "Epoch 88/100\n",
      "1662/1662 [==============================] - 19s 11ms/step - loss: 0.0126 - acc: 0.9958 - val_loss: 0.0492 - val_acc: 0.9886\n",
      "Epoch 89/100\n",
      "1662/1662 [==============================] - 20s 12ms/step - loss: 0.0125 - acc: 0.9958 - val_loss: 0.0504 - val_acc: 0.9880\n",
      "Epoch 90/100\n",
      "1662/1662 [==============================] - 20s 12ms/step - loss: 0.0130 - acc: 0.9957 - val_loss: 0.0482 - val_acc: 0.9885\n",
      "Epoch 91/100\n",
      "1662/1662 [==============================] - 20s 12ms/step - loss: 0.0123 - acc: 0.9959 - val_loss: 0.0491 - val_acc: 0.9883\n",
      "Epoch 92/100\n",
      "1662/1662 [==============================] - 19s 11ms/step - loss: 0.0130 - acc: 0.9957 - val_loss: 0.0478 - val_acc: 0.9886\n",
      "Epoch 93/100\n",
      "1662/1662 [==============================] - 19s 11ms/step - loss: 0.0123 - acc: 0.9959 - val_loss: 0.0485 - val_acc: 0.9880\n",
      "Epoch 94/100\n",
      "1662/1662 [==============================] - 19s 12ms/step - loss: 0.0123 - acc: 0.9959 - val_loss: 0.0492 - val_acc: 0.9880\n",
      "Epoch 95/100\n",
      "1662/1662 [==============================] - 20s 12ms/step - loss: 0.0122 - acc: 0.9959 - val_loss: 0.0484 - val_acc: 0.9882\n",
      "Epoch 96/100\n",
      "1662/1662 [==============================] - 19s 11ms/step - loss: 0.0123 - acc: 0.9959 - val_loss: 0.0502 - val_acc: 0.9878\n",
      "Epoch 97/100\n",
      "1662/1662 [==============================] - 20s 12ms/step - loss: 0.0119 - acc: 0.9961 - val_loss: 0.0513 - val_acc: 0.9887\n",
      "Epoch 98/100\n",
      "1662/1662 [==============================] - 19s 11ms/step - loss: 0.0125 - acc: 0.9958 - val_loss: 0.0464 - val_acc: 0.9880\n",
      "Epoch 99/100\n",
      "1662/1662 [==============================] - 19s 11ms/step - loss: 0.0118 - acc: 0.9961 - val_loss: 0.0487 - val_acc: 0.9886\n",
      "Epoch 100/100\n",
      "1662/1662 [==============================] - 19s 12ms/step - loss: 0.0120 - acc: 0.9960 - val_loss: 0.0526 - val_acc: 0.9881\n",
      "LSTM multiclass Training finished in 1926.2790009975433 milisecond!!\n",
      "\n"
     ]
    }
   ],
   "source": [
    "import time\n",
    "start=time.time()\n",
    "history=model.fit(X_train,y_train,batch_size=1000,epochs=100,\n",
    "          validation_data=(X_test, y_test))\n",
    "end=time.time()\n",
    "print('LSTM multiclass Training finished in {} milisecond!!\\n'.format(end-start))"
   ]
  },
  {
   "cell_type": "code",
   "execution_count": null,
   "metadata": {
    "colab": {
     "base_uri": "https://localhost:8080/"
    },
    "id": "IHW4nXWGJkuO",
    "outputId": "4424e9da-5715-41f8-8317-62dc8f826e25"
   },
   "outputs": [
    {
     "name": "stdout",
     "output_type": "stream",
     "text": [
      "12979/12979 [==============================] - 46s 4ms/step - loss: 0.0526 - acc: 0.9881\n",
      "LSTM multiclass Testing finished in 82.30069708824158 milisecond!!\n",
      "\n",
      "Accuracy on test set: [0.05258379131555557, 0.988108217716217]\n",
      "Test loss: 0.05258379131555557\n",
      "Test accuracy: 0.988108217716217\n"
     ]
    }
   ],
   "source": [
    "start=time.time()\n",
    "results = model.evaluate(X_test, y_test)\n",
    "end=time.time()\n",
    "print('LSTM multiclass Testing finished in {} milisecond!!\\n'.format(end-start))\n",
    "print (\"Accuracy on test set:\" , results)\n",
    "print('Test loss:', results[0])\n",
    "print('Test accuracy:', results[1])"
   ]
  },
  {
   "cell_type": "code",
   "execution_count": null,
   "metadata": {
    "colab": {
     "base_uri": "https://localhost:8080/"
    },
    "id": "fmyu1Eg-JkuO",
    "outputId": "45baf543-651d-4bdd-bcd7-c92057f698fb"
   },
   "outputs": [
    {
     "name": "stdout",
     "output_type": "stream",
     "text": [
      "12979/12979 [==============================] - 46s 4ms/step - loss: 0.0526 - acc: 0.9881\n",
      "Test set\n",
      "   Accuracy: 0.988\n"
     ]
    }
   ],
   "source": [
    "y_pred1 = model.predict(X_test)\n",
    "y_pred1=(y_pred1 > 0.5)\n",
    "accr = model.evaluate(X_test,y_test)\n",
    "rnn_acc=accr[1]\n",
    "print('Test set\\n   Accuracy: {:0.3f}'.format(accr[1]))\n",
    "\n"
   ]
  },
  {
   "cell_type": "code",
   "execution_count": null,
   "metadata": {
    "colab": {
     "base_uri": "https://localhost:8080/"
    },
    "id": "mUdPZ8xDJkuO",
    "outputId": "b0850b59-4ccc-473b-c258-e0b8ac54ef00"
   },
   "outputs": [
    {
     "name": "stdout",
     "output_type": "stream",
     "text": [
      "\n",
      "\n",
      "Precision, Recall, F1\n",
      "\n",
      "\n",
      "              precision    recall  f1-score   support\n",
      "\n",
      "           0       0.98      0.98      0.98    122348\n",
      "           1       0.99      0.99      0.99    250598\n",
      "           2       1.00      0.99      0.99     40114\n",
      "           3       0.91      0.97      0.94       257\n",
      "           4       0.77      0.86      0.81      1983\n",
      "           5       1.00      1.00      1.00        28\n",
      "\n",
      "   micro avg       0.99      0.99      0.99    415328\n",
      "   macro avg       0.94      0.97      0.95    415328\n",
      "weighted avg       0.99      0.99      0.99    415328\n",
      " samples avg       0.99      0.99      0.99    415328\n",
      "\n",
      "\n",
      "\n"
     ]
    },
    {
     "name": "stderr",
     "output_type": "stream",
     "text": [
      "/usr/local/lib/python3.7/dist-packages/sklearn/metrics/_classification.py:1318: UndefinedMetricWarning: Precision and F-score are ill-defined and being set to 0.0 in samples with no predicted labels. Use `zero_division` parameter to control this behavior.\n",
      "  _warn_prf(average, modifier, msg_start, len(result))\n"
     ]
    }
   ],
   "source": [
    "from sklearn.metrics import classification_report, confusion_matrix\n",
    "print('\\n')\n",
    "print(\"Precision, Recall, F1\")\n",
    "print('\\n')\n",
    "CR=classification_report(y_test, y_pred1)\n",
    "print(CR)\n",
    "print('\\n')"
   ]
  },
  {
   "cell_type": "code",
   "execution_count": null,
   "metadata": {
    "colab": {
     "base_uri": "https://localhost:8080/",
     "height": 573
    },
    "id": "ceZ1Na7RJkuP",
    "outputId": "6829bb66-f4f3-4549-d297-c9a5bfc5e6f2"
   },
   "outputs": [
    {
     "data": {
      "image/png": "[encoded data removed]",
      "text/plain": [
       "<Figure size 432x288 with 1 Axes>"
      ]
     },
     "metadata": {
      "needs_background": "light"
     },
     "output_type": "display_data"
    },
    {
     "data": {
      "image/png": "[encoded data removed]",
      "text/plain": [
       "<Figure size 432x288 with 1 Axes>"
      ]
     },
     "metadata": {
      "needs_background": "light"
     },
     "output_type": "display_data"
    }
   ],
   "source": [
    "def Training_and_validation_plot(history):\n",
    "    acc = history.history['acc']\n",
    "    val_acc = history.history['val_acc']\n",
    "    loss = history.history['loss']\n",
    "    val_loss = history.history['val_loss']\n",
    "    epochs = range(1, len(acc) + 1)\n",
    "\n",
    "    plt.plot(epochs, acc, 'bo', label = 'Training Accuracy')\n",
    "    plt.plot(epochs, val_acc, 'r', label = 'Validation Accuracy')\n",
    "    plt.title('Training and Validation Accuracy')\n",
    "    plt.xlabel('Epochs')\n",
    "    plt.ylabel('Loss')\n",
    "    plt.legend()\n",
    "\n",
    "    plt.figure()\n",
    "    plt.plot(epochs, loss, 'bo', label = 'Training Loss')\n",
    "    plt.plot(epochs, val_loss, 'r', label = 'Validation Loss')\n",
    "    plt.title('Training and Validation Loss')\n",
    "    plt.xlabel('Epochs')\n",
    "    plt.ylabel('Loss')\n",
    "    plt.legend()\n",
    "    plt.show()\n",
    "Training_and_validation_plot(history)"
   ]
  },
  {
   "cell_type": "code",
   "execution_count": null,
   "metadata": {
    "colab": {
     "base_uri": "https://localhost:8080/"
    },
    "id": "5xAO-W-UJkuP",
    "outputId": "7dd98838-3faa-4137-e01e-f8a5040d48e4"
   },
   "outputs": [
    {
     "name": "stderr",
     "output_type": "stream",
     "text": [
      "WARNING:absl:Found untraced functions such as lstm_cell_3_layer_call_fn, lstm_cell_3_layer_call_and_return_conditional_losses while saving (showing 2 of 2). These functions will not be directly callable after loading.\n"
     ]
    },
    {
     "name": "stdout",
     "output_type": "stream",
     "text": [
      "INFO:tensorflow:Assets written to: ram://530e1629-0ad6-4b46-bf28-366837e81ac4/assets\n"
     ]
    },
    {
     "name": "stderr",
     "output_type": "stream",
     "text": [
      "INFO:tensorflow:Assets written to: ram://530e1629-0ad6-4b46-bf28-366837e81ac4/assets\n",
      "WARNING:absl:<keras.layers.recurrent.LSTMCell object at 0x7fa0b5ee69d0> has the same name 'LSTMCell' as a built-in Keras object. Consider renaming <class 'keras.layers.recurrent.LSTMCell'> to avoid naming conflicts when loading with `tf.keras.models.load_model`. If renaming is not possible, pass the object in the `custom_objects` parameter of the load function.\n"
     ]
    }
   ],
   "source": [
    "import pickle\n",
    "# save the model to disk\n",
    "filename = '/content/drive/My Drive/Colab Notebooks/SMCLS_lstmmodel64,1000x100_2.sav'\n",
    "pickle.dump(model, open(filename, 'wb'))"
   ]
  },
  {
   "cell_type": "markdown",
   "metadata": {
    "id": "YDpYi01aBZwD"
   },
   "source": [
    "## LSTM"
   ]
  },
  {
   "cell_type": "code",
   "execution_count": null,
   "metadata": {
    "id": "Y8Ki1YBfBZwT"
   },
   "outputs": [],
   "source": [
    "from tensorflow.keras.optimizers import RMSprop\n",
    "from keras.layers import LSTM, Activation, Dense, Dropout, Input, Conv1D, Embedding, Flatten\n",
    "def RNN_model():\n",
    "    inputs = Input(name='inputs',shape=[max_len])\n",
    "    layer = Embedding(input_dim = max_len + 1,output_dim = 50,input_length=max_len)(inputs)\n",
    "    layer = LSTM(64)(layer)\n",
    "    layer = Flatten()(layer)\n",
    "\n",
    "    layer = Dense(256,name='FC1')(layer)\n",
    "    layer = Activation('relu')(layer)\n",
    "    layer = Dropout(0.5)(layer)\n",
    "\n",
    "    layer = Dense(Domain_data['dga_family'].nunique(),name='out_layer')(layer)\n",
    "    layer = Activation('softmax')(layer)\n",
    "    model = Model(inputs=inputs,outputs=layer)\n",
    "    return model"
   ]
  },
  {
   "cell_type": "code",
   "execution_count": null,
   "metadata": {
    "colab": {
     "base_uri": "https://localhost:8080/"
    },
    "id": "A2qiVz-VBZwT",
    "outputId": "c56e0af1-b85d-4d8b-85b4-c7f0b476f53b"
   },
   "outputs": [
    {
     "name": "stdout",
     "output_type": "stream",
     "text": [
      "Model: \"model_2\"\n",
      "_________________________________________________________________\n",
      " Layer (type)                Output Shape              Param #   \n",
      "=================================================================\n",
      " inputs (InputLayer)         [(None, 50)]              0         \n",
      "                                                                 \n",
      " embedding_2 (Embedding)     (None, 50, 50)            2550      \n",
      "                                                                 \n",
      " lstm_2 (LSTM)               (None, 64)                29440     \n",
      "                                                                 \n",
      " flatten_2 (Flatten)         (None, 64)                0         \n",
      "                                                                 \n",
      " FC1 (Dense)                 (None, 256)               16640     \n",
      "                                                                 \n",
      " activation_4 (Activation)   (None, 256)               0         \n",
      "                                                                 \n",
      " dropout_2 (Dropout)         (None, 256)               0         \n",
      "                                                                 \n",
      " out_layer (Dense)           (None, 6)                 1542      \n",
      "                                                                 \n",
      " activation_5 (Activation)   (None, 6)                 0         \n",
      "                                                                 \n",
      "=================================================================\n",
      "Total params: 50,172\n",
      "Trainable params: 50,172\n",
      "Non-trainable params: 0\n",
      "_________________________________________________________________\n"
     ]
    }
   ],
   "source": [
    "from tensorflow.keras.models import Sequential, Model\n",
    "model = RNN_model()\n",
    "model.summary()\n",
    "model.compile(loss='categorical_crossentropy',optimizer='adam',metrics=['acc'])"
   ]
  },
  {
   "cell_type": "code",
   "execution_count": null,
   "metadata": {
    "colab": {
     "base_uri": "https://localhost:8080/"
    },
    "id": "KNr5d6SNBZwU",
    "outputId": "c4d14abe-11e1-4831-ace2-701b2e8bf1a7"
   },
   "outputs": [
    {
     "name": "stdout",
     "output_type": "stream",
     "text": [
      "Epoch 1/100\n",
      "1662/1662 [==============================] - 22s 12ms/step - loss: 0.4966 - acc: 0.8061 - val_loss: 0.3297 - val_acc: 0.8742\n",
      "Epoch 2/100\n",
      "1662/1662 [==============================] - 20s 12ms/step - loss: 0.2933 - acc: 0.8745 - val_loss: 0.2569 - val_acc: 0.9029\n",
      "Epoch 3/100\n",
      "1662/1662 [==============================] - 19s 11ms/step - loss: 0.2320 - acc: 0.8988 - val_loss: 0.2095 - val_acc: 0.9137\n",
      "Epoch 4/100\n",
      "1662/1662 [==============================] - 19s 12ms/step - loss: 0.1903 - acc: 0.9223 - val_loss: 0.1619 - val_acc: 0.9378\n",
      "Epoch 5/100\n",
      "1662/1662 [==============================] - 18s 11ms/step - loss: 0.1536 - acc: 0.9390 - val_loss: 0.1335 - val_acc: 0.9483\n",
      "Epoch 6/100\n",
      "1662/1662 [==============================] - 19s 11ms/step - loss: 0.1259 - acc: 0.9508 - val_loss: 0.1013 - val_acc: 0.9626\n",
      "Epoch 7/100\n",
      "1662/1662 [==============================] - 18s 11ms/step - loss: 0.1039 - acc: 0.9610 - val_loss: 0.1006 - val_acc: 0.9623\n",
      "Epoch 8/100\n",
      "1662/1662 [==============================] - 18s 11ms/step - loss: 0.0900 - acc: 0.9675 - val_loss: 0.0944 - val_acc: 0.9653\n",
      "Epoch 9/100\n",
      "1662/1662 [==============================] - 19s 11ms/step - loss: 0.0763 - acc: 0.9729 - val_loss: 0.0794 - val_acc: 0.9710\n",
      "Epoch 10/100\n",
      "1662/1662 [==============================] - 19s 11ms/step - loss: 0.0668 - acc: 0.9766 - val_loss: 0.0903 - val_acc: 0.9666\n",
      "Epoch 11/100\n",
      "1662/1662 [==============================] - 18s 11ms/step - loss: 0.0648 - acc: 0.9780 - val_loss: 0.0794 - val_acc: 0.9707\n",
      "Epoch 12/100\n",
      "1662/1662 [==============================] - 18s 11ms/step - loss: 0.0551 - acc: 0.9811 - val_loss: 0.0744 - val_acc: 0.9734\n",
      "Epoch 13/100\n",
      "1662/1662 [==============================] - 18s 11ms/step - loss: 0.0513 - acc: 0.9827 - val_loss: 0.0676 - val_acc: 0.9758\n",
      "Epoch 14/100\n",
      "1662/1662 [==============================] - 19s 12ms/step - loss: 0.0481 - acc: 0.9839 - val_loss: 0.0637 - val_acc: 0.9783\n",
      "Epoch 15/100\n",
      "1662/1662 [==============================] - 20s 12ms/step - loss: 0.0450 - acc: 0.9852 - val_loss: 0.0636 - val_acc: 0.9782\n",
      "Epoch 16/100\n",
      "1662/1662 [==============================] - 19s 11ms/step - loss: 0.0422 - acc: 0.9861 - val_loss: 0.0693 - val_acc: 0.9764\n",
      "Epoch 17/100\n",
      "1662/1662 [==============================] - 19s 11ms/step - loss: 0.0397 - acc: 0.9871 - val_loss: 0.0528 - val_acc: 0.9821\n",
      "Epoch 18/100\n",
      "1662/1662 [==============================] - 19s 12ms/step - loss: 0.0379 - acc: 0.9878 - val_loss: 0.0557 - val_acc: 0.9815\n",
      "Epoch 19/100\n",
      "1662/1662 [==============================] - 18s 11ms/step - loss: 0.0357 - acc: 0.9885 - val_loss: 0.0534 - val_acc: 0.9827\n",
      "Epoch 20/100\n",
      "1662/1662 [==============================] - 20s 12ms/step - loss: 0.0341 - acc: 0.9892 - val_loss: 0.0550 - val_acc: 0.9823\n",
      "Epoch 21/100\n",
      "1662/1662 [==============================] - 19s 11ms/step - loss: 0.0323 - acc: 0.9896 - val_loss: 0.0508 - val_acc: 0.9840\n",
      "Epoch 22/100\n",
      "1662/1662 [==============================] - 20s 12ms/step - loss: 0.0308 - acc: 0.9902 - val_loss: 0.0539 - val_acc: 0.9828\n",
      "Epoch 23/100\n",
      "1662/1662 [==============================] - 19s 11ms/step - loss: 0.0309 - acc: 0.9903 - val_loss: 0.0610 - val_acc: 0.9810\n",
      "Epoch 24/100\n",
      "1662/1662 [==============================] - 19s 11ms/step - loss: 0.0295 - acc: 0.9907 - val_loss: 0.0488 - val_acc: 0.9851\n",
      "Epoch 25/100\n",
      "1662/1662 [==============================] - 19s 11ms/step - loss: 0.0301 - acc: 0.9905 - val_loss: 0.0485 - val_acc: 0.9845\n",
      "Epoch 26/100\n",
      "1662/1662 [==============================] - 20s 12ms/step - loss: 0.0270 - acc: 0.9915 - val_loss: 0.0478 - val_acc: 0.9861\n",
      "Epoch 27/100\n",
      "1662/1662 [==============================] - 18s 11ms/step - loss: 0.0265 - acc: 0.9915 - val_loss: 0.0516 - val_acc: 0.9844\n",
      "Epoch 28/100\n",
      "1662/1662 [==============================] - 19s 12ms/step - loss: 0.0267 - acc: 0.9915 - val_loss: 0.0478 - val_acc: 0.9859\n",
      "Epoch 29/100\n",
      "1662/1662 [==============================] - 18s 11ms/step - loss: 0.0259 - acc: 0.9919 - val_loss: 0.0465 - val_acc: 0.9864\n",
      "Epoch 30/100\n",
      "1662/1662 [==============================] - 18s 11ms/step - loss: 0.0245 - acc: 0.9922 - val_loss: 0.0467 - val_acc: 0.9857\n",
      "Epoch 31/100\n",
      "1662/1662 [==============================] - 19s 11ms/step - loss: 0.0241 - acc: 0.9923 - val_loss: 0.0459 - val_acc: 0.9864\n",
      "Epoch 32/100\n",
      "1662/1662 [==============================] - 19s 11ms/step - loss: 0.0243 - acc: 0.9923 - val_loss: 0.0438 - val_acc: 0.9873\n",
      "Epoch 33/100\n",
      "1662/1662 [==============================] - 18s 11ms/step - loss: 0.0237 - acc: 0.9925 - val_loss: 0.0460 - val_acc: 0.9863\n",
      "Epoch 34/100\n",
      "1662/1662 [==============================] - 18s 11ms/step - loss: 0.0233 - acc: 0.9926 - val_loss: 0.0460 - val_acc: 0.9871\n",
      "Epoch 35/100\n",
      "1662/1662 [==============================] - 18s 11ms/step - loss: 0.0225 - acc: 0.9929 - val_loss: 0.0451 - val_acc: 0.9871\n",
      "Epoch 36/100\n",
      "1662/1662 [==============================] - 19s 11ms/step - loss: 0.0220 - acc: 0.9930 - val_loss: 0.0475 - val_acc: 0.9863\n",
      "Epoch 37/100\n",
      "1662/1662 [==============================] - 19s 11ms/step - loss: 0.0216 - acc: 0.9931 - val_loss: 0.0465 - val_acc: 0.9872\n",
      "Epoch 38/100\n",
      "1662/1662 [==============================] - 20s 12ms/step - loss: 0.0212 - acc: 0.9933 - val_loss: 0.0460 - val_acc: 0.9871\n",
      "Epoch 39/100\n",
      "1662/1662 [==============================] - 19s 11ms/step - loss: 0.0211 - acc: 0.9933 - val_loss: 0.0457 - val_acc: 0.9868\n",
      "Epoch 40/100\n",
      "1662/1662 [==============================] - 19s 11ms/step - loss: 0.0210 - acc: 0.9934 - val_loss: 0.0452 - val_acc: 0.9878\n",
      "Epoch 41/100\n",
      "1662/1662 [==============================] - 19s 11ms/step - loss: 0.0202 - acc: 0.9935 - val_loss: 0.0459 - val_acc: 0.9871\n",
      "Epoch 42/100\n",
      "1662/1662 [==============================] - 18s 11ms/step - loss: 0.0200 - acc: 0.9936 - val_loss: 0.0450 - val_acc: 0.9872\n",
      "Epoch 43/100\n",
      "1662/1662 [==============================] - 18s 11ms/step - loss: 0.0203 - acc: 0.9936 - val_loss: 0.0433 - val_acc: 0.9879\n",
      "Epoch 44/100\n",
      "1662/1662 [==============================] - 19s 11ms/step - loss: 0.0196 - acc: 0.9937 - val_loss: 0.0434 - val_acc: 0.9881\n",
      "Epoch 45/100\n",
      "1662/1662 [==============================] - 19s 12ms/step - loss: 0.0204 - acc: 0.9936 - val_loss: 0.0445 - val_acc: 0.9877\n",
      "Epoch 46/100\n",
      "1662/1662 [==============================] - 18s 11ms/step - loss: 0.0188 - acc: 0.9940 - val_loss: 0.0453 - val_acc: 0.9878\n",
      "Epoch 47/100\n",
      "1662/1662 [==============================] - 18s 11ms/step - loss: 0.0187 - acc: 0.9940 - val_loss: 0.0442 - val_acc: 0.9882\n",
      "Epoch 48/100\n",
      "1662/1662 [==============================] - 19s 11ms/step - loss: 0.0243 - acc: 0.9924 - val_loss: 0.0424 - val_acc: 0.9878\n",
      "Epoch 49/100\n",
      "1662/1662 [==============================] - 19s 12ms/step - loss: 0.0180 - acc: 0.9942 - val_loss: 0.0438 - val_acc: 0.9881\n",
      "Epoch 50/100\n",
      "1662/1662 [==============================] - 19s 11ms/step - loss: 0.0181 - acc: 0.9942 - val_loss: 0.0457 - val_acc: 0.9878\n",
      "Epoch 51/100\n",
      "1662/1662 [==============================] - 19s 11ms/step - loss: 0.0181 - acc: 0.9942 - val_loss: 0.0439 - val_acc: 0.9882\n",
      "Epoch 52/100\n",
      "1662/1662 [==============================] - 18s 11ms/step - loss: 0.0185 - acc: 0.9940 - val_loss: 0.0456 - val_acc: 0.9869\n",
      "Epoch 53/100\n",
      "1662/1662 [==============================] - 19s 11ms/step - loss: 0.0183 - acc: 0.9942 - val_loss: 0.0457 - val_acc: 0.9872\n",
      "Epoch 54/100\n",
      "1662/1662 [==============================] - 19s 11ms/step - loss: 0.0181 - acc: 0.9942 - val_loss: 0.0443 - val_acc: 0.9882\n",
      "Epoch 55/100\n",
      "1662/1662 [==============================] - 19s 11ms/step - loss: 0.0176 - acc: 0.9943 - val_loss: 0.0465 - val_acc: 0.9872\n",
      "Epoch 56/100\n",
      "1662/1662 [==============================] - 19s 12ms/step - loss: 0.0174 - acc: 0.9944 - val_loss: 0.0450 - val_acc: 0.9879\n",
      "Epoch 57/100\n",
      "1662/1662 [==============================] - 19s 12ms/step - loss: 0.0175 - acc: 0.9944 - val_loss: 0.0454 - val_acc: 0.9882\n",
      "Epoch 58/100\n",
      "1662/1662 [==============================] - 19s 11ms/step - loss: 0.0171 - acc: 0.9945 - val_loss: 0.0433 - val_acc: 0.9883\n",
      "Epoch 59/100\n",
      "1662/1662 [==============================] - 19s 11ms/step - loss: 0.0172 - acc: 0.9945 - val_loss: 0.0457 - val_acc: 0.9884\n",
      "Epoch 60/100\n",
      "1662/1662 [==============================] - 19s 12ms/step - loss: 0.0169 - acc: 0.9945 - val_loss: 0.0459 - val_acc: 0.9885\n",
      "Epoch 61/100\n",
      "1662/1662 [==============================] - 19s 11ms/step - loss: 0.0172 - acc: 0.9944 - val_loss: 0.0436 - val_acc: 0.9886\n",
      "Epoch 62/100\n",
      "1662/1662 [==============================] - 19s 11ms/step - loss: 0.0166 - acc: 0.9946 - val_loss: 0.0451 - val_acc: 0.9881\n",
      "Epoch 63/100\n",
      "1662/1662 [==============================] - 19s 12ms/step - loss: 0.0164 - acc: 0.9947 - val_loss: 0.0466 - val_acc: 0.9883\n",
      "Epoch 64/100\n",
      "1662/1662 [==============================] - 19s 12ms/step - loss: 0.0165 - acc: 0.9947 - val_loss: 0.0445 - val_acc: 0.9885\n",
      "Epoch 65/100\n",
      "1662/1662 [==============================] - 18s 11ms/step - loss: 0.0178 - acc: 0.9944 - val_loss: 0.0447 - val_acc: 0.9882\n",
      "Epoch 66/100\n",
      "1662/1662 [==============================] - 19s 12ms/step - loss: 0.0164 - acc: 0.9947 - val_loss: 0.0433 - val_acc: 0.9887\n",
      "Epoch 67/100\n",
      "1662/1662 [==============================] - 20s 12ms/step - loss: 0.0159 - acc: 0.9948 - val_loss: 0.0457 - val_acc: 0.9881\n",
      "Epoch 68/100\n",
      "1662/1662 [==============================] - 19s 11ms/step - loss: 0.0160 - acc: 0.9948 - val_loss: 0.0435 - val_acc: 0.9883\n",
      "Epoch 69/100\n",
      "1662/1662 [==============================] - 19s 12ms/step - loss: 0.0158 - acc: 0.9949 - val_loss: 0.0465 - val_acc: 0.9887\n",
      "Epoch 70/100\n",
      "1662/1662 [==============================] - 19s 12ms/step - loss: 0.0157 - acc: 0.9949 - val_loss: 0.0483 - val_acc: 0.9881\n",
      "Epoch 71/100\n",
      "1662/1662 [==============================] - 19s 12ms/step - loss: 0.0157 - acc: 0.9949 - val_loss: 0.0491 - val_acc: 0.9881\n",
      "Epoch 72/100\n",
      "1662/1662 [==============================] - 19s 11ms/step - loss: 0.0156 - acc: 0.9949 - val_loss: 0.0446 - val_acc: 0.9888\n",
      "Epoch 73/100\n",
      "1662/1662 [==============================] - 19s 11ms/step - loss: 0.0160 - acc: 0.9949 - val_loss: 0.0466 - val_acc: 0.9886\n",
      "Epoch 74/100\n",
      "1662/1662 [==============================] - 19s 11ms/step - loss: 0.0152 - acc: 0.9951 - val_loss: 0.0457 - val_acc: 0.9886\n",
      "Epoch 75/100\n",
      "1662/1662 [==============================] - 19s 12ms/step - loss: 0.0156 - acc: 0.9949 - val_loss: 0.0474 - val_acc: 0.9882\n",
      "Epoch 76/100\n",
      "1662/1662 [==============================] - 19s 11ms/step - loss: 0.0150 - acc: 0.9951 - val_loss: 0.0480 - val_acc: 0.9883\n",
      "Epoch 77/100\n",
      "1662/1662 [==============================] - 19s 11ms/step - loss: 0.0151 - acc: 0.9951 - val_loss: 0.0446 - val_acc: 0.9887\n",
      "Epoch 78/100\n",
      "1662/1662 [==============================] - 19s 11ms/step - loss: 0.0149 - acc: 0.9951 - val_loss: 0.0441 - val_acc: 0.9889\n",
      "Epoch 79/100\n",
      "1662/1662 [==============================] - 20s 12ms/step - loss: 0.0148 - acc: 0.9951 - val_loss: 0.0467 - val_acc: 0.9884\n",
      "Epoch 80/100\n",
      "1662/1662 [==============================] - 19s 11ms/step - loss: 0.0164 - acc: 0.9949 - val_loss: 0.0460 - val_acc: 0.9885\n",
      "Epoch 81/100\n",
      "1662/1662 [==============================] - 19s 11ms/step - loss: 0.0169 - acc: 0.9946 - val_loss: 0.0474 - val_acc: 0.9883\n",
      "Epoch 82/100\n",
      "1662/1662 [==============================] - 18s 11ms/step - loss: 0.0143 - acc: 0.9954 - val_loss: 0.0488 - val_acc: 0.9885\n",
      "Epoch 83/100\n",
      "1662/1662 [==============================] - 19s 11ms/step - loss: 0.0146 - acc: 0.9953 - val_loss: 0.0498 - val_acc: 0.9884\n",
      "Epoch 84/100\n",
      "1662/1662 [==============================] - 19s 11ms/step - loss: 0.0145 - acc: 0.9953 - val_loss: 0.0468 - val_acc: 0.9881\n",
      "Epoch 85/100\n",
      "1662/1662 [==============================] - 20s 12ms/step - loss: 0.0156 - acc: 0.9950 - val_loss: 0.0457 - val_acc: 0.9886\n",
      "Epoch 86/100\n",
      "1662/1662 [==============================] - 19s 12ms/step - loss: 0.0145 - acc: 0.9953 - val_loss: 0.0467 - val_acc: 0.9883\n",
      "Epoch 87/100\n",
      "1662/1662 [==============================] - 19s 12ms/step - loss: 0.0145 - acc: 0.9953 - val_loss: 0.0493 - val_acc: 0.9879\n",
      "Epoch 88/100\n",
      "1662/1662 [==============================] - 19s 11ms/step - loss: 0.0143 - acc: 0.9953 - val_loss: 0.0472 - val_acc: 0.9889\n",
      "Epoch 89/100\n",
      "1662/1662 [==============================] - 19s 11ms/step - loss: 0.0143 - acc: 0.9954 - val_loss: 0.0453 - val_acc: 0.9885\n",
      "Epoch 90/100\n",
      "1662/1662 [==============================] - 20s 12ms/step - loss: 0.0145 - acc: 0.9953 - val_loss: 0.0457 - val_acc: 0.9888\n",
      "Epoch 91/100\n",
      "1662/1662 [==============================] - 19s 11ms/step - loss: 0.0140 - acc: 0.9955 - val_loss: 0.0478 - val_acc: 0.9883\n",
      "Epoch 92/100\n",
      "1662/1662 [==============================] - 19s 12ms/step - loss: 0.0140 - acc: 0.9954 - val_loss: 0.0462 - val_acc: 0.9886\n",
      "Epoch 93/100\n",
      "1662/1662 [==============================] - 19s 11ms/step - loss: 0.0142 - acc: 0.9954 - val_loss: 0.0476 - val_acc: 0.9882\n",
      "Epoch 94/100\n",
      "1662/1662 [==============================] - 19s 11ms/step - loss: 0.0137 - acc: 0.9955 - val_loss: 0.0458 - val_acc: 0.9890\n",
      "Epoch 95/100\n",
      "1662/1662 [==============================] - 19s 11ms/step - loss: 0.0141 - acc: 0.9954 - val_loss: 0.0490 - val_acc: 0.9884\n",
      "Epoch 96/100\n",
      "1662/1662 [==============================] - 19s 11ms/step - loss: 0.0136 - acc: 0.9956 - val_loss: 0.0457 - val_acc: 0.9884\n",
      "Epoch 97/100\n",
      "1662/1662 [==============================] - 19s 12ms/step - loss: 0.0137 - acc: 0.9955 - val_loss: 0.0469 - val_acc: 0.9885\n",
      "Epoch 98/100\n",
      "1662/1662 [==============================] - 19s 11ms/step - loss: 0.0137 - acc: 0.9955 - val_loss: 0.0481 - val_acc: 0.9887\n",
      "Epoch 99/100\n",
      "1662/1662 [==============================] - 19s 11ms/step - loss: 0.0136 - acc: 0.9956 - val_loss: 0.0461 - val_acc: 0.9888\n",
      "Epoch 100/100\n",
      "1662/1662 [==============================] - 19s 11ms/step - loss: 0.0133 - acc: 0.9956 - val_loss: 0.0490 - val_acc: 0.9883\n",
      "LSTM multiclass Training finished in 1890.9524545669556 milisecond!!\n",
      "\n"
     ]
    }
   ],
   "source": [
    "import time\n",
    "start=time.time()\n",
    "history=model.fit(X_train,y_train,batch_size=1000,epochs=100,\n",
    "          validation_data=(X_test, y_test))\n",
    "end=time.time()\n",
    "print('LSTM multiclass Training finished in {} milisecond!!\\n'.format(end-start))"
   ]
  },
  {
   "cell_type": "code",
   "execution_count": null,
   "metadata": {
    "colab": {
     "base_uri": "https://localhost:8080/"
    },
    "id": "R1PylsE8BZwV",
    "outputId": "5676be0c-4248-4be6-8e49-d66ad89066f4"
   },
   "outputs": [
    {
     "name": "stdout",
     "output_type": "stream",
     "text": [
      "12979/12979 [==============================] - 47s 4ms/step - loss: 0.0490 - acc: 0.9883\n",
      "LSTM multiclass Testing finished in 47.0619695186615 milisecond!!\n",
      "\n",
      "Accuracy on test set: [0.049019936472177505, 0.988344132900238]\n",
      "Test loss: 0.049019936472177505\n",
      "Test accuracy: 0.988344132900238\n"
     ]
    }
   ],
   "source": [
    "start=time.time()\n",
    "results = model.evaluate(X_test, y_test)\n",
    "end=time.time()\n",
    "print('LSTM multiclass Testing finished in {} milisecond!!\\n'.format(end-start))\n",
    "print (\"Accuracy on test set:\" , results)\n",
    "print('Test loss:', results[0])\n",
    "print('Test accuracy:', results[1])"
   ]
  },
  {
   "cell_type": "code",
   "execution_count": null,
   "metadata": {
    "colab": {
     "base_uri": "https://localhost:8080/"
    },
    "id": "4biF0ej2BZwW",
    "outputId": "5b868c72-b66e-4b61-c51a-c2f4cfb18631"
   },
   "outputs": [
    {
     "name": "stdout",
     "output_type": "stream",
     "text": [
      "12979/12979 [==============================] - 47s 4ms/step - loss: 0.0490 - acc: 0.9883\n",
      "Test set\n",
      "   Accuracy: 0.988\n"
     ]
    }
   ],
   "source": [
    "y_pred1 = model.predict(X_test)\n",
    "y_pred1=(y_pred1 > 0.5)\n",
    "accr = model.evaluate(X_test,y_test)\n",
    "rnn_acc=accr[1]\n",
    "print('Test set\\n   Accuracy: {:0.3f}'.format(accr[1]))\n",
    "\n"
   ]
  },
  {
   "cell_type": "code",
   "execution_count": null,
   "metadata": {
    "colab": {
     "base_uri": "https://localhost:8080/"
    },
    "id": "OJuuUcq6BZwW",
    "outputId": "7e90acce-8a9b-4ba5-954d-5ab6c6067b80"
   },
   "outputs": [
    {
     "name": "stdout",
     "output_type": "stream",
     "text": [
      "\n",
      "\n",
      "Precision, Recall, F1\n",
      "\n",
      "\n",
      "              precision    recall  f1-score   support\n",
      "\n",
      "           0       0.98      0.99      0.98    122348\n",
      "           1       0.99      0.99      0.99    250598\n",
      "           2       0.99      0.99      0.99     40114\n",
      "           3       0.92      0.98      0.95       257\n",
      "           4       0.81      0.84      0.82      1983\n",
      "           5       1.00      1.00      1.00        28\n",
      "\n",
      "   micro avg       0.99      0.99      0.99    415328\n",
      "   macro avg       0.95      0.96      0.96    415328\n",
      "weighted avg       0.99      0.99      0.99    415328\n",
      " samples avg       0.99      0.99      0.99    415328\n",
      "\n",
      "\n",
      "\n"
     ]
    },
    {
     "name": "stderr",
     "output_type": "stream",
     "text": [
      "/usr/local/lib/python3.7/dist-packages/sklearn/metrics/_classification.py:1318: UndefinedMetricWarning: Precision and F-score are ill-defined and being set to 0.0 in samples with no predicted labels. Use `zero_division` parameter to control this behavior.\n",
      "  _warn_prf(average, modifier, msg_start, len(result))\n"
     ]
    }
   ],
   "source": [
    "from sklearn.metrics import classification_report, confusion_matrix\n",
    "print('\\n')\n",
    "print(\"Precision, Recall, F1\")\n",
    "print('\\n')\n",
    "CR=classification_report(y_test, y_pred1)\n",
    "print(CR)\n",
    "print('\\n')"
   ]
  },
  {
   "cell_type": "code",
   "execution_count": null,
   "metadata": {
    "colab": {
     "base_uri": "https://localhost:8080/",
     "height": 573
    },
    "id": "1HjQn63XBZwX",
    "outputId": "97f25735-1636-400f-e62a-4d9bc0e9de13"
   },
   "outputs": [
    {
     "data": {
      "image/png": "[encoded data removed]",
      "text/plain": [
       "<Figure size 432x288 with 1 Axes>"
      ]
     },
     "metadata": {
      "needs_background": "light"
     },
     "output_type": "display_data"
    },
    {
     "data": {
      "image/png": "[encoded data removed]",
      "text/plain": [
       "<Figure size 432x288 with 1 Axes>"
      ]
     },
     "metadata": {
      "needs_background": "light"
     },
     "output_type": "display_data"
    }
   ],
   "source": [
    "def Training_and_validation_plot(history):\n",
    "    acc = history.history['acc']\n",
    "    val_acc = history.history['val_acc']\n",
    "    loss = history.history['loss']\n",
    "    val_loss = history.history['val_loss']\n",
    "    epochs = range(1, len(acc) + 1)\n",
    "\n",
    "    plt.plot(epochs, acc, 'bo', label = 'Training Accuracy')\n",
    "    plt.plot(epochs, val_acc, 'r', label = 'Validation Accuracy')\n",
    "    plt.title('Training and Validation Accuracy')\n",
    "    plt.xlabel('Epochs')\n",
    "    plt.ylabel('Loss')\n",
    "    plt.legend()\n",
    "\n",
    "    plt.figure()\n",
    "    plt.plot(epochs, loss, 'bo', label = 'Training Loss')\n",
    "    plt.plot(epochs, val_loss, 'r', label = 'Validation Loss')\n",
    "    plt.title('Training and Validation Loss')\n",
    "    plt.xlabel('Epochs')\n",
    "    plt.ylabel('Loss')\n",
    "    plt.legend()\n",
    "    plt.show()\n",
    "Training_and_validation_plot(history)"
   ]
  },
  {
   "cell_type": "code",
   "execution_count": null,
   "metadata": {
    "colab": {
     "base_uri": "https://localhost:8080/"
    },
    "id": "kzpzbxZjBZwX",
    "outputId": "c9d0bd49-f12d-4ab5-b329-7fccd37b2aa4"
   },
   "outputs": [
    {
     "name": "stderr",
     "output_type": "stream",
     "text": [
      "WARNING:absl:Found untraced functions such as lstm_cell_2_layer_call_fn, lstm_cell_2_layer_call_and_return_conditional_losses while saving (showing 2 of 2). These functions will not be directly callable after loading.\n"
     ]
    },
    {
     "name": "stdout",
     "output_type": "stream",
     "text": [
      "INFO:tensorflow:Assets written to: ram://98e7af00-e821-44e3-b7dc-65b038ba5991/assets\n"
     ]
    },
    {
     "name": "stderr",
     "output_type": "stream",
     "text": [
      "INFO:tensorflow:Assets written to: ram://98e7af00-e821-44e3-b7dc-65b038ba5991/assets\n",
      "WARNING:absl:<keras.layers.recurrent.LSTMCell object at 0x7fa0a619f950> has the same name 'LSTMCell' as a built-in Keras object. Consider renaming <class 'keras.layers.recurrent.LSTMCell'> to avoid naming conflicts when loading with `tf.keras.models.load_model`. If renaming is not possible, pass the object in the `custom_objects` parameter of the load function.\n"
     ]
    }
   ],
   "source": [
    "import pickle\n",
    "# save the model to disk\n",
    "filename = '/content/drive/My Drive/Colab Notebooks/SMCLS_lstmmodel64,1000x100.sav'\n",
    "pickle.dump(model, open(filename, 'wb'))"
   ]
  },
  {
   "cell_type": "markdown",
   "metadata": {
    "id": "QvBq9lWADwMT"
   },
   "source": [
    "## LSTM"
   ]
  },
  {
   "cell_type": "code",
   "execution_count": null,
   "metadata": {
    "id": "J9bIevM-7WaO"
   },
   "outputs": [],
   "source": [
    "from tensorflow.keras.optimizers import RMSprop\n",
    "from keras.layers import LSTM, Activation, Dense, Dropout, Input, Conv1D, Embedding, Flatten\n",
    "def RNN_model():\n",
    "    inputs = Input(name='inputs',shape=[max_len])\n",
    "    layer = Embedding(input_dim = max_len + 1,output_dim = 50,input_length=max_len)(inputs)\n",
    "    layer = LSTM(32)(layer)\n",
    "    layer = Flatten()(layer)\n",
    "\n",
    "    layer = Dense(256,name='FC1')(layer)\n",
    "    layer = Activation('relu')(layer)\n",
    "    layer = Dropout(0.5)(layer)\n",
    "\n",
    "    layer = Dense(Domain_data['dga_family'].nunique(),name='out_layer')(layer)\n",
    "    layer = Activation('softmax')(layer)\n",
    "    model = Model(inputs=inputs,outputs=layer)\n",
    "    return model"
   ]
  },
  {
   "cell_type": "code",
   "execution_count": null,
   "metadata": {
    "colab": {
     "base_uri": "https://localhost:8080/"
    },
    "id": "QsMXrZ147lo5",
    "outputId": "cde8435b-8c92-4deb-84b6-654725432a3e"
   },
   "outputs": [
    {
     "name": "stdout",
     "output_type": "stream",
     "text": [
      "Model: \"model_1\"\n",
      "_________________________________________________________________\n",
      " Layer (type)                Output Shape              Param #   \n",
      "=================================================================\n",
      " inputs (InputLayer)         [(None, 50)]              0         \n",
      "                                                                 \n",
      " embedding_1 (Embedding)     (None, 50, 50)            2550      \n",
      "                                                                 \n",
      " lstm_1 (LSTM)               (None, 32)                10624     \n",
      "                                                                 \n",
      " flatten_1 (Flatten)         (None, 32)                0         \n",
      "                                                                 \n",
      " FC1 (Dense)                 (None, 256)               8448      \n",
      "                                                                 \n",
      " activation_2 (Activation)   (None, 256)               0         \n",
      "                                                                 \n",
      " dropout_1 (Dropout)         (None, 256)               0         \n",
      "                                                                 \n",
      " out_layer (Dense)           (None, 6)                 1542      \n",
      "                                                                 \n",
      " activation_3 (Activation)   (None, 6)                 0         \n",
      "                                                                 \n",
      "=================================================================\n",
      "Total params: 23,164\n",
      "Trainable params: 23,164\n",
      "Non-trainable params: 0\n",
      "_________________________________________________________________\n"
     ]
    }
   ],
   "source": [
    "from tensorflow.keras.models import Sequential, Model\n",
    "model = RNN_model()\n",
    "model.summary()\n",
    "model.compile(loss='categorical_crossentropy',optimizer='adam',metrics=['acc'])"
   ]
  },
  {
   "cell_type": "code",
   "execution_count": null,
   "metadata": {
    "colab": {
     "base_uri": "https://localhost:8080/"
    },
    "id": "o1Ow6m_O8l0u",
    "outputId": "a6d38b80-1b64-40b6-a580-2c91551a9abc"
   },
   "outputs": [
    {
     "name": "stdout",
     "output_type": "stream",
     "text": [
      "Epoch 1/100\n",
      "1662/1662 [==============================] - 26s 10ms/step - loss: 0.4985 - acc: 0.7960 - val_loss: 0.3489 - val_acc: 0.8659\n",
      "Epoch 2/100\n",
      "1662/1662 [==============================] - 14s 9ms/step - loss: 0.2752 - acc: 0.8832 - val_loss: 0.2342 - val_acc: 0.9089\n",
      "Epoch 3/100\n",
      "1662/1662 [==============================] - 14s 8ms/step - loss: 0.2499 - acc: 0.8961 - val_loss: 0.2518 - val_acc: 0.8899\n",
      "Epoch 4/100\n",
      "1662/1662 [==============================] - 15s 9ms/step - loss: 0.2085 - acc: 0.9140 - val_loss: 0.2254 - val_acc: 0.9006\n",
      "Epoch 5/100\n",
      "1662/1662 [==============================] - 15s 9ms/step - loss: 0.1985 - acc: 0.9212 - val_loss: 0.1922 - val_acc: 0.9165\n",
      "Epoch 6/100\n",
      "1662/1662 [==============================] - 16s 9ms/step - loss: 0.1635 - acc: 0.9343 - val_loss: 0.1663 - val_acc: 0.9298\n",
      "Epoch 7/100\n",
      "1662/1662 [==============================] - 15s 9ms/step - loss: 0.1450 - acc: 0.9436 - val_loss: 0.1750 - val_acc: 0.9252\n",
      "Epoch 8/100\n",
      "1662/1662 [==============================] - 15s 9ms/step - loss: 0.1285 - acc: 0.9515 - val_loss: 0.1475 - val_acc: 0.9424\n",
      "Epoch 9/100\n",
      "1662/1662 [==============================] - 14s 9ms/step - loss: 0.1173 - acc: 0.9565 - val_loss: 0.1055 - val_acc: 0.9610\n",
      "Epoch 10/100\n",
      "1662/1662 [==============================] - 14s 9ms/step - loss: 0.1073 - acc: 0.9608 - val_loss: 0.1162 - val_acc: 0.9557\n",
      "Epoch 11/100\n",
      "1662/1662 [==============================] - 15s 9ms/step - loss: 0.0985 - acc: 0.9644 - val_loss: 0.1162 - val_acc: 0.9568\n",
      "Epoch 12/100\n",
      "1662/1662 [==============================] - 14s 9ms/step - loss: 0.1007 - acc: 0.9643 - val_loss: 0.1066 - val_acc: 0.9621\n",
      "Epoch 13/100\n",
      "1662/1662 [==============================] - 15s 9ms/step - loss: 0.0926 - acc: 0.9674 - val_loss: 0.1019 - val_acc: 0.9625\n",
      "Epoch 14/100\n",
      "1662/1662 [==============================] - 15s 9ms/step - loss: 0.0847 - acc: 0.9700 - val_loss: 0.0932 - val_acc: 0.9671\n",
      "Epoch 15/100\n",
      "1662/1662 [==============================] - 15s 9ms/step - loss: 0.0792 - acc: 0.9721 - val_loss: 0.0882 - val_acc: 0.9679\n",
      "Epoch 16/100\n",
      "1662/1662 [==============================] - 16s 10ms/step - loss: 0.0762 - acc: 0.9734 - val_loss: 0.0929 - val_acc: 0.9656\n",
      "Epoch 17/100\n",
      "1662/1662 [==============================] - 16s 9ms/step - loss: 0.0712 - acc: 0.9754 - val_loss: 0.0790 - val_acc: 0.9713\n",
      "Epoch 18/100\n",
      "1662/1662 [==============================] - 14s 9ms/step - loss: 0.0691 - acc: 0.9762 - val_loss: 0.0854 - val_acc: 0.9686\n",
      "Epoch 19/100\n",
      "1662/1662 [==============================] - 15s 9ms/step - loss: 0.0651 - acc: 0.9778 - val_loss: 0.0702 - val_acc: 0.9754\n",
      "Epoch 20/100\n",
      "1662/1662 [==============================] - 14s 9ms/step - loss: 0.0631 - acc: 0.9785 - val_loss: 0.0790 - val_acc: 0.9715\n",
      "Epoch 21/100\n",
      "1662/1662 [==============================] - 14s 8ms/step - loss: 0.0599 - acc: 0.9799 - val_loss: 0.0748 - val_acc: 0.9740\n",
      "Epoch 22/100\n",
      "1662/1662 [==============================] - 14s 8ms/step - loss: 0.0579 - acc: 0.9806 - val_loss: 0.0736 - val_acc: 0.9746\n",
      "Epoch 23/100\n",
      "1662/1662 [==============================] - 15s 9ms/step - loss: 0.0557 - acc: 0.9814 - val_loss: 0.0680 - val_acc: 0.9767\n",
      "Epoch 24/100\n",
      "1662/1662 [==============================] - 14s 8ms/step - loss: 0.0541 - acc: 0.9822 - val_loss: 0.0719 - val_acc: 0.9756\n",
      "Epoch 25/100\n",
      "1662/1662 [==============================] - 14s 8ms/step - loss: 0.0529 - acc: 0.9825 - val_loss: 0.0784 - val_acc: 0.9718\n",
      "Epoch 26/100\n",
      "1662/1662 [==============================] - 14s 9ms/step - loss: 0.0569 - acc: 0.9814 - val_loss: 0.0717 - val_acc: 0.9751\n",
      "Epoch 27/100\n",
      "1662/1662 [==============================] - 14s 8ms/step - loss: 0.0511 - acc: 0.9834 - val_loss: 0.0781 - val_acc: 0.9715\n",
      "Epoch 28/100\n",
      "1662/1662 [==============================] - 15s 9ms/step - loss: 0.0494 - acc: 0.9840 - val_loss: 0.0683 - val_acc: 0.9766\n",
      "Epoch 29/100\n",
      "1662/1662 [==============================] - 14s 9ms/step - loss: 0.0480 - acc: 0.9844 - val_loss: 0.0773 - val_acc: 0.9740\n",
      "Epoch 30/100\n",
      "1662/1662 [==============================] - 14s 8ms/step - loss: 0.0472 - acc: 0.9846 - val_loss: 0.0640 - val_acc: 0.9780\n",
      "Epoch 31/100\n",
      "1662/1662 [==============================] - 16s 10ms/step - loss: 0.0459 - acc: 0.9851 - val_loss: 0.0638 - val_acc: 0.9783\n",
      "Epoch 32/100\n",
      "1662/1662 [==============================] - 14s 9ms/step - loss: 0.0451 - acc: 0.9854 - val_loss: 0.0671 - val_acc: 0.9774\n",
      "Epoch 33/100\n",
      "1662/1662 [==============================] - 15s 9ms/step - loss: 0.0447 - acc: 0.9855 - val_loss: 0.0706 - val_acc: 0.9771\n",
      "Epoch 34/100\n",
      "1662/1662 [==============================] - 16s 9ms/step - loss: 0.0434 - acc: 0.9860 - val_loss: 0.0726 - val_acc: 0.9751\n",
      "Epoch 35/100\n",
      "1662/1662 [==============================] - 14s 9ms/step - loss: 0.0426 - acc: 0.9863 - val_loss: 0.0629 - val_acc: 0.9796\n",
      "Epoch 36/100\n",
      "1662/1662 [==============================] - 15s 9ms/step - loss: 0.0417 - acc: 0.9866 - val_loss: 0.0638 - val_acc: 0.9790\n",
      "Epoch 37/100\n",
      "1662/1662 [==============================] - 15s 9ms/step - loss: 0.0412 - acc: 0.9867 - val_loss: 0.0584 - val_acc: 0.9809\n",
      "Epoch 38/100\n",
      "1662/1662 [==============================] - 14s 9ms/step - loss: 0.0406 - acc: 0.9870 - val_loss: 0.0569 - val_acc: 0.9817\n",
      "Epoch 39/100\n",
      "1662/1662 [==============================] - 15s 9ms/step - loss: 0.0398 - acc: 0.9872 - val_loss: 0.0687 - val_acc: 0.9774\n",
      "Epoch 40/100\n",
      "1662/1662 [==============================] - 15s 9ms/step - loss: 0.0395 - acc: 0.9873 - val_loss: 0.0595 - val_acc: 0.9803\n",
      "Epoch 41/100\n",
      "1662/1662 [==============================] - 14s 9ms/step - loss: 0.0386 - acc: 0.9876 - val_loss: 0.0624 - val_acc: 0.9807\n",
      "Epoch 42/100\n",
      "1662/1662 [==============================] - 15s 9ms/step - loss: 0.0384 - acc: 0.9877 - val_loss: 0.0582 - val_acc: 0.9811\n",
      "Epoch 43/100\n",
      "1662/1662 [==============================] - 15s 9ms/step - loss: 0.0388 - acc: 0.9876 - val_loss: 0.0570 - val_acc: 0.9818\n",
      "Epoch 44/100\n",
      "1662/1662 [==============================] - 14s 8ms/step - loss: 0.0371 - acc: 0.9881 - val_loss: 0.0575 - val_acc: 0.9815\n",
      "Epoch 45/100\n",
      "1662/1662 [==============================] - 14s 8ms/step - loss: 0.0377 - acc: 0.9879 - val_loss: 0.0591 - val_acc: 0.9813\n",
      "Epoch 46/100\n",
      "1662/1662 [==============================] - 15s 9ms/step - loss: 0.0367 - acc: 0.9882 - val_loss: 0.0561 - val_acc: 0.9815\n",
      "Epoch 47/100\n",
      "1662/1662 [==============================] - 15s 9ms/step - loss: 0.0377 - acc: 0.9879 - val_loss: 0.0600 - val_acc: 0.9810\n",
      "Epoch 48/100\n",
      "1662/1662 [==============================] - 16s 9ms/step - loss: 0.0354 - acc: 0.9886 - val_loss: 0.0558 - val_acc: 0.9828\n",
      "Epoch 49/100\n",
      "1662/1662 [==============================] - 15s 9ms/step - loss: 0.0351 - acc: 0.9887 - val_loss: 0.0592 - val_acc: 0.9811\n",
      "Epoch 50/100\n",
      "1662/1662 [==============================] - 14s 9ms/step - loss: 0.0350 - acc: 0.9887 - val_loss: 0.0562 - val_acc: 0.9823\n",
      "Epoch 51/100\n",
      "1662/1662 [==============================] - 14s 9ms/step - loss: 0.0348 - acc: 0.9889 - val_loss: 0.0561 - val_acc: 0.9820\n",
      "Epoch 52/100\n",
      "1662/1662 [==============================] - 14s 9ms/step - loss: 0.0346 - acc: 0.9889 - val_loss: 0.0565 - val_acc: 0.9823\n",
      "Epoch 53/100\n",
      "1662/1662 [==============================] - 16s 9ms/step - loss: 0.0337 - acc: 0.9892 - val_loss: 0.0581 - val_acc: 0.9814\n",
      "Epoch 54/100\n",
      "1662/1662 [==============================] - 15s 9ms/step - loss: 0.0342 - acc: 0.9891 - val_loss: 0.0547 - val_acc: 0.9828\n",
      "Epoch 55/100\n",
      "1662/1662 [==============================] - 14s 9ms/step - loss: 0.0335 - acc: 0.9893 - val_loss: 0.0560 - val_acc: 0.9821\n",
      "Epoch 56/100\n",
      "1662/1662 [==============================] - 15s 9ms/step - loss: 0.0335 - acc: 0.9893 - val_loss: 0.0621 - val_acc: 0.9800\n",
      "Epoch 57/100\n",
      "1662/1662 [==============================] - 16s 9ms/step - loss: 0.0330 - acc: 0.9894 - val_loss: 0.0561 - val_acc: 0.9830\n",
      "Epoch 58/100\n",
      "1662/1662 [==============================] - 16s 9ms/step - loss: 0.0328 - acc: 0.9895 - val_loss: 0.0540 - val_acc: 0.9834\n",
      "Epoch 59/100\n",
      "1662/1662 [==============================] - 14s 9ms/step - loss: 0.0329 - acc: 0.9894 - val_loss: 0.0601 - val_acc: 0.9820\n",
      "Epoch 60/100\n",
      "1662/1662 [==============================] - 15s 9ms/step - loss: 0.0322 - acc: 0.9896 - val_loss: 0.0553 - val_acc: 0.9829\n",
      "Epoch 61/100\n",
      "1662/1662 [==============================] - 15s 9ms/step - loss: 0.0318 - acc: 0.9898 - val_loss: 0.0557 - val_acc: 0.9828\n",
      "Epoch 62/100\n",
      "1662/1662 [==============================] - 16s 9ms/step - loss: 0.0318 - acc: 0.9897 - val_loss: 0.0551 - val_acc: 0.9830\n",
      "Epoch 63/100\n",
      "1662/1662 [==============================] - 14s 8ms/step - loss: 0.0321 - acc: 0.9897 - val_loss: 0.0538 - val_acc: 0.9833\n",
      "Epoch 64/100\n",
      "1662/1662 [==============================] - 15s 9ms/step - loss: 0.0328 - acc: 0.9895 - val_loss: 0.0541 - val_acc: 0.9835\n",
      "Epoch 65/100\n",
      "1662/1662 [==============================] - 14s 8ms/step - loss: 0.0309 - acc: 0.9901 - val_loss: 0.0574 - val_acc: 0.9823\n",
      "Epoch 66/100\n",
      "1662/1662 [==============================] - 14s 8ms/step - loss: 0.0310 - acc: 0.9900 - val_loss: 0.0539 - val_acc: 0.9836\n",
      "Epoch 67/100\n",
      "1662/1662 [==============================] - 14s 8ms/step - loss: 0.0310 - acc: 0.9901 - val_loss: 0.0542 - val_acc: 0.9837\n",
      "Epoch 68/100\n",
      "1662/1662 [==============================] - 15s 9ms/step - loss: 0.0303 - acc: 0.9902 - val_loss: 0.0541 - val_acc: 0.9842\n",
      "Epoch 69/100\n",
      "1662/1662 [==============================] - 15s 9ms/step - loss: 0.0311 - acc: 0.9900 - val_loss: 0.0552 - val_acc: 0.9829\n",
      "Epoch 70/100\n",
      "1662/1662 [==============================] - 14s 8ms/step - loss: 0.0301 - acc: 0.9903 - val_loss: 0.0550 - val_acc: 0.9828\n",
      "Epoch 71/100\n",
      "1662/1662 [==============================] - 14s 8ms/step - loss: 0.0301 - acc: 0.9903 - val_loss: 0.0527 - val_acc: 0.9844\n",
      "Epoch 72/100\n",
      "1662/1662 [==============================] - 14s 8ms/step - loss: 0.0298 - acc: 0.9904 - val_loss: 0.0550 - val_acc: 0.9830\n",
      "Epoch 73/100\n",
      "1662/1662 [==============================] - 15s 9ms/step - loss: 0.0297 - acc: 0.9904 - val_loss: 0.0576 - val_acc: 0.9834\n",
      "Epoch 74/100\n",
      "1662/1662 [==============================] - 14s 8ms/step - loss: 0.0300 - acc: 0.9904 - val_loss: 0.0682 - val_acc: 0.9797\n",
      "Epoch 75/100\n",
      "1662/1662 [==============================] - 15s 9ms/step - loss: 0.0301 - acc: 0.9903 - val_loss: 0.0547 - val_acc: 0.9836\n",
      "Epoch 76/100\n",
      "1662/1662 [==============================] - 14s 8ms/step - loss: 0.0290 - acc: 0.9907 - val_loss: 0.0565 - val_acc: 0.9825\n",
      "Epoch 77/100\n",
      "1662/1662 [==============================] - 15s 9ms/step - loss: 0.0290 - acc: 0.9906 - val_loss: 0.0542 - val_acc: 0.9844\n",
      "Epoch 78/100\n",
      "1662/1662 [==============================] - 15s 9ms/step - loss: 0.0293 - acc: 0.9906 - val_loss: 0.0551 - val_acc: 0.9836\n",
      "Epoch 79/100\n",
      "1662/1662 [==============================] - 14s 8ms/step - loss: 0.0287 - acc: 0.9907 - val_loss: 0.0588 - val_acc: 0.9825\n",
      "Epoch 80/100\n",
      "1662/1662 [==============================] - 14s 8ms/step - loss: 0.0288 - acc: 0.9906 - val_loss: 0.0522 - val_acc: 0.9847\n",
      "Epoch 81/100\n",
      "1662/1662 [==============================] - 14s 8ms/step - loss: 0.0287 - acc: 0.9907 - val_loss: 0.0517 - val_acc: 0.9852\n",
      "Epoch 82/100\n",
      "1662/1662 [==============================] - 14s 8ms/step - loss: 0.0281 - acc: 0.9909 - val_loss: 0.0526 - val_acc: 0.9848\n",
      "Epoch 83/100\n",
      "1662/1662 [==============================] - 15s 9ms/step - loss: 0.0281 - acc: 0.9909 - val_loss: 0.0536 - val_acc: 0.9842\n",
      "Epoch 84/100\n",
      "1662/1662 [==============================] - 14s 8ms/step - loss: 0.0279 - acc: 0.9909 - val_loss: 0.0567 - val_acc: 0.9835\n",
      "Epoch 85/100\n",
      "1662/1662 [==============================] - 15s 9ms/step - loss: 0.0280 - acc: 0.9909 - val_loss: 0.0536 - val_acc: 0.9847\n",
      "Epoch 86/100\n",
      "1662/1662 [==============================] - 15s 9ms/step - loss: 0.0308 - acc: 0.9901 - val_loss: 0.0523 - val_acc: 0.9846\n",
      "Epoch 87/100\n",
      "1662/1662 [==============================] - 14s 8ms/step - loss: 0.0273 - acc: 0.9912 - val_loss: 0.0535 - val_acc: 0.9852\n",
      "Epoch 88/100\n",
      "1662/1662 [==============================] - 14s 8ms/step - loss: 0.0275 - acc: 0.9911 - val_loss: 0.0546 - val_acc: 0.9847\n",
      "Epoch 89/100\n",
      "1662/1662 [==============================] - 14s 8ms/step - loss: 0.0278 - acc: 0.9910 - val_loss: 0.0544 - val_acc: 0.9843\n",
      "Epoch 90/100\n",
      "1662/1662 [==============================] - 14s 8ms/step - loss: 0.0276 - acc: 0.9911 - val_loss: 0.0549 - val_acc: 0.9847\n",
      "Epoch 91/100\n",
      "1662/1662 [==============================] - 14s 8ms/step - loss: 0.0280 - acc: 0.9909 - val_loss: 0.0534 - val_acc: 0.9848\n",
      "Epoch 92/100\n",
      "1662/1662 [==============================] - 14s 9ms/step - loss: 0.0275 - acc: 0.9911 - val_loss: 0.0538 - val_acc: 0.9844\n",
      "Epoch 93/100\n",
      "1662/1662 [==============================] - 16s 10ms/step - loss: 0.0272 - acc: 0.9911 - val_loss: 0.0569 - val_acc: 0.9838\n",
      "Epoch 94/100\n",
      "1662/1662 [==============================] - 15s 9ms/step - loss: 0.0274 - acc: 0.9910 - val_loss: 0.0544 - val_acc: 0.9846\n",
      "Epoch 95/100\n",
      "1662/1662 [==============================] - 15s 9ms/step - loss: 0.0272 - acc: 0.9912 - val_loss: 0.0548 - val_acc: 0.9848\n",
      "Epoch 96/100\n",
      "1662/1662 [==============================] - 15s 9ms/step - loss: 0.0267 - acc: 0.9913 - val_loss: 0.0572 - val_acc: 0.9833\n",
      "Epoch 97/100\n",
      "1662/1662 [==============================] - 14s 8ms/step - loss: 0.0272 - acc: 0.9912 - val_loss: 0.0539 - val_acc: 0.9849\n",
      "Epoch 98/100\n",
      "1662/1662 [==============================] - 14s 8ms/step - loss: 0.0268 - acc: 0.9913 - val_loss: 0.0546 - val_acc: 0.9848\n",
      "Epoch 99/100\n",
      "1662/1662 [==============================] - 14s 8ms/step - loss: 0.0266 - acc: 0.9914 - val_loss: 0.0563 - val_acc: 0.9842\n",
      "Epoch 100/100\n",
      "1662/1662 [==============================] - 16s 10ms/step - loss: 0.0267 - acc: 0.9913 - val_loss: 0.0563 - val_acc: 0.9849\n",
      "LSTM multiclass Training finished in 1485.1773357391357 milisecond!!\n",
      "\n"
     ]
    }
   ],
   "source": [
    "import time\n",
    "start=time.time()\n",
    "history=model.fit(X_train,y_train,batch_size=1000,epochs=100,\n",
    "          validation_data=(X_test, y_test))\n",
    "end=time.time()\n",
    "print('LSTM multiclass Training finished in {} milisecond!!\\n'.format(end-start))"
   ]
  },
  {
   "cell_type": "code",
   "execution_count": null,
   "metadata": {
    "colab": {
     "base_uri": "https://localhost:8080/"
    },
    "id": "7E17z8oTjRs8",
    "outputId": "09f0234d-c918-43b8-cacb-c4a8d99c3f91"
   },
   "outputs": [
    {
     "name": "stdout",
     "output_type": "stream",
     "text": [
      "12979/12979 [==============================] - 46s 4ms/step - loss: 0.0563 - acc: 0.9849\n",
      "LSTM multiclass Testing finished in 82.33244323730469 milisecond!!\n",
      "\n",
      "Accuracy on test set: [0.05630779638886452, 0.9849468469619751]\n",
      "Test loss: 0.05630779638886452\n",
      "Test accuracy: 0.9849468469619751\n"
     ]
    }
   ],
   "source": [
    "start=time.time()\n",
    "results = model.evaluate(X_test, y_test)\n",
    "end=time.time()\n",
    "print('LSTM multiclass Testing finished in {} milisecond!!\\n'.format(end-start))\n",
    "print (\"Accuracy on test set:\" , results)\n",
    "print('Test loss:', results[0])\n",
    "print('Test accuracy:', results[1])"
   ]
  },
  {
   "cell_type": "code",
   "execution_count": null,
   "metadata": {
    "colab": {
     "base_uri": "https://localhost:8080/"
    },
    "id": "u9BdrMJJ_h52",
    "outputId": "8ff8a6fa-7ca7-4479-d91c-7cf381e97d63"
   },
   "outputs": [
    {
     "name": "stdout",
     "output_type": "stream",
     "text": [
      "12979/12979 [==============================] - 46s 4ms/step - loss: 0.0563 - acc: 0.9849\n",
      "Test set\n",
      "   Accuracy: 0.985\n"
     ]
    }
   ],
   "source": [
    "y_pred1 = model.predict(X_test)\n",
    "y_pred1=(y_pred1 > 0.5)\n",
    "accr = model.evaluate(X_test,y_test)\n",
    "rnn_acc=accr[1]\n",
    "print('Test set\\n   Accuracy: {:0.3f}'.format(accr[1]))\n",
    "\n"
   ]
  },
  {
   "cell_type": "code",
   "execution_count": null,
   "metadata": {
    "colab": {
     "base_uri": "https://localhost:8080/"
    },
    "id": "_ChLl-7X_jjc",
    "outputId": "73252aa0-a07c-4f44-ed7e-36b46c657cb2"
   },
   "outputs": [
    {
     "name": "stdout",
     "output_type": "stream",
     "text": [
      "\n",
      "\n",
      "Precision, Recall, F1\n",
      "\n",
      "\n",
      "              precision    recall  f1-score   support\n",
      "\n",
      "           0       0.97      0.98      0.98    122348\n",
      "           1       0.99      0.99      0.99    250598\n",
      "           2       0.99      0.99      0.99     40114\n",
      "           3       0.94      0.96      0.95       257\n",
      "           4       0.73      0.86      0.79      1983\n",
      "           5       1.00      1.00      1.00        28\n",
      "\n",
      "   micro avg       0.98      0.98      0.98    415328\n",
      "   macro avg       0.94      0.96      0.95    415328\n",
      "weighted avg       0.99      0.98      0.99    415328\n",
      " samples avg       0.98      0.98      0.98    415328\n",
      "\n",
      "\n",
      "\n"
     ]
    },
    {
     "name": "stderr",
     "output_type": "stream",
     "text": [
      "/usr/local/lib/python3.7/dist-packages/sklearn/metrics/_classification.py:1318: UndefinedMetricWarning: Precision and F-score are ill-defined and being set to 0.0 in samples with no predicted labels. Use `zero_division` parameter to control this behavior.\n",
      "  _warn_prf(average, modifier, msg_start, len(result))\n"
     ]
    }
   ],
   "source": [
    "from sklearn.metrics import classification_report, confusion_matrix\n",
    "print('\\n')\n",
    "print(\"Precision, Recall, F1\")\n",
    "print('\\n')\n",
    "CR=classification_report(y_test, y_pred1)\n",
    "print(CR)\n",
    "print('\\n')"
   ]
  },
  {
   "cell_type": "code",
   "execution_count": null,
   "metadata": {
    "colab": {
     "base_uri": "https://localhost:8080/",
     "height": 573
    },
    "id": "niEsttt6_aD0",
    "outputId": "839437ca-8ddc-4f8c-e90c-981f6cc438c6"
   },
   "outputs": [
    {
     "data": {
      "image/png": "[encoded data removed]",
      "text/plain": [
       "<Figure size 432x288 with 1 Axes>"
      ]
     },
     "metadata": {
      "needs_background": "light"
     },
     "output_type": "display_data"
    },
    {
     "data": {
      "image/png": "[encoded data removed]",
      "text/plain": [
       "<Figure size 432x288 with 1 Axes>"
      ]
     },
     "metadata": {
      "needs_background": "light"
     },
     "output_type": "display_data"
    }
   ],
   "source": [
    "def Training_and_validation_plot(history):\n",
    "    acc = history.history['acc']\n",
    "    val_acc = history.history['val_acc']\n",
    "    loss = history.history['loss']\n",
    "    val_loss = history.history['val_loss']\n",
    "    epochs = range(1, len(acc) + 1)\n",
    "\n",
    "    plt.plot(epochs, acc, 'bo', label = 'Training Accuracy')\n",
    "    plt.plot(epochs, val_acc, 'r', label = 'Validation Accuracy')\n",
    "    plt.title('Training and Validation Accuracy')\n",
    "    plt.xlabel('Epochs')\n",
    "    plt.ylabel('Loss')\n",
    "    plt.legend()\n",
    "\n",
    "    plt.figure()\n",
    "    plt.plot(epochs, loss, 'bo', label = 'Training Loss')\n",
    "    plt.plot(epochs, val_loss, 'r', label = 'Validation Loss')\n",
    "    plt.title('Training and Validation Loss')\n",
    "    plt.xlabel('Epochs')\n",
    "    plt.ylabel('Loss')\n",
    "    plt.legend()\n",
    "    plt.show()\n",
    "Training_and_validation_plot(history)"
   ]
  },
  {
   "cell_type": "code",
   "execution_count": null,
   "metadata": {
    "colab": {
     "base_uri": "https://localhost:8080/"
    },
    "id": "FmP3uajvEa2y",
    "outputId": "a4439d8e-7ded-435e-fb87-07c38f1154f4"
   },
   "outputs": [
    {
     "name": "stderr",
     "output_type": "stream",
     "text": [
      "WARNING:absl:Found untraced functions such as lstm_cell_1_layer_call_fn, lstm_cell_1_layer_call_and_return_conditional_losses while saving (showing 2 of 2). These functions will not be directly callable after loading.\n"
     ]
    },
    {
     "name": "stdout",
     "output_type": "stream",
     "text": [
      "INFO:tensorflow:Assets written to: ram://c62fa230-a4d7-4e5a-bc9b-c6cc8340c52f/assets\n"
     ]
    },
    {
     "name": "stderr",
     "output_type": "stream",
     "text": [
      "INFO:tensorflow:Assets written to: ram://c62fa230-a4d7-4e5a-bc9b-c6cc8340c52f/assets\n",
      "WARNING:absl:<keras.layers.recurrent.LSTMCell object at 0x7fa0bc5222d0> has the same name 'LSTMCell' as a built-in Keras object. Consider renaming <class 'keras.layers.recurrent.LSTMCell'> to avoid naming conflicts when loading with `tf.keras.models.load_model`. If renaming is not possible, pass the object in the `custom_objects` parameter of the load function.\n"
     ]
    }
   ],
   "source": [
    "import pickle\n",
    "# save the model to disk\n",
    "filename = '/content/drive/My Drive/Colab Notebooks/MCLS_lstmmodel128,1000x100_2nd.sav'\n",
    "pickle.dump(model, open(filename, 'wb'))"
   ]
  }
 ],
 "metadata": {
  "accelerator": "GPU",
  "colab": {
   "collapsed_sections": [
    "N5I3H70AHjIh",
    "3VYqXZFhLusC",
    "gIdkTM2TQKk4",
    "BYftXIGgQizL",
    "koT2c6pKvHr1",
    "PEuMbnt2D0gv"
   ],
   "provenance": []
  },
  "kernelspec": {
   "display_name": "Python 3 (ipykernel)",
   "language": "python",
   "name": "python3"
  },
  "language_info": {
   "codemirror_mode": {
    "name": "ipython",
    "version": 3
   },
   "file_extension": ".py",
   "mimetype": "text/x-python",
   "name": "python",
   "nbconvert_exporter": "python",
   "pygments_lexer": "ipython3",
   "version": "3.10.9"
  }
 },
 "nbformat": 4,
 "nbformat_minor": 1
}
