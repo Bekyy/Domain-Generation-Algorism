{
 "cells": [
  {
   "cell_type": "code",
   "execution_count": null,
   "metadata": {
    "id": "PRA4adyjdWcn"
   },
   "outputs": [],
   "source": [
    "import tensorflow as tf\n",
    "import numpy as np\n",
    "import pandas as pd\n",
    "import math\n",
    "from collections import Counter\n",
    "from sklearn.model_selection import train_test_split\n",
    "from sklearn.model_selection import GridSearchCV"
   ]
  },
  {
   "cell_type": "code",
   "execution_count": null,
   "metadata": {
    "colab": {
     "base_uri": "https://localhost:8080/"
    },
    "id": "-miIBab7lnn8",
    "outputId": "5e44bfe3-2d71-4583-852d-46c665e3c96b"
   },
   "outputs": [
    {
     "name": "stdout",
     "output_type": "stream",
     "text": [
      "Mounted at /content/drive\n"
     ]
    }
   ],
   "source": [
    "from google.colab import drive\n",
    "drive.mount('/content/drive')"
   ]
  },
  {
   "cell_type": "markdown",
   "metadata": {
    "id": "N5I3H70AHjIh"
   },
   "source": [
    "## Load both legitmate & DGA domains"
   ]
  },
  {
   "cell_type": "code",
   "execution_count": null,
   "metadata": {
    "colab": {
     "base_uri": "https://localhost:8080/",
     "height": 270
    },
    "id": "dcNuKohwKnIO",
    "outputId": "2e2002c1-c302-41c8-80c5-9d30b3be6e21"
   },
   "outputs": [
    {
     "data": {
      "text/html": [
       "\n",
       "  <div id=\"df-35dddadb-c190-462d-b97c-fac553e40a2c\">\n",
       "    <div class=\"colab-df-container\">\n",
       "      <div>\n",
       "<style scoped>\n",
       "    .dataframe tbody tr th:only-of-type {\n",
       "        vertical-align: middle;\n",
       "    }\n",
       "\n",
       "    .dataframe tbody tr th {\n",
       "        vertical-align: top;\n",
       "    }\n",
       "\n",
       "    .dataframe thead th {\n",
       "        text-align: right;\n",
       "    }\n",
       "</style>\n",
       "<table border=\"1\" class=\"dataframe\">\n",
       "  <thead>\n",
       "    <tr style=\"text-align: right;\">\n",
       "      <th></th>\n",
       "      <th>domain_name</th>\n",
       "      <th>dga_family</th>\n",
       "      <th>domain</th>\n",
       "      <th>length</th>\n",
       "      <th>entropy</th>\n",
       "      <th>first_Digit_Index</th>\n",
       "      <th>H_entropy</th>\n",
       "      <th>vowel_consonant_ratio</th>\n",
       "      <th>vowel_character_ratio</th>\n",
       "      <th>consonant_character_ratio</th>\n",
       "      <th>level_no</th>\n",
       "      <th>alexa_grams</th>\n",
       "      <th>words_grams</th>\n",
       "    </tr>\n",
       "  </thead>\n",
       "  <tbody>\n",
       "    <tr>\n",
       "      <th>0</th>\n",
       "      <td>odqzesdvd.info</td>\n",
       "      <td>Super_family_2</td>\n",
       "      <td>odqzesdvd</td>\n",
       "      <td>9</td>\n",
       "      <td>2.641604</td>\n",
       "      <td>0</td>\n",
       "      <td>3.324863</td>\n",
       "      <td>0.444444</td>\n",
       "      <td>0.285714</td>\n",
       "      <td>0.642857</td>\n",
       "      <td>2</td>\n",
       "      <td>8.618689</td>\n",
       "      <td>10.200253</td>\n",
       "    </tr>\n",
       "    <tr>\n",
       "      <th>1</th>\n",
       "      <td>mcrwnxdzu.info</td>\n",
       "      <td>Super_family_2</td>\n",
       "      <td>mcrwnxdzu</td>\n",
       "      <td>9</td>\n",
       "      <td>3.169925</td>\n",
       "      <td>0</td>\n",
       "      <td>3.664498</td>\n",
       "      <td>0.300000</td>\n",
       "      <td>0.214286</td>\n",
       "      <td>0.714286</td>\n",
       "      <td>2</td>\n",
       "      <td>5.331953</td>\n",
       "      <td>4.442651</td>\n",
       "    </tr>\n",
       "    <tr>\n",
       "      <th>2</th>\n",
       "      <td>poxrscvfoy.biz</td>\n",
       "      <td>Super_family_2</td>\n",
       "      <td>poxrscvfoy</td>\n",
       "      <td>10</td>\n",
       "      <td>3.121928</td>\n",
       "      <td>0</td>\n",
       "      <td>3.664498</td>\n",
       "      <td>0.300000</td>\n",
       "      <td>0.214286</td>\n",
       "      <td>0.714286</td>\n",
       "      <td>2</td>\n",
       "      <td>9.758886</td>\n",
       "      <td>11.231941</td>\n",
       "    </tr>\n",
       "    <tr>\n",
       "      <th>3</th>\n",
       "      <td>dupzwi.info</td>\n",
       "      <td>Super_family_2</td>\n",
       "      <td>dupzwi</td>\n",
       "      <td>6</td>\n",
       "      <td>2.584963</td>\n",
       "      <td>0</td>\n",
       "      <td>3.277613</td>\n",
       "      <td>0.666667</td>\n",
       "      <td>0.363636</td>\n",
       "      <td>0.545455</td>\n",
       "      <td>2</td>\n",
       "      <td>3.861893</td>\n",
       "      <td>7.928046</td>\n",
       "    </tr>\n",
       "    <tr>\n",
       "      <th>4</th>\n",
       "      <td>pgldibr.com</td>\n",
       "      <td>Super_family_2</td>\n",
       "      <td>pgldibr</td>\n",
       "      <td>7</td>\n",
       "      <td>2.807355</td>\n",
       "      <td>0</td>\n",
       "      <td>3.459432</td>\n",
       "      <td>0.250000</td>\n",
       "      <td>0.181818</td>\n",
       "      <td>0.727273</td>\n",
       "      <td>2</td>\n",
       "      <td>12.146719</td>\n",
       "      <td>20.785039</td>\n",
       "    </tr>\n",
       "  </tbody>\n",
       "</table>\n",
       "</div>\n",
       "      <button class=\"colab-df-convert\" onclick=\"convertToInteractive('df-35dddadb-c190-462d-b97c-fac553e40a2c')\"\n",
       "              title=\"Convert this dataframe to an interactive table.\"\n",
       "              style=\"display:none;\">\n",
       "        \n",
       "  <svg xmlns=\"http://www.w3.org/2000/svg\" height=\"24px\"viewBox=\"0 0 24 24\"\n",
       "       width=\"24px\">\n",
       "    <path d=\"M0 0h24v24H0V0z\" fill=\"none\"/>\n",
       "    <path d=\"M18.56 5.44l.94 2.06.94-2.06 2.06-.94-2.06-.94-.94-2.06-.94 2.06-2.06.94zm-11 1L8.5 8.5l.94-2.06 2.06-.94-2.06-.94L8.5 2.5l-.94 2.06-2.06.94zm10 10l.94 2.06.94-2.06 2.06-.94-2.06-.94-.94-2.06-.94 2.06-2.06.94z\"/><path d=\"M17.41 7.96l-1.37-1.37c-.4-.4-.92-.59-1.43-.59-.52 0-1.04.2-1.43.59L10.3 9.45l-7.72 7.72c-.78.78-.78 2.05 0 2.83L4 21.41c.39.39.9.59 1.41.59.51 0 1.02-.2 1.41-.59l7.78-7.78 2.81-2.81c.8-.78.8-2.07 0-2.86zM5.41 20L4 18.59l7.72-7.72 1.47 1.35L5.41 20z\"/>\n",
       "  </svg>\n",
       "      </button>\n",
       "      \n",
       "  <style>\n",
       "    .colab-df-container {\n",
       "      display:flex;\n",
       "      flex-wrap:wrap;\n",
       "      gap: 12px;\n",
       "    }\n",
       "\n",
       "    .colab-df-convert {\n",
       "      background-color: #E8F0FE;\n",
       "      border: none;\n",
       "      border-radius: 50%;\n",
       "      cursor: pointer;\n",
       "      display: none;\n",
       "      fill: #1967D2;\n",
       "      height: 32px;\n",
       "      padding: 0 0 0 0;\n",
       "      width: 32px;\n",
       "    }\n",
       "\n",
       "    .colab-df-convert:hover {\n",
       "      background-color: #E2EBFA;\n",
       "      box-shadow: 0px 1px 2px rgba(60, 64, 67, 0.3), 0px 1px 3px 1px rgba(60, 64, 67, 0.15);\n",
       "      fill: #174EA6;\n",
       "    }\n",
       "\n",
       "    [theme=dark] .colab-df-convert {\n",
       "      background-color: #3B4455;\n",
       "      fill: #D2E3FC;\n",
       "    }\n",
       "\n",
       "    [theme=dark] .colab-df-convert:hover {\n",
       "      background-color: #434B5C;\n",
       "      box-shadow: 0px 1px 3px 1px rgba(0, 0, 0, 0.15);\n",
       "      filter: drop-shadow(0px 1px 2px rgba(0, 0, 0, 0.3));\n",
       "      fill: #FFFFFF;\n",
       "    }\n",
       "  </style>\n",
       "\n",
       "      <script>\n",
       "        const buttonEl =\n",
       "          document.querySelector('#df-35dddadb-c190-462d-b97c-fac553e40a2c button.colab-df-convert');\n",
       "        buttonEl.style.display =\n",
       "          google.colab.kernel.accessAllowed ? 'block' : 'none';\n",
       "\n",
       "        async function convertToInteractive(key) {\n",
       "          const element = document.querySelector('#df-35dddadb-c190-462d-b97c-fac553e40a2c');\n",
       "          const dataTable =\n",
       "            await google.colab.kernel.invokeFunction('convertToInteractive',\n",
       "                                                     [key], {});\n",
       "          if (!dataTable) return;\n",
       "\n",
       "          const docLinkHtml = 'Like what you see? Visit the ' +\n",
       "            '<a target=\"_blank\" href=https://colab.research.google.com/notebooks/data_table.ipynb>data table notebook</a>'\n",
       "            + ' to learn more about interactive tables.';\n",
       "          element.innerHTML = '';\n",
       "          dataTable['output_type'] = 'display_data';\n",
       "          await google.colab.output.renderOutput(dataTable, element);\n",
       "          const docLink = document.createElement('div');\n",
       "          docLink.innerHTML = docLinkHtml;\n",
       "          element.appendChild(docLink);\n",
       "        }\n",
       "      </script>\n",
       "    </div>\n",
       "  </div>\n",
       "  "
      ],
      "text/plain": [
       "      domain_name      dga_family      domain  length   entropy  \\\n",
       "0  odqzesdvd.info  Super_family_2   odqzesdvd       9  2.641604   \n",
       "1  mcrwnxdzu.info  Super_family_2   mcrwnxdzu       9  3.169925   \n",
       "2  poxrscvfoy.biz  Super_family_2  poxrscvfoy      10  3.121928   \n",
       "3     dupzwi.info  Super_family_2      dupzwi       6  2.584963   \n",
       "4     pgldibr.com  Super_family_2     pgldibr       7  2.807355   \n",
       "\n",
       "   first_Digit_Index  H_entropy  vowel_consonant_ratio  vowel_character_ratio  \\\n",
       "0                  0   3.324863               0.444444               0.285714   \n",
       "1                  0   3.664498               0.300000               0.214286   \n",
       "2                  0   3.664498               0.300000               0.214286   \n",
       "3                  0   3.277613               0.666667               0.363636   \n",
       "4                  0   3.459432               0.250000               0.181818   \n",
       "\n",
       "   consonant_character_ratio  level_no  alexa_grams  words_grams  \n",
       "0                   0.642857         2     8.618689    10.200253  \n",
       "1                   0.714286         2     5.331953     4.442651  \n",
       "2                   0.714286         2     9.758886    11.231941  \n",
       "3                   0.545455         2     3.861893     7.928046  \n",
       "4                   0.727273         2    12.146719    20.785039  "
      ]
     },
     "execution_count": 10,
     "metadata": {},
     "output_type": "execute_result"
    }
   ],
   "source": [
    "Domain_data = pd.read_csv('/content/drive/My Drive/Colab Notebooks/Super_MLDOMAIN_MCLS2.csv')\n",
    "Domain_data.drop([\"Unnamed: 0\"], axis=1, inplace=True)\n",
    "Domain_data.head()"
   ]
  },
  {
   "cell_type": "code",
   "execution_count": null,
   "metadata": {
    "id": "ByvYS93UKzJW"
   },
   "outputs": [],
   "source": [
    "Domain_data.domain=Domain_data.domain.astype(str)"
   ]
  },
  {
   "cell_type": "code",
   "execution_count": null,
   "metadata": {
    "id": "i_ei54QWY3gO"
   },
   "outputs": [],
   "source": [
    "from sklearn.preprocessing import LabelEncoder\n",
    "X = Domain_data.domain\n",
    "Y = Domain_data['dga_family']"
   ]
  },
  {
   "cell_type": "code",
   "execution_count": null,
   "metadata": {
    "id": "2N1bHJUvMWZX"
   },
   "outputs": [],
   "source": [
    "#from sklearn.preprocessing import LabelBinarizer\n",
    "#Y = LabelBinarizer().fit_transform(Y)"
   ]
  },
  {
   "cell_type": "code",
   "execution_count": null,
   "metadata": {
    "id": "bFlYDW419nku"
   },
   "outputs": [],
   "source": [
    "le=LabelEncoder()\n",
    "Y = le.fit_transform(Y)"
   ]
  },
  {
   "cell_type": "code",
   "execution_count": null,
   "metadata": {
    "id": "6fl2GHSlZaKu"
   },
   "outputs": [],
   "source": [
    "from keras.preprocessing.text import Tokenizer\n",
    "from keras.preprocessing import sequence\n",
    "from keras.models import Sequential\n",
    "\n",
    "#max_words = num_words\n",
    "max_len = 50\n",
    "\n",
    "# Tokenizer\n",
    "tok = Tokenizer(num_words=None, char_level=True, oov_token='UNK')\n",
    "tok.fit_on_texts(X)\n",
    "sequences = tok.texts_to_sequences(X)\n",
    "sequences_matrix = sequence.pad_sequences(sequences,padding='post',maxlen=max_len)"
   ]
  },
  {
   "cell_type": "code",
   "execution_count": null,
   "metadata": {
    "id": "B4QPgo4XLIe_"
   },
   "outputs": [],
   "source": [
    "X_train, X_test, y_train, y_test = train_test_split(sequences_matrix, Y, test_size=0.20,random_state=42)"
   ]
  },
  {
   "cell_type": "code",
   "execution_count": null,
   "metadata": {
    "id": "aNzxqJ-b1tFb"
   },
   "outputs": [],
   "source": [
    "from imblearn.over_sampling import RandomOverSampler\n",
    "strategy = {2:166131,3:166131,4:249197, 5:166131} \n",
    "ovrsmt = RandomOverSampler(sampling_strategy=strategy)"
   ]
  },
  {
   "cell_type": "code",
   "execution_count": null,
   "metadata": {
    "id": "frzo-eCr1tFb"
   },
   "outputs": [],
   "source": [
    "from imblearn.under_sampling import RandomUnderSampler\n",
    "udrsmt = RandomUnderSampler(sampling_strategy={0:332262,1:581459})"
   ]
  },
  {
   "cell_type": "code",
   "execution_count": null,
   "metadata": {
    "id": "IBIrGhUn1tFc"
   },
   "outputs": [],
   "source": [
    "from imblearn.pipeline import Pipeline\n",
    "steps = [('o', ovrsmt), ('u', udrsmt)]\n",
    "pipeline = Pipeline(steps=steps)"
   ]
  },
  {
   "cell_type": "code",
   "execution_count": null,
   "metadata": {
    "id": "nedTlrur1tFc"
   },
   "outputs": [],
   "source": [
    "X_train, y_train = pipeline.fit_resample(X_train, y_train)"
   ]
  },
  {
   "cell_type": "code",
   "execution_count": null,
   "metadata": {
    "id": "Ww-Nh62NVFl5"
   },
   "outputs": [],
   "source": [
    "import pickle\n",
    "# save the model to disk\n",
    "filename = '/content/drive/My Drive/Colab Notebooks/sMX_train_sm.csv'\n",
    "pickle.dump(X_train, open(filename, 'wb'))"
   ]
  },
  {
   "cell_type": "code",
   "execution_count": null,
   "metadata": {
    "id": "MYki7OWLZIwD"
   },
   "outputs": [],
   "source": [
    "filename = '/content/drive/My Drive/Colab Notebooks/sMX_test_sm.csv'\n",
    "pickle.dump(X_test, open(filename, 'wb'))\n"
   ]
  },
  {
   "cell_type": "code",
   "execution_count": null,
   "metadata": {
    "id": "3zDZp0RVZLkS"
   },
   "outputs": [],
   "source": [
    "filename = '/content/drive/My Drive/Colab Notebooks/sMy_train_sm.csv'\n",
    "pickle.dump(y_train, open(filename, 'wb'))"
   ]
  },
  {
   "cell_type": "code",
   "execution_count": null,
   "metadata": {
    "id": "GzFJeY4WZOMi"
   },
   "outputs": [],
   "source": [
    "filename = '/content/drive/My Drive/Colab Notebooks/sMy_test_sm.csv'\n",
    "pickle.dump(y_test, open(filename, 'wb'))"
   ]
  },
  {
   "cell_type": "markdown",
   "metadata": {
    "id": "C5tWm423tqJA"
   },
   "source": [
    "## Load Model and extract feature from an intermidiate layer"
   ]
  },
  {
   "cell_type": "code",
   "execution_count": null,
   "metadata": {
    "id": "XDnxXugo-c17"
   },
   "outputs": [],
   "source": [
    "import pickle\n",
    "# load the model from disk\n",
    "filename = '/content/drive/My Drive/Colab Notebooks/SMCLS_lstmmodel64,1000x100.sav'\n",
    "loaded_model = pickle.load(open(filename, 'rb'))"
   ]
  },
  {
   "cell_type": "code",
   "execution_count": null,
   "metadata": {
    "id": "et43UEQdkeoV"
   },
   "outputs": [],
   "source": [
    "import pickle\n",
    "filename = '/content/drive/My Drive/Colab Notebooks/SMX_train_sm.csv'\n",
    "X_train = pickle.load(open(filename, 'rb'))"
   ]
  },
  {
   "cell_type": "code",
   "execution_count": null,
   "metadata": {
    "id": "vHHQI0uvkvQb"
   },
   "outputs": [],
   "source": [
    "filename = '/content/drive/My Drive/Colab Notebooks/SMy_train_sm.csv'\n",
    "y_train = pickle.load(open(filename, 'rb'))"
   ]
  },
  {
   "cell_type": "code",
   "execution_count": null,
   "metadata": {
    "id": "QNhL60LxkzYN"
   },
   "outputs": [],
   "source": [
    "filename = '/content/drive/My Drive/Colab Notebooks/SMX_test_sm.csv'\n",
    "X_test = pickle.load(open(filename, 'rb'))"
   ]
  },
  {
   "cell_type": "code",
   "execution_count": null,
   "metadata": {
    "id": "FUpaU9quk4iD"
   },
   "outputs": [],
   "source": [
    "filename = '/content/drive/My Drive/Colab Notebooks/SMy_test_sm.csv'\n",
    "y_test = pickle.load(open(filename, 'rb'))"
   ]
  },
  {
   "cell_type": "code",
   "execution_count": null,
   "metadata": {
    "id": "LeGxbhVL-od6"
   },
   "outputs": [],
   "source": [
    "from tensorflow import keras\n",
    "layer_name = 'flatten_2'\n",
    "intermediate_layer_model = keras.Model(inputs=loaded_model.input,\n",
    "                                 outputs=loaded_model.get_layer(layer_name).output)\n",
    "intermediate_output = intermediate_layer_model.predict(X_train)"
   ]
  },
  {
   "cell_type": "markdown",
   "metadata": {
    "id": "3kTJ_DgdTdMo"
   },
   "source": [
    "### Decision Tree"
   ]
  },
  {
   "cell_type": "code",
   "execution_count": null,
   "metadata": {
    "colab": {
     "base_uri": "https://localhost:8080/"
    },
    "id": "ASwFb0tITdMp",
    "outputId": "eb135fb4-f688-4e7d-f38a-7fff8cea7a5e"
   },
   "outputs": [
    {
     "name": "stdout",
     "output_type": "stream",
     "text": [
      "It took 543.9129936695099 milliseconds to train DT with feature from multiclass LSTM intermidiate layer.\n",
      "\n"
     ]
    }
   ],
   "source": [
    "from sklearn.tree import DecisionTreeClassifier\n",
    "import time\n",
    "start = time.time()\n",
    "DTmodel = DecisionTreeClassifier().fit(intermediate_output, y_train)\n",
    "end = time.time()\n",
    "print(\"It took {} milliseconds to train DT with feature from multiclass LSTM intermidiate layer.\\n\".format(end-start))"
   ]
  },
  {
   "cell_type": "code",
   "execution_count": null,
   "metadata": {
    "colab": {
     "base_uri": "https://localhost:8080/"
    },
    "id": "jJz3ehzMZzgp",
    "outputId": "9d3c539a-860b-4fa8-a1f6-e313a449328c"
   },
   "outputs": [
    {
     "name": "stdout",
     "output_type": "stream",
     "text": [
      "              precision    recall  f1-score   support\n",
      "\n",
      "           0       0.98      0.98      0.98    122348\n",
      "           1       0.99      0.99      0.99    250598\n",
      "           2       0.99      0.99      0.99     40114\n",
      "           3       0.95      0.95      0.95       257\n",
      "           4       0.87      0.79      0.83      1983\n",
      "           5       1.00      1.00      1.00        28\n",
      "\n",
      "    accuracy                           0.98    415328\n",
      "   macro avg       0.96      0.95      0.96    415328\n",
      "weighted avg       0.98      0.98      0.98    415328\n",
      "\n",
      "It took 99.53607153892517 milliseconds to test DT with feature from multiclass LSTM intermidiate layer.\n",
      "\n"
     ]
    }
   ],
   "source": [
    "from sklearn.metrics import precision_score, accuracy_score,classification_report\n",
    "start = time.time()\n",
    "DTpred = DTmodel.predict(intermediate_layer_model.predict(X_test))\n",
    "end = time.time()\n",
    "print(classification_report(y_test, DTpred))\n",
    "print(\"It took {} milliseconds to test DT with feature from multiclass LSTM intermidiate layer.\\n\".format(end-start))"
   ]
  },
  {
   "cell_type": "code",
   "execution_count": null,
   "metadata": {
    "colab": {
     "base_uri": "https://localhost:8080/"
    },
    "id": "bKwdVIIhTdMr",
    "outputId": "22adb37e-41b4-42b6-c8e8-69826d0bbe18"
   },
   "outputs": [
    {
     "name": "stdout",
     "output_type": "stream",
     "text": [
      "accuracy on the train set:  0.9999969903287224\n",
      "accuracy on the test set:  0.9849347985206872\n"
     ]
    }
   ],
   "source": [
    "print('accuracy on the train set: ', accuracy_score(DTmodel.predict(intermediate_output), y_train))\n",
    "print('accuracy on the test set: ', accuracy_score(DTpred, y_test))"
   ]
  },
  {
   "cell_type": "code",
   "execution_count": null,
   "metadata": {
    "id": "NKe0lbvmTdMs"
   },
   "outputs": [],
   "source": [
    "from sklearn import metrics\n",
    "import matplotlib.pyplot as plt\n",
    "\n",
    "etpprd = DTmodel.predict_proba(intermediate_layer_model.predict(X_test))"
   ]
  },
  {
   "cell_type": "code",
   "execution_count": null,
   "metadata": {
    "colab": {
     "base_uri": "https://localhost:8080/"
    },
    "id": "jOeKnDoiTdMs",
    "outputId": "9b040633-0fbd-43fc-bcb9-66ea39caabdb"
   },
   "outputs": [
    {
     "name": "stdout",
     "output_type": "stream",
     "text": [
      "0.9763042861899536\n"
     ]
    }
   ],
   "source": [
    "auc = metrics.roc_auc_score(y_test, etpprd, multi_class='ovo', average='weighted')\n",
    "print(auc)"
   ]
  },
  {
   "cell_type": "code",
   "execution_count": null,
   "metadata": {
    "id": "PR7iPkMiTdMt"
   },
   "outputs": [],
   "source": [
    "import pickle\n",
    "# save the model to disk\n",
    "filename = '/content/drive/My Drive/Colab Notebooks/sMLSTM+DTmodel.sav'\n",
    "pickle.dump(DTmodel, open(filename, 'wb'))"
   ]
  },
  {
   "cell_type": "markdown",
   "metadata": {
    "id": "BYftXIGgQizL"
   },
   "source": [
    "### Random Forest Classifier"
   ]
  },
  {
   "cell_type": "code",
   "execution_count": null,
   "metadata": {
    "colab": {
     "base_uri": "https://localhost:8080/"
    },
    "id": "hToX3gJwQizM",
    "outputId": "fc469e2f-25d2-4d9a-917c-bcbfd89762e2"
   },
   "outputs": [
    {
     "name": "stdout",
     "output_type": "stream",
     "text": [
      "It took 3957.920889854431 milliseconds to train RF with feature from multiclass LSTM intermidiate layer.\n",
      "\n"
     ]
    }
   ],
   "source": [
    "import time\n",
    "from sklearn.ensemble import RandomForestClassifier\n",
    "start = time.time()\n",
    "RFmodel = RandomForestClassifier().fit(intermediate_output, y_train)\n",
    "end = time.time()\n",
    "print(\"It took {} milliseconds to train RF with feature from multiclass LSTM intermidiate layer.\\n\".format(end-start))"
   ]
  },
  {
   "cell_type": "code",
   "execution_count": null,
   "metadata": {
    "colab": {
     "base_uri": "https://localhost:8080/"
    },
    "id": "xi8e1PBmho3b",
    "outputId": "7d3758f9-9246-400e-ebba-59756704e01a"
   },
   "outputs": [
    {
     "name": "stdout",
     "output_type": "stream",
     "text": [
      "It took 109.30394649505615 milliseconds to test LR with feature from multiclass LSTM intermidiate layer.\n",
      "\n",
      "              precision    recall  f1-score   support\n",
      "\n",
      "           0       0.98      0.99      0.98    122348\n",
      "           1       0.99      0.99      0.99    250598\n",
      "           2       0.99      0.99      0.99     40114\n",
      "           3       0.95      0.96      0.95       257\n",
      "           4       0.86      0.81      0.84      1983\n",
      "           5       1.00      1.00      1.00        28\n",
      "\n",
      "    accuracy                           0.99    415328\n",
      "   macro avg       0.96      0.96      0.96    415328\n",
      "weighted avg       0.99      0.99      0.99    415328\n",
      "\n"
     ]
    }
   ],
   "source": [
    "from sklearn.metrics import precision_score, accuracy_score,classification_report\n",
    "start = time.time()\n",
    "RFpred = RFmodel.predict(intermediate_layer_model.predict(X_test))\n",
    "end = time.time()\n",
    "print(\"It took {} milliseconds to test LR with feature from multiclass LSTM intermidiate layer.\\n\".format(end-start))\n",
    "print(classification_report(y_test, RFpred))"
   ]
  },
  {
   "cell_type": "code",
   "execution_count": null,
   "metadata": {
    "colab": {
     "base_uri": "https://localhost:8080/"
    },
    "id": "eXMH5smPyPsO",
    "outputId": "d7e3f64a-fab5-4297-b2f0-c3eb4ec696c1"
   },
   "outputs": [
    {
     "name": "stdout",
     "output_type": "stream",
     "text": [
      "accuracy on the train set:  0.9999951845259557\n",
      "accuracy on the test set:  0.9890664727636952\n"
     ]
    }
   ],
   "source": [
    "print('accuracy on the train set: ', accuracy_score(RFmodel.predict(intermediate_output), y_train))\n",
    "print('accuracy on the test set: ', accuracy_score(RFpred, y_test))"
   ]
  },
  {
   "cell_type": "code",
   "execution_count": null,
   "metadata": {
    "id": "6Ip9hFBkd319"
   },
   "outputs": [],
   "source": [
    "from sklearn import metrics\n",
    "import matplotlib.pyplot as plt\n",
    "\n",
    "etpprd = RFmodel.predict_proba(intermediate_layer_model.predict(X_test))"
   ]
  },
  {
   "cell_type": "code",
   "execution_count": null,
   "metadata": {
    "colab": {
     "base_uri": "https://localhost:8080/"
    },
    "id": "aXDxOGZMd319",
    "outputId": "09075e11-a525-4ae0-dd87-5e868630101f"
   },
   "outputs": [
    {
     "name": "stdout",
     "output_type": "stream",
     "text": [
      "0.9896814446267379\n"
     ]
    }
   ],
   "source": [
    "auc = metrics.roc_auc_score(y_test, etpprd, multi_class='ovo', average='weighted')\n",
    "print(auc)"
   ]
  },
  {
   "cell_type": "code",
   "execution_count": null,
   "metadata": {
    "id": "LqMw0arDyPsR"
   },
   "outputs": [],
   "source": [
    "import pickle\n",
    "# save the model to disk\n",
    "filename = '/content/drive/My Drive/Colab Notebooks/sMLSTM+RFmodel.sav'\n",
    "pickle.dump(RFmodel, open(filename, 'wb'))"
   ]
  },
  {
   "cell_type": "code",
   "execution_count": null,
   "metadata": {
    "id": "RU7UyewBdH45"
   },
   "outputs": [],
   "source": [
    "from sklearn.metrics import accuracy_score, precision_score, recall_score, f1_score\n",
    "precision=precision_score(RFmodel.predict(intermediate_layer_model.predict(X_test)),y_test)\n",
    "recall=recall_score(RFmodel.predict(intermediate_layer_model.predict(X_test)),y_test)\n",
    "f1=f1_score(RFmodel.predict(intermediate_layer_model.predict(X_test)),y_test)\n",
    "accuracy=accuracy_score(RFmodel.predict(intermediate_layer_model.predict(X_test)),y_test)\n",
    "print(accuracy,precision,recall,f1)"
   ]
  },
  {
   "cell_type": "markdown",
   "metadata": {
    "id": "3VYqXZFhLusC"
   },
   "source": [
    "### Logistic Regression"
   ]
  },
  {
   "cell_type": "code",
   "execution_count": null,
   "metadata": {
    "colab": {
     "base_uri": "https://localhost:8080/"
    },
    "id": "j0jWAfV7LusC",
    "outputId": "8f72fc62-3166-4ef5-b960-13ba8c74c600"
   },
   "outputs": [
    {
     "name": "stdout",
     "output_type": "stream",
     "text": [
      "It took 125.89345169067383 milliseconds to train LR with feature from multiclass LSTM intermidiate layer.\n",
      "\n"
     ]
    },
    {
     "name": "stderr",
     "output_type": "stream",
     "text": [
      "/usr/local/lib/python3.7/dist-packages/sklearn/linear_model/_logistic.py:818: ConvergenceWarning: lbfgs failed to converge (status=1):\n",
      "STOP: TOTAL NO. of ITERATIONS REACHED LIMIT.\n",
      "\n",
      "Increase the number of iterations (max_iter) or scale the data as shown in:\n",
      "    https://scikit-learn.org/stable/modules/preprocessing.html\n",
      "Please also refer to the documentation for alternative solver options:\n",
      "    https://scikit-learn.org/stable/modules/linear_model.html#logistic-regression\n",
      "  extra_warning_msg=_LOGISTIC_SOLVER_CONVERGENCE_MSG,\n"
     ]
    }
   ],
   "source": [
    "from sklearn.linear_model import LogisticRegression\n",
    "import time\n",
    "start = time.time()\n",
    "Lreg = LogisticRegression().fit(intermediate_output, y_train)\n",
    "end = time.time()\n",
    "print(\"It took {} milliseconds to train LR with feature from multiclass LSTM intermidiate layer.\\n\".format(end-start))"
   ]
  },
  {
   "cell_type": "code",
   "execution_count": null,
   "metadata": {
    "colab": {
     "base_uri": "https://localhost:8080/"
    },
    "id": "PeI00gkDLusE",
    "outputId": "78ddaec1-fc4d-4703-f031-a55ccc117f7e"
   },
   "outputs": [
    {
     "name": "stdout",
     "output_type": "stream",
     "text": [
      "It took 96.48069739341736 milliseconds to test LR with feature from multiclass LSTM intermidiate layer.\n",
      "\n",
      "              precision    recall  f1-score   support\n",
      "\n",
      "           0       0.98      0.99      0.98    122348\n",
      "           1       0.99      0.99      0.99    250598\n",
      "           2       0.99      0.99      0.99     40114\n",
      "           3       0.92      0.98      0.95       257\n",
      "           4       0.80      0.84      0.82      1983\n",
      "           5       0.97      1.00      0.98        28\n",
      "\n",
      "    accuracy                           0.99    415328\n",
      "   macro avg       0.94      0.96      0.95    415328\n",
      "weighted avg       0.99      0.99      0.99    415328\n",
      "\n"
     ]
    }
   ],
   "source": [
    "from sklearn.metrics import precision_score, accuracy_score,classification_report\n",
    "start = time.time()\n",
    "Lregy_pred = Lreg.predict(intermediate_layer_model.predict(X_test))\n",
    "end = time.time()\n",
    "print(\"It took {} milliseconds to test LR with feature from multiclass LSTM intermidiate layer.\\n\".format(end-start))\n",
    "print(classification_report(y_test, Lregy_pred))"
   ]
  },
  {
   "cell_type": "code",
   "execution_count": null,
   "metadata": {
    "colab": {
     "base_uri": "https://localhost:8080/"
    },
    "id": "CxmPUO5byMvG",
    "outputId": "a26f0125-1de1-46b4-8faa-7d3b1f6999a9"
   },
   "outputs": [
    {
     "name": "stdout",
     "output_type": "stream",
     "text": [
      "accuracy on the train set:  0.9948594814577162\n",
      "accuracy on the test set:  0.9885415864088143\n"
     ]
    }
   ],
   "source": [
    "print('accuracy on the train set: ', accuracy_score(Lreg.predict(intermediate_output), y_train))\n",
    "print('accuracy on the test set: ', accuracy_score(Lregy_pred, y_test))"
   ]
  },
  {
   "cell_type": "code",
   "execution_count": null,
   "metadata": {
    "id": "Lmg_OrJNcrbz"
   },
   "outputs": [],
   "source": [
    "from sklearn import metrics\n",
    "import matplotlib.pyplot as plt\n",
    "\n",
    "etpprd = Lreg.predict_proba(intermediate_layer_model.predict(X_test))"
   ]
  },
  {
   "cell_type": "code",
   "execution_count": null,
   "metadata": {
    "colab": {
     "base_uri": "https://localhost:8080/"
    },
    "id": "9Xeiaxyxcrb8",
    "outputId": "2d8d117b-b2e4-4b71-a36f-45fba2e85064"
   },
   "outputs": [
    {
     "name": "stdout",
     "output_type": "stream",
     "text": [
      "0.9966374652741955\n"
     ]
    }
   ],
   "source": [
    "auc = metrics.roc_auc_score(y_test, etpprd, multi_class='ovo', average='weighted')\n",
    "print(auc)"
   ]
  },
  {
   "cell_type": "code",
   "execution_count": null,
   "metadata": {
    "id": "_ofui4vtyMvL"
   },
   "outputs": [],
   "source": [
    "import pickle\n",
    "# save the model to disk\n",
    "filename = '/content/drive/My Drive/Colab Notebooks/sMLSTM+LRmodel.sav'\n",
    "pickle.dump(Lreg, open(filename, 'wb'))"
   ]
  },
  {
   "cell_type": "code",
   "execution_count": null,
   "metadata": {
    "id": "Ys5BQ98udUcg"
   },
   "outputs": [],
   "source": [
    "from sklearn.metrics import accuracy_score, precision_score, recall_score, f1_score\n",
    "precision=precision_score(Lreg.predict(intermediate_layer_model.predict(X_test)),y_test)\n",
    "recall=recall_score(Lreg.predict(intermediate_layer_model.predict(X_test)),y_test)\n",
    "f1=f1_score(Lreg.predict(intermediate_layer_model.predict(X_test)),y_test)\n",
    "accuracy=accuracy_score(Lreg.predict(intermediate_layer_model.predict(X_test)),y_test)\n",
    "print(accuracy,precision,recall,f1"
   ]
  },
  {
   "cell_type": "markdown",
   "metadata": {
    "id": "gIdkTM2TQKk4"
   },
   "source": [
    "### Naive Bayes"
   ]
  },
  {
   "cell_type": "code",
   "execution_count": null,
   "metadata": {
    "colab": {
     "base_uri": "https://localhost:8080/"
    },
    "id": "I89r9btmQKk5",
    "outputId": "05d219a3-80f6-4f72-ab41-837b27799755"
   },
   "outputs": [
    {
     "name": "stdout",
     "output_type": "stream",
     "text": [
      "It took 1.800511121749878 milliseconds to train NB with feature from multiclass LSTM intermidiate layer.\n",
      "\n"
     ]
    }
   ],
   "source": [
    "from sklearn.naive_bayes import GaussianNB\n",
    "start = time.time()\n",
    "gnb = GaussianNB().fit(intermediate_output, y_train)\n",
    "end = time.time()\n",
    "print(\"It took {} milliseconds to train NB with feature from multiclass LSTM intermidiate layer.\\n\".format(end-start))"
   ]
  },
  {
   "cell_type": "code",
   "execution_count": null,
   "metadata": {
    "colab": {
     "base_uri": "https://localhost:8080/"
    },
    "id": "ASoFPFyxQKk5",
    "outputId": "6786e6c2-4a08-477e-a8bc-bcf1e9b512d5"
   },
   "outputs": [
    {
     "name": "stdout",
     "output_type": "stream",
     "text": [
      "It took 143.36213326454163 milliseconds to test NB with feature from multiclass LSTM intermidiate layer.\n",
      "\n",
      "              precision    recall  f1-score   support\n",
      "\n",
      "           0       0.95      0.99      0.97    122348\n",
      "           1       1.00      0.97      0.98    250598\n",
      "           2       0.99      0.99      0.99     40114\n",
      "           3       0.68      0.98      0.80       257\n",
      "           4       0.68      0.84      0.75      1983\n",
      "           5       1.00      1.00      1.00        28\n",
      "\n",
      "    accuracy                           0.98    415328\n",
      "   macro avg       0.88      0.96      0.92    415328\n",
      "weighted avg       0.98      0.98      0.98    415328\n",
      "\n"
     ]
    }
   ],
   "source": [
    "from sklearn.metrics import precision_score, accuracy_score,classification_report\n",
    "start = time.time()\n",
    "gnb_pred = gnb.predict(intermediate_layer_model.predict(X_test))\n",
    "end = time.time()\n",
    "print(\"It took {} milliseconds to test NB with feature from multiclass LSTM intermidiate layer.\\n\".format(end-start))\n",
    "print(classification_report(y_test, gnb_pred))"
   ]
  },
  {
   "cell_type": "code",
   "execution_count": null,
   "metadata": {
    "colab": {
     "base_uri": "https://localhost:8080/"
    },
    "id": "SFG2gLhgyOle",
    "outputId": "97c67b8d-6493-4fc8-c161-df1b22311c6a"
   },
   "outputs": [
    {
     "name": "stdout",
     "output_type": "stream",
     "text": [
      "accuracy on the train set:  0.9870481806236159\n",
      "accuracy on the test set:  0.9780703444024963\n"
     ]
    }
   ],
   "source": [
    "print('accuracy on the train set: ', accuracy_score(gnb.predict(intermediate_output), y_train))\n",
    "print('accuracy on the test set: ', accuracy_score(gnb_pred, y_test))"
   ]
  },
  {
   "cell_type": "code",
   "execution_count": null,
   "metadata": {
    "id": "CS7a2Yjtdq-v"
   },
   "outputs": [],
   "source": [
    "from sklearn import metrics\n",
    "import matplotlib.pyplot as plt\n",
    "\n",
    "etpprd = gnb.predict_proba(intermediate_layer_model.predict(X_test))"
   ]
  },
  {
   "cell_type": "code",
   "execution_count": null,
   "metadata": {
    "colab": {
     "base_uri": "https://localhost:8080/"
    },
    "id": "0gMi7qmRdq-v",
    "outputId": "a0a5efda-1a35-4a28-dee8-4202c324a23c"
   },
   "outputs": [
    {
     "name": "stdout",
     "output_type": "stream",
     "text": [
      "0.9922636679509432\n"
     ]
    }
   ],
   "source": [
    "auc = metrics.roc_auc_score(y_test, etpprd, multi_class='ovo', average='weighted')\n",
    "print(auc)"
   ]
  },
  {
   "cell_type": "code",
   "execution_count": null,
   "metadata": {
    "id": "VCIi3RXsyOli"
   },
   "outputs": [],
   "source": [
    "import pickle\n",
    "# save the model to disk\n",
    "filename = '/content/drive/My Drive/Colab Notebooks/sMLSTM+NBmodel.sav'\n",
    "pickle.dump(gnb, open(filename, 'wb'))"
   ]
  },
  {
   "cell_type": "code",
   "execution_count": null,
   "metadata": {
    "id": "TgKL5v7idaqw"
   },
   "outputs": [],
   "source": [
    "from sklearn.metrics import accuracy_score, precision_score, recall_score, f1_score\n",
    "precision=precision_score(gnb.predict(intermediate_layer_model.predict(X_test)),y_test)\n",
    "recall=recall_score(gnb.predict(intermediate_layer_model.predict(X_test)),y_test)\n",
    "f1=f1_score(gnb.predict(intermediate_layer_model.predict(X_test)),y_test)\n",
    "accuracy=accuracy_score(gnb.predict(intermediate_layer_model.predict(X_test)),y_test)\n",
    "print(accuracy,precision,recall,f1"
   ]
  },
  {
   "cell_type": "markdown",
   "metadata": {
    "id": "oHIaB-sZwldL"
   },
   "source": [
    "### Adaboost Classifier"
   ]
  },
  {
   "cell_type": "code",
   "execution_count": null,
   "metadata": {
    "colab": {
     "base_uri": "https://localhost:8080/"
    },
    "id": "cw2W6KYTwlda",
    "outputId": "853a9f20-2fa3-4e43-ec5d-15ef33f2a0d4"
   },
   "outputs": [
    {
     "name": "stdout",
     "output_type": "stream",
     "text": [
      "It took 17002.392912864685 milliseconds to train AB with feature from multiclass LSTM intermidiate layer.\n",
      "\n"
     ]
    }
   ],
   "source": [
    "from sklearn.ensemble import AdaBoostClassifier\n",
    "from sklearn.tree import DecisionTreeClassifier\n",
    "import time\n",
    "start = time.time()\n",
    "ABmodel = AdaBoostClassifier(DecisionTreeClassifier()).fit(intermediate_output, y_train)\n",
    "end = time.time()\n",
    "print(\"It took {} milliseconds to train AB with feature from multiclass LSTM intermidiate layer.\\n\".format(end-start))"
   ]
  },
  {
   "cell_type": "code",
   "execution_count": null,
   "metadata": {
    "colab": {
     "base_uri": "https://localhost:8080/"
    },
    "id": "8Cxbqi27wldb",
    "outputId": "c6f0ef83-6b8a-417d-a6da-3db4e43f1f09"
   },
   "outputs": [
    {
     "name": "stdout",
     "output_type": "stream",
     "text": [
      "              precision    recall  f1-score   support\n",
      "\n",
      "           0       0.98      0.99      0.98    122348\n",
      "           1       0.99      0.99      0.99    250598\n",
      "           2       0.99      0.99      0.99     40114\n",
      "           3       0.95      0.96      0.95       257\n",
      "           4       0.87      0.81      0.84      1983\n",
      "           5       1.00      1.00      1.00        28\n",
      "\n",
      "    accuracy                           0.99    415328\n",
      "   macro avg       0.96      0.96      0.96    415328\n",
      "weighted avg       0.99      0.99      0.99    415328\n",
      "\n",
      "It took 117.32239985466003 milliseconds to test AB with feature from multiclass LSTM intermidiate layer.\n",
      "\n"
     ]
    }
   ],
   "source": [
    "from sklearn.metrics import precision_score, accuracy_score,classification_report\n",
    "start = time.time()\n",
    "ABpred = ABmodel.predict(intermediate_layer_model.predict(X_test))\n",
    "end = time.time()\n",
    "print(classification_report(y_test, ABpred))\n",
    "print(\"It took {} milliseconds to test AB with feature from multiclass LSTM intermidiate layer.\\n\".format(end-start))"
   ]
  },
  {
   "cell_type": "code",
   "execution_count": null,
   "metadata": {
    "colab": {
     "base_uri": "https://localhost:8080/"
    },
    "id": "yUweUp6AcG7o",
    "outputId": "97c88ca7-440d-4699-817d-19db7014d218"
   },
   "outputs": [
    {
     "name": "stdout",
     "output_type": "stream",
     "text": [
      "accuracy on the train set:  0.9999969903287224\n",
      "accuracy on the test set:  0.9888401456198475\n"
     ]
    }
   ],
   "source": [
    "print('accuracy on the train set: ', accuracy_score(ABmodel.predict(intermediate_output), y_train))\n",
    "print('accuracy on the test set: ', accuracy_score(ABpred, y_test))"
   ]
  },
  {
   "cell_type": "code",
   "execution_count": null,
   "metadata": {
    "id": "aUFwfpIdbMY4"
   },
   "outputs": [],
   "source": [
    "from sklearn import metrics\n",
    "import matplotlib.pyplot as plt\n",
    "\n",
    "etpprd = ABmodel.predict_proba(intermediate_layer_model.predict(X_test))"
   ]
  },
  {
   "cell_type": "code",
   "execution_count": null,
   "metadata": {
    "colab": {
     "base_uri": "https://localhost:8080/"
    },
    "id": "iJDA8v_hbOYo",
    "outputId": "67d6e56d-c6be-42f8-ea20-58fb8a51e9e2"
   },
   "outputs": [
    {
     "name": "stdout",
     "output_type": "stream",
     "text": [
      "0.9892365905198801\n"
     ]
    }
   ],
   "source": [
    "auc = metrics.roc_auc_score(y_test, etpprd, multi_class='ovo', average='weighted')\n",
    "print(auc)"
   ]
  },
  {
   "cell_type": "code",
   "execution_count": null,
   "metadata": {
    "id": "4XWcZez4wlde"
   },
   "outputs": [],
   "source": [
    "import pickle\n",
    "# save the model to disk\n",
    "filename = '/content/drive/My Drive/Colab Notebooks/sMLSTM+ABmodel.sav'\n",
    "pickle.dump(ABmodel, open(filename, 'wb'))"
   ]
  },
  {
   "cell_type": "code",
   "execution_count": null,
   "metadata": {
    "id": "1ZfYC0EUdhZA"
   },
   "outputs": [],
   "source": [
    "from sklearn.metrics import accuracy_score, precision_score, recall_score, f1_score\n",
    "precision=precision_score(ABmodel.predict(intermediate_layer_model.predict(X_test)),y_test)\n",
    "recall=recall_score(gnb.predict(intermediate_layer_model.predict(X_test)),y_test)\n",
    "f1=f1_score(gnb.predict(intermediate_layer_model.predict(X_test)),y_test)\n",
    "accuracy=accuracy_score(gnb.predict(intermediate_layer_model.predict(X_test)),y_test)\n",
    "print(accuracy,precision,recall,f1"
   ]
  },
  {
   "cell_type": "markdown",
   "metadata": {
    "id": "tBMYwuDwyREN"
   },
   "source": [
    "### XGBoost Classifier"
   ]
  },
  {
   "cell_type": "code",
   "execution_count": null,
   "metadata": {
    "colab": {
     "base_uri": "https://localhost:8080/"
    },
    "id": "aQl1tvYLyREe",
    "outputId": "0e2d3469-ca62-481e-d58c-9a04724edf9a"
   },
   "outputs": [
    {
     "name": "stdout",
     "output_type": "stream",
     "text": [
      "It took 5280.543651103973 milliseconds to train XGB with feature from multiclass LSTM intermidiate layer.\n",
      "\n"
     ]
    }
   ],
   "source": [
    "import time\n",
    "from xgboost import XGBClassifier\n",
    "start = time.time()\n",
    "XGBmodel = XGBClassifier().fit(intermediate_output, y_train)\n",
    "end = time.time()\n",
    "print(\"It took {} milliseconds to train XGB with feature from multiclass LSTM intermidiate layer.\\n\".format(end-start))"
   ]
  },
  {
   "cell_type": "code",
   "execution_count": null,
   "metadata": {
    "colab": {
     "base_uri": "https://localhost:8080/"
    },
    "id": "5aX3EMBZyREf",
    "outputId": "93b40280-81d6-4394-aeee-c340cb65c364"
   },
   "outputs": [
    {
     "name": "stdout",
     "output_type": "stream",
     "text": [
      "It took 119.38405537605286 milliseconds to test XGB with feature from multiclass LSTM intermidiate layer.\n",
      "\n",
      "              precision    recall  f1-score   support\n",
      "\n",
      "           0       0.98      0.98      0.98    122348\n",
      "           1       0.99      0.99      0.99    250598\n",
      "           2       0.99      0.99      0.99     40114\n",
      "           3       0.93      0.98      0.95       257\n",
      "           4       0.80      0.84      0.82      1983\n",
      "           5       1.00      1.00      1.00        28\n",
      "\n",
      "    accuracy                           0.99    415328\n",
      "   macro avg       0.95      0.96      0.96    415328\n",
      "weighted avg       0.99      0.99      0.99    415328\n",
      "\n"
     ]
    }
   ],
   "source": [
    "from sklearn.metrics import precision_score, accuracy_score,classification_report\n",
    "start = time.time()\n",
    "xgbpred = XGBmodel.predict(intermediate_layer_model.predict(X_test))\n",
    "end = time.time()\n",
    "print(\"It took {} milliseconds to test XGB with feature from multiclass LSTM intermidiate layer.\\n\".format(end-start))\n",
    "print(classification_report(y_test, xgbpred))"
   ]
  },
  {
   "cell_type": "code",
   "execution_count": null,
   "metadata": {
    "colab": {
     "base_uri": "https://localhost:8080/"
    },
    "id": "_RThzUwoyREg",
    "outputId": "a470e158-9b2e-411a-e0d7-9497d5671569"
   },
   "outputs": [
    {
     "name": "stdout",
     "output_type": "stream",
     "text": [
      "accuracy on the train set:  0.9947565507000194\n",
      "accuracy on the test set:  0.9883971222744433\n"
     ]
    }
   ],
   "source": [
    "print('accuracy on the train set: ', accuracy_score(XGBmodel.predict(intermediate_output), y_train))\n",
    "print('accuracy on the test set: ', accuracy_score(xgbpred, y_test))"
   ]
  },
  {
   "cell_type": "code",
   "execution_count": null,
   "metadata": {
    "id": "9TL27lFnd1SV"
   },
   "outputs": [],
   "source": [
    "from sklearn import metrics\n",
    "import matplotlib.pyplot as plt\n",
    "\n",
    "etpprd = XGBmodel.predict_proba(intermediate_layer_model.predict(X_test))"
   ]
  },
  {
   "cell_type": "code",
   "execution_count": null,
   "metadata": {
    "colab": {
     "base_uri": "https://localhost:8080/"
    },
    "id": "MU7wlVhmd1SW",
    "outputId": "bb79fab5-1652-489d-f855-e1d5a1fc0e8b"
   },
   "outputs": [
    {
     "name": "stdout",
     "output_type": "stream",
     "text": [
      "0.9940980301256312\n"
     ]
    }
   ],
   "source": [
    "auc = metrics.roc_auc_score(y_test, etpprd, multi_class='ovo', average='weighted')\n",
    "print(auc)"
   ]
  },
  {
   "cell_type": "code",
   "execution_count": null,
   "metadata": {
    "id": "_A2FzgYuyREi"
   },
   "outputs": [],
   "source": [
    "import pickle\n",
    "# save the model to disk\n",
    "filename = '/content/drive/My Drive/Colab Notebooks/SMLSTM+XGBmodel.sav'\n",
    "pickle.dump(XGBmodel, open(filename, 'wb'))"
   ]
  },
  {
   "cell_type": "markdown",
   "metadata": {
    "id": "TbBp3nUTg4E9"
   },
   "source": [
    "## CNN"
   ]
  },
  {
   "cell_type": "code",
   "execution_count": null,
   "metadata": {
    "id": "fxP6KFwYg6Xf"
   },
   "outputs": [],
   "source": [
    "import pickle\n",
    "# load the model from disk\n",
    "filename = '/content/drive/My Drive/Colab Notebooks/SMcnnmodel_2x64x5,1000x100.sav'\n",
    "loaded_model = pickle.load(open(filename, 'rb'))"
   ]
  },
  {
   "cell_type": "code",
   "execution_count": null,
   "metadata": {
    "id": "Lp1Nk9pQg6Xg"
   },
   "outputs": [],
   "source": [
    "from tensorflow import keras\n",
    "layer_name = 'flatten_2'\n",
    "intermediate_layer_model = keras.Model(inputs=loaded_model.input,\n",
    "                                 outputs=loaded_model.get_layer(layer_name).output)\n",
    "intermediate_output2 = intermediate_layer_model.predict(X_train)"
   ]
  },
  {
   "cell_type": "markdown",
   "metadata": {
    "id": "i8ogsJxBtkKw"
   },
   "source": [
    "## Decision Tree"
   ]
  },
  {
   "cell_type": "code",
   "execution_count": null,
   "metadata": {
    "colab": {
     "base_uri": "https://localhost:8080/"
    },
    "id": "4KRLuASIubsu",
    "outputId": "da05d9fe-6892-4489-a96c-d2db812c9f37"
   },
   "outputs": [
    {
     "name": "stdout",
     "output_type": "stream",
     "text": [
      "It took 458.1474094390869 milliseconds to train DT with feature from multiclass CNN intermidiate layer.\n",
      "\n"
     ]
    }
   ],
   "source": [
    "from sklearn.tree import DecisionTreeClassifier\n",
    "import time\n",
    "start = time.time()\n",
    "DTmodel = DecisionTreeClassifier().fit(intermediate_output2, y_train)\n",
    "end = time.time()\n",
    "print(\"It took {} milliseconds to train DT with feature from multiclass CNN intermidiate layer.\\n\".format(end-start))"
   ]
  },
  {
   "cell_type": "code",
   "execution_count": null,
   "metadata": {
    "colab": {
     "base_uri": "https://localhost:8080/"
    },
    "id": "1myaujvmg82c",
    "outputId": "a0937068-c40e-4888-9595-5635816f074a"
   },
   "outputs": [
    {
     "name": "stdout",
     "output_type": "stream",
     "text": [
      "              precision    recall  f1-score   support\n",
      "\n",
      "           0       0.95      0.95      0.95    122348\n",
      "           1       0.98      0.97      0.98    250598\n",
      "           2       0.97      0.98      0.97     40114\n",
      "           3       0.84      0.80      0.82       257\n",
      "           4       0.55      0.58      0.57      1983\n",
      "           5       1.00      1.00      1.00        28\n",
      "\n",
      "    accuracy                           0.96    415328\n",
      "   macro avg       0.88      0.88      0.88    415328\n",
      "weighted avg       0.96      0.96      0.96    415328\n",
      "\n",
      "It took 82.1825852394104 milliseconds to test DT with feature from multiclass CNN intermidiate layer.\n",
      "\n"
     ]
    }
   ],
   "source": [
    "from sklearn.metrics import precision_score, accuracy_score,classification_report\n",
    "start = time.time()\n",
    "DTpred = DTmodel.predict(intermediate_layer_model.predict(X_test))\n",
    "end = time.time()\n",
    "print(classification_report(y_test, DTpred))\n",
    "print(\"It took {} milliseconds to test DT with feature from multiclass CNN intermidiate layer.\\n\".format(end-start))"
   ]
  },
  {
   "cell_type": "code",
   "execution_count": null,
   "metadata": {
    "colab": {
     "base_uri": "https://localhost:8080/"
    },
    "id": "cgWwUB1mubsv",
    "outputId": "6c2eccfa-cbac-479c-d607-98be832ba5be"
   },
   "outputs": [
    {
     "name": "stdout",
     "output_type": "stream",
     "text": [
      "accuracy on the train set:  0.9999969903287224\n",
      "accuracy on the test set:  0.9646953732953232\n"
     ]
    }
   ],
   "source": [
    "print('accuracy on the train set: ', accuracy_score(DTmodel.predict(intermediate_output2), y_train))\n",
    "print('accuracy on the test set: ', accuracy_score(DTpred, y_test))"
   ]
  },
  {
   "cell_type": "code",
   "execution_count": null,
   "metadata": {
    "id": "q-b_PebhHW8g"
   },
   "outputs": [],
   "source": [
    "from sklearn import metrics\n",
    "import matplotlib.pyplot as plt\n",
    "\n",
    "etpprd = DTmodel.predict_proba(intermediate_layer_model.predict(X_test))"
   ]
  },
  {
   "cell_type": "code",
   "execution_count": null,
   "metadata": {
    "id": "6XpL1DEWHW8h"
   },
   "outputs": [],
   "source": [
    "#fpr,tpr, _ = metrics.roc_curve(y_test,etpprd)\n",
    "#auc = metrics.roc_auc_score(y_test,etpprd)\n",
    "#roc auc score\n",
    "auc = metrics.roc_auc_score(y_test, etpprd, multi_class='ovo', average='weighted')"
   ]
  },
  {
   "cell_type": "code",
   "execution_count": null,
   "metadata": {
    "colab": {
     "base_uri": "https://localhost:8080/"
    },
    "id": "wRMeM55RHW8h",
    "outputId": "81dc6a07-4563-4cf3-a04c-6dc805dc3c93"
   },
   "outputs": [
    {
     "name": "stdout",
     "output_type": "stream",
     "text": [
      "0.9433628455254537\n"
     ]
    }
   ],
   "source": [
    "print(auc)"
   ]
  },
  {
   "cell_type": "code",
   "execution_count": null,
   "metadata": {
    "id": "OrbzTth-ubsy"
   },
   "outputs": [],
   "source": [
    "import pickle\n",
    "# save the model to disk\n",
    "filename = '/content/drive/My Drive/Colab Notebooks/sMCNN+DTmodel.sav'\n",
    "pickle.dump(DTmodel, open(filename, 'wb'))"
   ]
  },
  {
   "cell_type": "markdown",
   "metadata": {
    "id": "sE2StoHyii0v"
   },
   "source": [
    "## Naive Bayes"
   ]
  },
  {
   "cell_type": "code",
   "execution_count": null,
   "metadata": {
    "colab": {
     "base_uri": "https://localhost:8080/"
    },
    "id": "Xl7A1re7ii0v",
    "outputId": "4e21780d-e920-4e85-b32e-5c77fc8e28bf"
   },
   "outputs": [
    {
     "name": "stdout",
     "output_type": "stream",
     "text": [
      "It took 1.5647809505462646 milliseconds to train NB with feature from multiclass CNN intermidiate layer.\n",
      "\n"
     ]
    }
   ],
   "source": [
    "import time\n",
    "from sklearn.naive_bayes import GaussianNB\n",
    "start = time.time()\n",
    "gnb = GaussianNB().fit(intermediate_output2, y_train)\n",
    "end = time.time()\n",
    "print(\"It took {} milliseconds to train NB with feature from multiclass CNN intermidiate layer.\\n\".format(end-start))"
   ]
  },
  {
   "cell_type": "code",
   "execution_count": null,
   "metadata": {
    "colab": {
     "base_uri": "https://localhost:8080/"
    },
    "id": "m_5I4fV_Itoi",
    "outputId": "ab3235e5-cb24-4f01-86b6-ee213be3331f"
   },
   "outputs": [
    {
     "name": "stdout",
     "output_type": "stream",
     "text": [
      "It took 70.14196825027466 milliseconds to test NB with feature from multiclass CNN intermidiate layer.\n",
      "\n",
      "              precision    recall  f1-score   support\n",
      "\n",
      "           0       0.88      0.83      0.86    122348\n",
      "           1       0.99      0.94      0.96    250598\n",
      "           2       0.97      0.99      0.98     40114\n",
      "           3       0.15      0.93      0.25       257\n",
      "           4       0.08      0.84      0.15      1983\n",
      "           5       0.88      1.00      0.93        28\n",
      "\n",
      "    accuracy                           0.91    415328\n",
      "   macro avg       0.66      0.92      0.69    415328\n",
      "weighted avg       0.95      0.91      0.93    415328\n",
      "\n"
     ]
    }
   ],
   "source": [
    "from sklearn.metrics import precision_score, accuracy_score,classification_report\n",
    "start = time.time()\n",
    "gnb_pred = gnb.predict(intermediate_layer_model.predict(X_test))\n",
    "end = time.time()\n",
    "print(\"It took {} milliseconds to test NB with feature from multiclass CNN intermidiate layer.\\n\".format(end-start))\n",
    "print(classification_report(y_test, gnb_pred))"
   ]
  },
  {
   "cell_type": "code",
   "execution_count": null,
   "metadata": {
    "colab": {
     "base_uri": "https://localhost:8080/"
    },
    "id": "KEOq6LHAii0w",
    "outputId": "97039737-e6f1-476f-c0a7-05d399e1fee4"
   },
   "outputs": [
    {
     "name": "stdout",
     "output_type": "stream",
     "text": [
      "accuracy on the train set:  0.920665667054513\n",
      "accuracy on the test set:  0.9101023769165575\n"
     ]
    }
   ],
   "source": [
    "print('accuracy on the train set: ', accuracy_score(gnb.predict(intermediate_output2), y_train))\n",
    "print('accuracy on the test set: ', accuracy_score(gnb_pred, y_test))"
   ]
  },
  {
   "cell_type": "code",
   "execution_count": null,
   "metadata": {
    "id": "Ktr3gJvpIBCq"
   },
   "outputs": [],
   "source": [
    "from sklearn import metrics\n",
    "import matplotlib.pyplot as plt\n",
    "\n",
    "etpprd = gnb.predict_proba(intermediate_layer_model.predict(X_test))"
   ]
  },
  {
   "cell_type": "code",
   "execution_count": null,
   "metadata": {
    "id": "dF2L92hoIBCr"
   },
   "outputs": [],
   "source": [
    "#fpr,tpr, _ = metrics.roc_curve(y_test,etpprd)\n",
    "#auc = metrics.roc_auc_score(y_test,etpprd)\n",
    "#roc auc score\n",
    "auc = metrics.roc_auc_score(y_test, etpprd, multi_class='ovo', average='weighted')"
   ]
  },
  {
   "cell_type": "code",
   "execution_count": null,
   "metadata": {
    "colab": {
     "base_uri": "https://localhost:8080/"
    },
    "id": "Mx1v45T2IBCr",
    "outputId": "35430d14-3624-411d-82ce-4395c3251d7a"
   },
   "outputs": [
    {
     "name": "stdout",
     "output_type": "stream",
     "text": [
      "0.9882201217610431\n"
     ]
    }
   ],
   "source": [
    "print(auc)"
   ]
  },
  {
   "cell_type": "code",
   "execution_count": null,
   "metadata": {
    "id": "7KD8YpOtii0y"
   },
   "outputs": [],
   "source": [
    "import pickle\n",
    "# save the model to disk\n",
    "filename = '/content/drive/My Drive/Colab Notebooks/sMCNN+NBmodel.sav'\n",
    "pickle.dump(gnb, open(filename, 'wb'))"
   ]
  },
  {
   "cell_type": "markdown",
   "metadata": {
    "id": "RhfaPC5Nii0y"
   },
   "source": [
    "## Logistic Regression"
   ]
  },
  {
   "cell_type": "code",
   "execution_count": null,
   "metadata": {
    "colab": {
     "base_uri": "https://localhost:8080/"
    },
    "id": "6zkBpa0Sii0z",
    "outputId": "6f5ed15d-f463-4d6a-bb0f-32dd6ba65eeb"
   },
   "outputs": [
    {
     "name": "stdout",
     "output_type": "stream",
     "text": [
      "It took 137.6460464000702 milliseconds to train LR with feature from multiclass CNN intermidiate layer.\n",
      "\n"
     ]
    },
    {
     "name": "stderr",
     "output_type": "stream",
     "text": [
      "/usr/local/lib/python3.7/dist-packages/sklearn/linear_model/_logistic.py:818: ConvergenceWarning: lbfgs failed to converge (status=1):\n",
      "STOP: TOTAL NO. of ITERATIONS REACHED LIMIT.\n",
      "\n",
      "Increase the number of iterations (max_iter) or scale the data as shown in:\n",
      "    https://scikit-learn.org/stable/modules/preprocessing.html\n",
      "Please also refer to the documentation for alternative solver options:\n",
      "    https://scikit-learn.org/stable/modules/linear_model.html#logistic-regression\n",
      "  extra_warning_msg=_LOGISTIC_SOLVER_CONVERGENCE_MSG,\n"
     ]
    }
   ],
   "source": [
    "import time\n",
    "from sklearn.linear_model import LogisticRegression\n",
    "start = time.time()\n",
    "Lreg = LogisticRegression().fit(intermediate_output2, y_train)\n",
    "end = time.time()\n",
    "print(\"It took {} milliseconds to train LR with feature from multiclass CNN intermidiate layer.\\n\".format(end-start))"
   ]
  },
  {
   "cell_type": "code",
   "execution_count": null,
   "metadata": {
    "colab": {
     "base_uri": "https://localhost:8080/"
    },
    "id": "k7rWoa1ry_Er",
    "outputId": "482ae682-244d-4c4d-ebf9-f841c640a906"
   },
   "outputs": [
    {
     "name": "stdout",
     "output_type": "stream",
     "text": [
      "It took 62.5492639541626 milliseconds to test LR with feature from multiclass CNN intermidiate layer.\n",
      "\n",
      "              precision    recall  f1-score   support\n",
      "\n",
      "           0       0.97      0.97      0.97    122348\n",
      "           1       0.99      0.98      0.99    250598\n",
      "           2       0.98      0.98      0.98     40114\n",
      "           3       0.70      0.95      0.80       257\n",
      "           4       0.65      0.84      0.74      1983\n",
      "           5       0.90      1.00      0.95        28\n",
      "\n",
      "    accuracy                           0.98    415328\n",
      "   macro avg       0.87      0.95      0.90    415328\n",
      "weighted avg       0.98      0.98      0.98    415328\n",
      "\n"
     ]
    }
   ],
   "source": [
    "from sklearn.metrics import precision_score, accuracy_score,classification_report\n",
    "start = time.time()\n",
    "Lregy_pred = Lreg.predict(intermediate_layer_model.predict(X_test))\n",
    "end = time.time()\n",
    "print(\"It took {} milliseconds to test LR with feature from multiclass CNN intermidiate layer.\\n\".format(end-start))\n",
    "print(classification_report(y_test, Lregy_pred))"
   ]
  },
  {
   "cell_type": "code",
   "execution_count": null,
   "metadata": {
    "colab": {
     "base_uri": "https://localhost:8080/"
    },
    "id": "OHSzHNLiii0z",
    "outputId": "c922f628-b8db-44cc-a0c1-50e74dbf1a69"
   },
   "outputs": [
    {
     "name": "stdout",
     "output_type": "stream",
     "text": [
      "accuracy on the train set:  0.9896822449258447\n",
      "accuracy on the test set:  0.9799869019184837\n"
     ]
    }
   ],
   "source": [
    "print('accuracy on the train set: ', accuracy_score(Lreg.predict(intermediate_output2), y_train))\n",
    "print('accuracy on the test set: ', accuracy_score(Lregy_pred, y_test))"
   ]
  },
  {
   "cell_type": "code",
   "execution_count": null,
   "metadata": {
    "id": "9zMPnnRCH5Aj"
   },
   "outputs": [],
   "source": [
    "from sklearn import metrics\n",
    "import matplotlib.pyplot as plt\n",
    "\n",
    "etpprd = Lreg.predict_proba(intermediate_layer_model.predict(X_test))"
   ]
  },
  {
   "cell_type": "code",
   "execution_count": null,
   "metadata": {
    "id": "VlFO6duOH5Ak"
   },
   "outputs": [],
   "source": [
    "#fpr,tpr, _ = metrics.roc_curve(y_test,etpprd)\n",
    "#auc = metrics.roc_auc_score(y_test,etpprd)\n",
    "#roc auc score\n",
    "auc = metrics.roc_auc_score(y_test, etpprd, multi_class='ovo', average='weighted')"
   ]
  },
  {
   "cell_type": "code",
   "execution_count": null,
   "metadata": {
    "colab": {
     "base_uri": "https://localhost:8080/"
    },
    "id": "OZHhLIukH5Al",
    "outputId": "2a0890e5-b723-465d-d9f9-2f4a3a0cbf10"
   },
   "outputs": [
    {
     "name": "stdout",
     "output_type": "stream",
     "text": [
      "0.996494937279581\n"
     ]
    }
   ],
   "source": [
    "print(auc)"
   ]
  },
  {
   "cell_type": "code",
   "execution_count": null,
   "metadata": {
    "id": "STkHnyxUii01"
   },
   "outputs": [],
   "source": [
    "import pickle\n",
    "# save the model to disk\n",
    "filename = '/content/drive/My Drive/Colab Notebooks/sMCNN+LRmodel.sav'\n",
    "pickle.dump(Lreg, open(filename, 'wb'))"
   ]
  },
  {
   "cell_type": "markdown",
   "metadata": {
    "id": "s6g7nUiwii01"
   },
   "source": [
    "## Random Forest Classifier"
   ]
  },
  {
   "cell_type": "code",
   "execution_count": null,
   "metadata": {
    "colab": {
     "base_uri": "https://localhost:8080/"
    },
    "id": "mSYl8uOgii02",
    "outputId": "707fe99b-77d8-4273-9de7-d445b0c722bc"
   },
   "outputs": [
    {
     "name": "stdout",
     "output_type": "stream",
     "text": [
      "It took 3190.4395730495453 milliseconds to train RF with feature from multiclass CNN intermidiate layer.\n",
      "\n"
     ]
    }
   ],
   "source": [
    "import time\n",
    "from sklearn.ensemble import RandomForestClassifier\n",
    "start = time.time()\n",
    "RFmodel = RandomForestClassifier().fit(intermediate_output2, y_train)\n",
    "end = time.time()\n",
    "print(\"It took {} milliseconds to train RF with feature from multiclass CNN intermidiate layer.\\n\".format(end-start))"
   ]
  },
  {
   "cell_type": "code",
   "execution_count": null,
   "metadata": {
    "colab": {
     "base_uri": "https://localhost:8080/"
    },
    "id": "B_a8hwB1QizO",
    "outputId": "0eab107f-e915-4098-f075-2a59d5271d33"
   },
   "outputs": [
    {
     "name": "stdout",
     "output_type": "stream",
     "text": [
      "It took 72.34440016746521 milliseconds to test LR with feature from multiclass CNN intermidiate layer.\n",
      "\n",
      "              precision    recall  f1-score   support\n",
      "\n",
      "           0       0.96      0.99      0.97    122348\n",
      "           1       0.99      0.98      0.99    250598\n",
      "           2       0.99      0.99      0.99     40114\n",
      "           3       0.91      0.88      0.90       257\n",
      "           4       0.98      0.56      0.71      1983\n",
      "           5       1.00      1.00      1.00        28\n",
      "\n",
      "    accuracy                           0.98    415328\n",
      "   macro avg       0.97      0.90      0.93    415328\n",
      "weighted avg       0.98      0.98      0.98    415328\n",
      "\n"
     ]
    }
   ],
   "source": [
    "from sklearn.metrics import precision_score, accuracy_score,classification_report\n",
    "start = time.time()\n",
    "RFpred = RFmodel.predict(intermediate_layer_model.predict(X_test))\n",
    "end = time.time()\n",
    "print(\"It took {} milliseconds to test LR with feature from multiclass CNN intermidiate layer.\\n\".format(end-start))\n",
    "print(classification_report(y_test, RFpred))"
   ]
  },
  {
   "cell_type": "code",
   "execution_count": null,
   "metadata": {
    "colab": {
     "base_uri": "https://localhost:8080/"
    },
    "id": "USdYsIp4ii03",
    "outputId": "89ddda63-641c-44df-f80c-40ce98a3e235"
   },
   "outputs": [
    {
     "name": "stdout",
     "output_type": "stream",
     "text": [
      "accuracy on the train set:  0.9999957864602113\n",
      "accuracy on the test set:  0.9828545149857462\n"
     ]
    }
   ],
   "source": [
    "print('accuracy on the train set: ', accuracy_score(RFmodel.predict(intermediate_output2), y_train))\n",
    "print('accuracy on the test set: ', accuracy_score(RFpred, y_test))"
   ]
  },
  {
   "cell_type": "code",
   "execution_count": null,
   "metadata": {
    "id": "T-aOFElBIHsS"
   },
   "outputs": [],
   "source": [
    "from sklearn import metrics\n",
    "import matplotlib.pyplot as plt\n",
    "\n",
    "etpprd = RFmodel.predict_proba(intermediate_layer_model.predict(X_test))"
   ]
  },
  {
   "cell_type": "code",
   "execution_count": null,
   "metadata": {
    "id": "2-4kY66lIHsT"
   },
   "outputs": [],
   "source": [
    "#fpr,tpr, _ = metrics.roc_curve(y_test,etpprd)\n",
    "#auc = metrics.roc_auc_score(y_test,etpprd)\n",
    "#roc auc score\n",
    "auc = metrics.roc_auc_score(y_test, etpprd, multi_class='ovo', average='weighted')"
   ]
  },
  {
   "cell_type": "code",
   "execution_count": null,
   "metadata": {
    "colab": {
     "base_uri": "https://localhost:8080/"
    },
    "id": "UrHQRDZHIHsT",
    "outputId": "a85c7dae-460e-4835-bd07-d3df182bf648"
   },
   "outputs": [
    {
     "name": "stdout",
     "output_type": "stream",
     "text": [
      "0.9962406191675333\n"
     ]
    }
   ],
   "source": [
    "print(auc)"
   ]
  },
  {
   "cell_type": "code",
   "execution_count": null,
   "metadata": {
    "id": "5dwPTj6_ii04"
   },
   "outputs": [],
   "source": [
    "import pickle\n",
    "# save the model to disk\n",
    "filename = '/content/drive/My Drive/Colab Notebooks/sMCNN+RFmodel.sav'\n",
    "pickle.dump(RFmodel, open(filename, 'wb'))"
   ]
  },
  {
   "cell_type": "markdown",
   "metadata": {
    "id": "EzKNPTkmul8a"
   },
   "source": [
    "## Adaboost Classifier"
   ]
  },
  {
   "cell_type": "code",
   "execution_count": null,
   "metadata": {
    "colab": {
     "base_uri": "https://localhost:8080/"
    },
    "id": "RVpkCBy4ul8b",
    "outputId": "3b20c022-5c1b-48ce-b3fd-0e4f5b8d8e25"
   },
   "outputs": [
    {
     "name": "stdout",
     "output_type": "stream",
     "text": [
      "It took 14440.517945289612 milliseconds to train AB with feature from multiclass CNN intermidiate layer.\n",
      "\n"
     ]
    }
   ],
   "source": [
    "from sklearn.ensemble import AdaBoostClassifier\n",
    "from sklearn.tree import DecisionTreeClassifier\n",
    "import time\n",
    "start = time.time()\n",
    "ABmodel = AdaBoostClassifier(DecisionTreeClassifier()).fit(intermediate_output2 , y_train)\n",
    "end = time.time()\n",
    "print(\"It took {} milliseconds to train AB with feature from multiclass CNN intermidiate layer.\\n\".format(end-start))"
   ]
  },
  {
   "cell_type": "code",
   "execution_count": null,
   "metadata": {
    "colab": {
     "base_uri": "https://localhost:8080/"
    },
    "id": "3Qc1pIMeul8c",
    "outputId": "0c354c8f-e13e-40d0-ced3-787554aaec6d"
   },
   "outputs": [
    {
     "name": "stdout",
     "output_type": "stream",
     "text": [
      "              precision    recall  f1-score   support\n",
      "\n",
      "           0       0.96      0.99      0.98    122348\n",
      "           1       0.99      0.98      0.99    250598\n",
      "           2       0.99      0.99      0.99     40114\n",
      "           3       0.95      0.87      0.91       257\n",
      "           4       0.99      0.54      0.69      1983\n",
      "           5       1.00      1.00      1.00        28\n",
      "\n",
      "    accuracy                           0.98    415328\n",
      "   macro avg       0.98      0.89      0.93    415328\n",
      "weighted avg       0.98      0.98      0.98    415328\n",
      "\n",
      "It took 64.48911619186401 milliseconds to test AB with feature from multiclass CNN intermidiate layer.\n",
      "\n"
     ]
    }
   ],
   "source": [
    "from sklearn.metrics import precision_score, accuracy_score,classification_report\n",
    "start = time.time()\n",
    "ABpred = ABmodel.predict(intermediate_layer_model.predict(X_test))\n",
    "end = time.time()\n",
    "print(classification_report(y_test, ABpred))\n",
    "print(\"It took {} milliseconds to test AB with feature from multiclass CNN intermidiate layer.\\n\".format(end-start))"
   ]
  },
  {
   "cell_type": "code",
   "execution_count": null,
   "metadata": {
    "colab": {
     "base_uri": "https://localhost:8080/"
    },
    "id": "RiJq7X0jwldc",
    "outputId": "ba9bb9d3-1df6-41ab-c45d-7f7b72cf5e8a"
   },
   "outputs": [
    {
     "name": "stdout",
     "output_type": "stream",
     "text": [
      "accuracy on the train set:  0.9999975922629779\n",
      "accuracy on the test set:  0.9835431273595808\n"
     ]
    }
   ],
   "source": [
    "print('accuracy on the train set: ', accuracy_score(ABmodel.predict(intermediate_output2), y_train))\n",
    "print('accuracy on the test set: ', accuracy_score(ABpred, y_test))"
   ]
  },
  {
   "cell_type": "code",
   "execution_count": null,
   "metadata": {
    "id": "GtaYUoYuPfOD"
   },
   "outputs": [],
   "source": [
    "from sklearn import metrics\n",
    "import matplotlib.pyplot as plt\n",
    "\n",
    "etpprd = ABmodel.predict_proba(intermediate_layer_model.predict(X_test))"
   ]
  },
  {
   "cell_type": "code",
   "execution_count": null,
   "metadata": {
    "id": "pXCDPr8OHeqV"
   },
   "outputs": [],
   "source": [
    "#fpr,tpr, _ = metrics.roc_curve(y_test,etpprd)\n",
    "#auc = metrics.roc_auc_score(y_test,etpprd)\n",
    "#roc auc score\n",
    "auc = metrics.roc_auc_score(y_test, etpprd, multi_class='ovo', average='weighted')"
   ]
  },
  {
   "cell_type": "code",
   "execution_count": null,
   "metadata": {
    "colab": {
     "base_uri": "https://localhost:8080/"
    },
    "id": "4_kSx7feHeqV",
    "outputId": "de0eb0f3-57b2-45cd-978d-64c592eff528"
   },
   "outputs": [
    {
     "name": "stdout",
     "output_type": "stream",
     "text": [
      "0.9957760105910728\n"
     ]
    }
   ],
   "source": [
    "print(auc)"
   ]
  },
  {
   "cell_type": "code",
   "execution_count": null,
   "metadata": {
    "id": "tlaQKzKWul8e"
   },
   "outputs": [],
   "source": [
    "import pickle\n",
    "# save the model to disk\n",
    "filename = '/content/drive/My Drive/Colab Notebooks/sMCNN+ABmodel.sav'\n",
    "pickle.dump(ABmodel, open(filename, 'wb'))"
   ]
  }
 ],
 "metadata": {
  "colab": {
   "collapsed_sections": [],
   "machine_shape": "hm",
   "provenance": []
  },
  "kernelspec": {
   "display_name": "Python 3 (ipykernel)",
   "language": "python",
   "name": "python3"
  },
  "language_info": {
   "codemirror_mode": {
    "name": "ipython",
    "version": 3
   },
   "file_extension": ".py",
   "mimetype": "text/x-python",
   "name": "python",
   "nbconvert_exporter": "python",
   "pygments_lexer": "ipython3",
   "version": "3.10.9"
  }
 },
 "nbformat": 4,
 "nbformat_minor": 1
}
