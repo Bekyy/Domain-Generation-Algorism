{
 "cells": [
  {
   "cell_type": "code",
   "execution_count": null,
   "metadata": {
    "id": "PRA4adyjdWcn"
   },
   "outputs": [],
   "source": [
    "import tensorflow as tf\n",
    "import matplotlib.image as img\n",
    "import numpy as np\n",
    "from collections import defaultdict\n",
    "import collections\n",
    "import matplotlib.pyplot as plt\n",
    "import os\n",
    "import random\n",
    "from tensorflow import keras\n",
    "from tensorflow.keras import models\n",
    "import pandas as pd\n",
    "import math\n",
    "from collections import Counter\n",
    "from sklearn.model_selection import train_test_split\n",
    "from sklearn.model_selection import GridSearchCV"
   ]
  },
  {
   "cell_type": "code",
   "execution_count": null,
   "metadata": {
    "colab": {
     "base_uri": "https://localhost:8080/"
    },
    "id": "y2NbzC-Kd4yP",
    "outputId": "427f24c6-a82d-4acd-c525-467971a0cf55"
   },
   "outputs": [
    {
     "name": "stdout",
     "output_type": "stream",
     "text": [
      "2.8.2\n",
      "\n"
     ]
    }
   ],
   "source": [
    "# Check if GPU is enabled\n",
    "print(tf.__version__)\n",
    "print(tf.test.gpu_device_name())"
   ]
  },
  {
   "cell_type": "code",
   "execution_count": null,
   "metadata": {
    "colab": {
     "base_uri": "https://localhost:8080/"
    },
    "id": "-miIBab7lnn8",
    "outputId": "525915be-c0e6-4816-ed73-8beb1d3b280c"
   },
   "outputs": [
    {
     "name": "stdout",
     "output_type": "stream",
     "text": [
      "Mounted at /content/drive\n"
     ]
    }
   ],
   "source": [
    "from google.colab import drive\n",
    "drive.mount('/content/drive')"
   ]
  },
  {
   "cell_type": "markdown",
   "metadata": {
    "id": "N5I3H70AHjIh"
   },
   "source": [
    "## Load both legitmate & DGA domains"
   ]
  },
  {
   "cell_type": "code",
   "execution_count": null,
   "metadata": {
    "id": "dcNuKohwKnIO"
   },
   "outputs": [],
   "source": [
    "Domain_data = pd.read_csv('/content/drive/My Drive/Colab Notebooks/DLDomain_MCLS2.csv')\n",
    "Domain_data.drop([\"Unnamed: 0\"], axis=1, inplace=True)\n",
    "Domain_data.head()"
   ]
  },
  {
   "cell_type": "code",
   "execution_count": null,
   "metadata": {
    "id": "1_4OjOehDJcl"
   },
   "outputs": [],
   "source": [
    "grouped = Domain_data.groupby('label')\n",
    "Domain_data = grouped.filter(lambda x: x['label'].count() > 5.)"
   ]
  },
  {
   "cell_type": "code",
   "execution_count": null,
   "metadata": {
    "id": "ByvYS93UKzJW"
   },
   "outputs": [],
   "source": [
    "Domain_data.domain=Domain_data.domain.astype(str)"
   ]
  },
  {
   "cell_type": "code",
   "execution_count": null,
   "metadata": {
    "id": "i_ei54QWY3gO"
   },
   "outputs": [],
   "source": [
    "from sklearn.preprocessing import LabelEncoder\n",
    "X = Domain_data.domain\n",
    "Y = Domain_data['label']"
   ]
  },
  {
   "cell_type": "code",
   "execution_count": null,
   "metadata": {
    "id": "2N1bHJUvMWZX"
   },
   "outputs": [],
   "source": [
    "#from sklearn.preprocessing import LabelBinarizer\n",
    "#Y = LabelBinarizer().fit_transform(Y)"
   ]
  },
  {
   "cell_type": "code",
   "execution_count": null,
   "metadata": {
    "id": "bFlYDW419nku"
   },
   "outputs": [],
   "source": [
    "le=LabelEncoder()\n",
    "Y = le.fit_transform(Y)"
   ]
  },
  {
   "cell_type": "code",
   "execution_count": null,
   "metadata": {
    "id": "6fl2GHSlZaKu"
   },
   "outputs": [],
   "source": [
    "from keras.preprocessing.text import Tokenizer\n",
    "from keras.preprocessing import sequence\n",
    "from keras.models import Sequential\n",
    "\n",
    "#max_words = num_words\n",
    "max_len = 50\n",
    "\n",
    "# Tokenizer\n",
    "tok = Tokenizer(num_words=None, char_level=True, oov_token='UNK')\n",
    "tok.fit_on_texts(X)\n",
    "sequences = tok.texts_to_sequences(X)\n",
    "sequences_matrix = sequence.pad_sequences(sequences,padding='post',maxlen=max_len)"
   ]
  },
  {
   "cell_type": "code",
   "execution_count": null,
   "metadata": {
    "id": "suQdaT_jc9ie"
   },
   "outputs": [],
   "source": [
    "X_train, X_test, y_train, y_test = train_test_split(sequences_matrix, Y, test_size=0.20,random_state=42)"
   ]
  },
  {
   "cell_type": "code",
   "execution_count": null,
   "metadata": {
    "id": "v5pphpq2G75l"
   },
   "outputs": [],
   "source": [
    "from imblearn.over_sampling import RandomOverSampler\n",
    "strategy = {0:16613,1:16613,2:16613, 4:16613, 5:16613,  6:16613,7:16613, 8:16613, 9:16613, 10:16613, 12:16613, 13:16613, 15:16613, 16:16613, 18:16613, 17:16613,19:16613,21:16613, 22:16613,23:16613, 24:16613,25:16613, 26:16613,27:16613,28:16613,29:16613,30:16613,31:16613,33:16613,34:16613,35:16613,37:16613,42:16613,39:16613,40:16613,43:16613,44:16613,46:16613,47:16613, 48:16613, 49:16613,50:16613,51:16613}\n",
    "#for i in minmum_classes:\n",
    "ovrsmt = RandomOverSampler(sampling_strategy=strategy)"
   ]
  },
  {
   "cell_type": "code",
   "execution_count": null,
   "metadata": {
    "id": "SCJxx09rJaIs"
   },
   "outputs": [],
   "source": [
    "from imblearn.under_sampling import RandomUnderSampler\n",
    "udrsmt = RandomUnderSampler(sampling_strategy={38:143527,20:203528,11:193527,3:193529})"
   ]
  },
  {
   "cell_type": "code",
   "execution_count": null,
   "metadata": {
    "id": "NyWrOJPiJ5uQ"
   },
   "outputs": [],
   "source": [
    "from imblearn.pipeline import Pipeline\n",
    "steps = [('o', ovrsmt), ('u', udrsmt)]\n",
    "pipeline = Pipeline(steps=steps)"
   ]
  },
  {
   "cell_type": "code",
   "execution_count": null,
   "metadata": {
    "id": "XykMUS8uJ8VP"
   },
   "outputs": [],
   "source": [
    "X_train, y_train = pipeline.fit_resample(X_train, y_train)"
   ]
  },
  {
   "cell_type": "code",
   "execution_count": null,
   "metadata": {
    "id": "Ww-Nh62NVFl5"
   },
   "outputs": [],
   "source": [
    "import pickle\n",
    "# save the model to disk\n",
    "filename = '/content/drive/My Drive/Colab Notebooks/MX_train_sm.csv'\n",
    "pickle.dump(X_train, open(filename, 'wb'))"
   ]
  },
  {
   "cell_type": "code",
   "execution_count": null,
   "metadata": {
    "id": "MYki7OWLZIwD"
   },
   "outputs": [],
   "source": [
    "filename = '/content/drive/My Drive/Colab Notebooks/MX_test_sm.csv'\n",
    "pickle.dump(X_test, open(filename, 'wb'))\n"
   ]
  },
  {
   "cell_type": "code",
   "execution_count": null,
   "metadata": {
    "id": "3zDZp0RVZLkS"
   },
   "outputs": [],
   "source": [
    "filename = '/content/drive/My Drive/Colab Notebooks/My_train_sm.csv'\n",
    "pickle.dump(y_train, open(filename, 'wb'))"
   ]
  },
  {
   "cell_type": "code",
   "execution_count": null,
   "metadata": {
    "id": "GzFJeY4WZOMi"
   },
   "outputs": [],
   "source": [
    "filename = '/content/drive/My Drive/Colab Notebooks/My_test_sm.csv'\n",
    "pickle.dump(y_test, open(filename, 'wb'))"
   ]
  },
  {
   "cell_type": "markdown",
   "metadata": {
    "id": "C5tWm423tqJA"
   },
   "source": [
    "## Load Model and extract feature from an intermidiate layer"
   ]
  },
  {
   "cell_type": "code",
   "execution_count": null,
   "metadata": {
    "id": "XDnxXugo-c17"
   },
   "outputs": [],
   "source": [
    "import pickle\n",
    "# load the model from disk\n",
    "filename = '/content/drive/My Drive/Colab Notebooks/_Mcnnmodel_2x64x5,1000x100.sav'\n",
    "loaded_model = pickle.load(open(filename, 'rb'))"
   ]
  },
  {
   "cell_type": "code",
   "execution_count": null,
   "metadata": {
    "id": "et43UEQdkeoV"
   },
   "outputs": [],
   "source": [
    "import pickle\n",
    "filename = '/content/drive/My Drive/Colab Notebooks/MX_train_sm.csv'\n",
    "X_train = pickle.load(open(filename, 'rb'))"
   ]
  },
  {
   "cell_type": "code",
   "execution_count": null,
   "metadata": {
    "id": "vHHQI0uvkvQb"
   },
   "outputs": [],
   "source": [
    "filename = '/content/drive/My Drive/Colab Notebooks/My_train_sm.csv'\n",
    "y_train = pickle.load(open(filename, 'rb'))"
   ]
  },
  {
   "cell_type": "code",
   "execution_count": null,
   "metadata": {
    "id": "QNhL60LxkzYN"
   },
   "outputs": [],
   "source": [
    "filename = '/content/drive/My Drive/Colab Notebooks/MX_test_sm.csv'\n",
    "X_test = pickle.load(open(filename, 'rb'))"
   ]
  },
  {
   "cell_type": "code",
   "execution_count": null,
   "metadata": {
    "id": "FUpaU9quk4iD"
   },
   "outputs": [],
   "source": [
    "filename = '/content/drive/My Drive/Colab Notebooks/My_test_sm.csv'\n",
    "y_test = pickle.load(open(filename, 'rb'))"
   ]
  },
  {
   "cell_type": "code",
   "execution_count": null,
   "metadata": {
    "id": "LeGxbhVL-od6"
   },
   "outputs": [],
   "source": [
    "from tensorflow import keras\n",
    "layer_name = 'flatten_3'\n",
    "intermediate_layer_model = keras.Model(inputs=loaded_model.input,\n",
    "                                 outputs=loaded_model.get_layer(layer_name).output)\n",
    "intermediate_output = intermediate_layer_model.predict(X_train)"
   ]
  },
  {
   "cell_type": "markdown",
   "metadata": {
    "id": "oHIaB-sZwldL"
   },
   "source": [
    "## Adaboost Classifier"
   ]
  },
  {
   "cell_type": "code",
   "execution_count": null,
   "metadata": {
    "colab": {
     "base_uri": "https://localhost:8080/"
    },
    "id": "cw2W6KYTwlda",
    "outputId": "86f31e24-fb25-4105-fac3-9f7e08028e1e"
   },
   "outputs": [
    {
     "name": "stdout",
     "output_type": "stream",
     "text": [
      "It took 21976.512951135635 milliseconds to train AB with feature from multiclass CNN intermidiate layer.\n",
      "\n"
     ]
    }
   ],
   "source": [
    "from sklearn.ensemble import AdaBoostClassifier\n",
    "from sklearn.tree import DecisionTreeClassifier\n",
    "import time\n",
    "start = time.time()\n",
    "ABmodel = AdaBoostClassifier(DecisionTreeClassifier()).fit(intermediate_output, y_train)\n",
    "end = time.time()\n",
    "print(\"It took {} milliseconds to train AB with feature from multiclass CNN intermidiate layer.\\n\".format(end-start))"
   ]
  },
  {
   "cell_type": "code",
   "execution_count": null,
   "metadata": {
    "colab": {
     "base_uri": "https://localhost:8080/"
    },
    "id": "8Cxbqi27wldb",
    "outputId": "8da7cc8c-24bb-4b11-c58b-af6e13b8cc92"
   },
   "outputs": [
    {
     "name": "stderr",
     "output_type": "stream",
     "text": [
      "/usr/local/lib/python3.7/dist-packages/sklearn/metrics/_classification.py:1318: UndefinedMetricWarning: Precision and F-score are ill-defined and being set to 0.0 in labels with no predicted samples. Use `zero_division` parameter to control this behavior.\n",
      "  _warn_prf(average, modifier, msg_start, len(result))\n",
      "/usr/local/lib/python3.7/dist-packages/sklearn/metrics/_classification.py:1318: UndefinedMetricWarning: Precision and F-score are ill-defined and being set to 0.0 in labels with no predicted samples. Use `zero_division` parameter to control this behavior.\n",
      "  _warn_prf(average, modifier, msg_start, len(result))\n"
     ]
    },
    {
     "name": "stdout",
     "output_type": "stream",
     "text": [
      "              precision    recall  f1-score   support\n",
      "\n",
      "           0       0.91      1.00      0.95        10\n",
      "           1       1.00      1.00      1.00         5\n",
      "           2       0.88      1.00      0.93        28\n",
      "           3       1.00      1.00      1.00     94137\n",
      "           4       0.44      0.02      0.04       210\n",
      "           5       0.49      0.10      0.17       197\n",
      "           6       0.00      0.00      0.00        89\n",
      "           7       0.00      0.00      0.00         1\n",
      "           8       0.00      0.00      0.00       214\n",
      "           9       0.07      0.01      0.02       151\n",
      "          10       0.84      0.84      0.84       218\n",
      "          11       0.87      0.97      0.92    100071\n",
      "          12       0.76      0.79      0.77        94\n",
      "          13       0.76      0.59      0.67        44\n",
      "          14       0.07      0.01      0.01      5982\n",
      "          15       0.11      0.02      0.03        51\n",
      "          16       0.12      0.03      0.05        63\n",
      "          17       0.87      0.72      0.79      2414\n",
      "          18       0.50      0.18      0.27        22\n",
      "          19       1.00      1.00      1.00        29\n",
      "          20       0.95      0.97      0.96    122443\n",
      "          21       0.00      0.00      0.00       241\n",
      "          22       0.34      0.06      0.10       190\n",
      "          23       0.87      0.82      0.84      1699\n",
      "          24       0.93      0.85      0.89      2067\n",
      "          25       0.45      0.15      0.22       540\n",
      "          26       0.09      0.01      0.02      1643\n",
      "          27       0.93      0.80      0.86      1096\n",
      "          28       0.29      0.06      0.10        69\n",
      "          29       0.00      0.00      0.00        11\n",
      "          30       0.42      0.31      0.36        32\n",
      "          31       0.00      0.00      0.00        17\n",
      "          32       0.95      0.97      0.96      8834\n",
      "          33       0.09      0.01      0.02       150\n",
      "          34       0.00      0.00      0.00        35\n",
      "          35       0.80      0.53      0.64       375\n",
      "          36       0.41      0.08      0.13      3958\n",
      "          37       0.02      0.00      0.00      2197\n",
      "          38       0.96      0.99      0.97     36002\n",
      "          39       0.53      0.45      0.49       484\n",
      "          40       0.83      0.52      0.64      1222\n",
      "          41       0.85      0.91      0.88      5691\n",
      "          42       0.91      0.60      0.72       473\n",
      "          43       0.51      0.26      0.34       826\n",
      "          44       0.00      0.00      0.00        39\n",
      "          45       0.83      0.91      0.87     18732\n",
      "          46       0.00      0.00      0.00         6\n",
      "          47       1.00      1.00      1.00         6\n",
      "          48       0.79      0.66      0.72       109\n",
      "          49       0.51      0.18      0.27       165\n",
      "          50       0.00      0.00      0.00        15\n",
      "          51       0.59      0.60      0.60      1930\n",
      "\n",
      "    accuracy                           0.93    415327\n",
      "   macro avg       0.51      0.42      0.44    415327\n",
      "weighted avg       0.90      0.93      0.91    415327\n",
      "\n",
      "It took 112.67399454116821 milliseconds to test AB with feature from multiclass CNN intermidiate layer.\n",
      "\n"
     ]
    },
    {
     "name": "stderr",
     "output_type": "stream",
     "text": [
      "/usr/local/lib/python3.7/dist-packages/sklearn/metrics/_classification.py:1318: UndefinedMetricWarning: Precision and F-score are ill-defined and being set to 0.0 in labels with no predicted samples. Use `zero_division` parameter to control this behavior.\n",
      "  _warn_prf(average, modifier, msg_start, len(result))\n"
     ]
    }
   ],
   "source": [
    "from sklearn.metrics import precision_score, accuracy_score,classification_report\n",
    "start = time.time()\n",
    "ABpred = ABmodel.predict(intermediate_layer_model.predict(X_test))\n",
    "end = time.time()\n",
    "print(classification_report(y_test, ABpred))\n",
    "print(\"It took {} milliseconds to test AB with feature from multiclass CNN intermidiate layer.\\n\".format(end-start))"
   ]
  },
  {
   "cell_type": "code",
   "execution_count": null,
   "metadata": {
    "id": "RiJq7X0jwldc"
   },
   "outputs": [],
   "source": [
    "print('accuracy on the train set: ', accuracy_score(ABmodel.predict(intermediate_output), y_train))\n",
    "print('accuracy on the test set: ', accuracy_score(ABpred, y_test))"
   ]
  },
  {
   "cell_type": "code",
   "execution_count": null,
   "metadata": {
    "id": "Q2JHGaqvHeqU"
   },
   "outputs": [],
   "source": [
    "from sklearn import metrics\n",
    "import matplotlib.pyplot as plt\n",
    "\n",
    "etpprd = ABmodel.predict_proba(intermediate_layer_model.predict(X_test))"
   ]
  },
  {
   "cell_type": "code",
   "execution_count": null,
   "metadata": {
    "id": "pXCDPr8OHeqV"
   },
   "outputs": [],
   "source": [
    "#fpr,tpr, _ = metrics.roc_curve(y_test,etpprd)\n",
    "#auc = metrics.roc_auc_score(y_test,etpprd)\n",
    "#roc auc score\n",
    "auc = metrics.roc_auc_score(y_test, etpprd, multi_class='ovo', average='weighted')"
   ]
  },
  {
   "cell_type": "code",
   "execution_count": null,
   "metadata": {
    "colab": {
     "base_uri": "https://localhost:8080/"
    },
    "id": "4_kSx7feHeqV",
    "outputId": "238849a8-ace7-4758-8436-825bab653828"
   },
   "outputs": [
    {
     "name": "stdout",
     "output_type": "stream",
     "text": [
      "0.9413665347988988\n"
     ]
    }
   ],
   "source": [
    "print(auc)"
   ]
  },
  {
   "cell_type": "code",
   "execution_count": null,
   "metadata": {
    "id": "4XWcZez4wlde"
   },
   "outputs": [],
   "source": [
    "import pickle\n",
    "# save the model to disk\n",
    "filename = '/content/drive/My Drive/Colab Notebooks/MCNN+ABmodel.sav'\n",
    "pickle.dump(ABmodel, open(filename, 'wb'))"
   ]
  },
  {
   "cell_type": "markdown",
   "metadata": {
    "id": "BYftXIGgQizL"
   },
   "source": [
    "## Random Forest Classifier"
   ]
  },
  {
   "cell_type": "code",
   "execution_count": null,
   "metadata": {
    "colab": {
     "base_uri": "https://localhost:8080/"
    },
    "id": "hToX3gJwQizM",
    "outputId": "a9a1ff8a-556e-4037-d3b3-b3382ce4f5e8"
   },
   "outputs": [
    {
     "name": "stdout",
     "output_type": "stream",
     "text": [
      "It took 3299.5974230766296 milliseconds to train RF with feature from multiclass CNN intermidiate layer.\n",
      "\n"
     ]
    }
   ],
   "source": [
    "import time\n",
    "from sklearn.ensemble import RandomForestClassifier\n",
    "start = time.time()\n",
    "RFmodel = RandomForestClassifier().fit(intermediate_output, y_train)\n",
    "end = time.time()\n",
    "print(\"It took {} milliseconds to train RF with feature from multiclass CNN intermidiate layer.\\n\".format(end-start))"
   ]
  },
  {
   "cell_type": "code",
   "execution_count": null,
   "metadata": {
    "colab": {
     "base_uri": "https://localhost:8080/"
    },
    "id": "-FT2XC4KQsym",
    "outputId": "fe41aeb2-b8c2-4c84-fc23-12ec5bec321b"
   },
   "outputs": [
    {
     "name": "stdout",
     "output_type": "stream",
     "text": [
      "It took 121.93929600715637 milliseconds to test RF with feature from multiclass CNN intermidiate layer.\n",
      "\n"
     ]
    },
    {
     "name": "stderr",
     "output_type": "stream",
     "text": [
      "/usr/local/lib/python3.7/dist-packages/sklearn/metrics/_classification.py:1318: UndefinedMetricWarning: Precision and F-score are ill-defined and being set to 0.0 in labels with no predicted samples. Use `zero_division` parameter to control this behavior.\n",
      "  _warn_prf(average, modifier, msg_start, len(result))\n",
      "/usr/local/lib/python3.7/dist-packages/sklearn/metrics/_classification.py:1318: UndefinedMetricWarning: Precision and F-score are ill-defined and being set to 0.0 in labels with no predicted samples. Use `zero_division` parameter to control this behavior.\n",
      "  _warn_prf(average, modifier, msg_start, len(result))\n"
     ]
    },
    {
     "name": "stdout",
     "output_type": "stream",
     "text": [
      "              precision    recall  f1-score   support\n",
      "\n",
      "           0       1.00      1.00      1.00        10\n",
      "           1       1.00      1.00      1.00         5\n",
      "           2       1.00      1.00      1.00        28\n",
      "           3       1.00      1.00      1.00     94137\n",
      "           4       0.00      0.00      0.00       210\n",
      "           5       0.50      0.06      0.10       197\n",
      "           6       0.00      0.00      0.00        89\n",
      "           7       0.00      0.00      0.00         1\n",
      "           8       0.00      0.00      0.00       214\n",
      "           9       0.00      0.00      0.00       151\n",
      "          10       0.87      0.96      0.91       218\n",
      "          11       0.88      0.99      0.93    100071\n",
      "          12       0.90      0.91      0.91        94\n",
      "          13       1.00      0.64      0.78        44\n",
      "          14       0.00      0.00      0.00      5982\n",
      "          15       0.00      0.00      0.00        51\n",
      "          16       0.00      0.00      0.00        63\n",
      "          17       0.90      0.74      0.81      2414\n",
      "          18       1.00      0.09      0.17        22\n",
      "          19       1.00      1.00      1.00        29\n",
      "          20       0.96      0.98      0.97    122443\n",
      "          21       0.00      0.00      0.00       241\n",
      "          22       0.54      0.04      0.07       190\n",
      "          23       0.90      0.82      0.86      1699\n",
      "          24       0.95      0.88      0.92      2067\n",
      "          25       0.57      0.17      0.26       540\n",
      "          26       0.24      0.00      0.01      1643\n",
      "          27       0.96      0.80      0.87      1096\n",
      "          28       1.00      0.06      0.11        69\n",
      "          29       0.00      0.00      0.00        11\n",
      "          30       1.00      0.19      0.32        32\n",
      "          31       0.00      0.00      0.00        17\n",
      "          32       0.97      0.97      0.97      8834\n",
      "          33       0.00      0.00      0.00       150\n",
      "          34       0.00      0.00      0.00        35\n",
      "          35       0.91      0.55      0.68       375\n",
      "          36       0.52      0.05      0.10      3958\n",
      "          37       0.00      0.00      0.00      2197\n",
      "          38       0.96      0.99      0.98     36002\n",
      "          39       0.56      0.57      0.57       484\n",
      "          40       0.88      0.60      0.72      1222\n",
      "          41       0.87      0.89      0.88      5691\n",
      "          42       0.95      0.59      0.73       473\n",
      "          43       0.59      0.30      0.40       826\n",
      "          44       0.00      0.00      0.00        39\n",
      "          45       0.89      0.95      0.92     18732\n",
      "          46       0.00      0.00      0.00         6\n",
      "          47       1.00      1.00      1.00         6\n",
      "          48       0.89      0.72      0.80       109\n",
      "          49       0.72      0.14      0.23       165\n",
      "          50       0.00      0.00      0.00        15\n",
      "          51       0.63      0.67      0.65      1930\n",
      "\n",
      "    accuracy                           0.94    415327\n",
      "   macro avg       0.57      0.43      0.45    415327\n",
      "weighted avg       0.91      0.94      0.92    415327\n",
      "\n"
     ]
    },
    {
     "name": "stderr",
     "output_type": "stream",
     "text": [
      "/usr/local/lib/python3.7/dist-packages/sklearn/metrics/_classification.py:1318: UndefinedMetricWarning: Precision and F-score are ill-defined and being set to 0.0 in labels with no predicted samples. Use `zero_division` parameter to control this behavior.\n",
      "  _warn_prf(average, modifier, msg_start, len(result))\n"
     ]
    }
   ],
   "source": [
    "from sklearn.metrics import precision_score, accuracy_score,classification_report\n",
    "start = time.time()\n",
    "RFpred = RFmodel.predict(intermediate_layer_model.predict(X_test))\n",
    "end = time.time()\n",
    "print(\"It took {} milliseconds to test RF with feature from multiclass CNN intermidiate layer.\\n\".format(end-start))\n",
    "print(classification_report(y_test, RFpred))"
   ]
  },
  {
   "cell_type": "code",
   "execution_count": null,
   "metadata": {
    "colab": {
     "base_uri": "https://localhost:8080/"
    },
    "id": "eXMH5smPyPsO",
    "outputId": "9d227ab4-c40e-4705-cedb-7411d01808f5"
   },
   "outputs": [
    {
     "name": "stdout",
     "output_type": "stream",
     "text": [
      "accuracy on the train set:  0.9999944489229985\n",
      "accuracy on the test set:  0.9383377435129429\n"
     ]
    }
   ],
   "source": [
    "print('accuracy on the train set: ', accuracy_score(RFmodel.predict(intermediate_output), y_train))\n",
    "print('accuracy on the test set: ', accuracy_score(RFpred, y_test))"
   ]
  },
  {
   "cell_type": "code",
   "execution_count": null,
   "metadata": {
    "id": "T-aOFElBIHsS"
   },
   "outputs": [],
   "source": [
    "from sklearn import metrics\n",
    "import matplotlib.pyplot as plt\n",
    "\n",
    "etpprd = RFmodel.predict_proba(intermediate_layer_model.predict(X_test))"
   ]
  },
  {
   "cell_type": "code",
   "execution_count": null,
   "metadata": {
    "id": "2-4kY66lIHsT"
   },
   "outputs": [],
   "source": [
    "#fpr,tpr, _ = metrics.roc_curve(y_test,etpprd)\n",
    "#auc = metrics.roc_auc_score(y_test,etpprd)\n",
    "#roc auc score\n",
    "auc = metrics.roc_auc_score(y_test, etpprd, multi_class='ovo', average='weighted')"
   ]
  },
  {
   "cell_type": "code",
   "execution_count": null,
   "metadata": {
    "colab": {
     "base_uri": "https://localhost:8080/"
    },
    "id": "UrHQRDZHIHsT",
    "outputId": "bb131bbf-0704-4e2e-bd48-a7d75c7fde1d"
   },
   "outputs": [
    {
     "name": "stdout",
     "output_type": "stream",
     "text": [
      "0.9426696519332609\n"
     ]
    }
   ],
   "source": [
    "print(auc)"
   ]
  },
  {
   "cell_type": "code",
   "execution_count": null,
   "metadata": {
    "id": "LqMw0arDyPsR"
   },
   "outputs": [],
   "source": [
    "import pickle\n",
    "# save the model to disk\n",
    "filename = '/content/drive/My Drive/Colab Notebooks/MCNN+RFmodel.sav'\n",
    "pickle.dump(RFmodel, open(filename, 'wb'))"
   ]
  },
  {
   "cell_type": "markdown",
   "metadata": {
    "id": "eYrcZcdzTtGA"
   },
   "source": [
    "## Decision Tree"
   ]
  },
  {
   "cell_type": "code",
   "execution_count": null,
   "metadata": {
    "colab": {
     "base_uri": "https://localhost:8080/"
    },
    "id": "X9zEJjkhTtGB",
    "outputId": "a7a1c1c0-d597-43f1-ba57-0bebd96cadc4"
   },
   "outputs": [
    {
     "name": "stdout",
     "output_type": "stream",
     "text": [
      "It took 474.50330352783203 milliseconds to train DT with feature from multiclass CNN intermidiate layer.\n",
      "\n"
     ]
    }
   ],
   "source": [
    "from sklearn.tree import DecisionTreeClassifier\n",
    "import time\n",
    "start = time.time()\n",
    "DTmodel = DecisionTreeClassifier().fit(intermediate_output, y_train)\n",
    "end = time.time()\n",
    "print(\"It took {} milliseconds to train DT with feature from multiclass CNN intermidiate layer.\\n\".format(end-start))"
   ]
  },
  {
   "cell_type": "code",
   "execution_count": null,
   "metadata": {
    "colab": {
     "base_uri": "https://localhost:8080/"
    },
    "id": "1myaujvmg82c",
    "outputId": "f835559b-8c5c-4ff7-9868-194a4421290d"
   },
   "outputs": [
    {
     "name": "stdout",
     "output_type": "stream",
     "text": [
      "              precision    recall  f1-score   support\n",
      "\n",
      "           0       0.59      1.00      0.74        10\n",
      "           1       0.56      1.00      0.71         5\n",
      "           2       0.80      1.00      0.89        28\n",
      "           3       1.00      1.00      1.00     94137\n",
      "           4       0.03      0.06      0.04       210\n",
      "           5       0.15      0.18      0.16       197\n",
      "           6       0.00      0.00      0.00        89\n",
      "           7       0.00      0.00      0.00         1\n",
      "           8       0.01      0.01      0.01       214\n",
      "           9       0.02      0.03      0.03       151\n",
      "          10       0.73      0.71      0.72       218\n",
      "          11       0.86      0.73      0.79    100071\n",
      "          12       0.46      0.54      0.50        94\n",
      "          13       0.30      0.50      0.37        44\n",
      "          14       0.05      0.10      0.07      5982\n",
      "          15       0.03      0.06      0.04        51\n",
      "          16       0.02      0.03      0.03        63\n",
      "          17       0.62      0.67      0.64      2414\n",
      "          18       0.20      0.18      0.19        22\n",
      "          19       0.91      1.00      0.95        29\n",
      "          20       0.95      0.89      0.92    122443\n",
      "          21       0.00      0.01      0.01       241\n",
      "          22       0.09      0.19      0.12       190\n",
      "          23       0.48      0.80      0.60      1699\n",
      "          24       0.63      0.68      0.66      2067\n",
      "          25       0.07      0.12      0.09       540\n",
      "          26       0.03      0.05      0.03      1643\n",
      "          27       0.63      0.79      0.70      1096\n",
      "          28       0.05      0.09      0.06        69\n",
      "          29       0.00      0.00      0.00        11\n",
      "          30       0.19      0.31      0.24        32\n",
      "          31       0.00      0.00      0.00        17\n",
      "          32       0.88      0.92      0.90      8834\n",
      "          33       0.02      0.03      0.03       150\n",
      "          34       0.00      0.00      0.00        35\n",
      "          35       0.44      0.47      0.45       375\n",
      "          36       0.06      0.10      0.07      3958\n",
      "          37       0.02      0.03      0.02      2197\n",
      "          38       0.95      0.96      0.95     36002\n",
      "          39       0.22      0.31      0.26       484\n",
      "          40       0.43      0.50      0.46      1222\n",
      "          41       0.72      0.82      0.77      5691\n",
      "          42       0.41      0.62      0.49       473\n",
      "          43       0.16      0.27      0.20       826\n",
      "          44       0.01      0.03      0.02        39\n",
      "          45       0.69      0.80      0.74     18732\n",
      "          46       0.00      0.00      0.00         6\n",
      "          47       0.75      1.00      0.86         6\n",
      "          48       0.53      0.60      0.56       109\n",
      "          49       0.07      0.10      0.08       165\n",
      "          50       0.00      0.00      0.00        15\n",
      "          51       0.37      0.52      0.43      1930\n",
      "\n",
      "    accuracy                           0.84    415327\n",
      "   macro avg       0.33      0.40      0.36    415327\n",
      "weighted avg       0.87      0.84      0.85    415327\n",
      "\n",
      "It took 58.086920499801636 milliseconds to test DT with feature from multiclass CNN intermidiate layer.\n",
      "\n"
     ]
    }
   ],
   "source": [
    "from sklearn.metrics import precision_score, accuracy_score,classification_report\n",
    "start = time.time()\n",
    "DTpred = DTmodel.predict(intermediate_layer_model.predict(X_test))\n",
    "end = time.time()\n",
    "print(classification_report(y_test, DTpred))\n",
    "print(\"It took {} milliseconds to test DT with feature from multiclass CNN intermidiate layer.\\n\".format(end-start))"
   ]
  },
  {
   "cell_type": "code",
   "execution_count": null,
   "metadata": {
    "colab": {
     "base_uri": "https://localhost:8080/"
    },
    "id": "yIXo-HWATtGB",
    "outputId": "ef627c7f-b881-4ff3-c368-06aa08b3dd5c"
   },
   "outputs": [
    {
     "name": "stdout",
     "output_type": "stream",
     "text": [
      "accuracy on the train set:  0.9999969160683325\n",
      "accuracy on the test set:  0.8383948069834131\n"
     ]
    }
   ],
   "source": [
    "print('accuracy on the train set: ', accuracy_score(DTmodel.predict(intermediate_output), y_train))\n",
    "print('accuracy on the test set: ', accuracy_score(DTpred, y_test))"
   ]
  },
  {
   "cell_type": "code",
   "execution_count": null,
   "metadata": {
    "id": "ICkug1ofTtGC"
   },
   "outputs": [],
   "source": [
    "from sklearn import metrics\n",
    "import matplotlib.pyplot as plt\n",
    "\n",
    "etpprd = DTmodel.predict_proba(intermediate_layer_model.predict(X_test))"
   ]
  },
  {
   "cell_type": "code",
   "execution_count": null,
   "metadata": {
    "id": "wme_NHyeTtGC"
   },
   "outputs": [],
   "source": [
    "#fpr,tpr, _ = metrics.roc_curve(y_test,etpprd)\n",
    "#auc = metrics.roc_auc_score(y_test,etpprd)\n",
    "#roc auc score\n",
    "auc = metrics.roc_auc_score(y_test, etpprd, multi_class='ovo', average='weighted')"
   ]
  },
  {
   "cell_type": "code",
   "execution_count": null,
   "metadata": {
    "colab": {
     "base_uri": "https://localhost:8080/"
    },
    "id": "ZK8Bia0NTtGC",
    "outputId": "10a8076a-23e0-4b26-9310-445bab2c697d"
   },
   "outputs": [
    {
     "name": "stdout",
     "output_type": "stream",
     "text": [
      "0.7891737046646503\n"
     ]
    }
   ],
   "source": [
    "print(auc)"
   ]
  },
  {
   "cell_type": "code",
   "execution_count": null,
   "metadata": {
    "colab": {
     "base_uri": "https://localhost:8080/"
    },
    "id": "FwG8RfoPHBRr",
    "outputId": "0424f408-a641-48cf-b8d8-01fe2d655d6d"
   },
   "outputs": [
    {
     "name": "stderr",
     "output_type": "stream",
     "text": [
      "/usr/local/lib/python3.7/dist-packages/ipykernel_launcher.py:1: DeprecationWarning: elementwise comparison failed; this will raise an error in the future.\n",
      "  \"\"\"Entry point for launching an IPython kernel.\n"
     ]
    }
   ],
   "source": [
    "matches = np.count_nonzero(y_test == etpprd)\n",
    "mismatches = y_test.size - matches"
   ]
  },
  {
   "cell_type": "code",
   "execution_count": null,
   "metadata": {
    "id": "GSrU6ppWTtGC"
   },
   "outputs": [],
   "source": [
    "import pickle\n",
    "# save the model to disk\n",
    "filename = '/content/drive/My Drive/Colab Notebooks/MCNN+DTmodel.sav'\n",
    "pickle.dump(DTmodel, open(filename, 'wb'))"
   ]
  }
 ],
 "metadata": {
  "colab": {
   "collapsed_sections": [
    "N5I3H70AHjIh",
    "oHIaB-sZwldL",
    "BYftXIGgQizL",
    "i8ogsJxBtkKw",
    "3VYqXZFhLusC",
    "gIdkTM2TQKk4"
   ],
   "machine_shape": "hm",
   "provenance": []
  },
  "kernelspec": {
   "display_name": "Python 3 (ipykernel)",
   "language": "python",
   "name": "python3"
  },
  "language_info": {
   "codemirror_mode": {
    "name": "ipython",
    "version": 3
   },
   "file_extension": ".py",
   "mimetype": "text/x-python",
   "name": "python",
   "nbconvert_exporter": "python",
   "pygments_lexer": "ipython3",
   "version": "3.10.9"
  }
 },
 "nbformat": 4,
 "nbformat_minor": 1
}
