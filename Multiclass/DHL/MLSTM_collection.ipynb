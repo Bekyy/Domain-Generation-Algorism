{
 "cells": [
  {
   "cell_type": "markdown",
   "metadata": {
    "id": "QvBq9lWADwMT"
   },
   "source": [
    "### 32,1000x100"
   ]
  },
  {
   "cell_type": "code",
   "execution_count": null,
   "metadata": {
    "id": "FblPcWPF7Q2A"
   },
   "outputs": [],
   "source": [
    "from tensorflow.keras.optimizers import RMSprop\n",
    "from keras.layers import LSTM, Activation, Dense, Dropout, Input, Conv1D, Embedding, Flatten\n",
    "def RNN_model():\n",
    "    inputs = Input(name='inputs',shape=[max_len])\n",
    "    layer = Embedding(input_dim = max_len + 1,output_dim = 50,input_length=max_len)(inputs)\n",
    "    layer = LSTM(32)(layer)\n",
    "    layer = Flatten()(layer)\n",
    "\n",
    "    layer = Dense(256,name='FC1')(layer)\n",
    "    layer = Activation('relu')(layer)\n",
    "    layer = Dropout(0.5)(layer)\n",
    "\n",
    "    layer = Dense(Domain_data['label'].nunique(),name='out_layer')(layer)\n",
    "    layer = Activation('softmax')(layer)\n",
    "    model = Model(inputs=inputs,outputs=layer)\n",
    "    return model"
   ]
  },
  {
   "cell_type": "code",
   "execution_count": null,
   "metadata": {
    "colab": {
     "base_uri": "https://localhost:8080/"
    },
    "id": "efYalBX_7Q2B",
    "outputId": "16982a82-4d2d-497c-e30c-68e52b2944c1"
   },
   "outputs": [
    {
     "name": "stdout",
     "output_type": "stream",
     "text": [
      "Model: \"model\"\n",
      "_________________________________________________________________\n",
      " Layer (type)                Output Shape              Param #   \n",
      "=================================================================\n",
      " inputs (InputLayer)         [(None, 50)]              0         \n",
      "                                                                 \n",
      " embedding (Embedding)       (None, 50, 50)            2550      \n",
      "                                                                 \n",
      " lstm (LSTM)                 (None, 32)                10624     \n",
      "                                                                 \n",
      " flatten (Flatten)           (None, 32)                0         \n",
      "                                                                 \n",
      " FC1 (Dense)                 (None, 256)               8448      \n",
      "                                                                 \n",
      " activation (Activation)     (None, 256)               0         \n",
      "                                                                 \n",
      " dropout (Dropout)           (None, 256)               0         \n",
      "                                                                 \n",
      " out_layer (Dense)           (None, 52)                13364     \n",
      "                                                                 \n",
      " activation_1 (Activation)   (None, 52)                0         \n",
      "                                                                 \n",
      "=================================================================\n",
      "Total params: 34,986\n",
      "Trainable params: 34,986\n",
      "Non-trainable params: 0\n",
      "_________________________________________________________________\n"
     ]
    }
   ],
   "source": [
    "from tensorflow.keras.models import Sequential, Model\n",
    "model = RNN_model()\n",
    "model.summary()\n",
    "model.compile(loss='categorical_crossentropy',optimizer=RMSprop(),metrics=['acc'])"
   ]
  },
  {
   "cell_type": "code",
   "execution_count": null,
   "metadata": {
    "colab": {
     "base_uri": "https://localhost:8080/"
    },
    "id": "KFiZwMAj7Q2C",
    "outputId": "e3bfc1e9-5bef-46ec-cbef-dcf83a800d92"
   },
   "outputs": [
    {
     "name": "stdout",
     "output_type": "stream",
     "text": [
      "Epoch 1/100\n",
      "1622/1622 [==============================] - 26s 11ms/step - loss: 2.2454 - acc: 0.3849 - val_loss: 1.0233 - val_acc: 0.7726\n",
      "Epoch 2/100\n",
      "1622/1622 [==============================] - 15s 9ms/step - loss: 1.5196 - acc: 0.5532 - val_loss: 0.8076 - val_acc: 0.7955\n",
      "Epoch 3/100\n",
      "1622/1622 [==============================] - 15s 9ms/step - loss: 1.2868 - acc: 0.6124 - val_loss: 0.6917 - val_acc: 0.8400\n",
      "Epoch 4/100\n",
      "1622/1622 [==============================] - 16s 10ms/step - loss: 1.1312 - acc: 0.6581 - val_loss: 0.5015 - val_acc: 0.8741\n",
      "Epoch 5/100\n",
      "1622/1622 [==============================] - 15s 9ms/step - loss: 1.0237 - acc: 0.6921 - val_loss: 0.4314 - val_acc: 0.8893\n",
      "Epoch 6/100\n",
      "1622/1622 [==============================] - 15s 9ms/step - loss: 0.9404 - acc: 0.7184 - val_loss: 0.3784 - val_acc: 0.9024\n",
      "Epoch 7/100\n",
      "1622/1622 [==============================] - 16s 10ms/step - loss: 0.8794 - acc: 0.7393 - val_loss: 0.4349 - val_acc: 0.8897\n",
      "Epoch 8/100\n",
      "1622/1622 [==============================] - 15s 9ms/step - loss: 0.8326 - acc: 0.7534 - val_loss: 0.3363 - val_acc: 0.9164\n",
      "Epoch 9/100\n",
      "1622/1622 [==============================] - 16s 10ms/step - loss: 0.7886 - acc: 0.7658 - val_loss: 0.3291 - val_acc: 0.9214\n",
      "Epoch 10/100\n",
      "1622/1622 [==============================] - 15s 9ms/step - loss: 0.7559 - acc: 0.7747 - val_loss: 0.3103 - val_acc: 0.9202\n",
      "Epoch 11/100\n",
      "1622/1622 [==============================] - 15s 9ms/step - loss: 0.7296 - acc: 0.7814 - val_loss: 0.2954 - val_acc: 0.9232\n",
      "Epoch 12/100\n",
      "1622/1622 [==============================] - 15s 9ms/step - loss: 0.7086 - acc: 0.7863 - val_loss: 0.2914 - val_acc: 0.9283\n",
      "Epoch 13/100\n",
      "1622/1622 [==============================] - 16s 10ms/step - loss: 0.6903 - acc: 0.7906 - val_loss: 0.3038 - val_acc: 0.9216\n",
      "Epoch 14/100\n",
      "1622/1622 [==============================] - 15s 9ms/step - loss: 0.6760 - acc: 0.7942 - val_loss: 0.2649 - val_acc: 0.9372\n",
      "Epoch 15/100\n",
      "1622/1622 [==============================] - 15s 9ms/step - loss: 0.6610 - acc: 0.7978 - val_loss: 0.2908 - val_acc: 0.9270\n",
      "Epoch 16/100\n",
      "1622/1622 [==============================] - 23s 14ms/step - loss: 0.6481 - acc: 0.8010 - val_loss: 0.2575 - val_acc: 0.9360\n",
      "Epoch 17/100\n",
      "1622/1622 [==============================] - 15s 9ms/step - loss: 0.6351 - acc: 0.8044 - val_loss: 0.2438 - val_acc: 0.9393\n",
      "Epoch 18/100\n",
      "1622/1622 [==============================] - 16s 10ms/step - loss: 0.6234 - acc: 0.8074 - val_loss: 0.2641 - val_acc: 0.9332\n",
      "Epoch 19/100\n",
      "1622/1622 [==============================] - 16s 10ms/step - loss: 0.6133 - acc: 0.8103 - val_loss: 0.2516 - val_acc: 0.9340\n",
      "Epoch 20/100\n",
      "1622/1622 [==============================] - 16s 10ms/step - loss: 0.6042 - acc: 0.8128 - val_loss: 0.2509 - val_acc: 0.9350\n",
      "Epoch 21/100\n",
      "1622/1622 [==============================] - 15s 9ms/step - loss: 0.5949 - acc: 0.8153 - val_loss: 0.2422 - val_acc: 0.9360\n",
      "Epoch 22/100\n",
      "1622/1622 [==============================] - 15s 10ms/step - loss: 0.5867 - acc: 0.8178 - val_loss: 0.2305 - val_acc: 0.9410\n",
      "Epoch 23/100\n",
      "1622/1622 [==============================] - 16s 10ms/step - loss: 0.5791 - acc: 0.8199 - val_loss: 0.2556 - val_acc: 0.9304\n",
      "Epoch 24/100\n",
      "1622/1622 [==============================] - 15s 9ms/step - loss: 0.5717 - acc: 0.8220 - val_loss: 0.2472 - val_acc: 0.9365\n",
      "Epoch 25/100\n",
      "1622/1622 [==============================] - 16s 10ms/step - loss: 0.5652 - acc: 0.8235 - val_loss: 0.2718 - val_acc: 0.9265\n",
      "Epoch 26/100\n",
      "1622/1622 [==============================] - 15s 9ms/step - loss: 0.5577 - acc: 0.8257 - val_loss: 0.2252 - val_acc: 0.9398\n",
      "Epoch 27/100\n",
      "1622/1622 [==============================] - 15s 9ms/step - loss: 0.5507 - acc: 0.8276 - val_loss: 0.2328 - val_acc: 0.9377\n",
      "Epoch 28/100\n",
      "1622/1622 [==============================] - 15s 9ms/step - loss: 0.5445 - acc: 0.8293 - val_loss: 0.2411 - val_acc: 0.9382\n",
      "Epoch 29/100\n",
      "1622/1622 [==============================] - 15s 9ms/step - loss: 0.5382 - acc: 0.8313 - val_loss: 0.2949 - val_acc: 0.9247\n",
      "Epoch 30/100\n",
      "1622/1622 [==============================] - 15s 9ms/step - loss: 0.5326 - acc: 0.8325 - val_loss: 0.2392 - val_acc: 0.9367\n",
      "Epoch 31/100\n",
      "1622/1622 [==============================] - 16s 10ms/step - loss: 0.5273 - acc: 0.8341 - val_loss: 0.2398 - val_acc: 0.9344\n",
      "Epoch 32/100\n",
      "1622/1622 [==============================] - 16s 10ms/step - loss: 0.5216 - acc: 0.8357 - val_loss: 0.2302 - val_acc: 0.9384\n",
      "Epoch 33/100\n",
      "1622/1622 [==============================] - 16s 10ms/step - loss: 0.5157 - acc: 0.8374 - val_loss: 0.2464 - val_acc: 0.9354\n",
      "Epoch 34/100\n",
      "1622/1622 [==============================] - 15s 9ms/step - loss: 0.5104 - acc: 0.8392 - val_loss: 0.2175 - val_acc: 0.9436\n",
      "Epoch 35/100\n",
      "1622/1622 [==============================] - 16s 10ms/step - loss: 0.5057 - acc: 0.8406 - val_loss: 0.2390 - val_acc: 0.9324\n",
      "Epoch 36/100\n",
      "1622/1622 [==============================] - 15s 9ms/step - loss: 0.5010 - acc: 0.8421 - val_loss: 0.2139 - val_acc: 0.9436\n",
      "Epoch 37/100\n",
      "1622/1622 [==============================] - 16s 10ms/step - loss: 0.4963 - acc: 0.8432 - val_loss: 0.2633 - val_acc: 0.9315\n",
      "Epoch 38/100\n",
      "1622/1622 [==============================] - 15s 9ms/step - loss: 0.4922 - acc: 0.8446 - val_loss: 0.2337 - val_acc: 0.9379\n",
      "Epoch 39/100\n",
      "1622/1622 [==============================] - 15s 9ms/step - loss: 0.4881 - acc: 0.8460 - val_loss: 0.2180 - val_acc: 0.9401\n",
      "Epoch 40/100\n",
      "1622/1622 [==============================] - 15s 9ms/step - loss: 0.4842 - acc: 0.8470 - val_loss: 0.2407 - val_acc: 0.9364\n",
      "Epoch 41/100\n",
      "1622/1622 [==============================] - 15s 9ms/step - loss: 0.4808 - acc: 0.8484 - val_loss: 0.2262 - val_acc: 0.9392\n",
      "Epoch 42/100\n",
      "1622/1622 [==============================] - 15s 9ms/step - loss: 0.4769 - acc: 0.8495 - val_loss: 0.2261 - val_acc: 0.9409\n",
      "Epoch 43/100\n",
      "1622/1622 [==============================] - 16s 10ms/step - loss: 0.4738 - acc: 0.8503 - val_loss: 0.2378 - val_acc: 0.9411\n",
      "Epoch 44/100\n",
      "1622/1622 [==============================] - 16s 10ms/step - loss: 0.4711 - acc: 0.8512 - val_loss: 0.2394 - val_acc: 0.9376\n",
      "Epoch 45/100\n",
      "1622/1622 [==============================] - 16s 10ms/step - loss: 0.4684 - acc: 0.8523 - val_loss: 0.2250 - val_acc: 0.9393\n",
      "Epoch 46/100\n",
      "1622/1622 [==============================] - 16s 10ms/step - loss: 0.4655 - acc: 0.8531 - val_loss: 0.2271 - val_acc: 0.9392\n",
      "Epoch 47/100\n",
      "1622/1622 [==============================] - 16s 10ms/step - loss: 0.4626 - acc: 0.8542 - val_loss: 0.2110 - val_acc: 0.9429\n",
      "Epoch 48/100\n",
      "1622/1622 [==============================] - 15s 9ms/step - loss: 0.4603 - acc: 0.8547 - val_loss: 0.3181 - val_acc: 0.9096\n",
      "Epoch 49/100\n",
      "1622/1622 [==============================] - 16s 10ms/step - loss: 0.4573 - acc: 0.8558 - val_loss: 0.2640 - val_acc: 0.9288\n",
      "Epoch 50/100\n",
      "1622/1622 [==============================] - 15s 9ms/step - loss: 0.4551 - acc: 0.8563 - val_loss: 0.2242 - val_acc: 0.9399\n",
      "Epoch 51/100\n",
      "1622/1622 [==============================] - 15s 9ms/step - loss: 0.4534 - acc: 0.8572 - val_loss: 0.2436 - val_acc: 0.9346\n",
      "Epoch 52/100\n",
      "1622/1622 [==============================] - 16s 10ms/step - loss: 0.4512 - acc: 0.8578 - val_loss: 0.2173 - val_acc: 0.9409\n",
      "Epoch 53/100\n",
      "1622/1622 [==============================] - 15s 9ms/step - loss: 0.4487 - acc: 0.8586 - val_loss: 0.2054 - val_acc: 0.9442\n",
      "Epoch 54/100\n",
      "1622/1622 [==============================] - 16s 10ms/step - loss: 0.4463 - acc: 0.8595 - val_loss: 0.2105 - val_acc: 0.9442\n",
      "Epoch 55/100\n",
      "1622/1622 [==============================] - 15s 9ms/step - loss: 0.4444 - acc: 0.8601 - val_loss: 0.2293 - val_acc: 0.9384\n",
      "Epoch 56/100\n",
      "1622/1622 [==============================] - 15s 9ms/step - loss: 0.4432 - acc: 0.8605 - val_loss: 0.2157 - val_acc: 0.9431\n",
      "Epoch 57/100\n",
      "1622/1622 [==============================] - 15s 9ms/step - loss: 0.4415 - acc: 0.8609 - val_loss: 0.2224 - val_acc: 0.9399\n",
      "Epoch 58/100\n",
      "1622/1622 [==============================] - 16s 10ms/step - loss: 0.4394 - acc: 0.8619 - val_loss: 0.2126 - val_acc: 0.9453\n",
      "Epoch 59/100\n",
      "1622/1622 [==============================] - 16s 10ms/step - loss: 0.4377 - acc: 0.8625 - val_loss: 0.2147 - val_acc: 0.9427\n",
      "Epoch 60/100\n",
      "1622/1622 [==============================] - 15s 9ms/step - loss: 0.4365 - acc: 0.8629 - val_loss: 0.2160 - val_acc: 0.9410\n",
      "Epoch 61/100\n",
      "1622/1622 [==============================] - 15s 9ms/step - loss: 0.4347 - acc: 0.8634 - val_loss: 0.2443 - val_acc: 0.9370\n",
      "Epoch 62/100\n",
      "1622/1622 [==============================] - 16s 10ms/step - loss: 0.4333 - acc: 0.8638 - val_loss: 0.2325 - val_acc: 0.9378\n",
      "Epoch 63/100\n",
      "1622/1622 [==============================] - 16s 10ms/step - loss: 0.4317 - acc: 0.8642 - val_loss: 0.2110 - val_acc: 0.9433\n",
      "Epoch 64/100\n",
      "1622/1622 [==============================] - 16s 10ms/step - loss: 0.4309 - acc: 0.8645 - val_loss: 0.2265 - val_acc: 0.9415\n",
      "Epoch 65/100\n",
      "1622/1622 [==============================] - 15s 9ms/step - loss: 0.4300 - acc: 0.8647 - val_loss: 0.2143 - val_acc: 0.9430\n",
      "Epoch 66/100\n",
      "1622/1622 [==============================] - 16s 10ms/step - loss: 0.4282 - acc: 0.8650 - val_loss: 0.2382 - val_acc: 0.9343\n",
      "Epoch 67/100\n",
      "1622/1622 [==============================] - 15s 9ms/step - loss: 0.4266 - acc: 0.8657 - val_loss: 0.2354 - val_acc: 0.9356\n",
      "Epoch 68/100\n",
      "1622/1622 [==============================] - 16s 10ms/step - loss: 0.4261 - acc: 0.8657 - val_loss: 0.3013 - val_acc: 0.9150\n",
      "Epoch 69/100\n",
      "1622/1622 [==============================] - 15s 9ms/step - loss: 0.4255 - acc: 0.8663 - val_loss: 0.2135 - val_acc: 0.9422\n",
      "Epoch 70/100\n",
      "1622/1622 [==============================] - 15s 9ms/step - loss: 0.4241 - acc: 0.8665 - val_loss: 0.2240 - val_acc: 0.9387\n",
      "Epoch 71/100\n",
      "1622/1622 [==============================] - 16s 10ms/step - loss: 0.4233 - acc: 0.8669 - val_loss: 0.2550 - val_acc: 0.9306\n",
      "Epoch 72/100\n",
      "1622/1622 [==============================] - 15s 9ms/step - loss: 0.4222 - acc: 0.8672 - val_loss: 0.2257 - val_acc: 0.9389\n",
      "Epoch 73/100\n",
      "1622/1622 [==============================] - 15s 9ms/step - loss: 0.4219 - acc: 0.8675 - val_loss: 0.2079 - val_acc: 0.9428\n",
      "Epoch 74/100\n",
      "1622/1622 [==============================] - 15s 9ms/step - loss: 0.4798 - acc: 0.8558 - val_loss: 0.2784 - val_acc: 0.9217\n",
      "Epoch 75/100\n",
      "1622/1622 [==============================] - 16s 10ms/step - loss: 0.4256 - acc: 0.8663 - val_loss: 0.2041 - val_acc: 0.9454\n",
      "Epoch 76/100\n",
      "1622/1622 [==============================] - 16s 10ms/step - loss: 0.4738 - acc: 0.8564 - val_loss: 0.2105 - val_acc: 0.9444\n",
      "Epoch 77/100\n",
      "1622/1622 [==============================] - 16s 10ms/step - loss: 0.4640 - acc: 0.8571 - val_loss: 0.2329 - val_acc: 0.9377\n",
      "Epoch 78/100\n",
      "1622/1622 [==============================] - 16s 10ms/step - loss: 0.4781 - acc: 0.8530 - val_loss: 0.2089 - val_acc: 0.9451\n",
      "Epoch 79/100\n",
      "1622/1622 [==============================] - 15s 9ms/step - loss: 0.4858 - acc: 0.8514 - val_loss: 0.2334 - val_acc: 0.9367\n",
      "Epoch 80/100\n",
      "1622/1622 [==============================] - 15s 9ms/step - loss: 0.4768 - acc: 0.8535 - val_loss: 0.2503 - val_acc: 0.9354\n",
      "Epoch 81/100\n",
      "1622/1622 [==============================] - 15s 9ms/step - loss: 0.4514 - acc: 0.8593 - val_loss: 0.2226 - val_acc: 0.9390\n",
      "Epoch 82/100\n",
      "1622/1622 [==============================] - 16s 10ms/step - loss: 0.4709 - acc: 0.8551 - val_loss: 0.2124 - val_acc: 0.9439\n",
      "Epoch 83/100\n",
      "1622/1622 [==============================] - 15s 9ms/step - loss: 0.4600 - acc: 0.8575 - val_loss: 0.2172 - val_acc: 0.9423\n",
      "Epoch 84/100\n",
      "1622/1622 [==============================] - 16s 10ms/step - loss: 0.4588 - acc: 0.8578 - val_loss: 0.2230 - val_acc: 0.9400\n",
      "Epoch 85/100\n",
      "1622/1622 [==============================] - 16s 10ms/step - loss: 0.4571 - acc: 0.8584 - val_loss: 0.2416 - val_acc: 0.9359\n",
      "Epoch 86/100\n",
      "1622/1622 [==============================] - 16s 10ms/step - loss: 0.4499 - acc: 0.8598 - val_loss: 0.2373 - val_acc: 0.9352\n",
      "Epoch 87/100\n",
      "1622/1622 [==============================] - 15s 9ms/step - loss: 0.4523 - acc: 0.8596 - val_loss: 0.2234 - val_acc: 0.9397\n",
      "Epoch 88/100\n",
      "1622/1622 [==============================] - 15s 9ms/step - loss: 0.4506 - acc: 0.8598 - val_loss: 0.2196 - val_acc: 0.9431\n",
      "Epoch 89/100\n",
      "1622/1622 [==============================] - 15s 9ms/step - loss: 0.4456 - acc: 0.8608 - val_loss: 0.2673 - val_acc: 0.9319\n",
      "Epoch 90/100\n",
      "1622/1622 [==============================] - 16s 10ms/step - loss: 0.4474 - acc: 0.8604 - val_loss: 0.2277 - val_acc: 0.9379\n",
      "Epoch 91/100\n",
      "1622/1622 [==============================] - 16s 10ms/step - loss: 0.4430 - acc: 0.8615 - val_loss: 0.2063 - val_acc: 0.9459\n",
      "Epoch 92/100\n",
      "1622/1622 [==============================] - 15s 9ms/step - loss: 0.4427 - acc: 0.8618 - val_loss: 0.2128 - val_acc: 0.9418\n",
      "Epoch 93/100\n",
      "1622/1622 [==============================] - 16s 10ms/step - loss: 0.4411 - acc: 0.8622 - val_loss: 0.2346 - val_acc: 0.9355\n",
      "Epoch 94/100\n",
      "1622/1622 [==============================] - 16s 10ms/step - loss: 0.4405 - acc: 0.8623 - val_loss: 0.2575 - val_acc: 0.9321\n",
      "Epoch 95/100\n",
      "1622/1622 [==============================] - 16s 10ms/step - loss: 0.4404 - acc: 0.8624 - val_loss: 0.2271 - val_acc: 0.9374\n",
      "Epoch 96/100\n",
      "1622/1622 [==============================] - 15s 9ms/step - loss: 0.4376 - acc: 0.8630 - val_loss: 0.2191 - val_acc: 0.9400\n",
      "Epoch 97/100\n",
      "1622/1622 [==============================] - 15s 9ms/step - loss: 0.4374 - acc: 0.8631 - val_loss: 0.2118 - val_acc: 0.9439\n",
      "Epoch 98/100\n",
      "1622/1622 [==============================] - 16s 10ms/step - loss: 0.4343 - acc: 0.8640 - val_loss: 0.2251 - val_acc: 0.9387\n",
      "Epoch 99/100\n",
      "1622/1622 [==============================] - 15s 9ms/step - loss: 0.4357 - acc: 0.8638 - val_loss: 0.2192 - val_acc: 0.9402\n",
      "Epoch 100/100\n",
      "1622/1622 [==============================] - 15s 9ms/step - loss: 0.4359 - acc: 0.8638 - val_loss: 0.2129 - val_acc: 0.9417\n",
      "LSTM multiclass Training finished in 1543.4950172901154 milisecond!!\n",
      "\n"
     ]
    }
   ],
   "source": [
    "import time\n",
    "start=time.time()\n",
    "history=model.fit(X_train,y_train,batch_size=1000,epochs=100,\n",
    "          validation_data=(X_test, y_test))\n",
    "end=time.time()\n",
    "print('LSTM multiclass Training finished in {} milisecond!!\\n'.format(end-start))"
   ]
  },
  {
   "cell_type": "code",
   "execution_count": null,
   "metadata": {
    "colab": {
     "base_uri": "https://localhost:8080/"
    },
    "id": "0r4bd6KD7Q2C",
    "outputId": "c4123d82-eed7-40aa-fed6-a48e069580dd"
   },
   "outputs": [
    {
     "name": "stdout",
     "output_type": "stream",
     "text": [
      "12979/12979 [==============================] - 59s 5ms/step - loss: 0.2129 - acc: 0.9417\n",
      "LSTM multiclass Testing finished in 58.95770025253296 milisecond!!\n",
      "\n",
      "Accuracy on test set: [0.21289664506912231, 0.9417085647583008]\n",
      "Test loss: 0.21289664506912231\n",
      "Test accuracy: 0.9417085647583008\n"
     ]
    }
   ],
   "source": [
    "start=time.time()\n",
    "results = model.evaluate(X_test, y_test)\n",
    "end=time.time()\n",
    "print('LSTM multiclass Testing finished in {} milisecond!!\\n'.format(end-start))\n",
    "print (\"Accuracy on test set:\" , results)\n",
    "print('Test loss:', results[0])\n",
    "print('Test accuracy:', results[1])"
   ]
  },
  {
   "cell_type": "code",
   "execution_count": null,
   "metadata": {
    "colab": {
     "base_uri": "https://localhost:8080/"
    },
    "id": "kFVCpJ0q7Q2D",
    "outputId": "5c8c9f8d-22cf-46ca-95b4-d3ee36fe6c3d"
   },
   "outputs": [
    {
     "name": "stdout",
     "output_type": "stream",
     "text": [
      "12979/12979 [==============================] - 50s 4ms/step - loss: 0.2129 - acc: 0.9417\n",
      "Test set\n",
      "   Accuracy: 0.942\n"
     ]
    }
   ],
   "source": [
    "y_pred1 = model.predict(X_test)\n",
    "y_pred1=(y_pred1 > 0.5)\n",
    "accr = model.evaluate(X_test,y_test)\n",
    "rnn_acc=accr[1]\n",
    "print('Test set\\n   Accuracy: {:0.3f}'.format(accr[1]))\n",
    "\n"
   ]
  },
  {
   "cell_type": "code",
   "execution_count": null,
   "metadata": {
    "colab": {
     "base_uri": "https://localhost:8080/"
    },
    "id": "q_GLX_Ka7Q2D",
    "outputId": "3bf9413d-a290-4a8d-babb-e6949a782471"
   },
   "outputs": [
    {
     "name": "stdout",
     "output_type": "stream",
     "text": [
      "\n",
      "\n",
      "Precision, Recall, F1\n",
      "\n",
      "\n"
     ]
    },
    {
     "name": "stderr",
     "output_type": "stream",
     "text": [
      "/usr/local/lib/python3.7/dist-packages/sklearn/metrics/_classification.py:1318: UndefinedMetricWarning: Precision and F-score are ill-defined and being set to 0.0 in labels with no predicted samples. Use `zero_division` parameter to control this behavior.\n",
      "  _warn_prf(average, modifier, msg_start, len(result))\n"
     ]
    },
    {
     "name": "stdout",
     "output_type": "stream",
     "text": [
      "              precision    recall  f1-score   support\n",
      "\n",
      "           0       0.45      1.00      0.62        10\n",
      "           1       0.42      1.00      0.59         5\n",
      "           2       0.88      1.00      0.93        28\n",
      "           3       1.00      1.00      1.00     94137\n",
      "           4       0.06      0.27      0.10       210\n",
      "           5       0.89      0.99      0.94       197\n",
      "           6       0.04      0.08      0.05        89\n",
      "           7       0.00      0.00      0.00         1\n",
      "           8       0.17      0.02      0.04       214\n",
      "           9       0.24      0.24      0.24       151\n",
      "          10       0.99      1.00      0.99       218\n",
      "          11       0.99      0.99      0.99    100071\n",
      "          12       0.96      0.98      0.97        94\n",
      "          13       0.06      0.57      0.11        44\n",
      "          14       0.88      0.95      0.91      5982\n",
      "          15       0.61      0.53      0.57        51\n",
      "          16       0.10      0.48      0.16        63\n",
      "          17       1.00      0.99      1.00      2414\n",
      "          18       0.95      0.86      0.90        22\n",
      "          19       0.85      1.00      0.92        29\n",
      "          20       0.98      0.88      0.93    122443\n",
      "          21       0.00      0.00      0.00       241\n",
      "          22       0.07      0.58      0.13       190\n",
      "          23       0.70      0.42      0.53      1699\n",
      "          24       0.98      0.99      0.99      2067\n",
      "          25       0.65      0.31      0.42       540\n",
      "          26       0.89      0.12      0.22      1643\n",
      "          27       0.51      0.94      0.66      1096\n",
      "          28       0.06      0.04      0.05        69\n",
      "          29       0.44      0.36      0.40        11\n",
      "          30       0.33      1.00      0.50        32\n",
      "          31       0.00      0.00      0.00        17\n",
      "          32       0.97      0.91      0.94      8834\n",
      "          33       0.00      0.00      0.00       150\n",
      "          34       0.01      0.03      0.01        35\n",
      "          35       0.59      0.94      0.73       375\n",
      "          36       0.00      0.00      0.00      3958\n",
      "          37       0.78      0.37      0.50      2197\n",
      "          38       1.00      0.99      0.99     36002\n",
      "          39       0.37      0.69      0.48       484\n",
      "          40       0.85      0.78      0.82      1222\n",
      "          41       0.80      0.95      0.87      5691\n",
      "          42       0.24      0.64      0.35       473\n",
      "          43       0.38      0.70      0.49       826\n",
      "          44       0.04      0.13      0.06        39\n",
      "          45       0.97      0.99      0.98     18732\n",
      "          46       0.20      0.17      0.18         6\n",
      "          47       0.86      1.00      0.92         6\n",
      "          48       0.82      0.99      0.90       109\n",
      "          49       0.27      0.55      0.36       165\n",
      "          50       0.00      0.00      0.00        15\n",
      "          51       0.52      0.62      0.56      1930\n",
      "\n",
      "   micro avg       0.96      0.93      0.94    415327\n",
      "   macro avg       0.52      0.60      0.52    415327\n",
      "weighted avg       0.96      0.93      0.94    415327\n",
      " samples avg       0.93      0.93      0.93    415327\n",
      "\n",
      "\n",
      "\n"
     ]
    },
    {
     "name": "stderr",
     "output_type": "stream",
     "text": [
      "/usr/local/lib/python3.7/dist-packages/sklearn/metrics/_classification.py:1318: UndefinedMetricWarning: Precision and F-score are ill-defined and being set to 0.0 in samples with no predicted labels. Use `zero_division` parameter to control this behavior.\n",
      "  _warn_prf(average, modifier, msg_start, len(result))\n"
     ]
    }
   ],
   "source": [
    "from sklearn.metrics import classification_report, confusion_matrix\n",
    "print('\\n')\n",
    "print(\"Precision, Recall, F1\")\n",
    "print('\\n')\n",
    "CR=classification_report(y_test, y_pred1)\n",
    "print(CR)\n",
    "print('\\n')"
   ]
  },
  {
   "cell_type": "code",
   "execution_count": null,
   "metadata": {
    "colab": {
     "base_uri": "https://localhost:8080/",
     "height": 573
    },
    "id": "mo1ttuoR7Q2D",
    "outputId": "d6c47f9a-7a79-4fb7-daf0-ccde0fe742bb"
   },
   "outputs": [
    {
     "data": {
      "image/png": "[encoded data removed]",
      "text/plain": [
       "<Figure size 432x288 with 1 Axes>"
      ]
     },
     "metadata": {
      "needs_background": "light"
     },
     "output_type": "display_data"
    },
    {
     "data": {
      "image/png": "[encoded data removed]",
      "text/plain": [
       "<Figure size 432x288 with 1 Axes>"
      ]
     },
     "metadata": {
      "needs_background": "light"
     },
     "output_type": "display_data"
    }
   ],
   "source": [
    "def Training_and_validation_plot(history):\n",
    "    acc = history.history['acc']\n",
    "    val_acc = history.history['val_acc']\n",
    "    loss = history.history['loss']\n",
    "    val_loss = history.history['val_loss']\n",
    "    epochs = range(1, len(acc) + 1)\n",
    "\n",
    "    plt.plot(epochs, acc, 'bo', label = 'Training Accuracy')\n",
    "    plt.plot(epochs, val_acc, 'r', label = 'Validation Accuracy')\n",
    "    plt.title('Training and Validation Accuracy')\n",
    "    plt.xlabel('Epochs')\n",
    "    plt.ylabel('Loss')\n",
    "    plt.legend()\n",
    "\n",
    "    plt.figure()\n",
    "    plt.plot(epochs, loss, 'bo', label = 'Training Loss')\n",
    "    plt.plot(epochs, val_loss, 'r', label = 'Validation Loss')\n",
    "    plt.title('Training and Validation Loss')\n",
    "    plt.xlabel('Epochs')\n",
    "    plt.ylabel('Loss')\n",
    "    plt.legend()\n",
    "    plt.show()\n",
    "Training_and_validation_plot(history)"
   ]
  },
  {
   "cell_type": "code",
   "execution_count": null,
   "metadata": {
    "colab": {
     "base_uri": "https://localhost:8080/"
    },
    "id": "Q6nXjA2f7Q2D",
    "outputId": "ebea34f7-c0c8-4c58-84b1-8a2c0689adbf"
   },
   "outputs": [
    {
     "name": "stderr",
     "output_type": "stream",
     "text": [
      "WARNING:absl:Found untraced functions such as lstm_cell_layer_call_fn, lstm_cell_layer_call_and_return_conditional_losses while saving (showing 2 of 2). These functions will not be directly callable after loading.\n"
     ]
    },
    {
     "name": "stdout",
     "output_type": "stream",
     "text": [
      "INFO:tensorflow:Assets written to: ram://33cec862-e1e1-47f7-a23d-d9ca47d866f2/assets\n"
     ]
    },
    {
     "name": "stderr",
     "output_type": "stream",
     "text": [
      "INFO:tensorflow:Assets written to: ram://33cec862-e1e1-47f7-a23d-d9ca47d866f2/assets\n",
      "WARNING:absl:<keras.layers.recurrent.LSTMCell object at 0x7f76e4d4b210> has the same name 'LSTMCell' as a built-in Keras object. Consider renaming <class 'keras.layers.recurrent.LSTMCell'> to avoid naming conflicts when loading with `tf.keras.models.load_model`. If renaming is not possible, pass the object in the `custom_objects` parameter of the load function.\n"
     ]
    }
   ],
   "source": [
    "import pickle\n",
    "# save the model to disk\n",
    "filename = '/content/drive/My Drive/Colab Notebooks/MCLS_lstmmodel32,1000x100.sav'\n",
    "pickle.dump(model, open(filename, 'wb'))"
   ]
  },
  {
   "cell_type": "markdown",
   "metadata": {
    "id": "02_NfLhvI_66"
   },
   "source": [
    "### 64"
   ]
  },
  {
   "cell_type": "code",
   "execution_count": null,
   "metadata": {
    "id": "hCie4MHeJB8d"
   },
   "outputs": [],
   "source": [
    "from tensorflow.keras.optimizers import RMSprop\n",
    "from keras.layers import LSTM, Activation, Dense, Dropout, Input, Conv1D, Embedding, Flatten\n",
    "def RNN_model():\n",
    "    inputs = Input(name='inputs',shape=[max_len])\n",
    "    layer = Embedding(input_dim = max_len + 1,output_dim = 50,input_length=max_len)(inputs)\n",
    "    layer = LSTM(64)(layer)\n",
    "    layer = Flatten()(layer)\n",
    "\n",
    "    layer = Dense(256,name='FC1')(layer)\n",
    "    layer = Activation('relu')(layer)\n",
    "    layer = Dropout(0.5)(layer)\n",
    "\n",
    "    layer = Dense(Domain_data['label'].nunique(),name='out_layer')(layer)\n",
    "    layer = Activation('softmax')(layer)\n",
    "    model = Model(inputs=inputs,outputs=layer)\n",
    "    return model"
   ]
  },
  {
   "cell_type": "code",
   "execution_count": null,
   "metadata": {
    "colab": {
     "base_uri": "https://localhost:8080/"
    },
    "id": "nYT3upxEJB8e",
    "outputId": "39a974e9-8632-4ca6-d6b9-2779022bcedd"
   },
   "outputs": [
    {
     "name": "stdout",
     "output_type": "stream",
     "text": [
      "Model: \"model_2\"\n",
      "_________________________________________________________________\n",
      " Layer (type)                Output Shape              Param #   \n",
      "=================================================================\n",
      " inputs (InputLayer)         [(None, 50)]              0         \n",
      "                                                                 \n",
      " embedding_2 (Embedding)     (None, 50, 50)            2550      \n",
      "                                                                 \n",
      " lstm_2 (LSTM)               (None, 64)                29440     \n",
      "                                                                 \n",
      " flatten_2 (Flatten)         (None, 64)                0         \n",
      "                                                                 \n",
      " FC1 (Dense)                 (None, 256)               16640     \n",
      "                                                                 \n",
      " activation_4 (Activation)   (None, 256)               0         \n",
      "                                                                 \n",
      " dropout_2 (Dropout)         (None, 256)               0         \n",
      "                                                                 \n",
      " out_layer (Dense)           (None, 52)                13364     \n",
      "                                                                 \n",
      " activation_5 (Activation)   (None, 52)                0         \n",
      "                                                                 \n",
      "=================================================================\n",
      "Total params: 61,994\n",
      "Trainable params: 61,994\n",
      "Non-trainable params: 0\n",
      "_________________________________________________________________\n"
     ]
    }
   ],
   "source": [
    "from tensorflow.keras.models import Sequential, Model\n",
    "model = RNN_model()\n",
    "model.summary()\n",
    "model.compile(loss='categorical_crossentropy',optimizer=RMSprop(),metrics=['acc'])"
   ]
  },
  {
   "cell_type": "code",
   "execution_count": null,
   "metadata": {
    "colab": {
     "base_uri": "https://localhost:8080/"
    },
    "id": "g7Z5lyNtJB8e",
    "outputId": "65725d09-4116-4d27-bfc2-fe5c689db8ac"
   },
   "outputs": [
    {
     "name": "stdout",
     "output_type": "stream",
     "text": [
      "Epoch 1/100\n",
      "1460/1460 [==============================] - 19s 11ms/step - loss: 1.9326 - acc: 0.4505 - val_loss: 15.6292 - val_acc: 0.2426\n",
      "Epoch 2/100\n",
      "1460/1460 [==============================] - 17s 12ms/step - loss: 1.3270 - acc: 0.5982 - val_loss: 17.3625 - val_acc: 0.2828\n",
      "Epoch 3/100\n",
      "1460/1460 [==============================] - 16s 11ms/step - loss: 1.1270 - acc: 0.6585 - val_loss: 17.1859 - val_acc: 0.3334\n",
      "Epoch 4/100\n",
      "1460/1460 [==============================] - 16s 11ms/step - loss: 0.9513 - acc: 0.7173 - val_loss: 16.6491 - val_acc: 0.2571\n",
      "Epoch 5/100\n",
      "1460/1460 [==============================] - 17s 11ms/step - loss: 0.8289 - acc: 0.7546 - val_loss: 15.7099 - val_acc: 0.3480\n",
      "Epoch 6/100\n",
      "1460/1460 [==============================] - 16s 11ms/step - loss: 0.7482 - acc: 0.7759 - val_loss: 14.8592 - val_acc: 0.3322\n",
      "Epoch 7/100\n",
      "1460/1460 [==============================] - 16s 11ms/step - loss: 0.6934 - acc: 0.7897 - val_loss: 14.2163 - val_acc: 0.3595\n",
      "Epoch 8/100\n",
      "1460/1460 [==============================] - 16s 11ms/step - loss: 0.6523 - acc: 0.7999 - val_loss: 14.1562 - val_acc: 0.3694\n",
      "Epoch 9/100\n",
      "1460/1460 [==============================] - 16s 11ms/step - loss: 0.6239 - acc: 0.8076 - val_loss: 14.2445 - val_acc: 0.3520\n",
      "Epoch 10/100\n",
      "1460/1460 [==============================] - 16s 11ms/step - loss: 0.5997 - acc: 0.8138 - val_loss: 13.4192 - val_acc: 0.3652\n",
      "Epoch 11/100\n",
      "1460/1460 [==============================] - 16s 11ms/step - loss: 0.5794 - acc: 0.8193 - val_loss: 13.7995 - val_acc: 0.3624\n",
      "Epoch 12/100\n",
      "1460/1460 [==============================] - 17s 11ms/step - loss: 0.5579 - acc: 0.8248 - val_loss: 13.2739 - val_acc: 0.3543\n",
      "Epoch 13/100\n",
      "1460/1460 [==============================] - 17s 11ms/step - loss: 0.5379 - acc: 0.8300 - val_loss: 13.3649 - val_acc: 0.3701\n",
      "Epoch 14/100\n",
      "1460/1460 [==============================] - 16s 11ms/step - loss: 0.5191 - acc: 0.8351 - val_loss: 13.0987 - val_acc: 0.2841\n",
      "Epoch 15/100\n",
      "1460/1460 [==============================] - 17s 12ms/step - loss: 0.5005 - acc: 0.8408 - val_loss: 13.4587 - val_acc: 0.3123\n",
      "Epoch 16/100\n",
      "1460/1460 [==============================] - 16s 11ms/step - loss: 0.4816 - acc: 0.8465 - val_loss: 13.2534 - val_acc: 0.3398\n",
      "Epoch 17/100\n",
      "1460/1460 [==============================] - 16s 11ms/step - loss: 0.4641 - acc: 0.8521 - val_loss: 13.0874 - val_acc: 0.3655\n",
      "Epoch 18/100\n",
      "1460/1460 [==============================] - 16s 11ms/step - loss: 0.4477 - acc: 0.8568 - val_loss: 13.3639 - val_acc: 0.2429\n",
      "Epoch 19/100\n",
      "1460/1460 [==============================] - 17s 12ms/step - loss: 0.4326 - acc: 0.8617 - val_loss: 12.7648 - val_acc: 0.3618\n",
      "Epoch 20/100\n",
      "1460/1460 [==============================] - 17s 12ms/step - loss: 0.4188 - acc: 0.8661 - val_loss: 12.8591 - val_acc: 0.3571\n",
      "Epoch 21/100\n",
      "1460/1460 [==============================] - 16s 11ms/step - loss: 0.4057 - acc: 0.8706 - val_loss: 12.8048 - val_acc: 0.3422\n",
      "Epoch 22/100\n",
      "1460/1460 [==============================] - 16s 11ms/step - loss: 0.3941 - acc: 0.8742 - val_loss: 12.5927 - val_acc: 0.3633\n",
      "Epoch 23/100\n",
      "1460/1460 [==============================] - 16s 11ms/step - loss: 0.3840 - acc: 0.8775 - val_loss: 12.7884 - val_acc: 0.3664\n",
      "Epoch 24/100\n",
      "1460/1460 [==============================] - 16s 11ms/step - loss: 0.3737 - acc: 0.8813 - val_loss: 12.7174 - val_acc: 0.3695\n",
      "Epoch 25/100\n",
      "1460/1460 [==============================] - 16s 11ms/step - loss: 0.3647 - acc: 0.8842 - val_loss: 13.3083 - val_acc: 0.3502\n",
      "Epoch 26/100\n",
      "1460/1460 [==============================] - 16s 11ms/step - loss: 0.3560 - acc: 0.8870 - val_loss: 13.2358 - val_acc: 0.3660\n",
      "Epoch 27/100\n",
      "1460/1460 [==============================] - 16s 11ms/step - loss: 0.3485 - acc: 0.8898 - val_loss: 12.8869 - val_acc: 0.3633\n",
      "Epoch 28/100\n",
      "1460/1460 [==============================] - 17s 11ms/step - loss: 0.3417 - acc: 0.8924 - val_loss: 13.0960 - val_acc: 0.3595\n",
      "Epoch 29/100\n",
      "1460/1460 [==============================] - 16s 11ms/step - loss: 0.3353 - acc: 0.8943 - val_loss: 12.9638 - val_acc: 0.3458\n",
      "Epoch 30/100\n",
      "1460/1460 [==============================] - 16s 11ms/step - loss: 0.3288 - acc: 0.8969 - val_loss: 12.6269 - val_acc: 0.3310\n",
      "Epoch 31/100\n",
      "1460/1460 [==============================] - 16s 11ms/step - loss: 0.3239 - acc: 0.8984 - val_loss: 12.7747 - val_acc: 0.3669\n",
      "Epoch 32/100\n",
      "1460/1460 [==============================] - 16s 11ms/step - loss: 0.3187 - acc: 0.9002 - val_loss: 12.9907 - val_acc: 0.3554\n",
      "Epoch 33/100\n",
      "1460/1460 [==============================] - 16s 11ms/step - loss: 0.3147 - acc: 0.9016 - val_loss: 12.8952 - val_acc: 0.3713\n",
      "Epoch 34/100\n",
      "1460/1460 [==============================] - 16s 11ms/step - loss: 0.3099 - acc: 0.9030 - val_loss: 12.6215 - val_acc: 0.3506\n",
      "Epoch 35/100\n",
      "1460/1460 [==============================] - 16s 11ms/step - loss: 0.3056 - acc: 0.9046 - val_loss: 12.6027 - val_acc: 0.3661\n",
      "Epoch 36/100\n",
      "1460/1460 [==============================] - 17s 11ms/step - loss: 0.3019 - acc: 0.9057 - val_loss: 13.0360 - val_acc: 0.3671\n",
      "Epoch 37/100\n",
      "1460/1460 [==============================] - 16s 11ms/step - loss: 0.2983 - acc: 0.9070 - val_loss: 13.2133 - val_acc: 0.3179\n",
      "Epoch 38/100\n",
      "1460/1460 [==============================] - 16s 11ms/step - loss: 0.2948 - acc: 0.9081 - val_loss: 13.0420 - val_acc: 0.3699\n",
      "Epoch 39/100\n",
      "1460/1460 [==============================] - 16s 11ms/step - loss: 0.2916 - acc: 0.9091 - val_loss: 12.8751 - val_acc: 0.3693\n",
      "Epoch 40/100\n",
      "1460/1460 [==============================] - 16s 11ms/step - loss: 0.2885 - acc: 0.9103 - val_loss: 12.9374 - val_acc: 0.3441\n",
      "Epoch 41/100\n",
      "1460/1460 [==============================] - 16s 11ms/step - loss: 0.2854 - acc: 0.9112 - val_loss: 12.9537 - val_acc: 0.3657\n",
      "Epoch 42/100\n",
      "1460/1460 [==============================] - 16s 11ms/step - loss: 0.2831 - acc: 0.9120 - val_loss: 12.9000 - val_acc: 0.3666\n",
      "Epoch 43/100\n",
      "1460/1460 [==============================] - 16s 11ms/step - loss: 0.2803 - acc: 0.9131 - val_loss: 13.2321 - val_acc: 0.3666\n",
      "Epoch 44/100\n",
      "1460/1460 [==============================] - 16s 11ms/step - loss: 0.2774 - acc: 0.9139 - val_loss: 13.2115 - val_acc: 0.3527\n",
      "Epoch 45/100\n",
      "1460/1460 [==============================] - 16s 11ms/step - loss: 0.2756 - acc: 0.9146 - val_loss: 12.6354 - val_acc: 0.3535\n",
      "Epoch 46/100\n",
      "1460/1460 [==============================] - 16s 11ms/step - loss: 0.2734 - acc: 0.9151 - val_loss: 13.1520 - val_acc: 0.3671\n",
      "Epoch 47/100\n",
      "1460/1460 [==============================] - 17s 12ms/step - loss: 0.2708 - acc: 0.9161 - val_loss: 13.4417 - val_acc: 0.3666\n",
      "Epoch 48/100\n",
      "1460/1460 [==============================] - 17s 12ms/step - loss: 0.2691 - acc: 0.9167 - val_loss: 12.8006 - val_acc: 0.3693\n",
      "Epoch 49/100\n",
      "1460/1460 [==============================] - 16s 11ms/step - loss: 0.2671 - acc: 0.9174 - val_loss: 13.2465 - val_acc: 0.3572\n",
      "Epoch 50/100\n",
      "1460/1460 [==============================] - 16s 11ms/step - loss: 0.2655 - acc: 0.9178 - val_loss: 12.6952 - val_acc: 0.3574\n",
      "Epoch 51/100\n",
      "1460/1460 [==============================] - 16s 11ms/step - loss: 0.2633 - acc: 0.9183 - val_loss: 13.4045 - val_acc: 0.3603\n",
      "Epoch 52/100\n",
      "1460/1460 [==============================] - 16s 11ms/step - loss: 0.2616 - acc: 0.9188 - val_loss: 13.4237 - val_acc: 0.3501\n",
      "Epoch 53/100\n",
      "1460/1460 [==============================] - 16s 11ms/step - loss: 0.2603 - acc: 0.9192 - val_loss: 13.5519 - val_acc: 0.3585\n",
      "Epoch 54/100\n",
      "1460/1460 [==============================] - 17s 12ms/step - loss: 0.2589 - acc: 0.9198 - val_loss: 13.2605 - val_acc: 0.3568\n",
      "Epoch 55/100\n",
      "1460/1460 [==============================] - 16s 11ms/step - loss: 0.2571 - acc: 0.9204 - val_loss: 13.2443 - val_acc: 0.3682\n",
      "Epoch 56/100\n",
      "1460/1460 [==============================] - 16s 11ms/step - loss: 0.2554 - acc: 0.9207 - val_loss: 13.4022 - val_acc: 0.3582\n",
      "Epoch 57/100\n",
      "1460/1460 [==============================] - 16s 11ms/step - loss: 0.2541 - acc: 0.9213 - val_loss: 13.5840 - val_acc: 0.3334\n",
      "Epoch 58/100\n",
      "1460/1460 [==============================] - 16s 11ms/step - loss: 0.2532 - acc: 0.9216 - val_loss: 13.5302 - val_acc: 0.3624\n",
      "Epoch 59/100\n",
      "1460/1460 [==============================] - 16s 11ms/step - loss: 0.2514 - acc: 0.9221 - val_loss: 13.3619 - val_acc: 0.3640\n",
      "Epoch 60/100\n",
      "1460/1460 [==============================] - 16s 11ms/step - loss: 0.2500 - acc: 0.9226 - val_loss: 13.5592 - val_acc: 0.3617\n",
      "Epoch 61/100\n",
      "1460/1460 [==============================] - 16s 11ms/step - loss: 0.2490 - acc: 0.9228 - val_loss: 13.7752 - val_acc: 0.3435\n",
      "Epoch 62/100\n",
      "1460/1460 [==============================] - 16s 11ms/step - loss: 0.2479 - acc: 0.9232 - val_loss: 13.5912 - val_acc: 0.3324\n",
      "Epoch 63/100\n",
      "1460/1460 [==============================] - 16s 11ms/step - loss: 0.2466 - acc: 0.9234 - val_loss: 13.3110 - val_acc: 0.3393\n",
      "Epoch 64/100\n",
      "1460/1460 [==============================] - 16s 11ms/step - loss: 0.2448 - acc: 0.9243 - val_loss: 13.5886 - val_acc: 0.3340\n",
      "Epoch 65/100\n",
      "1460/1460 [==============================] - 16s 11ms/step - loss: 0.2438 - acc: 0.9243 - val_loss: 13.8257 - val_acc: 0.3607\n",
      "Epoch 66/100\n",
      "1460/1460 [==============================] - 17s 12ms/step - loss: 0.2429 - acc: 0.9248 - val_loss: 13.4887 - val_acc: 0.3546\n",
      "Epoch 67/100\n",
      "1460/1460 [==============================] - 16s 11ms/step - loss: 0.2415 - acc: 0.9253 - val_loss: 13.7656 - val_acc: 0.3350\n",
      "Epoch 68/100\n",
      "1460/1460 [==============================] - 16s 11ms/step - loss: 0.2406 - acc: 0.9253 - val_loss: 13.6058 - val_acc: 0.3362\n",
      "Epoch 69/100\n",
      "1460/1460 [==============================] - 17s 12ms/step - loss: 0.2393 - acc: 0.9261 - val_loss: 14.3441 - val_acc: 0.3480\n",
      "Epoch 70/100\n",
      "1460/1460 [==============================] - 16s 11ms/step - loss: 0.2384 - acc: 0.9262 - val_loss: 14.1337 - val_acc: 0.3382\n",
      "Epoch 71/100\n",
      "1460/1460 [==============================] - 16s 11ms/step - loss: 0.2371 - acc: 0.9265 - val_loss: 13.7994 - val_acc: 0.3490\n",
      "Epoch 72/100\n",
      "1460/1460 [==============================] - 16s 11ms/step - loss: 0.2360 - acc: 0.9269 - val_loss: 13.9182 - val_acc: 0.3516\n",
      "Epoch 73/100\n",
      "1460/1460 [==============================] - 16s 11ms/step - loss: 0.2342 - acc: 0.9275 - val_loss: 13.8925 - val_acc: 0.3516\n",
      "Epoch 74/100\n",
      "1460/1460 [==============================] - 16s 11ms/step - loss: 0.2336 - acc: 0.9276 - val_loss: 13.5642 - val_acc: 0.3520\n",
      "Epoch 75/100\n",
      "1460/1460 [==============================] - 16s 11ms/step - loss: 0.2328 - acc: 0.9278 - val_loss: 13.9055 - val_acc: 0.3492\n",
      "Epoch 76/100\n",
      "1460/1460 [==============================] - 16s 11ms/step - loss: 0.2316 - acc: 0.9282 - val_loss: 13.9090 - val_acc: 0.3537\n",
      "Epoch 77/100\n",
      "1460/1460 [==============================] - 16s 11ms/step - loss: 0.2304 - acc: 0.9287 - val_loss: 13.7548 - val_acc: 0.3562\n",
      "Epoch 78/100\n",
      "1460/1460 [==============================] - 16s 11ms/step - loss: 0.2295 - acc: 0.9288 - val_loss: 14.3514 - val_acc: 0.3571\n",
      "Epoch 79/100\n",
      "1460/1460 [==============================] - 16s 11ms/step - loss: 0.2284 - acc: 0.9292 - val_loss: 14.5205 - val_acc: 0.3278\n",
      "Epoch 80/100\n",
      "1460/1460 [==============================] - 16s 11ms/step - loss: 0.2278 - acc: 0.9294 - val_loss: 14.6502 - val_acc: 0.3441\n",
      "Epoch 81/100\n",
      "1460/1460 [==============================] - 17s 12ms/step - loss: 0.2267 - acc: 0.9296 - val_loss: 14.0010 - val_acc: 0.3215\n",
      "Epoch 82/100\n",
      "1460/1460 [==============================] - 16s 11ms/step - loss: 0.2262 - acc: 0.9298 - val_loss: 13.7701 - val_acc: 0.3511\n",
      "Epoch 83/100\n",
      "1460/1460 [==============================] - 16s 11ms/step - loss: 0.2252 - acc: 0.9300 - val_loss: 13.7776 - val_acc: 0.3401\n",
      "Epoch 84/100\n",
      "1460/1460 [==============================] - 17s 12ms/step - loss: 0.2237 - acc: 0.9304 - val_loss: 14.8568 - val_acc: 0.3583\n",
      "Epoch 85/100\n",
      "1460/1460 [==============================] - 17s 11ms/step - loss: 0.2231 - acc: 0.9305 - val_loss: 14.9404 - val_acc: 0.3528\n",
      "Epoch 86/100\n",
      "1460/1460 [==============================] - 16s 11ms/step - loss: 0.2226 - acc: 0.9306 - val_loss: 15.2884 - val_acc: 0.3520\n",
      "Epoch 87/100\n",
      "1460/1460 [==============================] - 16s 11ms/step - loss: 0.2216 - acc: 0.9312 - val_loss: 15.0646 - val_acc: 0.3541\n",
      "Epoch 88/100\n",
      "1460/1460 [==============================] - 16s 11ms/step - loss: 0.2205 - acc: 0.9312 - val_loss: 14.7496 - val_acc: 0.3271\n",
      "Epoch 89/100\n",
      "1460/1460 [==============================] - 16s 11ms/step - loss: 0.2200 - acc: 0.9314 - val_loss: 15.3187 - val_acc: 0.3322\n",
      "Epoch 90/100\n",
      "1460/1460 [==============================] - 17s 12ms/step - loss: 0.2192 - acc: 0.9317 - val_loss: 15.0335 - val_acc: 0.3528\n",
      "Epoch 91/100\n",
      "1460/1460 [==============================] - 17s 12ms/step - loss: 0.2182 - acc: 0.9320 - val_loss: 15.3516 - val_acc: 0.3226\n",
      "Epoch 92/100\n",
      "1460/1460 [==============================] - 16s 11ms/step - loss: 0.2181 - acc: 0.9322 - val_loss: 15.8846 - val_acc: 0.3376\n",
      "Epoch 93/100\n",
      "1460/1460 [==============================] - 16s 11ms/step - loss: 0.2175 - acc: 0.9323 - val_loss: 15.3654 - val_acc: 0.3443\n",
      "Epoch 94/100\n",
      "1460/1460 [==============================] - 16s 11ms/step - loss: 0.2171 - acc: 0.9324 - val_loss: 15.6176 - val_acc: 0.3489\n",
      "Epoch 95/100\n",
      "1460/1460 [==============================] - 16s 11ms/step - loss: 0.2164 - acc: 0.9327 - val_loss: 16.4619 - val_acc: 0.2907\n",
      "Epoch 96/100\n",
      "1460/1460 [==============================] - 16s 11ms/step - loss: 0.2159 - acc: 0.9326 - val_loss: 15.4257 - val_acc: 0.2849\n",
      "Epoch 97/100\n",
      "1460/1460 [==============================] - 16s 11ms/step - loss: 0.2154 - acc: 0.9330 - val_loss: 15.6540 - val_acc: 0.3424\n",
      "Epoch 98/100\n",
      "1460/1460 [==============================] - 16s 11ms/step - loss: 0.2147 - acc: 0.9330 - val_loss: 15.2099 - val_acc: 0.3493\n",
      "Epoch 99/100\n",
      "1460/1460 [==============================] - 16s 11ms/step - loss: 0.2148 - acc: 0.9332 - val_loss: 15.9894 - val_acc: 0.3369\n",
      "Epoch 100/100\n",
      "1460/1460 [==============================] - 16s 11ms/step - loss: 0.2133 - acc: 0.9335 - val_loss: 16.7094 - val_acc: 0.3252\n",
      "LSTM multiclass Training finished in 1644.8757965564728 milisecond!!\n",
      "\n"
     ]
    }
   ],
   "source": [
    "import time\n",
    "start=time.time()\n",
    "history=model.fit(X_train,y_train,batch_size=1000,epochs=100,\n",
    "          validation_split=0.1)\n",
    "end=time.time()\n",
    "print('LSTM multiclass Training finished in {} milisecond!!\\n'.format(end-start))"
   ]
  },
  {
   "cell_type": "code",
   "execution_count": null,
   "metadata": {
    "colab": {
     "base_uri": "https://localhost:8080/"
    },
    "id": "fAURlMhtJB8f",
    "outputId": "95bdae51-3549-4e2b-8bc2-cddce1cf4813"
   },
   "outputs": [
    {
     "name": "stdout",
     "output_type": "stream",
     "text": [
      "12979/12979 [==============================] - 53s 4ms/step - loss: 0.3275 - acc: 0.9470\n",
      "LSTM multiclass Testing finished in 82.04722476005554 milisecond!!\n",
      "\n",
      "Accuracy on test set: [0.32749143242836, 0.9469887614250183]\n",
      "Test loss: 0.32749143242836\n",
      "Test accuracy: 0.9469887614250183\n"
     ]
    }
   ],
   "source": [
    "start=time.time()\n",
    "results = model.evaluate(X_test, y_test)\n",
    "end=time.time()\n",
    "print('LSTM multiclass Testing finished in {} milisecond!!\\n'.format(end-start))\n",
    "print (\"Accuracy on test set:\" , results)\n",
    "print('Test loss:', results[0])\n",
    "print('Test accuracy:', results[1])"
   ]
  },
  {
   "cell_type": "code",
   "execution_count": null,
   "metadata": {
    "colab": {
     "base_uri": "https://localhost:8080/"
    },
    "id": "iM-7ahOyJB8g",
    "outputId": "52f56ff7-bfb3-41f8-f0a6-b435e3fd5687"
   },
   "outputs": [
    {
     "name": "stdout",
     "output_type": "stream",
     "text": [
      "12979/12979 [==============================] - 50s 4ms/step - loss: 0.3275 - acc: 0.9470\n",
      "Test set\n",
      "   Accuracy: 0.947\n"
     ]
    }
   ],
   "source": [
    "y_pred1 = model.predict(X_test)\n",
    "y_pred1=(y_pred1 > 0.5)\n",
    "accr = model.evaluate(X_test,y_test)\n",
    "rnn_acc=accr[1]\n",
    "print('Test set\\n   Accuracy: {:0.3f}'.format(accr[1]))\n",
    "\n"
   ]
  },
  {
   "cell_type": "code",
   "execution_count": null,
   "metadata": {
    "colab": {
     "base_uri": "https://localhost:8080/"
    },
    "id": "vGUbrXIkJB8g",
    "outputId": "332aa0f1-19a9-4326-85a2-c99984f57575"
   },
   "outputs": [
    {
     "name": "stdout",
     "output_type": "stream",
     "text": [
      "\n",
      "\n",
      "Precision, Recall, F1\n",
      "\n",
      "\n"
     ]
    },
    {
     "name": "stderr",
     "output_type": "stream",
     "text": [
      "/usr/local/lib/python3.7/dist-packages/sklearn/metrics/_classification.py:1318: UndefinedMetricWarning: Precision and F-score are ill-defined and being set to 0.0 in labels with no predicted samples. Use `zero_division` parameter to control this behavior.\n",
      "  _warn_prf(average, modifier, msg_start, len(result))\n"
     ]
    },
    {
     "name": "stdout",
     "output_type": "stream",
     "text": [
      "              precision    recall  f1-score   support\n",
      "\n",
      "           0       0.53      1.00      0.69        10\n",
      "           1       0.19      1.00      0.31         5\n",
      "           2       0.80      1.00      0.89        28\n",
      "           3       1.00      1.00      1.00     94137\n",
      "           4       0.11      0.41      0.17       210\n",
      "           5       0.88      0.93      0.90       197\n",
      "           6       0.02      0.09      0.03        89\n",
      "           7       0.00      0.00      0.00         1\n",
      "           8       0.05      0.25      0.08       214\n",
      "           9       0.07      0.20      0.10       151\n",
      "          10       1.00      0.99      0.99       218\n",
      "          11       0.98      0.99      0.99    100071\n",
      "          12       0.58      0.96      0.72        94\n",
      "          13       0.20      0.50      0.28        44\n",
      "          14       0.85      0.94      0.89      5982\n",
      "          15       0.15      0.27      0.20        51\n",
      "          16       0.08      0.29      0.12        63\n",
      "          17       0.99      0.99      0.99      2414\n",
      "          18       0.91      0.91      0.91        22\n",
      "          19       0.91      1.00      0.95        29\n",
      "          20       0.98      0.94      0.96    122443\n",
      "          21       0.02      0.03      0.02       241\n",
      "          22       0.13      0.52      0.21       190\n",
      "          23       0.61      0.56      0.58      1699\n",
      "          24       0.98      0.99      0.99      2067\n",
      "          25       0.54      0.35      0.42       540\n",
      "          26       0.68      0.13      0.22      1643\n",
      "          27       0.88      0.92      0.90      1096\n",
      "          28       0.01      0.10      0.03        69\n",
      "          29       0.43      0.55      0.48        11\n",
      "          30       0.61      0.94      0.74        32\n",
      "          31       0.00      0.00      0.00        17\n",
      "          32       0.91      0.97      0.94      8834\n",
      "          33       0.02      0.17      0.04       150\n",
      "          34       0.01      0.06      0.01        35\n",
      "          35       0.79      0.83      0.81       375\n",
      "          36       0.63      0.11      0.18      3958\n",
      "          37       0.75      0.61      0.67      2197\n",
      "          38       1.00      0.99      1.00     36002\n",
      "          39       0.30      0.71      0.42       484\n",
      "          40       0.87      0.86      0.86      1222\n",
      "          41       0.93      0.94      0.94      5691\n",
      "          42       0.70      0.78      0.74       473\n",
      "          43       0.37      0.76      0.50       826\n",
      "          44       0.00      0.00      0.00        39\n",
      "          45       0.97      0.74      0.84     18732\n",
      "          46       0.00      0.00      0.00         6\n",
      "          47       0.00      0.00      0.00         6\n",
      "          48       0.00      0.00      0.00       109\n",
      "          49       0.00      0.00      0.00       165\n",
      "          50       0.00      0.00      0.00        15\n",
      "          51       0.00      0.00      0.00      1930\n",
      "\n",
      "   micro avg       0.96      0.94      0.95    415327\n",
      "   macro avg       0.47      0.54      0.48    415327\n",
      "weighted avg       0.96      0.94      0.95    415327\n",
      " samples avg       0.94      0.94      0.94    415327\n",
      "\n",
      "\n",
      "\n"
     ]
    },
    {
     "name": "stderr",
     "output_type": "stream",
     "text": [
      "/usr/local/lib/python3.7/dist-packages/sklearn/metrics/_classification.py:1318: UndefinedMetricWarning: Precision and F-score are ill-defined and being set to 0.0 in samples with no predicted labels. Use `zero_division` parameter to control this behavior.\n",
      "  _warn_prf(average, modifier, msg_start, len(result))\n"
     ]
    }
   ],
   "source": [
    "from sklearn.metrics import classification_report, confusion_matrix\n",
    "print('\\n')\n",
    "print(\"Precision, Recall, F1\")\n",
    "print('\\n')\n",
    "CR=classification_report(y_test, y_pred1)\n",
    "print(CR)\n",
    "print('\\n')"
   ]
  },
  {
   "cell_type": "code",
   "execution_count": null,
   "metadata": {
    "colab": {
     "base_uri": "https://localhost:8080/",
     "height": 573
    },
    "id": "q33Cei6BJB8h",
    "outputId": "6bf64b15-4a40-45c6-fbbf-b0f033819a6d"
   },
   "outputs": [
    {
     "data": {
      "image/png": "[encoded data removed]",
      "text/plain": [
       "<Figure size 432x288 with 1 Axes>"
      ]
     },
     "metadata": {
      "needs_background": "light"
     },
     "output_type": "display_data"
    },
    {
     "data": {
      "image/png": "[encoded data removed]",
      "text/plain": [
       "<Figure size 432x288 with 1 Axes>"
      ]
     },
     "metadata": {
      "needs_background": "light"
     },
     "output_type": "display_data"
    }
   ],
   "source": [
    "def Training_and_validation_plot(history):\n",
    "    acc = history.history['acc']\n",
    "    val_acc = history.history['val_acc']\n",
    "    loss = history.history['loss']\n",
    "    val_loss = history.history['val_loss']\n",
    "    epochs = range(1, len(acc) + 1)\n",
    "\n",
    "    plt.plot(epochs, acc, 'bo', label = 'Training Accuracy')\n",
    "    plt.plot(epochs, val_acc, 'r', label = 'Validation Accuracy')\n",
    "    plt.title('Training and Validation Accuracy')\n",
    "    plt.xlabel('Epochs')\n",
    "    plt.ylabel('Loss')\n",
    "    plt.legend()\n",
    "\n",
    "    plt.figure()\n",
    "    plt.plot(epochs, loss, 'bo', label = 'Training Loss')\n",
    "    plt.plot(epochs, val_loss, 'r', label = 'Validation Loss')\n",
    "    plt.title('Training and Validation Loss')\n",
    "    plt.xlabel('Epochs')\n",
    "    plt.ylabel('Loss')\n",
    "    plt.legend()\n",
    "    plt.show()\n",
    "Training_and_validation_plot(history)"
   ]
  },
  {
   "cell_type": "code",
   "execution_count": null,
   "metadata": {
    "colab": {
     "base_uri": "https://localhost:8080/"
    },
    "id": "8HTHZVNVJB8h",
    "outputId": "478b7c54-d613-4801-d760-40ee31dd3497"
   },
   "outputs": [
    {
     "name": "stderr",
     "output_type": "stream",
     "text": [
      "WARNING:absl:Found untraced functions such as lstm_cell_2_layer_call_fn, lstm_cell_2_layer_call_and_return_conditional_losses while saving (showing 2 of 2). These functions will not be directly callable after loading.\n"
     ]
    },
    {
     "name": "stdout",
     "output_type": "stream",
     "text": [
      "INFO:tensorflow:Assets written to: ram://30bed36c-6003-4795-a55d-75c52d230220/assets\n"
     ]
    },
    {
     "name": "stderr",
     "output_type": "stream",
     "text": [
      "INFO:tensorflow:Assets written to: ram://30bed36c-6003-4795-a55d-75c52d230220/assets\n",
      "WARNING:absl:<keras.layers.recurrent.LSTMCell object at 0x7f76daeeda50> has the same name 'LSTMCell' as a built-in Keras object. Consider renaming <class 'keras.layers.recurrent.LSTMCell'> to avoid naming conflicts when loading with `tf.keras.models.load_model`. If renaming is not possible, pass the object in the `custom_objects` parameter of the load function.\n"
     ]
    }
   ],
   "source": [
    "import pickle\n",
    "# save the model to disk\n",
    "filename = '/content/drive/My Drive/Colab Notebooks/MCLS_lstmmodel64,1000x100_2nd.sav'\n",
    "pickle.dump(model, open(filename, 'wb'))"
   ]
  },
  {
   "cell_type": "markdown",
   "metadata": {
    "id": "8MkRirdWVKrU"
   },
   "source": [
    "### 128"
   ]
  },
  {
   "cell_type": "code",
   "execution_count": null,
   "metadata": {
    "id": "PAik8Rq8VMiW"
   },
   "outputs": [],
   "source": [
    "from tensorflow.keras.optimizers import RMSprop\n",
    "from keras.layers import LSTM, Activation, Dense, Dropout, Input, Conv1D, Embedding, Flatten\n",
    "def RNN_model():\n",
    "    inputs = Input(name='inputs',shape=[max_len])\n",
    "    layer = Embedding(input_dim = max_len + 1,output_dim = 50,input_length=max_len)(inputs)\n",
    "    layer = LSTM(128)(layer)\n",
    "    layer = Flatten()(layer)\n",
    "\n",
    "    layer = Dense(256,name='FC1')(layer)\n",
    "    layer = Activation('relu')(layer)\n",
    "    layer = Dropout(0.5)(layer)\n",
    "\n",
    "    layer = Dense(Domain_data['label'].nunique(),name='out_layer')(layer)\n",
    "    layer = Activation('softmax')(layer)\n",
    "    model = Model(inputs=inputs,outputs=layer)\n",
    "    return model"
   ]
  },
  {
   "cell_type": "code",
   "execution_count": null,
   "metadata": {
    "colab": {
     "base_uri": "https://localhost:8080/"
    },
    "id": "hvz8EYFrVMiX",
    "outputId": "29ad4e08-1fa4-4e5d-de85-1e3ca8da6000"
   },
   "outputs": [
    {
     "name": "stdout",
     "output_type": "stream",
     "text": [
      "Model: \"model_3\"\n",
      "_________________________________________________________________\n",
      " Layer (type)                Output Shape              Param #   \n",
      "=================================================================\n",
      " inputs (InputLayer)         [(None, 50)]              0         \n",
      "                                                                 \n",
      " embedding_3 (Embedding)     (None, 50, 50)            2550      \n",
      "                                                                 \n",
      " lstm_3 (LSTM)               (None, 128)               91648     \n",
      "                                                                 \n",
      " flatten_3 (Flatten)         (None, 128)               0         \n",
      "                                                                 \n",
      " FC1 (Dense)                 (None, 256)               33024     \n",
      "                                                                 \n",
      " activation_6 (Activation)   (None, 256)               0         \n",
      "                                                                 \n",
      " dropout_3 (Dropout)         (None, 256)               0         \n",
      "                                                                 \n",
      " out_layer (Dense)           (None, 52)                13364     \n",
      "                                                                 \n",
      " activation_7 (Activation)   (None, 52)                0         \n",
      "                                                                 \n",
      "=================================================================\n",
      "Total params: 140,586\n",
      "Trainable params: 140,586\n",
      "Non-trainable params: 0\n",
      "_________________________________________________________________\n"
     ]
    }
   ],
   "source": [
    "from tensorflow.keras.models import Sequential, Model\n",
    "model = RNN_model()\n",
    "model.summary()\n",
    "model.compile(loss='categorical_crossentropy',optimizer=RMSprop(),metrics=['acc'])"
   ]
  },
  {
   "cell_type": "code",
   "execution_count": null,
   "metadata": {
    "colab": {
     "base_uri": "https://localhost:8080/"
    },
    "id": "x-19Sy0VVMiY",
    "outputId": "9c874881-eaeb-4896-9745-b93e8a692c80"
   },
   "outputs": [
    {
     "name": "stdout",
     "output_type": "stream",
     "text": [
      "Epoch 1/100\n",
      "1460/1460 [==============================] - 31s 20ms/step - loss: 2.3679 - acc: 0.3324 - val_loss: 13.7675 - val_acc: 0.2769\n",
      "Epoch 2/100\n",
      "1460/1460 [==============================] - 29s 20ms/step - loss: 1.2501 - acc: 0.6222 - val_loss: 13.7528 - val_acc: 0.3340\n",
      "Epoch 3/100\n",
      "1460/1460 [==============================] - 29s 20ms/step - loss: 0.9356 - acc: 0.7220 - val_loss: 14.2754 - val_acc: 0.3365\n",
      "Epoch 4/100\n",
      "1460/1460 [==============================] - 29s 20ms/step - loss: 0.7364 - acc: 0.7778 - val_loss: 12.9363 - val_acc: 0.3676\n",
      "Epoch 5/100\n",
      "1460/1460 [==============================] - 29s 20ms/step - loss: 0.6481 - acc: 0.8003 - val_loss: 13.3648 - val_acc: 0.3740\n",
      "Epoch 6/100\n",
      "1460/1460 [==============================] - 29s 20ms/step - loss: 0.5872 - acc: 0.8175 - val_loss: 12.5921 - val_acc: 0.3735\n",
      "Epoch 7/100\n",
      "1460/1460 [==============================] - 29s 20ms/step - loss: 0.5246 - acc: 0.8345 - val_loss: 13.1611 - val_acc: 0.3690\n",
      "Epoch 8/100\n",
      "1460/1460 [==============================] - 29s 20ms/step - loss: 0.4661 - acc: 0.8519 - val_loss: 14.1738 - val_acc: 0.3644\n",
      "Epoch 9/100\n",
      "1460/1460 [==============================] - 29s 20ms/step - loss: 0.4194 - acc: 0.8666 - val_loss: 14.7789 - val_acc: 0.3685\n",
      "Epoch 10/100\n",
      "1460/1460 [==============================] - 28s 20ms/step - loss: 0.3825 - acc: 0.8788 - val_loss: 15.0083 - val_acc: 0.3656\n",
      "Epoch 11/100\n",
      "1460/1460 [==============================] - 29s 20ms/step - loss: 0.3520 - acc: 0.8890 - val_loss: 14.4660 - val_acc: 0.3453\n",
      "Epoch 12/100\n",
      "1460/1460 [==============================] - 29s 20ms/step - loss: 0.3263 - acc: 0.8973 - val_loss: 14.3877 - val_acc: 0.3580\n",
      "Epoch 13/100\n",
      "1460/1460 [==============================] - 29s 20ms/step - loss: 0.3059 - acc: 0.9044 - val_loss: 15.5484 - val_acc: 0.3620\n",
      "Epoch 14/100\n",
      "1460/1460 [==============================] - 29s 20ms/step - loss: 0.2854 - acc: 0.9111 - val_loss: 15.9325 - val_acc: 0.3771\n",
      "Epoch 15/100\n",
      "1460/1460 [==============================] - 29s 20ms/step - loss: 0.2700 - acc: 0.9163 - val_loss: 15.0621 - val_acc: 0.3662\n",
      "Epoch 16/100\n",
      "1460/1460 [==============================] - 29s 20ms/step - loss: 0.2573 - acc: 0.9206 - val_loss: 14.7482 - val_acc: 0.3671\n",
      "Epoch 17/100\n",
      "1460/1460 [==============================] - 29s 20ms/step - loss: 0.2448 - acc: 0.9243 - val_loss: 14.6113 - val_acc: 0.3582\n",
      "Epoch 18/100\n",
      "1460/1460 [==============================] - 29s 20ms/step - loss: 0.2343 - acc: 0.9275 - val_loss: 14.4689 - val_acc: 0.3632\n",
      "Epoch 19/100\n",
      "1460/1460 [==============================] - 29s 20ms/step - loss: 0.2247 - acc: 0.9304 - val_loss: 15.7199 - val_acc: 0.2053\n",
      "Epoch 20/100\n",
      "1460/1460 [==============================] - 29s 20ms/step - loss: 0.2165 - acc: 0.9332 - val_loss: 14.4728 - val_acc: 0.3441\n",
      "Epoch 21/100\n",
      "1460/1460 [==============================] - 29s 20ms/step - loss: 0.2085 - acc: 0.9356 - val_loss: 15.2715 - val_acc: 0.3541\n",
      "Epoch 22/100\n",
      "1460/1460 [==============================] - 29s 20ms/step - loss: 0.2016 - acc: 0.9376 - val_loss: 14.3163 - val_acc: 0.3483\n",
      "Epoch 23/100\n",
      "1460/1460 [==============================] - 29s 20ms/step - loss: 0.1935 - acc: 0.9401 - val_loss: 14.7587 - val_acc: 0.3309\n",
      "Epoch 24/100\n",
      "1460/1460 [==============================] - 29s 20ms/step - loss: 0.1869 - acc: 0.9424 - val_loss: 14.9529 - val_acc: 0.3408\n",
      "Epoch 25/100\n",
      "1460/1460 [==============================] - 29s 20ms/step - loss: 0.1806 - acc: 0.9443 - val_loss: 14.1220 - val_acc: 0.3393\n",
      "Epoch 26/100\n",
      "1460/1460 [==============================] - 29s 20ms/step - loss: 0.1749 - acc: 0.9459 - val_loss: 15.6565 - val_acc: 0.3407\n",
      "Epoch 27/100\n",
      "1460/1460 [==============================] - 29s 20ms/step - loss: 0.1691 - acc: 0.9475 - val_loss: 14.4671 - val_acc: 0.3367\n",
      "Epoch 28/100\n",
      "1460/1460 [==============================] - 29s 20ms/step - loss: 0.1641 - acc: 0.9489 - val_loss: 14.4421 - val_acc: 0.3490\n",
      "Epoch 29/100\n",
      "1460/1460 [==============================] - 29s 20ms/step - loss: 0.1595 - acc: 0.9502 - val_loss: 13.9097 - val_acc: 0.3531\n",
      "Epoch 30/100\n",
      "1460/1460 [==============================] - 29s 20ms/step - loss: 0.1555 - acc: 0.9516 - val_loss: 14.1146 - val_acc: 0.3607\n",
      "Epoch 31/100\n",
      "1460/1460 [==============================] - 29s 20ms/step - loss: 0.1507 - acc: 0.9529 - val_loss: 14.0820 - val_acc: 0.3397\n",
      "Epoch 32/100\n",
      "1460/1460 [==============================] - 29s 20ms/step - loss: 0.1473 - acc: 0.9538 - val_loss: 14.4715 - val_acc: 0.2864\n",
      "Epoch 33/100\n",
      "1460/1460 [==============================] - 29s 20ms/step - loss: 0.1443 - acc: 0.9549 - val_loss: 14.0747 - val_acc: 0.3455\n",
      "Epoch 34/100\n",
      "1460/1460 [==============================] - 29s 20ms/step - loss: 0.1412 - acc: 0.9557 - val_loss: 13.9877 - val_acc: 0.3521\n",
      "Epoch 35/100\n",
      "1460/1460 [==============================] - 29s 20ms/step - loss: 0.1379 - acc: 0.9566 - val_loss: 13.9280 - val_acc: 0.3620\n",
      "Epoch 36/100\n",
      "1460/1460 [==============================] - 29s 20ms/step - loss: 0.1354 - acc: 0.9571 - val_loss: 13.5032 - val_acc: 0.3525\n",
      "Epoch 37/100\n",
      "1460/1460 [==============================] - 29s 20ms/step - loss: 0.1330 - acc: 0.9577 - val_loss: 13.8905 - val_acc: 0.3562\n",
      "Epoch 38/100\n",
      "1460/1460 [==============================] - 29s 20ms/step - loss: 0.1305 - acc: 0.9583 - val_loss: 13.6198 - val_acc: 0.3583\n",
      "Epoch 39/100\n",
      "1460/1460 [==============================] - 29s 20ms/step - loss: 0.1281 - acc: 0.9589 - val_loss: 13.4856 - val_acc: 0.3658\n",
      "Epoch 40/100\n",
      "1460/1460 [==============================] - 29s 20ms/step - loss: 0.1269 - acc: 0.9594 - val_loss: 13.2590 - val_acc: 0.3659\n",
      "Epoch 41/100\n",
      "1460/1460 [==============================] - 29s 20ms/step - loss: 0.1250 - acc: 0.9599 - val_loss: 13.8656 - val_acc: 0.3640\n",
      "Epoch 42/100\n",
      "1460/1460 [==============================] - 29s 20ms/step - loss: 0.1229 - acc: 0.9605 - val_loss: 13.5201 - val_acc: 0.3603\n",
      "Epoch 43/100\n",
      "1460/1460 [==============================] - 29s 20ms/step - loss: 0.1209 - acc: 0.9609 - val_loss: 14.3293 - val_acc: 0.3044\n",
      "Epoch 44/100\n",
      "1460/1460 [==============================] - 29s 20ms/step - loss: 0.1201 - acc: 0.9612 - val_loss: 13.6537 - val_acc: 0.3623\n",
      "Epoch 45/100\n",
      "1460/1460 [==============================] - 29s 20ms/step - loss: 0.1180 - acc: 0.9618 - val_loss: 13.2367 - val_acc: 0.3653\n",
      "Epoch 46/100\n",
      "1460/1460 [==============================] - 29s 20ms/step - loss: 0.1172 - acc: 0.9622 - val_loss: 13.9218 - val_acc: 0.3509\n",
      "Epoch 47/100\n",
      "1460/1460 [==============================] - 29s 20ms/step - loss: 0.1155 - acc: 0.9627 - val_loss: 13.4093 - val_acc: 0.3566\n",
      "Epoch 48/100\n",
      "1460/1460 [==============================] - 29s 20ms/step - loss: 0.1140 - acc: 0.9631 - val_loss: 13.5185 - val_acc: 0.3586\n",
      "Epoch 49/100\n",
      "1460/1460 [==============================] - 29s 20ms/step - loss: 0.1125 - acc: 0.9637 - val_loss: 13.6095 - val_acc: 0.3596\n",
      "Epoch 50/100\n",
      "1460/1460 [==============================] - 29s 20ms/step - loss: 0.1123 - acc: 0.9639 - val_loss: 13.6013 - val_acc: 0.3564\n",
      "Epoch 51/100\n",
      "1460/1460 [==============================] - 29s 20ms/step - loss: 0.1107 - acc: 0.9643 - val_loss: 13.7051 - val_acc: 0.3651\n",
      "Epoch 52/100\n",
      "1460/1460 [==============================] - 29s 20ms/step - loss: 0.1102 - acc: 0.9645 - val_loss: 13.8505 - val_acc: 0.3633\n",
      "Epoch 53/100\n",
      "1460/1460 [==============================] - 29s 20ms/step - loss: 0.1090 - acc: 0.9648 - val_loss: 13.7547 - val_acc: 0.3521\n",
      "Epoch 54/100\n",
      "1460/1460 [==============================] - 29s 20ms/step - loss: 0.1080 - acc: 0.9653 - val_loss: 14.0803 - val_acc: 0.3212\n",
      "Epoch 55/100\n",
      "1460/1460 [==============================] - 29s 20ms/step - loss: 0.1076 - acc: 0.9655 - val_loss: 13.9050 - val_acc: 0.3623\n",
      "Epoch 56/100\n",
      "1460/1460 [==============================] - 29s 20ms/step - loss: 0.1060 - acc: 0.9658 - val_loss: 14.2463 - val_acc: 0.3530\n",
      "Epoch 57/100\n",
      "1460/1460 [==============================] - 29s 20ms/step - loss: 0.1055 - acc: 0.9661 - val_loss: 14.5074 - val_acc: 0.3701\n",
      "Epoch 58/100\n",
      "1460/1460 [==============================] - 29s 20ms/step - loss: 0.1045 - acc: 0.9662 - val_loss: 13.6420 - val_acc: 0.3620\n",
      "Epoch 59/100\n",
      "1460/1460 [==============================] - 29s 20ms/step - loss: 0.1038 - acc: 0.9665 - val_loss: 13.7225 - val_acc: 0.3615\n",
      "Epoch 60/100\n",
      "1460/1460 [==============================] - 29s 20ms/step - loss: 0.1039 - acc: 0.9665 - val_loss: 14.3319 - val_acc: 0.3560\n",
      "Epoch 61/100\n",
      "1460/1460 [==============================] - 29s 20ms/step - loss: 0.1026 - acc: 0.9667 - val_loss: 14.2029 - val_acc: 0.3549\n",
      "Epoch 62/100\n",
      "1460/1460 [==============================] - 29s 20ms/step - loss: 0.1021 - acc: 0.9671 - val_loss: 13.6003 - val_acc: 0.3494\n",
      "Epoch 63/100\n",
      "1460/1460 [==============================] - 29s 20ms/step - loss: 0.1019 - acc: 0.9673 - val_loss: 13.7457 - val_acc: 0.3632\n",
      "Epoch 64/100\n",
      "1460/1460 [==============================] - 29s 20ms/step - loss: 0.1006 - acc: 0.9676 - val_loss: 14.4852 - val_acc: 0.3484\n",
      "Epoch 65/100\n",
      "1460/1460 [==============================] - 29s 20ms/step - loss: 0.1002 - acc: 0.9676 - val_loss: 14.2797 - val_acc: 0.3480\n",
      "Epoch 66/100\n",
      "1460/1460 [==============================] - 29s 20ms/step - loss: 0.1000 - acc: 0.9677 - val_loss: 14.0489 - val_acc: 0.3658\n",
      "Epoch 67/100\n",
      "1460/1460 [==============================] - 29s 20ms/step - loss: 0.0994 - acc: 0.9679 - val_loss: 14.2757 - val_acc: 0.3595\n",
      "Epoch 68/100\n",
      "1460/1460 [==============================] - 29s 20ms/step - loss: 0.0998 - acc: 0.9682 - val_loss: 13.6781 - val_acc: 0.3575\n",
      "Epoch 69/100\n",
      "1460/1460 [==============================] - 29s 20ms/step - loss: 0.0985 - acc: 0.9682 - val_loss: 13.6792 - val_acc: 0.3720\n",
      "Epoch 70/100\n",
      "1460/1460 [==============================] - 29s 20ms/step - loss: 0.0976 - acc: 0.9684 - val_loss: 13.9557 - val_acc: 0.3412\n",
      "Epoch 71/100\n",
      "1460/1460 [==============================] - 29s 20ms/step - loss: 0.0981 - acc: 0.9683 - val_loss: 14.3544 - val_acc: 0.3633\n",
      "Epoch 72/100\n",
      "1460/1460 [==============================] - 30s 20ms/step - loss: 0.0981 - acc: 0.9686 - val_loss: 14.2089 - val_acc: 0.3674\n",
      "Epoch 73/100\n",
      "1460/1460 [==============================] - 29s 20ms/step - loss: 0.0964 - acc: 0.9688 - val_loss: 14.2586 - val_acc: 0.3350\n",
      "Epoch 74/100\n",
      "1460/1460 [==============================] - 29s 20ms/step - loss: 0.0961 - acc: 0.9689 - val_loss: 14.0464 - val_acc: 0.3578\n",
      "Epoch 75/100\n",
      "1460/1460 [==============================] - 29s 20ms/step - loss: 0.0959 - acc: 0.9689 - val_loss: 13.9958 - val_acc: 0.3609\n",
      "Epoch 76/100\n",
      "1460/1460 [==============================] - 29s 20ms/step - loss: 0.0958 - acc: 0.9692 - val_loss: 14.0030 - val_acc: 0.3601\n",
      "Epoch 77/100\n",
      "1460/1460 [==============================] - 29s 20ms/step - loss: 0.0951 - acc: 0.9692 - val_loss: 14.4870 - val_acc: 0.3643\n",
      "Epoch 78/100\n",
      "1460/1460 [==============================] - 29s 20ms/step - loss: 0.0952 - acc: 0.9693 - val_loss: 14.1820 - val_acc: 0.3606\n",
      "Epoch 79/100\n",
      "1460/1460 [==============================] - 29s 20ms/step - loss: 0.0939 - acc: 0.9696 - val_loss: 14.7198 - val_acc: 0.3568\n",
      "Epoch 80/100\n",
      "1460/1460 [==============================] - 29s 20ms/step - loss: 0.0942 - acc: 0.9695 - val_loss: 14.4496 - val_acc: 0.3566\n",
      "Epoch 81/100\n",
      "1460/1460 [==============================] - 29s 20ms/step - loss: 0.0934 - acc: 0.9697 - val_loss: 14.2481 - val_acc: 0.3653\n",
      "Epoch 82/100\n",
      "1460/1460 [==============================] - 29s 20ms/step - loss: 0.0935 - acc: 0.9698 - val_loss: 14.1300 - val_acc: 0.3655\n",
      "Epoch 83/100\n",
      "1460/1460 [==============================] - 29s 20ms/step - loss: 0.0927 - acc: 0.9701 - val_loss: 14.8557 - val_acc: 0.3658\n",
      "Epoch 84/100\n",
      "1460/1460 [==============================] - 29s 20ms/step - loss: 0.0922 - acc: 0.9702 - val_loss: 14.0815 - val_acc: 0.3648\n",
      "Epoch 85/100\n",
      "1460/1460 [==============================] - 29s 20ms/step - loss: 0.0926 - acc: 0.9702 - val_loss: 14.4041 - val_acc: 0.3445\n",
      "Epoch 86/100\n",
      "1460/1460 [==============================] - 29s 20ms/step - loss: 0.0918 - acc: 0.9703 - val_loss: 15.3680 - val_acc: 0.3609\n",
      "Epoch 87/100\n",
      "1460/1460 [==============================] - 29s 20ms/step - loss: 0.0927 - acc: 0.9702 - val_loss: 14.8115 - val_acc: 0.3615\n",
      "Epoch 88/100\n",
      "1460/1460 [==============================] - 29s 20ms/step - loss: 0.0913 - acc: 0.9704 - val_loss: 15.0952 - val_acc: 0.3590\n",
      "Epoch 89/100\n",
      "1460/1460 [==============================] - 29s 20ms/step - loss: 0.0912 - acc: 0.9706 - val_loss: 15.0552 - val_acc: 0.3539\n",
      "Epoch 90/100\n",
      "1460/1460 [==============================] - 29s 20ms/step - loss: 0.0914 - acc: 0.9705 - val_loss: 15.2778 - val_acc: 0.3642\n",
      "Epoch 91/100\n",
      "1460/1460 [==============================] - 29s 20ms/step - loss: 0.0906 - acc: 0.9708 - val_loss: 14.5663 - val_acc: 0.3613\n",
      "Epoch 92/100\n",
      "1460/1460 [==============================] - 29s 20ms/step - loss: 0.0904 - acc: 0.9708 - val_loss: 15.1689 - val_acc: 0.3291\n",
      "Epoch 93/100\n",
      "1460/1460 [==============================] - 29s 20ms/step - loss: 0.0904 - acc: 0.9709 - val_loss: 14.2191 - val_acc: 0.3605\n",
      "Epoch 94/100\n",
      "1460/1460 [==============================] - 29s 20ms/step - loss: 0.0905 - acc: 0.9709 - val_loss: 14.4816 - val_acc: 0.3571\n",
      "Epoch 95/100\n",
      "1460/1460 [==============================] - 29s 20ms/step - loss: 0.0895 - acc: 0.9711 - val_loss: 14.8326 - val_acc: 0.3477\n",
      "Epoch 96/100\n",
      "1460/1460 [==============================] - 29s 20ms/step - loss: 0.0893 - acc: 0.9711 - val_loss: 14.7975 - val_acc: 0.3567\n",
      "Epoch 97/100\n",
      "1460/1460 [==============================] - 29s 20ms/step - loss: 0.0894 - acc: 0.9712 - val_loss: 14.9307 - val_acc: 0.3583\n",
      "Epoch 98/100\n",
      "1460/1460 [==============================] - 29s 20ms/step - loss: 0.0890 - acc: 0.9713 - val_loss: 14.9680 - val_acc: 0.3617\n",
      "Epoch 99/100\n",
      "1460/1460 [==============================] - 29s 20ms/step - loss: 0.0887 - acc: 0.9713 - val_loss: 14.9314 - val_acc: 0.3539\n",
      "Epoch 100/100\n",
      "1460/1460 [==============================] - 29s 20ms/step - loss: 0.0889 - acc: 0.9714 - val_loss: 14.6656 - val_acc: 0.3710\n",
      "LSTM multiclass Training finished in 2903.9235808849335 milisecond!!\n",
      "\n"
     ]
    }
   ],
   "source": [
    "import time\n",
    "start=time.time()\n",
    "history=model.fit(X_train,y_train,batch_size=1000,epochs=100,\n",
    "          validation_split=0.1)\n",
    "end=time.time()\n",
    "print('LSTM multiclass Training finished in {} milisecond!!\\n'.format(end-start))"
   ]
  },
  {
   "cell_type": "code",
   "execution_count": null,
   "metadata": {
    "colab": {
     "base_uri": "https://localhost:8080/"
    },
    "id": "RL6ixnb3VMiY",
    "outputId": "b9c6e32f-25b3-4781-f0ed-ed006f41a42e"
   },
   "outputs": [
    {
     "name": "stdout",
     "output_type": "stream",
     "text": [
      "12979/12979 [==============================] - 51s 4ms/step - loss: 0.3414 - acc: 0.9583\n",
      "LSTM multiclass Testing finished in 82.14248061180115 milisecond!!\n",
      "\n",
      "Accuracy on test set: [0.3414068818092346, 0.9583364725112915]\n",
      "Test loss: 0.3414068818092346\n",
      "Test accuracy: 0.9583364725112915\n"
     ]
    }
   ],
   "source": [
    "start=time.time()\n",
    "results = model.evaluate(X_test, y_test)\n",
    "end=time.time()\n",
    "print('LSTM multiclass Testing finished in {} milisecond!!\\n'.format(end-start))\n",
    "print (\"Accuracy on test set:\" , results)\n",
    "print('Test loss:', results[0])\n",
    "print('Test accuracy:', results[1])"
   ]
  },
  {
   "cell_type": "code",
   "execution_count": null,
   "metadata": {
    "colab": {
     "base_uri": "https://localhost:8080/"
    },
    "id": "2c3qOFbFVMiZ",
    "outputId": "d6781eae-c57e-446e-a975-182c181ce36a"
   },
   "outputs": [
    {
     "name": "stdout",
     "output_type": "stream",
     "text": [
      "12979/12979 [==============================] - 51s 4ms/step - loss: 0.3414 - acc: 0.9583\n",
      "Test set\n",
      "   Accuracy: 0.958\n"
     ]
    }
   ],
   "source": [
    "y_pred1 = model.predict(X_test)\n",
    "y_pred1=(y_pred1 > 0.5)\n",
    "accr = model.evaluate(X_test,y_test)\n",
    "rnn_acc=accr[1]\n",
    "print('Test set\\n   Accuracy: {:0.3f}'.format(accr[1]))\n",
    "\n"
   ]
  },
  {
   "cell_type": "code",
   "execution_count": null,
   "metadata": {
    "colab": {
     "base_uri": "https://localhost:8080/"
    },
    "id": "WFuAVO_hVMiZ",
    "outputId": "1c8fb214-d2ef-4932-dd76-bbfa55d2bcfb"
   },
   "outputs": [
    {
     "name": "stdout",
     "output_type": "stream",
     "text": [
      "\n",
      "\n",
      "Precision, Recall, F1\n",
      "\n",
      "\n"
     ]
    },
    {
     "name": "stderr",
     "output_type": "stream",
     "text": [
      "/usr/local/lib/python3.7/dist-packages/sklearn/metrics/_classification.py:1318: UndefinedMetricWarning: Precision and F-score are ill-defined and being set to 0.0 in labels with no predicted samples. Use `zero_division` parameter to control this behavior.\n",
      "  _warn_prf(average, modifier, msg_start, len(result))\n"
     ]
    },
    {
     "name": "stdout",
     "output_type": "stream",
     "text": [
      "              precision    recall  f1-score   support\n",
      "\n",
      "           0       0.77      1.00      0.87        10\n",
      "           1       0.06      1.00      0.11         5\n",
      "           2       0.88      1.00      0.93        28\n",
      "           3       1.00      1.00      1.00     94137\n",
      "           4       0.20      0.35      0.26       210\n",
      "           5       0.91      0.97      0.94       197\n",
      "           6       0.02      0.06      0.02        89\n",
      "           7       0.00      0.00      0.00         1\n",
      "           8       0.03      0.06      0.04       214\n",
      "           9       0.14      0.15      0.15       151\n",
      "          10       0.97      1.00      0.98       218\n",
      "          11       0.99      0.98      0.98    100071\n",
      "          12       0.93      0.99      0.96        94\n",
      "          13       0.39      0.45      0.42        44\n",
      "          14       0.89      0.93      0.90      5982\n",
      "          15       0.32      0.41      0.36        51\n",
      "          16       0.08      0.11      0.09        63\n",
      "          17       1.00      0.99      0.99      2414\n",
      "          18       0.86      0.82      0.84        22\n",
      "          19       0.94      1.00      0.97        29\n",
      "          20       0.98      0.96      0.97    122443\n",
      "          21       0.01      0.01      0.01       241\n",
      "          22       0.17      0.34      0.23       190\n",
      "          23       0.47      0.76      0.58      1699\n",
      "          24       0.98      0.99      0.99      2067\n",
      "          25       0.20      0.37      0.26       540\n",
      "          26       0.40      0.22      0.28      1643\n",
      "          27       0.91      0.95      0.93      1096\n",
      "          28       0.04      0.09      0.06        69\n",
      "          29       0.38      0.27      0.32        11\n",
      "          30       0.69      0.84      0.76        32\n",
      "          31       0.02      0.06      0.03        17\n",
      "          32       0.90      0.98      0.94      8834\n",
      "          33       0.04      0.14      0.06       150\n",
      "          34       0.00      0.00      0.00        35\n",
      "          35       0.78      0.83      0.81       375\n",
      "          36       0.57      0.16      0.25      3958\n",
      "          37       0.70      0.87      0.78      2197\n",
      "          38       1.00      0.99      1.00     36002\n",
      "          39       0.34      0.70      0.46       484\n",
      "          40       0.84      0.87      0.86      1222\n",
      "          41       0.94      0.98      0.96      5691\n",
      "          42       0.70      0.91      0.79       473\n",
      "          43       0.41      0.82      0.55       826\n",
      "          44       0.04      0.05      0.05        39\n",
      "          45       0.97      0.96      0.96     18732\n",
      "          46       0.00      0.00      0.00         6\n",
      "          47       0.00      0.00      0.00         6\n",
      "          48       0.00      0.00      0.00       109\n",
      "          49       0.00      0.00      0.00       165\n",
      "          50       0.00      0.00      0.00        15\n",
      "          51       0.00      0.00      0.00      1930\n",
      "\n",
      "   micro avg       0.96      0.96      0.96    415327\n",
      "   macro avg       0.48      0.55      0.49    415327\n",
      "weighted avg       0.96      0.96      0.96    415327\n",
      " samples avg       0.96      0.96      0.96    415327\n",
      "\n",
      "\n",
      "\n"
     ]
    },
    {
     "name": "stderr",
     "output_type": "stream",
     "text": [
      "/usr/local/lib/python3.7/dist-packages/sklearn/metrics/_classification.py:1318: UndefinedMetricWarning: Precision and F-score are ill-defined and being set to 0.0 in samples with no predicted labels. Use `zero_division` parameter to control this behavior.\n",
      "  _warn_prf(average, modifier, msg_start, len(result))\n"
     ]
    }
   ],
   "source": [
    "from sklearn.metrics import classification_report, confusion_matrix\n",
    "print('\\n')\n",
    "print(\"Precision, Recall, F1\")\n",
    "print('\\n')\n",
    "CR=classification_report(y_test, y_pred1)\n",
    "print(CR)\n",
    "print('\\n')"
   ]
  },
  {
   "cell_type": "code",
   "execution_count": null,
   "metadata": {
    "colab": {
     "base_uri": "https://localhost:8080/",
     "height": 573
    },
    "id": "weNfjxJoVMia",
    "outputId": "59e60216-9cbf-42d8-bae5-017c03fd6bf1"
   },
   "outputs": [
    {
     "data": {
      "image/png": "[encoded data removed]",
      "text/plain": [
       "<Figure size 432x288 with 1 Axes>"
      ]
     },
     "metadata": {
      "needs_background": "light"
     },
     "output_type": "display_data"
    },
    {
     "data": {
      "image/png": "[encoded data removed]",
      "text/plain": [
       "<Figure size 432x288 with 1 Axes>"
      ]
     },
     "metadata": {
      "needs_background": "light"
     },
     "output_type": "display_data"
    }
   ],
   "source": [
    "def Training_and_validation_plot(history):\n",
    "    acc = history.history['acc']\n",
    "    val_acc = history.history['val_acc']\n",
    "    loss = history.history['loss']\n",
    "    val_loss = history.history['val_loss']\n",
    "    epochs = range(1, len(acc) + 1)\n",
    "\n",
    "    plt.plot(epochs, acc, 'bo', label = 'Training Accuracy')\n",
    "    plt.plot(epochs, val_acc, 'r', label = 'Validation Accuracy')\n",
    "    plt.title('Training and Validation Accuracy')\n",
    "    plt.xlabel('Epochs')\n",
    "    plt.ylabel('Loss')\n",
    "    plt.legend()\n",
    "\n",
    "    plt.figure()\n",
    "    plt.plot(epochs, loss, 'bo', label = 'Training Loss')\n",
    "    plt.plot(epochs, val_loss, 'r', label = 'Validation Loss')\n",
    "    plt.title('Training and Validation Loss')\n",
    "    plt.xlabel('Epochs')\n",
    "    plt.ylabel('Loss')\n",
    "    plt.legend()\n",
    "    plt.show()\n",
    "Training_and_validation_plot(history)"
   ]
  },
  {
   "cell_type": "code",
   "execution_count": null,
   "metadata": {
    "colab": {
     "base_uri": "https://localhost:8080/"
    },
    "id": "Pnwwb-S0VMib",
    "outputId": "a9f3fceb-eef7-4f17-fb4c-4d435b9215f7"
   },
   "outputs": [
    {
     "name": "stderr",
     "output_type": "stream",
     "text": [
      "WARNING:absl:Found untraced functions such as lstm_cell_3_layer_call_fn, lstm_cell_3_layer_call_and_return_conditional_losses while saving (showing 2 of 2). These functions will not be directly callable after loading.\n"
     ]
    },
    {
     "name": "stdout",
     "output_type": "stream",
     "text": [
      "INFO:tensorflow:Assets written to: ram://16c2ebf3-8128-4eaf-8241-685fb9327634/assets\n"
     ]
    },
    {
     "name": "stderr",
     "output_type": "stream",
     "text": [
      "INFO:tensorflow:Assets written to: ram://16c2ebf3-8128-4eaf-8241-685fb9327634/assets\n",
      "WARNING:absl:<keras.layers.recurrent.LSTMCell object at 0x7f76750a31d0> has the same name 'LSTMCell' as a built-in Keras object. Consider renaming <class 'keras.layers.recurrent.LSTMCell'> to avoid naming conflicts when loading with `tf.keras.models.load_model`. If renaming is not possible, pass the object in the `custom_objects` parameter of the load function.\n"
     ]
    }
   ],
   "source": [
    "import pickle\n",
    "# save the model to disk\n",
    "filename = '/content/drive/My Drive/Colab Notebooks/MCLS_lstmmodel128,1000x100_2nd.sav'\n",
    "pickle.dump(model, open(filename, 'wb'))"
   ]
  },
  {
   "cell_type": "markdown",
   "metadata": {
    "id": "elS-LUQh7MWj"
   },
   "source": [
    "# before"
   ]
  },
  {
   "cell_type": "markdown",
   "metadata": {
    "id": "okXK9gc0g6j5"
   },
   "source": [
    "## 32x500,20"
   ]
  },
  {
   "cell_type": "code",
   "execution_count": null,
   "metadata": {
    "id": "J9bIevM-7WaO"
   },
   "outputs": [],
   "source": [
    "from tensorflow.keras.optimizers import RMSprop\n",
    "from keras.layers import LSTM, Activation, Dense, Dropout, Input, Conv1D, Embedding, Flatten\n",
    "def RNN_model():\n",
    "    inputs = Input(name='inputs',shape=[max_len])\n",
    "    layer = Embedding(input_dim = max_len + 1,output_dim = 50,input_length=max_len)(inputs)\n",
    "    layer = LSTM(32)(layer)\n",
    "    layer = Flatten()(layer)\n",
    "\n",
    "    layer = Dense(256,name='FC1')(layer)\n",
    "    layer = Activation('relu')(layer)\n",
    "    layer = Dropout(0.5)(layer)\n",
    "\n",
    "    layer = Dense(57,name='out_layer')(layer)\n",
    "    layer = Activation('softmax')(layer)\n",
    "    model = Model(inputs=inputs,outputs=layer)\n",
    "    return model"
   ]
  },
  {
   "cell_type": "code",
   "execution_count": null,
   "metadata": {
    "colab": {
     "base_uri": "https://localhost:8080/"
    },
    "id": "QsMXrZ147lo5",
    "outputId": "4691a8ce-8327-4c74-a4ee-228734909cab"
   },
   "outputs": [
    {
     "name": "stdout",
     "output_type": "stream",
     "text": [
      "Model: \"model_1\"\n",
      "_________________________________________________________________\n",
      " Layer (type)                Output Shape              Param #   \n",
      "=================================================================\n",
      " inputs (InputLayer)         [(None, 50)]              0         \n",
      "                                                                 \n",
      " embedding_1 (Embedding)     (None, 50, 50)            2550      \n",
      "                                                                 \n",
      " lstm_1 (LSTM)               (None, 32)                10624     \n",
      "                                                                 \n",
      " flatten_1 (Flatten)         (None, 32)                0         \n",
      "                                                                 \n",
      " FC1 (Dense)                 (None, 256)               8448      \n",
      "                                                                 \n",
      " activation_2 (Activation)   (None, 256)               0         \n",
      "                                                                 \n",
      " dropout_1 (Dropout)         (None, 256)               0         \n",
      "                                                                 \n",
      " out_layer (Dense)           (None, 57)                14649     \n",
      "                                                                 \n",
      " activation_3 (Activation)   (None, 57)                0         \n",
      "                                                                 \n",
      "=================================================================\n",
      "Total params: 36,271\n",
      "Trainable params: 36,271\n",
      "Non-trainable params: 0\n",
      "_________________________________________________________________\n"
     ]
    }
   ],
   "source": [
    "from tensorflow.keras.models import Sequential, Model\n",
    "model = RNN_model()\n",
    "model.summary()\n",
    "model.compile(loss='categorical_crossentropy',optimizer=RMSprop(),metrics=['acc'])"
   ]
  },
  {
   "cell_type": "code",
   "execution_count": null,
   "metadata": {
    "colab": {
     "base_uri": "https://localhost:8080/"
    },
    "id": "o1Ow6m_O8l0u",
    "outputId": "183f493a-af71-4dfc-86bf-9ab604b4e9f0"
   },
   "outputs": [
    {
     "name": "stdout",
     "output_type": "stream",
     "text": [
      "Epoch 1/20\n",
      "3275/3275 [==============================] - 28s 9ms/step - loss: 1.2447 - acc: 0.6664 - val_loss: 1.0598 - val_acc: 0.7072\n",
      "Epoch 2/20\n",
      "3275/3275 [==============================] - 25s 8ms/step - loss: 0.7824 - acc: 0.7789 - val_loss: 0.5932 - val_acc: 0.8375\n",
      "Epoch 3/20\n",
      "3275/3275 [==============================] - 25s 8ms/step - loss: 0.6246 - acc: 0.8265 - val_loss: 0.5434 - val_acc: 0.8450\n",
      "Epoch 4/20\n",
      "3275/3275 [==============================] - 28s 9ms/step - loss: 0.5419 - acc: 0.8502 - val_loss: 0.4865 - val_acc: 0.8618\n",
      "Epoch 5/20\n",
      "3275/3275 [==============================] - 26s 8ms/step - loss: 0.4991 - acc: 0.8619 - val_loss: 0.4275 - val_acc: 0.8794\n",
      "Epoch 6/20\n",
      "3275/3275 [==============================] - 25s 8ms/step - loss: 0.4724 - acc: 0.8699 - val_loss: 0.4075 - val_acc: 0.8847\n",
      "Epoch 7/20\n",
      "3275/3275 [==============================] - 25s 8ms/step - loss: 0.4522 - acc: 0.8749 - val_loss: 0.4776 - val_acc: 0.8643\n",
      "Epoch 8/20\n",
      "3275/3275 [==============================] - 28s 9ms/step - loss: 0.4358 - acc: 0.8788 - val_loss: 0.4132 - val_acc: 0.8839\n",
      "Epoch 9/20\n",
      "3275/3275 [==============================] - 25s 8ms/step - loss: 0.4197 - acc: 0.8827 - val_loss: 0.3855 - val_acc: 0.8912\n",
      "Epoch 10/20\n",
      "3275/3275 [==============================] - 25s 8ms/step - loss: 0.4064 - acc: 0.8857 - val_loss: 0.3837 - val_acc: 0.8904\n",
      "Epoch 11/20\n",
      "3275/3275 [==============================] - 25s 8ms/step - loss: 0.3971 - acc: 0.8878 - val_loss: 0.3877 - val_acc: 0.8898\n",
      "Epoch 12/20\n",
      "3275/3275 [==============================] - 26s 8ms/step - loss: 0.3874 - acc: 0.8903 - val_loss: 0.3767 - val_acc: 0.8918\n",
      "Epoch 13/20\n",
      "3275/3275 [==============================] - 25s 8ms/step - loss: 0.3800 - acc: 0.8919 - val_loss: 0.3885 - val_acc: 0.8893\n",
      "Epoch 14/20\n",
      "3275/3275 [==============================] - 25s 8ms/step - loss: 0.3737 - acc: 0.8933 - val_loss: 0.3640 - val_acc: 0.8945\n",
      "Epoch 15/20\n",
      "3275/3275 [==============================] - 26s 8ms/step - loss: 0.3681 - acc: 0.8943 - val_loss: 0.3430 - val_acc: 0.8993\n",
      "Epoch 16/20\n",
      "3275/3275 [==============================] - 25s 8ms/step - loss: 0.3625 - acc: 0.8955 - val_loss: 0.3522 - val_acc: 0.8973\n",
      "Epoch 17/20\n",
      "3275/3275 [==============================] - 25s 8ms/step - loss: 0.3580 - acc: 0.8965 - val_loss: 0.3428 - val_acc: 0.9002\n",
      "Epoch 18/20\n",
      "3275/3275 [==============================] - 25s 8ms/step - loss: 0.3551 - acc: 0.8969 - val_loss: 0.3405 - val_acc: 0.8996\n",
      "Epoch 19/20\n",
      "3275/3275 [==============================] - 26s 8ms/step - loss: 0.3508 - acc: 0.8978 - val_loss: 0.3336 - val_acc: 0.9002\n",
      "Epoch 20/20\n",
      "3275/3275 [==============================] - 25s 8ms/step - loss: 0.3480 - acc: 0.8986 - val_loss: 0.3269 - val_acc: 0.9025\n",
      "Training finished !!\n"
     ]
    }
   ],
   "source": [
    "history=model.fit(X_train,y_train,batch_size=500,epochs=20,\n",
    "          validation_data=(X_test, y_test))\n",
    "print('Training finished !!')"
   ]
  },
  {
   "cell_type": "code",
   "execution_count": null,
   "metadata": {
    "colab": {
     "base_uri": "https://localhost:8080/"
    },
    "id": "FmP3uajvEa2y",
    "outputId": "d92f692b-2553-4d06-ffdf-257ddabdb1a1"
   },
   "outputs": [
    {
     "name": "stderr",
     "output_type": "stream",
     "text": [
      "WARNING:absl:Found untraced functions such as lstm_cell_1_layer_call_fn, lstm_cell_1_layer_call_and_return_conditional_losses while saving (showing 2 of 2). These functions will not be directly callable after loading.\n"
     ]
    },
    {
     "name": "stdout",
     "output_type": "stream",
     "text": [
      "INFO:tensorflow:Assets written to: ram://b8e51001-174f-461e-9c1a-0c934dd8f2ba/assets\n"
     ]
    },
    {
     "name": "stderr",
     "output_type": "stream",
     "text": [
      "INFO:tensorflow:Assets written to: ram://b8e51001-174f-461e-9c1a-0c934dd8f2ba/assets\n",
      "WARNING:absl:<keras.layers.recurrent.LSTMCell object at 0x7eff70377150> has the same name 'LSTMCell' as a built-in Keras object. Consider renaming <class 'keras.layers.recurrent.LSTMCell'> to avoid naming conflicts when loading with `tf.keras.models.load_model`. If renaming is not possible, pass the object in the `custom_objects` parameter of the load function.\n"
     ]
    }
   ],
   "source": [
    "import pickle\n",
    "# save the model to disk\n",
    "filename = '/content/drive/My Drive/Colab Notebooks/MCLS_lstmmodel32,500x20.sav'\n",
    "pickle.dump(model, open(filename, 'wb'))"
   ]
  },
  {
   "cell_type": "code",
   "execution_count": null,
   "metadata": {
    "colab": {
     "base_uri": "https://localhost:8080/",
     "height": 573
    },
    "id": "niEsttt6_aD0",
    "outputId": "82fe2094-e398-4bbc-9e55-2e94d50eaf30"
   },
   "outputs": [
    {
     "data": {
      "image/png": "[encoded data removed]",
      "text/plain": [
       "<Figure size 432x288 with 1 Axes>"
      ]
     },
     "metadata": {
      "needs_background": "light"
     },
     "output_type": "display_data"
    },
    {
     "data": {
      "image/png": "[encoded data removed]",
      "text/plain": [
       "<Figure size 432x288 with 1 Axes>"
      ]
     },
     "metadata": {
      "needs_background": "light"
     },
     "output_type": "display_data"
    }
   ],
   "source": [
    "def Training_and_validation_plot(history):\n",
    "    acc = history.history['acc']\n",
    "    val_acc = history.history['val_acc']\n",
    "    loss = history.history['loss']\n",
    "    val_loss = history.history['val_loss']\n",
    "    epochs = range(1, len(acc) + 1)\n",
    "\n",
    "    plt.plot(epochs, acc, 'bo', label = 'Training Accuracy')\n",
    "    plt.plot(epochs, val_acc, 'r', label = 'Validation Accuracy')\n",
    "    plt.title('Training and Validation Accuracy')\n",
    "    plt.xlabel('Epochs')\n",
    "    plt.ylabel('Loss')\n",
    "    plt.legend()\n",
    "\n",
    "    plt.figure()\n",
    "    plt.plot(epochs, loss, 'bo', label = 'Training Loss')\n",
    "    plt.plot(epochs, val_loss, 'r', label = 'Validation Loss')\n",
    "    plt.title('Training and Validation Loss')\n",
    "    plt.xlabel('Epochs')\n",
    "    plt.ylabel('Loss')\n",
    "    plt.legend()\n",
    "    plt.show()\n",
    "Training_and_validation_plot(history)"
   ]
  },
  {
   "cell_type": "code",
   "execution_count": null,
   "metadata": {
    "colab": {
     "base_uri": "https://localhost:8080/"
    },
    "id": "u9BdrMJJ_h52",
    "outputId": "2cbb24bd-c766-4801-8397-d41c88863a2f"
   },
   "outputs": [
    {
     "name": "stdout",
     "output_type": "stream",
     "text": [
      "12791/12791 [==============================] - 48s 4ms/step - loss: 0.3269 - acc: 0.9025\n",
      "Test set\n",
      "   Accuracy: 0.902\n"
     ]
    }
   ],
   "source": [
    "y_pred1 = model.predict(X_test)\n",
    "y_pred1=(y_pred1 > 0.5)\n",
    "accr = model.evaluate(X_test,y_test)\n",
    "rnn_acc=accr[1]\n",
    "print('Test set\\n   Accuracy: {:0.3f}'.format(accr[1]))\n",
    "\n"
   ]
  },
  {
   "cell_type": "code",
   "execution_count": null,
   "metadata": {
    "colab": {
     "base_uri": "https://localhost:8080/"
    },
    "id": "_ChLl-7X_jjc",
    "outputId": "b06b2f95-dd2b-4f8f-be82-004e08980c57"
   },
   "outputs": [
    {
     "name": "stdout",
     "output_type": "stream",
     "text": [
      "\n",
      "\n",
      "Precision, Recall, F1\n",
      "\n",
      "\n"
     ]
    },
    {
     "name": "stderr",
     "output_type": "stream",
     "text": [
      "/usr/local/lib/python3.7/dist-packages/sklearn/metrics/_classification.py:1318: UndefinedMetricWarning: Precision and F-score are ill-defined and being set to 0.0 in labels with no predicted samples. Use `zero_division` parameter to control this behavior.\n",
      "  _warn_prf(average, modifier, msg_start, len(result))\n"
     ]
    },
    {
     "name": "stdout",
     "output_type": "stream",
     "text": [
      "              precision    recall  f1-score   support\n",
      "\n",
      "           0       1.00      1.00      1.00      2120\n",
      "           1       1.00      1.00      1.00      2126\n",
      "           2       0.97      1.00      0.99      2119\n",
      "           3       1.00      1.00      1.00     94155\n",
      "           4       0.64      0.06      0.11      2038\n",
      "           5       1.00      1.00      1.00      2066\n",
      "           6       1.00      1.00      1.00      2075\n",
      "           7       0.97      0.99      0.98      2018\n",
      "           8       0.00      0.00      0.00      2060\n",
      "           9       1.00      1.00      1.00      2025\n",
      "          10       0.51      0.02      0.03      2278\n",
      "          11       0.87      0.15      0.26      2075\n",
      "          12       0.95      1.00      0.98      2064\n",
      "          13       0.97      1.00      0.99     74784\n",
      "          14       0.98      1.00      0.99      2005\n",
      "          15       0.79      0.70      0.74      2014\n",
      "          16       0.77      0.98      0.86      5902\n",
      "          17       0.88      0.45      0.60      2165\n",
      "          18       0.53      0.01      0.03      2093\n",
      "          19       1.00      1.00      1.00      2413\n",
      "          20       1.00      1.00      1.00      2102\n",
      "          21       1.00      1.00      1.00      2085\n",
      "          22       0.92      0.93      0.93     83045\n",
      "          23       0.00      0.00      0.00      2021\n",
      "          24       1.00      1.00      1.00      2031\n",
      "          25       0.67      0.39      0.49      2016\n",
      "          26       1.00      1.00      1.00      2078\n",
      "          27       0.82      0.25      0.39      1771\n",
      "          28       0.99      0.97      0.98      1988\n",
      "          29       0.14      0.00      0.00       530\n",
      "          30       0.76      0.12      0.21      2088\n",
      "          31       0.96      0.66      0.78      1076\n",
      "          32       0.00      0.00      0.00      2136\n",
      "          33       1.00      0.95      0.97      2002\n",
      "          34       0.99      1.00      1.00      2055\n",
      "          35       0.00      0.00      0.00      2078\n",
      "          36       0.96      0.93      0.95      9042\n",
      "          37       0.00      0.00      0.00      2059\n",
      "          38       0.00      0.00      0.00      2135\n",
      "          39       0.89      0.97      0.92      2041\n",
      "          40       0.56      0.08      0.14      3916\n",
      "          41       0.50      0.37      0.43      2172\n",
      "          42       1.00      0.99      1.00     20689\n",
      "          43       0.00      0.00      0.00       530\n",
      "          44       0.92      0.70      0.79      1185\n",
      "          45       0.91      0.90      0.90      5609\n",
      "          46       0.76      0.29      0.42      2122\n",
      "          47       0.57      0.07      0.13       832\n",
      "          48       0.00      0.00      0.00      2065\n",
      "          49       0.92      0.99      0.95     18828\n",
      "          50       1.00      0.97      0.99      2107\n",
      "          51       1.00      1.00      1.00      2042\n",
      "          52       0.99      0.97      0.98      2130\n",
      "          53       0.00      0.00      0.00      2021\n",
      "          54       0.82      0.03      0.06      2145\n",
      "          55       0.00      0.00      0.00      1869\n",
      "          56       1.00      1.00      1.00      2072\n",
      "\n",
      "   micro avg       0.96      0.87      0.91    409308\n",
      "   macro avg       0.72      0.59      0.61    409308\n",
      "weighted avg       0.90      0.87      0.87    409308\n",
      " samples avg       0.87      0.87      0.87    409308\n",
      "\n",
      "\n",
      "\n"
     ]
    },
    {
     "name": "stderr",
     "output_type": "stream",
     "text": [
      "/usr/local/lib/python3.7/dist-packages/sklearn/metrics/_classification.py:1318: UndefinedMetricWarning: Precision and F-score are ill-defined and being set to 0.0 in samples with no predicted labels. Use `zero_division` parameter to control this behavior.\n",
      "  _warn_prf(average, modifier, msg_start, len(result))\n"
     ]
    }
   ],
   "source": [
    "from sklearn.metrics import classification_report, confusion_matrix\n",
    "print('\\n')\n",
    "print(\"Precision, Recall, F1\")\n",
    "print('\\n')\n",
    "CR=classification_report(y_test, y_pred1)\n",
    "print(CR)\n",
    "print('\\n')"
   ]
  },
  {
   "cell_type": "code",
   "execution_count": null,
   "metadata": {
    "colab": {
     "base_uri": "https://localhost:8080/",
     "height": 194
    },
    "id": "-ILfnV235XYF",
    "outputId": "9befafb7-3b8d-485a-e10e-b6cf7ffa7cac"
   },
   "outputs": [
    {
     "data": {
      "text/plain": [
       "<matplotlib.legend.Legend at 0x7eff69df1a50>"
      ]
     },
     "execution_count": 35,
     "metadata": {},
     "output_type": "execute_result"
    },
    {
     "data": {
      "image/png": "[encoded data removed]",
      "text/plain": [
       "<Figure size 432x288 with 1 Axes>"
      ]
     },
     "metadata": {
      "needs_background": "light"
     },
     "output_type": "display_data"
    }
   ],
   "source": [
    "import matplotlib.pyplot as plot\n",
    "plot.subplot(2,1,1)\n",
    "plot.plot(history.history['acc'])\n",
    "plot.plot(history.history['val_acc'])\n",
    "plot.title('model accuracy')\n",
    "plot.ylabel('accuracy')\n",
    "plot.xlabel('epoch')\n",
    "plot.legend(['train', 'test'], loc='lower right')"
   ]
  },
  {
   "cell_type": "code",
   "execution_count": null,
   "metadata": {
    "colab": {
     "base_uri": "https://localhost:8080/",
     "height": 194
    },
    "id": "2Ol0YNhl5XYF",
    "outputId": "4f5f9a17-86cd-4446-b62d-f6f263cf1b22"
   },
   "outputs": [
    {
     "data": {
      "text/plain": [
       "<matplotlib.legend.Legend at 0x7eff69e01310>"
      ]
     },
     "execution_count": 36,
     "metadata": {},
     "output_type": "execute_result"
    },
    {
     "data": {
      "image/png": "[encoded data removed]",
      "text/plain": [
       "<Figure size 432x288 with 1 Axes>"
      ]
     },
     "metadata": {
      "needs_background": "light"
     },
     "output_type": "display_data"
    }
   ],
   "source": [
    "plot.subplot(2,1,2)\n",
    "plot.plot(history.history['loss'])\n",
    "plot.plot(history.history['val_loss'])\n",
    "plot.title('model loss')\n",
    "plot.ylabel('loss')\n",
    "plot.xlabel('epoch')\n",
    "plot.legend(['train', 'test'], loc='upper right')"
   ]
  },
  {
   "cell_type": "markdown",
   "metadata": {
    "id": "vIvP6Y21oJeK"
   },
   "source": [
    "## 32x1000,50"
   ]
  },
  {
   "cell_type": "code",
   "execution_count": null,
   "metadata": {
    "id": "O5sAUP2goNx7"
   },
   "outputs": [],
   "source": [
    "from tensorflow.keras.optimizers import RMSprop\n",
    "from keras.layers import LSTM, Activation, Dense, Dropout, Input, Conv1D, Embedding, Flatten\n",
    "def RNN_model():\n",
    "    inputs = Input(name='inputs',shape=[max_len])\n",
    "    layer = Embedding(input_dim = max_len + 1,output_dim = 50,input_length=max_len)(inputs)\n",
    "    layer = LSTM(32)(layer)\n",
    "    layer = Flatten()(layer)\n",
    "\n",
    "    layer = Dense(256,name='FC1')(layer)\n",
    "    layer = Activation('relu')(layer)\n",
    "    layer = Dropout(0.5)(layer)\n",
    "\n",
    "    layer = Dense(57,name='out_layer')(layer)\n",
    "    layer = Activation('softmax')(layer)\n",
    "    model = Model(inputs=inputs,outputs=layer)\n",
    "    return model"
   ]
  },
  {
   "cell_type": "code",
   "execution_count": null,
   "metadata": {
    "colab": {
     "base_uri": "https://localhost:8080/"
    },
    "id": "_ALEQTYioNyL",
    "outputId": "2aaf5c73-bcc4-420a-ed00-1e031c248c2c"
   },
   "outputs": [
    {
     "name": "stdout",
     "output_type": "stream",
     "text": [
      "Model: \"model_2\"\n",
      "_________________________________________________________________\n",
      " Layer (type)                Output Shape              Param #   \n",
      "=================================================================\n",
      " inputs (InputLayer)         [(None, 50)]              0         \n",
      "                                                                 \n",
      " embedding_4 (Embedding)     (None, 50, 50)            2550      \n",
      "                                                                 \n",
      " lstm_6 (LSTM)               (None, 32)                10624     \n",
      "                                                                 \n",
      " flatten_2 (Flatten)         (None, 32)                0         \n",
      "                                                                 \n",
      " FC1 (Dense)                 (None, 256)               8448      \n",
      "                                                                 \n",
      " activation_4 (Activation)   (None, 256)               0         \n",
      "                                                                 \n",
      " dropout_2 (Dropout)         (None, 256)               0         \n",
      "                                                                 \n",
      " out_layer (Dense)           (None, 57)                14649     \n",
      "                                                                 \n",
      " activation_5 (Activation)   (None, 57)                0         \n",
      "                                                                 \n",
      "=================================================================\n",
      "Total params: 36,271\n",
      "Trainable params: 36,271\n",
      "Non-trainable params: 0\n",
      "_________________________________________________________________\n"
     ]
    }
   ],
   "source": [
    "from tensorflow.keras.models import Sequential, Model\n",
    "model = RNN_model()\n",
    "model.summary()\n",
    "model.compile(loss='categorical_crossentropy',optimizer=RMSprop(),metrics=['acc'])"
   ]
  },
  {
   "cell_type": "code",
   "execution_count": null,
   "metadata": {
    "colab": {
     "base_uri": "https://localhost:8080/",
     "height": 1000
    },
    "id": "PrAXmC8zoNyM",
    "outputId": "705f2fd2-8b88-44ff-87e1-4343f4fbed2b"
   },
   "outputs": [
    {
     "name": "stdout",
     "output_type": "stream",
     "text": [
      "Epoch 1/50\n",
      "1638/1638 [==============================] - 16s 10ms/step - loss: 0.5401 - acc: 0.8522 - val_loss: 0.4596 - val_acc: 0.8719\n",
      "Epoch 2/50\n",
      "1638/1638 [==============================] - 14s 9ms/step - loss: 0.5121 - acc: 0.8597 - val_loss: 0.4859 - val_acc: 0.8678\n",
      "Epoch 3/50\n",
      "1638/1638 [==============================] - 16s 10ms/step - loss: 0.4905 - acc: 0.8656 - val_loss: 0.4225 - val_acc: 0.8810\n",
      "Epoch 4/50\n",
      "1638/1638 [==============================] - 15s 9ms/step - loss: 0.4718 - acc: 0.8703 - val_loss: 0.4433 - val_acc: 0.8753\n",
      "Epoch 5/50\n",
      "1638/1638 [==============================] - 16s 10ms/step - loss: 0.4550 - acc: 0.8744 - val_loss: 0.4143 - val_acc: 0.8799\n",
      "Epoch 6/50\n",
      "1638/1638 [==============================] - 21s 13ms/step - loss: 0.4399 - acc: 0.8781 - val_loss: 0.3833 - val_acc: 0.8911\n",
      "Epoch 7/50\n",
      "1638/1638 [==============================] - 20s 12ms/step - loss: 0.4263 - acc: 0.8812 - val_loss: 0.3785 - val_acc: 0.8916\n",
      "Epoch 8/50\n",
      "1638/1638 [==============================] - 16s 10ms/step - loss: 0.4164 - acc: 0.8838 - val_loss: 0.3768 - val_acc: 0.8921\n",
      "Epoch 9/50\n",
      "1638/1638 [==============================] - 17s 11ms/step - loss: 0.4071 - acc: 0.8858 - val_loss: 0.3722 - val_acc: 0.8930\n",
      "Epoch 10/50\n",
      "1638/1638 [==============================] - 14s 9ms/step - loss: 0.4004 - acc: 0.8873 - val_loss: 0.3558 - val_acc: 0.8965\n",
      "Epoch 11/50\n",
      "1638/1638 [==============================] - 15s 9ms/step - loss: 0.3959 - acc: 0.8884 - val_loss: 0.3612 - val_acc: 0.8960\n",
      "Epoch 12/50\n",
      "1638/1638 [==============================] - 17s 10ms/step - loss: 0.3902 - acc: 0.8895 - val_loss: 0.3573 - val_acc: 0.8964\n",
      "Epoch 13/50\n",
      "1638/1638 [==============================] - 15s 9ms/step - loss: 0.3852 - acc: 0.8905 - val_loss: 0.3583 - val_acc: 0.8964\n",
      "Epoch 14/50\n",
      "1638/1638 [==============================] - 15s 9ms/step - loss: 0.3820 - acc: 0.8915 - val_loss: 0.3681 - val_acc: 0.8938\n",
      "Epoch 15/50\n",
      "1638/1638 [==============================] - 14s 9ms/step - loss: 0.3775 - acc: 0.8921 - val_loss: 0.3422 - val_acc: 0.9000\n",
      "Epoch 16/50\n",
      "1638/1638 [==============================] - 15s 9ms/step - loss: 0.3744 - acc: 0.8926 - val_loss: 0.3551 - val_acc: 0.8968\n",
      "Epoch 17/50\n",
      "1638/1638 [==============================] - 15s 9ms/step - loss: 0.3716 - acc: 0.8933 - val_loss: 0.4159 - val_acc: 0.8872\n",
      "Epoch 18/50\n",
      "1638/1638 [==============================] - 16s 10ms/step - loss: 0.3686 - acc: 0.8937 - val_loss: 0.3360 - val_acc: 0.9012\n",
      "Epoch 19/50\n",
      "1638/1638 [==============================] - 14s 9ms/step - loss: 0.3652 - acc: 0.8947 - val_loss: 0.3523 - val_acc: 0.8966\n",
      "Epoch 20/50\n",
      "1638/1638 [==============================] - 14s 9ms/step - loss: 0.3629 - acc: 0.8953 - val_loss: 0.3437 - val_acc: 0.9006\n",
      "Epoch 21/50\n",
      "1638/1638 [==============================] - 15s 9ms/step - loss: 0.3601 - acc: 0.8957 - val_loss: 0.3451 - val_acc: 0.8988\n",
      "Epoch 22/50\n",
      "1638/1638 [==============================] - 14s 9ms/step - loss: 0.3574 - acc: 0.8963 - val_loss: 0.3437 - val_acc: 0.8992\n",
      "Epoch 23/50\n",
      "1638/1638 [==============================] - 15s 9ms/step - loss: 0.3554 - acc: 0.8967 - val_loss: 0.3356 - val_acc: 0.9014\n",
      "Epoch 24/50\n",
      "1638/1638 [==============================] - 15s 9ms/step - loss: 0.3531 - acc: 0.8972 - val_loss: 0.3250 - val_acc: 0.9031\n",
      "Epoch 25/50\n",
      "1638/1638 [==============================] - 15s 9ms/step - loss: 0.3497 - acc: 0.8979 - val_loss: 0.3227 - val_acc: 0.9041\n",
      "Epoch 26/50\n",
      "1638/1638 [==============================] - 16s 10ms/step - loss: 0.3485 - acc: 0.8981 - val_loss: 0.3441 - val_acc: 0.8991\n",
      "Epoch 27/50\n",
      "1638/1638 [==============================] - 14s 9ms/step - loss: 0.3457 - acc: 0.8989 - val_loss: 0.3978 - val_acc: 0.8919\n",
      "Epoch 28/50\n",
      "1638/1638 [==============================] - 15s 9ms/step - loss: 0.3436 - acc: 0.8992 - val_loss: 0.3152 - val_acc: 0.9056\n",
      "Epoch 29/50\n",
      "1638/1638 [==============================] - 14s 9ms/step - loss: 0.3417 - acc: 0.8996 - val_loss: 0.3963 - val_acc: 0.8890\n",
      "Epoch 30/50\n",
      "1638/1638 [==============================] - 16s 10ms/step - loss: 0.3394 - acc: 0.9004 - val_loss: 0.3294 - val_acc: 0.9005\n",
      "Epoch 31/50\n",
      "1638/1638 [==============================] - 15s 9ms/step - loss: 0.3372 - acc: 0.9007 - val_loss: 0.3117 - val_acc: 0.9063\n",
      "Epoch 32/50\n",
      "1638/1638 [==============================] - 14s 9ms/step - loss: 0.3354 - acc: 0.9012 - val_loss: 0.3163 - val_acc: 0.9062\n",
      "Epoch 33/50\n",
      "1638/1638 [==============================] - 15s 9ms/step - loss: 0.3329 - acc: 0.9019 - val_loss: 0.3310 - val_acc: 0.9031\n",
      "Epoch 34/50\n",
      "1638/1638 [==============================] - 14s 9ms/step - loss: 0.3306 - acc: 0.9024 - val_loss: 0.3082 - val_acc: 0.9083\n",
      "Epoch 35/50\n",
      "1638/1638 [==============================] - 16s 9ms/step - loss: 0.3301 - acc: 0.9028 - val_loss: 0.3144 - val_acc: 0.9058\n",
      "Epoch 36/50\n",
      "1638/1638 [==============================] - 17s 10ms/step - loss: 0.3276 - acc: 0.9033 - val_loss: 0.3059 - val_acc: 0.9084\n",
      "Epoch 37/50\n",
      "1638/1638 [==============================] - 15s 9ms/step - loss: 0.3256 - acc: 0.9038 - val_loss: 0.3114 - val_acc: 0.9070\n",
      "Epoch 38/50\n",
      "1638/1638 [==============================] - 14s 9ms/step - loss: 0.3227 - acc: 0.9048 - val_loss: 0.3133 - val_acc: 0.9056\n",
      "Epoch 39/50\n",
      "1638/1638 [==============================] - 16s 9ms/step - loss: 0.3220 - acc: 0.9047 - val_loss: 0.3034 - val_acc: 0.9090\n",
      "Epoch 40/50\n",
      "1638/1638 [==============================] - 14s 9ms/step - loss: 0.3192 - acc: 0.9055 - val_loss: 0.3101 - val_acc: 0.9067\n",
      "Epoch 41/50\n",
      "1638/1638 [==============================] - 14s 9ms/step - loss: 0.3179 - acc: 0.9059 - val_loss: 0.3067 - val_acc: 0.9082\n",
      "Epoch 42/50\n",
      "1638/1638 [==============================] - 16s 10ms/step - loss: 0.3158 - acc: 0.9066 - val_loss: 0.3135 - val_acc: 0.9073\n",
      "Epoch 43/50\n",
      "1638/1638 [==============================] - 14s 9ms/step - loss: 0.3133 - acc: 0.9072 - val_loss: 0.3043 - val_acc: 0.9094\n",
      "Epoch 44/50\n",
      "1638/1638 [==============================] - 14s 9ms/step - loss: 0.3121 - acc: 0.9075 - val_loss: 0.3086 - val_acc: 0.9073\n",
      "Epoch 45/50\n",
      "1638/1638 [==============================] - 15s 9ms/step - loss: 0.3111 - acc: 0.9079 - val_loss: 0.3170 - val_acc: 0.9072\n",
      "Epoch 46/50\n",
      "1638/1638 [==============================] - 16s 9ms/step - loss: 0.3087 - acc: 0.9084 - val_loss: 0.2894 - val_acc: 0.9133\n",
      "Epoch 47/50\n",
      "1638/1638 [==============================] - 15s 9ms/step - loss: 0.3067 - acc: 0.9089 - val_loss: 0.3211 - val_acc: 0.9071\n",
      "Epoch 48/50\n",
      "1638/1638 [==============================] - 15s 9ms/step - loss: 0.3063 - acc: 0.9092 - val_loss: 0.3122 - val_acc: 0.9073\n",
      "Epoch 49/50\n",
      "1638/1638 [==============================] - 15s 9ms/step - loss: 0.3047 - acc: 0.9097 - val_loss: 0.3012 - val_acc: 0.9098\n",
      "Epoch 50/50\n",
      "1638/1638 [==============================] - 14s 9ms/step - loss: 0.3035 - acc: 0.9099 - val_loss: 0.2828 - val_acc: 0.9153\n"
     ]
    },
    {
     "ename": "TypeError",
     "evalue": "ignored",
     "output_type": "error",
     "traceback": [
      "\u001b[0;31m---------------------------------------------------------------------------\u001b[0m",
      "\u001b[0;31mTypeError\u001b[0m                                 Traceback (most recent call last)",
      "\u001b[0;32m<ipython-input-46-006eddbfb077>\u001b[0m in \u001b[0;36m<module>\u001b[0;34m()\u001b[0m\n\u001b[1;32m      4\u001b[0m           validation_data=(X_test, y_test))\n\u001b[1;32m      5\u001b[0m \u001b[0mend\u001b[0m\u001b[0;34m=\u001b[0m\u001b[0mtime\u001b[0m\u001b[0;34m.\u001b[0m\u001b[0mtime\u001b[0m\u001b[0;34m\u001b[0m\u001b[0;34m\u001b[0m\u001b[0m\n\u001b[0;32m----> 6\u001b[0;31m \u001b[0mprint\u001b[0m\u001b[0;34m(\u001b[0m\u001b[0;34m'LSTM multiclass Training finished in {} milisecons!!'\u001b[0m\u001b[0;34m.\u001b[0m\u001b[0mformat\u001b[0m\u001b[0;34m(\u001b[0m\u001b[0mend\u001b[0m\u001b[0;34m-\u001b[0m\u001b[0mstart\u001b[0m\u001b[0;34m)\u001b[0m\u001b[0;34m)\u001b[0m\u001b[0;34m\u001b[0m\u001b[0;34m\u001b[0m\u001b[0m\n\u001b[0m",
      "\u001b[0;31mTypeError\u001b[0m: unsupported operand type(s) for -: 'builtin_function_or_method' and 'float'"
     ]
    }
   ],
   "source": [
    "import time\n",
    "start=time.time()\n",
    "history=model.fit(X_train,y_train,batch_size=1000,epochs=50,\n",
    "          validation_data=(X_test, y_test))\n",
    "end=time.time()\n",
    "print('LSTM multiclass Training finished in {} milisecond!!\\n'.format(end-start))"
   ]
  },
  {
   "cell_type": "code",
   "execution_count": null,
   "metadata": {
    "colab": {
     "base_uri": "https://localhost:8080/"
    },
    "id": "7E17z8oTjRs8",
    "outputId": "2ff8176a-1fb1-4da0-d346-227849c9f597"
   },
   "outputs": [
    {
     "name": "stdout",
     "output_type": "stream",
     "text": [
      "12791/12791 [==============================] - 51s 4ms/step - loss: 0.2828 - acc: 0.9153\n",
      "LSTM multiclass Testing finished in 82.1181321144104 milisecond!!\n",
      "\n",
      "Accuracy on test set: [0.28276142477989197, 0.9153400659561157]\n",
      "Test loss: 0.28276142477989197\n",
      "Test accuracy: 0.9153400659561157\n"
     ]
    }
   ],
   "source": [
    "start=time.time()\n",
    "results = model.evaluate(X_test, y_test)\n",
    "end=time.time()\n",
    "print('LSTM multiclass Testing finished in {} milisecond!!\\n'.format(end-start))\n",
    "print (\"Accuracy on test set:\" , results)\n",
    "print('Test loss:', results[0])\n",
    "print('Test accuracy:', results[1])"
   ]
  },
  {
   "cell_type": "code",
   "execution_count": null,
   "metadata": {
    "colab": {
     "base_uri": "https://localhost:8080/"
    },
    "id": "S3rmaWEWoNyO",
    "outputId": "88a9ac7a-1236-4548-985b-935f5d0c9c8f"
   },
   "outputs": [
    {
     "name": "stdout",
     "output_type": "stream",
     "text": [
      "12791/12791 [==============================] - 49s 4ms/step - loss: 0.2828 - acc: 0.9153\n",
      "Test set\n",
      "   Accuracy: 0.915\n"
     ]
    }
   ],
   "source": [
    "y_pred1 = model.predict(X_test)\n",
    "y_pred1=(y_pred1 > 0.5)\n",
    "accr = model.evaluate(X_test,y_test)\n",
    "rnn_acc=accr[1]\n",
    "print('Test set\\n   Accuracy: {:0.3f}'.format(accr[1]))\n",
    "\n"
   ]
  },
  {
   "cell_type": "code",
   "execution_count": null,
   "metadata": {
    "colab": {
     "base_uri": "https://localhost:8080/"
    },
    "id": "BTGfOL-hoNyP",
    "outputId": "8ed66729-c3c0-49eb-a992-b54c30f58128"
   },
   "outputs": [
    {
     "name": "stdout",
     "output_type": "stream",
     "text": [
      "\n",
      "\n",
      "Precision, Recall, F1\n",
      "\n",
      "\n"
     ]
    },
    {
     "name": "stderr",
     "output_type": "stream",
     "text": [
      "/usr/local/lib/python3.7/dist-packages/sklearn/metrics/_classification.py:1318: UndefinedMetricWarning: Precision and F-score are ill-defined and being set to 0.0 in labels with no predicted samples. Use `zero_division` parameter to control this behavior.\n",
      "  _warn_prf(average, modifier, msg_start, len(result))\n"
     ]
    },
    {
     "name": "stdout",
     "output_type": "stream",
     "text": [
      "              precision    recall  f1-score   support\n",
      "\n",
      "           0       1.00      1.00      1.00      2120\n",
      "           1       1.00      1.00      1.00      2126\n",
      "           2       0.97      1.00      0.99      2119\n",
      "           3       1.00      1.00      1.00     94155\n",
      "           4       0.64      0.06      0.11      2038\n",
      "           5       1.00      1.00      1.00      2066\n",
      "           6       1.00      1.00      1.00      2075\n",
      "           7       0.97      0.99      0.98      2018\n",
      "           8       0.00      0.00      0.00      2060\n",
      "           9       1.00      1.00      1.00      2025\n",
      "          10       0.51      0.02      0.03      2278\n",
      "          11       0.87      0.15      0.26      2075\n",
      "          12       0.95      1.00      0.98      2064\n",
      "          13       0.97      1.00      0.99     74784\n",
      "          14       0.98      1.00      0.99      2005\n",
      "          15       0.79      0.70      0.74      2014\n",
      "          16       0.77      0.98      0.86      5902\n",
      "          17       0.88      0.45      0.60      2165\n",
      "          18       0.53      0.01      0.03      2093\n",
      "          19       1.00      1.00      1.00      2413\n",
      "          20       1.00      1.00      1.00      2102\n",
      "          21       1.00      1.00      1.00      2085\n",
      "          22       0.92      0.93      0.93     83045\n",
      "          23       0.00      0.00      0.00      2021\n",
      "          24       1.00      1.00      1.00      2031\n",
      "          25       0.67      0.39      0.49      2016\n",
      "          26       1.00      1.00      1.00      2078\n",
      "          27       0.82      0.25      0.39      1771\n",
      "          28       0.99      0.97      0.98      1988\n",
      "          29       0.14      0.00      0.00       530\n",
      "          30       0.76      0.12      0.21      2088\n",
      "          31       0.96      0.66      0.78      1076\n",
      "          32       0.00      0.00      0.00      2136\n",
      "          33       1.00      0.95      0.97      2002\n",
      "          34       0.99      1.00      1.00      2055\n",
      "          35       0.00      0.00      0.00      2078\n",
      "          36       0.96      0.93      0.95      9042\n",
      "          37       0.00      0.00      0.00      2059\n",
      "          38       0.00      0.00      0.00      2135\n",
      "          39       0.89      0.97      0.92      2041\n",
      "          40       0.56      0.08      0.14      3916\n",
      "          41       0.50      0.37      0.43      2172\n",
      "          42       1.00      0.99      1.00     20689\n",
      "          43       0.00      0.00      0.00       530\n",
      "          44       0.92      0.70      0.79      1185\n",
      "          45       0.91      0.90      0.90      5609\n",
      "          46       0.76      0.29      0.42      2122\n",
      "          47       0.57      0.07      0.13       832\n",
      "          48       0.00      0.00      0.00      2065\n",
      "          49       0.92      0.99      0.95     18828\n",
      "          50       1.00      0.97      0.99      2107\n",
      "          51       1.00      1.00      1.00      2042\n",
      "          52       0.99      0.97      0.98      2130\n",
      "          53       0.00      0.00      0.00      2021\n",
      "          54       0.82      0.03      0.06      2145\n",
      "          55       0.00      0.00      0.00      1869\n",
      "          56       1.00      1.00      1.00      2072\n",
      "\n",
      "   micro avg       0.96      0.87      0.91    409308\n",
      "   macro avg       0.72      0.59      0.61    409308\n",
      "weighted avg       0.90      0.87      0.87    409308\n",
      " samples avg       0.87      0.87      0.87    409308\n",
      "\n",
      "\n",
      "\n"
     ]
    },
    {
     "name": "stderr",
     "output_type": "stream",
     "text": [
      "/usr/local/lib/python3.7/dist-packages/sklearn/metrics/_classification.py:1318: UndefinedMetricWarning: Precision and F-score are ill-defined and being set to 0.0 in samples with no predicted labels. Use `zero_division` parameter to control this behavior.\n",
      "  _warn_prf(average, modifier, msg_start, len(result))\n"
     ]
    }
   ],
   "source": [
    "from sklearn.metrics import classification_report, confusion_matrix\n",
    "print('\\n')\n",
    "print(\"Precision, Recall, F1\")\n",
    "print('\\n')\n",
    "CR=classification_report(y_test, y_pred1)\n",
    "print(CR)\n",
    "print('\\n')"
   ]
  },
  {
   "cell_type": "code",
   "execution_count": null,
   "metadata": {
    "colab": {
     "base_uri": "https://localhost:8080/",
     "height": 573
    },
    "id": "4sEi6jixoNyQ",
    "outputId": "1d76d328-c0d0-408f-855f-8f732d38530f"
   },
   "outputs": [
    {
     "data": {
      "image/png": "[encoded data removed]",
      "text/plain": [
       "<Figure size 432x288 with 1 Axes>"
      ]
     },
     "metadata": {
      "needs_background": "light"
     },
     "output_type": "display_data"
    },
    {
     "data": {
      "image/png": "[encoded data removed]",
      "text/plain": [
       "<Figure size 432x288 with 1 Axes>"
      ]
     },
     "metadata": {
      "needs_background": "light"
     },
     "output_type": "display_data"
    }
   ],
   "source": [
    "def Training_and_validation_plot(history):\n",
    "    acc = history.history['acc']\n",
    "    val_acc = history.history['val_acc']\n",
    "    loss = history.history['loss']\n",
    "    val_loss = history.history['val_loss']\n",
    "    epochs = range(1, len(acc) + 1)\n",
    "\n",
    "    plt.plot(epochs, acc, 'bo', label = 'Training Accuracy')\n",
    "    plt.plot(epochs, val_acc, 'r', label = 'Validation Accuracy')\n",
    "    plt.title('Training and Validation Accuracy')\n",
    "    plt.xlabel('Epochs')\n",
    "    plt.ylabel('Loss')\n",
    "    plt.legend()\n",
    "\n",
    "    plt.figure()\n",
    "    plt.plot(epochs, loss, 'bo', label = 'Training Loss')\n",
    "    plt.plot(epochs, val_loss, 'r', label = 'Validation Loss')\n",
    "    plt.title('Training and Validation Loss')\n",
    "    plt.xlabel('Epochs')\n",
    "    plt.ylabel('Loss')\n",
    "    plt.legend()\n",
    "    plt.show()\n",
    "Training_and_validation_plot(history)"
   ]
  },
  {
   "cell_type": "code",
   "execution_count": null,
   "metadata": {
    "colab": {
     "base_uri": "https://localhost:8080/",
     "height": 194
    },
    "id": "47aRcFCloNyR",
    "outputId": "670de4c6-fdd2-4efc-ff4e-367b3685554e"
   },
   "outputs": [
    {
     "data": {
      "text/plain": [
       "<matplotlib.legend.Legend at 0x7efdf3d3aad0>"
      ]
     },
     "execution_count": 53,
     "metadata": {},
     "output_type": "execute_result"
    },
    {
     "data": {
      "image/png": "[encoded data removed]",
      "text/plain": [
       "<Figure size 432x288 with 1 Axes>"
      ]
     },
     "metadata": {
      "needs_background": "light"
     },
     "output_type": "display_data"
    }
   ],
   "source": [
    "import matplotlib.pyplot as plot\n",
    "plot.subplot(2,1,1)\n",
    "plot.plot(history.history['acc'])\n",
    "plot.plot(history.history['val_acc'])\n",
    "plot.title('model accuracy')\n",
    "plot.ylabel('accuracy')\n",
    "plot.xlabel('epoch')\n",
    "plot.legend(['train', 'test'], loc='lower right')"
   ]
  },
  {
   "cell_type": "code",
   "execution_count": null,
   "metadata": {
    "colab": {
     "base_uri": "https://localhost:8080/",
     "height": 194
    },
    "id": "VyyIaEeWoNyS",
    "outputId": "9ea6a982-c9d6-49ab-8d90-d4b0321fe4c4"
   },
   "outputs": [
    {
     "data": {
      "text/plain": [
       "<matplotlib.legend.Legend at 0x7efe906ce390>"
      ]
     },
     "execution_count": 54,
     "metadata": {},
     "output_type": "execute_result"
    },
    {
     "data": {
      "image/png": "[encoded data removed]",
      "text/plain": [
       "<Figure size 432x288 with 1 Axes>"
      ]
     },
     "metadata": {
      "needs_background": "light"
     },
     "output_type": "display_data"
    }
   ],
   "source": [
    "plot.subplot(2,1,2)\n",
    "plot.plot(history.history['loss'])\n",
    "plot.plot(history.history['val_loss'])\n",
    "plot.title('model loss')\n",
    "plot.ylabel('loss')\n",
    "plot.xlabel('epoch')\n",
    "plot.legend(['train', 'test'], loc='upper right')"
   ]
  },
  {
   "cell_type": "markdown",
   "metadata": {
    "id": "egJUlpR0wvsA"
   },
   "source": [
    "## 64,1000x50"
   ]
  },
  {
   "cell_type": "code",
   "execution_count": null,
   "metadata": {
    "id": "rpn9BZMawz-F"
   },
   "outputs": [],
   "source": [
    "from tensorflow.keras.optimizers import RMSprop\n",
    "from keras.layers import LSTM, Activation, Dense, Dropout, Input, Conv1D, Embedding, Flatten\n",
    "def RNN_model():\n",
    "    inputs = Input(name='inputs',shape=[max_len])\n",
    "    layer = Embedding(input_dim = max_len + 1,output_dim = 50,input_length=max_len)(inputs)\n",
    "    layer = LSTM(64)(layer)\n",
    "    layer = Flatten()(layer)\n",
    "\n",
    "    layer = Dense(256,name='FC1')(layer)\n",
    "    layer = Activation('relu')(layer)\n",
    "    layer = Dropout(0.5)(layer)\n",
    "\n",
    "    layer = Dense(57,name='out_layer')(layer)\n",
    "    layer = Activation('softmax')(layer)\n",
    "    model = Model(inputs=inputs,outputs=layer)\n",
    "    return model"
   ]
  },
  {
   "cell_type": "code",
   "execution_count": null,
   "metadata": {
    "colab": {
     "base_uri": "https://localhost:8080/"
    },
    "id": "ituhUvaywz-H",
    "outputId": "8a8518f5-ddec-4c6f-8e81-48f0050c1c59"
   },
   "outputs": [
    {
     "name": "stdout",
     "output_type": "stream",
     "text": [
      "Model: \"model\"\n",
      "_________________________________________________________________\n",
      " Layer (type)                Output Shape              Param #   \n",
      "=================================================================\n",
      " inputs (InputLayer)         [(None, 50)]              0         \n",
      "                                                                 \n",
      " embedding (Embedding)       (None, 50, 50)            2550      \n",
      "                                                                 \n",
      " lstm (LSTM)                 (None, 64)                29440     \n",
      "                                                                 \n",
      " flatten (Flatten)           (None, 64)                0         \n",
      "                                                                 \n",
      " FC1 (Dense)                 (None, 256)               16640     \n",
      "                                                                 \n",
      " activation (Activation)     (None, 256)               0         \n",
      "                                                                 \n",
      " dropout (Dropout)           (None, 256)               0         \n",
      "                                                                 \n",
      " out_layer (Dense)           (None, 57)                14649     \n",
      "                                                                 \n",
      " activation_1 (Activation)   (None, 57)                0         \n",
      "                                                                 \n",
      "=================================================================\n",
      "Total params: 63,279\n",
      "Trainable params: 63,279\n",
      "Non-trainable params: 0\n",
      "_________________________________________________________________\n"
     ]
    }
   ],
   "source": [
    "from tensorflow.keras.models import Sequential, Model\n",
    "model = RNN_model()\n",
    "model.summary()\n",
    "model.compile(loss='categorical_crossentropy',optimizer=RMSprop(),metrics=['acc'])"
   ]
  },
  {
   "cell_type": "code",
   "execution_count": null,
   "metadata": {
    "colab": {
     "base_uri": "https://localhost:8080/"
    },
    "id": "Xjdu4-ekwz-J",
    "outputId": "d6132b84-e756-4050-e188-dc84f683db99"
   },
   "outputs": [
    {
     "name": "stdout",
     "output_type": "stream",
     "text": [
      "Epoch 1/50\n",
      "1638/1638 [==============================] - 27s 13ms/step - loss: 1.5645 - acc: 0.5666 - val_loss: 1.1197 - val_acc: 0.6820\n",
      "Epoch 2/50\n",
      "1638/1638 [==============================] - 19s 12ms/step - loss: 0.9979 - acc: 0.7161 - val_loss: 0.8652 - val_acc: 0.7613\n",
      "Epoch 3/50\n",
      "1638/1638 [==============================] - 20s 12ms/step - loss: 0.7791 - acc: 0.7803 - val_loss: 0.6656 - val_acc: 0.8243\n",
      "Epoch 4/50\n",
      "1638/1638 [==============================] - 20s 12ms/step - loss: 0.6400 - acc: 0.8246 - val_loss: 0.5072 - val_acc: 0.8578\n",
      "Epoch 5/50\n",
      "1638/1638 [==============================] - 20s 12ms/step - loss: 0.5498 - acc: 0.8492 - val_loss: 0.4777 - val_acc: 0.8669\n",
      "Epoch 6/50\n",
      "1638/1638 [==============================] - 20s 12ms/step - loss: 0.4877 - acc: 0.8658 - val_loss: 0.4390 - val_acc: 0.8735\n",
      "Epoch 7/50\n",
      "1638/1638 [==============================] - 20s 12ms/step - loss: 0.4471 - acc: 0.8762 - val_loss: 0.3810 - val_acc: 0.8910\n",
      "Epoch 8/50\n",
      "1638/1638 [==============================] - 20s 12ms/step - loss: 0.4195 - acc: 0.8830 - val_loss: 0.3663 - val_acc: 0.8956\n",
      "Epoch 9/50\n",
      "1638/1638 [==============================] - 20s 12ms/step - loss: 0.3997 - acc: 0.8880 - val_loss: 0.3654 - val_acc: 0.8939\n",
      "Epoch 10/50\n",
      "1638/1638 [==============================] - 21s 13ms/step - loss: 0.3840 - acc: 0.8914 - val_loss: 0.3728 - val_acc: 0.8944\n",
      "Epoch 11/50\n",
      "1638/1638 [==============================] - 20s 12ms/step - loss: 0.3704 - acc: 0.8945 - val_loss: 0.3566 - val_acc: 0.8961\n",
      "Epoch 12/50\n",
      "1638/1638 [==============================] - 19s 12ms/step - loss: 0.3586 - acc: 0.8968 - val_loss: 0.3416 - val_acc: 0.8992\n",
      "Epoch 13/50\n",
      "1638/1638 [==============================] - 20s 12ms/step - loss: 0.3476 - acc: 0.8994 - val_loss: 0.3757 - val_acc: 0.8928\n",
      "Epoch 14/50\n",
      "1638/1638 [==============================] - 20s 12ms/step - loss: 0.3366 - acc: 0.9019 - val_loss: 0.3104 - val_acc: 0.9076\n",
      "Epoch 15/50\n",
      "1638/1638 [==============================] - 20s 12ms/step - loss: 0.3274 - acc: 0.9040 - val_loss: 0.3289 - val_acc: 0.9022\n",
      "Epoch 16/50\n",
      "1638/1638 [==============================] - 20s 12ms/step - loss: 0.3179 - acc: 0.9063 - val_loss: 0.3000 - val_acc: 0.9093\n",
      "Epoch 17/50\n",
      "1638/1638 [==============================] - 20s 12ms/step - loss: 0.3090 - acc: 0.9087 - val_loss: 0.2860 - val_acc: 0.9132\n",
      "Epoch 18/50\n",
      "1638/1638 [==============================] - 20s 12ms/step - loss: 0.2998 - acc: 0.9112 - val_loss: 0.3048 - val_acc: 0.9101\n",
      "Epoch 19/50\n",
      "1638/1638 [==============================] - 20s 12ms/step - loss: 0.2920 - acc: 0.9133 - val_loss: 0.2724 - val_acc: 0.9173\n",
      "Epoch 20/50\n",
      "1638/1638 [==============================] - 20s 12ms/step - loss: 0.2848 - acc: 0.9152 - val_loss: 0.2667 - val_acc: 0.9188\n",
      "Epoch 21/50\n",
      "1638/1638 [==============================] - 20s 12ms/step - loss: 0.2771 - acc: 0.9172 - val_loss: 0.2612 - val_acc: 0.9205\n",
      "Epoch 22/50\n",
      "1638/1638 [==============================] - 20s 12ms/step - loss: 0.2706 - acc: 0.9190 - val_loss: 0.2579 - val_acc: 0.9220\n",
      "Epoch 23/50\n",
      "1638/1638 [==============================] - 20s 12ms/step - loss: 0.2644 - acc: 0.9209 - val_loss: 0.2503 - val_acc: 0.9235\n",
      "Epoch 24/50\n",
      "1638/1638 [==============================] - 20s 12ms/step - loss: 0.2576 - acc: 0.9227 - val_loss: 0.2570 - val_acc: 0.9225\n",
      "Epoch 25/50\n",
      "1638/1638 [==============================] - 20s 12ms/step - loss: 0.2520 - acc: 0.9243 - val_loss: 0.2426 - val_acc: 0.9261\n",
      "Epoch 26/50\n",
      "1638/1638 [==============================] - 20s 12ms/step - loss: 0.2469 - acc: 0.9261 - val_loss: 0.2704 - val_acc: 0.9229\n",
      "Epoch 27/50\n",
      "1638/1638 [==============================] - 20s 12ms/step - loss: 0.2416 - acc: 0.9274 - val_loss: 0.2541 - val_acc: 0.9237\n",
      "Epoch 28/50\n",
      "1638/1638 [==============================] - 21s 13ms/step - loss: 0.2370 - acc: 0.9288 - val_loss: 0.2471 - val_acc: 0.9266\n",
      "Epoch 29/50\n",
      "1638/1638 [==============================] - 20s 12ms/step - loss: 0.2331 - acc: 0.9300 - val_loss: 0.2326 - val_acc: 0.9287\n",
      "Epoch 30/50\n",
      "1638/1638 [==============================] - 20s 13ms/step - loss: 0.2289 - acc: 0.9312 - val_loss: 0.2277 - val_acc: 0.9318\n",
      "Epoch 31/50\n",
      "1638/1638 [==============================] - 20s 12ms/step - loss: 0.2254 - acc: 0.9322 - val_loss: 0.2229 - val_acc: 0.9332\n",
      "Epoch 32/50\n",
      "1638/1638 [==============================] - 20s 12ms/step - loss: 0.2221 - acc: 0.9333 - val_loss: 0.2206 - val_acc: 0.9330\n",
      "Epoch 33/50\n",
      "1638/1638 [==============================] - 20s 12ms/step - loss: 0.2193 - acc: 0.9342 - val_loss: 0.2565 - val_acc: 0.9264\n",
      "Epoch 34/50\n",
      "1638/1638 [==============================] - 20s 12ms/step - loss: 0.2155 - acc: 0.9352 - val_loss: 0.2113 - val_acc: 0.9361\n",
      "Epoch 35/50\n",
      "1638/1638 [==============================] - 20s 12ms/step - loss: 0.2128 - acc: 0.9361 - val_loss: 0.2069 - val_acc: 0.9387\n",
      "Epoch 36/50\n",
      "1638/1638 [==============================] - 21s 13ms/step - loss: 0.2104 - acc: 0.9368 - val_loss: 0.2473 - val_acc: 0.9289\n",
      "Epoch 37/50\n",
      "1638/1638 [==============================] - 20s 12ms/step - loss: 0.2081 - acc: 0.9376 - val_loss: 0.2041 - val_acc: 0.9379\n",
      "Epoch 38/50\n",
      "1638/1638 [==============================] - 20s 12ms/step - loss: 0.2054 - acc: 0.9386 - val_loss: 0.2021 - val_acc: 0.9383\n",
      "Epoch 39/50\n",
      "1638/1638 [==============================] - 20s 12ms/step - loss: 0.2040 - acc: 0.9388 - val_loss: 0.2125 - val_acc: 0.9364\n",
      "Epoch 40/50\n",
      "1638/1638 [==============================] - 20s 12ms/step - loss: 0.2011 - acc: 0.9397 - val_loss: 0.1968 - val_acc: 0.9413\n",
      "Epoch 41/50\n",
      "1638/1638 [==============================] - 20s 12ms/step - loss: 0.1995 - acc: 0.9403 - val_loss: 0.1938 - val_acc: 0.9412\n",
      "Epoch 42/50\n",
      "1638/1638 [==============================] - 20s 12ms/step - loss: 0.1980 - acc: 0.9407 - val_loss: 0.2025 - val_acc: 0.9406\n",
      "Epoch 43/50\n",
      "1638/1638 [==============================] - 20s 12ms/step - loss: 0.1966 - acc: 0.9414 - val_loss: 0.1954 - val_acc: 0.9426\n",
      "Epoch 44/50\n",
      "1638/1638 [==============================] - 20s 12ms/step - loss: 0.1953 - acc: 0.9416 - val_loss: 0.1963 - val_acc: 0.9423\n",
      "Epoch 45/50\n",
      "1638/1638 [==============================] - 20s 12ms/step - loss: 0.1941 - acc: 0.9421 - val_loss: 0.1915 - val_acc: 0.9427\n",
      "Epoch 46/50\n",
      "1638/1638 [==============================] - 20s 12ms/step - loss: 0.1928 - acc: 0.9423 - val_loss: 0.1985 - val_acc: 0.9402\n",
      "Epoch 47/50\n",
      "1638/1638 [==============================] - 20s 12ms/step - loss: 0.1916 - acc: 0.9428 - val_loss: 0.1911 - val_acc: 0.9439\n",
      "Epoch 48/50\n",
      "1638/1638 [==============================] - 20s 12ms/step - loss: 0.1908 - acc: 0.9431 - val_loss: 0.1929 - val_acc: 0.9430\n",
      "Epoch 49/50\n",
      "1638/1638 [==============================] - 21s 13ms/step - loss: 0.1899 - acc: 0.9436 - val_loss: 0.2107 - val_acc: 0.9397\n",
      "Epoch 50/50\n",
      "1638/1638 [==============================] - 20s 12ms/step - loss: 0.1884 - acc: 0.9442 - val_loss: 0.1838 - val_acc: 0.9453\n",
      "LSTM multiclass Training finished in 1043.9388401508331 milisecond!!\n",
      "\n"
     ]
    }
   ],
   "source": [
    "import time\n",
    "start=time.time()\n",
    "history=model.fit(X_train,y_train,batch_size=1000,epochs=50,\n",
    "          validation_data=(X_test, y_test))\n",
    "end=time.time()\n",
    "print('LSTM multiclass Training finished in {} milisecond!!\\n'.format(end-start))"
   ]
  },
  {
   "cell_type": "code",
   "execution_count": null,
   "metadata": {
    "colab": {
     "base_uri": "https://localhost:8080/"
    },
    "id": "9ampS0Qcwz-J",
    "outputId": "5fe4e99c-bc03-4a0a-9276-69b98c8fac1d"
   },
   "outputs": [
    {
     "name": "stdout",
     "output_type": "stream",
     "text": [
      "12791/12791 [==============================] - 63s 5ms/step - loss: 0.1838 - acc: 0.9453\n",
      "LSTM multiclass Testing finished in 82.12185955047607 milisecond!!\n",
      "\n",
      "Accuracy on test set: [0.18376906216144562, 0.9452710151672363]\n",
      "Test loss: 0.18376906216144562\n",
      "Test accuracy: 0.9452710151672363\n"
     ]
    }
   ],
   "source": [
    "start=time.time()\n",
    "results = model.evaluate(X_test, y_test)\n",
    "end=time.time()\n",
    "print('LSTM multiclass Testing finished in {} milisecond!!\\n'.format(end-start))\n",
    "print (\"Accuracy on test set:\" , results)\n",
    "print('Test loss:', results[0])\n",
    "print('Test accuracy:', results[1])"
   ]
  },
  {
   "cell_type": "code",
   "execution_count": null,
   "metadata": {
    "colab": {
     "base_uri": "https://localhost:8080/"
    },
    "id": "ddmiTktswz-K",
    "outputId": "03362a3f-9178-4c81-e38c-f673f6a945dd"
   },
   "outputs": [
    {
     "name": "stdout",
     "output_type": "stream",
     "text": [
      "12791/12791 [==============================] - 49s 4ms/step - loss: 0.1838 - acc: 0.9453\n",
      "Test set\n",
      "   Accuracy: 0.945\n"
     ]
    }
   ],
   "source": [
    "y_pred1 = model.predict(X_test)\n",
    "y_pred1=(y_pred1 > 0.5)\n",
    "accr = model.evaluate(X_test,y_test)\n",
    "rnn_acc=accr[1]\n",
    "print('Test set\\n   Accuracy: {:0.3f}'.format(accr[1]))\n",
    "\n"
   ]
  },
  {
   "cell_type": "code",
   "execution_count": null,
   "metadata": {
    "colab": {
     "base_uri": "https://localhost:8080/"
    },
    "id": "15as9Pewwz-L",
    "outputId": "b6d5a16f-4b9a-4eb3-9849-b9aef59547a3"
   },
   "outputs": [
    {
     "name": "stdout",
     "output_type": "stream",
     "text": [
      "\n",
      "\n",
      "Precision, Recall, F1\n",
      "\n",
      "\n"
     ]
    },
    {
     "name": "stderr",
     "output_type": "stream",
     "text": [
      "/usr/local/lib/python3.7/dist-packages/sklearn/metrics/_classification.py:1318: UndefinedMetricWarning: Precision and F-score are ill-defined and being set to 0.0 in labels with no predicted samples. Use `zero_division` parameter to control this behavior.\n",
      "  _warn_prf(average, modifier, msg_start, len(result))\n"
     ]
    },
    {
     "name": "stdout",
     "output_type": "stream",
     "text": [
      "              precision    recall  f1-score   support\n",
      "\n",
      "           0       1.00      1.00      1.00      2075\n",
      "           1       1.00      1.00      1.00      2096\n",
      "           2       1.00      1.00      1.00      2038\n",
      "           3       1.00      1.00      1.00     93605\n",
      "           4       0.72      0.49      0.58      2044\n",
      "           5       1.00      1.00      1.00      2036\n",
      "           6       1.00      1.00      1.00      2029\n",
      "           7       0.99      1.00      0.99      2063\n",
      "           8       0.75      0.31      0.44      2111\n",
      "           9       1.00      1.00      1.00      2011\n",
      "          10       0.51      0.05      0.09      2235\n",
      "          11       0.87      0.30      0.45      2083\n",
      "          12       1.00      1.00      1.00      2107\n",
      "          13       0.98      1.00      0.99     74830\n",
      "          14       0.99      1.00      1.00      2075\n",
      "          15       0.97      0.98      0.97      2092\n",
      "          16       0.78      0.97      0.86      6084\n",
      "          17       0.89      0.86      0.87      2046\n",
      "          18       0.93      0.94      0.94      2103\n",
      "          19       1.00      0.99      1.00      2412\n",
      "          20       1.00      1.00      1.00      2113\n",
      "          21       1.00      1.00      1.00      2026\n",
      "          22       0.96      0.95      0.96     83065\n",
      "          23       0.00      0.00      0.00      1977\n",
      "          24       1.00      1.00      1.00      2156\n",
      "          25       0.79      0.66      0.72      2077\n",
      "          26       1.00      1.00      1.00      2112\n",
      "          27       0.88      0.39      0.54      1724\n",
      "          28       0.99      0.99      0.99      2004\n",
      "          29       0.67      0.21      0.32       540\n",
      "          30       0.87      0.11      0.20      2137\n",
      "          31       0.92      0.78      0.84      1055\n",
      "          32       0.77      0.65      0.71      2147\n",
      "          33       1.00      1.00      1.00      2155\n",
      "          34       1.00      1.00      1.00      2127\n",
      "          35       0.96      0.99      0.98      2098\n",
      "          36       0.94      0.98      0.96      8892\n",
      "          37       0.70      0.19      0.30      2152\n",
      "          38       0.91      0.97      0.94      2072\n",
      "          39       0.92      0.97      0.95      2041\n",
      "          40       0.57      0.15      0.23      3992\n",
      "          41       0.67      0.58      0.62      2197\n",
      "          42       1.00      0.99      1.00     20705\n",
      "          43       0.62      0.08      0.14       511\n",
      "          44       0.93      0.81      0.86      1208\n",
      "          45       0.93      0.98      0.95      5602\n",
      "          46       0.94      0.91      0.93      2127\n",
      "          47       0.69      0.41      0.52       882\n",
      "          48       0.88      0.99      0.93      2027\n",
      "          49       0.96      0.99      0.97     18634\n",
      "          50       1.00      1.00      1.00      2128\n",
      "          51       1.00      1.00      1.00      2114\n",
      "          52       1.00      1.00      1.00      2103\n",
      "          53       0.89      0.77      0.82      2090\n",
      "          54       0.97      0.99      0.98      2138\n",
      "          55       0.67      0.48      0.56      1956\n",
      "          56       1.00      1.00      1.00      2049\n",
      "\n",
      "   micro avg       0.97      0.93      0.95    409308\n",
      "   macro avg       0.88      0.79      0.81    409308\n",
      "weighted avg       0.95      0.93      0.93    409308\n",
      " samples avg       0.93      0.93      0.93    409308\n",
      "\n",
      "\n",
      "\n"
     ]
    },
    {
     "name": "stderr",
     "output_type": "stream",
     "text": [
      "/usr/local/lib/python3.7/dist-packages/sklearn/metrics/_classification.py:1318: UndefinedMetricWarning: Precision and F-score are ill-defined and being set to 0.0 in samples with no predicted labels. Use `zero_division` parameter to control this behavior.\n",
      "  _warn_prf(average, modifier, msg_start, len(result))\n"
     ]
    }
   ],
   "source": [
    "from sklearn.metrics import classification_report, confusion_matrix\n",
    "print('\\n')\n",
    "print(\"Precision, Recall, F1\")\n",
    "print('\\n')\n",
    "CR=classification_report(y_test, y_pred1)\n",
    "print(CR)\n",
    "print('\\n')"
   ]
  },
  {
   "cell_type": "code",
   "execution_count": null,
   "metadata": {
    "colab": {
     "base_uri": "https://localhost:8080/",
     "height": 573
    },
    "id": "a_1xxuODwz-L",
    "outputId": "65ab89a9-b482-447a-cbf5-8aeafba6e167"
   },
   "outputs": [
    {
     "data": {
      "image/png": "[encoded data removed]",
      "text/plain": [
       "<Figure size 432x288 with 1 Axes>"
      ]
     },
     "metadata": {
      "needs_background": "light"
     },
     "output_type": "display_data"
    },
    {
     "data": {
      "image/png": "[encoded data removed]",
      "text/plain": [
       "<Figure size 432x288 with 1 Axes>"
      ]
     },
     "metadata": {
      "needs_background": "light"
     },
     "output_type": "display_data"
    }
   ],
   "source": [
    "def Training_and_validation_plot(history):\n",
    "    acc = history.history['acc']\n",
    "    val_acc = history.history['val_acc']\n",
    "    loss = history.history['loss']\n",
    "    val_loss = history.history['val_loss']\n",
    "    epochs = range(1, len(acc) + 1)\n",
    "\n",
    "    plt.plot(epochs, acc, 'bo', label = 'Training Accuracy')\n",
    "    plt.plot(epochs, val_acc, 'r', label = 'Validation Accuracy')\n",
    "    plt.title('Training and Validation Accuracy')\n",
    "    plt.xlabel('Epochs')\n",
    "    plt.ylabel('Loss')\n",
    "    plt.legend()\n",
    "\n",
    "    plt.figure()\n",
    "    plt.plot(epochs, loss, 'bo', label = 'Training Loss')\n",
    "    plt.plot(epochs, val_loss, 'r', label = 'Validation Loss')\n",
    "    plt.title('Training and Validation Loss')\n",
    "    plt.xlabel('Epochs')\n",
    "    plt.ylabel('Loss')\n",
    "    plt.legend()\n",
    "    plt.show()\n",
    "Training_and_validation_plot(history)"
   ]
  },
  {
   "cell_type": "code",
   "execution_count": null,
   "metadata": {
    "colab": {
     "base_uri": "https://localhost:8080/"
    },
    "id": "g8odlfrhwz-M",
    "outputId": "847950dc-b3f0-4c99-eb89-7e91cb081d18"
   },
   "outputs": [
    {
     "name": "stderr",
     "output_type": "stream",
     "text": [
      "WARNING:absl:Found untraced functions such as lstm_cell_layer_call_fn, lstm_cell_layer_call_and_return_conditional_losses while saving (showing 2 of 2). These functions will not be directly callable after loading.\n"
     ]
    },
    {
     "name": "stdout",
     "output_type": "stream",
     "text": [
      "INFO:tensorflow:Assets written to: ram://3ae25cdd-4cca-4188-b753-d13f910754a2/assets\n"
     ]
    },
    {
     "name": "stderr",
     "output_type": "stream",
     "text": [
      "INFO:tensorflow:Assets written to: ram://3ae25cdd-4cca-4188-b753-d13f910754a2/assets\n",
      "WARNING:absl:<keras.layers.recurrent.LSTMCell object at 0x7f629b8873d0> has the same name 'LSTMCell' as a built-in Keras object. Consider renaming <class 'keras.layers.recurrent.LSTMCell'> to avoid naming conflicts when loading with `tf.keras.models.load_model`. If renaming is not possible, pass the object in the `custom_objects` parameter of the load function.\n"
     ]
    }
   ],
   "source": [
    "import pickle\n",
    "# save the model to disk\n",
    "filename = '/content/drive/My Drive/Colab Notebooks/MCLS_lstmmodel64,1000x50.sav'\n",
    "pickle.dump(model, open(filename, 'wb'))"
   ]
  },
  {
   "cell_type": "code",
   "execution_count": null,
   "metadata": {
    "colab": {
     "base_uri": "https://localhost:8080/",
     "height": 194
    },
    "id": "TO9iO8Huwz-N",
    "outputId": "1b282394-aaa2-451b-87d7-a4554a71563e"
   },
   "outputs": [
    {
     "data": {
      "text/plain": [
       "<matplotlib.legend.Legend at 0x7f629308e850>"
      ]
     },
     "execution_count": 22,
     "metadata": {},
     "output_type": "execute_result"
    },
    {
     "data": {
      "image/png": "[encoded data removed]",
      "text/plain": [
       "<Figure size 432x288 with 1 Axes>"
      ]
     },
     "metadata": {
      "needs_background": "light"
     },
     "output_type": "display_data"
    }
   ],
   "source": [
    "import matplotlib.pyplot as plot\n",
    "plot.subplot(2,1,1)\n",
    "plot.plot(history.history['acc'])\n",
    "plot.plot(history.history['val_acc'])\n",
    "plot.title('model accuracy')\n",
    "plot.ylabel('accuracy')\n",
    "plot.xlabel('epoch')\n",
    "plot.legend(['train', 'test'], loc='lower right')"
   ]
  },
  {
   "cell_type": "code",
   "execution_count": null,
   "metadata": {
    "colab": {
     "base_uri": "https://localhost:8080/",
     "height": 194
    },
    "id": "z70h-Y2Dwz-O",
    "outputId": "64eef9eb-3a12-4b9f-a24c-c8b44fcda9d9"
   },
   "outputs": [
    {
     "data": {
      "text/plain": [
       "<matplotlib.legend.Legend at 0x7f62930c12d0>"
      ]
     },
     "execution_count": 23,
     "metadata": {},
     "output_type": "execute_result"
    },
    {
     "data": {
      "image/png": "[encoded data removed]",
      "text/plain": [
       "<Figure size 432x288 with 1 Axes>"
      ]
     },
     "metadata": {
      "needs_background": "light"
     },
     "output_type": "display_data"
    }
   ],
   "source": [
    "plot.subplot(2,1,2)\n",
    "plot.plot(history.history['loss'])\n",
    "plot.plot(history.history['val_loss'])\n",
    "plot.title('model loss')\n",
    "plot.ylabel('loss')\n",
    "plot.xlabel('epoch')\n",
    "plot.legend(['train', 'test'], loc='upper right')"
   ]
  },
  {
   "cell_type": "markdown",
   "metadata": {
    "id": "02-qT_k86MQy"
   },
   "source": [
    "## 64,1000x100"
   ]
  },
  {
   "cell_type": "code",
   "execution_count": null,
   "metadata": {
    "id": "NHsBCzXQ6PHg"
   },
   "outputs": [],
   "source": [
    "from tensorflow.keras.optimizers import RMSprop\n",
    "from keras.layers import LSTM, Activation, Dense, Dropout, Input, Conv1D, Embedding, Flatten\n",
    "def RNN_model():\n",
    "    inputs = Input(name='inputs',shape=[max_len])\n",
    "    layer = Embedding(input_dim = max_len + 1,output_dim = 50,input_length=max_len)(inputs)\n",
    "    layer = LSTM(64)(layer)\n",
    "    layer = Flatten()(layer)\n",
    "\n",
    "    layer = Dense(256,name='FC1')(layer)\n",
    "    layer = Activation('relu')(layer)\n",
    "    layer = Dropout(0.5)(layer)\n",
    "\n",
    "    layer = Dense(57,name='out_layer')(layer)\n",
    "    layer = Activation('softmax')(layer)\n",
    "    model = Model(inputs=inputs,outputs=layer)\n",
    "    return model"
   ]
  },
  {
   "cell_type": "code",
   "execution_count": null,
   "metadata": {
    "colab": {
     "base_uri": "https://localhost:8080/"
    },
    "id": "Ml0Umnib6PHh",
    "outputId": "cfd93cf3-155a-4ac2-baa3-0d6c05c3fd64"
   },
   "outputs": [
    {
     "name": "stdout",
     "output_type": "stream",
     "text": [
      "Model: \"model_1\"\n",
      "_________________________________________________________________\n",
      " Layer (type)                Output Shape              Param #   \n",
      "=================================================================\n",
      " inputs (InputLayer)         [(None, 50)]              0         \n",
      "                                                                 \n",
      " embedding_1 (Embedding)     (None, 50, 50)            2550      \n",
      "                                                                 \n",
      " lstm_1 (LSTM)               (None, 64)                29440     \n",
      "                                                                 \n",
      " flatten_1 (Flatten)         (None, 64)                0         \n",
      "                                                                 \n",
      " FC1 (Dense)                 (None, 256)               16640     \n",
      "                                                                 \n",
      " activation_2 (Activation)   (None, 256)               0         \n",
      "                                                                 \n",
      " dropout_1 (Dropout)         (None, 256)               0         \n",
      "                                                                 \n",
      " out_layer (Dense)           (None, 57)                14649     \n",
      "                                                                 \n",
      " activation_3 (Activation)   (None, 57)                0         \n",
      "                                                                 \n",
      "=================================================================\n",
      "Total params: 63,279\n",
      "Trainable params: 63,279\n",
      "Non-trainable params: 0\n",
      "_________________________________________________________________\n"
     ]
    }
   ],
   "source": [
    "from tensorflow.keras.models import Sequential, Model\n",
    "model = RNN_model()\n",
    "model.summary()\n",
    "model.compile(loss='categorical_crossentropy',optimizer=RMSprop(),metrics=['acc'])"
   ]
  },
  {
   "cell_type": "code",
   "execution_count": null,
   "metadata": {
    "colab": {
     "base_uri": "https://localhost:8080/"
    },
    "id": "CC95U5Hx6PHi",
    "outputId": "b7248b32-e577-4efe-f4a3-7319fda520b0"
   },
   "outputs": [
    {
     "name": "stdout",
     "output_type": "stream",
     "text": [
      "Epoch 1/100\n",
      "1638/1638 [==============================] - 23s 12ms/step - loss: 1.5795 - acc: 0.5610 - val_loss: 1.0225 - val_acc: 0.6975\n",
      "Epoch 2/100\n",
      "1638/1638 [==============================] - 20s 12ms/step - loss: 1.0094 - acc: 0.7155 - val_loss: 0.7933 - val_acc: 0.7634\n",
      "Epoch 3/100\n",
      "1638/1638 [==============================] - 20s 12ms/step - loss: 0.8064 - acc: 0.7717 - val_loss: 0.8172 - val_acc: 0.7991\n",
      "Epoch 4/100\n",
      "1638/1638 [==============================] - 20s 12ms/step - loss: 0.6616 - acc: 0.8185 - val_loss: 0.5706 - val_acc: 0.8425\n",
      "Epoch 5/100\n",
      "1638/1638 [==============================] - 20s 12ms/step - loss: 0.5699 - acc: 0.8442 - val_loss: 0.4823 - val_acc: 0.8621\n",
      "Epoch 6/100\n",
      "1638/1638 [==============================] - 20s 12ms/step - loss: 0.5174 - acc: 0.8583 - val_loss: 0.4482 - val_acc: 0.8741\n",
      "Epoch 7/100\n",
      "1638/1638 [==============================] - 20s 12ms/step - loss: 0.4806 - acc: 0.8666 - val_loss: 0.5302 - val_acc: 0.8628\n",
      "Epoch 8/100\n",
      "1638/1638 [==============================] - 20s 12ms/step - loss: 0.4463 - acc: 0.8746 - val_loss: 0.3912 - val_acc: 0.8887\n",
      "Epoch 9/100\n",
      "1638/1638 [==============================] - 21s 13ms/step - loss: 0.4177 - acc: 0.8824 - val_loss: 0.3976 - val_acc: 0.8851\n",
      "Epoch 10/100\n",
      "1638/1638 [==============================] - 20s 12ms/step - loss: 0.3993 - acc: 0.8872 - val_loss: 0.3679 - val_acc: 0.8909\n",
      "Epoch 11/100\n",
      "1638/1638 [==============================] - 20s 12ms/step - loss: 0.3873 - acc: 0.8900 - val_loss: 0.3463 - val_acc: 0.8982\n",
      "Epoch 12/100\n",
      "1638/1638 [==============================] - 20s 12ms/step - loss: 0.3756 - acc: 0.8926 - val_loss: 0.3359 - val_acc: 0.8998\n",
      "Epoch 13/100\n",
      "1638/1638 [==============================] - 20s 12ms/step - loss: 0.3631 - acc: 0.8951 - val_loss: 0.3323 - val_acc: 0.9015\n",
      "Epoch 14/100\n",
      "1638/1638 [==============================] - 20s 12ms/step - loss: 0.3562 - acc: 0.8974 - val_loss: 0.3438 - val_acc: 0.8999\n",
      "Epoch 15/100\n",
      "1638/1638 [==============================] - 20s 12ms/step - loss: 0.3478 - acc: 0.8991 - val_loss: 0.3268 - val_acc: 0.9032\n",
      "Epoch 16/100\n",
      "1638/1638 [==============================] - 20s 12ms/step - loss: 0.3384 - acc: 0.9013 - val_loss: 0.3133 - val_acc: 0.9070\n",
      "Epoch 17/100\n",
      "1638/1638 [==============================] - 20s 12ms/step - loss: 0.3292 - acc: 0.9036 - val_loss: 0.3058 - val_acc: 0.9087\n",
      "Epoch 18/100\n",
      "1638/1638 [==============================] - 20s 12ms/step - loss: 0.3201 - acc: 0.9060 - val_loss: 0.3133 - val_acc: 0.9068\n",
      "Epoch 19/100\n",
      "1638/1638 [==============================] - 20s 12ms/step - loss: 0.3110 - acc: 0.9082 - val_loss: 0.2911 - val_acc: 0.9109\n",
      "Epoch 20/100\n",
      "1638/1638 [==============================] - 20s 12ms/step - loss: 0.3026 - acc: 0.9105 - val_loss: 0.3101 - val_acc: 0.9083\n",
      "Epoch 21/100\n",
      "1638/1638 [==============================] - 20s 12ms/step - loss: 0.2945 - acc: 0.9124 - val_loss: 0.2781 - val_acc: 0.9154\n",
      "Epoch 22/100\n",
      "1638/1638 [==============================] - 20s 12ms/step - loss: 0.2876 - acc: 0.9145 - val_loss: 0.2851 - val_acc: 0.9140\n",
      "Epoch 23/100\n",
      "1638/1638 [==============================] - 20s 12ms/step - loss: 0.2793 - acc: 0.9165 - val_loss: 0.2711 - val_acc: 0.9175\n",
      "Epoch 24/100\n",
      "1638/1638 [==============================] - 20s 12ms/step - loss: 0.2735 - acc: 0.9179 - val_loss: 0.3820 - val_acc: 0.8883\n",
      "Epoch 25/100\n",
      "1638/1638 [==============================] - 20s 12ms/step - loss: 0.2673 - acc: 0.9198 - val_loss: 0.2509 - val_acc: 0.9227\n",
      "Epoch 26/100\n",
      "1638/1638 [==============================] - 21s 13ms/step - loss: 0.2625 - acc: 0.9212 - val_loss: 0.2812 - val_acc: 0.9163\n",
      "Epoch 27/100\n",
      "1638/1638 [==============================] - 20s 12ms/step - loss: 0.2568 - acc: 0.9228 - val_loss: 0.2590 - val_acc: 0.9227\n",
      "Epoch 28/100\n",
      "1638/1638 [==============================] - 20s 12ms/step - loss: 0.2515 - acc: 0.9244 - val_loss: 0.2509 - val_acc: 0.9237\n",
      "Epoch 29/100\n",
      "1638/1638 [==============================] - 20s 12ms/step - loss: 0.2469 - acc: 0.9257 - val_loss: 0.2377 - val_acc: 0.9271\n",
      "Epoch 30/100\n",
      "1638/1638 [==============================] - 20s 12ms/step - loss: 0.2440 - acc: 0.9266 - val_loss: 0.2467 - val_acc: 0.9271\n",
      "Epoch 31/100\n",
      "1638/1638 [==============================] - 20s 12ms/step - loss: 0.2394 - acc: 0.9279 - val_loss: 0.2452 - val_acc: 0.9241\n",
      "Epoch 32/100\n",
      "1638/1638 [==============================] - 20s 12ms/step - loss: 0.2353 - acc: 0.9293 - val_loss: 0.2156 - val_acc: 0.9346\n",
      "Epoch 33/100\n",
      "1638/1638 [==============================] - 20s 12ms/step - loss: 0.2321 - acc: 0.9302 - val_loss: 0.2160 - val_acc: 0.9349\n",
      "Epoch 34/100\n",
      "1638/1638 [==============================] - 20s 12ms/step - loss: 0.2296 - acc: 0.9311 - val_loss: 0.2215 - val_acc: 0.9330\n",
      "Epoch 35/100\n",
      "1638/1638 [==============================] - 20s 12ms/step - loss: 0.2264 - acc: 0.9321 - val_loss: 0.2134 - val_acc: 0.9355\n",
      "Epoch 36/100\n",
      "1638/1638 [==============================] - 20s 12ms/step - loss: 0.2235 - acc: 0.9328 - val_loss: 0.2434 - val_acc: 0.9301\n",
      "Epoch 37/100\n",
      "1638/1638 [==============================] - 20s 12ms/step - loss: 0.2199 - acc: 0.9340 - val_loss: 0.2215 - val_acc: 0.9326\n",
      "Epoch 38/100\n",
      "1638/1638 [==============================] - 21s 13ms/step - loss: 0.2177 - acc: 0.9347 - val_loss: 0.2158 - val_acc: 0.9358\n",
      "Epoch 39/100\n",
      "1638/1638 [==============================] - 20s 12ms/step - loss: 0.2155 - acc: 0.9355 - val_loss: 0.2221 - val_acc: 0.9343\n",
      "Epoch 40/100\n",
      "1638/1638 [==============================] - 20s 12ms/step - loss: 0.2128 - acc: 0.9362 - val_loss: 0.2197 - val_acc: 0.9345\n",
      "Epoch 41/100\n",
      "1638/1638 [==============================] - 20s 12ms/step - loss: 0.2109 - acc: 0.9370 - val_loss: 0.2028 - val_acc: 0.9389\n",
      "Epoch 42/100\n",
      "1638/1638 [==============================] - 21s 13ms/step - loss: 0.2085 - acc: 0.9375 - val_loss: 0.2030 - val_acc: 0.9399\n",
      "Epoch 43/100\n",
      "1638/1638 [==============================] - 20s 12ms/step - loss: 0.2068 - acc: 0.9381 - val_loss: 0.2206 - val_acc: 0.9339\n",
      "Epoch 44/100\n",
      "1638/1638 [==============================] - 20s 12ms/step - loss: 0.2044 - acc: 0.9389 - val_loss: 0.2072 - val_acc: 0.9384\n",
      "Epoch 45/100\n",
      "1638/1638 [==============================] - 20s 12ms/step - loss: 0.2028 - acc: 0.9394 - val_loss: 0.2499 - val_acc: 0.9260\n",
      "Epoch 46/100\n",
      "1638/1638 [==============================] - 20s 12ms/step - loss: 0.2012 - acc: 0.9399 - val_loss: 0.2031 - val_acc: 0.9409\n",
      "Epoch 47/100\n",
      "1638/1638 [==============================] - 21s 13ms/step - loss: 0.1992 - acc: 0.9405 - val_loss: 0.2030 - val_acc: 0.9388\n",
      "Epoch 48/100\n",
      "1638/1638 [==============================] - 20s 12ms/step - loss: 0.1984 - acc: 0.9410 - val_loss: 0.1988 - val_acc: 0.9418\n",
      "Epoch 49/100\n",
      "1638/1638 [==============================] - 20s 12ms/step - loss: 0.1959 - acc: 0.9416 - val_loss: 0.1989 - val_acc: 0.9409\n",
      "Epoch 50/100\n",
      "1638/1638 [==============================] - 20s 12ms/step - loss: 0.1946 - acc: 0.9420 - val_loss: 0.2249 - val_acc: 0.9355\n",
      "Epoch 51/100\n",
      "1638/1638 [==============================] - 21s 13ms/step - loss: 0.1931 - acc: 0.9424 - val_loss: 0.2015 - val_acc: 0.9405\n",
      "Epoch 52/100\n",
      "1638/1638 [==============================] - 20s 12ms/step - loss: 0.1920 - acc: 0.9430 - val_loss: 0.1971 - val_acc: 0.9423\n",
      "Epoch 53/100\n",
      "1638/1638 [==============================] - 20s 12ms/step - loss: 0.1909 - acc: 0.9433 - val_loss: 0.1927 - val_acc: 0.9426\n",
      "Epoch 54/100\n",
      "1638/1638 [==============================] - 20s 12ms/step - loss: 0.1899 - acc: 0.9435 - val_loss: 0.1957 - val_acc: 0.9411\n",
      "Epoch 55/100\n",
      "1638/1638 [==============================] - 21s 13ms/step - loss: 0.1887 - acc: 0.9440 - val_loss: 0.1914 - val_acc: 0.9433\n",
      "Epoch 56/100\n",
      "1638/1638 [==============================] - 20s 12ms/step - loss: 0.1870 - acc: 0.9445 - val_loss: 0.1852 - val_acc: 0.9452\n",
      "Epoch 57/100\n",
      "1638/1638 [==============================] - 20s 12ms/step - loss: 0.1866 - acc: 0.9448 - val_loss: 0.1887 - val_acc: 0.9436\n",
      "Epoch 58/100\n",
      "1638/1638 [==============================] - 20s 12ms/step - loss: 0.1852 - acc: 0.9452 - val_loss: 0.1856 - val_acc: 0.9457\n",
      "Epoch 59/100\n",
      "1638/1638 [==============================] - 20s 12ms/step - loss: 0.1841 - acc: 0.9455 - val_loss: 0.1946 - val_acc: 0.9417\n",
      "Epoch 60/100\n",
      "1638/1638 [==============================] - 20s 12ms/step - loss: 0.1839 - acc: 0.9456 - val_loss: 0.1859 - val_acc: 0.9456\n",
      "Epoch 61/100\n",
      "1638/1638 [==============================] - 20s 12ms/step - loss: 0.1818 - acc: 0.9463 - val_loss: 0.1863 - val_acc: 0.9459\n",
      "Epoch 62/100\n",
      "1638/1638 [==============================] - 20s 12ms/step - loss: 0.1811 - acc: 0.9464 - val_loss: 0.2004 - val_acc: 0.9440\n",
      "Epoch 63/100\n",
      "1638/1638 [==============================] - 20s 12ms/step - loss: 0.1807 - acc: 0.9468 - val_loss: 0.1878 - val_acc: 0.9450\n",
      "Epoch 64/100\n",
      "1638/1638 [==============================] - 21s 13ms/step - loss: 0.1789 - acc: 0.9472 - val_loss: 0.1845 - val_acc: 0.9470\n",
      "Epoch 65/100\n",
      "1638/1638 [==============================] - 20s 12ms/step - loss: 0.1783 - acc: 0.9475 - val_loss: 0.1888 - val_acc: 0.9450\n",
      "Epoch 66/100\n",
      "1638/1638 [==============================] - 20s 12ms/step - loss: 0.1773 - acc: 0.9477 - val_loss: 0.1840 - val_acc: 0.9466\n",
      "Epoch 67/100\n",
      "1638/1638 [==============================] - 20s 12ms/step - loss: 0.1763 - acc: 0.9480 - val_loss: 0.1849 - val_acc: 0.9472\n",
      "Epoch 68/100\n",
      "1638/1638 [==============================] - 20s 12ms/step - loss: 0.1758 - acc: 0.9483 - val_loss: 0.1793 - val_acc: 0.9471\n",
      "Epoch 69/100\n",
      "1638/1638 [==============================] - 20s 12ms/step - loss: 0.1747 - acc: 0.9485 - val_loss: 0.1721 - val_acc: 0.9499\n",
      "Epoch 70/100\n",
      "1638/1638 [==============================] - 20s 12ms/step - loss: 0.1739 - acc: 0.9487 - val_loss: 0.1887 - val_acc: 0.9445\n",
      "Epoch 71/100\n",
      "1638/1638 [==============================] - 20s 12ms/step - loss: 0.1731 - acc: 0.9490 - val_loss: 0.1827 - val_acc: 0.9464\n",
      "Epoch 72/100\n",
      "1638/1638 [==============================] - 20s 12ms/step - loss: 0.1726 - acc: 0.9493 - val_loss: 0.1769 - val_acc: 0.9480\n",
      "Epoch 73/100\n",
      "1638/1638 [==============================] - 20s 12ms/step - loss: 0.1721 - acc: 0.9493 - val_loss: 0.1976 - val_acc: 0.9422\n",
      "Epoch 74/100\n",
      "1638/1638 [==============================] - 20s 12ms/step - loss: 0.1713 - acc: 0.9495 - val_loss: 0.1799 - val_acc: 0.9475\n",
      "Epoch 75/100\n",
      "1638/1638 [==============================] - 20s 12ms/step - loss: 0.1708 - acc: 0.9497 - val_loss: 0.1725 - val_acc: 0.9508\n",
      "Epoch 76/100\n",
      "1638/1638 [==============================] - 20s 12ms/step - loss: 0.1730 - acc: 0.9497 - val_loss: 0.1823 - val_acc: 0.9468\n",
      "Epoch 77/100\n",
      "1638/1638 [==============================] - 20s 12ms/step - loss: 0.1697 - acc: 0.9502 - val_loss: 0.1878 - val_acc: 0.9459\n",
      "Epoch 78/100\n",
      "1638/1638 [==============================] - 20s 12ms/step - loss: 0.1693 - acc: 0.9504 - val_loss: 0.1692 - val_acc: 0.9519\n",
      "Epoch 79/100\n",
      "1638/1638 [==============================] - 20s 12ms/step - loss: 0.1688 - acc: 0.9505 - val_loss: 0.1772 - val_acc: 0.9488\n",
      "Epoch 80/100\n",
      "1638/1638 [==============================] - 20s 12ms/step - loss: 0.1681 - acc: 0.9507 - val_loss: 0.1800 - val_acc: 0.9483\n",
      "Epoch 81/100\n",
      "1638/1638 [==============================] - 20s 12ms/step - loss: 0.1680 - acc: 0.9507 - val_loss: 0.1932 - val_acc: 0.9440\n",
      "Epoch 82/100\n",
      "1638/1638 [==============================] - 20s 12ms/step - loss: 0.1677 - acc: 0.9509 - val_loss: 0.1749 - val_acc: 0.9499\n",
      "Epoch 83/100\n",
      "1638/1638 [==============================] - 20s 12ms/step - loss: 0.1671 - acc: 0.9509 - val_loss: 0.1691 - val_acc: 0.9518\n",
      "Epoch 84/100\n",
      "1638/1638 [==============================] - 20s 12ms/step - loss: 0.1670 - acc: 0.9514 - val_loss: 0.1699 - val_acc: 0.9510\n",
      "Epoch 85/100\n",
      "1638/1638 [==============================] - 20s 12ms/step - loss: 0.1663 - acc: 0.9514 - val_loss: 0.1988 - val_acc: 0.9461\n",
      "Epoch 86/100\n",
      "1638/1638 [==============================] - 20s 12ms/step - loss: 0.1657 - acc: 0.9514 - val_loss: 0.1789 - val_acc: 0.9478\n",
      "Epoch 87/100\n",
      "1638/1638 [==============================] - 20s 12ms/step - loss: 0.1652 - acc: 0.9516 - val_loss: 0.1685 - val_acc: 0.9515\n",
      "Epoch 88/100\n",
      "1638/1638 [==============================] - 20s 12ms/step - loss: 0.1644 - acc: 0.9517 - val_loss: 0.1760 - val_acc: 0.9504\n",
      "Epoch 89/100\n",
      "1638/1638 [==============================] - 21s 13ms/step - loss: 0.1652 - acc: 0.9520 - val_loss: 0.1739 - val_acc: 0.9507\n",
      "Epoch 90/100\n",
      "1638/1638 [==============================] - 20s 12ms/step - loss: 0.1642 - acc: 0.9520 - val_loss: 0.1808 - val_acc: 0.9477\n",
      "Epoch 91/100\n",
      "1638/1638 [==============================] - 20s 12ms/step - loss: 0.1635 - acc: 0.9523 - val_loss: 0.1732 - val_acc: 0.9510\n",
      "Epoch 92/100\n",
      "1638/1638 [==============================] - 20s 12ms/step - loss: 0.1629 - acc: 0.9523 - val_loss: 0.1742 - val_acc: 0.9508\n",
      "Epoch 93/100\n",
      "1638/1638 [==============================] - 21s 13ms/step - loss: 0.1634 - acc: 0.9524 - val_loss: 0.1900 - val_acc: 0.9461\n",
      "Epoch 94/100\n",
      "1638/1638 [==============================] - 20s 12ms/step - loss: 0.1624 - acc: 0.9526 - val_loss: 0.1692 - val_acc: 0.9524\n",
      "Epoch 95/100\n",
      "1638/1638 [==============================] - 20s 12ms/step - loss: 0.1682 - acc: 0.9520 - val_loss: 0.1696 - val_acc: 0.9520\n",
      "Epoch 96/100\n",
      "1638/1638 [==============================] - 20s 12ms/step - loss: 0.1625 - acc: 0.9527 - val_loss: 0.1785 - val_acc: 0.9493\n",
      "Epoch 97/100\n",
      "1638/1638 [==============================] - 20s 12ms/step - loss: 0.1620 - acc: 0.9528 - val_loss: 0.1790 - val_acc: 0.9490\n",
      "Epoch 98/100\n",
      "1638/1638 [==============================] - 20s 12ms/step - loss: 0.1614 - acc: 0.9529 - val_loss: 0.1777 - val_acc: 0.9505\n",
      "Epoch 99/100\n",
      "1638/1638 [==============================] - 20s 12ms/step - loss: 0.1614 - acc: 0.9532 - val_loss: 0.1700 - val_acc: 0.9517\n",
      "Epoch 100/100\n",
      "1638/1638 [==============================] - 20s 12ms/step - loss: 0.1607 - acc: 0.9532 - val_loss: 0.1698 - val_acc: 0.9524\n",
      "LSTM multiclass Training finished in 2004.9046475887299 milisecond!!\n",
      "\n"
     ]
    }
   ],
   "source": [
    "import time\n",
    "start=time.time()\n",
    "history=model.fit(X_train,y_train,batch_size=1000,epochs=100,\n",
    "          validation_data=(X_test, y_test))\n",
    "end=time.time()\n",
    "print('LSTM multiclass Training finished in {} milisecond!!\\n'.format(end-start))"
   ]
  },
  {
   "cell_type": "code",
   "execution_count": null,
   "metadata": {
    "colab": {
     "base_uri": "https://localhost:8080/"
    },
    "id": "SM2BUXyA6PHj",
    "outputId": "80edae93-f355-45a0-b28d-6e41e945fe04"
   },
   "outputs": [
    {
     "name": "stdout",
     "output_type": "stream",
     "text": [
      "12791/12791 [==============================] - 54s 4ms/step - loss: 0.1698 - acc: 0.9524\n",
      "LSTM multiclass Testing finished in 82.12053942680359 milisecond!!\n",
      "\n",
      "Accuracy on test set: [0.16977764666080475, 0.9523805975914001]\n",
      "Test loss: 0.16977764666080475\n",
      "Test accuracy: 0.9523805975914001\n"
     ]
    }
   ],
   "source": [
    "start=time.time()\n",
    "results = model.evaluate(X_test, y_test)\n",
    "end=time.time()\n",
    "print('LSTM multiclass Testing finished in {} milisecond!!\\n'.format(end-start))\n",
    "print (\"Accuracy on test set:\" , results)\n",
    "print('Test loss:', results[0])\n",
    "print('Test accuracy:', results[1])"
   ]
  },
  {
   "cell_type": "code",
   "execution_count": null,
   "metadata": {
    "colab": {
     "base_uri": "https://localhost:8080/"
    },
    "id": "TAZ5OBWm6PHk",
    "outputId": "c67ac3f6-42d4-4e2c-92a8-1cc2da6aa9a8"
   },
   "outputs": [
    {
     "name": "stdout",
     "output_type": "stream",
     "text": [
      "12791/12791 [==============================] - 49s 4ms/step - loss: 0.1698 - acc: 0.9524\n",
      "Test set\n",
      "   Accuracy: 0.952\n"
     ]
    }
   ],
   "source": [
    "y_pred1 = model.predict(X_test)\n",
    "y_pred1=(y_pred1 > 0.5)\n",
    "accr = model.evaluate(X_test,y_test)\n",
    "rnn_acc=accr[1]\n",
    "print('Test set\\n   Accuracy: {:0.3f}'.format(accr[1]))\n",
    "\n"
   ]
  },
  {
   "cell_type": "code",
   "execution_count": null,
   "metadata": {
    "colab": {
     "base_uri": "https://localhost:8080/"
    },
    "id": "d4cGpiOe6PHk",
    "outputId": "43bc6476-6c9a-4fe6-da14-ed1f96b02d59"
   },
   "outputs": [
    {
     "name": "stdout",
     "output_type": "stream",
     "text": [
      "\n",
      "\n",
      "Precision, Recall, F1\n",
      "\n",
      "\n",
      "              precision    recall  f1-score   support\n",
      "\n",
      "           0       1.00      1.00      1.00      2075\n",
      "           1       1.00      1.00      1.00      2096\n",
      "           2       1.00      1.00      1.00      2038\n",
      "           3       1.00      1.00      1.00     93605\n",
      "           4       0.83      0.64      0.72      2044\n",
      "           5       1.00      1.00      1.00      2036\n",
      "           6       1.00      1.00      1.00      2029\n",
      "           7       0.99      0.99      0.99      2063\n",
      "           8       0.77      0.67      0.72      2111\n",
      "           9       1.00      1.00      1.00      2011\n",
      "          10       0.55      0.08      0.13      2235\n",
      "          11       0.85      0.40      0.55      2083\n",
      "          12       1.00      1.00      1.00      2107\n",
      "          13       0.98      1.00      0.99     74830\n",
      "          14       1.00      1.00      1.00      2075\n",
      "          15       0.99      0.99      0.99      2092\n",
      "          16       0.78      0.96      0.86      6084\n",
      "          17       0.95      0.90      0.92      2046\n",
      "          18       0.96      0.93      0.94      2103\n",
      "          19       1.00      1.00      1.00      2412\n",
      "          20       1.00      1.00      1.00      2113\n",
      "          21       1.00      1.00      1.00      2026\n",
      "          22       0.95      0.97      0.96     83065\n",
      "          23       0.00      0.00      0.00      1977\n",
      "          24       1.00      1.00      1.00      2156\n",
      "          25       0.88      0.69      0.78      2077\n",
      "          26       1.00      1.00      1.00      2112\n",
      "          27       0.93      0.34      0.50      1724\n",
      "          28       0.99      0.98      0.98      2004\n",
      "          29       0.59      0.24      0.34       540\n",
      "          30       0.84      0.12      0.21      2137\n",
      "          31       0.96      0.77      0.85      1055\n",
      "          32       0.96      0.87      0.91      2147\n",
      "          33       1.00      1.00      1.00      2155\n",
      "          34       1.00      1.00      1.00      2127\n",
      "          35       0.98      0.98      0.98      2098\n",
      "          36       0.97      0.95      0.96      8892\n",
      "          37       0.80      0.50      0.62      2152\n",
      "          38       0.96      0.96      0.96      2072\n",
      "          39       0.93      0.98      0.95      2041\n",
      "          40       0.56      0.15      0.24      3992\n",
      "          41       0.66      0.72      0.69      2197\n",
      "          42       1.00      0.99      0.99     20705\n",
      "          43       0.69      0.18      0.28       511\n",
      "          44       0.94      0.81      0.87      1208\n",
      "          45       0.95      0.98      0.96      5602\n",
      "          46       0.94      0.97      0.96      2127\n",
      "          47       0.76      0.34      0.47       882\n",
      "          48       0.97      0.97      0.97      2027\n",
      "          49       0.96      0.99      0.97     18634\n",
      "          50       1.00      1.00      1.00      2128\n",
      "          51       1.00      1.00      1.00      2114\n",
      "          52       1.00      1.00      1.00      2103\n",
      "          53       0.94      0.88      0.91      2090\n",
      "          54       0.99      0.98      0.98      2138\n",
      "          55       0.68      0.51      0.59      1956\n",
      "          56       1.00      1.00      1.00      2049\n",
      "\n",
      "   micro avg       0.97      0.94      0.95    409308\n",
      "   macro avg       0.90      0.81      0.84    409308\n",
      "weighted avg       0.95      0.94      0.94    409308\n",
      " samples avg       0.94      0.94      0.94    409308\n",
      "\n",
      "\n",
      "\n"
     ]
    },
    {
     "name": "stderr",
     "output_type": "stream",
     "text": [
      "/usr/local/lib/python3.7/dist-packages/sklearn/metrics/_classification.py:1318: UndefinedMetricWarning: Precision and F-score are ill-defined and being set to 0.0 in samples with no predicted labels. Use `zero_division` parameter to control this behavior.\n",
      "  _warn_prf(average, modifier, msg_start, len(result))\n"
     ]
    }
   ],
   "source": [
    "from sklearn.metrics import classification_report, confusion_matrix\n",
    "print('\\n')\n",
    "print(\"Precision, Recall, F1\")\n",
    "print('\\n')\n",
    "CR=classification_report(y_test, y_pred1)\n",
    "print(CR)\n",
    "print('\\n')"
   ]
  },
  {
   "cell_type": "code",
   "execution_count": null,
   "metadata": {
    "colab": {
     "base_uri": "https://localhost:8080/",
     "height": 573
    },
    "id": "r3My94WO6PHl",
    "outputId": "60fa8645-b89a-4aeb-9194-be69a4d5d939"
   },
   "outputs": [
    {
     "data": {
      "image/png": "[encoded data removed]",
      "text/plain": [
       "<Figure size 432x288 with 1 Axes>"
      ]
     },
     "metadata": {
      "needs_background": "light"
     },
     "output_type": "display_data"
    },
    {
     "data": {
      "image/png": "[encoded data removed]",
      "text/plain": [
       "<Figure size 432x288 with 1 Axes>"
      ]
     },
     "metadata": {
      "needs_background": "light"
     },
     "output_type": "display_data"
    }
   ],
   "source": [
    "def Training_and_validation_plot(history):\n",
    "    acc = history.history['acc']\n",
    "    val_acc = history.history['val_acc']\n",
    "    loss = history.history['loss']\n",
    "    val_loss = history.history['val_loss']\n",
    "    epochs = range(1, len(acc) + 1)\n",
    "\n",
    "    plt.plot(epochs, acc, 'bo', label = 'Training Accuracy')\n",
    "    plt.plot(epochs, val_acc, 'r', label = 'Validation Accuracy')\n",
    "    plt.title('Training and Validation Accuracy')\n",
    "    plt.xlabel('Epochs')\n",
    "    plt.ylabel('Loss')\n",
    "    plt.legend()\n",
    "\n",
    "    plt.figure()\n",
    "    plt.plot(epochs, loss, 'bo', label = 'Training Loss')\n",
    "    plt.plot(epochs, val_loss, 'r', label = 'Validation Loss')\n",
    "    plt.title('Training and Validation Loss')\n",
    "    plt.xlabel('Epochs')\n",
    "    plt.ylabel('Loss')\n",
    "    plt.legend()\n",
    "    plt.show()\n",
    "Training_and_validation_plot(history)"
   ]
  },
  {
   "cell_type": "code",
   "execution_count": null,
   "metadata": {
    "colab": {
     "base_uri": "https://localhost:8080/"
    },
    "id": "6vas8LGp6PHm",
    "outputId": "d2bb6532-b5e4-4648-cc5f-e707e0c12ca9"
   },
   "outputs": [
    {
     "name": "stderr",
     "output_type": "stream",
     "text": [
      "WARNING:absl:Found untraced functions such as lstm_cell_1_layer_call_fn, lstm_cell_1_layer_call_and_return_conditional_losses while saving (showing 2 of 2). These functions will not be directly callable after loading.\n"
     ]
    },
    {
     "name": "stdout",
     "output_type": "stream",
     "text": [
      "INFO:tensorflow:Assets written to: ram://c8256ea2-ddd3-4adb-81ad-2bb27c444bd5/assets\n"
     ]
    },
    {
     "name": "stderr",
     "output_type": "stream",
     "text": [
      "INFO:tensorflow:Assets written to: ram://c8256ea2-ddd3-4adb-81ad-2bb27c444bd5/assets\n",
      "WARNING:absl:<keras.layers.recurrent.LSTMCell object at 0x7f6291b4c990> has the same name 'LSTMCell' as a built-in Keras object. Consider renaming <class 'keras.layers.recurrent.LSTMCell'> to avoid naming conflicts when loading with `tf.keras.models.load_model`. If renaming is not possible, pass the object in the `custom_objects` parameter of the load function.\n"
     ]
    }
   ],
   "source": [
    "import pickle\n",
    "# save the model to disk\n",
    "filename = '/content/drive/My Drive/Colab Notebooks/MCLS_lstmmodel64,1000x100.sav'\n",
    "pickle.dump(model, open(filename, 'wb'))"
   ]
  },
  {
   "cell_type": "code",
   "execution_count": null,
   "metadata": {
    "colab": {
     "base_uri": "https://localhost:8080/",
     "height": 194
    },
    "id": "VrJ90MZn6PHm",
    "outputId": "a0fd17e6-ca30-4009-894d-5899540a7491"
   },
   "outputs": [
    {
     "data": {
      "text/plain": [
       "<matplotlib.legend.Legend at 0x7f6293973210>"
      ]
     },
     "execution_count": 33,
     "metadata": {},
     "output_type": "execute_result"
    },
    {
     "data": {
      "image/png": "[encoded data removed]",
      "text/plain": [
       "<Figure size 432x288 with 1 Axes>"
      ]
     },
     "metadata": {
      "needs_background": "light"
     },
     "output_type": "display_data"
    }
   ],
   "source": [
    "import matplotlib.pyplot as plot\n",
    "plot.subplot(2,1,1)\n",
    "plot.plot(history.history['acc'])\n",
    "plot.plot(history.history['val_acc'])\n",
    "plot.title('model accuracy')\n",
    "plot.ylabel('accuracy')\n",
    "plot.xlabel('epoch')\n",
    "plot.legend(['train', 'test'], loc='lower right')"
   ]
  },
  {
   "cell_type": "code",
   "execution_count": null,
   "metadata": {
    "colab": {
     "base_uri": "https://localhost:8080/",
     "height": 194
    },
    "id": "7VbjR76_6PHn",
    "outputId": "5866415c-ff55-4280-db4a-99f46a24812b"
   },
   "outputs": [
    {
     "data": {
      "text/plain": [
       "<matplotlib.legend.Legend at 0x7f6291b4fcd0>"
      ]
     },
     "execution_count": 34,
     "metadata": {},
     "output_type": "execute_result"
    },
    {
     "data": {
      "image/png": "[encoded data removed]",
      "text/plain": [
       "<Figure size 432x288 with 1 Axes>"
      ]
     },
     "metadata": {
      "needs_background": "light"
     },
     "output_type": "display_data"
    }
   ],
   "source": [
    "plot.subplot(2,1,2)\n",
    "plot.plot(history.history['loss'])\n",
    "plot.plot(history.history['val_loss'])\n",
    "plot.title('model loss')\n",
    "plot.ylabel('loss')\n",
    "plot.xlabel('epoch')\n",
    "plot.legend(['train', 'test'], loc='upper right')"
   ]
  },
  {
   "cell_type": "markdown",
   "metadata": {
    "id": "W3U9ysYXUnAu"
   },
   "source": [
    "## 128,1000x100"
   ]
  },
  {
   "cell_type": "code",
   "execution_count": null,
   "metadata": {
    "id": "JXw7kQvtUp00"
   },
   "outputs": [],
   "source": [
    "from tensorflow.keras.optimizers import RMSprop\n",
    "from keras.layers import LSTM, Activation, Dense, Dropout, Input, Conv1D, Embedding, Flatten\n",
    "def RNN_model():\n",
    "    inputs = Input(name='inputs',shape=[max_len])\n",
    "    layer = Embedding(input_dim = max_len + 1,output_dim = 50,input_length=max_len)(inputs)\n",
    "    layer = LSTM(128)(layer)\n",
    "    layer = Flatten()(layer)\n",
    "\n",
    "    layer = Dense(256,name='FC1')(layer)\n",
    "    layer = Activation('relu')(layer)\n",
    "    layer = Dropout(0.5)(layer)\n",
    "\n",
    "    layer = Dense(57,name='out_layer')(layer)\n",
    "    layer = Activation('softmax')(layer)\n",
    "    model = Model(inputs=inputs,outputs=layer)\n",
    "    return model"
   ]
  },
  {
   "cell_type": "code",
   "execution_count": null,
   "metadata": {
    "colab": {
     "base_uri": "https://localhost:8080/"
    },
    "id": "NbVV-7yfUp01",
    "outputId": "2b02062f-787c-4260-c1a6-5f5f34c99bdb"
   },
   "outputs": [
    {
     "name": "stdout",
     "output_type": "stream",
     "text": [
      "Model: \"model\"\n",
      "_________________________________________________________________\n",
      " Layer (type)                Output Shape              Param #   \n",
      "=================================================================\n",
      " inputs (InputLayer)         [(None, 50)]              0         \n",
      "                                                                 \n",
      " embedding (Embedding)       (None, 50, 50)            2550      \n",
      "                                                                 \n",
      " lstm (LSTM)                 (None, 128)               91648     \n",
      "                                                                 \n",
      " flatten (Flatten)           (None, 128)               0         \n",
      "                                                                 \n",
      " FC1 (Dense)                 (None, 256)               33024     \n",
      "                                                                 \n",
      " activation (Activation)     (None, 256)               0         \n",
      "                                                                 \n",
      " dropout (Dropout)           (None, 256)               0         \n",
      "                                                                 \n",
      " out_layer (Dense)           (None, 57)                14649     \n",
      "                                                                 \n",
      " activation_1 (Activation)   (None, 57)                0         \n",
      "                                                                 \n",
      "=================================================================\n",
      "Total params: 141,871\n",
      "Trainable params: 141,871\n",
      "Non-trainable params: 0\n",
      "_________________________________________________________________\n"
     ]
    }
   ],
   "source": [
    "from tensorflow.keras.models import Sequential, Model\n",
    "model = RNN_model()\n",
    "model.summary()\n",
    "model.compile(loss='categorical_crossentropy',optimizer=RMSprop(),metrics=['acc'])"
   ]
  },
  {
   "cell_type": "code",
   "execution_count": null,
   "metadata": {
    "colab": {
     "base_uri": "https://localhost:8080/"
    },
    "id": "2mEvgP_WUp02",
    "outputId": "e960fd31-524b-4529-82af-dce399c717c4"
   },
   "outputs": [
    {
     "name": "stdout",
     "output_type": "stream",
     "text": [
      "Epoch 1/100\n",
      "1638/1638 [==============================] - 40s 20ms/step - loss: 1.5246 - acc: 0.5734 - val_loss: 1.2356 - val_acc: 0.6578\n",
      "Epoch 2/100\n",
      "1638/1638 [==============================] - 33s 20ms/step - loss: 0.8549 - acc: 0.7591 - val_loss: 0.8782 - val_acc: 0.7387\n",
      "Epoch 3/100\n",
      "1638/1638 [==============================] - 34s 21ms/step - loss: 0.6090 - acc: 0.8350 - val_loss: 0.4926 - val_acc: 0.8639\n",
      "Epoch 4/100\n",
      "1638/1638 [==============================] - 34s 21ms/step - loss: 0.4942 - acc: 0.8654 - val_loss: 0.4158 - val_acc: 0.8827\n",
      "Epoch 5/100\n",
      "1638/1638 [==============================] - 34s 21ms/step - loss: 0.4381 - acc: 0.8784 - val_loss: 0.3916 - val_acc: 0.8879\n",
      "Epoch 6/100\n",
      "1638/1638 [==============================] - 36s 22ms/step - loss: 0.3945 - acc: 0.8884 - val_loss: 0.4032 - val_acc: 0.8837\n",
      "Epoch 7/100\n",
      "1638/1638 [==============================] - 34s 21ms/step - loss: 0.3690 - acc: 0.8945 - val_loss: 0.4095 - val_acc: 0.8909\n",
      "Epoch 8/100\n",
      "1638/1638 [==============================] - 36s 22ms/step - loss: 0.3445 - acc: 0.9004 - val_loss: 0.3259 - val_acc: 0.9046\n",
      "Epoch 9/100\n",
      "1638/1638 [==============================] - 34s 21ms/step - loss: 0.3237 - acc: 0.9059 - val_loss: 0.2956 - val_acc: 0.9113\n",
      "Epoch 10/100\n",
      "1638/1638 [==============================] - 34s 21ms/step - loss: 0.3015 - acc: 0.9111 - val_loss: 0.2993 - val_acc: 0.9108\n",
      "Epoch 11/100\n",
      "1638/1638 [==============================] - 34s 21ms/step - loss: 0.2840 - acc: 0.9160 - val_loss: 0.2623 - val_acc: 0.9213\n",
      "Epoch 12/100\n",
      "1638/1638 [==============================] - 34s 21ms/step - loss: 0.2670 - acc: 0.9208 - val_loss: 0.2561 - val_acc: 0.9239\n",
      "Epoch 13/100\n",
      "1638/1638 [==============================] - 34s 21ms/step - loss: 0.2532 - acc: 0.9247 - val_loss: 0.2473 - val_acc: 0.9261\n",
      "Epoch 14/100\n",
      "1638/1638 [==============================] - 34s 21ms/step - loss: 0.2398 - acc: 0.9288 - val_loss: 0.2304 - val_acc: 0.9323\n",
      "Epoch 15/100\n",
      "1638/1638 [==============================] - 34s 21ms/step - loss: 0.2268 - acc: 0.9326 - val_loss: 0.2117 - val_acc: 0.9376\n",
      "Epoch 16/100\n",
      "1638/1638 [==============================] - 34s 21ms/step - loss: 0.2167 - acc: 0.9358 - val_loss: 0.1978 - val_acc: 0.9399\n",
      "Epoch 17/100\n",
      "1638/1638 [==============================] - 34s 21ms/step - loss: 0.2060 - acc: 0.9391 - val_loss: 0.2012 - val_acc: 0.9401\n",
      "Epoch 18/100\n",
      "1638/1638 [==============================] - 34s 21ms/step - loss: 0.1972 - acc: 0.9416 - val_loss: 0.1947 - val_acc: 0.9431\n",
      "Epoch 19/100\n",
      "1638/1638 [==============================] - 34s 21ms/step - loss: 0.1902 - acc: 0.9437 - val_loss: 0.1889 - val_acc: 0.9444\n",
      "Epoch 20/100\n",
      "1638/1638 [==============================] - 34s 21ms/step - loss: 0.1831 - acc: 0.9459 - val_loss: 0.1706 - val_acc: 0.9498\n",
      "Epoch 21/100\n",
      "1638/1638 [==============================] - 34s 21ms/step - loss: 0.1767 - acc: 0.9478 - val_loss: 0.1762 - val_acc: 0.9486\n",
      "Epoch 22/100\n",
      "1638/1638 [==============================] - 34s 21ms/step - loss: 0.1707 - acc: 0.9494 - val_loss: 0.1653 - val_acc: 0.9516\n",
      "Epoch 23/100\n",
      "1638/1638 [==============================] - 34s 21ms/step - loss: 0.1665 - acc: 0.9511 - val_loss: 0.1694 - val_acc: 0.9501\n",
      "Epoch 24/100\n",
      "1638/1638 [==============================] - 34s 20ms/step - loss: 0.1623 - acc: 0.9523 - val_loss: 0.1820 - val_acc: 0.9476\n",
      "Epoch 25/100\n",
      "1638/1638 [==============================] - 34s 21ms/step - loss: 0.1577 - acc: 0.9538 - val_loss: 0.1706 - val_acc: 0.9526\n",
      "Epoch 26/100\n",
      "1638/1638 [==============================] - 34s 20ms/step - loss: 0.1544 - acc: 0.9548 - val_loss: 0.1512 - val_acc: 0.9564\n",
      "Epoch 27/100\n",
      "1638/1638 [==============================] - 34s 21ms/step - loss: 0.1507 - acc: 0.9561 - val_loss: 0.1520 - val_acc: 0.9561\n",
      "Epoch 28/100\n",
      "1638/1638 [==============================] - 34s 21ms/step - loss: 0.1464 - acc: 0.9572 - val_loss: 0.1508 - val_acc: 0.9568\n",
      "Epoch 29/100\n",
      "1638/1638 [==============================] - 34s 21ms/step - loss: 0.1441 - acc: 0.9583 - val_loss: 0.1478 - val_acc: 0.9587\n",
      "Epoch 30/100\n",
      "1638/1638 [==============================] - 34s 21ms/step - loss: 0.1400 - acc: 0.9594 - val_loss: 0.1554 - val_acc: 0.9562\n",
      "Epoch 31/100\n",
      "1638/1638 [==============================] - 34s 20ms/step - loss: 0.1379 - acc: 0.9600 - val_loss: 0.1499 - val_acc: 0.9579\n",
      "Epoch 32/100\n",
      "1638/1638 [==============================] - 33s 20ms/step - loss: 0.1358 - acc: 0.9607 - val_loss: 0.1427 - val_acc: 0.9592\n",
      "Epoch 33/100\n",
      "1638/1638 [==============================] - 34s 21ms/step - loss: 0.1326 - acc: 0.9615 - val_loss: 0.1368 - val_acc: 0.9617\n",
      "Epoch 34/100\n",
      "1638/1638 [==============================] - 34s 21ms/step - loss: 0.1314 - acc: 0.9620 - val_loss: 0.1358 - val_acc: 0.9622\n",
      "Epoch 35/100\n",
      "1638/1638 [==============================] - 34s 21ms/step - loss: 0.1282 - acc: 0.9629 - val_loss: 0.1473 - val_acc: 0.9593\n",
      "Epoch 36/100\n",
      "1638/1638 [==============================] - 34s 21ms/step - loss: 0.1259 - acc: 0.9635 - val_loss: 0.1397 - val_acc: 0.9613\n",
      "Epoch 37/100\n",
      "1638/1638 [==============================] - 33s 20ms/step - loss: 0.1242 - acc: 0.9641 - val_loss: 0.1415 - val_acc: 0.9610\n",
      "Epoch 38/100\n",
      "1638/1638 [==============================] - 34s 21ms/step - loss: 0.1234 - acc: 0.9644 - val_loss: 0.1368 - val_acc: 0.9626\n",
      "Epoch 39/100\n",
      "1638/1638 [==============================] - 34s 20ms/step - loss: 0.1209 - acc: 0.9651 - val_loss: 0.1393 - val_acc: 0.9627\n",
      "Epoch 40/100\n",
      "1638/1638 [==============================] - 33s 20ms/step - loss: 0.1195 - acc: 0.9654 - val_loss: 0.1255 - val_acc: 0.9653\n",
      "Epoch 41/100\n",
      "1638/1638 [==============================] - 36s 22ms/step - loss: 0.1174 - acc: 0.9661 - val_loss: 0.1322 - val_acc: 0.9632\n",
      "Epoch 42/100\n",
      "1638/1638 [==============================] - 34s 20ms/step - loss: 0.1161 - acc: 0.9665 - val_loss: 0.1458 - val_acc: 0.9608\n",
      "Epoch 43/100\n",
      "1638/1638 [==============================] - 34s 21ms/step - loss: 0.1145 - acc: 0.9668 - val_loss: 0.1462 - val_acc: 0.9614\n",
      "Epoch 44/100\n",
      "1638/1638 [==============================] - 33s 20ms/step - loss: 0.1130 - acc: 0.9672 - val_loss: 0.1355 - val_acc: 0.9638\n",
      "Epoch 45/100\n",
      "1638/1638 [==============================] - 33s 20ms/step - loss: 0.1122 - acc: 0.9675 - val_loss: 0.1646 - val_acc: 0.9625\n",
      "Epoch 46/100\n",
      "1638/1638 [==============================] - 34s 21ms/step - loss: 0.1113 - acc: 0.9679 - val_loss: 0.1319 - val_acc: 0.9646\n",
      "Epoch 47/100\n",
      "1638/1638 [==============================] - 34s 20ms/step - loss: 0.1099 - acc: 0.9683 - val_loss: 0.1212 - val_acc: 0.9666\n",
      "Epoch 48/100\n",
      "1638/1638 [==============================] - 34s 21ms/step - loss: 0.1083 - acc: 0.9686 - val_loss: 0.1339 - val_acc: 0.9649\n",
      "Epoch 49/100\n",
      "1638/1638 [==============================] - 34s 20ms/step - loss: 0.1075 - acc: 0.9689 - val_loss: 0.1271 - val_acc: 0.9660\n",
      "Epoch 50/100\n",
      "1638/1638 [==============================] - 34s 20ms/step - loss: 0.1063 - acc: 0.9692 - val_loss: 0.1277 - val_acc: 0.9663\n",
      "Epoch 51/100\n",
      "1638/1638 [==============================] - 34s 21ms/step - loss: 0.1054 - acc: 0.9697 - val_loss: 0.1223 - val_acc: 0.9674\n",
      "Epoch 52/100\n",
      "1638/1638 [==============================] - 36s 22ms/step - loss: 0.1034 - acc: 0.9699 - val_loss: 0.1242 - val_acc: 0.9666\n",
      "Epoch 53/100\n",
      "1638/1638 [==============================] - 34s 21ms/step - loss: 0.1029 - acc: 0.9703 - val_loss: 0.1166 - val_acc: 0.9685\n",
      "Epoch 54/100\n",
      "1638/1638 [==============================] - 34s 21ms/step - loss: 0.1019 - acc: 0.9706 - val_loss: 0.1156 - val_acc: 0.9685\n",
      "Epoch 55/100\n",
      "1638/1638 [==============================] - 33s 20ms/step - loss: 0.1013 - acc: 0.9707 - val_loss: 0.1216 - val_acc: 0.9673\n",
      "Epoch 56/100\n",
      "1638/1638 [==============================] - 34s 21ms/step - loss: 0.1010 - acc: 0.9711 - val_loss: 0.1372 - val_acc: 0.9615\n",
      "Epoch 57/100\n",
      "1638/1638 [==============================] - 33s 20ms/step - loss: 0.0996 - acc: 0.9712 - val_loss: 0.1368 - val_acc: 0.9642\n",
      "Epoch 58/100\n",
      "1638/1638 [==============================] - 34s 21ms/step - loss: 0.0988 - acc: 0.9714 - val_loss: 0.1197 - val_acc: 0.9688\n",
      "Epoch 59/100\n",
      "1638/1638 [==============================] - 33s 20ms/step - loss: 0.0982 - acc: 0.9718 - val_loss: 0.1200 - val_acc: 0.9689\n",
      "Epoch 60/100\n",
      "1638/1638 [==============================] - 34s 20ms/step - loss: 0.0974 - acc: 0.9720 - val_loss: 0.1149 - val_acc: 0.9706\n",
      "Epoch 61/100\n",
      "1638/1638 [==============================] - 34s 21ms/step - loss: 0.0965 - acc: 0.9722 - val_loss: 0.1176 - val_acc: 0.9691\n",
      "Epoch 62/100\n",
      "1638/1638 [==============================] - 34s 20ms/step - loss: 0.0969 - acc: 0.9724 - val_loss: 0.1272 - val_acc: 0.9670\n",
      "Epoch 63/100\n",
      "1638/1638 [==============================] - 33s 20ms/step - loss: 0.0955 - acc: 0.9725 - val_loss: 0.1196 - val_acc: 0.9688\n",
      "Epoch 64/100\n",
      "1638/1638 [==============================] - 34s 21ms/step - loss: 0.0948 - acc: 0.9727 - val_loss: 0.1125 - val_acc: 0.9702\n",
      "Epoch 65/100\n",
      "1638/1638 [==============================] - 34s 20ms/step - loss: 0.0939 - acc: 0.9729 - val_loss: 0.1138 - val_acc: 0.9707\n",
      "Epoch 66/100\n",
      "1638/1638 [==============================] - 34s 21ms/step - loss: 0.0942 - acc: 0.9731 - val_loss: 0.1308 - val_acc: 0.9672\n",
      "Epoch 67/100\n",
      "1638/1638 [==============================] - 34s 21ms/step - loss: 0.0926 - acc: 0.9733 - val_loss: 0.1316 - val_acc: 0.9670\n",
      "Epoch 68/100\n",
      "1638/1638 [==============================] - 34s 20ms/step - loss: 0.0920 - acc: 0.9735 - val_loss: 0.1217 - val_acc: 0.9702\n",
      "Epoch 69/100\n",
      "1638/1638 [==============================] - 34s 21ms/step - loss: 0.0917 - acc: 0.9737 - val_loss: 0.1327 - val_acc: 0.9672\n",
      "Epoch 70/100\n",
      "1638/1638 [==============================] - 34s 20ms/step - loss: 0.0927 - acc: 0.9735 - val_loss: 0.1168 - val_acc: 0.9701\n",
      "Epoch 71/100\n",
      "1638/1638 [==============================] - 34s 21ms/step - loss: 0.0910 - acc: 0.9737 - val_loss: 0.1112 - val_acc: 0.9720\n",
      "Epoch 72/100\n",
      "1638/1638 [==============================] - 34s 20ms/step - loss: 0.0904 - acc: 0.9741 - val_loss: 0.1211 - val_acc: 0.9698\n",
      "Epoch 73/100\n",
      "1638/1638 [==============================] - 34s 20ms/step - loss: 0.0903 - acc: 0.9741 - val_loss: 0.1164 - val_acc: 0.9699\n",
      "Epoch 74/100\n",
      "1638/1638 [==============================] - 34s 21ms/step - loss: 0.0894 - acc: 0.9744 - val_loss: 0.1191 - val_acc: 0.9699\n",
      "Epoch 75/100\n",
      "1638/1638 [==============================] - 34s 20ms/step - loss: 0.0896 - acc: 0.9743 - val_loss: 0.1142 - val_acc: 0.9710\n",
      "Epoch 76/100\n",
      "1638/1638 [==============================] - 34s 20ms/step - loss: 0.0896 - acc: 0.9744 - val_loss: 0.1115 - val_acc: 0.9723\n",
      "Epoch 77/100\n",
      "1638/1638 [==============================] - 34s 21ms/step - loss: 0.0886 - acc: 0.9745 - val_loss: 0.1380 - val_acc: 0.9657\n",
      "Epoch 78/100\n",
      "1638/1638 [==============================] - 34s 21ms/step - loss: 0.0890 - acc: 0.9745 - val_loss: 0.1139 - val_acc: 0.9717\n",
      "Epoch 79/100\n",
      "1638/1638 [==============================] - 34s 21ms/step - loss: 0.0941 - acc: 0.9742 - val_loss: 0.1136 - val_acc: 0.9708\n",
      "Epoch 80/100\n",
      "1638/1638 [==============================] - 34s 21ms/step - loss: 0.0898 - acc: 0.9744 - val_loss: 0.1353 - val_acc: 0.9659\n",
      "Epoch 81/100\n",
      "1638/1638 [==============================] - 34s 21ms/step - loss: 0.0889 - acc: 0.9747 - val_loss: 0.1265 - val_acc: 0.9686\n",
      "Epoch 82/100\n",
      "1638/1638 [==============================] - 34s 21ms/step - loss: 0.0896 - acc: 0.9746 - val_loss: 0.1268 - val_acc: 0.9676\n",
      "Epoch 83/100\n",
      "1638/1638 [==============================] - 34s 21ms/step - loss: 0.0899 - acc: 0.9746 - val_loss: 0.1142 - val_acc: 0.9710\n",
      "Epoch 84/100\n",
      "1638/1638 [==============================] - 34s 21ms/step - loss: 0.0906 - acc: 0.9746 - val_loss: 0.2158 - val_acc: 0.9569\n",
      "Epoch 85/100\n",
      "1638/1638 [==============================] - 34s 20ms/step - loss: 0.0894 - acc: 0.9745 - val_loss: 0.1212 - val_acc: 0.9703\n",
      "Epoch 86/100\n",
      "1638/1638 [==============================] - 34s 21ms/step - loss: 0.0893 - acc: 0.9747 - val_loss: 0.1223 - val_acc: 0.9718\n",
      "Epoch 87/100\n",
      "1638/1638 [==============================] - 34s 21ms/step - loss: 0.0888 - acc: 0.9746 - val_loss: 0.1198 - val_acc: 0.9699\n",
      "Epoch 88/100\n",
      "1638/1638 [==============================] - 36s 22ms/step - loss: 0.0891 - acc: 0.9747 - val_loss: 0.1232 - val_acc: 0.9713\n",
      "Epoch 89/100\n",
      "1638/1638 [==============================] - 34s 21ms/step - loss: 0.0917 - acc: 0.9745 - val_loss: 0.1197 - val_acc: 0.9717\n",
      "Epoch 90/100\n",
      "1638/1638 [==============================] - 34s 21ms/step - loss: 0.0892 - acc: 0.9748 - val_loss: 0.1099 - val_acc: 0.9727\n",
      "Epoch 91/100\n",
      "1638/1638 [==============================] - 36s 22ms/step - loss: 0.0905 - acc: 0.9747 - val_loss: 0.1129 - val_acc: 0.9734\n",
      "Epoch 92/100\n",
      "1638/1638 [==============================] - 34s 21ms/step - loss: 0.0886 - acc: 0.9750 - val_loss: 0.1226 - val_acc: 0.9719\n",
      "Epoch 93/100\n",
      "1638/1638 [==============================] - 34s 21ms/step - loss: 0.0891 - acc: 0.9749 - val_loss: 0.1358 - val_acc: 0.9655\n",
      "Epoch 94/100\n",
      "1638/1638 [==============================] - 34s 21ms/step - loss: 0.0889 - acc: 0.9749 - val_loss: 0.1181 - val_acc: 0.9710\n",
      "Epoch 95/100\n",
      "1638/1638 [==============================] - 34s 21ms/step - loss: 0.0889 - acc: 0.9751 - val_loss: 0.1170 - val_acc: 0.9715\n",
      "Epoch 96/100\n",
      "1638/1638 [==============================] - 34s 21ms/step - loss: 0.0890 - acc: 0.9750 - val_loss: 0.1228 - val_acc: 0.9699\n",
      "Epoch 97/100\n",
      "1638/1638 [==============================] - 34s 21ms/step - loss: 0.0889 - acc: 0.9750 - val_loss: 0.1116 - val_acc: 0.9732\n",
      "Epoch 98/100\n",
      "1638/1638 [==============================] - 34s 21ms/step - loss: 0.0881 - acc: 0.9751 - val_loss: 0.1227 - val_acc: 0.9709\n",
      "Epoch 99/100\n",
      "1638/1638 [==============================] - 34s 21ms/step - loss: 0.0894 - acc: 0.9752 - val_loss: 0.1513 - val_acc: 0.9670\n",
      "Epoch 100/100\n",
      "1638/1638 [==============================] - 34s 21ms/step - loss: 0.0879 - acc: 0.9751 - val_loss: 0.1539 - val_acc: 0.9651\n",
      "LSTM multiclass Training finished in 3444.064722776413 milisecond!!\n",
      "\n"
     ]
    }
   ],
   "source": [
    "import time\n",
    "start=time.time()\n",
    "history=model.fit(X_train,y_train,batch_size=1000,epochs=100,\n",
    "          validation_data=(X_test, y_test))\n",
    "end=time.time()\n",
    "print('LSTM multiclass Training finished in {} milisecond!!\\n'.format(end-start))"
   ]
  },
  {
   "cell_type": "code",
   "execution_count": null,
   "metadata": {
    "colab": {
     "base_uri": "https://localhost:8080/"
    },
    "id": "uIXC2PXUUp03",
    "outputId": "cfcf0e44-b5c6-4c38-b282-55364d6d7586"
   },
   "outputs": [
    {
     "name": "stdout",
     "output_type": "stream",
     "text": [
      "12791/12791 [==============================] - 53s 4ms/step - loss: 0.1539 - acc: 0.9651\n",
      "LSTM multiclass Testing finished in 82.11748886108398 milisecond!!\n",
      "\n",
      "Accuracy on test set: [0.15387646853923798, 0.9650629758834839]\n",
      "Test loss: 0.15387646853923798\n",
      "Test accuracy: 0.9650629758834839\n"
     ]
    }
   ],
   "source": [
    "start=time.time()\n",
    "results = model.evaluate(X_test, y_test)\n",
    "end=time.time()\n",
    "print('LSTM multiclass Testing finished in {} milisecond!!\\n'.format(end-start))\n",
    "print (\"Accuracy on test set:\" , results)\n",
    "print('Test loss:', results[0])\n",
    "print('Test accuracy:', results[1])"
   ]
  },
  {
   "cell_type": "code",
   "execution_count": null,
   "metadata": {
    "colab": {
     "base_uri": "https://localhost:8080/"
    },
    "id": "iQStvQ8PUp03",
    "outputId": "5b81805d-be56-4ffc-c68d-f0e2d5d6f85d"
   },
   "outputs": [
    {
     "name": "stdout",
     "output_type": "stream",
     "text": [
      "12791/12791 [==============================] - 50s 4ms/step - loss: 0.1539 - acc: 0.9651\n",
      "Test set\n",
      "   Accuracy: 0.965\n"
     ]
    }
   ],
   "source": [
    "y_pred1 = model.predict(X_test)\n",
    "y_pred1=(y_pred1 > 0.5)\n",
    "accr = model.evaluate(X_test,y_test)\n",
    "rnn_acc=accr[1]\n",
    "print('Test set\\n   Accuracy: {:0.3f}'.format(accr[1]))\n",
    "\n"
   ]
  },
  {
   "cell_type": "code",
   "execution_count": null,
   "metadata": {
    "colab": {
     "base_uri": "https://localhost:8080/"
    },
    "id": "Hn5BOKWxUp04",
    "outputId": "6e878a07-cb58-4a24-cc1a-0380eb8d3769"
   },
   "outputs": [
    {
     "name": "stdout",
     "output_type": "stream",
     "text": [
      "\n",
      "\n",
      "Precision, Recall, F1\n",
      "\n",
      "\n",
      "              precision    recall  f1-score   support\n",
      "\n",
      "           0       1.00      1.00      1.00      2046\n",
      "           1       1.00      1.00      1.00      2103\n",
      "           2       1.00      1.00      1.00      2096\n",
      "           3       1.00      1.00      1.00     93589\n",
      "           4       0.95      0.97      0.96      2068\n",
      "           5       1.00      1.00      1.00      2106\n",
      "           6       1.00      1.00      1.00      2062\n",
      "           7       0.99      0.99      0.99      1988\n",
      "           8       0.93      0.99      0.96      2091\n",
      "           9       1.00      1.00      1.00      2040\n",
      "          10       0.87      0.92      0.89      2146\n",
      "          11       0.83      0.92      0.87      2078\n",
      "          12       1.00      1.00      1.00      2040\n",
      "          13       0.97      0.98      0.98     74788\n",
      "          14       1.00      1.00      1.00      1943\n",
      "          15       0.99      1.00      0.99      2088\n",
      "          16       0.74      0.94      0.83      6141\n",
      "          17       0.99      0.88      0.93      2138\n",
      "          18       0.98      0.99      0.99      2117\n",
      "          19       1.00      1.00      1.00      2329\n",
      "          20       1.00      1.00      1.00      2093\n",
      "          21       1.00      1.00      1.00      2148\n",
      "          22       0.97      0.98      0.98     83215\n",
      "          23       0.47      0.55      0.51      2049\n",
      "          24       1.00      1.00      1.00      2050\n",
      "          25       0.94      0.96      0.95      2083\n",
      "          26       1.00      1.00      1.00      2133\n",
      "          27       0.84      0.44      0.57      1654\n",
      "          28       1.00      0.98      0.99      2042\n",
      "          29       0.63      0.26      0.36       530\n",
      "          30       0.93      0.13      0.22      2112\n",
      "          31       0.97      0.91      0.94      1065\n",
      "          32       0.96      0.98      0.97      2076\n",
      "          33       1.00      1.00      1.00      2141\n",
      "          34       0.99      1.00      1.00      2006\n",
      "          35       0.99      1.00      1.00      2056\n",
      "          36       0.97      0.97      0.97      9038\n",
      "          37       0.83      0.98      0.90      2138\n",
      "          38       0.96      1.00      0.98      2083\n",
      "          39       0.98      0.98      0.98      2131\n",
      "          40       0.53      0.36      0.43      3866\n",
      "          41       0.62      0.22      0.32      2174\n",
      "          42       1.00      0.99      0.99     20677\n",
      "          43       0.64      0.45      0.52       537\n",
      "          44       0.96      0.86      0.91      1200\n",
      "          45       0.96      0.98      0.97      5694\n",
      "          46       0.98      0.98      0.98      2045\n",
      "          47       0.80      0.70      0.75       849\n",
      "          48       0.99      0.99      0.99      2137\n",
      "          49       0.98      0.99      0.98     18954\n",
      "          50       1.00      1.00      1.00      2089\n",
      "          51       1.00      1.00      1.00      2029\n",
      "          52       0.99      1.00      1.00      2037\n",
      "          53       0.96      0.99      0.98      2133\n",
      "          54       0.98      1.00      0.99      2086\n",
      "          55       0.81      0.56      0.66      1917\n",
      "          56       1.00      1.00      1.00      2044\n",
      "\n",
      "   micro avg       0.97      0.96      0.97    409308\n",
      "   macro avg       0.93      0.89      0.90    409308\n",
      "weighted avg       0.97      0.96      0.96    409308\n",
      " samples avg       0.96      0.96      0.96    409308\n",
      "\n",
      "\n",
      "\n"
     ]
    },
    {
     "name": "stderr",
     "output_type": "stream",
     "text": [
      "/usr/local/lib/python3.7/dist-packages/sklearn/metrics/_classification.py:1318: UndefinedMetricWarning: Precision and F-score are ill-defined and being set to 0.0 in samples with no predicted labels. Use `zero_division` parameter to control this behavior.\n",
      "  _warn_prf(average, modifier, msg_start, len(result))\n"
     ]
    }
   ],
   "source": [
    "from sklearn.metrics import classification_report, confusion_matrix\n",
    "print('\\n')\n",
    "print(\"Precision, Recall, F1\")\n",
    "print('\\n')\n",
    "CR=classification_report(y_test, y_pred1)\n",
    "print(CR)\n",
    "print('\\n')"
   ]
  },
  {
   "cell_type": "code",
   "execution_count": null,
   "metadata": {
    "colab": {
     "base_uri": "https://localhost:8080/",
     "height": 573
    },
    "id": "5QWeT4DxUp05",
    "outputId": "42d0e823-7f95-4771-f2e3-c5a2abe49347"
   },
   "outputs": [
    {
     "data": {
      "image/png": "[encoded data removed]",
      "text/plain": [
       "<Figure size 432x288 with 1 Axes>"
      ]
     },
     "metadata": {
      "needs_background": "light"
     },
     "output_type": "display_data"
    },
    {
     "data": {
      "image/png": "[encoded data removed]",
      "text/plain": [
       "<Figure size 432x288 with 1 Axes>"
      ]
     },
     "metadata": {
      "needs_background": "light"
     },
     "output_type": "display_data"
    }
   ],
   "source": [
    "def Training_and_validation_plot(history):\n",
    "    acc = history.history['acc']\n",
    "    val_acc = history.history['val_acc']\n",
    "    loss = history.history['loss']\n",
    "    val_loss = history.history['val_loss']\n",
    "    epochs = range(1, len(acc) + 1)\n",
    "\n",
    "    plt.plot(epochs, acc, 'bo', label = 'Training Accuracy')\n",
    "    plt.plot(epochs, val_acc, 'r', label = 'Validation Accuracy')\n",
    "    plt.title('Training and Validation Accuracy')\n",
    "    plt.xlabel('Epochs')\n",
    "    plt.ylabel('Loss')\n",
    "    plt.legend()\n",
    "\n",
    "    plt.figure()\n",
    "    plt.plot(epochs, loss, 'bo', label = 'Training Loss')\n",
    "    plt.plot(epochs, val_loss, 'r', label = 'Validation Loss')\n",
    "    plt.title('Training and Validation Loss')\n",
    "    plt.xlabel('Epochs')\n",
    "    plt.ylabel('Loss')\n",
    "    plt.legend()\n",
    "    plt.show()\n",
    "Training_and_validation_plot(history)"
   ]
  },
  {
   "cell_type": "code",
   "execution_count": null,
   "metadata": {
    "colab": {
     "base_uri": "https://localhost:8080/"
    },
    "id": "-2jx7--GUp05",
    "outputId": "a8fa2dbd-5caf-4b2c-b58a-a2a73491e280"
   },
   "outputs": [
    {
     "name": "stderr",
     "output_type": "stream",
     "text": [
      "WARNING:absl:Found untraced functions such as lstm_cell_layer_call_fn, lstm_cell_layer_call_and_return_conditional_losses while saving (showing 2 of 2). These functions will not be directly callable after loading.\n"
     ]
    },
    {
     "name": "stdout",
     "output_type": "stream",
     "text": [
      "INFO:tensorflow:Assets written to: ram://133eec74-559d-4b96-81b4-732c1d4a3b3f/assets\n"
     ]
    },
    {
     "name": "stderr",
     "output_type": "stream",
     "text": [
      "INFO:tensorflow:Assets written to: ram://133eec74-559d-4b96-81b4-732c1d4a3b3f/assets\n",
      "WARNING:absl:<keras.layers.recurrent.LSTMCell object at 0x7f9e972c98d0> has the same name 'LSTMCell' as a built-in Keras object. Consider renaming <class 'keras.layers.recurrent.LSTMCell'> to avoid naming conflicts when loading with `tf.keras.models.load_model`. If renaming is not possible, pass the object in the `custom_objects` parameter of the load function.\n"
     ]
    }
   ],
   "source": [
    "import pickle\n",
    "# save the model to disk\n",
    "filename = '/content/drive/My Drive/Colab Notebooks/MCLS_lstmmodel128,1000x100.sav'\n",
    "pickle.dump(model, open(filename, 'wb'))"
   ]
  },
  {
   "cell_type": "code",
   "execution_count": null,
   "metadata": {
    "colab": {
     "base_uri": "https://localhost:8080/",
     "height": 194
    },
    "id": "Eta_-PO0Up06",
    "outputId": "86730f1d-61be-4d97-f59f-31b1c1aa2ede"
   },
   "outputs": [
    {
     "data": {
      "text/plain": [
       "<matplotlib.legend.Legend at 0x7f9e8d99a8d0>"
      ]
     },
     "execution_count": 23,
     "metadata": {},
     "output_type": "execute_result"
    },
    {
     "data": {
      "image/png": "[encoded data removed]",
      "text/plain": [
       "<Figure size 432x288 with 1 Axes>"
      ]
     },
     "metadata": {
      "needs_background": "light"
     },
     "output_type": "display_data"
    }
   ],
   "source": [
    "import matplotlib.pyplot as plot\n",
    "plot.subplot(2,1,1)\n",
    "plot.plot(history.history['acc'])\n",
    "plot.plot(history.history['val_acc'])\n",
    "plot.title('model accuracy')\n",
    "plot.ylabel('accuracy')\n",
    "plot.xlabel('epoch')\n",
    "plot.legend(['train', 'test'], loc='lower right')"
   ]
  },
  {
   "cell_type": "code",
   "execution_count": null,
   "metadata": {
    "colab": {
     "base_uri": "https://localhost:8080/",
     "height": 194
    },
    "id": "QGbt1pYIUp06",
    "outputId": "46d38f7a-d7c8-41e2-d890-4b2c47f3797a"
   },
   "outputs": [
    {
     "data": {
      "text/plain": [
       "<matplotlib.legend.Legend at 0x7f9e8d9889d0>"
      ]
     },
     "execution_count": 24,
     "metadata": {},
     "output_type": "execute_result"
    },
    {
     "data": {
      "image/png": "[encoded data removed]",
      "text/plain": [
       "<Figure size 432x288 with 1 Axes>"
      ]
     },
     "metadata": {
      "needs_background": "light"
     },
     "output_type": "display_data"
    }
   ],
   "source": [
    "plot.subplot(2,1,2)\n",
    "plot.plot(history.history['loss'])\n",
    "plot.plot(history.history['val_loss'])\n",
    "plot.title('model loss')\n",
    "plot.ylabel('loss')\n",
    "plot.xlabel('epoch')\n",
    "plot.legend(['train', 'test'], loc='upper right')"
   ]
  }
 ],
 "metadata": {
  "colab": {
   "provenance": []
  },
  "kernelspec": {
   "display_name": "Python 3 (ipykernel)",
   "language": "python",
   "name": "python3"
  },
  "language_info": {
   "codemirror_mode": {
    "name": "ipython",
    "version": 3
   },
   "file_extension": ".py",
   "mimetype": "text/x-python",
   "name": "python",
   "nbconvert_exporter": "python",
   "pygments_lexer": "ipython3",
   "version": "3.10.9"
  }
 },
 "nbformat": 4,
 "nbformat_minor": 1
}
