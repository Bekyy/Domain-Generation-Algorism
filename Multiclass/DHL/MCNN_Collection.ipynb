{
 "cells": [
  {
   "cell_type": "markdown",
   "metadata": {
    "id": "_nO5OO7G6svj"
   },
   "source": [
    "## 32x3"
   ]
  },
  {
   "cell_type": "markdown",
   "metadata": {
    "id": "8-7rZBltxCqQ"
   },
   "source": [
    "### 1000x50"
   ]
  },
  {
   "cell_type": "code",
   "execution_count": null,
   "metadata": {
    "colab": {
     "base_uri": "https://localhost:8080/"
    },
    "id": "hcDPXWKz3y1H",
    "outputId": "0e1e59d7-5174-44b8-bdb9-434066c39eef"
   },
   "outputs": [
    {
     "name": "stdout",
     "output_type": "stream",
     "text": [
      "Model: \"sequential\"\n",
      "_________________________________________________________________\n",
      " Layer (type)                Output Shape              Param #   \n",
      "=================================================================\n",
      " embedding (Embedding)       (None, 50, 100)           7000      \n",
      "                                                                 \n",
      " conv1d (Conv1D)             (None, 48, 32)            9632      \n",
      "                                                                 \n",
      " conv1d_1 (Conv1D)           (None, 46, 32)            3104      \n",
      "                                                                 \n",
      " global_max_pooling1d (Globa  (None, 32)               0         \n",
      " lMaxPooling1D)                                                  \n",
      "                                                                 \n",
      " flatten (Flatten)           (None, 32)                0         \n",
      "                                                                 \n",
      " dense (Dense)               (None, 250)               8250      \n",
      "                                                                 \n",
      " dense_1 (Dense)             (None, 52)                13052     \n",
      "                                                                 \n",
      "=================================================================\n",
      "Total params: 41,038\n",
      "Trainable params: 41,038\n",
      "Non-trainable params: 0\n",
      "_________________________________________________________________\n"
     ]
    }
   ],
   "source": [
    "from keras.models import Sequential\n",
    "from keras import layers \n",
    "\n",
    "embedding_dim = 100\n",
    "vocab_size=70\n",
    "max_len=50\n",
    "textcnnmodel = Sequential()\n",
    "textcnnmodel.add(layers.Embedding(vocab_size, embedding_dim, input_length=max_len))\n",
    "textcnnmodel.add(layers.Conv1D(32, 3, activation='relu'))\n",
    "textcnnmodel.add(layers.Conv1D(32, 3, activation='relu'))\n",
    "textcnnmodel.add(layers.GlobalMaxPooling1D())\n",
    "textcnnmodel.add(layers.Flatten())\n",
    "\n",
    "textcnnmodel.add(layers.Dense(250, activation='relu'))\n",
    "textcnnmodel.add(layers.Dense(Domain_data['label'].nunique(), activation='softmax'))\n",
    "textcnnmodel.compile(optimizer='adam',\n",
    "               loss='categorical_crossentropy',\n",
    "               metrics=['accuracy'])\n",
    "textcnnmodel.summary() "
   ]
  },
  {
   "cell_type": "code",
   "execution_count": null,
   "metadata": {
    "colab": {
     "base_uri": "https://localhost:8080/"
    },
    "id": "59x2petT3y1I",
    "outputId": "f1d71998-5d21-47ee-c200-c4686595c927"
   },
   "outputs": [
    {
     "name": "stdout",
     "output_type": "stream",
     "text": [
      "Epoch 1/50\n",
      "1622/1622 [==============================] - 28s 10ms/step - loss: 1.3044 - accuracy: 0.6357 - val_loss: 0.5485 - val_accuracy: 0.8698\n",
      "Epoch 2/50\n",
      "1622/1622 [==============================] - 15s 9ms/step - loss: 0.8534 - accuracy: 0.7502 - val_loss: 0.4666 - val_accuracy: 0.8898\n",
      "Epoch 3/50\n",
      "1622/1622 [==============================] - 15s 9ms/step - loss: 0.7638 - accuracy: 0.7752 - val_loss: 0.4728 - val_accuracy: 0.8874\n",
      "Epoch 4/50\n",
      "1622/1622 [==============================] - 14s 9ms/step - loss: 0.7101 - accuracy: 0.7905 - val_loss: 0.4542 - val_accuracy: 0.8919\n",
      "Epoch 5/50\n",
      "1622/1622 [==============================] - 15s 9ms/step - loss: 0.6712 - accuracy: 0.8022 - val_loss: 0.4519 - val_accuracy: 0.8938\n",
      "Epoch 6/50\n",
      "1622/1622 [==============================] - 14s 9ms/step - loss: 0.6421 - accuracy: 0.8101 - val_loss: 0.4634 - val_accuracy: 0.8859\n",
      "Epoch 7/50\n",
      "1622/1622 [==============================] - 14s 9ms/step - loss: 0.6189 - accuracy: 0.8165 - val_loss: 0.4124 - val_accuracy: 0.8967\n",
      "Epoch 8/50\n",
      "1622/1622 [==============================] - 15s 9ms/step - loss: 0.5999 - accuracy: 0.8217 - val_loss: 0.4392 - val_accuracy: 0.8924\n",
      "Epoch 9/50\n",
      "1622/1622 [==============================] - 17s 10ms/step - loss: 0.5838 - accuracy: 0.8262 - val_loss: 0.4396 - val_accuracy: 0.8920\n",
      "Epoch 10/50\n",
      "1622/1622 [==============================] - 14s 9ms/step - loss: 0.5711 - accuracy: 0.8298 - val_loss: 0.4501 - val_accuracy: 0.8792\n",
      "Epoch 11/50\n",
      "1622/1622 [==============================] - 16s 10ms/step - loss: 0.5609 - accuracy: 0.8327 - val_loss: 0.4454 - val_accuracy: 0.8909\n",
      "Epoch 12/50\n",
      "1622/1622 [==============================] - 14s 9ms/step - loss: 0.5522 - accuracy: 0.8354 - val_loss: 0.4427 - val_accuracy: 0.8865\n",
      "Epoch 13/50\n",
      "1622/1622 [==============================] - 15s 10ms/step - loss: 0.5435 - accuracy: 0.8379 - val_loss: 0.4570 - val_accuracy: 0.8845\n",
      "Epoch 14/50\n",
      "1622/1622 [==============================] - 15s 9ms/step - loss: 0.5373 - accuracy: 0.8398 - val_loss: 0.4452 - val_accuracy: 0.8901\n",
      "Epoch 15/50\n",
      "1622/1622 [==============================] - 14s 9ms/step - loss: 0.5313 - accuracy: 0.8415 - val_loss: 0.4428 - val_accuracy: 0.8858\n",
      "Epoch 16/50\n",
      "1622/1622 [==============================] - 15s 10ms/step - loss: 0.5251 - accuracy: 0.8432 - val_loss: 0.4498 - val_accuracy: 0.8858\n",
      "Epoch 17/50\n",
      "1622/1622 [==============================] - 16s 10ms/step - loss: 0.5210 - accuracy: 0.8444 - val_loss: 0.4441 - val_accuracy: 0.8868\n",
      "Epoch 18/50\n",
      "1622/1622 [==============================] - 15s 10ms/step - loss: 0.5158 - accuracy: 0.8460 - val_loss: 0.4540 - val_accuracy: 0.8848\n",
      "Epoch 19/50\n",
      "1622/1622 [==============================] - 14s 9ms/step - loss: 0.5118 - accuracy: 0.8470 - val_loss: 0.4426 - val_accuracy: 0.8922\n",
      "Epoch 20/50\n",
      "1622/1622 [==============================] - 16s 10ms/step - loss: 0.5084 - accuracy: 0.8480 - val_loss: 0.4227 - val_accuracy: 0.8914\n",
      "Epoch 21/50\n",
      "1622/1622 [==============================] - 16s 10ms/step - loss: 0.5040 - accuracy: 0.8491 - val_loss: 0.4323 - val_accuracy: 0.8930\n",
      "Epoch 22/50\n",
      "1622/1622 [==============================] - 20s 12ms/step - loss: 0.5016 - accuracy: 0.8499 - val_loss: 0.4813 - val_accuracy: 0.8771\n",
      "Epoch 23/50\n",
      "1622/1622 [==============================] - 14s 9ms/step - loss: 0.4977 - accuracy: 0.8512 - val_loss: 0.4452 - val_accuracy: 0.8852\n",
      "Epoch 24/50\n",
      "1622/1622 [==============================] - 14s 9ms/step - loss: 0.4952 - accuracy: 0.8516 - val_loss: 0.4268 - val_accuracy: 0.8953\n",
      "Epoch 25/50\n",
      "1622/1622 [==============================] - 14s 9ms/step - loss: 0.4931 - accuracy: 0.8523 - val_loss: 0.4288 - val_accuracy: 0.8887\n",
      "Epoch 26/50\n",
      "1622/1622 [==============================] - 16s 10ms/step - loss: 0.4896 - accuracy: 0.8534 - val_loss: 0.4152 - val_accuracy: 0.8981\n",
      "Epoch 27/50\n",
      "1622/1622 [==============================] - 14s 9ms/step - loss: 0.4876 - accuracy: 0.8538 - val_loss: 0.4450 - val_accuracy: 0.8837\n",
      "Epoch 28/50\n",
      "1622/1622 [==============================] - 14s 9ms/step - loss: 0.4858 - accuracy: 0.8541 - val_loss: 0.4168 - val_accuracy: 0.8957\n",
      "Epoch 29/50\n",
      "1622/1622 [==============================] - 14s 9ms/step - loss: 0.4832 - accuracy: 0.8548 - val_loss: 0.4312 - val_accuracy: 0.8912\n",
      "Epoch 30/50\n",
      "1622/1622 [==============================] - 14s 9ms/step - loss: 0.4813 - accuracy: 0.8553 - val_loss: 0.4306 - val_accuracy: 0.8931\n",
      "Epoch 31/50\n",
      "1622/1622 [==============================] - 14s 9ms/step - loss: 0.4792 - accuracy: 0.8559 - val_loss: 0.4783 - val_accuracy: 0.8813\n",
      "Epoch 32/50\n",
      "1622/1622 [==============================] - 16s 10ms/step - loss: 0.4774 - accuracy: 0.8565 - val_loss: 0.4657 - val_accuracy: 0.8880\n",
      "Epoch 33/50\n",
      "1622/1622 [==============================] - 16s 10ms/step - loss: 0.4766 - accuracy: 0.8567 - val_loss: 0.4100 - val_accuracy: 0.8969\n",
      "Epoch 34/50\n",
      "1622/1622 [==============================] - 16s 10ms/step - loss: 0.4755 - accuracy: 0.8570 - val_loss: 0.4316 - val_accuracy: 0.8906\n",
      "Epoch 35/50\n",
      "1622/1622 [==============================] - 16s 10ms/step - loss: 0.4728 - accuracy: 0.8576 - val_loss: 0.4275 - val_accuracy: 0.8910\n",
      "Epoch 36/50\n",
      "1622/1622 [==============================] - 15s 9ms/step - loss: 0.4717 - accuracy: 0.8581 - val_loss: 0.4245 - val_accuracy: 0.8922\n",
      "Epoch 37/50\n",
      "1622/1622 [==============================] - 15s 9ms/step - loss: 0.4703 - accuracy: 0.8584 - val_loss: 0.4620 - val_accuracy: 0.8848\n",
      "Epoch 38/50\n",
      "1622/1622 [==============================] - 16s 10ms/step - loss: 0.4690 - accuracy: 0.8589 - val_loss: 0.4294 - val_accuracy: 0.8948\n",
      "Epoch 39/50\n",
      "1622/1622 [==============================] - 15s 9ms/step - loss: 0.4677 - accuracy: 0.8590 - val_loss: 0.4104 - val_accuracy: 0.8964\n",
      "Epoch 40/50\n",
      "1622/1622 [==============================] - 16s 10ms/step - loss: 0.4670 - accuracy: 0.8592 - val_loss: 0.4503 - val_accuracy: 0.8869\n",
      "Epoch 41/50\n",
      "1622/1622 [==============================] - 15s 9ms/step - loss: 0.4663 - accuracy: 0.8595 - val_loss: 0.4371 - val_accuracy: 0.8905\n",
      "Epoch 42/50\n",
      "1622/1622 [==============================] - 16s 10ms/step - loss: 0.4641 - accuracy: 0.8601 - val_loss: 0.4277 - val_accuracy: 0.8900\n",
      "Epoch 43/50\n",
      "1622/1622 [==============================] - 16s 10ms/step - loss: 0.4633 - accuracy: 0.8603 - val_loss: 0.4222 - val_accuracy: 0.8960\n",
      "Epoch 44/50\n",
      "1622/1622 [==============================] - 15s 9ms/step - loss: 0.4615 - accuracy: 0.8608 - val_loss: 0.4434 - val_accuracy: 0.8910\n",
      "Epoch 45/50\n",
      "1622/1622 [==============================] - 16s 10ms/step - loss: 0.4614 - accuracy: 0.8609 - val_loss: 0.4262 - val_accuracy: 0.8949\n",
      "Epoch 46/50\n",
      "1622/1622 [==============================] - 16s 10ms/step - loss: 0.4604 - accuracy: 0.8611 - val_loss: 0.4286 - val_accuracy: 0.8928\n",
      "Epoch 47/50\n",
      "1622/1622 [==============================] - 15s 9ms/step - loss: 0.4587 - accuracy: 0.8617 - val_loss: 0.4356 - val_accuracy: 0.8917\n",
      "Epoch 48/50\n",
      "1622/1622 [==============================] - 15s 9ms/step - loss: 0.4578 - accuracy: 0.8616 - val_loss: 0.4243 - val_accuracy: 0.8942\n",
      "Epoch 49/50\n",
      "1622/1622 [==============================] - 15s 9ms/step - loss: 0.4570 - accuracy: 0.8621 - val_loss: 0.4430 - val_accuracy: 0.8881\n",
      "Epoch 50/50\n",
      "1622/1622 [==============================] - 16s 10ms/step - loss: 0.4560 - accuracy: 0.8626 - val_loss: 0.4498 - val_accuracy: 0.8847\n",
      "CNN took 772.5882894992828 milliseconds to train Multiclass data.\n",
      "\n"
     ]
    }
   ],
   "source": [
    "import time\n",
    "start = time.time()\n",
    "history=textcnnmodel.fit(X_train,y_train,epochs=50, verbose=True,validation_data=(X_test, y_test),batch_size=1000)\n",
    "end  = time.time()\n",
    "print(\"CNN took {} milliseconds to train Multiclass data.\\n\".format(end-start))"
   ]
  },
  {
   "cell_type": "code",
   "execution_count": null,
   "metadata": {
    "colab": {
     "base_uri": "https://localhost:8080/"
    },
    "id": "7icLPt0z3y1J",
    "outputId": "292ff494-130b-4893-9b57-c6c0e41fe71b"
   },
   "outputs": [
    {
     "name": "stdout",
     "output_type": "stream",
     "text": [
      "Training Accuracy: 0.8625\n",
      "Testing Accuracy:  0.8847\n"
     ]
    }
   ],
   "source": [
    "loss, accuracy = textcnnmodel.evaluate(X_train, y_train, verbose=False)\n",
    "print(\"Training Accuracy: {:.4f}\".format(accuracy))\n",
    "loss, accuracy = textcnnmodel.evaluate(X_test, y_test, verbose=False)\n",
    "print(\"Testing Accuracy:  {:.4f}\".format(accuracy)) "
   ]
  },
  {
   "cell_type": "code",
   "execution_count": null,
   "metadata": {
    "colab": {
     "base_uri": "https://localhost:8080/"
    },
    "id": "bu5q0XyY3y1J",
    "outputId": "e0c8b8d5-0286-4cdd-cd98-628ec20987af"
   },
   "outputs": [
    {
     "name": "stdout",
     "output_type": "stream",
     "text": [
      "LSTM took 17.771240949630737 milliseconds to test data.\n",
      "\n"
     ]
    }
   ],
   "source": [
    "start = time.time()\n",
    "y_lstmpred = textcnnmodel.predict(X_test)\n",
    "end  = time.time()\n",
    "print(\"LSTM took {} milliseconds to test data.\\n\".format(end-start))"
   ]
  },
  {
   "cell_type": "code",
   "execution_count": null,
   "metadata": {
    "colab": {
     "base_uri": "https://localhost:8080/"
    },
    "id": "67_MEWqZ3y1K",
    "outputId": "8915a572-18b9-4e0a-cc31-302694a22c3f"
   },
   "outputs": [
    {
     "name": "stderr",
     "output_type": "stream",
     "text": [
      "/usr/local/lib/python3.7/dist-packages/sklearn/metrics/_classification.py:1318: UndefinedMetricWarning: Precision and F-score are ill-defined and being set to 0.0 in labels with no predicted samples. Use `zero_division` parameter to control this behavior.\n",
      "  _warn_prf(average, modifier, msg_start, len(result))\n"
     ]
    },
    {
     "name": "stdout",
     "output_type": "stream",
     "text": [
      "              precision    recall  f1-score   support\n",
      "\n",
      "           0       0.67      1.00      0.80        10\n",
      "           1       0.50      1.00      0.67         5\n",
      "           2       0.85      1.00      0.92        28\n",
      "           3       0.99      1.00      1.00     94137\n",
      "           4       0.04      0.27      0.07       210\n",
      "           5       0.15      0.40      0.22       197\n",
      "           6       0.01      0.07      0.02        89\n",
      "           7       0.50      1.00      0.67         1\n",
      "           8       0.01      0.02      0.01       214\n",
      "           9       0.03      0.06      0.04       151\n",
      "          10       0.88      0.90      0.89       218\n",
      "          11       0.88      0.90      0.89    100071\n",
      "          12       0.67      0.85      0.75        94\n",
      "          13       0.18      0.61      0.28        44\n",
      "          14       0.00      0.00      0.00      5982\n",
      "          15       0.00      0.02      0.01        51\n",
      "          16       0.03      0.11      0.05        63\n",
      "          17       0.79      0.87      0.83      2414\n",
      "          18       0.72      0.59      0.65        22\n",
      "          19       0.83      1.00      0.91        29\n",
      "          20       0.98      0.83      0.90    122443\n",
      "          21       0.02      0.02      0.02       241\n",
      "          22       0.06      0.54      0.11       190\n",
      "          23       0.76      0.26      0.38      1699\n",
      "          24       0.91      0.98      0.94      2067\n",
      "          25       0.36      0.22      0.27       540\n",
      "          26       0.18      0.00      0.00      1643\n",
      "          27       0.57      0.92      0.70      1096\n",
      "          28       0.02      0.06      0.03        69\n",
      "          29       0.00      0.00      0.00        11\n",
      "          30       0.62      0.75      0.68        32\n",
      "          31       0.01      0.06      0.02        17\n",
      "          32       0.96      0.90      0.93      8834\n",
      "          33       0.03      0.09      0.04       150\n",
      "          34       0.00      0.00      0.00        35\n",
      "          35       0.77      0.91      0.83       375\n",
      "          36       0.00      0.00      0.00      3958\n",
      "          37       0.00      0.00      0.00      2197\n",
      "          38       0.99      0.96      0.97     36002\n",
      "          39       0.16      0.63      0.26       484\n",
      "          40       0.66      0.70      0.68      1222\n",
      "          41       0.67      0.92      0.78      5691\n",
      "          42       0.17      0.86      0.28       473\n",
      "          43       0.23      0.72      0.34       826\n",
      "          44       0.01      0.03      0.01        39\n",
      "          45       0.86      0.69      0.77     18732\n",
      "          46       0.00      0.00      0.00         6\n",
      "          47       0.75      1.00      0.86         6\n",
      "          48       0.60      0.67      0.63       109\n",
      "          49       0.19      0.48      0.27       165\n",
      "          50       0.00      0.00      0.00        15\n",
      "          51       0.37      0.57      0.45      1930\n",
      "\n",
      "   micro avg       0.91      0.86      0.88    415327\n",
      "   macro avg       0.40      0.51      0.42    415327\n",
      "weighted avg       0.90      0.86      0.88    415327\n",
      " samples avg       0.86      0.86      0.86    415327\n",
      "\n"
     ]
    },
    {
     "name": "stderr",
     "output_type": "stream",
     "text": [
      "/usr/local/lib/python3.7/dist-packages/sklearn/metrics/_classification.py:1318: UndefinedMetricWarning: Precision and F-score are ill-defined and being set to 0.0 in samples with no predicted labels. Use `zero_division` parameter to control this behavior.\n",
      "  _warn_prf(average, modifier, msg_start, len(result))\n"
     ]
    }
   ],
   "source": [
    "from sklearn.metrics import classification_report\n",
    "y_lstmpred=(y_lstmpred > 0.5)\n",
    "print(classification_report(y_test, y_lstmpred))"
   ]
  },
  {
   "cell_type": "code",
   "execution_count": null,
   "metadata": {
    "colab": {
     "base_uri": "https://localhost:8080/",
     "height": 573
    },
    "id": "H__oWqEP3y1L",
    "outputId": "c70eaae8-094a-46ef-cc63-2388c2d6c790"
   },
   "outputs": [
    {
     "data": {
      "image/png": "[encoded data removed]",
      "text/plain": [
       "<Figure size 432x288 with 1 Axes>"
      ]
     },
     "metadata": {
      "needs_background": "light"
     },
     "output_type": "display_data"
    },
    {
     "data": {
      "image/png": "[encoded data removed]",
      "text/plain": [
       "<Figure size 432x288 with 1 Axes>"
      ]
     },
     "metadata": {
      "needs_background": "light"
     },
     "output_type": "display_data"
    }
   ],
   "source": [
    "def Training_and_validation_plot(history):\n",
    "    acc = history.history['accuracy']\n",
    "    val_acc = history.history['val_accuracy']\n",
    "    loss = history.history['loss']\n",
    "    val_loss = history.history['val_loss']\n",
    "    epochs = range(1, len(acc) + 1)\n",
    "\n",
    "    plt.plot(epochs, acc, 'bo', label = 'Training Accuracy')\n",
    "    plt.plot(epochs, val_acc, 'r', label = 'Validation Accuracy')\n",
    "    plt.title('Training and Validation Accuracy')\n",
    "    plt.xlabel('Epochs')\n",
    "    plt.ylabel('Loss')\n",
    "    plt.legend()\n",
    "\n",
    "    plt.figure()\n",
    "    plt.plot(epochs, loss, 'bo', label = 'Training Loss')\n",
    "    plt.plot(epochs, val_loss, 'r', label = 'Validation Loss')\n",
    "    plt.title('Training and Validation Loss')\n",
    "    plt.xlabel('Epochs')\n",
    "    plt.ylabel('Loss')\n",
    "    plt.legend()\n",
    "    plt.show()\n",
    "Training_and_validation_plot(history)"
   ]
  },
  {
   "cell_type": "code",
   "execution_count": null,
   "metadata": {
    "colab": {
     "base_uri": "https://localhost:8080/"
    },
    "id": "TUyWxG3E3y1L",
    "outputId": "7bea153d-b401-429f-cf03-3db0bbe244c2"
   },
   "outputs": [
    {
     "name": "stdout",
     "output_type": "stream",
     "text": [
      "INFO:tensorflow:Assets written to: ram://646b6f0c-246a-4785-9946-a1a24d71224e/assets\n"
     ]
    }
   ],
   "source": [
    "import pickle\n",
    "# save the model to disk\n",
    "filename = '/content/drive/My Drive/Colab Notebooks/|Mcnnmodel_2x32x3,1000x50.sav'\n",
    "pickle.dump(textcnnmodel, open(filename, 'wb'))"
   ]
  },
  {
   "cell_type": "markdown",
   "metadata": {
    "id": "Ob1rh5_v-ndF"
   },
   "source": [
    "### 1000x100"
   ]
  },
  {
   "cell_type": "code",
   "execution_count": null,
   "metadata": {
    "colab": {
     "base_uri": "https://localhost:8080/"
    },
    "id": "w7-VPxXd-9Mx",
    "outputId": "f2d32d9c-7095-43e1-cdc8-176996e5b1a3"
   },
   "outputs": [
    {
     "name": "stdout",
     "output_type": "stream",
     "text": [
      "Model: \"sequential_1\"\n",
      "_________________________________________________________________\n",
      " Layer (type)                Output Shape              Param #   \n",
      "=================================================================\n",
      " embedding_1 (Embedding)     (None, 50, 100)           7000      \n",
      "                                                                 \n",
      " conv1d_2 (Conv1D)           (None, 48, 32)            9632      \n",
      "                                                                 \n",
      " conv1d_3 (Conv1D)           (None, 46, 32)            3104      \n",
      "                                                                 \n",
      " global_max_pooling1d_1 (Glo  (None, 32)               0         \n",
      " balMaxPooling1D)                                                \n",
      "                                                                 \n",
      " flatten_1 (Flatten)         (None, 32)                0         \n",
      "                                                                 \n",
      " dense_2 (Dense)             (None, 250)               8250      \n",
      "                                                                 \n",
      " dense_3 (Dense)             (None, 52)                13052     \n",
      "                                                                 \n",
      "=================================================================\n",
      "Total params: 41,038\n",
      "Trainable params: 41,038\n",
      "Non-trainable params: 0\n",
      "_________________________________________________________________\n"
     ]
    }
   ],
   "source": [
    "from keras.models import Sequential\n",
    "from keras import layers \n",
    "\n",
    "embedding_dim = 100\n",
    "vocab_size=70\n",
    "max_len=50\n",
    "textcnnmodel = Sequential()\n",
    "textcnnmodel.add(layers.Embedding(vocab_size, embedding_dim, input_length=max_len))\n",
    "textcnnmodel.add(layers.Conv1D(32, 3, activation='relu'))\n",
    "textcnnmodel.add(layers.Conv1D(32, 3, activation='relu'))\n",
    "textcnnmodel.add(layers.GlobalMaxPooling1D())\n",
    "textcnnmodel.add(layers.Flatten())\n",
    "\n",
    "textcnnmodel.add(layers.Dense(250, activation='relu'))\n",
    "textcnnmodel.add(layers.Dense(Domain_data['label'].nunique(), activation='softmax'))\n",
    "textcnnmodel.compile(optimizer='adam',\n",
    "               loss='categorical_crossentropy',\n",
    "               metrics=['accuracy'])\n",
    "textcnnmodel.summary() "
   ]
  },
  {
   "cell_type": "code",
   "execution_count": null,
   "metadata": {
    "colab": {
     "base_uri": "https://localhost:8080/"
    },
    "id": "WdGN-sJP-9My",
    "outputId": "e91c3de1-8b18-4d7f-e4b3-e846ff2e1f99"
   },
   "outputs": [
    {
     "name": "stdout",
     "output_type": "stream",
     "text": [
      "Epoch 1/100\n",
      "1622/1622 [==============================] - 15s 9ms/step - loss: 1.3007 - accuracy: 0.6358 - val_loss: 0.5983 - val_accuracy: 0.8521\n",
      "Epoch 2/100\n",
      "1622/1622 [==============================] - 14s 9ms/step - loss: 0.8533 - accuracy: 0.7498 - val_loss: 0.4777 - val_accuracy: 0.8840\n",
      "Epoch 3/100\n",
      "1622/1622 [==============================] - 14s 9ms/step - loss: 0.7690 - accuracy: 0.7739 - val_loss: 0.4629 - val_accuracy: 0.8887\n",
      "Epoch 4/100\n",
      "1622/1622 [==============================] - 14s 9ms/step - loss: 0.7174 - accuracy: 0.7883 - val_loss: 0.4775 - val_accuracy: 0.8783\n",
      "Epoch 5/100\n",
      "1622/1622 [==============================] - 14s 9ms/step - loss: 0.6818 - accuracy: 0.7986 - val_loss: 0.4774 - val_accuracy: 0.8760\n",
      "Epoch 6/100\n",
      "1622/1622 [==============================] - 15s 9ms/step - loss: 0.6547 - accuracy: 0.8062 - val_loss: 0.4955 - val_accuracy: 0.8785\n",
      "Epoch 7/100\n",
      "1622/1622 [==============================] - 15s 9ms/step - loss: 0.6327 - accuracy: 0.8124 - val_loss: 0.4595 - val_accuracy: 0.8889\n",
      "Epoch 8/100\n",
      "1622/1622 [==============================] - 16s 10ms/step - loss: 0.6144 - accuracy: 0.8176 - val_loss: 0.4502 - val_accuracy: 0.8907\n",
      "Epoch 9/100\n",
      "1622/1622 [==============================] - 16s 10ms/step - loss: 0.5996 - accuracy: 0.8216 - val_loss: 0.4788 - val_accuracy: 0.8761\n",
      "Epoch 10/100\n",
      "1622/1622 [==============================] - 16s 10ms/step - loss: 0.5854 - accuracy: 0.8256 - val_loss: 0.4316 - val_accuracy: 0.8944\n",
      "Epoch 11/100\n",
      "1622/1622 [==============================] - 15s 9ms/step - loss: 0.5747 - accuracy: 0.8286 - val_loss: 0.4728 - val_accuracy: 0.8714\n",
      "Epoch 12/100\n",
      "1622/1622 [==============================] - 15s 9ms/step - loss: 0.5648 - accuracy: 0.8316 - val_loss: 0.4489 - val_accuracy: 0.8887\n",
      "Epoch 13/100\n",
      "1622/1622 [==============================] - 16s 10ms/step - loss: 0.5563 - accuracy: 0.8341 - val_loss: 0.4570 - val_accuracy: 0.8797\n",
      "Epoch 14/100\n",
      "1622/1622 [==============================] - 15s 9ms/step - loss: 0.5488 - accuracy: 0.8363 - val_loss: 0.4579 - val_accuracy: 0.8851\n",
      "Epoch 15/100\n",
      "1622/1622 [==============================] - 16s 10ms/step - loss: 0.5415 - accuracy: 0.8385 - val_loss: 0.4333 - val_accuracy: 0.8912\n",
      "Epoch 16/100\n",
      "1622/1622 [==============================] - 15s 9ms/step - loss: 0.5368 - accuracy: 0.8397 - val_loss: 0.4118 - val_accuracy: 0.8979\n",
      "Epoch 17/100\n",
      "1622/1622 [==============================] - 16s 10ms/step - loss: 0.5313 - accuracy: 0.8413 - val_loss: 0.4411 - val_accuracy: 0.8858\n",
      "Epoch 18/100\n",
      "1622/1622 [==============================] - 15s 9ms/step - loss: 0.5268 - accuracy: 0.8426 - val_loss: 0.4379 - val_accuracy: 0.8877\n",
      "Epoch 19/100\n",
      "1622/1622 [==============================] - 15s 9ms/step - loss: 0.5228 - accuracy: 0.8436 - val_loss: 0.4545 - val_accuracy: 0.8880\n",
      "Epoch 20/100\n",
      "1622/1622 [==============================] - 16s 10ms/step - loss: 0.5183 - accuracy: 0.8447 - val_loss: 0.4571 - val_accuracy: 0.8865\n",
      "Epoch 21/100\n",
      "1622/1622 [==============================] - 16s 10ms/step - loss: 0.5141 - accuracy: 0.8461 - val_loss: 0.4137 - val_accuracy: 0.8948\n",
      "Epoch 22/100\n",
      "1622/1622 [==============================] - 16s 10ms/step - loss: 0.5113 - accuracy: 0.8468 - val_loss: 0.4456 - val_accuracy: 0.8827\n",
      "Epoch 23/100\n",
      "1622/1622 [==============================] - 16s 10ms/step - loss: 0.5084 - accuracy: 0.8476 - val_loss: 0.4599 - val_accuracy: 0.8815\n",
      "Epoch 24/100\n",
      "1622/1622 [==============================] - 16s 10ms/step - loss: 0.5048 - accuracy: 0.8484 - val_loss: 0.4314 - val_accuracy: 0.8953\n",
      "Epoch 25/100\n",
      "1622/1622 [==============================] - 16s 10ms/step - loss: 0.5025 - accuracy: 0.8492 - val_loss: 0.4099 - val_accuracy: 0.8946\n",
      "Epoch 26/100\n",
      "1622/1622 [==============================] - 16s 10ms/step - loss: 0.5000 - accuracy: 0.8498 - val_loss: 0.4425 - val_accuracy: 0.8860\n",
      "Epoch 27/100\n",
      "1622/1622 [==============================] - 16s 10ms/step - loss: 0.4973 - accuracy: 0.8506 - val_loss: 0.4189 - val_accuracy: 0.8974\n",
      "Epoch 28/100\n",
      "1622/1622 [==============================] - 15s 9ms/step - loss: 0.4954 - accuracy: 0.8508 - val_loss: 0.4092 - val_accuracy: 0.8983\n",
      "Epoch 29/100\n",
      "1622/1622 [==============================] - 15s 9ms/step - loss: 0.4928 - accuracy: 0.8518 - val_loss: 0.5195 - val_accuracy: 0.8686\n",
      "Epoch 30/100\n",
      "1622/1622 [==============================] - 15s 9ms/step - loss: 0.4905 - accuracy: 0.8522 - val_loss: 0.4173 - val_accuracy: 0.8984\n",
      "Epoch 31/100\n",
      "1622/1622 [==============================] - 15s 9ms/step - loss: 0.4888 - accuracy: 0.8524 - val_loss: 0.4521 - val_accuracy: 0.8835\n",
      "Epoch 32/100\n",
      "1622/1622 [==============================] - 16s 10ms/step - loss: 0.4876 - accuracy: 0.8529 - val_loss: 0.4304 - val_accuracy: 0.8936\n",
      "Epoch 33/100\n",
      "1622/1622 [==============================] - 15s 9ms/step - loss: 0.4852 - accuracy: 0.8538 - val_loss: 0.4303 - val_accuracy: 0.8946\n",
      "Epoch 34/100\n",
      "1622/1622 [==============================] - 15s 9ms/step - loss: 0.4835 - accuracy: 0.8541 - val_loss: 0.4134 - val_accuracy: 0.8974\n",
      "Epoch 35/100\n",
      "1622/1622 [==============================] - 15s 9ms/step - loss: 0.4821 - accuracy: 0.8544 - val_loss: 0.4112 - val_accuracy: 0.8963\n",
      "Epoch 36/100\n",
      "1622/1622 [==============================] - 16s 10ms/step - loss: 0.4797 - accuracy: 0.8551 - val_loss: 0.4537 - val_accuracy: 0.8793\n",
      "Epoch 37/100\n",
      "1622/1622 [==============================] - 16s 10ms/step - loss: 0.4785 - accuracy: 0.8555 - val_loss: 0.4488 - val_accuracy: 0.8818\n",
      "Epoch 38/100\n",
      "1622/1622 [==============================] - 15s 9ms/step - loss: 0.4770 - accuracy: 0.8561 - val_loss: 0.4308 - val_accuracy: 0.8907\n",
      "Epoch 39/100\n",
      "1622/1622 [==============================] - 15s 9ms/step - loss: 0.4763 - accuracy: 0.8560 - val_loss: 0.4275 - val_accuracy: 0.8921\n",
      "Epoch 40/100\n",
      "1622/1622 [==============================] - 15s 9ms/step - loss: 0.4740 - accuracy: 0.8569 - val_loss: 0.4240 - val_accuracy: 0.8955\n",
      "Epoch 41/100\n",
      "1622/1622 [==============================] - 16s 10ms/step - loss: 0.4736 - accuracy: 0.8569 - val_loss: 0.4639 - val_accuracy: 0.8867\n",
      "Epoch 42/100\n",
      "1622/1622 [==============================] - 16s 10ms/step - loss: 0.4721 - accuracy: 0.8574 - val_loss: 0.4766 - val_accuracy: 0.8774\n",
      "Epoch 43/100\n",
      "1622/1622 [==============================] - 15s 9ms/step - loss: 0.4706 - accuracy: 0.8577 - val_loss: 0.4130 - val_accuracy: 0.8961\n",
      "Epoch 44/100\n",
      "1622/1622 [==============================] - 16s 10ms/step - loss: 0.4701 - accuracy: 0.8580 - val_loss: 0.4542 - val_accuracy: 0.8880\n",
      "Epoch 45/100\n",
      "1622/1622 [==============================] - 16s 10ms/step - loss: 0.4693 - accuracy: 0.8579 - val_loss: 0.4394 - val_accuracy: 0.8884\n",
      "Epoch 46/100\n",
      "1622/1622 [==============================] - 16s 10ms/step - loss: 0.4685 - accuracy: 0.8581 - val_loss: 0.4520 - val_accuracy: 0.8849\n",
      "Epoch 47/100\n",
      "1622/1622 [==============================] - 15s 9ms/step - loss: 0.4665 - accuracy: 0.8590 - val_loss: 0.4309 - val_accuracy: 0.8922\n",
      "Epoch 48/100\n",
      "1622/1622 [==============================] - 15s 9ms/step - loss: 0.4663 - accuracy: 0.8589 - val_loss: 0.4174 - val_accuracy: 0.8921\n",
      "Epoch 49/100\n",
      "1622/1622 [==============================] - 15s 9ms/step - loss: 0.4652 - accuracy: 0.8594 - val_loss: 0.4401 - val_accuracy: 0.8924\n",
      "Epoch 50/100\n",
      "1622/1622 [==============================] - 16s 10ms/step - loss: 0.4644 - accuracy: 0.8595 - val_loss: 0.4198 - val_accuracy: 0.8948\n",
      "Epoch 51/100\n",
      "1622/1622 [==============================] - 15s 9ms/step - loss: 0.4630 - accuracy: 0.8600 - val_loss: 0.4390 - val_accuracy: 0.8917\n",
      "Epoch 52/100\n",
      "1622/1622 [==============================] - 15s 9ms/step - loss: 0.4628 - accuracy: 0.8601 - val_loss: 0.4364 - val_accuracy: 0.8881\n",
      "Epoch 53/100\n",
      "1622/1622 [==============================] - 15s 9ms/step - loss: 0.4614 - accuracy: 0.8605 - val_loss: 0.4549 - val_accuracy: 0.8872\n",
      "Epoch 54/100\n",
      "1622/1622 [==============================] - 16s 10ms/step - loss: 0.4604 - accuracy: 0.8606 - val_loss: 0.4203 - val_accuracy: 0.8957\n",
      "Epoch 55/100\n",
      "1622/1622 [==============================] - 16s 10ms/step - loss: 0.4600 - accuracy: 0.8608 - val_loss: 0.4603 - val_accuracy: 0.8860\n",
      "Epoch 56/100\n",
      "1622/1622 [==============================] - 16s 10ms/step - loss: 0.4580 - accuracy: 0.8614 - val_loss: 0.4435 - val_accuracy: 0.8921\n",
      "Epoch 57/100\n",
      "1622/1622 [==============================] - 16s 10ms/step - loss: 0.4587 - accuracy: 0.8611 - val_loss: 0.4547 - val_accuracy: 0.8856\n",
      "Epoch 58/100\n",
      "1622/1622 [==============================] - 15s 9ms/step - loss: 0.4571 - accuracy: 0.8617 - val_loss: 0.4211 - val_accuracy: 0.8920\n",
      "Epoch 59/100\n",
      "1622/1622 [==============================] - 15s 9ms/step - loss: 0.4568 - accuracy: 0.8617 - val_loss: 0.4616 - val_accuracy: 0.8827\n",
      "Epoch 60/100\n",
      "1622/1622 [==============================] - 16s 10ms/step - loss: 0.4562 - accuracy: 0.8618 - val_loss: 0.4473 - val_accuracy: 0.8916\n",
      "Epoch 61/100\n",
      "1622/1622 [==============================] - 15s 9ms/step - loss: 0.4560 - accuracy: 0.8619 - val_loss: 0.4432 - val_accuracy: 0.8872\n",
      "Epoch 62/100\n",
      "1622/1622 [==============================] - 16s 10ms/step - loss: 0.4546 - accuracy: 0.8623 - val_loss: 0.4151 - val_accuracy: 0.8984\n",
      "Epoch 63/100\n",
      "1622/1622 [==============================] - 15s 9ms/step - loss: 0.4540 - accuracy: 0.8627 - val_loss: 0.4194 - val_accuracy: 0.8984\n",
      "Epoch 64/100\n",
      "1622/1622 [==============================] - 15s 9ms/step - loss: 0.4533 - accuracy: 0.8626 - val_loss: 0.4525 - val_accuracy: 0.8881\n",
      "Epoch 65/100\n",
      "1622/1622 [==============================] - 16s 10ms/step - loss: 0.4529 - accuracy: 0.8628 - val_loss: 0.4443 - val_accuracy: 0.8904\n",
      "Epoch 66/100\n",
      "1622/1622 [==============================] - 16s 10ms/step - loss: 0.4523 - accuracy: 0.8630 - val_loss: 0.4387 - val_accuracy: 0.8952\n",
      "Epoch 67/100\n",
      "1622/1622 [==============================] - 16s 10ms/step - loss: 0.4522 - accuracy: 0.8630 - val_loss: 0.4228 - val_accuracy: 0.8931\n",
      "Epoch 68/100\n",
      "1622/1622 [==============================] - 15s 9ms/step - loss: 0.4509 - accuracy: 0.8633 - val_loss: 0.4392 - val_accuracy: 0.8912\n",
      "Epoch 69/100\n",
      "1622/1622 [==============================] - 15s 9ms/step - loss: 0.4509 - accuracy: 0.8634 - val_loss: 0.4391 - val_accuracy: 0.8886\n",
      "Epoch 70/100\n",
      "1622/1622 [==============================] - 16s 10ms/step - loss: 0.4500 - accuracy: 0.8635 - val_loss: 0.4530 - val_accuracy: 0.8871\n",
      "Epoch 71/100\n",
      "1622/1622 [==============================] - 15s 9ms/step - loss: 0.4493 - accuracy: 0.8637 - val_loss: 0.4153 - val_accuracy: 0.8950\n",
      "Epoch 72/100\n",
      "1622/1622 [==============================] - 15s 9ms/step - loss: 0.4486 - accuracy: 0.8640 - val_loss: 0.4477 - val_accuracy: 0.8888\n",
      "Epoch 73/100\n",
      "1622/1622 [==============================] - 16s 10ms/step - loss: 0.4478 - accuracy: 0.8641 - val_loss: 0.4509 - val_accuracy: 0.8858\n",
      "Epoch 74/100\n",
      "1622/1622 [==============================] - 15s 9ms/step - loss: 0.4478 - accuracy: 0.8643 - val_loss: 0.4571 - val_accuracy: 0.8906\n",
      "Epoch 75/100\n",
      "1622/1622 [==============================] - 14s 9ms/step - loss: 0.4473 - accuracy: 0.8644 - val_loss: 0.4592 - val_accuracy: 0.8871\n",
      "Epoch 76/100\n",
      "1622/1622 [==============================] - 15s 9ms/step - loss: 0.4471 - accuracy: 0.8646 - val_loss: 0.4218 - val_accuracy: 0.8984\n",
      "Epoch 77/100\n",
      "1622/1622 [==============================] - 15s 10ms/step - loss: 0.4462 - accuracy: 0.8648 - val_loss: 0.4198 - val_accuracy: 0.8945\n",
      "Epoch 78/100\n",
      "1622/1622 [==============================] - 15s 9ms/step - loss: 0.4456 - accuracy: 0.8650 - val_loss: 0.4346 - val_accuracy: 0.8934\n",
      "Epoch 79/100\n",
      "1622/1622 [==============================] - 14s 9ms/step - loss: 0.4451 - accuracy: 0.8650 - val_loss: 0.4142 - val_accuracy: 0.8949\n",
      "Epoch 80/100\n",
      "1622/1622 [==============================] - 15s 9ms/step - loss: 0.4454 - accuracy: 0.8651 - val_loss: 0.4271 - val_accuracy: 0.8891\n",
      "Epoch 81/100\n",
      "1622/1622 [==============================] - 15s 9ms/step - loss: 0.4443 - accuracy: 0.8651 - val_loss: 0.4089 - val_accuracy: 0.8982\n",
      "Epoch 82/100\n",
      "1622/1622 [==============================] - 14s 9ms/step - loss: 0.4440 - accuracy: 0.8654 - val_loss: 0.4131 - val_accuracy: 0.8964\n",
      "Epoch 83/100\n",
      "1622/1622 [==============================] - 14s 9ms/step - loss: 0.4439 - accuracy: 0.8654 - val_loss: 0.4420 - val_accuracy: 0.8898\n",
      "Epoch 84/100\n",
      "1622/1622 [==============================] - 14s 9ms/step - loss: 0.4440 - accuracy: 0.8654 - val_loss: 0.4155 - val_accuracy: 0.8950\n",
      "Epoch 85/100\n",
      "1622/1622 [==============================] - 15s 9ms/step - loss: 0.4435 - accuracy: 0.8657 - val_loss: 0.4187 - val_accuracy: 0.8963\n",
      "Epoch 86/100\n",
      "1622/1622 [==============================] - 14s 9ms/step - loss: 0.4422 - accuracy: 0.8661 - val_loss: 0.4489 - val_accuracy: 0.8879\n",
      "Epoch 87/100\n",
      "1622/1622 [==============================] - 14s 9ms/step - loss: 0.4429 - accuracy: 0.8658 - val_loss: 0.4207 - val_accuracy: 0.8993\n",
      "Epoch 88/100\n",
      "1622/1622 [==============================] - 15s 10ms/step - loss: 0.4420 - accuracy: 0.8660 - val_loss: 0.4352 - val_accuracy: 0.8931\n",
      "Epoch 89/100\n",
      "1622/1622 [==============================] - 15s 9ms/step - loss: 0.4422 - accuracy: 0.8660 - val_loss: 0.4345 - val_accuracy: 0.8919\n",
      "Epoch 90/100\n",
      "1622/1622 [==============================] - 15s 9ms/step - loss: 0.4407 - accuracy: 0.8665 - val_loss: 0.4433 - val_accuracy: 0.8876\n",
      "Epoch 91/100\n",
      "1622/1622 [==============================] - 14s 9ms/step - loss: 0.4410 - accuracy: 0.8663 - val_loss: 0.4258 - val_accuracy: 0.8945\n",
      "Epoch 92/100\n",
      "1622/1622 [==============================] - 15s 9ms/step - loss: 0.4405 - accuracy: 0.8666 - val_loss: 0.4421 - val_accuracy: 0.8923\n",
      "Epoch 93/100\n",
      "1622/1622 [==============================] - 15s 9ms/step - loss: 0.4399 - accuracy: 0.8666 - val_loss: 0.4345 - val_accuracy: 0.8901\n",
      "Epoch 94/100\n",
      "1622/1622 [==============================] - 15s 9ms/step - loss: 0.4401 - accuracy: 0.8667 - val_loss: 0.4270 - val_accuracy: 0.8929\n",
      "Epoch 95/100\n",
      "1622/1622 [==============================] - 14s 9ms/step - loss: 0.4396 - accuracy: 0.8666 - val_loss: 0.4126 - val_accuracy: 0.8952\n",
      "Epoch 96/100\n",
      "1622/1622 [==============================] - 15s 9ms/step - loss: 0.4386 - accuracy: 0.8670 - val_loss: 0.4383 - val_accuracy: 0.8877\n",
      "Epoch 97/100\n",
      "1622/1622 [==============================] - 15s 10ms/step - loss: 0.4388 - accuracy: 0.8670 - val_loss: 0.4107 - val_accuracy: 0.8991\n",
      "Epoch 98/100\n",
      "1622/1622 [==============================] - 14s 9ms/step - loss: 0.4376 - accuracy: 0.8675 - val_loss: 0.4330 - val_accuracy: 0.8915\n",
      "Epoch 99/100\n",
      "1622/1622 [==============================] - 14s 9ms/step - loss: 0.4379 - accuracy: 0.8673 - val_loss: 0.4479 - val_accuracy: 0.8905\n",
      "Epoch 100/100\n",
      "1622/1622 [==============================] - 15s 9ms/step - loss: 0.4372 - accuracy: 0.8676 - val_loss: 0.4134 - val_accuracy: 0.8983\n",
      "CNN took 1522.8584167957306 milliseconds to train Multiclass data.\n",
      "\n"
     ]
    }
   ],
   "source": [
    "import time\n",
    "start = time.time()\n",
    "history=textcnnmodel.fit(X_train,y_train,epochs=100, verbose=True,validation_data=(X_test, y_test),batch_size=1000)\n",
    "end  = time.time()\n",
    "print(\"CNN took {} milliseconds to train Multiclass data.\\n\".format(end-start))"
   ]
  },
  {
   "cell_type": "code",
   "execution_count": null,
   "metadata": {
    "colab": {
     "base_uri": "https://localhost:8080/"
    },
    "id": "rvs0bjOV-9Mz",
    "outputId": "e841e47a-81a6-4b8e-feeb-c18f612c7b95"
   },
   "outputs": [
    {
     "name": "stdout",
     "output_type": "stream",
     "text": [
      "Training Accuracy: 0.8689\n",
      "Testing Accuracy:  0.8983\n"
     ]
    }
   ],
   "source": [
    "loss, accuracy = textcnnmodel.evaluate(X_train, y_train, verbose=False)\n",
    "print(\"Training Accuracy: {:.4f}\".format(accuracy))\n",
    "loss, accuracy = textcnnmodel.evaluate(X_test, y_test, verbose=False)\n",
    "print(\"Testing Accuracy:  {:.4f}\".format(accuracy)) "
   ]
  },
  {
   "cell_type": "code",
   "execution_count": null,
   "metadata": {
    "colab": {
     "base_uri": "https://localhost:8080/"
    },
    "id": "Aq4b-5IH-9Mz",
    "outputId": "784b3d91-42fe-4188-ff08-657f2943a609"
   },
   "outputs": [
    {
     "name": "stdout",
     "output_type": "stream",
     "text": [
      "LSTM took 17.546791315078735 milliseconds to test data.\n",
      "\n"
     ]
    }
   ],
   "source": [
    "start = time.time()\n",
    "y_lstmpred = textcnnmodel.predict(X_test)\n",
    "end  = time.time()\n",
    "print(\"LSTM took {} milliseconds to test data.\\n\".format(end-start))"
   ]
  },
  {
   "cell_type": "code",
   "execution_count": null,
   "metadata": {
    "colab": {
     "base_uri": "https://localhost:8080/"
    },
    "id": "Kub-tXgk-9M0",
    "outputId": "1f2b4bf4-1c6c-46c6-deaa-e70eb5f2af81"
   },
   "outputs": [
    {
     "name": "stderr",
     "output_type": "stream",
     "text": [
      "/usr/local/lib/python3.7/dist-packages/sklearn/metrics/_classification.py:1318: UndefinedMetricWarning: Precision and F-score are ill-defined and being set to 0.0 in labels with no predicted samples. Use `zero_division` parameter to control this behavior.\n",
      "  _warn_prf(average, modifier, msg_start, len(result))\n"
     ]
    },
    {
     "name": "stdout",
     "output_type": "stream",
     "text": [
      "              precision    recall  f1-score   support\n",
      "\n",
      "           0       0.91      1.00      0.95        10\n",
      "           1       0.62      1.00      0.77         5\n",
      "           2       0.80      1.00      0.89        28\n",
      "           3       0.99      1.00      1.00     94137\n",
      "           4       0.05      0.29      0.09       210\n",
      "           5       0.17      0.39      0.24       197\n",
      "           6       0.02      0.12      0.03        89\n",
      "           7       0.00      0.00      0.00         1\n",
      "           8       0.01      0.05      0.01       214\n",
      "           9       0.03      0.07      0.04       151\n",
      "          10       0.90      0.87      0.89       218\n",
      "          11       0.89      0.89      0.89    100071\n",
      "          12       0.68      0.76      0.72        94\n",
      "          13       0.17      0.61      0.27        44\n",
      "          14       0.00      0.00      0.00      5982\n",
      "          15       0.01      0.04      0.01        51\n",
      "          16       0.04      0.13      0.06        63\n",
      "          17       0.88      0.83      0.85      2414\n",
      "          18       0.52      0.50      0.51        22\n",
      "          19       0.88      1.00      0.94        29\n",
      "          20       0.98      0.89      0.93    122443\n",
      "          21       0.02      0.02      0.02       241\n",
      "          22       0.08      0.52      0.14       190\n",
      "          23       0.77      0.28      0.41      1699\n",
      "          24       0.95      0.95      0.95      2067\n",
      "          25       0.32      0.25      0.28       540\n",
      "          26       0.19      0.00      0.01      1643\n",
      "          27       0.60      0.91      0.72      1096\n",
      "          28       0.03      0.09      0.04        69\n",
      "          29       0.08      0.09      0.09        11\n",
      "          30       0.51      0.75      0.61        32\n",
      "          31       0.00      0.00      0.00        17\n",
      "          32       0.97      0.92      0.94      8834\n",
      "          33       0.02      0.11      0.04       150\n",
      "          34       0.00      0.00      0.00        35\n",
      "          35       0.85      0.94      0.89       375\n",
      "          36       0.00      0.00      0.00      3958\n",
      "          37       0.00      0.00      0.00      2197\n",
      "          38       0.98      0.97      0.98     36002\n",
      "          39       0.21      0.55      0.31       484\n",
      "          40       0.71      0.66      0.68      1222\n",
      "          41       0.81      0.85      0.83      5691\n",
      "          42       0.32      0.67      0.43       473\n",
      "          43       0.34      0.50      0.41       826\n",
      "          44       0.04      0.10      0.06        39\n",
      "          45       0.82      0.77      0.79     18732\n",
      "          46       0.00      0.00      0.00         6\n",
      "          47       0.86      1.00      0.92         6\n",
      "          48       0.57      0.63      0.60       109\n",
      "          49       0.21      0.48      0.29       165\n",
      "          50       0.00      0.00      0.00        15\n",
      "          51       0.47      0.50      0.49      1930\n",
      "\n",
      "   micro avg       0.92      0.88      0.90    415327\n",
      "   macro avg       0.41      0.48      0.42    415327\n",
      "weighted avg       0.90      0.88      0.89    415327\n",
      " samples avg       0.88      0.88      0.88    415327\n",
      "\n"
     ]
    },
    {
     "name": "stderr",
     "output_type": "stream",
     "text": [
      "/usr/local/lib/python3.7/dist-packages/sklearn/metrics/_classification.py:1318: UndefinedMetricWarning: Precision and F-score are ill-defined and being set to 0.0 in samples with no predicted labels. Use `zero_division` parameter to control this behavior.\n",
      "  _warn_prf(average, modifier, msg_start, len(result))\n"
     ]
    }
   ],
   "source": [
    "from sklearn.metrics import classification_report\n",
    "y_lstmpred=(y_lstmpred > 0.5)\n",
    "print(classification_report(y_test, y_lstmpred))"
   ]
  },
  {
   "cell_type": "code",
   "execution_count": null,
   "metadata": {
    "colab": {
     "base_uri": "https://localhost:8080/",
     "height": 573
    },
    "id": "7ClYBk1H-9M1",
    "outputId": "33d07644-e8f5-4bdb-92b3-a87e6ba5f844"
   },
   "outputs": [
    {
     "data": {
      "image/png": "[encoded data removed]",
      "text/plain": [
       "<Figure size 432x288 with 1 Axes>"
      ]
     },
     "metadata": {
      "needs_background": "light"
     },
     "output_type": "display_data"
    },
    {
     "data": {
      "image/png": "[encoded data removed]",
      "text/plain": [
       "<Figure size 432x288 with 1 Axes>"
      ]
     },
     "metadata": {
      "needs_background": "light"
     },
     "output_type": "display_data"
    }
   ],
   "source": [
    "def Training_and_validation_plot(history):\n",
    "    acc = history.history['accuracy']\n",
    "    val_acc = history.history['val_accuracy']\n",
    "    loss = history.history['loss']\n",
    "    val_loss = history.history['val_loss']\n",
    "    epochs = range(1, len(acc) + 1)\n",
    "\n",
    "    plt.plot(epochs, acc, 'bo', label = 'Training Accuracy')\n",
    "    plt.plot(epochs, val_acc, 'r', label = 'Validation Accuracy')\n",
    "    plt.title('Training and Validation Accuracy')\n",
    "    plt.xlabel('Epochs')\n",
    "    plt.ylabel('Loss')\n",
    "    plt.legend()\n",
    "\n",
    "    plt.figure()\n",
    "    plt.plot(epochs, loss, 'bo', label = 'Training Loss')\n",
    "    plt.plot(epochs, val_loss, 'r', label = 'Validation Loss')\n",
    "    plt.title('Training and Validation Loss')\n",
    "    plt.xlabel('Epochs')\n",
    "    plt.ylabel('Loss')\n",
    "    plt.legend()\n",
    "    plt.show()\n",
    "Training_and_validation_plot(history)"
   ]
  },
  {
   "cell_type": "code",
   "execution_count": null,
   "metadata": {
    "colab": {
     "base_uri": "https://localhost:8080/"
    },
    "id": "xHHRHHPB-9M1",
    "outputId": "e6bf1ad5-4673-49e9-9e0b-4f265abf1b8c"
   },
   "outputs": [
    {
     "name": "stdout",
     "output_type": "stream",
     "text": [
      "INFO:tensorflow:Assets written to: ram://201aeac6-9a65-4a88-bedb-1ce16b78871f/assets\n"
     ]
    },
    {
     "name": "stderr",
     "output_type": "stream",
     "text": [
      "INFO:tensorflow:Assets written to: ram://201aeac6-9a65-4a88-bedb-1ce16b78871f/assets\n"
     ]
    }
   ],
   "source": [
    "import pickle\n",
    "# save the model to disk\n",
    "filename = '/content/drive/My Drive/Colab Notebooks/|Mcnnmodel_2x32x3,1000x100.sav'\n",
    "pickle.dump(textcnnmodel, open(filename, 'wb'))"
   ]
  },
  {
   "cell_type": "markdown",
   "metadata": {
    "id": "6BYpB6GnHyAM"
   },
   "source": [
    "### 64x3"
   ]
  },
  {
   "cell_type": "code",
   "execution_count": null,
   "metadata": {
    "colab": {
     "base_uri": "https://localhost:8080/"
    },
    "id": "j-PcVzFiHzqQ",
    "outputId": "1cff98b4-7448-470f-869e-4e1a5b312546"
   },
   "outputs": [
    {
     "name": "stdout",
     "output_type": "stream",
     "text": [
      "Model: \"sequential_2\"\n",
      "_________________________________________________________________\n",
      " Layer (type)                Output Shape              Param #   \n",
      "=================================================================\n",
      " embedding_2 (Embedding)     (None, 50, 100)           7000      \n",
      "                                                                 \n",
      " conv1d_4 (Conv1D)           (None, 48, 64)            19264     \n",
      "                                                                 \n",
      " conv1d_5 (Conv1D)           (None, 46, 64)            12352     \n",
      "                                                                 \n",
      " global_max_pooling1d_2 (Glo  (None, 64)               0         \n",
      " balMaxPooling1D)                                                \n",
      "                                                                 \n",
      " flatten_2 (Flatten)         (None, 64)                0         \n",
      "                                                                 \n",
      " dense_4 (Dense)             (None, 250)               16250     \n",
      "                                                                 \n",
      " dense_5 (Dense)             (None, 52)                13052     \n",
      "                                                                 \n",
      "=================================================================\n",
      "Total params: 67,918\n",
      "Trainable params: 67,918\n",
      "Non-trainable params: 0\n",
      "_________________________________________________________________\n"
     ]
    }
   ],
   "source": [
    "from keras.models import Sequential\n",
    "from keras import layers \n",
    "\n",
    "embedding_dim = 100\n",
    "vocab_size=70\n",
    "max_len=50\n",
    "textcnnmodel = Sequential()\n",
    "textcnnmodel.add(layers.Embedding(vocab_size, embedding_dim, input_length=max_len))\n",
    "textcnnmodel.add(layers.Conv1D(64, 3, activation='relu'))\n",
    "textcnnmodel.add(layers.Conv1D(64, 3, activation='relu'))\n",
    "textcnnmodel.add(layers.GlobalMaxPooling1D())\n",
    "textcnnmodel.add(layers.Flatten())\n",
    "\n",
    "textcnnmodel.add(layers.Dense(250, activation='relu'))\n",
    "textcnnmodel.add(layers.Dense(Domain_data['label'].nunique(), activation='softmax'))\n",
    "textcnnmodel.compile(optimizer='adam',\n",
    "               loss='categorical_crossentropy',\n",
    "               metrics=['accuracy'])\n",
    "textcnnmodel.summary() "
   ]
  },
  {
   "cell_type": "code",
   "execution_count": null,
   "metadata": {
    "colab": {
     "base_uri": "https://localhost:8080/"
    },
    "id": "13t0aqV5HzqR",
    "outputId": "fd8cca4b-fb20-4f9b-834f-ec9730cb30b5"
   },
   "outputs": [
    {
     "name": "stdout",
     "output_type": "stream",
     "text": [
      "Epoch 1/100\n",
      "1622/1622 [==============================] - 21s 12ms/step - loss: 1.1594 - accuracy: 0.6758 - val_loss: 0.4404 - val_accuracy: 0.8952\n",
      "Epoch 2/100\n",
      "1622/1622 [==============================] - 20s 12ms/step - loss: 0.6859 - accuracy: 0.8000 - val_loss: 0.4259 - val_accuracy: 0.8945\n",
      "Epoch 3/100\n",
      "1622/1622 [==============================] - 19s 12ms/step - loss: 0.5818 - accuracy: 0.8294 - val_loss: 0.3929 - val_accuracy: 0.9044\n",
      "Epoch 4/100\n",
      "1622/1622 [==============================] - 20s 12ms/step - loss: 0.5261 - accuracy: 0.8453 - val_loss: 0.3431 - val_accuracy: 0.9143\n",
      "Epoch 5/100\n",
      "1622/1622 [==============================] - 19s 12ms/step - loss: 0.4890 - accuracy: 0.8557 - val_loss: 0.3483 - val_accuracy: 0.9104\n",
      "Epoch 6/100\n",
      "1622/1622 [==============================] - 19s 12ms/step - loss: 0.4614 - accuracy: 0.8636 - val_loss: 0.3859 - val_accuracy: 0.9060\n",
      "Epoch 7/100\n",
      "1622/1622 [==============================] - 19s 12ms/step - loss: 0.4411 - accuracy: 0.8690 - val_loss: 0.3522 - val_accuracy: 0.9145\n",
      "Epoch 8/100\n",
      "1622/1622 [==============================] - 20s 12ms/step - loss: 0.4227 - accuracy: 0.8746 - val_loss: 0.3767 - val_accuracy: 0.9098\n",
      "Epoch 9/100\n",
      "1622/1622 [==============================] - 20s 12ms/step - loss: 0.4089 - accuracy: 0.8788 - val_loss: 0.3570 - val_accuracy: 0.9086\n",
      "Epoch 10/100\n",
      "1622/1622 [==============================] - 20s 13ms/step - loss: 0.3975 - accuracy: 0.8823 - val_loss: 0.3776 - val_accuracy: 0.9094\n",
      "Epoch 11/100\n",
      "1622/1622 [==============================] - 21s 13ms/step - loss: 0.3866 - accuracy: 0.8855 - val_loss: 0.3478 - val_accuracy: 0.9139\n",
      "Epoch 12/100\n",
      "1622/1622 [==============================] - 21s 13ms/step - loss: 0.3765 - accuracy: 0.8886 - val_loss: 0.3457 - val_accuracy: 0.9136\n",
      "Epoch 13/100\n",
      "1622/1622 [==============================] - 21s 13ms/step - loss: 0.3686 - accuracy: 0.8910 - val_loss: 0.3712 - val_accuracy: 0.9099\n",
      "Epoch 14/100\n",
      "1622/1622 [==============================] - 20s 12ms/step - loss: 0.3610 - accuracy: 0.8934 - val_loss: 0.3713 - val_accuracy: 0.9060\n",
      "Epoch 15/100\n",
      "1622/1622 [==============================] - 21s 13ms/step - loss: 0.3541 - accuracy: 0.8954 - val_loss: 0.3593 - val_accuracy: 0.9123\n",
      "Epoch 16/100\n",
      "1622/1622 [==============================] - 20s 12ms/step - loss: 0.3489 - accuracy: 0.8971 - val_loss: 0.3829 - val_accuracy: 0.9043\n",
      "Epoch 17/100\n",
      "1622/1622 [==============================] - 21s 13ms/step - loss: 0.3432 - accuracy: 0.8987 - val_loss: 0.3594 - val_accuracy: 0.9099\n",
      "Epoch 18/100\n",
      "1622/1622 [==============================] - 20s 12ms/step - loss: 0.3385 - accuracy: 0.9000 - val_loss: 0.3394 - val_accuracy: 0.9180\n",
      "Epoch 19/100\n",
      "1622/1622 [==============================] - 20s 12ms/step - loss: 0.3339 - accuracy: 0.9014 - val_loss: 0.3727 - val_accuracy: 0.9117\n",
      "Epoch 20/100\n",
      "1622/1622 [==============================] - 21s 13ms/step - loss: 0.3302 - accuracy: 0.9024 - val_loss: 0.3742 - val_accuracy: 0.9070\n",
      "Epoch 21/100\n",
      "1622/1622 [==============================] - 20s 12ms/step - loss: 0.3284 - accuracy: 0.9030 - val_loss: 0.3543 - val_accuracy: 0.9137\n",
      "Epoch 22/100\n",
      "1622/1622 [==============================] - 20s 12ms/step - loss: 0.3223 - accuracy: 0.9047 - val_loss: 0.3974 - val_accuracy: 0.9020\n",
      "Epoch 23/100\n",
      "1622/1622 [==============================] - 20s 12ms/step - loss: 0.3211 - accuracy: 0.9049 - val_loss: 0.3863 - val_accuracy: 0.9070\n",
      "Epoch 24/100\n",
      "1622/1622 [==============================] - 20s 12ms/step - loss: 0.3173 - accuracy: 0.9060 - val_loss: 0.3765 - val_accuracy: 0.9122\n",
      "Epoch 25/100\n",
      "1622/1622 [==============================] - 20s 12ms/step - loss: 0.3147 - accuracy: 0.9067 - val_loss: 0.3493 - val_accuracy: 0.9199\n",
      "Epoch 26/100\n",
      "1622/1622 [==============================] - 20s 12ms/step - loss: 0.3126 - accuracy: 0.9072 - val_loss: 0.3830 - val_accuracy: 0.9075\n",
      "Epoch 27/100\n",
      "1622/1622 [==============================] - 21s 13ms/step - loss: 0.3105 - accuracy: 0.9080 - val_loss: 0.3563 - val_accuracy: 0.9155\n",
      "Epoch 28/100\n",
      "1622/1622 [==============================] - 20s 12ms/step - loss: 0.3086 - accuracy: 0.9084 - val_loss: 0.3534 - val_accuracy: 0.9167\n",
      "Epoch 29/100\n",
      "1622/1622 [==============================] - 21s 13ms/step - loss: 0.3050 - accuracy: 0.9094 - val_loss: 0.3609 - val_accuracy: 0.9147\n",
      "Epoch 30/100\n",
      "1622/1622 [==============================] - 20s 12ms/step - loss: 0.3046 - accuracy: 0.9094 - val_loss: 0.3671 - val_accuracy: 0.9149\n",
      "Epoch 31/100\n",
      "1622/1622 [==============================] - 20s 12ms/step - loss: 0.3021 - accuracy: 0.9101 - val_loss: 0.3630 - val_accuracy: 0.9147\n",
      "Epoch 32/100\n",
      "1622/1622 [==============================] - 21s 13ms/step - loss: 0.3002 - accuracy: 0.9109 - val_loss: 0.3366 - val_accuracy: 0.9232\n",
      "Epoch 33/100\n",
      "1622/1622 [==============================] - 21s 13ms/step - loss: 0.2989 - accuracy: 0.9109 - val_loss: 0.3569 - val_accuracy: 0.9154\n",
      "Epoch 34/100\n",
      "1622/1622 [==============================] - 21s 13ms/step - loss: 0.2973 - accuracy: 0.9114 - val_loss: 0.3479 - val_accuracy: 0.9174\n",
      "Epoch 35/100\n",
      "1622/1622 [==============================] - 20s 12ms/step - loss: 0.2962 - accuracy: 0.9118 - val_loss: 0.3659 - val_accuracy: 0.9153\n",
      "Epoch 36/100\n",
      "1622/1622 [==============================] - 21s 13ms/step - loss: 0.2942 - accuracy: 0.9122 - val_loss: 0.3713 - val_accuracy: 0.9118\n",
      "Epoch 37/100\n",
      "1622/1622 [==============================] - 20s 12ms/step - loss: 0.2931 - accuracy: 0.9126 - val_loss: 0.3682 - val_accuracy: 0.9137\n",
      "Epoch 38/100\n",
      "1622/1622 [==============================] - 20s 12ms/step - loss: 0.2924 - accuracy: 0.9127 - val_loss: 0.3646 - val_accuracy: 0.9168\n",
      "Epoch 39/100\n",
      "1622/1622 [==============================] - 21s 13ms/step - loss: 0.2897 - accuracy: 0.9135 - val_loss: 0.3691 - val_accuracy: 0.9152\n",
      "Epoch 40/100\n",
      "1622/1622 [==============================] - 20s 12ms/step - loss: 0.2895 - accuracy: 0.9135 - val_loss: 0.3564 - val_accuracy: 0.9196\n",
      "Epoch 41/100\n",
      "1622/1622 [==============================] - 20s 12ms/step - loss: 0.2882 - accuracy: 0.9139 - val_loss: 0.3553 - val_accuracy: 0.9178\n",
      "Epoch 42/100\n",
      "1622/1622 [==============================] - 20s 12ms/step - loss: 0.2862 - accuracy: 0.9146 - val_loss: 0.3474 - val_accuracy: 0.9209\n",
      "Epoch 43/100\n",
      "1622/1622 [==============================] - 21s 13ms/step - loss: 0.2864 - accuracy: 0.9145 - val_loss: 0.3686 - val_accuracy: 0.9139\n",
      "Epoch 44/100\n",
      "1622/1622 [==============================] - 20s 12ms/step - loss: 0.2845 - accuracy: 0.9149 - val_loss: 0.3604 - val_accuracy: 0.9183\n",
      "Epoch 45/100\n",
      "1622/1622 [==============================] - 21s 13ms/step - loss: 0.2842 - accuracy: 0.9150 - val_loss: 0.3674 - val_accuracy: 0.9167\n",
      "Epoch 46/100\n",
      "1622/1622 [==============================] - 20s 12ms/step - loss: 0.2827 - accuracy: 0.9155 - val_loss: 0.3784 - val_accuracy: 0.9139\n",
      "Epoch 47/100\n",
      "1622/1622 [==============================] - 20s 12ms/step - loss: 0.2827 - accuracy: 0.9154 - val_loss: 0.3716 - val_accuracy: 0.9162\n",
      "Epoch 48/100\n",
      "1622/1622 [==============================] - 20s 12ms/step - loss: 0.2806 - accuracy: 0.9160 - val_loss: 0.3453 - val_accuracy: 0.9208\n",
      "Epoch 49/100\n",
      "1622/1622 [==============================] - 20s 12ms/step - loss: 0.2807 - accuracy: 0.9159 - val_loss: 0.3590 - val_accuracy: 0.9200\n",
      "Epoch 50/100\n",
      "1622/1622 [==============================] - 20s 12ms/step - loss: 0.2785 - accuracy: 0.9166 - val_loss: 0.3842 - val_accuracy: 0.9116\n",
      "Epoch 51/100\n",
      "1622/1622 [==============================] - 20s 12ms/step - loss: 0.2793 - accuracy: 0.9164 - val_loss: 0.3760 - val_accuracy: 0.9155\n",
      "Epoch 52/100\n",
      "1622/1622 [==============================] - 21s 13ms/step - loss: 0.2782 - accuracy: 0.9164 - val_loss: 0.3665 - val_accuracy: 0.9163\n",
      "Epoch 53/100\n",
      "1622/1622 [==============================] - 20s 12ms/step - loss: 0.2767 - accuracy: 0.9170 - val_loss: 0.3596 - val_accuracy: 0.9181\n",
      "Epoch 54/100\n",
      "1622/1622 [==============================] - 20s 12ms/step - loss: 0.2763 - accuracy: 0.9171 - val_loss: 0.3753 - val_accuracy: 0.9149\n",
      "Epoch 55/100\n",
      "1622/1622 [==============================] - 20s 12ms/step - loss: 0.2749 - accuracy: 0.9176 - val_loss: 0.3610 - val_accuracy: 0.9197\n",
      "Epoch 56/100\n",
      "1622/1622 [==============================] - 21s 13ms/step - loss: 0.2744 - accuracy: 0.9176 - val_loss: 0.3681 - val_accuracy: 0.9184\n",
      "Epoch 57/100\n",
      "1622/1622 [==============================] - 20s 12ms/step - loss: 0.2745 - accuracy: 0.9175 - val_loss: 0.3587 - val_accuracy: 0.9193\n",
      "Epoch 58/100\n",
      "1622/1622 [==============================] - 21s 13ms/step - loss: 0.2750 - accuracy: 0.9174 - val_loss: 0.3436 - val_accuracy: 0.9242\n",
      "Epoch 59/100\n",
      "1622/1622 [==============================] - 20s 12ms/step - loss: 0.2721 - accuracy: 0.9184 - val_loss: 0.3870 - val_accuracy: 0.9121\n",
      "Epoch 60/100\n",
      "1622/1622 [==============================] - 20s 12ms/step - loss: 0.2733 - accuracy: 0.9180 - val_loss: 0.3686 - val_accuracy: 0.9191\n",
      "Epoch 61/100\n",
      "1622/1622 [==============================] - 20s 12ms/step - loss: 0.2719 - accuracy: 0.9183 - val_loss: 0.3605 - val_accuracy: 0.9211\n",
      "Epoch 62/100\n",
      "1622/1622 [==============================] - 20s 12ms/step - loss: 0.2714 - accuracy: 0.9183 - val_loss: 0.3662 - val_accuracy: 0.9165\n",
      "Epoch 63/100\n",
      "1622/1622 [==============================] - 20s 12ms/step - loss: 0.2716 - accuracy: 0.9182 - val_loss: 0.3662 - val_accuracy: 0.9177\n",
      "Epoch 64/100\n",
      "1622/1622 [==============================] - 20s 12ms/step - loss: 0.2706 - accuracy: 0.9187 - val_loss: 0.3865 - val_accuracy: 0.9132\n",
      "Epoch 65/100\n",
      "1622/1622 [==============================] - 20s 12ms/step - loss: 0.2688 - accuracy: 0.9192 - val_loss: 0.3846 - val_accuracy: 0.9147\n",
      "Epoch 66/100\n",
      "1622/1622 [==============================] - 21s 13ms/step - loss: 0.2701 - accuracy: 0.9185 - val_loss: 0.3509 - val_accuracy: 0.9234\n",
      "Epoch 67/100\n",
      "1622/1622 [==============================] - 20s 12ms/step - loss: 0.2690 - accuracy: 0.9192 - val_loss: 0.3722 - val_accuracy: 0.9172\n",
      "Epoch 68/100\n",
      "1622/1622 [==============================] - 21s 13ms/step - loss: 0.2692 - accuracy: 0.9191 - val_loss: 0.3919 - val_accuracy: 0.9145\n",
      "Epoch 69/100\n",
      "1622/1622 [==============================] - 21s 13ms/step - loss: 0.2680 - accuracy: 0.9193 - val_loss: 0.3755 - val_accuracy: 0.9163\n",
      "Epoch 70/100\n",
      "1622/1622 [==============================] - 21s 13ms/step - loss: 0.2686 - accuracy: 0.9192 - val_loss: 0.3844 - val_accuracy: 0.9134\n",
      "Epoch 71/100\n",
      "1622/1622 [==============================] - 20s 12ms/step - loss: 0.2680 - accuracy: 0.9192 - val_loss: 0.3931 - val_accuracy: 0.9125\n",
      "Epoch 72/100\n",
      "1622/1622 [==============================] - 20s 12ms/step - loss: 0.2673 - accuracy: 0.9195 - val_loss: 0.3566 - val_accuracy: 0.9225\n",
      "Epoch 73/100\n",
      "1622/1622 [==============================] - 20s 12ms/step - loss: 0.2665 - accuracy: 0.9195 - val_loss: 0.3750 - val_accuracy: 0.9171\n",
      "Epoch 74/100\n",
      "1622/1622 [==============================] - 21s 13ms/step - loss: 0.2672 - accuracy: 0.9196 - val_loss: 0.3589 - val_accuracy: 0.9209\n",
      "Epoch 75/100\n",
      "1622/1622 [==============================] - 20s 12ms/step - loss: 0.2643 - accuracy: 0.9206 - val_loss: 0.3692 - val_accuracy: 0.9192\n",
      "Epoch 76/100\n",
      "1622/1622 [==============================] - 20s 12ms/step - loss: 0.2665 - accuracy: 0.9197 - val_loss: 0.3794 - val_accuracy: 0.9177\n",
      "Epoch 77/100\n",
      "1622/1622 [==============================] - 20s 12ms/step - loss: 0.2651 - accuracy: 0.9201 - val_loss: 0.3824 - val_accuracy: 0.9163\n",
      "Epoch 78/100\n",
      "1622/1622 [==============================] - 21s 13ms/step - loss: 0.2646 - accuracy: 0.9202 - val_loss: 0.3705 - val_accuracy: 0.9207\n",
      "Epoch 79/100\n",
      "1622/1622 [==============================] - 21s 13ms/step - loss: 0.2640 - accuracy: 0.9204 - val_loss: 0.3623 - val_accuracy: 0.9206\n",
      "Epoch 80/100\n",
      "1622/1622 [==============================] - 21s 13ms/step - loss: 0.2639 - accuracy: 0.9203 - val_loss: 0.3762 - val_accuracy: 0.9171\n",
      "Epoch 81/100\n",
      "1622/1622 [==============================] - 20s 12ms/step - loss: 0.2641 - accuracy: 0.9203 - val_loss: 0.3601 - val_accuracy: 0.9231\n",
      "Epoch 82/100\n",
      "1622/1622 [==============================] - 20s 12ms/step - loss: 0.2629 - accuracy: 0.9207 - val_loss: 0.3664 - val_accuracy: 0.9204\n",
      "Epoch 83/100\n",
      "1622/1622 [==============================] - 21s 13ms/step - loss: 0.2634 - accuracy: 0.9205 - val_loss: 0.3874 - val_accuracy: 0.9166\n",
      "Epoch 84/100\n",
      "1622/1622 [==============================] - 21s 13ms/step - loss: 0.2621 - accuracy: 0.9209 - val_loss: 0.3908 - val_accuracy: 0.9138\n",
      "Epoch 85/100\n",
      "1622/1622 [==============================] - 20s 12ms/step - loss: 0.2623 - accuracy: 0.9209 - val_loss: 0.3688 - val_accuracy: 0.9195\n",
      "Epoch 86/100\n",
      "1622/1622 [==============================] - 20s 12ms/step - loss: 0.2621 - accuracy: 0.9208 - val_loss: 0.3645 - val_accuracy: 0.9207\n",
      "Epoch 87/100\n",
      "1622/1622 [==============================] - 20s 12ms/step - loss: 0.2613 - accuracy: 0.9211 - val_loss: 0.3773 - val_accuracy: 0.9203\n",
      "Epoch 88/100\n",
      "1622/1622 [==============================] - 21s 13ms/step - loss: 0.2616 - accuracy: 0.9208 - val_loss: 0.3763 - val_accuracy: 0.9188\n",
      "Epoch 89/100\n",
      "1622/1622 [==============================] - 20s 13ms/step - loss: 0.2611 - accuracy: 0.9211 - val_loss: 0.3894 - val_accuracy: 0.9163\n",
      "Epoch 90/100\n",
      "1622/1622 [==============================] - 21s 13ms/step - loss: 0.2612 - accuracy: 0.9211 - val_loss: 0.3613 - val_accuracy: 0.9228\n",
      "Epoch 91/100\n",
      "1622/1622 [==============================] - 21s 13ms/step - loss: 0.2596 - accuracy: 0.9215 - val_loss: 0.3802 - val_accuracy: 0.9193\n",
      "Epoch 92/100\n",
      "1622/1622 [==============================] - 20s 12ms/step - loss: 0.2617 - accuracy: 0.9208 - val_loss: 0.4027 - val_accuracy: 0.9139\n",
      "Epoch 93/100\n",
      "1622/1622 [==============================] - 21s 13ms/step - loss: 0.2592 - accuracy: 0.9216 - val_loss: 0.3693 - val_accuracy: 0.9199\n",
      "Epoch 94/100\n",
      "1622/1622 [==============================] - 20s 12ms/step - loss: 0.2597 - accuracy: 0.9213 - val_loss: 0.3758 - val_accuracy: 0.9188\n",
      "Epoch 95/100\n",
      "1622/1622 [==============================] - 21s 13ms/step - loss: 0.2587 - accuracy: 0.9216 - val_loss: 0.3816 - val_accuracy: 0.9185\n",
      "Epoch 96/100\n",
      "1622/1622 [==============================] - 21s 13ms/step - loss: 0.2593 - accuracy: 0.9215 - val_loss: 0.3732 - val_accuracy: 0.9214\n",
      "Epoch 97/100\n",
      "1622/1622 [==============================] - 21s 13ms/step - loss: 0.2582 - accuracy: 0.9219 - val_loss: 0.4058 - val_accuracy: 0.9151\n",
      "Epoch 98/100\n",
      "1622/1622 [==============================] - 21s 13ms/step - loss: 0.2581 - accuracy: 0.9218 - val_loss: 0.3669 - val_accuracy: 0.9205\n",
      "Epoch 99/100\n",
      "1622/1622 [==============================] - 21s 13ms/step - loss: 0.2583 - accuracy: 0.9218 - val_loss: 0.3826 - val_accuracy: 0.9186\n",
      "Epoch 100/100\n",
      "1622/1622 [==============================] - 20s 12ms/step - loss: 0.2592 - accuracy: 0.9214 - val_loss: 0.3714 - val_accuracy: 0.9206\n",
      "CNN took 2025.844049692154 milliseconds to train Multiclass data.\n",
      "\n"
     ]
    }
   ],
   "source": [
    "import time\n",
    "start = time.time()\n",
    "history=textcnnmodel.fit(X_train,y_train,epochs=100, verbose=True,validation_data=(X_test, y_test),batch_size=1000)\n",
    "end  = time.time()\n",
    "print(\"CNN took {} milliseconds to train Multiclass data.\\n\".format(end-start))"
   ]
  },
  {
   "cell_type": "code",
   "execution_count": null,
   "metadata": {
    "colab": {
     "base_uri": "https://localhost:8080/"
    },
    "id": "u08m6eQsHzqS",
    "outputId": "47d78eae-03da-4c5a-dd11-35d6a8d8573d"
   },
   "outputs": [
    {
     "name": "stdout",
     "output_type": "stream",
     "text": [
      "Training Accuracy: 0.9225\n",
      "Testing Accuracy:  0.9206\n"
     ]
    }
   ],
   "source": [
    "loss, accuracy = textcnnmodel.evaluate(X_train, y_train, verbose=False)\n",
    "print(\"Training Accuracy: {:.4f}\".format(accuracy))\n",
    "loss, accuracy = textcnnmodel.evaluate(X_test, y_test, verbose=False)\n",
    "print(\"Testing Accuracy:  {:.4f}\".format(accuracy)) "
   ]
  },
  {
   "cell_type": "code",
   "execution_count": null,
   "metadata": {
    "colab": {
     "base_uri": "https://localhost:8080/"
    },
    "id": "8e_1BRbvHzqS",
    "outputId": "1fae4b03-cae3-4912-c64d-56f2ff7159a0"
   },
   "outputs": [
    {
     "name": "stdout",
     "output_type": "stream",
     "text": [
      "LSTM took 20.565937519073486 milliseconds to test data.\n",
      "\n"
     ]
    }
   ],
   "source": [
    "start = time.time()\n",
    "y_lstmpred = textcnnmodel.predict(X_test)\n",
    "end  = time.time()\n",
    "print(\"LSTM took {} milliseconds to test data.\\n\".format(end-start))"
   ]
  },
  {
   "cell_type": "code",
   "execution_count": null,
   "metadata": {
    "colab": {
     "base_uri": "https://localhost:8080/"
    },
    "id": "ijNkoZSfHzqT",
    "outputId": "fe7d41b1-5bab-448e-ecfa-5461ab419ed3"
   },
   "outputs": [
    {
     "name": "stderr",
     "output_type": "stream",
     "text": [
      "/usr/local/lib/python3.7/dist-packages/sklearn/metrics/_classification.py:1318: UndefinedMetricWarning: Precision and F-score are ill-defined and being set to 0.0 in labels with no predicted samples. Use `zero_division` parameter to control this behavior.\n",
      "  _warn_prf(average, modifier, msg_start, len(result))\n"
     ]
    },
    {
     "name": "stdout",
     "output_type": "stream",
     "text": [
      "              precision    recall  f1-score   support\n",
      "\n",
      "           0       1.00      1.00      1.00        10\n",
      "           1       0.71      1.00      0.83         5\n",
      "           2       0.78      1.00      0.88        28\n",
      "           3       1.00      1.00      1.00     94137\n",
      "           4       0.06      0.31      0.10       210\n",
      "           5       0.31      0.49      0.38       197\n",
      "           6       0.02      0.03      0.02        89\n",
      "           7       0.00      0.00      0.00         1\n",
      "           8       0.01      0.01      0.01       214\n",
      "           9       0.03      0.05      0.04       151\n",
      "          10       0.90      0.93      0.92       218\n",
      "          11       0.90      0.92      0.91    100071\n",
      "          12       0.75      0.72      0.74        94\n",
      "          13       0.60      0.61      0.61        44\n",
      "          14       0.00      0.00      0.00      5982\n",
      "          15       0.01      0.08      0.02        51\n",
      "          16       0.06      0.13      0.08        63\n",
      "          17       0.98      0.88      0.92      2414\n",
      "          18       0.62      0.82      0.71        22\n",
      "          19       0.85      1.00      0.92        29\n",
      "          20       0.98      0.93      0.96    122443\n",
      "          21       0.01      0.02      0.01       241\n",
      "          22       0.14      0.38      0.21       190\n",
      "          23       0.55      0.43      0.48      1699\n",
      "          24       0.98      0.97      0.98      2067\n",
      "          25       0.16      0.32      0.21       540\n",
      "          26       0.17      0.01      0.02      1643\n",
      "          27       0.70      0.95      0.81      1096\n",
      "          28       0.04      0.07      0.05        69\n",
      "          29       0.00      0.00      0.00        11\n",
      "          30       0.44      0.78      0.56        32\n",
      "          31       0.00      0.00      0.00        17\n",
      "          32       0.96      0.95      0.96      8834\n",
      "          33       0.04      0.07      0.05       150\n",
      "          34       0.01      0.03      0.02        35\n",
      "          35       0.94      0.92      0.93       375\n",
      "          36       0.50      0.07      0.12      3958\n",
      "          37       0.00      0.00      0.00      2197\n",
      "          38       0.99      0.98      0.98     36002\n",
      "          39       0.28      0.61      0.38       484\n",
      "          40       0.74      0.74      0.74      1222\n",
      "          41       0.85      0.89      0.87      5691\n",
      "          42       0.52      0.88      0.66       473\n",
      "          43       0.30      0.77      0.43       826\n",
      "          44       0.03      0.05      0.04        39\n",
      "          45       0.88      0.93      0.90     18732\n",
      "          46       0.18      0.33      0.24         6\n",
      "          47       0.86      1.00      0.92         6\n",
      "          48       0.61      0.85      0.71       109\n",
      "          49       0.40      0.57      0.47       165\n",
      "          50       0.00      0.00      0.00        15\n",
      "          51       0.54      0.63      0.58      1930\n",
      "\n",
      "   micro avg       0.93      0.91      0.92    415327\n",
      "   macro avg       0.45      0.52      0.47    415327\n",
      "weighted avg       0.92      0.91      0.91    415327\n",
      " samples avg       0.91      0.91      0.91    415327\n",
      "\n"
     ]
    },
    {
     "name": "stderr",
     "output_type": "stream",
     "text": [
      "/usr/local/lib/python3.7/dist-packages/sklearn/metrics/_classification.py:1318: UndefinedMetricWarning: Precision and F-score are ill-defined and being set to 0.0 in samples with no predicted labels. Use `zero_division` parameter to control this behavior.\n",
      "  _warn_prf(average, modifier, msg_start, len(result))\n"
     ]
    }
   ],
   "source": [
    "from sklearn.metrics import classification_report\n",
    "y_lstmpred=(y_lstmpred > 0.5)\n",
    "print(classification_report(y_test, y_lstmpred))"
   ]
  },
  {
   "cell_type": "code",
   "execution_count": null,
   "metadata": {
    "colab": {
     "base_uri": "https://localhost:8080/",
     "height": 573
    },
    "id": "-lEx_jkoHzqT",
    "outputId": "0e082b00-2987-4776-c53f-1a40fe0dc1d7"
   },
   "outputs": [
    {
     "data": {
      "image/png": "[encoded data removed]",
      "text/plain": [
       "<Figure size 432x288 with 1 Axes>"
      ]
     },
     "metadata": {
      "needs_background": "light"
     },
     "output_type": "display_data"
    },
    {
     "data": {
      "image/png": "[encoded data removed]",
      "text/plain": [
       "<Figure size 432x288 with 1 Axes>"
      ]
     },
     "metadata": {
      "needs_background": "light"
     },
     "output_type": "display_data"
    }
   ],
   "source": [
    "def Training_and_validation_plot(history):\n",
    "    acc = history.history['accuracy']\n",
    "    val_acc = history.history['val_accuracy']\n",
    "    loss = history.history['loss']\n",
    "    val_loss = history.history['val_loss']\n",
    "    epochs = range(1, len(acc) + 1)\n",
    "\n",
    "    plt.plot(epochs, acc, 'bo', label = 'Training Accuracy')\n",
    "    plt.plot(epochs, val_acc, 'r', label = 'Validation Accuracy')\n",
    "    plt.title('Training and Validation Accuracy')\n",
    "    plt.xlabel('Epochs')\n",
    "    plt.ylabel('Loss')\n",
    "    plt.legend()\n",
    "\n",
    "    plt.figure()\n",
    "    plt.plot(epochs, loss, 'bo', label = 'Training Loss')\n",
    "    plt.plot(epochs, val_loss, 'r', label = 'Validation Loss')\n",
    "    plt.title('Training and Validation Loss')\n",
    "    plt.xlabel('Epochs')\n",
    "    plt.ylabel('Loss')\n",
    "    plt.legend()\n",
    "    plt.show()\n",
    "Training_and_validation_plot(history)"
   ]
  },
  {
   "cell_type": "code",
   "execution_count": null,
   "metadata": {
    "colab": {
     "base_uri": "https://localhost:8080/"
    },
    "id": "myi463rDHzqU",
    "outputId": "f0bab55f-b1c3-4604-bece-11b10819c66a"
   },
   "outputs": [
    {
     "name": "stdout",
     "output_type": "stream",
     "text": [
      "INFO:tensorflow:Assets written to: ram://201a93aa-2f99-4f83-a72f-e812c4b1b191/assets\n"
     ]
    },
    {
     "name": "stderr",
     "output_type": "stream",
     "text": [
      "INFO:tensorflow:Assets written to: ram://201a93aa-2f99-4f83-a72f-e812c4b1b191/assets\n"
     ]
    }
   ],
   "source": [
    "import pickle\n",
    "# save the model to disk\n",
    "filename = '/content/drive/My Drive/Colab Notebooks/|Mcnnmodel_2x64x3,1000x100.sav'\n",
    "pickle.dump(textcnnmodel, open(filename, 'wb'))"
   ]
  },
  {
   "cell_type": "markdown",
   "metadata": {
    "id": "x4x-lTxpQ7rU"
   },
   "source": [
    "### 64x5"
   ]
  },
  {
   "cell_type": "markdown",
   "metadata": {
    "id": "aYWYw__SR_Jc"
   },
   "source": [
    "## CNN"
   ]
  },
  {
   "cell_type": "code",
   "execution_count": null,
   "metadata": {
    "colab": {
     "base_uri": "https://localhost:8080/"
    },
    "id": "OPsgs1hqR_Jp",
    "outputId": "04452e4e-222a-475f-a65d-a3094e311d57"
   },
   "outputs": [
    {
     "name": "stdout",
     "output_type": "stream",
     "text": [
      "Model: \"sequential_3\"\n",
      "_________________________________________________________________\n",
      " Layer (type)                Output Shape              Param #   \n",
      "=================================================================\n",
      " embedding_3 (Embedding)     (None, 50, 100)           7000      \n",
      "                                                                 \n",
      " conv1d_6 (Conv1D)           (None, 46, 64)            32064     \n",
      "                                                                 \n",
      " conv1d_7 (Conv1D)           (None, 42, 64)            20544     \n",
      "                                                                 \n",
      " global_max_pooling1d_3 (Glo  (None, 64)               0         \n",
      " balMaxPooling1D)                                                \n",
      "                                                                 \n",
      " flatten_3 (Flatten)         (None, 64)                0         \n",
      "                                                                 \n",
      " dense_6 (Dense)             (None, 250)               16250     \n",
      "                                                                 \n",
      " dense_7 (Dense)             (None, 52)                13052     \n",
      "                                                                 \n",
      "=================================================================\n",
      "Total params: 88,910\n",
      "Trainable params: 88,910\n",
      "Non-trainable params: 0\n",
      "_________________________________________________________________\n"
     ]
    }
   ],
   "source": [
    "from keras.models import Sequential\n",
    "from keras import layers \n",
    "\n",
    "embedding_dim = 100\n",
    "vocab_size=70\n",
    "max_len=50\n",
    "textcnnmodel = Sequential()\n",
    "textcnnmodel.add(layers.Embedding(vocab_size, embedding_dim, input_length=max_len))\n",
    "textcnnmodel.add(layers.Conv1D(64, 5, activation='relu'))\n",
    "textcnnmodel.add(layers.Conv1D(64, 5, activation='relu'))\n",
    "textcnnmodel.add(layers.GlobalMaxPooling1D())\n",
    "textcnnmodel.add(layers.Flatten())\n",
    "\n",
    "textcnnmodel.add(layers.Dense(250, activation='relu'))\n",
    "textcnnmodel.add(layers.Dense(Domain_data['label'].nunique(), activation='softmax'))\n",
    "textcnnmodel.compile(optimizer='adam',\n",
    "               loss='categorical_crossentropy',\n",
    "               metrics=['accuracy'])\n",
    "textcnnmodel.summary() "
   ]
  },
  {
   "cell_type": "code",
   "execution_count": null,
   "metadata": {
    "colab": {
     "base_uri": "https://localhost:8080/"
    },
    "id": "L_DlfQZqR_Jq",
    "outputId": "81852f3b-8b26-424e-ec44-4558500fc6e4"
   },
   "outputs": [
    {
     "name": "stdout",
     "output_type": "stream",
     "text": [
      "Epoch 1/100\n",
      "1622/1622 [==============================] - 24s 14ms/step - loss: 1.0466 - accuracy: 0.7085 - val_loss: 0.4301 - val_accuracy: 0.8936\n",
      "Epoch 2/100\n",
      "1622/1622 [==============================] - 22s 14ms/step - loss: 0.5859 - accuracy: 0.8265 - val_loss: 0.3268 - val_accuracy: 0.9230\n",
      "Epoch 3/100\n",
      "1622/1622 [==============================] - 23s 14ms/step - loss: 0.4856 - accuracy: 0.8551 - val_loss: 0.3332 - val_accuracy: 0.9130\n",
      "Epoch 4/100\n",
      "1622/1622 [==============================] - 23s 14ms/step - loss: 0.4312 - accuracy: 0.8711 - val_loss: 0.3817 - val_accuracy: 0.8992\n",
      "Epoch 5/100\n",
      "1622/1622 [==============================] - 23s 14ms/step - loss: 0.3963 - accuracy: 0.8813 - val_loss: 0.3481 - val_accuracy: 0.9102\n",
      "Epoch 6/100\n",
      "1622/1622 [==============================] - 24s 15ms/step - loss: 0.3708 - accuracy: 0.8889 - val_loss: 0.3628 - val_accuracy: 0.9048\n",
      "Epoch 7/100\n",
      "1622/1622 [==============================] - 24s 15ms/step - loss: 0.3515 - accuracy: 0.8949 - val_loss: 0.2988 - val_accuracy: 0.9226\n",
      "Epoch 8/100\n",
      "1622/1622 [==============================] - 24s 15ms/step - loss: 0.3353 - accuracy: 0.8995 - val_loss: 0.3237 - val_accuracy: 0.9150\n",
      "Epoch 9/100\n",
      "1622/1622 [==============================] - 24s 15ms/step - loss: 0.3223 - accuracy: 0.9032 - val_loss: 0.2983 - val_accuracy: 0.9250\n",
      "Epoch 10/100\n",
      "1622/1622 [==============================] - 24s 15ms/step - loss: 0.3122 - accuracy: 0.9062 - val_loss: 0.3367 - val_accuracy: 0.9148\n",
      "Epoch 11/100\n",
      "1622/1622 [==============================] - 23s 14ms/step - loss: 0.3030 - accuracy: 0.9087 - val_loss: 0.3466 - val_accuracy: 0.9118\n",
      "Epoch 12/100\n",
      "1622/1622 [==============================] - 23s 14ms/step - loss: 0.2951 - accuracy: 0.9111 - val_loss: 0.3165 - val_accuracy: 0.9210\n",
      "Epoch 13/100\n",
      "1622/1622 [==============================] - 24s 15ms/step - loss: 0.2890 - accuracy: 0.9126 - val_loss: 0.3532 - val_accuracy: 0.9136\n",
      "Epoch 14/100\n",
      "1622/1622 [==============================] - 23s 14ms/step - loss: 0.2821 - accuracy: 0.9145 - val_loss: 0.3587 - val_accuracy: 0.9112\n",
      "Epoch 15/100\n",
      "1622/1622 [==============================] - 23s 14ms/step - loss: 0.2773 - accuracy: 0.9158 - val_loss: 0.3411 - val_accuracy: 0.9152\n",
      "Epoch 16/100\n",
      "1622/1622 [==============================] - 24s 15ms/step - loss: 0.2721 - accuracy: 0.9174 - val_loss: 0.2957 - val_accuracy: 0.9294\n",
      "Epoch 17/100\n",
      "1622/1622 [==============================] - 24s 15ms/step - loss: 0.2665 - accuracy: 0.9186 - val_loss: 0.3137 - val_accuracy: 0.9246\n",
      "Epoch 18/100\n",
      "1622/1622 [==============================] - 24s 15ms/step - loss: 0.2641 - accuracy: 0.9196 - val_loss: 0.3049 - val_accuracy: 0.9278\n",
      "Epoch 19/100\n",
      "1622/1622 [==============================] - 24s 15ms/step - loss: 0.2596 - accuracy: 0.9206 - val_loss: 0.3416 - val_accuracy: 0.9152\n",
      "Epoch 20/100\n",
      "1622/1622 [==============================] - 24s 15ms/step - loss: 0.2569 - accuracy: 0.9214 - val_loss: 0.3296 - val_accuracy: 0.9218\n",
      "Epoch 21/100\n",
      "1622/1622 [==============================] - 24s 15ms/step - loss: 0.2531 - accuracy: 0.9224 - val_loss: 0.3631 - val_accuracy: 0.9124\n",
      "Epoch 22/100\n",
      "1622/1622 [==============================] - 24s 15ms/step - loss: 0.2507 - accuracy: 0.9230 - val_loss: 0.3208 - val_accuracy: 0.9249\n",
      "Epoch 23/100\n",
      "1622/1622 [==============================] - 24s 15ms/step - loss: 0.2490 - accuracy: 0.9232 - val_loss: 0.3177 - val_accuracy: 0.9260\n",
      "Epoch 24/100\n",
      "1622/1622 [==============================] - 24s 15ms/step - loss: 0.2464 - accuracy: 0.9240 - val_loss: 0.3287 - val_accuracy: 0.9201\n",
      "Epoch 25/100\n",
      "1622/1622 [==============================] - 24s 15ms/step - loss: 0.2434 - accuracy: 0.9248 - val_loss: 0.3119 - val_accuracy: 0.9271\n",
      "Epoch 26/100\n",
      "1622/1622 [==============================] - 24s 15ms/step - loss: 0.2419 - accuracy: 0.9251 - val_loss: 0.3274 - val_accuracy: 0.9216\n",
      "Epoch 27/100\n",
      "1622/1622 [==============================] - 24s 15ms/step - loss: 0.2406 - accuracy: 0.9255 - val_loss: 0.3387 - val_accuracy: 0.9191\n",
      "Epoch 28/100\n",
      "1622/1622 [==============================] - 24s 15ms/step - loss: 0.2390 - accuracy: 0.9259 - val_loss: 0.3388 - val_accuracy: 0.9185\n",
      "Epoch 29/100\n",
      "1622/1622 [==============================] - 24s 14ms/step - loss: 0.2369 - accuracy: 0.9266 - val_loss: 0.3272 - val_accuracy: 0.9221\n",
      "Epoch 30/100\n",
      "1622/1622 [==============================] - 24s 14ms/step - loss: 0.2350 - accuracy: 0.9270 - val_loss: 0.3120 - val_accuracy: 0.9285\n",
      "Epoch 31/100\n",
      "1622/1622 [==============================] - 24s 15ms/step - loss: 0.2341 - accuracy: 0.9270 - val_loss: 0.3262 - val_accuracy: 0.9262\n",
      "Epoch 32/100\n",
      "1622/1622 [==============================] - 24s 15ms/step - loss: 0.2325 - accuracy: 0.9277 - val_loss: 0.3275 - val_accuracy: 0.9238\n",
      "Epoch 33/100\n",
      "1622/1622 [==============================] - 24s 15ms/step - loss: 0.2328 - accuracy: 0.9275 - val_loss: 0.3417 - val_accuracy: 0.9203\n",
      "Epoch 34/100\n",
      "1622/1622 [==============================] - 24s 15ms/step - loss: 0.2299 - accuracy: 0.9283 - val_loss: 0.3284 - val_accuracy: 0.9236\n",
      "Epoch 35/100\n",
      "1622/1622 [==============================] - 24s 15ms/step - loss: 0.2282 - accuracy: 0.9287 - val_loss: 0.3162 - val_accuracy: 0.9285\n",
      "Epoch 36/100\n",
      "1622/1622 [==============================] - 24s 15ms/step - loss: 0.2284 - accuracy: 0.9286 - val_loss: 0.3537 - val_accuracy: 0.9183\n",
      "Epoch 37/100\n",
      "1622/1622 [==============================] - 24s 14ms/step - loss: 0.2259 - accuracy: 0.9291 - val_loss: 0.3421 - val_accuracy: 0.9211\n",
      "Epoch 38/100\n",
      "1622/1622 [==============================] - 24s 15ms/step - loss: 0.2257 - accuracy: 0.9293 - val_loss: 0.3377 - val_accuracy: 0.9241\n",
      "Epoch 39/100\n",
      "1622/1622 [==============================] - 24s 14ms/step - loss: 0.2243 - accuracy: 0.9296 - val_loss: 0.3441 - val_accuracy: 0.9220\n",
      "Epoch 40/100\n",
      "1622/1622 [==============================] - 24s 15ms/step - loss: 0.2233 - accuracy: 0.9300 - val_loss: 0.3449 - val_accuracy: 0.9213\n",
      "Epoch 41/100\n",
      "1622/1622 [==============================] - 24s 15ms/step - loss: 0.2229 - accuracy: 0.9299 - val_loss: 0.3486 - val_accuracy: 0.9207\n",
      "Epoch 42/100\n",
      "1622/1622 [==============================] - 24s 15ms/step - loss: 0.2206 - accuracy: 0.9306 - val_loss: 0.3308 - val_accuracy: 0.9249\n",
      "Epoch 43/100\n",
      "1622/1622 [==============================] - 24s 15ms/step - loss: 0.2209 - accuracy: 0.9304 - val_loss: 0.3433 - val_accuracy: 0.9244\n",
      "Epoch 44/100\n",
      "1622/1622 [==============================] - 23s 14ms/step - loss: 0.2188 - accuracy: 0.9311 - val_loss: 0.3393 - val_accuracy: 0.9227\n",
      "Epoch 45/100\n",
      "1622/1622 [==============================] - 24s 15ms/step - loss: 0.2191 - accuracy: 0.9310 - val_loss: 0.3452 - val_accuracy: 0.9227\n",
      "Epoch 46/100\n",
      "1622/1622 [==============================] - 24s 15ms/step - loss: 0.2184 - accuracy: 0.9313 - val_loss: 0.3519 - val_accuracy: 0.9210\n",
      "Epoch 47/100\n",
      "1622/1622 [==============================] - 24s 15ms/step - loss: 0.2174 - accuracy: 0.9315 - val_loss: 0.3425 - val_accuracy: 0.9229\n",
      "Epoch 48/100\n",
      "1622/1622 [==============================] - 23s 14ms/step - loss: 0.2165 - accuracy: 0.9316 - val_loss: 0.3381 - val_accuracy: 0.9257\n",
      "Epoch 49/100\n",
      "1622/1622 [==============================] - 24s 15ms/step - loss: 0.2157 - accuracy: 0.9316 - val_loss: 0.3780 - val_accuracy: 0.9108\n",
      "Epoch 50/100\n",
      "1622/1622 [==============================] - 23s 14ms/step - loss: 0.2157 - accuracy: 0.9318 - val_loss: 0.3311 - val_accuracy: 0.9265\n",
      "Epoch 51/100\n",
      "1622/1622 [==============================] - 24s 15ms/step - loss: 0.2144 - accuracy: 0.9323 - val_loss: 0.3377 - val_accuracy: 0.9235\n",
      "Epoch 52/100\n",
      "1622/1622 [==============================] - 24s 15ms/step - loss: 0.2137 - accuracy: 0.9323 - val_loss: 0.3344 - val_accuracy: 0.9271\n",
      "Epoch 53/100\n",
      "1622/1622 [==============================] - 24s 14ms/step - loss: 0.2126 - accuracy: 0.9327 - val_loss: 0.3484 - val_accuracy: 0.9230\n",
      "Epoch 54/100\n",
      "1622/1622 [==============================] - 23s 14ms/step - loss: 0.2127 - accuracy: 0.9326 - val_loss: 0.3391 - val_accuracy: 0.9250\n",
      "Epoch 55/100\n",
      "1622/1622 [==============================] - 24s 14ms/step - loss: 0.2121 - accuracy: 0.9327 - val_loss: 0.3565 - val_accuracy: 0.9211\n",
      "Epoch 56/100\n",
      "1622/1622 [==============================] - 24s 15ms/step - loss: 0.2108 - accuracy: 0.9332 - val_loss: 0.3625 - val_accuracy: 0.9185\n",
      "Epoch 57/100\n",
      "1622/1622 [==============================] - 24s 15ms/step - loss: 0.2102 - accuracy: 0.9333 - val_loss: 0.3550 - val_accuracy: 0.9201\n",
      "Epoch 58/100\n",
      "1622/1622 [==============================] - 23s 14ms/step - loss: 0.2111 - accuracy: 0.9331 - val_loss: 0.3477 - val_accuracy: 0.9259\n",
      "Epoch 59/100\n",
      "1622/1622 [==============================] - 24s 15ms/step - loss: 0.2096 - accuracy: 0.9334 - val_loss: 0.3581 - val_accuracy: 0.9196\n",
      "Epoch 60/100\n",
      "1622/1622 [==============================] - 24s 15ms/step - loss: 0.2090 - accuracy: 0.9336 - val_loss: 0.3204 - val_accuracy: 0.9318\n",
      "Epoch 61/100\n",
      "1622/1622 [==============================] - 24s 15ms/step - loss: 0.2088 - accuracy: 0.9338 - val_loss: 0.3552 - val_accuracy: 0.9225\n",
      "Epoch 62/100\n",
      "1622/1622 [==============================] - 24s 15ms/step - loss: 0.2074 - accuracy: 0.9341 - val_loss: 0.3569 - val_accuracy: 0.9219\n",
      "Epoch 63/100\n",
      "1622/1622 [==============================] - 24s 15ms/step - loss: 0.2076 - accuracy: 0.9342 - val_loss: 0.3400 - val_accuracy: 0.9261\n",
      "Epoch 64/100\n",
      "1622/1622 [==============================] - 24s 15ms/step - loss: 0.2077 - accuracy: 0.9340 - val_loss: 0.3370 - val_accuracy: 0.9280\n",
      "Epoch 65/100\n",
      "1622/1622 [==============================] - 24s 15ms/step - loss: 0.2066 - accuracy: 0.9343 - val_loss: 0.3525 - val_accuracy: 0.9229\n",
      "Epoch 66/100\n",
      "1622/1622 [==============================] - 24s 14ms/step - loss: 0.2070 - accuracy: 0.9343 - val_loss: 0.3466 - val_accuracy: 0.9251\n",
      "Epoch 67/100\n",
      "1622/1622 [==============================] - 24s 15ms/step - loss: 0.2060 - accuracy: 0.9344 - val_loss: 0.3638 - val_accuracy: 0.9220\n",
      "Epoch 68/100\n",
      "1622/1622 [==============================] - 24s 15ms/step - loss: 0.2044 - accuracy: 0.9348 - val_loss: 0.3596 - val_accuracy: 0.9221\n",
      "Epoch 69/100\n",
      "1622/1622 [==============================] - 24s 15ms/step - loss: 0.2057 - accuracy: 0.9345 - val_loss: 0.3608 - val_accuracy: 0.9209\n",
      "Epoch 70/100\n",
      "1622/1622 [==============================] - 24s 15ms/step - loss: 0.2054 - accuracy: 0.9346 - val_loss: 0.3467 - val_accuracy: 0.9271\n",
      "Epoch 71/100\n",
      "1622/1622 [==============================] - 24s 15ms/step - loss: 0.2035 - accuracy: 0.9351 - val_loss: 0.3330 - val_accuracy: 0.9303\n",
      "Epoch 72/100\n",
      "1622/1622 [==============================] - 24s 15ms/step - loss: 0.2040 - accuracy: 0.9351 - val_loss: 0.3767 - val_accuracy: 0.9177\n",
      "Epoch 73/100\n",
      "1622/1622 [==============================] - 24s 15ms/step - loss: 0.2039 - accuracy: 0.9351 - val_loss: 0.3625 - val_accuracy: 0.9218\n",
      "Epoch 74/100\n",
      "1622/1622 [==============================] - 24s 14ms/step - loss: 0.2032 - accuracy: 0.9353 - val_loss: 0.3497 - val_accuracy: 0.9264\n",
      "Epoch 75/100\n",
      "1622/1622 [==============================] - 24s 14ms/step - loss: 0.2026 - accuracy: 0.9355 - val_loss: 0.3499 - val_accuracy: 0.9251\n",
      "Epoch 76/100\n",
      "1622/1622 [==============================] - 24s 14ms/step - loss: 0.2031 - accuracy: 0.9355 - val_loss: 0.3555 - val_accuracy: 0.9233\n",
      "Epoch 77/100\n",
      "1622/1622 [==============================] - 24s 15ms/step - loss: 0.2013 - accuracy: 0.9359 - val_loss: 0.3520 - val_accuracy: 0.9257\n",
      "Epoch 78/100\n",
      "1622/1622 [==============================] - 24s 15ms/step - loss: 0.2012 - accuracy: 0.9357 - val_loss: 0.3385 - val_accuracy: 0.9281\n",
      "Epoch 79/100\n",
      "1622/1622 [==============================] - 24s 15ms/step - loss: 0.2014 - accuracy: 0.9359 - val_loss: 0.3633 - val_accuracy: 0.9245\n",
      "Epoch 80/100\n",
      "1622/1622 [==============================] - 24s 15ms/step - loss: 0.2009 - accuracy: 0.9359 - val_loss: 0.3628 - val_accuracy: 0.9238\n",
      "Epoch 81/100\n",
      "1622/1622 [==============================] - 23s 14ms/step - loss: 0.2001 - accuracy: 0.9362 - val_loss: 0.3648 - val_accuracy: 0.9230\n",
      "Epoch 82/100\n",
      "1622/1622 [==============================] - 24s 15ms/step - loss: 0.2002 - accuracy: 0.9362 - val_loss: 0.3632 - val_accuracy: 0.9227\n",
      "Epoch 83/100\n",
      "1622/1622 [==============================] - 25s 15ms/step - loss: 0.1998 - accuracy: 0.9364 - val_loss: 0.3566 - val_accuracy: 0.9256\n",
      "Epoch 84/100\n",
      "1622/1622 [==============================] - 24s 15ms/step - loss: 0.1997 - accuracy: 0.9362 - val_loss: 0.3447 - val_accuracy: 0.9275\n",
      "Epoch 85/100\n",
      "1622/1622 [==============================] - 24s 15ms/step - loss: 0.1994 - accuracy: 0.9364 - val_loss: 0.4165 - val_accuracy: 0.9079\n",
      "Epoch 86/100\n",
      "1622/1622 [==============================] - 24s 15ms/step - loss: 0.1988 - accuracy: 0.9365 - val_loss: 0.3551 - val_accuracy: 0.9261\n",
      "Epoch 87/100\n",
      "1622/1622 [==============================] - 24s 15ms/step - loss: 0.1992 - accuracy: 0.9363 - val_loss: 0.3462 - val_accuracy: 0.9294\n",
      "Epoch 88/100\n",
      "1622/1622 [==============================] - 24s 15ms/step - loss: 0.1980 - accuracy: 0.9368 - val_loss: 0.3583 - val_accuracy: 0.9261\n",
      "Epoch 89/100\n",
      "1622/1622 [==============================] - 24s 15ms/step - loss: 0.1979 - accuracy: 0.9369 - val_loss: 0.3645 - val_accuracy: 0.9238\n",
      "Epoch 90/100\n",
      "1622/1622 [==============================] - 24s 15ms/step - loss: 0.1977 - accuracy: 0.9368 - val_loss: 0.3492 - val_accuracy: 0.9272\n",
      "Epoch 91/100\n",
      "1622/1622 [==============================] - 24s 15ms/step - loss: 0.1977 - accuracy: 0.9368 - val_loss: 0.3631 - val_accuracy: 0.9253\n",
      "Epoch 92/100\n",
      "1622/1622 [==============================] - 24s 15ms/step - loss: 0.1962 - accuracy: 0.9373 - val_loss: 0.3825 - val_accuracy: 0.9181\n",
      "Epoch 93/100\n",
      "1622/1622 [==============================] - 24s 15ms/step - loss: 0.1971 - accuracy: 0.9369 - val_loss: 0.3631 - val_accuracy: 0.9245\n",
      "Epoch 94/100\n",
      "1622/1622 [==============================] - 24s 15ms/step - loss: 0.1969 - accuracy: 0.9371 - val_loss: 0.3581 - val_accuracy: 0.9266\n",
      "Epoch 95/100\n",
      "1622/1622 [==============================] - 24s 15ms/step - loss: 0.1960 - accuracy: 0.9374 - val_loss: 0.3493 - val_accuracy: 0.9283\n",
      "Epoch 96/100\n",
      "1622/1622 [==============================] - 24s 15ms/step - loss: 0.1962 - accuracy: 0.9372 - val_loss: 0.3598 - val_accuracy: 0.9267\n",
      "Epoch 97/100\n",
      "1622/1622 [==============================] - 24s 15ms/step - loss: 0.1961 - accuracy: 0.9372 - val_loss: 0.3757 - val_accuracy: 0.9220\n",
      "Epoch 98/100\n",
      "1622/1622 [==============================] - 24s 15ms/step - loss: 0.1967 - accuracy: 0.9371 - val_loss: 0.3608 - val_accuracy: 0.9251\n",
      "Epoch 99/100\n",
      "1622/1622 [==============================] - 24s 15ms/step - loss: 0.1952 - accuracy: 0.9375 - val_loss: 0.3512 - val_accuracy: 0.9291\n",
      "Epoch 100/100\n",
      "1622/1622 [==============================] - 24s 15ms/step - loss: 0.1945 - accuracy: 0.9377 - val_loss: 0.3742 - val_accuracy: 0.9212\n",
      "CNN took 2422.807617664337 milliseconds to train Multiclass data.\n",
      "\n"
     ]
    }
   ],
   "source": [
    "import time\n",
    "start = time.time()\n",
    "history=textcnnmodel.fit(X_train,y_train,epochs=100, verbose=True,validation_data=(X_test, y_test),batch_size=1000)\n",
    "end  = time.time()\n",
    "print(\"CNN took {} milliseconds to train Multiclass data.\\n\".format(end-start))"
   ]
  },
  {
   "cell_type": "code",
   "execution_count": null,
   "metadata": {
    "colab": {
     "base_uri": "https://localhost:8080/"
    },
    "id": "1uOqdLazR_Jq",
    "outputId": "226f5e14-0ef0-4fe8-b5b4-5548039524af"
   },
   "outputs": [
    {
     "name": "stdout",
     "output_type": "stream",
     "text": [
      "Training Accuracy: 0.9388\n",
      "Testing Accuracy:  0.9212\n"
     ]
    }
   ],
   "source": [
    "loss, accuracy = textcnnmodel.evaluate(X_train, y_train, verbose=False)\n",
    "print(\"Training Accuracy: {:.4f}\".format(accuracy))\n",
    "loss, accuracy = textcnnmodel.evaluate(X_test, y_test, verbose=False)\n",
    "print(\"Testing Accuracy:  {:.4f}\".format(accuracy)) "
   ]
  },
  {
   "cell_type": "code",
   "execution_count": null,
   "metadata": {
    "colab": {
     "base_uri": "https://localhost:8080/"
    },
    "id": "1gkvrk5DR_Jr",
    "outputId": "90d308f8-ed34-4e0e-eeec-db40a449a010"
   },
   "outputs": [
    {
     "name": "stdout",
     "output_type": "stream",
     "text": [
      "LSTM took 19.010567665100098 milliseconds to test data.\n",
      "\n"
     ]
    }
   ],
   "source": [
    "start = time.time()\n",
    "y_lstmpred = textcnnmodel.predict(X_test)\n",
    "end  = time.time()\n",
    "print(\"LSTM took {} milliseconds to test data.\\n\".format(end-start))"
   ]
  },
  {
   "cell_type": "code",
   "execution_count": null,
   "metadata": {
    "colab": {
     "base_uri": "https://localhost:8080/"
    },
    "id": "kBzr7ZKlR_Jr",
    "outputId": "8de6029d-9983-4084-ce05-4d2fb7749838"
   },
   "outputs": [
    {
     "name": "stderr",
     "output_type": "stream",
     "text": [
      "/usr/local/lib/python3.7/dist-packages/sklearn/metrics/_classification.py:1318: UndefinedMetricWarning: Precision and F-score are ill-defined and being set to 0.0 in labels with no predicted samples. Use `zero_division` parameter to control this behavior.\n",
      "  _warn_prf(average, modifier, msg_start, len(result))\n"
     ]
    },
    {
     "name": "stdout",
     "output_type": "stream",
     "text": [
      "              precision    recall  f1-score   support\n",
      "\n",
      "           0       1.00      1.00      1.00        10\n",
      "           1       1.00      1.00      1.00         5\n",
      "           2       0.93      1.00      0.97        28\n",
      "           3       1.00      1.00      1.00     94137\n",
      "           4       0.09      0.31      0.14       210\n",
      "           5       0.35      0.53      0.42       197\n",
      "           6       0.03      0.07      0.04        89\n",
      "           7       0.00      0.00      0.00         1\n",
      "           8       0.03      0.09      0.04       214\n",
      "           9       0.03      0.03      0.03       151\n",
      "          10       0.87      0.95      0.91       218\n",
      "          11       0.92      0.90      0.91    100071\n",
      "          12       0.78      0.94      0.85        94\n",
      "          13       0.54      0.50      0.52        44\n",
      "          14       0.24      0.14      0.17      5982\n",
      "          15       0.02      0.04      0.02        51\n",
      "          16       0.15      0.17      0.16        63\n",
      "          17       0.97      0.92      0.94      2414\n",
      "          18       0.76      0.73      0.74        22\n",
      "          19       0.91      1.00      0.95        29\n",
      "          20       0.98      0.93      0.96    122443\n",
      "          21       0.01      0.02      0.01       241\n",
      "          22       0.16      0.44      0.23       190\n",
      "          23       0.52      0.52      0.52      1699\n",
      "          24       0.93      0.99      0.96      2067\n",
      "          25       0.10      0.32      0.15       540\n",
      "          26       0.30      0.08      0.12      1643\n",
      "          27       0.77      0.94      0.84      1096\n",
      "          28       0.05      0.09      0.07        69\n",
      "          29       1.00      0.09      0.17        11\n",
      "          30       0.21      0.78      0.34        32\n",
      "          31       0.03      0.06      0.04        17\n",
      "          32       0.96      0.97      0.96      8834\n",
      "          33       0.06      0.10      0.07       150\n",
      "          34       0.02      0.03      0.02        35\n",
      "          35       0.87      0.94      0.91       375\n",
      "          36       0.50      0.10      0.17      3958\n",
      "          37       0.13      0.00      0.00      2197\n",
      "          38       0.99      0.99      0.99     36002\n",
      "          39       0.38      0.68      0.49       484\n",
      "          40       0.83      0.77      0.80      1222\n",
      "          41       0.84      0.94      0.89      5691\n",
      "          42       0.69      0.84      0.76       473\n",
      "          43       0.28      0.79      0.42       826\n",
      "          44       0.05      0.10      0.07        39\n",
      "          45       0.94      0.97      0.95     18732\n",
      "          46       0.00      0.00      0.00         6\n",
      "          47       1.00      1.00      1.00         6\n",
      "          48       0.80      0.93      0.86       109\n",
      "          49       0.28      0.48      0.35       165\n",
      "          50       0.00      0.00      0.00        15\n",
      "          51       0.49      0.76      0.60      1930\n",
      "\n",
      "   micro avg       0.93      0.91      0.92    415327\n",
      "   macro avg       0.50      0.54      0.49    415327\n",
      "weighted avg       0.93      0.91      0.92    415327\n",
      " samples avg       0.91      0.91      0.91    415327\n",
      "\n"
     ]
    },
    {
     "name": "stderr",
     "output_type": "stream",
     "text": [
      "/usr/local/lib/python3.7/dist-packages/sklearn/metrics/_classification.py:1318: UndefinedMetricWarning: Precision and F-score are ill-defined and being set to 0.0 in samples with no predicted labels. Use `zero_division` parameter to control this behavior.\n",
      "  _warn_prf(average, modifier, msg_start, len(result))\n"
     ]
    }
   ],
   "source": [
    "from sklearn.metrics import classification_report\n",
    "y_lstmpred=(y_lstmpred > 0.5)\n",
    "print(classification_report(y_test, y_lstmpred))"
   ]
  },
  {
   "cell_type": "code",
   "execution_count": null,
   "metadata": {
    "colab": {
     "base_uri": "https://localhost:8080/",
     "height": 573
    },
    "id": "ur4SbEZUR_Jt",
    "outputId": "3e3b8c53-24d1-4b70-d857-70baf0ddd99e"
   },
   "outputs": [
    {
     "data": {
      "image/png": "[encoded data removed]",
      "text/plain": [
       "<Figure size 432x288 with 1 Axes>"
      ]
     },
     "metadata": {
      "needs_background": "light"
     },
     "output_type": "display_data"
    },
    {
     "data": {
      "image/png": "[encoded data removed]",
      "text/plain": [
       "<Figure size 432x288 with 1 Axes>"
      ]
     },
     "metadata": {
      "needs_background": "light"
     },
     "output_type": "display_data"
    }
   ],
   "source": [
    "def Training_and_validation_plot(history):\n",
    "    acc = history.history['accuracy']\n",
    "    val_acc = history.history['val_accuracy']\n",
    "    loss = history.history['loss']\n",
    "    val_loss = history.history['val_loss']\n",
    "    epochs = range(1, len(acc) + 1)\n",
    "\n",
    "    plt.plot(epochs, acc, 'bo', label = 'Training Accuracy')\n",
    "    plt.plot(epochs, val_acc, 'r', label = 'Validation Accuracy')\n",
    "    plt.title('Training and Validation Accuracy')\n",
    "    plt.xlabel('Epochs')\n",
    "    plt.ylabel('Loss')\n",
    "    plt.legend()\n",
    "\n",
    "    plt.figure()\n",
    "    plt.plot(epochs, loss, 'bo', label = 'Training Loss')\n",
    "    plt.plot(epochs, val_loss, 'r', label = 'Validation Loss')\n",
    "    plt.title('Training and Validation Loss')\n",
    "    plt.xlabel('Epochs')\n",
    "    plt.ylabel('Loss')\n",
    "    plt.legend()\n",
    "    plt.show()\n",
    "Training_and_validation_plot(history)"
   ]
  },
  {
   "cell_type": "code",
   "execution_count": null,
   "metadata": {
    "colab": {
     "base_uri": "https://localhost:8080/"
    },
    "id": "hbxLWryDR_Jt",
    "outputId": "29197e10-c934-45ad-9feb-b7224369da0a"
   },
   "outputs": [
    {
     "name": "stdout",
     "output_type": "stream",
     "text": [
      "INFO:tensorflow:Assets written to: ram://7d9c3905-f60e-4fed-9ff3-0697f19f315b/assets\n"
     ]
    },
    {
     "name": "stderr",
     "output_type": "stream",
     "text": [
      "INFO:tensorflow:Assets written to: ram://7d9c3905-f60e-4fed-9ff3-0697f19f315b/assets\n"
     ]
    }
   ],
   "source": [
    "import pickle\n",
    "# save the model to disk\n",
    "filename = '/content/drive/My Drive/Colab Notebooks/|Mcnnmodel_2x64x5,1000x100.sav'\n",
    "pickle.dump(textcnnmodel, open(filename, 'wb'))"
   ]
  },
  {
   "cell_type": "markdown",
   "metadata": {
    "id": "gw3g-MDtrlzk"
   },
   "source": [
    "### 128"
   ]
  },
  {
   "cell_type": "code",
   "execution_count": null,
   "metadata": {
    "colab": {
     "base_uri": "https://localhost:8080/"
    },
    "id": "fIsbcawJrnVG",
    "outputId": "8ff6da1c-edc2-4da4-af8f-2861fdc1344f"
   },
   "outputs": [
    {
     "name": "stdout",
     "output_type": "stream",
     "text": [
      "Model: \"sequential\"\n",
      "_________________________________________________________________\n",
      " Layer (type)                Output Shape              Param #   \n",
      "=================================================================\n",
      " embedding (Embedding)       (None, 50, 100)           7000      \n",
      "                                                                 \n",
      " conv1d (Conv1D)             (None, 46, 128)           64128     \n",
      "                                                                 \n",
      " conv1d_1 (Conv1D)           (None, 42, 128)           82048     \n",
      "                                                                 \n",
      " global_max_pooling1d (Globa  (None, 128)              0         \n",
      " lMaxPooling1D)                                                  \n",
      "                                                                 \n",
      " flatten (Flatten)           (None, 128)               0         \n",
      "                                                                 \n",
      " dense (Dense)               (None, 250)               32250     \n",
      "                                                                 \n",
      " dense_1 (Dense)             (None, 52)                13052     \n",
      "                                                                 \n",
      "=================================================================\n",
      "Total params: 198,478\n",
      "Trainable params: 198,478\n",
      "Non-trainable params: 0\n",
      "_________________________________________________________________\n"
     ]
    }
   ],
   "source": [
    "from keras.models import Sequential\n",
    "from keras import layers \n",
    "\n",
    "embedding_dim = 100\n",
    "vocab_size=70\n",
    "max_len=50\n",
    "textcnnmodel = Sequential()\n",
    "textcnnmodel.add(layers.Embedding(vocab_size, embedding_dim, input_length=max_len))\n",
    "textcnnmodel.add(layers.Conv1D(128, 5, activation='relu'))\n",
    "textcnnmodel.add(layers.Conv1D(128, 5, activation='relu'))\n",
    "textcnnmodel.add(layers.GlobalMaxPooling1D())\n",
    "textcnnmodel.add(layers.Flatten())\n",
    "\n",
    "textcnnmodel.add(layers.Dense(250, activation='relu'))\n",
    "textcnnmodel.add(layers.Dense(Domain_data['label'].nunique(), activation='softmax'))\n",
    "textcnnmodel.compile(optimizer='adam',\n",
    "               loss='categorical_crossentropy',\n",
    "               metrics=['accuracy'])\n",
    "textcnnmodel.summary() "
   ]
  },
  {
   "cell_type": "code",
   "execution_count": null,
   "metadata": {
    "colab": {
     "base_uri": "https://localhost:8080/"
    },
    "id": "BDz7KWBurnVI",
    "outputId": "8f42a341-91e7-4dcf-de0e-a9eea04ef997"
   },
   "outputs": [
    {
     "name": "stdout",
     "output_type": "stream",
     "text": [
      "Epoch 1/100\n",
      "1622/1622 [==============================] - 50s 23ms/step - loss: 0.9430 - accuracy: 0.7378 - val_loss: 0.3671 - val_accuracy: 0.9106\n",
      "Epoch 2/100\n",
      "1622/1622 [==============================] - 36s 22ms/step - loss: 0.4582 - accuracy: 0.8653 - val_loss: 0.3100 - val_accuracy: 0.9218\n",
      "Epoch 3/100\n",
      "1622/1622 [==============================] - 39s 24ms/step - loss: 0.3501 - accuracy: 0.8962 - val_loss: 0.2962 - val_accuracy: 0.9233\n",
      "Epoch 4/100\n",
      "1622/1622 [==============================] - 39s 24ms/step - loss: 0.2975 - accuracy: 0.9113 - val_loss: 0.2895 - val_accuracy: 0.9243\n",
      "Epoch 5/100\n",
      "1622/1622 [==============================] - 37s 23ms/step - loss: 0.2663 - accuracy: 0.9196 - val_loss: 0.3355 - val_accuracy: 0.9120\n",
      "Epoch 6/100\n",
      "1622/1622 [==============================] - 39s 24ms/step - loss: 0.2432 - accuracy: 0.9258 - val_loss: 0.3082 - val_accuracy: 0.9201\n",
      "Epoch 7/100\n",
      "1622/1622 [==============================] - 37s 23ms/step - loss: 0.2279 - accuracy: 0.9297 - val_loss: 0.2748 - val_accuracy: 0.9311\n",
      "Epoch 8/100\n",
      "1622/1622 [==============================] - 37s 23ms/step - loss: 0.2167 - accuracy: 0.9325 - val_loss: 0.2883 - val_accuracy: 0.9291\n",
      "Epoch 9/100\n",
      "1622/1622 [==============================] - 39s 24ms/step - loss: 0.2063 - accuracy: 0.9351 - val_loss: 0.2921 - val_accuracy: 0.9281\n",
      "Epoch 10/100\n",
      "1622/1622 [==============================] - 37s 23ms/step - loss: 0.1988 - accuracy: 0.9371 - val_loss: 0.2953 - val_accuracy: 0.9257\n",
      "Epoch 11/100\n",
      "1622/1622 [==============================] - 37s 23ms/step - loss: 0.1921 - accuracy: 0.9388 - val_loss: 0.2819 - val_accuracy: 0.9323\n",
      "Epoch 12/100\n",
      "1622/1622 [==============================] - 37s 23ms/step - loss: 0.1872 - accuracy: 0.9401 - val_loss: 0.2792 - val_accuracy: 0.9350\n",
      "Epoch 13/100\n",
      "1622/1622 [==============================] - 37s 23ms/step - loss: 0.1799 - accuracy: 0.9420 - val_loss: 0.2986 - val_accuracy: 0.9285\n",
      "Epoch 14/100\n",
      "1622/1622 [==============================] - 37s 23ms/step - loss: 0.1763 - accuracy: 0.9429 - val_loss: 0.2965 - val_accuracy: 0.9299\n",
      "Epoch 15/100\n",
      "1622/1622 [==============================] - 37s 23ms/step - loss: 0.1723 - accuracy: 0.9441 - val_loss: 0.3152 - val_accuracy: 0.9244\n",
      "Epoch 16/100\n",
      "1622/1622 [==============================] - 37s 23ms/step - loss: 0.1687 - accuracy: 0.9451 - val_loss: 0.2922 - val_accuracy: 0.9329\n",
      "Epoch 17/100\n",
      "1622/1622 [==============================] - 39s 24ms/step - loss: 0.1669 - accuracy: 0.9454 - val_loss: 0.3022 - val_accuracy: 0.9296\n",
      "Epoch 18/100\n",
      "1622/1622 [==============================] - 37s 23ms/step - loss: 0.1619 - accuracy: 0.9470 - val_loss: 0.2829 - val_accuracy: 0.9372\n",
      "Epoch 19/100\n",
      "1622/1622 [==============================] - 37s 23ms/step - loss: 0.1598 - accuracy: 0.9474 - val_loss: 0.2911 - val_accuracy: 0.9351\n",
      "Epoch 20/100\n",
      "1622/1622 [==============================] - 37s 23ms/step - loss: 0.1565 - accuracy: 0.9485 - val_loss: 0.3335 - val_accuracy: 0.9213\n",
      "Epoch 21/100\n",
      "1622/1622 [==============================] - 37s 23ms/step - loss: 0.1563 - accuracy: 0.9485 - val_loss: 0.3149 - val_accuracy: 0.9271\n",
      "Epoch 22/100\n",
      "1622/1622 [==============================] - 39s 24ms/step - loss: 0.1535 - accuracy: 0.9494 - val_loss: 0.3231 - val_accuracy: 0.9259\n",
      "Epoch 23/100\n",
      "1622/1622 [==============================] - 39s 24ms/step - loss: 0.1508 - accuracy: 0.9500 - val_loss: 0.3050 - val_accuracy: 0.9350\n",
      "Epoch 24/100\n",
      "1622/1622 [==============================] - 37s 23ms/step - loss: 0.1496 - accuracy: 0.9505 - val_loss: 0.3118 - val_accuracy: 0.9325\n",
      "Epoch 25/100\n",
      "1622/1622 [==============================] - 37s 23ms/step - loss: 0.1476 - accuracy: 0.9511 - val_loss: 0.3115 - val_accuracy: 0.9334\n",
      "Epoch 26/100\n",
      "1622/1622 [==============================] - 37s 23ms/step - loss: 0.1450 - accuracy: 0.9519 - val_loss: 0.3123 - val_accuracy: 0.9316\n",
      "Epoch 27/100\n",
      "1622/1622 [==============================] - 37s 23ms/step - loss: 0.1440 - accuracy: 0.9522 - val_loss: 0.3117 - val_accuracy: 0.9343\n",
      "Epoch 28/100\n",
      "1622/1622 [==============================] - 38s 24ms/step - loss: 0.1430 - accuracy: 0.9524 - val_loss: 0.3180 - val_accuracy: 0.9332\n",
      "Epoch 29/100\n",
      "1622/1622 [==============================] - 37s 23ms/step - loss: 0.1408 - accuracy: 0.9532 - val_loss: 0.3280 - val_accuracy: 0.9307\n",
      "Epoch 30/100\n",
      "1622/1622 [==============================] - 37s 23ms/step - loss: 0.1396 - accuracy: 0.9537 - val_loss: 0.3559 - val_accuracy: 0.9181\n",
      "Epoch 31/100\n",
      "1622/1622 [==============================] - 37s 23ms/step - loss: 0.1379 - accuracy: 0.9541 - val_loss: 0.3217 - val_accuracy: 0.9343\n",
      "Epoch 32/100\n",
      "1622/1622 [==============================] - 37s 23ms/step - loss: 0.1376 - accuracy: 0.9541 - val_loss: 0.3148 - val_accuracy: 0.9357\n",
      "Epoch 33/100\n",
      "1622/1622 [==============================] - 37s 23ms/step - loss: 0.1363 - accuracy: 0.9546 - val_loss: 0.3195 - val_accuracy: 0.9348\n",
      "Epoch 34/100\n",
      "1622/1622 [==============================] - 39s 24ms/step - loss: 0.1350 - accuracy: 0.9550 - val_loss: 0.3160 - val_accuracy: 0.9360\n",
      "Epoch 35/100\n",
      "1622/1622 [==============================] - 37s 23ms/step - loss: 0.1341 - accuracy: 0.9552 - val_loss: 0.3230 - val_accuracy: 0.9356\n",
      "Epoch 36/100\n",
      "1622/1622 [==============================] - 37s 23ms/step - loss: 0.1333 - accuracy: 0.9556 - val_loss: 0.3460 - val_accuracy: 0.9275\n",
      "Epoch 37/100\n",
      "1622/1622 [==============================] - 37s 23ms/step - loss: 0.1302 - accuracy: 0.9566 - val_loss: 0.3689 - val_accuracy: 0.9221\n",
      "Epoch 38/100\n",
      "1622/1622 [==============================] - 37s 23ms/step - loss: 0.1306 - accuracy: 0.9563 - val_loss: 0.3293 - val_accuracy: 0.9349\n",
      "Epoch 39/100\n",
      "1622/1622 [==============================] - 37s 23ms/step - loss: 0.1295 - accuracy: 0.9569 - val_loss: 0.3478 - val_accuracy: 0.9315\n",
      "Epoch 40/100\n",
      "1622/1622 [==============================] - 37s 23ms/step - loss: 0.1287 - accuracy: 0.9570 - val_loss: 0.3332 - val_accuracy: 0.9348\n",
      "Epoch 41/100\n",
      "1622/1622 [==============================] - 39s 24ms/step - loss: 0.1277 - accuracy: 0.9573 - val_loss: 0.3777 - val_accuracy: 0.9200\n",
      "Epoch 42/100\n",
      "1622/1622 [==============================] - 37s 23ms/step - loss: 0.1273 - accuracy: 0.9572 - val_loss: 0.3305 - val_accuracy: 0.9363\n",
      "Epoch 43/100\n",
      "1622/1622 [==============================] - 37s 23ms/step - loss: 0.1258 - accuracy: 0.9579 - val_loss: 0.3442 - val_accuracy: 0.9320\n",
      "Epoch 44/100\n",
      "1622/1622 [==============================] - 37s 23ms/step - loss: 0.1251 - accuracy: 0.9582 - val_loss: 0.3646 - val_accuracy: 0.9278\n",
      "Epoch 45/100\n",
      "1622/1622 [==============================] - 37s 23ms/step - loss: 0.1245 - accuracy: 0.9583 - val_loss: 0.3380 - val_accuracy: 0.9349\n",
      "Epoch 46/100\n",
      "1622/1622 [==============================] - 39s 24ms/step - loss: 0.1236 - accuracy: 0.9586 - val_loss: 0.3317 - val_accuracy: 0.9378\n",
      "Epoch 47/100\n",
      "1622/1622 [==============================] - 37s 23ms/step - loss: 0.1231 - accuracy: 0.9587 - val_loss: 0.3618 - val_accuracy: 0.9280\n",
      "Epoch 48/100\n",
      "1622/1622 [==============================] - 37s 23ms/step - loss: 0.1223 - accuracy: 0.9590 - val_loss: 0.3457 - val_accuracy: 0.9339\n",
      "Epoch 49/100\n",
      "1622/1622 [==============================] - 37s 23ms/step - loss: 0.1215 - accuracy: 0.9593 - val_loss: 0.3484 - val_accuracy: 0.9348\n",
      "Epoch 50/100\n",
      "1622/1622 [==============================] - 39s 24ms/step - loss: 0.1203 - accuracy: 0.9597 - val_loss: 0.3423 - val_accuracy: 0.9364\n",
      "Epoch 51/100\n",
      "1622/1622 [==============================] - 37s 23ms/step - loss: 0.1206 - accuracy: 0.9595 - val_loss: 0.3601 - val_accuracy: 0.9307\n",
      "Epoch 52/100\n",
      "1622/1622 [==============================] - 39s 24ms/step - loss: 0.1199 - accuracy: 0.9598 - val_loss: 0.3562 - val_accuracy: 0.9326\n",
      "Epoch 53/100\n",
      "1622/1622 [==============================] - 37s 23ms/step - loss: 0.1185 - accuracy: 0.9602 - val_loss: 0.3530 - val_accuracy: 0.9341\n",
      "Epoch 54/100\n",
      "1622/1622 [==============================] - 37s 23ms/step - loss: 0.1185 - accuracy: 0.9604 - val_loss: 0.3509 - val_accuracy: 0.9350\n",
      "Epoch 55/100\n",
      "1622/1622 [==============================] - 37s 23ms/step - loss: 0.1166 - accuracy: 0.9608 - val_loss: 0.3692 - val_accuracy: 0.9319\n",
      "Epoch 56/100\n",
      "1622/1622 [==============================] - 37s 23ms/step - loss: 0.1179 - accuracy: 0.9605 - val_loss: 0.3711 - val_accuracy: 0.9296\n",
      "Epoch 57/100\n",
      "1622/1622 [==============================] - 39s 24ms/step - loss: 0.1165 - accuracy: 0.9609 - val_loss: 0.3781 - val_accuracy: 0.9277\n",
      "Epoch 58/100\n",
      "1622/1622 [==============================] - 37s 23ms/step - loss: 0.1164 - accuracy: 0.9609 - val_loss: 0.3835 - val_accuracy: 0.9301\n",
      "Epoch 59/100\n",
      "1622/1622 [==============================] - 37s 23ms/step - loss: 0.1181 - accuracy: 0.9607 - val_loss: 0.3593 - val_accuracy: 0.9349\n",
      "Epoch 60/100\n",
      "1622/1622 [==============================] - 37s 23ms/step - loss: 0.1124 - accuracy: 0.9623 - val_loss: 0.3680 - val_accuracy: 0.9343\n",
      "Epoch 61/100\n",
      "1622/1622 [==============================] - 37s 23ms/step - loss: 0.1156 - accuracy: 0.9614 - val_loss: 0.3636 - val_accuracy: 0.9349\n",
      "Epoch 62/100\n",
      "1622/1622 [==============================] - 39s 24ms/step - loss: 0.1138 - accuracy: 0.9618 - val_loss: 0.3992 - val_accuracy: 0.9263\n",
      "Epoch 63/100\n",
      "1622/1622 [==============================] - 37s 23ms/step - loss: 0.1153 - accuracy: 0.9614 - val_loss: 0.3688 - val_accuracy: 0.9318\n",
      "Epoch 64/100\n",
      "1622/1622 [==============================] - 39s 24ms/step - loss: 0.1127 - accuracy: 0.9621 - val_loss: 0.3877 - val_accuracy: 0.9316\n",
      "Epoch 65/100\n",
      "1622/1622 [==============================] - 37s 23ms/step - loss: 0.1130 - accuracy: 0.9622 - val_loss: 0.4022 - val_accuracy: 0.9272\n",
      "Epoch 66/100\n",
      "1622/1622 [==============================] - 37s 23ms/step - loss: 0.1127 - accuracy: 0.9622 - val_loss: 0.3723 - val_accuracy: 0.9337\n",
      "Epoch 67/100\n",
      "1622/1622 [==============================] - 37s 23ms/step - loss: 0.1111 - accuracy: 0.9628 - val_loss: 0.4154 - val_accuracy: 0.9247\n",
      "Epoch 68/100\n",
      "1622/1622 [==============================] - 39s 24ms/step - loss: 0.1117 - accuracy: 0.9623 - val_loss: 0.3783 - val_accuracy: 0.9362\n",
      "Epoch 69/100\n",
      "1622/1622 [==============================] - 37s 23ms/step - loss: 0.1106 - accuracy: 0.9630 - val_loss: 0.3803 - val_accuracy: 0.9327\n",
      "Epoch 70/100\n",
      "1622/1622 [==============================] - 39s 24ms/step - loss: 0.1106 - accuracy: 0.9629 - val_loss: 0.3828 - val_accuracy: 0.9339\n",
      "Epoch 71/100\n",
      "1622/1622 [==============================] - 37s 23ms/step - loss: 0.1097 - accuracy: 0.9632 - val_loss: 0.3819 - val_accuracy: 0.9335\n",
      "Epoch 72/100\n",
      "1622/1622 [==============================] - 37s 23ms/step - loss: 0.1103 - accuracy: 0.9628 - val_loss: 0.3836 - val_accuracy: 0.9355\n",
      "Epoch 73/100\n",
      "1622/1622 [==============================] - 39s 24ms/step - loss: 0.1086 - accuracy: 0.9634 - val_loss: 0.3907 - val_accuracy: 0.9323\n",
      "Epoch 74/100\n",
      "1622/1622 [==============================] - 37s 23ms/step - loss: 0.1096 - accuracy: 0.9634 - val_loss: 0.3800 - val_accuracy: 0.9368\n",
      "Epoch 75/100\n",
      "1622/1622 [==============================] - 39s 24ms/step - loss: 0.1082 - accuracy: 0.9636 - val_loss: 0.3836 - val_accuracy: 0.9357\n",
      "Epoch 76/100\n",
      "1622/1622 [==============================] - 37s 23ms/step - loss: 0.1082 - accuracy: 0.9636 - val_loss: 0.3879 - val_accuracy: 0.9348\n",
      "Epoch 77/100\n",
      "1622/1622 [==============================] - 37s 23ms/step - loss: 0.1069 - accuracy: 0.9640 - val_loss: 0.4024 - val_accuracy: 0.9323\n",
      "Epoch 78/100\n",
      "1622/1622 [==============================] - 37s 23ms/step - loss: 0.1076 - accuracy: 0.9639 - val_loss: 0.4160 - val_accuracy: 0.9259\n",
      "Epoch 79/100\n",
      "1622/1622 [==============================] - 37s 23ms/step - loss: 0.1079 - accuracy: 0.9638 - val_loss: 0.3928 - val_accuracy: 0.9342\n",
      "Epoch 80/100\n",
      "1622/1622 [==============================] - 37s 23ms/step - loss: 0.1062 - accuracy: 0.9645 - val_loss: 0.3850 - val_accuracy: 0.9350\n",
      "Epoch 81/100\n",
      "1622/1622 [==============================] - 39s 24ms/step - loss: 0.1072 - accuracy: 0.9640 - val_loss: 0.3791 - val_accuracy: 0.9392\n",
      "Epoch 82/100\n",
      "1622/1622 [==============================] - 37s 23ms/step - loss: 0.1055 - accuracy: 0.9647 - val_loss: 0.3977 - val_accuracy: 0.9351\n",
      "Epoch 83/100\n",
      "1622/1622 [==============================] - 37s 23ms/step - loss: 0.1059 - accuracy: 0.9645 - val_loss: 0.4130 - val_accuracy: 0.9299\n",
      "Epoch 84/100\n",
      "1622/1622 [==============================] - 37s 23ms/step - loss: 0.1059 - accuracy: 0.9644 - val_loss: 0.3821 - val_accuracy: 0.9411\n",
      "Epoch 85/100\n",
      "1622/1622 [==============================] - 37s 23ms/step - loss: 0.1048 - accuracy: 0.9647 - val_loss: 0.4019 - val_accuracy: 0.9328\n",
      "Epoch 86/100\n",
      "1622/1622 [==============================] - 37s 23ms/step - loss: 0.1049 - accuracy: 0.9648 - val_loss: 0.3967 - val_accuracy: 0.9337\n",
      "Epoch 87/100\n",
      "1622/1622 [==============================] - 39s 24ms/step - loss: 0.1034 - accuracy: 0.9653 - val_loss: 0.4113 - val_accuracy: 0.9313\n",
      "Epoch 88/100\n",
      "1622/1622 [==============================] - 37s 23ms/step - loss: 0.1051 - accuracy: 0.9650 - val_loss: 0.4120 - val_accuracy: 0.9306\n",
      "Epoch 89/100\n",
      "1622/1622 [==============================] - 39s 24ms/step - loss: 0.1026 - accuracy: 0.9656 - val_loss: 0.3981 - val_accuracy: 0.9356\n",
      "Epoch 90/100\n",
      "1622/1622 [==============================] - 37s 23ms/step - loss: 0.1036 - accuracy: 0.9652 - val_loss: 0.4102 - val_accuracy: 0.9319\n",
      "Epoch 91/100\n",
      "1622/1622 [==============================] - 37s 23ms/step - loss: 0.1031 - accuracy: 0.9656 - val_loss: 0.4245 - val_accuracy: 0.9266\n",
      "Epoch 92/100\n",
      "1622/1622 [==============================] - 37s 23ms/step - loss: 0.1029 - accuracy: 0.9656 - val_loss: 0.3975 - val_accuracy: 0.9377\n",
      "Epoch 93/100\n",
      "1622/1622 [==============================] - 37s 23ms/step - loss: 0.1023 - accuracy: 0.9656 - val_loss: 0.4343 - val_accuracy: 0.9238\n",
      "Epoch 94/100\n",
      "1622/1622 [==============================] - 37s 23ms/step - loss: 0.1016 - accuracy: 0.9659 - val_loss: 0.4241 - val_accuracy: 0.9327\n",
      "Epoch 95/100\n",
      "1622/1622 [==============================] - 37s 23ms/step - loss: 0.1029 - accuracy: 0.9655 - val_loss: 0.4463 - val_accuracy: 0.9225\n",
      "Epoch 96/100\n",
      "1622/1622 [==============================] - 37s 23ms/step - loss: 0.1012 - accuracy: 0.9661 - val_loss: 0.4193 - val_accuracy: 0.9306\n",
      "Epoch 97/100\n",
      "1622/1622 [==============================] - 39s 24ms/step - loss: 0.1004 - accuracy: 0.9663 - val_loss: 0.4339 - val_accuracy: 0.9266\n",
      "Epoch 98/100\n",
      "1622/1622 [==============================] - 39s 24ms/step - loss: 0.1011 - accuracy: 0.9660 - val_loss: 0.4275 - val_accuracy: 0.9285\n",
      "Epoch 99/100\n",
      "1622/1622 [==============================] - 37s 23ms/step - loss: 0.1002 - accuracy: 0.9665 - val_loss: 0.4281 - val_accuracy: 0.9284\n",
      "Epoch 100/100\n",
      "1622/1622 [==============================] - 37s 23ms/step - loss: 0.1036 - accuracy: 0.9654 - val_loss: 0.4042 - val_accuracy: 0.9357\n",
      "CNN took 3803.34738445282 milliseconds to train Multiclass data.\n",
      "\n"
     ]
    }
   ],
   "source": [
    "import time\n",
    "start = time.time()\n",
    "history=textcnnmodel.fit(X_train,y_train,epochs=100, verbose=True,validation_data=(X_test, y_test),batch_size=1000)\n",
    "end  = time.time()\n",
    "print(\"CNN took {} milliseconds to train Multiclass data.\\n\".format(end-start))"
   ]
  },
  {
   "cell_type": "code",
   "execution_count": null,
   "metadata": {
    "colab": {
     "base_uri": "https://localhost:8080/"
    },
    "id": "xhuUt0SUrnVJ",
    "outputId": "3a138b5f-f73e-4f64-e002-6cc4c52f8bd6"
   },
   "outputs": [
    {
     "name": "stdout",
     "output_type": "stream",
     "text": [
      "Training Accuracy: 0.9702\n",
      "Testing Accuracy:  0.9357\n"
     ]
    }
   ],
   "source": [
    "loss, accuracy = textcnnmodel.evaluate(X_train, y_train, verbose=False)\n",
    "print(\"Training Accuracy: {:.4f}\".format(accuracy))\n",
    "loss, accuracy = textcnnmodel.evaluate(X_test, y_test, verbose=False)\n",
    "print(\"Testing Accuracy:  {:.4f}\".format(accuracy)) "
   ]
  },
  {
   "cell_type": "code",
   "execution_count": null,
   "metadata": {
    "colab": {
     "base_uri": "https://localhost:8080/"
    },
    "id": "LvPKBcg5rnVK",
    "outputId": "a7c3b8fd-a08d-4256-eb26-d230883ea9e7"
   },
   "outputs": [
    {
     "name": "stdout",
     "output_type": "stream",
     "text": [
      "LSTM took 18.884981393814087 milliseconds to test data.\n",
      "\n"
     ]
    }
   ],
   "source": [
    "start = time.time()\n",
    "y_lstmpred = textcnnmodel.predict(X_test)\n",
    "end  = time.time()\n",
    "print(\"LSTM took {} milliseconds to test data.\\n\".format(end-start))"
   ]
  },
  {
   "cell_type": "code",
   "execution_count": null,
   "metadata": {
    "colab": {
     "base_uri": "https://localhost:8080/"
    },
    "id": "CXAhKVddrnVK",
    "outputId": "a76d2b11-0efb-4e97-920b-4852359816c2"
   },
   "outputs": [
    {
     "name": "stderr",
     "output_type": "stream",
     "text": [
      "/usr/local/lib/python3.7/dist-packages/sklearn/metrics/_classification.py:1318: UndefinedMetricWarning: Precision and F-score are ill-defined and being set to 0.0 in labels with no predicted samples. Use `zero_division` parameter to control this behavior.\n",
      "  _warn_prf(average, modifier, msg_start, len(result))\n"
     ]
    },
    {
     "name": "stdout",
     "output_type": "stream",
     "text": [
      "              precision    recall  f1-score   support\n",
      "\n",
      "           0       0.91      1.00      0.95        10\n",
      "           1       1.00      1.00      1.00         5\n",
      "           2       0.97      1.00      0.98        28\n",
      "           3       1.00      1.00      1.00     94137\n",
      "           4       0.15      0.29      0.20       210\n",
      "           5       0.53      0.54      0.54       197\n",
      "           6       0.09      0.09      0.09        89\n",
      "           7       0.00      0.00      0.00         1\n",
      "           8       0.04      0.04      0.04       214\n",
      "           9       0.04      0.04      0.04       151\n",
      "          10       0.92      1.00      0.95       218\n",
      "          11       0.93      0.93      0.93    100071\n",
      "          12       0.89      0.98      0.93        94\n",
      "          13       0.78      0.57      0.66        44\n",
      "          14       0.33      0.26      0.29      5982\n",
      "          15       0.03      0.04      0.03        51\n",
      "          16       0.09      0.08      0.08        63\n",
      "          17       0.99      0.94      0.96      2414\n",
      "          18       0.94      0.77      0.85        22\n",
      "          19       0.97      1.00      0.98        29\n",
      "          20       0.98      0.96      0.97    122443\n",
      "          21       0.02      0.02      0.02       241\n",
      "          22       0.24      0.29      0.26       190\n",
      "          23       0.51      0.83      0.63      1699\n",
      "          24       0.98      0.97      0.98      2067\n",
      "          25       0.23      0.28      0.25       540\n",
      "          26       0.20      0.31      0.24      1643\n",
      "          27       0.88      0.94      0.91      1096\n",
      "          28       0.08      0.09      0.09        69\n",
      "          29       0.00      0.00      0.00        11\n",
      "          30       0.51      0.72      0.60        32\n",
      "          31       0.00      0.00      0.00        17\n",
      "          32       0.97      0.97      0.97      8834\n",
      "          33       0.04      0.07      0.05       150\n",
      "          34       0.00      0.00      0.00        35\n",
      "          35       0.94      0.95      0.95       375\n",
      "          36       0.50      0.08      0.14      3958\n",
      "          37       0.15      0.09      0.11      2197\n",
      "          38       0.99      0.99      0.99     36002\n",
      "          39       0.41      0.63      0.50       484\n",
      "          40       0.77      0.83      0.80      1222\n",
      "          41       0.91      0.96      0.94      5691\n",
      "          42       0.80      0.86      0.83       473\n",
      "          43       0.50      0.69      0.58       826\n",
      "          44       0.02      0.03      0.02        39\n",
      "          45       0.96      0.96      0.96     18732\n",
      "          46       0.00      0.00      0.00         6\n",
      "          47       1.00      1.00      1.00         6\n",
      "          48       0.93      0.92      0.93       109\n",
      "          49       0.43      0.49      0.46       165\n",
      "          50       0.02      0.07      0.03        15\n",
      "          51       0.54      0.76      0.63      1930\n",
      "\n",
      "   micro avg       0.94      0.93      0.94    415327\n",
      "   macro avg       0.52      0.54      0.53    415327\n",
      "weighted avg       0.94      0.93      0.93    415327\n",
      " samples avg       0.93      0.93      0.93    415327\n",
      "\n"
     ]
    },
    {
     "name": "stderr",
     "output_type": "stream",
     "text": [
      "/usr/local/lib/python3.7/dist-packages/sklearn/metrics/_classification.py:1318: UndefinedMetricWarning: Precision and F-score are ill-defined and being set to 0.0 in samples with no predicted labels. Use `zero_division` parameter to control this behavior.\n",
      "  _warn_prf(average, modifier, msg_start, len(result))\n"
     ]
    }
   ],
   "source": [
    "from sklearn.metrics import classification_report\n",
    "y_lstmpred=(y_lstmpred > 0.5)\n",
    "print(classification_report(y_test, y_lstmpred))"
   ]
  },
  {
   "cell_type": "code",
   "execution_count": null,
   "metadata": {
    "colab": {
     "base_uri": "https://localhost:8080/",
     "height": 573
    },
    "id": "5DP1NWHcrnVL",
    "outputId": "8f23fc8e-4c0c-4073-8edd-65977c2e2294"
   },
   "outputs": [
    {
     "data": {
      "image/png": "[encoded data removed]",
      "text/plain": [
       "<Figure size 432x288 with 1 Axes>"
      ]
     },
     "metadata": {
      "needs_background": "light"
     },
     "output_type": "display_data"
    },
    {
     "data": {
      "image/png": "[encoded data removed]",
      "text/plain": [
       "<Figure size 432x288 with 1 Axes>"
      ]
     },
     "metadata": {
      "needs_background": "light"
     },
     "output_type": "display_data"
    }
   ],
   "source": [
    "def Training_and_validation_plot(history):\n",
    "    acc = history.history['accuracy']\n",
    "    val_acc = history.history['val_accuracy']\n",
    "    loss = history.history['loss']\n",
    "    val_loss = history.history['val_loss']\n",
    "    epochs = range(1, len(acc) + 1)\n",
    "\n",
    "    plt.plot(epochs, acc, 'bo', label = 'Training Accuracy')\n",
    "    plt.plot(epochs, val_acc, 'r', label = 'Validation Accuracy')\n",
    "    plt.title('Training and Validation Accuracy')\n",
    "    plt.xlabel('Epochs')\n",
    "    plt.ylabel('Loss')\n",
    "    plt.legend()\n",
    "\n",
    "    plt.figure()\n",
    "    plt.plot(epochs, loss, 'bo', label = 'Training Loss')\n",
    "    plt.plot(epochs, val_loss, 'r', label = 'Validation Loss')\n",
    "    plt.title('Training and Validation Loss')\n",
    "    plt.xlabel('Epochs')\n",
    "    plt.ylabel('Loss')\n",
    "    plt.legend()\n",
    "    plt.show()\n",
    "Training_and_validation_plot(history)"
   ]
  },
  {
   "cell_type": "code",
   "execution_count": null,
   "metadata": {
    "colab": {
     "base_uri": "https://localhost:8080/"
    },
    "id": "Q8RJtf4VrnVM",
    "outputId": "65b5438b-cdc2-47be-f373-3a08086379f8"
   },
   "outputs": [
    {
     "name": "stdout",
     "output_type": "stream",
     "text": [
      "INFO:tensorflow:Assets written to: ram://bab68a8d-5864-437c-b9e4-586e97c57db1/assets\n"
     ]
    }
   ],
   "source": [
    "import pickle\n",
    "# save the model to disk\n",
    "filename = '/content/drive/My Drive/Colab Notebooks/|Mcnnmodel_2x128x5,1000x100.sav'\n",
    "pickle.dump(textcnnmodel, open(filename, 'wb'))"
   ]
  },
  {
   "cell_type": "markdown",
   "metadata": {
    "id": "V_PH-L_G2qAU"
   },
   "source": [
    "# before"
   ]
  },
  {
   "cell_type": "code",
   "execution_count": null,
   "metadata": {
    "colab": {
     "base_uri": "https://localhost:8080/"
    },
    "id": "1puYlNGixHcD",
    "outputId": "66a2ad6e-733d-4265-b7d0-25efb6ff79ee"
   },
   "outputs": [
    {
     "name": "stdout",
     "output_type": "stream",
     "text": [
      "Model: \"sequential_1\"\n",
      "_________________________________________________________________\n",
      " Layer (type)                Output Shape              Param #   \n",
      "=================================================================\n",
      " embedding (Embedding)       (None, 50, 100)           7000      \n",
      "                                                                 \n",
      " conv1d (Conv1D)             (None, 48, 32)            9632      \n",
      "                                                                 \n",
      " conv1d_1 (Conv1D)           (None, 46, 32)            3104      \n",
      "                                                                 \n",
      " global_max_pooling1d (Globa  (None, 32)               0         \n",
      " lMaxPooling1D)                                                  \n",
      "                                                                 \n",
      " flatten (Flatten)           (None, 32)                0         \n",
      "                                                                 \n",
      " dense (Dense)               (None, 250)               8250      \n",
      "                                                                 \n",
      " dense_1 (Dense)             (None, 57)                14307     \n",
      "                                                                 \n",
      "=================================================================\n",
      "Total params: 42,293\n",
      "Trainable params: 42,293\n",
      "Non-trainable params: 0\n",
      "_________________________________________________________________\n"
     ]
    }
   ],
   "source": [
    "from keras.models import Sequential\n",
    "from keras import layers \n",
    "\n",
    "embedding_dim = 100\n",
    "vocab_size=70\n",
    "max_len=50\n",
    "textcnnmodel = Sequential()\n",
    "textcnnmodel.add(layers.Embedding(vocab_size, embedding_dim, input_length=max_len))\n",
    "textcnnmodel.add(layers.Conv1D(32, 3, activation='relu'))\n",
    "textcnnmodel.add(layers.Conv1D(32, 3, activation='relu'))\n",
    "textcnnmodel.add(layers.GlobalMaxPooling1D())\n",
    "textcnnmodel.add(layers.Flatten())\n",
    "\n",
    "textcnnmodel.add(layers.Dense(250, activation='relu'))\n",
    "textcnnmodel.add(layers.Dense(57, activation='softmax'))\n",
    "textcnnmodel.compile(optimizer='adam',\n",
    "               loss='categorical_crossentropy',\n",
    "               metrics=['accuracy'])\n",
    "textcnnmodel.summary() "
   ]
  },
  {
   "cell_type": "code",
   "execution_count": null,
   "metadata": {
    "colab": {
     "base_uri": "https://localhost:8080/"
    },
    "id": "qpGLg9aP0ZSf",
    "outputId": "4b3198e7-3b1e-4b0b-8c6a-ef6d29aeb03e"
   },
   "outputs": [
    {
     "name": "stdout",
     "output_type": "stream",
     "text": [
      "Epoch 1/30\n",
      "1638/1638 [==============================] - 27s 9ms/step - loss: 0.9989 - accuracy: 0.7392 - val_loss: 0.6686 - val_accuracy: 0.8184\n",
      "Epoch 2/30\n",
      "1638/1638 [==============================] - 16s 9ms/step - loss: 0.6075 - accuracy: 0.8360 - val_loss: 0.5719 - val_accuracy: 0.8462\n",
      "Epoch 3/30\n",
      "1638/1638 [==============================] - 15s 9ms/step - loss: 0.5481 - accuracy: 0.8515 - val_loss: 0.5328 - val_accuracy: 0.8547\n",
      "Epoch 4/30\n",
      "1638/1638 [==============================] - 17s 10ms/step - loss: 0.5158 - accuracy: 0.8596 - val_loss: 0.5089 - val_accuracy: 0.8602\n",
      "Epoch 5/30\n",
      "1638/1638 [==============================] - 15s 9ms/step - loss: 0.4931 - accuracy: 0.8653 - val_loss: 0.4983 - val_accuracy: 0.8632\n",
      "Epoch 6/30\n",
      "1638/1638 [==============================] - 15s 9ms/step - loss: 0.4748 - accuracy: 0.8701 - val_loss: 0.4713 - val_accuracy: 0.8709\n",
      "Epoch 7/30\n",
      "1638/1638 [==============================] - 15s 9ms/step - loss: 0.4613 - accuracy: 0.8738 - val_loss: 0.4688 - val_accuracy: 0.8705\n",
      "Epoch 8/30\n",
      "1638/1638 [==============================] - 15s 9ms/step - loss: 0.4503 - accuracy: 0.8766 - val_loss: 0.4620 - val_accuracy: 0.8740\n",
      "Epoch 9/30\n",
      "1638/1638 [==============================] - 16s 10ms/step - loss: 0.4402 - accuracy: 0.8795 - val_loss: 0.4395 - val_accuracy: 0.8797\n",
      "Epoch 10/30\n",
      "1638/1638 [==============================] - 16s 10ms/step - loss: 0.4321 - accuracy: 0.8814 - val_loss: 0.4341 - val_accuracy: 0.8808\n",
      "Epoch 11/30\n",
      "1638/1638 [==============================] - 15s 9ms/step - loss: 0.4250 - accuracy: 0.8832 - val_loss: 0.4255 - val_accuracy: 0.8825\n",
      "Epoch 12/30\n",
      "1638/1638 [==============================] - 15s 9ms/step - loss: 0.4191 - accuracy: 0.8847 - val_loss: 0.4238 - val_accuracy: 0.8839\n",
      "Epoch 13/30\n",
      "1638/1638 [==============================] - 16s 10ms/step - loss: 0.4131 - accuracy: 0.8862 - val_loss: 0.4165 - val_accuracy: 0.8865\n",
      "Epoch 14/30\n",
      "1638/1638 [==============================] - 15s 9ms/step - loss: 0.4082 - accuracy: 0.8873 - val_loss: 0.4139 - val_accuracy: 0.8863\n",
      "Epoch 15/30\n",
      "1638/1638 [==============================] - 16s 10ms/step - loss: 0.4035 - accuracy: 0.8886 - val_loss: 0.4200 - val_accuracy: 0.8845\n",
      "Epoch 16/30\n",
      "1638/1638 [==============================] - 16s 10ms/step - loss: 0.3999 - accuracy: 0.8895 - val_loss: 0.4089 - val_accuracy: 0.8873\n",
      "Epoch 17/30\n",
      "1638/1638 [==============================] - 15s 9ms/step - loss: 0.3958 - accuracy: 0.8904 - val_loss: 0.3998 - val_accuracy: 0.8900\n",
      "Epoch 18/30\n",
      "1638/1638 [==============================] - 16s 10ms/step - loss: 0.3926 - accuracy: 0.8915 - val_loss: 0.3996 - val_accuracy: 0.8900\n",
      "Epoch 19/30\n",
      "1638/1638 [==============================] - 16s 10ms/step - loss: 0.3894 - accuracy: 0.8923 - val_loss: 0.3970 - val_accuracy: 0.8911\n",
      "Epoch 20/30\n",
      "1638/1638 [==============================] - 15s 9ms/step - loss: 0.3867 - accuracy: 0.8930 - val_loss: 0.3959 - val_accuracy: 0.8899\n",
      "Epoch 21/30\n",
      "1638/1638 [==============================] - 15s 9ms/step - loss: 0.3841 - accuracy: 0.8938 - val_loss: 0.3903 - val_accuracy: 0.8922\n",
      "Epoch 22/30\n",
      "1638/1638 [==============================] - 15s 9ms/step - loss: 0.3811 - accuracy: 0.8946 - val_loss: 0.4018 - val_accuracy: 0.8885\n",
      "Epoch 23/30\n",
      "1638/1638 [==============================] - 16s 10ms/step - loss: 0.3796 - accuracy: 0.8950 - val_loss: 0.3888 - val_accuracy: 0.8921\n",
      "Epoch 24/30\n",
      "1638/1638 [==============================] - 15s 9ms/step - loss: 0.3779 - accuracy: 0.8954 - val_loss: 0.3923 - val_accuracy: 0.8918\n",
      "Epoch 25/30\n",
      "1638/1638 [==============================] - 15s 9ms/step - loss: 0.3753 - accuracy: 0.8962 - val_loss: 0.3900 - val_accuracy: 0.8927\n",
      "Epoch 26/30\n",
      "1638/1638 [==============================] - 15s 9ms/step - loss: 0.3740 - accuracy: 0.8965 - val_loss: 0.3807 - val_accuracy: 0.8947\n",
      "Epoch 27/30\n",
      "1638/1638 [==============================] - 15s 9ms/step - loss: 0.3719 - accuracy: 0.8970 - val_loss: 0.3791 - val_accuracy: 0.8951\n",
      "Epoch 28/30\n",
      "1638/1638 [==============================] - 16s 10ms/step - loss: 0.3705 - accuracy: 0.8975 - val_loss: 0.3800 - val_accuracy: 0.8957\n",
      "Epoch 29/30\n",
      "1638/1638 [==============================] - 16s 10ms/step - loss: 0.3689 - accuracy: 0.8977 - val_loss: 0.3805 - val_accuracy: 0.8954\n",
      "Epoch 30/30\n",
      "1638/1638 [==============================] - 16s 10ms/step - loss: 0.3679 - accuracy: 0.8981 - val_loss: 0.3802 - val_accuracy: 0.8947\n",
      "CNN took 503.55762219429016 milliseconds to train Multiclass data.\n",
      "\n"
     ]
    }
   ],
   "source": [
    "import time\n",
    "start = time.time()\n",
    "history=textcnnmodel.fit(X_train,y_train,\n",
    "                     epochs=30,\n",
    "                     verbose=True,\n",
    "                     validation_data=(X_test, y_test),\n",
    "                     batch_size=1000)\n",
    "end  = time.time()\n",
    "print(\"CNN took {} milliseconds to train Multiclass data.\\n\".format(end-start))"
   ]
  },
  {
   "cell_type": "code",
   "execution_count": null,
   "metadata": {
    "colab": {
     "base_uri": "https://localhost:8080/"
    },
    "id": "GIho4RTU05Ev",
    "outputId": "af57f333-5d6a-412d-906b-26fe2fbe7158"
   },
   "outputs": [
    {
     "name": "stdout",
     "output_type": "stream",
     "text": [
      "Training Accuracy: 0.8977\n",
      "Testing Accuracy:  0.8947\n"
     ]
    }
   ],
   "source": [
    "loss, accuracy = textcnnmodel.evaluate(X_train, y_train, verbose=False)\n",
    "print(\"Training Accuracy: {:.4f}\".format(accuracy))\n",
    "loss, accuracy = textcnnmodel.evaluate(X_test, y_test, verbose=False)\n",
    "print(\"Testing Accuracy:  {:.4f}\".format(accuracy)) "
   ]
  },
  {
   "cell_type": "code",
   "execution_count": null,
   "metadata": {
    "colab": {
     "base_uri": "https://localhost:8080/"
    },
    "id": "mQuDovCvm7z3",
    "outputId": "054b9c40-c3c0-4c8f-b4de-985ead7055fa"
   },
   "outputs": [
    {
     "name": "stdout",
     "output_type": "stream",
     "text": [
      "LSTM took 16.705811500549316 milliseconds to test data.\n",
      "\n"
     ]
    }
   ],
   "source": [
    "start = time.time()\n",
    "y_lstmpred = textcnnmodel.predict(X_test)\n",
    "end  = time.time()\n",
    "print(\"LSTM took {} milliseconds to test data.\\n\".format(end-start))"
   ]
  },
  {
   "cell_type": "code",
   "execution_count": null,
   "metadata": {
    "colab": {
     "base_uri": "https://localhost:8080/"
    },
    "id": "73FZXDwxpaVm",
    "outputId": "3d7b9d7d-3ef8-4bc1-f18e-cecbfa0bc4ca"
   },
   "outputs": [
    {
     "name": "stderr",
     "output_type": "stream",
     "text": [
      "/usr/local/lib/python3.7/dist-packages/sklearn/metrics/_classification.py:1318: UndefinedMetricWarning: Precision and F-score are ill-defined and being set to 0.0 in labels with no predicted samples. Use `zero_division` parameter to control this behavior.\n",
      "  _warn_prf(average, modifier, msg_start, len(result))\n"
     ]
    },
    {
     "name": "stdout",
     "output_type": "stream",
     "text": [
      "              precision    recall  f1-score   support\n",
      "\n",
      "           0       1.00      1.00      1.00      2046\n",
      "           1       1.00      1.00      1.00      2103\n",
      "           2       1.00      1.00      1.00      2096\n",
      "           3       1.00      1.00      1.00     93589\n",
      "           4       0.59      0.30      0.40      2068\n",
      "           5       1.00      1.00      1.00      2106\n",
      "           6       1.00      1.00      1.00      2062\n",
      "           7       0.82      0.65      0.73      1988\n",
      "           8       0.73      0.27      0.39      2091\n",
      "           9       1.00      1.00      1.00      2040\n",
      "          10       0.47      0.01      0.02      2146\n",
      "          11       0.74      0.13      0.23      2078\n",
      "          12       1.00      0.99      0.99      2040\n",
      "          13       0.82      0.94      0.88     74788\n",
      "          14       0.99      0.93      0.96      1943\n",
      "          15       0.98      0.92      0.95      2088\n",
      "          16       0.00      0.00      0.00      6141\n",
      "          17       0.75      0.92      0.82      2138\n",
      "          18       0.84      0.95      0.89      2117\n",
      "          19       0.97      0.78      0.86      2329\n",
      "          20       0.99      1.00      1.00      2093\n",
      "          21       1.00      1.00      1.00      2148\n",
      "          22       0.92      0.95      0.93     83215\n",
      "          23       0.45      0.00      0.01      2049\n",
      "          24       1.00      1.00      1.00      2050\n",
      "          25       0.76      0.47      0.58      2083\n",
      "          26       1.00      1.00      1.00      2133\n",
      "          27       0.79      0.29      0.43      1654\n",
      "          28       0.94      0.94      0.94      2042\n",
      "          29       0.53      0.03      0.06       530\n",
      "          30       0.00      0.00      0.00      2112\n",
      "          31       0.91      0.74      0.81      1065\n",
      "          32       0.81      0.84      0.83      2076\n",
      "          33       1.00      1.00      1.00      2141\n",
      "          34       0.99      0.99      0.99      2006\n",
      "          35       0.96      0.98      0.97      2056\n",
      "          36       0.93      0.96      0.94      9038\n",
      "          37       0.70      0.14      0.23      2138\n",
      "          38       0.94      0.73      0.82      2083\n",
      "          39       0.98      0.98      0.98      2131\n",
      "          40       0.00      0.00      0.00      3866\n",
      "          41       0.00      0.00      0.00      2174\n",
      "          42       0.95      0.96      0.96     20677\n",
      "          43       0.44      0.01      0.01       537\n",
      "          44       0.71      0.67      0.69      1200\n",
      "          45       0.88      0.86      0.87      5694\n",
      "          46       0.85      0.49      0.62      2045\n",
      "          47       0.63      0.24      0.35       849\n",
      "          48       0.90      1.00      0.95      2137\n",
      "          49       0.83      0.80      0.82     18954\n",
      "          50       1.00      1.00      1.00      2089\n",
      "          51       1.00      1.00      1.00      2029\n",
      "          52       0.92      1.00      0.96      2037\n",
      "          53       0.84      0.84      0.84      2133\n",
      "          54       0.96      0.99      0.98      2086\n",
      "          55       0.54      0.42      0.47      1917\n",
      "          56       1.00      1.00      1.00      2044\n",
      "\n",
      "   micro avg       0.92      0.88      0.90    409308\n",
      "   macro avg       0.80      0.70      0.72    409308\n",
      "weighted avg       0.88      0.88      0.87    409308\n",
      " samples avg       0.88      0.88      0.88    409308\n",
      "\n"
     ]
    },
    {
     "name": "stderr",
     "output_type": "stream",
     "text": [
      "/usr/local/lib/python3.7/dist-packages/sklearn/metrics/_classification.py:1318: UndefinedMetricWarning: Precision and F-score are ill-defined and being set to 0.0 in samples with no predicted labels. Use `zero_division` parameter to control this behavior.\n",
      "  _warn_prf(average, modifier, msg_start, len(result))\n"
     ]
    }
   ],
   "source": [
    "from sklearn.metrics import classification_report\n",
    "y_lstmpred=(y_lstmpred > 0.5)\n",
    "print(classification_report(y_test, y_lstmpred))"
   ]
  },
  {
   "cell_type": "code",
   "execution_count": null,
   "metadata": {
    "colab": {
     "base_uri": "https://localhost:8080/",
     "height": 573
    },
    "id": "HYS463uWmrqX",
    "outputId": "f1f41d75-7d41-47ea-ba75-f1a38ecfa4a1"
   },
   "outputs": [
    {
     "data": {
      "image/png": "[encoded data removed]",
      "text/plain": [
       "<Figure size 432x288 with 1 Axes>"
      ]
     },
     "metadata": {
      "needs_background": "light"
     },
     "output_type": "display_data"
    },
    {
     "data": {
      "image/png": "[encoded data removed]",
      "text/plain": [
       "<Figure size 432x288 with 1 Axes>"
      ]
     },
     "metadata": {
      "needs_background": "light"
     },
     "output_type": "display_data"
    }
   ],
   "source": [
    "def Training_and_validation_plot(history):\n",
    "    acc = history.history['accuracy']\n",
    "    val_acc = history.history['val_accuracy']\n",
    "    loss = history.history['loss']\n",
    "    val_loss = history.history['val_loss']\n",
    "    epochs = range(1, len(acc) + 1)\n",
    "\n",
    "    plt.plot(epochs, acc, 'bo', label = 'Training Accuracy')\n",
    "    plt.plot(epochs, val_acc, 'r', label = 'Validation Accuracy')\n",
    "    plt.title('Training and Validation Accuracy')\n",
    "    plt.xlabel('Epochs')\n",
    "    plt.ylabel('Loss')\n",
    "    plt.legend()\n",
    "\n",
    "    plt.figure()\n",
    "    plt.plot(epochs, loss, 'bo', label = 'Training Loss')\n",
    "    plt.plot(epochs, val_loss, 'r', label = 'Validation Loss')\n",
    "    plt.title('Training and Validation Loss')\n",
    "    plt.xlabel('Epochs')\n",
    "    plt.ylabel('Loss')\n",
    "    plt.legend()\n",
    "    plt.show()\n",
    "Training_and_validation_plot(history)"
   ]
  },
  {
   "cell_type": "code",
   "execution_count": null,
   "metadata": {
    "colab": {
     "base_uri": "https://localhost:8080/"
    },
    "id": "06zVvzuapzhk",
    "outputId": "78602c43-d9ed-46ff-ddc9-ba0aced1be07"
   },
   "outputs": [
    {
     "name": "stdout",
     "output_type": "stream",
     "text": [
      "INFO:tensorflow:Assets written to: ram://28f1ea78-9e04-444e-ae23-e57ec0f5ee8c/assets\n"
     ]
    }
   ],
   "source": [
    "import pickle\n",
    "# save the model to disk\n",
    "filename = '/content/drive/My Drive/Colab Notebooks/Bcnnmodel_ftn32x3.sav'\n",
    "pickle.dump(textcnnmodel, open(filename, 'wb'))"
   ]
  },
  {
   "cell_type": "markdown",
   "metadata": {
    "id": "Pa9moTvvDAD0"
   },
   "source": [
    "## 64x3,1000x50"
   ]
  },
  {
   "cell_type": "code",
   "execution_count": null,
   "metadata": {
    "colab": {
     "base_uri": "https://localhost:8080/"
    },
    "id": "jWGvZxhFDG0m",
    "outputId": "102858b4-8cef-48ff-d8ad-0cf2dbf912ad"
   },
   "outputs": [
    {
     "name": "stdout",
     "output_type": "stream",
     "text": [
      "Model: \"sequential_3\"\n",
      "_________________________________________________________________\n",
      " Layer (type)                Output Shape              Param #   \n",
      "=================================================================\n",
      " embedding_2 (Embedding)     (None, 50, 100)           7000      \n",
      "                                                                 \n",
      " conv1d_4 (Conv1D)           (None, 48, 64)            19264     \n",
      "                                                                 \n",
      " conv1d_5 (Conv1D)           (None, 46, 64)            12352     \n",
      "                                                                 \n",
      " global_max_pooling1d_2 (Glo  (None, 64)               0         \n",
      " balMaxPooling1D)                                                \n",
      "                                                                 \n",
      " flatten_2 (Flatten)         (None, 64)                0         \n",
      "                                                                 \n",
      " dense_4 (Dense)             (None, 250)               16250     \n",
      "                                                                 \n",
      " dense_5 (Dense)             (None, 57)                14307     \n",
      "                                                                 \n",
      "=================================================================\n",
      "Total params: 69,173\n",
      "Trainable params: 69,173\n",
      "Non-trainable params: 0\n",
      "_________________________________________________________________\n"
     ]
    }
   ],
   "source": [
    "from keras.models import Sequential\n",
    "from keras import layers \n",
    "\n",
    "embedding_dim = 100\n",
    "vocab_size=70\n",
    "max_len=50\n",
    "textcnnmodel = Sequential()\n",
    "textcnnmodel.add(layers.Embedding(vocab_size, embedding_dim, input_length=max_len))\n",
    "textcnnmodel.add(layers.Conv1D(64, 3, activation='relu'))\n",
    "textcnnmodel.add(layers.Conv1D(64, 3, activation='relu'))\n",
    "textcnnmodel.add(layers.GlobalMaxPooling1D())\n",
    "textcnnmodel.add(layers.Flatten())\n",
    "\n",
    "textcnnmodel.add(layers.Dense(250, activation='relu'))\n",
    "textcnnmodel.add(layers.Dense(57, activation='softmax'))\n",
    "textcnnmodel.compile(optimizer='adam',\n",
    "               loss='categorical_crossentropy',\n",
    "               metrics=['accuracy'])\n",
    "textcnnmodel.summary() "
   ]
  },
  {
   "cell_type": "code",
   "execution_count": null,
   "metadata": {
    "colab": {
     "base_uri": "https://localhost:8080/"
    },
    "id": "wHLfQx4uDG0p",
    "outputId": "349be5f1-a315-4b50-fd95-5a52d414219c"
   },
   "outputs": [
    {
     "name": "stdout",
     "output_type": "stream",
     "text": [
      "Epoch 1/50\n",
      "1638/1638 [==============================] - 22s 13ms/step - loss: 0.8616 - accuracy: 0.7764 - val_loss: 0.5454 - val_accuracy: 0.8536\n",
      "Epoch 2/50\n",
      "1638/1638 [==============================] - 21s 13ms/step - loss: 0.4961 - accuracy: 0.8659 - val_loss: 0.4625 - val_accuracy: 0.8735\n",
      "Epoch 3/50\n",
      "1638/1638 [==============================] - 21s 13ms/step - loss: 0.4346 - accuracy: 0.8812 - val_loss: 0.4176 - val_accuracy: 0.8849\n",
      "Epoch 4/50\n",
      "1638/1638 [==============================] - 20s 12ms/step - loss: 0.3998 - accuracy: 0.8901 - val_loss: 0.3929 - val_accuracy: 0.8919\n",
      "Epoch 5/50\n",
      "1638/1638 [==============================] - 21s 13ms/step - loss: 0.3752 - accuracy: 0.8965 - val_loss: 0.3712 - val_accuracy: 0.8967\n",
      "Epoch 6/50\n",
      "1638/1638 [==============================] - 20s 12ms/step - loss: 0.3567 - accuracy: 0.9017 - val_loss: 0.3554 - val_accuracy: 0.9021\n",
      "Epoch 7/50\n",
      "1638/1638 [==============================] - 21s 13ms/step - loss: 0.3427 - accuracy: 0.9055 - val_loss: 0.3405 - val_accuracy: 0.9062\n",
      "Epoch 8/50\n",
      "1638/1638 [==============================] - 21s 13ms/step - loss: 0.3322 - accuracy: 0.9082 - val_loss: 0.3307 - val_accuracy: 0.9081\n",
      "Epoch 9/50\n",
      "1638/1638 [==============================] - 21s 13ms/step - loss: 0.3229 - accuracy: 0.9105 - val_loss: 0.3375 - val_accuracy: 0.9061\n",
      "Epoch 10/50\n",
      "1638/1638 [==============================] - 20s 12ms/step - loss: 0.3150 - accuracy: 0.9126 - val_loss: 0.3190 - val_accuracy: 0.9108\n",
      "Epoch 11/50\n",
      "1638/1638 [==============================] - 21s 13ms/step - loss: 0.3082 - accuracy: 0.9144 - val_loss: 0.3138 - val_accuracy: 0.9125\n",
      "Epoch 12/50\n",
      "1638/1638 [==============================] - 21s 13ms/step - loss: 0.3024 - accuracy: 0.9160 - val_loss: 0.3094 - val_accuracy: 0.9147\n",
      "Epoch 13/50\n",
      "1638/1638 [==============================] - 20s 12ms/step - loss: 0.2975 - accuracy: 0.9172 - val_loss: 0.3061 - val_accuracy: 0.9151\n",
      "Epoch 14/50\n",
      "1638/1638 [==============================] - 21s 13ms/step - loss: 0.2926 - accuracy: 0.9185 - val_loss: 0.3044 - val_accuracy: 0.9154\n",
      "Epoch 15/50\n",
      "1638/1638 [==============================] - 21s 13ms/step - loss: 0.2884 - accuracy: 0.9197 - val_loss: 0.2997 - val_accuracy: 0.9167\n",
      "Epoch 16/50\n",
      "1638/1638 [==============================] - 21s 13ms/step - loss: 0.2848 - accuracy: 0.9207 - val_loss: 0.2964 - val_accuracy: 0.9176\n",
      "Epoch 17/50\n",
      "1638/1638 [==============================] - 20s 13ms/step - loss: 0.2813 - accuracy: 0.9217 - val_loss: 0.2990 - val_accuracy: 0.9171\n",
      "Epoch 18/50\n",
      "1638/1638 [==============================] - 20s 12ms/step - loss: 0.2782 - accuracy: 0.9226 - val_loss: 0.2889 - val_accuracy: 0.9203\n",
      "Epoch 19/50\n",
      "1638/1638 [==============================] - 21s 13ms/step - loss: 0.2751 - accuracy: 0.9234 - val_loss: 0.2840 - val_accuracy: 0.9227\n",
      "Epoch 20/50\n",
      "1638/1638 [==============================] - 21s 13ms/step - loss: 0.2726 - accuracy: 0.9240 - val_loss: 0.2874 - val_accuracy: 0.9209\n",
      "Epoch 21/50\n",
      "1638/1638 [==============================] - 21s 13ms/step - loss: 0.2708 - accuracy: 0.9245 - val_loss: 0.2860 - val_accuracy: 0.9205\n",
      "Epoch 22/50\n",
      "1638/1638 [==============================] - 20s 12ms/step - loss: 0.2673 - accuracy: 0.9254 - val_loss: 0.2813 - val_accuracy: 0.9221\n",
      "Epoch 23/50\n",
      "1638/1638 [==============================] - 21s 13ms/step - loss: 0.2663 - accuracy: 0.9257 - val_loss: 0.2798 - val_accuracy: 0.9234\n",
      "Epoch 24/50\n",
      "1638/1638 [==============================] - 21s 13ms/step - loss: 0.2640 - accuracy: 0.9263 - val_loss: 0.2806 - val_accuracy: 0.9221\n",
      "Epoch 25/50\n",
      "1638/1638 [==============================] - 21s 13ms/step - loss: 0.2622 - accuracy: 0.9269 - val_loss: 0.2864 - val_accuracy: 0.9213\n",
      "Epoch 26/50\n",
      "1638/1638 [==============================] - 20s 12ms/step - loss: 0.2600 - accuracy: 0.9276 - val_loss: 0.2786 - val_accuracy: 0.9230\n",
      "Epoch 27/50\n",
      "1638/1638 [==============================] - 21s 13ms/step - loss: 0.2590 - accuracy: 0.9278 - val_loss: 0.2737 - val_accuracy: 0.9240\n",
      "Epoch 28/50\n",
      "1638/1638 [==============================] - 20s 13ms/step - loss: 0.2577 - accuracy: 0.9281 - val_loss: 0.2867 - val_accuracy: 0.9205\n",
      "Epoch 29/50\n",
      "1638/1638 [==============================] - 21s 13ms/step - loss: 0.2561 - accuracy: 0.9287 - val_loss: 0.2729 - val_accuracy: 0.9246\n",
      "Epoch 30/50\n",
      "1638/1638 [==============================] - 21s 13ms/step - loss: 0.2546 - accuracy: 0.9290 - val_loss: 0.2741 - val_accuracy: 0.9248\n",
      "Epoch 31/50\n",
      "1638/1638 [==============================] - 21s 13ms/step - loss: 0.2534 - accuracy: 0.9292 - val_loss: 0.2725 - val_accuracy: 0.9244\n",
      "Epoch 32/50\n",
      "1638/1638 [==============================] - 21s 13ms/step - loss: 0.2525 - accuracy: 0.9294 - val_loss: 0.2692 - val_accuracy: 0.9255\n",
      "Epoch 33/50\n",
      "1638/1638 [==============================] - 21s 13ms/step - loss: 0.2509 - accuracy: 0.9300 - val_loss: 0.2697 - val_accuracy: 0.9262\n",
      "Epoch 34/50\n",
      "1638/1638 [==============================] - 21s 13ms/step - loss: 0.2502 - accuracy: 0.9301 - val_loss: 0.2778 - val_accuracy: 0.9233\n",
      "Epoch 35/50\n",
      "1638/1638 [==============================] - 21s 13ms/step - loss: 0.2486 - accuracy: 0.9306 - val_loss: 0.2761 - val_accuracy: 0.9238\n",
      "Epoch 36/50\n",
      "1638/1638 [==============================] - 20s 12ms/step - loss: 0.2487 - accuracy: 0.9306 - val_loss: 0.2699 - val_accuracy: 0.9249\n",
      "Epoch 37/50\n",
      "1638/1638 [==============================] - 20s 12ms/step - loss: 0.2472 - accuracy: 0.9309 - val_loss: 0.2667 - val_accuracy: 0.9259\n",
      "Epoch 38/50\n",
      "1638/1638 [==============================] - 20s 12ms/step - loss: 0.2461 - accuracy: 0.9312 - val_loss: 0.2646 - val_accuracy: 0.9272\n",
      "Epoch 39/50\n",
      "1638/1638 [==============================] - 21s 13ms/step - loss: 0.2459 - accuracy: 0.9313 - val_loss: 0.2632 - val_accuracy: 0.9281\n",
      "Epoch 40/50\n",
      "1638/1638 [==============================] - 20s 12ms/step - loss: 0.2441 - accuracy: 0.9319 - val_loss: 0.2753 - val_accuracy: 0.9235\n",
      "Epoch 41/50\n",
      "1638/1638 [==============================] - 20s 12ms/step - loss: 0.2440 - accuracy: 0.9319 - val_loss: 0.2663 - val_accuracy: 0.9258\n",
      "Epoch 42/50\n",
      "1638/1638 [==============================] - 20s 12ms/step - loss: 0.2423 - accuracy: 0.9324 - val_loss: 0.2633 - val_accuracy: 0.9274\n",
      "Epoch 43/50\n",
      "1638/1638 [==============================] - 21s 13ms/step - loss: 0.2420 - accuracy: 0.9324 - val_loss: 0.2666 - val_accuracy: 0.9264\n",
      "Epoch 44/50\n",
      "1638/1638 [==============================] - 22s 13ms/step - loss: 0.2409 - accuracy: 0.9329 - val_loss: 0.2685 - val_accuracy: 0.9258\n",
      "Epoch 45/50\n",
      "1638/1638 [==============================] - 20s 12ms/step - loss: 0.2411 - accuracy: 0.9327 - val_loss: 0.2608 - val_accuracy: 0.9280\n",
      "Epoch 46/50\n",
      "1638/1638 [==============================] - 21s 13ms/step - loss: 0.2402 - accuracy: 0.9329 - val_loss: 0.2656 - val_accuracy: 0.9261\n",
      "Epoch 47/50\n",
      "1638/1638 [==============================] - 21s 13ms/step - loss: 0.2393 - accuracy: 0.9332 - val_loss: 0.2631 - val_accuracy: 0.9277\n",
      "Epoch 48/50\n",
      "1638/1638 [==============================] - 21s 13ms/step - loss: 0.2389 - accuracy: 0.9333 - val_loss: 0.2631 - val_accuracy: 0.9280\n",
      "Epoch 49/50\n",
      "1638/1638 [==============================] - 21s 13ms/step - loss: 0.2381 - accuracy: 0.9335 - val_loss: 0.2578 - val_accuracy: 0.9285\n",
      "Epoch 50/50\n",
      "1638/1638 [==============================] - 21s 13ms/step - loss: 0.2370 - accuracy: 0.9340 - val_loss: 0.2616 - val_accuracy: 0.9282\n",
      "CNN took 1043.231976032257 milliseconds to train Multiclass data.\n",
      "\n"
     ]
    }
   ],
   "source": [
    "import time\n",
    "start = time.time()\n",
    "history=textcnnmodel.fit(X_train,y_train,\n",
    "                     epochs=50,\n",
    "                     verbose=True,\n",
    "                     validation_data=(X_test, y_test),\n",
    "                     batch_size=1000)\n",
    "end  = time.time()\n",
    "print(\"CNN took {} milliseconds to train Multiclass data.\\n\".format(end-start))"
   ]
  },
  {
   "cell_type": "code",
   "execution_count": null,
   "metadata": {
    "colab": {
     "base_uri": "https://localhost:8080/"
    },
    "id": "vD2GBXZBDG0q",
    "outputId": "759dbfc9-a37b-4a1f-ebff-6b795e080ea3"
   },
   "outputs": [
    {
     "name": "stdout",
     "output_type": "stream",
     "text": [
      "Training Accuracy: 0.9348\n",
      "Testing Accuracy:  0.9282\n"
     ]
    }
   ],
   "source": [
    "loss, accuracy = textcnnmodel.evaluate(X_train, y_train, verbose=False)\n",
    "print(\"Training Accuracy: {:.4f}\".format(accuracy))\n",
    "loss, accuracy = textcnnmodel.evaluate(X_test, y_test, verbose=False)\n",
    "print(\"Testing Accuracy:  {:.4f}\".format(accuracy)) "
   ]
  },
  {
   "cell_type": "code",
   "execution_count": null,
   "metadata": {
    "colab": {
     "base_uri": "https://localhost:8080/"
    },
    "id": "uJ6D8NW0DG0r",
    "outputId": "fe544418-ecfa-4e5e-e651-703f9454e2f9"
   },
   "outputs": [
    {
     "name": "stdout",
     "output_type": "stream",
     "text": [
      "LSTM took 16.94529104232788 milliseconds to test data.\n",
      "\n"
     ]
    }
   ],
   "source": [
    "start = time.time()\n",
    "y_lstmpred = textcnnmodel.predict(X_test)\n",
    "end  = time.time()\n",
    "print(\"LSTM took {} milliseconds to test data.\\n\".format(end-start))"
   ]
  },
  {
   "cell_type": "code",
   "execution_count": null,
   "metadata": {
    "colab": {
     "base_uri": "https://localhost:8080/"
    },
    "id": "Tq-ILh4pDG0s",
    "outputId": "1ec99390-5a2a-45a0-8eaa-55ab74bb3f43"
   },
   "outputs": [
    {
     "name": "stderr",
     "output_type": "stream",
     "text": [
      "/usr/local/lib/python3.7/dist-packages/sklearn/metrics/_classification.py:1318: UndefinedMetricWarning: Precision and F-score are ill-defined and being set to 0.0 in labels with no predicted samples. Use `zero_division` parameter to control this behavior.\n",
      "  _warn_prf(average, modifier, msg_start, len(result))\n"
     ]
    },
    {
     "name": "stdout",
     "output_type": "stream",
     "text": [
      "              precision    recall  f1-score   support\n",
      "\n",
      "           0       1.00      1.00      1.00      2046\n",
      "           1       1.00      1.00      1.00      2103\n",
      "           2       1.00      1.00      1.00      2096\n",
      "           3       1.00      1.00      1.00     93589\n",
      "           4       0.83      0.62      0.71      2068\n",
      "           5       1.00      1.00      1.00      2106\n",
      "           6       1.00      1.00      1.00      2062\n",
      "           7       0.91      0.94      0.93      1988\n",
      "           8       0.87      0.96      0.91      2091\n",
      "           9       1.00      1.00      1.00      2040\n",
      "          10       0.72      0.50      0.59      2146\n",
      "          11       0.83      0.81      0.82      2078\n",
      "          12       1.00      0.99      1.00      2040\n",
      "          13       0.86      0.95      0.90     74788\n",
      "          14       1.00      1.00      1.00      1943\n",
      "          15       0.97      1.00      0.98      2088\n",
      "          16       0.00      0.00      0.00      6141\n",
      "          17       0.83      1.00      0.91      2138\n",
      "          18       0.95      0.99      0.97      2117\n",
      "          19       0.91      0.93      0.92      2329\n",
      "          20       1.00      1.00      1.00      2093\n",
      "          21       1.00      1.00      1.00      2148\n",
      "          22       0.96      0.96      0.96     83215\n",
      "          23       0.62      0.06      0.12      2049\n",
      "          24       1.00      1.00      1.00      2050\n",
      "          25       0.81      0.96      0.88      2083\n",
      "          26       1.00      1.00      1.00      2133\n",
      "          27       0.85      0.30      0.44      1654\n",
      "          28       0.98      0.97      0.97      2042\n",
      "          29       0.79      0.12      0.21       530\n",
      "          30       0.48      0.01      0.03      2112\n",
      "          31       0.89      0.85      0.87      1065\n",
      "          32       0.87      1.00      0.93      2076\n",
      "          33       1.00      1.00      1.00      2141\n",
      "          34       0.99      0.99      0.99      2006\n",
      "          35       0.99      0.96      0.98      2056\n",
      "          36       0.97      0.95      0.96      9038\n",
      "          37       0.74      0.90      0.81      2138\n",
      "          38       0.96      1.00      0.98      2083\n",
      "          39       0.98      1.00      0.99      2131\n",
      "          40       0.45      0.03      0.05      3866\n",
      "          41       0.00      0.00      0.00      2174\n",
      "          42       0.98      0.97      0.98     20677\n",
      "          43       0.59      0.08      0.14       537\n",
      "          44       0.88      0.78      0.82      1200\n",
      "          45       0.91      0.91      0.91      5694\n",
      "          46       0.92      0.94      0.93      2045\n",
      "          47       0.74      0.37      0.49       849\n",
      "          48       0.98      0.98      0.98      2137\n",
      "          49       0.88      0.94      0.91     18954\n",
      "          50       1.00      1.00      1.00      2089\n",
      "          51       1.00      1.00      1.00      2029\n",
      "          52       0.99      1.00      1.00      2037\n",
      "          53       0.92      0.97      0.95      2133\n",
      "          54       0.99      0.97      0.98      2086\n",
      "          55       0.71      0.40      0.51      1917\n",
      "          56       1.00      1.00      1.00      2044\n",
      "\n",
      "   micro avg       0.94      0.92      0.93    409308\n",
      "   macro avg       0.87      0.81      0.81    409308\n",
      "weighted avg       0.91      0.92      0.91    409308\n",
      " samples avg       0.92      0.92      0.92    409308\n",
      "\n"
     ]
    },
    {
     "name": "stderr",
     "output_type": "stream",
     "text": [
      "/usr/local/lib/python3.7/dist-packages/sklearn/metrics/_classification.py:1318: UndefinedMetricWarning: Precision and F-score are ill-defined and being set to 0.0 in samples with no predicted labels. Use `zero_division` parameter to control this behavior.\n",
      "  _warn_prf(average, modifier, msg_start, len(result))\n"
     ]
    }
   ],
   "source": [
    "from sklearn.metrics import classification_report\n",
    "y_lstmpred=(y_lstmpred > 0.5)\n",
    "print(classification_report(y_test, y_lstmpred))"
   ]
  },
  {
   "cell_type": "code",
   "execution_count": null,
   "metadata": {
    "colab": {
     "base_uri": "https://localhost:8080/",
     "height": 573
    },
    "id": "oyxJi7n5DG0t",
    "outputId": "d032e704-7e40-448f-e991-aa42516374bb"
   },
   "outputs": [
    {
     "data": {
      "image/png": "[encoded data removed]",
      "text/plain": [
       "<Figure size 432x288 with 1 Axes>"
      ]
     },
     "metadata": {
      "needs_background": "light"
     },
     "output_type": "display_data"
    },
    {
     "data": {
      "image/png": "[encoded data removed]",
      "text/plain": [
       "<Figure size 432x288 with 1 Axes>"
      ]
     },
     "metadata": {
      "needs_background": "light"
     },
     "output_type": "display_data"
    }
   ],
   "source": [
    "def Training_and_validation_plot(history):\n",
    "    acc = history.history['accuracy']\n",
    "    val_acc = history.history['val_accuracy']\n",
    "    loss = history.history['loss']\n",
    "    val_loss = history.history['val_loss']\n",
    "    epochs = range(1, len(acc) + 1)\n",
    "\n",
    "    plt.plot(epochs, acc, 'bo', label = 'Training Accuracy')\n",
    "    plt.plot(epochs, val_acc, 'r', label = 'Validation Accuracy')\n",
    "    plt.title('Training and Validation Accuracy')\n",
    "    plt.xlabel('Epochs')\n",
    "    plt.ylabel('Loss')\n",
    "    plt.legend()\n",
    "\n",
    "    plt.figure()\n",
    "    plt.plot(epochs, loss, 'bo', label = 'Training Loss')\n",
    "    plt.plot(epochs, val_loss, 'r', label = 'Validation Loss')\n",
    "    plt.title('Training and Validation Loss')\n",
    "    plt.xlabel('Epochs')\n",
    "    plt.ylabel('Loss')\n",
    "    plt.legend()\n",
    "    plt.show()\n",
    "Training_and_validation_plot(history)"
   ]
  },
  {
   "cell_type": "code",
   "execution_count": null,
   "metadata": {
    "colab": {
     "base_uri": "https://localhost:8080/"
    },
    "id": "t4G1vdsKDG0u",
    "outputId": "78602c43-d9ed-46ff-ddc9-ba0aced1be07"
   },
   "outputs": [
    {
     "name": "stdout",
     "output_type": "stream",
     "text": [
      "INFO:tensorflow:Assets written to: ram://28f1ea78-9e04-444e-ae23-e57ec0f5ee8c/assets\n"
     ]
    }
   ],
   "source": [
    "import pickle\n",
    "# save the model to disk\n",
    "filename = '/content/drive/My Drive/Colab Notebooks/Bcnnmodel_ftn64x3,1000x50.sav'\n",
    "pickle.dump(textcnnmodel, open(filename, 'wb'))"
   ]
  },
  {
   "cell_type": "markdown",
   "metadata": {
    "id": "VS19OW0uWXrz"
   },
   "source": [
    "## 128x3, 1000x50"
   ]
  },
  {
   "cell_type": "code",
   "execution_count": null,
   "metadata": {
    "colab": {
     "base_uri": "https://localhost:8080/"
    },
    "id": "OgB3cjusWbUt",
    "outputId": "3231ee88-4f5f-4c2c-b496-5d92f250637f"
   },
   "outputs": [
    {
     "name": "stdout",
     "output_type": "stream",
     "text": [
      "Model: \"sequential\"\n",
      "_________________________________________________________________\n",
      " Layer (type)                Output Shape              Param #   \n",
      "=================================================================\n",
      " embedding (Embedding)       (None, 50, 100)           7000      \n",
      "                                                                 \n",
      " conv1d (Conv1D)             (None, 48, 128)           38528     \n",
      "                                                                 \n",
      " conv1d_1 (Conv1D)           (None, 46, 128)           49280     \n",
      "                                                                 \n",
      " global_max_pooling1d (Globa  (None, 128)              0         \n",
      " lMaxPooling1D)                                                  \n",
      "                                                                 \n",
      " flatten (Flatten)           (None, 128)               0         \n",
      "                                                                 \n",
      " dense (Dense)               (None, 250)               32250     \n",
      "                                                                 \n",
      " dense_1 (Dense)             (None, 57)                14307     \n",
      "                                                                 \n",
      "=================================================================\n",
      "Total params: 141,365\n",
      "Trainable params: 141,365\n",
      "Non-trainable params: 0\n",
      "_________________________________________________________________\n"
     ]
    }
   ],
   "source": [
    "from keras.models import Sequential\n",
    "from keras import layers \n",
    "\n",
    "embedding_dim = 100\n",
    "vocab_size=70\n",
    "max_len=50\n",
    "textcnnmodel = Sequential()\n",
    "textcnnmodel.add(layers.Embedding(vocab_size, embedding_dim, input_length=max_len))\n",
    "textcnnmodel.add(layers.Conv1D(128, 3, activation='relu'))\n",
    "textcnnmodel.add(layers.Conv1D(128, 3, activation='relu'))\n",
    "textcnnmodel.add(layers.GlobalMaxPooling1D())\n",
    "textcnnmodel.add(layers.Flatten())\n",
    "\n",
    "textcnnmodel.add(layers.Dense(250, activation='relu'))\n",
    "textcnnmodel.add(layers.Dense(57, activation='softmax'))\n",
    "textcnnmodel.compile(optimizer='adam',\n",
    "               loss='categorical_crossentropy',\n",
    "               metrics=['accuracy'])\n",
    "textcnnmodel.summary() "
   ]
  },
  {
   "cell_type": "code",
   "execution_count": null,
   "metadata": {
    "colab": {
     "base_uri": "https://localhost:8080/"
    },
    "id": "9guyk6a5WbUw",
    "outputId": "892304cd-7e1e-4f78-cb36-b3c68a725c18"
   },
   "outputs": [
    {
     "name": "stdout",
     "output_type": "stream",
     "text": [
      "Epoch 1/50\n",
      "1638/1638 [==============================] - 40s 17ms/step - loss: 0.7585 - accuracy: 0.8025 - val_loss: 0.4595 - val_accuracy: 0.8755\n",
      "Epoch 2/50\n",
      "1638/1638 [==============================] - 27s 17ms/step - loss: 0.4073 - accuracy: 0.8895 - val_loss: 0.3697 - val_accuracy: 0.8980\n",
      "Epoch 3/50\n",
      "1638/1638 [==============================] - 27s 17ms/step - loss: 0.3380 - accuracy: 0.9074 - val_loss: 0.3272 - val_accuracy: 0.9116\n",
      "Epoch 4/50\n",
      "1638/1638 [==============================] - 28s 17ms/step - loss: 0.3009 - accuracy: 0.9168 - val_loss: 0.2966 - val_accuracy: 0.9188\n",
      "Epoch 5/50\n",
      "1638/1638 [==============================] - 28s 17ms/step - loss: 0.2778 - accuracy: 0.9228 - val_loss: 0.2827 - val_accuracy: 0.9231\n",
      "Epoch 6/50\n",
      "1638/1638 [==============================] - 28s 17ms/step - loss: 0.2604 - accuracy: 0.9272 - val_loss: 0.2710 - val_accuracy: 0.9257\n",
      "Epoch 7/50\n",
      "1638/1638 [==============================] - 28s 17ms/step - loss: 0.2477 - accuracy: 0.9305 - val_loss: 0.2580 - val_accuracy: 0.9285\n",
      "Epoch 8/50\n",
      "1638/1638 [==============================] - 28s 17ms/step - loss: 0.2363 - accuracy: 0.9338 - val_loss: 0.2588 - val_accuracy: 0.9281\n",
      "Epoch 9/50\n",
      "1638/1638 [==============================] - 28s 17ms/step - loss: 0.2280 - accuracy: 0.9361 - val_loss: 0.2468 - val_accuracy: 0.9334\n",
      "Epoch 10/50\n",
      "1638/1638 [==============================] - 28s 17ms/step - loss: 0.2197 - accuracy: 0.9384 - val_loss: 0.2430 - val_accuracy: 0.9333\n",
      "Epoch 11/50\n",
      "1638/1638 [==============================] - 28s 17ms/step - loss: 0.2131 - accuracy: 0.9400 - val_loss: 0.2374 - val_accuracy: 0.9346\n",
      "Epoch 12/50\n",
      "1638/1638 [==============================] - 28s 17ms/step - loss: 0.2074 - accuracy: 0.9416 - val_loss: 0.2295 - val_accuracy: 0.9377\n",
      "Epoch 13/50\n",
      "1638/1638 [==============================] - 28s 17ms/step - loss: 0.2038 - accuracy: 0.9426 - val_loss: 0.2335 - val_accuracy: 0.9363\n",
      "Epoch 14/50\n",
      "1638/1638 [==============================] - 28s 17ms/step - loss: 0.1979 - accuracy: 0.9442 - val_loss: 0.2283 - val_accuracy: 0.9383\n",
      "Epoch 15/50\n",
      "1638/1638 [==============================] - 28s 17ms/step - loss: 0.1941 - accuracy: 0.9451 - val_loss: 0.2236 - val_accuracy: 0.9401\n",
      "Epoch 16/50\n",
      "1638/1638 [==============================] - 29s 17ms/step - loss: 0.1908 - accuracy: 0.9459 - val_loss: 0.2321 - val_accuracy: 0.9353\n",
      "Epoch 17/50\n",
      "1638/1638 [==============================] - 28s 17ms/step - loss: 0.1885 - accuracy: 0.9465 - val_loss: 0.2198 - val_accuracy: 0.9410\n",
      "Epoch 18/50\n",
      "1638/1638 [==============================] - 28s 17ms/step - loss: 0.1845 - accuracy: 0.9475 - val_loss: 0.2167 - val_accuracy: 0.9405\n",
      "Epoch 19/50\n",
      "1638/1638 [==============================] - 28s 17ms/step - loss: 0.1834 - accuracy: 0.9478 - val_loss: 0.2147 - val_accuracy: 0.9428\n",
      "Epoch 20/50\n",
      "1638/1638 [==============================] - 28s 17ms/step - loss: 0.1801 - accuracy: 0.9487 - val_loss: 0.2095 - val_accuracy: 0.9442\n",
      "Epoch 21/50\n",
      "1638/1638 [==============================] - 28s 17ms/step - loss: 0.1790 - accuracy: 0.9489 - val_loss: 0.2162 - val_accuracy: 0.9412\n",
      "Epoch 22/50\n",
      "1638/1638 [==============================] - 28s 17ms/step - loss: 0.1760 - accuracy: 0.9497 - val_loss: 0.2099 - val_accuracy: 0.9427\n",
      "Epoch 23/50\n",
      "1638/1638 [==============================] - 28s 17ms/step - loss: 0.1746 - accuracy: 0.9499 - val_loss: 0.2118 - val_accuracy: 0.9433\n",
      "Epoch 24/50\n",
      "1638/1638 [==============================] - 28s 17ms/step - loss: 0.1732 - accuracy: 0.9504 - val_loss: 0.2138 - val_accuracy: 0.9414\n",
      "Epoch 25/50\n",
      "1638/1638 [==============================] - 28s 17ms/step - loss: 0.1717 - accuracy: 0.9507 - val_loss: 0.2053 - val_accuracy: 0.9445\n",
      "Epoch 26/50\n",
      "1638/1638 [==============================] - 28s 17ms/step - loss: 0.1704 - accuracy: 0.9510 - val_loss: 0.2049 - val_accuracy: 0.9451\n",
      "Epoch 27/50\n",
      "1638/1638 [==============================] - 28s 17ms/step - loss: 0.1697 - accuracy: 0.9512 - val_loss: 0.2065 - val_accuracy: 0.9440\n",
      "Epoch 28/50\n",
      "1638/1638 [==============================] - 28s 17ms/step - loss: 0.1672 - accuracy: 0.9518 - val_loss: 0.2032 - val_accuracy: 0.9453\n",
      "Epoch 29/50\n",
      "1638/1638 [==============================] - 28s 17ms/step - loss: 0.1673 - accuracy: 0.9518 - val_loss: 0.1992 - val_accuracy: 0.9461\n",
      "Epoch 30/50\n",
      "1638/1638 [==============================] - 28s 17ms/step - loss: 0.1660 - accuracy: 0.9521 - val_loss: 0.2081 - val_accuracy: 0.9455\n",
      "Epoch 31/50\n",
      "1638/1638 [==============================] - 28s 17ms/step - loss: 0.1644 - accuracy: 0.9524 - val_loss: 0.2068 - val_accuracy: 0.9436\n",
      "Epoch 32/50\n",
      "1638/1638 [==============================] - 28s 17ms/step - loss: 0.1636 - accuracy: 0.9527 - val_loss: 0.2028 - val_accuracy: 0.9458\n",
      "Epoch 33/50\n",
      "1638/1638 [==============================] - 28s 17ms/step - loss: 0.1628 - accuracy: 0.9529 - val_loss: 0.2006 - val_accuracy: 0.9466\n",
      "Epoch 34/50\n",
      "1638/1638 [==============================] - 28s 17ms/step - loss: 0.1619 - accuracy: 0.9531 - val_loss: 0.2046 - val_accuracy: 0.9446\n",
      "Epoch 35/50\n",
      "1638/1638 [==============================] - 28s 17ms/step - loss: 0.1607 - accuracy: 0.9532 - val_loss: 0.2109 - val_accuracy: 0.9436\n",
      "Epoch 36/50\n",
      "1638/1638 [==============================] - 28s 17ms/step - loss: 0.1606 - accuracy: 0.9533 - val_loss: 0.2098 - val_accuracy: 0.9431\n",
      "Epoch 37/50\n",
      "1638/1638 [==============================] - 28s 17ms/step - loss: 0.1593 - accuracy: 0.9536 - val_loss: 0.1985 - val_accuracy: 0.9470\n",
      "Epoch 38/50\n",
      "1638/1638 [==============================] - 28s 17ms/step - loss: 0.1595 - accuracy: 0.9536 - val_loss: 0.1945 - val_accuracy: 0.9478\n",
      "Epoch 39/50\n",
      "1638/1638 [==============================] - 28s 17ms/step - loss: 0.1580 - accuracy: 0.9540 - val_loss: 0.1980 - val_accuracy: 0.9466\n",
      "Epoch 40/50\n",
      "1638/1638 [==============================] - 28s 17ms/step - loss: 0.1575 - accuracy: 0.9541 - val_loss: 0.2052 - val_accuracy: 0.9455\n",
      "Epoch 41/50\n",
      "1638/1638 [==============================] - 28s 17ms/step - loss: 0.1569 - accuracy: 0.9543 - val_loss: 0.1972 - val_accuracy: 0.9471\n",
      "Epoch 42/50\n",
      "1638/1638 [==============================] - 28s 17ms/step - loss: 0.1561 - accuracy: 0.9545 - val_loss: 0.2056 - val_accuracy: 0.9450\n",
      "Epoch 43/50\n",
      "1638/1638 [==============================] - 28s 17ms/step - loss: 0.1556 - accuracy: 0.9545 - val_loss: 0.2018 - val_accuracy: 0.9455\n",
      "Epoch 44/50\n",
      "1638/1638 [==============================] - 28s 17ms/step - loss: 0.1553 - accuracy: 0.9545 - val_loss: 0.2102 - val_accuracy: 0.9443\n",
      "Epoch 45/50\n",
      "1638/1638 [==============================] - 28s 17ms/step - loss: 0.1545 - accuracy: 0.9547 - val_loss: 0.2008 - val_accuracy: 0.9476\n",
      "Epoch 46/50\n",
      "1638/1638 [==============================] - 28s 17ms/step - loss: 0.1542 - accuracy: 0.9549 - val_loss: 0.1996 - val_accuracy: 0.9479\n",
      "Epoch 47/50\n",
      "1638/1638 [==============================] - 28s 17ms/step - loss: 0.1540 - accuracy: 0.9549 - val_loss: 0.1974 - val_accuracy: 0.9469\n",
      "Epoch 48/50\n",
      "1638/1638 [==============================] - 29s 17ms/step - loss: 0.1529 - accuracy: 0.9553 - val_loss: 0.1966 - val_accuracy: 0.9473\n",
      "Epoch 49/50\n",
      "1638/1638 [==============================] - 28s 17ms/step - loss: 0.1524 - accuracy: 0.9552 - val_loss: 0.1989 - val_accuracy: 0.9479\n",
      "Epoch 50/50\n",
      "1638/1638 [==============================] - 28s 17ms/step - loss: 0.1522 - accuracy: 0.9553 - val_loss: 0.2035 - val_accuracy: 0.9454\n",
      "CNN took 1462.9824216365814 milliseconds to train Multiclass data.\n",
      "\n"
     ]
    }
   ],
   "source": [
    "import time\n",
    "start = time.time()\n",
    "history=textcnnmodel.fit(X_train,y_train,\n",
    "                     epochs=50,\n",
    "                     verbose=True,\n",
    "                     validation_data=(X_test, y_test),\n",
    "                     batch_size=1000)\n",
    "end  = time.time()\n",
    "print(\"CNN took {} milliseconds to train Multiclass data.\\n\".format(end-start))"
   ]
  },
  {
   "cell_type": "code",
   "execution_count": null,
   "metadata": {
    "colab": {
     "base_uri": "https://localhost:8080/"
    },
    "id": "utAYiqjyWbUx",
    "outputId": "5fca7055-87e5-4f9e-fea5-977bec7bfccd"
   },
   "outputs": [
    {
     "name": "stdout",
     "output_type": "stream",
     "text": [
      "Training Accuracy: 0.9555\n",
      "Testing Accuracy:  0.9454\n"
     ]
    }
   ],
   "source": [
    "loss, accuracy = textcnnmodel.evaluate(X_train, y_train, verbose=False)\n",
    "print(\"Training Accuracy: {:.4f}\".format(accuracy))\n",
    "loss, accuracy = textcnnmodel.evaluate(X_test, y_test, verbose=False)\n",
    "print(\"Testing Accuracy:  {:.4f}\".format(accuracy)) "
   ]
  },
  {
   "cell_type": "code",
   "execution_count": null,
   "metadata": {
    "colab": {
     "base_uri": "https://localhost:8080/"
    },
    "id": "LPXRSYNFWbUy",
    "outputId": "be594329-5169-481c-a69a-ae47d716d67c"
   },
   "outputs": [
    {
     "name": "stdout",
     "output_type": "stream",
     "text": [
      "LSTM took 20.612472534179688 milliseconds to test data.\n",
      "\n"
     ]
    }
   ],
   "source": [
    "start = time.time()\n",
    "y_lstmpred = textcnnmodel.predict(X_test)\n",
    "end  = time.time()\n",
    "print(\"LSTM took {} milliseconds to test data.\\n\".format(end-start))"
   ]
  },
  {
   "cell_type": "code",
   "execution_count": null,
   "metadata": {
    "colab": {
     "base_uri": "https://localhost:8080/"
    },
    "id": "oYg6rdr0WbUz",
    "outputId": "88d0144c-1bb5-4994-83bb-083572a3ea93"
   },
   "outputs": [
    {
     "name": "stderr",
     "output_type": "stream",
     "text": [
      "/usr/local/lib/python3.7/dist-packages/sklearn/metrics/_classification.py:1318: UndefinedMetricWarning: Precision and F-score are ill-defined and being set to 0.0 in labels with no predicted samples. Use `zero_division` parameter to control this behavior.\n",
      "  _warn_prf(average, modifier, msg_start, len(result))\n"
     ]
    },
    {
     "name": "stdout",
     "output_type": "stream",
     "text": [
      "              precision    recall  f1-score   support\n",
      "\n",
      "           0       1.00      1.00      1.00      2000\n",
      "           1       1.00      1.00      1.00      2035\n",
      "           2       1.00      1.00      1.00      2049\n",
      "           3       1.00      1.00      1.00     93982\n",
      "           4       0.94      0.94      0.94      2104\n",
      "           5       1.00      1.00      1.00      2047\n",
      "           6       1.00      1.00      1.00      2141\n",
      "           7       0.94      1.00      0.97      2071\n",
      "           8       0.97      0.93      0.95      2111\n",
      "           9       1.00      1.00      1.00      1997\n",
      "          10       0.90      0.86      0.88      2215\n",
      "          11       0.95      0.90      0.92      2053\n",
      "          12       1.00      0.99      1.00      2089\n",
      "          13       0.89      0.95      0.92     74711\n",
      "          14       1.00      1.00      1.00      2035\n",
      "          15       0.99      0.99      0.99      2051\n",
      "          16       0.36      0.02      0.03      6009\n",
      "          17       0.96      0.99      0.97      2138\n",
      "          18       0.97      1.00      0.98      2096\n",
      "          19       0.99      0.93      0.96      2454\n",
      "          20       1.00      1.00      1.00      2010\n",
      "          21       1.00      1.00      1.00      2085\n",
      "          22       0.97      0.98      0.97     82933\n",
      "          23       0.86      0.91      0.88      2064\n",
      "          24       1.00      1.00      1.00      2141\n",
      "          25       0.95      0.89      0.92      2075\n",
      "          26       1.00      1.00      1.00      2122\n",
      "          27       0.73      0.44      0.55      1712\n",
      "          28       0.94      1.00      0.97      2036\n",
      "          29       0.76      0.16      0.26       565\n",
      "          30       0.50      0.09      0.15      2010\n",
      "          31       0.93      0.92      0.93      1087\n",
      "          32       0.97      0.99      0.98      2113\n",
      "          33       1.00      1.00      1.00      2113\n",
      "          34       0.99      1.00      1.00      2087\n",
      "          35       0.98      1.00      0.99      2061\n",
      "          36       0.96      0.97      0.97      9042\n",
      "          37       0.88      0.99      0.93      2067\n",
      "          38       0.97      1.00      0.99      2045\n",
      "          39       0.99      1.00      0.99      2066\n",
      "          40       0.50      0.14      0.22      3948\n",
      "          41       0.00      0.00      0.00      2195\n",
      "          42       0.99      0.98      0.99     20778\n",
      "          43       0.53      0.47      0.50       537\n",
      "          44       0.86      0.82      0.84      1186\n",
      "          45       0.96      0.93      0.94      5617\n",
      "          46       0.97      0.99      0.98      2162\n",
      "          47       0.73      0.57      0.64       821\n",
      "          48       0.97      1.00      0.99      2079\n",
      "          49       0.93      0.96      0.95     18938\n",
      "          50       0.99      1.00      1.00      2087\n",
      "          51       1.00      1.00      1.00      2083\n",
      "          52       1.00      1.00      1.00      2020\n",
      "          53       0.95      1.00      0.97      2054\n",
      "          54       0.99      0.98      0.98      2034\n",
      "          55       0.78      0.53      0.63      1919\n",
      "          56       1.00      1.00      1.00      2028\n",
      "\n",
      "   micro avg       0.96      0.94      0.95    409308\n",
      "   macro avg       0.90      0.86      0.87    409308\n",
      "weighted avg       0.94      0.94      0.93    409308\n",
      " samples avg       0.94      0.94      0.94    409308\n",
      "\n"
     ]
    },
    {
     "name": "stderr",
     "output_type": "stream",
     "text": [
      "/usr/local/lib/python3.7/dist-packages/sklearn/metrics/_classification.py:1318: UndefinedMetricWarning: Precision and F-score are ill-defined and being set to 0.0 in samples with no predicted labels. Use `zero_division` parameter to control this behavior.\n",
      "  _warn_prf(average, modifier, msg_start, len(result))\n"
     ]
    }
   ],
   "source": [
    "from sklearn.metrics import classification_report\n",
    "y_lstmpred=(y_lstmpred > 0.5)\n",
    "print(classification_report(y_test, y_lstmpred))"
   ]
  },
  {
   "cell_type": "code",
   "execution_count": null,
   "metadata": {
    "colab": {
     "base_uri": "https://localhost:8080/",
     "height": 573
    },
    "id": "vbt6VySaWbU0",
    "outputId": "b6ca1c3b-13cc-4c38-832b-daef0e32dc66"
   },
   "outputs": [
    {
     "data": {
      "image/png": "[encoded data removed]",
      "text/plain": [
       "<Figure size 432x288 with 1 Axes>"
      ]
     },
     "metadata": {
      "needs_background": "light"
     },
     "output_type": "display_data"
    },
    {
     "data": {
      "image/png": "[encoded data removed]",
      "text/plain": [
       "<Figure size 432x288 with 1 Axes>"
      ]
     },
     "metadata": {
      "needs_background": "light"
     },
     "output_type": "display_data"
    }
   ],
   "source": [
    "def Training_and_validation_plot(history):\n",
    "    acc = history.history['accuracy']\n",
    "    val_acc = history.history['val_accuracy']\n",
    "    loss = history.history['loss']\n",
    "    val_loss = history.history['val_loss']\n",
    "    epochs = range(1, len(acc) + 1)\n",
    "\n",
    "    plt.plot(epochs, acc, 'bo', label = 'Training Accuracy')\n",
    "    plt.plot(epochs, val_acc, 'r', label = 'Validation Accuracy')\n",
    "    plt.title('Training and Validation Accuracy')\n",
    "    plt.xlabel('Epochs')\n",
    "    plt.ylabel('Loss')\n",
    "    plt.legend()\n",
    "\n",
    "    plt.figure()\n",
    "    plt.plot(epochs, loss, 'bo', label = 'Training Loss')\n",
    "    plt.plot(epochs, val_loss, 'r', label = 'Validation Loss')\n",
    "    plt.title('Training and Validation Loss')\n",
    "    plt.xlabel('Epochs')\n",
    "    plt.ylabel('Loss')\n",
    "    plt.legend()\n",
    "    plt.show()\n",
    "Training_and_validation_plot(history)"
   ]
  },
  {
   "cell_type": "code",
   "execution_count": null,
   "metadata": {
    "colab": {
     "base_uri": "https://localhost:8080/"
    },
    "id": "0CmNVNpeWbU1",
    "outputId": "be20a059-b851-4738-8d63-c32a3f218f66"
   },
   "outputs": [
    {
     "name": "stdout",
     "output_type": "stream",
     "text": [
      "INFO:tensorflow:Assets written to: ram://7bf7e88f-c8ef-41a8-8275-aabd57ec3556/assets\n"
     ]
    }
   ],
   "source": [
    "import pickle\n",
    "# save the model to disk\n",
    "filename = '/content/drive/My Drive/Colab Notebooks/Mcnnmodel_128x3,1000x50.sav'\n",
    "pickle.dump(textcnnmodel, open(filename, 'wb'))"
   ]
  },
  {
   "cell_type": "markdown",
   "metadata": {
    "id": "UDbIt4NdgUr8"
   },
   "source": [
    "## 128x5, 1000x50"
   ]
  },
  {
   "cell_type": "code",
   "execution_count": null,
   "metadata": {
    "colab": {
     "base_uri": "https://localhost:8080/"
    },
    "id": "D803VtjfgZr-",
    "outputId": "28b87525-73a1-4e98-f938-9078c3b1b132"
   },
   "outputs": [
    {
     "name": "stdout",
     "output_type": "stream",
     "text": [
      "Model: \"sequential_2\"\n",
      "_________________________________________________________________\n",
      " Layer (type)                Output Shape              Param #   \n",
      "=================================================================\n",
      " embedding_2 (Embedding)     (None, 50, 100)           7000      \n",
      "                                                                 \n",
      " conv1d_4 (Conv1D)           (None, 46, 128)           64128     \n",
      "                                                                 \n",
      " conv1d_5 (Conv1D)           (None, 42, 128)           82048     \n",
      "                                                                 \n",
      " global_max_pooling1d_2 (Glo  (None, 128)              0         \n",
      " balMaxPooling1D)                                                \n",
      "                                                                 \n",
      " flatten_2 (Flatten)         (None, 128)               0         \n",
      "                                                                 \n",
      " dense_4 (Dense)             (None, 250)               32250     \n",
      "                                                                 \n",
      " dense_5 (Dense)             (None, 57)                14307     \n",
      "                                                                 \n",
      "=================================================================\n",
      "Total params: 199,733\n",
      "Trainable params: 199,733\n",
      "Non-trainable params: 0\n",
      "_________________________________________________________________\n"
     ]
    }
   ],
   "source": [
    "from keras.models import Sequential\n",
    "from keras import layers \n",
    "\n",
    "embedding_dim = 100\n",
    "vocab_size=70\n",
    "max_len=50\n",
    "textcnnmodel = Sequential()\n",
    "textcnnmodel.add(layers.Embedding(vocab_size, embedding_dim, input_length=max_len))\n",
    "textcnnmodel.add(layers.Conv1D(128, 5, activation='relu'))\n",
    "textcnnmodel.add(layers.Conv1D(128, 5, activation='relu'))\n",
    "textcnnmodel.add(layers.GlobalMaxPooling1D())\n",
    "textcnnmodel.add(layers.Flatten())\n",
    "\n",
    "textcnnmodel.add(layers.Dense(250, activation='relu'))\n",
    "textcnnmodel.add(layers.Dense(57, activation='softmax'))\n",
    "textcnnmodel.compile(optimizer='adam',\n",
    "               loss='categorical_crossentropy',\n",
    "               metrics=['accuracy'])\n",
    "textcnnmodel.summary() "
   ]
  },
  {
   "cell_type": "code",
   "execution_count": null,
   "metadata": {
    "colab": {
     "base_uri": "https://localhost:8080/"
    },
    "id": "le1_JxkQgZr_",
    "outputId": "8b76f38e-9244-46de-c816-145443346728"
   },
   "outputs": [
    {
     "name": "stdout",
     "output_type": "stream",
     "text": [
      "Epoch 1/50\n",
      "1638/1638 [==============================] - 38s 23ms/step - loss: 0.7112 - accuracy: 0.8163 - val_loss: 0.4294 - val_accuracy: 0.8832\n",
      "Epoch 2/50\n",
      "1638/1638 [==============================] - 36s 22ms/step - loss: 0.3640 - accuracy: 0.8985 - val_loss: 0.3199 - val_accuracy: 0.9099\n",
      "Epoch 3/50\n",
      "1638/1638 [==============================] - 39s 24ms/step - loss: 0.2949 - accuracy: 0.9164 - val_loss: 0.2832 - val_accuracy: 0.9195\n",
      "Epoch 4/50\n",
      "1638/1638 [==============================] - 37s 23ms/step - loss: 0.2588 - accuracy: 0.9262 - val_loss: 0.2583 - val_accuracy: 0.9259\n",
      "Epoch 5/50\n",
      "1638/1638 [==============================] - 37s 23ms/step - loss: 0.2355 - accuracy: 0.9322 - val_loss: 0.2454 - val_accuracy: 0.9295\n",
      "Epoch 6/50\n",
      "1638/1638 [==============================] - 39s 24ms/step - loss: 0.2198 - accuracy: 0.9365 - val_loss: 0.2284 - val_accuracy: 0.9367\n",
      "Epoch 7/50\n",
      "1638/1638 [==============================] - 38s 23ms/step - loss: 0.2057 - accuracy: 0.9404 - val_loss: 0.2196 - val_accuracy: 0.9384\n",
      "Epoch 8/50\n",
      "1638/1638 [==============================] - 39s 24ms/step - loss: 0.1967 - accuracy: 0.9427 - val_loss: 0.2246 - val_accuracy: 0.9363\n",
      "Epoch 9/50\n",
      "1638/1638 [==============================] - 39s 24ms/step - loss: 0.1888 - accuracy: 0.9450 - val_loss: 0.2138 - val_accuracy: 0.9411\n",
      "Epoch 10/50\n",
      "1638/1638 [==============================] - 37s 23ms/step - loss: 0.1812 - accuracy: 0.9469 - val_loss: 0.2281 - val_accuracy: 0.9354\n",
      "Epoch 11/50\n",
      "1638/1638 [==============================] - 37s 23ms/step - loss: 0.1752 - accuracy: 0.9487 - val_loss: 0.2115 - val_accuracy: 0.9389\n",
      "Epoch 12/50\n",
      "1638/1638 [==============================] - 37s 23ms/step - loss: 0.1716 - accuracy: 0.9495 - val_loss: 0.1993 - val_accuracy: 0.9426\n",
      "Epoch 13/50\n",
      "1638/1638 [==============================] - 37s 23ms/step - loss: 0.1669 - accuracy: 0.9509 - val_loss: 0.1922 - val_accuracy: 0.9461\n",
      "Epoch 14/50\n",
      "1638/1638 [==============================] - 39s 24ms/step - loss: 0.1630 - accuracy: 0.9518 - val_loss: 0.2061 - val_accuracy: 0.9414\n",
      "Epoch 15/50\n",
      "1638/1638 [==============================] - 37s 23ms/step - loss: 0.1598 - accuracy: 0.9528 - val_loss: 0.1907 - val_accuracy: 0.9465\n",
      "Epoch 16/50\n",
      "1638/1638 [==============================] - 37s 23ms/step - loss: 0.1565 - accuracy: 0.9534 - val_loss: 0.1890 - val_accuracy: 0.9480\n",
      "Epoch 17/50\n",
      "1638/1638 [==============================] - 37s 23ms/step - loss: 0.1540 - accuracy: 0.9543 - val_loss: 0.1894 - val_accuracy: 0.9471\n",
      "Epoch 18/50\n",
      "1638/1638 [==============================] - 37s 23ms/step - loss: 0.1516 - accuracy: 0.9548 - val_loss: 0.1947 - val_accuracy: 0.9465\n",
      "Epoch 19/50\n",
      "1638/1638 [==============================] - 39s 24ms/step - loss: 0.1491 - accuracy: 0.9555 - val_loss: 0.1862 - val_accuracy: 0.9494\n",
      "Epoch 20/50\n",
      "1638/1638 [==============================] - 39s 24ms/step - loss: 0.1469 - accuracy: 0.9560 - val_loss: 0.2033 - val_accuracy: 0.9445\n",
      "Epoch 21/50\n",
      "1638/1638 [==============================] - 37s 23ms/step - loss: 0.1454 - accuracy: 0.9565 - val_loss: 0.1984 - val_accuracy: 0.9433\n",
      "Epoch 22/50\n",
      "1638/1638 [==============================] - 39s 24ms/step - loss: 0.1425 - accuracy: 0.9574 - val_loss: 0.1829 - val_accuracy: 0.9494\n",
      "Epoch 23/50\n",
      "1638/1638 [==============================] - 40s 24ms/step - loss: 0.1419 - accuracy: 0.9574 - val_loss: 0.1966 - val_accuracy: 0.9434\n",
      "Epoch 24/50\n",
      "1638/1638 [==============================] - 37s 22ms/step - loss: 0.1401 - accuracy: 0.9578 - val_loss: 0.1809 - val_accuracy: 0.9493\n",
      "Epoch 25/50\n",
      "1638/1638 [==============================] - 37s 23ms/step - loss: 0.1388 - accuracy: 0.9582 - val_loss: 0.1948 - val_accuracy: 0.9467\n",
      "Epoch 26/50\n",
      "1638/1638 [==============================] - 37s 22ms/step - loss: 0.1370 - accuracy: 0.9586 - val_loss: 0.1901 - val_accuracy: 0.9489\n",
      "Epoch 27/50\n",
      "1638/1638 [==============================] - 39s 24ms/step - loss: 0.1358 - accuracy: 0.9591 - val_loss: 0.1822 - val_accuracy: 0.9500\n",
      "Epoch 28/50\n",
      "1638/1638 [==============================] - 37s 23ms/step - loss: 0.1347 - accuracy: 0.9592 - val_loss: 0.1846 - val_accuracy: 0.9497\n",
      "Epoch 29/50\n",
      "1638/1638 [==============================] - 37s 22ms/step - loss: 0.1334 - accuracy: 0.9596 - val_loss: 0.1895 - val_accuracy: 0.9493\n",
      "Epoch 30/50\n",
      "1638/1638 [==============================] - 37s 23ms/step - loss: 0.1327 - accuracy: 0.9597 - val_loss: 0.1863 - val_accuracy: 0.9502\n",
      "Epoch 31/50\n",
      "1638/1638 [==============================] - 37s 22ms/step - loss: 0.1307 - accuracy: 0.9603 - val_loss: 0.1945 - val_accuracy: 0.9482\n",
      "Epoch 32/50\n",
      "1638/1638 [==============================] - 37s 23ms/step - loss: 0.1307 - accuracy: 0.9603 - val_loss: 0.1876 - val_accuracy: 0.9470\n",
      "Epoch 33/50\n",
      "1638/1638 [==============================] - 39s 24ms/step - loss: 0.1290 - accuracy: 0.9607 - val_loss: 0.1800 - val_accuracy: 0.9517\n",
      "Epoch 34/50\n",
      "1638/1638 [==============================] - 37s 23ms/step - loss: 0.1284 - accuracy: 0.9610 - val_loss: 0.1770 - val_accuracy: 0.9510\n",
      "Epoch 35/50\n",
      "1638/1638 [==============================] - 37s 23ms/step - loss: 0.1273 - accuracy: 0.9612 - val_loss: 0.1844 - val_accuracy: 0.9513\n",
      "Epoch 36/50\n",
      "1638/1638 [==============================] - 39s 24ms/step - loss: 0.1269 - accuracy: 0.9613 - val_loss: 0.1868 - val_accuracy: 0.9493\n",
      "Epoch 37/50\n",
      "1638/1638 [==============================] - 37s 23ms/step - loss: 0.1256 - accuracy: 0.9617 - val_loss: 0.1986 - val_accuracy: 0.9446\n",
      "Epoch 38/50\n",
      "1638/1638 [==============================] - 37s 23ms/step - loss: 0.1247 - accuracy: 0.9619 - val_loss: 0.1841 - val_accuracy: 0.9510\n",
      "Epoch 39/50\n",
      "1638/1638 [==============================] - 37s 23ms/step - loss: 0.1235 - accuracy: 0.9621 - val_loss: 0.1926 - val_accuracy: 0.9481\n",
      "Epoch 40/50\n",
      "1638/1638 [==============================] - 39s 24ms/step - loss: 0.1230 - accuracy: 0.9624 - val_loss: 0.1773 - val_accuracy: 0.9519\n",
      "Epoch 41/50\n",
      "1638/1638 [==============================] - 37s 23ms/step - loss: 0.1220 - accuracy: 0.9626 - val_loss: 0.1793 - val_accuracy: 0.9518\n",
      "Epoch 42/50\n",
      "1638/1638 [==============================] - 37s 23ms/step - loss: 0.1206 - accuracy: 0.9630 - val_loss: 0.1784 - val_accuracy: 0.9526\n",
      "Epoch 43/50\n",
      "1638/1638 [==============================] - 37s 22ms/step - loss: 0.1200 - accuracy: 0.9631 - val_loss: 0.1784 - val_accuracy: 0.9512\n",
      "Epoch 44/50\n",
      "1638/1638 [==============================] - 39s 24ms/step - loss: 0.1183 - accuracy: 0.9637 - val_loss: 0.1780 - val_accuracy: 0.9508\n",
      "Epoch 45/50\n",
      "1638/1638 [==============================] - 37s 23ms/step - loss: 0.1181 - accuracy: 0.9637 - val_loss: 0.1774 - val_accuracy: 0.9529\n",
      "Epoch 46/50\n",
      "1638/1638 [==============================] - 37s 23ms/step - loss: 0.1180 - accuracy: 0.9637 - val_loss: 0.1778 - val_accuracy: 0.9517\n",
      "Epoch 47/50\n",
      "1638/1638 [==============================] - 39s 24ms/step - loss: 0.1153 - accuracy: 0.9644 - val_loss: 0.1759 - val_accuracy: 0.9533\n",
      "Epoch 48/50\n",
      "1638/1638 [==============================] - 37s 23ms/step - loss: 0.1170 - accuracy: 0.9639 - val_loss: 0.1738 - val_accuracy: 0.9539\n",
      "Epoch 49/50\n",
      "1638/1638 [==============================] - 37s 23ms/step - loss: 0.1140 - accuracy: 0.9649 - val_loss: 0.1725 - val_accuracy: 0.9538\n",
      "Epoch 50/50\n",
      "1638/1638 [==============================] - 37s 22ms/step - loss: 0.1139 - accuracy: 0.9648 - val_loss: 0.1796 - val_accuracy: 0.9521\n",
      "CNN took 1942.862139225006 milliseconds to train Multiclass data.\n",
      "\n"
     ]
    }
   ],
   "source": [
    "import time\n",
    "start = time.time()\n",
    "history=textcnnmodel.fit(X_train,y_train,\n",
    "                     epochs=50,\n",
    "                     verbose=True,\n",
    "                     validation_data=(X_test, y_test),\n",
    "                     batch_size=1000)\n",
    "end  = time.time()\n",
    "print(\"CNN took {} milliseconds to train Multiclass data.\\n\".format(end-start))"
   ]
  },
  {
   "cell_type": "code",
   "execution_count": null,
   "metadata": {
    "colab": {
     "base_uri": "https://localhost:8080/"
    },
    "id": "sPRSoj3_gZsB",
    "outputId": "d95299c3-85f2-471f-dec9-7d315a156600"
   },
   "outputs": [
    {
     "name": "stdout",
     "output_type": "stream",
     "text": [
      "Training Accuracy: 0.9658\n",
      "Testing Accuracy:  0.9521\n"
     ]
    }
   ],
   "source": [
    "loss, accuracy = textcnnmodel.evaluate(X_train, y_train, verbose=False)\n",
    "print(\"Training Accuracy: {:.4f}\".format(accuracy))\n",
    "loss, accuracy = textcnnmodel.evaluate(X_test, y_test, verbose=False)\n",
    "print(\"Testing Accuracy:  {:.4f}\".format(accuracy)) "
   ]
  },
  {
   "cell_type": "code",
   "execution_count": null,
   "metadata": {
    "colab": {
     "base_uri": "https://localhost:8080/"
    },
    "id": "xNcMhbPEgZsC",
    "outputId": "b37d45ec-97cc-4c04-eb25-771f9c56005a"
   },
   "outputs": [
    {
     "name": "stdout",
     "output_type": "stream",
     "text": [
      "LSTM took 19.365004301071167 milliseconds to test data.\n",
      "\n"
     ]
    }
   ],
   "source": [
    "start = time.time()\n",
    "y_lstmpred = textcnnmodel.predict(X_test)\n",
    "end  = time.time()\n",
    "print(\"LSTM took {} milliseconds to test data.\\n\".format(end-start))"
   ]
  },
  {
   "cell_type": "code",
   "execution_count": null,
   "metadata": {
    "colab": {
     "base_uri": "https://localhost:8080/"
    },
    "id": "S2jsU0xVgZsC",
    "outputId": "32a7addf-2b4d-406f-87da-410fe04eaed3"
   },
   "outputs": [
    {
     "name": "stdout",
     "output_type": "stream",
     "text": [
      "              precision    recall  f1-score   support\n",
      "\n",
      "           0       1.00      1.00      1.00      2000\n",
      "           1       1.00      1.00      1.00      2035\n",
      "           2       1.00      1.00      1.00      2049\n",
      "           3       1.00      1.00      1.00     93982\n",
      "           4       0.95      0.88      0.92      2104\n",
      "           5       1.00      1.00      1.00      2047\n",
      "           6       1.00      1.00      1.00      2141\n",
      "           7       0.96      0.98      0.97      2071\n",
      "           8       0.95      0.99      0.97      2111\n",
      "           9       1.00      1.00      1.00      1997\n",
      "          10       0.94      0.93      0.94      2215\n",
      "          11       0.96      0.93      0.95      2053\n",
      "          12       0.99      1.00      1.00      2089\n",
      "          13       0.92      0.96      0.94     74711\n",
      "          14       1.00      1.00      1.00      2035\n",
      "          15       0.99      1.00      1.00      2051\n",
      "          16       0.49      0.35      0.41      6009\n",
      "          17       0.97      1.00      0.98      2138\n",
      "          18       0.99      0.99      0.99      2096\n",
      "          19       0.93      0.98      0.96      2454\n",
      "          20       1.00      1.00      1.00      2010\n",
      "          21       1.00      1.00      1.00      2085\n",
      "          22       0.96      0.98      0.97     82933\n",
      "          23       0.82      0.97      0.89      2064\n",
      "          24       1.00      1.00      1.00      2141\n",
      "          25       0.95      0.94      0.95      2075\n",
      "          26       1.00      1.00      1.00      2122\n",
      "          27       0.77      0.46      0.58      1712\n",
      "          28       0.99      0.98      0.99      2036\n",
      "          29       0.77      0.18      0.29       565\n",
      "          30       0.58      0.08      0.14      2010\n",
      "          31       0.88      0.93      0.91      1087\n",
      "          32       0.97      0.98      0.98      2113\n",
      "          33       1.00      1.00      1.00      2113\n",
      "          34       0.99      1.00      1.00      2087\n",
      "          35       1.00      0.98      0.99      2061\n",
      "          36       0.98      0.97      0.98      9042\n",
      "          37       0.95      0.93      0.94      2067\n",
      "          38       0.99      0.99      0.99      2045\n",
      "          39       0.99      0.98      0.99      2066\n",
      "          40       0.56      0.18      0.27      3948\n",
      "          41       0.40      0.04      0.08      2195\n",
      "          42       0.99      0.98      0.99     20778\n",
      "          43       0.68      0.30      0.42       537\n",
      "          44       0.84      0.83      0.84      1186\n",
      "          45       0.96      0.97      0.96      5617\n",
      "          46       0.97      0.97      0.97      2162\n",
      "          47       0.80      0.36      0.49       821\n",
      "          48       0.99      1.00      1.00      2079\n",
      "          49       0.95      0.98      0.97     18938\n",
      "          50       1.00      1.00      1.00      2087\n",
      "          51       1.00      1.00      1.00      2083\n",
      "          52       1.00      1.00      1.00      2020\n",
      "          53       0.99      0.93      0.95      2054\n",
      "          54       0.99      1.00      1.00      2034\n",
      "          55       0.87      0.43      0.57      1919\n",
      "          56       1.00      1.00      1.00      2028\n",
      "\n",
      "   micro avg       0.96      0.95      0.95    409308\n",
      "   macro avg       0.92      0.87      0.88    409308\n",
      "weighted avg       0.95      0.95      0.94    409308\n",
      " samples avg       0.95      0.95      0.95    409308\n",
      "\n"
     ]
    },
    {
     "name": "stderr",
     "output_type": "stream",
     "text": [
      "/usr/local/lib/python3.7/dist-packages/sklearn/metrics/_classification.py:1318: UndefinedMetricWarning: Precision and F-score are ill-defined and being set to 0.0 in samples with no predicted labels. Use `zero_division` parameter to control this behavior.\n",
      "  _warn_prf(average, modifier, msg_start, len(result))\n"
     ]
    }
   ],
   "source": [
    "from sklearn.metrics import classification_report\n",
    "y_lstmpred=(y_lstmpred > 0.5)\n",
    "print(classification_report(y_test, y_lstmpred))"
   ]
  },
  {
   "cell_type": "code",
   "execution_count": null,
   "metadata": {
    "colab": {
     "base_uri": "https://localhost:8080/",
     "height": 573
    },
    "id": "bEJZVCxcgZsC",
    "outputId": "7f5aaaa0-ed5f-43d3-a44a-b9ea7d0684a8"
   },
   "outputs": [
    {
     "data": {
      "image/png": "[encoded data removed]",
      "text/plain": [
       "<Figure size 432x288 with 1 Axes>"
      ]
     },
     "metadata": {
      "needs_background": "light"
     },
     "output_type": "display_data"
    },
    {
     "data": {
      "image/png": "[encoded data removed]",
      "text/plain": [
       "<Figure size 432x288 with 1 Axes>"
      ]
     },
     "metadata": {
      "needs_background": "light"
     },
     "output_type": "display_data"
    }
   ],
   "source": [
    "def Training_and_validation_plot(history):\n",
    "    acc = history.history['accuracy']\n",
    "    val_acc = history.history['val_accuracy']\n",
    "    loss = history.history['loss']\n",
    "    val_loss = history.history['val_loss']\n",
    "    epochs = range(1, len(acc) + 1)\n",
    "\n",
    "    plt.plot(epochs, acc, 'bo', label = 'Training Accuracy')\n",
    "    plt.plot(epochs, val_acc, 'r', label = 'Validation Accuracy')\n",
    "    plt.title('Training and Validation Accuracy')\n",
    "    plt.xlabel('Epochs')\n",
    "    plt.ylabel('Loss')\n",
    "    plt.legend()\n",
    "\n",
    "    plt.figure()\n",
    "    plt.plot(epochs, loss, 'bo', label = 'Training Loss')\n",
    "    plt.plot(epochs, val_loss, 'r', label = 'Validation Loss')\n",
    "    plt.title('Training and Validation Loss')\n",
    "    plt.xlabel('Epochs')\n",
    "    plt.ylabel('Loss')\n",
    "    plt.legend()\n",
    "    plt.show()\n",
    "Training_and_validation_plot(history)"
   ]
  },
  {
   "cell_type": "code",
   "execution_count": null,
   "metadata": {
    "colab": {
     "base_uri": "https://localhost:8080/"
    },
    "id": "soiN26E5gZsD",
    "outputId": "dfa1b858-a977-4937-8a71-42b6e193885f"
   },
   "outputs": [
    {
     "name": "stdout",
     "output_type": "stream",
     "text": [
      "INFO:tensorflow:Assets written to: ram://05905682-3fbc-4a24-ac23-e580097ec094/assets\n"
     ]
    }
   ],
   "source": [
    "import pickle\n",
    "# save the model to disk\n",
    "filename = '/content/drive/My Drive/Colab Notebooks/Mcnnmodel_128x5,1000x50.sav'\n",
    "pickle.dump(textcnnmodel, open(filename, 'wb'))"
   ]
  },
  {
   "cell_type": "markdown",
   "metadata": {
    "id": "tHU_nyNVyWJ_"
   },
   "source": [
    "## 128x5, 1000x100"
   ]
  },
  {
   "cell_type": "code",
   "execution_count": null,
   "metadata": {
    "colab": {
     "base_uri": "https://localhost:8080/"
    },
    "id": "MKGC7nuYyd2-",
    "outputId": "f2223cd4-05f6-4754-8ead-447c9c99f3be"
   },
   "outputs": [
    {
     "name": "stdout",
     "output_type": "stream",
     "text": [
      "Model: \"sequential_3\"\n",
      "_________________________________________________________________\n",
      " Layer (type)                Output Shape              Param #   \n",
      "=================================================================\n",
      " embedding_3 (Embedding)     (None, 50, 100)           7000      \n",
      "                                                                 \n",
      " conv1d_6 (Conv1D)           (None, 46, 128)           64128     \n",
      "                                                                 \n",
      " conv1d_7 (Conv1D)           (None, 42, 128)           82048     \n",
      "                                                                 \n",
      " global_max_pooling1d_3 (Glo  (None, 128)              0         \n",
      " balMaxPooling1D)                                                \n",
      "                                                                 \n",
      " flatten_3 (Flatten)         (None, 128)               0         \n",
      "                                                                 \n",
      " dense_6 (Dense)             (None, 250)               32250     \n",
      "                                                                 \n",
      " dense_7 (Dense)             (None, 57)                14307     \n",
      "                                                                 \n",
      "=================================================================\n",
      "Total params: 199,733\n",
      "Trainable params: 199,733\n",
      "Non-trainable params: 0\n",
      "_________________________________________________________________\n"
     ]
    }
   ],
   "source": [
    "from keras.models import Sequential\n",
    "from keras import layers \n",
    "\n",
    "embedding_dim = 100\n",
    "vocab_size=70\n",
    "max_len=50\n",
    "textcnnmodel = Sequential()\n",
    "textcnnmodel.add(layers.Embedding(vocab_size, embedding_dim, input_length=max_len))\n",
    "textcnnmodel.add(layers.Conv1D(128, 5, activation='relu'))\n",
    "textcnnmodel.add(layers.Conv1D(128, 5, activation='relu'))\n",
    "textcnnmodel.add(layers.GlobalMaxPooling1D())\n",
    "textcnnmodel.add(layers.Flatten())\n",
    "\n",
    "textcnnmodel.add(layers.Dense(250, activation='relu'))\n",
    "textcnnmodel.add(layers.Dense(57, activation='softmax'))\n",
    "textcnnmodel.compile(optimizer='adam',\n",
    "               loss='categorical_crossentropy',\n",
    "               metrics=['accuracy'])\n",
    "textcnnmodel.summary() "
   ]
  },
  {
   "cell_type": "code",
   "execution_count": null,
   "metadata": {
    "colab": {
     "base_uri": "https://localhost:8080/"
    },
    "id": "fSIpq80Jyd3A",
    "outputId": "20c65fe2-7b5b-46e6-bd16-252b439872e1"
   },
   "outputs": [
    {
     "name": "stdout",
     "output_type": "stream",
     "text": [
      "Epoch 1/100\n",
      "1638/1638 [==============================] - 37s 22ms/step - loss: 0.6991 - accuracy: 0.8187 - val_loss: 0.4116 - val_accuracy: 0.8859\n",
      "Epoch 2/100\n",
      "1638/1638 [==============================] - 36s 22ms/step - loss: 0.3591 - accuracy: 0.8995 - val_loss: 0.3245 - val_accuracy: 0.9093\n",
      "Epoch 3/100\n",
      "1638/1638 [==============================] - 36s 22ms/step - loss: 0.2885 - accuracy: 0.9179 - val_loss: 0.2902 - val_accuracy: 0.9188\n",
      "Epoch 4/100\n",
      "1638/1638 [==============================] - 37s 23ms/step - loss: 0.2524 - accuracy: 0.9275 - val_loss: 0.2486 - val_accuracy: 0.9281\n",
      "Epoch 5/100\n",
      "1638/1638 [==============================] - 37s 23ms/step - loss: 0.2298 - accuracy: 0.9338 - val_loss: 0.2453 - val_accuracy: 0.9297\n",
      "Epoch 6/100\n",
      "1638/1638 [==============================] - 39s 24ms/step - loss: 0.2127 - accuracy: 0.9383 - val_loss: 0.2205 - val_accuracy: 0.9364\n",
      "Epoch 7/100\n",
      "1638/1638 [==============================] - 37s 23ms/step - loss: 0.2002 - accuracy: 0.9418 - val_loss: 0.2222 - val_accuracy: 0.9377\n",
      "Epoch 8/100\n",
      "1638/1638 [==============================] - 39s 24ms/step - loss: 0.1896 - accuracy: 0.9445 - val_loss: 0.2136 - val_accuracy: 0.9393\n",
      "Epoch 9/100\n",
      "1638/1638 [==============================] - 37s 23ms/step - loss: 0.1834 - accuracy: 0.9463 - val_loss: 0.2081 - val_accuracy: 0.9410\n",
      "Epoch 10/100\n",
      "1638/1638 [==============================] - 37s 23ms/step - loss: 0.1760 - accuracy: 0.9484 - val_loss: 0.1904 - val_accuracy: 0.9463\n",
      "Epoch 11/100\n",
      "1638/1638 [==============================] - 39s 24ms/step - loss: 0.1704 - accuracy: 0.9500 - val_loss: 0.1933 - val_accuracy: 0.9450\n",
      "Epoch 12/100\n",
      "1638/1638 [==============================] - 37s 23ms/step - loss: 0.1664 - accuracy: 0.9508 - val_loss: 0.2255 - val_accuracy: 0.9383\n",
      "Epoch 13/100\n",
      "1638/1638 [==============================] - 39s 24ms/step - loss: 0.1614 - accuracy: 0.9523 - val_loss: 0.1918 - val_accuracy: 0.9469\n",
      "Epoch 14/100\n",
      "1638/1638 [==============================] - 39s 24ms/step - loss: 0.1586 - accuracy: 0.9532 - val_loss: 0.1993 - val_accuracy: 0.9433\n",
      "Epoch 15/100\n",
      "1638/1638 [==============================] - 37s 23ms/step - loss: 0.1541 - accuracy: 0.9544 - val_loss: 0.1815 - val_accuracy: 0.9492\n",
      "Epoch 16/100\n",
      "1638/1638 [==============================] - 37s 23ms/step - loss: 0.1513 - accuracy: 0.9551 - val_loss: 0.1797 - val_accuracy: 0.9496\n",
      "Epoch 17/100\n",
      "1638/1638 [==============================] - 37s 23ms/step - loss: 0.1493 - accuracy: 0.9557 - val_loss: 0.1817 - val_accuracy: 0.9491\n",
      "Epoch 18/100\n",
      "1638/1638 [==============================] - 37s 23ms/step - loss: 0.1468 - accuracy: 0.9563 - val_loss: 0.1816 - val_accuracy: 0.9492\n",
      "Epoch 19/100\n",
      "1638/1638 [==============================] - 37s 23ms/step - loss: 0.1444 - accuracy: 0.9569 - val_loss: 0.1858 - val_accuracy: 0.9476\n",
      "Epoch 20/100\n",
      "1638/1638 [==============================] - 37s 23ms/step - loss: 0.1422 - accuracy: 0.9575 - val_loss: 0.1829 - val_accuracy: 0.9483\n",
      "Epoch 21/100\n",
      "1638/1638 [==============================] - 37s 22ms/step - loss: 0.1409 - accuracy: 0.9578 - val_loss: 0.1880 - val_accuracy: 0.9464\n",
      "Epoch 22/100\n",
      "1638/1638 [==============================] - 37s 23ms/step - loss: 0.1385 - accuracy: 0.9584 - val_loss: 0.1759 - val_accuracy: 0.9502\n",
      "Epoch 23/100\n",
      "1638/1638 [==============================] - 39s 24ms/step - loss: 0.1370 - accuracy: 0.9589 - val_loss: 0.1866 - val_accuracy: 0.9497\n",
      "Epoch 24/100\n",
      "1638/1638 [==============================] - 37s 23ms/step - loss: 0.1358 - accuracy: 0.9592 - val_loss: 0.1851 - val_accuracy: 0.9473\n",
      "Epoch 25/100\n",
      "1638/1638 [==============================] - 39s 24ms/step - loss: 0.1335 - accuracy: 0.9597 - val_loss: 0.1823 - val_accuracy: 0.9507\n",
      "Epoch 26/100\n",
      "1638/1638 [==============================] - 39s 24ms/step - loss: 0.1331 - accuracy: 0.9597 - val_loss: 0.1844 - val_accuracy: 0.9503\n",
      "Epoch 27/100\n",
      "1638/1638 [==============================] - 37s 23ms/step - loss: 0.1307 - accuracy: 0.9605 - val_loss: 0.1790 - val_accuracy: 0.9513\n",
      "Epoch 28/100\n",
      "1638/1638 [==============================] - 37s 23ms/step - loss: 0.1313 - accuracy: 0.9602 - val_loss: 0.1795 - val_accuracy: 0.9512\n",
      "Epoch 29/100\n",
      "1638/1638 [==============================] - 37s 22ms/step - loss: 0.1288 - accuracy: 0.9610 - val_loss: 0.1934 - val_accuracy: 0.9483\n",
      "Epoch 30/100\n",
      "1638/1638 [==============================] - 39s 24ms/step - loss: 0.1280 - accuracy: 0.9611 - val_loss: 0.1872 - val_accuracy: 0.9500\n",
      "Epoch 31/100\n",
      "1638/1638 [==============================] - 39s 24ms/step - loss: 0.1266 - accuracy: 0.9614 - val_loss: 0.1826 - val_accuracy: 0.9505\n",
      "Epoch 32/100\n",
      "1638/1638 [==============================] - 37s 23ms/step - loss: 0.1268 - accuracy: 0.9614 - val_loss: 0.1795 - val_accuracy: 0.9504\n",
      "Epoch 33/100\n",
      "1638/1638 [==============================] - 39s 24ms/step - loss: 0.1252 - accuracy: 0.9619 - val_loss: 0.1785 - val_accuracy: 0.9506\n",
      "Epoch 34/100\n",
      "1638/1638 [==============================] - 37s 23ms/step - loss: 0.1245 - accuracy: 0.9621 - val_loss: 0.1836 - val_accuracy: 0.9494\n",
      "Epoch 35/100\n",
      "1638/1638 [==============================] - 39s 24ms/step - loss: 0.1232 - accuracy: 0.9623 - val_loss: 0.1794 - val_accuracy: 0.9513\n",
      "Epoch 36/100\n",
      "1638/1638 [==============================] - 37s 23ms/step - loss: 0.1228 - accuracy: 0.9624 - val_loss: 0.2379 - val_accuracy: 0.9429\n",
      "Epoch 37/100\n",
      "1638/1638 [==============================] - 37s 22ms/step - loss: 0.1218 - accuracy: 0.9626 - val_loss: 0.1750 - val_accuracy: 0.9522\n",
      "Epoch 38/100\n",
      "1638/1638 [==============================] - 37s 23ms/step - loss: 0.1214 - accuracy: 0.9629 - val_loss: 0.2014 - val_accuracy: 0.9433\n",
      "Epoch 39/100\n",
      "1638/1638 [==============================] - 37s 22ms/step - loss: 0.1201 - accuracy: 0.9632 - val_loss: 0.1824 - val_accuracy: 0.9518\n",
      "Epoch 40/100\n",
      "1638/1638 [==============================] - 37s 22ms/step - loss: 0.1190 - accuracy: 0.9635 - val_loss: 0.1759 - val_accuracy: 0.9528\n",
      "Epoch 41/100\n",
      "1638/1638 [==============================] - 37s 22ms/step - loss: 0.1197 - accuracy: 0.9633 - val_loss: 0.1749 - val_accuracy: 0.9514\n",
      "Epoch 42/100\n",
      "1638/1638 [==============================] - 37s 23ms/step - loss: 0.1178 - accuracy: 0.9638 - val_loss: 0.1818 - val_accuracy: 0.9512\n",
      "Epoch 43/100\n",
      "1638/1638 [==============================] - 37s 22ms/step - loss: 0.1184 - accuracy: 0.9637 - val_loss: 0.1876 - val_accuracy: 0.9506\n",
      "Epoch 44/100\n",
      "1638/1638 [==============================] - 37s 23ms/step - loss: 0.1174 - accuracy: 0.9638 - val_loss: 0.1754 - val_accuracy: 0.9520\n",
      "Epoch 45/100\n",
      "1638/1638 [==============================] - 39s 24ms/step - loss: 0.1167 - accuracy: 0.9641 - val_loss: 0.1736 - val_accuracy: 0.9536\n",
      "Epoch 46/100\n",
      "1638/1638 [==============================] - 37s 23ms/step - loss: 0.1161 - accuracy: 0.9644 - val_loss: 0.1821 - val_accuracy: 0.9510\n",
      "Epoch 47/100\n",
      "1638/1638 [==============================] - 39s 24ms/step - loss: 0.1148 - accuracy: 0.9646 - val_loss: 0.2001 - val_accuracy: 0.9496\n",
      "Epoch 48/100\n",
      "1638/1638 [==============================] - 39s 24ms/step - loss: 0.1142 - accuracy: 0.9647 - val_loss: 0.2120 - val_accuracy: 0.9469\n",
      "Epoch 49/100\n",
      "1638/1638 [==============================] - 39s 24ms/step - loss: 0.1151 - accuracy: 0.9644 - val_loss: 0.1816 - val_accuracy: 0.9504\n",
      "Epoch 50/100\n",
      "1638/1638 [==============================] - 37s 23ms/step - loss: 0.1136 - accuracy: 0.9648 - val_loss: 0.1855 - val_accuracy: 0.9510\n",
      "Epoch 51/100\n",
      "1638/1638 [==============================] - 37s 22ms/step - loss: 0.1128 - accuracy: 0.9653 - val_loss: 0.1842 - val_accuracy: 0.9515\n",
      "Epoch 52/100\n",
      "1638/1638 [==============================] - 37s 23ms/step - loss: 0.1127 - accuracy: 0.9652 - val_loss: 0.1849 - val_accuracy: 0.9519\n",
      "Epoch 53/100\n",
      "1638/1638 [==============================] - 37s 22ms/step - loss: 0.1120 - accuracy: 0.9654 - val_loss: 0.1834 - val_accuracy: 0.9519\n",
      "Epoch 54/100\n",
      "1638/1638 [==============================] - 37s 23ms/step - loss: 0.1126 - accuracy: 0.9652 - val_loss: 0.1849 - val_accuracy: 0.9515\n",
      "Epoch 55/100\n",
      "1638/1638 [==============================] - 37s 22ms/step - loss: 0.1112 - accuracy: 0.9656 - val_loss: 0.1853 - val_accuracy: 0.9510\n",
      "Epoch 56/100\n",
      "1638/1638 [==============================] - 39s 24ms/step - loss: 0.1112 - accuracy: 0.9656 - val_loss: 0.1842 - val_accuracy: 0.9512\n",
      "Epoch 57/100\n",
      "1638/1638 [==============================] - 39s 24ms/step - loss: 0.1103 - accuracy: 0.9659 - val_loss: 0.1795 - val_accuracy: 0.9526\n",
      "Epoch 58/100\n",
      "1638/1638 [==============================] - 37s 23ms/step - loss: 0.1100 - accuracy: 0.9659 - val_loss: 0.1895 - val_accuracy: 0.9505\n",
      "Epoch 59/100\n",
      "1638/1638 [==============================] - 37s 22ms/step - loss: 0.1096 - accuracy: 0.9659 - val_loss: 0.1835 - val_accuracy: 0.9518\n",
      "Epoch 60/100\n",
      "1638/1638 [==============================] - 39s 24ms/step - loss: 0.1099 - accuracy: 0.9658 - val_loss: 0.1964 - val_accuracy: 0.9507\n",
      "Epoch 61/100\n",
      "1638/1638 [==============================] - 37s 22ms/step - loss: 0.1081 - accuracy: 0.9665 - val_loss: 0.1957 - val_accuracy: 0.9466\n",
      "Epoch 62/100\n",
      "1638/1638 [==============================] - 39s 24ms/step - loss: 0.1089 - accuracy: 0.9661 - val_loss: 0.1869 - val_accuracy: 0.9528\n",
      "Epoch 63/100\n",
      "1638/1638 [==============================] - 39s 24ms/step - loss: 0.1084 - accuracy: 0.9663 - val_loss: 0.1895 - val_accuracy: 0.9516\n",
      "Epoch 64/100\n",
      "1638/1638 [==============================] - 37s 23ms/step - loss: 0.1068 - accuracy: 0.9667 - val_loss: 0.1866 - val_accuracy: 0.9509\n",
      "Epoch 65/100\n",
      "1638/1638 [==============================] - 39s 24ms/step - loss: 0.1077 - accuracy: 0.9665 - val_loss: 0.1853 - val_accuracy: 0.9513\n",
      "Epoch 66/100\n",
      "1638/1638 [==============================] - 37s 23ms/step - loss: 0.1070 - accuracy: 0.9667 - val_loss: 0.1831 - val_accuracy: 0.9523\n",
      "Epoch 67/100\n",
      "1638/1638 [==============================] - 37s 22ms/step - loss: 0.1061 - accuracy: 0.9670 - val_loss: 0.1823 - val_accuracy: 0.9525\n",
      "Epoch 68/100\n",
      "1638/1638 [==============================] - 37s 23ms/step - loss: 0.1068 - accuracy: 0.9667 - val_loss: 0.1883 - val_accuracy: 0.9521\n",
      "Epoch 69/100\n",
      "1638/1638 [==============================] - 37s 22ms/step - loss: 0.1057 - accuracy: 0.9669 - val_loss: 0.1916 - val_accuracy: 0.9504\n",
      "Epoch 70/100\n",
      "1638/1638 [==============================] - 39s 24ms/step - loss: 0.1055 - accuracy: 0.9671 - val_loss: 0.1833 - val_accuracy: 0.9508\n",
      "Epoch 71/100\n",
      "1638/1638 [==============================] - 39s 24ms/step - loss: 0.1050 - accuracy: 0.9673 - val_loss: 0.1826 - val_accuracy: 0.9519\n",
      "Epoch 72/100\n",
      "1638/1638 [==============================] - 37s 23ms/step - loss: 0.1050 - accuracy: 0.9673 - val_loss: 0.1912 - val_accuracy: 0.9526\n",
      "Epoch 73/100\n",
      "1638/1638 [==============================] - 37s 22ms/step - loss: 0.1041 - accuracy: 0.9673 - val_loss: 0.1919 - val_accuracy: 0.9521\n",
      "Epoch 74/100\n",
      "1638/1638 [==============================] - 37s 23ms/step - loss: 0.1037 - accuracy: 0.9676 - val_loss: 0.1936 - val_accuracy: 0.9491\n",
      "Epoch 75/100\n",
      "1638/1638 [==============================] - 39s 24ms/step - loss: 0.1044 - accuracy: 0.9673 - val_loss: 0.1855 - val_accuracy: 0.9517\n",
      "Epoch 76/100\n",
      "1638/1638 [==============================] - 37s 23ms/step - loss: 0.1037 - accuracy: 0.9675 - val_loss: 0.1932 - val_accuracy: 0.9492\n",
      "Epoch 77/100\n",
      "1638/1638 [==============================] - 37s 22ms/step - loss: 0.1031 - accuracy: 0.9678 - val_loss: 0.1846 - val_accuracy: 0.9513\n",
      "Epoch 78/100\n",
      "1638/1638 [==============================] - 37s 22ms/step - loss: 0.1024 - accuracy: 0.9678 - val_loss: 0.1880 - val_accuracy: 0.9508\n",
      "Epoch 79/100\n",
      "1638/1638 [==============================] - 37s 22ms/step - loss: 0.1026 - accuracy: 0.9677 - val_loss: 0.1842 - val_accuracy: 0.9529\n",
      "Epoch 80/100\n",
      "1638/1638 [==============================] - 39s 24ms/step - loss: 0.1020 - accuracy: 0.9680 - val_loss: 0.1849 - val_accuracy: 0.9537\n",
      "Epoch 81/100\n",
      "1638/1638 [==============================] - 39s 24ms/step - loss: 0.1018 - accuracy: 0.9681 - val_loss: 0.1914 - val_accuracy: 0.9517\n",
      "Epoch 82/100\n",
      "1638/1638 [==============================] - 39s 24ms/step - loss: 0.1009 - accuracy: 0.9682 - val_loss: 0.1958 - val_accuracy: 0.9512\n",
      "Epoch 83/100\n",
      "1638/1638 [==============================] - 37s 22ms/step - loss: 0.1016 - accuracy: 0.9680 - val_loss: 0.1893 - val_accuracy: 0.9522\n",
      "Epoch 84/100\n",
      "1638/1638 [==============================] - 37s 23ms/step - loss: 0.1015 - accuracy: 0.9681 - val_loss: 0.1834 - val_accuracy: 0.9514\n",
      "Epoch 85/100\n",
      "1638/1638 [==============================] - 39s 24ms/step - loss: 0.1009 - accuracy: 0.9684 - val_loss: 0.1885 - val_accuracy: 0.9531\n",
      "Epoch 86/100\n",
      "1638/1638 [==============================] - 39s 24ms/step - loss: 0.1002 - accuracy: 0.9685 - val_loss: 0.1892 - val_accuracy: 0.9506\n",
      "Epoch 87/100\n",
      "1638/1638 [==============================] - 39s 24ms/step - loss: 0.0998 - accuracy: 0.9685 - val_loss: 0.1916 - val_accuracy: 0.9518\n",
      "Epoch 88/100\n",
      "1638/1638 [==============================] - 37s 23ms/step - loss: 0.1000 - accuracy: 0.9685 - val_loss: 0.1855 - val_accuracy: 0.9537\n",
      "Epoch 89/100\n",
      "1638/1638 [==============================] - 39s 24ms/step - loss: 0.1005 - accuracy: 0.9683 - val_loss: 0.1865 - val_accuracy: 0.9518\n",
      "Epoch 90/100\n",
      "1638/1638 [==============================] - 39s 24ms/step - loss: 0.0991 - accuracy: 0.9687 - val_loss: 0.1900 - val_accuracy: 0.9516\n",
      "Epoch 91/100\n",
      "1638/1638 [==============================] - 37s 22ms/step - loss: 0.0994 - accuracy: 0.9687 - val_loss: 0.1975 - val_accuracy: 0.9523\n",
      "Epoch 92/100\n",
      "1638/1638 [==============================] - 37s 23ms/step - loss: 0.0974 - accuracy: 0.9693 - val_loss: 0.1924 - val_accuracy: 0.9500\n",
      "Epoch 93/100\n",
      "1638/1638 [==============================] - 37s 22ms/step - loss: 0.0992 - accuracy: 0.9687 - val_loss: 0.1934 - val_accuracy: 0.9500\n",
      "Epoch 94/100\n",
      "1638/1638 [==============================] - 39s 24ms/step - loss: 0.0983 - accuracy: 0.9691 - val_loss: 0.2268 - val_accuracy: 0.9387\n",
      "Epoch 95/100\n",
      "1638/1638 [==============================] - 37s 23ms/step - loss: 0.0983 - accuracy: 0.9691 - val_loss: 0.1880 - val_accuracy: 0.9538\n",
      "Epoch 96/100\n",
      "1638/1638 [==============================] - 37s 23ms/step - loss: 0.0973 - accuracy: 0.9693 - val_loss: 0.1884 - val_accuracy: 0.9523\n",
      "Epoch 97/100\n",
      "1638/1638 [==============================] - 37s 23ms/step - loss: 0.0975 - accuracy: 0.9692 - val_loss: 0.1875 - val_accuracy: 0.9533\n",
      "Epoch 98/100\n",
      "1638/1638 [==============================] - 37s 22ms/step - loss: 0.0970 - accuracy: 0.9693 - val_loss: 0.2055 - val_accuracy: 0.9448\n",
      "Epoch 99/100\n",
      "1638/1638 [==============================] - 39s 24ms/step - loss: 0.0968 - accuracy: 0.9693 - val_loss: 0.1905 - val_accuracy: 0.9532\n",
      "Epoch 100/100\n",
      "1638/1638 [==============================] - 39s 24ms/step - loss: 0.0964 - accuracy: 0.9694 - val_loss: 0.1991 - val_accuracy: 0.9496\n",
      "CNN took 3803.2065773010254 milliseconds to train Multiclass data.\n",
      "\n"
     ]
    }
   ],
   "source": [
    "import time\n",
    "start = time.time()\n",
    "history=textcnnmodel.fit(X_train,y_train,\n",
    "                     epochs=100,\n",
    "                     verbose=True,\n",
    "                     validation_data=(X_test, y_test),\n",
    "                     batch_size=1000)\n",
    "end  = time.time()\n",
    "print(\"CNN took {} milliseconds to train Multiclass data.\\n\".format(end-start))"
   ]
  },
  {
   "cell_type": "code",
   "execution_count": null,
   "metadata": {
    "colab": {
     "base_uri": "https://localhost:8080/"
    },
    "id": "BR3GFBlyyd3B",
    "outputId": "ff681dd5-075f-4340-fabe-69a19eaf4237"
   },
   "outputs": [
    {
     "name": "stdout",
     "output_type": "stream",
     "text": [
      "Training Accuracy: 0.9703\n",
      "Testing Accuracy:  0.9496\n"
     ]
    }
   ],
   "source": [
    "loss, accuracy = textcnnmodel.evaluate(X_train, y_train, verbose=False)\n",
    "print(\"Training Accuracy: {:.4f}\".format(accuracy))\n",
    "loss, accuracy = textcnnmodel.evaluate(X_test, y_test, verbose=False)\n",
    "print(\"Testing Accuracy:  {:.4f}\".format(accuracy)) "
   ]
  },
  {
   "cell_type": "code",
   "execution_count": null,
   "metadata": {
    "colab": {
     "base_uri": "https://localhost:8080/"
    },
    "id": "buksXJSGyd3C",
    "outputId": "c7dff4b8-d527-4ad6-d70c-753f2c58e7d3"
   },
   "outputs": [
    {
     "name": "stdout",
     "output_type": "stream",
     "text": [
      "LSTM took 18.27788496017456 milliseconds to test data.\n",
      "\n"
     ]
    }
   ],
   "source": [
    "start = time.time()\n",
    "y_lstmpred = textcnnmodel.predict(X_test)\n",
    "end  = time.time()\n",
    "print(\"LSTM took {} milliseconds to test data.\\n\".format(end-start))"
   ]
  },
  {
   "cell_type": "code",
   "execution_count": null,
   "metadata": {
    "colab": {
     "base_uri": "https://localhost:8080/"
    },
    "id": "sv5w7BOAyd3D",
    "outputId": "c155b3a5-e722-411a-d303-99f35bd911c2"
   },
   "outputs": [
    {
     "name": "stdout",
     "output_type": "stream",
     "text": [
      "              precision    recall  f1-score   support\n",
      "\n",
      "           0       1.00      1.00      1.00      2000\n",
      "           1       1.00      1.00      1.00      2035\n",
      "           2       1.00      1.00      1.00      2049\n",
      "           3       1.00      1.00      1.00     93982\n",
      "           4       0.88      1.00      0.94      2104\n",
      "           5       1.00      1.00      1.00      2047\n",
      "           6       1.00      1.00      1.00      2141\n",
      "           7       0.96      0.98      0.97      2071\n",
      "           8       0.96      0.99      0.97      2111\n",
      "           9       1.00      1.00      1.00      1997\n",
      "          10       0.89      0.98      0.93      2215\n",
      "          11       0.91      0.99      0.95      2053\n",
      "          12       1.00      1.00      1.00      2089\n",
      "          13       0.92      0.94      0.93     74711\n",
      "          14       1.00      0.99      0.99      2035\n",
      "          15       0.99      1.00      1.00      2051\n",
      "          16       0.51      0.29      0.37      6009\n",
      "          17       0.97      0.99      0.98      2138\n",
      "          18       0.99      1.00      0.99      2096\n",
      "          19       0.91      0.98      0.94      2454\n",
      "          20       1.00      1.00      1.00      2010\n",
      "          21       1.00      1.00      1.00      2085\n",
      "          22       0.98      0.97      0.97     82933\n",
      "          23       0.87      0.94      0.91      2064\n",
      "          24       1.00      1.00      1.00      2141\n",
      "          25       0.92      1.00      0.96      2075\n",
      "          26       1.00      1.00      1.00      2122\n",
      "          27       0.71      0.54      0.61      1712\n",
      "          28       0.98      0.99      0.98      2036\n",
      "          29       0.71      0.23      0.35       565\n",
      "          30       0.51      0.11      0.17      2010\n",
      "          31       0.93      0.91      0.92      1087\n",
      "          32       0.98      0.99      0.98      2113\n",
      "          33       1.00      1.00      1.00      2113\n",
      "          34       0.99      1.00      1.00      2087\n",
      "          35       0.99      1.00      0.99      2061\n",
      "          36       0.96      0.98      0.97      9042\n",
      "          37       0.90      1.00      0.94      2067\n",
      "          38       0.97      0.99      0.98      2045\n",
      "          39       0.99      0.99      0.99      2066\n",
      "          40       0.43      0.25      0.32      3948\n",
      "          41       0.18      0.04      0.06      2195\n",
      "          42       0.99      0.99      0.99     20778\n",
      "          43       0.53      0.64      0.58       537\n",
      "          44       0.90      0.82      0.85      1186\n",
      "          45       0.95      0.98      0.97      5617\n",
      "          46       0.97      0.99      0.98      2162\n",
      "          47       0.65      0.57      0.61       821\n",
      "          48       0.98      1.00      0.99      2079\n",
      "          49       0.97      0.95      0.96     18938\n",
      "          50       1.00      1.00      1.00      2087\n",
      "          51       1.00      1.00      1.00      2083\n",
      "          52       0.99      1.00      0.99      2020\n",
      "          53       0.97      0.98      0.98      2054\n",
      "          54       0.99      1.00      1.00      2034\n",
      "          55       0.76      0.67      0.72      1919\n",
      "          56       1.00      1.00      1.00      2028\n",
      "\n",
      "   micro avg       0.96      0.94      0.95    409308\n",
      "   macro avg       0.90      0.89      0.89    409308\n",
      "weighted avg       0.95      0.94      0.94    409308\n",
      " samples avg       0.94      0.94      0.94    409308\n",
      "\n"
     ]
    },
    {
     "name": "stderr",
     "output_type": "stream",
     "text": [
      "/usr/local/lib/python3.7/dist-packages/sklearn/metrics/_classification.py:1318: UndefinedMetricWarning: Precision and F-score are ill-defined and being set to 0.0 in samples with no predicted labels. Use `zero_division` parameter to control this behavior.\n",
      "  _warn_prf(average, modifier, msg_start, len(result))\n"
     ]
    }
   ],
   "source": [
    "from sklearn.metrics import classification_report\n",
    "y_lstmpred=(y_lstmpred > 0.5)\n",
    "print(classification_report(y_test, y_lstmpred))"
   ]
  },
  {
   "cell_type": "code",
   "execution_count": null,
   "metadata": {
    "colab": {
     "base_uri": "https://localhost:8080/",
     "height": 573
    },
    "id": "QD6dQqUPyd3E",
    "outputId": "9c637bf9-c534-4aea-ca7b-7224eb5816be"
   },
   "outputs": [
    {
     "data": {
      "image/png": "[encoded data removed]",
      "text/plain": [
       "<Figure size 432x288 with 1 Axes>"
      ]
     },
     "metadata": {
      "needs_background": "light"
     },
     "output_type": "display_data"
    },
    {
     "data": {
      "image/png": "[encoded data removed]",
      "text/plain": [
       "<Figure size 432x288 with 1 Axes>"
      ]
     },
     "metadata": {
      "needs_background": "light"
     },
     "output_type": "display_data"
    }
   ],
   "source": [
    "def Training_and_validation_plot(history):\n",
    "    acc = history.history['accuracy']\n",
    "    val_acc = history.history['val_accuracy']\n",
    "    loss = history.history['loss']\n",
    "    val_loss = history.history['val_loss']\n",
    "    epochs = range(1, len(acc) + 1)\n",
    "\n",
    "    plt.plot(epochs, acc, 'bo', label = 'Training Accuracy')\n",
    "    plt.plot(epochs, val_acc, 'r', label = 'Validation Accuracy')\n",
    "    plt.title('Training and Validation Accuracy')\n",
    "    plt.xlabel('Epochs')\n",
    "    plt.ylabel('Loss')\n",
    "    plt.legend()\n",
    "\n",
    "    plt.figure()\n",
    "    plt.plot(epochs, loss, 'bo', label = 'Training Loss')\n",
    "    plt.plot(epochs, val_loss, 'r', label = 'Validation Loss')\n",
    "    plt.title('Training and Validation Loss')\n",
    "    plt.xlabel('Epochs')\n",
    "    plt.ylabel('Loss')\n",
    "    plt.legend()\n",
    "    plt.show()\n",
    "Training_and_validation_plot(history)"
   ]
  },
  {
   "cell_type": "code",
   "execution_count": null,
   "metadata": {
    "colab": {
     "base_uri": "https://localhost:8080/"
    },
    "id": "VqbJMHFGyd3F",
    "outputId": "6292a058-08d9-4ee2-a668-8bb004fb6a37"
   },
   "outputs": [
    {
     "name": "stdout",
     "output_type": "stream",
     "text": [
      "INFO:tensorflow:Assets written to: ram://4fa0dfbc-34b1-4bf4-a1bd-1f80ac2c9865/assets\n"
     ]
    }
   ],
   "source": [
    "import pickle\n",
    "# save the model to disk\n",
    "filename = '/content/drive/My Drive/Colab Notebooks/Mcnnmodel_128x5,1000x100.sav'\n",
    "pickle.dump(textcnnmodel, open(filename, 'wb'))"
   ]
  }
 ],
 "metadata": {
  "colab": {
   "provenance": []
  },
  "kernelspec": {
   "display_name": "Python 3 (ipykernel)",
   "language": "python",
   "name": "python3"
  },
  "language_info": {
   "codemirror_mode": {
    "name": "ipython",
    "version": 3
   },
   "file_extension": ".py",
   "mimetype": "text/x-python",
   "name": "python",
   "nbconvert_exporter": "python",
   "pygments_lexer": "ipython3",
   "version": "3.10.9"
  }
 },
 "nbformat": 4,
 "nbformat_minor": 1
}
