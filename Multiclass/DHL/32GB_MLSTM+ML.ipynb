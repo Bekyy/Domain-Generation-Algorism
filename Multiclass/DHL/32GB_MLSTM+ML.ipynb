{
  "cells": [
    {
      "cell_type": "code",
      "execution_count": null,
      "metadata": {
        "id": "PRA4adyjdWcn"
      },
      "outputs": [],
      "source": [
        "import tensorflow as tf\n",
        "import matplotlib.image as img\n",
        "import numpy as np\n",
        "from collections import defaultdict\n",
        "import collections\n",
        "import matplotlib.pyplot as plt\n",
        "import os\n",
        "import random\n",
        "from tensorflow import keras\n",
        "from tensorflow.keras import models\n",
        "import pandas as pd\n",
        "import math\n",
        "from collections import Counter\n",
        "from sklearn.model_selection import train_test_split\n",
        "from sklearn.model_selection import GridSearchCV"
      ]
    },
    {
      "cell_type": "code",
      "execution_count": null,
      "metadata": {
        "colab": {
          "base_uri": "https://localhost:8080/"
        },
        "id": "y2NbzC-Kd4yP",
        "outputId": "e6c72b0b-b996-4f0e-b078-aa44ed9f3743"
      },
      "outputs": [
        {
          "output_type": "stream",
          "name": "stdout",
          "text": [
            "2.8.2\n",
            "\n"
          ]
        }
      ],
      "source": [
        "# Check if GPU is enabled\n",
        "print(tf.__version__)\n",
        "print(tf.test.gpu_device_name())"
      ]
    },
    {
      "cell_type": "code",
      "execution_count": null,
      "metadata": {
        "colab": {
          "base_uri": "https://localhost:8080/"
        },
        "id": "-miIBab7lnn8",
        "outputId": "3c648335-32d9-4900-f8b1-d659369e479f"
      },
      "outputs": [
        {
          "output_type": "stream",
          "name": "stdout",
          "text": [
            "Mounted at /content/drive\n"
          ]
        }
      ],
      "source": [
        "from google.colab import drive\n",
        "drive.mount('/content/drive')"
      ]
    },
    {
      "cell_type": "markdown",
      "metadata": {
        "id": "N5I3H70AHjIh"
      },
      "source": [
        "## Load both legitmate & DGA domains"
      ]
    },
    {
      "cell_type": "code",
      "execution_count": null,
      "metadata": {
        "colab": {
          "base_uri": "https://localhost:8080/",
          "height": 206
        },
        "id": "dcNuKohwKnIO",
        "outputId": "9bcf84a5-bbc4-4d96-af2e-205a119feb42"
      },
      "outputs": [
        {
          "output_type": "execute_result",
          "data": {
            "text/plain": [
              "      domain_name   label      domain\n",
              "0  odqzesdvd.info  nymaim   odqzesdvd\n",
              "1  mcrwnxdzu.info  nymaim   mcrwnxdzu\n",
              "2  poxrscvfoy.biz  nymaim  poxrscvfoy\n",
              "3     dupzwi.info  nymaim      dupzwi\n",
              "4     pgldibr.com  nymaim     pgldibr"
            ],
            "text/html": [
              "\n",
              "  <div id=\"df-e2eb9ad2-713b-4c85-88de-eca15569d37e\">\n",
              "    <div class=\"colab-df-container\">\n",
              "      <div>\n",
              "<style scoped>\n",
              "    .dataframe tbody tr th:only-of-type {\n",
              "        vertical-align: middle;\n",
              "    }\n",
              "\n",
              "    .dataframe tbody tr th {\n",
              "        vertical-align: top;\n",
              "    }\n",
              "\n",
              "    .dataframe thead th {\n",
              "        text-align: right;\n",
              "    }\n",
              "</style>\n",
              "<table border=\"1\" class=\"dataframe\">\n",
              "  <thead>\n",
              "    <tr style=\"text-align: right;\">\n",
              "      <th></th>\n",
              "      <th>domain_name</th>\n",
              "      <th>label</th>\n",
              "      <th>domain</th>\n",
              "    </tr>\n",
              "  </thead>\n",
              "  <tbody>\n",
              "    <tr>\n",
              "      <th>0</th>\n",
              "      <td>odqzesdvd.info</td>\n",
              "      <td>nymaim</td>\n",
              "      <td>odqzesdvd</td>\n",
              "    </tr>\n",
              "    <tr>\n",
              "      <th>1</th>\n",
              "      <td>mcrwnxdzu.info</td>\n",
              "      <td>nymaim</td>\n",
              "      <td>mcrwnxdzu</td>\n",
              "    </tr>\n",
              "    <tr>\n",
              "      <th>2</th>\n",
              "      <td>poxrscvfoy.biz</td>\n",
              "      <td>nymaim</td>\n",
              "      <td>poxrscvfoy</td>\n",
              "    </tr>\n",
              "    <tr>\n",
              "      <th>3</th>\n",
              "      <td>dupzwi.info</td>\n",
              "      <td>nymaim</td>\n",
              "      <td>dupzwi</td>\n",
              "    </tr>\n",
              "    <tr>\n",
              "      <th>4</th>\n",
              "      <td>pgldibr.com</td>\n",
              "      <td>nymaim</td>\n",
              "      <td>pgldibr</td>\n",
              "    </tr>\n",
              "  </tbody>\n",
              "</table>\n",
              "</div>\n",
              "      <button class=\"colab-df-convert\" onclick=\"convertToInteractive('df-e2eb9ad2-713b-4c85-88de-eca15569d37e')\"\n",
              "              title=\"Convert this dataframe to an interactive table.\"\n",
              "              style=\"display:none;\">\n",
              "        \n",
              "  <svg xmlns=\"http://www.w3.org/2000/svg\" height=\"24px\"viewBox=\"0 0 24 24\"\n",
              "       width=\"24px\">\n",
              "    <path d=\"M0 0h24v24H0V0z\" fill=\"none\"/>\n",
              "    <path d=\"M18.56 5.44l.94 2.06.94-2.06 2.06-.94-2.06-.94-.94-2.06-.94 2.06-2.06.94zm-11 1L8.5 8.5l.94-2.06 2.06-.94-2.06-.94L8.5 2.5l-.94 2.06-2.06.94zm10 10l.94 2.06.94-2.06 2.06-.94-2.06-.94-.94-2.06-.94 2.06-2.06.94z\"/><path d=\"M17.41 7.96l-1.37-1.37c-.4-.4-.92-.59-1.43-.59-.52 0-1.04.2-1.43.59L10.3 9.45l-7.72 7.72c-.78.78-.78 2.05 0 2.83L4 21.41c.39.39.9.59 1.41.59.51 0 1.02-.2 1.41-.59l7.78-7.78 2.81-2.81c.8-.78.8-2.07 0-2.86zM5.41 20L4 18.59l7.72-7.72 1.47 1.35L5.41 20z\"/>\n",
              "  </svg>\n",
              "      </button>\n",
              "      \n",
              "  <style>\n",
              "    .colab-df-container {\n",
              "      display:flex;\n",
              "      flex-wrap:wrap;\n",
              "      gap: 12px;\n",
              "    }\n",
              "\n",
              "    .colab-df-convert {\n",
              "      background-color: #E8F0FE;\n",
              "      border: none;\n",
              "      border-radius: 50%;\n",
              "      cursor: pointer;\n",
              "      display: none;\n",
              "      fill: #1967D2;\n",
              "      height: 32px;\n",
              "      padding: 0 0 0 0;\n",
              "      width: 32px;\n",
              "    }\n",
              "\n",
              "    .colab-df-convert:hover {\n",
              "      background-color: #E2EBFA;\n",
              "      box-shadow: 0px 1px 2px rgba(60, 64, 67, 0.3), 0px 1px 3px 1px rgba(60, 64, 67, 0.15);\n",
              "      fill: #174EA6;\n",
              "    }\n",
              "\n",
              "    [theme=dark] .colab-df-convert {\n",
              "      background-color: #3B4455;\n",
              "      fill: #D2E3FC;\n",
              "    }\n",
              "\n",
              "    [theme=dark] .colab-df-convert:hover {\n",
              "      background-color: #434B5C;\n",
              "      box-shadow: 0px 1px 3px 1px rgba(0, 0, 0, 0.15);\n",
              "      filter: drop-shadow(0px 1px 2px rgba(0, 0, 0, 0.3));\n",
              "      fill: #FFFFFF;\n",
              "    }\n",
              "  </style>\n",
              "\n",
              "      <script>\n",
              "        const buttonEl =\n",
              "          document.querySelector('#df-e2eb9ad2-713b-4c85-88de-eca15569d37e button.colab-df-convert');\n",
              "        buttonEl.style.display =\n",
              "          google.colab.kernel.accessAllowed ? 'block' : 'none';\n",
              "\n",
              "        async function convertToInteractive(key) {\n",
              "          const element = document.querySelector('#df-e2eb9ad2-713b-4c85-88de-eca15569d37e');\n",
              "          const dataTable =\n",
              "            await google.colab.kernel.invokeFunction('convertToInteractive',\n",
              "                                                     [key], {});\n",
              "          if (!dataTable) return;\n",
              "\n",
              "          const docLinkHtml = 'Like what you see? Visit the ' +\n",
              "            '<a target=\"_blank\" href=https://colab.research.google.com/notebooks/data_table.ipynb>data table notebook</a>'\n",
              "            + ' to learn more about interactive tables.';\n",
              "          element.innerHTML = '';\n",
              "          dataTable['output_type'] = 'display_data';\n",
              "          await google.colab.output.renderOutput(dataTable, element);\n",
              "          const docLink = document.createElement('div');\n",
              "          docLink.innerHTML = docLinkHtml;\n",
              "          element.appendChild(docLink);\n",
              "        }\n",
              "      </script>\n",
              "    </div>\n",
              "  </div>\n",
              "  "
            ]
          },
          "metadata": {},
          "execution_count": 4
        }
      ],
      "source": [
        "Domain_data = pd.read_csv('/content/drive/My Drive/Colab Notebooks/DLDomain_MCLS2.csv')\n",
        "Domain_data.drop([\"Unnamed: 0\"], axis=1, inplace=True)\n",
        "Domain_data.head()"
      ]
    },
    {
      "cell_type": "code",
      "execution_count": null,
      "metadata": {
        "id": "zOaJq7LWLCHS"
      },
      "outputs": [],
      "source": [
        "grouped = Domain_data.groupby('label')\n",
        "Domain_data = grouped.filter(lambda x: x['label'].count() > 5.)"
      ]
    },
    {
      "cell_type": "code",
      "execution_count": null,
      "metadata": {
        "id": "ByvYS93UKzJW"
      },
      "outputs": [],
      "source": [
        "Domain_data.domain=Domain_data.domain.astype(str)"
      ]
    },
    {
      "cell_type": "code",
      "execution_count": null,
      "metadata": {
        "id": "i_ei54QWY3gO"
      },
      "outputs": [],
      "source": [
        "from sklearn.preprocessing import LabelEncoder\n",
        "X = Domain_data.domain\n",
        "Y = Domain_data['label']"
      ]
    },
    {
      "cell_type": "code",
      "execution_count": null,
      "metadata": {
        "id": "2N1bHJUvMWZX"
      },
      "outputs": [],
      "source": [
        "#from sklearn.preprocessing import LabelBinarizer\n",
        "#Y = LabelBinarizer().fit_transform(Y)"
      ]
    },
    {
      "cell_type": "code",
      "source": [
        "grouped=Domain_data['label'].groupby(Domain_data['label'])\n",
        "grouped.count()"
      ],
      "metadata": {
        "colab": {
          "base_uri": "https://localhost:8080/"
        },
        "id": "OqJfWsfq64WW",
        "outputId": "43e2e1a8-db5f-4c35-aee4-bf7a9c8b8ef7"
      },
      "execution_count": null,
      "outputs": [
        {
          "output_type": "execute_result",
          "data": {
            "text/plain": [
              "label\n",
              "abcbot                27\n",
              "antavmu               16\n",
              "bamital              104\n",
              "banjori           469896\n",
              "bigviktor           1000\n",
              "chinad              1000\n",
              "conficker            492\n",
              "copperstealer         11\n",
              "cryptolocker        1000\n",
              "dircrypt             736\n",
              "dyre                1000\n",
              "emotet            500540\n",
              "enviserv             492\n",
              "feodo                247\n",
              "flubot             29999\n",
              "fobber_v1            298\n",
              "fobber_v2            299\n",
              "gameover           12000\n",
              "gspy                 100\n",
              "kfos                 124\n",
              "legit             613032\n",
              "locky               1158\n",
              "matsnu               908\n",
              "murofet             8560\n",
              "mydoom             10047\n",
              "necro               2708\n",
              "necurs              8190\n",
              "ngioweb             5274\n",
              "nymaim               333\n",
              "omexo                 40\n",
              "padcrypt             168\n",
              "proslikefan          100\n",
              "pykspa_v1          44675\n",
              "pykspa_v2_fake       800\n",
              "pykspa_v2_real       199\n",
              "qadars              2000\n",
              "ramnit             19532\n",
              "ranbyus            11160\n",
              "rovnix            179995\n",
              "shifu               2545\n",
              "shiotob             6015\n",
              "simda              28121\n",
              "suppobox            2298\n",
              "symmi               4256\n",
              "tempedreve           193\n",
              "tinba              93707\n",
              "tinynuke              32\n",
              "tofsee                20\n",
              "tordwm               510\n",
              "vawtrak              842\n",
              "vidro                100\n",
              "virut               9733\n",
              "Name: label, dtype: int64"
            ]
          },
          "metadata": {},
          "execution_count": 8
        }
      ]
    },
    {
      "cell_type": "code",
      "execution_count": null,
      "metadata": {
        "id": "bFlYDW419nku"
      },
      "outputs": [],
      "source": [
        "le=LabelEncoder()\n",
        "Y = le.fit_transform(Y)"
      ]
    },
    {
      "cell_type": "code",
      "execution_count": null,
      "metadata": {
        "id": "6fl2GHSlZaKu"
      },
      "outputs": [],
      "source": [
        "from keras.preprocessing.text import Tokenizer\n",
        "from keras.preprocessing import sequence\n",
        "from keras.models import Sequential\n",
        "\n",
        "#max_words = num_words\n",
        "max_len = 50\n",
        "\n",
        "# Tokenizer\n",
        "tok = Tokenizer(num_words=None, char_level=True, oov_token='UNK')\n",
        "tok.fit_on_texts(X)\n",
        "sequences = tok.texts_to_sequences(X)\n",
        "sequences_matrix = sequence.pad_sequences(sequences,padding='post',maxlen=max_len)"
      ]
    },
    {
      "cell_type": "code",
      "execution_count": null,
      "metadata": {
        "id": "B4QPgo4XLIe_"
      },
      "outputs": [],
      "source": [
        "X_train, X_test, y_train, y_test = train_test_split(sequences_matrix, Y, test_size=0.20,random_state=42)"
      ]
    },
    {
      "cell_type": "code",
      "execution_count": null,
      "metadata": {
        "id": "0nBVMaMdLIfA"
      },
      "outputs": [],
      "source": [
        "from imblearn.over_sampling import RandomOverSampler\n",
        "strategy = {0:16613,1:16613,2:16613, 4:16613, 5:16613,  6:16613,7:16613, 8:16613, 9:16613, 10:16613, 12:16613, 13:16613, 15:16613, 16:16613, 18:16613, 17:16613,19:16613,21:16613, 22:16613,23:16613, 24:16613,25:16613, 26:16613,27:16613,28:16613,29:16613,30:16613,31:16613,33:16613,34:16613,35:16613,37:16613,42:16613,39:16613,40:16613,43:16613,44:16613,46:16613,47:16613, 48:16613, 49:16613,50:16613,51:16613}\n",
        "#for i in minmum_classes:\n",
        "ovrsmt = RandomOverSampler(sampling_strategy=strategy)"
      ]
    },
    {
      "cell_type": "code",
      "execution_count": null,
      "metadata": {
        "id": "_8YUFt_xLIfB"
      },
      "outputs": [],
      "source": [
        "from imblearn.under_sampling import RandomUnderSampler\n",
        "udrsmt = RandomUnderSampler(sampling_strategy={38:143527,20:203528,11:193527,3:193529})"
      ]
    },
    {
      "cell_type": "code",
      "execution_count": null,
      "metadata": {
        "id": "NyWrOJPiJ5uQ"
      },
      "outputs": [],
      "source": [
        "from imblearn.pipeline import Pipeline\n",
        "steps = [('o', ovrsmt), ('u', udrsmt)]\n",
        "pipeline = Pipeline(steps=steps)"
      ]
    },
    {
      "cell_type": "code",
      "execution_count": null,
      "metadata": {
        "id": "XykMUS8uJ8VP"
      },
      "outputs": [],
      "source": [
        "X_train, y_train = pipeline.fit_resample(X_train, y_train)"
      ]
    },
    {
      "cell_type": "code",
      "execution_count": null,
      "metadata": {
        "id": "Ww-Nh62NVFl5"
      },
      "outputs": [],
      "source": [
        "import pickle\n",
        "# save the model to disk\n",
        "filename = '/content/drive/My Drive/Colab Notebooks/MX_train_sm.csv'\n",
        "pickle.dump(X_train, open(filename, 'wb'))"
      ]
    },
    {
      "cell_type": "code",
      "execution_count": null,
      "metadata": {
        "id": "MYki7OWLZIwD"
      },
      "outputs": [],
      "source": [
        "filename = '/content/drive/My Drive/Colab Notebooks/MX_test_sm.csv'\n",
        "pickle.dump(X_test, open(filename, 'wb'))\n"
      ]
    },
    {
      "cell_type": "code",
      "execution_count": null,
      "metadata": {
        "id": "3zDZp0RVZLkS"
      },
      "outputs": [],
      "source": [
        "filename = '/content/drive/My Drive/Colab Notebooks/My_train_sm.csv'\n",
        "pickle.dump(y_train, open(filename, 'wb'))"
      ]
    },
    {
      "cell_type": "code",
      "execution_count": null,
      "metadata": {
        "id": "GzFJeY4WZOMi"
      },
      "outputs": [],
      "source": [
        "filename = '/content/drive/My Drive/Colab Notebooks/My_test_sm.csv'\n",
        "pickle.dump(y_test, open(filename, 'wb'))"
      ]
    },
    {
      "cell_type": "code",
      "execution_count": null,
      "metadata": {
        "id": "S8pJm98VVa4K"
      },
      "outputs": [],
      "source": [
        "y_train=pd.Series(y_train)\n",
        "weights = y_train.value_counts()/len(Domain_data)\n",
        "weights = dict(zip(np.unique(y_train), weights))"
      ]
    },
    {
      "cell_type": "code",
      "execution_count": null,
      "metadata": {
        "colab": {
          "base_uri": "https://localhost:8080/"
        },
        "id": "vkSN2ONfbt4H",
        "outputId": "0dba84b1-e46b-43b8-feba-071b7ef5066b"
      },
      "outputs": [
        {
          "data": {
            "text/plain": [
              "{0: 0.09800869870058826,\n",
              " 1: 0.09319369055277969,\n",
              " 2: 0.09319272745484034,\n",
              " 3: 0.06911527897094911,\n",
              " 4: 0.03610413400159489,\n",
              " 5: 0.017259196622222906,\n",
              " 6: 0.01156536160475231,\n",
              " 7: 0.010801143389873603,\n",
              " 8: 0.007999973033257697,\n",
              " 9: 0.007999973033257697,\n",
              " 10: 0.007999973033257697,\n",
              " 11: 0.007999973033257697,\n",
              " 12: 0.007999973033257697,\n",
              " 13: 0.007999973033257697,\n",
              " 14: 0.007999973033257697,\n",
              " 15: 0.007999973033257697,\n",
              " 16: 0.007999973033257697,\n",
              " 17: 0.007999973033257697,\n",
              " 18: 0.007999973033257697,\n",
              " 19: 0.007999973033257697,\n",
              " 20: 0.007999973033257697,\n",
              " 21: 0.007999973033257697,\n",
              " 22: 0.007999973033257697,\n",
              " 23: 0.007999973033257697,\n",
              " 24: 0.007999973033257697,\n",
              " 25: 0.007999973033257697,\n",
              " 26: 0.007999973033257697,\n",
              " 27: 0.007999973033257697,\n",
              " 28: 0.007999973033257697,\n",
              " 29: 0.007999973033257697,\n",
              " 30: 0.007999973033257697,\n",
              " 31: 0.007999973033257697,\n",
              " 32: 0.007999973033257697,\n",
              " 33: 0.007999973033257697,\n",
              " 34: 0.007999973033257697,\n",
              " 35: 0.007999973033257697,\n",
              " 36: 0.007999973033257697,\n",
              " 37: 0.007999973033257697,\n",
              " 38: 0.007999973033257697,\n",
              " 39: 0.007999973033257697,\n",
              " 40: 0.007999973033257697,\n",
              " 41: 0.007999973033257697,\n",
              " 42: 0.007999973033257697,\n",
              " 43: 0.007999973033257697,\n",
              " 44: 0.007999973033257697,\n",
              " 45: 0.007999973033257697,\n",
              " 46: 0.007999973033257697,\n",
              " 47: 0.007999973033257697,\n",
              " 48: 0.007999973033257697,\n",
              " 49: 0.007999973033257697,\n",
              " 50: 0.007999973033257697,\n",
              " 51: 0.0074996436537624386}"
            ]
          },
          "execution_count": 35,
          "metadata": {},
          "output_type": "execute_result"
        }
      ],
      "source": [
        "weights"
      ]
    },
    {
      "cell_type": "code",
      "execution_count": null,
      "metadata": {
        "colab": {
          "base_uri": "https://localhost:8080/"
        },
        "id": "kVEwRsrvTA6n",
        "outputId": "61a57bcc-d73e-400a-e254-2df3db6ebf7b"
      },
      "outputs": [
        {
          "data": {
            "text/plain": [
              "{0: 1.876782084465826,\n",
              " 1: 1.876782084465826,\n",
              " 2: 1.876782084465826,\n",
              " 3: 0.16110753824610663,\n",
              " 4: 1.876782084465826,\n",
              " 5: 1.876782084465826,\n",
              " 6: 1.876782084465826,\n",
              " 7: 1.876782084465826,\n",
              " 8: 1.876782084465826,\n",
              " 9: 1.876782084465826,\n",
              " 10: 1.876782084465826,\n",
              " 11: 0.1611092032079801,\n",
              " 12: 1.876782084465826,\n",
              " 13: 1.876782084465826,\n",
              " 14: 1.298204637100003,\n",
              " 15: 1.876782084465826,\n",
              " 16: 1.876782084465826,\n",
              " 17: 1.876782084465826,\n",
              " 18: 1.876782084465826,\n",
              " 19: 1.876782084465826,\n",
              " 20: 0.15319258661820864,\n",
              " 21: 1.876782084465826,\n",
              " 22: 1.876782084465826,\n",
              " 23: 1.876782084465826,\n",
              " 24: 1.876782084465826,\n",
              " 25: 1.876782084465826,\n",
              " 26: 1.876782084465826,\n",
              " 27: 1.876782084465826,\n",
              " 28: 1.876782084465826,\n",
              " 29: 1.876782084465826,\n",
              " 30: 1.876782084465826,\n",
              " 31: 1.876782084465826,\n",
              " 32: 0.8699249677528743,\n",
              " 33: 1.876782084465826,\n",
              " 34: 1.876782084465826,\n",
              " 35: 1.876782084465826,\n",
              " 36: 2.001989262182533,\n",
              " 37: 1.876782084465826,\n",
              " 38: 0.21723425396776055,\n",
              " 39: 1.876782084465826,\n",
              " 40: 1.876782084465826,\n",
              " 41: 1.3900571007236189,\n",
              " 42: 1.876782084465826,\n",
              " 43: 1.876782084465826,\n",
              " 44: 1.876782084465826,\n",
              " 45: 0.41585836304409163,\n",
              " 46: 1.876782084465826,\n",
              " 47: 1.876782084465826,\n",
              " 48: 1.876782084465826,\n",
              " 49: 1.876782084465826,\n",
              " 50: 1.876782084465826,\n",
              " 51: 1.876782084465826}"
            ]
          },
          "execution_count": 20,
          "metadata": {},
          "output_type": "execute_result"
        }
      ],
      "source": [
        "from sklearn.utils import compute_class_weight\n",
        "class_weights = compute_class_weight(\n",
        "                                        class_weight = \"balanced\",\n",
        "                                        classes = np.unique(y_train),\n",
        "                                        y = y_train                                                    \n",
        "                                    )\n",
        "class_weights = dict(zip(np.unique(y_train), class_weights))\n",
        "class_weights"
      ]
    },
    {
      "cell_type": "markdown",
      "metadata": {
        "id": "C5tWm423tqJA"
      },
      "source": [
        "## Load Model and extract feature from an intermidiate layer"
      ]
    },
    {
      "cell_type": "code",
      "execution_count": null,
      "metadata": {
        "id": "XDnxXugo-c17"
      },
      "outputs": [],
      "source": [
        "import pickle\n",
        "# load the model from disk\n",
        "filename = '/content/drive/My Drive/Colab Notebooks/MCLS_lstmmodel64,1000x100_2nd.sav'\n",
        "loaded_model = pickle.load(open(filename, 'rb'))"
      ]
    },
    {
      "cell_type": "code",
      "execution_count": null,
      "metadata": {
        "id": "et43UEQdkeoV"
      },
      "outputs": [],
      "source": [
        "import pickle\n",
        "filename = '/content/drive/My Drive/Colab Notebooks/MX_train_sm.csv'\n",
        "X_train = pickle.load(open(filename, 'rb'))"
      ]
    },
    {
      "cell_type": "code",
      "execution_count": null,
      "metadata": {
        "id": "vHHQI0uvkvQb"
      },
      "outputs": [],
      "source": [
        "filename = '/content/drive/My Drive/Colab Notebooks/My_train_sm.csv'\n",
        "y_train = pickle.load(open(filename, 'rb'))"
      ]
    },
    {
      "cell_type": "code",
      "execution_count": null,
      "metadata": {
        "id": "QNhL60LxkzYN"
      },
      "outputs": [],
      "source": [
        "filename = '/content/drive/My Drive/Colab Notebooks/MX_test_sm.csv'\n",
        "X_test = pickle.load(open(filename, 'rb'))"
      ]
    },
    {
      "cell_type": "code",
      "execution_count": null,
      "metadata": {
        "id": "FUpaU9quk4iD"
      },
      "outputs": [],
      "source": [
        "filename = '/content/drive/My Drive/Colab Notebooks/My_test_sm.csv'\n",
        "y_test = pickle.load(open(filename, 'rb'))"
      ]
    },
    {
      "cell_type": "code",
      "execution_count": null,
      "metadata": {
        "id": "LeGxbhVL-od6"
      },
      "outputs": [],
      "source": [
        "from tensorflow import keras\n",
        "layer_name = 'flatten_2'\n",
        "intermediate_layer_model = keras.Model(inputs=loaded_model.input,\n",
        "                                 outputs=loaded_model.get_layer(layer_name).output)\n",
        "intermediate_output = intermediate_layer_model.predict(X_train)"
      ]
    },
    {
      "cell_type": "markdown",
      "metadata": {
        "id": "3kTJ_DgdTdMo"
      },
      "source": [
        "### Decision Tree"
      ]
    },
    {
      "cell_type": "code",
      "execution_count": null,
      "metadata": {
        "colab": {
          "base_uri": "https://localhost:8080/"
        },
        "id": "ASwFb0tITdMp",
        "outputId": "777872f4-ec20-4660-c5d3-e3e9153a4045"
      },
      "outputs": [
        {
          "name": "stdout",
          "output_type": "stream",
          "text": [
            "It took 705.5816650390625 milliseconds to train DT with feature from multiclass LSTM intermidiate layer.\n",
            "\n"
          ]
        }
      ],
      "source": [
        "from sklearn.tree import DecisionTreeClassifier\n",
        "import time\n",
        "start = time.time()\n",
        "DTmodel = DecisionTreeClassifier(class_weight=weights).fit(intermediate_output, y_train)\n",
        "end = time.time()\n",
        "print(\"It took {} milliseconds to train DT with feature from multiclass LSTM intermidiate layer.\\n\".format(end-start))"
      ]
    },
    {
      "cell_type": "code",
      "execution_count": null,
      "metadata": {
        "colab": {
          "base_uri": "https://localhost:8080/"
        },
        "id": "jJz3ehzMZzgp",
        "outputId": "9c955922-3da9-42aa-b503-e086a9af4576"
      },
      "outputs": [
        {
          "name": "stderr",
          "output_type": "stream",
          "text": [
            "/usr/local/lib/python3.7/dist-packages/sklearn/metrics/_classification.py:1318: UndefinedMetricWarning: Precision and F-score are ill-defined and being set to 0.0 in labels with no predicted samples. Use `zero_division` parameter to control this behavior.\n",
            "  _warn_prf(average, modifier, msg_start, len(result))\n",
            "/usr/local/lib/python3.7/dist-packages/sklearn/metrics/_classification.py:1318: UndefinedMetricWarning: Precision and F-score are ill-defined and being set to 0.0 in labels with no predicted samples. Use `zero_division` parameter to control this behavior.\n",
            "  _warn_prf(average, modifier, msg_start, len(result))\n"
          ]
        },
        {
          "name": "stdout",
          "output_type": "stream",
          "text": [
            "              precision    recall  f1-score   support\n",
            "\n",
            "           0       0.91      1.00      0.95        10\n",
            "           1       1.00      1.00      1.00         5\n",
            "           2       0.93      1.00      0.97        28\n",
            "           3       1.00      1.00      1.00     94137\n",
            "           4       0.09      0.14      0.11       210\n",
            "           5       0.93      0.84      0.89       197\n",
            "           6       0.02      0.03      0.03        89\n",
            "           7       0.00      0.00      0.00         1\n",
            "           8       0.06      0.05      0.05       214\n",
            "           9       0.10      0.11      0.10       151\n",
            "          10       0.99      0.99      0.99       218\n",
            "          11       0.99      0.97      0.98    100071\n",
            "          12       0.89      0.91      0.90        94\n",
            "          13       0.39      0.34      0.37        44\n",
            "          14       0.87      0.85      0.86      5982\n",
            "          15       0.32      0.33      0.33        51\n",
            "          16       0.10      0.08      0.09        63\n",
            "          17       0.98      0.99      0.99      2414\n",
            "          18       0.90      0.82      0.86        22\n",
            "          19       0.88      1.00      0.94        29\n",
            "          20       0.97      0.94      0.95    122443\n",
            "          21       0.01      0.01      0.01       241\n",
            "          22       0.13      0.19      0.16       190\n",
            "          23       0.62      0.88      0.73      1699\n",
            "          24       0.98      0.98      0.98      2067\n",
            "          25       0.20      0.32      0.25       540\n",
            "          26       0.17      0.23      0.19      1643\n",
            "          27       0.77      0.88      0.82      1096\n",
            "          28       0.07      0.06      0.06        69\n",
            "          29       0.29      0.18      0.22        11\n",
            "          30       0.69      0.62      0.66        32\n",
            "          31       0.00      0.00      0.00        17\n",
            "          32       0.91      0.94      0.92      8834\n",
            "          33       0.01      0.01      0.01       150\n",
            "          34       0.03      0.03      0.03        35\n",
            "          35       0.77      0.79      0.78       375\n",
            "          36       0.25      0.33      0.28      3958\n",
            "          37       0.68      0.65      0.67      2197\n",
            "          38       0.99      1.00      1.00     36002\n",
            "          39       0.36      0.49      0.42       484\n",
            "          40       0.78      0.83      0.81      1222\n",
            "          41       0.88      0.93      0.91      5691\n",
            "          42       0.65      0.74      0.69       473\n",
            "          43       0.41      0.56      0.47       826\n",
            "          44       0.00      0.00      0.00        39\n",
            "          45       0.94      0.96      0.95     18732\n",
            "          46       0.10      0.17      0.12         6\n",
            "          47       0.40      1.00      0.57         6\n",
            "          48       0.79      0.82      0.81       109\n",
            "          49       0.02      0.04      0.02       165\n",
            "          50       0.00      0.00      0.00        15\n",
            "          51       0.37      0.53      0.44      1930\n",
            "\n",
            "    accuracy                           0.95    415327\n",
            "   macro avg       0.51      0.55      0.52    415327\n",
            "weighted avg       0.95      0.95      0.95    415327\n",
            "\n",
            "It took 142.28172397613525 milliseconds to test DT with feature from multiclass LSTM intermidiate layer.\n",
            "\n"
          ]
        },
        {
          "name": "stderr",
          "output_type": "stream",
          "text": [
            "/usr/local/lib/python3.7/dist-packages/sklearn/metrics/_classification.py:1318: UndefinedMetricWarning: Precision and F-score are ill-defined and being set to 0.0 in labels with no predicted samples. Use `zero_division` parameter to control this behavior.\n",
            "  _warn_prf(average, modifier, msg_start, len(result))\n"
          ]
        }
      ],
      "source": [
        "from sklearn.metrics import precision_score, accuracy_score,classification_report\n",
        "start = time.time()\n",
        "DTpred = DTmodel.predict(intermediate_layer_model.predict(X_test))\n",
        "end = time.time()\n",
        "print(classification_report(y_test, DTpred))\n",
        "print(\"It took {} milliseconds to test DT with feature from multiclass LSTM intermidiate layer.\\n\".format(end-start))"
      ]
    },
    {
      "cell_type": "code",
      "execution_count": null,
      "metadata": {
        "colab": {
          "base_uri": "https://localhost:8080/"
        },
        "id": "bKwdVIIhTdMr",
        "outputId": "9d471b0a-04aa-481a-e8b1-a529158c3ae6"
      },
      "outputs": [
        {
          "name": "stdout",
          "output_type": "stream",
          "text": [
            "accuracy on the train set:  0.999997532854666\n",
            "accuracy on the test set:  0.9457343250017456\n"
          ]
        }
      ],
      "source": [
        "print('accuracy on the train set: ', accuracy_score(DTmodel.predict(intermediate_output), y_train))\n",
        "print('accuracy on the test set: ', accuracy_score(DTpred, y_test))"
      ]
    },
    {
      "cell_type": "code",
      "execution_count": null,
      "metadata": {
        "id": "NKe0lbvmTdMs"
      },
      "outputs": [],
      "source": [
        "from sklearn import metrics\n",
        "import matplotlib.pyplot as plt\n",
        "\n",
        "etpprd = DTmodel.predict_proba(intermediate_layer_model.predict(X_test))"
      ]
    },
    {
      "cell_type": "code",
      "execution_count": null,
      "metadata": {
        "colab": {
          "base_uri": "https://localhost:8080/"
        },
        "id": "jOeKnDoiTdMs",
        "outputId": "6c9572c4-f781-4cbd-f619-9ebd2a30cd97"
      },
      "outputs": [
        {
          "name": "stdout",
          "output_type": "stream",
          "text": [
            "0.8607072974511469\n"
          ]
        }
      ],
      "source": [
        "auc = metrics.roc_auc_score(y_test, etpprd, multi_class='ovo', average='weighted')\n",
        "print(auc)"
      ]
    },
    {
      "cell_type": "code",
      "execution_count": null,
      "metadata": {
        "id": "PR7iPkMiTdMt"
      },
      "outputs": [],
      "source": [
        "import pickle\n",
        "# save the model to disk\n",
        "filename = '/content/drive/My Drive/Colab Notebooks/MLSTM+DTmodel.sav'\n",
        "pickle.dump(DTmodel, open(filename, 'wb'))"
      ]
    },
    {
      "cell_type": "markdown",
      "metadata": {
        "id": "BYftXIGgQizL"
      },
      "source": [
        "### Random Forest Classifier"
      ]
    },
    {
      "cell_type": "code",
      "execution_count": null,
      "metadata": {
        "colab": {
          "background_save": true,
          "base_uri": "https://localhost:8080/"
        },
        "id": "hToX3gJwQizM",
        "outputId": "8897dfb4-83d9-4ae6-e51e-cf9f07a39cd7"
      },
      "outputs": [
        {
          "name": "stdout",
          "output_type": "stream",
          "text": [
            "It took 3928.7498059272766 milliseconds to train RF with feature from multiclass LSTM intermidiate layer.\n",
            "\n"
          ]
        }
      ],
      "source": [
        "import time\n",
        "from sklearn.ensemble import RandomForestClassifier\n",
        "start = time.time()\n",
        "RFmodel = RandomForestClassifier().fit(intermediate_output, y_train)\n",
        "end = time.time()\n",
        "print(\"It took {} milliseconds to train RF with feature from multiclass LSTM intermidiate layer.\\n\".format(end-start))"
      ]
    },
    {
      "cell_type": "code",
      "execution_count": null,
      "metadata": {
        "colab": {
          "background_save": true
        },
        "id": "xi8e1PBmho3b",
        "outputId": "4299b4c2-1bd3-4c08-e504-fdd14773c4f7"
      },
      "outputs": [
        {
          "name": "stdout",
          "output_type": "stream",
          "text": [
            "It took 134.22708439826965 milliseconds to test LR with feature from multiclass LSTM intermidiate layer.\n",
            "\n"
          ]
        },
        {
          "name": "stderr",
          "output_type": "stream",
          "text": [
            "/usr/local/lib/python3.7/dist-packages/sklearn/metrics/_classification.py:1318: UndefinedMetricWarning: Precision and F-score are ill-defined and being set to 0.0 in labels with no predicted samples. Use `zero_division` parameter to control this behavior.\n",
            "  _warn_prf(average, modifier, msg_start, len(result))\n",
            "/usr/local/lib/python3.7/dist-packages/sklearn/metrics/_classification.py:1318: UndefinedMetricWarning: Precision and F-score are ill-defined and being set to 0.0 in labels with no predicted samples. Use `zero_division` parameter to control this behavior.\n",
            "  _warn_prf(average, modifier, msg_start, len(result))\n"
          ]
        },
        {
          "name": "stdout",
          "output_type": "stream",
          "text": [
            "              precision    recall  f1-score   support\n",
            "\n",
            "           0       1.00      1.00      1.00        10\n",
            "           1       1.00      1.00      1.00         5\n",
            "           2       0.88      1.00      0.93        28\n",
            "           3       1.00      1.00      1.00     94137\n",
            "           4       0.28      0.19      0.23       210\n",
            "           5       0.93      0.93      0.93       197\n",
            "           6       0.00      0.00      0.00        89\n",
            "           7       0.00      0.00      0.00         1\n",
            "           8       0.19      0.03      0.05       214\n",
            "           9       0.28      0.13      0.17       151\n",
            "          10       1.00      1.00      1.00       218\n",
            "          11       0.99      1.00      0.99    100071\n",
            "          12       0.92      0.96      0.94        94\n",
            "          13       0.48      0.36      0.42        44\n",
            "          14       0.89      0.98      0.93      5982\n",
            "          15       0.37      0.37      0.37        51\n",
            "          16       0.12      0.11      0.12        63\n",
            "          17       0.99      0.99      0.99      2414\n",
            "          18       0.95      0.91      0.93        22\n",
            "          19       0.97      1.00      0.98        29\n",
            "          20       0.98      0.97      0.97    122443\n",
            "          21       0.00      0.00      0.00       241\n",
            "          22       0.20      0.23      0.21       190\n",
            "          23       0.87      0.89      0.88      1699\n",
            "          24       0.98      0.99      0.99      2067\n",
            "          25       0.73      0.36      0.48       540\n",
            "          26       0.60      0.15      0.24      1643\n",
            "          27       0.89      0.92      0.90      1096\n",
            "          28       0.14      0.06      0.08        69\n",
            "          29       0.50      0.36      0.42        11\n",
            "          30       0.83      0.78      0.81        32\n",
            "          31       0.00      0.00      0.00        17\n",
            "          32       0.94      0.95      0.95      8834\n",
            "          33       0.14      0.05      0.08       150\n",
            "          34       0.00      0.00      0.00        35\n",
            "          35       0.83      0.82      0.83       375\n",
            "          36       0.53      0.46      0.50      3958\n",
            "          37       0.68      0.93      0.79      2197\n",
            "          38       1.00      1.00      1.00     36002\n",
            "          39       0.47      0.68      0.55       484\n",
            "          40       0.86      0.87      0.87      1222\n",
            "          41       0.92      0.97      0.94      5691\n",
            "          42       0.73      0.80      0.77       473\n",
            "          43       0.58      0.69      0.63       826\n",
            "          44       0.00      0.00      0.00        39\n",
            "          45       0.96      0.99      0.97     18732\n",
            "          46       0.29      0.33      0.31         6\n",
            "          47       0.86      1.00      0.92         6\n",
            "          48       0.89      0.91      0.90       109\n",
            "          49       0.09      0.01      0.02       165\n",
            "          50       0.00      0.00      0.00        15\n",
            "          51       0.53      0.63      0.57      1930\n",
            "\n",
            "    accuracy                           0.97    415327\n",
            "   macro avg       0.60      0.59      0.59    415327\n",
            "weighted avg       0.97      0.97      0.97    415327\n",
            "\n"
          ]
        },
        {
          "name": "stderr",
          "output_type": "stream",
          "text": [
            "/usr/local/lib/python3.7/dist-packages/sklearn/metrics/_classification.py:1318: UndefinedMetricWarning: Precision and F-score are ill-defined and being set to 0.0 in labels with no predicted samples. Use `zero_division` parameter to control this behavior.\n",
            "  _warn_prf(average, modifier, msg_start, len(result))\n"
          ]
        }
      ],
      "source": [
        "from sklearn.metrics import precision_score, accuracy_score,classification_report\n",
        "start = time.time()\n",
        "RFpred = RFmodel.predict(intermediate_layer_model.predict(X_test))\n",
        "end = time.time()\n",
        "print(\"It took {} milliseconds to test LR with feature from multiclass LSTM intermidiate layer.\\n\".format(end-start))\n",
        "print(classification_report(y_test, RFpred))"
      ]
    },
    {
      "cell_type": "code",
      "execution_count": null,
      "metadata": {
        "colab": {
          "base_uri": "https://localhost:8080/"
        },
        "id": "eXMH5smPyPsO",
        "outputId": "42e29f46-1a10-47d7-a89d-87d5524e143e"
      },
      "outputs": [
        {
          "output_type": "stream",
          "name": "stdout",
          "text": [
            "accuracy on the train set:  0.9999919817776646\n",
            "accuracy on the test set:  0.9694120536348467\n"
          ]
        }
      ],
      "source": [
        "print('accuracy on the train set: ', accuracy_score(RFmodel.predict(intermediate_output), y_train))\n",
        "print('accuracy on the test set: ', accuracy_score(RFpred, y_test))"
      ]
    },
    {
      "cell_type": "code",
      "execution_count": null,
      "metadata": {
        "id": "6Ip9hFBkd319"
      },
      "outputs": [],
      "source": [
        "from sklearn import metrics\n",
        "import matplotlib.pyplot as plt\n",
        "\n",
        "etpprd = RFmodel.predict_proba(intermediate_layer_model.predict(X_test))"
      ]
    },
    {
      "cell_type": "code",
      "execution_count": null,
      "metadata": {
        "colab": {
          "base_uri": "https://localhost:8080/"
        },
        "id": "aXDxOGZMd319",
        "outputId": "b5aab7f4-a9ab-4e26-e7a0-0700c494812c"
      },
      "outputs": [
        {
          "output_type": "stream",
          "name": "stdout",
          "text": [
            "0.9452120704065385\n"
          ]
        }
      ],
      "source": [
        "auc = metrics.roc_auc_score(y_test, etpprd, multi_class='ovo', average='weighted')\n",
        "print(auc)"
      ]
    },
    {
      "cell_type": "code",
      "execution_count": null,
      "metadata": {
        "id": "LqMw0arDyPsR"
      },
      "outputs": [],
      "source": [
        "import pickle\n",
        "# save the model to disk\n",
        "filename = '/content/drive/My Drive/Colab Notebooks/MLSTM+RFmodel.sav'\n",
        "pickle.dump(RFmodel, open(filename, 'wb'))"
      ]
    },
    {
      "cell_type": "markdown",
      "metadata": {
        "id": "3VYqXZFhLusC"
      },
      "source": [
        "### Logistic Regression"
      ]
    },
    {
      "cell_type": "code",
      "execution_count": null,
      "metadata": {
        "colab": {
          "base_uri": "https://localhost:8080/"
        },
        "id": "j0jWAfV7LusC",
        "outputId": "8d1a1ce3-6efd-4271-9d0a-cd9dcb1298e5"
      },
      "outputs": [
        {
          "output_type": "stream",
          "name": "stdout",
          "text": [
            "It took 612.7370665073395 milliseconds to train LR with feature from multiclass LSTM intermidiate layer.\n",
            "\n"
          ]
        },
        {
          "output_type": "stream",
          "name": "stderr",
          "text": [
            "/usr/local/lib/python3.7/dist-packages/sklearn/linear_model/_logistic.py:818: ConvergenceWarning: lbfgs failed to converge (status=1):\n",
            "STOP: TOTAL NO. of ITERATIONS REACHED LIMIT.\n",
            "\n",
            "Increase the number of iterations (max_iter) or scale the data as shown in:\n",
            "    https://scikit-learn.org/stable/modules/preprocessing.html\n",
            "Please also refer to the documentation for alternative solver options:\n",
            "    https://scikit-learn.org/stable/modules/linear_model.html#logistic-regression\n",
            "  extra_warning_msg=_LOGISTIC_SOLVER_CONVERGENCE_MSG,\n"
          ]
        }
      ],
      "source": [
        "from sklearn.linear_model import LogisticRegression\n",
        "import time\n",
        "start = time.time()\n",
        "Lreg = LogisticRegression().fit(intermediate_output, y_train)\n",
        "end = time.time()\n",
        "print(\"It took {} milliseconds to train LR with feature from multiclass LSTM intermidiate layer.\\n\".format(end-start))"
      ]
    },
    {
      "cell_type": "code",
      "execution_count": null,
      "metadata": {
        "colab": {
          "base_uri": "https://localhost:8080/"
        },
        "id": "PeI00gkDLusE",
        "outputId": "c4632e47-20ef-46e8-b4b7-d4d85f7970c6"
      },
      "outputs": [
        {
          "output_type": "stream",
          "name": "stdout",
          "text": [
            "It took 132.15079164505005 milliseconds to test LR with feature from multiclass LSTM intermidiate layer.\n",
            "\n",
            "              precision    recall  f1-score   support\n",
            "\n",
            "           0       0.13      1.00      0.23        10\n",
            "           1       0.10      1.00      0.19         5\n",
            "           2       0.77      0.86      0.81        28\n",
            "           3       1.00      1.00      1.00     94137\n",
            "           4       0.06      0.40      0.10       210\n",
            "           5       0.59      0.99      0.74       197\n",
            "           6       0.02      0.15      0.04        89\n",
            "           7       0.00      0.00      0.00         1\n",
            "           8       0.06      0.40      0.11       214\n",
            "           9       0.08      0.19      0.11       151\n",
            "          10       0.97      0.99      0.98       218\n",
            "          11       0.98      0.99      0.99    100071\n",
            "          12       0.96      0.95      0.95        94\n",
            "          13       0.11      0.48      0.18        44\n",
            "          14       0.88      0.90      0.89      5982\n",
            "          15       0.06      0.45      0.10        51\n",
            "          16       0.04      0.25      0.07        63\n",
            "          17       0.98      0.99      0.98      2414\n",
            "          18       0.90      0.82      0.86        22\n",
            "          19       0.81      1.00      0.89        29\n",
            "          20       0.98      0.91      0.94    122443\n",
            "          21       0.01      0.02      0.01       241\n",
            "          22       0.10      0.58      0.17       190\n",
            "          23       0.55      0.53      0.54      1699\n",
            "          24       0.97      1.00      0.98      2067\n",
            "          25       0.24      0.30      0.27       540\n",
            "          26       0.50      0.18      0.26      1643\n",
            "          27       0.69      0.92      0.79      1096\n",
            "          28       0.01      0.12      0.02        69\n",
            "          29       0.75      0.27      0.40        11\n",
            "          30       0.38      0.91      0.53        32\n",
            "          31       0.01      0.06      0.01        17\n",
            "          32       0.95      0.92      0.94      8834\n",
            "          33       0.03      0.07      0.04       150\n",
            "          34       0.00      0.00      0.00        35\n",
            "          35       0.72      0.82      0.77       375\n",
            "          36       0.55      0.11      0.19      3958\n",
            "          37       0.74      0.63      0.68      2197\n",
            "          38       1.00      0.99      1.00     36002\n",
            "          39       0.30      0.76      0.43       484\n",
            "          40       0.81      0.82      0.82      1222\n",
            "          41       0.92      0.92      0.92      5691\n",
            "          42       0.38      0.83      0.52       473\n",
            "          43       0.38      0.75      0.50       826\n",
            "          44       0.00      0.03      0.01        39\n",
            "          45       0.94      0.97      0.95     18732\n",
            "          46       0.31      0.67      0.42         6\n",
            "          47       0.02      1.00      0.03         6\n",
            "          48       0.26      0.85      0.39       109\n",
            "          49       0.02      0.08      0.03       165\n",
            "          50       0.00      0.00      0.00        15\n",
            "          51       0.35      0.51      0.41      1930\n",
            "\n",
            "    accuracy                           0.94    415327\n",
            "   macro avg       0.45      0.60      0.46    415327\n",
            "weighted avg       0.96      0.94      0.95    415327\n",
            "\n"
          ]
        }
      ],
      "source": [
        "from sklearn.metrics import precision_score, accuracy_score,classification_report\n",
        "start = time.time()\n",
        "Lregy_pred = Lreg.predict(intermediate_layer_model.predict(X_test))\n",
        "end = time.time()\n",
        "print(\"It took {} milliseconds to test LR with feature from multiclass LSTM intermidiate layer.\\n\".format(end-start))\n",
        "print(classification_report(y_test, Lregy_pred))"
      ]
    },
    {
      "cell_type": "code",
      "execution_count": null,
      "metadata": {
        "colab": {
          "base_uri": "https://localhost:8080/"
        },
        "id": "CxmPUO5byMvG",
        "outputId": "3dcec3cd-a418-4504-f749-8466ee4e9f64"
      },
      "outputs": [
        {
          "output_type": "stream",
          "name": "stdout",
          "text": [
            "accuracy on the train set:  0.8651427521129558\n",
            "accuracy on the test set:  0.9408297558309476\n"
          ]
        }
      ],
      "source": [
        "print('accuracy on the train set: ', accuracy_score(Lreg.predict(intermediate_output), y_train))\n",
        "print('accuracy on the test set: ', accuracy_score(Lregy_pred, y_test))"
      ]
    },
    {
      "cell_type": "code",
      "execution_count": null,
      "metadata": {
        "id": "Lmg_OrJNcrbz"
      },
      "outputs": [],
      "source": [
        "from sklearn import metrics\n",
        "import matplotlib.pyplot as plt\n",
        "\n",
        "etpprd = Lreg.predict_proba(intermediate_layer_model.predict(X_test))"
      ]
    },
    {
      "cell_type": "code",
      "execution_count": null,
      "metadata": {
        "colab": {
          "base_uri": "https://localhost:8080/"
        },
        "id": "9Xeiaxyxcrb8",
        "outputId": "f62d8cd9-24bc-4c56-b86a-b7edc56a4f61"
      },
      "outputs": [
        {
          "output_type": "stream",
          "name": "stdout",
          "text": [
            "0.9874679392508966\n"
          ]
        }
      ],
      "source": [
        "auc = metrics.roc_auc_score(y_test, etpprd, multi_class='ovo', average='weighted')\n",
        "print(auc)"
      ]
    },
    {
      "cell_type": "code",
      "execution_count": null,
      "metadata": {
        "id": "_ofui4vtyMvL"
      },
      "outputs": [],
      "source": [
        "import pickle\n",
        "# save the model to disk\n",
        "filename = '/content/drive/My Drive/Colab Notebooks/MLSTM+LRmodel.sav'\n",
        "pickle.dump(Lreg, open(filename, 'wb'))"
      ]
    },
    {
      "cell_type": "markdown",
      "metadata": {
        "id": "gIdkTM2TQKk4"
      },
      "source": [
        "### Naive Bayes"
      ]
    },
    {
      "cell_type": "code",
      "execution_count": null,
      "metadata": {
        "colab": {
          "base_uri": "https://localhost:8080/"
        },
        "id": "I89r9btmQKk5",
        "outputId": "422b8ac9-9c6b-4bad-f291-3e4c8efd2265"
      },
      "outputs": [
        {
          "output_type": "stream",
          "name": "stdout",
          "text": [
            "It took 2.236485242843628 milliseconds to train NB with feature from multiclass LSTM intermidiate layer.\n",
            "\n"
          ]
        }
      ],
      "source": [
        "from sklearn.naive_bayes import GaussianNB\n",
        "start = time.time()\n",
        "gnb = GaussianNB().fit(intermediate_output, y_train)\n",
        "end = time.time()\n",
        "print(\"It took {} milliseconds to train NB with feature from multiclass LSTM intermidiate layer.\\n\".format(end-start))"
      ]
    },
    {
      "cell_type": "code",
      "execution_count": null,
      "metadata": {
        "colab": {
          "base_uri": "https://localhost:8080/"
        },
        "id": "ASoFPFyxQKk5",
        "outputId": "3dd15227-116c-4d61-b3c1-1c19b8a0626c"
      },
      "outputs": [
        {
          "output_type": "stream",
          "name": "stdout",
          "text": [
            "It took 123.98104667663574 milliseconds to test NB with feature from multiclass LSTM intermidiate layer.\n",
            "\n",
            "              precision    recall  f1-score   support\n",
            "\n",
            "           0       0.83      1.00      0.91        10\n",
            "           1       0.00      0.00      0.00         5\n",
            "           2       0.84      0.75      0.79        28\n",
            "           3       0.99      0.88      0.93     94137\n",
            "           4       0.01      0.57      0.02       210\n",
            "           5       0.75      0.95      0.84       197\n",
            "           6       0.00      0.11      0.00        89\n",
            "           7       0.00      0.00      0.00         1\n",
            "           8       0.06      0.50      0.10       214\n",
            "           9       0.06      0.17      0.09       151\n",
            "          10       1.00      1.00      1.00       218\n",
            "          11       0.99      0.96      0.98    100071\n",
            "          12       0.94      0.95      0.94        94\n",
            "          13       0.04      0.61      0.08        44\n",
            "          14       0.82      0.96      0.89      5982\n",
            "          15       0.03      0.53      0.05        51\n",
            "          16       0.05      0.41      0.09        63\n",
            "          17       0.97      0.98      0.98      2414\n",
            "          18       0.91      0.95      0.93        22\n",
            "          19       0.94      1.00      0.97        29\n",
            "          20       0.92      0.43      0.59    122443\n",
            "          21       0.00      0.00      0.00       241\n",
            "          22       0.04      0.73      0.08       190\n",
            "          23       0.42      0.12      0.18      1699\n",
            "          24       0.99      0.97      0.98      2067\n",
            "          25       0.04      0.36      0.08       540\n",
            "          26       0.41      0.18      0.25      1643\n",
            "          27       0.71      0.76      0.73      1096\n",
            "          28       0.02      0.04      0.02        69\n",
            "          29       0.56      0.45      0.50        11\n",
            "          30       0.59      0.84      0.69        32\n",
            "          31       0.01      0.18      0.01        17\n",
            "          32       0.98      0.54      0.69      8834\n",
            "          33       0.02      0.04      0.02       150\n",
            "          34       0.00      0.03      0.00        35\n",
            "          35       0.50      0.96      0.66       375\n",
            "          36       0.00      0.00      0.00      3958\n",
            "          37       0.31      0.51      0.38      2197\n",
            "          38       1.00      0.99      0.99     36002\n",
            "          39       0.17      0.85      0.28       484\n",
            "          40       0.55      0.67      0.60      1222\n",
            "          41       0.84      0.93      0.88      5691\n",
            "          42       0.10      0.88      0.18       473\n",
            "          43       0.04      0.84      0.08       826\n",
            "          44       0.01      0.13      0.02        39\n",
            "          45       0.94      0.96      0.95     18732\n",
            "          46       0.31      0.67      0.42         6\n",
            "          47       0.01      1.00      0.02         6\n",
            "          48       0.16      0.95      0.28       109\n",
            "          49       0.00      0.21      0.00       165\n",
            "          50       0.00      0.00      0.00        15\n",
            "          51       0.12      0.93      0.21      1930\n",
            "\n",
            "    accuracy                           0.76    415327\n",
            "   macro avg       0.40      0.59      0.41    415327\n",
            "weighted avg       0.93      0.76      0.81    415327\n",
            "\n"
          ]
        }
      ],
      "source": [
        "from sklearn.metrics import precision_score, accuracy_score,classification_report\n",
        "start = time.time()\n",
        "gnb_pred = gnb.predict(intermediate_layer_model.predict(X_test))\n",
        "end = time.time()\n",
        "print(\"It took {} milliseconds to test NB with feature from multiclass LSTM intermidiate layer.\\n\".format(end-start))\n",
        "print(classification_report(y_test, gnb_pred))"
      ]
    },
    {
      "cell_type": "code",
      "execution_count": null,
      "metadata": {
        "colab": {
          "base_uri": "https://localhost:8080/"
        },
        "id": "SFG2gLhgyOle",
        "outputId": "5172a88a-0b4b-448d-e236-d75bf6d05cd1"
      },
      "outputs": [
        {
          "output_type": "stream",
          "name": "stdout",
          "text": [
            "accuracy on the train set:  0.7481877275556079\n",
            "accuracy on the test set:  0.7559079953867676\n"
          ]
        }
      ],
      "source": [
        "print('accuracy on the train set: ', accuracy_score(gnb.predict(intermediate_output), y_train))\n",
        "print('accuracy on the test set: ', accuracy_score(gnb_pred, y_test))"
      ]
    },
    {
      "cell_type": "code",
      "execution_count": null,
      "metadata": {
        "id": "CS7a2Yjtdq-v"
      },
      "outputs": [],
      "source": [
        "from sklearn import metrics\n",
        "import matplotlib.pyplot as plt\n",
        "\n",
        "etpprd = gnb.predict_proba(intermediate_layer_model.predict(X_test))"
      ]
    },
    {
      "cell_type": "code",
      "execution_count": null,
      "metadata": {
        "colab": {
          "base_uri": "https://localhost:8080/"
        },
        "id": "0gMi7qmRdq-v",
        "outputId": "a415855a-6f6e-4522-ac02-191c9dcdbf71"
      },
      "outputs": [
        {
          "output_type": "stream",
          "name": "stdout",
          "text": [
            "0.9606169348893484\n"
          ]
        }
      ],
      "source": [
        "auc = metrics.roc_auc_score(y_test, etpprd, multi_class='ovo', average='weighted')\n",
        "print(auc)"
      ]
    },
    {
      "cell_type": "code",
      "execution_count": null,
      "metadata": {
        "id": "VCIi3RXsyOli"
      },
      "outputs": [],
      "source": [
        "import pickle\n",
        "# save the model to disk\n",
        "filename = '/content/drive/My Drive/Colab Notebooks/MLSTM+NBmodel.sav'\n",
        "pickle.dump(gnb, open(filename, 'wb'))"
      ]
    },
    {
      "cell_type": "markdown",
      "metadata": {
        "id": "oHIaB-sZwldL"
      },
      "source": [
        "### Adaboost Classifier"
      ]
    },
    {
      "cell_type": "code",
      "execution_count": null,
      "metadata": {
        "id": "cw2W6KYTwlda",
        "colab": {
          "base_uri": "https://localhost:8080/"
        },
        "outputId": "c58491d2-715e-4f7a-f7b7-abd5a65cc0e9"
      },
      "outputs": [
        {
          "output_type": "stream",
          "name": "stdout",
          "text": [
            "It took 29438.250957727432 milliseconds to train AB with feature from multiclass LSTM intermidiate layer.\n",
            "\n"
          ]
        }
      ],
      "source": [
        "from sklearn.ensemble import AdaBoostClassifier\n",
        "from sklearn.tree import DecisionTreeClassifier\n",
        "import time\n",
        "start = time.time()\n",
        "ABmodel = AdaBoostClassifier(DecisionTreeClassifier()).fit(intermediate_output, y_train)\n",
        "end = time.time()\n",
        "print(\"It took {} milliseconds to train AB with feature from multiclass LSTM intermidiate layer.\\n\".format(end-start))"
      ]
    },
    {
      "cell_type": "code",
      "execution_count": null,
      "metadata": {
        "id": "8Cxbqi27wldb",
        "colab": {
          "base_uri": "https://localhost:8080/"
        },
        "outputId": "7d9991d8-d1ee-4372-8f5c-c4b538f242c6"
      },
      "outputs": [
        {
          "output_type": "stream",
          "name": "stdout",
          "text": [
            "              precision    recall  f1-score   support\n",
            "\n",
            "           0       1.00      1.00      1.00        10\n",
            "           1       0.62      1.00      0.77         5\n",
            "           2       0.82      1.00      0.90        28\n",
            "           3       1.00      1.00      1.00     94137\n",
            "           4       0.28      0.15      0.19       210\n",
            "           5       0.94      0.88      0.91       197\n",
            "           6       0.00      0.00      0.00        89\n",
            "           7       0.00      0.00      0.00         1\n",
            "           8       0.10      0.02      0.04       214\n",
            "           9       0.20      0.11      0.14       151\n",
            "          10       1.00      0.99      0.99       218\n",
            "          11       0.99      1.00      0.99    100071\n",
            "          12       0.90      0.97      0.93        94\n",
            "          13       0.54      0.34      0.42        44\n",
            "          14       0.89      0.97      0.93      5982\n",
            "          15       0.32      0.35      0.34        51\n",
            "          16       0.12      0.08      0.10        63\n",
            "          17       0.99      0.99      0.99      2414\n",
            "          18       0.95      0.86      0.90        22\n",
            "          19       0.97      1.00      0.98        29\n",
            "          20       0.97      0.97      0.97    122443\n",
            "          21       0.03      0.00      0.01       241\n",
            "          22       0.21      0.19      0.20       190\n",
            "          23       0.88      0.88      0.88      1699\n",
            "          24       0.99      0.99      0.99      2067\n",
            "          25       0.73      0.35      0.47       540\n",
            "          26       0.45      0.16      0.24      1643\n",
            "          27       0.89      0.90      0.90      1096\n",
            "          28       0.11      0.06      0.08        69\n",
            "          29       0.67      0.36      0.47        11\n",
            "          30       0.73      0.69      0.71        32\n",
            "          31       0.00      0.00      0.00        17\n",
            "          32       0.94      0.95      0.95      8834\n",
            "          33       0.12      0.05      0.07       150\n",
            "          34       0.00      0.00      0.00        35\n",
            "          35       0.84      0.81      0.83       375\n",
            "          36       0.51      0.45      0.48      3958\n",
            "          37       0.69      0.86      0.76      2197\n",
            "          38       1.00      1.00      1.00     36002\n",
            "          39       0.49      0.61      0.55       484\n",
            "          40       0.86      0.86      0.86      1222\n",
            "          41       0.92      0.96      0.94      5691\n",
            "          42       0.76      0.77      0.77       473\n",
            "          43       0.63      0.66      0.64       826\n",
            "          44       0.00      0.00      0.00        39\n",
            "          45       0.96      0.99      0.97     18732\n",
            "          46       0.33      0.50      0.40         6\n",
            "          47       0.60      1.00      0.75         6\n",
            "          48       0.86      0.79      0.82       109\n",
            "          49       0.12      0.03      0.05       165\n",
            "          50       0.00      0.00      0.00        15\n",
            "          51       0.55      0.54      0.55      1930\n",
            "\n",
            "    accuracy                           0.97    415327\n",
            "   macro avg       0.59      0.58      0.57    415327\n",
            "weighted avg       0.97      0.97      0.97    415327\n",
            "\n",
            "It took 183.52069067955017 milliseconds to test AB with feature from multiclass LSTM intermidiate layer.\n",
            "\n"
          ]
        }
      ],
      "source": [
        "from sklearn.metrics import precision_score, accuracy_score,classification_report\n",
        "start = time.time()\n",
        "ABpred = ABmodel.predict(intermediate_layer_model.predict(X_test))\n",
        "end = time.time()\n",
        "print(classification_report(y_test, ABpred))\n",
        "print(\"It took {} milliseconds to test AB with feature from multiclass LSTM intermidiate layer.\\n\".format(end-start))"
      ]
    },
    {
      "cell_type": "code",
      "execution_count": null,
      "metadata": {
        "id": "yUweUp6AcG7o",
        "colab": {
          "base_uri": "https://localhost:8080/"
        },
        "outputId": "1f39379c-5125-48d7-a987-b0bca4ff661c"
      },
      "outputs": [
        {
          "output_type": "stream",
          "name": "stdout",
          "text": [
            "accuracy on the train set:  0.999997532854666\n",
            "accuracy on the test set:  0.968877535050695\n"
          ]
        }
      ],
      "source": [
        "print('accuracy on the train set: ', accuracy_score(ABmodel.predict(intermediate_output), y_train))\n",
        "print('accuracy on the test set: ', accuracy_score(ABpred, y_test))"
      ]
    },
    {
      "cell_type": "code",
      "execution_count": null,
      "metadata": {
        "id": "aUFwfpIdbMY4"
      },
      "outputs": [],
      "source": [
        "from sklearn import metrics\n",
        "import matplotlib.pyplot as plt\n",
        "\n",
        "etpprd = ABmodel.predict_proba(intermediate_layer_model.predict(X_test))"
      ]
    },
    {
      "cell_type": "code",
      "execution_count": null,
      "metadata": {
        "id": "iJDA8v_hbOYo",
        "colab": {
          "base_uri": "https://localhost:8080/"
        },
        "outputId": "ae039499-8fb1-4bee-a78a-77f3089e6058"
      },
      "outputs": [
        {
          "output_type": "stream",
          "name": "stdout",
          "text": [
            "0.9733394285569053\n"
          ]
        }
      ],
      "source": [
        "auc = metrics.roc_auc_score(y_test, etpprd, multi_class='ovo', average='weighted')\n",
        "print(auc)"
      ]
    },
    {
      "cell_type": "code",
      "execution_count": null,
      "metadata": {
        "id": "4XWcZez4wlde"
      },
      "outputs": [],
      "source": [
        "import pickle\n",
        "# save the model to disk\n",
        "filename = '/content/drive/My Drive/Colab Notebooks/MLSTM+ABmodel.sav'\n",
        "pickle.dump(ABmodel, open(filename, 'wb'))"
      ]
    }
  ],
  "metadata": {
    "colab": {
      "collapsed_sections": [
        "N5I3H70AHjIh",
        "3kTJ_DgdTdMo",
        "BYftXIGgQizL",
        "3VYqXZFhLusC",
        "gIdkTM2TQKk4",
        "oHIaB-sZwldL"
      ],
      "machine_shape": "hm",
      "provenance": []
    },
    "kernelspec": {
      "display_name": "Python 3",
      "name": "python3"
    }
  },
  "nbformat": 4,
  "nbformat_minor": 0
}