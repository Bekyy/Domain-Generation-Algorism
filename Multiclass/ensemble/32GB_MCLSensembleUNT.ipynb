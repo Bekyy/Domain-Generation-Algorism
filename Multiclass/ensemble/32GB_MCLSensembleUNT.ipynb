{
  "nbformat": 4,
  "nbformat_minor": 0,
  "metadata": {
    "colab": {
      "provenance": [],
      "collapsed_sections": [],
      "machine_shape": "hm"
    },
    "kernelspec": {
      "name": "python3",
      "display_name": "Python 3"
    }
  },
  "cells": [
    {
      "cell_type": "code",
      "execution_count": null,
      "metadata": {
        "id": "PRA4adyjdWcn"
      },
      "outputs": [],
      "source": [
        "import tensorflow as tf\n",
        "%matplotlib inline\n",
        "import numpy as np\n",
        "from collections import defaultdict\n",
        "import collections\n",
        "import matplotlib.pyplot as plt\n",
        "import numpy as np\n",
        "import os\n",
        "import random\n",
        "import tensorflow as tf\n",
        "import seaborn as sns\n",
        "import cv2"
      ]
    },
    {
      "cell_type": "code",
      "execution_count": null,
      "metadata": {
        "id": "blwR7ARVeBNY"
      },
      "outputs": [],
      "source": [
        "import pandas as pd\n",
        "import numpy as np\n",
        "import math\n",
        "from collections import Counter\n",
        "from sklearn.model_selection import train_test_split\n",
        "from sklearn.model_selection import GridSearchCV"
      ]
    },
    {
      "cell_type": "code",
      "execution_count": null,
      "metadata": {
        "colab": {
          "base_uri": "https://localhost:8080/"
        },
        "id": "-miIBab7lnn8",
        "outputId": "9b8a339a-a138-4884-caa3-7aceb55f8d4f"
      },
      "outputs": [
        {
          "output_type": "stream",
          "name": "stdout",
          "text": [
            "Drive already mounted at /content/drive; to attempt to forcibly remount, call drive.mount(\"/content/drive\", force_remount=True).\n"
          ]
        }
      ],
      "source": [
        "from google.colab import drive\n",
        "drive.mount('/content/drive')"
      ]
    },
    {
      "cell_type": "markdown",
      "metadata": {
        "id": "3LdwlZ485K_f"
      },
      "source": [
        "## Feature engineering"
      ]
    },
    {
      "cell_type": "code",
      "execution_count": null,
      "metadata": {
        "colab": {
          "base_uri": "https://localhost:8080/",
          "height": 270
        },
        "id": "TEXSNkUHYSl7",
        "outputId": "16aa701f-a0ae-4498-cd48-bf6986281c12"
      },
      "outputs": [
        {
          "output_type": "execute_result",
          "data": {
            "text/plain": [
              "      domain_name dga_family      domain  length   entropy  first_Digit_Index  \\\n",
              "0  odqzesdvd.info     nymaim   odqzesdvd       9  2.641604                  0   \n",
              "1  mcrwnxdzu.info     nymaim   mcrwnxdzu       9  3.169925                  0   \n",
              "2  poxrscvfoy.biz     nymaim  poxrscvfoy      10  3.121928                  0   \n",
              "3     dupzwi.info     nymaim      dupzwi       6  2.584963                  0   \n",
              "4     pgldibr.com     nymaim     pgldibr       7  2.807355                  0   \n",
              "\n",
              "   H_entropy  vowel_consonant_ratio  vowel_character_ratio  \\\n",
              "0   3.324863               0.444444               0.285714   \n",
              "1   3.664498               0.300000               0.214286   \n",
              "2   3.664498               0.300000               0.214286   \n",
              "3   3.277613               0.666667               0.363636   \n",
              "4   3.459432               0.250000               0.181818   \n",
              "\n",
              "   consonant_character_ratio  level_no  alexa_grams  words_grams  \n",
              "0                   0.642857         2     8.618689    10.200253  \n",
              "1                   0.714286         2     5.331953     4.442651  \n",
              "2                   0.714286         2     9.758886    11.231941  \n",
              "3                   0.545455         2     3.861893     7.928046  \n",
              "4                   0.727273         2    12.146719    20.785039  "
            ],
            "text/html": [
              "\n",
              "  <div id=\"df-1ecd7fff-12d8-4d81-bc8b-04f4b65aa3a2\">\n",
              "    <div class=\"colab-df-container\">\n",
              "      <div>\n",
              "<style scoped>\n",
              "    .dataframe tbody tr th:only-of-type {\n",
              "        vertical-align: middle;\n",
              "    }\n",
              "\n",
              "    .dataframe tbody tr th {\n",
              "        vertical-align: top;\n",
              "    }\n",
              "\n",
              "    .dataframe thead th {\n",
              "        text-align: right;\n",
              "    }\n",
              "</style>\n",
              "<table border=\"1\" class=\"dataframe\">\n",
              "  <thead>\n",
              "    <tr style=\"text-align: right;\">\n",
              "      <th></th>\n",
              "      <th>domain_name</th>\n",
              "      <th>dga_family</th>\n",
              "      <th>domain</th>\n",
              "      <th>length</th>\n",
              "      <th>entropy</th>\n",
              "      <th>first_Digit_Index</th>\n",
              "      <th>H_entropy</th>\n",
              "      <th>vowel_consonant_ratio</th>\n",
              "      <th>vowel_character_ratio</th>\n",
              "      <th>consonant_character_ratio</th>\n",
              "      <th>level_no</th>\n",
              "      <th>alexa_grams</th>\n",
              "      <th>words_grams</th>\n",
              "    </tr>\n",
              "  </thead>\n",
              "  <tbody>\n",
              "    <tr>\n",
              "      <th>0</th>\n",
              "      <td>odqzesdvd.info</td>\n",
              "      <td>nymaim</td>\n",
              "      <td>odqzesdvd</td>\n",
              "      <td>9</td>\n",
              "      <td>2.641604</td>\n",
              "      <td>0</td>\n",
              "      <td>3.324863</td>\n",
              "      <td>0.444444</td>\n",
              "      <td>0.285714</td>\n",
              "      <td>0.642857</td>\n",
              "      <td>2</td>\n",
              "      <td>8.618689</td>\n",
              "      <td>10.200253</td>\n",
              "    </tr>\n",
              "    <tr>\n",
              "      <th>1</th>\n",
              "      <td>mcrwnxdzu.info</td>\n",
              "      <td>nymaim</td>\n",
              "      <td>mcrwnxdzu</td>\n",
              "      <td>9</td>\n",
              "      <td>3.169925</td>\n",
              "      <td>0</td>\n",
              "      <td>3.664498</td>\n",
              "      <td>0.300000</td>\n",
              "      <td>0.214286</td>\n",
              "      <td>0.714286</td>\n",
              "      <td>2</td>\n",
              "      <td>5.331953</td>\n",
              "      <td>4.442651</td>\n",
              "    </tr>\n",
              "    <tr>\n",
              "      <th>2</th>\n",
              "      <td>poxrscvfoy.biz</td>\n",
              "      <td>nymaim</td>\n",
              "      <td>poxrscvfoy</td>\n",
              "      <td>10</td>\n",
              "      <td>3.121928</td>\n",
              "      <td>0</td>\n",
              "      <td>3.664498</td>\n",
              "      <td>0.300000</td>\n",
              "      <td>0.214286</td>\n",
              "      <td>0.714286</td>\n",
              "      <td>2</td>\n",
              "      <td>9.758886</td>\n",
              "      <td>11.231941</td>\n",
              "    </tr>\n",
              "    <tr>\n",
              "      <th>3</th>\n",
              "      <td>dupzwi.info</td>\n",
              "      <td>nymaim</td>\n",
              "      <td>dupzwi</td>\n",
              "      <td>6</td>\n",
              "      <td>2.584963</td>\n",
              "      <td>0</td>\n",
              "      <td>3.277613</td>\n",
              "      <td>0.666667</td>\n",
              "      <td>0.363636</td>\n",
              "      <td>0.545455</td>\n",
              "      <td>2</td>\n",
              "      <td>3.861893</td>\n",
              "      <td>7.928046</td>\n",
              "    </tr>\n",
              "    <tr>\n",
              "      <th>4</th>\n",
              "      <td>pgldibr.com</td>\n",
              "      <td>nymaim</td>\n",
              "      <td>pgldibr</td>\n",
              "      <td>7</td>\n",
              "      <td>2.807355</td>\n",
              "      <td>0</td>\n",
              "      <td>3.459432</td>\n",
              "      <td>0.250000</td>\n",
              "      <td>0.181818</td>\n",
              "      <td>0.727273</td>\n",
              "      <td>2</td>\n",
              "      <td>12.146719</td>\n",
              "      <td>20.785039</td>\n",
              "    </tr>\n",
              "  </tbody>\n",
              "</table>\n",
              "</div>\n",
              "      <button class=\"colab-df-convert\" onclick=\"convertToInteractive('df-1ecd7fff-12d8-4d81-bc8b-04f4b65aa3a2')\"\n",
              "              title=\"Convert this dataframe to an interactive table.\"\n",
              "              style=\"display:none;\">\n",
              "        \n",
              "  <svg xmlns=\"http://www.w3.org/2000/svg\" height=\"24px\"viewBox=\"0 0 24 24\"\n",
              "       width=\"24px\">\n",
              "    <path d=\"M0 0h24v24H0V0z\" fill=\"none\"/>\n",
              "    <path d=\"M18.56 5.44l.94 2.06.94-2.06 2.06-.94-2.06-.94-.94-2.06-.94 2.06-2.06.94zm-11 1L8.5 8.5l.94-2.06 2.06-.94-2.06-.94L8.5 2.5l-.94 2.06-2.06.94zm10 10l.94 2.06.94-2.06 2.06-.94-2.06-.94-.94-2.06-.94 2.06-2.06.94z\"/><path d=\"M17.41 7.96l-1.37-1.37c-.4-.4-.92-.59-1.43-.59-.52 0-1.04.2-1.43.59L10.3 9.45l-7.72 7.72c-.78.78-.78 2.05 0 2.83L4 21.41c.39.39.9.59 1.41.59.51 0 1.02-.2 1.41-.59l7.78-7.78 2.81-2.81c.8-.78.8-2.07 0-2.86zM5.41 20L4 18.59l7.72-7.72 1.47 1.35L5.41 20z\"/>\n",
              "  </svg>\n",
              "      </button>\n",
              "      \n",
              "  <style>\n",
              "    .colab-df-container {\n",
              "      display:flex;\n",
              "      flex-wrap:wrap;\n",
              "      gap: 12px;\n",
              "    }\n",
              "\n",
              "    .colab-df-convert {\n",
              "      background-color: #E8F0FE;\n",
              "      border: none;\n",
              "      border-radius: 50%;\n",
              "      cursor: pointer;\n",
              "      display: none;\n",
              "      fill: #1967D2;\n",
              "      height: 32px;\n",
              "      padding: 0 0 0 0;\n",
              "      width: 32px;\n",
              "    }\n",
              "\n",
              "    .colab-df-convert:hover {\n",
              "      background-color: #E2EBFA;\n",
              "      box-shadow: 0px 1px 2px rgba(60, 64, 67, 0.3), 0px 1px 3px 1px rgba(60, 64, 67, 0.15);\n",
              "      fill: #174EA6;\n",
              "    }\n",
              "\n",
              "    [theme=dark] .colab-df-convert {\n",
              "      background-color: #3B4455;\n",
              "      fill: #D2E3FC;\n",
              "    }\n",
              "\n",
              "    [theme=dark] .colab-df-convert:hover {\n",
              "      background-color: #434B5C;\n",
              "      box-shadow: 0px 1px 3px 1px rgba(0, 0, 0, 0.15);\n",
              "      filter: drop-shadow(0px 1px 2px rgba(0, 0, 0, 0.3));\n",
              "      fill: #FFFFFF;\n",
              "    }\n",
              "  </style>\n",
              "\n",
              "      <script>\n",
              "        const buttonEl =\n",
              "          document.querySelector('#df-1ecd7fff-12d8-4d81-bc8b-04f4b65aa3a2 button.colab-df-convert');\n",
              "        buttonEl.style.display =\n",
              "          google.colab.kernel.accessAllowed ? 'block' : 'none';\n",
              "\n",
              "        async function convertToInteractive(key) {\n",
              "          const element = document.querySelector('#df-1ecd7fff-12d8-4d81-bc8b-04f4b65aa3a2');\n",
              "          const dataTable =\n",
              "            await google.colab.kernel.invokeFunction('convertToInteractive',\n",
              "                                                     [key], {});\n",
              "          if (!dataTable) return;\n",
              "\n",
              "          const docLinkHtml = 'Like what you see? Visit the ' +\n",
              "            '<a target=\"_blank\" href=https://colab.research.google.com/notebooks/data_table.ipynb>data table notebook</a>'\n",
              "            + ' to learn more about interactive tables.';\n",
              "          element.innerHTML = '';\n",
              "          dataTable['output_type'] = 'display_data';\n",
              "          await google.colab.output.renderOutput(dataTable, element);\n",
              "          const docLink = document.createElement('div');\n",
              "          docLink.innerHTML = docLinkHtml;\n",
              "          element.appendChild(docLink);\n",
              "        }\n",
              "      </script>\n",
              "    </div>\n",
              "  </div>\n",
              "  "
            ]
          },
          "metadata": {},
          "execution_count": 4
        }
      ],
      "source": [
        "Domain_data = pd.read_csv('/content/drive/My Drive/Colab Notebooks/MLDOMAIN_MCLS2.csv')\n",
        "Domain_data.drop([\"Unnamed: 0\"], axis=1, inplace=True)\n",
        "Domain_data.head()"
      ]
    },
    {
      "cell_type": "code",
      "execution_count": null,
      "metadata": {
        "id": "caPzkrCWsDXe"
      },
      "outputs": [],
      "source": [
        "from sklearn.preprocessing import LabelEncoder\n",
        "# Create label encoder object\n",
        "labels = LabelEncoder()\n",
        "\n",
        "# Convert continous y values to categorical\n",
        "Domain_data['family_label'] = labels.fit_transform(Domain_data['dga_family'])"
      ]
    },
    {
      "cell_type": "code",
      "execution_count": null,
      "metadata": {
        "colab": {
          "base_uri": "https://localhost:8080/",
          "height": 270
        },
        "id": "0K27UolAiMld",
        "outputId": "30e18a45-94ae-4c67-b8cc-310d5e105595"
      },
      "outputs": [
        {
          "output_type": "execute_result",
          "data": {
            "text/plain": [
              "      domain_name dga_family      domain  length   entropy  first_Digit_Index  \\\n",
              "0  odqzesdvd.info     nymaim   odqzesdvd       9  2.641604                  0   \n",
              "1  mcrwnxdzu.info     nymaim   mcrwnxdzu       9  3.169925                  0   \n",
              "2  poxrscvfoy.biz     nymaim  poxrscvfoy      10  3.121928                  0   \n",
              "3     dupzwi.info     nymaim      dupzwi       6  2.584963                  0   \n",
              "4     pgldibr.com     nymaim     pgldibr       7  2.807355                  0   \n",
              "\n",
              "   H_entropy  vowel_consonant_ratio  vowel_character_ratio  \\\n",
              "0   3.324863               0.444444               0.285714   \n",
              "1   3.664498               0.300000               0.214286   \n",
              "2   3.664498               0.300000               0.214286   \n",
              "3   3.277613               0.666667               0.363636   \n",
              "4   3.459432               0.250000               0.181818   \n",
              "\n",
              "   consonant_character_ratio  level_no  alexa_grams  words_grams  family_label  \n",
              "0                   0.642857         2     8.618689    10.200253            32  \n",
              "1                   0.714286         2     5.331953     4.442651            32  \n",
              "2                   0.714286         2     9.758886    11.231941            32  \n",
              "3                   0.545455         2     3.861893     7.928046            32  \n",
              "4                   0.727273         2    12.146719    20.785039            32  "
            ],
            "text/html": [
              "\n",
              "  <div id=\"df-924f410c-7265-4cb5-ade3-7afd4c54876b\">\n",
              "    <div class=\"colab-df-container\">\n",
              "      <div>\n",
              "<style scoped>\n",
              "    .dataframe tbody tr th:only-of-type {\n",
              "        vertical-align: middle;\n",
              "    }\n",
              "\n",
              "    .dataframe tbody tr th {\n",
              "        vertical-align: top;\n",
              "    }\n",
              "\n",
              "    .dataframe thead th {\n",
              "        text-align: right;\n",
              "    }\n",
              "</style>\n",
              "<table border=\"1\" class=\"dataframe\">\n",
              "  <thead>\n",
              "    <tr style=\"text-align: right;\">\n",
              "      <th></th>\n",
              "      <th>domain_name</th>\n",
              "      <th>dga_family</th>\n",
              "      <th>domain</th>\n",
              "      <th>length</th>\n",
              "      <th>entropy</th>\n",
              "      <th>first_Digit_Index</th>\n",
              "      <th>H_entropy</th>\n",
              "      <th>vowel_consonant_ratio</th>\n",
              "      <th>vowel_character_ratio</th>\n",
              "      <th>consonant_character_ratio</th>\n",
              "      <th>level_no</th>\n",
              "      <th>alexa_grams</th>\n",
              "      <th>words_grams</th>\n",
              "      <th>family_label</th>\n",
              "    </tr>\n",
              "  </thead>\n",
              "  <tbody>\n",
              "    <tr>\n",
              "      <th>0</th>\n",
              "      <td>odqzesdvd.info</td>\n",
              "      <td>nymaim</td>\n",
              "      <td>odqzesdvd</td>\n",
              "      <td>9</td>\n",
              "      <td>2.641604</td>\n",
              "      <td>0</td>\n",
              "      <td>3.324863</td>\n",
              "      <td>0.444444</td>\n",
              "      <td>0.285714</td>\n",
              "      <td>0.642857</td>\n",
              "      <td>2</td>\n",
              "      <td>8.618689</td>\n",
              "      <td>10.200253</td>\n",
              "      <td>32</td>\n",
              "    </tr>\n",
              "    <tr>\n",
              "      <th>1</th>\n",
              "      <td>mcrwnxdzu.info</td>\n",
              "      <td>nymaim</td>\n",
              "      <td>mcrwnxdzu</td>\n",
              "      <td>9</td>\n",
              "      <td>3.169925</td>\n",
              "      <td>0</td>\n",
              "      <td>3.664498</td>\n",
              "      <td>0.300000</td>\n",
              "      <td>0.214286</td>\n",
              "      <td>0.714286</td>\n",
              "      <td>2</td>\n",
              "      <td>5.331953</td>\n",
              "      <td>4.442651</td>\n",
              "      <td>32</td>\n",
              "    </tr>\n",
              "    <tr>\n",
              "      <th>2</th>\n",
              "      <td>poxrscvfoy.biz</td>\n",
              "      <td>nymaim</td>\n",
              "      <td>poxrscvfoy</td>\n",
              "      <td>10</td>\n",
              "      <td>3.121928</td>\n",
              "      <td>0</td>\n",
              "      <td>3.664498</td>\n",
              "      <td>0.300000</td>\n",
              "      <td>0.214286</td>\n",
              "      <td>0.714286</td>\n",
              "      <td>2</td>\n",
              "      <td>9.758886</td>\n",
              "      <td>11.231941</td>\n",
              "      <td>32</td>\n",
              "    </tr>\n",
              "    <tr>\n",
              "      <th>3</th>\n",
              "      <td>dupzwi.info</td>\n",
              "      <td>nymaim</td>\n",
              "      <td>dupzwi</td>\n",
              "      <td>6</td>\n",
              "      <td>2.584963</td>\n",
              "      <td>0</td>\n",
              "      <td>3.277613</td>\n",
              "      <td>0.666667</td>\n",
              "      <td>0.363636</td>\n",
              "      <td>0.545455</td>\n",
              "      <td>2</td>\n",
              "      <td>3.861893</td>\n",
              "      <td>7.928046</td>\n",
              "      <td>32</td>\n",
              "    </tr>\n",
              "    <tr>\n",
              "      <th>4</th>\n",
              "      <td>pgldibr.com</td>\n",
              "      <td>nymaim</td>\n",
              "      <td>pgldibr</td>\n",
              "      <td>7</td>\n",
              "      <td>2.807355</td>\n",
              "      <td>0</td>\n",
              "      <td>3.459432</td>\n",
              "      <td>0.250000</td>\n",
              "      <td>0.181818</td>\n",
              "      <td>0.727273</td>\n",
              "      <td>2</td>\n",
              "      <td>12.146719</td>\n",
              "      <td>20.785039</td>\n",
              "      <td>32</td>\n",
              "    </tr>\n",
              "  </tbody>\n",
              "</table>\n",
              "</div>\n",
              "      <button class=\"colab-df-convert\" onclick=\"convertToInteractive('df-924f410c-7265-4cb5-ade3-7afd4c54876b')\"\n",
              "              title=\"Convert this dataframe to an interactive table.\"\n",
              "              style=\"display:none;\">\n",
              "        \n",
              "  <svg xmlns=\"http://www.w3.org/2000/svg\" height=\"24px\"viewBox=\"0 0 24 24\"\n",
              "       width=\"24px\">\n",
              "    <path d=\"M0 0h24v24H0V0z\" fill=\"none\"/>\n",
              "    <path d=\"M18.56 5.44l.94 2.06.94-2.06 2.06-.94-2.06-.94-.94-2.06-.94 2.06-2.06.94zm-11 1L8.5 8.5l.94-2.06 2.06-.94-2.06-.94L8.5 2.5l-.94 2.06-2.06.94zm10 10l.94 2.06.94-2.06 2.06-.94-2.06-.94-.94-2.06-.94 2.06-2.06.94z\"/><path d=\"M17.41 7.96l-1.37-1.37c-.4-.4-.92-.59-1.43-.59-.52 0-1.04.2-1.43.59L10.3 9.45l-7.72 7.72c-.78.78-.78 2.05 0 2.83L4 21.41c.39.39.9.59 1.41.59.51 0 1.02-.2 1.41-.59l7.78-7.78 2.81-2.81c.8-.78.8-2.07 0-2.86zM5.41 20L4 18.59l7.72-7.72 1.47 1.35L5.41 20z\"/>\n",
              "  </svg>\n",
              "      </button>\n",
              "      \n",
              "  <style>\n",
              "    .colab-df-container {\n",
              "      display:flex;\n",
              "      flex-wrap:wrap;\n",
              "      gap: 12px;\n",
              "    }\n",
              "\n",
              "    .colab-df-convert {\n",
              "      background-color: #E8F0FE;\n",
              "      border: none;\n",
              "      border-radius: 50%;\n",
              "      cursor: pointer;\n",
              "      display: none;\n",
              "      fill: #1967D2;\n",
              "      height: 32px;\n",
              "      padding: 0 0 0 0;\n",
              "      width: 32px;\n",
              "    }\n",
              "\n",
              "    .colab-df-convert:hover {\n",
              "      background-color: #E2EBFA;\n",
              "      box-shadow: 0px 1px 2px rgba(60, 64, 67, 0.3), 0px 1px 3px 1px rgba(60, 64, 67, 0.15);\n",
              "      fill: #174EA6;\n",
              "    }\n",
              "\n",
              "    [theme=dark] .colab-df-convert {\n",
              "      background-color: #3B4455;\n",
              "      fill: #D2E3FC;\n",
              "    }\n",
              "\n",
              "    [theme=dark] .colab-df-convert:hover {\n",
              "      background-color: #434B5C;\n",
              "      box-shadow: 0px 1px 3px 1px rgba(0, 0, 0, 0.15);\n",
              "      filter: drop-shadow(0px 1px 2px rgba(0, 0, 0, 0.3));\n",
              "      fill: #FFFFFF;\n",
              "    }\n",
              "  </style>\n",
              "\n",
              "      <script>\n",
              "        const buttonEl =\n",
              "          document.querySelector('#df-924f410c-7265-4cb5-ade3-7afd4c54876b button.colab-df-convert');\n",
              "        buttonEl.style.display =\n",
              "          google.colab.kernel.accessAllowed ? 'block' : 'none';\n",
              "\n",
              "        async function convertToInteractive(key) {\n",
              "          const element = document.querySelector('#df-924f410c-7265-4cb5-ade3-7afd4c54876b');\n",
              "          const dataTable =\n",
              "            await google.colab.kernel.invokeFunction('convertToInteractive',\n",
              "                                                     [key], {});\n",
              "          if (!dataTable) return;\n",
              "\n",
              "          const docLinkHtml = 'Like what you see? Visit the ' +\n",
              "            '<a target=\"_blank\" href=https://colab.research.google.com/notebooks/data_table.ipynb>data table notebook</a>'\n",
              "            + ' to learn more about interactive tables.';\n",
              "          element.innerHTML = '';\n",
              "          dataTable['output_type'] = 'display_data';\n",
              "          await google.colab.output.renderOutput(dataTable, element);\n",
              "          const docLink = document.createElement('div');\n",
              "          docLink.innerHTML = docLinkHtml;\n",
              "          element.appendChild(docLink);\n",
              "        }\n",
              "      </script>\n",
              "    </div>\n",
              "  </div>\n",
              "  "
            ]
          },
          "metadata": {},
          "execution_count": 6
        }
      ],
      "source": [
        "Domain_data.head()"
      ]
    },
    {
      "cell_type": "code",
      "execution_count": null,
      "metadata": {
        "colab": {
          "base_uri": "https://localhost:8080/"
        },
        "id": "H-TKjdsf06Dx",
        "outputId": "f7a9c59b-0d40-49cb-cb96-610a766d6be1"
      },
      "outputs": [
        {
          "output_type": "execute_result",
          "data": {
            "text/plain": [
              "(2076638, 14)"
            ]
          },
          "metadata": {},
          "execution_count": 7
        }
      ],
      "source": [
        "Domain_data.shape"
      ]
    },
    {
      "cell_type": "code",
      "execution_count": null,
      "metadata": {
        "id": "SXaXuOUWsnpf"
      },
      "outputs": [],
      "source": [
        "X= Domain_data.drop([\"dga_family\", \"domain_name\", \"domain\",\"family_label\"], axis=1)\n",
        "y = Domain_data[\"family_label\"]"
      ]
    },
    {
      "cell_type": "code",
      "source": [
        "from matplotlib import pyplot\n",
        "from collections import Counter\n",
        "counter = Counter(y)\n",
        "for k,v in counter.items():\n",
        "\tper = v / len(y) * 100\n",
        "\tprint('Class=%d, n=%d (%.3f%%)' % (k, v, per))\n",
        "# plot the distribution\n",
        "pyplot.bar(counter.keys(), counter.values())\n",
        "pyplot.show()"
      ],
      "metadata": {
        "colab": {
          "base_uri": "https://localhost:8080/"
        },
        "id": "ePogM6szcHFb",
        "outputId": "616d5b7f-f5c1-46b2-dca8-e5fe8f127ca2"
      },
      "execution_count": null,
      "outputs": [
        {
          "output_type": "stream",
          "name": "stdout",
          "text": [
            "Class=32, n=333 (0.016%)\n",
            "Class=19, n=12000 (0.578%)\n",
            "Class=23, n=1158 (0.056%)\n",
            "Class=47, n=4256 (0.205%)\n",
            "Class=8, n=492 (0.024%)\n",
            "Class=38, n=199 (0.010%)\n",
            "Class=37, n=800 (0.039%)\n",
            "Class=2, n=104 (0.005%)\n",
            "Class=24, n=1 (0.000%)\n",
            "Class=39, n=2000 (0.096%)\n",
            "Class=30, n=8190 (0.394%)\n",
            "Class=10, n=1000 (0.048%)\n",
            "Class=35, n=100 (0.005%)\n",
            "Class=41, n=11160 (0.537%)\n",
            "Class=27, n=8560 (0.412%)\n",
            "Class=46, n=2298 (0.111%)\n",
            "Class=26, n=1 (0.000%)\n",
            "Class=54, n=100 (0.005%)\n",
            "Class=51, n=20 (0.001%)\n",
            "Class=7, n=1000 (0.048%)\n",
            "Class=55, n=9733 (0.469%)\n",
            "Class=13, n=500540 (24.103%)\n",
            "Class=25, n=908 (0.044%)\n",
            "Class=5, n=2 (0.000%)\n",
            "Class=34, n=168 (0.008%)\n",
            "Class=56, n=1 (0.000%)\n",
            "Class=6, n=1 (0.000%)\n",
            "Class=50, n=32 (0.002%)\n",
            "Class=12, n=1000 (0.048%)\n",
            "Class=28, n=10047 (0.484%)\n",
            "Class=4, n=1000 (0.048%)\n",
            "Class=1, n=16 (0.001%)\n",
            "Class=16, n=29999 (1.445%)\n",
            "Class=9, n=11 (0.001%)\n",
            "Class=0, n=27 (0.001%)\n",
            "Class=52, n=510 (0.025%)\n",
            "Class=17, n=298 (0.014%)\n",
            "Class=18, n=299 (0.014%)\n",
            "Class=3, n=469896 (22.628%)\n",
            "Class=49, n=93707 (4.512%)\n",
            "Class=40, n=19532 (0.941%)\n",
            "Class=45, n=28121 (1.354%)\n",
            "Class=11, n=736 (0.035%)\n",
            "Class=48, n=193 (0.009%)\n",
            "Class=53, n=842 (0.041%)\n",
            "Class=42, n=179995 (8.668%)\n",
            "Class=20, n=100 (0.005%)\n",
            "Class=36, n=44675 (2.151%)\n",
            "Class=43, n=2545 (0.123%)\n",
            "Class=33, n=40 (0.002%)\n",
            "Class=15, n=247 (0.012%)\n",
            "Class=44, n=6015 (0.290%)\n",
            "Class=14, n=492 (0.024%)\n",
            "Class=31, n=5274 (0.254%)\n",
            "Class=29, n=2708 (0.130%)\n",
            "Class=21, n=124 (0.006%)\n",
            "Class=22, n=613032 (29.520%)\n"
          ]
        },
        {
          "output_type": "display_data",
          "data": {
            "text/plain": [
              "<Figure size 432x288 with 1 Axes>"
            ],
            "image/png": "[encoded data removed]"
          },
          "metadata": {
            "needs_background": "light"
          }
        }
      ]
    },
    {
      "cell_type": "code",
      "source": [
        "from imblearn.over_sampling import RandomOverSampler\n",
        "#minmum_classes = [0,4,6,8,10,11,15,17,18,21,23,24,25,26,32,33,34,35,37,38,48,50,51,53,54]\n",
        "strategy = {21:10383,46:10385,30:10385, 14:10385, 6:10363, 24:10383, 15:10353, 33:10583, 20:10386, 53:10383, 48:10283, 11:10393, 18:10383, 17:10384, 52:10385,0:10383,9:10183,4:10483,12:10389,1:10388,50:10387,6:10386,56:10385,34:10384,5:10383,25:10283,7:10183,51:10383,54:10483, 26:10383,35:10373,10:10983, 39:10383, 24:10483, 2:10383,37:10683,38:10383,8:10380, 23:10387,32:10383}\n",
        "smote_on_1 = 1661 \n",
        "#for i in minmum_classes:\n",
        "ovrsmt = RandomOverSampler(sampling_strategy=strategy)"
      ],
      "metadata": {
        "id": "YFyjrv1UGUN4"
      },
      "execution_count": null,
      "outputs": []
    },
    {
      "cell_type": "code",
      "source": [
        "from imblearn.under_sampling import RandomUnderSampler\n",
        "udrsmt = RandomUnderSampler(sampling_strategy={22: 415327,13:373795,42:103832})"
      ],
      "metadata": {
        "id": "9_IcsQieGUN6"
      },
      "execution_count": null,
      "outputs": []
    },
    {
      "cell_type": "code",
      "source": [
        "from imblearn.pipeline import Pipeline\n",
        "steps = [('o', ovrsmt), ('u', udrsmt)]\n",
        "pipeline = Pipeline(steps=steps)"
      ],
      "metadata": {
        "id": "NyWrOJPiJ5uQ"
      },
      "execution_count": null,
      "outputs": []
    },
    {
      "cell_type": "code",
      "source": [
        "X, y = pipeline.fit_resample(X, y)"
      ],
      "metadata": {
        "id": "XykMUS8uJ8VP"
      },
      "execution_count": null,
      "outputs": []
    },
    {
      "cell_type": "code",
      "execution_count": null,
      "metadata": {
        "id": "Uw04szrQsHRr"
      },
      "outputs": [],
      "source": [
        "X_train, X_test, y_train, y_test = train_test_split(X, y, test_size=0.2, train_size=0.8)"
      ]
    },
    {
      "cell_type": "code",
      "source": [
        "from matplotlib import pyplot\n",
        "from collections import Counter\n",
        "counter = Counter(y_train)\n",
        "for k,v in counter.items():\n",
        "\tper = v / len(y_train) * 100\n",
        "\tprint('Class=%d, n=%d (%.3f%%)' % (k, v, per))\n",
        "# plot the distribution\n",
        "pyplot.bar(counter.keys(), counter.values())\n",
        "pyplot.show()"
      ],
      "metadata": {
        "colab": {
          "base_uri": "https://localhost:8080/"
        },
        "id": "w82MLhEpRIe2",
        "outputId": "1e28f1a1-031e-46a6-facb-f1c0a1f93a42"
      },
      "execution_count": null,
      "outputs": [
        {
          "output_type": "stream",
          "name": "stdout",
          "text": [
            "Class=42, n=82951 (5.067%)\n",
            "Class=28, n=8105 (0.495%)\n",
            "Class=13, n=299214 (18.276%)\n",
            "Class=3, n=375635 (22.943%)\n",
            "Class=55, n=7774 (0.475%)\n",
            "Class=20, n=8337 (0.509%)\n",
            "Class=22, n=332281 (20.295%)\n",
            "Class=37, n=8490 (0.519%)\n",
            "Class=38, n=8301 (0.507%)\n",
            "Class=49, n=74978 (4.580%)\n",
            "Class=10, n=8779 (0.536%)\n",
            "Class=7, n=8113 (0.496%)\n",
            "Class=25, n=8242 (0.503%)\n",
            "Class=0, n=8292 (0.506%)\n",
            "Class=35, n=8269 (0.505%)\n",
            "Class=41, n=8855 (0.541%)\n",
            "Class=33, n=8479 (0.518%)\n",
            "Class=16, n=24021 (1.467%)\n",
            "Class=47, n=3417 (0.209%)\n",
            "Class=36, n=35782 (2.186%)\n",
            "Class=11, n=8295 (0.507%)\n",
            "Class=5, n=8289 (0.506%)\n",
            "Class=17, n=8302 (0.507%)\n",
            "Class=31, n=4250 (0.260%)\n",
            "Class=50, n=8272 (0.505%)\n",
            "Class=34, n=8325 (0.508%)\n",
            "Class=21, n=8293 (0.507%)\n",
            "Class=40, n=15724 (0.960%)\n",
            "Class=4, n=8413 (0.514%)\n",
            "Class=46, n=8314 (0.508%)\n",
            "Class=48, n=8270 (0.505%)\n",
            "Class=1, n=8331 (0.509%)\n",
            "Class=45, n=22523 (1.376%)\n",
            "Class=39, n=8243 (0.503%)\n",
            "Class=51, n=8288 (0.506%)\n",
            "Class=26, n=8348 (0.510%)\n",
            "Class=44, n=4845 (0.296%)\n",
            "Class=56, n=8312 (0.508%)\n",
            "Class=15, n=8268 (0.505%)\n",
            "Class=19, n=9665 (0.590%)\n",
            "Class=54, n=8378 (0.512%)\n",
            "Class=12, n=8337 (0.509%)\n",
            "Class=27, n=6878 (0.420%)\n",
            "Class=52, n=8311 (0.508%)\n",
            "Class=14, n=8340 (0.509%)\n",
            "Class=8, n=8248 (0.504%)\n",
            "Class=43, n=2010 (0.123%)\n",
            "Class=30, n=8337 (0.509%)\n",
            "Class=32, n=8264 (0.505%)\n",
            "Class=9, n=8114 (0.496%)\n",
            "Class=6, n=8272 (0.505%)\n",
            "Class=29, n=2188 (0.134%)\n",
            "Class=23, n=8360 (0.511%)\n",
            "Class=2, n=8302 (0.507%)\n",
            "Class=53, n=8332 (0.509%)\n",
            "Class=24, n=8369 (0.511%)\n",
            "Class=18, n=8307 (0.507%)\n"
          ]
        },
        {
          "output_type": "display_data",
          "data": {
            "text/plain": [
              "<Figure size 432x288 with 1 Axes>"
            ],
            "image/png": "[encoded data removed]"
          },
          "metadata": {
            "needs_background": "light"
          }
        }
      ]
    },
    {
      "cell_type": "markdown",
      "metadata": {
        "id": "GYzKS9B019vf"
      },
      "source": [
        "## Random Forest Classifier"
      ]
    },
    {
      "cell_type": "code",
      "execution_count": null,
      "metadata": {
        "id": "y_dtRNszsMqW"
      },
      "outputs": [],
      "source": [
        "from sklearn.ensemble import RandomForestClassifier\n",
        "num_trees = 100\n",
        "rf_classifier = RandomForestClassifier(n_estimators=num_trees, oob_score=True)\n",
        "RFmodel=rf_classifier.fit(X_train, y_train)\n"
      ]
    },
    {
      "cell_type": "code",
      "execution_count": null,
      "metadata": {
        "colab": {
          "base_uri": "https://localhost:8080/"
        },
        "id": "UdTtkBKT1k4b",
        "outputId": "7c438e44-99f2-4268-c029-dcb9983d51b9"
      },
      "outputs": [
        {
          "output_type": "stream",
          "name": "stdout",
          "text": [
            "              precision    recall  f1-score   support\n",
            "\n",
            "           0       0.99      1.00      0.99       456\n",
            "           1       1.00      1.00      1.00       436\n",
            "           2       1.00      1.00      1.00       407\n",
            "           3       0.98      0.99      0.99     93904\n",
            "           4       0.99      0.74      0.85       420\n",
            "           5       1.00      1.00      1.00       416\n",
            "           6       1.00      1.00      1.00       393\n",
            "           7       0.97      0.99      0.98       407\n",
            "           8       0.83      0.96      0.89       381\n",
            "           9       1.00      1.00      1.00       420\n",
            "          10       0.85      0.77      0.81       427\n",
            "          11       0.87      0.90      0.89       427\n",
            "          12       0.99      1.00      1.00       418\n",
            "          13       1.00      1.00      1.00     95424\n",
            "          14       0.97      1.00      0.99       411\n",
            "          15       0.93      1.00      0.96       407\n",
            "          16       0.89      0.95      0.92      6065\n",
            "          17       0.87      1.00      0.93       410\n",
            "          18       0.88      1.00      0.94       433\n",
            "          19       1.00      0.99      0.99      2463\n",
            "          20       0.99      1.00      1.00       415\n",
            "          21       1.00      1.00      1.00       414\n",
            "          22       0.97      0.98      0.97    116249\n",
            "          23       0.80      0.68      0.74       405\n",
            "          24       1.00      1.00      1.00       410\n",
            "          25       0.97      0.84      0.90       414\n",
            "          26       1.00      1.00      1.00       481\n",
            "          27       0.66      0.65      0.65      1737\n",
            "          28       0.88      0.87      0.88      1995\n",
            "          29       0.59      0.51      0.55       560\n",
            "          30       0.72      0.39      0.51      1646\n",
            "          31       0.94      0.67      0.78      1117\n",
            "          32       0.90      0.97      0.94       404\n",
            "          33       1.00      1.00      1.00       407\n",
            "          34       0.98      1.00      0.99       433\n",
            "          35       0.99      1.00      1.00       419\n",
            "          36       0.82      0.80      0.81      8791\n",
            "          37       0.87      0.85      0.86       440\n",
            "          38       0.96      1.00      0.98       435\n",
            "          39       0.78      0.83      0.80       444\n",
            "          40       0.59      0.46      0.52      3894\n",
            "          41       0.81      0.86      0.84      2260\n",
            "          42       1.00      0.99      1.00     33149\n",
            "          43       0.74      0.53      0.62       556\n",
            "          44       0.90      0.82      0.86      1202\n",
            "          45       0.84      0.83      0.83      5596\n",
            "          46       0.42      0.03      0.06       440\n",
            "          47       0.99      0.97      0.98       845\n",
            "          48       0.93      1.00      0.97       415\n",
            "          49       0.96      0.99      0.97     18827\n",
            "          50       1.00      1.00      1.00       411\n",
            "          51       1.00      1.00      1.00       404\n",
            "          52       0.98      1.00      0.99       437\n",
            "          53       0.77      0.81      0.79       388\n",
            "          54       0.98      1.00      0.99       397\n",
            "          55       0.66      0.65      0.66      2008\n",
            "          56       1.00      1.00      1.00       413\n",
            "\n",
            "    accuracy                           0.97    413783\n",
            "   macro avg       0.90      0.88      0.89    413783\n",
            "weighted avg       0.96      0.97      0.96    413783\n",
            "\n"
          ]
        }
      ],
      "source": [
        "from sklearn.metrics import plot_confusion_matrix,accuracy_score,classification_report\n",
        "RFpred = RFmodel.predict(X_test)\n",
        "print(classification_report(y_test,RFpred))"
      ]
    },
    {
      "cell_type": "code",
      "source": [
        "print('accuracy on the train set: ', accuracy_score(RFmodel.predict(X_train), y_train))\n",
        "print('accuracy on the test set: ', accuracy_score(y_test, RFpred))"
      ],
      "metadata": {
        "colab": {
          "base_uri": "https://localhost:8080/"
        },
        "id": "E24849cvRVqK",
        "outputId": "2cebd63e-8d69-4df8-c656-1e496688d39f"
      },
      "execution_count": null,
      "outputs": [
        {
          "output_type": "stream",
          "name": "stdout",
          "text": [
            "accuracy on the train set:  0.9998507669190739\n",
            "accuracy on the test set:  0.9655519922278102\n"
          ]
        }
      ]
    },
    {
      "cell_type": "code",
      "source": [
        "import pickle\n",
        "# save the model to disk\n",
        "filename = '/content/drive/My Drive/Colab Notebooks/MCL_UNTSM_RFmodel.sav'\n",
        "pickle.dump(RFmodel, open(filename, 'wb'))"
      ],
      "metadata": {
        "id": "2iBEUSzEO7IA"
      },
      "execution_count": null,
      "outputs": []
    },
    {
      "cell_type": "markdown",
      "metadata": {
        "id": "to5TZQZeQhLJ"
      },
      "source": [
        "### AdaBoost Classification\n"
      ]
    },
    {
      "cell_type": "code",
      "execution_count": null,
      "metadata": {
        "id": "IjN_XFaZPZgn"
      },
      "outputs": [],
      "source": [
        "from sklearn.ensemble import AdaBoostClassifier\n",
        "ABmodel = AdaBoostClassifier(n_estimators=100)\n"
      ]
    },
    {
      "cell_type": "code",
      "execution_count": null,
      "metadata": {
        "id": "miDYLXCxcZ8z",
        "outputId": "155f8e70-57c0-4711-8967-e1f5c179c361",
        "colab": {
          "base_uri": "https://localhost:8080/"
        }
      },
      "outputs": [
        {
          "output_type": "execute_result",
          "data": {
            "text/plain": [
              "AdaBoostClassifier(n_estimators=100)"
            ]
          },
          "metadata": {},
          "execution_count": 22
        }
      ],
      "source": [
        "ABmodel.fit(X_train, y_train)"
      ]
    },
    {
      "cell_type": "code",
      "execution_count": null,
      "metadata": {
        "id": "F1147pxXcZ8z"
      },
      "outputs": [],
      "source": [
        "y_true, y_pred = y_test, ABmodel.predict(X_test)"
      ]
    },
    {
      "cell_type": "code",
      "execution_count": null,
      "metadata": {
        "id": "wgGsAV-bcZ8z",
        "outputId": "121a1ccd-53e3-42e3-f1ff-c891b0d41ee0",
        "colab": {
          "base_uri": "https://localhost:8080/"
        }
      },
      "outputs": [
        {
          "output_type": "stream",
          "name": "stderr",
          "text": [
            "/usr/local/lib/python3.7/dist-packages/sklearn/metrics/_classification.py:1318: UndefinedMetricWarning: Precision and F-score are ill-defined and being set to 0.0 in labels with no predicted samples. Use `zero_division` parameter to control this behavior.\n",
            "  _warn_prf(average, modifier, msg_start, len(result))\n",
            "/usr/local/lib/python3.7/dist-packages/sklearn/metrics/_classification.py:1318: UndefinedMetricWarning: Precision and F-score are ill-defined and being set to 0.0 in labels with no predicted samples. Use `zero_division` parameter to control this behavior.\n",
            "  _warn_prf(average, modifier, msg_start, len(result))\n"
          ]
        },
        {
          "output_type": "stream",
          "name": "stdout",
          "text": [
            "              precision    recall  f1-score   support\n",
            "\n",
            "           0       0.00      0.00      0.00       456\n",
            "           1       0.00      0.00      0.00       436\n",
            "           2       0.00      0.00      0.00       407\n",
            "           3       0.38      0.90      0.54     93904\n",
            "           4       0.00      0.00      0.00       420\n",
            "           5       0.00      0.00      0.00       416\n",
            "           6       0.00      0.00      0.00       393\n",
            "           7       0.00      0.00      0.00       407\n",
            "           8       0.00      0.00      0.00       381\n",
            "           9       0.00      0.00      0.00       420\n",
            "          10       0.00      0.00      0.00       427\n",
            "          11       0.00      0.00      0.00       427\n",
            "          12       0.00      0.00      0.00       418\n",
            "          13       0.00      0.00      0.00     95424\n",
            "          14       0.00      0.00      0.00       411\n",
            "          15       0.00      0.00      0.00       407\n",
            "          16       0.00      0.00      0.00      6065\n",
            "          17       0.00      0.00      0.00       410\n",
            "          18       0.00      0.00      0.00       433\n",
            "          19       0.00      0.00      0.00      2463\n",
            "          20       0.00      0.00      0.00       415\n",
            "          21       0.00      0.00      0.00       414\n",
            "          22       0.61      0.79      0.69    116249\n",
            "          23       0.00      0.00      0.00       405\n",
            "          24       0.00      0.00      0.00       410\n",
            "          25       0.00      0.00      0.00       414\n",
            "          26       0.00      0.00      0.00       481\n",
            "          27       0.00      0.00      0.00      1737\n",
            "          28       0.00      0.00      0.00      1995\n",
            "          29       0.00      0.08      0.00       560\n",
            "          30       0.00      0.00      0.00      1646\n",
            "          31       0.00      0.00      0.00      1117\n",
            "          32       0.00      0.00      0.00       404\n",
            "          33       0.00      0.00      0.00       407\n",
            "          34       0.00      0.00      0.00       433\n",
            "          35       0.00      0.00      0.00       419\n",
            "          36       0.00      0.00      0.00      8791\n",
            "          37       0.00      0.00      0.00       440\n",
            "          38       0.00      0.00      0.00       435\n",
            "          39       0.00      0.00      0.00       444\n",
            "          40       0.00      0.00      0.00      3894\n",
            "          41       0.00      0.00      0.00      2260\n",
            "          42       0.00      0.00      0.00     33149\n",
            "          43       0.00      0.00      0.00       556\n",
            "          44       0.00      0.00      0.00      1202\n",
            "          45       0.00      0.00      0.00      5596\n",
            "          46       0.00      0.00      0.00       440\n",
            "          47       0.00      0.00      0.00       845\n",
            "          48       0.00      0.00      0.00       415\n",
            "          49       0.00      0.00      0.00     18827\n",
            "          50       0.00      0.00      0.00       411\n",
            "          51       0.00      0.00      0.00       404\n",
            "          52       0.00      0.00      0.00       437\n",
            "          53       0.00      0.00      0.00       388\n",
            "          54       0.00      0.00      0.00       397\n",
            "          55       0.00      0.00      0.00      2008\n",
            "          56       0.00      0.00      0.00       413\n",
            "\n",
            "    accuracy                           0.43    413783\n",
            "   macro avg       0.02      0.03      0.02    413783\n",
            "weighted avg       0.26      0.43      0.32    413783\n",
            "\n"
          ]
        },
        {
          "output_type": "stream",
          "name": "stderr",
          "text": [
            "/usr/local/lib/python3.7/dist-packages/sklearn/metrics/_classification.py:1318: UndefinedMetricWarning: Precision and F-score are ill-defined and being set to 0.0 in labels with no predicted samples. Use `zero_division` parameter to control this behavior.\n",
            "  _warn_prf(average, modifier, msg_start, len(result))\n"
          ]
        }
      ],
      "source": [
        " from sklearn.metrics import plot_confusion_matrix,accuracy_score,classification_report\n",
        " print(classification_report(y_test,y_pred))"
      ]
    },
    {
      "cell_type": "code",
      "source": [
        "print('accuracy on the train set: ', accuracy_score(ABmodel.predict(X_train), y_train))\n",
        "print('accuracy on the test set: ', accuracy_score(y_test, y_pred))"
      ],
      "metadata": {
        "colab": {
          "base_uri": "https://localhost:8080/"
        },
        "id": "xqbI3Q6wV1Pq",
        "outputId": "7a842cfd-1434-4e31-d812-03c013155429"
      },
      "execution_count": null,
      "outputs": [
        {
          "output_type": "stream",
          "name": "stdout",
          "text": [
            "accuracy on the train set:  0.42794549548705874\n",
            "accuracy on the test set:  0.42821237218542085\n"
          ]
        }
      ]
    },
    {
      "cell_type": "code",
      "source": [
        "import pickle\n",
        "# save the model to disk\n",
        "filename = '/content/drive/My Drive/Colab Notebooks/MCL_UNTSM_ABmodel.sav'\n",
        "pickle.dump(ABmodel, open(filename, 'wb'))"
      ],
      "metadata": {
        "id": "i8WryBWJPPhg"
      },
      "execution_count": null,
      "outputs": []
    },
    {
      "cell_type": "markdown",
      "metadata": {
        "id": "Oer5tTif2Qjb"
      },
      "source": [
        "## XGBoost Classifier"
      ]
    },
    {
      "cell_type": "code",
      "execution_count": null,
      "metadata": {
        "id": "Vyr9n2fu2aqp"
      },
      "outputs": [],
      "source": [
        "from xgboost import XGBClassifier\n",
        "xgb_classifier = XGBClassifier(n_estimators=100)\n",
        "XGBmodel=xgb_classifier.fit(X_train, y_train)\n"
      ]
    },
    {
      "cell_type": "code",
      "execution_count": null,
      "metadata": {
        "colab": {
          "base_uri": "https://localhost:8080/"
        },
        "id": "1ySLFEkR2spD",
        "outputId": "4bb6a944-a390-471f-dbf0-38b0113bbf14"
      },
      "outputs": [
        {
          "output_type": "stream",
          "name": "stderr",
          "text": [
            "/usr/local/lib/python3.7/dist-packages/sklearn/metrics/_classification.py:1318: UndefinedMetricWarning: Precision and F-score are ill-defined and being set to 0.0 in labels with no predicted samples. Use `zero_division` parameter to control this behavior.\n",
            "  _warn_prf(average, modifier, msg_start, len(result))\n",
            "/usr/local/lib/python3.7/dist-packages/sklearn/metrics/_classification.py:1318: UndefinedMetricWarning: Precision and F-score are ill-defined and being set to 0.0 in labels with no predicted samples. Use `zero_division` parameter to control this behavior.\n",
            "  _warn_prf(average, modifier, msg_start, len(result))\n"
          ]
        },
        {
          "output_type": "stream",
          "name": "stdout",
          "text": [
            "              precision    recall  f1-score   support\n",
            "\n",
            "           0       0.78      1.00      0.88       456\n",
            "           1       0.98      1.00      0.99       436\n",
            "           2       0.99      0.94      0.97       407\n",
            "           3       0.94      0.97      0.95     93904\n",
            "           4       0.00      0.00      0.00       420\n",
            "           5       1.00      1.00      1.00       416\n",
            "           6       1.00      1.00      1.00       393\n",
            "           7       0.94      0.97      0.96       407\n",
            "           8       0.00      0.00      0.00       381\n",
            "           9       0.95      1.00      0.98       420\n",
            "          10       0.95      0.05      0.09       427\n",
            "          11       0.00      0.00      0.00       427\n",
            "          12       1.00      1.00      1.00       418\n",
            "          13       0.98      1.00      0.99     95424\n",
            "          14       0.95      0.93      0.94       411\n",
            "          15       0.67      0.37      0.48       407\n",
            "          16       0.83      0.97      0.89      6065\n",
            "          17       0.39      0.05      0.09       410\n",
            "          18       0.34      0.58      0.43       433\n",
            "          19       0.99      0.99      0.99      2463\n",
            "          20       0.98      0.95      0.96       415\n",
            "          21       0.70      0.11      0.19       414\n",
            "          22       0.92      0.96      0.94    116249\n",
            "          23       0.00      0.00      0.00       405\n",
            "          24       1.00      1.00      1.00       410\n",
            "          25       0.54      0.02      0.03       414\n",
            "          26       1.00      1.00      1.00       481\n",
            "          27       0.59      0.23      0.34      1737\n",
            "          28       0.76      0.88      0.82      1995\n",
            "          29       0.45      0.25      0.32       560\n",
            "          30       0.76      0.13      0.21      1646\n",
            "          31       0.91      0.48      0.63      1117\n",
            "          32       0.00      0.00      0.00       404\n",
            "          33       0.96      1.00      0.98       407\n",
            "          34       0.83      0.40      0.54       433\n",
            "          35       0.00      0.00      0.00       419\n",
            "          36       0.59      0.54      0.56      8791\n",
            "          37       0.00      0.00      0.00       440\n",
            "          38       1.00      0.01      0.01       435\n",
            "          39       0.77      0.86      0.81       444\n",
            "          40       0.37      0.21      0.27      3894\n",
            "          41       0.68      0.83      0.74      2260\n",
            "          42       0.99      1.00      0.99     33149\n",
            "          43       0.65      0.49      0.56       556\n",
            "          44       0.88      0.81      0.85      1202\n",
            "          45       0.81      0.62      0.71      5596\n",
            "          46       0.00      0.00      0.00       440\n",
            "          47       0.91      0.85      0.88       845\n",
            "          48       0.00      0.00      0.00       415\n",
            "          49       0.93      0.99      0.96     18827\n",
            "          50       0.98      1.00      0.99       411\n",
            "          51       0.98      1.00      0.99       404\n",
            "          52       0.95      0.97      0.96       437\n",
            "          53       0.00      0.00      0.00       388\n",
            "          54       0.96      0.28      0.44       397\n",
            "          55       0.56      0.79      0.65      2008\n",
            "          56       1.00      1.00      1.00       413\n",
            "\n",
            "    accuracy                           0.93    413783\n",
            "   macro avg       0.69      0.59      0.60    413783\n",
            "weighted avg       0.91      0.93      0.92    413783\n",
            "\n"
          ]
        },
        {
          "output_type": "stream",
          "name": "stderr",
          "text": [
            "/usr/local/lib/python3.7/dist-packages/sklearn/metrics/_classification.py:1318: UndefinedMetricWarning: Precision and F-score are ill-defined and being set to 0.0 in labels with no predicted samples. Use `zero_division` parameter to control this behavior.\n",
            "  _warn_prf(average, modifier, msg_start, len(result))\n"
          ]
        }
      ],
      "source": [
        "XGBpred = XGBmodel.predict(X_test)\n",
        "print(classification_report(y_test,XGBpred))"
      ]
    },
    {
      "cell_type": "code",
      "source": [
        "print('accuracy on the train set: ', accuracy_score(XGBmodel.predict(X_train), y_train))\n",
        "print('accuracy on the test set: ', accuracy_score(y_test, XGBpred))"
      ],
      "metadata": {
        "colab": {
          "base_uri": "https://localhost:8080/"
        },
        "id": "lDBkRJkG_uCe",
        "outputId": "2df3f346-26a6-4b5e-ba70-1ab6d96b957a"
      },
      "execution_count": null,
      "outputs": [
        {
          "output_type": "stream",
          "name": "stdout",
          "text": [
            "accuracy on the train set:  0.927141630652354\n",
            "accuracy on the test set:  0.9261521135474391\n"
          ]
        }
      ]
    },
    {
      "cell_type": "code",
      "source": [
        "import pickle\n",
        "# save the model to disk\n",
        "filename = '/content/drive/My Drive/Colab Notebooks/MCL_UNTSM_XGBmodel.sav'\n",
        "pickle.dump(XGBmodel, open(filename, 'wb'))"
      ],
      "metadata": {
        "id": "Qoy0A5hRPfrG"
      },
      "execution_count": null,
      "outputs": []
    },
    {
      "cell_type": "markdown",
      "metadata": {
        "id": "vUA1ys8r28i6"
      },
      "source": [
        "## Decision Tree Classifier"
      ]
    },
    {
      "cell_type": "code",
      "execution_count": null,
      "metadata": {
        "id": "kkXjQ0X726-R"
      },
      "outputs": [],
      "source": [
        "from sklearn.tree import DecisionTreeClassifier\n",
        "dt_classifier = DecisionTreeClassifier()\n",
        "DTmodel=dt_classifier.fit(X_train, y_train)"
      ]
    },
    {
      "cell_type": "code",
      "execution_count": null,
      "metadata": {
        "colab": {
          "base_uri": "https://localhost:8080/"
        },
        "id": "IgbhwE9E5G9p",
        "outputId": "40497b59-79ff-40ac-d4b0-d8ee0712380c"
      },
      "outputs": [
        {
          "output_type": "stream",
          "name": "stdout",
          "text": [
            "              precision    recall  f1-score   support\n",
            "\n",
            "           0       0.98      1.00      0.99       456\n",
            "           1       1.00      1.00      1.00       436\n",
            "           2       1.00      1.00      1.00       407\n",
            "           3       0.98      0.98      0.98     93904\n",
            "           4       0.58      0.75      0.65       420\n",
            "           5       1.00      1.00      1.00       416\n",
            "           6       1.00      1.00      1.00       393\n",
            "           7       0.96      0.99      0.98       407\n",
            "           8       0.74      0.96      0.84       381\n",
            "           9       1.00      1.00      1.00       420\n",
            "          10       0.61      0.77      0.68       427\n",
            "          11       0.66      0.90      0.76       427\n",
            "          12       1.00      1.00      1.00       418\n",
            "          13       1.00      1.00      1.00     95424\n",
            "          14       0.98      1.00      0.99       411\n",
            "          15       0.90      1.00      0.95       407\n",
            "          16       0.90      0.89      0.90      6065\n",
            "          17       0.85      1.00      0.92       410\n",
            "          18       0.87      1.00      0.93       433\n",
            "          19       0.99      0.99      0.99      2463\n",
            "          20       0.99      1.00      1.00       415\n",
            "          21       0.99      1.00      1.00       414\n",
            "          22       0.96      0.95      0.96    116249\n",
            "          23       0.54      0.68      0.60       405\n",
            "          24       1.00      1.00      1.00       410\n",
            "          25       0.57      0.83      0.68       414\n",
            "          26       1.00      1.00      1.00       481\n",
            "          27       0.62      0.66      0.64      1737\n",
            "          28       0.84      0.82      0.83      1995\n",
            "          29       0.55      0.48      0.51       560\n",
            "          30       0.39      0.37      0.38      1646\n",
            "          31       0.65      0.66      0.66      1117\n",
            "          32       0.82      0.98      0.90       404\n",
            "          33       1.00      1.00      1.00       407\n",
            "          34       0.95      1.00      0.98       433\n",
            "          35       0.94      1.00      0.97       419\n",
            "          36       0.75      0.74      0.74      8791\n",
            "          37       0.71      0.84      0.77       440\n",
            "          38       0.88      1.00      0.94       435\n",
            "          39       0.79      0.72      0.75       444\n",
            "          40       0.44      0.41      0.43      3894\n",
            "          41       0.79      0.75      0.77      2260\n",
            "          42       1.00      0.99      1.00     33149\n",
            "          43       0.52      0.50      0.51       556\n",
            "          44       0.82      0.83      0.82      1202\n",
            "          45       0.78      0.76      0.77      5596\n",
            "          46       0.12      0.15      0.13       440\n",
            "          47       0.92      0.92      0.92       845\n",
            "          48       0.89      1.00      0.94       415\n",
            "          49       0.96      0.95      0.96     18827\n",
            "          50       1.00      1.00      1.00       411\n",
            "          51       0.99      1.00      1.00       404\n",
            "          52       0.98      1.00      0.99       437\n",
            "          53       0.59      0.82      0.69       388\n",
            "          54       0.94      1.00      0.97       397\n",
            "          55       0.57      0.58      0.57      2008\n",
            "          56       1.00      1.00      1.00       413\n",
            "\n",
            "    accuracy                           0.95    413783\n",
            "   macro avg       0.83      0.87      0.85    413783\n",
            "weighted avg       0.95      0.95      0.95    413783\n",
            "\n"
          ]
        }
      ],
      "source": [
        "from sklearn.metrics import classification_report\n",
        "DTpred = DTmodel.predict(X_test)\n",
        "print(classification_report(y_test,DTpred))"
      ]
    },
    {
      "cell_type": "code",
      "source": [
        "print('accuracy on the train set: ', accuracy_score(DTmodel.predict(X_train), y_train))\n",
        "print('accuracy on the test set: ', accuracy_score(y_test, DTpred))"
      ],
      "metadata": {
        "colab": {
          "base_uri": "https://localhost:8080/"
        },
        "id": "TL-YG1IrEnGt",
        "outputId": "a78e33a3-1182-4737-c5ed-55b21c4b78fb"
      },
      "execution_count": null,
      "outputs": [
        {
          "output_type": "stream",
          "name": "stdout",
          "text": [
            "accuracy on the train set:  0.9998676840294624\n",
            "accuracy on the test set:  0.9497272725075704\n"
          ]
        }
      ]
    },
    {
      "cell_type": "code",
      "source": [
        "import pickle\n",
        "# save the model to disk\n",
        "filename = '/content/drive/My Drive/Colab Notebooks/MCL_UNTSM_DTmodel.sav'\n",
        "pickle.dump(DTmodel, open(filename, 'wb'))"
      ],
      "metadata": {
        "id": "FN4rqnk0PpG-"
      },
      "execution_count": null,
      "outputs": []
    },
    {
      "cell_type": "markdown",
      "metadata": {
        "id": "rB0BVptr6S2J"
      },
      "source": [
        "## Extra Trees Classifier"
      ]
    },
    {
      "cell_type": "code",
      "execution_count": null,
      "metadata": {
        "id": "inCzNs-k6ZAj"
      },
      "outputs": [],
      "source": [
        "from sklearn.ensemble import ExtraTreesClassifier\n",
        "et_classifier = ExtraTreesClassifier()\n",
        "ETmodel=et_classifier.fit(X_train, y_train)\n"
      ]
    },
    {
      "cell_type": "code",
      "execution_count": null,
      "metadata": {
        "colab": {
          "base_uri": "https://localhost:8080/"
        },
        "id": "vEFDUyeU6pQ0",
        "outputId": "091cf98d-0190-4b14-811c-64c8c2245236"
      },
      "outputs": [
        {
          "output_type": "stream",
          "name": "stderr",
          "text": [
            "/usr/local/lib/python3.7/dist-packages/sklearn/metrics/_classification.py:1318: UndefinedMetricWarning: Precision and F-score are ill-defined and being set to 0.0 in labels with no predicted samples. Use `zero_division` parameter to control this behavior.\n",
            "  _warn_prf(average, modifier, msg_start, len(result))\n"
          ]
        },
        {
          "output_type": "stream",
          "name": "stdout",
          "text": [
            "              precision    recall  f1-score   support\n",
            "\n",
            "           0       0.80      0.80      0.80         5\n",
            "           1       0.50      1.00      0.67         1\n",
            "           2       0.90      0.95      0.92        19\n",
            "           3       1.00      1.00      1.00      3090\n",
            "           4       0.00      0.00      0.00       218\n",
            "           7       0.99      0.97      0.98       192\n",
            "           8       0.15      0.09      0.11        96\n",
            "          10       0.25      0.12      0.16       196\n",
            "          11       1.00      1.00      1.00       222\n",
            "          12       1.00      1.00      1.00    100444\n",
            "          13       0.91      0.98      0.94      5907\n",
            "          14       0.17      0.02      0.03        58\n",
            "          15       0.53      0.46      0.49        57\n",
            "          16       1.00      0.99      1.00      2379\n",
            "          17       0.99      1.00      0.99    122358\n",
            "          18       0.12      0.03      0.04       236\n",
            "          20       0.00      0.00      0.00         9\n",
            "          22       0.80      0.69      0.74      1695\n",
            "          23       0.50      0.10      0.17        10\n",
            "          24       0.73      0.59      0.66      1672\n",
            "          25       0.12      0.05      0.07        63\n",
            "          26       0.00      0.00      0.00        32\n",
            "          27       0.00      0.00      0.00        23\n",
            "          28       0.28      0.13      0.18       165\n",
            "          29       0.00      0.00      0.00        39\n",
            "          30       0.95      0.96      0.96       408\n",
            "          31       0.85      0.93      0.89      2196\n",
            "          32       0.46      0.06      0.10       451\n",
            "          33       0.95      0.79      0.87       865\n",
            "          34       0.80      0.57      0.67         7\n",
            "          35       0.67      0.40      0.50         5\n",
            "          36       1.00      0.71      0.83         7\n",
            "          37       0.98      0.94      0.96       102\n",
            "          38       0.00      0.00      0.00        24\n",
            "          39       0.76      0.71      0.74      1933\n",
            "\n",
            "    accuracy                           0.98    245184\n",
            "   macro avg       0.58      0.52      0.53    245184\n",
            "weighted avg       0.98      0.98      0.98    245184\n",
            "\n"
          ]
        },
        {
          "output_type": "stream",
          "name": "stderr",
          "text": [
            "/usr/local/lib/python3.7/dist-packages/sklearn/metrics/_classification.py:1318: UndefinedMetricWarning: Precision and F-score are ill-defined and being set to 0.0 in labels with no predicted samples. Use `zero_division` parameter to control this behavior.\n",
            "  _warn_prf(average, modifier, msg_start, len(result))\n",
            "/usr/local/lib/python3.7/dist-packages/sklearn/metrics/_classification.py:1318: UndefinedMetricWarning: Precision and F-score are ill-defined and being set to 0.0 in labels with no predicted samples. Use `zero_division` parameter to control this behavior.\n",
            "  _warn_prf(average, modifier, msg_start, len(result))\n"
          ]
        }
      ],
      "source": [
        "from sklearn.metrics import classification_report\n",
        "ETpred = ETmodel.predict(X_test)\n",
        "print(classification_report(y_test,ETpred))"
      ]
    },
    {
      "cell_type": "code",
      "source": [
        "import pickle\n",
        "# save the model to disk\n",
        "filename = '/content/drive/My Drive/Colab Notebooks/MCL_UNTSM_DTmodel.sav'\n",
        "pickle.dump(ETmodel, open(filename, 'wb'))"
      ],
      "metadata": {
        "id": "uMMKMZPYPvae"
      },
      "execution_count": null,
      "outputs": []
    },
    {
      "cell_type": "markdown",
      "metadata": {
        "id": "YgMemp_YFZjx"
      },
      "source": [
        "## Bagged Decision Tree Classifier"
      ]
    },
    {
      "cell_type": "code",
      "source": [
        "from sklearn import model_selection\n",
        "from sklearn.ensemble import BaggingClassifier\n",
        "from sklearn.tree import DecisionTreeClassifier\n",
        "\n",
        "cart = DecisionTreeClassifier()\n",
        "num_trees = 100\n",
        "BDTmodel = BaggingClassifier(base_estimator=cart, n_estimators=num_trees).fit(X_train, y_train)"
      ],
      "metadata": {
        "id": "WQBYfUgIR_0Q"
      },
      "execution_count": null,
      "outputs": []
    },
    {
      "cell_type": "code",
      "source": [
        "from sklearn.metrics import classification_report\n",
        "BDTpred = BDTmodel.predict(X_test)\n",
        "print(classification_report(y_test,BDTpred))"
      ],
      "metadata": {
        "colab": {
          "base_uri": "https://localhost:8080/"
        },
        "id": "NQBOSkszV_Fu",
        "outputId": "38a025f0-8870-4433-c11f-2dd57dcd4949"
      },
      "execution_count": null,
      "outputs": [
        {
          "output_type": "stream",
          "name": "stdout",
          "text": [
            "              precision    recall  f1-score   support\n",
            "\n",
            "           0       0.99      1.00      0.99       442\n",
            "           1       1.00      1.00      1.00       421\n",
            "           2       1.00      1.00      1.00       441\n",
            "           3       0.98      0.99      0.99     94084\n",
            "           4       0.94      0.80      0.87       398\n",
            "           5       1.00      1.00      1.00       398\n",
            "           6       1.00      1.00      1.00       399\n",
            "           7       0.98      1.00      0.99       436\n",
            "           8       0.85      0.93      0.88       389\n",
            "           9       1.00      1.00      1.00       410\n",
            "          10       0.83      0.81      0.82       422\n",
            "          11       0.87      0.90      0.88       431\n",
            "          12       1.00      1.00      1.00       405\n",
            "          13       1.00      1.00      1.00     95583\n",
            "          14       0.98      1.00      0.99       410\n",
            "          15       0.92      1.00      0.96       381\n",
            "          16       0.90      0.95      0.92      5995\n",
            "          17       0.83      1.00      0.91       399\n",
            "          18       0.88      1.00      0.94       426\n",
            "          19       1.00      0.99      1.00      2413\n",
            "          20       1.00      1.00      1.00       408\n",
            "          21       0.98      1.00      0.99       420\n",
            "          22       0.97      0.98      0.97    116134\n",
            "          23       0.79      0.67      0.73       414\n",
            "          24       1.00      1.00      1.00       425\n",
            "          25       0.90      0.82      0.86       377\n",
            "          26       1.00      1.00      1.00       468\n",
            "          27       0.66      0.69      0.67      1672\n",
            "          28       0.87      0.89      0.88      1999\n",
            "          29       0.59      0.53      0.56       524\n",
            "          30       0.68      0.37      0.48      1608\n",
            "          31       0.89      0.66      0.76      1070\n",
            "          32       0.85      0.99      0.92       443\n",
            "          33       1.00      1.00      1.00       439\n",
            "          34       0.97      1.00      0.99       429\n",
            "          35       0.95      1.00      0.98       417\n",
            "          36       0.83      0.79      0.81      9072\n",
            "          37       0.83      0.84      0.84       399\n",
            "          38       0.95      0.99      0.97       405\n",
            "          39       0.72      0.81      0.76       388\n",
            "          40       0.59      0.44      0.50      3930\n",
            "          41       0.81      0.84      0.82      2236\n",
            "          42       1.00      0.99      1.00     33149\n",
            "          43       0.68      0.50      0.58       524\n",
            "          44       0.90      0.79      0.84      1133\n",
            "          45       0.83      0.83      0.83      5699\n",
            "          46       0.46      0.08      0.14       502\n",
            "          47       0.98      0.94      0.96       884\n",
            "          48       0.93      1.00      0.96       412\n",
            "          49       0.96      0.99      0.98     18760\n",
            "          50       1.00      1.00      1.00       440\n",
            "          51       1.00      1.00      1.00       420\n",
            "          52       0.98      1.00      0.99       426\n",
            "          53       0.82      0.84      0.83       385\n",
            "          54       0.98      1.00      0.99       383\n",
            "          55       0.64      0.67      0.65      1883\n",
            "          56       1.00      1.00      1.00       423\n",
            "\n",
            "    accuracy                           0.96    413783\n",
            "   macro avg       0.89      0.88      0.88    413783\n",
            "weighted avg       0.96      0.96      0.96    413783\n",
            "\n"
          ]
        }
      ]
    },
    {
      "cell_type": "code",
      "source": [
        "from sklearn.metrics import plot_confusion_matrix,accuracy_score,classification_report\n",
        "print('accuracy on the train set: ', accuracy_score(BDTmodel.predict(X_train), y_train))\n",
        "print('accuracy on the test set: ', accuracy_score(y_test, BDTpred))"
      ],
      "metadata": {
        "colab": {
          "base_uri": "https://localhost:8080/"
        },
        "id": "PpJXQXKLQpSk",
        "outputId": "39725ece-bc95-40a7-ca24-2c2e3a035e89"
      },
      "execution_count": null,
      "outputs": [
        {
          "output_type": "stream",
          "name": "stdout",
          "text": [
            "accuracy on the train set:  0.9998404958163382\n",
            "accuracy on the test set:  0.9645538845240138\n"
          ]
        }
      ]
    },
    {
      "cell_type": "code",
      "source": [
        "import pickle\n",
        "# save the model to disk\n",
        "filename = '/content/drive/My Drive/Colab Notebooks/MCL_UNTSM_BDTmodel.sav'\n",
        "pickle.dump(BDTmodel, open(filename, 'wb'))"
      ],
      "metadata": {
        "id": "o6jK9EE-QLqN"
      },
      "execution_count": null,
      "outputs": []
    },
    {
      "cell_type": "markdown",
      "metadata": {
        "id": "fDxEy-muPehx"
      },
      "source": [
        "## Voting ensemble "
      ]
    },
    {
      "cell_type": "code",
      "execution_count": null,
      "metadata": {
        "id": "5OrKGTr8Ofr0"
      },
      "outputs": [],
      "source": [
        "from sklearn.ensemble import VotingClassifier, StackingClassifier\n",
        "from sklearn.tree import DecisionTreeClassifier\n",
        "from sklearn.ensemble import RandomForestClassifier\n",
        "from xgboost import XGBClassifier\n",
        "# create the sub models\n",
        "estimators = []\n",
        "model1 = RandomForestClassifier()\n",
        "estimators.append(('rf', model1))\n",
        "model2 = DecisionTreeClassifier()\n",
        "estimators.append(('cart', model2))\n",
        "model3 = XGBClassifier()\n",
        "estimators.append(('et', model3))\n",
        "\n",
        "# create the ensemble model\n",
        "VTensemble = VotingClassifier(estimators,voting='soft').fit(X_train, y_train)"
      ]
    },
    {
      "cell_type": "code",
      "execution_count": null,
      "metadata": {
        "id": "_rZEjgP30fTC"
      },
      "outputs": [],
      "source": [
        "from sklearn.metrics import plot_confusion_matrix,accuracy_score,classification_report\n",
        "VTpred = VTensemble.predict(X_test)\n",
        "print(classification_report(y_test, VTpred))"
      ]
    },
    {
      "cell_type": "code",
      "execution_count": null,
      "metadata": {
        "colab": {
          "base_uri": "https://localhost:8080/"
        },
        "id": "SvnE9mHo0j7v",
        "outputId": "8144a6aa-b9d9-4b77-de4a-0ac39d6b0ead"
      },
      "outputs": [
        {
          "name": "stdout",
          "output_type": "stream",
          "text": [
            "precision on the test set:  0.9865676231166352\n",
            "accuracy on the test set:  0.9904357543722265\n"
          ]
        }
      ],
      "source": [
        "print('accuracy on the train set: ', accuracy_score(y_train, VTensemble.predict(X_train)))\n",
        "print('accuracy on the test set: ', accuracy_score(y_test, VTpred))"
      ]
    },
    {
      "cell_type": "code",
      "source": [
        "import pickle\n",
        "# save the model to disk\n",
        "filename = '/content/drive/My Drive/Colab Notebooks/MCL_UNTSM_VTensemble.sav'\n",
        "pickle.dump(VTensemble, open(filename, 'wb'))"
      ],
      "metadata": {
        "id": "GG1dxag2QoEs"
      },
      "execution_count": null,
      "outputs": []
    },
    {
      "cell_type": "markdown",
      "metadata": {
        "id": "gMd8Zs2nzvzZ"
      },
      "source": [
        "### Stacking ensemble"
      ]
    },
    {
      "cell_type": "code",
      "execution_count": null,
      "metadata": {
        "id": "6ENE2m7c0SJS"
      },
      "outputs": [],
      "source": [
        "# create the sub models\n",
        "estimators = []\n",
        "model1 = RandomForestClassifier()\n",
        "estimators.append(('rf', model1))\n",
        "model2 = DecisionTreeClassifier()\n",
        "estimators.append(('cart', model2))\n",
        "model3 = ExtraTreesClassifier()\n",
        "estimators.append(('et', model3))\n",
        "\n",
        "# define meta learner model\n",
        "level1 = LogisticRegression()\n",
        "\n",
        "# define the stacking ensemble\n",
        "STensemble = StackingClassifier(estimators=estimators,  final_estimator=level1).fit(X_train, y_train)"
      ]
    },
    {
      "cell_type": "code",
      "execution_count": null,
      "metadata": {
        "id": "H9H0qe_704TQ"
      },
      "outputs": [],
      "source": [
        "print('accuracy on the train set: ', accuracy_score(STensemble.predict(X_train), y_train))"
      ]
    },
    {
      "cell_type": "code",
      "execution_count": null,
      "metadata": {
        "id": "GUePHImG06ew"
      },
      "outputs": [],
      "source": [
        "STpred = STensemble.predict(X_test)\n",
        "print(classification_report(y_test, STpred))"
      ]
    },
    {
      "cell_type": "code",
      "execution_count": null,
      "metadata": {
        "id": "l2P_xVPl073H",
        "colab": {
          "base_uri": "https://localhost:8080/"
        },
        "outputId": "440c9f8b-1bb2-4787-ee72-58939c68cf55"
      },
      "outputs": [
        {
          "output_type": "stream",
          "name": "stdout",
          "text": [
            "precision on the test set:  0.9874852075802033\n",
            "accuracy on the test set:  0.9905336400417646\n"
          ]
        }
      ],
      "source": [
        "print('accuracy on the train set: ', accuracy_score(STensemble.predict(X_train), y_train))\n",
        "print('accuracy on the test set: ', accuracy_score(y_test, STpred))"
      ]
    },
    {
      "cell_type": "code",
      "source": [
        "import pickle\n",
        "# save the model to disk\n",
        "filename = '/content/drive/My Drive/Colab Notebooks/MCL_UNTSM_STensemble.sav'\n",
        "pickle.dump(STensemble, open(filename, 'wb'))"
      ],
      "metadata": {
        "id": "IQR8Zo9xRKaM"
      },
      "execution_count": null,
      "outputs": []
    }
  ]
}